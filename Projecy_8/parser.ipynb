{
 "cells": [
  {
   "cell_type": "code",
   "execution_count": 4,
   "metadata": {},
   "outputs": [
    {
     "ename": "RuntimeError",
     "evalue": "This event loop is already running",
     "output_type": "error",
     "traceback": [
      "\u001b[0;31m---------------------------------------------------------------------------\u001b[0m",
      "\u001b[0;31mRuntimeError\u001b[0m                              Traceback (most recent call last)",
      "\u001b[1;32m/Users/kirillkuznecov/Documents/Документы — MacBook Air — Кирилл/data_science/Projecy_8/parser.ipynb Cell 1\u001b[0m line \u001b[0;36m4\n\u001b[1;32m     <a href='vscode-notebook-cell:/Users/kirillkuznecov/Documents/%D0%94%D0%BE%D0%BA%D1%83%D0%BC%D0%B5%D0%BD%D1%82%D1%8B%20%E2%80%94%20MacBook%20Air%C2%A0%E2%80%94%20%D0%9A%D0%B8%D1%80%D0%B8%D0%BB%D0%BB/data_science/Projecy_8/parser.ipynb#W0sZmlsZQ%3D%3D?line=39'>40</a>\u001b[0m     \u001b[39m# Дальнейшая обработка данных\u001b[39;00m\n\u001b[1;32m     <a href='vscode-notebook-cell:/Users/kirillkuznecov/Documents/%D0%94%D0%BE%D0%BA%D1%83%D0%BC%D0%B5%D0%BD%D1%82%D1%8B%20%E2%80%94%20MacBook%20Air%C2%A0%E2%80%94%20%D0%9A%D0%B8%D1%80%D0%B8%D0%BB%D0%BB/data_science/Projecy_8/parser.ipynb#W0sZmlsZQ%3D%3D?line=41'>42</a>\u001b[0m loop \u001b[39m=\u001b[39m asyncio\u001b[39m.\u001b[39mget_event_loop()\n\u001b[0;32m---> <a href='vscode-notebook-cell:/Users/kirillkuznecov/Documents/%D0%94%D0%BE%D0%BA%D1%83%D0%BC%D0%B5%D0%BD%D1%82%D1%8B%20%E2%80%94%20MacBook%20Air%C2%A0%E2%80%94%20%D0%9A%D0%B8%D1%80%D0%B8%D0%BB%D0%BB/data_science/Projecy_8/parser.ipynb#W0sZmlsZQ%3D%3D?line=42'>43</a>\u001b[0m loop\u001b[39m.\u001b[39;49mrun_until_complete(main())\n",
      "File \u001b[0;32m/Library/Frameworks/Python.framework/Versions/3.11/lib/python3.11/asyncio/base_events.py:629\u001b[0m, in \u001b[0;36mBaseEventLoop.run_until_complete\u001b[0;34m(self, future)\u001b[0m\n\u001b[1;32m    618\u001b[0m \u001b[39m\u001b[39m\u001b[39m\"\"\"Run until the Future is done.\u001b[39;00m\n\u001b[1;32m    619\u001b[0m \n\u001b[1;32m    620\u001b[0m \u001b[39mIf the argument is a coroutine, it is wrapped in a Task.\u001b[39;00m\n\u001b[0;32m   (...)\u001b[0m\n\u001b[1;32m    626\u001b[0m \u001b[39mReturn the Future's result, or raise its exception.\u001b[39;00m\n\u001b[1;32m    627\u001b[0m \u001b[39m\"\"\"\u001b[39;00m\n\u001b[1;32m    628\u001b[0m \u001b[39mself\u001b[39m\u001b[39m.\u001b[39m_check_closed()\n\u001b[0;32m--> 629\u001b[0m \u001b[39mself\u001b[39;49m\u001b[39m.\u001b[39;49m_check_running()\n\u001b[1;32m    631\u001b[0m new_task \u001b[39m=\u001b[39m \u001b[39mnot\u001b[39;00m futures\u001b[39m.\u001b[39misfuture(future)\n\u001b[1;32m    632\u001b[0m future \u001b[39m=\u001b[39m tasks\u001b[39m.\u001b[39mensure_future(future, loop\u001b[39m=\u001b[39m\u001b[39mself\u001b[39m)\n",
      "File \u001b[0;32m/Library/Frameworks/Python.framework/Versions/3.11/lib/python3.11/asyncio/base_events.py:588\u001b[0m, in \u001b[0;36mBaseEventLoop._check_running\u001b[0;34m(self)\u001b[0m\n\u001b[1;32m    586\u001b[0m \u001b[39mdef\u001b[39;00m \u001b[39m_check_running\u001b[39m(\u001b[39mself\u001b[39m):\n\u001b[1;32m    587\u001b[0m     \u001b[39mif\u001b[39;00m \u001b[39mself\u001b[39m\u001b[39m.\u001b[39mis_running():\n\u001b[0;32m--> 588\u001b[0m         \u001b[39mraise\u001b[39;00m \u001b[39mRuntimeError\u001b[39;00m(\u001b[39m'\u001b[39m\u001b[39mThis event loop is already running\u001b[39m\u001b[39m'\u001b[39m)\n\u001b[1;32m    589\u001b[0m     \u001b[39mif\u001b[39;00m events\u001b[39m.\u001b[39m_get_running_loop() \u001b[39mis\u001b[39;00m \u001b[39mnot\u001b[39;00m \u001b[39mNone\u001b[39;00m:\n\u001b[1;32m    590\u001b[0m         \u001b[39mraise\u001b[39;00m \u001b[39mRuntimeError\u001b[39;00m(\n\u001b[1;32m    591\u001b[0m             \u001b[39m'\u001b[39m\u001b[39mCannot run the event loop while another loop is running\u001b[39m\u001b[39m'\u001b[39m)\n",
      "\u001b[0;31mRuntimeError\u001b[0m: This event loop is already running"
     ]
    }
   ],
   "source": [
    "import asyncio\n",
    "import aiohttp\n",
    "import pandas as pd\n",
    "\n",
    "# Парсер для получения данных с westmetall\n",
    "async def parser(metall_str: str):\n",
    "    url = f'https://www.westmetall.com/en/markdaten.php?action=table&field=LME_{metall_str}_cash'\n",
    "\n",
    "    async with aiohttp.ClientSession() as session:\n",
    "        async with session.get(url) as response:\n",
    "            data = await response.text()\n",
    "\n",
    "    df = pd.read_html(data)[0]\n",
    "    cleared_df = df[df['date'] != 'date']\n",
    "    cleared_df['date'] = pd.to_datetime(cleared_df['date'])\n",
    "    cleared_df['LME Aluminium Cash-Settlement'] = pd.to_numeric(cleared_df['LME Aluminium Cash-Settlement'])\n",
    "    cleared_df['LME Aluminium 3-month'] = pd.to_numeric(cleared_df['LME Aluminium 3-month'])\n",
    "    cleared_df['LME Aluminium stock'] = pd.to_numeric(cleared_df['LME Aluminium stock']) / 1000\n",
    "    \n",
    "    return cleared_df\n",
    "\n",
    "# Список источников, нам понадобится информация по 5 видам сырья:\n",
    "# алюминий, медь, свинец, никель и цинк\n",
    "metalls = ['Al', 'Cu', 'Pb', 'Ni', 'Zn']\n",
    "\n",
    "async def main():\n",
    "    tasks = []\n",
    "    async with aiohttp.ClientSession() as session:\n",
    "        for metall in metalls:\n",
    "            task = asyncio.ensure_future(parser(metall))\n",
    "            tasks.append(task)\n",
    "        results = await asyncio.gather(*tasks)\n",
    "\n",
    "    al_df = results[0]\n",
    "    cu_df = results[1]\n",
    "    pb_df = results[2]\n",
    "    ni_df = results[3]\n",
    "    zn_df = results[4]\n",
    "\n",
    "    # Дальнейшая обработка данных\n",
    "\n",
    "loop = asyncio.get_event_loop()\n",
    "loop.run_until_complete(main())\n"
   ]
  },
  {
   "cell_type": "code",
   "execution_count": null,
   "metadata": {},
   "outputs": [],
   "source": []
  }
 ],
 "metadata": {
  "kernelspec": {
   "display_name": "Python 3",
   "language": "python",
   "name": "python3"
  },
  "language_info": {
   "codemirror_mode": {
    "name": "ipython",
    "version": 3
   },
   "file_extension": ".py",
   "mimetype": "text/x-python",
   "name": "python",
   "nbconvert_exporter": "python",
   "pygments_lexer": "ipython3",
   "version": "3.11.4"
  },
  "orig_nbformat": 4
 },
 "nbformat": 4,
 "nbformat_minor": 2
}
