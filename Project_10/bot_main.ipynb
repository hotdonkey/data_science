{
 "cells": [
  {
   "cell_type": "code",
   "execution_count": 1,
   "metadata": {},
   "outputs": [],
   "source": [
    "import string\n",
    "import pickle\n",
    "import numpy as np\n",
    "import pandas as pd\n",
    "\n",
    "import matplotlib.pyplot as plt\n",
    "import seaborn as sns\n",
    "\n",
    "import codecs\n",
    "import joblib\n",
    "\n",
    "import pymorphy3\n",
    "from nltk.corpus import stopwords\n",
    "from nltk.tokenize import word_tokenize\n",
    "from gensim.models import Word2Vec\n",
    "from sklearn.feature_extraction.text import TfidfVectorizer, CountVectorizer, HashingVectorizer\n",
    "\n",
    "from sklearn.model_selection import train_test_split\n",
    "from sklearn.linear_model import LogisticRegression\n",
    "from sklearn.ensemble import RandomForestClassifier\n",
    "from sklearn.metrics import accuracy_score\n",
    "from sklearn.preprocessing import normalize\n",
    "\n",
    "from annoy import AnnoyIndex\n",
    "\n",
    "import warnings\n",
    "warnings.filterwarnings('ignore')\n"
   ]
  },
  {
   "cell_type": "markdown",
   "metadata": {},
   "source": [
    "---"
   ]
  },
  {
   "cell_type": "code",
   "execution_count": 2,
   "metadata": {},
   "outputs": [],
   "source": [
    "# Функция предобработки текста, включающая в себя нормализацию, лемматезацию и токенизацию.\n",
    "morpher = pymorphy3.MorphAnalyzer()\n",
    "\n",
    "stop_words = set(stopwords.words('russian'))\n",
    "sw = set(stop_words)\n",
    "\n",
    "def preprocess_txt(line):\n",
    "    if isinstance(line, str):\n",
    "        exclude = set(string.punctuation)\n",
    "        line = line.replace(',', ', ')\n",
    "        line = line.replace('.', '. ')\n",
    "        line = line.replace('не ', 'не')\n",
    "        spls = \"\".join(i for i in line if i not in exclude).strip().split()\n",
    "        spls = [morpher.parse(i.lower())[\n",
    "            0].normal_form for i in spls if i.lower() not in sw and i != \"\"]\n",
    "        \n",
    "        spls = ' '.join(spls)\n",
    "        \n",
    "        return spls\n",
    "    else:\n",
    "        return str(line)\n"
   ]
  },
  {
   "cell_type": "markdown",
   "metadata": {},
   "source": [
    "---"
   ]
  },
  {
   "cell_type": "code",
   "execution_count": 3,
   "metadata": {},
   "outputs": [
    {
     "data": {
      "text/html": [
       "<div>\n",
       "<style scoped>\n",
       "    .dataframe tbody tr th:only-of-type {\n",
       "        vertical-align: middle;\n",
       "    }\n",
       "\n",
       "    .dataframe tbody tr th {\n",
       "        vertical-align: top;\n",
       "    }\n",
       "\n",
       "    .dataframe thead th {\n",
       "        text-align: right;\n",
       "    }\n",
       "</style>\n",
       "<table border=\"1\" class=\"dataframe\">\n",
       "  <thead>\n",
       "    <tr style=\"text-align: right;\">\n",
       "      <th></th>\n",
       "      <th>answer</th>\n",
       "      <th>text</th>\n",
       "    </tr>\n",
       "  </thead>\n",
       "  <tbody>\n",
       "    <tr>\n",
       "      <th>0</th>\n",
       "      <td>58e3cfe6132ca50e053f5f82</td>\n",
       "      <td>Юбка детская ORBY Новая, не носили ни разу. В ...</td>\n",
       "    </tr>\n",
       "    <tr>\n",
       "      <th>1</th>\n",
       "      <td>5667531b2b7f8d127d838c34</td>\n",
       "      <td>Ботильоны Новые,привезены из Чехии ,указан раз...</td>\n",
       "    </tr>\n",
       "    <tr>\n",
       "      <th>2</th>\n",
       "      <td>59534826aaab284cba337e06</td>\n",
       "      <td>Брюки Размер 40-42. Брюки почти новые - не зна...</td>\n",
       "    </tr>\n",
       "    <tr>\n",
       "      <th>3</th>\n",
       "      <td>57de544096ad842e26de8027</td>\n",
       "      <td>Продам детские шапки Продам шапки,кажда 200р.Р...</td>\n",
       "    </tr>\n",
       "    <tr>\n",
       "      <th>4</th>\n",
       "      <td>5ad4d2626c86cb168d212022</td>\n",
       "      <td>Блузка Темно-синяя, 42 размер,состояние отличн...</td>\n",
       "    </tr>\n",
       "  </tbody>\n",
       "</table>\n",
       "</div>"
      ],
      "text/plain": [
       "                     answer                                               text\n",
       "0  58e3cfe6132ca50e053f5f82  Юбка детская ORBY Новая, не носили ни разу. В ...\n",
       "1  5667531b2b7f8d127d838c34  Ботильоны Новые,привезены из Чехии ,указан раз...\n",
       "2  59534826aaab284cba337e06  Брюки Размер 40-42. Брюки почти новые - не зна...\n",
       "3  57de544096ad842e26de8027  Продам детские шапки Продам шапки,кажда 200р.Р...\n",
       "4  5ad4d2626c86cb168d212022  Блузка Темно-синяя, 42 размер,состояние отличн..."
      ]
     },
     "execution_count": 3,
     "metadata": {},
     "output_type": "execute_result"
    }
   ],
   "source": [
    "# Инициализация продуктового датасета\n",
    "df = pd.read_csv(\"./data/ProductsDataset.csv\")\n",
    "df.rename(columns={'descrirption': 'description', 'product_id' : 'answer'}, inplace=True)\n",
    "data_market = df[['title', 'description', 'answer']]\n",
    "\n",
    "data_market['text'] = data_market['title'] + \" \" + data_market['description']\n",
    "data_market.drop(['title', 'description'], axis=1, inplace=True)\n",
    "\n",
    "data_market.dropna(inplace=True)\n",
    "\n",
    "data_market.head()"
   ]
  },
  {
   "cell_type": "code",
   "execution_count": 4,
   "metadata": {},
   "outputs": [
    {
     "data": {
      "text/html": [
       "<div>\n",
       "<style scoped>\n",
       "    .dataframe tbody tr th:only-of-type {\n",
       "        vertical-align: middle;\n",
       "    }\n",
       "\n",
       "    .dataframe tbody tr th {\n",
       "        vertical-align: top;\n",
       "    }\n",
       "\n",
       "    .dataframe thead th {\n",
       "        text-align: right;\n",
       "    }\n",
       "</style>\n",
       "<table border=\"1\" class=\"dataframe\">\n",
       "  <thead>\n",
       "    <tr style=\"text-align: right;\">\n",
       "      <th></th>\n",
       "      <th>answer</th>\n",
       "      <th>text</th>\n",
       "      <th>class</th>\n",
       "    </tr>\n",
       "  </thead>\n",
       "  <tbody>\n",
       "    <tr>\n",
       "      <th>0</th>\n",
       "      <td>58e3cfe6132ca50e053f5f82</td>\n",
       "      <td>юбка детский orby новый неносить раз реал крас...</td>\n",
       "      <td>1</td>\n",
       "    </tr>\n",
       "    <tr>\n",
       "      <th>1</th>\n",
       "      <td>5667531b2b7f8d127d838c34</td>\n",
       "      <td>ботильон новый привезти чехия указать размер 4...</td>\n",
       "      <td>1</td>\n",
       "    </tr>\n",
       "    <tr>\n",
       "      <th>2</th>\n",
       "      <td>59534826aaab284cba337e06</td>\n",
       "      <td>брюки размер 4042 брюки новый незнать мерило п...</td>\n",
       "      <td>1</td>\n",
       "    </tr>\n",
       "    <tr>\n",
       "      <th>3</th>\n",
       "      <td>57de544096ad842e26de8027</td>\n",
       "      <td>продать детский шапка продать шапка кажда 200р...</td>\n",
       "      <td>1</td>\n",
       "    </tr>\n",
       "    <tr>\n",
       "      <th>4</th>\n",
       "      <td>5ad4d2626c86cb168d212022</td>\n",
       "      <td>блузка темносиний 42 размер состояние отличный...</td>\n",
       "      <td>1</td>\n",
       "    </tr>\n",
       "  </tbody>\n",
       "</table>\n",
       "</div>"
      ],
      "text/plain": [
       "                     answer  \\\n",
       "0  58e3cfe6132ca50e053f5f82   \n",
       "1  5667531b2b7f8d127d838c34   \n",
       "2  59534826aaab284cba337e06   \n",
       "3  57de544096ad842e26de8027   \n",
       "4  5ad4d2626c86cb168d212022   \n",
       "\n",
       "                                                text  class  \n",
       "0  юбка детский orby новый неносить раз реал крас...      1  \n",
       "1  ботильон новый привезти чехия указать размер 4...      1  \n",
       "2  брюки размер 4042 брюки новый незнать мерило п...      1  \n",
       "3  продать детский шапка продать шапка кажда 200р...      1  \n",
       "4  блузка темносиний 42 размер состояние отличный...      1  "
      ]
     },
     "execution_count": 4,
     "metadata": {},
     "output_type": "execute_result"
    }
   ],
   "source": [
    "# Предобработка продуктового датасета и присваивание номера класса для последующего\n",
    "# обучения классификатора\n",
    "\n",
    "data_market['text'] = data_market['text'].apply(preprocess_txt)\n",
    "data_market['class'] = 1\n",
    "data_market.head()"
   ]
  },
  {
   "cell_type": "markdown",
   "metadata": {},
   "source": [
    "---"
   ]
  },
  {
   "cell_type": "code",
   "execution_count": 5,
   "metadata": {},
   "outputs": [],
   "source": [
    "# Инициализация датасета для фолбека\n",
    "data_talker = pd.read_csv(\n",
    "    './data/prepared_answers.txt', sep='\\t',\n",
    "    header=None, names=['text', 'answer'], \n",
    "    on_bad_lines=\"skip\"\n",
    ")"
   ]
  },
  {
   "cell_type": "code",
   "execution_count": 6,
   "metadata": {},
   "outputs": [
    {
     "data": {
      "text/html": [
       "<div>\n",
       "<style scoped>\n",
       "    .dataframe tbody tr th:only-of-type {\n",
       "        vertical-align: middle;\n",
       "    }\n",
       "\n",
       "    .dataframe tbody tr th {\n",
       "        vertical-align: top;\n",
       "    }\n",
       "\n",
       "    .dataframe thead th {\n",
       "        text-align: right;\n",
       "    }\n",
       "</style>\n",
       "<table border=\"1\" class=\"dataframe\">\n",
       "  <thead>\n",
       "    <tr style=\"text-align: right;\">\n",
       "      <th></th>\n",
       "      <th>text</th>\n",
       "      <th>answer</th>\n",
       "      <th>class</th>\n",
       "    </tr>\n",
       "  </thead>\n",
       "  <tbody>\n",
       "    <tr>\n",
       "      <th>1</th>\n",
       "      <td>парень относиться цветной линза девушка зелёны...</td>\n",
       "      <td>меня вобще прикалывает эта тема :).</td>\n",
       "      <td>0</td>\n",
       "    </tr>\n",
       "    <tr>\n",
       "      <th>2</th>\n",
       "      <td>делать сегодня найти 2 миллион рубль</td>\n",
       "      <td>Если это \"счастье \" действительно на вас свали...</td>\n",
       "      <td>0</td>\n",
       "    </tr>\n",
       "    <tr>\n",
       "      <th>3</th>\n",
       "      <td>эбу двенашка называться итэлма эбу</td>\n",
       "      <td>ЭБУ — электронный блок управления двигателем а...</td>\n",
       "      <td>0</td>\n",
       "    </tr>\n",
       "    <tr>\n",
       "      <th>4</th>\n",
       "      <td>академия вампир сколько даный момент часть кни...</td>\n",
       "      <td>4. Охотники и Жертвы, Ледяной укус, Поцелуй ть...</td>\n",
       "      <td>0</td>\n",
       "    </tr>\n",
       "    <tr>\n",
       "      <th>5</th>\n",
       "      <td>защититься энергетический вампир</td>\n",
       "      <td>Защита мыслью. &lt;br&gt;Каждый человек должен в отн...</td>\n",
       "      <td>0</td>\n",
       "    </tr>\n",
       "  </tbody>\n",
       "</table>\n",
       "</div>"
      ],
      "text/plain": [
       "                                                text  \\\n",
       "1  парень относиться цветной линза девушка зелёны...   \n",
       "2               делать сегодня найти 2 миллион рубль   \n",
       "3                 эбу двенашка называться итэлма эбу   \n",
       "4  академия вампир сколько даный момент часть кни...   \n",
       "5                   защититься энергетический вампир   \n",
       "\n",
       "                                              answer  class  \n",
       "1               меня вобще прикалывает эта тема :).       0  \n",
       "2  Если это \"счастье \" действительно на вас свали...      0  \n",
       "3  ЭБУ — электронный блок управления двигателем а...      0  \n",
       "4  4. Охотники и Жертвы, Ледяной укус, Поцелуй ть...      0  \n",
       "5  Защита мыслью. <br>Каждый человек должен в отн...      0  "
      ]
     },
     "execution_count": 6,
     "metadata": {},
     "output_type": "execute_result"
    }
   ],
   "source": [
    "# Предобработка фолбек-датасета\n",
    "\n",
    "data_talker.dropna(inplace=True)\n",
    "data_talker['class'] = 0\n",
    "\n",
    "data_talker = data_talker.iloc[:len(data_market)]\n",
    "\n",
    "data_talker['text'] = data_talker['text'].apply(preprocess_txt)\n",
    "\n",
    "data_talker.head()"
   ]
  },
  {
   "cell_type": "markdown",
   "metadata": {},
   "source": [
    "---"
   ]
  },
  {
   "cell_type": "markdown",
   "metadata": {},
   "source": [
    "## Этап моделирования классификатора продуктовый-фоллбэк запрос"
   ]
  },
  {
   "cell_type": "markdown",
   "metadata": {},
   "source": [
    "### Склеим market_data и fallback_data"
   ]
  },
  {
   "cell_type": "code",
   "execution_count": 7,
   "metadata": {},
   "outputs": [
    {
     "data": {
      "image/png": "[encoded data removed]",
      "text/plain": [
       "<Figure size 640x480 with 1 Axes>"
      ]
     },
     "metadata": {},
     "output_type": "display_data"
    }
   ],
   "source": [
    "df = pd.concat([data_market, data_talker], axis=0)\n",
    "\n",
    "# Проверим баланс классов\n",
    "plt.hist(df['class'])\n",
    "plt.show()"
   ]
  },
  {
   "cell_type": "code",
   "execution_count": 8,
   "metadata": {},
   "outputs": [],
   "source": [
    "# Векторизируем и разобъем на трейн-тест (юыло принято решение ограничить размер вектора\n",
    "# ибо в последующем файл индекса без ограничения занимал неприлично много места, \n",
    "# хоть точность и стала ниже)\n",
    "X = df['text']\n",
    "y = np.array(df['class'])\n",
    "\n",
    "tfidf_vec = TfidfVectorizer(max_features=30000).fit(X)\n",
    "X_tfidf = tfidf_vec.transform(X)\n",
    "\n",
    "X_train, X_test, y_train, y_test = train_test_split(\n",
    "    X_tfidf, y, train_size=0.8, random_state=42)\n"
   ]
  },
  {
   "cell_type": "markdown",
   "metadata": {},
   "source": [
    "### Прогоним логистическую регрессию и случайный лес по-умолчанию и протестируем на бред"
   ]
  },
  {
   "cell_type": "code",
   "execution_count": 9,
   "metadata": {},
   "outputs": [
    {
     "name": "stdout",
     "output_type": "stream",
     "text": [
      "Accuracy: 0.9827791859251528\n"
     ]
    }
   ],
   "source": [
    "# Фитуем логрег\n",
    "logreg = LogisticRegression(random_state=42, n_jobs=-1)\n",
    "logreg.fit(X_train, y_train)\n",
    "\n",
    "# Оцениваем\n",
    "print(\"Accuracy:\", logreg.score(X_test, y_test))"
   ]
  },
  {
   "cell_type": "code",
   "execution_count": 10,
   "metadata": {},
   "outputs": [
    {
     "name": "stdout",
     "output_type": "stream",
     "text": [
      "Accuracy: 0.981437304308931\n"
     ]
    }
   ],
   "source": [
    "# Фитуем лес\n",
    "random_forest = RandomForestClassifier(n_jobs=-1, random_state=42)\n",
    "random_forest.fit(X_train, y_train)\n",
    "\n",
    "# Оцениваем\n",
    "print(\"Accuracy:\", random_forest.score(X_test, y_test))"
   ]
  },
  {
   "cell_type": "markdown",
   "metadata": {},
   "source": [
    "### Проведем тест на рандомном инпуте."
   ]
  },
  {
   "cell_type": "code",
   "execution_count": 11,
   "metadata": {},
   "outputs": [],
   "source": [
    "input_test_1 = 'крокодилий шарф и сумка из кошачих хвостов на корабле со слонами'\n",
    "input_test_2 = 'зеленые перчатки и шапка'\n",
    "input_test_3 = 'юбка для собаки'\n",
    "input_test_4 = 'коронарные выбросы плазмы в штанах'"
   ]
  },
  {
   "cell_type": "code",
   "execution_count": 12,
   "metadata": {},
   "outputs": [
    {
     "name": "stdout",
     "output_type": "stream",
     "text": [
      "Logreg prediction of the class: [1]\n",
      "Random forest prediction of the class: [1]\n"
     ]
    }
   ],
   "source": [
    "new_data = tfidf_vec.transform(pd.Series(preprocess_txt(input_test_1)))\n",
    "input_label_log = logreg.predict(new_data)\n",
    "input_label_rf = random_forest.predict(new_data)\n",
    "\n",
    "print(\"Logreg prediction of the class:\",input_label_log)\n",
    "print(\"Random forest prediction of the class:\",input_label_rf)"
   ]
  },
  {
   "cell_type": "code",
   "execution_count": 13,
   "metadata": {},
   "outputs": [
    {
     "name": "stdout",
     "output_type": "stream",
     "text": [
      "Logreg prediction of the class: [1]\n",
      "Random forest prediction of the class: [1]\n"
     ]
    }
   ],
   "source": [
    "new_data = tfidf_vec.transform(pd.Series(preprocess_txt(input_test_2)))\n",
    "input_label_log = logreg.predict(new_data)\n",
    "input_label_rf = random_forest.predict(new_data)\n",
    "\n",
    "print(\"Logreg prediction of the class:\",input_label_log)\n",
    "print(\"Random forest prediction of the class:\",input_label_rf)"
   ]
  },
  {
   "cell_type": "code",
   "execution_count": 14,
   "metadata": {},
   "outputs": [
    {
     "name": "stdout",
     "output_type": "stream",
     "text": [
      "Logreg prediction of the class: [1]\n",
      "Random forest prediction of the class: [1]\n"
     ]
    }
   ],
   "source": [
    "new_data = tfidf_vec.transform(pd.Series(preprocess_txt(input_test_3)))\n",
    "input_label_log = logreg.predict(new_data)\n",
    "input_label_rf = random_forest.predict(new_data)\n",
    "\n",
    "print(\"Logreg prediction of the class:\",input_label_log)\n",
    "print(\"Random forest prediction of the class:\",input_label_rf)"
   ]
  },
  {
   "cell_type": "code",
   "execution_count": 15,
   "metadata": {},
   "outputs": [
    {
     "name": "stdout",
     "output_type": "stream",
     "text": [
      "Logreg prediction of the class: [0]\n",
      "Random forest prediction of the class: [1]\n"
     ]
    }
   ],
   "source": [
    "new_data = tfidf_vec.transform(pd.Series(preprocess_txt(input_test_4)))\n",
    "input_label_log = logreg.predict(new_data)\n",
    "input_label_rf = random_forest.predict(new_data)\n",
    "\n",
    "print(\"Logreg prediction of the class:\",input_label_log)\n",
    "print(\"Random forest prediction of the class:\",input_label_rf)"
   ]
  },
  {
   "cell_type": "markdown",
   "metadata": {},
   "source": [
    "### Вывод: При почти равном accuracy-score тест на бредовость текста показывает превосходство логистической регрессии."
   ]
  },
  {
   "cell_type": "markdown",
   "metadata": {},
   "source": [
    "---"
   ]
  },
  {
   "cell_type": "markdown",
   "metadata": {},
   "source": [
    "### Сохраним модель, трансформер и создадим функцию для предобработки инпута"
   ]
  },
  {
   "cell_type": "code",
   "execution_count": 52,
   "metadata": {},
   "outputs": [],
   "source": [
    "# Сохраним логрег\n",
    "with open('./data/classification_model.pkl', 'wb') as output:\n",
    "    pickle.dump(logreg, output)\n",
    "    \n",
    "# Сохраним объект векторизатор для дальнейшего использования\n",
    "with open('./data/tfidf_transformer.pkl', 'wb') as output:\n",
    "    pickle.dump(tfidf_vec, output)"
   ]
  },
  {
   "cell_type": "code",
   "execution_count": 16,
   "metadata": {},
   "outputs": [],
   "source": [
    "def text_classification(line):\n",
    "    \n",
    "    with open('./data/tfidf_transformer.pkl', 'rb') as f:\n",
    "        tfidf_vec = pickle.load(f)\n",
    "        \n",
    "    with open('./data/classification_model.pkl', 'rb') as f:\n",
    "        logreg = pickle.load(f)\n",
    "    \n",
    "    def preprocess_txt(line):\n",
    "        morpher = pymorphy3.MorphAnalyzer()\n",
    "        stop_words = set(stopwords.words('russian'))\n",
    "        sw = set(stop_words)\n",
    "        \n",
    "        if isinstance(line, str):\n",
    "            exclude = set(string.punctuation)\n",
    "            line = line.replace(',', ', ')\n",
    "            line = line.replace('.', '. ')\n",
    "            line = line.replace('не ', 'не')\n",
    "            spls = \"\".join(i for i in line if i not in exclude).strip().split()\n",
    "            spls = [morpher.parse(i.lower())[\n",
    "                0].normal_form for i in spls if i.lower() not in sw and i != \"\"]\n",
    "            \n",
    "            spls = ' '.join(spls)\n",
    "            \n",
    "            return spls\n",
    "        else:\n",
    "            return str(line)\n",
    "        \n",
    "    text = preprocess_txt(line)\n",
    "    text_vector = tfidf_vec.transform(pd.Series(text))\n",
    "    \n",
    "    label = logreg.predict(text_vector)\n",
    "    \n",
    "    return label[0], text_vector"
   ]
  },
  {
   "cell_type": "code",
   "execution_count": 17,
   "metadata": {},
   "outputs": [
    {
     "name": "stdout",
     "output_type": "stream",
     "text": [
      "(1, <1x30000 sparse matrix of type '<class 'numpy.float64'>'\n",
      "\twith 5 stored elements in Compressed Sparse Row format>)\n",
      "(1, <1x30000 sparse matrix of type '<class 'numpy.float64'>'\n",
      "\twith 3 stored elements in Compressed Sparse Row format>)\n",
      "(1, <1x30000 sparse matrix of type '<class 'numpy.float64'>'\n",
      "\twith 2 stored elements in Compressed Sparse Row format>)\n",
      "(0, <1x30000 sparse matrix of type '<class 'numpy.float64'>'\n",
      "\twith 2 stored elements in Compressed Sparse Row format>)\n"
     ]
    }
   ],
   "source": [
    "print(text_classification(input_test_1))\n",
    "print(text_classification(input_test_2))\n",
    "print(text_classification(input_test_3))\n",
    "print(text_classification(input_test_4))"
   ]
  },
  {
   "cell_type": "markdown",
   "metadata": {},
   "source": [
    "---"
   ]
  },
  {
   "cell_type": "code",
   "execution_count": 18,
   "metadata": {},
   "outputs": [],
   "source": [
    "# Векторизируем тексты в датафреймах целевого запроса и фоллбэка, предварительно\n",
    "# дропнув фит метки класса, т.к. он нам больше не понадобится.\n",
    "market = data_market['text']\n",
    "market_vector = tfidf_vec.transform(market)\n",
    "\n",
    "fallback = data_talker['text']\n",
    "fallback_vector = tfidf_vec.transform(fallback)"
   ]
  },
  {
   "cell_type": "markdown",
   "metadata": {},
   "source": [
    "### Следующие блоки закоментированы для избежания перезаписи "
   ]
  },
  {
   "cell_type": "code",
   "execution_count": 56,
   "metadata": {},
   "outputs": [
    {
     "data": {
      "text/plain": [
       "True"
      ]
     },
     "execution_count": 56,
     "metadata": {},
     "output_type": "execute_result"
    }
   ],
   "source": [
    "'''# Конструируем индекс для продуктового запроса\n",
    "index = AnnoyIndex(market_vector.shape[1], 'angular')  # косинусное расстояние\n",
    "\n",
    "# Добавляем индекс\n",
    "for i, v in enumerate(market_vector):\n",
    "    index.add_item(i, v.toarray()[0])\n",
    "\n",
    "# Конструируем\n",
    "num_trees = 10\n",
    "index.build(num_trees, n_jobs=-1)\n",
    "\n",
    "# Сохраняем\n",
    "index.save('./data/market_index.ann')'''"
   ]
  },
  {
   "cell_type": "code",
   "execution_count": 57,
   "metadata": {},
   "outputs": [
    {
     "data": {
      "text/plain": [
       "True"
      ]
     },
     "execution_count": 57,
     "metadata": {},
     "output_type": "execute_result"
    }
   ],
   "source": [
    "'''# Конструируем индекс для фоллбека запроса\n",
    "index = AnnoyIndex(fallback_vector.shape[1], 'angular')  # косинусное расстояние\n",
    "\n",
    "# Добавляем индекс\n",
    "for i, v in enumerate(fallback_vector):\n",
    "    index.add_item(i, v.toarray()[0])\n",
    "\n",
    "# Конструируем\n",
    "num_trees = 10\n",
    "index.build(num_trees)\n",
    "\n",
    "# Сохраняем\n",
    "index.save('./data/fallback_index.ann')'''"
   ]
  },
  {
   "cell_type": "markdown",
   "metadata": {},
   "source": [
    "----"
   ]
  },
  {
   "cell_type": "code",
   "execution_count": 19,
   "metadata": {},
   "outputs": [
    {
     "data": {
      "text/plain": [
       "True"
      ]
     },
     "execution_count": 19,
     "metadata": {},
     "output_type": "execute_result"
    }
   ],
   "source": [
    "# Загружаем файлы индекса\n",
    "index_market = AnnoyIndex(30000, 'angular') \n",
    "index_market.load('./data/market_index.ann')\n",
    "\n",
    "index_fallback = AnnoyIndex(30000, 'angular') \n",
    "index_fallback.load('./data/fallback_index.ann')\n"
   ]
  },
  {
   "cell_type": "code",
   "execution_count": 20,
   "metadata": {},
   "outputs": [
    {
     "name": "stdout",
     "output_type": "stream",
     "text": [
      "Class of object: 1\n"
     ]
    }
   ],
   "source": [
    "# Проверим новые данные\n",
    "new_data = 'Юбка детская ORBY'\n",
    "\n",
    "label, text = text_classification(new_data)\n",
    "print(\"Class of object:\", label)"
   ]
  },
  {
   "cell_type": "code",
   "execution_count": 21,
   "metadata": {},
   "outputs": [
    {
     "name": "stdout",
     "output_type": "stream",
     "text": [
      "58e3cfe6132ca50e053f5f82\n"
     ]
    }
   ],
   "source": [
    "# Найдем ближайшего соседа на примере продуктового запроса\n",
    "num_neighbors = 1\n",
    "nearest_index = index_market.get_nns_by_vector(text.toarray()[0], num_neighbors)\n",
    "\n",
    "# Находим ответ на основе индекса\n",
    "nearest_answer = df.iloc[nearest_index[0]]['answer']\n",
    "print(nearest_answer)"
   ]
  },
  {
   "cell_type": "markdown",
   "metadata": {},
   "source": [
    "---"
   ]
  },
  {
   "cell_type": "markdown",
   "metadata": {},
   "source": [
    "### Реинициализируем датасеты и сохраним их в новом виде"
   ]
  },
  {
   "cell_type": "code",
   "execution_count": 22,
   "metadata": {},
   "outputs": [],
   "source": [
    "df_market = pd.read_csv(\"./data/ProductsDataset.csv\")\n",
    "df_market.rename(columns={'descrirption': 'description', 'product_id' : 'answer'}, inplace=True)\n",
    "df_market = df_market[['title', 'description', 'answer']]\n",
    "df_market.to_csv('./data/market_answer.csv', index=0)"
   ]
  },
  {
   "cell_type": "code",
   "execution_count": 23,
   "metadata": {},
   "outputs": [],
   "source": [
    "# Инициализация датасета для фолбека\n",
    "df_fallback = pd.read_csv(\n",
    "    './data/prepared_answers.txt', sep='\\t',\n",
    "    header=None, names=['text', 'answer'], \n",
    "    on_bad_lines=\"skip\"\n",
    ")\n",
    "df_fallback.dropna(inplace=True)\n",
    "df_fallback = df_fallback.iloc[:len(df_market)]\n",
    "df_fallback.to_csv('./data/fallback_answer.csv', index=0)"
   ]
  },
  {
   "cell_type": "code",
   "execution_count": 24,
   "metadata": {},
   "outputs": [
    {
     "name": "stdout",
     "output_type": "stream",
     "text": [
      "58e3cfe6132ca50e053f5f82\n"
     ]
    }
   ],
   "source": [
    "# Найдем ближайшего соседа с использованием логики\n",
    "if label == 1:\n",
    "    num_neighbors = 1\n",
    "    nearest_index = index_market.get_nns_by_vector(text.toarray()[0], num_neighbors)\n",
    "\n",
    "    # Находим ответ на основе индекса\n",
    "    nearest_answer = df_market.iloc[nearest_index[0]]['answer']\n",
    "    print(nearest_answer)\n",
    "else:\n",
    "    num_neighbors = 1\n",
    "    nearest_index = index_fallback.get_nns_by_vector(text.toarray()[0], num_neighbors)\n",
    "\n",
    "    # Находим ответ на основе индекса\n",
    "    nearest_answer = df_fallback.iloc[nearest_index[0]]['answer']\n",
    "    print(nearest_answer)"
   ]
  },
  {
   "cell_type": "markdown",
   "metadata": {},
   "source": [
    "---"
   ]
  },
  {
   "cell_type": "markdown",
   "metadata": {},
   "source": [
    "### Финальный этап - функция get_answer() и автотесты"
   ]
  },
  {
   "cell_type": "code",
   "execution_count": 25,
   "metadata": {},
   "outputs": [],
   "source": [
    "# Напишем функцию для выдачи ответа на основе логики классификации (1-продуктовый запрос, 0-болталка)\n",
    "def get_answer(text):\n",
    "    # Инициализируем датасеты\n",
    "    market_answer = pd.read_csv('./data/market_answer.csv')\n",
    "    fallback_answer = pd.read_csv('./data/fallback_answer.csv')\n",
    "\n",
    "    # Загружаем файлы индекса\n",
    "    index_market = AnnoyIndex(30000, 'angular') \n",
    "    index_market.load('./data/market_index.ann')\n",
    "\n",
    "    index_fallback = AnnoyIndex(30000, 'angular') \n",
    "    index_fallback.load('./data/fallback_index.ann')\n",
    "\n",
    "    # Функция классификатора с подгрузкой моделей и предобработкой\n",
    "    def text_classification(line):\n",
    "    \n",
    "        with open('./data/tfidf_transformer.pkl', 'rb') as f:\n",
    "            tfidf_vec = pickle.load(f)\n",
    "            \n",
    "        with open('./data/classification_model.pkl', 'rb') as f:\n",
    "            logreg = pickle.load(f)\n",
    "        \n",
    "        def preprocess_txt(line):\n",
    "            morpher = pymorphy3.MorphAnalyzer()\n",
    "            stop_words = set(stopwords.words('russian'))\n",
    "            sw = set(stop_words)\n",
    "            \n",
    "            if isinstance(line, str):\n",
    "                exclude = set(string.punctuation)\n",
    "                line = line.replace(',', ', ')\n",
    "                line = line.replace('.', '. ')\n",
    "                line = line.replace('не ', 'не')\n",
    "                spls = \"\".join(i for i in line if i not in exclude).strip().split()\n",
    "                spls = [morpher.parse(i.lower())[\n",
    "                    0].normal_form for i in spls if i.lower() not in sw and i != \"\"]\n",
    "                \n",
    "                spls = ' '.join(spls)\n",
    "                \n",
    "                return spls\n",
    "            else:\n",
    "                return str(line)\n",
    "            \n",
    "        line = preprocess_txt(text)\n",
    "        text_vector = tfidf_vec.transform(pd.Series(line))\n",
    "        \n",
    "        label = logreg.predict(text_vector)\n",
    "        # Вернем метку и векторизированный текст\n",
    "        return label[0], text_vector\n",
    "    \n",
    "    label, text_vector = text_classification(text)\n",
    "    \n",
    "    # Если метка равна 1, т.е. продуктовый запрос, начинаем искать по индксу продукта\n",
    "    if label == 1:\n",
    "        num_neighbors = 1\n",
    "        nearest_index = index_market.get_nns_by_vector(text_vector.toarray()[0], num_neighbors)\n",
    "\n",
    "        # Находим ответ на основе индекса\n",
    "        nearest_answer = market_answer.iloc[nearest_index[0]]['answer']\n",
    "        return nearest_answer\n",
    "    \n",
    "    # Иначе ищем по болталке\n",
    "    else:\n",
    "        num_neighbors = 1\n",
    "        nearest_index = index_fallback.get_nns_by_vector(text_vector.toarray()[0], num_neighbors)\n",
    "\n",
    "        # Находим ответ на основе индекса\n",
    "        nearest_answer = fallback_answer.iloc[nearest_index[0]]['answer']\n",
    "        return nearest_answer\n",
    "\n",
    "    "
   ]
  },
  {
   "cell_type": "code",
   "execution_count": 26,
   "metadata": {},
   "outputs": [],
   "source": [
    "assert get_answer('Юбка детская ORBY').startswith('58e3cfe6132ca50e053f5f82')\n",
    "assert not get_answer('Где ключи от танка').startswith('5')"
   ]
  },
  {
   "cell_type": "markdown",
   "metadata": {},
   "source": [
    "> Вывод: Автотесты пройдены"
   ]
  },
  {
   "cell_type": "code",
   "execution_count": null,
   "metadata": {},
   "outputs": [],
   "source": []
  }
 ],
 "metadata": {
  "kernelspec": {
   "display_name": "Python 3",
   "language": "python",
   "name": "python3"
  },
  "language_info": {
   "codemirror_mode": {
    "name": "ipython",
    "version": 3
   },
   "file_extension": ".py",
   "mimetype": "text/x-python",
   "name": "python",
   "nbconvert_exporter": "python",
   "pygments_lexer": "ipython3",
   "version": "3.11.7"
  }
 },
 "nbformat": 4,
 "nbformat_minor": 2
}
