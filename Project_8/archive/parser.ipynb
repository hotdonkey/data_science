{
 "cells": [
  {
   "cell_type": "code",
   "execution_count": null,
   "metadata": {},
   "outputs": [],
   "source": [
    "import pandas as pd\n",
    "import requests"
   ]
  },
  {
   "cell_type": "code",
   "execution_count": null,
   "metadata": {},
   "outputs": [],
   "source": [
    "url = 'https://api.nasdaq.com/api/quote/HG%3ACMX/historical?assetclass=commodities&fromdate=2023-08-13&limit=18&todate=2023-09-13'"
   ]
  },
  {
   "cell_type": "code",
   "execution_count": null,
   "metadata": {},
   "outputs": [],
   "source": [
    "responce = requests.get(url)"
   ]
  },
  {
   "cell_type": "code",
   "execution_count": null,
   "metadata": {},
   "outputs": [],
   "source": [
    "from selenium import webdriver\n",
    "import json\n",
    "\n",
    "# Инициализация драйвера Selenium\n",
    "driver = webdriver.Chrome()\n",
    "\n",
    "# Открытие веб-страницы\n",
    "driver.get('https://example.com')\n",
    "\n",
    "# Выполнение JavaScript-кода для получения сетевых запросов\n",
    "network_entries = driver.execute_script('return window.performance.getEntries();')\n",
    "\n",
    "# Поиск нужного запроса, содержащего JSON-данные\n",
    "json_request = None\n",
    "for entry in network_entries:\n",
    "    if entry['name'] == 'https://example.com/api/data':\n",
    "        json_request = entry\n",
    "        break\n",
    "\n",
    "# Извлечение JSON-данных из запроса\n",
    "if json_request:\n",
    "    json_data = json.loads(json_request['response'])\n",
    "    print(json_data)\n",
    "\n",
    "# Закрытие драйвера Selenium\n",
    "driver.quit()"
   ]
  },
  {
   "cell_type": "code",
   "execution_count": null,
   "metadata": {},
   "outputs": [],
   "source": []
  }
 ],
 "metadata": {
  "kernelspec": {
   "display_name": "Python 3",
   "language": "python",
   "name": "python3"
  },
  "language_info": {
   "codemirror_mode": {
    "name": "ipython",
    "version": 3
   },
   "file_extension": ".py",
   "mimetype": "text/x-python",
   "name": "python",
   "nbconvert_exporter": "python",
   "pygments_lexer": "ipython3",
   "version": "3.11.4"
  },
  "orig_nbformat": 4
 },
 "nbformat": 4,
 "nbformat_minor": 2
}
