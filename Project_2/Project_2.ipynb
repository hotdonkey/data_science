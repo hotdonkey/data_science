{
  "cells": [
    {
      "cell_type": "markdown",
      "id": "42289889-bd57-434e-9637-d3e354756316",
      "metadata": {
        "id": "42289889-bd57-434e-9637-d3e354756316"
      },
      "source": [
        "<center> <img src = https://raw.githubusercontent.com/AndreyRysistov/DatasetsForPandas/main/hh%20label.jpg alt=\"drawing\" style=\"width:400px;\">"
      ]
    },
    {
      "cell_type": "markdown",
      "id": "829cb75b-f14e-4ba8-9195-7ba929a7d656",
      "metadata": {
        "id": "829cb75b-f14e-4ba8-9195-7ba929a7d656",
        "tags": []
      },
      "source": [
        "# <center> Проект: Анализ вакансий из HeadHunter\n",
        "   "
      ]
    },
    {
      "cell_type": "code",
      "execution_count": 74,
      "id": "dccfde33-2452-43fb-a8a5-5c6ebc02a71d",
      "metadata": {
        "id": "dccfde33-2452-43fb-a8a5-5c6ebc02a71d"
      },
      "outputs": [],
      "source": [
        "import pandas as pd\n",
        "import psycopg2\n",
        "import requests\n",
        "from bs4 import BeautifulSoup\n",
        "import matplotlib.pyplot as plt\n",
        "import seaborn as sns\n",
        "\n",
        "import warnings\n",
        "\n",
        "warnings.filterwarnings('ignore') #Немного почистим предупреждения от панды"
      ]
    },
    {
      "cell_type": "code",
      "execution_count": 75,
      "id": "oVKH4ehvf8Ay",
      "metadata": {
        "id": "oVKH4ehvf8Ay"
      },
      "outputs": [],
      "source": [
        "# вставьте сюда параметры подключения из юнита 1. Работа с базой данных из Python \n",
        "\n",
        "#Блок входа в базу данных Slillfactory без засвета параметров\n",
        "db_params = pd.read_csv('/Users/hotdonkey/Documents/GitHub/data_science_learning/Project_2/db_project_sql.csv', sep=';')\n",
        "\n",
        "connection = psycopg2.connect(\n",
        "    dbname=db_params['DBNAME'].values[0],\n",
        "    user=db_params['USER'].values[0],\n",
        "    host=db_params['HOST'].values[0],\n",
        "    password=db_params['PASSWORD'].values[0],\n",
        "    port=db_params['PORT'].values[0]\n",
        ")"
      ]
    },
    {
      "cell_type": "code",
      "execution_count": 76,
      "id": "G4X_q8KBf7SF",
      "metadata": {
        "id": "G4X_q8KBf7SF"
      },
      "outputs": [
        {
          "data": {
            "text/plain": [
              "'DBNAME = None\\nUSER = None\\nHOST = None\\nPASSWORD = None \\nPORT = None\\n\\nconnection = psycopg2.connect(\\n    dbname=DBNAME,\\n    user=USER,\\n    host=HOST,\\n    password=PASSWORD,\\n    port=PORT\\n)'"
            ]
          },
          "execution_count": 76,
          "metadata": {},
          "output_type": "execute_result"
        }
      ],
      "source": [
        "#В моем случае не пригодилось, но оставил для проверяющего, для себя закоментил что бы не мешалось\n",
        "'''DBNAME = None\n",
        "USER = None\n",
        "HOST = None\n",
        "PASSWORD = None \n",
        "PORT = None\n",
        "\n",
        "connection = psycopg2.connect(\n",
        "    dbname=DBNAME,\n",
        "    user=USER,\n",
        "    host=HOST,\n",
        "    password=PASSWORD,\n",
        "    port=PORT\n",
        ")'''"
      ]
    },
    {
      "attachments": {},
      "cell_type": "markdown",
      "id": "6ac98985",
      "metadata": {},
      "source": [
        "___"
      ]
    },
    {
      "cell_type": "markdown",
      "id": "0dc6476b-7a00-44f1-ac93-6e3baed33a29",
      "metadata": {
        "id": "0dc6476b-7a00-44f1-ac93-6e3baed33a29"
      },
      "source": [
        "# Юнит 3. Предварительный анализ данных"
      ]
    },
    {
      "attachments": {},
      "cell_type": "markdown",
      "id": "889782b6-8d1c-410e-8920-e57f27917c64",
      "metadata": {
        "id": "889782b6-8d1c-410e-8920-e57f27917c64"
      },
      "source": [
        "#### 1. Напишите запрос, который посчитает количество вакансий в нашей базе (вакансии находятся в таблице vacancies). "
      ]
    },
    {
      "cell_type": "code",
      "execution_count": 77,
      "id": "bc39e68e-ed02-4ee2-9235-7258a2f867a8",
      "metadata": {
        "id": "bc39e68e-ed02-4ee2-9235-7258a2f867a8"
      },
      "outputs": [
        {
          "data": {
            "text/plain": [
              "49197"
            ]
          },
          "execution_count": 77,
          "metadata": {},
          "output_type": "execute_result"
        }
      ],
      "source": [
        "query_3_1 =  '''SELECT *\n",
        "                FROM public.vacancies'''\n",
        "vacancies_df = pd.read_sql(query_3_1,connection)\n",
        "cnt_of_vac = vacancies_df.shape[0]\n",
        "cnt_of_vac"
      ]
    },
    {
      "attachments": {},
      "cell_type": "markdown",
      "id": "7mAwtsk4hEHY",
      "metadata": {
        "id": "7mAwtsk4hEHY"
      },
      "source": [
        "#### Результат запроса\n",
        "##### Количество вакансий на ресурсе составляет: 49 197 вакансий."
      ]
    },
    {
      "attachments": {},
      "cell_type": "markdown",
      "id": "0d970219",
      "metadata": {},
      "source": [
        "___"
      ]
    },
    {
      "attachments": {},
      "cell_type": "markdown",
      "id": "b583485d-1f9e-494e-ada4-80ffff7c53d6",
      "metadata": {
        "id": "b583485d-1f9e-494e-ada4-80ffff7c53d6"
      },
      "source": [
        "#### 2. Напишите запрос, который посчитает количество работодателей (таблица employers). "
      ]
    },
    {
      "cell_type": "code",
      "execution_count": 78,
      "id": "5408c52c-3407-4a63-b25b-1aafa2322d28",
      "metadata": {
        "id": "5408c52c-3407-4a63-b25b-1aafa2322d28"
      },
      "outputs": [
        {
          "data": {
            "text/plain": [
              "23501"
            ]
          },
          "execution_count": 78,
          "metadata": {},
          "output_type": "execute_result"
        }
      ],
      "source": [
        "query_3_2 =  '''SELECT *\n",
        "                FROM public.employers'''\n",
        "employers_df = pd.read_sql(query_3_2, connection)\n",
        "employers_df.shape[0]"
      ]
    },
    {
      "attachments": {},
      "cell_type": "markdown",
      "id": "jVL4eshKhdqc",
      "metadata": {
        "id": "jVL4eshKhdqc"
      },
      "source": [
        "#### Результат запроса\n",
        "##### Количество работодателей на ресурсе составляет: 23 501."
      ]
    },
    {
      "attachments": {},
      "cell_type": "markdown",
      "id": "e09b475e",
      "metadata": {},
      "source": [
        "___"
      ]
    },
    {
      "attachments": {},
      "cell_type": "markdown",
      "id": "a2bfff1f-c975-4bf6-84be-2185d79dcb76",
      "metadata": {
        "id": "a2bfff1f-c975-4bf6-84be-2185d79dcb76"
      },
      "source": [
        "#### 3. Посчитате с помощью запроса количество регионов (таблица areas)."
      ]
    },
    {
      "cell_type": "code",
      "execution_count": 79,
      "id": "1m8QJwBYhey6",
      "metadata": {
        "id": "1m8QJwBYhey6"
      },
      "outputs": [
        {
          "data": {
            "text/html": [
              "<div>\n",
              "<style scoped>\n",
              "    .dataframe tbody tr th:only-of-type {\n",
              "        vertical-align: middle;\n",
              "    }\n",
              "\n",
              "    .dataframe tbody tr th {\n",
              "        vertical-align: top;\n",
              "    }\n",
              "\n",
              "    .dataframe thead th {\n",
              "        text-align: right;\n",
              "    }\n",
              "</style>\n",
              "<table border=\"1\" class=\"dataframe\">\n",
              "  <thead>\n",
              "    <tr style=\"text-align: right;\">\n",
              "      <th></th>\n",
              "      <th>count</th>\n",
              "    </tr>\n",
              "  </thead>\n",
              "  <tbody>\n",
              "    <tr>\n",
              "      <th>0</th>\n",
              "      <td>1362</td>\n",
              "    </tr>\n",
              "  </tbody>\n",
              "</table>\n",
              "</div>"
            ],
            "text/plain": [
              "   count\n",
              "0   1362"
            ]
          },
          "execution_count": 79,
          "metadata": {},
          "output_type": "execute_result"
        }
      ],
      "source": [
        "query_3_3 =  '''SELECT count(*)\n",
        "                FROM public.areas'''\n",
        "areas_df = pd.read_sql(query_3_3, connection)\n",
        "areas_df"
      ]
    },
    {
      "attachments": {},
      "cell_type": "markdown",
      "id": "EZsn9tlfhe7f",
      "metadata": {
        "id": "EZsn9tlfhe7f"
      },
      "source": [
        "#### Результат запроса\n",
        "#### Количество регионов равно 1 362"
      ]
    },
    {
      "attachments": {},
      "cell_type": "markdown",
      "id": "ece41022",
      "metadata": {},
      "source": [
        "___"
      ]
    },
    {
      "attachments": {},
      "cell_type": "markdown",
      "id": "41bb59f3-53cc-4a67-a5bc-bedf573955e4",
      "metadata": {
        "id": "41bb59f3-53cc-4a67-a5bc-bedf573955e4"
      },
      "source": [
        "#### 4. Посчитате с помощью запроса количество сфер деятельности в базе (таблица industries)."
      ]
    },
    {
      "cell_type": "code",
      "execution_count": 80,
      "id": "d286cf4c-707b-4cd2-9190-7ab3587d04a1",
      "metadata": {
        "id": "d286cf4c-707b-4cd2-9190-7ab3587d04a1"
      },
      "outputs": [
        {
          "data": {
            "text/html": [
              "<div>\n",
              "<style scoped>\n",
              "    .dataframe tbody tr th:only-of-type {\n",
              "        vertical-align: middle;\n",
              "    }\n",
              "\n",
              "    .dataframe tbody tr th {\n",
              "        vertical-align: top;\n",
              "    }\n",
              "\n",
              "    .dataframe thead th {\n",
              "        text-align: right;\n",
              "    }\n",
              "</style>\n",
              "<table border=\"1\" class=\"dataframe\">\n",
              "  <thead>\n",
              "    <tr style=\"text-align: right;\">\n",
              "      <th></th>\n",
              "      <th>count</th>\n",
              "    </tr>\n",
              "  </thead>\n",
              "  <tbody>\n",
              "    <tr>\n",
              "      <th>0</th>\n",
              "      <td>294</td>\n",
              "    </tr>\n",
              "  </tbody>\n",
              "</table>\n",
              "</div>"
            ],
            "text/plain": [
              "   count\n",
              "0    294"
            ]
          },
          "execution_count": 80,
          "metadata": {},
          "output_type": "execute_result"
        }
      ],
      "source": [
        "query_3_4 =  '''SELECT count(*)\n",
        "                FROM public.industries'''\n",
        "industries_df = pd.read_sql(query_3_4, connection)\n",
        "industries_df"
      ]
    },
    {
      "attachments": {},
      "cell_type": "markdown",
      "id": "JYAaoZ4qhfzW",
      "metadata": {
        "id": "JYAaoZ4qhfzW"
      },
      "source": [
        "#### Результат запроса\n",
        "#### Количкство сфер деятельности равно 294"
      ]
    },
    {
      "cell_type": "markdown",
      "id": "9a8a2181-6914-448b-85f1-38f5f18b8a93",
      "metadata": {
        "id": "9a8a2181-6914-448b-85f1-38f5f18b8a93"
      },
      "source": [
        "***"
      ]
    },
    {
      "attachments": {},
      "cell_type": "markdown",
      "id": "be4e9bd3-a4db-4a20-82fb-6b02fc2957e0",
      "metadata": {
        "id": "be4e9bd3-a4db-4a20-82fb-6b02fc2957e0"
      },
      "source": [
        "### Количество вакансий на ресурсе составляет порядка 50 тыс. при количестве работодателей в 23,5 тыс., коилчестве сфер деятельности ~ 300 и регионов 1 362. На данный момент можно судить о достаточности данных для проведения дальнейшего статистического анализа и выявления закономерностей в данных."
      ]
    },
    {
      "attachments": {},
      "cell_type": "markdown",
      "id": "5daa079e",
      "metadata": {},
      "source": [
        "___"
      ]
    },
    {
      "cell_type": "markdown",
      "id": "8d62a9f3-f64e-4fe7-bdac-c4dffa16155e",
      "metadata": {
        "id": "8d62a9f3-f64e-4fe7-bdac-c4dffa16155e"
      },
      "source": [
        "# Юнит 4. Детальный анализ вакансий"
      ]
    },
    {
      "attachments": {},
      "cell_type": "markdown",
      "id": "c2e52847",
      "metadata": {},
      "source": [
        "___"
      ]
    },
    {
      "attachments": {},
      "cell_type": "markdown",
      "id": "93053d3d-b284-481a-9cf7-012d7014c0e0",
      "metadata": {
        "id": "93053d3d-b284-481a-9cf7-012d7014c0e0"
      },
      "source": [
        "#### 1. Напишите запрос, который позволит узнать, сколько (cnt) вакансий в каждом регионе (area).\n",
        "#### Отсортируйте по количеству вакансий в порядке убывания."
      ]
    },
    {
      "cell_type": "code",
      "execution_count": 81,
      "id": "3f069da6-fdc9-4ae7-b514-fafe2675efd3",
      "metadata": {
        "id": "3f069da6-fdc9-4ae7-b514-fafe2675efd3"
      },
      "outputs": [
        {
          "data": {
            "text/html": [
              "<div>\n",
              "<style scoped>\n",
              "    .dataframe tbody tr th:only-of-type {\n",
              "        vertical-align: middle;\n",
              "    }\n",
              "\n",
              "    .dataframe tbody tr th {\n",
              "        vertical-align: top;\n",
              "    }\n",
              "\n",
              "    .dataframe thead th {\n",
              "        text-align: right;\n",
              "    }\n",
              "</style>\n",
              "<table border=\"1\" class=\"dataframe\">\n",
              "  <thead>\n",
              "    <tr style=\"text-align: right;\">\n",
              "      <th></th>\n",
              "      <th>area</th>\n",
              "      <th>cnt</th>\n",
              "    </tr>\n",
              "  </thead>\n",
              "  <tbody>\n",
              "    <tr>\n",
              "      <th>0</th>\n",
              "      <td>Москва</td>\n",
              "      <td>5333</td>\n",
              "    </tr>\n",
              "    <tr>\n",
              "      <th>1</th>\n",
              "      <td>Санкт-Петербург</td>\n",
              "      <td>2851</td>\n",
              "    </tr>\n",
              "    <tr>\n",
              "      <th>2</th>\n",
              "      <td>Минск</td>\n",
              "      <td>2112</td>\n",
              "    </tr>\n",
              "    <tr>\n",
              "      <th>3</th>\n",
              "      <td>Новосибирск</td>\n",
              "      <td>2006</td>\n",
              "    </tr>\n",
              "    <tr>\n",
              "      <th>4</th>\n",
              "      <td>Алматы</td>\n",
              "      <td>1892</td>\n",
              "    </tr>\n",
              "    <tr>\n",
              "      <th>5</th>\n",
              "      <td>Екатеринбург</td>\n",
              "      <td>1698</td>\n",
              "    </tr>\n",
              "    <tr>\n",
              "      <th>6</th>\n",
              "      <td>Нижний Новгород</td>\n",
              "      <td>1670</td>\n",
              "    </tr>\n",
              "    <tr>\n",
              "      <th>7</th>\n",
              "      <td>Казань</td>\n",
              "      <td>1415</td>\n",
              "    </tr>\n",
              "    <tr>\n",
              "      <th>8</th>\n",
              "      <td>Краснодар</td>\n",
              "      <td>1301</td>\n",
              "    </tr>\n",
              "    <tr>\n",
              "      <th>9</th>\n",
              "      <td>Самара</td>\n",
              "      <td>1144</td>\n",
              "    </tr>\n",
              "  </tbody>\n",
              "</table>\n",
              "</div>"
            ],
            "text/plain": [
              "              area   cnt\n",
              "0           Москва  5333\n",
              "1  Санкт-Петербург  2851\n",
              "2            Минск  2112\n",
              "3      Новосибирск  2006\n",
              "4           Алматы  1892\n",
              "5     Екатеринбург  1698\n",
              "6  Нижний Новгород  1670\n",
              "7           Казань  1415\n",
              "8        Краснодар  1301\n",
              "9           Самара  1144"
            ]
          },
          "execution_count": 81,
          "metadata": {},
          "output_type": "execute_result"
        }
      ],
      "source": [
        "query_4_1 =  '''SELECT \n",
        "                    a.name as area,\n",
        "                    count(v.id) as cnt\n",
        "                FROM \n",
        "                    public.vacancies as v\n",
        "                JOIN\n",
        "                    public.areas as a on v.area_id = a.id\n",
        "                GROUP BY 1\n",
        "                ORDER BY 2 DESC\n",
        "'''\n",
        "vac_per_area = pd.read_sql(query_4_1, connection)\n",
        "vac_per_area.head(10)"
      ]
    },
    {
      "cell_type": "code",
      "execution_count": 104,
      "id": "03229fd4",
      "metadata": {},
      "outputs": [
        {
          "data": {
            "text/plain": [
              "Text(0.5, 1.0, 'Количество вакансий по регионам')"
            ]
          },
          "execution_count": 104,
          "metadata": {},
          "output_type": "execute_result"
        },
        {
          "data": {
            "image/png": "[encoded data removed]",
            "text/plain": [
              "<Figure size 640x480 with 1 Axes>"
            ]
          },
          "metadata": {},
          "output_type": "display_data"
        }
      ],
      "source": [
        "area_graph = sns.barplot(\n",
        "    data=vac_per_area.head(20),\n",
        "    x='cnt',\n",
        "    y='area'\n",
        ")\n",
        "area_graph.set_xlabel('Количество вакансий')\n",
        "area_graph.set_ylabel('Регион')\n",
        "area_graph.set_title('Количество вакансий по регионам')"
      ]
    },
    {
      "attachments": {},
      "cell_type": "markdown",
      "id": "P7QL86hrjhRJ",
      "metadata": {
        "id": "P7QL86hrjhRJ"
      },
      "source": [
        "#### Результат запроса\n",
        "#### Наибольшее количество вакансий сконцентрировано в Москве, стоит так же отметить почти двукратный разрыв между 1 и 2 номерами чарта, разрыв в количестве вакансий между нижеследующими ренионами не столь резкий."
      ]
    },
    {
      "attachments": {},
      "cell_type": "markdown",
      "id": "dcbc3c88",
      "metadata": {},
      "source": [
        "___"
      ]
    },
    {
      "attachments": {},
      "cell_type": "markdown",
      "id": "4266f0b6-1646-492a-88b4-2f6a46502135",
      "metadata": {
        "id": "4266f0b6-1646-492a-88b4-2f6a46502135"
      },
      "source": [
        "#### 2. Напишите запрос, чтобы определить у какого количества вакансий заполнено хотя бы одно из двух полей с зарплатой."
      ]
    },
    {
      "cell_type": "code",
      "execution_count": 82,
      "id": "0c44b350-72eb-4d65-8b54-a1fc449ba9fd",
      "metadata": {
        "id": "0c44b350-72eb-4d65-8b54-a1fc449ba9fd"
      },
      "outputs": [
        {
          "data": {
            "text/html": [
              "<div>\n",
              "<style scoped>\n",
              "    .dataframe tbody tr th:only-of-type {\n",
              "        vertical-align: middle;\n",
              "    }\n",
              "\n",
              "    .dataframe tbody tr th {\n",
              "        vertical-align: top;\n",
              "    }\n",
              "\n",
              "    .dataframe thead th {\n",
              "        text-align: right;\n",
              "    }\n",
              "</style>\n",
              "<table border=\"1\" class=\"dataframe\">\n",
              "  <thead>\n",
              "    <tr style=\"text-align: right;\">\n",
              "      <th></th>\n",
              "      <th>count</th>\n",
              "    </tr>\n",
              "  </thead>\n",
              "  <tbody>\n",
              "    <tr>\n",
              "      <th>0</th>\n",
              "      <td>24073</td>\n",
              "    </tr>\n",
              "  </tbody>\n",
              "</table>\n",
              "</div>"
            ],
            "text/plain": [
              "   count\n",
              "0  24073"
            ]
          },
          "execution_count": 82,
          "metadata": {},
          "output_type": "execute_result"
        }
      ],
      "source": [
        "query_4_2 =  '''SELECT \n",
        "                    COUNT(*)\n",
        "                FROM \n",
        "                    public.vacancies as v\n",
        "                WHERE\n",
        "                (v.salary_from IS NOT NULL)\n",
        "                OR (v.salary_to IS NOT NULL)\n",
        "'''\n",
        "not_null_sal = pd.read_sql(query_4_2, connection)\n",
        "not_null_sal"
      ]
    },
    {
      "attachments": {},
      "cell_type": "markdown",
      "id": "6d3452a7",
      "metadata": {},
      "source": [
        "#### Результат запроса\n",
        "#### В 24 073 вакансий заполнено одно из полей касающееся информации о зарплате, по большей части не пропускается заполнение поля стартовой зарплаты, в целом это предсказуемо для возможности обеспечения мобильности в согласовании финального ценника на собеседовании."
      ]
    },
    {
      "attachments": {},
      "cell_type": "markdown",
      "id": "b77b23a7",
      "metadata": {},
      "source": [
        "___"
      ]
    },
    {
      "attachments": {},
      "cell_type": "markdown",
      "id": "635c4d5d-f323-4c66-b428-50a088120aa0",
      "metadata": {
        "id": "635c4d5d-f323-4c66-b428-50a088120aa0"
      },
      "source": [
        "#### 3. Найдите средние значения для нижней и верхней границы зарплатной вилки. Округлите значения до целого."
      ]
    },
    {
      "cell_type": "code",
      "execution_count": 83,
      "id": "603cdbe4-0ec3-4106-8eaf-c73fcdd29165",
      "metadata": {
        "id": "603cdbe4-0ec3-4106-8eaf-c73fcdd29165"
      },
      "outputs": [
        {
          "data": {
            "text/html": [
              "<div>\n",
              "<style scoped>\n",
              "    .dataframe tbody tr th:only-of-type {\n",
              "        vertical-align: middle;\n",
              "    }\n",
              "\n",
              "    .dataframe tbody tr th {\n",
              "        vertical-align: top;\n",
              "    }\n",
              "\n",
              "    .dataframe thead th {\n",
              "        text-align: right;\n",
              "    }\n",
              "</style>\n",
              "<table border=\"1\" class=\"dataframe\">\n",
              "  <thead>\n",
              "    <tr style=\"text-align: right;\">\n",
              "      <th></th>\n",
              "      <th>avg_from</th>\n",
              "      <th>avg_to</th>\n",
              "    </tr>\n",
              "  </thead>\n",
              "  <tbody>\n",
              "    <tr>\n",
              "      <th>0</th>\n",
              "      <td>71065.0</td>\n",
              "      <td>110537.0</td>\n",
              "    </tr>\n",
              "  </tbody>\n",
              "</table>\n",
              "</div>"
            ],
            "text/plain": [
              "   avg_from    avg_to\n",
              "0   71065.0  110537.0"
            ]
          },
          "execution_count": 83,
          "metadata": {},
          "output_type": "execute_result"
        }
      ],
      "source": [
        "query_4_3 =  '''SELECT \n",
        "                    ROUND(AVG(v.salary_from)) as avg_from,\n",
        "                    ROUND(AVG(v.salary_to)) as avg_to\n",
        "                FROM \n",
        "                    public.vacancies as v\n",
        "'''\n",
        "mean_sal = pd.read_sql(query_4_3, connection)\n",
        "mean_sal"
      ]
    },
    {
      "attachments": {},
      "cell_type": "markdown",
      "id": "pswpAb66ovZZ",
      "metadata": {
        "id": "pswpAb66ovZZ"
      },
      "source": [
        "#### Результат запроса\n",
        "#### В среднем старт зарплат начинается с 71 тыс.руб. и оканчивается на 110,5 тыс.руб."
      ]
    },
    {
      "attachments": {},
      "cell_type": "markdown",
      "id": "7f985a82",
      "metadata": {},
      "source": [
        "___"
      ]
    },
    {
      "attachments": {},
      "cell_type": "markdown",
      "id": "f3fdaec9-5fd3-4260-9cf5-1d7406b628a5",
      "metadata": {
        "id": "f3fdaec9-5fd3-4260-9cf5-1d7406b628a5"
      },
      "source": [
        "#### 4. Напишите запрос, который выведет количество вакансий для каждого сочетания типа рабочего графика (schedule) и типа трудоустройства (employment), используемого в вакансиях. Результат отсортируйте по убыванию количества.\n"
      ]
    },
    {
      "cell_type": "code",
      "execution_count": 84,
      "id": "1ea710ec-871b-431e-9462-c7d0fd87011b",
      "metadata": {
        "id": "1ea710ec-871b-431e-9462-c7d0fd87011b"
      },
      "outputs": [
        {
          "data": {
            "text/html": [
              "<div>\n",
              "<style scoped>\n",
              "    .dataframe tbody tr th:only-of-type {\n",
              "        vertical-align: middle;\n",
              "    }\n",
              "\n",
              "    .dataframe tbody tr th {\n",
              "        vertical-align: top;\n",
              "    }\n",
              "\n",
              "    .dataframe thead th {\n",
              "        text-align: right;\n",
              "    }\n",
              "</style>\n",
              "<table border=\"1\" class=\"dataframe\">\n",
              "  <thead>\n",
              "    <tr style=\"text-align: right;\">\n",
              "      <th></th>\n",
              "      <th>schedule</th>\n",
              "      <th>employment</th>\n",
              "      <th>count</th>\n",
              "    </tr>\n",
              "  </thead>\n",
              "  <tbody>\n",
              "    <tr>\n",
              "      <th>0</th>\n",
              "      <td>Полный день</td>\n",
              "      <td>Полная занятость</td>\n",
              "      <td>35367</td>\n",
              "    </tr>\n",
              "    <tr>\n",
              "      <th>1</th>\n",
              "      <td>Удаленная работа</td>\n",
              "      <td>Полная занятость</td>\n",
              "      <td>7802</td>\n",
              "    </tr>\n",
              "    <tr>\n",
              "      <th>2</th>\n",
              "      <td>Гибкий график</td>\n",
              "      <td>Полная занятость</td>\n",
              "      <td>1593</td>\n",
              "    </tr>\n",
              "    <tr>\n",
              "      <th>3</th>\n",
              "      <td>Удаленная работа</td>\n",
              "      <td>Частичная занятость</td>\n",
              "      <td>1312</td>\n",
              "    </tr>\n",
              "    <tr>\n",
              "      <th>4</th>\n",
              "      <td>Сменный график</td>\n",
              "      <td>Полная занятость</td>\n",
              "      <td>940</td>\n",
              "    </tr>\n",
              "    <tr>\n",
              "      <th>5</th>\n",
              "      <td>Полный день</td>\n",
              "      <td>Стажировка</td>\n",
              "      <td>569</td>\n",
              "    </tr>\n",
              "    <tr>\n",
              "      <th>6</th>\n",
              "      <td>Вахтовый метод</td>\n",
              "      <td>Полная занятость</td>\n",
              "      <td>367</td>\n",
              "    </tr>\n",
              "    <tr>\n",
              "      <th>7</th>\n",
              "      <td>Полный день</td>\n",
              "      <td>Частичная занятость</td>\n",
              "      <td>347</td>\n",
              "    </tr>\n",
              "    <tr>\n",
              "      <th>8</th>\n",
              "      <td>Гибкий график</td>\n",
              "      <td>Частичная занятость</td>\n",
              "      <td>312</td>\n",
              "    </tr>\n",
              "    <tr>\n",
              "      <th>9</th>\n",
              "      <td>Полный день</td>\n",
              "      <td>Проектная работа</td>\n",
              "      <td>141</td>\n",
              "    </tr>\n",
              "    <tr>\n",
              "      <th>10</th>\n",
              "      <td>Удаленная работа</td>\n",
              "      <td>Проектная работа</td>\n",
              "      <td>133</td>\n",
              "    </tr>\n",
              "    <tr>\n",
              "      <th>11</th>\n",
              "      <td>Гибкий график</td>\n",
              "      <td>Стажировка</td>\n",
              "      <td>116</td>\n",
              "    </tr>\n",
              "    <tr>\n",
              "      <th>12</th>\n",
              "      <td>Сменный график</td>\n",
              "      <td>Частичная занятость</td>\n",
              "      <td>101</td>\n",
              "    </tr>\n",
              "    <tr>\n",
              "      <th>13</th>\n",
              "      <td>Удаленная работа</td>\n",
              "      <td>Стажировка</td>\n",
              "      <td>64</td>\n",
              "    </tr>\n",
              "    <tr>\n",
              "      <th>14</th>\n",
              "      <td>Гибкий график</td>\n",
              "      <td>Проектная работа</td>\n",
              "      <td>18</td>\n",
              "    </tr>\n",
              "    <tr>\n",
              "      <th>15</th>\n",
              "      <td>Сменный график</td>\n",
              "      <td>Стажировка</td>\n",
              "      <td>12</td>\n",
              "    </tr>\n",
              "    <tr>\n",
              "      <th>16</th>\n",
              "      <td>Вахтовый метод</td>\n",
              "      <td>Проектная работа</td>\n",
              "      <td>2</td>\n",
              "    </tr>\n",
              "    <tr>\n",
              "      <th>17</th>\n",
              "      <td>Сменный график</td>\n",
              "      <td>Проектная работа</td>\n",
              "      <td>1</td>\n",
              "    </tr>\n",
              "  </tbody>\n",
              "</table>\n",
              "</div>"
            ],
            "text/plain": [
              "            schedule           employment  count\n",
              "0        Полный день     Полная занятость  35367\n",
              "1   Удаленная работа     Полная занятость   7802\n",
              "2      Гибкий график     Полная занятость   1593\n",
              "3   Удаленная работа  Частичная занятость   1312\n",
              "4     Сменный график     Полная занятость    940\n",
              "5        Полный день           Стажировка    569\n",
              "6     Вахтовый метод     Полная занятость    367\n",
              "7        Полный день  Частичная занятость    347\n",
              "8      Гибкий график  Частичная занятость    312\n",
              "9        Полный день     Проектная работа    141\n",
              "10  Удаленная работа     Проектная работа    133\n",
              "11     Гибкий график           Стажировка    116\n",
              "12    Сменный график  Частичная занятость    101\n",
              "13  Удаленная работа           Стажировка     64\n",
              "14     Гибкий график     Проектная работа     18\n",
              "15    Сменный график           Стажировка     12\n",
              "16    Вахтовый метод     Проектная работа      2\n",
              "17    Сменный график     Проектная работа      1"
            ]
          },
          "execution_count": 84,
          "metadata": {},
          "output_type": "execute_result"
        }
      ],
      "source": [
        "query_4_4 =  '''SELECT \n",
        "\t                v.schedule,\n",
        "\t                v.employment,\n",
        "\t                COUNT(*)\n",
        "                FROM \n",
        "                    public.vacancies as v\n",
        "                GROUP BY 1,2\n",
        "                ORDER BY 3 DESC\n",
        "'''\n",
        "empl_type = pd.read_sql(query_4_4, connection)\n",
        "empl_type"
      ]
    },
    {
      "attachments": {},
      "cell_type": "markdown",
      "id": "lGUVqavdo4JQ",
      "metadata": {
        "id": "lGUVqavdo4JQ"
      },
      "source": [
        "#### Результат запроса\n",
        "#### Наиболее распространенным сочетанием является полная занятость на полный день, т.е. стандартный тип трудоустройства, стоит отметить колоссальный разрыв в численности между данной и остальными группами."
      ]
    },
    {
      "attachments": {},
      "cell_type": "markdown",
      "id": "0abfbddb",
      "metadata": {},
      "source": [
        "___"
      ]
    },
    {
      "attachments": {},
      "cell_type": "markdown",
      "id": "0136ffee-0ead-4a6b-b608-61d1c753a438",
      "metadata": {
        "id": "0136ffee-0ead-4a6b-b608-61d1c753a438"
      },
      "source": [
        "#### 5. Напишите запрос, выводящий значения поля Требуемый опыт работы (experience) в порядке возрастания количества вакансий, в которых указан данный вариант опыта. "
      ]
    },
    {
      "cell_type": "code",
      "execution_count": 110,
      "id": "5b3a8e79-f7ab-4008-b767-12aea3a205ea",
      "metadata": {
        "id": "5b3a8e79-f7ab-4008-b767-12aea3a205ea"
      },
      "outputs": [
        {
          "data": {
            "text/html": [
              "<div>\n",
              "<style scoped>\n",
              "    .dataframe tbody tr th:only-of-type {\n",
              "        vertical-align: middle;\n",
              "    }\n",
              "\n",
              "    .dataframe tbody tr th {\n",
              "        vertical-align: top;\n",
              "    }\n",
              "\n",
              "    .dataframe thead th {\n",
              "        text-align: right;\n",
              "    }\n",
              "</style>\n",
              "<table border=\"1\" class=\"dataframe\">\n",
              "  <thead>\n",
              "    <tr style=\"text-align: right;\">\n",
              "      <th></th>\n",
              "      <th>experience</th>\n",
              "      <th>count</th>\n",
              "    </tr>\n",
              "  </thead>\n",
              "  <tbody>\n",
              "    <tr>\n",
              "      <th>0</th>\n",
              "      <td>Более 6 лет</td>\n",
              "      <td>1337</td>\n",
              "    </tr>\n",
              "    <tr>\n",
              "      <th>1</th>\n",
              "      <td>Нет опыта</td>\n",
              "      <td>7197</td>\n",
              "    </tr>\n",
              "    <tr>\n",
              "      <th>2</th>\n",
              "      <td>От 3 до 6 лет</td>\n",
              "      <td>14511</td>\n",
              "    </tr>\n",
              "    <tr>\n",
              "      <th>3</th>\n",
              "      <td>От 1 года до 3 лет</td>\n",
              "      <td>26152</td>\n",
              "    </tr>\n",
              "  </tbody>\n",
              "</table>\n",
              "</div>"
            ],
            "text/plain": [
              "           experience  count\n",
              "0         Более 6 лет   1337\n",
              "1           Нет опыта   7197\n",
              "2       От 3 до 6 лет  14511\n",
              "3  От 1 года до 3 лет  26152"
            ]
          },
          "execution_count": 110,
          "metadata": {},
          "output_type": "execute_result"
        }
      ],
      "source": [
        "query_4_5 =  '''SELECT \n",
        "\t                v.experience,\n",
        "\t                COUNT(*)\n",
        "                FROM \n",
        "                    public.vacancies as v\n",
        "                GROUP BY 1\n",
        "                ORDER BY 2\n",
        "'''\n",
        "exp_type = pd.read_sql(query_4_5, connection)\n",
        "exp_type"
      ]
    },
    {
      "cell_type": "code",
      "execution_count": 109,
      "id": "9b99f9ff",
      "metadata": {},
      "outputs": [
        {
          "data": {
            "image/png": "[encoded data removed]",
            "text/plain": [
              "<Figure size 640x480 with 1 Axes>"
            ]
          },
          "metadata": {},
          "output_type": "display_data"
        }
      ],
      "source": [
        "sns.barplot(\n",
        "    data=exp_type,\n",
        "    x='count',\n",
        "    y='experience'\n",
        ");"
      ]
    },
    {
      "attachments": {},
      "cell_type": "markdown",
      "id": "3Is64Y-hpDpq",
      "metadata": {
        "id": "3Is64Y-hpDpq"
      },
      "source": [
        "#### Результат запроса\n",
        "#### Наибольшее количество соискателей обладают опытом в диапазоне от 1 до 3 лет: 26 152 чел.\n",
        "#### Далее идет группа от 3 до 6 лет: 14 511 чел.\n",
        "#### Без опыта работы: 7 197 чел.\n",
        "#### И замыкающая группа более 6 лет: 1 337 чел.\n",
        "#### Что примечательно, наибольшим спросом у работодателя пользуются работники со средним и малым опытом работы. Данный момент требует особого внимания, т.к. может являться сигналом для целого спектра явлений в экономической, социальной и научно-производственной сферах, не говоря уже о важности для таргетирования в рамках HH, но это уже выходит за рамки краткого анализа."
      ]
    },
    {
      "cell_type": "markdown",
      "id": "oq2b7n1QpIka",
      "metadata": {
        "id": "oq2b7n1QpIka"
      },
      "source": [
        "***"
      ]
    },
    {
      "attachments": {},
      "cell_type": "markdown",
      "id": "e91f87ed-e25c-4f96-9f92-b642e8c0b4fa",
      "metadata": {
        "id": "e91f87ed-e25c-4f96-9f92-b642e8c0b4fa"
      },
      "source": [
        "### Наибольшая концентрация вакансий в процентном выражении наблюдается в Москве, рпспределение по другим регионам имеет более равномерный характер распределения, что говорит о волатильности рынко Московского региона.\n",
        "### Средний коридор по зп указывается работодателем в диапазоне 71 - 105 тыс. руб. при этом половина вакансий не имеет потолка зарплат в анкете, что говорит о желании работодателя сформировать иллюзию возможности роста (любая область компетенции имеет пороговые значения по зп, переходя которые соискатель меняет должность), а так же иметь степень свободы на собеседовании с соискателем.\n",
        "### Наиболее популярными у работодателя являются 2 группы по опыту, это 1-3 года и 3-6 лет, что говорит о заинтересованности работодателей в соискателях с малым и средним опытом, возможно это обусловленно тем что данные категории требуют наименьшего вклада в их развитие и оказывают наименьшее сопротивление при вливании в коллектив.\n",
        "### Так же стоит отметить, что наиболее распространенная связка по графику это полная занятость - полный рабочий день, т.е. классическое расписание."
      ]
    },
    {
      "attachments": {},
      "cell_type": "markdown",
      "id": "ff6ad4ba",
      "metadata": {},
      "source": [
        "___"
      ]
    },
    {
      "cell_type": "markdown",
      "id": "7ea20ab6-04a7-40a0-adec-443a0e5a42c3",
      "metadata": {
        "id": "7ea20ab6-04a7-40a0-adec-443a0e5a42c3"
      },
      "source": [
        "# Юнит 5. Анализ работодателей"
      ]
    },
    {
      "attachments": {},
      "cell_type": "markdown",
      "id": "968aed80-74ef-4ffb-b5bf-c65b84e9caea",
      "metadata": {
        "id": "968aed80-74ef-4ffb-b5bf-c65b84e9caea"
      },
      "source": [
        "#### 1. Напишите запрос, который позволит узнать, какие работодатели находятся на первом и пятом месте по количеству вакансий."
      ]
    },
    {
      "cell_type": "code",
      "execution_count": 86,
      "id": "f2d62796-d400-4ec1-a675-88112739a50e",
      "metadata": {
        "id": "f2d62796-d400-4ec1-a675-88112739a50e"
      },
      "outputs": [
        {
          "data": {
            "text/html": [
              "<div>\n",
              "<style scoped>\n",
              "    .dataframe tbody tr th:only-of-type {\n",
              "        vertical-align: middle;\n",
              "    }\n",
              "\n",
              "    .dataframe tbody tr th {\n",
              "        vertical-align: top;\n",
              "    }\n",
              "\n",
              "    .dataframe thead th {\n",
              "        text-align: right;\n",
              "    }\n",
              "</style>\n",
              "<table border=\"1\" class=\"dataframe\">\n",
              "  <thead>\n",
              "    <tr style=\"text-align: right;\">\n",
              "      <th></th>\n",
              "      <th>company_name</th>\n",
              "      <th>number_of_vacancies</th>\n",
              "    </tr>\n",
              "  </thead>\n",
              "  <tbody>\n",
              "    <tr>\n",
              "      <th>0</th>\n",
              "      <td>Яндекс</td>\n",
              "      <td>1933</td>\n",
              "    </tr>\n",
              "    <tr>\n",
              "      <th>1</th>\n",
              "      <td>Ростелеком</td>\n",
              "      <td>491</td>\n",
              "    </tr>\n",
              "    <tr>\n",
              "      <th>2</th>\n",
              "      <td>Тинькофф</td>\n",
              "      <td>444</td>\n",
              "    </tr>\n",
              "    <tr>\n",
              "      <th>3</th>\n",
              "      <td>СБЕР</td>\n",
              "      <td>428</td>\n",
              "    </tr>\n",
              "    <tr>\n",
              "      <th>4</th>\n",
              "      <td>Газпром нефть</td>\n",
              "      <td>331</td>\n",
              "    </tr>\n",
              "  </tbody>\n",
              "</table>\n",
              "</div>"
            ],
            "text/plain": [
              "    company_name  number_of_vacancies\n",
              "0         Яндекс                 1933\n",
              "1     Ростелеком                  491\n",
              "2       Тинькофф                  444\n",
              "3           СБЕР                  428\n",
              "4  Газпром нефть                  331"
            ]
          },
          "execution_count": 86,
          "metadata": {},
          "output_type": "execute_result"
        }
      ],
      "source": [
        "query_5_1 =  '''SELECT \n",
        "\t                e.\"name\" as company_name,\n",
        "\t                COUNT(*) as number_of_vacancies\n",
        "                FROM \n",
        "                    public.vacancies as v\n",
        "                JOIN\n",
        "                    public.employers AS e ON e.id = v.employer_id\n",
        "                GROUP BY 1\n",
        "                ORDER BY 2 desc\n",
        "                LIMIT 5\n",
        "'''\n",
        "employers = pd.read_sql(query_5_1, connection)\n",
        "employers"
      ]
    },
    {
      "attachments": {},
      "cell_type": "markdown",
      "id": "64tOMkAxqkQk",
      "metadata": {
        "id": "64tOMkAxqkQk"
      },
      "source": [
        "#### Результат запроса\n",
        "#### Наибольшее число вакансий с пятикратным отрывом принадлежит Яндексу, что может свидетельствовать либо о крупном росте и потребности в кадрах, либо о текучке. Нужен более пристальный анализ ввиду того, что распределение числа вакансий имеет весьма неоднородный рисунок, с учетом того, что в той или иной степени все компании из пятерки в той или иной степени (в случае с газпромом не так ондозначно) являются представителями IT сектора."
      ]
    },
    {
      "attachments": {},
      "cell_type": "markdown",
      "id": "354ff8aa",
      "metadata": {},
      "source": [
        "___"
      ]
    },
    {
      "attachments": {},
      "cell_type": "markdown",
      "id": "68377cfc-b378-43dc-ab7d-1195abf2c515",
      "metadata": {
        "id": "68377cfc-b378-43dc-ab7d-1195abf2c515"
      },
      "source": [
        "#### 2. Напишите запрос, который для каждого региона выведет количество работодателей и вакансий в нём.\n",
        "#### Среди регионов, в которых нет вакансий, найдите тот, в котором наибольшее количество работодателей.\n"
      ]
    },
    {
      "cell_type": "code",
      "execution_count": 87,
      "id": "dd7df27a-e3e8-412e-a21a-5d389b71e891",
      "metadata": {
        "id": "dd7df27a-e3e8-412e-a21a-5d389b71e891"
      },
      "outputs": [
        {
          "data": {
            "text/html": [
              "<div>\n",
              "<style scoped>\n",
              "    .dataframe tbody tr th:only-of-type {\n",
              "        vertical-align: middle;\n",
              "    }\n",
              "\n",
              "    .dataframe tbody tr th {\n",
              "        vertical-align: top;\n",
              "    }\n",
              "\n",
              "    .dataframe thead th {\n",
              "        text-align: right;\n",
              "    }\n",
              "</style>\n",
              "<table border=\"1\" class=\"dataframe\">\n",
              "  <thead>\n",
              "    <tr style=\"text-align: right;\">\n",
              "      <th></th>\n",
              "      <th>region_name</th>\n",
              "      <th>number_of_vacancies</th>\n",
              "      <th>number_of_employers</th>\n",
              "    </tr>\n",
              "  </thead>\n",
              "  <tbody>\n",
              "    <tr>\n",
              "      <th>0</th>\n",
              "      <td>Россия</td>\n",
              "      <td>0</td>\n",
              "      <td>410</td>\n",
              "    </tr>\n",
              "    <tr>\n",
              "      <th>1</th>\n",
              "      <td>Казахстан</td>\n",
              "      <td>0</td>\n",
              "      <td>207</td>\n",
              "    </tr>\n",
              "    <tr>\n",
              "      <th>2</th>\n",
              "      <td>Московская область</td>\n",
              "      <td>0</td>\n",
              "      <td>75</td>\n",
              "    </tr>\n",
              "    <tr>\n",
              "      <th>3</th>\n",
              "      <td>Краснодарский край</td>\n",
              "      <td>0</td>\n",
              "      <td>19</td>\n",
              "    </tr>\n",
              "    <tr>\n",
              "      <th>4</th>\n",
              "      <td>Беларусь</td>\n",
              "      <td>0</td>\n",
              "      <td>18</td>\n",
              "    </tr>\n",
              "  </tbody>\n",
              "</table>\n",
              "</div>"
            ],
            "text/plain": [
              "          region_name  number_of_vacancies  number_of_employers\n",
              "0              Россия                    0                  410\n",
              "1           Казахстан                    0                  207\n",
              "2  Московская область                    0                   75\n",
              "3  Краснодарский край                    0                   19\n",
              "4            Беларусь                    0                   18"
            ]
          },
          "execution_count": 87,
          "metadata": {},
          "output_type": "execute_result"
        }
      ],
      "source": [
        "query_5_2 =  '''SELECT\n",
        "                    a.\"name\" as region_name,\n",
        "\t                COUNT(v.*) number_of_vacancies,\n",
        "\t                COUNT(e.\"name\") as number_of_employers\n",
        "                FROM \n",
        "                    public.areas as a\n",
        "                LEFT JOIN\n",
        "                    public.vacancies as v on a.id = v.area_id\n",
        "                JOIN\n",
        "                    public.employers as e on a.id = e.area\n",
        "                GROUP by 1\n",
        "                HAVING COUNT(v.*) = 0\n",
        "                ORDER BY 3 DESC\n",
        "                \n",
        "'''\n",
        "area = pd.read_sql(query_5_2, connection)\n",
        "area.head()"
      ]
    },
    {
      "attachments": {},
      "cell_type": "markdown",
      "id": "x1ikWbydrbf6",
      "metadata": {
        "id": "x1ikWbydrbf6"
      },
      "source": [
        "#### Результат запроса\n",
        "#### Наибольшее число работодателей не указавших вакансию находится в России, исходя из того, что далее в чарте идут регионы, некоторые из которых, являются частью региона Россия, мы можем заключить что таблица employers требует некоторой систематизации, и не должна содержать в перемешку множества и входящие в них подмножества, т.е. разумным шагом было бы создание таблицы регионов включающая в себя регионы более высокого порядка(страны), а в таблице areas включить внешний ключ на эту таблицу."
      ]
    },
    {
      "attachments": {},
      "cell_type": "markdown",
      "id": "9a362cce",
      "metadata": {},
      "source": [
        "___"
      ]
    },
    {
      "attachments": {},
      "cell_type": "markdown",
      "id": "f2fe0acb-ab1a-4e15-9326-2560e22d73c1",
      "metadata": {
        "id": "f2fe0acb-ab1a-4e15-9326-2560e22d73c1"
      },
      "source": [
        "#### 3. Для каждого работодателя посчитайте количество регионов, в которых он публикует свои вакансии. Отсортируйте результат по убыванию количества.\n"
      ]
    },
    {
      "cell_type": "code",
      "execution_count": 88,
      "id": "6271f8ad-bd2e-4196-ae4a-5b39c4c1010e",
      "metadata": {
        "id": "6271f8ad-bd2e-4196-ae4a-5b39c4c1010e"
      },
      "outputs": [
        {
          "data": {
            "text/html": [
              "<div>\n",
              "<style scoped>\n",
              "    .dataframe tbody tr th:only-of-type {\n",
              "        vertical-align: middle;\n",
              "    }\n",
              "\n",
              "    .dataframe tbody tr th {\n",
              "        vertical-align: top;\n",
              "    }\n",
              "\n",
              "    .dataframe thead th {\n",
              "        text-align: right;\n",
              "    }\n",
              "</style>\n",
              "<table border=\"1\" class=\"dataframe\">\n",
              "  <thead>\n",
              "    <tr style=\"text-align: right;\">\n",
              "      <th></th>\n",
              "      <th>employer_name</th>\n",
              "      <th>region_qty</th>\n",
              "    </tr>\n",
              "  </thead>\n",
              "  <tbody>\n",
              "    <tr>\n",
              "      <th>0</th>\n",
              "      <td>Яндекс</td>\n",
              "      <td>181</td>\n",
              "    </tr>\n",
              "    <tr>\n",
              "      <th>1</th>\n",
              "      <td>Ростелеком</td>\n",
              "      <td>152</td>\n",
              "    </tr>\n",
              "    <tr>\n",
              "      <th>2</th>\n",
              "      <td>Спецремонт</td>\n",
              "      <td>116</td>\n",
              "    </tr>\n",
              "    <tr>\n",
              "      <th>3</th>\n",
              "      <td>Поляков Денис Иванович</td>\n",
              "      <td>88</td>\n",
              "    </tr>\n",
              "    <tr>\n",
              "      <th>4</th>\n",
              "      <td>ООО ЕФИН</td>\n",
              "      <td>71</td>\n",
              "    </tr>\n",
              "  </tbody>\n",
              "</table>\n",
              "</div>"
            ],
            "text/plain": [
              "            employer_name  region_qty\n",
              "0                  Яндекс         181\n",
              "1              Ростелеком         152\n",
              "2              Спецремонт         116\n",
              "3  Поляков Денис Иванович          88\n",
              "4               ООО ЕФИН           71"
            ]
          },
          "execution_count": 88,
          "metadata": {},
          "output_type": "execute_result"
        }
      ],
      "source": [
        "query_5_3 =  '''SELECT\n",
        "                    e.\"name\" employer_name,\n",
        "\t                COUNT(DISTINCT v.area_id) region_qty\n",
        "                FROM\n",
        "                    public.vacancies as v\n",
        "                JOIN\n",
        "                    public.employers as e ON e.id = v.employer_id\n",
        "                GROUP BY 1\n",
        "                ORDER BY 2 DESC\n",
        "'''\n",
        "employer_area = pd.read_sql(query_5_3, connection)\n",
        "employer_area.head()"
      ]
    },
    {
      "attachments": {},
      "cell_type": "markdown",
      "id": "1EIvX3HasH4F",
      "metadata": {
        "id": "1EIvX3HasH4F"
      },
      "source": [
        "#### Результат запроса\n",
        "#### На первом месте по охвату регионов стоит Яндекс, что согласуется с предыдущим анализом количества вакансий и говорит о том, что, возможно, в данный период времени компания \"пылесосила\" рынок. \n"
      ]
    },
    {
      "attachments": {},
      "cell_type": "markdown",
      "id": "a04933b8",
      "metadata": {},
      "source": [
        "---"
      ]
    },
    {
      "attachments": {},
      "cell_type": "markdown",
      "id": "eab2206d-d95b-468b-8e5f-34381abf0ce7",
      "metadata": {
        "id": "eab2206d-d95b-468b-8e5f-34381abf0ce7"
      },
      "source": [
        "#### 4. Напишите запрос для подсчёта количества работодателей, у которых не указана сфера деятельности. "
      ]
    },
    {
      "cell_type": "code",
      "execution_count": 89,
      "id": "80defb23-bfb1-4a18-8be6-bf36aa7165d5",
      "metadata": {
        "id": "80defb23-bfb1-4a18-8be6-bf36aa7165d5"
      },
      "outputs": [
        {
          "data": {
            "text/plain": [
              "'Количество работодателей не указавшиъ сферу деятельности: 8419 или 36% от общего количества работодателей'"
            ]
          },
          "execution_count": 89,
          "metadata": {},
          "output_type": "execute_result"
        }
      ],
      "source": [
        "query_5_4 =  '''SELECT \n",
        "                    employers.id\n",
        "                FROM \n",
        "                    public.employers\n",
        "                EXCEPT \n",
        "                SELECT \n",
        "                    employers_industries.employer_id\n",
        "                FROM\n",
        "\t                public.employers_industries                \n",
        "'''\n",
        "empty_empl = pd.read_sql(query_5_4, connection)\n",
        "f'Количество работодателей не указавшиъ сферу деятельности: {len(empty_empl)} \\\n",
        "или {round(len(empty_empl)/len(employers_df)*100)}% от общего количества работодателей'"
      ]
    },
    {
      "attachments": {},
      "cell_type": "markdown",
      "id": "Dp_yCx6ysQSu",
      "metadata": {
        "id": "Dp_yCx6ysQSu"
      },
      "source": [
        "#### Результат запроса\n",
        "#### Количество работодателей не указавшиъ сферу деятельности: 8419 или 36% от общего количества работодателей. Высокий процент работодателей по каким-то причинам не указали сферу деятельности, что может осложнить анализ данного сегмента данных в будущем."
      ]
    },
    {
      "attachments": {},
      "cell_type": "markdown",
      "id": "08e0f38e",
      "metadata": {},
      "source": [
        "---"
      ]
    },
    {
      "attachments": {},
      "cell_type": "markdown",
      "id": "0112af31-f6b0-4e3b-82ab-71296e752e5e",
      "metadata": {
        "id": "0112af31-f6b0-4e3b-82ab-71296e752e5e"
      },
      "source": [
        "#### 5. Напишите запрос, чтобы узнать название компании, находящейся на третьем месте в алфавитном списке (по названию) компаний, у которых указано четыре сферы деятельности. "
      ]
    },
    {
      "cell_type": "code",
      "execution_count": 90,
      "id": "973b0cfc-a972-470a-8b4a-68744ef220c4",
      "metadata": {
        "id": "973b0cfc-a972-470a-8b4a-68744ef220c4"
      },
      "outputs": [
        {
          "data": {
            "text/html": [
              "<div>\n",
              "<style scoped>\n",
              "    .dataframe tbody tr th:only-of-type {\n",
              "        vertical-align: middle;\n",
              "    }\n",
              "\n",
              "    .dataframe tbody tr th {\n",
              "        vertical-align: top;\n",
              "    }\n",
              "\n",
              "    .dataframe thead th {\n",
              "        text-align: right;\n",
              "    }\n",
              "</style>\n",
              "<table border=\"1\" class=\"dataframe\">\n",
              "  <thead>\n",
              "    <tr style=\"text-align: right;\">\n",
              "      <th></th>\n",
              "      <th>name</th>\n",
              "    </tr>\n",
              "  </thead>\n",
              "  <tbody>\n",
              "    <tr>\n",
              "      <th>0</th>\n",
              "      <td>2ГИС</td>\n",
              "    </tr>\n",
              "  </tbody>\n",
              "</table>\n",
              "</div>"
            ],
            "text/plain": [
              "   name\n",
              "0  2ГИС"
            ]
          },
          "execution_count": 90,
          "metadata": {},
          "output_type": "execute_result"
        }
      ],
      "source": [
        "query_5_5 =  '''SELECT \n",
        "                    e.\"name\"\n",
        "                FROM\n",
        "                    public.employers_industries as i\n",
        "                JOIN\n",
        "                    public.employers as e on e.id = i.employer_id\n",
        "                GROUP BY 1\n",
        "                HAVING COUNT(i.industry_id) = 4\n",
        "                ORDER BY 1\n",
        "                OFFSET 2\n",
        "                LIMIT 1               \n",
        "'''\n",
        "temp_var = pd.read_sql(query_5_5, connection)\n",
        "temp_var"
      ]
    },
    {
      "attachments": {},
      "cell_type": "markdown",
      "id": "xsPtpp8EsaED",
      "metadata": {
        "id": "xsPtpp8EsaED"
      },
      "source": [
        "#### Результат запроса\n",
        "#### На третьем месте в алфавитном списке компаний указавших 4 вида деятельности находится 2ГИС"
      ]
    },
    {
      "attachments": {},
      "cell_type": "markdown",
      "id": "23347328",
      "metadata": {},
      "source": [
        "---"
      ]
    },
    {
      "attachments": {},
      "cell_type": "markdown",
      "id": "3bfcfdaf-755d-4d2b-8ed8-326201dc07ab",
      "metadata": {
        "id": "3bfcfdaf-755d-4d2b-8ed8-326201dc07ab"
      },
      "source": [
        "#### 6. С помощью запроса выясните, у какого количества работодателей в качестве сферы деятельности указана Разработка программного обеспечения."
      ]
    },
    {
      "cell_type": "code",
      "execution_count": 91,
      "id": "ad3f270f-2991-47eb-929b-e8f88a55b0d1",
      "metadata": {
        "id": "ad3f270f-2991-47eb-929b-e8f88a55b0d1"
      },
      "outputs": [
        {
          "data": {
            "text/html": [
              "<div>\n",
              "<style scoped>\n",
              "    .dataframe tbody tr th:only-of-type {\n",
              "        vertical-align: middle;\n",
              "    }\n",
              "\n",
              "    .dataframe tbody tr th {\n",
              "        vertical-align: top;\n",
              "    }\n",
              "\n",
              "    .dataframe thead th {\n",
              "        text-align: right;\n",
              "    }\n",
              "</style>\n",
              "<table border=\"1\" class=\"dataframe\">\n",
              "  <thead>\n",
              "    <tr style=\"text-align: right;\">\n",
              "      <th></th>\n",
              "      <th>count</th>\n",
              "    </tr>\n",
              "  </thead>\n",
              "  <tbody>\n",
              "    <tr>\n",
              "      <th>0</th>\n",
              "      <td>3553</td>\n",
              "    </tr>\n",
              "  </tbody>\n",
              "</table>\n",
              "</div>"
            ],
            "text/plain": [
              "   count\n",
              "0   3553"
            ]
          },
          "execution_count": 91,
          "metadata": {},
          "output_type": "execute_result"
        }
      ],
      "source": [
        "query_5_6 =  '''SELECT \n",
        "                    COUNT(e.\"name\")\n",
        "                FROM public.employers as e\n",
        "                JOIN\n",
        "                    public.employers_industries as e_i ON e_i.employer_id = e.id\n",
        "                JOIN\n",
        "                    public.industries as i ON i.id = e_i.industry_id\n",
        "                WHERE i.\"name\" LIKE 'Разработка%'              \n",
        "'''\n",
        "temp_var = pd.read_sql(query_5_6, connection)\n",
        "temp_var"
      ]
    },
    {
      "attachments": {},
      "cell_type": "markdown",
      "id": "H72qxWM0shPR",
      "metadata": {
        "id": "H72qxWM0shPR"
      },
      "source": [
        "#### Результат запроса\n",
        "#### Своей сферой деятельности (помним что некоторые работодатели указали более 1) в формулировке \"Разработка ПО\" указали 3 553 работодателя, в разрезе общего количества эта цифра достаточно низкая, с учетом того что основной массив вакансий представлен в сфере ИТ, вырисовывается интересная картина."
      ]
    },
    {
      "attachments": {},
      "cell_type": "markdown",
      "id": "72474213",
      "metadata": {},
      "source": [
        "---"
      ]
    },
    {
      "attachments": {},
      "cell_type": "markdown",
      "id": "7b02bb86-0546-40fb-94a4-242f050a5c57",
      "metadata": {
        "id": "7b02bb86-0546-40fb-94a4-242f050a5c57"
      },
      "source": [
        "#### 7. Для компании «Яндекс» выведите список регионов-миллионников, в которых представлены вакансии компании, вместе с количеством вакансий в этих регионах. Также добавьте строку Total с общим количеством вакансий компании. Результат отсортируйте по возрастанию количества.\n",
        "\n",
        "#### Список городов-милионников надо взять [отсюда](https://ru.wikipedia.org/wiki/%D0%93%D0%BE%D1%80%D0%BE%D0%B4%D0%B0-%D0%BC%D0%B8%D0%BB%D0%BB%D0%B8%D0%BE%D0%BD%D0%B5%D1%80%D1%8B_%D0%A0%D0%BE%D1%81%D1%81%D0%B8%D0%B8). \n",
        "\n",
        "#### Если возникнут трудности с этим задание посмотрите материалы модуля  PYTHON-17. Как получать данные из веб-источников и API. "
      ]
    },
    {
      "cell_type": "code",
      "execution_count": 92,
      "id": "ZdfrL6gIs1Pn",
      "metadata": {
        "id": "ZdfrL6gIs1Pn"
      },
      "outputs": [],
      "source": [
        "# код для получения списка городов-милионников\n",
        "url = 'https://ru.wikipedia.org/wiki/%D0%93%D0%BE%D1%80%D0%BE%D0%B4%D0%B0-%D0%BC%D0%B8%D0%BB%D0%BB%D0%B8%D0%BE%D0%BD%D0%B5%D1%80%D1%8B_%D0%A0%D0%BE%D1%81%D1%81%D0%B8%D0%B8'\n",
        "req = requests.get(url)\n",
        "soup = BeautifulSoup(req.text, 'html.parser')\n",
        "million_list = []\n",
        "\n",
        "for row in soup.find_all('td'):\n",
        "    for cell in row.find_all('a'):\n",
        "        million_list.append(cell.get('title'))\n",
        "\n",
        "for i in million_list:\n",
        "    if i is None:\n",
        "        million_list.remove(i)\n",
        "\n",
        "million_list = million_list[0:16]\n",
        "million_tuple = tuple(million_list)"
      ]
    },
    {
      "cell_type": "code",
      "execution_count": 107,
      "id": "fae27404",
      "metadata": {},
      "outputs": [
        {
          "data": {
            "text/html": [
              "<div>\n",
              "<style scoped>\n",
              "    .dataframe tbody tr th:only-of-type {\n",
              "        vertical-align: middle;\n",
              "    }\n",
              "\n",
              "    .dataframe tbody tr th {\n",
              "        vertical-align: top;\n",
              "    }\n",
              "\n",
              "    .dataframe thead th {\n",
              "        text-align: right;\n",
              "    }\n",
              "</style>\n",
              "<table border=\"1\" class=\"dataframe\">\n",
              "  <thead>\n",
              "    <tr style=\"text-align: right;\">\n",
              "      <th></th>\n",
              "      <th>region_name</th>\n",
              "      <th>cnt</th>\n",
              "    </tr>\n",
              "  </thead>\n",
              "  <tbody>\n",
              "    <tr>\n",
              "      <th>0</th>\n",
              "      <td>Волгоград</td>\n",
              "      <td>24</td>\n",
              "    </tr>\n",
              "    <tr>\n",
              "      <th>1</th>\n",
              "      <td>Воронеж</td>\n",
              "      <td>32</td>\n",
              "    </tr>\n",
              "    <tr>\n",
              "      <th>2</th>\n",
              "      <td>Екатеринбург</td>\n",
              "      <td>39</td>\n",
              "    </tr>\n",
              "    <tr>\n",
              "      <th>3</th>\n",
              "      <td>Казань</td>\n",
              "      <td>25</td>\n",
              "    </tr>\n",
              "    <tr>\n",
              "      <th>4</th>\n",
              "      <td>Краснодар</td>\n",
              "      <td>30</td>\n",
              "    </tr>\n",
              "    <tr>\n",
              "      <th>5</th>\n",
              "      <td>Красноярск</td>\n",
              "      <td>23</td>\n",
              "    </tr>\n",
              "    <tr>\n",
              "      <th>6</th>\n",
              "      <td>Москва</td>\n",
              "      <td>54</td>\n",
              "    </tr>\n",
              "    <tr>\n",
              "      <th>7</th>\n",
              "      <td>Нижний Новгород</td>\n",
              "      <td>36</td>\n",
              "    </tr>\n",
              "    <tr>\n",
              "      <th>8</th>\n",
              "      <td>Новосибирск</td>\n",
              "      <td>35</td>\n",
              "    </tr>\n",
              "    <tr>\n",
              "      <th>9</th>\n",
              "      <td>Омск</td>\n",
              "      <td>21</td>\n",
              "    </tr>\n",
              "    <tr>\n",
              "      <th>10</th>\n",
              "      <td>Пермь</td>\n",
              "      <td>25</td>\n",
              "    </tr>\n",
              "    <tr>\n",
              "      <th>11</th>\n",
              "      <td>Ростов-на-Дону</td>\n",
              "      <td>25</td>\n",
              "    </tr>\n",
              "    <tr>\n",
              "      <th>12</th>\n",
              "      <td>Самара</td>\n",
              "      <td>26</td>\n",
              "    </tr>\n",
              "    <tr>\n",
              "      <th>13</th>\n",
              "      <td>Санкт-Петербург</td>\n",
              "      <td>42</td>\n",
              "    </tr>\n",
              "    <tr>\n",
              "      <th>14</th>\n",
              "      <td>Уфа</td>\n",
              "      <td>26</td>\n",
              "    </tr>\n",
              "    <tr>\n",
              "      <th>15</th>\n",
              "      <td>Челябинск</td>\n",
              "      <td>22</td>\n",
              "    </tr>\n",
              "    <tr>\n",
              "      <th>16</th>\n",
              "      <td>Total</td>\n",
              "      <td>485</td>\n",
              "    </tr>\n",
              "  </tbody>\n",
              "</table>\n",
              "</div>"
            ],
            "text/plain": [
              "        region_name  cnt\n",
              "0         Волгоград   24\n",
              "1           Воронеж   32\n",
              "2      Екатеринбург   39\n",
              "3            Казань   25\n",
              "4         Краснодар   30\n",
              "5        Красноярск   23\n",
              "6            Москва   54\n",
              "7   Нижний Новгород   36\n",
              "8       Новосибирск   35\n",
              "9              Омск   21\n",
              "10            Пермь   25\n",
              "11   Ростов-на-Дону   25\n",
              "12           Самара   26\n",
              "13  Санкт-Петербург   42\n",
              "14              Уфа   26\n",
              "15        Челябинск   22\n",
              "16            Total  485"
            ]
          },
          "execution_count": 107,
          "metadata": {},
          "output_type": "execute_result"
        }
      ],
      "source": [
        "query_5_7 =  f'''SELECT\n",
        "                    areas.\"name\" as region_name,\n",
        "\t                COUNT(*) as cnt\n",
        "                FROM \n",
        "                    public.vacancies\n",
        "                JOIN\n",
        "                    public.areas ON areas.id = vacancies.area_id\n",
        "                JOIN\n",
        "                    public.employers ON employers.id = vacancies.employer_id\n",
        "                WHERE \n",
        "                (employers.\"name\" = 'Яндекс') AND\n",
        "                (areas.\"name\" IN {million_tuple})\n",
        "                GROUP BY 1\n",
        "'''\n",
        "yandex = pd.read_sql(query_5_7, connection)\n",
        "yandex_total = pd.DataFrame(data={'region_name':['Total'],'cnt':[yandex['cnt'].sum()]})\n",
        "yandex = yandex.append(yandex_total,ignore_index=True)\n",
        "yandex"
      ]
    },
    {
      "attachments": {},
      "cell_type": "markdown",
      "id": "ttPhiO1rsvPq",
      "metadata": {
        "id": "ttPhiO1rsvPq"
      },
      "source": [
        "#### Результат запроса\n",
        "#### Распределение вакансий по регионам достаточно равномерно по городам миллионикам, с двойным отрывом по Москве и СПб, что закономерно в переложении на количество жителей в данных городах. Суммарное количество вакансий от Яндекса в городах-миллиониках совставляет 485."
      ]
    },
    {
      "cell_type": "markdown",
      "id": "04966e40-3bc3-4dc8-9ba2-e80580ce3abc",
      "metadata": {
        "id": "04966e40-3bc3-4dc8-9ba2-e80580ce3abc"
      },
      "source": [
        "***"
      ]
    },
    {
      "attachments": {},
      "cell_type": "markdown",
      "id": "aGGyER-yt4SR",
      "metadata": {
        "id": "aGGyER-yt4SR"
      },
      "source": [
        "### Высокий уровень преобладания компаний IT-сектора, с лидерством по количеству вакансий у компании Яндекс. Достаточно широкий региональный охфат вакансий с предсказуемым акцентом на городах-миллиониках и зарубежных крупных региональных центрах.\n",
        "### Нужно отметить некоторую неполноту данных (треть работодателей не указали свою сферу деятельности), а так же некоторое нарушение структурной целостности таблиц (задание 2 данного блока)"
      ]
    },
    {
      "attachments": {},
      "cell_type": "markdown",
      "id": "b3faee05",
      "metadata": {},
      "source": [
        "---"
      ]
    },
    {
      "cell_type": "markdown",
      "id": "b1ef156a-efcb-49ce-bb23-90763e7f35b2",
      "metadata": {
        "id": "b1ef156a-efcb-49ce-bb23-90763e7f35b2",
        "tags": []
      },
      "source": [
        "# Юнит 6. Предметный анализ"
      ]
    },
    {
      "attachments": {},
      "cell_type": "markdown",
      "id": "b9cd50a0-992d-4988-8463-2b2b1c4629b4",
      "metadata": {
        "id": "b9cd50a0-992d-4988-8463-2b2b1c4629b4"
      },
      "source": [
        "#### 1. Сколько вакансий имеет отношение к данным?\n",
        "\n",
        "#### Считаем, что вакансия имеет отношение к данным, если в её названии содержатся слова 'data' или 'данн'.\n",
        "\n",
        "#### *Подсказка: Обратите внимание, что названия вакансий могут быть написаны в любом регистре.* \n"
      ]
    },
    {
      "cell_type": "code",
      "execution_count": 94,
      "id": "54ab0e50-c0f1-47cc-a54b-bc5c8bc363f9",
      "metadata": {
        "id": "54ab0e50-c0f1-47cc-a54b-bc5c8bc363f9"
      },
      "outputs": [
        {
          "data": {
            "text/plain": [
              "'Количество вакансий связаных с ключевым словом:   count\\n0   1771 или    count\\n0    3.6% от общего количества вакансий'"
            ]
          },
          "execution_count": 94,
          "metadata": {},
          "output_type": "execute_result"
        }
      ],
      "source": [
        "query_6_1 =  '''SELECT \n",
        "                    COUNT(*)\n",
        "                FROM \n",
        "                    public.vacancies\n",
        "                WHERE \n",
        "                    (\"name\" LIKE '%data%') OR \n",
        "\t                (\"name\" LIKE '%Data%') OR\n",
        "                    (\"name\" LIKE '%данн%') OR \n",
        "\t                (\"name\" LIKE '%Данн%') OR \n",
        "\t                (\"name\" LIKE '%DATA%')\n",
        "'''\n",
        "data_connected_vac = pd.read_sql(query_6_1, connection)\n",
        "\n",
        "f'Количество вакансий связаных с ключевым словом:{data_connected_vac} \\\n",
        "или {round(data_connected_vac/cnt_of_vac*100,2)}% от общего количества вакансий'"
      ]
    },
    {
      "attachments": {},
      "cell_type": "markdown",
      "id": "9F1meAqsuUjd",
      "metadata": {
        "id": "9F1meAqsuUjd"
      },
      "source": [
        "#### Результат запроса\n",
        "#### В данном блоке данных 1 771 вакансия связаных с \"данными\" или \"data\" в том или ином виде, что состовдяет порядка 3,6% от общего количества вакансий в датасете."
      ]
    },
    {
      "attachments": {},
      "cell_type": "markdown",
      "id": "710c50b0",
      "metadata": {},
      "source": [
        "---"
      ]
    },
    {
      "attachments": {},
      "cell_type": "markdown",
      "id": "4dea20cb-a36b-474a-a0b9-e08e8e3857a5",
      "metadata": {
        "id": "4dea20cb-a36b-474a-a0b9-e08e8e3857a5"
      },
      "source": [
        "#### 2. Сколько есть подходящих вакансий для начинающего дата-сайентиста? \n",
        "#### Будем считать вакансиями для дата-сайентистов такие, в названии которых есть хотя бы одно из следующих сочетаний:\n",
        "#### * 'data scientist'\n",
        "#### * 'data science'\n",
        "#### * 'исследователь данных'\n",
        "#### * 'ML' (здесь не нужно брать вакансии по HTML)\n",
        "#### * 'machine learning'\n",
        "#### * 'машинн%обучен%'\n",
        "\n",
        "#### ** В следующих заданиях мы продолжим работать с вакансиями по этому условию.*\n",
        "\n",
        "#### Считаем вакансиями для специалистов уровня Junior следующие:\n",
        "#### * в названии есть слово 'junior' *или*\n",
        "#### * требуемый опыт — Нет опыта *или*\n",
        "#### * тип трудоустройства — Стажировка.\n",
        " "
      ]
    },
    {
      "cell_type": "code",
      "execution_count": 108,
      "id": "0351806e",
      "metadata": {},
      "outputs": [
        {
          "data": {
            "text/plain": [
              "51"
            ]
          },
          "execution_count": 108,
          "metadata": {},
          "output_type": "execute_result"
        }
      ],
      "source": [
        "query_6_2 =  '''SELECT\n",
        "\t                *\t\n",
        "                FROM \n",
        "                    vacancies as v\n",
        "                WHERE \n",
        "                    (LOWER (v.name) LIKE '%data scientist%' OR \n",
        "\t                LOWER (v.name) LIKE '%data science%' OR \n",
        "\t                LOWER (v.name) LIKE '%исследователь данных%' OR \n",
        "\t                (v.name LIKE '%ML%' AND v.name NOT LIKE '%HTML%') OR \n",
        "\t                LOWER (v.name) LIKE '%machine learning%' OR \n",
        "\t                LOWER (v.name) LIKE '%машинн%обучен%')\n",
        "                    \n",
        "                    AND (LOWER (v.name) LIKE '%junior%' OR \n",
        "\t\t            v.experience LIKE 'Нет опыта' OR \n",
        "\t\t            v.employment LIKE 'Стажировка')\n",
        "'''\n",
        "junior_ds = pd.read_sql(query_6_2, connection)\n",
        "junior_ds.shape[0]"
      ]
    },
    {
      "attachments": {},
      "cell_type": "markdown",
      "id": "ZNM-LLYuu1dj",
      "metadata": {
        "id": "ZNM-LLYuu1dj"
      },
      "source": [
        "#### Результат запроса\n",
        "#### 51 вакансия за джунами датасаентистами, весьма малораспространенныый тип вакансий исходя из общего количества."
      ]
    },
    {
      "attachments": {},
      "cell_type": "markdown",
      "id": "825412d4",
      "metadata": {},
      "source": [
        "---"
      ]
    },
    {
      "attachments": {},
      "cell_type": "markdown",
      "id": "eedceb80-c5ca-480e-b27a-278dfb8b4438",
      "metadata": {
        "id": "eedceb80-c5ca-480e-b27a-278dfb8b4438"
      },
      "source": [
        "#### 3. Сколько есть вакансий для DS, в которых в качестве ключевого навыка указан SQL или postgres?\n",
        "\n",
        "#### ** Критерии для отнесения вакансии к DS указаны в предыдущем задании.*"
      ]
    },
    {
      "cell_type": "code",
      "execution_count": 96,
      "id": "69621713-0cc5-4f1b-a1d7-bb144fa6148c",
      "metadata": {
        "id": "69621713-0cc5-4f1b-a1d7-bb144fa6148c"
      },
      "outputs": [
        {
          "data": {
            "text/plain": [
              "201"
            ]
          },
          "execution_count": 96,
          "metadata": {},
          "output_type": "execute_result"
        }
      ],
      "source": [
        "query_6_3 =  '''SELECT\n",
        "\t                *\t\n",
        "                FROM \n",
        "                    vacancies as v\n",
        "                WHERE \n",
        "                    (LOWER (v.name) LIKE '%data scientist%' OR \n",
        "\t                LOWER (v.name) LIKE '%data science%' OR \n",
        "\t                LOWER (v.name) LIKE '%исследователь данных%' OR \n",
        "\t                (v.name LIKE '%ML%' AND v.name NOT LIKE '%HTML%') OR \n",
        "\t                LOWER (v.name) LIKE '%machine learning%' OR \n",
        "\t                LOWER (v.name) LIKE '%машинн%обучен%')\n",
        "                    \n",
        "                    AND (LOWER (v.key_skills) LIKE '%sql%' OR \n",
        "\t\t            LOWER (v.key_skills) LIKE '%postgres%')\n",
        "'''\n",
        "sql_skill_ds = pd.read_sql(query_6_3, connection)\n",
        "sql_skill_ds.shape[0]"
      ]
    },
    {
      "attachments": {},
      "cell_type": "markdown",
      "id": "alA8WEAAvGdf",
      "metadata": {
        "id": "alA8WEAAvGdf"
      },
      "source": [
        "#### Результат запроса\n",
        "#### 201 вакансия требует как один из ключевых навыков умение взаимодействовать с СУБД."
      ]
    },
    {
      "attachments": {},
      "cell_type": "markdown",
      "id": "82a09ffd",
      "metadata": {},
      "source": [
        "---"
      ]
    },
    {
      "attachments": {},
      "cell_type": "markdown",
      "id": "1be1e9c6-37cf-4a5f-bfeb-04cab799dc80",
      "metadata": {
        "id": "1be1e9c6-37cf-4a5f-bfeb-04cab799dc80"
      },
      "source": [
        "#### 4. Проверьте, насколько популярен Python в требованиях работодателей к DS.Для этого вычислите количество вакансий, в которых в качестве ключевого навыка указан Python.\n",
        "\n",
        "#### ** Это можно сделать помощью запроса, аналогичного предыдущему.*"
      ]
    },
    {
      "cell_type": "code",
      "execution_count": 97,
      "id": "0036a355-9ccf-4564-8b01-73d8194297e7",
      "metadata": {
        "id": "0036a355-9ccf-4564-8b01-73d8194297e7"
      },
      "outputs": [
        {
          "data": {
            "text/plain": [
              "351"
            ]
          },
          "execution_count": 97,
          "metadata": {},
          "output_type": "execute_result"
        }
      ],
      "source": [
        "query_6_4 =  '''SELECT\n",
        "\t                *\t\n",
        "                FROM \n",
        "                    vacancies as v\n",
        "                WHERE \n",
        "                    (LOWER (v.name) LIKE '%data scientist%' OR \n",
        "\t                LOWER (v.name) LIKE '%data science%' OR \n",
        "\t                LOWER (v.name) LIKE '%исследователь данных%' OR \n",
        "\t                (v.name LIKE '%ML%' AND v.name NOT LIKE '%HTML%') OR \n",
        "\t                LOWER (v.name) LIKE '%machine learning%' OR \n",
        "\t                LOWER (v.name) LIKE '%машинн%обучен%')\n",
        "                    \n",
        "                    AND (LOWER (v.key_skills) LIKE '%python%')\n",
        "'''\n",
        "python_ds = pd.read_sql(query_6_4, connection)\n",
        "python_ds.shape[0]"
      ]
    },
    {
      "attachments": {},
      "cell_type": "markdown",
      "id": "1i-5WyucvQ6v",
      "metadata": {
        "id": "1i-5WyucvQ6v"
      },
      "source": [
        "#### Результат запроса\n",
        "#### 351 вакансия требует как один из ключевых навыков умение программировать на python."
      ]
    },
    {
      "attachments": {},
      "cell_type": "markdown",
      "id": "14a370d5",
      "metadata": {},
      "source": [
        "---"
      ]
    },
    {
      "attachments": {},
      "cell_type": "markdown",
      "id": "ec3c8db7-fa21-4a41-a994-1af63742a642",
      "metadata": {
        "id": "ec3c8db7-fa21-4a41-a994-1af63742a642"
      },
      "source": [
        "#### 5. Сколько ключевых навыков в среднем указывают в вакансиях для DS?\n",
        "#### Ответ округлите до двух знаков после точки-разделителя."
      ]
    },
    {
      "cell_type": "code",
      "execution_count": 98,
      "id": "949132bc-d5b6-4611-8218-0b9a504d74f4",
      "metadata": {
        "id": "949132bc-d5b6-4611-8218-0b9a504d74f4"
      },
      "outputs": [
        {
          "data": {
            "text/plain": [
              "avg    6.41\n",
              "Name: 0, dtype: float64"
            ]
          },
          "execution_count": 98,
          "metadata": {},
          "output_type": "execute_result"
        }
      ],
      "source": [
        "query_6_5 =  '''SELECT\n",
        "                    AVG(LENGTH(v.key_skills) - LENGTH(replace(v.key_skills, CHR(9), '')) +1)\t\n",
        "                FROM \n",
        "                    vacancies as v\n",
        "                WHERE \n",
        "                    (LOWER (v.name) LIKE '%data scientist%' OR \n",
        "\t                LOWER (v.name) LIKE '%data science%' OR \n",
        "\t                LOWER (v.name) LIKE '%исследователь данных%' OR \n",
        "\t                (v.name LIKE '%ML%' AND v.name NOT LIKE '%HTML%') OR \n",
        "\t                LOWER (v.name) LIKE '%machine learning%' OR \n",
        "\t                LOWER (v.name) LIKE '%машинн%обучен%')\n",
        "'''\n",
        "avg_skill_ds = pd.read_sql(query_6_5, connection)\n",
        "round(avg_skill_ds.iloc[0],2)"
      ]
    },
    {
      "attachments": {},
      "cell_type": "markdown",
      "id": "a3V24Tvmviqk",
      "metadata": {
        "id": "a3V24Tvmviqk"
      },
      "source": [
        "#### Результат запроса\n",
        "#### В среднем на вакансию с DS требуются кандидаты обладающие 6-7 ключевыми навыками, что говорит о высоком уровне ожидаемых компетенций."
      ]
    },
    {
      "attachments": {},
      "cell_type": "markdown",
      "id": "e7ec01fe",
      "metadata": {},
      "source": [
        "---"
      ]
    },
    {
      "attachments": {},
      "cell_type": "markdown",
      "id": "1041c17a-ca8f-4543-a0ca-32778914fb00",
      "metadata": {
        "id": "1041c17a-ca8f-4543-a0ca-32778914fb00"
      },
      "source": [
        "#### 6. Напишите запрос, позволяющий вычислить, какую зарплату для DS в **среднем** указывают для каждого типа требуемого опыта (уникальное значение из поля *experience*). \n",
        "\n",
        "#### При решении задачи примите во внимание следующее:\n",
        "#### 1. Рассматриваем только вакансии, у которых заполнено хотя бы одно из двух полей с зарплатой.\n",
        "#### 2. Если заполнены оба поля с зарплатой, то считаем зарплату по каждой вакансии как сумму двух полей, делённую на 2. Если заполнено только одно из полей, то его и считаем зарплатой по вакансии.\n",
        "#### 3. Если в расчётах участвует null, в результате он тоже даст null (посмотрите, что возвращает запрос select 1 + null). Чтобы избежать этой ситуацию, мы воспользуемся функцией [coalesce](https://postgrespro.ru/docs/postgresql/9.5/functions-conditional#functions-coalesce-nvl-ifnull), которая заменит null на значение, которое мы передадим. Например, посмотрите, что возвращает запрос `select 1 + coalesce(null, 0)`\n",
        "\n",
        "#### Выясните, на какую зарплату в среднем может рассчитывать дата-сайентист с опытом работы от 3 до 6 лет. Результат округлите до целого числа. "
      ]
    },
    {
      "cell_type": "code",
      "execution_count": 99,
      "id": "6a743d39-5204-48d3-8271-b9f88e68d40e",
      "metadata": {
        "id": "6a743d39-5204-48d3-8271-b9f88e68d40e"
      },
      "outputs": [
        {
          "data": {
            "text/html": [
              "<div>\n",
              "<style scoped>\n",
              "    .dataframe tbody tr th:only-of-type {\n",
              "        vertical-align: middle;\n",
              "    }\n",
              "\n",
              "    .dataframe tbody tr th {\n",
              "        vertical-align: top;\n",
              "    }\n",
              "\n",
              "    .dataframe thead th {\n",
              "        text-align: right;\n",
              "    }\n",
              "</style>\n",
              "<table border=\"1\" class=\"dataframe\">\n",
              "  <thead>\n",
              "    <tr style=\"text-align: right;\">\n",
              "      <th></th>\n",
              "      <th>experience</th>\n",
              "      <th>round</th>\n",
              "    </tr>\n",
              "  </thead>\n",
              "  <tbody>\n",
              "    <tr>\n",
              "      <th>0</th>\n",
              "      <td>Нет опыта</td>\n",
              "      <td>74643.0</td>\n",
              "    </tr>\n",
              "    <tr>\n",
              "      <th>1</th>\n",
              "      <td>От 1 года до 3 лет</td>\n",
              "      <td>139675.0</td>\n",
              "    </tr>\n",
              "    <tr>\n",
              "      <th>2</th>\n",
              "      <td>От 3 до 6 лет</td>\n",
              "      <td>243115.0</td>\n",
              "    </tr>\n",
              "  </tbody>\n",
              "</table>\n",
              "</div>"
            ],
            "text/plain": [
              "           experience     round\n",
              "0           Нет опыта   74643.0\n",
              "1  От 1 года до 3 лет  139675.0\n",
              "2       От 3 до 6 лет  243115.0"
            ]
          },
          "execution_count": 99,
          "metadata": {},
          "output_type": "execute_result"
        }
      ],
      "source": [
        "query_6_6 =  '''SELECT\n",
        "                    v.experience,\n",
        "                    round(avg(coalesce(\n",
        "\t\t                (v.salary_from+v.salary_to)/2, \n",
        "\t\t                v.salary_from, \n",
        "\t\t                v.salary_to)),0)\n",
        "                FROM public.vacancies as v\n",
        "                WHERE \n",
        "                    (LOWER (v.name) LIKE '%data scientist%' OR \n",
        "\t                LOWER (v.name) LIKE '%data science%' OR \n",
        "\t                LOWER (v.name) LIKE '%исследователь данных%' OR \n",
        "\t                (v.name LIKE '%ML%' AND v.name NOT LIKE '%HTML%') OR \n",
        "\t                LOWER (v.name) LIKE '%machine learning%' OR \n",
        "\t                LOWER (v.name) LIKE '%машинн%обучен%')\n",
        "                    AND (salary_from IS NOT NULL OR salary_to IS NOT NULL)\n",
        "                GROUP BY 1\n",
        "'''\n",
        "avg_sallary_ds = pd.read_sql(query_6_6, connection)\n",
        "avg_sallary_ds"
      ]
    },
    {
      "attachments": {},
      "cell_type": "markdown",
      "id": "aRIJ0mZEwU1_",
      "metadata": {
        "id": "aRIJ0mZEwU1_"
      },
      "source": [
        "#### Результат запроса\n",
        "#### Можно сказать, что прогрессия зп плюс минус поступательна - идет примерное удвоение зп при переходе между заданными уровнями квалификации, конечно для определения характера прогрессии и условного модификатора зп групп мало, но можно все же предположить, что опыт 6-9 лет будет оплачиваться вдвое выше чем опыт 3-6. Так же стоит отметить, что отрасль DS выглядит весьма интересно для новичков с учетом более высокой средней зп."
      ]
    },
    {
      "cell_type": "markdown",
      "id": "6a7892b4-4113-4746-adce-18aa2844f18e",
      "metadata": {
        "id": "6a7892b4-4113-4746-adce-18aa2844f18e"
      },
      "source": [
        "***"
      ]
    },
    {
      "attachments": {},
      "cell_type": "markdown",
      "id": "UjLWUptVwY1o",
      "metadata": {
        "id": "UjLWUptVwY1o"
      },
      "source": [
        "#### Выводы по предметному анализу\n",
        "#### При анализе предметной области DS было выявлено несколько моментов:\n",
        "#### 1. Количество вакансий в области DS имеет достаточно узкое представление в разрезе общего количества вакансий, что говорит о \"свежести\" данной области на рынке РФ.\n",
        "#### 2. Количество требуемых компетенций в среднем колеблется в районе 6 навыков, что говорит о требовательности профессии к навыкам работника и может являться косвенным признаком достаточно низкого количества вакансий рассмотренного в пункте выше.\n",
        "#### 3. Ключевыми навыками для датасайентиста можно выделить умение программировать на python, умение работать с СУБД.\n",
        "#### 4. Зарплата в области имеет достаточную прогнозируемость в прогрессии. а так же имеет для категории без опыта показатель выше средней."
      ]
    },
    {
      "attachments": {},
      "cell_type": "markdown",
      "id": "82969195",
      "metadata": {},
      "source": [
        "---"
      ]
    },
    {
      "attachments": {},
      "cell_type": "markdown",
      "id": "c0ED6fh7wiBT",
      "metadata": {
        "id": "c0ED6fh7wiBT"
      },
      "source": [
        "### Общий вывод по проекту"
      ]
    },
    {
      "attachments": {},
      "cell_type": "markdown",
      "id": "905dba57",
      "metadata": {},
      "source": [
        "#### Подводя итоги можно отметить следующие моменты:\n",
        "##### 1. Рынок вакансий насыщен IT специальностями с достаточно высокими средними зарплатами и достаточно низкими требованиями к опыту.\n",
        "##### 2. Ряд компаний, в частности Яндекс реализует стратегию экспансии или \"пылесосит\" кадры на рынке труда, обычно подобное поведение заставляет конкурентов вести себя подобным же образом, что может приводить к увеличению зп и снижению требований к кандидатом, обычно это триггер для формирования \"пузыря\" на рынке, что в конечном счете приводит к резкому развороту и сворачиванию как масштабов проектов, так и масштабов найма.\n",
        "##### 3. Сектор DS представлен достаточно узко, что, исходя из мировой тенденции, является не флагом невостребованности, а скорее зарождения направления, так же надо учитывать, что количество ключевых скилов в данной отрасли в среднем превосходит другие группы представленных вакансий и накладывает жесткие рамки для кандидатов.\n",
        "##### 4. Сектор DS имеет достаточно высокий средний уровень зп для всех представленных групп опыта, что так же может стимулировать дальнейшее расширение предложения на рынке труда ввиду увеличивающегося спроса со стороны соискателей.\n",
        "##### 5. Пессимистичное отсупление. Ввиду того факта, что на рынке IT формируется пузырь, есть вероятность, что после коллапса область DS может, как чувствительная по слабой представленности, схлопнуться на ближайшие 2-3 года полностью, повторив судьбу ряда специальностей эпохи дот-коммов и кризиса 2008 года."
      ]
    }
  ],
  "metadata": {
    "colab": {
      "collapsed_sections": [
        "8d62a9f3-f64e-4fe7-bdac-c4dffa16155e"
      ],
      "provenance": []
    },
    "kernelspec": {
      "display_name": "Python 3",
      "language": "python",
      "name": "python3"
    },
    "language_info": {
      "codemirror_mode": {
        "name": "ipython",
        "version": 3
      },
      "file_extension": ".py",
      "mimetype": "text/x-python",
      "name": "python",
      "nbconvert_exporter": "python",
      "pygments_lexer": "ipython3",
      "version": "3.11.0"
    },
    "vscode": {
      "interpreter": {
        "hash": "aee8b7b246df8f9039afb4144a1f6fd8d2ca17a180786b69acc140d282b71a49"
      }
    }
  },
  "nbformat": 4,
  "nbformat_minor": 5
}
