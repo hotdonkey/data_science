{
 "cells": [
  {
   "cell_type": "code",
   "execution_count": 3,
   "metadata": {},
   "outputs": [],
   "source": [
    "import psycopg2\n",
    "import pandas as pd\n",
    "\n",
    "#Блок входа в базу данных Slillfactory без засвета параметров\n",
    "db_params = pd.read_csv('/Users/hotdonkey/Documents/GitHub/data_science_learning/Project_2/db_params.csv', sep=';')\n",
    "\n",
    "\n",
    "connection = psycopg2.connect(\n",
    "    dbname=db_params['DBNAME'].values[0],\n",
    "    user=db_params['USER'].values[0],\n",
    "    host=db_params['HOST'].values[0],\n",
    "    password=db_params['PASSWORD'].values[0],\n",
    "    port=db_params['PORT'].values[0]\n",
    ")\n"
   ]
  }
 ],
 "metadata": {
  "kernelspec": {
   "display_name": "Python 3.11.0 64-bit",
   "language": "python",
   "name": "python3"
  },
  "language_info": {
   "codemirror_mode": {
    "name": "ipython",
    "version": 3
   },
   "file_extension": ".py",
   "mimetype": "text/x-python",
   "name": "python",
   "nbconvert_exporter": "python",
   "pygments_lexer": "ipython3",
   "version": "3.11.0 (v3.11.0:deaf509e8f, Oct 24 2022, 14:43:23) [Clang 13.0.0 (clang-1300.0.29.30)]"
  },
  "orig_nbformat": 4,
  "vscode": {
   "interpreter": {
    "hash": "aee8b7b246df8f9039afb4144a1f6fd8d2ca17a180786b69acc140d282b71a49"
   }
  }
 },
 "nbformat": 4,
 "nbformat_minor": 2
}
