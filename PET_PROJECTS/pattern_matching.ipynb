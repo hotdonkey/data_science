{
 "cells": [
  {
   "cell_type": "code",
   "execution_count": 3,
   "metadata": {},
   "outputs": [
    {
     "name": "stdout",
     "output_type": "stream",
     "text": [
      "handler 200\n"
     ]
    }
   ],
   "source": [
    "OK = 200\n",
    "CONFLICT = 409\n",
    "\n",
    "response = {'status': 409, 'msg': 'database error'}\n",
    "match response['status'], response['msg']:\n",
    "    case OK, ok_msg:\n",
    "        print('handler 200')\n",
    "    case CONFLICT, err_msg:\n",
    "        print('handler 409')\n",
    "    case _:\n",
    "        print('idk this status')"
   ]
  },
  {
   "cell_type": "code",
   "execution_count": 3,
   "metadata": {},
   "outputs": [
    {
     "name": "stdout",
     "output_type": "stream",
     "text": [
      "asnwer is 42\n"
     ]
    }
   ],
   "source": [
    "answer = [42]\n",
    "match answer:\n",
    "    case []:   \n",
    "        print('i do not find answer')\n",
    "    case [x]:\n",
    "        print('asnwer is 42')\n",
    "    case [x, *_]:\n",
    "        print('i find more than one answers')"
   ]
  },
  {
   "cell_type": "code",
   "execution_count": 4,
   "metadata": {},
   "outputs": [
    {
     "name": "stdout",
     "output_type": "stream",
     "text": [
      "i find positional args and one keyword args\n"
     ]
    }
   ],
   "source": [
    "args = (1, 2)\n",
    "kwargs = {'kwarg': 'kwarg', 'one_more_kwarg': 'one_more_kwarg'}\n",
    "\n",
    "def match_something(*args, **kwargs):\n",
    "    match (args, kwargs):\n",
    "        case (arg1, arg2), {'kwarg': kwarg}:\n",
    "            print('i find positional args and one keyword args')\n",
    "        case (arg1, arg2), {'kwarg': kwarg, 'one_more_kwarg': one_more_kwarg}:\n",
    "            print('i find a few keyword args')\n",
    "        case _:\n",
    "            print('i cannot match anything')\n",
    "\n",
    "match_something(*args, **kwargs)"
   ]
  },
  {
   "cell_type": "code",
   "execution_count": 17,
   "metadata": {},
   "outputs": [
    {
     "name": "stdout",
     "output_type": "stream",
     "text": [
      "Point in the plane XY\n"
     ]
    }
   ],
   "source": [
    "from dataclasses import dataclass\n",
    "\n",
    "@dataclass\n",
    "class Coordinate:\n",
    "    x: int\n",
    "    y: int\n",
    "    z: int\n",
    "\n",
    "coordinate = Coordinate(0, 0, 0)\n",
    "match coordinate:\n",
    "    case Coordinate(3, 2, 2):\n",
    "        print('Zero point')\n",
    "    case Coordinate(x, y, z) if z == 0:\n",
    "        print('Point in the plane XY')    \n",
    "    case _:\n",
    "        print('Another point')"
   ]
  },
  {
   "cell_type": "code",
   "execution_count": 21,
   "metadata": {},
   "outputs": [
    {
     "name": "stdout",
     "output_type": "stream",
     "text": [
      "Another Сoordinate\n"
     ]
    }
   ],
   "source": [
    "class Coordinate:\n",
    "    __match_args__ = ['x', 'y', 'z']\n",
    "\n",
    "    def __init__(self, x, y, z):\n",
    "        self.x = x\n",
    "        self.y = y\n",
    "        self.z = z\n",
    "\n",
    "сoordinate = Coordinate(1, 2, 0)\n",
    "match Coordinate:\n",
    "    case Coordinate(0, 0, 0):\n",
    "        print('Zero Сoordinate')\n",
    "    case Coordinate(x, y, z) if z == 0:\n",
    "        print('Сoordinate in the plane Z')\n",
    "    case _:\n",
    "        print('Another Сoordinate')"
   ]
  },
  {
   "cell_type": "code",
   "execution_count": null,
   "metadata": {},
   "outputs": [],
   "source": []
  }
 ],
 "metadata": {
  "kernelspec": {
   "display_name": "Python 3",
   "language": "python",
   "name": "python3"
  },
  "language_info": {
   "codemirror_mode": {
    "name": "ipython",
    "version": 3
   },
   "file_extension": ".py",
   "mimetype": "text/x-python",
   "name": "python",
   "nbconvert_exporter": "python",
   "pygments_lexer": "ipython3",
   "version": "3.11.7"
  }
 },
 "nbformat": 4,
 "nbformat_minor": 2
}
