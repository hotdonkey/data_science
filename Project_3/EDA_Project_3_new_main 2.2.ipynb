{
 "cells": [
  {
   "attachments": {},
   "cell_type": "markdown",
   "metadata": {},
   "source": [
    "#Блок установки пакетов\n",
    "!pip install numpy\n",
    "!pip install pandas\n",
    "!pip install sklearn\n",
    "!pip install scikit-learn\n",
    "!pip install requests\n",
    "!pip install geopy"
   ]
  },
  {
   "cell_type": "code",
   "execution_count": 50,
   "metadata": {},
   "outputs": [],
   "source": [
    "import pandas as pd\n",
    "import numpy as np\n",
    "import re\n",
    "import requests\n",
    "from geopy.distance import geodesic\n",
    "from geopy.geocoders import Nominatim\n",
    "import seaborn as sns\n",
    "from bs4 import BeautifulSoup\n",
    "import time\n",
    "from afinn import Afinn"
   ]
  },
  {
   "cell_type": "code",
   "execution_count": 51,
   "metadata": {},
   "outputs": [
    {
     "data": {
      "text/html": [
       "<div>\n",
       "<style scoped>\n",
       "    .dataframe tbody tr th:only-of-type {\n",
       "        vertical-align: middle;\n",
       "    }\n",
       "\n",
       "    .dataframe tbody tr th {\n",
       "        vertical-align: top;\n",
       "    }\n",
       "\n",
       "    .dataframe thead th {\n",
       "        text-align: right;\n",
       "    }\n",
       "</style>\n",
       "<table border=\"1\" class=\"dataframe\">\n",
       "  <thead>\n",
       "    <tr style=\"text-align: right;\">\n",
       "      <th></th>\n",
       "      <th>hotel_address</th>\n",
       "      <th>additional_number_of_scoring</th>\n",
       "      <th>review_date</th>\n",
       "      <th>average_score</th>\n",
       "      <th>hotel_name</th>\n",
       "      <th>reviewer_nationality</th>\n",
       "      <th>negative_review</th>\n",
       "      <th>review_total_negative_word_counts</th>\n",
       "      <th>total_number_of_reviews</th>\n",
       "      <th>positive_review</th>\n",
       "      <th>review_total_positive_word_counts</th>\n",
       "      <th>total_number_of_reviews_reviewer_has_given</th>\n",
       "      <th>reviewer_score</th>\n",
       "      <th>tags</th>\n",
       "      <th>days_since_review</th>\n",
       "      <th>lat</th>\n",
       "      <th>lng</th>\n",
       "    </tr>\n",
       "  </thead>\n",
       "  <tbody>\n",
       "    <tr>\n",
       "      <th>0</th>\n",
       "      <td>Stratton Street Mayfair Westminster Borough Lo...</td>\n",
       "      <td>581</td>\n",
       "      <td>2/19/2016</td>\n",
       "      <td>8.4</td>\n",
       "      <td>The May Fair Hotel</td>\n",
       "      <td>United Kingdom</td>\n",
       "      <td>Leaving</td>\n",
       "      <td>3</td>\n",
       "      <td>1994</td>\n",
       "      <td>Staff were amazing</td>\n",
       "      <td>4</td>\n",
       "      <td>7</td>\n",
       "      <td>10.0</td>\n",
       "      <td>[' Leisure trip ', ' Couple ', ' Studio Suite ...</td>\n",
       "      <td>531 day</td>\n",
       "      <td>51.507894</td>\n",
       "      <td>-0.143671</td>\n",
       "    </tr>\n",
       "    <tr>\n",
       "      <th>1</th>\n",
       "      <td>130 134 Southampton Row Camden London WC1B 5AF...</td>\n",
       "      <td>299</td>\n",
       "      <td>1/12/2017</td>\n",
       "      <td>8.3</td>\n",
       "      <td>Mercure London Bloomsbury Hotel</td>\n",
       "      <td>United Kingdom</td>\n",
       "      <td>poor breakfast</td>\n",
       "      <td>3</td>\n",
       "      <td>1361</td>\n",
       "      <td>location</td>\n",
       "      <td>2</td>\n",
       "      <td>14</td>\n",
       "      <td>6.3</td>\n",
       "      <td>[' Business trip ', ' Couple ', ' Standard Dou...</td>\n",
       "      <td>203 day</td>\n",
       "      <td>51.521009</td>\n",
       "      <td>-0.123097</td>\n",
       "    </tr>\n",
       "    <tr>\n",
       "      <th>2</th>\n",
       "      <td>151 bis Rue de Rennes 6th arr 75006 Paris France</td>\n",
       "      <td>32</td>\n",
       "      <td>10/18/2016</td>\n",
       "      <td>8.9</td>\n",
       "      <td>Legend Saint Germain by Elegancia</td>\n",
       "      <td>China</td>\n",
       "      <td>No kettle in room</td>\n",
       "      <td>6</td>\n",
       "      <td>406</td>\n",
       "      <td>No Positive</td>\n",
       "      <td>0</td>\n",
       "      <td>14</td>\n",
       "      <td>7.5</td>\n",
       "      <td>[' Leisure trip ', ' Solo traveler ', ' Modern...</td>\n",
       "      <td>289 day</td>\n",
       "      <td>48.845377</td>\n",
       "      <td>2.325643</td>\n",
       "    </tr>\n",
       "  </tbody>\n",
       "</table>\n",
       "</div>"
      ],
      "text/plain": [
       "                                       hotel_address  \\\n",
       "0  Stratton Street Mayfair Westminster Borough Lo...   \n",
       "1  130 134 Southampton Row Camden London WC1B 5AF...   \n",
       "2   151 bis Rue de Rennes 6th arr 75006 Paris France   \n",
       "\n",
       "   additional_number_of_scoring review_date  average_score  \\\n",
       "0                           581   2/19/2016            8.4   \n",
       "1                           299   1/12/2017            8.3   \n",
       "2                            32  10/18/2016            8.9   \n",
       "\n",
       "                          hotel_name reviewer_nationality  \\\n",
       "0                 The May Fair Hotel      United Kingdom    \n",
       "1    Mercure London Bloomsbury Hotel      United Kingdom    \n",
       "2  Legend Saint Germain by Elegancia               China    \n",
       "\n",
       "       negative_review  review_total_negative_word_counts  \\\n",
       "0             Leaving                                   3   \n",
       "1       poor breakfast                                  3   \n",
       "2   No kettle in room                                   6   \n",
       "\n",
       "   total_number_of_reviews      positive_review  \\\n",
       "0                     1994   Staff were amazing   \n",
       "1                     1361             location   \n",
       "2                      406          No Positive   \n",
       "\n",
       "   review_total_positive_word_counts  \\\n",
       "0                                  4   \n",
       "1                                  2   \n",
       "2                                  0   \n",
       "\n",
       "   total_number_of_reviews_reviewer_has_given  reviewer_score  \\\n",
       "0                                           7            10.0   \n",
       "1                                          14             6.3   \n",
       "2                                          14             7.5   \n",
       "\n",
       "                                                tags days_since_review  \\\n",
       "0  [' Leisure trip ', ' Couple ', ' Studio Suite ...           531 day   \n",
       "1  [' Business trip ', ' Couple ', ' Standard Dou...           203 day   \n",
       "2  [' Leisure trip ', ' Solo traveler ', ' Modern...           289 day   \n",
       "\n",
       "         lat       lng  \n",
       "0  51.507894 -0.143671  \n",
       "1  51.521009 -0.123097  \n",
       "2  48.845377  2.325643  "
      ]
     },
     "execution_count": 51,
     "metadata": {},
     "output_type": "execute_result"
    }
   ],
   "source": [
    "hotels = pd.read_csv('./data/hotels.csv')\n",
    "hotels.head(3)"
   ]
  },
  {
   "cell_type": "code",
   "execution_count": 52,
   "metadata": {},
   "outputs": [
    {
     "name": "stdout",
     "output_type": "stream",
     "text": [
      "<class 'pandas.core.frame.DataFrame'>\n",
      "RangeIndex: 386803 entries, 0 to 386802\n",
      "Data columns (total 17 columns):\n",
      " #   Column                                      Non-Null Count   Dtype  \n",
      "---  ------                                      --------------   -----  \n",
      " 0   hotel_address                               386803 non-null  object \n",
      " 1   additional_number_of_scoring                386803 non-null  int64  \n",
      " 2   review_date                                 386803 non-null  object \n",
      " 3   average_score                               386803 non-null  float64\n",
      " 4   hotel_name                                  386803 non-null  object \n",
      " 5   reviewer_nationality                        386803 non-null  object \n",
      " 6   negative_review                             386803 non-null  object \n",
      " 7   review_total_negative_word_counts           386803 non-null  int64  \n",
      " 8   total_number_of_reviews                     386803 non-null  int64  \n",
      " 9   positive_review                             386803 non-null  object \n",
      " 10  review_total_positive_word_counts           386803 non-null  int64  \n",
      " 11  total_number_of_reviews_reviewer_has_given  386803 non-null  int64  \n",
      " 12  reviewer_score                              386803 non-null  float64\n",
      " 13  tags                                        386803 non-null  object \n",
      " 14  days_since_review                           386803 non-null  object \n",
      " 15  lat                                         384355 non-null  float64\n",
      " 16  lng                                         384355 non-null  float64\n",
      "dtypes: float64(4), int64(5), object(8)\n",
      "memory usage: 50.2+ MB\n"
     ]
    }
   ],
   "source": [
    "hotels.info()"
   ]
  },
  {
   "cell_type": "code",
   "execution_count": 53,
   "metadata": {},
   "outputs": [
    {
     "data": {
      "text/plain": [
       "<bound method DataFrame.duplicated of                                             hotel_address  \\\n",
       "0       Stratton Street Mayfair Westminster Borough Lo...   \n",
       "1       130 134 Southampton Row Camden London WC1B 5AF...   \n",
       "2        151 bis Rue de Rennes 6th arr 75006 Paris France   \n",
       "3       216 Avenue Jean Jaures 19th arr 75019 Paris Fr...   \n",
       "4               Molenwerf 1 1014 AG Amsterdam Netherlands   \n",
       "...                                                   ...   \n",
       "386798  9 Knaresborough Place Kensington and Chelsea L...   \n",
       "386799  Landstra er Hauptstra e 155 03 Landstra e 1030...   \n",
       "386800  29 31 Gower Street Camden London WC1E 6HG Unit...   \n",
       "386801  31 Great Cumberland Place Westminster Borough ...   \n",
       "386802  25 Courtfield Gardens Kensington and Chelsea L...   \n",
       "\n",
       "        additional_number_of_scoring review_date  average_score  \\\n",
       "0                                581   2/19/2016            8.4   \n",
       "1                                299   1/12/2017            8.3   \n",
       "2                                 32  10/18/2016            8.9   \n",
       "3                                 34   9/22/2015            7.5   \n",
       "4                                914    3/5/2016            8.5   \n",
       "...                              ...         ...            ...   \n",
       "386798                           107   4/19/2017            9.0   \n",
       "386799                           272   2/13/2017            8.4   \n",
       "386800                           457    2/7/2016            6.8   \n",
       "386801                           365   5/21/2017            8.1   \n",
       "386802                           222    8/5/2016            9.0   \n",
       "\n",
       "                                       hotel_name    reviewer_nationality  \\\n",
       "0                              The May Fair Hotel         United Kingdom    \n",
       "1                 Mercure London Bloomsbury Hotel         United Kingdom    \n",
       "2               Legend Saint Germain by Elegancia                  China    \n",
       "3       Mercure Paris 19 Philharmonie La Villette         United Kingdom    \n",
       "4                     Golden Tulip Amsterdam West                 Poland    \n",
       "...                                           ...                     ...   \n",
       "386798                            Hotel Moonlight                 France    \n",
       "386799              BEST WESTERN PLUS Amedia Wien                 Turkey    \n",
       "386800                    Bloomsbury Palace Hotel            Netherlands    \n",
       "386801                     The Marble Arch London   United Arab Emirates    \n",
       "386802                      The Nadler Kensington              Australia    \n",
       "\n",
       "                                          negative_review  \\\n",
       "0                                                Leaving    \n",
       "1                                          poor breakfast   \n",
       "2                                      No kettle in room    \n",
       "3                                             No Negative   \n",
       "4                                            Torn sheets    \n",
       "...                                                   ...   \n",
       "386798                                        No Negative   \n",
       "386799                                        No Negative   \n",
       "386800   room is really small but guess is normal in L...   \n",
       "386801                                        No Negative   \n",
       "386802   Patio outside could have been cleaned of alga...   \n",
       "\n",
       "        review_total_negative_word_counts  total_number_of_reviews  \\\n",
       "0                                       3                     1994   \n",
       "1                                       3                     1361   \n",
       "2                                       6                      406   \n",
       "3                                       0                      607   \n",
       "4                                       4                     7586   \n",
       "...                                   ...                      ...   \n",
       "386798                                  0                      617   \n",
       "386799                                  0                     3224   \n",
       "386800                                 12                     2751   \n",
       "386801                                  0                     1567   \n",
       "386802                                 20                     1209   \n",
       "\n",
       "                                          positive_review  \\\n",
       "0                                      Staff were amazing   \n",
       "1                                                location   \n",
       "2                                             No Positive   \n",
       "3        Friendly staff quiet comfortable room spotles...   \n",
       "4        The staff was very friendly and helpful Break...   \n",
       "...                                                   ...   \n",
       "386798                 Tr s proche du metro Earl s court    \n",
       "386799   The bed was so comfy I stayed with my boyfrie...   \n",
       "386800     great location simple check in out nice shower   \n",
       "386801                        Location and very comfy bed   \n",
       "386802   Beds comfortable Pillows also good Homely fee...   \n",
       "\n",
       "        review_total_positive_word_counts  \\\n",
       "0                                       4   \n",
       "1                                       2   \n",
       "2                                       0   \n",
       "3                                      11   \n",
       "4                                      20   \n",
       "...                                   ...   \n",
       "386798                                 10   \n",
       "386799                                 93   \n",
       "386800                                  9   \n",
       "386801                                  6   \n",
       "386802                                 20   \n",
       "\n",
       "        total_number_of_reviews_reviewer_has_given  reviewer_score  \\\n",
       "0                                                7            10.0   \n",
       "1                                               14             6.3   \n",
       "2                                               14             7.5   \n",
       "3                                                8            10.0   \n",
       "4                                               10             9.6   \n",
       "...                                            ...             ...   \n",
       "386798                                          10             8.8   \n",
       "386799                                           1             9.2   \n",
       "386800                                          21             8.3   \n",
       "386801                                          28             9.2   \n",
       "386802                                           2             8.8   \n",
       "\n",
       "                                                     tags days_since_review  \\\n",
       "0       [' Leisure trip ', ' Couple ', ' Studio Suite ...           531 day   \n",
       "1       [' Business trip ', ' Couple ', ' Standard Dou...           203 day   \n",
       "2       [' Leisure trip ', ' Solo traveler ', ' Modern...           289 day   \n",
       "3       [' Leisure trip ', ' Solo traveler ', ' Standa...           681 day   \n",
       "4       [' Business trip ', ' Couple ', ' Standard Dou...           516 day   \n",
       "...                                                   ...               ...   \n",
       "386798  [' Leisure trip ', ' Group ', ' Club Double or...           106 day   \n",
       "386799  [' Leisure trip ', ' Couple ', ' Standard Doub...           171 day   \n",
       "386800  [' Business trip ', ' Solo traveler ', ' Singl...           543 day   \n",
       "386801  [' Leisure trip ', ' Solo traveler ', ' Deluxe...           74 days   \n",
       "386802  [' Leisure trip ', ' Couple ', ' Bunk Bed Room...           363 day   \n",
       "\n",
       "              lat        lng  \n",
       "0       51.507894  -0.143671  \n",
       "1       51.521009  -0.123097  \n",
       "2       48.845377   2.325643  \n",
       "3       48.888697   2.394540  \n",
       "4       52.385601   4.847060  \n",
       "...           ...        ...  \n",
       "386798  51.494028  -0.191050  \n",
       "386799  48.192379  16.399451  \n",
       "386800  51.520795  -0.131084  \n",
       "386801  51.515125  -0.160066  \n",
       "386802  51.493109  -0.190208  \n",
       "\n",
       "[386803 rows x 17 columns]>"
      ]
     },
     "execution_count": 53,
     "metadata": {},
     "output_type": "execute_result"
    }
   ],
   "source": [
    "hotels.duplicated"
   ]
  },
  {
   "cell_type": "code",
   "execution_count": 54,
   "metadata": {},
   "outputs": [],
   "source": [
    "#Удаляем дубликаты \n",
    "hotels = hotels.drop_duplicates()"
   ]
  },
  {
   "attachments": {},
   "cell_type": "markdown",
   "metadata": {},
   "source": [
    "---"
   ]
  },
  {
   "attachments": {},
   "cell_type": "markdown",
   "metadata": {},
   "source": [
    "Смотрим выбросы в оценках"
   ]
  },
  {
   "cell_type": "code",
   "execution_count": 55,
   "metadata": {},
   "outputs": [
    {
     "data": {
      "text/plain": [
       "<AxesSubplot: ylabel='reviewer_score'>"
      ]
     },
     "execution_count": 55,
     "metadata": {},
     "output_type": "execute_result"
    },
    {
     "data": {
      "image/png": "[encoded data removed]",
      "text/plain": [
       "<Figure size 640x480 with 1 Axes>"
      ]
     },
     "metadata": {},
     "output_type": "display_data"
    }
   ],
   "source": [
    "#Смотрим выбросы\n",
    "sns.boxplot(y=hotels['reviewer_score'])\n"
   ]
  },
  {
   "attachments": {},
   "cell_type": "markdown",
   "metadata": {},
   "source": [
    "Наличие выбросов (эксперименты показали, что это действительно выбросы, т.к. очистка дала положительный результат на метрику)"
   ]
  },
  {
   "cell_type": "code",
   "execution_count": 56,
   "metadata": {},
   "outputs": [],
   "source": [
    "# Функция z-отклонений\n",
    "\n",
    "def outliers_z_score(data, feature, left_mod=2, right_mod=3, log_scale=False):\n",
    "    \n",
    "    if log_scale:\n",
    "        x = np.log(data[feature]+1)\n",
    "    else:\n",
    "        x = data[feature]\n",
    "\n",
    "    mu = x.mean()\n",
    "\n",
    "    sigma = x.std()\n",
    "\n",
    "    lower_bound = mu - left_mod * sigma\n",
    "\n",
    "    upper_bound = mu + right_mod * sigma\n",
    "\n",
    "    outliers = data[(x < lower_bound) | (x > upper_bound)]\n",
    "\n",
    "    cleaned = data[(x > lower_bound) & (x < upper_bound)]\n",
    "\n",
    "    print(f'Количество выбросов по z-методу: {outliers.shape[0]}')\n",
    "    print(f'Результирующее количество строк в очищенном фрейме: {cleaned.shape[0]}')\n",
    "\n",
    "    return outliers, cleaned"
   ]
  },
  {
   "cell_type": "code",
   "execution_count": 57,
   "metadata": {},
   "outputs": [
    {
     "name": "stdout",
     "output_type": "stream",
     "text": [
      "Количество выбросов по z-методу: 7997\n",
      "Результирующее количество строк в очищенном фрейме: 378499\n"
     ]
    }
   ],
   "source": [
    "outliers, data = outliers_z_score(data=hotels, feature='reviewer_score', log_scale=True, left_mod=3, right_mod=3)"
   ]
  },
  {
   "cell_type": "code",
   "execution_count": 58,
   "metadata": {},
   "outputs": [
    {
     "data": {
      "text/html": [
       "<div>\n",
       "<style scoped>\n",
       "    .dataframe tbody tr th:only-of-type {\n",
       "        vertical-align: middle;\n",
       "    }\n",
       "\n",
       "    .dataframe tbody tr th {\n",
       "        vertical-align: top;\n",
       "    }\n",
       "\n",
       "    .dataframe thead th {\n",
       "        text-align: right;\n",
       "    }\n",
       "</style>\n",
       "<table border=\"1\" class=\"dataframe\">\n",
       "  <thead>\n",
       "    <tr style=\"text-align: right;\">\n",
       "      <th></th>\n",
       "      <th>additional_number_of_scoring</th>\n",
       "      <th>average_score</th>\n",
       "      <th>review_total_negative_word_counts</th>\n",
       "      <th>total_number_of_reviews</th>\n",
       "      <th>review_total_positive_word_counts</th>\n",
       "      <th>total_number_of_reviews_reviewer_has_given</th>\n",
       "      <th>reviewer_score</th>\n",
       "      <th>lat</th>\n",
       "      <th>lng</th>\n",
       "    </tr>\n",
       "  </thead>\n",
       "  <tbody>\n",
       "    <tr>\n",
       "      <th>count</th>\n",
       "      <td>7997.000000</td>\n",
       "      <td>7997.000000</td>\n",
       "      <td>7997.000000</td>\n",
       "      <td>7997.000000</td>\n",
       "      <td>7997.000000</td>\n",
       "      <td>7997.000000</td>\n",
       "      <td>7997.000000</td>\n",
       "      <td>7949.000000</td>\n",
       "      <td>7949.000000</td>\n",
       "    </tr>\n",
       "    <tr>\n",
       "      <th>mean</th>\n",
       "      <td>575.948356</td>\n",
       "      <td>7.903414</td>\n",
       "      <td>50.101163</td>\n",
       "      <td>3155.999625</td>\n",
       "      <td>7.777542</td>\n",
       "      <td>5.458797</td>\n",
       "      <td>3.265525</td>\n",
       "      <td>49.657551</td>\n",
       "      <td>2.514527</td>\n",
       "    </tr>\n",
       "    <tr>\n",
       "      <th>std</th>\n",
       "      <td>630.343734</td>\n",
       "      <td>0.621663</td>\n",
       "      <td>63.233038</td>\n",
       "      <td>2703.147270</td>\n",
       "      <td>17.888283</td>\n",
       "      <td>8.896771</td>\n",
       "      <td>0.498053</td>\n",
       "      <td>3.252028</td>\n",
       "      <td>4.194720</td>\n",
       "    </tr>\n",
       "    <tr>\n",
       "      <th>min</th>\n",
       "      <td>1.000000</td>\n",
       "      <td>5.200000</td>\n",
       "      <td>0.000000</td>\n",
       "      <td>49.000000</td>\n",
       "      <td>0.000000</td>\n",
       "      <td>1.000000</td>\n",
       "      <td>2.500000</td>\n",
       "      <td>41.328376</td>\n",
       "      <td>-0.369758</td>\n",
       "    </tr>\n",
       "    <tr>\n",
       "      <th>25%</th>\n",
       "      <td>185.000000</td>\n",
       "      <td>7.500000</td>\n",
       "      <td>11.000000</td>\n",
       "      <td>1295.000000</td>\n",
       "      <td>0.000000</td>\n",
       "      <td>1.000000</td>\n",
       "      <td>2.900000</td>\n",
       "      <td>48.849485</td>\n",
       "      <td>-0.168358</td>\n",
       "    </tr>\n",
       "    <tr>\n",
       "      <th>50%</th>\n",
       "      <td>369.000000</td>\n",
       "      <td>8.000000</td>\n",
       "      <td>29.000000</td>\n",
       "      <td>2383.000000</td>\n",
       "      <td>3.000000</td>\n",
       "      <td>2.000000</td>\n",
       "      <td>3.300000</td>\n",
       "      <td>51.501910</td>\n",
       "      <td>-0.023221</td>\n",
       "    </tr>\n",
       "    <tr>\n",
       "      <th>75%</th>\n",
       "      <td>709.000000</td>\n",
       "      <td>8.400000</td>\n",
       "      <td>63.000000</td>\n",
       "      <td>3980.000000</td>\n",
       "      <td>8.000000</td>\n",
       "      <td>6.000000</td>\n",
       "      <td>3.800000</td>\n",
       "      <td>51.516689</td>\n",
       "      <td>2.359778</td>\n",
       "    </tr>\n",
       "    <tr>\n",
       "      <th>max</th>\n",
       "      <td>2682.000000</td>\n",
       "      <td>9.500000</td>\n",
       "      <td>402.000000</td>\n",
       "      <td>16670.000000</td>\n",
       "      <td>386.000000</td>\n",
       "      <td>211.000000</td>\n",
       "      <td>3.800000</td>\n",
       "      <td>52.400181</td>\n",
       "      <td>16.421974</td>\n",
       "    </tr>\n",
       "  </tbody>\n",
       "</table>\n",
       "</div>"
      ],
      "text/plain": [
       "       additional_number_of_scoring  average_score  \\\n",
       "count                   7997.000000    7997.000000   \n",
       "mean                     575.948356       7.903414   \n",
       "std                      630.343734       0.621663   \n",
       "min                        1.000000       5.200000   \n",
       "25%                      185.000000       7.500000   \n",
       "50%                      369.000000       8.000000   \n",
       "75%                      709.000000       8.400000   \n",
       "max                     2682.000000       9.500000   \n",
       "\n",
       "       review_total_negative_word_counts  total_number_of_reviews  \\\n",
       "count                        7997.000000              7997.000000   \n",
       "mean                           50.101163              3155.999625   \n",
       "std                            63.233038              2703.147270   \n",
       "min                             0.000000                49.000000   \n",
       "25%                            11.000000              1295.000000   \n",
       "50%                            29.000000              2383.000000   \n",
       "75%                            63.000000              3980.000000   \n",
       "max                           402.000000             16670.000000   \n",
       "\n",
       "       review_total_positive_word_counts  \\\n",
       "count                        7997.000000   \n",
       "mean                            7.777542   \n",
       "std                            17.888283   \n",
       "min                             0.000000   \n",
       "25%                             0.000000   \n",
       "50%                             3.000000   \n",
       "75%                             8.000000   \n",
       "max                           386.000000   \n",
       "\n",
       "       total_number_of_reviews_reviewer_has_given  reviewer_score  \\\n",
       "count                                 7997.000000     7997.000000   \n",
       "mean                                     5.458797        3.265525   \n",
       "std                                      8.896771        0.498053   \n",
       "min                                      1.000000        2.500000   \n",
       "25%                                      1.000000        2.900000   \n",
       "50%                                      2.000000        3.300000   \n",
       "75%                                      6.000000        3.800000   \n",
       "max                                    211.000000        3.800000   \n",
       "\n",
       "               lat          lng  \n",
       "count  7949.000000  7949.000000  \n",
       "mean     49.657551     2.514527  \n",
       "std       3.252028     4.194720  \n",
       "min      41.328376    -0.369758  \n",
       "25%      48.849485    -0.168358  \n",
       "50%      51.501910    -0.023221  \n",
       "75%      51.516689     2.359778  \n",
       "max      52.400181    16.421974  "
      ]
     },
     "execution_count": 58,
     "metadata": {},
     "output_type": "execute_result"
    }
   ],
   "source": [
    "outliers.describe()"
   ]
  },
  {
   "cell_type": "code",
   "execution_count": 59,
   "metadata": {},
   "outputs": [
    {
     "data": {
      "text/plain": [
       "<AxesSubplot: ylabel='reviewer_score'>"
      ]
     },
     "execution_count": 59,
     "metadata": {},
     "output_type": "execute_result"
    },
    {
     "data": {
      "image/png": "[encoded data removed]",
      "text/plain": [
       "<Figure size 640x480 with 1 Axes>"
      ]
     },
     "metadata": {},
     "output_type": "display_data"
    }
   ],
   "source": [
    "# Посмотрим на остаточные выбросы\n",
    "sns.boxplot(y=data['reviewer_score'])"
   ]
  },
  {
   "cell_type": "code",
   "execution_count": 60,
   "metadata": {},
   "outputs": [
    {
     "name": "stdout",
     "output_type": "stream",
     "text": [
      "Количество выбросов по z-методу: 3994\n",
      "Результирующее количество строк в очищенном фрейме: 374505\n"
     ]
    }
   ],
   "source": [
    "# Дочистим\n",
    "outliers, data = outliers_z_score(data=data, feature='reviewer_score', log_scale=True, left_mod=3, right_mod=3)"
   ]
  },
  {
   "cell_type": "code",
   "execution_count": 61,
   "metadata": {},
   "outputs": [
    {
     "data": {
      "text/plain": [
       "<AxesSubplot: ylabel='reviewer_score'>"
      ]
     },
     "execution_count": 61,
     "metadata": {},
     "output_type": "execute_result"
    },
    {
     "data": {
      "image/png": "[encoded data removed]",
      "text/plain": [
       "<Figure size 640x480 with 1 Axes>"
      ]
     },
     "metadata": {},
     "output_type": "display_data"
    }
   ],
   "source": [
    "sns.boxplot(y=data['reviewer_score'])"
   ]
  },
  {
   "attachments": {},
   "cell_type": "markdown",
   "metadata": {},
   "source": [
    "Теперь в негативных обзорах"
   ]
  },
  {
   "cell_type": "code",
   "execution_count": 62,
   "metadata": {},
   "outputs": [
    {
     "data": {
      "text/plain": [
       "<AxesSubplot: ylabel='review_total_negative_word_counts'>"
      ]
     },
     "execution_count": 62,
     "metadata": {},
     "output_type": "execute_result"
    },
    {
     "data": {
      "image/png": "[encoded data removed]",
      "text/plain": [
       "<Figure size 640x480 with 1 Axes>"
      ]
     },
     "metadata": {},
     "output_type": "display_data"
    }
   ],
   "source": [
    "sns.boxplot(y=data['review_total_negative_word_counts'])"
   ]
  },
  {
   "cell_type": "code",
   "execution_count": 63,
   "metadata": {},
   "outputs": [
    {
     "name": "stdout",
     "output_type": "stream",
     "text": [
      "Количество выбросов по z-методу: 3308\n",
      "Результирующее количество строк в очищенном фрейме: 371197\n"
     ]
    }
   ],
   "source": [
    "outliers, data = outliers_z_score(data=data, feature='review_total_negative_word_counts', log_scale=True, left_mod=2, right_mod=2)"
   ]
  },
  {
   "cell_type": "code",
   "execution_count": 64,
   "metadata": {},
   "outputs": [
    {
     "data": {
      "text/plain": [
       "<AxesSubplot: ylabel='review_total_negative_word_counts'>"
      ]
     },
     "execution_count": 64,
     "metadata": {},
     "output_type": "execute_result"
    },
    {
     "data": {
      "image/png": "[encoded data removed]",
      "text/plain": [
       "<Figure size 640x480 with 1 Axes>"
      ]
     },
     "metadata": {},
     "output_type": "display_data"
    }
   ],
   "source": [
    "sns.boxplot(y=data['review_total_negative_word_counts'])"
   ]
  },
  {
   "cell_type": "code",
   "execution_count": 65,
   "metadata": {},
   "outputs": [
    {
     "name": "stdout",
     "output_type": "stream",
     "text": [
      "Количество выбросов по z-методу: 691\n",
      "Результирующее количество строк в очищенном фрейме: 370506\n"
     ]
    }
   ],
   "source": [
    "outliers, data = outliers_z_score(data=data, feature='review_total_negative_word_counts', log_scale=True, left_mod=2, right_mod=2)"
   ]
  },
  {
   "cell_type": "code",
   "execution_count": 66,
   "metadata": {},
   "outputs": [
    {
     "data": {
      "text/plain": [
       "<AxesSubplot: ylabel='review_total_negative_word_counts'>"
      ]
     },
     "execution_count": 66,
     "metadata": {},
     "output_type": "execute_result"
    },
    {
     "data": {
      "image/png": "[encoded data removed]",
      "text/plain": [
       "<Figure size 640x480 with 1 Axes>"
      ]
     },
     "metadata": {},
     "output_type": "display_data"
    }
   ],
   "source": [
    "sns.boxplot(y=data['review_total_negative_word_counts'])"
   ]
  },
  {
   "cell_type": "code",
   "execution_count": 67,
   "metadata": {},
   "outputs": [
    {
     "name": "stdout",
     "output_type": "stream",
     "text": [
      "Количество выбросов по z-методу: 160\n",
      "Результирующее количество строк в очищенном фрейме: 370346\n"
     ]
    }
   ],
   "source": [
    "outliers, data = outliers_z_score(data=data, feature='review_total_negative_word_counts', log_scale=True, left_mod=2, right_mod=2)"
   ]
  },
  {
   "cell_type": "code",
   "execution_count": 68,
   "metadata": {},
   "outputs": [
    {
     "data": {
      "text/plain": [
       "<AxesSubplot: ylabel='review_total_negative_word_counts'>"
      ]
     },
     "execution_count": 68,
     "metadata": {},
     "output_type": "execute_result"
    },
    {
     "data": {
      "image/png": "[encoded data removed]",
      "text/plain": [
       "<Figure size 640x480 with 1 Axes>"
      ]
     },
     "metadata": {},
     "output_type": "display_data"
    }
   ],
   "source": [
    "sns.boxplot(y=data['review_total_negative_word_counts'])"
   ]
  },
  {
   "attachments": {},
   "cell_type": "markdown",
   "metadata": {},
   "source": [
    "Теперь в позитивных обзорах"
   ]
  },
  {
   "cell_type": "code",
   "execution_count": 69,
   "metadata": {},
   "outputs": [
    {
     "name": "stdout",
     "output_type": "stream",
     "text": [
      "Количество выбросов по z-методу: 28265\n",
      "Результирующее количество строк в очищенном фрейме: 342081\n"
     ]
    }
   ],
   "source": [
    "outliers, data = outliers_z_score(data=data, feature='review_total_positive_word_counts', log_scale=True, left_mod=2, right_mod=2)"
   ]
  },
  {
   "cell_type": "code",
   "execution_count": 70,
   "metadata": {},
   "outputs": [
    {
     "data": {
      "text/plain": [
       "<AxesSubplot: ylabel='review_total_positive_word_counts'>"
      ]
     },
     "execution_count": 70,
     "metadata": {},
     "output_type": "execute_result"
    },
    {
     "data": {
      "image/png": "[encoded data removed]",
      "text/plain": [
       "<Figure size 640x480 with 1 Axes>"
      ]
     },
     "metadata": {},
     "output_type": "display_data"
    }
   ],
   "source": [
    "sns.boxplot(y=data['review_total_positive_word_counts'])"
   ]
  },
  {
   "attachments": {},
   "cell_type": "markdown",
   "metadata": {},
   "source": [
    "Дальнейшая очистка данного фита приводит к ухудшению метрики"
   ]
  },
  {
   "attachments": {},
   "cell_type": "markdown",
   "metadata": {},
   "source": [
    "---"
   ]
  },
  {
   "attachments": {},
   "cell_type": "markdown",
   "metadata": {},
   "source": [
    "Преобразование тегов (в датасете теги представлены единой строкой)"
   ]
  },
  {
   "cell_type": "code",
   "execution_count": 71,
   "metadata": {},
   "outputs": [],
   "source": [
    "# Пркобразование тегов к списку\n",
    "def tag_reconstr(data):\n",
    "    temp_list = []\n",
    "    for i in data.split(\"'\"):\n",
    "        temp_list.append(i.strip())\n",
    "\n",
    "    temp_list.remove('[')\n",
    "    temp_list.remove(']')\n",
    "\n",
    "    for i in temp_list:\n",
    "        if i == ',':\n",
    "            temp_list.remove(i)\n",
    "    return temp_list\n",
    "\n",
    "\n",
    "tags_series = data['tags'].apply(tag_reconstr)\n",
    "data['tags'] = data['tags'].apply(tag_reconstr)\n",
    "\n",
    "#Формируем базу для one_hot, параллельно выдергиваем фит прожитых ночей\n",
    "all_tags = tags_series.explode()\n",
    "stayed_night_mask = all_tags.str.contains('Stayed', regex=False)\n",
    "stayed_night = all_tags[stayed_night_mask]\n",
    "stayed_night.str.split(' ')\n",
    "\n",
    "def night_at_hotel(data):\n",
    "    temp_var = 0\n",
    "    for i in data.split(' '):\n",
    "        try:\n",
    "            temp_var = int(i)\n",
    "        except ValueError:\n",
    "            pass\n",
    "    return temp_var\n",
    "\n",
    "nights = stayed_night.apply(night_at_hotel)\n",
    "nights = nights.rename('nights')\n",
    "data = pd.concat([data, nights], axis=1)\n",
    "data['nights'] = data['nights'].fillna(data['nights'].mode()[0])\n",
    "\n",
    "#Вытаскиваем топ 20 тегов и разворачиваем на их основе one_hot\n",
    "top_tags = all_tags.value_counts()[:21]\n",
    "mask = top_tags.index.str.contains('Stayed', regex=False)\n",
    "one_hot_columns = list(top_tags[~mask].index)\n",
    "\n",
    "for element in one_hot_columns:\n",
    "    data[element] = data['tags'].apply(lambda x: 1 if element in x else 0)"
   ]
  },
  {
   "attachments": {},
   "cell_type": "markdown",
   "metadata": {},
   "source": [
    "---"
   ]
  },
  {
   "attachments": {},
   "cell_type": "markdown",
   "metadata": {},
   "source": [
    "### Внимание!\n",
    "### Данный блок нес исключительно экспериментальный характер.\n",
    "### В процессе парсинга столкнулся с постоянной блокировкой со строны гугл, что говорит о низком уровне моей квалификации на данный момент, тем не менее удалось стянуть 1000 страниц из необходимых 1500.\n",
    "### Основной тезис эксперимента был таков: подцепить рейтинг с трипэдвайзера и присобачить в датасет, но количество костылей и сложная воспроизводимость(невозможная) без записи и чтегия доп файлов привело к выводу, что пердоллинг того не стоит."
   ]
  },
  {
   "attachments": {},
   "cell_type": "markdown",
   "metadata": {},
   "source": [
    "Получим рейтинг отеля с гугла (проверим будет ли польза от внешнего рейтинга отеля, за основу берется рейтинг приходящий с tripadvisor)"
   ]
  },
  {
   "cell_type": "code",
   "execution_count": 442,
   "metadata": {},
   "outputs": [
    {
     "data": {
      "text/plain": [
       "\"# Playing with bs and requests\\nurl_base = f'https://www.google.com/search?q='  # база запроса к гуглу\\n# Пришлось, но особо от блока ip не помогло\\nproxies = {\\n    'http': 'http://10.10.1.10:3128'\\n}\\nheaders={\\n    'User-Agent': 'Mozilla/5.0'\\n}\\nlost_dict = dict()\""
      ]
     },
     "execution_count": 442,
     "metadata": {},
     "output_type": "execute_result"
    }
   ],
   "source": [
    "'''# Playing with bs and requests\n",
    "url_base = f'https://www.google.com/search?q='  # база запроса к гуглу\n",
    "# Пришлось, но особо от блока ip не помогло\n",
    "proxies = {\n",
    "    'http': 'http://10.10.1.10:3128'\n",
    "}\n",
    "headers={\n",
    "    'User-Agent': 'Mozilla/5.0'\n",
    "}\n",
    "lost_dict = dict()'''"
   ]
  },
  {
   "cell_type": "code",
   "execution_count": 443,
   "metadata": {},
   "outputs": [
    {
     "data": {
      "text/plain": [
       "\"#Для чека вывода\\nx = requests.get('https://www.google.com/search?q=Grand+Royale+London+Hyde+Park',headers={'User-Agent': 'Mozilla/5.0'})\\nsoup = BeautifulSoup(x.text)\\nsoup\""
      ]
     },
     "execution_count": 443,
     "metadata": {},
     "output_type": "execute_result"
    }
   ],
   "source": [
    "'''#Для чека вывода\n",
    "x = requests.get('https://www.google.com/search?q=Grand+Royale+London+Hyde+Park',headers={'User-Agent': 'Mozilla/5.0'})\n",
    "soup = BeautifulSoup(x.text)\n",
    "soup'''"
   ]
  },
  {
   "cell_type": "code",
   "execution_count": 444,
   "metadata": {},
   "outputs": [
    {
     "data": {
      "text/plain": [
       "'# Эмпирическим путем выведено, что гугл начинает блочить при количестве запросов больше 600, т.ч не жадничаем\\n# Формируем первый словарь для последующего слияния\\nhotels_dict_1 = dict()\\nhotels_array_1 = [hotels[\\'hotel_name\\'].unique()][0][0:501]\\nfor i in hotels_array_1:\\n    hotels_dict_1[i] = f\"{url_base}{i.replace(\\' \\',\\'+\\')}\"\\n'"
      ]
     },
     "execution_count": 444,
     "metadata": {},
     "output_type": "execute_result"
    }
   ],
   "source": [
    "'''# Эмпирическим путем выведено, что гугл начинает блочить при количестве запросов больше 600, т.ч не жадничаем\n",
    "# Формируем первый словарь для последующего слияния\n",
    "hotels_dict_1 = dict()\n",
    "hotels_array_1 = [hotels['hotel_name'].unique()][0][0:501]\n",
    "for i in hotels_array_1:\n",
    "    hotels_dict_1[i] = f\"{url_base}{i.replace(' ','+')}\"\n",
    "'''"
   ]
  },
  {
   "cell_type": "code",
   "execution_count": 445,
   "metadata": {},
   "outputs": [
    {
     "data": {
      "text/plain": [
       "\"# Наполняем словарь полученой информацией\\nstar_dict_1 = dict()\\nfor key, link in hotels_dict_1.items():\\n    try:\\n        url = link\\n        # попытка с хэдлеслом закончилась блоком по ip\\n        response = requests.get(url, headers=headers, proxies=proxies)\\n        soup = BeautifulSoup(response.text)\\n        star = soup.findAll('span', class_='oqSTJd')[0].text.replace(',', '.')\\n        star_dict_1[key] = star\\n        # попробую с этим таймером, без слипа гугл заблочил на день, есть вероятность что парсить будет в районе 30 минут\\n        time.sleep(0.3)\\n    except IndexError:  # есть один отель который гугл воспринимает как запрос на персоналию + индексэр выпадает когда блокают или когда у отеля нет рейта\\n        print(f'{key}: {link}')\\n        lost_dict[key]= link\\n        pass\\n    except ConnectionError:\\n        print(f'{key}: {link}')\\n        lost_dict[key]= link\\n        pass\""
      ]
     },
     "execution_count": 445,
     "metadata": {},
     "output_type": "execute_result"
    }
   ],
   "source": [
    "'''# Наполняем словарь полученой информацией\n",
    "star_dict_1 = dict()\n",
    "for key, link in hotels_dict_1.items():\n",
    "    try:\n",
    "        url = link\n",
    "        # попытка с хэдлеслом закончилась блоком по ip\n",
    "        response = requests.get(url, headers=headers, proxies=proxies)\n",
    "        soup = BeautifulSoup(response.text)\n",
    "        star = soup.findAll('span', class_='oqSTJd')[0].text.replace(',', '.')\n",
    "        star_dict_1[key] = star\n",
    "        # попробую с этим таймером, без слипа гугл заблочил на день, есть вероятность что парсить будет в районе 30 минут\n",
    "        time.sleep(0.3)\n",
    "    except IndexError:  # есть один отель который гугл воспринимает как запрос на персоналию + индексэр выпадает когда блокают или когда у отеля нет рейта\n",
    "        print(f'{key}: {link}')\n",
    "        lost_dict[key]= link\n",
    "        pass\n",
    "    except ConnectionError:\n",
    "        print(f'{key}: {link}')\n",
    "        lost_dict[key]= link\n",
    "        pass'''"
   ]
  },
  {
   "cell_type": "code",
   "execution_count": 446,
   "metadata": {},
   "outputs": [
    {
     "data": {
      "text/plain": [
       "\"star_df_1 = pd.DataFrame({'hotel': star_dict_1.keys(), 'star_rate':star_dict_1.values()})\""
      ]
     },
     "execution_count": 446,
     "metadata": {},
     "output_type": "execute_result"
    }
   ],
   "source": [
    "'''star_df_1 = pd.DataFrame({'hotel': star_dict_1.keys(), 'star_rate':star_dict_1.values()})'''"
   ]
  },
  {
   "cell_type": "code",
   "execution_count": 447,
   "metadata": {},
   "outputs": [
    {
     "data": {
      "text/plain": [
       "'# Сохраним для дальнейшего слияния и легкого доступа без парсинга каждый раз\\nwith pd.ExcelWriter(\\n            \"./data/star_rating_1.xlsx\") as writer:\\n        star_df_1.to_excel(writer, sheet_name=\\'stars\\')'"
      ]
     },
     "execution_count": 447,
     "metadata": {},
     "output_type": "execute_result"
    }
   ],
   "source": [
    "'''# Сохраним для дальнейшего слияния и легкого доступа без парсинга каждый раз\n",
    "with pd.ExcelWriter(\n",
    "            \"./data/star_rating_1.xlsx\") as writer:\n",
    "        star_df_1.to_excel(writer, sheet_name='stars')'''"
   ]
  },
  {
   "cell_type": "code",
   "execution_count": 448,
   "metadata": {},
   "outputs": [
    {
     "data": {
      "text/plain": [
       "'# Формируем второй словарь для последующего слияния\\nhotels_dict_2 = dict()\\nhotels_array_2 = [hotels[\\'hotel_name\\'].unique()][0][501:1001]\\nfor i in hotels_array_2:\\n    hotels_dict_2[i] = f\"{url_base}{i.replace(\\' \\',\\'+\\')}\"'"
      ]
     },
     "execution_count": 448,
     "metadata": {},
     "output_type": "execute_result"
    }
   ],
   "source": [
    "'''# Формируем второй словарь для последующего слияния\n",
    "hotels_dict_2 = dict()\n",
    "hotels_array_2 = [hotels['hotel_name'].unique()][0][501:1001]\n",
    "for i in hotels_array_2:\n",
    "    hotels_dict_2[i] = f\"{url_base}{i.replace(' ','+')}\"'''"
   ]
  },
  {
   "cell_type": "code",
   "execution_count": 449,
   "metadata": {},
   "outputs": [
    {
     "data": {
      "text/plain": [
       "\"# Наполняем словарь полученой информацией\\nstar_dict_2 = dict()\\nfor key, link in hotels_dict_2.items():\\n    try:\\n        url = link\\n        # попытка с хэдлеслом закончилась блоком по ip\\n        response = requests.get(url, headers=headers, proxies=proxies)\\n        soup = BeautifulSoup(response.text)\\n        star = soup.findAll('span', class_='oqSTJd')[0].text.replace(',', '.')\\n        star_dict_2[key] = star\\n        # попробую с этим таймером, без слипа гугл заблочил на день, есть вероятность что парсить будет в районе 30 минут\\n        time.sleep(0.3)\\n    except IndexError:  # есть один отель который гугл воспринимает как запрос на персоналию + индексэр выпадает когда блокают или когда у отеля нет рейта\\n        print(f'{key}: {link}')\\n        lost_dict[key]= link\\n        pass\\n    except ConnectionError:\\n        print(f'{key}: {link}')\\n        lost_dict[key]= link\\n        pass\""
      ]
     },
     "execution_count": 449,
     "metadata": {},
     "output_type": "execute_result"
    }
   ],
   "source": [
    "'''# Наполняем словарь полученой информацией\n",
    "star_dict_2 = dict()\n",
    "for key, link in hotels_dict_2.items():\n",
    "    try:\n",
    "        url = link\n",
    "        # попытка с хэдлеслом закончилась блоком по ip\n",
    "        response = requests.get(url, headers=headers, proxies=proxies)\n",
    "        soup = BeautifulSoup(response.text)\n",
    "        star = soup.findAll('span', class_='oqSTJd')[0].text.replace(',', '.')\n",
    "        star_dict_2[key] = star\n",
    "        # попробую с этим таймером, без слипа гугл заблочил на день, есть вероятность что парсить будет в районе 30 минут\n",
    "        time.sleep(0.3)\n",
    "    except IndexError:  # есть один отель который гугл воспринимает как запрос на персоналию + индексэр выпадает когда блокают или когда у отеля нет рейта\n",
    "        print(f'{key}: {link}')\n",
    "        lost_dict[key]= link\n",
    "        pass\n",
    "    except ConnectionError:\n",
    "        print(f'{key}: {link}')\n",
    "        lost_dict[key]= link\n",
    "        pass'''"
   ]
  },
  {
   "cell_type": "code",
   "execution_count": 450,
   "metadata": {},
   "outputs": [
    {
     "data": {
      "text/plain": [
       "\"star_df_2 = pd.DataFrame({'hotel': star_dict_2.keys(), 'star_rate':star_dict_2.values()})\""
      ]
     },
     "execution_count": 450,
     "metadata": {},
     "output_type": "execute_result"
    }
   ],
   "source": [
    "'''star_df_2 = pd.DataFrame({'hotel': star_dict_2.keys(), 'star_rate':star_dict_2.values()})'''"
   ]
  },
  {
   "cell_type": "code",
   "execution_count": 451,
   "metadata": {},
   "outputs": [
    {
     "data": {
      "text/plain": [
       "'with pd.ExcelWriter(\\n            \"./data/star_rating_2.xlsx\") as writer:\\n        star_df_2.to_excel(writer, sheet_name=\\'stars\\')'"
      ]
     },
     "execution_count": 451,
     "metadata": {},
     "output_type": "execute_result"
    }
   ],
   "source": [
    "'''with pd.ExcelWriter(\n",
    "            \"./data/star_rating_2.xlsx\") as writer:\n",
    "        star_df_2.to_excel(writer, sheet_name='stars')'''"
   ]
  },
  {
   "cell_type": "code",
   "execution_count": 452,
   "metadata": {},
   "outputs": [
    {
     "data": {
      "text/plain": [
       "'# Формируем третий словарь для последующего слияния\\nhotels_dict_3 = dict()\\nhotels_array_3 = [hotels[\\'hotel_name\\'].unique()][0][501:1493]\\nfor i in hotels_array_3:\\n    hotels_dict_3[i] = f\"{url_base}{i.replace(\\' \\',\\'+\\')}\"'"
      ]
     },
     "execution_count": 452,
     "metadata": {},
     "output_type": "execute_result"
    }
   ],
   "source": [
    "'''# Формируем третий словарь для последующего слияния\n",
    "hotels_dict_3 = dict()\n",
    "hotels_array_3 = [hotels['hotel_name'].unique()][0][501:1493]\n",
    "for i in hotels_array_3:\n",
    "    hotels_dict_3[i] = f\"{url_base}{i.replace(' ','+')}\"'''"
   ]
  },
  {
   "cell_type": "code",
   "execution_count": 453,
   "metadata": {},
   "outputs": [
    {
     "data": {
      "text/plain": [
       "\"hotels_dict_3\\nhotels_dict_3.pop('Petit Palais Hotel De Charme')\\nhotels_dict_3\""
      ]
     },
     "execution_count": 453,
     "metadata": {},
     "output_type": "execute_result"
    }
   ],
   "source": [
    "'''hotels_dict_3\n",
    "hotels_dict_3.pop('Petit Palais Hotel De Charme')\n",
    "hotels_dict_3'''"
   ]
  },
  {
   "cell_type": "code",
   "execution_count": 454,
   "metadata": {},
   "outputs": [
    {
     "data": {
      "text/plain": [
       "\"# Наполняем словарь полученой информацией\\nstar_dict_3 = dict()\\nfor key, link in hotels_dict_3.items():\\n    try:\\n        url = link\\n        # попытка с хэдлеслом закончилась блоком по ip\\n        response = requests.get(url, headers=headers, proxies=proxies)\\n        soup = BeautifulSoup(response.text)\\n        star = soup.findAll('span', class_='oqSTJd')[0].text.replace(',', '.')\\n        star_dict_3[key] = star\\n        # попробую с этим таймером, без слипа гугл заблочил на день, есть вероятность что парсить будет в районе 30 минут\\n        time.sleep(0.3)\\n        print(f'{key}: {link}')\\n    except IndexError:  # есть один отель который гугл воспринимает как запрос на персоналию + индексэр выпадает когда блокают или когда у отеля нет рейта\\n        print(f'{key}: {link}')\\n        lost_dict[key]= link\\n        pass\\n    except ConnectionError:\\n        print(f'{key}: {link}')\\n        lost_dict[key]= link\\n        pass\""
      ]
     },
     "execution_count": 454,
     "metadata": {},
     "output_type": "execute_result"
    }
   ],
   "source": [
    "'''# Наполняем словарь полученой информацией\n",
    "star_dict_3 = dict()\n",
    "for key, link in hotels_dict_3.items():\n",
    "    try:\n",
    "        url = link\n",
    "        # попытка с хэдлеслом закончилась блоком по ip\n",
    "        response = requests.get(url, headers=headers, proxies=proxies)\n",
    "        soup = BeautifulSoup(response.text)\n",
    "        star = soup.findAll('span', class_='oqSTJd')[0].text.replace(',', '.')\n",
    "        star_dict_3[key] = star\n",
    "        # попробую с этим таймером, без слипа гугл заблочил на день, есть вероятность что парсить будет в районе 30 минут\n",
    "        time.sleep(0.3)\n",
    "        print(f'{key}: {link}')\n",
    "    except IndexError:  # есть один отель который гугл воспринимает как запрос на персоналию + индексэр выпадает когда блокают или когда у отеля нет рейта\n",
    "        print(f'{key}: {link}')\n",
    "        lost_dict[key]= link\n",
    "        pass\n",
    "    except ConnectionError:\n",
    "        print(f'{key}: {link}')\n",
    "        lost_dict[key]= link\n",
    "        pass'''"
   ]
  },
  {
   "cell_type": "code",
   "execution_count": 455,
   "metadata": {},
   "outputs": [
    {
     "data": {
      "text/plain": [
       "\"star_df_3 = pd.DataFrame({'hotel': star_dict_3.keys(), 'star_rate':star_dict_3.values()})\""
      ]
     },
     "execution_count": 455,
     "metadata": {},
     "output_type": "execute_result"
    }
   ],
   "source": [
    "'''star_df_3 = pd.DataFrame({'hotel': star_dict_3.keys(), 'star_rate':star_dict_3.values()})'''"
   ]
  },
  {
   "cell_type": "code",
   "execution_count": 456,
   "metadata": {},
   "outputs": [
    {
     "data": {
      "text/plain": [
       "'with pd.ExcelWriter(\\n            \"./data/star_rating_3.xlsx\") as writer:\\n        star_df_3.to_excel(writer, sheet_name=\\'stars\\')'"
      ]
     },
     "execution_count": 456,
     "metadata": {},
     "output_type": "execute_result"
    }
   ],
   "source": [
    "'''with pd.ExcelWriter(\n",
    "            \"./data/star_rating_3.xlsx\") as writer:\n",
    "        star_df_3.to_excel(writer, sheet_name='stars')'''"
   ]
  },
  {
   "attachments": {},
   "cell_type": "markdown",
   "metadata": {},
   "source": [
    "Дообработаем excel файлы руками (количество изменений располагает к рациональному подходу, и имеют в масштабах татасета малый вес), можно было заменить значения модальными"
   ]
  },
  {
   "cell_type": "code",
   "execution_count": 457,
   "metadata": {},
   "outputs": [
    {
     "data": {
      "text/plain": [
       "\"lost_dict_man = {\\n    'Henry VIII': 'https://www.google.com/search?q=Henry+VIII',\\n    'Bassano': 'https://www.google.com/search?q=Bassano',\\n    'Elys es R gencia': 'https://www.google.com/search?q=Elys+es+R+gencia',\\n    'Amp re': 'https://www.google.com/search?q=Amp+re',\\n    'Thistle Euston': 'https://www.google.com/search?q=Thistle+Euston',\\n    'Villa d Estr es': 'https://www.google.com/search?q=Villa+d+Estr+es',\\n    'K K H tel Cayr Saint Germain des Pr s': 'https://www.google.com/search?q=K+K+H+tel+Cayr+Saint+Germain+des+Pr+s',\\n    'Vice Versa': 'https://www.google.com/search?q=Vice+Versa',\\n    'Arioso': 'https://www.google.com/search?q=Arioso',\\n}\""
      ]
     },
     "execution_count": 457,
     "metadata": {},
     "output_type": "execute_result"
    }
   ],
   "source": [
    "'''lost_dict_man = {\n",
    "    'Henry VIII': 'https://www.google.com/search?q=Henry+VIII',\n",
    "    'Bassano': 'https://www.google.com/search?q=Bassano',\n",
    "    'Elys es R gencia': 'https://www.google.com/search?q=Elys+es+R+gencia',\n",
    "    'Amp re': 'https://www.google.com/search?q=Amp+re',\n",
    "    'Thistle Euston': 'https://www.google.com/search?q=Thistle+Euston',\n",
    "    'Villa d Estr es': 'https://www.google.com/search?q=Villa+d+Estr+es',\n",
    "    'K K H tel Cayr Saint Germain des Pr s': 'https://www.google.com/search?q=K+K+H+tel+Cayr+Saint+Germain+des+Pr+s',\n",
    "    'Vice Versa': 'https://www.google.com/search?q=Vice+Versa',\n",
    "    'Arioso': 'https://www.google.com/search?q=Arioso',\n",
    "}'''"
   ]
  },
  {
   "cell_type": "code",
   "execution_count": 458,
   "metadata": {},
   "outputs": [
    {
     "data": {
      "text/plain": [
       "'star_df = pd.DataFrame({\\'hotel\\': star_dict.keys(), \\'star_rate\\':star_dict.values()})\\nwith pd.ExcelWriter(\\n            \"./data/star_rating.xlsx\") as writer:\\n        star_df.to_excel(writer, sheet_name=\\'curr\\')'"
      ]
     },
     "execution_count": 458,
     "metadata": {},
     "output_type": "execute_result"
    }
   ],
   "source": [
    "'''star_df = pd.DataFrame({'hotel': star_dict.keys(), 'star_rate':star_dict.values()})\n",
    "with pd.ExcelWriter(\n",
    "            \"./data/star_rating.xlsx\") as writer:\n",
    "        star_df.to_excel(writer, sheet_name='curr')'''"
   ]
  },
  {
   "attachments": {},
   "cell_type": "markdown",
   "metadata": {},
   "source": [
    "---"
   ]
  },
  {
   "attachments": {},
   "cell_type": "markdown",
   "metadata": {},
   "source": [
    "Кодируем отели"
   ]
  },
  {
   "cell_type": "code",
   "execution_count": 72,
   "metadata": {},
   "outputs": [],
   "source": [
    "#Кодируем названия отелей\n",
    "data['hotel_name'] = data['hotel_name'].astype('category')\n",
    "data['hotel_name'] = data['hotel_name'].cat.codes"
   ]
  },
  {
   "attachments": {},
   "cell_type": "markdown",
   "metadata": {},
   "source": [
    "Код отеля по коду его страны"
   ]
  },
  {
   "cell_type": "code",
   "execution_count": 73,
   "metadata": {},
   "outputs": [],
   "source": [
    "# Достаем код страны\n",
    "response = requests.get('https://countrycode.org/')\n",
    "country_code = pd.read_html(response.text)\n",
    "country_code = country_code[0]\n",
    "country_code = country_code[['COUNTRY', 'COUNTRY CODE']]\n",
    "\n",
    "# Создаем функцию для формирования кодовой строки исходя из принципа территориальной близости принадлежности для кодов формата Х-ХХХ\n",
    "def get_code(data):\n",
    "    data = data.split('-')\n",
    "    return int(data[0])\n",
    "\n",
    "\n",
    "country_code['COUNTRY CODE'] = country_code['COUNTRY CODE'].apply(get_code)\n",
    "\n",
    "# Формируем новый закодированный (в последствие) признак местоположения отеля\n",
    "data['hotel_country'] = data['hotel_address'].str.split(' ')\n",
    "data['hotel_country'] = data['hotel_country'].apply(lambda x: x[-2::])\n",
    "data['hotel_country'] = data['hotel_country'].apply(\n",
    "    lambda x: x[0]+' '+x[1] if x[0] == 'United' else x[1])\n",
    "\n",
    "data = data.merge(\n",
    "    country_code, how='left',\n",
    "    left_on='hotel_country', right_on='COUNTRY'\n",
    ")\n",
    "data = data.rename(columns={'COUNTRY CODE': 'hotel_country_code'})\n"
   ]
  },
  {
   "attachments": {},
   "cell_type": "markdown",
   "metadata": {},
   "source": [
    "---"
   ]
  },
  {
   "attachments": {},
   "cell_type": "markdown",
   "metadata": {},
   "source": [
    "Код ревьюера по его национальной принадлежности"
   ]
  },
  {
   "cell_type": "code",
   "execution_count": 74,
   "metadata": {},
   "outputs": [],
   "source": [
    "# Стрипуем национальность для будущего присвоения кода страны\n",
    "data['reviewer_nationality'] = data['reviewer_nationality'].str.strip()\n",
    "# Переименуем пару стран\n",
    "data['reviewer_nationality'] = data['reviewer_nationality'].str.replace(\n",
    "    'United States of America', 'United States')\n",
    "\n",
    "# Формируем новый фрейм с кодом страны ревьюера\n",
    "data = data.merge(\n",
    "    country_code, how='left',\n",
    "    left_on='reviewer_nationality', right_on='COUNTRY'\n",
    ")\n",
    "\n",
    "data = data.rename(\n",
    "    columns={'COUNTRY CODE': 'nationality_code', 'COUNTRY': 'reviewer_country'})\n",
    "\n",
    "data['nationality_code'] = data['nationality_code'].fillna(\n",
    "    data['nationality_code'].mode()[0])\n"
   ]
  },
  {
   "attachments": {},
   "cell_type": "markdown",
   "metadata": {},
   "source": [
    "Являетлся ли ревьюер жителем страны в которой находится отель"
   ]
  },
  {
   "cell_type": "code",
   "execution_count": 75,
   "metadata": {},
   "outputs": [],
   "source": [
    "data['is_citizen'] = data['nationality_code'] == data['hotel_country_code']\n",
    "data['is_citizen'] = data['is_citizen'].apply(lambda x: 1 if x == True else 0)"
   ]
  },
  {
   "attachments": {},
   "cell_type": "markdown",
   "metadata": {},
   "source": [
    "Выкинем колонки которые больше не будут участвовать в анализе"
   ]
  },
  {
   "cell_type": "code",
   "execution_count": 76,
   "metadata": {},
   "outputs": [],
   "source": [
    "data.drop(['COUNTRY_x', 'COUNTRY_y'], axis=1, inplace=True)"
   ]
  },
  {
   "attachments": {},
   "cell_type": "markdown",
   "metadata": {},
   "source": [
    "---"
   ]
  },
  {
   "attachments": {},
   "cell_type": "markdown",
   "metadata": {},
   "source": [
    "### Подсмотрел у коллег модуль для семантического анализа отзывов, т.к. собственные изыскания приводили к использованию сложных для меня на данном этапе инструментов"
   ]
  },
  {
   "cell_type": "code",
   "execution_count": 77,
   "metadata": {},
   "outputs": [],
   "source": [
    "from afinn import Afinn\n",
    "afinn = Afinn()"
   ]
  },
  {
   "cell_type": "code",
   "execution_count": 78,
   "metadata": {},
   "outputs": [],
   "source": [
    "# Стрипуем озоры\n",
    "data['negative_review'] = data['negative_review'].str.strip()\n",
    "data['positive_review'] = data['positive_review'].str.strip()"
   ]
  },
  {
   "cell_type": "code",
   "execution_count": 79,
   "metadata": {},
   "outputs": [],
   "source": [
    "# Проведем семантический анализ ревью\n",
    "data['semantic_analisis_neg'] = data['negative_review'].apply(lambda x: afinn.score(x))\n",
    "data['semantic_analisis_pos'] = data['positive_review'].apply(lambda x: afinn.score(x))"
   ]
  },
  {
   "attachments": {},
   "cell_type": "markdown",
   "metadata": {},
   "source": [
    "---"
   ]
  },
  {
   "attachments": {},
   "cell_type": "markdown",
   "metadata": {},
   "source": [
    "Вытаскиваем город для дальнейших манипуляций с растояниями до различных объектов"
   ]
  },
  {
   "cell_type": "code",
   "execution_count": 80,
   "metadata": {},
   "outputs": [],
   "source": [
    "#Создаем признак города\n",
    "data['city'] = data['hotel_address'].str.split(' ')\n",
    "data['city'] = data['city'].apply(lambda x: x[-5] if x[-1] == 'Kingdom' else x[-2])"
   ]
  },
  {
   "cell_type": "code",
   "execution_count": 81,
   "metadata": {},
   "outputs": [
    {
     "data": {
      "text/plain": [
       "['London', 'Paris', 'Amsterdam', 'Milan', 'Barcelona', 'Vienna']"
      ]
     },
     "execution_count": 81,
     "metadata": {},
     "output_type": "execute_result"
    }
   ],
   "source": [
    "#Cоздаем список городов в сете\n",
    "city_list = list(data['city'].unique())\n",
    "city_list"
   ]
  },
  {
   "cell_type": "code",
   "execution_count": 82,
   "metadata": {},
   "outputs": [],
   "source": [
    "# Условные центры городов выбранные на основание исторических достопримечательностей. \n",
    "# В данном случае рассматриваются центры притяжения для отдыха, но не бизнес поездок, \n",
    "# т.к. предыдущие изыскания показали превалирующую долю в датасете и признак бизнес поездок был дропнут\n",
    "# в виду наличия мультиколлинеарности и меньшей доли. \n",
    "\n",
    "cities_coordinates = {\n",
    "    'London': (51.50458, -0.1332), 'Paris': (48.85637, 2.33475),\n",
    "    'Amsterdam': (52.374787, 4.896339), 'Milan': (45.470098, 9.179906),\n",
    "    'Vienna': (48.207904, 16.368116), 'Barcelona': (41.399367, 2.169938)\n",
    "}\n"
   ]
  },
  {
   "attachments": {},
   "cell_type": "markdown",
   "metadata": {},
   "source": [
    "Немного прервемся с расстоянием\n",
    "\n",
    "Заполняем пропуски в широте и долготе используя адреса отелей"
   ]
  },
  {
   "cell_type": "code",
   "execution_count": 83,
   "metadata": {},
   "outputs": [],
   "source": [
    "#Создаем пустые списки, в них будем нарезать куски адресов, точность будет не абсолюьная, но приемлимая\n",
    "temp_list = []\n",
    "list_of_nan = []\n",
    "address_list = []\n",
    "\n",
    "#Создаем список уникальных адресов отелей с пропусками\n",
    "empty_loc = data[data['lat'].isnull()]\n",
    "empty_hot_list = list(empty_loc['hotel_address'].unique())\n",
    "\n",
    "#Планомерно заполняем наши списки, впоследующем address_list используем для получения кортежей lat/lng\n",
    "for i in empty_hot_list:\n",
    "    temp_var = i.split(' ')[-1:-4:-1]\n",
    "    temp_list.append(temp_var)\n",
    "    \n",
    "for i in temp_list:\n",
    "    list_of_nan.append(i[::-1])\n",
    "\n",
    "for i in list_of_nan:\n",
    "    address_list.append(' '.join(i))\n",
    "    \n",
    "\n",
    "#Пробегаем циклом по адресам и создаем список кортежей ключ- часть адреса, значение lat/lng\n",
    "location_tuple_dict = dict()\n",
    "lat_dict = dict()\n",
    "lng_dict = dict()\n",
    "geolocator = Nominatim(user_agent=\"my_request\")\n",
    "for loc in address_list:\n",
    "    location = geolocator.geocode(loc)\n",
    "    location_tuple_dict[loc]=(location.latitude, location.longitude)\n",
    "    lat_dict[loc] = location.latitude\n",
    "    lng_dict[loc] = location.longitude\n",
    "\n",
    "# Востанавливаем словарь с полным названием, после всех манипуляций у нас есть словарь с ключами\n",
    "# в виде полного адреса и значениями в виде кортежа координат\n",
    "new_lat_dict = dict()\n",
    "for i in lat_dict:\n",
    "    for j in empty_hot_list:\n",
    "        if i in j:\n",
    "            new_lat_dict[j] = lat_dict[i]\n",
    "            \n",
    "new_lng_dict = dict()\n",
    "for i in lng_dict:\n",
    "    for j in empty_hot_list:\n",
    "        if i in j:\n",
    "            new_lng_dict[j] = lng_dict[i]"
   ]
  },
  {
   "cell_type": "code",
   "execution_count": 84,
   "metadata": {},
   "outputs": [],
   "source": [
    "#Заполним пустоты в широте\n",
    "data['lat'] = data['lat'].fillna(data['hotel_address'].apply(lambda x: new_lat_dict.get(x)))"
   ]
  },
  {
   "cell_type": "code",
   "execution_count": 85,
   "metadata": {},
   "outputs": [],
   "source": [
    "#И долготе\n",
    "data['lng'] = data['lng'].fillna(data['hotel_address'].apply(lambda x: new_lng_dict.get(x)))"
   ]
  },
  {
   "cell_type": "code",
   "execution_count": 86,
   "metadata": {},
   "outputs": [],
   "source": [
    "#Создаем новый фит координат отеля\n",
    "data['coordinates'] = tuple(zip(data['lat'], data['lng']))\n"
   ]
  },
  {
   "attachments": {},
   "cell_type": "markdown",
   "metadata": {},
   "source": [
    "Вернемся к расстояниям"
   ]
  },
  {
   "cell_type": "code",
   "execution_count": 87,
   "metadata": {},
   "outputs": [],
   "source": [
    "data['local_center'] = data['city'].apply(lambda x: cities_coordinates[x])"
   ]
  },
  {
   "cell_type": "code",
   "execution_count": 88,
   "metadata": {},
   "outputs": [],
   "source": [
    "# Функция для нахождения расстояния\n",
    "def distancer(row):\n",
    "    coords_1 = row['coordinates']\n",
    "    coords_2 = row['local_center']\n",
    "    return geodesic(coords_1, coords_2).km\n",
    "\n",
    "data['distance_center'] = data.apply(distancer, axis=1)"
   ]
  },
  {
   "cell_type": "code",
   "execution_count": 89,
   "metadata": {},
   "outputs": [
    {
     "data": {
      "text/html": [
       "<div>\n",
       "<style scoped>\n",
       "    .dataframe tbody tr th:only-of-type {\n",
       "        vertical-align: middle;\n",
       "    }\n",
       "\n",
       "    .dataframe tbody tr th {\n",
       "        vertical-align: top;\n",
       "    }\n",
       "\n",
       "    .dataframe thead th {\n",
       "        text-align: right;\n",
       "    }\n",
       "</style>\n",
       "<table border=\"1\" class=\"dataframe\">\n",
       "  <thead>\n",
       "    <tr style=\"text-align: right;\">\n",
       "      <th></th>\n",
       "      <th>hotel_address</th>\n",
       "      <th>additional_number_of_scoring</th>\n",
       "      <th>review_date</th>\n",
       "      <th>average_score</th>\n",
       "      <th>hotel_name</th>\n",
       "      <th>reviewer_nationality</th>\n",
       "      <th>negative_review</th>\n",
       "      <th>review_total_negative_word_counts</th>\n",
       "      <th>total_number_of_reviews</th>\n",
       "      <th>positive_review</th>\n",
       "      <th>...</th>\n",
       "      <th>hotel_country</th>\n",
       "      <th>hotel_country_code</th>\n",
       "      <th>nationality_code</th>\n",
       "      <th>is_citizen</th>\n",
       "      <th>semantic_analisis_neg</th>\n",
       "      <th>semantic_analisis_pos</th>\n",
       "      <th>city</th>\n",
       "      <th>coordinates</th>\n",
       "      <th>local_center</th>\n",
       "      <th>distance_center</th>\n",
       "    </tr>\n",
       "  </thead>\n",
       "  <tbody>\n",
       "    <tr>\n",
       "      <th>0</th>\n",
       "      <td>Stratton Street Mayfair Westminster Borough Lo...</td>\n",
       "      <td>581</td>\n",
       "      <td>2/19/2016</td>\n",
       "      <td>8.4</td>\n",
       "      <td>1366</td>\n",
       "      <td>United Kingdom</td>\n",
       "      <td>Leaving</td>\n",
       "      <td>3</td>\n",
       "      <td>1994</td>\n",
       "      <td>Staff were amazing</td>\n",
       "      <td>...</td>\n",
       "      <td>United Kingdom</td>\n",
       "      <td>44</td>\n",
       "      <td>44.0</td>\n",
       "      <td>1</td>\n",
       "      <td>0.0</td>\n",
       "      <td>4.0</td>\n",
       "      <td>London</td>\n",
       "      <td>(51.5078943, -0.1436707)</td>\n",
       "      <td>(51.50458, -0.1332)</td>\n",
       "      <td>0.815161</td>\n",
       "    </tr>\n",
       "    <tr>\n",
       "      <th>1</th>\n",
       "      <td>130 134 Southampton Row Camden London WC1B 5AF...</td>\n",
       "      <td>299</td>\n",
       "      <td>1/12/2017</td>\n",
       "      <td>8.3</td>\n",
       "      <td>975</td>\n",
       "      <td>United Kingdom</td>\n",
       "      <td>poor breakfast</td>\n",
       "      <td>3</td>\n",
       "      <td>1361</td>\n",
       "      <td>location</td>\n",
       "      <td>...</td>\n",
       "      <td>United Kingdom</td>\n",
       "      <td>44</td>\n",
       "      <td>44.0</td>\n",
       "      <td>1</td>\n",
       "      <td>-2.0</td>\n",
       "      <td>0.0</td>\n",
       "      <td>London</td>\n",
       "      <td>(51.5210085, -0.1230966)</td>\n",
       "      <td>(51.50458, -0.1332)</td>\n",
       "      <td>1.957757</td>\n",
       "    </tr>\n",
       "    <tr>\n",
       "      <th>2</th>\n",
       "      <td>216 Avenue Jean Jaures 19th arr 75019 Paris Fr...</td>\n",
       "      <td>34</td>\n",
       "      <td>9/22/2015</td>\n",
       "      <td>7.5</td>\n",
       "      <td>983</td>\n",
       "      <td>United Kingdom</td>\n",
       "      <td>No Negative</td>\n",
       "      <td>0</td>\n",
       "      <td>607</td>\n",
       "      <td>Friendly staff quiet comfortable room spotless...</td>\n",
       "      <td>...</td>\n",
       "      <td>France</td>\n",
       "      <td>33</td>\n",
       "      <td>44.0</td>\n",
       "      <td>0</td>\n",
       "      <td>-3.0</td>\n",
       "      <td>9.0</td>\n",
       "      <td>Paris</td>\n",
       "      <td>(48.8886969, 2.3945403)</td>\n",
       "      <td>(48.85637, 2.33475)</td>\n",
       "      <td>5.671150</td>\n",
       "    </tr>\n",
       "    <tr>\n",
       "      <th>3</th>\n",
       "      <td>Molenwerf 1 1014 AG Amsterdam Netherlands</td>\n",
       "      <td>914</td>\n",
       "      <td>3/5/2016</td>\n",
       "      <td>8.5</td>\n",
       "      <td>349</td>\n",
       "      <td>Poland</td>\n",
       "      <td>Torn sheets</td>\n",
       "      <td>4</td>\n",
       "      <td>7586</td>\n",
       "      <td>The staff was very friendly and helpful Breakf...</td>\n",
       "      <td>...</td>\n",
       "      <td>Netherlands</td>\n",
       "      <td>31</td>\n",
       "      <td>48.0</td>\n",
       "      <td>0</td>\n",
       "      <td>-2.0</td>\n",
       "      <td>7.0</td>\n",
       "      <td>Amsterdam</td>\n",
       "      <td>(52.385601, 4.8470597)</td>\n",
       "      <td>(52.374787, 4.896339)</td>\n",
       "      <td>3.564888</td>\n",
       "    </tr>\n",
       "    <tr>\n",
       "      <th>4</th>\n",
       "      <td>Via Mecenate 121 20138 Milan Italy</td>\n",
       "      <td>105</td>\n",
       "      <td>12/30/2015</td>\n",
       "      <td>8.0</td>\n",
       "      <td>1088</td>\n",
       "      <td>France</td>\n",
       "      <td>Nothing</td>\n",
       "      <td>2</td>\n",
       "      <td>1607</td>\n",
       "      <td>Very nice hotel Price is excellent when compar...</td>\n",
       "      <td>...</td>\n",
       "      <td>Italy</td>\n",
       "      <td>39</td>\n",
       "      <td>33.0</td>\n",
       "      <td>0</td>\n",
       "      <td>0.0</td>\n",
       "      <td>11.0</td>\n",
       "      <td>Milan</td>\n",
       "      <td>(45.4481878, 9.2570459)</td>\n",
       "      <td>(45.470098, 9.179906)</td>\n",
       "      <td>6.506341</td>\n",
       "    </tr>\n",
       "  </tbody>\n",
       "</table>\n",
       "<p>5 rows × 44 columns</p>\n",
       "</div>"
      ],
      "text/plain": [
       "                                       hotel_address  \\\n",
       "0  Stratton Street Mayfair Westminster Borough Lo...   \n",
       "1  130 134 Southampton Row Camden London WC1B 5AF...   \n",
       "2  216 Avenue Jean Jaures 19th arr 75019 Paris Fr...   \n",
       "3          Molenwerf 1 1014 AG Amsterdam Netherlands   \n",
       "4                 Via Mecenate 121 20138 Milan Italy   \n",
       "\n",
       "   additional_number_of_scoring review_date  average_score  hotel_name  \\\n",
       "0                           581   2/19/2016            8.4        1366   \n",
       "1                           299   1/12/2017            8.3         975   \n",
       "2                            34   9/22/2015            7.5         983   \n",
       "3                           914    3/5/2016            8.5         349   \n",
       "4                           105  12/30/2015            8.0        1088   \n",
       "\n",
       "  reviewer_nationality negative_review  review_total_negative_word_counts  \\\n",
       "0       United Kingdom         Leaving                                  3   \n",
       "1       United Kingdom  poor breakfast                                  3   \n",
       "2       United Kingdom     No Negative                                  0   \n",
       "3               Poland     Torn sheets                                  4   \n",
       "4               France         Nothing                                  2   \n",
       "\n",
       "   total_number_of_reviews                                    positive_review  \\\n",
       "0                     1994                                 Staff were amazing   \n",
       "1                     1361                                           location   \n",
       "2                      607  Friendly staff quiet comfortable room spotless...   \n",
       "3                     7586  The staff was very friendly and helpful Breakf...   \n",
       "4                     1607  Very nice hotel Price is excellent when compar...   \n",
       "\n",
       "   ...   hotel_country  hotel_country_code  nationality_code is_citizen  \\\n",
       "0  ...  United Kingdom                  44              44.0          1   \n",
       "1  ...  United Kingdom                  44              44.0          1   \n",
       "2  ...          France                  33              44.0          0   \n",
       "3  ...     Netherlands                  31              48.0          0   \n",
       "4  ...           Italy                  39              33.0          0   \n",
       "\n",
       "  semantic_analisis_neg  semantic_analisis_pos       city  \\\n",
       "0                   0.0                    4.0     London   \n",
       "1                  -2.0                    0.0     London   \n",
       "2                  -3.0                    9.0      Paris   \n",
       "3                  -2.0                    7.0  Amsterdam   \n",
       "4                   0.0                   11.0      Milan   \n",
       "\n",
       "                coordinates           local_center  distance_center  \n",
       "0  (51.5078943, -0.1436707)    (51.50458, -0.1332)         0.815161  \n",
       "1  (51.5210085, -0.1230966)    (51.50458, -0.1332)         1.957757  \n",
       "2   (48.8886969, 2.3945403)    (48.85637, 2.33475)         5.671150  \n",
       "3    (52.385601, 4.8470597)  (52.374787, 4.896339)         3.564888  \n",
       "4   (45.4481878, 9.2570459)  (45.470098, 9.179906)         6.506341  \n",
       "\n",
       "[5 rows x 44 columns]"
      ]
     },
     "execution_count": 89,
     "metadata": {},
     "output_type": "execute_result"
    }
   ],
   "source": [
    "data.head()"
   ]
  },
  {
   "cell_type": "code",
   "execution_count": 90,
   "metadata": {},
   "outputs": [
    {
     "data": {
      "text/plain": [
       "count    342081.000000\n",
       "mean          3.116058\n",
       "std           2.504925\n",
       "min           0.035050\n",
       "25%           1.407426\n",
       "50%           2.471106\n",
       "75%           3.859876\n",
       "max          17.525033\n",
       "Name: distance_center, dtype: float64"
      ]
     },
     "execution_count": 90,
     "metadata": {},
     "output_type": "execute_result"
    }
   ],
   "source": [
    "data['distance_center'].describe()"
   ]
  },
  {
   "cell_type": "code",
   "execution_count": 91,
   "metadata": {},
   "outputs": [],
   "source": [
    "# Функция определяющая группу удаленности от центра\n",
    "def distance_group(data):\n",
    "    if data <= 0.5:\n",
    "        return 'face_to_face'\n",
    "    elif 0.5 < data <= 2.5:\n",
    "        return 'close'\n",
    "    elif 2.5 < data <= 4:\n",
    "        return 'middle'\n",
    "    else:\n",
    "        return 'far_cry'"
   ]
  },
  {
   "cell_type": "code",
   "execution_count": null,
   "metadata": {},
   "outputs": [],
   "source": [
    "data['distance_group'] = data['distance_center'].apply(distance_group)"
   ]
  },
  {
   "cell_type": "code",
   "execution_count": null,
   "metadata": {},
   "outputs": [],
   "source": [
    "#Удаляем фиты, которые больше не понадобятся\n",
    "data.drop(['coordinates', 'local_center', 'distance_center', 'lat', 'lng'], axis=1, inplace=True)"
   ]
  },
  {
   "cell_type": "code",
   "execution_count": 94,
   "metadata": {},
   "outputs": [],
   "source": [
    "distance_dummies = pd.get_dummies(data['distance_group'])\n",
    "data = data.merge(distance_dummies, left_index=True, right_index=True)"
   ]
  },
  {
   "cell_type": "code",
   "execution_count": 97,
   "metadata": {},
   "outputs": [],
   "source": [
    "data.drop(['distance_group'], axis=1, inplace=True)"
   ]
  },
  {
   "attachments": {},
   "cell_type": "markdown",
   "metadata": {},
   "source": [
    "Вытаскиваем день недели и отдельно месяц"
   ]
  },
  {
   "cell_type": "code",
   "execution_count": 98,
   "metadata": {},
   "outputs": [],
   "source": [
    "data['review_date'] = pd.to_datetime(data['review_date'])\n",
    "data['month'] = data['review_date'].dt.month\n",
    "data['day_of_week'] = data['review_date'].dt.day_of_week"
   ]
  },
  {
   "cell_type": "code",
   "execution_count": null,
   "metadata": {},
   "outputs": [],
   "source": [
    "#Создаем признак дня недели\n",
    "week_days = pd.get_dummies(data['day_of_week'], prefix='day_of_week')\n",
    "data = data.merge(week_days, left_index=True, right_index=True)"
   ]
  },
  {
   "cell_type": "code",
   "execution_count": 100,
   "metadata": {},
   "outputs": [],
   "source": [
    "data.drop(['day_of_week'], axis=1, inplace=True)"
   ]
  },
  {
   "cell_type": "code",
   "execution_count": 102,
   "metadata": {},
   "outputs": [],
   "source": [
    "# Закодируем сезоны\n",
    "def seasons(data):\n",
    "    if data in [12,1,2]:\n",
    "        return 'winter'\n",
    "    elif data in [3,4,5]:\n",
    "        return 'spring'\n",
    "    elif data in [6,7,8]:\n",
    "        return 'summer'\n",
    "    else:\n",
    "        return 'autumn'"
   ]
  },
  {
   "cell_type": "code",
   "execution_count": 103,
   "metadata": {},
   "outputs": [],
   "source": [
    "data['season'] = data['month'].apply(seasons)"
   ]
  },
  {
   "cell_type": "code",
   "execution_count": 104,
   "metadata": {},
   "outputs": [],
   "source": [
    "seasons = pd.get_dummies(data['season'], prefix='season')\n",
    "data = data.merge(seasons, left_index=True, right_index=True)"
   ]
  },
  {
   "cell_type": "code",
   "execution_count": 105,
   "metadata": {},
   "outputs": [],
   "source": [
    "data.drop(['month'], axis=1, inplace=True)"
   ]
  },
  {
   "attachments": {},
   "cell_type": "markdown",
   "metadata": {},
   "source": [
    "---"
   ]
  },
  {
   "attachments": {},
   "cell_type": "markdown",
   "metadata": {},
   "source": [
    "Количество дней с момента отзыва как int"
   ]
  },
  {
   "cell_type": "code",
   "execution_count": 106,
   "metadata": {},
   "outputs": [],
   "source": [
    "# Достаем количество дней c момента публикации ревью\n",
    "def days_num(string_):\n",
    "    regexp = re.findall(r'\\d{0,5}', string_)\n",
    "    return regexp[0]\n",
    "\n",
    "\n",
    "data['days_since_review'] = data['days_since_review'].apply(days_num)\n",
    "data['days_since_review'] = data['days_since_review'].astype('int')\n"
   ]
  },
  {
   "attachments": {},
   "cell_type": "markdown",
   "metadata": {},
   "source": [
    "___"
   ]
  },
  {
   "attachments": {},
   "cell_type": "markdown",
   "metadata": {},
   "source": [
    "Тип номера"
   ]
  },
  {
   "cell_type": "code",
   "execution_count": 107,
   "metadata": {},
   "outputs": [],
   "source": [
    "room_types = [\n",
    "    'without Window', 'Guestroom', 'Classic', 'Single', \n",
    "    'Standard', 'Superior', 'Comfort', 'Club', 'Suite', \n",
    "    'Deluxe', 'King', 'Premier']\n"
   ]
  },
  {
   "attachments": {},
   "cell_type": "markdown",
   "metadata": {},
   "source": [
    "Проверяем на мультиколлинеарность"
   ]
  },
  {
   "cell_type": "code",
   "execution_count": 108,
   "metadata": {},
   "outputs": [
    {
     "name": "stderr",
     "output_type": "stream",
     "text": [
      "/var/folders/1_/hgb3xg852md0hqqs3ybwbsp40000gn/T/ipykernel_56357/1607366581.py:1: FutureWarning: The default value of numeric_only in DataFrame.corr is deprecated. In a future version, it will default to False. Select only valid columns or specify the value of numeric_only to silence this warning.\n",
      "  whole_corr = data.corr()[(data.corr() > 0.7) | (data.corr() < -0.7)]\n"
     ]
    },
    {
     "data": {
      "image/png": "[encoded data removed]",
      "text/plain": [
       "<Figure size 640x480 with 2 Axes>"
      ]
     },
     "metadata": {},
     "output_type": "display_data"
    }
   ],
   "source": [
    "whole_corr = data.corr()[(data.corr() > 0.7) | (data.corr() < -0.7)]\n",
    "sns.heatmap(whole_corr);"
   ]
  },
  {
   "cell_type": "code",
   "execution_count": 109,
   "metadata": {},
   "outputs": [
    {
     "data": {
      "text/html": [
       "<div>\n",
       "<style scoped>\n",
       "    .dataframe tbody tr th:only-of-type {\n",
       "        vertical-align: middle;\n",
       "    }\n",
       "\n",
       "    .dataframe tbody tr th {\n",
       "        vertical-align: top;\n",
       "    }\n",
       "\n",
       "    .dataframe thead th {\n",
       "        text-align: right;\n",
       "    }\n",
       "</style>\n",
       "<table border=\"1\" class=\"dataframe\">\n",
       "  <thead>\n",
       "    <tr style=\"text-align: right;\">\n",
       "      <th></th>\n",
       "      <th>Name</th>\n",
       "      <th>CNT</th>\n",
       "    </tr>\n",
       "  </thead>\n",
       "  <tbody>\n",
       "    <tr>\n",
       "      <th>0</th>\n",
       "      <td>additional_number_of_scoring</td>\n",
       "      <td>2</td>\n",
       "    </tr>\n",
       "    <tr>\n",
       "      <th>4</th>\n",
       "      <td>total_number_of_reviews</td>\n",
       "      <td>2</td>\n",
       "    </tr>\n",
       "    <tr>\n",
       "      <th>10</th>\n",
       "      <td>Leisure trip</td>\n",
       "      <td>2</td>\n",
       "    </tr>\n",
       "    <tr>\n",
       "      <th>14</th>\n",
       "      <td>Business trip</td>\n",
       "      <td>2</td>\n",
       "    </tr>\n",
       "  </tbody>\n",
       "</table>\n",
       "</div>"
      ],
      "text/plain": [
       "                            Name  CNT\n",
       "0   additional_number_of_scoring    2\n",
       "4        total_number_of_reviews    2\n",
       "10                  Leisure trip    2\n",
       "14                 Business trip    2"
      ]
     },
     "execution_count": 109,
     "metadata": {},
     "output_type": "execute_result"
    }
   ],
   "source": [
    "#Список фитов с мультиколлинеарностью\n",
    "direct_corr = whole_corr.count(axis=0)\n",
    "corr_columns = pd.DataFrame({'Name':direct_corr.index, 'CNT':direct_corr.values})\n",
    "corr_columns.query(\"CNT > 1\")"
   ]
  },
  {
   "cell_type": "code",
   "execution_count": 110,
   "metadata": {},
   "outputs": [],
   "source": [
    "data.drop(['additional_number_of_scoring', 'Business trip'], axis=1, inplace=True)\n",
    "#Дропаем столбец даты что бы модель могла работать\n",
    "data.drop(['review_date'], axis=1, inplace=True)"
   ]
  },
  {
   "attachments": {},
   "cell_type": "markdown",
   "metadata": {},
   "source": [
    "---"
   ]
  },
  {
   "cell_type": "code",
   "execution_count": 111,
   "metadata": {},
   "outputs": [],
   "source": [
    "#Дропаем строковые фиты\n",
    "object_columns = [s for s in data.columns if data[s].dtypes == 'object']\n",
    "data.drop(object_columns, axis = 1, inplace=True)"
   ]
  },
  {
   "cell_type": "code",
   "execution_count": 112,
   "metadata": {},
   "outputs": [],
   "source": [
    "# Разбиваем датафрейм на части, необходимые для обучения и тестирования модели  \n",
    "# Х - данные с информацией об отелях, у - целевая переменная (рейтинги отелей)  \n",
    "X = data.drop(['reviewer_score'], axis = 1)  \n",
    "y = data['reviewer_score'] "
   ]
  },
  {
   "cell_type": "code",
   "execution_count": 113,
   "metadata": {},
   "outputs": [],
   "source": [
    "# Загружаем специальный инструмент для разбивки:  \n",
    "from sklearn.model_selection import train_test_split  "
   ]
  },
  {
   "cell_type": "code",
   "execution_count": 114,
   "metadata": {},
   "outputs": [],
   "source": [
    "# Наборы данных с меткой \"train\" будут использоваться для обучения модели, \"test\" - для тестирования.  \n",
    "# Для тестирования мы будем использовать 20% от исходного датасета.  \n",
    "X_train, X_test, y_train, y_test = train_test_split(X, y, test_size=0.2, random_state=42)"
   ]
  },
  {
   "cell_type": "code",
   "execution_count": 115,
   "metadata": {},
   "outputs": [
    {
     "name": "stderr",
     "output_type": "stream",
     "text": [
      "[Parallel(n_jobs=-1)]: Using backend ThreadingBackend with 8 concurrent workers.\n",
      "[Parallel(n_jobs=-1)]: Done  34 tasks      | elapsed:   41.0s\n",
      "[Parallel(n_jobs=-1)]: Done 100 out of 100 | elapsed:  1.7min finished\n",
      "[Parallel(n_jobs=8)]: Using backend ThreadingBackend with 8 concurrent workers.\n",
      "[Parallel(n_jobs=8)]: Done  34 tasks      | elapsed:    0.3s\n",
      "[Parallel(n_jobs=8)]: Done 100 out of 100 | elapsed:    0.9s finished\n"
     ]
    }
   ],
   "source": [
    "# Импортируем необходимые библиотеки:\n",
    "# инструмент для создания и обучения модели\n",
    "from sklearn.ensemble import RandomForestRegressor\n",
    "from sklearn import metrics  # инструменты для оценки точности модели\n",
    "\n",
    "# Создаём модель\n",
    "regr = RandomForestRegressor(n_estimators=100, verbose=1, n_jobs=-1, random_state=42)\n",
    "\n",
    "# Обучаем модель на тестовом наборе данных\n",
    "regr.fit(X_train, y_train)\n",
    "\n",
    "# Используем обученную модель для предсказания рейтинга отелей в тестовой выборке.\n",
    "# Предсказанные значения записываем в переменную y_pred\n",
    "y_pred = regr.predict(X_test)\n"
   ]
  },
  {
   "cell_type": "code",
   "execution_count": 116,
   "metadata": {},
   "outputs": [
    {
     "name": "stdout",
     "output_type": "stream",
     "text": [
      "MAPE: 0.10219544704196079\n"
     ]
    }
   ],
   "source": [
    "# Сравниваем предсказанные значения (y_pred) с реальными (y_test), и смотрим насколько они отличаются  \n",
    "# Метрика называется Mean Absolute Percentage Error (MAPE) и показывает среднюю абсолютную процентную ошибку предсказанных значений от фактических.  \n",
    "print('MAPE:', metrics.mean_absolute_percentage_error(y_test, y_pred))"
   ]
  },
  {
   "attachments": {},
   "cell_type": "markdown",
   "metadata": {},
   "source": [
    "MAPE: 0.10219544704196079"
   ]
  },
  {
   "cell_type": "code",
   "execution_count": 117,
   "metadata": {},
   "outputs": [
    {
     "name": "stdout",
     "output_type": "stream",
     "text": [
      "MAE: 0.7997137085812003\n"
     ]
    }
   ],
   "source": [
    "# Сравниваем предсказанные значения (y_pred) с реальными (y_test), и смотрим насколько они в среднем отличаются\n",
    "# Метрика называется Mean Absolute Error (MAE) и показывает среднее отклонение предсказанных значений от фактических.\n",
    "print('MAE:', metrics.mean_absolute_error(y_test, y_pred))"
   ]
  },
  {
   "attachments": {},
   "cell_type": "markdown",
   "metadata": {},
   "source": [
    "MAE: "
   ]
  },
  {
   "cell_type": "markdown",
   "metadata": {},
   "source": []
  }
 ],
 "metadata": {
  "kernelspec": {
   "display_name": "ds",
   "language": "python",
   "name": "python3"
  },
  "language_info": {
   "codemirror_mode": {
    "name": "ipython",
    "version": 3
   },
   "file_extension": ".py",
   "mimetype": "text/x-python",
   "name": "python",
   "nbconvert_exporter": "python",
   "pygments_lexer": "ipython3",
   "version": "3.11.0"
  },
  "vscode": {
   "interpreter": {
    "hash": "d40a6ae76423cf5fae73028028fb017d8630dd167584993d74bc99181da5a036"
   }
  }
 },
 "nbformat": 4,
 "nbformat_minor": 2
}
