{
 "cells": [
  {
   "cell_type": "code",
   "execution_count": 1,
   "metadata": {},
   "outputs": [],
   "source": [
    "import pandas as pd\n",
    "import numpy as np\n",
    "import re\n",
    "import requests\n",
    "from geopy.distance import geodesic\n",
    "from geopy.geocoders import Nominatim\n",
    "import seaborn as sns"
   ]
  },
  {
   "cell_type": "code",
   "execution_count": 2,
   "metadata": {},
   "outputs": [
    {
     "data": {
      "text/html": [
       "<div>\n",
       "<style scoped>\n",
       "    .dataframe tbody tr th:only-of-type {\n",
       "        vertical-align: middle;\n",
       "    }\n",
       "\n",
       "    .dataframe tbody tr th {\n",
       "        vertical-align: top;\n",
       "    }\n",
       "\n",
       "    .dataframe thead th {\n",
       "        text-align: right;\n",
       "    }\n",
       "</style>\n",
       "<table border=\"1\" class=\"dataframe\">\n",
       "  <thead>\n",
       "    <tr style=\"text-align: right;\">\n",
       "      <th></th>\n",
       "      <th>hotel_address</th>\n",
       "      <th>additional_number_of_scoring</th>\n",
       "      <th>review_date</th>\n",
       "      <th>average_score</th>\n",
       "      <th>hotel_name</th>\n",
       "      <th>reviewer_nationality</th>\n",
       "      <th>negative_review</th>\n",
       "      <th>review_total_negative_word_counts</th>\n",
       "      <th>total_number_of_reviews</th>\n",
       "      <th>positive_review</th>\n",
       "      <th>review_total_positive_word_counts</th>\n",
       "      <th>total_number_of_reviews_reviewer_has_given</th>\n",
       "      <th>reviewer_score</th>\n",
       "      <th>tags</th>\n",
       "      <th>days_since_review</th>\n",
       "      <th>lat</th>\n",
       "      <th>lng</th>\n",
       "    </tr>\n",
       "  </thead>\n",
       "  <tbody>\n",
       "    <tr>\n",
       "      <th>0</th>\n",
       "      <td>Stratton Street Mayfair Westminster Borough Lo...</td>\n",
       "      <td>581</td>\n",
       "      <td>2/19/2016</td>\n",
       "      <td>8.4</td>\n",
       "      <td>The May Fair Hotel</td>\n",
       "      <td>United Kingdom</td>\n",
       "      <td>Leaving</td>\n",
       "      <td>3</td>\n",
       "      <td>1994</td>\n",
       "      <td>Staff were amazing</td>\n",
       "      <td>4</td>\n",
       "      <td>7</td>\n",
       "      <td>10.0</td>\n",
       "      <td>[' Leisure trip ', ' Couple ', ' Studio Suite ...</td>\n",
       "      <td>531 day</td>\n",
       "      <td>51.507894</td>\n",
       "      <td>-0.143671</td>\n",
       "    </tr>\n",
       "    <tr>\n",
       "      <th>1</th>\n",
       "      <td>130 134 Southampton Row Camden London WC1B 5AF...</td>\n",
       "      <td>299</td>\n",
       "      <td>1/12/2017</td>\n",
       "      <td>8.3</td>\n",
       "      <td>Mercure London Bloomsbury Hotel</td>\n",
       "      <td>United Kingdom</td>\n",
       "      <td>poor breakfast</td>\n",
       "      <td>3</td>\n",
       "      <td>1361</td>\n",
       "      <td>location</td>\n",
       "      <td>2</td>\n",
       "      <td>14</td>\n",
       "      <td>6.3</td>\n",
       "      <td>[' Business trip ', ' Couple ', ' Standard Dou...</td>\n",
       "      <td>203 day</td>\n",
       "      <td>51.521009</td>\n",
       "      <td>-0.123097</td>\n",
       "    </tr>\n",
       "    <tr>\n",
       "      <th>2</th>\n",
       "      <td>151 bis Rue de Rennes 6th arr 75006 Paris France</td>\n",
       "      <td>32</td>\n",
       "      <td>10/18/2016</td>\n",
       "      <td>8.9</td>\n",
       "      <td>Legend Saint Germain by Elegancia</td>\n",
       "      <td>China</td>\n",
       "      <td>No kettle in room</td>\n",
       "      <td>6</td>\n",
       "      <td>406</td>\n",
       "      <td>No Positive</td>\n",
       "      <td>0</td>\n",
       "      <td>14</td>\n",
       "      <td>7.5</td>\n",
       "      <td>[' Leisure trip ', ' Solo traveler ', ' Modern...</td>\n",
       "      <td>289 day</td>\n",
       "      <td>48.845377</td>\n",
       "      <td>2.325643</td>\n",
       "    </tr>\n",
       "  </tbody>\n",
       "</table>\n",
       "</div>"
      ],
      "text/plain": [
       "                                       hotel_address  \\\n",
       "0  Stratton Street Mayfair Westminster Borough Lo...   \n",
       "1  130 134 Southampton Row Camden London WC1B 5AF...   \n",
       "2   151 bis Rue de Rennes 6th arr 75006 Paris France   \n",
       "\n",
       "   additional_number_of_scoring review_date  average_score  \\\n",
       "0                           581   2/19/2016            8.4   \n",
       "1                           299   1/12/2017            8.3   \n",
       "2                            32  10/18/2016            8.9   \n",
       "\n",
       "                          hotel_name reviewer_nationality  \\\n",
       "0                 The May Fair Hotel      United Kingdom    \n",
       "1    Mercure London Bloomsbury Hotel      United Kingdom    \n",
       "2  Legend Saint Germain by Elegancia               China    \n",
       "\n",
       "       negative_review  review_total_negative_word_counts  \\\n",
       "0             Leaving                                   3   \n",
       "1       poor breakfast                                  3   \n",
       "2   No kettle in room                                   6   \n",
       "\n",
       "   total_number_of_reviews      positive_review  \\\n",
       "0                     1994   Staff were amazing   \n",
       "1                     1361             location   \n",
       "2                      406          No Positive   \n",
       "\n",
       "   review_total_positive_word_counts  \\\n",
       "0                                  4   \n",
       "1                                  2   \n",
       "2                                  0   \n",
       "\n",
       "   total_number_of_reviews_reviewer_has_given  reviewer_score  \\\n",
       "0                                           7            10.0   \n",
       "1                                          14             6.3   \n",
       "2                                          14             7.5   \n",
       "\n",
       "                                                tags days_since_review  \\\n",
       "0  [' Leisure trip ', ' Couple ', ' Studio Suite ...           531 day   \n",
       "1  [' Business trip ', ' Couple ', ' Standard Dou...           203 day   \n",
       "2  [' Leisure trip ', ' Solo traveler ', ' Modern...           289 day   \n",
       "\n",
       "         lat       lng  \n",
       "0  51.507894 -0.143671  \n",
       "1  51.521009 -0.123097  \n",
       "2  48.845377  2.325643  "
      ]
     },
     "execution_count": 2,
     "metadata": {},
     "output_type": "execute_result"
    }
   ],
   "source": [
    "hotels = pd.read_csv('./data/hotels.csv')\n",
    "hotels.head(3)"
   ]
  },
  {
   "cell_type": "code",
   "execution_count": 3,
   "metadata": {},
   "outputs": [
    {
     "name": "stdout",
     "output_type": "stream",
     "text": [
      "<class 'pandas.core.frame.DataFrame'>\n",
      "RangeIndex: 386803 entries, 0 to 386802\n",
      "Data columns (total 17 columns):\n",
      " #   Column                                      Non-Null Count   Dtype  \n",
      "---  ------                                      --------------   -----  \n",
      " 0   hotel_address                               386803 non-null  object \n",
      " 1   additional_number_of_scoring                386803 non-null  int64  \n",
      " 2   review_date                                 386803 non-null  object \n",
      " 3   average_score                               386803 non-null  float64\n",
      " 4   hotel_name                                  386803 non-null  object \n",
      " 5   reviewer_nationality                        386803 non-null  object \n",
      " 6   negative_review                             386803 non-null  object \n",
      " 7   review_total_negative_word_counts           386803 non-null  int64  \n",
      " 8   total_number_of_reviews                     386803 non-null  int64  \n",
      " 9   positive_review                             386803 non-null  object \n",
      " 10  review_total_positive_word_counts           386803 non-null  int64  \n",
      " 11  total_number_of_reviews_reviewer_has_given  386803 non-null  int64  \n",
      " 12  reviewer_score                              386803 non-null  float64\n",
      " 13  tags                                        386803 non-null  object \n",
      " 14  days_since_review                           386803 non-null  object \n",
      " 15  lat                                         384355 non-null  float64\n",
      " 16  lng                                         384355 non-null  float64\n",
      "dtypes: float64(4), int64(5), object(8)\n",
      "memory usage: 50.2+ MB\n"
     ]
    }
   ],
   "source": [
    "hotels.info()"
   ]
  },
  {
   "cell_type": "code",
   "execution_count": 4,
   "metadata": {},
   "outputs": [],
   "source": [
    "#Удаляем дубликаты \n",
    "hotels = hotels.drop_duplicates()"
   ]
  },
  {
   "cell_type": "code",
   "execution_count": 5,
   "metadata": {},
   "outputs": [
    {
     "data": {
      "text/plain": [
       "<AxesSubplot: ylabel='reviewer_score'>"
      ]
     },
     "execution_count": 5,
     "metadata": {},
     "output_type": "execute_result"
    },
    {
     "data": {
      "image/png": "[encoded data removed]",
      "text/plain": [
       "<Figure size 640x480 with 1 Axes>"
      ]
     },
     "metadata": {},
     "output_type": "display_data"
    }
   ],
   "source": [
    "#Смотрим выбросы\n",
    "sns.boxplot(\n",
    "\n",
    "    y=hotels['reviewer_score']\n",
    ")\n"
   ]
  },
  {
   "cell_type": "code",
   "execution_count": 6,
   "metadata": {},
   "outputs": [],
   "source": [
    "# Finding outliers by z-method with adjustment option for boundaries.\n",
    "\n",
    "def outliers_z_score(data, feature, left_mod=3, right_mod=3, log_scale=False):\n",
    "    \n",
    "    if log_scale:\n",
    "        x = np.log(data[feature]+1)\n",
    "    else:\n",
    "        x = data[feature]\n",
    "\n",
    "    mu = x.mean()\n",
    "\n",
    "    sigma = x.std()\n",
    "\n",
    "    lower_bound = mu - left_mod * sigma\n",
    "\n",
    "    upper_bound = mu + right_mod * sigma\n",
    "\n",
    "    outliers = data[(x < lower_bound) | (x > upper_bound)]\n",
    "\n",
    "    cleaned = data[(x > lower_bound) & (x < upper_bound)]\n",
    "\n",
    "    print(f'Количество выбросов по z-методу: {outliers.shape[0]}')\n",
    "    print(f'Результирующее количество строк в очищенном фрейме: {cleaned.shape[0]}')\n",
    "\n",
    "    return outliers, cleaned"
   ]
  },
  {
   "cell_type": "code",
   "execution_count": 7,
   "metadata": {},
   "outputs": [
    {
     "name": "stdout",
     "output_type": "stream",
     "text": [
      "Количество выбросов по z-методу: 7997\n",
      "Результирующее количество строк в очищенном фрейме: 378499\n"
     ]
    }
   ],
   "source": [
    "outliers, data = outliers_z_score(data=hotels, feature='reviewer_score', log_scale=True, left_mod=3, right_mod=3)"
   ]
  },
  {
   "cell_type": "code",
   "execution_count": 8,
   "metadata": {},
   "outputs": [
    {
     "data": {
      "text/html": [
       "<div>\n",
       "<style scoped>\n",
       "    .dataframe tbody tr th:only-of-type {\n",
       "        vertical-align: middle;\n",
       "    }\n",
       "\n",
       "    .dataframe tbody tr th {\n",
       "        vertical-align: top;\n",
       "    }\n",
       "\n",
       "    .dataframe thead th {\n",
       "        text-align: right;\n",
       "    }\n",
       "</style>\n",
       "<table border=\"1\" class=\"dataframe\">\n",
       "  <thead>\n",
       "    <tr style=\"text-align: right;\">\n",
       "      <th></th>\n",
       "      <th>additional_number_of_scoring</th>\n",
       "      <th>average_score</th>\n",
       "      <th>review_total_negative_word_counts</th>\n",
       "      <th>total_number_of_reviews</th>\n",
       "      <th>review_total_positive_word_counts</th>\n",
       "      <th>total_number_of_reviews_reviewer_has_given</th>\n",
       "      <th>reviewer_score</th>\n",
       "      <th>lat</th>\n",
       "      <th>lng</th>\n",
       "    </tr>\n",
       "  </thead>\n",
       "  <tbody>\n",
       "    <tr>\n",
       "      <th>count</th>\n",
       "      <td>7997.000000</td>\n",
       "      <td>7997.000000</td>\n",
       "      <td>7997.000000</td>\n",
       "      <td>7997.000000</td>\n",
       "      <td>7997.000000</td>\n",
       "      <td>7997.000000</td>\n",
       "      <td>7997.000000</td>\n",
       "      <td>7949.000000</td>\n",
       "      <td>7949.000000</td>\n",
       "    </tr>\n",
       "    <tr>\n",
       "      <th>mean</th>\n",
       "      <td>575.948356</td>\n",
       "      <td>7.903414</td>\n",
       "      <td>50.101163</td>\n",
       "      <td>3155.999625</td>\n",
       "      <td>7.777542</td>\n",
       "      <td>5.458797</td>\n",
       "      <td>3.265525</td>\n",
       "      <td>49.657551</td>\n",
       "      <td>2.514527</td>\n",
       "    </tr>\n",
       "    <tr>\n",
       "      <th>std</th>\n",
       "      <td>630.343734</td>\n",
       "      <td>0.621663</td>\n",
       "      <td>63.233038</td>\n",
       "      <td>2703.147270</td>\n",
       "      <td>17.888283</td>\n",
       "      <td>8.896771</td>\n",
       "      <td>0.498053</td>\n",
       "      <td>3.252028</td>\n",
       "      <td>4.194720</td>\n",
       "    </tr>\n",
       "    <tr>\n",
       "      <th>min</th>\n",
       "      <td>1.000000</td>\n",
       "      <td>5.200000</td>\n",
       "      <td>0.000000</td>\n",
       "      <td>49.000000</td>\n",
       "      <td>0.000000</td>\n",
       "      <td>1.000000</td>\n",
       "      <td>2.500000</td>\n",
       "      <td>41.328376</td>\n",
       "      <td>-0.369758</td>\n",
       "    </tr>\n",
       "    <tr>\n",
       "      <th>25%</th>\n",
       "      <td>185.000000</td>\n",
       "      <td>7.500000</td>\n",
       "      <td>11.000000</td>\n",
       "      <td>1295.000000</td>\n",
       "      <td>0.000000</td>\n",
       "      <td>1.000000</td>\n",
       "      <td>2.900000</td>\n",
       "      <td>48.849485</td>\n",
       "      <td>-0.168358</td>\n",
       "    </tr>\n",
       "    <tr>\n",
       "      <th>50%</th>\n",
       "      <td>369.000000</td>\n",
       "      <td>8.000000</td>\n",
       "      <td>29.000000</td>\n",
       "      <td>2383.000000</td>\n",
       "      <td>3.000000</td>\n",
       "      <td>2.000000</td>\n",
       "      <td>3.300000</td>\n",
       "      <td>51.501910</td>\n",
       "      <td>-0.023221</td>\n",
       "    </tr>\n",
       "    <tr>\n",
       "      <th>75%</th>\n",
       "      <td>709.000000</td>\n",
       "      <td>8.400000</td>\n",
       "      <td>63.000000</td>\n",
       "      <td>3980.000000</td>\n",
       "      <td>8.000000</td>\n",
       "      <td>6.000000</td>\n",
       "      <td>3.800000</td>\n",
       "      <td>51.516689</td>\n",
       "      <td>2.359778</td>\n",
       "    </tr>\n",
       "    <tr>\n",
       "      <th>max</th>\n",
       "      <td>2682.000000</td>\n",
       "      <td>9.500000</td>\n",
       "      <td>402.000000</td>\n",
       "      <td>16670.000000</td>\n",
       "      <td>386.000000</td>\n",
       "      <td>211.000000</td>\n",
       "      <td>3.800000</td>\n",
       "      <td>52.400181</td>\n",
       "      <td>16.421974</td>\n",
       "    </tr>\n",
       "  </tbody>\n",
       "</table>\n",
       "</div>"
      ],
      "text/plain": [
       "       additional_number_of_scoring  average_score  \\\n",
       "count                   7997.000000    7997.000000   \n",
       "mean                     575.948356       7.903414   \n",
       "std                      630.343734       0.621663   \n",
       "min                        1.000000       5.200000   \n",
       "25%                      185.000000       7.500000   \n",
       "50%                      369.000000       8.000000   \n",
       "75%                      709.000000       8.400000   \n",
       "max                     2682.000000       9.500000   \n",
       "\n",
       "       review_total_negative_word_counts  total_number_of_reviews  \\\n",
       "count                        7997.000000              7997.000000   \n",
       "mean                           50.101163              3155.999625   \n",
       "std                            63.233038              2703.147270   \n",
       "min                             0.000000                49.000000   \n",
       "25%                            11.000000              1295.000000   \n",
       "50%                            29.000000              2383.000000   \n",
       "75%                            63.000000              3980.000000   \n",
       "max                           402.000000             16670.000000   \n",
       "\n",
       "       review_total_positive_word_counts  \\\n",
       "count                        7997.000000   \n",
       "mean                            7.777542   \n",
       "std                            17.888283   \n",
       "min                             0.000000   \n",
       "25%                             0.000000   \n",
       "50%                             3.000000   \n",
       "75%                             8.000000   \n",
       "max                           386.000000   \n",
       "\n",
       "       total_number_of_reviews_reviewer_has_given  reviewer_score  \\\n",
       "count                                 7997.000000     7997.000000   \n",
       "mean                                     5.458797        3.265525   \n",
       "std                                      8.896771        0.498053   \n",
       "min                                      1.000000        2.500000   \n",
       "25%                                      1.000000        2.900000   \n",
       "50%                                      2.000000        3.300000   \n",
       "75%                                      6.000000        3.800000   \n",
       "max                                    211.000000        3.800000   \n",
       "\n",
       "               lat          lng  \n",
       "count  7949.000000  7949.000000  \n",
       "mean     49.657551     2.514527  \n",
       "std       3.252028     4.194720  \n",
       "min      41.328376    -0.369758  \n",
       "25%      48.849485    -0.168358  \n",
       "50%      51.501910    -0.023221  \n",
       "75%      51.516689     2.359778  \n",
       "max      52.400181    16.421974  "
      ]
     },
     "execution_count": 8,
     "metadata": {},
     "output_type": "execute_result"
    }
   ],
   "source": [
    "outliers.describe()"
   ]
  },
  {
   "cell_type": "code",
   "execution_count": 9,
   "metadata": {},
   "outputs": [],
   "source": [
    "#Проработать признак давности - недавности обзора"
   ]
  },
  {
   "cell_type": "code",
   "execution_count": 10,
   "metadata": {},
   "outputs": [],
   "source": [
    "#Проработать признак популярности отеля по количеству упоминаний"
   ]
  },
  {
   "cell_type": "code",
   "execution_count": 11,
   "metadata": {},
   "outputs": [],
   "source": [
    "#Проработать признак существенности негатива/позитива на основании количества слов"
   ]
  },
  {
   "attachments": {},
   "cell_type": "markdown",
   "metadata": {},
   "source": [
    "---"
   ]
  },
  {
   "attachments": {},
   "cell_type": "markdown",
   "metadata": {},
   "source": [
    "Преобразование тегов"
   ]
  },
  {
   "cell_type": "code",
   "execution_count": 12,
   "metadata": {},
   "outputs": [
    {
     "name": "stderr",
     "output_type": "stream",
     "text": [
      "/var/folders/1_/hgb3xg852md0hqqs3ybwbsp40000gn/T/ipykernel_35219/1872122303.py:17: SettingWithCopyWarning: \n",
      "A value is trying to be set on a copy of a slice from a DataFrame.\n",
      "Try using .loc[row_indexer,col_indexer] = value instead\n",
      "\n",
      "See the caveats in the documentation: https://pandas.pydata.org/pandas-docs/stable/user_guide/indexing.html#returning-a-view-versus-a-copy\n",
      "  data['tags'] = data['tags'].apply(tag_reconstr)\n"
     ]
    }
   ],
   "source": [
    "# Пркобразование тегов к списку\n",
    "def tag_reconstr(data):\n",
    "    temp_list = []\n",
    "    for i in data.split(\"'\"):\n",
    "        temp_list.append(i.strip())\n",
    "\n",
    "    temp_list.remove('[')\n",
    "    temp_list.remove(']')\n",
    "\n",
    "    for i in temp_list:\n",
    "        if i == ',':\n",
    "            temp_list.remove(i)\n",
    "    return temp_list\n",
    "\n",
    "\n",
    "tags_series = data['tags'].apply(tag_reconstr)\n",
    "data['tags'] = data['tags'].apply(tag_reconstr)\n",
    "\n",
    "#Формируем базу для one_hot, параллельно выдергиваем фит прожитых ночей\n",
    "all_tags = tags_series.explode()\n",
    "stayed_night_mask = all_tags.str.contains('Stayed', regex=False)\n",
    "stayed_night = all_tags[stayed_night_mask]\n",
    "stayed_night.str.split(' ')\n",
    "\n",
    "def night_at_hotel(data):\n",
    "    temp_var = 0\n",
    "    for i in data.split(' '):\n",
    "        try:\n",
    "            temp_var = int(i)\n",
    "        except ValueError:\n",
    "            pass\n",
    "    return temp_var\n",
    "\n",
    "nights = stayed_night.apply(night_at_hotel)\n",
    "nights = nights.rename('nights')\n",
    "data = pd.concat([data, nights], axis=1)\n",
    "data['nights'] = data['nights'].fillna(data['nights'].mode()[0])\n",
    "\n",
    "#Вытаскиваем топ 50 тегов и разворачиваем на их основе one_hot\n",
    "top_tags = all_tags.value_counts()[:51]\n",
    "mask = top_tags.index.str.contains('Stayed', regex=False)\n",
    "one_hot_columns = list(top_tags[~mask].index)\n",
    "\n",
    "for element in one_hot_columns:\n",
    "    data[element] = data['tags'].apply(lambda x: 1 if element in x else 0)"
   ]
  },
  {
   "attachments": {},
   "cell_type": "markdown",
   "metadata": {},
   "source": [
    "Кодируем отели"
   ]
  },
  {
   "cell_type": "code",
   "execution_count": 13,
   "metadata": {},
   "outputs": [],
   "source": [
    "#Кодируем названия отелей\n",
    "data['hotel_name'] = data['hotel_name'].astype('category')\n",
    "data['hotel_name'] = data['hotel_name'].cat.codes"
   ]
  },
  {
   "attachments": {},
   "cell_type": "markdown",
   "metadata": {},
   "source": [
    "Код отеля по коду его страны"
   ]
  },
  {
   "cell_type": "code",
   "execution_count": 14,
   "metadata": {},
   "outputs": [],
   "source": [
    "# Достаем код страны\n",
    "response = requests.get('https://countrycode.org/')\n",
    "country_code = pd.read_html(response.text)\n",
    "country_code = country_code[0]\n",
    "country_code = country_code[['COUNTRY', 'COUNTRY CODE']]\n",
    "\n",
    "# Создаем функцию для формирования кодовой строки исходя из принципа территориальной близости принадлежности для кодов формата Х-ХХХ\n",
    "def get_code(data):\n",
    "    data = data.split('-')\n",
    "    return int(data[0])\n",
    "\n",
    "\n",
    "country_code['COUNTRY CODE'] = country_code['COUNTRY CODE'].apply(get_code)\n",
    "\n",
    "# Формируем новый закодированный (в последствие) признак местоположения отеля\n",
    "data['hotel_country'] = data['hotel_address'].str.split(' ')\n",
    "data['hotel_country'] = data['hotel_country'].apply(lambda x: x[-2::])\n",
    "data['hotel_country'] = data['hotel_country'].apply(\n",
    "    lambda x: x[0]+' '+x[1] if x[0] == 'United' else x[1])\n",
    "\n",
    "data = data.merge(\n",
    "    country_code, how='left',\n",
    "    left_on='hotel_country', right_on='COUNTRY'\n",
    ")\n",
    "data = data.rename(columns={'COUNTRY CODE': 'hotel_country_code'})\n"
   ]
  },
  {
   "attachments": {},
   "cell_type": "markdown",
   "metadata": {},
   "source": [
    "Код ревьюера по его национальной принадлежности"
   ]
  },
  {
   "cell_type": "code",
   "execution_count": 15,
   "metadata": {},
   "outputs": [],
   "source": [
    "# Стрипуем национальность для будущего присвоения кода страны\n",
    "data['reviewer_nationality'] = data['reviewer_nationality'].str.strip()\n",
    "# Переименуем пару стран\n",
    "data['reviewer_nationality'] = data['reviewer_nationality'].str.replace(\n",
    "    'United States of America', 'United States')\n",
    "\n",
    "# Формируем новый фрейм с кодом страны ревьюера\n",
    "data = data.merge(\n",
    "    country_code, how='left',\n",
    "    left_on='reviewer_nationality', right_on='COUNTRY'\n",
    ")\n",
    "\n",
    "data = data.rename(\n",
    "    columns={'COUNTRY CODE': 'nationality_code', 'COUNTRY': 'reviewer_country'})\n",
    "\n",
    "data['nationality_code'] = data['nationality_code'].fillna(\n",
    "    data['nationality_code'].mode()[0])\n"
   ]
  },
  {
   "attachments": {},
   "cell_type": "markdown",
   "metadata": {},
   "source": [
    "Являетлся ли ревьюер жителем страны в которой находится отель"
   ]
  },
  {
   "cell_type": "code",
   "execution_count": 16,
   "metadata": {},
   "outputs": [],
   "source": [
    "data['is_citizen'] = data['nationality_code'] == data['hotel_country_code']\n",
    "data['is_citizen'] = data['is_citizen'].apply(lambda x: 1 if x == True else 0)"
   ]
  },
  {
   "attachments": {},
   "cell_type": "markdown",
   "metadata": {},
   "source": [
    "Вытаскиваем город для дальнейших манипуляций с растояниями до различных объектов"
   ]
  },
  {
   "cell_type": "code",
   "execution_count": 17,
   "metadata": {},
   "outputs": [],
   "source": [
    "#Создаем признак города\n",
    "data['city'] = data['hotel_address'].str.split(' ')\n",
    "data['city'] = data['city'].apply(lambda x: x[-5] if x[-1] == 'Kingdom' else x[-2])"
   ]
  },
  {
   "cell_type": "code",
   "execution_count": 18,
   "metadata": {},
   "outputs": [
    {
     "data": {
      "text/plain": [
       "['London', 'Paris', 'Amsterdam', 'Milan', 'Vienna', 'Barcelona']"
      ]
     },
     "execution_count": 18,
     "metadata": {},
     "output_type": "execute_result"
    }
   ],
   "source": [
    "#Cоздаем список городов в сете\n",
    "city_list = list(data['city'].unique())\n",
    "city_list"
   ]
  },
  {
   "cell_type": "code",
   "execution_count": 19,
   "metadata": {},
   "outputs": [],
   "source": [
    "# Условные центры городов выбранные на основание исторических достопримечательностей. \n",
    "# В данном случае рассматриваются центры притяжения для отдыха, но не бизнес поездок, \n",
    "# т.к. предыдущие изыскания показали превалирующую долю в датасете и признак бизнес поездок был дропнут\n",
    "# в виду наличия мультиколлинеарности и меньшей доли. \n",
    "\n",
    "cities_coordinates = {\n",
    "    'London': (51.50458, -0.1332), 'Paris': (48.85637, 2.33475),\n",
    "    'Amsterdam': (52.374787, 4.896339), 'Milan': (45.470098, 9.179906),\n",
    "    'Vienna': (48.207904, 16.368116), 'Barcelona': (41.399367, 2.169938)\n",
    "}\n"
   ]
  },
  {
   "attachments": {},
   "cell_type": "markdown",
   "metadata": {},
   "source": [
    "Немного прервемся с расстоянием\n",
    "\n",
    "Заполняем пропуски в широте и долготе используя адреса отелей"
   ]
  },
  {
   "cell_type": "code",
   "execution_count": 20,
   "metadata": {},
   "outputs": [],
   "source": [
    "#Создаем пустые списки, в них будем нарезать куски адресов, точность будет не абсолюьная, но приемлимая\n",
    "temp_list = []\n",
    "list_of_nan = []\n",
    "address_list = []\n",
    "\n",
    "#Создаем список уникальных адресов отелей с пропусками\n",
    "empty_loc = data[data['lat'].isnull()]\n",
    "empty_hot_list = list(empty_loc['hotel_address'].unique())\n",
    "\n",
    "#Планомерно заполняем наши списки, впоследующем address_list используем для получения кортежей lat/lng\n",
    "for i in empty_hot_list:\n",
    "    temp_var = i.split(' ')[-1:-4:-1]\n",
    "    temp_list.append(temp_var)\n",
    "    \n",
    "for i in temp_list:\n",
    "    list_of_nan.append(i[::-1])\n",
    "\n",
    "for i in list_of_nan:\n",
    "    address_list.append(' '.join(i))\n",
    "    \n",
    "\n",
    "#Пробегаем циклом по адресам и создаем список кортежей ключ- часть адреса, значение lat/lng\n",
    "location_tuple_dict = dict()\n",
    "lat_dict = dict()\n",
    "lng_dict = dict()\n",
    "geolocator = Nominatim(user_agent=\"my_request\")\n",
    "for loc in address_list:\n",
    "    location = geolocator.geocode(loc)\n",
    "    location_tuple_dict[loc]=(location.latitude, location.longitude)\n",
    "    lat_dict[loc] = location.latitude\n",
    "    lng_dict[loc] = location.longitude\n",
    "\n",
    "# Востанавливаем словарь с полным названием, после всех манипуляций у нас есть словарь с ключами\n",
    "# в виде полного адреса и значениями в виде кортежа координат\n",
    "new_lat_dict = dict()\n",
    "for i in lat_dict:\n",
    "    for j in empty_hot_list:\n",
    "        if i in j:\n",
    "            new_lat_dict[j] = lat_dict[i]\n",
    "            \n",
    "new_lng_dict = dict()\n",
    "for i in lng_dict:\n",
    "    for j in empty_hot_list:\n",
    "        if i in j:\n",
    "            new_lng_dict[j] = lng_dict[i]"
   ]
  },
  {
   "cell_type": "code",
   "execution_count": 21,
   "metadata": {},
   "outputs": [],
   "source": [
    "#Заполним пустоты в широте\n",
    "data['lat'] = data['lat'].fillna(data['hotel_address'].apply(lambda x: new_lat_dict.get(x)))"
   ]
  },
  {
   "cell_type": "code",
   "execution_count": 22,
   "metadata": {},
   "outputs": [],
   "source": [
    "#И долготе\n",
    "data['lng'] = data['lng'].fillna(data['hotel_address'].apply(lambda x: new_lng_dict.get(x)))"
   ]
  },
  {
   "cell_type": "code",
   "execution_count": 23,
   "metadata": {},
   "outputs": [],
   "source": [
    "#Создаем новый фит координат отеля\n",
    "data['coordinates'] = tuple(zip(data['lat'], data['lng']))\n"
   ]
  },
  {
   "attachments": {},
   "cell_type": "markdown",
   "metadata": {},
   "source": [
    "Вернемся к расстояниям"
   ]
  },
  {
   "cell_type": "code",
   "execution_count": 24,
   "metadata": {},
   "outputs": [],
   "source": [
    "# Функция для нахождения расстояния\n",
    "data['distance_center'] = data['coordinates'].apply(\n",
    "    lambda x: geodesic(x, cities_coordinates[data['city'][0]]).km)\n"
   ]
  },
  {
   "attachments": {},
   "cell_type": "markdown",
   "metadata": {},
   "source": [
    "Вытаскиваем день недели и отдельно месяц"
   ]
  },
  {
   "cell_type": "code",
   "execution_count": 25,
   "metadata": {},
   "outputs": [],
   "source": [
    "data['review_date'] = pd.to_datetime(data['review_date'])\n",
    "data['month'] = data['review_date'].dt.month\n",
    "data['day_of_week'] = data['review_date'].dt.day_of_week"
   ]
  },
  {
   "attachments": {},
   "cell_type": "markdown",
   "metadata": {},
   "source": [
    "Количество дней с момента отзыва как int"
   ]
  },
  {
   "cell_type": "code",
   "execution_count": 26,
   "metadata": {},
   "outputs": [],
   "source": [
    "# Достаем количество дней c момента публикации ревью\n",
    "def days_num(string_):\n",
    "    regexp = re.findall(r'\\d{0,5}', string_)\n",
    "    return regexp[0]\n",
    "\n",
    "\n",
    "data['days_since_review'] = data['days_since_review'].apply(days_num)\n",
    "data['days_since_review'] = data['days_since_review'].astype('int')\n"
   ]
  },
  {
   "attachments": {},
   "cell_type": "markdown",
   "metadata": {},
   "source": [
    "Проверяем на мультиколлинеарность"
   ]
  },
  {
   "cell_type": "code",
   "execution_count": 27,
   "metadata": {},
   "outputs": [
    {
     "name": "stderr",
     "output_type": "stream",
     "text": [
      "/var/folders/1_/hgb3xg852md0hqqs3ybwbsp40000gn/T/ipykernel_35219/1607366581.py:1: FutureWarning: The default value of numeric_only in DataFrame.corr is deprecated. In a future version, it will default to False. Select only valid columns or specify the value of numeric_only to silence this warning.\n",
      "  whole_corr = data.corr()[(data.corr() > 0.7) | (data.corr() < -0.7)]\n"
     ]
    },
    {
     "data": {
      "image/png": "[encoded data removed]",
      "text/plain": [
       "<Figure size 640x480 with 2 Axes>"
      ]
     },
     "metadata": {},
     "output_type": "display_data"
    }
   ],
   "source": [
    "whole_corr = data.corr()[(data.corr() > 0.7) | (data.corr() < -0.7)]\n",
    "sns.heatmap(whole_corr);"
   ]
  },
  {
   "cell_type": "code",
   "execution_count": 28,
   "metadata": {},
   "outputs": [
    {
     "data": {
      "text/html": [
       "<div>\n",
       "<style scoped>\n",
       "    .dataframe tbody tr th:only-of-type {\n",
       "        vertical-align: middle;\n",
       "    }\n",
       "\n",
       "    .dataframe tbody tr th {\n",
       "        vertical-align: top;\n",
       "    }\n",
       "\n",
       "    .dataframe thead th {\n",
       "        text-align: right;\n",
       "    }\n",
       "</style>\n",
       "<table border=\"1\" class=\"dataframe\">\n",
       "  <thead>\n",
       "    <tr style=\"text-align: right;\">\n",
       "      <th></th>\n",
       "      <th>Name</th>\n",
       "      <th>CNT</th>\n",
       "    </tr>\n",
       "  </thead>\n",
       "  <tbody>\n",
       "    <tr>\n",
       "      <th>0</th>\n",
       "      <td>additional_number_of_scoring</td>\n",
       "      <td>2</td>\n",
       "    </tr>\n",
       "    <tr>\n",
       "      <th>4</th>\n",
       "      <td>total_number_of_reviews</td>\n",
       "      <td>2</td>\n",
       "    </tr>\n",
       "    <tr>\n",
       "      <th>9</th>\n",
       "      <td>lat</td>\n",
       "      <td>2</td>\n",
       "    </tr>\n",
       "    <tr>\n",
       "      <th>10</th>\n",
       "      <td>lng</td>\n",
       "      <td>2</td>\n",
       "    </tr>\n",
       "    <tr>\n",
       "      <th>12</th>\n",
       "      <td>Leisure trip</td>\n",
       "      <td>2</td>\n",
       "    </tr>\n",
       "    <tr>\n",
       "      <th>16</th>\n",
       "      <td>Business trip</td>\n",
       "      <td>2</td>\n",
       "    </tr>\n",
       "    <tr>\n",
       "      <th>59</th>\n",
       "      <td>distance_center</td>\n",
       "      <td>3</td>\n",
       "    </tr>\n",
       "  </tbody>\n",
       "</table>\n",
       "</div>"
      ],
      "text/plain": [
       "                            Name  CNT\n",
       "0   additional_number_of_scoring    2\n",
       "4        total_number_of_reviews    2\n",
       "9                            lat    2\n",
       "10                           lng    2\n",
       "12                  Leisure trip    2\n",
       "16                 Business trip    2\n",
       "59               distance_center    3"
      ]
     },
     "execution_count": 28,
     "metadata": {},
     "output_type": "execute_result"
    }
   ],
   "source": [
    "#Список фитов с мультиколлинеарностью\n",
    "direct_corr = whole_corr.count(axis=0)\n",
    "corr_columns = pd.DataFrame({'Name':direct_corr.index, 'CNT':direct_corr.values})\n",
    "corr_columns.query(\"CNT > 1\")"
   ]
  },
  {
   "cell_type": "code",
   "execution_count": 29,
   "metadata": {},
   "outputs": [],
   "source": [
    "data.drop(['additional_number_of_scoring', 'Business trip', 'lat', 'lng'], axis=1, inplace=True)\n",
    "#Дропаем столбец даты что бы модель могла работать\n",
    "data.drop(['review_date'], axis=1, inplace=True)"
   ]
  },
  {
   "attachments": {},
   "cell_type": "markdown",
   "metadata": {},
   "source": [
    "---"
   ]
  },
  {
   "cell_type": "code",
   "execution_count": 30,
   "metadata": {},
   "outputs": [],
   "source": [
    "#Дропаем строковые фиты\n",
    "object_columns = [s for s in data.columns if data[s].dtypes == 'object']\n",
    "data.drop(object_columns, axis = 1, inplace=True)"
   ]
  },
  {
   "cell_type": "code",
   "execution_count": 31,
   "metadata": {},
   "outputs": [],
   "source": [
    "# Разбиваем датафрейм на части, необходимые для обучения и тестирования модели  \n",
    "# Х - данные с информацией об отелях, у - целевая переменная (рейтинги отелей)  \n",
    "X = data.drop(['reviewer_score'], axis = 1)  \n",
    "y = data['reviewer_score'] "
   ]
  },
  {
   "cell_type": "code",
   "execution_count": 32,
   "metadata": {},
   "outputs": [],
   "source": [
    "# Загружаем специальный инструмент для разбивки:  \n",
    "from sklearn.model_selection import train_test_split  "
   ]
  },
  {
   "cell_type": "code",
   "execution_count": 33,
   "metadata": {},
   "outputs": [],
   "source": [
    "# Наборы данных с меткой \"train\" будут использоваться для обучения модели, \"test\" - для тестирования.  \n",
    "# Для тестирования мы будем использовать 25% от исходного датасета.  \n",
    "X_train, X_test, y_train, y_test = train_test_split(X, y, test_size=0.2, random_state=42)"
   ]
  },
  {
   "cell_type": "code",
   "execution_count": 34,
   "metadata": {},
   "outputs": [],
   "source": [
    "# Импортируем необходимые библиотеки:\n",
    "# инструмент для создания и обучения модели\n",
    "from sklearn.ensemble import RandomForestRegressor\n",
    "from sklearn import metrics  # инструменты для оценки точности модели\n",
    "\n",
    "# Создаём модель\n",
    "regr = RandomForestRegressor(n_estimators=100)\n",
    "\n",
    "# Обучаем модель на тестовом наборе данных\n",
    "regr.fit(X_train, y_train)\n",
    "\n",
    "# Используем обученную модель для предсказания рейтинга отелей в тестовой выборке.\n",
    "# Предсказанные значения записываем в переменную y_pred\n",
    "y_pred = regr.predict(X_test)\n"
   ]
  },
  {
   "cell_type": "code",
   "execution_count": 35,
   "metadata": {},
   "outputs": [
    {
     "name": "stdout",
     "output_type": "stream",
     "text": [
      "MAPE: 0.1159699272779112\n"
     ]
    }
   ],
   "source": [
    "# Сравниваем предсказанные значения (y_pred) с реальными (y_test), и смотрим насколько они отличаются  \n",
    "# Метрика называется Mean Absolute Percentage Error (MAPE) и показывает среднюю абсолютную процентную ошибку предсказанных значений от фактических.  \n",
    "print('MAPE:', metrics.mean_absolute_percentage_error(y_test, y_pred))"
   ]
  },
  {
   "attachments": {},
   "cell_type": "markdown",
   "metadata": {},
   "source": [
    "MAPE: 0.1159699272779112"
   ]
  },
  {
   "cell_type": "markdown",
   "metadata": {},
   "source": []
  }
 ],
 "metadata": {
  "kernelspec": {
   "display_name": "ds",
   "language": "python",
   "name": "python3"
  },
  "language_info": {
   "codemirror_mode": {
    "name": "ipython",
    "version": 3
   },
   "file_extension": ".py",
   "mimetype": "text/x-python",
   "name": "python",
   "nbconvert_exporter": "python",
   "pygments_lexer": "ipython3",
   "version": "3.11.0"
  },
  "vscode": {
   "interpreter": {
    "hash": "d40a6ae76423cf5fae73028028fb017d8630dd167584993d74bc99181da5a036"
   }
  }
 },
 "nbformat": 4,
 "nbformat_minor": 2
}
