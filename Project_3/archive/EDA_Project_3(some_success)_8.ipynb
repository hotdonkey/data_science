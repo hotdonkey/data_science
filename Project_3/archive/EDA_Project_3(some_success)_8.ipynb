{
 "cells": [
  {
   "cell_type": "code",
   "execution_count": 55,
   "metadata": {},
   "outputs": [],
   "source": [
    "import pandas as pd\n",
    "import numpy as np\n",
    "import re\n",
    "import requests\n",
    "from geopy.distance import geodesic\n",
    "from geopy.geocoders import Nominatim\n",
    "import seaborn as sns"
   ]
  },
  {
   "cell_type": "code",
   "execution_count": 56,
   "metadata": {},
   "outputs": [
    {
     "data": {
      "text/html": [
       "<div>\n",
       "<style scoped>\n",
       "    .dataframe tbody tr th:only-of-type {\n",
       "        vertical-align: middle;\n",
       "    }\n",
       "\n",
       "    .dataframe tbody tr th {\n",
       "        vertical-align: top;\n",
       "    }\n",
       "\n",
       "    .dataframe thead th {\n",
       "        text-align: right;\n",
       "    }\n",
       "</style>\n",
       "<table border=\"1\" class=\"dataframe\">\n",
       "  <thead>\n",
       "    <tr style=\"text-align: right;\">\n",
       "      <th></th>\n",
       "      <th>hotel_address</th>\n",
       "      <th>additional_number_of_scoring</th>\n",
       "      <th>review_date</th>\n",
       "      <th>average_score</th>\n",
       "      <th>hotel_name</th>\n",
       "      <th>reviewer_nationality</th>\n",
       "      <th>negative_review</th>\n",
       "      <th>review_total_negative_word_counts</th>\n",
       "      <th>total_number_of_reviews</th>\n",
       "      <th>positive_review</th>\n",
       "      <th>review_total_positive_word_counts</th>\n",
       "      <th>total_number_of_reviews_reviewer_has_given</th>\n",
       "      <th>reviewer_score</th>\n",
       "      <th>tags</th>\n",
       "      <th>days_since_review</th>\n",
       "      <th>lat</th>\n",
       "      <th>lng</th>\n",
       "    </tr>\n",
       "  </thead>\n",
       "  <tbody>\n",
       "    <tr>\n",
       "      <th>0</th>\n",
       "      <td>Stratton Street Mayfair Westminster Borough Lo...</td>\n",
       "      <td>581</td>\n",
       "      <td>2/19/2016</td>\n",
       "      <td>8.4</td>\n",
       "      <td>The May Fair Hotel</td>\n",
       "      <td>United Kingdom</td>\n",
       "      <td>Leaving</td>\n",
       "      <td>3</td>\n",
       "      <td>1994</td>\n",
       "      <td>Staff were amazing</td>\n",
       "      <td>4</td>\n",
       "      <td>7</td>\n",
       "      <td>10.0</td>\n",
       "      <td>[' Leisure trip ', ' Couple ', ' Studio Suite ...</td>\n",
       "      <td>531 day</td>\n",
       "      <td>51.507894</td>\n",
       "      <td>-0.143671</td>\n",
       "    </tr>\n",
       "    <tr>\n",
       "      <th>1</th>\n",
       "      <td>130 134 Southampton Row Camden London WC1B 5AF...</td>\n",
       "      <td>299</td>\n",
       "      <td>1/12/2017</td>\n",
       "      <td>8.3</td>\n",
       "      <td>Mercure London Bloomsbury Hotel</td>\n",
       "      <td>United Kingdom</td>\n",
       "      <td>poor breakfast</td>\n",
       "      <td>3</td>\n",
       "      <td>1361</td>\n",
       "      <td>location</td>\n",
       "      <td>2</td>\n",
       "      <td>14</td>\n",
       "      <td>6.3</td>\n",
       "      <td>[' Business trip ', ' Couple ', ' Standard Dou...</td>\n",
       "      <td>203 day</td>\n",
       "      <td>51.521009</td>\n",
       "      <td>-0.123097</td>\n",
       "    </tr>\n",
       "    <tr>\n",
       "      <th>2</th>\n",
       "      <td>151 bis Rue de Rennes 6th arr 75006 Paris France</td>\n",
       "      <td>32</td>\n",
       "      <td>10/18/2016</td>\n",
       "      <td>8.9</td>\n",
       "      <td>Legend Saint Germain by Elegancia</td>\n",
       "      <td>China</td>\n",
       "      <td>No kettle in room</td>\n",
       "      <td>6</td>\n",
       "      <td>406</td>\n",
       "      <td>No Positive</td>\n",
       "      <td>0</td>\n",
       "      <td>14</td>\n",
       "      <td>7.5</td>\n",
       "      <td>[' Leisure trip ', ' Solo traveler ', ' Modern...</td>\n",
       "      <td>289 day</td>\n",
       "      <td>48.845377</td>\n",
       "      <td>2.325643</td>\n",
       "    </tr>\n",
       "  </tbody>\n",
       "</table>\n",
       "</div>"
      ],
      "text/plain": [
       "                                       hotel_address  \\\n",
       "0  Stratton Street Mayfair Westminster Borough Lo...   \n",
       "1  130 134 Southampton Row Camden London WC1B 5AF...   \n",
       "2   151 bis Rue de Rennes 6th arr 75006 Paris France   \n",
       "\n",
       "   additional_number_of_scoring review_date  average_score  \\\n",
       "0                           581   2/19/2016            8.4   \n",
       "1                           299   1/12/2017            8.3   \n",
       "2                            32  10/18/2016            8.9   \n",
       "\n",
       "                          hotel_name reviewer_nationality  \\\n",
       "0                 The May Fair Hotel      United Kingdom    \n",
       "1    Mercure London Bloomsbury Hotel      United Kingdom    \n",
       "2  Legend Saint Germain by Elegancia               China    \n",
       "\n",
       "       negative_review  review_total_negative_word_counts  \\\n",
       "0             Leaving                                   3   \n",
       "1       poor breakfast                                  3   \n",
       "2   No kettle in room                                   6   \n",
       "\n",
       "   total_number_of_reviews      positive_review  \\\n",
       "0                     1994   Staff were amazing   \n",
       "1                     1361             location   \n",
       "2                      406          No Positive   \n",
       "\n",
       "   review_total_positive_word_counts  \\\n",
       "0                                  4   \n",
       "1                                  2   \n",
       "2                                  0   \n",
       "\n",
       "   total_number_of_reviews_reviewer_has_given  reviewer_score  \\\n",
       "0                                           7            10.0   \n",
       "1                                          14             6.3   \n",
       "2                                          14             7.5   \n",
       "\n",
       "                                                tags days_since_review  \\\n",
       "0  [' Leisure trip ', ' Couple ', ' Studio Suite ...           531 day   \n",
       "1  [' Business trip ', ' Couple ', ' Standard Dou...           203 day   \n",
       "2  [' Leisure trip ', ' Solo traveler ', ' Modern...           289 day   \n",
       "\n",
       "         lat       lng  \n",
       "0  51.507894 -0.143671  \n",
       "1  51.521009 -0.123097  \n",
       "2  48.845377  2.325643  "
      ]
     },
     "execution_count": 56,
     "metadata": {},
     "output_type": "execute_result"
    }
   ],
   "source": [
    "hotels = pd.read_csv('./data/hotels.csv')\n",
    "hotels.head(3)"
   ]
  },
  {
   "cell_type": "code",
   "execution_count": 57,
   "metadata": {},
   "outputs": [
    {
     "name": "stdout",
     "output_type": "stream",
     "text": [
      "<class 'pandas.core.frame.DataFrame'>\n",
      "RangeIndex: 386803 entries, 0 to 386802\n",
      "Data columns (total 17 columns):\n",
      " #   Column                                      Non-Null Count   Dtype  \n",
      "---  ------                                      --------------   -----  \n",
      " 0   hotel_address                               386803 non-null  object \n",
      " 1   additional_number_of_scoring                386803 non-null  int64  \n",
      " 2   review_date                                 386803 non-null  object \n",
      " 3   average_score                               386803 non-null  float64\n",
      " 4   hotel_name                                  386803 non-null  object \n",
      " 5   reviewer_nationality                        386803 non-null  object \n",
      " 6   negative_review                             386803 non-null  object \n",
      " 7   review_total_negative_word_counts           386803 non-null  int64  \n",
      " 8   total_number_of_reviews                     386803 non-null  int64  \n",
      " 9   positive_review                             386803 non-null  object \n",
      " 10  review_total_positive_word_counts           386803 non-null  int64  \n",
      " 11  total_number_of_reviews_reviewer_has_given  386803 non-null  int64  \n",
      " 12  reviewer_score                              386803 non-null  float64\n",
      " 13  tags                                        386803 non-null  object \n",
      " 14  days_since_review                           386803 non-null  object \n",
      " 15  lat                                         384355 non-null  float64\n",
      " 16  lng                                         384355 non-null  float64\n",
      "dtypes: float64(4), int64(5), object(8)\n",
      "memory usage: 50.2+ MB\n"
     ]
    }
   ],
   "source": [
    "hotels.info()"
   ]
  },
  {
   "cell_type": "code",
   "execution_count": 58,
   "metadata": {},
   "outputs": [],
   "source": [
    "#Удаляем дубликаты \n",
    "hotels = hotels.drop_duplicates()"
   ]
  },
  {
   "cell_type": "code",
   "execution_count": null,
   "metadata": {},
   "outputs": [],
   "source": [
    "#Смотрим выбросы\n"
   ]
  },
  {
   "cell_type": "code",
   "execution_count": null,
   "metadata": {},
   "outputs": [],
   "source": [
    "#Проработать признак давности - недавности обзора"
   ]
  },
  {
   "cell_type": "code",
   "execution_count": null,
   "metadata": {},
   "outputs": [],
   "source": [
    "#Проработать признак популярности отеля по количеству упоминаний"
   ]
  },
  {
   "attachments": {},
   "cell_type": "markdown",
   "metadata": {},
   "source": [
    "---"
   ]
  },
  {
   "attachments": {},
   "cell_type": "markdown",
   "metadata": {},
   "source": [
    "Преобразование тегов"
   ]
  },
  {
   "cell_type": "code",
   "execution_count": 59,
   "metadata": {},
   "outputs": [],
   "source": [
    "# Пркобразование тегов к списку\n",
    "def tag_reconstr(data):\n",
    "    temp_list = []\n",
    "    for i in data.split(\"'\"):\n",
    "        temp_list.append(i.strip())\n",
    "\n",
    "    temp_list.remove('[')\n",
    "    temp_list.remove(']')\n",
    "\n",
    "    for i in temp_list:\n",
    "        if i == ',':\n",
    "            temp_list.remove(i)\n",
    "    return temp_list\n",
    "\n",
    "\n",
    "tags_series = hotels['tags'].apply(tag_reconstr)\n",
    "hotels['tags'] = hotels['tags'].apply(tag_reconstr)\n",
    "\n",
    "#Формируем базу для one_hot, параллельно выдергиваем фит прожитых ночей\n",
    "all_tags = tags_series.explode()\n",
    "stayed_night_mask = all_tags.str.contains('Stayed', regex=False)\n",
    "stayed_night = all_tags[stayed_night_mask]\n",
    "stayed_night.str.split(' ')\n",
    "\n",
    "def night_at_hotel(data):\n",
    "    temp_var = 0\n",
    "    for i in data.split(' '):\n",
    "        try:\n",
    "            temp_var = int(i)\n",
    "        except ValueError:\n",
    "            pass\n",
    "    return temp_var\n",
    "\n",
    "nights = stayed_night.apply(night_at_hotel)\n",
    "nights = nights.rename('nights')\n",
    "hotels = pd.concat([hotels, nights], axis=1)\n",
    "hotels['nights'] = hotels['nights'].fillna(hotels['nights'].mode()[0])\n",
    "\n",
    "#Вытаскиваем топ 50 тегов и разворачиваем на их основе one_hot\n",
    "top_tags = all_tags.value_counts()[:51]\n",
    "mask = top_tags.index.str.contains('Stayed', regex=False)\n",
    "one_hot_columns = list(top_tags[~mask].index)\n",
    "\n",
    "for element in one_hot_columns:\n",
    "    hotels[element] = hotels['tags'].apply(lambda x: 1 if element in x else 0)"
   ]
  },
  {
   "attachments": {},
   "cell_type": "markdown",
   "metadata": {},
   "source": [
    "Кодируем отели"
   ]
  },
  {
   "cell_type": "code",
   "execution_count": 60,
   "metadata": {},
   "outputs": [],
   "source": [
    "#Кодируем названия отелей\n",
    "hotels['hotel_name'] = hotels['hotel_name'].astype('category')\n",
    "hotels['hotel_name'] = hotels['hotel_name'].cat.codes"
   ]
  },
  {
   "attachments": {},
   "cell_type": "markdown",
   "metadata": {},
   "source": [
    "Код отеля по коду его страны"
   ]
  },
  {
   "cell_type": "code",
   "execution_count": 61,
   "metadata": {},
   "outputs": [],
   "source": [
    "# Достаем код страны\n",
    "response = requests.get('https://countrycode.org/')\n",
    "country_code = pd.read_html(response.text)\n",
    "country_code = country_code[0]\n",
    "country_code = country_code[['COUNTRY', 'COUNTRY CODE']]\n",
    "\n",
    "# Создаем функцию для формирования кодовой строки исходя из принципа территориальной близости принадлежности для кодов формата Х-ХХХ\n",
    "def get_code(data):\n",
    "    data = data.split('-')\n",
    "    return int(data[0])\n",
    "\n",
    "\n",
    "country_code['COUNTRY CODE'] = country_code['COUNTRY CODE'].apply(get_code)\n",
    "\n",
    "# Формируем новый закодированный (в последствие) признак местоположения отеля\n",
    "hotels['hotel_country'] = hotels['hotel_address'].str.split(' ')\n",
    "hotels['hotel_country'] = hotels['hotel_country'].apply(lambda x: x[-2::])\n",
    "hotels['hotel_country'] = hotels['hotel_country'].apply(\n",
    "    lambda x: x[0]+' '+x[1] if x[0] == 'United' else x[1])\n",
    "\n",
    "hotels = hotels.merge(\n",
    "    country_code, how='left',\n",
    "    left_on='hotel_country', right_on='COUNTRY'\n",
    ")\n",
    "hotels = hotels.rename(columns={'COUNTRY CODE': 'hotel_country_code'})\n"
   ]
  },
  {
   "attachments": {},
   "cell_type": "markdown",
   "metadata": {},
   "source": [
    "Код ревьюера по его национальной принадлежности"
   ]
  },
  {
   "cell_type": "code",
   "execution_count": 62,
   "metadata": {},
   "outputs": [],
   "source": [
    "# Стрипуем национальность для будущего присвоения кода страны\n",
    "hotels['reviewer_nationality'] = hotels['reviewer_nationality'].str.strip()\n",
    "# Переименуем пару стран\n",
    "hotels['reviewer_nationality'] = hotels['reviewer_nationality'].str.replace(\n",
    "    'United States of America', 'United States')\n",
    "\n",
    "# Формируем новый фрейм с кодом страны ревьюера\n",
    "hotels = hotels.merge(\n",
    "    country_code, how='left',\n",
    "    left_on='reviewer_nationality', right_on='COUNTRY'\n",
    ")\n",
    "\n",
    "hotels = hotels.rename(\n",
    "    columns={'COUNTRY CODE': 'nationality_code', 'COUNTRY': 'reviewer_country'})\n",
    "\n",
    "hotels['nationality_code'] = hotels['nationality_code'].fillna(\n",
    "    hotels['nationality_code'].mode()[0])\n"
   ]
  },
  {
   "attachments": {},
   "cell_type": "markdown",
   "metadata": {},
   "source": [
    "Являетлся ли ревьюер жителем страны в которой находится отель"
   ]
  },
  {
   "cell_type": "code",
   "execution_count": 63,
   "metadata": {},
   "outputs": [],
   "source": [
    "hotels['is_citizen'] = hotels['nationality_code'] == hotels['hotel_country_code']\n",
    "hotels['is_citizen'] = hotels['is_citizen'].apply(lambda x: 1 if x == True else 0)"
   ]
  },
  {
   "attachments": {},
   "cell_type": "markdown",
   "metadata": {},
   "source": [
    "Вытаскиваем город для дальнейших манипуляций с растояниями до различных объектов"
   ]
  },
  {
   "cell_type": "code",
   "execution_count": 64,
   "metadata": {},
   "outputs": [],
   "source": [
    "#Создаем признак города\n",
    "hotels['city'] = hotels['hotel_address'].str.split(' ')\n",
    "hotels['city'] = hotels['city'].apply(lambda x: x[-5] if x[-1] == 'Kingdom' else x[-2])"
   ]
  },
  {
   "cell_type": "code",
   "execution_count": 65,
   "metadata": {},
   "outputs": [
    {
     "data": {
      "text/plain": [
       "['London', 'Paris', 'Amsterdam', 'Milan', 'Vienna', 'Barcelona']"
      ]
     },
     "execution_count": 65,
     "metadata": {},
     "output_type": "execute_result"
    }
   ],
   "source": [
    "#Cоздаем список городов в сете\n",
    "city_list = list(hotels['city'].unique())\n",
    "city_list"
   ]
  },
  {
   "cell_type": "code",
   "execution_count": 66,
   "metadata": {},
   "outputs": [],
   "source": [
    "# Условные центры городов выбранные на основание исторических достопримечательностей. \n",
    "# В данном случае рассматриваются центры притяжения для отдыха, но не бизнес поездок, \n",
    "# т.к. предыдущие изыскания показали превалирующую долю в датасете и признак бизнес поездок был дропнут\n",
    "# в виду наличия мультиколлинеарности и меньшей доли. \n",
    "\n",
    "cities_coordinates = {\n",
    "    'London': (51.50458, -0.1332), 'Paris': (48.85637, 2.33475),\n",
    "    'Amsterdam': (52.374787, 4.896339), 'Milan': (45.470098, 9.179906),\n",
    "    'Vienna': (48.207904, 16.368116), 'Barcelona': (41.399367, 2.169938)\n",
    "}\n"
   ]
  },
  {
   "attachments": {},
   "cell_type": "markdown",
   "metadata": {},
   "source": [
    "Немного прервемся с расстоянием\n",
    "\n",
    "Заполняем пропуски в широте и долготе используя адреса отелей"
   ]
  },
  {
   "cell_type": "code",
   "execution_count": 67,
   "metadata": {},
   "outputs": [],
   "source": [
    "#Создаем пустые списки, в них будем нарезать куски адресов, точность будет не абсолюьная, но приемлимая\n",
    "temp_list = []\n",
    "list_of_nan = []\n",
    "address_list = []\n",
    "\n",
    "#Создаем список уникальных адресов отелей с пропусками\n",
    "empty_loc = hotels[hotels['lat'].isnull()]\n",
    "empty_hot_list = list(empty_loc['hotel_address'].unique())\n",
    "\n",
    "#Планомерно заполняем наши списки, впоследующем address_list используем для получения кортежей lat/lng\n",
    "for i in empty_hot_list:\n",
    "    temp_var = i.split(' ')[-1:-4:-1]\n",
    "    temp_list.append(temp_var)\n",
    "    \n",
    "for i in temp_list:\n",
    "    list_of_nan.append(i[::-1])\n",
    "\n",
    "for i in list_of_nan:\n",
    "    address_list.append(' '.join(i))\n",
    "    \n",
    "\n",
    "#Пробегаем циклом по адресам и создаем список кортежей ключ- часть адреса, значение lat/lng\n",
    "location_tuple_dict = dict()\n",
    "lat_dict = dict()\n",
    "lng_dict = dict()\n",
    "geolocator = Nominatim(user_agent=\"my_request\")\n",
    "for loc in address_list:\n",
    "    location = geolocator.geocode(loc)\n",
    "    location_tuple_dict[loc]=(location.latitude, location.longitude)\n",
    "    lat_dict[loc] = location.latitude\n",
    "    lng_dict[loc] = location.longitude\n",
    "\n",
    "# Востанавливаем словарь с полным названием, после всех манипуляций у нас есть словарь с ключами\n",
    "# в виде полного адреса и значениями в виде кортежа координат\n",
    "new_lat_dict = dict()\n",
    "for i in lat_dict:\n",
    "    for j in empty_hot_list:\n",
    "        if i in j:\n",
    "            new_lat_dict[j] = lat_dict[i]\n",
    "            \n",
    "new_lng_dict = dict()\n",
    "for i in lng_dict:\n",
    "    for j in empty_hot_list:\n",
    "        if i in j:\n",
    "            new_lng_dict[j] = lng_dict[i]"
   ]
  },
  {
   "cell_type": "code",
   "execution_count": 68,
   "metadata": {},
   "outputs": [],
   "source": [
    "#Заполним пустоты в широте\n",
    "hotels['lat'] = hotels['lat'].fillna(hotels['hotel_address'].apply(lambda x: new_lat_dict.get(x)))"
   ]
  },
  {
   "cell_type": "code",
   "execution_count": 69,
   "metadata": {},
   "outputs": [],
   "source": [
    "#И долготе\n",
    "hotels['lng'] = hotels['lng'].fillna(hotels['hotel_address'].apply(lambda x: new_lng_dict.get(x)))"
   ]
  },
  {
   "cell_type": "code",
   "execution_count": 70,
   "metadata": {},
   "outputs": [],
   "source": [
    "#Создаем новый фит координат отеля\n",
    "hotels['coordinates'] = tuple(zip(hotels['lat'], hotels['lng']))\n"
   ]
  },
  {
   "attachments": {},
   "cell_type": "markdown",
   "metadata": {},
   "source": [
    "Вернемся к расстояниям"
   ]
  },
  {
   "cell_type": "code",
   "execution_count": 71,
   "metadata": {},
   "outputs": [],
   "source": [
    "# Функция для нахождения расстояния\n",
    "hotels['distance_center'] = hotels['coordinates'].apply(\n",
    "    lambda x: geodesic(x, cities_coordinates[hotels['city'][0]]).km)\n"
   ]
  },
  {
   "attachments": {},
   "cell_type": "markdown",
   "metadata": {},
   "source": [
    "Вытаскиваем день недели и отдельно месяц"
   ]
  },
  {
   "cell_type": "code",
   "execution_count": 72,
   "metadata": {},
   "outputs": [],
   "source": [
    "hotels['review_date'] = pd.to_datetime(hotels['review_date'])\n",
    "hotels['month'] = hotels['review_date'].dt.month\n",
    "hotels['day_of_week'] = hotels['review_date'].dt.day_of_week"
   ]
  },
  {
   "attachments": {},
   "cell_type": "markdown",
   "metadata": {},
   "source": [
    "Количество дней с момента отзыва как int"
   ]
  },
  {
   "cell_type": "code",
   "execution_count": 73,
   "metadata": {},
   "outputs": [],
   "source": [
    "# Достаем количество дней c момента публикации ревью\n",
    "def days_num(string_):\n",
    "    regexp = re.findall(r'\\d{0,5}', string_)\n",
    "    return regexp[0]\n",
    "\n",
    "\n",
    "hotels['days_since_review'] = hotels['days_since_review'].apply(days_num)\n",
    "hotels['days_since_review'] = hotels['days_since_review'].astype('int')\n"
   ]
  },
  {
   "attachments": {},
   "cell_type": "markdown",
   "metadata": {},
   "source": [
    "Проверяем на мультиколлинеарность"
   ]
  },
  {
   "cell_type": "code",
   "execution_count": 74,
   "metadata": {},
   "outputs": [
    {
     "name": "stderr",
     "output_type": "stream",
     "text": [
      "/var/folders/1_/hgb3xg852md0hqqs3ybwbsp40000gn/T/ipykernel_31864/3903254612.py:1: FutureWarning: The default value of numeric_only in DataFrame.corr is deprecated. In a future version, it will default to False. Select only valid columns or specify the value of numeric_only to silence this warning.\n",
      "  whole_corr = hotels.corr()[(hotels.corr() > 0.7) | (hotels.corr() < -0.7)]\n"
     ]
    },
    {
     "data": {
      "image/png": "[encoded data removed]",
      "text/plain": [
       "<Figure size 640x480 with 2 Axes>"
      ]
     },
     "metadata": {},
     "output_type": "display_data"
    }
   ],
   "source": [
    "whole_corr = hotels.corr()[(hotels.corr() > 0.7) | (hotels.corr() < -0.7)]\n",
    "sns.heatmap(whole_corr);"
   ]
  },
  {
   "cell_type": "code",
   "execution_count": 75,
   "metadata": {},
   "outputs": [
    {
     "data": {
      "text/html": [
       "<div>\n",
       "<style scoped>\n",
       "    .dataframe tbody tr th:only-of-type {\n",
       "        vertical-align: middle;\n",
       "    }\n",
       "\n",
       "    .dataframe tbody tr th {\n",
       "        vertical-align: top;\n",
       "    }\n",
       "\n",
       "    .dataframe thead th {\n",
       "        text-align: right;\n",
       "    }\n",
       "</style>\n",
       "<table border=\"1\" class=\"dataframe\">\n",
       "  <thead>\n",
       "    <tr style=\"text-align: right;\">\n",
       "      <th></th>\n",
       "      <th>Name</th>\n",
       "      <th>CNT</th>\n",
       "    </tr>\n",
       "  </thead>\n",
       "  <tbody>\n",
       "    <tr>\n",
       "      <th>0</th>\n",
       "      <td>additional_number_of_scoring</td>\n",
       "      <td>2</td>\n",
       "    </tr>\n",
       "    <tr>\n",
       "      <th>4</th>\n",
       "      <td>total_number_of_reviews</td>\n",
       "      <td>2</td>\n",
       "    </tr>\n",
       "    <tr>\n",
       "      <th>9</th>\n",
       "      <td>lat</td>\n",
       "      <td>2</td>\n",
       "    </tr>\n",
       "    <tr>\n",
       "      <th>10</th>\n",
       "      <td>lng</td>\n",
       "      <td>2</td>\n",
       "    </tr>\n",
       "    <tr>\n",
       "      <th>12</th>\n",
       "      <td>Leisure trip</td>\n",
       "      <td>2</td>\n",
       "    </tr>\n",
       "    <tr>\n",
       "      <th>16</th>\n",
       "      <td>Business trip</td>\n",
       "      <td>2</td>\n",
       "    </tr>\n",
       "    <tr>\n",
       "      <th>59</th>\n",
       "      <td>distance_center</td>\n",
       "      <td>3</td>\n",
       "    </tr>\n",
       "  </tbody>\n",
       "</table>\n",
       "</div>"
      ],
      "text/plain": [
       "                            Name  CNT\n",
       "0   additional_number_of_scoring    2\n",
       "4        total_number_of_reviews    2\n",
       "9                            lat    2\n",
       "10                           lng    2\n",
       "12                  Leisure trip    2\n",
       "16                 Business trip    2\n",
       "59               distance_center    3"
      ]
     },
     "execution_count": 75,
     "metadata": {},
     "output_type": "execute_result"
    }
   ],
   "source": [
    "#Список фитов с мультиколлинеарностью\n",
    "direct_corr = whole_corr.count(axis=0)\n",
    "corr_columns = pd.DataFrame({'Name':direct_corr.index, 'CNT':direct_corr.values})\n",
    "corr_columns.query(\"CNT > 1\")"
   ]
  },
  {
   "cell_type": "code",
   "execution_count": 76,
   "metadata": {},
   "outputs": [],
   "source": [
    "hotels.drop(['additional_number_of_scoring', 'Business trip', 'lat', 'lng'], axis=1, inplace=True)\n",
    "#Дропаем столбец даты что бы модель могла работать\n",
    "hotels.drop(['review_date'], axis=1, inplace=True)"
   ]
  },
  {
   "attachments": {},
   "cell_type": "markdown",
   "metadata": {},
   "source": [
    "---"
   ]
  },
  {
   "cell_type": "code",
   "execution_count": 77,
   "metadata": {},
   "outputs": [],
   "source": [
    "#Дропаем строковые фиты\n",
    "object_columns = [s for s in hotels.columns if hotels[s].dtypes == 'object']\n",
    "hotels.drop(object_columns, axis = 1, inplace=True)"
   ]
  },
  {
   "cell_type": "code",
   "execution_count": 78,
   "metadata": {},
   "outputs": [],
   "source": [
    "# Разбиваем датафрейм на части, необходимые для обучения и тестирования модели  \n",
    "# Х - данные с информацией об отелях, у - целевая переменная (рейтинги отелей)  \n",
    "X = hotels.drop(['reviewer_score'], axis = 1)  \n",
    "y = hotels['reviewer_score'] "
   ]
  },
  {
   "cell_type": "code",
   "execution_count": 79,
   "metadata": {},
   "outputs": [],
   "source": [
    "# Загружаем специальный инструмент для разбивки:  \n",
    "from sklearn.model_selection import train_test_split  "
   ]
  },
  {
   "cell_type": "code",
   "execution_count": 80,
   "metadata": {},
   "outputs": [],
   "source": [
    "# Наборы данных с меткой \"train\" будут использоваться для обучения модели, \"test\" - для тестирования.  \n",
    "# Для тестирования мы будем использовать 25% от исходного датасета.  \n",
    "X_train, X_test, y_train, y_test = train_test_split(X, y, test_size=0.2, random_state=42)"
   ]
  },
  {
   "cell_type": "code",
   "execution_count": 81,
   "metadata": {},
   "outputs": [],
   "source": [
    "# Импортируем необходимые библиотеки:\n",
    "# инструмент для создания и обучения модели\n",
    "from sklearn.ensemble import RandomForestRegressor\n",
    "from sklearn import metrics  # инструменты для оценки точности модели\n",
    "\n",
    "# Создаём модель\n",
    "regr = RandomForestRegressor(n_estimators=100)\n",
    "\n",
    "# Обучаем модель на тестовом наборе данных\n",
    "regr.fit(X_train, y_train)\n",
    "\n",
    "# Используем обученную модель для предсказания рейтинга отелей в тестовой выборке.\n",
    "# Предсказанные значения записываем в переменную y_pred\n",
    "y_pred = regr.predict(X_test)\n"
   ]
  },
  {
   "cell_type": "code",
   "execution_count": 82,
   "metadata": {},
   "outputs": [
    {
     "name": "stdout",
     "output_type": "stream",
     "text": [
      "MAPE: 0.1348907393516852\n"
     ]
    }
   ],
   "source": [
    "# Сравниваем предсказанные значения (y_pred) с реальными (y_test), и смотрим насколько они отличаются  \n",
    "# Метрика называется Mean Absolute Percentage Error (MAPE) и показывает среднюю абсолютную процентную ошибку предсказанных значений от фактических.  \n",
    "print('MAPE:', metrics.mean_absolute_percentage_error(y_test, y_pred))"
   ]
  },
  {
   "attachments": {},
   "cell_type": "markdown",
   "metadata": {},
   "source": [
    "MAPE: 0.1348907393516852"
   ]
  },
  {
   "cell_type": "markdown",
   "metadata": {},
   "source": []
  }
 ],
 "metadata": {
  "kernelspec": {
   "display_name": "ds",
   "language": "python",
   "name": "python3"
  },
  "language_info": {
   "codemirror_mode": {
    "name": "ipython",
    "version": 3
   },
   "file_extension": ".py",
   "mimetype": "text/x-python",
   "name": "python",
   "nbconvert_exporter": "python",
   "pygments_lexer": "ipython3",
   "version": "3.11.0"
  },
  "vscode": {
   "interpreter": {
    "hash": "d40a6ae76423cf5fae73028028fb017d8630dd167584993d74bc99181da5a036"
   }
  }
 },
 "nbformat": 4,
 "nbformat_minor": 2
}
