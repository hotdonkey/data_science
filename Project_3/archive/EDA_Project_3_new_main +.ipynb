{
 "cells": [
  {
   "attachments": {},
   "cell_type": "markdown",
   "metadata": {},
   "source": [
    "#Блок установки пакетов\n",
    "!pip install numpy\n",
    "!pip install pandas\n",
    "!pip install sklearn\n",
    "!pip install scikit-learn\n",
    "!pip install requests\n",
    "!pip install geopy"
   ]
  },
  {
   "cell_type": "code",
   "execution_count": 256,
   "metadata": {},
   "outputs": [],
   "source": [
    "import pandas as pd\n",
    "import numpy as np\n",
    "import re\n",
    "import requests\n",
    "from geopy.distance import geodesic\n",
    "from geopy.geocoders import Nominatim\n",
    "import seaborn as sns\n",
    "from bs4 import BeautifulSoup\n",
    "import time"
   ]
  },
  {
   "cell_type": "code",
   "execution_count": 257,
   "metadata": {},
   "outputs": [
    {
     "data": {
      "text/html": [
       "<div>\n",
       "<style scoped>\n",
       "    .dataframe tbody tr th:only-of-type {\n",
       "        vertical-align: middle;\n",
       "    }\n",
       "\n",
       "    .dataframe tbody tr th {\n",
       "        vertical-align: top;\n",
       "    }\n",
       "\n",
       "    .dataframe thead th {\n",
       "        text-align: right;\n",
       "    }\n",
       "</style>\n",
       "<table border=\"1\" class=\"dataframe\">\n",
       "  <thead>\n",
       "    <tr style=\"text-align: right;\">\n",
       "      <th></th>\n",
       "      <th>hotel_address</th>\n",
       "      <th>additional_number_of_scoring</th>\n",
       "      <th>review_date</th>\n",
       "      <th>average_score</th>\n",
       "      <th>hotel_name</th>\n",
       "      <th>reviewer_nationality</th>\n",
       "      <th>negative_review</th>\n",
       "      <th>review_total_negative_word_counts</th>\n",
       "      <th>total_number_of_reviews</th>\n",
       "      <th>positive_review</th>\n",
       "      <th>review_total_positive_word_counts</th>\n",
       "      <th>total_number_of_reviews_reviewer_has_given</th>\n",
       "      <th>reviewer_score</th>\n",
       "      <th>tags</th>\n",
       "      <th>days_since_review</th>\n",
       "      <th>lat</th>\n",
       "      <th>lng</th>\n",
       "    </tr>\n",
       "  </thead>\n",
       "  <tbody>\n",
       "    <tr>\n",
       "      <th>0</th>\n",
       "      <td>Stratton Street Mayfair Westminster Borough Lo...</td>\n",
       "      <td>581</td>\n",
       "      <td>2/19/2016</td>\n",
       "      <td>8.4</td>\n",
       "      <td>The May Fair Hotel</td>\n",
       "      <td>United Kingdom</td>\n",
       "      <td>Leaving</td>\n",
       "      <td>3</td>\n",
       "      <td>1994</td>\n",
       "      <td>Staff were amazing</td>\n",
       "      <td>4</td>\n",
       "      <td>7</td>\n",
       "      <td>10.0</td>\n",
       "      <td>[' Leisure trip ', ' Couple ', ' Studio Suite ...</td>\n",
       "      <td>531 day</td>\n",
       "      <td>51.507894</td>\n",
       "      <td>-0.143671</td>\n",
       "    </tr>\n",
       "    <tr>\n",
       "      <th>1</th>\n",
       "      <td>130 134 Southampton Row Camden London WC1B 5AF...</td>\n",
       "      <td>299</td>\n",
       "      <td>1/12/2017</td>\n",
       "      <td>8.3</td>\n",
       "      <td>Mercure London Bloomsbury Hotel</td>\n",
       "      <td>United Kingdom</td>\n",
       "      <td>poor breakfast</td>\n",
       "      <td>3</td>\n",
       "      <td>1361</td>\n",
       "      <td>location</td>\n",
       "      <td>2</td>\n",
       "      <td>14</td>\n",
       "      <td>6.3</td>\n",
       "      <td>[' Business trip ', ' Couple ', ' Standard Dou...</td>\n",
       "      <td>203 day</td>\n",
       "      <td>51.521009</td>\n",
       "      <td>-0.123097</td>\n",
       "    </tr>\n",
       "    <tr>\n",
       "      <th>2</th>\n",
       "      <td>151 bis Rue de Rennes 6th arr 75006 Paris France</td>\n",
       "      <td>32</td>\n",
       "      <td>10/18/2016</td>\n",
       "      <td>8.9</td>\n",
       "      <td>Legend Saint Germain by Elegancia</td>\n",
       "      <td>China</td>\n",
       "      <td>No kettle in room</td>\n",
       "      <td>6</td>\n",
       "      <td>406</td>\n",
       "      <td>No Positive</td>\n",
       "      <td>0</td>\n",
       "      <td>14</td>\n",
       "      <td>7.5</td>\n",
       "      <td>[' Leisure trip ', ' Solo traveler ', ' Modern...</td>\n",
       "      <td>289 day</td>\n",
       "      <td>48.845377</td>\n",
       "      <td>2.325643</td>\n",
       "    </tr>\n",
       "  </tbody>\n",
       "</table>\n",
       "</div>"
      ],
      "text/plain": [
       "                                       hotel_address  \\\n",
       "0  Stratton Street Mayfair Westminster Borough Lo...   \n",
       "1  130 134 Southampton Row Camden London WC1B 5AF...   \n",
       "2   151 bis Rue de Rennes 6th arr 75006 Paris France   \n",
       "\n",
       "   additional_number_of_scoring review_date  average_score  \\\n",
       "0                           581   2/19/2016            8.4   \n",
       "1                           299   1/12/2017            8.3   \n",
       "2                            32  10/18/2016            8.9   \n",
       "\n",
       "                          hotel_name reviewer_nationality  \\\n",
       "0                 The May Fair Hotel      United Kingdom    \n",
       "1    Mercure London Bloomsbury Hotel      United Kingdom    \n",
       "2  Legend Saint Germain by Elegancia               China    \n",
       "\n",
       "       negative_review  review_total_negative_word_counts  \\\n",
       "0             Leaving                                   3   \n",
       "1       poor breakfast                                  3   \n",
       "2   No kettle in room                                   6   \n",
       "\n",
       "   total_number_of_reviews      positive_review  \\\n",
       "0                     1994   Staff were amazing   \n",
       "1                     1361             location   \n",
       "2                      406          No Positive   \n",
       "\n",
       "   review_total_positive_word_counts  \\\n",
       "0                                  4   \n",
       "1                                  2   \n",
       "2                                  0   \n",
       "\n",
       "   total_number_of_reviews_reviewer_has_given  reviewer_score  \\\n",
       "0                                           7            10.0   \n",
       "1                                          14             6.3   \n",
       "2                                          14             7.5   \n",
       "\n",
       "                                                tags days_since_review  \\\n",
       "0  [' Leisure trip ', ' Couple ', ' Studio Suite ...           531 day   \n",
       "1  [' Business trip ', ' Couple ', ' Standard Dou...           203 day   \n",
       "2  [' Leisure trip ', ' Solo traveler ', ' Modern...           289 day   \n",
       "\n",
       "         lat       lng  \n",
       "0  51.507894 -0.143671  \n",
       "1  51.521009 -0.123097  \n",
       "2  48.845377  2.325643  "
      ]
     },
     "execution_count": 257,
     "metadata": {},
     "output_type": "execute_result"
    }
   ],
   "source": [
    "hotels = pd.read_csv('./data/hotels.csv')\n",
    "hotels.head(3)"
   ]
  },
  {
   "cell_type": "code",
   "execution_count": 258,
   "metadata": {},
   "outputs": [
    {
     "name": "stdout",
     "output_type": "stream",
     "text": [
      "<class 'pandas.core.frame.DataFrame'>\n",
      "RangeIndex: 386803 entries, 0 to 386802\n",
      "Data columns (total 17 columns):\n",
      " #   Column                                      Non-Null Count   Dtype  \n",
      "---  ------                                      --------------   -----  \n",
      " 0   hotel_address                               386803 non-null  object \n",
      " 1   additional_number_of_scoring                386803 non-null  int64  \n",
      " 2   review_date                                 386803 non-null  object \n",
      " 3   average_score                               386803 non-null  float64\n",
      " 4   hotel_name                                  386803 non-null  object \n",
      " 5   reviewer_nationality                        386803 non-null  object \n",
      " 6   negative_review                             386803 non-null  object \n",
      " 7   review_total_negative_word_counts           386803 non-null  int64  \n",
      " 8   total_number_of_reviews                     386803 non-null  int64  \n",
      " 9   positive_review                             386803 non-null  object \n",
      " 10  review_total_positive_word_counts           386803 non-null  int64  \n",
      " 11  total_number_of_reviews_reviewer_has_given  386803 non-null  int64  \n",
      " 12  reviewer_score                              386803 non-null  float64\n",
      " 13  tags                                        386803 non-null  object \n",
      " 14  days_since_review                           386803 non-null  object \n",
      " 15  lat                                         384355 non-null  float64\n",
      " 16  lng                                         384355 non-null  float64\n",
      "dtypes: float64(4), int64(5), object(8)\n",
      "memory usage: 50.2+ MB\n"
     ]
    }
   ],
   "source": [
    "hotels.info()"
   ]
  },
  {
   "cell_type": "code",
   "execution_count": 259,
   "metadata": {},
   "outputs": [],
   "source": [
    "#Удаляем дубликаты \n",
    "hotels = hotels.drop_duplicates()"
   ]
  },
  {
   "attachments": {},
   "cell_type": "markdown",
   "metadata": {},
   "source": [
    "___"
   ]
  },
  {
   "attachments": {},
   "cell_type": "markdown",
   "metadata": {},
   "source": [
    "Начинаем долгую многоэтапную проверку"
   ]
  },
  {
   "cell_type": "code",
   "execution_count": 260,
   "metadata": {},
   "outputs": [
    {
     "data": {
      "text/plain": [
       "<AxesSubplot: ylabel='reviewer_score'>"
      ]
     },
     "execution_count": 260,
     "metadata": {},
     "output_type": "execute_result"
    },
    {
     "data": {
      "image/png": "[encoded data removed]",
      "text/plain": [
       "<Figure size 640x480 with 1 Axes>"
      ]
     },
     "metadata": {},
     "output_type": "display_data"
    }
   ],
   "source": [
    "#Смотрим выбросы\n",
    "sns.boxplot(y=hotels['reviewer_score'])\n"
   ]
  },
  {
   "attachments": {},
   "cell_type": "markdown",
   "metadata": {},
   "source": [
    "Наличие выбросов (эксперименты показали, что это действительно выбросы, т.к. очистка дала положительный результат на метрику)"
   ]
  },
  {
   "cell_type": "code",
   "execution_count": 261,
   "metadata": {},
   "outputs": [],
   "source": [
    "# Функция z-отклонений\n",
    "\n",
    "def outliers_z_score(data, feature, left_mod=2, right_mod=3, log_scale=False):\n",
    "    \n",
    "    if log_scale:\n",
    "        x = np.log(data[feature]+1)\n",
    "    else:\n",
    "        x = data[feature]\n",
    "\n",
    "    mu = x.mean()\n",
    "\n",
    "    sigma = x.std()\n",
    "\n",
    "    lower_bound = mu - left_mod * sigma\n",
    "\n",
    "    upper_bound = mu + right_mod * sigma\n",
    "\n",
    "    outliers = data[(x < lower_bound) | (x > upper_bound)]\n",
    "\n",
    "    cleaned = data[(x > lower_bound) & (x < upper_bound)]\n",
    "\n",
    "    print(f'Количество выбросов по z-методу: {outliers.shape[0]}')\n",
    "    print(f'Результирующее количество строк в очищенном фрейме: {cleaned.shape[0]}')\n",
    "\n",
    "    return outliers, cleaned"
   ]
  },
  {
   "cell_type": "code",
   "execution_count": 262,
   "metadata": {},
   "outputs": [
    {
     "name": "stdout",
     "output_type": "stream",
     "text": [
      "Количество выбросов по z-методу: 7997\n",
      "Результирующее количество строк в очищенном фрейме: 378499\n"
     ]
    }
   ],
   "source": [
    "outliers, data = outliers_z_score(data=hotels, feature='reviewer_score', log_scale=True, left_mod=3, right_mod=3)"
   ]
  },
  {
   "cell_type": "code",
   "execution_count": 263,
   "metadata": {},
   "outputs": [
    {
     "data": {
      "text/html": [
       "<div>\n",
       "<style scoped>\n",
       "    .dataframe tbody tr th:only-of-type {\n",
       "        vertical-align: middle;\n",
       "    }\n",
       "\n",
       "    .dataframe tbody tr th {\n",
       "        vertical-align: top;\n",
       "    }\n",
       "\n",
       "    .dataframe thead th {\n",
       "        text-align: right;\n",
       "    }\n",
       "</style>\n",
       "<table border=\"1\" class=\"dataframe\">\n",
       "  <thead>\n",
       "    <tr style=\"text-align: right;\">\n",
       "      <th></th>\n",
       "      <th>additional_number_of_scoring</th>\n",
       "      <th>average_score</th>\n",
       "      <th>review_total_negative_word_counts</th>\n",
       "      <th>total_number_of_reviews</th>\n",
       "      <th>review_total_positive_word_counts</th>\n",
       "      <th>total_number_of_reviews_reviewer_has_given</th>\n",
       "      <th>reviewer_score</th>\n",
       "      <th>lat</th>\n",
       "      <th>lng</th>\n",
       "    </tr>\n",
       "  </thead>\n",
       "  <tbody>\n",
       "    <tr>\n",
       "      <th>count</th>\n",
       "      <td>7997.000000</td>\n",
       "      <td>7997.000000</td>\n",
       "      <td>7997.000000</td>\n",
       "      <td>7997.000000</td>\n",
       "      <td>7997.000000</td>\n",
       "      <td>7997.000000</td>\n",
       "      <td>7997.000000</td>\n",
       "      <td>7949.000000</td>\n",
       "      <td>7949.000000</td>\n",
       "    </tr>\n",
       "    <tr>\n",
       "      <th>mean</th>\n",
       "      <td>575.948356</td>\n",
       "      <td>7.903414</td>\n",
       "      <td>50.101163</td>\n",
       "      <td>3155.999625</td>\n",
       "      <td>7.777542</td>\n",
       "      <td>5.458797</td>\n",
       "      <td>3.265525</td>\n",
       "      <td>49.657551</td>\n",
       "      <td>2.514527</td>\n",
       "    </tr>\n",
       "    <tr>\n",
       "      <th>std</th>\n",
       "      <td>630.343734</td>\n",
       "      <td>0.621663</td>\n",
       "      <td>63.233038</td>\n",
       "      <td>2703.147270</td>\n",
       "      <td>17.888283</td>\n",
       "      <td>8.896771</td>\n",
       "      <td>0.498053</td>\n",
       "      <td>3.252028</td>\n",
       "      <td>4.194720</td>\n",
       "    </tr>\n",
       "    <tr>\n",
       "      <th>min</th>\n",
       "      <td>1.000000</td>\n",
       "      <td>5.200000</td>\n",
       "      <td>0.000000</td>\n",
       "      <td>49.000000</td>\n",
       "      <td>0.000000</td>\n",
       "      <td>1.000000</td>\n",
       "      <td>2.500000</td>\n",
       "      <td>41.328376</td>\n",
       "      <td>-0.369758</td>\n",
       "    </tr>\n",
       "    <tr>\n",
       "      <th>25%</th>\n",
       "      <td>185.000000</td>\n",
       "      <td>7.500000</td>\n",
       "      <td>11.000000</td>\n",
       "      <td>1295.000000</td>\n",
       "      <td>0.000000</td>\n",
       "      <td>1.000000</td>\n",
       "      <td>2.900000</td>\n",
       "      <td>48.849485</td>\n",
       "      <td>-0.168358</td>\n",
       "    </tr>\n",
       "    <tr>\n",
       "      <th>50%</th>\n",
       "      <td>369.000000</td>\n",
       "      <td>8.000000</td>\n",
       "      <td>29.000000</td>\n",
       "      <td>2383.000000</td>\n",
       "      <td>3.000000</td>\n",
       "      <td>2.000000</td>\n",
       "      <td>3.300000</td>\n",
       "      <td>51.501910</td>\n",
       "      <td>-0.023221</td>\n",
       "    </tr>\n",
       "    <tr>\n",
       "      <th>75%</th>\n",
       "      <td>709.000000</td>\n",
       "      <td>8.400000</td>\n",
       "      <td>63.000000</td>\n",
       "      <td>3980.000000</td>\n",
       "      <td>8.000000</td>\n",
       "      <td>6.000000</td>\n",
       "      <td>3.800000</td>\n",
       "      <td>51.516689</td>\n",
       "      <td>2.359778</td>\n",
       "    </tr>\n",
       "    <tr>\n",
       "      <th>max</th>\n",
       "      <td>2682.000000</td>\n",
       "      <td>9.500000</td>\n",
       "      <td>402.000000</td>\n",
       "      <td>16670.000000</td>\n",
       "      <td>386.000000</td>\n",
       "      <td>211.000000</td>\n",
       "      <td>3.800000</td>\n",
       "      <td>52.400181</td>\n",
       "      <td>16.421974</td>\n",
       "    </tr>\n",
       "  </tbody>\n",
       "</table>\n",
       "</div>"
      ],
      "text/plain": [
       "       additional_number_of_scoring  average_score  \\\n",
       "count                   7997.000000    7997.000000   \n",
       "mean                     575.948356       7.903414   \n",
       "std                      630.343734       0.621663   \n",
       "min                        1.000000       5.200000   \n",
       "25%                      185.000000       7.500000   \n",
       "50%                      369.000000       8.000000   \n",
       "75%                      709.000000       8.400000   \n",
       "max                     2682.000000       9.500000   \n",
       "\n",
       "       review_total_negative_word_counts  total_number_of_reviews  \\\n",
       "count                        7997.000000              7997.000000   \n",
       "mean                           50.101163              3155.999625   \n",
       "std                            63.233038              2703.147270   \n",
       "min                             0.000000                49.000000   \n",
       "25%                            11.000000              1295.000000   \n",
       "50%                            29.000000              2383.000000   \n",
       "75%                            63.000000              3980.000000   \n",
       "max                           402.000000             16670.000000   \n",
       "\n",
       "       review_total_positive_word_counts  \\\n",
       "count                        7997.000000   \n",
       "mean                            7.777542   \n",
       "std                            17.888283   \n",
       "min                             0.000000   \n",
       "25%                             0.000000   \n",
       "50%                             3.000000   \n",
       "75%                             8.000000   \n",
       "max                           386.000000   \n",
       "\n",
       "       total_number_of_reviews_reviewer_has_given  reviewer_score  \\\n",
       "count                                 7997.000000     7997.000000   \n",
       "mean                                     5.458797        3.265525   \n",
       "std                                      8.896771        0.498053   \n",
       "min                                      1.000000        2.500000   \n",
       "25%                                      1.000000        2.900000   \n",
       "50%                                      2.000000        3.300000   \n",
       "75%                                      6.000000        3.800000   \n",
       "max                                    211.000000        3.800000   \n",
       "\n",
       "               lat          lng  \n",
       "count  7949.000000  7949.000000  \n",
       "mean     49.657551     2.514527  \n",
       "std       3.252028     4.194720  \n",
       "min      41.328376    -0.369758  \n",
       "25%      48.849485    -0.168358  \n",
       "50%      51.501910    -0.023221  \n",
       "75%      51.516689     2.359778  \n",
       "max      52.400181    16.421974  "
      ]
     },
     "execution_count": 263,
     "metadata": {},
     "output_type": "execute_result"
    }
   ],
   "source": [
    "outliers.describe()"
   ]
  },
  {
   "cell_type": "code",
   "execution_count": 264,
   "metadata": {},
   "outputs": [
    {
     "data": {
      "text/plain": [
       "<AxesSubplot: ylabel='reviewer_score'>"
      ]
     },
     "execution_count": 264,
     "metadata": {},
     "output_type": "execute_result"
    },
    {
     "data": {
      "image/png": "[encoded data removed]",
      "text/plain": [
       "<Figure size 640x480 with 1 Axes>"
      ]
     },
     "metadata": {},
     "output_type": "display_data"
    }
   ],
   "source": [
    "# Посмотрим на остаточные выбросы\n",
    "sns.boxplot(y=data['reviewer_score'])"
   ]
  },
  {
   "cell_type": "code",
   "execution_count": 265,
   "metadata": {},
   "outputs": [
    {
     "name": "stdout",
     "output_type": "stream",
     "text": [
      "Количество выбросов по z-методу: 3994\n",
      "Результирующее количество строк в очищенном фрейме: 374505\n"
     ]
    }
   ],
   "source": [
    "# Дочистим\n",
    "outliers, data = outliers_z_score(data=data, feature='reviewer_score', log_scale=True, left_mod=3, right_mod=3)"
   ]
  },
  {
   "cell_type": "code",
   "execution_count": 266,
   "metadata": {},
   "outputs": [
    {
     "data": {
      "text/plain": [
       "<AxesSubplot: ylabel='reviewer_score'>"
      ]
     },
     "execution_count": 266,
     "metadata": {},
     "output_type": "execute_result"
    },
    {
     "data": {
      "image/png": "[encoded data removed]",
      "text/plain": [
       "<Figure size 640x480 with 1 Axes>"
      ]
     },
     "metadata": {},
     "output_type": "display_data"
    }
   ],
   "source": [
    "sns.boxplot(y=data['reviewer_score'])"
   ]
  },
  {
   "attachments": {},
   "cell_type": "markdown",
   "metadata": {},
   "source": [
    "Дочистили"
   ]
  },
  {
   "cell_type": "code",
   "execution_count": 267,
   "metadata": {},
   "outputs": [
    {
     "data": {
      "text/plain": [
       "<AxesSubplot: ylabel='review_total_negative_word_counts'>"
      ]
     },
     "execution_count": 267,
     "metadata": {},
     "output_type": "execute_result"
    },
    {
     "data": {
      "image/png": "[encoded data removed]",
      "text/plain": [
       "<Figure size 640x480 with 1 Axes>"
      ]
     },
     "metadata": {},
     "output_type": "display_data"
    }
   ],
   "source": [
    "sns.boxplot(y=data['review_total_negative_word_counts'])"
   ]
  },
  {
   "cell_type": "code",
   "execution_count": 268,
   "metadata": {},
   "outputs": [
    {
     "name": "stdout",
     "output_type": "stream",
     "text": [
      "Количество выбросов по z-методу: 3308\n",
      "Результирующее количество строк в очищенном фрейме: 371197\n"
     ]
    }
   ],
   "source": [
    "outliers, data = outliers_z_score(data=data, feature='review_total_negative_word_counts', log_scale=True, left_mod=2, right_mod=2)"
   ]
  },
  {
   "cell_type": "code",
   "execution_count": 269,
   "metadata": {},
   "outputs": [
    {
     "data": {
      "text/plain": [
       "<AxesSubplot: ylabel='review_total_negative_word_counts'>"
      ]
     },
     "execution_count": 269,
     "metadata": {},
     "output_type": "execute_result"
    },
    {
     "data": {
      "image/png": "[encoded data removed]",
      "text/plain": [
       "<Figure size 640x480 with 1 Axes>"
      ]
     },
     "metadata": {},
     "output_type": "display_data"
    }
   ],
   "source": [
    "sns.boxplot(y=data['review_total_negative_word_counts'])"
   ]
  },
  {
   "cell_type": "code",
   "execution_count": 270,
   "metadata": {},
   "outputs": [
    {
     "name": "stdout",
     "output_type": "stream",
     "text": [
      "Количество выбросов по z-методу: 691\n",
      "Результирующее количество строк в очищенном фрейме: 370506\n"
     ]
    }
   ],
   "source": [
    "outliers, data = outliers_z_score(data=data, feature='review_total_negative_word_counts', log_scale=True, left_mod=2, right_mod=2)"
   ]
  },
  {
   "cell_type": "code",
   "execution_count": 271,
   "metadata": {},
   "outputs": [
    {
     "data": {
      "text/plain": [
       "<AxesSubplot: ylabel='review_total_negative_word_counts'>"
      ]
     },
     "execution_count": 271,
     "metadata": {},
     "output_type": "execute_result"
    },
    {
     "data": {
      "image/png": "[encoded data removed]",
      "text/plain": [
       "<Figure size 640x480 with 1 Axes>"
      ]
     },
     "metadata": {},
     "output_type": "display_data"
    }
   ],
   "source": [
    "sns.boxplot(y=data['review_total_negative_word_counts'])"
   ]
  },
  {
   "cell_type": "code",
   "execution_count": 272,
   "metadata": {},
   "outputs": [
    {
     "name": "stdout",
     "output_type": "stream",
     "text": [
      "Количество выбросов по z-методу: 160\n",
      "Результирующее количество строк в очищенном фрейме: 370346\n"
     ]
    }
   ],
   "source": [
    "outliers, data = outliers_z_score(data=data, feature='review_total_negative_word_counts', log_scale=True, left_mod=2, right_mod=2)"
   ]
  },
  {
   "cell_type": "code",
   "execution_count": 273,
   "metadata": {},
   "outputs": [
    {
     "data": {
      "text/plain": [
       "<AxesSubplot: ylabel='review_total_negative_word_counts'>"
      ]
     },
     "execution_count": 273,
     "metadata": {},
     "output_type": "execute_result"
    },
    {
     "data": {
      "image/png": "[encoded data removed]",
      "text/plain": [
       "<Figure size 640x480 with 1 Axes>"
      ]
     },
     "metadata": {},
     "output_type": "display_data"
    }
   ],
   "source": [
    "sns.boxplot(y=data['review_total_negative_word_counts'])"
   ]
  },
  {
   "cell_type": "code",
   "execution_count": 274,
   "metadata": {},
   "outputs": [
    {
     "name": "stdout",
     "output_type": "stream",
     "text": [
      "Количество выбросов по z-методу: 28265\n",
      "Результирующее количество строк в очищенном фрейме: 342081\n"
     ]
    }
   ],
   "source": [
    "outliers, data = outliers_z_score(data=data, feature='review_total_positive_word_counts', log_scale=True, left_mod=2, right_mod=2)"
   ]
  },
  {
   "cell_type": "code",
   "execution_count": 275,
   "metadata": {},
   "outputs": [
    {
     "data": {
      "text/plain": [
       "<AxesSubplot: ylabel='review_total_positive_word_counts'>"
      ]
     },
     "execution_count": 275,
     "metadata": {},
     "output_type": "execute_result"
    },
    {
     "data": {
      "image/png": "[encoded data removed]",
      "text/plain": [
       "<Figure size 640x480 with 1 Axes>"
      ]
     },
     "metadata": {},
     "output_type": "display_data"
    }
   ],
   "source": [
    "sns.boxplot(y=data['review_total_positive_word_counts'])"
   ]
  },
  {
   "cell_type": "code",
   "execution_count": 276,
   "metadata": {},
   "outputs": [
    {
     "name": "stdout",
     "output_type": "stream",
     "text": [
      "Количество выбросов по z-методу: 7897\n",
      "Результирующее количество строк в очищенном фрейме: 334184\n"
     ]
    }
   ],
   "source": [
    "outliers, data = outliers_z_score(data=data, feature='review_total_positive_word_counts', log_scale=True, left_mod=2, right_mod=2)"
   ]
  },
  {
   "cell_type": "code",
   "execution_count": 277,
   "metadata": {},
   "outputs": [
    {
     "data": {
      "text/plain": [
       "<AxesSubplot: ylabel='review_total_positive_word_counts'>"
      ]
     },
     "execution_count": 277,
     "metadata": {},
     "output_type": "execute_result"
    },
    {
     "data": {
      "image/png": "[encoded data removed]",
      "text/plain": [
       "<Figure size 640x480 with 1 Axes>"
      ]
     },
     "metadata": {},
     "output_type": "display_data"
    }
   ],
   "source": [
    "sns.boxplot(y=data['review_total_positive_word_counts'])"
   ]
  },
  {
   "attachments": {},
   "cell_type": "markdown",
   "metadata": {},
   "source": [
    "---"
   ]
  },
  {
   "cell_type": "code",
   "execution_count": 109,
   "metadata": {},
   "outputs": [],
   "source": [
    "#Проработать признак популярности отеля по количеству упоминаний"
   ]
  },
  {
   "cell_type": "code",
   "execution_count": 177,
   "metadata": {},
   "outputs": [],
   "source": [
    "#Проработать признак существенности негатива/позитива на основании количества слов"
   ]
  },
  {
   "attachments": {},
   "cell_type": "markdown",
   "metadata": {},
   "source": [
    "---"
   ]
  },
  {
   "attachments": {},
   "cell_type": "markdown",
   "metadata": {},
   "source": [
    "Преобразование тегов (в датасете теги представлены единой строкой)"
   ]
  },
  {
   "cell_type": "code",
   "execution_count": 278,
   "metadata": {},
   "outputs": [],
   "source": [
    "# Пркобразование тегов к списку\n",
    "def tag_reconstr(data):\n",
    "    temp_list = []\n",
    "    for i in data.split(\"'\"):\n",
    "        temp_list.append(i.strip())\n",
    "\n",
    "    temp_list.remove('[')\n",
    "    temp_list.remove(']')\n",
    "\n",
    "    for i in temp_list:\n",
    "        if i == ',':\n",
    "            temp_list.remove(i)\n",
    "    return temp_list\n",
    "\n",
    "\n",
    "tags_series = data['tags'].apply(tag_reconstr)\n",
    "data['tags'] = data['tags'].apply(tag_reconstr)\n",
    "\n",
    "#Формируем базу для one_hot, параллельно выдергиваем фит прожитых ночей\n",
    "all_tags = tags_series.explode()\n",
    "stayed_night_mask = all_tags.str.contains('Stayed', regex=False)\n",
    "stayed_night = all_tags[stayed_night_mask]\n",
    "stayed_night.str.split(' ')\n",
    "\n",
    "def night_at_hotel(data):\n",
    "    temp_var = 0\n",
    "    for i in data.split(' '):\n",
    "        try:\n",
    "            temp_var = int(i)\n",
    "        except ValueError:\n",
    "            pass\n",
    "    return temp_var\n",
    "\n",
    "nights = stayed_night.apply(night_at_hotel)\n",
    "nights = nights.rename('nights')\n",
    "data = pd.concat([data, nights], axis=1)\n",
    "data['nights'] = data['nights'].fillna(data['nights'].mode()[0])\n",
    "\n",
    "#Вытаскиваем топ 50 тегов и разворачиваем на их основе one_hot\n",
    "top_tags = all_tags.value_counts()[:51]\n",
    "mask = top_tags.index.str.contains('Stayed', regex=False)\n",
    "one_hot_columns = list(top_tags[~mask].index)\n",
    "\n",
    "for element in one_hot_columns:\n",
    "    data[element] = data['tags'].apply(lambda x: 1 if element in x else 0)"
   ]
  },
  {
   "attachments": {},
   "cell_type": "markdown",
   "metadata": {},
   "source": [
    "---"
   ]
  },
  {
   "attachments": {},
   "cell_type": "markdown",
   "metadata": {},
   "source": [
    "Получим рейтинг отеля с гугла (проверим будет ли польза от внешнего рейтинга отеля, за основу берется рейтинг приходящий с tripadvisor)"
   ]
  },
  {
   "cell_type": "code",
   "execution_count": 254,
   "metadata": {},
   "outputs": [],
   "source": [
    "# Playing with bs and requests\n",
    "url_base = f'https://www.google.com/search?q='  # база запроса к гуглу\n",
    "# Пришлось, но особо от блока ip не помогло\n",
    "proxies = {\n",
    "    'http': 'http://10.10.1.10:3128'\n",
    "}\n",
    "headers={\n",
    "    'User-Agent': 'Mozilla/5.0'\n",
    "}\n",
    "lost_dict = dict()"
   ]
  },
  {
   "cell_type": "code",
   "execution_count": null,
   "metadata": {},
   "outputs": [],
   "source": [
    "#Для чека вывода\n",
    "x = requests.get('https://www.google.com/search?q=Grand+Royale+London+Hyde+Park',headers={'User-Agent': 'Mozilla/5.0'})\n",
    "soup = BeautifulSoup(x.text)\n",
    "soup"
   ]
  },
  {
   "cell_type": "code",
   "execution_count": 148,
   "metadata": {},
   "outputs": [],
   "source": [
    "# Эмпирическим путем выведено, что гугл начинает блочить при количестве запросов больше 600, т.ч не жадничаем\n",
    "# Формируем первый словарь для последующего слияния\n",
    "hotels_dict_1 = dict()\n",
    "hotels_array_1 = [hotels['hotel_name'].unique()][0][0:501]\n",
    "for i in hotels_array_1:\n",
    "    hotels_dict_1[i] = f\"{url_base}{i.replace(' ','+')}\"\n"
   ]
  },
  {
   "cell_type": "code",
   "execution_count": 149,
   "metadata": {},
   "outputs": [
    {
     "name": "stdout",
     "output_type": "stream",
     "text": [
      "Henry VIII: https://www.google.com/search?q=Henry+VIII\n",
      "Bassano: https://www.google.com/search?q=Bassano\n"
     ]
    }
   ],
   "source": [
    "# Наполняем словарь полученой информацией\n",
    "star_dict_1 = dict()\n",
    "for key, link in hotels_dict_1.items():\n",
    "    try:\n",
    "        url = link\n",
    "        # попытка с хэдлеслом закончилась блоком по ip\n",
    "        response = requests.get(url, headers=headers, proxies=proxies)\n",
    "        soup = BeautifulSoup(response.text)\n",
    "        star = soup.findAll('span', class_='oqSTJd')[0].text.replace(',', '.')\n",
    "        star_dict_1[key] = star\n",
    "        # попробую с этим таймером, без слипа гугл заблочил на день, есть вероятность что парсить будет в районе 30 минут\n",
    "        time.sleep(0.3)\n",
    "    except IndexError:  # есть один отель который гугл воспринимает как запрос на персоналию + индексэр выпадает когда блокают или когда у отеля нет рейта\n",
    "        print(f'{key}: {link}')\n",
    "        lost_dict[key]= link\n",
    "        pass\n",
    "    except ConnectionError:\n",
    "        print(f'{key}: {link}')\n",
    "        lost_dict[key]= link\n",
    "        pass"
   ]
  },
  {
   "cell_type": "code",
   "execution_count": 180,
   "metadata": {},
   "outputs": [],
   "source": [
    "star_df_1 = pd.DataFrame({'hotel': star_dict_1.keys(), 'star_rate':star_dict_1.values()})"
   ]
  },
  {
   "cell_type": "code",
   "execution_count": 154,
   "metadata": {},
   "outputs": [],
   "source": [
    "# Сохраним для дальнейшего слияния и легкого доступа без парсинга каждый раз\n",
    "with pd.ExcelWriter(\n",
    "            \"./data/star_rating_1.xlsx\") as writer:\n",
    "        star_df_1.to_excel(writer, sheet_name='stars')"
   ]
  },
  {
   "cell_type": "code",
   "execution_count": 49,
   "metadata": {},
   "outputs": [],
   "source": [
    "# Формируем второй словарь для последующего слияния\n",
    "hotels_dict_2 = dict()\n",
    "hotels_array_2 = [hotels['hotel_name'].unique()][0][501:1001]\n",
    "for i in hotels_array_2:\n",
    "    hotels_dict_2[i] = f\"{url_base}{i.replace(' ','+')}\""
   ]
  },
  {
   "cell_type": "code",
   "execution_count": 50,
   "metadata": {},
   "outputs": [
    {
     "name": "stdout",
     "output_type": "stream",
     "text": [
      "Elys es R gencia: https://www.google.com/search?q=Elys+es+R+gencia\n",
      "Amp re: https://www.google.com/search?q=Amp+re\n",
      "Thistle Euston: https://www.google.com/search?q=Thistle+Euston\n",
      "Villa d Estr es: https://www.google.com/search?q=Villa+d+Estr+es\n",
      "K K H tel Cayr Saint Germain des Pr s: https://www.google.com/search?q=K+K+H+tel+Cayr+Saint+Germain+des+Pr+s\n",
      "Vice Versa: https://www.google.com/search?q=Vice+Versa\n",
      "Arioso: https://www.google.com/search?q=Arioso\n",
      "H tel Les Dames du Panth on: https://www.google.com/search?q=H+tel+Les+Dames+du+Panth+on\n",
      "Hotel Maison Ath n e: https://www.google.com/search?q=Hotel+Maison+Ath+n+e\n"
     ]
    }
   ],
   "source": [
    "# Наполняем словарь полученой информацией\n",
    "star_dict_2 = dict()\n",
    "for key, link in hotels_dict_2.items():\n",
    "    try:\n",
    "        url = link\n",
    "        # попытка с хэдлеслом закончилась блоком по ip\n",
    "        response = requests.get(url, headers=headers, proxies=proxies)\n",
    "        soup = BeautifulSoup(response.text)\n",
    "        star = soup.findAll('span', class_='oqSTJd')[0].text.replace(',', '.')\n",
    "        star_dict_2[key] = star\n",
    "        # попробую с этим таймером, без слипа гугл заблочил на день, есть вероятность что парсить будет в районе 30 минут\n",
    "        time.sleep(0.3)\n",
    "    except IndexError:  # есть один отель который гугл воспринимает как запрос на персоналию + индексэр выпадает когда блокают или когда у отеля нет рейта\n",
    "        print(f'{key}: {link}')\n",
    "        lost_dict[key]= link\n",
    "        pass\n",
    "    except ConnectionError:\n",
    "        print(f'{key}: {link}')\n",
    "        lost_dict[key]= link\n",
    "        pass"
   ]
  },
  {
   "cell_type": "code",
   "execution_count": 51,
   "metadata": {},
   "outputs": [],
   "source": [
    "star_df_2 = pd.DataFrame({'hotel': star_dict_2.keys(), 'star_rate':star_dict_2.values()})"
   ]
  },
  {
   "cell_type": "code",
   "execution_count": 52,
   "metadata": {},
   "outputs": [],
   "source": [
    "with pd.ExcelWriter(\n",
    "            \"./data/star_rating_2.xlsx\") as writer:\n",
    "        star_df_2.to_excel(writer, sheet_name='stars')"
   ]
  },
  {
   "cell_type": "code",
   "execution_count": 54,
   "metadata": {},
   "outputs": [],
   "source": [
    "#lost_df = pd.DataFrame({'hotel': lost_dict.keys(), 'star_rate':lost_dict.values()})"
   ]
  },
  {
   "cell_type": "code",
   "execution_count": 55,
   "metadata": {},
   "outputs": [],
   "source": [
    "#with pd.ExcelWriter(\n",
    "#            \"./data/star_lost.xlsx\") as writer:\n",
    "#        lost_df.to_excel(writer, sheet_name='stars')"
   ]
  },
  {
   "cell_type": "code",
   "execution_count": 81,
   "metadata": {},
   "outputs": [],
   "source": [
    "# Формируем третий словарь для последующего слияния\n",
    "hotels_dict_3 = dict()\n",
    "hotels_array_3 = [hotels['hotel_name'].unique()][0][501:1493]\n",
    "for i in hotels_array_3:\n",
    "    hotels_dict_3[i] = f\"{url_base}{i.replace(' ','+')}\""
   ]
  },
  {
   "cell_type": "code",
   "execution_count": 84,
   "metadata": {},
   "outputs": [
    {
     "name": "stdout",
     "output_type": "stream",
     "text": [
      "Elys es R gencia: https://www.google.com/search?q=Elys+es+R+gencia\n",
      "Amp re: https://www.google.com/search?q=Amp+re\n",
      "Thistle Euston: https://www.google.com/search?q=Thistle+Euston\n",
      "Villa d Estr es: https://www.google.com/search?q=Villa+d+Estr+es\n",
      "K K H tel Cayr Saint Germain des Pr s: https://www.google.com/search?q=K+K+H+tel+Cayr+Saint+Germain+des+Pr+s\n",
      "Vice Versa: https://www.google.com/search?q=Vice+Versa\n",
      "Arioso: https://www.google.com/search?q=Arioso\n",
      "H tel Les Dames du Panth on: https://www.google.com/search?q=H+tel+Les+Dames+du+Panth+on\n",
      "Hotel Maison Ath n e: https://www.google.com/search?q=Hotel+Maison+Ath+n+e\n",
      "H tel Th r se: https://www.google.com/search?q=H+tel+Th+r+se\n",
      "Colombia: https://www.google.com/search?q=Colombia\n",
      "The Westin Palace: https://www.google.com/search?q=The+Westin+Palace\n",
      "H tel Le Bellechasse Saint Germain: https://www.google.com/search?q=H+tel+Le+Bellechasse+Saint+Germain\n",
      "AC Hotel Milano a Marriott Lifestyle Hotel: https://www.google.com/search?q=AC+Hotel+Milano+a+Marriott+Lifestyle+Hotel\n",
      "Le Relais M dicis: https://www.google.com/search?q=Le+Relais+M+dicis\n",
      "Nu Hotel: https://www.google.com/search?q=Nu+Hotel\n",
      "H tel La Parizienne by Elegancia: https://www.google.com/search?q=H+tel+La+Parizienne+by+Elegancia\n",
      "Novotel Suites Paris Montreuil Vincennes: https://www.google.com/search?q=Novotel+Suites+Paris+Montreuil+Vincennes\n",
      "Novotel Paris Centre Bercy: https://www.google.com/search?q=Novotel+Paris+Centre+Bercy\n",
      "Majestic Hotel Spa Barcelona GL: https://www.google.com/search?q=Majestic+Hotel+Spa+Barcelona+GL\n",
      "L H tel: https://www.google.com/search?q=L+H+tel\n",
      "Timhotel Op ra Grands Magasins: https://www.google.com/search?q=Timhotel+Op+ra+Grands+Magasins\n",
      "Timhotel Op ra Blanche Fontaine: https://www.google.com/search?q=Timhotel+Op+ra+Blanche+Fontaine\n",
      "Hotel Zeitgeist Vienna Hauptbahnhof: https://www.google.com/search?q=Hotel+Zeitgeist+Vienna+Hauptbahnhof\n",
      "The Chess Hotel: https://www.google.com/search?q=The+Chess+Hotel\n",
      "Novotel Suites Paris Nord 18 me: https://www.google.com/search?q=Novotel+Suites+Paris+Nord+18+me\n",
      "Monsieur Cadet Hotel Spa Ex Meyerhold Spa : https://www.google.com/search?q=Monsieur+Cadet+Hotel+Spa+Ex+Meyerhold+Spa+\n",
      "Hotel Balmoral: https://www.google.com/search?q=Hotel+Balmoral\n",
      "Hotel Indigo Paris Opera: https://www.google.com/search?q=Hotel+Indigo+Paris+Opera\n",
      "Hotel Elys es Bassano: https://www.google.com/search?q=Hotel+Elys+es+Bassano\n",
      "The Dorchester Dorchester Collection: https://www.google.com/search?q=The+Dorchester+Dorchester+Collection\n",
      "Hotel Vienna: https://www.google.com/search?q=Hotel+Vienna\n",
      "Hotel Am Stephansplatz: https://www.google.com/search?q=Hotel+Am+Stephansplatz\n",
      "The Capital: https://www.google.com/search?q=The+Capital\n",
      "Pestana Arena Barcelona: https://www.google.com/search?q=Pestana+Arena+Barcelona\n",
      "Hotel Clerici: https://www.google.com/search?q=Hotel+Clerici\n",
      "Le 123 Elysees Astotel: https://www.google.com/search?q=Le+123+Elysees+Astotel\n",
      "Waldorf Astoria Amsterdam: https://www.google.com/search?q=Waldorf+Astoria+Amsterdam\n",
      "Goralska R sidences H tel Paris Bastille: https://www.google.com/search?q=Goralska+R+sidences+H+tel+Paris+Bastille\n",
      "Radisson Blu Hotel Milan: https://www.google.com/search?q=Radisson+Blu+Hotel+Milan\n",
      "Hotel Le Chat Noir: https://www.google.com/search?q=Hotel+Le+Chat+Noir\n",
      "Hotel Duminy Vendome: https://www.google.com/search?q=Hotel+Duminy+Vendome\n",
      "Mercure Hotel Amsterdam Centre Canal District: https://www.google.com/search?q=Mercure+Hotel+Amsterdam+Centre+Canal+District\n",
      "Wilson Boutique Hotel: https://www.google.com/search?q=Wilson+Boutique+Hotel\n",
      "Canary Riverside Plaza Hotel: https://www.google.com/search?q=Canary+Riverside+Plaza+Hotel\n",
      "Hotel Boltzmann: https://www.google.com/search?q=Hotel+Boltzmann\n",
      "Mercure Paris Bercy Biblioth que: https://www.google.com/search?q=Mercure+Paris+Bercy+Biblioth+que\n",
      "TownHouse Duomo: https://www.google.com/search?q=TownHouse+Duomo\n",
      "Hotel La Place: https://www.google.com/search?q=Hotel+La+Place\n",
      "Atahotel Linea Uno: https://www.google.com/search?q=Atahotel+Linea+Uno\n",
      "City Rooms: https://www.google.com/search?q=City+Rooms\n",
      "La Villa Royale: https://www.google.com/search?q=La+Villa+Royale\n",
      "Residence Du Roy: https://www.google.com/search?q=Residence+Du+Roy\n",
      "H tel Le Marianne: https://www.google.com/search?q=H+tel+Le+Marianne\n",
      "Relais Saint Jacques: https://www.google.com/search?q=Relais+Saint+Jacques\n",
      "Eurostars Angli: https://www.google.com/search?q=Eurostars+Angli\n",
      "Der Wilhelmshof: https://www.google.com/search?q=Der+Wilhelmshof\n",
      "Park Hyatt Paris Vendome: https://www.google.com/search?q=Park+Hyatt+Paris+Vendome\n",
      "De L Europe Amsterdam: https://www.google.com/search?q=De+L+Europe+Amsterdam\n",
      "Hotel Magna Pars Small Luxury Hotels of the World: https://www.google.com/search?q=Hotel+Magna+Pars+Small+Luxury+Hotels+of+the+World\n",
      "Mercure Paris Gare Montparnasse: https://www.google.com/search?q=Mercure+Paris+Gare+Montparnasse\n",
      "Karma Sanctum Soho Hotel: https://www.google.com/search?q=Karma+Sanctum+Soho+Hotel\n",
      "Admiral Hotel: https://www.google.com/search?q=Admiral+Hotel\n",
      "Renaissance Paris Arc de Triomphe Hotel: https://www.google.com/search?q=Renaissance+Paris+Arc+de+Triomphe+Hotel\n",
      "LHP Hotel Napoleon: https://www.google.com/search?q=LHP+Hotel+Napoleon\n",
      "Old Ship Inn Hackney: https://www.google.com/search?q=Old+Ship+Inn+Hackney\n",
      "Novotel Paris 17: https://www.google.com/search?q=Novotel+Paris+17\n",
      "Hotel Parco di Sch nbrunn Vienna: https://www.google.com/search?q=Hotel+Parco+di+Sch+nbrunn+Vienna\n",
      "H tel Thoumieux: https://www.google.com/search?q=H+tel+Thoumieux\n",
      "London Marriott Hotel Kensington: https://www.google.com/search?q=London+Marriott+Hotel+Kensington\n",
      "Hotel Les Bulles De Paris: https://www.google.com/search?q=Hotel+Les+Bulles+De+Paris\n",
      "Hotel le Lapin Blanc: https://www.google.com/search?q=Hotel+le+Lapin+Blanc\n",
      "Victoire Germain: https://www.google.com/search?q=Victoire+Germain\n",
      "H tel F licien by Elegancia: https://www.google.com/search?q=H+tel+F+licien+by+Elegancia\n",
      "La Villa Haussmann: https://www.google.com/search?q=La+Villa+Haussmann\n",
      "Hotel Park Villa: https://www.google.com/search?q=Hotel+Park+Villa\n",
      "Le Pavillon des Lettres: https://www.google.com/search?q=Le+Pavillon+des+Lettres\n",
      "Hotel The Peninsula Paris: https://www.google.com/search?q=Hotel+The+Peninsula+Paris\n",
      "La Villa Maillot: https://www.google.com/search?q=La+Villa+Maillot\n",
      "Hotel Montaigne: https://www.google.com/search?q=Hotel+Montaigne\n",
      "H tel France d Antin Op ra: https://www.google.com/search?q=H+tel+France+d+Antin+Op+ra\n",
      "Mokinba Hotels King: https://www.google.com/search?q=Mokinba+Hotels+King\n",
      "London Bridge Hotel: https://www.google.com/search?q=London+Bridge+Hotel\n",
      "Mercure London Bridge: https://www.google.com/search?q=Mercure+London+Bridge\n",
      "Hotel Vittoria: https://www.google.com/search?q=Hotel+Vittoria\n",
      "Hotel Panache: https://www.google.com/search?q=Hotel+Panache\n",
      "Royal Amsterdam Hotel: https://www.google.com/search?q=Royal+Amsterdam+Hotel\n",
      "Hotel Opera Cadet: https://www.google.com/search?q=Hotel+Opera+Cadet\n",
      "Mercure Paris Montparnasse Raspail: https://www.google.com/search?q=Mercure+Paris+Montparnasse+Raspail\n",
      "Exe Vienna: https://www.google.com/search?q=Exe+Vienna\n",
      "Le Grey Hotel: https://www.google.com/search?q=Le+Grey+Hotel\n",
      "Plaza Tour Eiffel: https://www.google.com/search?q=Plaza+Tour+Eiffel\n",
      "Relais H tel du Vieux Paris: https://www.google.com/search?q=Relais+H+tel+du+Vieux+Paris\n",
      "Meli Milano: https://www.google.com/search?q=Meli+Milano\n",
      "Hotel Plaza Elys es: https://www.google.com/search?q=Hotel+Plaza+Elys+es\n",
      "Hotel Georgette: https://www.google.com/search?q=Hotel+Georgette\n",
      "Eurohotel Diagonal Port: https://www.google.com/search?q=Eurohotel+Diagonal+Port\n",
      "Crowne Plaza Amsterdam South: https://www.google.com/search?q=Crowne+Plaza+Amsterdam+South\n",
      "AC Hotel Victoria Suites a Marriott Lifestyle Hotel: https://www.google.com/search?q=AC+Hotel+Victoria+Suites+a+Marriott+Lifestyle+Hotel\n",
      "Hotel Design Secret de Paris: https://www.google.com/search?q=Hotel+Design+Secret+de+Paris\n",
      "Hotel Lombardia: https://www.google.com/search?q=Hotel+Lombardia\n",
      "H tel Montmartre Mon Amour: https://www.google.com/search?q=H+tel+Montmartre+Mon+Amour\n",
      "Hotel Oscar: https://www.google.com/search?q=Hotel+Oscar\n",
      "11 Cadogan Gardens: https://www.google.com/search?q=11+Cadogan+Gardens\n",
      "Radisson Blu Champs Elys es Paris: https://www.google.com/search?q=Radisson+Blu+Champs+Elys+es+Paris\n",
      "HCC Regente: https://www.google.com/search?q=HCC+Regente\n",
      "Best Western Premier Le Swann: https://www.google.com/search?q=Best+Western+Premier+Le+Swann\n",
      "W Amsterdam: https://www.google.com/search?q=W+Amsterdam\n",
      "Tryp Barcelona Condal Mar Hotel: https://www.google.com/search?q=Tryp+Barcelona+Condal+Mar+Hotel\n",
      "The Franklin Hotel Starhotels Collezione: https://www.google.com/search?q=The+Franklin+Hotel+Starhotels+Collezione\n",
      "H tel De Vend me: https://www.google.com/search?q=H+tel+De+Vend+me\n",
      "H tel Chaplain Paris Rive Gauche: https://www.google.com/search?q=H+tel+Chaplain+Paris+Rive+Gauche\n",
      "Taj 51 Buckingham Gate Suites and Residences: https://www.google.com/search?q=Taj+51+Buckingham+Gate+Suites+and+Residences\n",
      "Hotel Spa La Belle Juliette: https://www.google.com/search?q=Hotel+Spa+La+Belle+Juliette\n",
      "R Kipling by Happyculture: https://www.google.com/search?q=R+Kipling+by+Happyculture\n",
      "H tel De Buci by MH: https://www.google.com/search?q=H+tel+De+Buci+by+MH\n",
      "H tel de Lille: https://www.google.com/search?q=H+tel+de+Lille\n",
      "Hotel Pierre Milano: https://www.google.com/search?q=Hotel+Pierre+Milano\n",
      "Le Pradey: https://www.google.com/search?q=Le+Pradey\n",
      "Pillows Anna van den Vondel Amsterdam: https://www.google.com/search?q=Pillows+Anna+van+den+Vondel+Amsterdam\n",
      "Best Western Delphi Hotel: https://www.google.com/search?q=Best+Western+Delphi+Hotel\n",
      "TownHouse Galleria: https://www.google.com/search?q=TownHouse+Galleria\n",
      "Monument Hotel: https://www.google.com/search?q=Monument+Hotel\n",
      "Vilana Hotel: https://www.google.com/search?q=Vilana+Hotel\n",
      "H tel Amastan Paris: https://www.google.com/search?q=H+tel+Amastan+Paris\n",
      "Mandarin Oriental Barcelona: https://www.google.com/search?q=Mandarin+Oriental+Barcelona\n",
      "Nolinski Paris: https://www.google.com/search?q=Nolinski+Paris\n",
      "UNA Hotel Scandinavia: https://www.google.com/search?q=UNA+Hotel+Scandinavia\n",
      "The Berkeley: https://www.google.com/search?q=The+Berkeley\n",
      "Shangri La Hotel Paris: https://www.google.com/search?q=Shangri+La+Hotel+Paris\n"
     ]
    },
    {
     "ename": "KeyboardInterrupt",
     "evalue": "",
     "output_type": "error",
     "traceback": [
      "\u001b[0;31m---------------------------------------------------------------------------\u001b[0m",
      "\u001b[0;31mKeyboardInterrupt\u001b[0m                         Traceback (most recent call last)",
      "Cell \u001b[0;32mIn[84], line 7\u001b[0m\n\u001b[1;32m      5\u001b[0m url \u001b[39m=\u001b[39m link\n\u001b[1;32m      6\u001b[0m \u001b[39m# попытка с хэдлеслом закончилась блоком по ip\u001b[39;00m\n\u001b[0;32m----> 7\u001b[0m response \u001b[39m=\u001b[39m requests\u001b[39m.\u001b[39;49mget(url, headers\u001b[39m=\u001b[39;49mheaders, proxies\u001b[39m=\u001b[39;49mproxies)\n\u001b[1;32m      8\u001b[0m soup \u001b[39m=\u001b[39m BeautifulSoup(response\u001b[39m.\u001b[39mtext)\n\u001b[1;32m      9\u001b[0m star \u001b[39m=\u001b[39m soup\u001b[39m.\u001b[39mfindAll(\u001b[39m'\u001b[39m\u001b[39mspan\u001b[39m\u001b[39m'\u001b[39m, class_\u001b[39m=\u001b[39m\u001b[39m'\u001b[39m\u001b[39moqSTJd\u001b[39m\u001b[39m'\u001b[39m)[\u001b[39m0\u001b[39m]\u001b[39m.\u001b[39mtext\u001b[39m.\u001b[39mreplace(\u001b[39m'\u001b[39m\u001b[39m,\u001b[39m\u001b[39m'\u001b[39m, \u001b[39m'\u001b[39m\u001b[39m.\u001b[39m\u001b[39m'\u001b[39m)\n",
      "File \u001b[0;32m~/opt/anaconda3/envs/ds/lib/python3.11/site-packages/requests/api.py:73\u001b[0m, in \u001b[0;36mget\u001b[0;34m(url, params, **kwargs)\u001b[0m\n\u001b[1;32m     62\u001b[0m \u001b[39mdef\u001b[39;00m \u001b[39mget\u001b[39m(url, params\u001b[39m=\u001b[39m\u001b[39mNone\u001b[39;00m, \u001b[39m*\u001b[39m\u001b[39m*\u001b[39mkwargs):\n\u001b[1;32m     63\u001b[0m \u001b[39m    \u001b[39m\u001b[39mr\u001b[39m\u001b[39m\"\"\"Sends a GET request.\u001b[39;00m\n\u001b[1;32m     64\u001b[0m \n\u001b[1;32m     65\u001b[0m \u001b[39m    :param url: URL for the new :class:`Request` object.\u001b[39;00m\n\u001b[0;32m   (...)\u001b[0m\n\u001b[1;32m     70\u001b[0m \u001b[39m    :rtype: requests.Response\u001b[39;00m\n\u001b[1;32m     71\u001b[0m \u001b[39m    \"\"\"\u001b[39;00m\n\u001b[0;32m---> 73\u001b[0m     \u001b[39mreturn\u001b[39;00m request(\u001b[39m\"\u001b[39;49m\u001b[39mget\u001b[39;49m\u001b[39m\"\u001b[39;49m, url, params\u001b[39m=\u001b[39;49mparams, \u001b[39m*\u001b[39;49m\u001b[39m*\u001b[39;49mkwargs)\n",
      "File \u001b[0;32m~/opt/anaconda3/envs/ds/lib/python3.11/site-packages/requests/api.py:59\u001b[0m, in \u001b[0;36mrequest\u001b[0;34m(method, url, **kwargs)\u001b[0m\n\u001b[1;32m     55\u001b[0m \u001b[39m# By using the 'with' statement we are sure the session is closed, thus we\u001b[39;00m\n\u001b[1;32m     56\u001b[0m \u001b[39m# avoid leaving sockets open which can trigger a ResourceWarning in some\u001b[39;00m\n\u001b[1;32m     57\u001b[0m \u001b[39m# cases, and look like a memory leak in others.\u001b[39;00m\n\u001b[1;32m     58\u001b[0m \u001b[39mwith\u001b[39;00m sessions\u001b[39m.\u001b[39mSession() \u001b[39mas\u001b[39;00m session:\n\u001b[0;32m---> 59\u001b[0m     \u001b[39mreturn\u001b[39;00m session\u001b[39m.\u001b[39;49mrequest(method\u001b[39m=\u001b[39;49mmethod, url\u001b[39m=\u001b[39;49murl, \u001b[39m*\u001b[39;49m\u001b[39m*\u001b[39;49mkwargs)\n",
      "File \u001b[0;32m~/opt/anaconda3/envs/ds/lib/python3.11/site-packages/requests/sessions.py:587\u001b[0m, in \u001b[0;36mSession.request\u001b[0;34m(self, method, url, params, data, headers, cookies, files, auth, timeout, allow_redirects, proxies, hooks, stream, verify, cert, json)\u001b[0m\n\u001b[1;32m    582\u001b[0m send_kwargs \u001b[39m=\u001b[39m {\n\u001b[1;32m    583\u001b[0m     \u001b[39m\"\u001b[39m\u001b[39mtimeout\u001b[39m\u001b[39m\"\u001b[39m: timeout,\n\u001b[1;32m    584\u001b[0m     \u001b[39m\"\u001b[39m\u001b[39mallow_redirects\u001b[39m\u001b[39m\"\u001b[39m: allow_redirects,\n\u001b[1;32m    585\u001b[0m }\n\u001b[1;32m    586\u001b[0m send_kwargs\u001b[39m.\u001b[39mupdate(settings)\n\u001b[0;32m--> 587\u001b[0m resp \u001b[39m=\u001b[39m \u001b[39mself\u001b[39;49m\u001b[39m.\u001b[39;49msend(prep, \u001b[39m*\u001b[39;49m\u001b[39m*\u001b[39;49msend_kwargs)\n\u001b[1;32m    589\u001b[0m \u001b[39mreturn\u001b[39;00m resp\n",
      "File \u001b[0;32m~/opt/anaconda3/envs/ds/lib/python3.11/site-packages/requests/sessions.py:701\u001b[0m, in \u001b[0;36mSession.send\u001b[0;34m(self, request, **kwargs)\u001b[0m\n\u001b[1;32m    698\u001b[0m start \u001b[39m=\u001b[39m preferred_clock()\n\u001b[1;32m    700\u001b[0m \u001b[39m# Send the request\u001b[39;00m\n\u001b[0;32m--> 701\u001b[0m r \u001b[39m=\u001b[39m adapter\u001b[39m.\u001b[39;49msend(request, \u001b[39m*\u001b[39;49m\u001b[39m*\u001b[39;49mkwargs)\n\u001b[1;32m    703\u001b[0m \u001b[39m# Total elapsed time of the request (approximately)\u001b[39;00m\n\u001b[1;32m    704\u001b[0m elapsed \u001b[39m=\u001b[39m preferred_clock() \u001b[39m-\u001b[39m start\n",
      "File \u001b[0;32m~/opt/anaconda3/envs/ds/lib/python3.11/site-packages/requests/adapters.py:489\u001b[0m, in \u001b[0;36mHTTPAdapter.send\u001b[0;34m(self, request, stream, timeout, verify, cert, proxies)\u001b[0m\n\u001b[1;32m    487\u001b[0m \u001b[39mtry\u001b[39;00m:\n\u001b[1;32m    488\u001b[0m     \u001b[39mif\u001b[39;00m \u001b[39mnot\u001b[39;00m chunked:\n\u001b[0;32m--> 489\u001b[0m         resp \u001b[39m=\u001b[39m conn\u001b[39m.\u001b[39;49murlopen(\n\u001b[1;32m    490\u001b[0m             method\u001b[39m=\u001b[39;49mrequest\u001b[39m.\u001b[39;49mmethod,\n\u001b[1;32m    491\u001b[0m             url\u001b[39m=\u001b[39;49murl,\n\u001b[1;32m    492\u001b[0m             body\u001b[39m=\u001b[39;49mrequest\u001b[39m.\u001b[39;49mbody,\n\u001b[1;32m    493\u001b[0m             headers\u001b[39m=\u001b[39;49mrequest\u001b[39m.\u001b[39;49mheaders,\n\u001b[1;32m    494\u001b[0m             redirect\u001b[39m=\u001b[39;49m\u001b[39mFalse\u001b[39;49;00m,\n\u001b[1;32m    495\u001b[0m             assert_same_host\u001b[39m=\u001b[39;49m\u001b[39mFalse\u001b[39;49;00m,\n\u001b[1;32m    496\u001b[0m             preload_content\u001b[39m=\u001b[39;49m\u001b[39mFalse\u001b[39;49;00m,\n\u001b[1;32m    497\u001b[0m             decode_content\u001b[39m=\u001b[39;49m\u001b[39mFalse\u001b[39;49;00m,\n\u001b[1;32m    498\u001b[0m             retries\u001b[39m=\u001b[39;49m\u001b[39mself\u001b[39;49m\u001b[39m.\u001b[39;49mmax_retries,\n\u001b[1;32m    499\u001b[0m             timeout\u001b[39m=\u001b[39;49mtimeout,\n\u001b[1;32m    500\u001b[0m         )\n\u001b[1;32m    502\u001b[0m     \u001b[39m# Send the request.\u001b[39;00m\n\u001b[1;32m    503\u001b[0m     \u001b[39melse\u001b[39;00m:\n\u001b[1;32m    504\u001b[0m         \u001b[39mif\u001b[39;00m \u001b[39mhasattr\u001b[39m(conn, \u001b[39m\"\u001b[39m\u001b[39mproxy_pool\u001b[39m\u001b[39m\"\u001b[39m):\n",
      "File \u001b[0;32m~/opt/anaconda3/envs/ds/lib/python3.11/site-packages/urllib3/connectionpool.py:703\u001b[0m, in \u001b[0;36mHTTPConnectionPool.urlopen\u001b[0;34m(self, method, url, body, headers, retries, redirect, assert_same_host, timeout, pool_timeout, release_conn, chunked, body_pos, **response_kw)\u001b[0m\n\u001b[1;32m    700\u001b[0m     \u001b[39mself\u001b[39m\u001b[39m.\u001b[39m_prepare_proxy(conn)\n\u001b[1;32m    702\u001b[0m \u001b[39m# Make the request on the httplib connection object.\u001b[39;00m\n\u001b[0;32m--> 703\u001b[0m httplib_response \u001b[39m=\u001b[39m \u001b[39mself\u001b[39;49m\u001b[39m.\u001b[39;49m_make_request(\n\u001b[1;32m    704\u001b[0m     conn,\n\u001b[1;32m    705\u001b[0m     method,\n\u001b[1;32m    706\u001b[0m     url,\n\u001b[1;32m    707\u001b[0m     timeout\u001b[39m=\u001b[39;49mtimeout_obj,\n\u001b[1;32m    708\u001b[0m     body\u001b[39m=\u001b[39;49mbody,\n\u001b[1;32m    709\u001b[0m     headers\u001b[39m=\u001b[39;49mheaders,\n\u001b[1;32m    710\u001b[0m     chunked\u001b[39m=\u001b[39;49mchunked,\n\u001b[1;32m    711\u001b[0m )\n\u001b[1;32m    713\u001b[0m \u001b[39m# If we're going to release the connection in ``finally:``, then\u001b[39;00m\n\u001b[1;32m    714\u001b[0m \u001b[39m# the response doesn't need to know about the connection. Otherwise\u001b[39;00m\n\u001b[1;32m    715\u001b[0m \u001b[39m# it will also try to release it and we'll have a double-release\u001b[39;00m\n\u001b[1;32m    716\u001b[0m \u001b[39m# mess.\u001b[39;00m\n\u001b[1;32m    717\u001b[0m response_conn \u001b[39m=\u001b[39m conn \u001b[39mif\u001b[39;00m \u001b[39mnot\u001b[39;00m release_conn \u001b[39melse\u001b[39;00m \u001b[39mNone\u001b[39;00m\n",
      "File \u001b[0;32m~/opt/anaconda3/envs/ds/lib/python3.11/site-packages/urllib3/connectionpool.py:386\u001b[0m, in \u001b[0;36mHTTPConnectionPool._make_request\u001b[0;34m(self, conn, method, url, timeout, chunked, **httplib_request_kw)\u001b[0m\n\u001b[1;32m    384\u001b[0m \u001b[39m# Trigger any extra validation we need to do.\u001b[39;00m\n\u001b[1;32m    385\u001b[0m \u001b[39mtry\u001b[39;00m:\n\u001b[0;32m--> 386\u001b[0m     \u001b[39mself\u001b[39;49m\u001b[39m.\u001b[39;49m_validate_conn(conn)\n\u001b[1;32m    387\u001b[0m \u001b[39mexcept\u001b[39;00m (SocketTimeout, BaseSSLError) \u001b[39mas\u001b[39;00m e:\n\u001b[1;32m    388\u001b[0m     \u001b[39m# Py2 raises this as a BaseSSLError, Py3 raises it as socket timeout.\u001b[39;00m\n\u001b[1;32m    389\u001b[0m     \u001b[39mself\u001b[39m\u001b[39m.\u001b[39m_raise_timeout(err\u001b[39m=\u001b[39me, url\u001b[39m=\u001b[39murl, timeout_value\u001b[39m=\u001b[39mconn\u001b[39m.\u001b[39mtimeout)\n",
      "File \u001b[0;32m~/opt/anaconda3/envs/ds/lib/python3.11/site-packages/urllib3/connectionpool.py:1042\u001b[0m, in \u001b[0;36mHTTPSConnectionPool._validate_conn\u001b[0;34m(self, conn)\u001b[0m\n\u001b[1;32m   1040\u001b[0m \u001b[39m# Force connect early to allow us to validate the connection.\u001b[39;00m\n\u001b[1;32m   1041\u001b[0m \u001b[39mif\u001b[39;00m \u001b[39mnot\u001b[39;00m \u001b[39mgetattr\u001b[39m(conn, \u001b[39m\"\u001b[39m\u001b[39msock\u001b[39m\u001b[39m\"\u001b[39m, \u001b[39mNone\u001b[39;00m):  \u001b[39m# AppEngine might not have  `.sock`\u001b[39;00m\n\u001b[0;32m-> 1042\u001b[0m     conn\u001b[39m.\u001b[39;49mconnect()\n\u001b[1;32m   1044\u001b[0m \u001b[39mif\u001b[39;00m \u001b[39mnot\u001b[39;00m conn\u001b[39m.\u001b[39mis_verified:\n\u001b[1;32m   1045\u001b[0m     warnings\u001b[39m.\u001b[39mwarn(\n\u001b[1;32m   1046\u001b[0m         (\n\u001b[1;32m   1047\u001b[0m             \u001b[39m\"\u001b[39m\u001b[39mUnverified HTTPS request is being made to host \u001b[39m\u001b[39m'\u001b[39m\u001b[39m%s\u001b[39;00m\u001b[39m'\u001b[39m\u001b[39m. \u001b[39m\u001b[39m\"\u001b[39m\n\u001b[0;32m   (...)\u001b[0m\n\u001b[1;32m   1052\u001b[0m         InsecureRequestWarning,\n\u001b[1;32m   1053\u001b[0m     )\n",
      "File \u001b[0;32m~/opt/anaconda3/envs/ds/lib/python3.11/site-packages/urllib3/connection.py:358\u001b[0m, in \u001b[0;36mHTTPSConnection.connect\u001b[0;34m(self)\u001b[0m\n\u001b[1;32m    356\u001b[0m \u001b[39mdef\u001b[39;00m \u001b[39mconnect\u001b[39m(\u001b[39mself\u001b[39m):\n\u001b[1;32m    357\u001b[0m     \u001b[39m# Add certificate verification\u001b[39;00m\n\u001b[0;32m--> 358\u001b[0m     \u001b[39mself\u001b[39m\u001b[39m.\u001b[39msock \u001b[39m=\u001b[39m conn \u001b[39m=\u001b[39m \u001b[39mself\u001b[39;49m\u001b[39m.\u001b[39;49m_new_conn()\n\u001b[1;32m    359\u001b[0m     hostname \u001b[39m=\u001b[39m \u001b[39mself\u001b[39m\u001b[39m.\u001b[39mhost\n\u001b[1;32m    360\u001b[0m     tls_in_tls \u001b[39m=\u001b[39m \u001b[39mFalse\u001b[39;00m\n",
      "File \u001b[0;32m~/opt/anaconda3/envs/ds/lib/python3.11/site-packages/urllib3/connection.py:174\u001b[0m, in \u001b[0;36mHTTPConnection._new_conn\u001b[0;34m(self)\u001b[0m\n\u001b[1;32m    171\u001b[0m     extra_kw[\u001b[39m\"\u001b[39m\u001b[39msocket_options\u001b[39m\u001b[39m\"\u001b[39m] \u001b[39m=\u001b[39m \u001b[39mself\u001b[39m\u001b[39m.\u001b[39msocket_options\n\u001b[1;32m    173\u001b[0m \u001b[39mtry\u001b[39;00m:\n\u001b[0;32m--> 174\u001b[0m     conn \u001b[39m=\u001b[39m connection\u001b[39m.\u001b[39;49mcreate_connection(\n\u001b[1;32m    175\u001b[0m         (\u001b[39mself\u001b[39;49m\u001b[39m.\u001b[39;49m_dns_host, \u001b[39mself\u001b[39;49m\u001b[39m.\u001b[39;49mport), \u001b[39mself\u001b[39;49m\u001b[39m.\u001b[39;49mtimeout, \u001b[39m*\u001b[39;49m\u001b[39m*\u001b[39;49mextra_kw\n\u001b[1;32m    176\u001b[0m     )\n\u001b[1;32m    178\u001b[0m \u001b[39mexcept\u001b[39;00m SocketTimeout:\n\u001b[1;32m    179\u001b[0m     \u001b[39mraise\u001b[39;00m ConnectTimeoutError(\n\u001b[1;32m    180\u001b[0m         \u001b[39mself\u001b[39m,\n\u001b[1;32m    181\u001b[0m         \u001b[39m\"\u001b[39m\u001b[39mConnection to \u001b[39m\u001b[39m%s\u001b[39;00m\u001b[39m timed out. (connect timeout=\u001b[39m\u001b[39m%s\u001b[39;00m\u001b[39m)\u001b[39m\u001b[39m\"\u001b[39m\n\u001b[1;32m    182\u001b[0m         \u001b[39m%\u001b[39m (\u001b[39mself\u001b[39m\u001b[39m.\u001b[39mhost, \u001b[39mself\u001b[39m\u001b[39m.\u001b[39mtimeout),\n\u001b[1;32m    183\u001b[0m     )\n",
      "File \u001b[0;32m~/opt/anaconda3/envs/ds/lib/python3.11/site-packages/urllib3/util/connection.py:85\u001b[0m, in \u001b[0;36mcreate_connection\u001b[0;34m(address, timeout, source_address, socket_options)\u001b[0m\n\u001b[1;32m     83\u001b[0m     \u001b[39mif\u001b[39;00m source_address:\n\u001b[1;32m     84\u001b[0m         sock\u001b[39m.\u001b[39mbind(source_address)\n\u001b[0;32m---> 85\u001b[0m     sock\u001b[39m.\u001b[39;49mconnect(sa)\n\u001b[1;32m     86\u001b[0m     \u001b[39mreturn\u001b[39;00m sock\n\u001b[1;32m     88\u001b[0m \u001b[39mexcept\u001b[39;00m socket\u001b[39m.\u001b[39merror \u001b[39mas\u001b[39;00m e:\n",
      "\u001b[0;31mKeyboardInterrupt\u001b[0m: "
     ]
    }
   ],
   "source": [
    "# Наполняем словарь полученой информацией\n",
    "star_dict_3 = dict()\n",
    "for key, link in hotels_dict_3.items():\n",
    "    try:\n",
    "        url = link\n",
    "        # попытка с хэдлеслом закончилась блоком по ip\n",
    "        response = requests.get(url, headers=headers, proxies=proxies)\n",
    "        soup = BeautifulSoup(response.text)\n",
    "        star = soup.findAll('span', class_='oqSTJd')[0].text.replace(',', '.')\n",
    "        star_dict_3[key] = star\n",
    "        # попробую с этим таймером, без слипа гугл заблочил на день, есть вероятность что парсить будет в районе 30 минут\n",
    "        time.sleep(0.3)\n",
    "    except IndexError:  # есть один отель который гугл воспринимает как запрос на персоналию + индексэр выпадает когда блокают или когда у отеля нет рейта\n",
    "        print(f'{key}: {link}')\n",
    "        lost_dict[key]= link\n",
    "        pass\n",
    "    except ConnectionError:\n",
    "        print(f'{key}: {link}')\n",
    "        lost_dict[key]= link\n",
    "        pass"
   ]
  },
  {
   "cell_type": "code",
   "execution_count": 179,
   "metadata": {},
   "outputs": [],
   "source": [
    "star_df_3 = pd.DataFrame({'hotel': star_dict_3.keys(), 'star_rate':star_dict_3.values()})"
   ]
  },
  {
   "cell_type": "code",
   "execution_count": null,
   "metadata": {},
   "outputs": [],
   "source": [
    "with pd.ExcelWriter(\n",
    "            \"./data/star_rating_3.xlsx\") as writer:\n",
    "        star_df_3.to_excel(writer, sheet_name='stars')"
   ]
  },
  {
   "cell_type": "code",
   "execution_count": null,
   "metadata": {},
   "outputs": [],
   "source": [
    "lost_df = pd.DataFrame({'hotel': lost_dict.keys(), 'star_rate':lost_dict.values()})"
   ]
  },
  {
   "cell_type": "code",
   "execution_count": null,
   "metadata": {},
   "outputs": [],
   "source": [
    "with pd.ExcelWriter(\n",
    "            \"./data/star_lost_3.xlsx\") as writer:\n",
    "        lost_df.to_excel(writer, sheet_name='stars')"
   ]
  },
  {
   "attachments": {},
   "cell_type": "markdown",
   "metadata": {},
   "source": [
    "Дообработаем excel файлы руками (количество изменений располагает к рациональному подходу, и имеют в масштабах татасета малый вес), можно было заменить значения модальными"
   ]
  },
  {
   "cell_type": "code",
   "execution_count": null,
   "metadata": {},
   "outputs": [],
   "source": [
    "lost_dict_man = {\n",
    "    'Henry VIII': 'https://www.google.com/search?q=Henry+VIII',\n",
    "    'Bassano': 'https://www.google.com/search?q=Bassano',\n",
    "    'Elys es R gencia': 'https://www.google.com/search?q=Elys+es+R+gencia',\n",
    "    'Amp re': 'https://www.google.com/search?q=Amp+re',\n",
    "    'Thistle Euston': 'https://www.google.com/search?q=Thistle+Euston',\n",
    "    'Villa d Estr es': 'https://www.google.com/search?q=Villa+d+Estr+es',\n",
    "    'K K H tel Cayr Saint Germain des Pr s': 'https://www.google.com/search?q=K+K+H+tel+Cayr+Saint+Germain+des+Pr+s',\n",
    "    'Vice Versa': 'https://www.google.com/search?q=Vice+Versa',\n",
    "    'Arioso': 'https://www.google.com/search?q=Arioso',\n",
    "}"
   ]
  },
  {
   "cell_type": "code",
   "execution_count": 107,
   "metadata": {},
   "outputs": [],
   "source": [
    "'''star_df = pd.DataFrame({'hotel': star_dict.keys(), 'star_rate':star_dict.values()})\n",
    "with pd.ExcelWriter(\n",
    "            \"./data/star_rating.xlsx\") as writer:\n",
    "        star_df.to_excel(writer, sheet_name='curr')'''"
   ]
  },
  {
   "attachments": {},
   "cell_type": "markdown",
   "metadata": {},
   "source": [
    "---"
   ]
  },
  {
   "attachments": {},
   "cell_type": "markdown",
   "metadata": {},
   "source": [
    "Кодируем отели"
   ]
  },
  {
   "cell_type": "code",
   "execution_count": 279,
   "metadata": {},
   "outputs": [],
   "source": [
    "#Кодируем названия отелей\n",
    "data['hotel_name'] = data['hotel_name'].astype('category')\n",
    "data['hotel_name'] = data['hotel_name'].cat.codes"
   ]
  },
  {
   "attachments": {},
   "cell_type": "markdown",
   "metadata": {},
   "source": [
    "Код отеля по коду его страны"
   ]
  },
  {
   "cell_type": "code",
   "execution_count": 280,
   "metadata": {},
   "outputs": [],
   "source": [
    "# Достаем код страны\n",
    "response = requests.get('https://countrycode.org/')\n",
    "country_code = pd.read_html(response.text)\n",
    "country_code = country_code[0]\n",
    "country_code = country_code[['COUNTRY', 'COUNTRY CODE']]\n",
    "\n",
    "# Создаем функцию для формирования кодовой строки исходя из принципа территориальной близости принадлежности для кодов формата Х-ХХХ\n",
    "def get_code(data):\n",
    "    data = data.split('-')\n",
    "    return int(data[0])\n",
    "\n",
    "\n",
    "country_code['COUNTRY CODE'] = country_code['COUNTRY CODE'].apply(get_code)\n",
    "\n",
    "# Формируем новый закодированный (в последствие) признак местоположения отеля\n",
    "data['hotel_country'] = data['hotel_address'].str.split(' ')\n",
    "data['hotel_country'] = data['hotel_country'].apply(lambda x: x[-2::])\n",
    "data['hotel_country'] = data['hotel_country'].apply(\n",
    "    lambda x: x[0]+' '+x[1] if x[0] == 'United' else x[1])\n",
    "\n",
    "data = data.merge(\n",
    "    country_code, how='left',\n",
    "    left_on='hotel_country', right_on='COUNTRY'\n",
    ")\n",
    "data = data.rename(columns={'COUNTRY CODE': 'hotel_country_code'})\n"
   ]
  },
  {
   "attachments": {},
   "cell_type": "markdown",
   "metadata": {},
   "source": [
    "---"
   ]
  },
  {
   "attachments": {},
   "cell_type": "markdown",
   "metadata": {},
   "source": [
    "Код ревьюера по его национальной принадлежности"
   ]
  },
  {
   "cell_type": "code",
   "execution_count": 281,
   "metadata": {},
   "outputs": [],
   "source": [
    "# Стрипуем национальность для будущего присвоения кода страны\n",
    "data['reviewer_nationality'] = data['reviewer_nationality'].str.strip()\n",
    "# Переименуем пару стран\n",
    "data['reviewer_nationality'] = data['reviewer_nationality'].str.replace(\n",
    "    'United States of America', 'United States')\n",
    "\n",
    "# Формируем новый фрейм с кодом страны ревьюера\n",
    "data = data.merge(\n",
    "    country_code, how='left',\n",
    "    left_on='reviewer_nationality', right_on='COUNTRY'\n",
    ")\n",
    "\n",
    "data = data.rename(\n",
    "    columns={'COUNTRY CODE': 'nationality_code', 'COUNTRY': 'reviewer_country'})\n",
    "\n",
    "data['nationality_code'] = data['nationality_code'].fillna(\n",
    "    data['nationality_code'].mode()[0])\n"
   ]
  },
  {
   "attachments": {},
   "cell_type": "markdown",
   "metadata": {},
   "source": [
    "Являетлся ли ревьюер жителем страны в которой находится отель"
   ]
  },
  {
   "cell_type": "code",
   "execution_count": 282,
   "metadata": {},
   "outputs": [],
   "source": [
    "data['is_citizen'] = data['nationality_code'] == data['hotel_country_code']\n",
    "data['is_citizen'] = data['is_citizen'].apply(lambda x: 1 if x == True else 0)"
   ]
  },
  {
   "attachments": {},
   "cell_type": "markdown",
   "metadata": {},
   "source": [
    "---"
   ]
  },
  {
   "attachments": {},
   "cell_type": "markdown",
   "metadata": {},
   "source": [
    "Вытаскиваем город для дальнейших манипуляций с растояниями до различных объектов"
   ]
  },
  {
   "cell_type": "code",
   "execution_count": 283,
   "metadata": {},
   "outputs": [],
   "source": [
    "#Создаем признак города\n",
    "data['city'] = data['hotel_address'].str.split(' ')\n",
    "data['city'] = data['city'].apply(lambda x: x[-5] if x[-1] == 'Kingdom' else x[-2])"
   ]
  },
  {
   "cell_type": "code",
   "execution_count": 284,
   "metadata": {},
   "outputs": [
    {
     "data": {
      "text/plain": [
       "['London', 'Paris', 'Amsterdam', 'Milan', 'Barcelona', 'Vienna']"
      ]
     },
     "execution_count": 284,
     "metadata": {},
     "output_type": "execute_result"
    }
   ],
   "source": [
    "#Cоздаем список городов в сете\n",
    "city_list = list(data['city'].unique())\n",
    "city_list"
   ]
  },
  {
   "cell_type": "code",
   "execution_count": 285,
   "metadata": {},
   "outputs": [],
   "source": [
    "# Условные центры городов выбранные на основание исторических достопримечательностей. \n",
    "# В данном случае рассматриваются центры притяжения для отдыха, но не бизнес поездок, \n",
    "# т.к. предыдущие изыскания показали превалирующую долю в датасете и признак бизнес поездок был дропнут\n",
    "# в виду наличия мультиколлинеарности и меньшей доли. \n",
    "\n",
    "cities_coordinates = {\n",
    "    'London': (51.50458, -0.1332), 'Paris': (48.85637, 2.33475),\n",
    "    'Amsterdam': (52.374787, 4.896339), 'Milan': (45.470098, 9.179906),\n",
    "    'Vienna': (48.207904, 16.368116), 'Barcelona': (41.399367, 2.169938)\n",
    "}\n"
   ]
  },
  {
   "attachments": {},
   "cell_type": "markdown",
   "metadata": {},
   "source": [
    "Немного прервемся с расстоянием\n",
    "\n",
    "Заполняем пропуски в широте и долготе используя адреса отелей"
   ]
  },
  {
   "cell_type": "code",
   "execution_count": 286,
   "metadata": {},
   "outputs": [],
   "source": [
    "#Создаем пустые списки, в них будем нарезать куски адресов, точность будет не абсолюьная, но приемлимая\n",
    "temp_list = []\n",
    "list_of_nan = []\n",
    "address_list = []\n",
    "\n",
    "#Создаем список уникальных адресов отелей с пропусками\n",
    "empty_loc = data[data['lat'].isnull()]\n",
    "empty_hot_list = list(empty_loc['hotel_address'].unique())\n",
    "\n",
    "#Планомерно заполняем наши списки, впоследующем address_list используем для получения кортежей lat/lng\n",
    "for i in empty_hot_list:\n",
    "    temp_var = i.split(' ')[-1:-4:-1]\n",
    "    temp_list.append(temp_var)\n",
    "    \n",
    "for i in temp_list:\n",
    "    list_of_nan.append(i[::-1])\n",
    "\n",
    "for i in list_of_nan:\n",
    "    address_list.append(' '.join(i))\n",
    "    \n",
    "\n",
    "#Пробегаем циклом по адресам и создаем список кортежей ключ- часть адреса, значение lat/lng\n",
    "location_tuple_dict = dict()\n",
    "lat_dict = dict()\n",
    "lng_dict = dict()\n",
    "geolocator = Nominatim(user_agent=\"my_request\")\n",
    "for loc in address_list:\n",
    "    location = geolocator.geocode(loc)\n",
    "    location_tuple_dict[loc]=(location.latitude, location.longitude)\n",
    "    lat_dict[loc] = location.latitude\n",
    "    lng_dict[loc] = location.longitude\n",
    "\n",
    "# Востанавливаем словарь с полным названием, после всех манипуляций у нас есть словарь с ключами\n",
    "# в виде полного адреса и значениями в виде кортежа координат\n",
    "new_lat_dict = dict()\n",
    "for i in lat_dict:\n",
    "    for j in empty_hot_list:\n",
    "        if i in j:\n",
    "            new_lat_dict[j] = lat_dict[i]\n",
    "            \n",
    "new_lng_dict = dict()\n",
    "for i in lng_dict:\n",
    "    for j in empty_hot_list:\n",
    "        if i in j:\n",
    "            new_lng_dict[j] = lng_dict[i]"
   ]
  },
  {
   "cell_type": "code",
   "execution_count": 287,
   "metadata": {},
   "outputs": [],
   "source": [
    "#Заполним пустоты в широте\n",
    "data['lat'] = data['lat'].fillna(data['hotel_address'].apply(lambda x: new_lat_dict.get(x)))"
   ]
  },
  {
   "cell_type": "code",
   "execution_count": 288,
   "metadata": {},
   "outputs": [],
   "source": [
    "#И долготе\n",
    "data['lng'] = data['lng'].fillna(data['hotel_address'].apply(lambda x: new_lng_dict.get(x)))"
   ]
  },
  {
   "cell_type": "code",
   "execution_count": 289,
   "metadata": {},
   "outputs": [],
   "source": [
    "#Создаем новый фит координат отеля\n",
    "data['coordinates'] = tuple(zip(data['lat'], data['lng']))\n"
   ]
  },
  {
   "attachments": {},
   "cell_type": "markdown",
   "metadata": {},
   "source": [
    "Вернемся к расстояниям"
   ]
  },
  {
   "cell_type": "code",
   "execution_count": 290,
   "metadata": {},
   "outputs": [],
   "source": [
    "# Функция для нахождения расстояния\n",
    "data['distance_center'] = data['coordinates'].apply(\n",
    "    lambda x: geodesic(x, cities_coordinates[data['city'][0]]).km)\n"
   ]
  },
  {
   "attachments": {},
   "cell_type": "markdown",
   "metadata": {},
   "source": [
    "Вытаскиваем день недели и отдельно месяц"
   ]
  },
  {
   "cell_type": "code",
   "execution_count": 291,
   "metadata": {},
   "outputs": [],
   "source": [
    "data['review_date'] = pd.to_datetime(data['review_date'])\n",
    "data['month'] = data['review_date'].dt.month\n",
    "data['day_of_week'] = data['review_date'].dt.day_of_week\n",
    "data['year'] = data['review_date'].dt.year"
   ]
  },
  {
   "attachments": {},
   "cell_type": "markdown",
   "metadata": {},
   "source": [
    "---"
   ]
  },
  {
   "attachments": {},
   "cell_type": "markdown",
   "metadata": {},
   "source": [
    "Количество дней с момента отзыва как int"
   ]
  },
  {
   "cell_type": "code",
   "execution_count": 292,
   "metadata": {},
   "outputs": [],
   "source": [
    "# Достаем количество дней c момента публикации ревью\n",
    "def days_num(string_):\n",
    "    regexp = re.findall(r'\\d{0,5}', string_)\n",
    "    return regexp[0]\n",
    "\n",
    "\n",
    "data['days_since_review'] = data['days_since_review'].apply(days_num)\n",
    "data['days_since_review'] = data['days_since_review'].astype('int')\n"
   ]
  },
  {
   "cell_type": "code",
   "execution_count": 293,
   "metadata": {},
   "outputs": [
    {
     "data": {
      "text/plain": [
       "<AxesSubplot: ylabel='days_since_review'>"
      ]
     },
     "execution_count": 293,
     "metadata": {},
     "output_type": "execute_result"
    },
    {
     "data": {
      "image/png": "[encoded data removed]",
      "text/plain": [
       "<Figure size 640x480 with 1 Axes>"
      ]
     },
     "metadata": {},
     "output_type": "display_data"
    }
   ],
   "source": [
    "#Проверим выбросы в разрезе количества дней пройденных с момента отзыва\n",
    "sns.boxplot(y=data['days_since_review'])"
   ]
  },
  {
   "cell_type": "code",
   "execution_count": 294,
   "metadata": {},
   "outputs": [
    {
     "data": {
      "text/plain": [
       "<AxesSubplot: xlabel='days_since_review', ylabel='Count'>"
      ]
     },
     "execution_count": 294,
     "metadata": {},
     "output_type": "execute_result"
    },
    {
     "data": {
      "image/png": "[encoded data removed]",
      "text/plain": [
       "<Figure size 640x480 with 1 Axes>"
      ]
     },
     "metadata": {},
     "output_type": "display_data"
    }
   ],
   "source": [
    "sns.histplot(data['days_since_review'])"
   ]
  },
  {
   "attachments": {},
   "cell_type": "markdown",
   "metadata": {},
   "source": [
    "Нет четкого пониманияя касательно распределения"
   ]
  },
  {
   "cell_type": "code",
   "execution_count": 295,
   "metadata": {},
   "outputs": [
    {
     "data": {
      "text/plain": [
       "count    334184.000000\n",
       "mean        358.826051\n",
       "std         208.475349\n",
       "min           0.000000\n",
       "25%         182.000000\n",
       "50%         359.000000\n",
       "75%         532.000000\n",
       "max         730.000000\n",
       "Name: days_since_review, dtype: float64"
      ]
     },
     "execution_count": 295,
     "metadata": {},
     "output_type": "execute_result"
    }
   ],
   "source": [
    "#Создаем классификацию \"свежести\" отзыва на основании перцентилям\n",
    "data['days_since_review'].describe()"
   ]
  },
  {
   "cell_type": "code",
   "execution_count": 296,
   "metadata": {},
   "outputs": [],
   "source": [
    "#Функция для категоризации\n",
    "def freshness(data):\n",
    "    x = 0\n",
    "    if data <= 175:\n",
    "        x = 1\n",
    "    elif 175 < data <= 354:\n",
    "        x = 2\n",
    "    elif 354 < data <= 527:\n",
    "        x = 3\n",
    "    else:\n",
    "        x = 4\n",
    "    return x"
   ]
  },
  {
   "cell_type": "code",
   "execution_count": 297,
   "metadata": {},
   "outputs": [],
   "source": [
    "data['days_since_review_fresh'] = data['days_since_review'].apply(freshness)"
   ]
  },
  {
   "attachments": {},
   "cell_type": "markdown",
   "metadata": {},
   "source": [
    "Проверяем на мультиколлинеарность"
   ]
  },
  {
   "cell_type": "code",
   "execution_count": 298,
   "metadata": {},
   "outputs": [
    {
     "name": "stderr",
     "output_type": "stream",
     "text": [
      "/var/folders/1_/hgb3xg852md0hqqs3ybwbsp40000gn/T/ipykernel_45906/1607366581.py:1: FutureWarning: The default value of numeric_only in DataFrame.corr is deprecated. In a future version, it will default to False. Select only valid columns or specify the value of numeric_only to silence this warning.\n",
      "  whole_corr = data.corr()[(data.corr() > 0.7) | (data.corr() < -0.7)]\n"
     ]
    },
    {
     "data": {
      "image/png": "[encoded data removed]",
      "text/plain": [
       "<Figure size 640x480 with 2 Axes>"
      ]
     },
     "metadata": {},
     "output_type": "display_data"
    }
   ],
   "source": [
    "whole_corr = data.corr()[(data.corr() > 0.7) | (data.corr() < -0.7)]\n",
    "sns.heatmap(whole_corr);"
   ]
  },
  {
   "cell_type": "code",
   "execution_count": 299,
   "metadata": {},
   "outputs": [
    {
     "data": {
      "text/html": [
       "<div>\n",
       "<style scoped>\n",
       "    .dataframe tbody tr th:only-of-type {\n",
       "        vertical-align: middle;\n",
       "    }\n",
       "\n",
       "    .dataframe tbody tr th {\n",
       "        vertical-align: top;\n",
       "    }\n",
       "\n",
       "    .dataframe thead th {\n",
       "        text-align: right;\n",
       "    }\n",
       "</style>\n",
       "<table border=\"1\" class=\"dataframe\">\n",
       "  <thead>\n",
       "    <tr style=\"text-align: right;\">\n",
       "      <th></th>\n",
       "      <th>Name</th>\n",
       "      <th>CNT</th>\n",
       "    </tr>\n",
       "  </thead>\n",
       "  <tbody>\n",
       "    <tr>\n",
       "      <th>0</th>\n",
       "      <td>additional_number_of_scoring</td>\n",
       "      <td>2</td>\n",
       "    </tr>\n",
       "    <tr>\n",
       "      <th>4</th>\n",
       "      <td>total_number_of_reviews</td>\n",
       "      <td>2</td>\n",
       "    </tr>\n",
       "    <tr>\n",
       "      <th>8</th>\n",
       "      <td>days_since_review</td>\n",
       "      <td>3</td>\n",
       "    </tr>\n",
       "    <tr>\n",
       "      <th>9</th>\n",
       "      <td>lat</td>\n",
       "      <td>2</td>\n",
       "    </tr>\n",
       "    <tr>\n",
       "      <th>10</th>\n",
       "      <td>lng</td>\n",
       "      <td>2</td>\n",
       "    </tr>\n",
       "    <tr>\n",
       "      <th>12</th>\n",
       "      <td>Leisure trip</td>\n",
       "      <td>2</td>\n",
       "    </tr>\n",
       "    <tr>\n",
       "      <th>16</th>\n",
       "      <td>Business trip</td>\n",
       "      <td>2</td>\n",
       "    </tr>\n",
       "    <tr>\n",
       "      <th>59</th>\n",
       "      <td>distance_center</td>\n",
       "      <td>3</td>\n",
       "    </tr>\n",
       "    <tr>\n",
       "      <th>62</th>\n",
       "      <td>year</td>\n",
       "      <td>3</td>\n",
       "    </tr>\n",
       "    <tr>\n",
       "      <th>63</th>\n",
       "      <td>days_since_review_fresh</td>\n",
       "      <td>3</td>\n",
       "    </tr>\n",
       "  </tbody>\n",
       "</table>\n",
       "</div>"
      ],
      "text/plain": [
       "                            Name  CNT\n",
       "0   additional_number_of_scoring    2\n",
       "4        total_number_of_reviews    2\n",
       "8              days_since_review    3\n",
       "9                            lat    2\n",
       "10                           lng    2\n",
       "12                  Leisure trip    2\n",
       "16                 Business trip    2\n",
       "59               distance_center    3\n",
       "62                          year    3\n",
       "63       days_since_review_fresh    3"
      ]
     },
     "execution_count": 299,
     "metadata": {},
     "output_type": "execute_result"
    }
   ],
   "source": [
    "#Список фитов с мультиколлинеарностью\n",
    "direct_corr = whole_corr.count(axis=0)\n",
    "corr_columns = pd.DataFrame({'Name':direct_corr.index, 'CNT':direct_corr.values})\n",
    "corr_columns.query(\"CNT > 1\")"
   ]
  },
  {
   "cell_type": "code",
   "execution_count": 300,
   "metadata": {},
   "outputs": [
    {
     "data": {
      "text/html": [
       "<div>\n",
       "<style scoped>\n",
       "    .dataframe tbody tr th:only-of-type {\n",
       "        vertical-align: middle;\n",
       "    }\n",
       "\n",
       "    .dataframe tbody tr th {\n",
       "        vertical-align: top;\n",
       "    }\n",
       "\n",
       "    .dataframe thead th {\n",
       "        text-align: right;\n",
       "    }\n",
       "</style>\n",
       "<table border=\"1\" class=\"dataframe\">\n",
       "  <thead>\n",
       "    <tr style=\"text-align: right;\">\n",
       "      <th></th>\n",
       "      <th>additional_number_of_scoring</th>\n",
       "      <th>average_score</th>\n",
       "      <th>hotel_name</th>\n",
       "      <th>review_total_negative_word_counts</th>\n",
       "      <th>total_number_of_reviews</th>\n",
       "      <th>review_total_positive_word_counts</th>\n",
       "      <th>total_number_of_reviews_reviewer_has_given</th>\n",
       "      <th>reviewer_score</th>\n",
       "      <th>days_since_review</th>\n",
       "      <th>lat</th>\n",
       "      <th>...</th>\n",
       "      <th>King Room</th>\n",
       "      <th>Basic Double Room</th>\n",
       "      <th>hotel_country_code</th>\n",
       "      <th>nationality_code</th>\n",
       "      <th>is_citizen</th>\n",
       "      <th>distance_center</th>\n",
       "      <th>month</th>\n",
       "      <th>day_of_week</th>\n",
       "      <th>year</th>\n",
       "      <th>days_since_review_fresh</th>\n",
       "    </tr>\n",
       "  </thead>\n",
       "  <tbody>\n",
       "    <tr>\n",
       "      <th>additional_number_of_scoring</th>\n",
       "      <td>1.000000</td>\n",
       "      <td>NaN</td>\n",
       "      <td>NaN</td>\n",
       "      <td>NaN</td>\n",
       "      <td>0.825795</td>\n",
       "      <td>NaN</td>\n",
       "      <td>NaN</td>\n",
       "      <td>NaN</td>\n",
       "      <td>NaN</td>\n",
       "      <td>NaN</td>\n",
       "      <td>...</td>\n",
       "      <td>NaN</td>\n",
       "      <td>NaN</td>\n",
       "      <td>NaN</td>\n",
       "      <td>NaN</td>\n",
       "      <td>NaN</td>\n",
       "      <td>NaN</td>\n",
       "      <td>NaN</td>\n",
       "      <td>NaN</td>\n",
       "      <td>NaN</td>\n",
       "      <td>NaN</td>\n",
       "    </tr>\n",
       "    <tr>\n",
       "      <th>average_score</th>\n",
       "      <td>NaN</td>\n",
       "      <td>1.0</td>\n",
       "      <td>NaN</td>\n",
       "      <td>NaN</td>\n",
       "      <td>NaN</td>\n",
       "      <td>NaN</td>\n",
       "      <td>NaN</td>\n",
       "      <td>NaN</td>\n",
       "      <td>NaN</td>\n",
       "      <td>NaN</td>\n",
       "      <td>...</td>\n",
       "      <td>NaN</td>\n",
       "      <td>NaN</td>\n",
       "      <td>NaN</td>\n",
       "      <td>NaN</td>\n",
       "      <td>NaN</td>\n",
       "      <td>NaN</td>\n",
       "      <td>NaN</td>\n",
       "      <td>NaN</td>\n",
       "      <td>NaN</td>\n",
       "      <td>NaN</td>\n",
       "    </tr>\n",
       "    <tr>\n",
       "      <th>hotel_name</th>\n",
       "      <td>NaN</td>\n",
       "      <td>NaN</td>\n",
       "      <td>1.0</td>\n",
       "      <td>NaN</td>\n",
       "      <td>NaN</td>\n",
       "      <td>NaN</td>\n",
       "      <td>NaN</td>\n",
       "      <td>NaN</td>\n",
       "      <td>NaN</td>\n",
       "      <td>NaN</td>\n",
       "      <td>...</td>\n",
       "      <td>NaN</td>\n",
       "      <td>NaN</td>\n",
       "      <td>NaN</td>\n",
       "      <td>NaN</td>\n",
       "      <td>NaN</td>\n",
       "      <td>NaN</td>\n",
       "      <td>NaN</td>\n",
       "      <td>NaN</td>\n",
       "      <td>NaN</td>\n",
       "      <td>NaN</td>\n",
       "    </tr>\n",
       "    <tr>\n",
       "      <th>review_total_negative_word_counts</th>\n",
       "      <td>NaN</td>\n",
       "      <td>NaN</td>\n",
       "      <td>NaN</td>\n",
       "      <td>1.0</td>\n",
       "      <td>NaN</td>\n",
       "      <td>NaN</td>\n",
       "      <td>NaN</td>\n",
       "      <td>NaN</td>\n",
       "      <td>NaN</td>\n",
       "      <td>NaN</td>\n",
       "      <td>...</td>\n",
       "      <td>NaN</td>\n",
       "      <td>NaN</td>\n",
       "      <td>NaN</td>\n",
       "      <td>NaN</td>\n",
       "      <td>NaN</td>\n",
       "      <td>NaN</td>\n",
       "      <td>NaN</td>\n",
       "      <td>NaN</td>\n",
       "      <td>NaN</td>\n",
       "      <td>NaN</td>\n",
       "    </tr>\n",
       "    <tr>\n",
       "      <th>total_number_of_reviews</th>\n",
       "      <td>0.825795</td>\n",
       "      <td>NaN</td>\n",
       "      <td>NaN</td>\n",
       "      <td>NaN</td>\n",
       "      <td>1.000000</td>\n",
       "      <td>NaN</td>\n",
       "      <td>NaN</td>\n",
       "      <td>NaN</td>\n",
       "      <td>NaN</td>\n",
       "      <td>NaN</td>\n",
       "      <td>...</td>\n",
       "      <td>NaN</td>\n",
       "      <td>NaN</td>\n",
       "      <td>NaN</td>\n",
       "      <td>NaN</td>\n",
       "      <td>NaN</td>\n",
       "      <td>NaN</td>\n",
       "      <td>NaN</td>\n",
       "      <td>NaN</td>\n",
       "      <td>NaN</td>\n",
       "      <td>NaN</td>\n",
       "    </tr>\n",
       "    <tr>\n",
       "      <th>...</th>\n",
       "      <td>...</td>\n",
       "      <td>...</td>\n",
       "      <td>...</td>\n",
       "      <td>...</td>\n",
       "      <td>...</td>\n",
       "      <td>...</td>\n",
       "      <td>...</td>\n",
       "      <td>...</td>\n",
       "      <td>...</td>\n",
       "      <td>...</td>\n",
       "      <td>...</td>\n",
       "      <td>...</td>\n",
       "      <td>...</td>\n",
       "      <td>...</td>\n",
       "      <td>...</td>\n",
       "      <td>...</td>\n",
       "      <td>...</td>\n",
       "      <td>...</td>\n",
       "      <td>...</td>\n",
       "      <td>...</td>\n",
       "      <td>...</td>\n",
       "    </tr>\n",
       "    <tr>\n",
       "      <th>distance_center</th>\n",
       "      <td>NaN</td>\n",
       "      <td>NaN</td>\n",
       "      <td>NaN</td>\n",
       "      <td>NaN</td>\n",
       "      <td>NaN</td>\n",
       "      <td>NaN</td>\n",
       "      <td>NaN</td>\n",
       "      <td>NaN</td>\n",
       "      <td>NaN</td>\n",
       "      <td>-0.838769</td>\n",
       "      <td>...</td>\n",
       "      <td>NaN</td>\n",
       "      <td>NaN</td>\n",
       "      <td>NaN</td>\n",
       "      <td>NaN</td>\n",
       "      <td>NaN</td>\n",
       "      <td>1.0</td>\n",
       "      <td>NaN</td>\n",
       "      <td>NaN</td>\n",
       "      <td>NaN</td>\n",
       "      <td>NaN</td>\n",
       "    </tr>\n",
       "    <tr>\n",
       "      <th>month</th>\n",
       "      <td>NaN</td>\n",
       "      <td>NaN</td>\n",
       "      <td>NaN</td>\n",
       "      <td>NaN</td>\n",
       "      <td>NaN</td>\n",
       "      <td>NaN</td>\n",
       "      <td>NaN</td>\n",
       "      <td>NaN</td>\n",
       "      <td>NaN</td>\n",
       "      <td>NaN</td>\n",
       "      <td>...</td>\n",
       "      <td>NaN</td>\n",
       "      <td>NaN</td>\n",
       "      <td>NaN</td>\n",
       "      <td>NaN</td>\n",
       "      <td>NaN</td>\n",
       "      <td>NaN</td>\n",
       "      <td>1.0</td>\n",
       "      <td>NaN</td>\n",
       "      <td>NaN</td>\n",
       "      <td>NaN</td>\n",
       "    </tr>\n",
       "    <tr>\n",
       "      <th>day_of_week</th>\n",
       "      <td>NaN</td>\n",
       "      <td>NaN</td>\n",
       "      <td>NaN</td>\n",
       "      <td>NaN</td>\n",
       "      <td>NaN</td>\n",
       "      <td>NaN</td>\n",
       "      <td>NaN</td>\n",
       "      <td>NaN</td>\n",
       "      <td>NaN</td>\n",
       "      <td>NaN</td>\n",
       "      <td>...</td>\n",
       "      <td>NaN</td>\n",
       "      <td>NaN</td>\n",
       "      <td>NaN</td>\n",
       "      <td>NaN</td>\n",
       "      <td>NaN</td>\n",
       "      <td>NaN</td>\n",
       "      <td>NaN</td>\n",
       "      <td>1.0</td>\n",
       "      <td>NaN</td>\n",
       "      <td>NaN</td>\n",
       "    </tr>\n",
       "    <tr>\n",
       "      <th>year</th>\n",
       "      <td>NaN</td>\n",
       "      <td>NaN</td>\n",
       "      <td>NaN</td>\n",
       "      <td>NaN</td>\n",
       "      <td>NaN</td>\n",
       "      <td>NaN</td>\n",
       "      <td>NaN</td>\n",
       "      <td>NaN</td>\n",
       "      <td>-0.916338</td>\n",
       "      <td>NaN</td>\n",
       "      <td>...</td>\n",
       "      <td>NaN</td>\n",
       "      <td>NaN</td>\n",
       "      <td>NaN</td>\n",
       "      <td>NaN</td>\n",
       "      <td>NaN</td>\n",
       "      <td>NaN</td>\n",
       "      <td>NaN</td>\n",
       "      <td>NaN</td>\n",
       "      <td>1.000000</td>\n",
       "      <td>-0.879297</td>\n",
       "    </tr>\n",
       "    <tr>\n",
       "      <th>days_since_review_fresh</th>\n",
       "      <td>NaN</td>\n",
       "      <td>NaN</td>\n",
       "      <td>NaN</td>\n",
       "      <td>NaN</td>\n",
       "      <td>NaN</td>\n",
       "      <td>NaN</td>\n",
       "      <td>NaN</td>\n",
       "      <td>NaN</td>\n",
       "      <td>0.966144</td>\n",
       "      <td>NaN</td>\n",
       "      <td>...</td>\n",
       "      <td>NaN</td>\n",
       "      <td>NaN</td>\n",
       "      <td>NaN</td>\n",
       "      <td>NaN</td>\n",
       "      <td>NaN</td>\n",
       "      <td>NaN</td>\n",
       "      <td>NaN</td>\n",
       "      <td>NaN</td>\n",
       "      <td>-0.879297</td>\n",
       "      <td>1.000000</td>\n",
       "    </tr>\n",
       "  </tbody>\n",
       "</table>\n",
       "<p>64 rows × 64 columns</p>\n",
       "</div>"
      ],
      "text/plain": [
       "                                   additional_number_of_scoring  \\\n",
       "additional_number_of_scoring                           1.000000   \n",
       "average_score                                               NaN   \n",
       "hotel_name                                                  NaN   \n",
       "review_total_negative_word_counts                           NaN   \n",
       "total_number_of_reviews                                0.825795   \n",
       "...                                                         ...   \n",
       "distance_center                                             NaN   \n",
       "month                                                       NaN   \n",
       "day_of_week                                                 NaN   \n",
       "year                                                        NaN   \n",
       "days_since_review_fresh                                     NaN   \n",
       "\n",
       "                                   average_score  hotel_name  \\\n",
       "additional_number_of_scoring                 NaN         NaN   \n",
       "average_score                                1.0         NaN   \n",
       "hotel_name                                   NaN         1.0   \n",
       "review_total_negative_word_counts            NaN         NaN   \n",
       "total_number_of_reviews                      NaN         NaN   \n",
       "...                                          ...         ...   \n",
       "distance_center                              NaN         NaN   \n",
       "month                                        NaN         NaN   \n",
       "day_of_week                                  NaN         NaN   \n",
       "year                                         NaN         NaN   \n",
       "days_since_review_fresh                      NaN         NaN   \n",
       "\n",
       "                                   review_total_negative_word_counts  \\\n",
       "additional_number_of_scoring                                     NaN   \n",
       "average_score                                                    NaN   \n",
       "hotel_name                                                       NaN   \n",
       "review_total_negative_word_counts                                1.0   \n",
       "total_number_of_reviews                                          NaN   \n",
       "...                                                              ...   \n",
       "distance_center                                                  NaN   \n",
       "month                                                            NaN   \n",
       "day_of_week                                                      NaN   \n",
       "year                                                             NaN   \n",
       "days_since_review_fresh                                          NaN   \n",
       "\n",
       "                                   total_number_of_reviews  \\\n",
       "additional_number_of_scoring                      0.825795   \n",
       "average_score                                          NaN   \n",
       "hotel_name                                             NaN   \n",
       "review_total_negative_word_counts                      NaN   \n",
       "total_number_of_reviews                           1.000000   \n",
       "...                                                    ...   \n",
       "distance_center                                        NaN   \n",
       "month                                                  NaN   \n",
       "day_of_week                                            NaN   \n",
       "year                                                   NaN   \n",
       "days_since_review_fresh                                NaN   \n",
       "\n",
       "                                   review_total_positive_word_counts  \\\n",
       "additional_number_of_scoring                                     NaN   \n",
       "average_score                                                    NaN   \n",
       "hotel_name                                                       NaN   \n",
       "review_total_negative_word_counts                                NaN   \n",
       "total_number_of_reviews                                          NaN   \n",
       "...                                                              ...   \n",
       "distance_center                                                  NaN   \n",
       "month                                                            NaN   \n",
       "day_of_week                                                      NaN   \n",
       "year                                                             NaN   \n",
       "days_since_review_fresh                                          NaN   \n",
       "\n",
       "                                   total_number_of_reviews_reviewer_has_given  \\\n",
       "additional_number_of_scoring                                              NaN   \n",
       "average_score                                                             NaN   \n",
       "hotel_name                                                                NaN   \n",
       "review_total_negative_word_counts                                         NaN   \n",
       "total_number_of_reviews                                                   NaN   \n",
       "...                                                                       ...   \n",
       "distance_center                                                           NaN   \n",
       "month                                                                     NaN   \n",
       "day_of_week                                                               NaN   \n",
       "year                                                                      NaN   \n",
       "days_since_review_fresh                                                   NaN   \n",
       "\n",
       "                                   reviewer_score  days_since_review  \\\n",
       "additional_number_of_scoring                  NaN                NaN   \n",
       "average_score                                 NaN                NaN   \n",
       "hotel_name                                    NaN                NaN   \n",
       "review_total_negative_word_counts             NaN                NaN   \n",
       "total_number_of_reviews                       NaN                NaN   \n",
       "...                                           ...                ...   \n",
       "distance_center                               NaN                NaN   \n",
       "month                                         NaN                NaN   \n",
       "day_of_week                                   NaN                NaN   \n",
       "year                                          NaN          -0.916338   \n",
       "days_since_review_fresh                       NaN           0.966144   \n",
       "\n",
       "                                        lat  ...  King Room  \\\n",
       "additional_number_of_scoring            NaN  ...        NaN   \n",
       "average_score                           NaN  ...        NaN   \n",
       "hotel_name                              NaN  ...        NaN   \n",
       "review_total_negative_word_counts       NaN  ...        NaN   \n",
       "total_number_of_reviews                 NaN  ...        NaN   \n",
       "...                                     ...  ...        ...   \n",
       "distance_center                   -0.838769  ...        NaN   \n",
       "month                                   NaN  ...        NaN   \n",
       "day_of_week                             NaN  ...        NaN   \n",
       "year                                    NaN  ...        NaN   \n",
       "days_since_review_fresh                 NaN  ...        NaN   \n",
       "\n",
       "                                   Basic Double Room  hotel_country_code  \\\n",
       "additional_number_of_scoring                     NaN                 NaN   \n",
       "average_score                                    NaN                 NaN   \n",
       "hotel_name                                       NaN                 NaN   \n",
       "review_total_negative_word_counts                NaN                 NaN   \n",
       "total_number_of_reviews                          NaN                 NaN   \n",
       "...                                              ...                 ...   \n",
       "distance_center                                  NaN                 NaN   \n",
       "month                                            NaN                 NaN   \n",
       "day_of_week                                      NaN                 NaN   \n",
       "year                                             NaN                 NaN   \n",
       "days_since_review_fresh                          NaN                 NaN   \n",
       "\n",
       "                                   nationality_code  is_citizen  \\\n",
       "additional_number_of_scoring                    NaN         NaN   \n",
       "average_score                                   NaN         NaN   \n",
       "hotel_name                                      NaN         NaN   \n",
       "review_total_negative_word_counts               NaN         NaN   \n",
       "total_number_of_reviews                         NaN         NaN   \n",
       "...                                             ...         ...   \n",
       "distance_center                                 NaN         NaN   \n",
       "month                                           NaN         NaN   \n",
       "day_of_week                                     NaN         NaN   \n",
       "year                                            NaN         NaN   \n",
       "days_since_review_fresh                         NaN         NaN   \n",
       "\n",
       "                                   distance_center  month  day_of_week  \\\n",
       "additional_number_of_scoring                   NaN    NaN          NaN   \n",
       "average_score                                  NaN    NaN          NaN   \n",
       "hotel_name                                     NaN    NaN          NaN   \n",
       "review_total_negative_word_counts              NaN    NaN          NaN   \n",
       "total_number_of_reviews                        NaN    NaN          NaN   \n",
       "...                                            ...    ...          ...   \n",
       "distance_center                                1.0    NaN          NaN   \n",
       "month                                          NaN    1.0          NaN   \n",
       "day_of_week                                    NaN    NaN          1.0   \n",
       "year                                           NaN    NaN          NaN   \n",
       "days_since_review_fresh                        NaN    NaN          NaN   \n",
       "\n",
       "                                       year  days_since_review_fresh  \n",
       "additional_number_of_scoring            NaN                      NaN  \n",
       "average_score                           NaN                      NaN  \n",
       "hotel_name                              NaN                      NaN  \n",
       "review_total_negative_word_counts       NaN                      NaN  \n",
       "total_number_of_reviews                 NaN                      NaN  \n",
       "...                                     ...                      ...  \n",
       "distance_center                         NaN                      NaN  \n",
       "month                                   NaN                      NaN  \n",
       "day_of_week                             NaN                      NaN  \n",
       "year                               1.000000                -0.879297  \n",
       "days_since_review_fresh           -0.879297                 1.000000  \n",
       "\n",
       "[64 rows x 64 columns]"
      ]
     },
     "execution_count": 300,
     "metadata": {},
     "output_type": "execute_result"
    }
   ],
   "source": [
    "whole_corr"
   ]
  },
  {
   "cell_type": "code",
   "execution_count": 301,
   "metadata": {},
   "outputs": [],
   "source": [
    "data.drop(['additional_number_of_scoring', 'Business trip', 'lat', 'lng', 'days_since_review_fresh', 'year'], axis=1, inplace=True)\n",
    "#Дропаем столбец даты что бы модель могла работать\n",
    "data.drop(['review_date'], axis=1, inplace=True)"
   ]
  },
  {
   "attachments": {},
   "cell_type": "markdown",
   "metadata": {},
   "source": [
    "---"
   ]
  },
  {
   "cell_type": "code",
   "execution_count": 302,
   "metadata": {},
   "outputs": [],
   "source": [
    "#Дропаем строковые фиты\n",
    "object_columns = [s for s in data.columns if data[s].dtypes == 'object']\n",
    "data.drop(object_columns, axis = 1, inplace=True)"
   ]
  },
  {
   "cell_type": "code",
   "execution_count": 303,
   "metadata": {},
   "outputs": [],
   "source": [
    "# Разбиваем датафрейм на части, необходимые для обучения и тестирования модели  \n",
    "# Х - данные с информацией об отелях, у - целевая переменная (рейтинги отелей)  \n",
    "X = data.drop(['reviewer_score'], axis = 1)  \n",
    "y = data['reviewer_score'] "
   ]
  },
  {
   "cell_type": "code",
   "execution_count": 304,
   "metadata": {},
   "outputs": [],
   "source": [
    "# Загружаем специальный инструмент для разбивки:  \n",
    "from sklearn.model_selection import train_test_split  "
   ]
  },
  {
   "cell_type": "code",
   "execution_count": 305,
   "metadata": {},
   "outputs": [],
   "source": [
    "# Наборы данных с меткой \"train\" будут использоваться для обучения модели, \"test\" - для тестирования.  \n",
    "# Для тестирования мы будем использовать 25% от исходного датасета.  \n",
    "X_train, X_test, y_train, y_test = train_test_split(X, y, test_size=0.2, random_state=42)"
   ]
  },
  {
   "cell_type": "code",
   "execution_count": 306,
   "metadata": {},
   "outputs": [],
   "source": [
    "# Импортируем необходимые библиотеки:\n",
    "# инструмент для создания и обучения модели\n",
    "from sklearn.ensemble import RandomForestRegressor\n",
    "from sklearn import metrics  # инструменты для оценки точности модели\n",
    "\n",
    "# Создаём модель\n",
    "regr = RandomForestRegressor(n_estimators=100)\n",
    "\n",
    "# Обучаем модель на тестовом наборе данных\n",
    "regr.fit(X_train, y_train)\n",
    "\n",
    "# Используем обученную модель для предсказания рейтинга отелей в тестовой выборке.\n",
    "# Предсказанные значения записываем в переменную y_pred\n",
    "y_pred = regr.predict(X_test)\n"
   ]
  },
  {
   "cell_type": "code",
   "execution_count": 307,
   "metadata": {},
   "outputs": [
    {
     "name": "stdout",
     "output_type": "stream",
     "text": [
      "MAPE: 0.10705579761416531\n"
     ]
    }
   ],
   "source": [
    "# Сравниваем предсказанные значения (y_pred) с реальными (y_test), и смотрим насколько они отличаются  \n",
    "# Метрика называется Mean Absolute Percentage Error (MAPE) и показывает среднюю абсолютную процентную ошибку предсказанных значений от фактических.  \n",
    "print('MAPE:', metrics.mean_absolute_percentage_error(y_test, y_pred))"
   ]
  },
  {
   "attachments": {},
   "cell_type": "markdown",
   "metadata": {},
   "source": [
    "MAPE: 0.10768575583438468"
   ]
  },
  {
   "cell_type": "markdown",
   "metadata": {},
   "source": []
  }
 ],
 "metadata": {
  "kernelspec": {
   "display_name": "ds",
   "language": "python",
   "name": "python3"
  },
  "language_info": {
   "codemirror_mode": {
    "name": "ipython",
    "version": 3
   },
   "file_extension": ".py",
   "mimetype": "text/x-python",
   "name": "python",
   "nbconvert_exporter": "python",
   "pygments_lexer": "ipython3",
   "version": "3.11.0"
  },
  "vscode": {
   "interpreter": {
    "hash": "d40a6ae76423cf5fae73028028fb017d8630dd167584993d74bc99181da5a036"
   }
  }
 },
 "nbformat": 4,
 "nbformat_minor": 2
}
