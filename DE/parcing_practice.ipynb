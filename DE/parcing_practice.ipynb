{
 "cells": [
  {
   "cell_type": "code",
   "execution_count": 132,
   "metadata": {},
   "outputs": [],
   "source": [
    "import datetime\n",
    "from time import sleep, time\n",
    "\n",
    "from selenium import webdriver\n",
    "from selenium.webdriver.support.ui import WebDriverWait\n",
    "from selenium.webdriver.support import expected_conditions as EC\n",
    "from selenium.webdriver.common.by import By\n",
    "from selenium.webdriver.common.keys import Keys\n",
    "import pandas as pd\n",
    "import requests\n",
    "from bs4 import BeautifulSoup\n",
    "import csv\n",
    "from pathlib import Path\n",
    "\n",
    "from concurrent.futures import ThreadPoolExecutor, wait"
   ]
  },
  {
   "cell_type": "code",
   "execution_count": 120,
   "metadata": {},
   "outputs": [],
   "source": [
    "# Парсим через pandas новости и рейтинги\n",
    "\n",
    "def get_info(page=1):\n",
    "    url = f'https://news.ycombinator.com/?p={page}'\n",
    "    \n",
    "    responce = requests.get(url)\n",
    "    \n",
    "    page = pd.read_html(responce.text)[2]\n",
    "    page.drop([1], axis=1, inplace=True)\n",
    "    page.rename(columns={0: 'index', 2: 'news'}, inplace=True)\n",
    "\n",
    "    page = page[(~page['news'].isna()) & (page['news'] != 'More')]\n",
    "\n",
    "    points = pd.DataFrame(\n",
    "        page['news'][page['index'].isna()].reset_index(drop=True))\n",
    "    points.rename(columns={'news':'points'}, inplace=True)\n",
    "\n",
    "    points['contains_points'] = points['points'].str.contains(\"points\")\n",
    "    points['points'] = points['points'].str.split(' ')\n",
    "\n",
    "    def set_points(row):\n",
    "        if row['contains_points']:\n",
    "            return row[0][0]\n",
    "        else:\n",
    "            return 0\n",
    "\n",
    "    points['points'] = points.apply(set_points, axis=1)\n",
    "\n",
    "\n",
    "    news = pd.DataFrame(page['news'][~page['index'].isna()].reset_index(drop=True))\n",
    "\n",
    "    result = pd.concat([news, points['points']], axis=1)\n",
    "    \n",
    "    return result\n",
    "\n",
    "\n",
    "\n",
    "\n",
    "news = pd.DataFrame(columns=['news', 'points'])\n",
    "for i in range(9):\n",
    "    news = pd.concat([news, get_info(i+1)])"
   ]
  },
  {
   "cell_type": "markdown",
   "metadata": {},
   "source": [
    "---"
   ]
  },
  {
   "cell_type": "code",
   "execution_count": 127,
   "metadata": {},
   "outputs": [],
   "source": [
    "url_proger = 'https://tproger.ru/quiz/real-programmer'"
   ]
  },
  {
   "cell_type": "code",
   "execution_count": 134,
   "metadata": {},
   "outputs": [],
   "source": [
    "driver = webdriver.Chrome()\n",
    "driver.get(url_proger)\n",
    "\n",
    "driver.maximize_window()\n",
    "driver.execute_script(\"window.scrollTo(0, window.scrollY + window.innerHeight);\")\n",
    "\n",
    "element = WebDriverWait(driver, 10).until(\n",
    "    EC.presence_of_element_located(\n",
    "        (By.XPATH, '//*[@id=\"649c4c45d91e950aa12828ce\"]'))\n",
    ")\n",
    "\n",
    "element.click()\n",
    "\n",
    "\n",
    "# driver.close()\n",
    "# driver.quit()"
   ]
  },
  {
   "cell_type": "code",
   "execution_count": null,
   "metadata": {},
   "outputs": [],
   "source": []
  }
 ],
 "metadata": {
  "kernelspec": {
   "display_name": "Python 3",
   "language": "python",
   "name": "python3"
  },
  "language_info": {
   "codemirror_mode": {
    "name": "ipython",
    "version": 3
   },
   "file_extension": ".py",
   "mimetype": "text/x-python",
   "name": "python",
   "nbconvert_exporter": "python",
   "pygments_lexer": "ipython3",
   "version": "3.11.4"
  }
 },
 "nbformat": 4,
 "nbformat_minor": 2
}
