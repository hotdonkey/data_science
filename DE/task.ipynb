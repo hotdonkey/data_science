{
 "cells": [
  {
   "cell_type": "code",
   "execution_count": 26,
   "metadata": {},
   "outputs": [],
   "source": [
    "import cfscrape \n",
    "import pandas as pd\n",
    "from datetime import datetime\n",
    "from bs4 import BeautifulSoup\n",
    "import warnings\n",
    "warnings.filterwarnings('ignore')"
   ]
  },
  {
   "cell_type": "code",
   "execution_count": 51,
   "metadata": {},
   "outputs": [],
   "source": [
    "def investing_com(url, currency='no'):\n",
    "    today = pd.to_datetime(datetime.now().date())\n",
    "    \n",
    "    scraper = cfscrape.create_scraper() \n",
    "    scraped_data = scraper.get(url) \n",
    "    \n",
    "    #responce = requests.get(url)\n",
    "    #soup = BeautifulSoup(responce.text, 'html.parser')\n",
    "    soup = BeautifulSoup(scraped_data.text, 'html.parser')\n",
    "\n",
    "    data = soup.find_all('td', class_='datatable_cell__LJp3C', dir=\"ltr\")\n",
    "    time = soup.find_all('time')\n",
    "    data_temp_list = [i.text for i in data]\n",
    "\n",
    "    data_list = []\n",
    "\n",
    "    for i in data_temp_list:\n",
    "        i = i.replace('.', '')\n",
    "        i = i.replace(',', '.')\n",
    "        data_list.append(i)\n",
    "\n",
    "    data = []\n",
    "\n",
    "    for i in data_list:\n",
    "        try:\n",
    "            i = pd.to_numeric(i)\n",
    "            data.append(i)\n",
    "        except:\n",
    "            pass\n",
    "\n",
    "    if currency == 'yes':\n",
    "        data = data[:23]\n",
    "\n",
    "    else:\n",
    "        pass\n",
    "\n",
    "    time_temp_list = [i.text for i in time]\n",
    "    time_temp_list = time_temp_list[1:]\n",
    "\n",
    "    result = pd.DataFrame(data={'date': time_temp_list, 'price': data})\n",
    "    result['date'] = pd.to_datetime(result['date'], dayfirst=True)\n",
    "\n",
    "    result = result[result['date'] != today]\n",
    "\n",
    "    result.drop_duplicates(inplace=True)\n",
    "    result.reset_index(inplace=True, drop=True)\n",
    "\n",
    "    return result"
   ]
  },
  {
   "cell_type": "code",
   "execution_count": 52,
   "metadata": {},
   "outputs": [],
   "source": [
    "gdaxi = investing_com('https://ru.investing.com/indices/germany-30-historical-data')\n",
    "imoex = investing_com('https://ru.investing.com/indices/mcx-historical-data')\n",
    "spx = investing_com('https://ru.investing.com/indices/us-spx-500-historical-data')\n",
    "ssek = investing_com('https://ru.investing.com/indices/shanghai-composite-historical-data')\n",
    "urals = investing_com('https://ru.investing.com/commodities/crude-oil-urals-spot-futures-historical-data')\n",
    "currency = investing_com('https://ru.investing.com/currencies/eur-usd-historical-data', currency='yes')"
   ]
  }
 ],
 "metadata": {
  "kernelspec": {
   "display_name": "Python 3",
   "language": "python",
   "name": "python3"
  },
  "language_info": {
   "codemirror_mode": {
    "name": "ipython",
    "version": 3
   },
   "file_extension": ".py",
   "mimetype": "text/x-python",
   "name": "python",
   "nbconvert_exporter": "python",
   "pygments_lexer": "ipython3",
   "version": "3.11.4"
  }
 },
 "nbformat": 4,
 "nbformat_minor": 2
}
