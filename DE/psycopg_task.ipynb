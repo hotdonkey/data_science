{
 "cells": [
  {
   "cell_type": "code",
   "execution_count": 14,
   "metadata": {},
   "outputs": [],
   "source": [
    "import psycopg2\n",
    "import pandas as pd"
   ]
  },
  {
   "cell_type": "code",
   "execution_count": 19,
   "metadata": {},
   "outputs": [],
   "source": [
    "connection = psycopg2.connect(\n",
    "    user='postgres',\n",
    "    password='9844',\n",
    "    host='localhost',\n",
    "    port='5432',\n",
    "    database=\"skillfactory\"\n",
    ")"
   ]
  },
  {
   "cell_type": "code",
   "execution_count": 20,
   "metadata": {},
   "outputs": [],
   "source": [
    "connection.autocommit = True"
   ]
  },
  {
   "cell_type": "code",
   "execution_count": 23,
   "metadata": {},
   "outputs": [],
   "source": [
    "with connection.cursor() as cursor:\n",
    "    cursor.execute(\"\"\"\n",
    "    DROP TABLE IF EXISTS articles;\n",
    "    CREATE TABLE articles(\n",
    "    news text,\n",
    "    points text,\n",
    "    n_comments text,\n",
    "    id text,\n",
    "    link text,\n",
    "    load_time text\n",
    ")\n",
    "\"\"\")"
   ]
  },
  {
   "cell_type": "code",
   "execution_count": 22,
   "metadata": {},
   "outputs": [],
   "source": [
    "# Инициализация датафрейма\n",
    "df = pd.read_excel('./data/hacker.xlsx')\n",
    "\n",
    "# Контекстный менеджер курсора\n",
    "with connection.cursor() as cursor:\n",
    "    # Построчная запись данных в БД\n",
    "    for row in df.itertuples():\n",
    "        cursor.execute('''\n",
    "        INSERT INTO articles (news, points, n_comments, id, link, load_time)\n",
    "        VALUES (%s, %s, %s, %s, %s, %s)''', \n",
    "        (row.news, row.points, row.n_comments, row.id, row.link, row.load_time))"
   ]
  },
  {
   "cell_type": "code",
   "execution_count": null,
   "metadata": {},
   "outputs": [],
   "source": []
  }
 ],
 "metadata": {
  "kernelspec": {
   "display_name": "Python 3",
   "language": "python",
   "name": "python3"
  },
  "language_info": {
   "codemirror_mode": {
    "name": "ipython",
    "version": 3
   },
   "file_extension": ".py",
   "mimetype": "text/x-python",
   "name": "python",
   "nbconvert_exporter": "python",
   "pygments_lexer": "ipython3",
   "version": "3.11.5"
  }
 },
 "nbformat": 4,
 "nbformat_minor": 2
}
