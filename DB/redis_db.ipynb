{
 "cells": [
  {
   "cell_type": "code",
   "execution_count": 1,
   "metadata": {},
   "outputs": [],
   "source": [
    "import redis\n",
    "r = redis.Redis(host='localhost', port=6379, db=0)"
   ]
  },
  {
   "cell_type": "code",
   "execution_count": 2,
   "metadata": {},
   "outputs": [
    {
     "data": {
      "text/plain": [
       "True"
      ]
     },
     "execution_count": 2,
     "metadata": {},
     "output_type": "execute_result"
    }
   ],
   "source": [
    "r.set('mykey', 'myvalue')"
   ]
  },
  {
   "cell_type": "code",
   "execution_count": 3,
   "metadata": {},
   "outputs": [
    {
     "data": {
      "text/plain": [
       "b'myvalue'"
      ]
     },
     "execution_count": 3,
     "metadata": {},
     "output_type": "execute_result"
    }
   ],
   "source": [
    "r.get('mykey')"
   ]
  },
  {
   "cell_type": "code",
   "execution_count": 11,
   "metadata": {},
   "outputs": [
    {
     "data": {
      "text/plain": [
       "'myvalue'"
      ]
     },
     "execution_count": 11,
     "metadata": {},
     "output_type": "execute_result"
    }
   ],
   "source": [
    "r.get('mykey').decode(\"utf-8\")"
   ]
  },
  {
   "cell_type": "code",
   "execution_count": 15,
   "metadata": {},
   "outputs": [
    {
     "data": {
      "text/plain": [
       "2"
      ]
     },
     "execution_count": 15,
     "metadata": {},
     "output_type": "execute_result"
    }
   ],
   "source": [
    "r.lpush('TestList', \"value1\")\n",
    "r.rpush('TestList', \"value2\")"
   ]
  },
  {
   "cell_type": "code",
   "execution_count": 17,
   "metadata": {},
   "outputs": [
    {
     "data": {
      "text/plain": [
       "'value2'"
      ]
     },
     "execution_count": 17,
     "metadata": {},
     "output_type": "execute_result"
    }
   ],
   "source": [
    "r.lpop('TestList').decode(\"utf-8\")"
   ]
  },
  {
   "cell_type": "code",
   "execution_count": 30,
   "metadata": {},
   "outputs": [
    {
     "data": {
      "text/plain": [
       "3"
      ]
     },
     "execution_count": 30,
     "metadata": {},
     "output_type": "execute_result"
    }
   ],
   "source": [
    "\n",
    "r.lpush('books', \"War And Peace\")\n",
    "r.lpush('books', \"Son\")\n",
    "r.lpush('books', \"Warriors\")"
   ]
  },
  {
   "cell_type": "code",
   "execution_count": 29,
   "metadata": {},
   "outputs": [
    {
     "ename": "AttributeError",
     "evalue": "'NoneType' object has no attribute 'decode'",
     "output_type": "error",
     "traceback": [
      "\u001b[0;31m---------------------------------------------------------------------------\u001b[0m",
      "\u001b[0;31mAttributeError\u001b[0m                            Traceback (most recent call last)",
      "\u001b[1;32m/Users/kirillkuznecov/Documents/mydocs/data_science/DB/redis_db.ipynb Cell 8\u001b[0m line \u001b[0;36m1\n\u001b[0;32m----> <a href='vscode-notebook-cell:/Users/kirillkuznecov/Documents/mydocs/data_science/DB/redis_db.ipynb#X11sZmlsZQ%3D%3D?line=0'>1</a>\u001b[0m r\u001b[39m.\u001b[39;49mlpop(\u001b[39m'\u001b[39;49m\u001b[39mbooks\u001b[39;49m\u001b[39m'\u001b[39;49m)\u001b[39m.\u001b[39;49mdecode(\u001b[39m'\u001b[39m\u001b[39mutf-8\u001b[39m\u001b[39m'\u001b[39m)\n",
      "\u001b[0;31mAttributeError\u001b[0m: 'NoneType' object has no attribute 'decode'"
     ]
    }
   ],
   "source": [
    "r.lpop('books').decode('utf-8')"
   ]
  },
  {
   "cell_type": "code",
   "execution_count": null,
   "metadata": {},
   "outputs": [],
   "source": []
  },
  {
   "cell_type": "code",
   "execution_count": null,
   "metadata": {},
   "outputs": [],
   "source": [
    "CREATE TABLE final (\n",
    "    `RecordId` UInt64,\n",
    "    `UserId` UInt64,\n",
    "    `ProductId` UInt64,\n",
    "    `ClickTime` DateTime,\n",
    "    `PurchTime` DateTime,\n",
    "    `Price` Float,\n",
    "    `Quantity` Int32 \n",
    ")\n",
    "ENGINE = MergeTree() \n",
    "PARTITION BY toYYYYMM(ClickTime)\n",
    "ORDER BY ClickTime"
   ]
  },
  {
   "cell_type": "code",
   "execution_count": null,
   "metadata": {},
   "outputs": [],
   "source": [
    "INSERT INTO final (*) VALUES \n",
    "(0, 1, 5, '2020-03-01 10:25:00', '2020-03-01 11:05:00', 10, 1),\n",
    "(1, 1, 178, '2020-04-01 00:00:00', '2020-04-01 01:02:00', 23111, 22),\n",
    "(2, 2, 99, '2020-03-02 13:01:00', '2020-03-02 14:10:00', 331, 3),\n",
    "(3, 3, 5, '2020-03-01 10:25:00', '2020-03-01 10:25:00', 10, 2),\n",
    "(4, 1, 67, '2020-08-12 07:27:00', '2020-08-12 07:28:00', 45000, 1),\n",
    "(5, 4, 22, '2020-05-01 16:08:00', '2020-05-01 16:25:00', 22149, 5)"
   ]
  },
  {
   "cell_type": "code",
   "execution_count": null,
   "metadata": {},
   "outputs": [],
   "source": [
    "db.final.insertMany([\n",
    "          { name: 'Ann', productId: 5, price: 10, quantity : 1 },\n",
    "          { name: 'Ann', productId: 178, price: 23111, quantity : 22 },\n",
    "          { name: 'Mike', productId: 99, price: 331, quantity : 3 },\n",
    "          { name: 'Alex', productId: 5, price: 10, quantity : 2 },\n",
    "          { name: 'Ann', productId: 67, price: 45000, quantity : 1 },\n",
    "          { name: 'John', productId: 22, price: 22149, quantity : 5 }\n",
    "        ])"
   ]
  },
  {
   "cell_type": "code",
   "execution_count": null,
   "metadata": {},
   "outputs": [],
   "source": [
    "db.final.insertMany([\n",
    "            { name: 'Ann', productId: 5, price: 10, quantity : 1 },\n",
    "            { name: 'Ann', productId: 178, price: 23111, quantity : 22 },\n",
    "            { name: 'Mike', productId: 99, price: 331, quantity : 3 },\n",
    "            { name: 'Alex', productId: 5, price: 10, quantity : 2 },\n",
    "            { name: 'Ann', productId: 67, price: 45000, quantity : 1 },\n",
    "            { name: 'John', productId: 22, price: 22149, quantity : 5 },\n",
    "          ])"
   ]
  },
  {
   "cell_type": "code",
   "execution_count": null,
   "metadata": {},
   "outputs": [],
   "source": [
    "db.final.update({name:\"John\"},{$inc:{productId:1}});"
   ]
  },
  {
   "cell_type": "code",
   "execution_count": null,
   "metadata": {},
   "outputs": [],
   "source": [
    "db.final.update( { name: 'John'} , { $inc : { productId: 1 } } );"
   ]
  },
  {
   "cell_type": "code",
   "execution_count": null,
   "metadata": {},
   "outputs": [],
   "source": [
    "db.final.update({name:\"John\"}, {$set:{productId:23}})"
   ]
  },
  {
   "cell_type": "code",
   "execution_count": null,
   "metadata": {},
   "outputs": [],
   "source": [
    "CREATE TABLE orders (\n",
    "    orderId int not null primary key,\n",
    "    productId int not null,\n",
    "    clientId int not null,\n",
    "    orderType int not null\n",
    ");"
   ]
  },
  {
   "cell_type": "code",
   "execution_count": null,
   "metadata": {},
   "outputs": [],
   "source": [
    "CREATE TABLE orderType1 (\n",
    "    CHECK (orderType = 1)\n",
    ") INHERITS (orders);\n",
    "CREATE TABLE orderType2 (\n",
    "    CHECK (orderType = 2)\n",
    ") INHERITS (orders);"
   ]
  },
  {
   "cell_type": "code",
   "execution_count": null,
   "metadata": {},
   "outputs": [],
   "source": [
    "CREATE RULE orders_insert1 AS ON INSERT TO orders\n",
    "WHERE ( orderType = 1)\n",
    "DO INSTEAD INSERT INTO orderType1 VALUES (NEW.*);\n",
    "CREATE RULE orders_insert2 AS ON INSERT TO orders\n",
    "WHERE ( orderType = 2)\n",
    "DO INSTEAD INSERT INTO orderType2 VALUES (NEW.*);\n"
   ]
  },
  {
   "cell_type": "code",
   "execution_count": null,
   "metadata": {},
   "outputs": [],
   "source": [
    "INSERT INTO orders VALUES (1,2,3,2);"
   ]
  }
 ],
 "metadata": {
  "kernelspec": {
   "display_name": "Python 3",
   "language": "python",
   "name": "python3"
  },
  "language_info": {
   "codemirror_mode": {
    "name": "ipython",
    "version": 3
   },
   "file_extension": ".py",
   "mimetype": "text/x-python",
   "name": "python",
   "nbconvert_exporter": "python",
   "pygments_lexer": "ipython3",
   "version": "3.12.0"
  }
 },
 "nbformat": 4,
 "nbformat_minor": 2
}
