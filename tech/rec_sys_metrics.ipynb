{
 "cells": [
  {
   "cell_type": "code",
   "execution_count": 7,
   "metadata": {},
   "outputs": [],
   "source": [
    "import pandas as pd\n",
    "import numpy as np\n",
    "from sklearn.metrics import average_precision_score"
   ]
  },
  {
   "cell_type": "code",
   "execution_count": 5,
   "metadata": {},
   "outputs": [],
   "source": [
    "# Функция для вычисления MRR\n",
    "def calculate_mrr(row):\n",
    "    ranking = row['Ranking']\n",
    "    reciprocal_ranks = 1 / np.arange(1, len(ranking) + 1)\n",
    "    relevant_rank = np.where(np.array(ranking) == 1)[0]\n",
    "    if len(relevant_rank) > 0:\n",
    "        return np.max(reciprocal_ranks[relevant_rank])\n",
    "    else:\n",
    "        return 0"
   ]
  },
  {
   "cell_type": "code",
   "execution_count": 8,
   "metadata": {},
   "outputs": [],
   "source": [
    "# Функция для вычисления MAP\n",
    "def calculate_map(row):\n",
    "    ranking = row['Ranking']\n",
    "    relevance = row['Relevance']\n",
    "    ap_scores = []\n",
    "    for i in range(len(ranking)):\n",
    "        ap_score = average_precision_score(relevance[i], ranking[i])\n",
    "        ap_scores.append(ap_score)\n",
    "    return sum(ap_scores) / len(ap_scores)"
   ]
  },
  {
   "cell_type": "code",
   "execution_count": null,
   "metadata": {},
   "outputs": [],
   "source": []
  }
 ],
 "metadata": {
  "kernelspec": {
   "display_name": "Python 3",
   "language": "python",
   "name": "python3"
  },
  "language_info": {
   "codemirror_mode": {
    "name": "ipython",
    "version": 3
   },
   "file_extension": ".py",
   "mimetype": "text/x-python",
   "name": "python",
   "nbconvert_exporter": "python",
   "pygments_lexer": "ipython3",
   "version": "3.11.4"
  }
 },
 "nbformat": 4,
 "nbformat_minor": 2
}
