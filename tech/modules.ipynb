{
 "cells": [
  {
   "cell_type": "code",
   "execution_count": 1,
   "metadata": {},
   "outputs": [
    {
     "name": "stdout",
     "output_type": "stream",
     "text": [
      "Requirement already satisfied: numpy in /Users/kirillkuznecov/opt/anaconda3/envs/ds_3114/lib/python3.11/site-packages (1.25.0)\n"
     ]
    }
   ],
   "source": [
    "!pip install numpy\n"
   ]
  },
  {
   "cell_type": "code",
   "execution_count": 2,
   "metadata": {},
   "outputs": [
    {
     "name": "stdout",
     "output_type": "stream",
     "text": [
      "Requirement already satisfied: pandas in /Users/kirillkuznecov/opt/anaconda3/envs/ds_3114/lib/python3.11/site-packages (2.0.3)\n",
      "Requirement already satisfied: python-dateutil>=2.8.2 in /Users/kirillkuznecov/opt/anaconda3/envs/ds_3114/lib/python3.11/site-packages (from pandas) (2.8.2)\n",
      "Requirement already satisfied: pytz>=2020.1 in /Users/kirillkuznecov/opt/anaconda3/envs/ds_3114/lib/python3.11/site-packages (from pandas) (2023.3)\n",
      "Requirement already satisfied: tzdata>=2022.1 in /Users/kirillkuznecov/opt/anaconda3/envs/ds_3114/lib/python3.11/site-packages (from pandas) (2023.3)\n",
      "Requirement already satisfied: numpy>=1.21.0 in /Users/kirillkuznecov/opt/anaconda3/envs/ds_3114/lib/python3.11/site-packages (from pandas) (1.25.0)\n",
      "Requirement already satisfied: six>=1.5 in /Users/kirillkuznecov/opt/anaconda3/envs/ds_3114/lib/python3.11/site-packages (from python-dateutil>=2.8.2->pandas) (1.16.0)\n"
     ]
    }
   ],
   "source": [
    "!pip install pandas\n"
   ]
  },
  {
   "cell_type": "code",
   "execution_count": 3,
   "metadata": {},
   "outputs": [
    {
     "name": "stdout",
     "output_type": "stream",
     "text": [
      "Collecting matplotlib\n",
      "  Using cached matplotlib-3.7.2-cp311-cp311-macosx_10_12_x86_64.whl (7.4 MB)\n",
      "Collecting contourpy>=1.0.1 (from matplotlib)\n",
      "  Using cached contourpy-1.1.0-cp311-cp311-macosx_10_9_x86_64.whl (243 kB)\n",
      "Collecting cycler>=0.10 (from matplotlib)\n",
      "  Using cached cycler-0.11.0-py3-none-any.whl (6.4 kB)\n",
      "Collecting fonttools>=4.22.0 (from matplotlib)\n",
      "  Downloading fonttools-4.42.0-cp311-cp311-macosx_10_9_x86_64.whl (2.2 MB)\n",
      "\u001b[2K     \u001b[90m━━━━━━━━━━━━━━━━━━━━━━━━━━━━━━━━━━━━━━━━\u001b[0m \u001b[32m2.2/2.2 MB\u001b[0m \u001b[31m468.3 kB/s\u001b[0m eta \u001b[36m0:00:00\u001b[0m00:01\u001b[0m00:01\u001b[0m\n",
      "\u001b[?25hCollecting kiwisolver>=1.0.1 (from matplotlib)\n",
      "  Using cached kiwisolver-1.4.4-cp311-cp311-macosx_10_9_x86_64.whl (65 kB)\n",
      "Requirement already satisfied: numpy>=1.20 in /Users/kirillkuznecov/opt/anaconda3/envs/ds_3114/lib/python3.11/site-packages (from matplotlib) (1.25.0)\n",
      "Requirement already satisfied: packaging>=20.0 in /Users/kirillkuznecov/opt/anaconda3/envs/ds_3114/lib/python3.11/site-packages (from matplotlib) (23.1)\n",
      "Collecting pillow>=6.2.0 (from matplotlib)\n",
      "  Using cached Pillow-10.0.0-cp311-cp311-macosx_10_10_x86_64.whl (3.4 MB)\n",
      "Collecting pyparsing<3.1,>=2.3.1 (from matplotlib)\n",
      "  Using cached pyparsing-3.0.9-py3-none-any.whl (98 kB)\n",
      "Requirement already satisfied: python-dateutil>=2.7 in /Users/kirillkuznecov/opt/anaconda3/envs/ds_3114/lib/python3.11/site-packages (from matplotlib) (2.8.2)\n",
      "Requirement already satisfied: six>=1.5 in /Users/kirillkuznecov/opt/anaconda3/envs/ds_3114/lib/python3.11/site-packages (from python-dateutil>=2.7->matplotlib) (1.16.0)\n",
      "Installing collected packages: pyparsing, pillow, kiwisolver, fonttools, cycler, contourpy, matplotlib\n",
      "  Attempting uninstall: pyparsing\n",
      "    Found existing installation: pyparsing 3.1.1\n",
      "    Uninstalling pyparsing-3.1.1:\n",
      "      Successfully uninstalled pyparsing-3.1.1\n",
      "Successfully installed contourpy-1.1.0 cycler-0.11.0 fonttools-4.42.0 kiwisolver-1.4.4 matplotlib-3.7.2 pillow-10.0.0 pyparsing-3.0.9\n"
     ]
    }
   ],
   "source": [
    "!pip install matplotlib\n"
   ]
  },
  {
   "cell_type": "code",
   "execution_count": 4,
   "metadata": {},
   "outputs": [
    {
     "name": "stdout",
     "output_type": "stream",
     "text": [
      "Collecting seaborn\n",
      "  Using cached seaborn-0.12.2-py3-none-any.whl (293 kB)\n",
      "Requirement already satisfied: numpy!=1.24.0,>=1.17 in /Users/kirillkuznecov/opt/anaconda3/envs/ds_3114/lib/python3.11/site-packages (from seaborn) (1.25.0)\n",
      "Requirement already satisfied: pandas>=0.25 in /Users/kirillkuznecov/opt/anaconda3/envs/ds_3114/lib/python3.11/site-packages (from seaborn) (2.0.3)\n",
      "Requirement already satisfied: matplotlib!=3.6.1,>=3.1 in /Users/kirillkuznecov/opt/anaconda3/envs/ds_3114/lib/python3.11/site-packages (from seaborn) (3.7.2)\n",
      "Requirement already satisfied: contourpy>=1.0.1 in /Users/kirillkuznecov/opt/anaconda3/envs/ds_3114/lib/python3.11/site-packages (from matplotlib!=3.6.1,>=3.1->seaborn) (1.1.0)\n",
      "Requirement already satisfied: cycler>=0.10 in /Users/kirillkuznecov/opt/anaconda3/envs/ds_3114/lib/python3.11/site-packages (from matplotlib!=3.6.1,>=3.1->seaborn) (0.11.0)\n",
      "Requirement already satisfied: fonttools>=4.22.0 in /Users/kirillkuznecov/opt/anaconda3/envs/ds_3114/lib/python3.11/site-packages (from matplotlib!=3.6.1,>=3.1->seaborn) (4.42.0)\n",
      "Requirement already satisfied: kiwisolver>=1.0.1 in /Users/kirillkuznecov/opt/anaconda3/envs/ds_3114/lib/python3.11/site-packages (from matplotlib!=3.6.1,>=3.1->seaborn) (1.4.4)\n",
      "Requirement already satisfied: packaging>=20.0 in /Users/kirillkuznecov/opt/anaconda3/envs/ds_3114/lib/python3.11/site-packages (from matplotlib!=3.6.1,>=3.1->seaborn) (23.1)\n",
      "Requirement already satisfied: pillow>=6.2.0 in /Users/kirillkuznecov/opt/anaconda3/envs/ds_3114/lib/python3.11/site-packages (from matplotlib!=3.6.1,>=3.1->seaborn) (10.0.0)\n",
      "Requirement already satisfied: pyparsing<3.1,>=2.3.1 in /Users/kirillkuznecov/opt/anaconda3/envs/ds_3114/lib/python3.11/site-packages (from matplotlib!=3.6.1,>=3.1->seaborn) (3.0.9)\n",
      "Requirement already satisfied: python-dateutil>=2.7 in /Users/kirillkuznecov/opt/anaconda3/envs/ds_3114/lib/python3.11/site-packages (from matplotlib!=3.6.1,>=3.1->seaborn) (2.8.2)\n",
      "Requirement already satisfied: pytz>=2020.1 in /Users/kirillkuznecov/opt/anaconda3/envs/ds_3114/lib/python3.11/site-packages (from pandas>=0.25->seaborn) (2023.3)\n",
      "Requirement already satisfied: tzdata>=2022.1 in /Users/kirillkuznecov/opt/anaconda3/envs/ds_3114/lib/python3.11/site-packages (from pandas>=0.25->seaborn) (2023.3)\n",
      "Requirement already satisfied: six>=1.5 in /Users/kirillkuznecov/opt/anaconda3/envs/ds_3114/lib/python3.11/site-packages (from python-dateutil>=2.7->matplotlib!=3.6.1,>=3.1->seaborn) (1.16.0)\n",
      "Installing collected packages: seaborn\n",
      "Successfully installed seaborn-0.12.2\n"
     ]
    }
   ],
   "source": [
    "!pip install seaborn\n"
   ]
  },
  {
   "cell_type": "code",
   "execution_count": 5,
   "metadata": {},
   "outputs": [
    {
     "name": "stdout",
     "output_type": "stream",
     "text": [
      "Requirement already satisfied: scipy in /Users/kirillkuznecov/opt/anaconda3/envs/ds_3114/lib/python3.11/site-packages (1.11.1)\n",
      "Requirement already satisfied: numpy<1.28.0,>=1.21.6 in /Users/kirillkuznecov/opt/anaconda3/envs/ds_3114/lib/python3.11/site-packages (from scipy) (1.25.0)\n"
     ]
    }
   ],
   "source": [
    "!pip install scipy\n"
   ]
  },
  {
   "cell_type": "code",
   "execution_count": 6,
   "metadata": {},
   "outputs": [
    {
     "name": "stdout",
     "output_type": "stream",
     "text": [
      "Collecting plotly\n",
      "  Using cached plotly-5.15.0-py2.py3-none-any.whl (15.5 MB)\n",
      "Collecting tenacity>=6.2.0 (from plotly)\n",
      "  Using cached tenacity-8.2.2-py3-none-any.whl (24 kB)\n",
      "Requirement already satisfied: packaging in /Users/kirillkuznecov/opt/anaconda3/envs/ds_3114/lib/python3.11/site-packages (from plotly) (23.1)\n",
      "Installing collected packages: tenacity, plotly\n",
      "Successfully installed plotly-5.15.0 tenacity-8.2.2\n"
     ]
    }
   ],
   "source": [
    "!pip install plotly\n"
   ]
  },
  {
   "cell_type": "code",
   "execution_count": 7,
   "metadata": {},
   "outputs": [
    {
     "name": "stdout",
     "output_type": "stream",
     "text": [
      "Requirement already satisfied: requests in /Users/kirillkuznecov/opt/anaconda3/envs/ds_3114/lib/python3.11/site-packages (2.31.0)\n",
      "Requirement already satisfied: charset-normalizer<4,>=2 in /Users/kirillkuznecov/opt/anaconda3/envs/ds_3114/lib/python3.11/site-packages (from requests) (3.2.0)\n",
      "Requirement already satisfied: idna<4,>=2.5 in /Users/kirillkuznecov/opt/anaconda3/envs/ds_3114/lib/python3.11/site-packages (from requests) (3.4)\n",
      "Requirement already satisfied: urllib3<3,>=1.21.1 in /Users/kirillkuznecov/opt/anaconda3/envs/ds_3114/lib/python3.11/site-packages (from requests) (2.0.4)\n",
      "Requirement already satisfied: certifi>=2017.4.17 in /Users/kirillkuznecov/opt/anaconda3/envs/ds_3114/lib/python3.11/site-packages (from requests) (2023.7.22)\n"
     ]
    }
   ],
   "source": [
    "!pip install requests"
   ]
  },
  {
   "cell_type": "code",
   "execution_count": 8,
   "metadata": {},
   "outputs": [
    {
     "name": "stdout",
     "output_type": "stream",
     "text": [
      "Collecting bs4\n",
      "  Using cached bs4-0.0.1-py3-none-any.whl\n",
      "Collecting beautifulsoup4 (from bs4)\n",
      "  Using cached beautifulsoup4-4.12.2-py3-none-any.whl (142 kB)\n",
      "Collecting soupsieve>1.2 (from beautifulsoup4->bs4)\n",
      "  Using cached soupsieve-2.4.1-py3-none-any.whl (36 kB)\n",
      "Installing collected packages: soupsieve, beautifulsoup4, bs4\n",
      "Successfully installed beautifulsoup4-4.12.2 bs4-0.0.1 soupsieve-2.4.1\n"
     ]
    }
   ],
   "source": [
    "!pip install bs4\n"
   ]
  },
  {
   "cell_type": "code",
   "execution_count": 9,
   "metadata": {},
   "outputs": [
    {
     "name": "stdout",
     "output_type": "stream",
     "text": [
      "Requirement already satisfied: selenium in /Users/kirillkuznecov/opt/anaconda3/envs/ds_3114/lib/python3.11/site-packages (4.11.2)\n",
      "Requirement already satisfied: urllib3[socks]<3,>=1.26 in /Users/kirillkuznecov/opt/anaconda3/envs/ds_3114/lib/python3.11/site-packages (from selenium) (2.0.4)\n",
      "Requirement already satisfied: trio~=0.17 in /Users/kirillkuznecov/opt/anaconda3/envs/ds_3114/lib/python3.11/site-packages (from selenium) (0.22.2)\n",
      "Requirement already satisfied: trio-websocket~=0.9 in /Users/kirillkuznecov/opt/anaconda3/envs/ds_3114/lib/python3.11/site-packages (from selenium) (0.10.3)\n",
      "Requirement already satisfied: certifi>=2021.10.8 in /Users/kirillkuznecov/opt/anaconda3/envs/ds_3114/lib/python3.11/site-packages (from selenium) (2023.7.22)\n",
      "Requirement already satisfied: attrs>=20.1.0 in /Users/kirillkuznecov/opt/anaconda3/envs/ds_3114/lib/python3.11/site-packages (from trio~=0.17->selenium) (23.1.0)\n",
      "Requirement already satisfied: sortedcontainers in /Users/kirillkuznecov/opt/anaconda3/envs/ds_3114/lib/python3.11/site-packages (from trio~=0.17->selenium) (2.4.0)\n",
      "Requirement already satisfied: idna in /Users/kirillkuznecov/opt/anaconda3/envs/ds_3114/lib/python3.11/site-packages (from trio~=0.17->selenium) (3.4)\n",
      "Requirement already satisfied: outcome in /Users/kirillkuznecov/opt/anaconda3/envs/ds_3114/lib/python3.11/site-packages (from trio~=0.17->selenium) (1.2.0)\n",
      "Requirement already satisfied: sniffio in /Users/kirillkuznecov/opt/anaconda3/envs/ds_3114/lib/python3.11/site-packages (from trio~=0.17->selenium) (1.3.0)\n",
      "Requirement already satisfied: exceptiongroup in /Users/kirillkuznecov/opt/anaconda3/envs/ds_3114/lib/python3.11/site-packages (from trio-websocket~=0.9->selenium) (1.1.2)\n",
      "Requirement already satisfied: wsproto>=0.14 in /Users/kirillkuznecov/opt/anaconda3/envs/ds_3114/lib/python3.11/site-packages (from trio-websocket~=0.9->selenium) (1.2.0)\n",
      "Requirement already satisfied: pysocks!=1.5.7,<2.0,>=1.5.6 in /Users/kirillkuznecov/opt/anaconda3/envs/ds_3114/lib/python3.11/site-packages (from urllib3[socks]<3,>=1.26->selenium) (1.7.1)\n",
      "Requirement already satisfied: h11<1,>=0.9.0 in /Users/kirillkuznecov/opt/anaconda3/envs/ds_3114/lib/python3.11/site-packages (from wsproto>=0.14->trio-websocket~=0.9->selenium) (0.14.0)\n"
     ]
    }
   ],
   "source": [
    "!pip install selenium"
   ]
  },
  {
   "cell_type": "code",
   "execution_count": 10,
   "metadata": {},
   "outputs": [
    {
     "name": "stdout",
     "output_type": "stream",
     "text": [
      "Requirement already satisfied: scipy in /Users/kirillkuznecov/opt/anaconda3/envs/ds_3114/lib/python3.11/site-packages (1.11.1)\n",
      "Requirement already satisfied: numpy<1.28.0,>=1.21.6 in /Users/kirillkuznecov/opt/anaconda3/envs/ds_3114/lib/python3.11/site-packages (from scipy) (1.25.0)\n"
     ]
    }
   ],
   "source": [
    "!pip install scipy"
   ]
  },
  {
   "cell_type": "code",
   "execution_count": 11,
   "metadata": {},
   "outputs": [
    {
     "name": "stdout",
     "output_type": "stream",
     "text": [
      "Collecting gspread\n",
      "  Using cached gspread-5.10.0-py3-none-any.whl (44 kB)\n",
      "Collecting google-auth>=1.12.0 (from gspread)\n",
      "  Downloading google_auth-2.22.0-py2.py3-none-any.whl (181 kB)\n",
      "\u001b[2K     \u001b[90m━━━━━━━━━━━━━━━━━━━━━━━━━━━━━━━━━━━━━\u001b[0m \u001b[32m181.8/181.8 kB\u001b[0m \u001b[31m380.6 kB/s\u001b[0m eta \u001b[36m0:00:00\u001b[0ma \u001b[36m0:00:01\u001b[0m\n",
      "\u001b[?25hCollecting google-auth-oauthlib>=0.4.1 (from gspread)\n",
      "  Using cached google_auth_oauthlib-1.0.0-py2.py3-none-any.whl (18 kB)\n",
      "Collecting cachetools<6.0,>=2.0.0 (from google-auth>=1.12.0->gspread)\n",
      "  Using cached cachetools-5.3.1-py3-none-any.whl (9.3 kB)\n",
      "Collecting pyasn1-modules>=0.2.1 (from google-auth>=1.12.0->gspread)\n",
      "  Using cached pyasn1_modules-0.3.0-py2.py3-none-any.whl (181 kB)\n",
      "Collecting rsa<5,>=3.1.4 (from google-auth>=1.12.0->gspread)\n",
      "  Using cached rsa-4.9-py3-none-any.whl (34 kB)\n",
      "Requirement already satisfied: six>=1.9.0 in /Users/kirillkuznecov/opt/anaconda3/envs/ds_3114/lib/python3.11/site-packages (from google-auth>=1.12.0->gspread) (1.16.0)\n",
      "Collecting urllib3<2.0 (from google-auth>=1.12.0->gspread)\n",
      "  Using cached urllib3-1.26.16-py2.py3-none-any.whl (143 kB)\n",
      "Collecting requests-oauthlib>=0.7.0 (from google-auth-oauthlib>=0.4.1->gspread)\n",
      "  Using cached requests_oauthlib-1.3.1-py2.py3-none-any.whl (23 kB)\n",
      "Collecting pyasn1<0.6.0,>=0.4.6 (from pyasn1-modules>=0.2.1->google-auth>=1.12.0->gspread)\n",
      "  Using cached pyasn1-0.5.0-py2.py3-none-any.whl (83 kB)\n",
      "Collecting oauthlib>=3.0.0 (from requests-oauthlib>=0.7.0->google-auth-oauthlib>=0.4.1->gspread)\n",
      "  Using cached oauthlib-3.2.2-py3-none-any.whl (151 kB)\n",
      "Requirement already satisfied: requests>=2.0.0 in /Users/kirillkuznecov/opt/anaconda3/envs/ds_3114/lib/python3.11/site-packages (from requests-oauthlib>=0.7.0->google-auth-oauthlib>=0.4.1->gspread) (2.31.0)\n",
      "Requirement already satisfied: charset-normalizer<4,>=2 in /Users/kirillkuznecov/opt/anaconda3/envs/ds_3114/lib/python3.11/site-packages (from requests>=2.0.0->requests-oauthlib>=0.7.0->google-auth-oauthlib>=0.4.1->gspread) (3.2.0)\n",
      "Requirement already satisfied: idna<4,>=2.5 in /Users/kirillkuznecov/opt/anaconda3/envs/ds_3114/lib/python3.11/site-packages (from requests>=2.0.0->requests-oauthlib>=0.7.0->google-auth-oauthlib>=0.4.1->gspread) (3.4)\n",
      "Requirement already satisfied: certifi>=2017.4.17 in /Users/kirillkuznecov/opt/anaconda3/envs/ds_3114/lib/python3.11/site-packages (from requests>=2.0.0->requests-oauthlib>=0.7.0->google-auth-oauthlib>=0.4.1->gspread) (2023.7.22)\n",
      "Installing collected packages: urllib3, pyasn1, oauthlib, cachetools, rsa, pyasn1-modules, requests-oauthlib, google-auth, google-auth-oauthlib, gspread\n",
      "  Attempting uninstall: urllib3\n",
      "    Found existing installation: urllib3 2.0.4\n",
      "    Uninstalling urllib3-2.0.4:\n",
      "      Successfully uninstalled urllib3-2.0.4\n",
      "Successfully installed cachetools-5.3.1 google-auth-2.22.0 google-auth-oauthlib-1.0.0 gspread-5.10.0 oauthlib-3.2.2 pyasn1-0.5.0 pyasn1-modules-0.3.0 requests-oauthlib-1.3.1 rsa-4.9 urllib3-1.26.16\n"
     ]
    }
   ],
   "source": [
    "!pip install gspread"
   ]
  },
  {
   "cell_type": "code",
   "execution_count": 12,
   "metadata": {},
   "outputs": [
    {
     "name": "stdout",
     "output_type": "stream",
     "text": [
      "Collecting oauth2client\n",
      "  Using cached oauth2client-4.1.3-py2.py3-none-any.whl (98 kB)\n",
      "Collecting httplib2>=0.9.1 (from oauth2client)\n",
      "  Using cached httplib2-0.22.0-py3-none-any.whl (96 kB)\n",
      "Requirement already satisfied: pyasn1>=0.1.7 in /Users/kirillkuznecov/opt/anaconda3/envs/ds_3114/lib/python3.11/site-packages (from oauth2client) (0.5.0)\n",
      "Requirement already satisfied: pyasn1-modules>=0.0.5 in /Users/kirillkuznecov/opt/anaconda3/envs/ds_3114/lib/python3.11/site-packages (from oauth2client) (0.3.0)\n",
      "Requirement already satisfied: rsa>=3.1.4 in /Users/kirillkuznecov/opt/anaconda3/envs/ds_3114/lib/python3.11/site-packages (from oauth2client) (4.9)\n",
      "Requirement already satisfied: six>=1.6.1 in /Users/kirillkuznecov/opt/anaconda3/envs/ds_3114/lib/python3.11/site-packages (from oauth2client) (1.16.0)\n",
      "Requirement already satisfied: pyparsing!=3.0.0,!=3.0.1,!=3.0.2,!=3.0.3,<4,>=2.4.2 in /Users/kirillkuznecov/opt/anaconda3/envs/ds_3114/lib/python3.11/site-packages (from httplib2>=0.9.1->oauth2client) (3.0.9)\n",
      "Installing collected packages: httplib2, oauth2client\n",
      "Successfully installed httplib2-0.22.0 oauth2client-4.1.3\n"
     ]
    }
   ],
   "source": [
    "!pip install oauth2client"
   ]
  },
  {
   "cell_type": "code",
   "execution_count": 13,
   "metadata": {},
   "outputs": [
    {
     "name": "stdout",
     "output_type": "stream",
     "text": [
      "Collecting df2gspread\n",
      "  Using cached df2gspread-1.0.4-py3-none-any.whl\n",
      "Collecting argparse>=1.3.0 (from df2gspread)\n",
      "  Using cached argparse-1.4.0-py2.py3-none-any.whl (23 kB)\n",
      "Collecting google-api-python-client==1.6.7 (from df2gspread)\n",
      "  Using cached google_api_python_client-1.6.7-py2.py3-none-any.whl (56 kB)\n",
      "Requirement already satisfied: gspread>=2.1.1 in /Users/kirillkuznecov/opt/anaconda3/envs/ds_3114/lib/python3.11/site-packages (from df2gspread) (5.10.0)\n",
      "Requirement already satisfied: oauth2client<5.0.0dev,>=1.5.0 in /Users/kirillkuznecov/opt/anaconda3/envs/ds_3114/lib/python3.11/site-packages (from df2gspread) (4.1.3)\n",
      "Requirement already satisfied: pandas in /Users/kirillkuznecov/opt/anaconda3/envs/ds_3114/lib/python3.11/site-packages (from df2gspread) (2.0.3)\n",
      "Requirement already satisfied: httplib2<1dev,>=0.9.2 in /Users/kirillkuznecov/opt/anaconda3/envs/ds_3114/lib/python3.11/site-packages (from google-api-python-client==1.6.7->df2gspread) (0.22.0)\n",
      "Requirement already satisfied: six<2dev,>=1.6.1 in /Users/kirillkuznecov/opt/anaconda3/envs/ds_3114/lib/python3.11/site-packages (from google-api-python-client==1.6.7->df2gspread) (1.16.0)\n",
      "Collecting uritemplate<4dev,>=3.0.0 (from google-api-python-client==1.6.7->df2gspread)\n",
      "  Using cached uritemplate-3.0.1-py2.py3-none-any.whl (15 kB)\n",
      "Requirement already satisfied: google-auth>=1.12.0 in /Users/kirillkuznecov/opt/anaconda3/envs/ds_3114/lib/python3.11/site-packages (from gspread>=2.1.1->df2gspread) (2.22.0)\n",
      "Requirement already satisfied: google-auth-oauthlib>=0.4.1 in /Users/kirillkuznecov/opt/anaconda3/envs/ds_3114/lib/python3.11/site-packages (from gspread>=2.1.1->df2gspread) (1.0.0)\n",
      "Requirement already satisfied: pyasn1>=0.1.7 in /Users/kirillkuznecov/opt/anaconda3/envs/ds_3114/lib/python3.11/site-packages (from oauth2client<5.0.0dev,>=1.5.0->df2gspread) (0.5.0)\n",
      "Requirement already satisfied: pyasn1-modules>=0.0.5 in /Users/kirillkuznecov/opt/anaconda3/envs/ds_3114/lib/python3.11/site-packages (from oauth2client<5.0.0dev,>=1.5.0->df2gspread) (0.3.0)\n",
      "Requirement already satisfied: rsa>=3.1.4 in /Users/kirillkuznecov/opt/anaconda3/envs/ds_3114/lib/python3.11/site-packages (from oauth2client<5.0.0dev,>=1.5.0->df2gspread) (4.9)\n",
      "Requirement already satisfied: python-dateutil>=2.8.2 in /Users/kirillkuznecov/opt/anaconda3/envs/ds_3114/lib/python3.11/site-packages (from pandas->df2gspread) (2.8.2)\n",
      "Requirement already satisfied: pytz>=2020.1 in /Users/kirillkuznecov/opt/anaconda3/envs/ds_3114/lib/python3.11/site-packages (from pandas->df2gspread) (2023.3)\n",
      "Requirement already satisfied: tzdata>=2022.1 in /Users/kirillkuznecov/opt/anaconda3/envs/ds_3114/lib/python3.11/site-packages (from pandas->df2gspread) (2023.3)\n",
      "Requirement already satisfied: numpy>=1.21.0 in /Users/kirillkuznecov/opt/anaconda3/envs/ds_3114/lib/python3.11/site-packages (from pandas->df2gspread) (1.25.0)\n",
      "Requirement already satisfied: cachetools<6.0,>=2.0.0 in /Users/kirillkuznecov/opt/anaconda3/envs/ds_3114/lib/python3.11/site-packages (from google-auth>=1.12.0->gspread>=2.1.1->df2gspread) (5.3.1)\n",
      "Requirement already satisfied: urllib3<2.0 in /Users/kirillkuznecov/opt/anaconda3/envs/ds_3114/lib/python3.11/site-packages (from google-auth>=1.12.0->gspread>=2.1.1->df2gspread) (1.26.16)\n",
      "Requirement already satisfied: requests-oauthlib>=0.7.0 in /Users/kirillkuznecov/opt/anaconda3/envs/ds_3114/lib/python3.11/site-packages (from google-auth-oauthlib>=0.4.1->gspread>=2.1.1->df2gspread) (1.3.1)\n",
      "Requirement already satisfied: pyparsing!=3.0.0,!=3.0.1,!=3.0.2,!=3.0.3,<4,>=2.4.2 in /Users/kirillkuznecov/opt/anaconda3/envs/ds_3114/lib/python3.11/site-packages (from httplib2<1dev,>=0.9.2->google-api-python-client==1.6.7->df2gspread) (3.0.9)\n",
      "Requirement already satisfied: oauthlib>=3.0.0 in /Users/kirillkuznecov/opt/anaconda3/envs/ds_3114/lib/python3.11/site-packages (from requests-oauthlib>=0.7.0->google-auth-oauthlib>=0.4.1->gspread>=2.1.1->df2gspread) (3.2.2)\n",
      "Requirement already satisfied: requests>=2.0.0 in /Users/kirillkuznecov/opt/anaconda3/envs/ds_3114/lib/python3.11/site-packages (from requests-oauthlib>=0.7.0->google-auth-oauthlib>=0.4.1->gspread>=2.1.1->df2gspread) (2.31.0)\n",
      "Requirement already satisfied: charset-normalizer<4,>=2 in /Users/kirillkuznecov/opt/anaconda3/envs/ds_3114/lib/python3.11/site-packages (from requests>=2.0.0->requests-oauthlib>=0.7.0->google-auth-oauthlib>=0.4.1->gspread>=2.1.1->df2gspread) (3.2.0)\n",
      "Requirement already satisfied: idna<4,>=2.5 in /Users/kirillkuznecov/opt/anaconda3/envs/ds_3114/lib/python3.11/site-packages (from requests>=2.0.0->requests-oauthlib>=0.7.0->google-auth-oauthlib>=0.4.1->gspread>=2.1.1->df2gspread) (3.4)\n",
      "Requirement already satisfied: certifi>=2017.4.17 in /Users/kirillkuznecov/opt/anaconda3/envs/ds_3114/lib/python3.11/site-packages (from requests>=2.0.0->requests-oauthlib>=0.7.0->google-auth-oauthlib>=0.4.1->gspread>=2.1.1->df2gspread) (2023.7.22)\n",
      "Installing collected packages: argparse, uritemplate, google-api-python-client, df2gspread\n",
      "Successfully installed argparse-1.4.0 df2gspread-1.0.4 google-api-python-client-1.6.7 uritemplate-3.0.1\n"
     ]
    }
   ],
   "source": [
    "!pip install df2gspread"
   ]
  },
  {
   "cell_type": "code",
   "execution_count": 14,
   "metadata": {},
   "outputs": [
    {
     "name": "stdout",
     "output_type": "stream",
     "text": [
      "Collecting openpyxl\n",
      "  Downloading openpyxl-3.1.2-py2.py3-none-any.whl (249 kB)\n",
      "\u001b[2K     \u001b[90m━━━━━━━━━━━━━━━━━━━━━━━━━━━━━━━━━━━━━\u001b[0m \u001b[32m250.0/250.0 kB\u001b[0m \u001b[31m698.1 kB/s\u001b[0m eta \u001b[36m0:00:00\u001b[0ma \u001b[36m0:00:01\u001b[0m\n",
      "\u001b[?25hCollecting et-xmlfile (from openpyxl)\n",
      "  Using cached et_xmlfile-1.1.0-py3-none-any.whl (4.7 kB)\n",
      "Installing collected packages: et-xmlfile, openpyxl\n",
      "Successfully installed et-xmlfile-1.1.0 openpyxl-3.1.2\n"
     ]
    }
   ],
   "source": [
    "!pip install openpyxl"
   ]
  },
  {
   "cell_type": "code",
   "execution_count": 16,
   "metadata": {},
   "outputs": [
    {
     "name": "stdout",
     "output_type": "stream",
     "text": [
      "Collecting lxml\n",
      "  Using cached lxml-4.9.3.tar.gz (3.6 MB)\n",
      "  Preparing metadata (setup.py) ... \u001b[?25ldone\n",
      "\u001b[?25hBuilding wheels for collected packages: lxml\n",
      "  Building wheel for lxml (setup.py) ... \u001b[?25ldone\n",
      "\u001b[?25h  Created wheel for lxml: filename=lxml-4.9.3-cp311-cp311-macosx_10_9_x86_64.whl size=1627663 sha256=9dc6555059a661a7e477eaa80b3028fd468092726fdb3f953c248f4dad56201f\n",
      "  Stored in directory: /Users/kirillkuznecov/Library/Caches/pip/wheels/f7/c9/54/6054e57ad2e3e0698bf5717552d2946a05b9ebebd09b31cb11\n",
      "Successfully built lxml\n",
      "Installing collected packages: lxml\n",
      "Successfully installed lxml-4.9.3\n"
     ]
    }
   ],
   "source": [
    "!pip install lxml"
   ]
  },
  {
   "cell_type": "code",
   "execution_count": 17,
   "metadata": {},
   "outputs": [
    {
     "name": "stdout",
     "output_type": "stream",
     "text": [
      "Requirement already satisfied: statsmodels in /Users/kirillkuznecov/opt/anaconda3/envs/ds_3114/lib/python3.11/site-packages (0.14.0)\n",
      "Requirement already satisfied: numpy>=1.18 in /Users/kirillkuznecov/opt/anaconda3/envs/ds_3114/lib/python3.11/site-packages (from statsmodels) (1.25.0)\n",
      "Requirement already satisfied: scipy!=1.9.2,>=1.4 in /Users/kirillkuznecov/opt/anaconda3/envs/ds_3114/lib/python3.11/site-packages (from statsmodels) (1.11.1)\n",
      "Requirement already satisfied: pandas>=1.0 in /Users/kirillkuznecov/opt/anaconda3/envs/ds_3114/lib/python3.11/site-packages (from statsmodels) (2.0.3)\n",
      "Requirement already satisfied: patsy>=0.5.2 in /Users/kirillkuznecov/opt/anaconda3/envs/ds_3114/lib/python3.11/site-packages (from statsmodels) (0.5.3)\n",
      "Requirement already satisfied: packaging>=21.3 in /Users/kirillkuznecov/opt/anaconda3/envs/ds_3114/lib/python3.11/site-packages (from statsmodels) (23.1)\n",
      "Requirement already satisfied: python-dateutil>=2.8.2 in /Users/kirillkuznecov/opt/anaconda3/envs/ds_3114/lib/python3.11/site-packages (from pandas>=1.0->statsmodels) (2.8.2)\n",
      "Requirement already satisfied: pytz>=2020.1 in /Users/kirillkuznecov/opt/anaconda3/envs/ds_3114/lib/python3.11/site-packages (from pandas>=1.0->statsmodels) (2023.3)\n",
      "Requirement already satisfied: tzdata>=2022.1 in /Users/kirillkuznecov/opt/anaconda3/envs/ds_3114/lib/python3.11/site-packages (from pandas>=1.0->statsmodels) (2023.3)\n",
      "Requirement already satisfied: six in /Users/kirillkuznecov/opt/anaconda3/envs/ds_3114/lib/python3.11/site-packages (from patsy>=0.5.2->statsmodels) (1.16.0)\n"
     ]
    }
   ],
   "source": [
    "!pip install statsmodels"
   ]
  },
  {
   "cell_type": "code",
   "execution_count": 18,
   "metadata": {},
   "outputs": [
    {
     "name": "stdout",
     "output_type": "stream",
     "text": [
      "Collecting sklearn\n",
      "  Downloading sklearn-0.0.post7.tar.gz (3.6 kB)\n",
      "  Preparing metadata (setup.py) ... \u001b[?25ldone\n",
      "\u001b[?25hBuilding wheels for collected packages: sklearn\n",
      "  Building wheel for sklearn (setup.py) ... \u001b[?25ldone\n",
      "\u001b[?25h  Created wheel for sklearn: filename=sklearn-0.0.post7-py3-none-any.whl size=2953 sha256=97cc8da9ddbf70fcf1f676b3a5f4147cbc7a73f1dd008a783dcdf6efb5b9525f\n",
      "  Stored in directory: /Users/kirillkuznecov/Library/Caches/pip/wheels/08/17/db/46486df299847133f69165c029fe388fac45781eb5d436c569\n",
      "Successfully built sklearn\n",
      "Installing collected packages: sklearn\n",
      "Successfully installed sklearn-0.0.post7\n"
     ]
    }
   ],
   "source": [
    "!pip install sklearn"
   ]
  },
  {
   "cell_type": "code",
   "execution_count": 19,
   "metadata": {},
   "outputs": [
    {
     "name": "stdout",
     "output_type": "stream",
     "text": [
      "Requirement already satisfied: scikit-learn in /Users/kirillkuznecov/opt/anaconda3/envs/ds_3114/lib/python3.11/site-packages (1.3.0)\n",
      "Requirement already satisfied: numpy>=1.17.3 in /Users/kirillkuznecov/opt/anaconda3/envs/ds_3114/lib/python3.11/site-packages (from scikit-learn) (1.25.0)\n",
      "Requirement already satisfied: scipy>=1.5.0 in /Users/kirillkuznecov/opt/anaconda3/envs/ds_3114/lib/python3.11/site-packages (from scikit-learn) (1.11.1)\n",
      "Requirement already satisfied: joblib>=1.1.1 in /Users/kirillkuznecov/opt/anaconda3/envs/ds_3114/lib/python3.11/site-packages (from scikit-learn) (1.3.1)\n",
      "Requirement already satisfied: threadpoolctl>=2.0.0 in /Users/kirillkuznecov/opt/anaconda3/envs/ds_3114/lib/python3.11/site-packages (from scikit-learn) (3.2.0)\n"
     ]
    }
   ],
   "source": [
    "!pip install scikit-learn"
   ]
  },
  {
   "cell_type": "code",
   "execution_count": 20,
   "metadata": {},
   "outputs": [
    {
     "name": "stdout",
     "output_type": "stream",
     "text": [
      "Collecting html5lib\n",
      "  Using cached html5lib-1.1-py2.py3-none-any.whl (112 kB)\n",
      "Requirement already satisfied: six>=1.9 in /Users/kirillkuznecov/opt/anaconda3/envs/ds_3114/lib/python3.11/site-packages (from html5lib) (1.16.0)\n",
      "Collecting webencodings (from html5lib)\n",
      "  Using cached webencodings-0.5.1-py2.py3-none-any.whl (11 kB)\n",
      "Installing collected packages: webencodings, html5lib\n",
      "Successfully installed html5lib-1.1 webencodings-0.5.1\n"
     ]
    }
   ],
   "source": [
    "!pip install html5lib"
   ]
  },
  {
   "cell_type": "code",
   "execution_count": 21,
   "metadata": {},
   "outputs": [
    {
     "name": "stdout",
     "output_type": "stream",
     "text": [
      "Collecting geopy\n",
      "  Using cached geopy-2.3.0-py3-none-any.whl (119 kB)\n",
      "Collecting geographiclib<3,>=1.52 (from geopy)\n",
      "  Using cached geographiclib-2.0-py3-none-any.whl (40 kB)\n",
      "Installing collected packages: geographiclib, geopy\n",
      "Successfully installed geographiclib-2.0 geopy-2.3.0\n"
     ]
    }
   ],
   "source": [
    "!pip install geopy"
   ]
  },
  {
   "cell_type": "code",
   "execution_count": 22,
   "metadata": {},
   "outputs": [
    {
     "name": "stdout",
     "output_type": "stream",
     "text": [
      "Collecting nltk\n",
      "  Using cached nltk-3.8.1-py3-none-any.whl (1.5 MB)\n",
      "Collecting click (from nltk)\n",
      "  Downloading click-8.1.6-py3-none-any.whl (97 kB)\n",
      "\u001b[2K     \u001b[90m━━━━━━━━━━━━━━━━━━━━━━━━━━━━━━━━━━━━━━━\u001b[0m \u001b[32m97.9/97.9 kB\u001b[0m \u001b[31m589.5 kB/s\u001b[0m eta \u001b[36m0:00:00\u001b[0ma \u001b[36m0:00:01\u001b[0m\n",
      "\u001b[?25hRequirement already satisfied: joblib in /Users/kirillkuznecov/opt/anaconda3/envs/ds_3114/lib/python3.11/site-packages (from nltk) (1.3.1)\n",
      "Collecting regex>=2021.8.3 (from nltk)\n",
      "  Downloading regex-2023.6.3-cp311-cp311-macosx_10_9_x86_64.whl (294 kB)\n",
      "\u001b[2K     \u001b[90m━━━━━━━━━━━━━━━━━━━━━━━━━━━━━━━━━━━━━\u001b[0m \u001b[32m294.7/294.7 kB\u001b[0m \u001b[31m870.7 kB/s\u001b[0m eta \u001b[36m0:00:00\u001b[0ma \u001b[36m0:00:01\u001b[0m\n",
      "\u001b[?25hCollecting tqdm (from nltk)\n",
      "  Using cached tqdm-4.65.0-py3-none-any.whl (77 kB)\n",
      "Installing collected packages: tqdm, regex, click, nltk\n",
      "Successfully installed click-8.1.6 nltk-3.8.1 regex-2023.6.3 tqdm-4.65.0\n"
     ]
    }
   ],
   "source": [
    "!pip install nltk"
   ]
  },
  {
   "cell_type": "code",
   "execution_count": 23,
   "metadata": {},
   "outputs": [
    {
     "name": "stdout",
     "output_type": "stream",
     "text": [
      "\u001b[31mERROR: Could not find a version that satisfies the requirement cloudscrape (from versions: none)\u001b[0m\u001b[31m\n",
      "\u001b[0m\u001b[31mERROR: No matching distribution found for cloudscrape\u001b[0m\u001b[31m\n",
      "\u001b[0m"
     ]
    }
   ],
   "source": [
    "!pip install cloudscrape"
   ]
  },
  {
   "cell_type": "code",
   "execution_count": 24,
   "metadata": {},
   "outputs": [
    {
     "name": "stdout",
     "output_type": "stream",
     "text": [
      "Collecting afinn\n",
      "  Using cached afinn-0.1-py3-none-any.whl\n",
      "Installing collected packages: afinn\n",
      "Successfully installed afinn-0.1\n"
     ]
    }
   ],
   "source": [
    "!pip install afinn"
   ]
  },
  {
   "cell_type": "code",
   "execution_count": 25,
   "metadata": {},
   "outputs": [
    {
     "name": "stdout",
     "output_type": "stream",
     "text": [
      "Collecting pyspark\n",
      "  Using cached pyspark-3.4.1.tar.gz (310.8 MB)\n",
      "  Preparing metadata (setup.py) ... \u001b[?25ldone\n",
      "\u001b[?25hCollecting py4j==0.10.9.7 (from pyspark)\n",
      "  Using cached py4j-0.10.9.7-py2.py3-none-any.whl (200 kB)\n",
      "Building wheels for collected packages: pyspark\n",
      "  Building wheel for pyspark (setup.py) ... \u001b[?25ldone\n",
      "\u001b[?25h  Created wheel for pyspark: filename=pyspark-3.4.1-py2.py3-none-any.whl size=311285397 sha256=cf8991efffb68949a60cf68a89ae4915aea2515fd17ef84e4c67e701be62f03a\n",
      "  Stored in directory: /Users/kirillkuznecov/Library/Caches/pip/wheels/e9/b4/d8/38accc42606f6675165423e9f0236f8e825f6b6b6048d6743e\n",
      "Successfully built pyspark\n",
      "Installing collected packages: py4j, pyspark\n",
      "Successfully installed py4j-0.10.9.7 pyspark-3.4.1\n"
     ]
    }
   ],
   "source": [
    "!pip install pyspark"
   ]
  },
  {
   "cell_type": "code",
   "execution_count": null,
   "metadata": {},
   "outputs": [],
   "source": [
    "!pip install dostoevsky"
   ]
  },
  {
   "cell_type": "code",
   "execution_count": null,
   "metadata": {},
   "outputs": [],
   "source": [
    "!python -m dostoevsky download fasttext-social-network-model"
   ]
  },
  {
   "cell_type": "code",
   "execution_count": 26,
   "metadata": {},
   "outputs": [
    {
     "name": "stdout",
     "output_type": "stream",
     "text": [
      "Collecting langdetect\n",
      "  Using cached langdetect-1.0.9-py3-none-any.whl\n",
      "Requirement already satisfied: six in /Users/kirillkuznecov/opt/anaconda3/envs/ds_3114/lib/python3.11/site-packages (from langdetect) (1.16.0)\n",
      "Installing collected packages: langdetect\n",
      "Successfully installed langdetect-1.0.9\n"
     ]
    }
   ],
   "source": [
    "!pip install langdetect"
   ]
  },
  {
   "cell_type": "code",
   "execution_count": 27,
   "metadata": {},
   "outputs": [
    {
     "name": "stdout",
     "output_type": "stream",
     "text": [
      "Collecting translators\n",
      "  Downloading translators-5.8.2-py3-none-any.whl (53 kB)\n",
      "\u001b[2K     \u001b[90m━━━━━━━━━━━━━━━━━━━━━━━━━━━━━━━━━━━━━━━\u001b[0m \u001b[32m53.6/53.6 kB\u001b[0m \u001b[31m351.7 kB/s\u001b[0m eta \u001b[36m0:00:00\u001b[0ma \u001b[36m0:00:01\u001b[0m\n",
      "\u001b[?25hRequirement already satisfied: requests>=2.29.0 in /Users/kirillkuznecov/opt/anaconda3/envs/ds_3114/lib/python3.11/site-packages (from translators) (2.31.0)\n",
      "Collecting PyExecJS>=1.5.1 (from translators)\n",
      "  Using cached PyExecJS-1.5.1-py3-none-any.whl\n",
      "Requirement already satisfied: lxml>=4.9.1 in /Users/kirillkuznecov/opt/anaconda3/envs/ds_3114/lib/python3.11/site-packages (from translators) (4.9.3)\n",
      "Requirement already satisfied: tqdm>=4.65.0 in /Users/kirillkuznecov/opt/anaconda3/envs/ds_3114/lib/python3.11/site-packages (from translators) (4.65.0)\n",
      "Collecting pathos>=0.2.9 (from translators)\n",
      "  Downloading pathos-0.3.1-py3-none-any.whl (82 kB)\n",
      "\u001b[2K     \u001b[90m━━━━━━━━━━━━━━━━━━━━━━━━━━━━━━━━━━━━━━━━\u001b[0m \u001b[32m82.1/82.1 kB\u001b[0m \u001b[31m1.7 MB/s\u001b[0m eta \u001b[36m0:00:00\u001b[0ma \u001b[36m0:00:01\u001b[0m\n",
      "\u001b[?25hCollecting cryptography>=38.0.1 (from translators)\n",
      "  Downloading cryptography-41.0.3-cp37-abi3-macosx_10_12_x86_64.whl (2.8 MB)\n",
      "\u001b[2K     \u001b[90m━━━━━━━━━━━━━━━━━━━━━━━━━━━━━━━━━━━━━━━━\u001b[0m \u001b[32m2.8/2.8 MB\u001b[0m \u001b[31m1.5 MB/s\u001b[0m eta \u001b[36m0:00:00\u001b[0m00:01\u001b[0m00:01\u001b[0m\n",
      "\u001b[?25hCollecting cffi>=1.12 (from cryptography>=38.0.1->translators)\n",
      "  Using cached cffi-1.15.1-cp311-cp311-macosx_10_9_x86_64.whl (179 kB)\n",
      "Collecting ppft>=1.7.6.7 (from pathos>=0.2.9->translators)\n",
      "  Downloading ppft-1.7.6.7-py3-none-any.whl (56 kB)\n",
      "\u001b[2K     \u001b[90m━━━━━━━━━━━━━━━━━━━━━━━━━━━━━━━━━━━━━━━━\u001b[0m \u001b[32m56.8/56.8 kB\u001b[0m \u001b[31m3.4 MB/s\u001b[0m eta \u001b[36m0:00:00\u001b[0m\n",
      "\u001b[?25hCollecting dill>=0.3.7 (from pathos>=0.2.9->translators)\n",
      "  Downloading dill-0.3.7-py3-none-any.whl (115 kB)\n",
      "\u001b[2K     \u001b[90m━━━━━━━━━━━━━━━━━━━━━━━━━━━━━━━━━━━━━━━\u001b[0m \u001b[32m115.3/115.3 kB\u001b[0m \u001b[31m2.1 MB/s\u001b[0m eta \u001b[36m0:00:00\u001b[0ma \u001b[36m0:00:01\u001b[0m\n",
      "\u001b[?25hCollecting pox>=0.3.3 (from pathos>=0.2.9->translators)\n",
      "  Downloading pox-0.3.3-py3-none-any.whl (29 kB)\n",
      "Collecting multiprocess>=0.70.15 (from pathos>=0.2.9->translators)\n",
      "  Downloading multiprocess-0.70.15-py311-none-any.whl (135 kB)\n",
      "\u001b[2K     \u001b[90m━━━━━━━━━━━━━━━━━━━━━━━━━━━━━━━━━━━━━━━\u001b[0m \u001b[32m135.4/135.4 kB\u001b[0m \u001b[31m2.3 MB/s\u001b[0m eta \u001b[36m0:00:00\u001b[0ma \u001b[36m0:00:01\u001b[0m\n",
      "\u001b[?25hRequirement already satisfied: six>=1.10.0 in /Users/kirillkuznecov/opt/anaconda3/envs/ds_3114/lib/python3.11/site-packages (from PyExecJS>=1.5.1->translators) (1.16.0)\n",
      "Requirement already satisfied: charset-normalizer<4,>=2 in /Users/kirillkuznecov/opt/anaconda3/envs/ds_3114/lib/python3.11/site-packages (from requests>=2.29.0->translators) (3.2.0)\n",
      "Requirement already satisfied: idna<4,>=2.5 in /Users/kirillkuznecov/opt/anaconda3/envs/ds_3114/lib/python3.11/site-packages (from requests>=2.29.0->translators) (3.4)\n",
      "Requirement already satisfied: urllib3<3,>=1.21.1 in /Users/kirillkuznecov/opt/anaconda3/envs/ds_3114/lib/python3.11/site-packages (from requests>=2.29.0->translators) (1.26.16)\n",
      "Requirement already satisfied: certifi>=2017.4.17 in /Users/kirillkuznecov/opt/anaconda3/envs/ds_3114/lib/python3.11/site-packages (from requests>=2.29.0->translators) (2023.7.22)\n",
      "Collecting pycparser (from cffi>=1.12->cryptography>=38.0.1->translators)\n",
      "  Using cached pycparser-2.21-py2.py3-none-any.whl (118 kB)\n",
      "Installing collected packages: PyExecJS, pycparser, ppft, pox, dill, multiprocess, cffi, pathos, cryptography, translators\n",
      "Successfully installed PyExecJS-1.5.1 cffi-1.15.1 cryptography-41.0.3 dill-0.3.7 multiprocess-0.70.15 pathos-0.3.1 pox-0.3.3 ppft-1.7.6.7 pycparser-2.21 translators-5.8.2\n"
     ]
    }
   ],
   "source": [
    "!pip install translators"
   ]
  },
  {
   "cell_type": "code",
   "execution_count": 28,
   "metadata": {},
   "outputs": [
    {
     "name": "stdout",
     "output_type": "stream",
     "text": [
      "Collecting translate\n",
      "  Using cached translate-3.6.1-py2.py3-none-any.whl (12 kB)\n",
      "Requirement already satisfied: click in /Users/kirillkuznecov/opt/anaconda3/envs/ds_3114/lib/python3.11/site-packages (from translate) (8.1.6)\n",
      "Requirement already satisfied: lxml in /Users/kirillkuznecov/opt/anaconda3/envs/ds_3114/lib/python3.11/site-packages (from translate) (4.9.3)\n",
      "Requirement already satisfied: requests in /Users/kirillkuznecov/opt/anaconda3/envs/ds_3114/lib/python3.11/site-packages (from translate) (2.31.0)\n",
      "Collecting libretranslatepy==2.1.1 (from translate)\n",
      "  Using cached libretranslatepy-2.1.1-py3-none-any.whl (3.2 kB)\n",
      "Requirement already satisfied: charset-normalizer<4,>=2 in /Users/kirillkuznecov/opt/anaconda3/envs/ds_3114/lib/python3.11/site-packages (from requests->translate) (3.2.0)\n",
      "Requirement already satisfied: idna<4,>=2.5 in /Users/kirillkuznecov/opt/anaconda3/envs/ds_3114/lib/python3.11/site-packages (from requests->translate) (3.4)\n",
      "Requirement already satisfied: urllib3<3,>=1.21.1 in /Users/kirillkuznecov/opt/anaconda3/envs/ds_3114/lib/python3.11/site-packages (from requests->translate) (1.26.16)\n",
      "Requirement already satisfied: certifi>=2017.4.17 in /Users/kirillkuznecov/opt/anaconda3/envs/ds_3114/lib/python3.11/site-packages (from requests->translate) (2023.7.22)\n",
      "Installing collected packages: libretranslatepy, translate\n",
      "Successfully installed libretranslatepy-2.1.1 translate-3.6.1\n"
     ]
    }
   ],
   "source": [
    "!pip install translate"
   ]
  },
  {
   "cell_type": "code",
   "execution_count": null,
   "metadata": {},
   "outputs": [],
   "source": [
    "!pip install git+https://github.com/Cloudmersive/Cloudmersive.APIClient.Python.NLP.git"
   ]
  },
  {
   "cell_type": "code",
   "execution_count": null,
   "metadata": {},
   "outputs": [],
   "source": [
    "!pip install googletrans"
   ]
  },
  {
   "cell_type": "code",
   "execution_count": null,
   "metadata": {},
   "outputs": [],
   "source": [
    "!pip install pygoogletranslation"
   ]
  },
  {
   "cell_type": "code",
   "execution_count": null,
   "metadata": {},
   "outputs": [],
   "source": [
    "!pip install googletrans==3.1.0a0"
   ]
  },
  {
   "cell_type": "code",
   "execution_count": null,
   "metadata": {},
   "outputs": [],
   "source": [
    "!pip install spacy\n"
   ]
  },
  {
   "cell_type": "code",
   "execution_count": null,
   "metadata": {},
   "outputs": [],
   "source": [
    "!python -m spacy download ru_core_news_lg"
   ]
  },
  {
   "cell_type": "code",
   "execution_count": null,
   "metadata": {},
   "outputs": [],
   "source": [
    "!python -m spacy download ru_core_news_sm"
   ]
  },
  {
   "cell_type": "code",
   "execution_count": null,
   "metadata": {},
   "outputs": [],
   "source": [
    "!python -m spacy download ru_core_news_md"
   ]
  },
  {
   "cell_type": "code",
   "execution_count": null,
   "metadata": {},
   "outputs": [],
   "source": [
    "!python -m spacy download en_core_web_lg"
   ]
  },
  {
   "cell_type": "code",
   "execution_count": null,
   "metadata": {},
   "outputs": [],
   "source": [
    "!python -m spacy download en_core_web_sm"
   ]
  },
  {
   "cell_type": "code",
   "execution_count": null,
   "metadata": {},
   "outputs": [],
   "source": [
    "!pip install spacytextblob"
   ]
  },
  {
   "cell_type": "code",
   "execution_count": null,
   "metadata": {},
   "outputs": [],
   "source": [
    "!python -m textblob.download_corpora"
   ]
  },
  {
   "cell_type": "code",
   "execution_count": null,
   "metadata": {},
   "outputs": [],
   "source": [
    "!pip install naeval"
   ]
  },
  {
   "cell_type": "code",
   "execution_count": 31,
   "metadata": {},
   "outputs": [
    {
     "name": "stdout",
     "output_type": "stream",
     "text": [
      "Collecting mitoinstaller\n",
      "  Downloading mitoinstaller-0.0.235.tar.gz (17 kB)\n",
      "  Preparing metadata (setup.py) ... \u001b[?25ldone\n",
      "\u001b[?25hCollecting analytics-python (from mitoinstaller)\n",
      "  Using cached analytics_python-1.4.post1-py2.py3-none-any.whl (23 kB)\n",
      "Collecting colorama (from mitoinstaller)\n",
      "  Using cached colorama-0.4.6-py2.py3-none-any.whl (25 kB)\n",
      "Collecting termcolor (from mitoinstaller)\n",
      "  Using cached termcolor-2.3.0-py3-none-any.whl (6.9 kB)\n",
      "Requirement already satisfied: requests<3.0,>=2.7 in /Users/kirillkuznecov/opt/anaconda3/envs/ds_3114/lib/python3.11/site-packages (from analytics-python->mitoinstaller) (2.31.0)\n",
      "Requirement already satisfied: six>=1.5 in /Users/kirillkuznecov/opt/anaconda3/envs/ds_3114/lib/python3.11/site-packages (from analytics-python->mitoinstaller) (1.16.0)\n",
      "Collecting monotonic>=1.5 (from analytics-python->mitoinstaller)\n",
      "  Using cached monotonic-1.6-py2.py3-none-any.whl (8.2 kB)\n",
      "Collecting backoff==1.10.0 (from analytics-python->mitoinstaller)\n",
      "  Using cached backoff-1.10.0-py2.py3-none-any.whl (31 kB)\n",
      "Requirement already satisfied: python-dateutil>2.1 in /Users/kirillkuznecov/opt/anaconda3/envs/ds_3114/lib/python3.11/site-packages (from analytics-python->mitoinstaller) (2.8.2)\n",
      "Requirement already satisfied: charset-normalizer<4,>=2 in /Users/kirillkuznecov/opt/anaconda3/envs/ds_3114/lib/python3.11/site-packages (from requests<3.0,>=2.7->analytics-python->mitoinstaller) (3.2.0)\n",
      "Requirement already satisfied: idna<4,>=2.5 in /Users/kirillkuznecov/opt/anaconda3/envs/ds_3114/lib/python3.11/site-packages (from requests<3.0,>=2.7->analytics-python->mitoinstaller) (3.4)\n",
      "Requirement already satisfied: urllib3<3,>=1.21.1 in /Users/kirillkuznecov/opt/anaconda3/envs/ds_3114/lib/python3.11/site-packages (from requests<3.0,>=2.7->analytics-python->mitoinstaller) (1.26.16)\n",
      "Requirement already satisfied: certifi>=2017.4.17 in /Users/kirillkuznecov/opt/anaconda3/envs/ds_3114/lib/python3.11/site-packages (from requests<3.0,>=2.7->analytics-python->mitoinstaller) (2023.7.22)\n",
      "Building wheels for collected packages: mitoinstaller\n",
      "  Building wheel for mitoinstaller (setup.py) ... \u001b[?25ldone\n",
      "\u001b[?25h  Created wheel for mitoinstaller: filename=mitoinstaller-0.0.235-py3-none-any.whl size=25104 sha256=0b9651d73a2cbae5558eb91de9264d2100f883259d0f23d27860e244ea9348e3\n",
      "  Stored in directory: /Users/kirillkuznecov/Library/Caches/pip/wheels/c6/ae/7d/8478c428a3f1f5dbcc0473545180daef0290b68d204bb2caec\n",
      "Successfully built mitoinstaller\n",
      "Installing collected packages: monotonic, termcolor, colorama, backoff, analytics-python, mitoinstaller\n",
      "Successfully installed analytics-python-1.4.post1 backoff-1.10.0 colorama-0.4.6 mitoinstaller-0.0.235 monotonic-1.6 termcolor-2.3.0\n",
      "Starting Mito install. This make take a few moments.\n",
      "\n",
      "In the meantime, check out a 2 minute intro to Mito: https://www.youtube.com/watch?v=LFfWfqzdKyE\n",
      "\n",
      "Upgrade mitoinstaller\n",
      "Setting up environment\n",
      "Check dependencies\n",
      "Remove mitosheet3 if present\n",
      "Install mitosheet\n",
      "This may take a few moments...\n",
      "Activate extension\n",
      "Creating a Mitosheet starter notebook\n",
      "Start Jupyter\n",
      "\u001b[32m[I 2023-08-07 09:01:14.185 ServerApp]\u001b[m Package jupyterlab took 0.0000s to import\n",
      "\u001b[32m[I 2023-08-07 09:01:14.188 ServerApp]\u001b[m Package jupyter_server_fileid took 0.0029s to import\n",
      "\u001b[32m[I 2023-08-07 09:01:14.194 ServerApp]\u001b[m Package jupyter_server_terminals took 0.0055s to import\n",
      "\u001b[32m[I 2023-08-07 09:01:14.956 ServerApp]\u001b[m Package jupyter_server_ydoc took 0.7615s to import\n",
      "\u001b[32m[I 2023-08-07 09:01:14.956 ServerApp]\u001b[m Package nbclassic took 0.0000s to import\n",
      "\u001b[33m[W 2023-08-07 09:01:14.957 ServerApp]\u001b[m A `_jupyter_server_extension_points` function was not found in nbclassic. Instead, a `_jupyter_server_extension_paths` function was found and will be used for now. This function name will be deprecated in future releases of Jupyter Server.\n",
      "\u001b[32m[I 2023-08-07 09:01:14.958 ServerApp]\u001b[m Package notebook_shim took 0.0000s to import\n",
      "\u001b[33m[W 2023-08-07 09:01:14.958 ServerApp]\u001b[m A `_jupyter_server_extension_points` function was not found in notebook_shim. Instead, a `_jupyter_server_extension_paths` function was found and will be used for now. This function name will be deprecated in future releases of Jupyter Server.\n",
      "\u001b[32m[I 2023-08-07 09:01:14.962 ServerApp]\u001b[m jupyter_server_fileid | extension was successfully linked.\n",
      "\u001b[32m[I 2023-08-07 09:01:14.965 ServerApp]\u001b[m jupyter_server_terminals | extension was successfully linked.\n",
      "\u001b[32m[I 2023-08-07 09:01:14.967 ServerApp]\u001b[m jupyter_server_ydoc | extension was successfully linked.\n",
      "\u001b[32m[I 2023-08-07 09:01:14.971 ServerApp]\u001b[m jupyterlab | extension was successfully linked.\n",
      "\u001b[32m[I 2023-08-07 09:01:14.974 ServerApp]\u001b[m nbclassic | extension was successfully linked.\n",
      "\u001b[32m[I 2023-08-07 09:01:15.153 ServerApp]\u001b[m notebook_shim | extension was successfully linked.\n",
      "\u001b[32m[I 2023-08-07 09:01:15.280 ServerApp]\u001b[m notebook_shim | extension was successfully loaded.\n",
      "\u001b[32m[I 2023-08-07 09:01:15.280 FileIdExtension]\u001b[m Configured File ID manager: ArbitraryFileIdManager\n",
      "\u001b[32m[I 2023-08-07 09:01:15.280 FileIdExtension]\u001b[m ArbitraryFileIdManager : Configured root dir: /Users/kirillkuznecov/Documents/Документы — MacBook Air — Кирилл/data_science/tech\n",
      "\u001b[32m[I 2023-08-07 09:01:15.280 FileIdExtension]\u001b[m ArbitraryFileIdManager : Configured database path: /Users/kirillkuznecov/Library/Jupyter/file_id_manager.db\n",
      "\u001b[32m[I 2023-08-07 09:01:15.282 FileIdExtension]\u001b[m ArbitraryFileIdManager : Successfully connected to database file.\n",
      "\u001b[32m[I 2023-08-07 09:01:15.282 FileIdExtension]\u001b[m ArbitraryFileIdManager : Creating File ID tables and indices with journal_mode = DELETE\n",
      "\u001b[32m[I 2023-08-07 09:01:15.286 FileIdExtension]\u001b[m Attached event listeners.\n",
      "\u001b[32m[I 2023-08-07 09:01:15.286 ServerApp]\u001b[m jupyter_server_fileid | extension was successfully loaded.\n",
      "\u001b[32m[I 2023-08-07 09:01:15.287 ServerApp]\u001b[m jupyter_server_terminals | extension was successfully loaded.\n",
      "\u001b[32m[I 2023-08-07 09:01:15.287 ServerApp]\u001b[m jupyter_server_ydoc | extension was successfully loaded.\n",
      "\u001b[32m[I 2023-08-07 09:01:15.289 LabApp]\u001b[m JupyterLab extension loaded from /Users/kirillkuznecov/opt/anaconda3/envs/ds_3114/lib/python3.11/site-packages/jupyterlab\n",
      "\u001b[32m[I 2023-08-07 09:01:15.289 LabApp]\u001b[m JupyterLab application directory is /Users/kirillkuznecov/opt/anaconda3/envs/ds_3114/share/jupyter/lab\n",
      "\u001b[32m[I 2023-08-07 09:01:15.291 ServerApp]\u001b[m jupyterlab | extension was successfully loaded.\n",
      "\n",
      "  _   _          _      _\n",
      " | | | |_ __  __| |__ _| |_ ___\n",
      " | |_| | '_ \\/ _` / _` |  _/ -_)\n",
      "  \\___/| .__/\\__,_\\__,_|\\__\\___|\n",
      "       |_|\n",
      "                                                                           \n",
      "Read the migration plan to Notebook 7 to learn about the new features and the actions to take if you are using extensions.\n",
      "\n",
      "https://jupyter-notebook.readthedocs.io/en/latest/migrate_to_notebook7.html\n",
      "\n",
      "Please note that updating to Notebook 7 might break some of your extensions.\n",
      "\n",
      "\u001b[32m[I 2023-08-07 09:01:15.293 ServerApp]\u001b[m nbclassic | extension was successfully loaded.\n",
      "\u001b[32m[I 2023-08-07 09:01:15.294 ServerApp]\u001b[m Serving notebooks from local directory: /Users/kirillkuznecov/Documents/Документы — MacBook Air — Кирилл/data_science/tech\n",
      "\u001b[32m[I 2023-08-07 09:01:15.295 ServerApp]\u001b[m Jupyter Server 2.7.0 is running at:\n",
      "\u001b[32m[I 2023-08-07 09:01:15.295 ServerApp]\u001b[m http://localhost:8888/lab?token=0dd6a28fd44b63769443fa8e1199590462b692c1dca16dcc\n",
      "\u001b[32m[I 2023-08-07 09:01:15.295 ServerApp]\u001b[m     http://127.0.0.1:8888/lab?token=0dd6a28fd44b63769443fa8e1199590462b692c1dca16dcc\n",
      "\u001b[32m[I 2023-08-07 09:01:15.295 ServerApp]\u001b[m Use Control-C to stop this server and shut down all kernels (twice to skip confirmation).\n",
      "\u001b[35m[C 2023-08-07 09:01:15.300 ServerApp]\u001b[m \n",
      "    \n",
      "    To access the server, open this file in a browser:\n",
      "        file:///Users/kirillkuznecov/Library/Jupyter/runtime/jpserver-32020-open.html\n",
      "    Or copy and paste one of these URLs:\n",
      "        http://localhost:8888/lab?token=0dd6a28fd44b63769443fa8e1199590462b692c1dca16dcc\n",
      "        http://127.0.0.1:8888/lab?token=0dd6a28fd44b63769443fa8e1199590462b692c1dca16dcc\n",
      "0.00s - Debugger warning: It seems that frozen modules are being used, which may\n",
      "0.00s - make the debugger miss breakpoints. Please pass -Xfrozen_modules=off\n",
      "0.00s - to python to disable frozen modules.\n",
      "0.00s - Note: Debugging will proceed. Set PYDEVD_DISABLE_FILE_VALIDATION=1 to disable this validation.\n",
      "\u001b[33m[W 2023-08-07 09:01:18.782 LabApp]\u001b[m Could not determine jupyterlab build status without nodejs\n",
      "\u001b[33m[W 2023-08-07 09:01:19.499 ServerApp]\u001b[m Notebook mito-starter-notebook.ipynb is not trusted\n",
      "^C\n",
      "\u001b[32m[I 2023-08-07 09:01:25.858 ServerApp]\u001b[m interrupted\n",
      "\u001b[32m[I 2023-08-07 09:01:25.858 ServerApp]\u001b[m Serving notebooks from local directory: /Users/kirillkuznecov/Documents/Документы — MacBook Air — Кирилл/data_science/tech\n",
      "    0 active kernels\n",
      "    Jupyter Server 2.7.0 is running at:\n",
      "    http://localhost:8888/lab?token=0dd6a28fd44b63769443fa8e1199590462b692c1dca16dcc\n",
      "        http://127.0.0.1:8888/lab?token=0dd6a28fd44b63769443fa8e1199590462b692c1dca16dcc\n",
      "Shutdown this Jupyter server (y/[n])? \u001b[32m[I 2023-08-07 09:01:25.859 ServerApp]\u001b[m resuming operation...\n"
     ]
    }
   ],
   "source": [
    "!python -m pip install mitoinstaller\n",
    "!python -m mitoinstaller install"
   ]
  },
  {
   "cell_type": "code",
   "execution_count": 32,
   "metadata": {},
   "outputs": [
    {
     "name": "stdout",
     "output_type": "stream",
     "text": [
      "Requirement already satisfied: schedule in /Users/kirillkuznecov/opt/anaconda3/envs/ds_3114/lib/python3.11/site-packages (1.2.0)\n"
     ]
    }
   ],
   "source": [
    "!pip install schedule"
   ]
  },
  {
   "cell_type": "code",
   "execution_count": 33,
   "metadata": {},
   "outputs": [
    {
     "name": "stdout",
     "output_type": "stream",
     "text": [
      "Requirement already satisfied: tqdm in /Users/kirillkuznecov/opt/anaconda3/envs/ds_3114/lib/python3.11/site-packages (4.65.0)\n"
     ]
    }
   ],
   "source": [
    "!pip install tqdm"
   ]
  },
  {
   "cell_type": "code",
   "execution_count": 34,
   "metadata": {},
   "outputs": [
    {
     "name": "stdout",
     "output_type": "stream",
     "text": [
      "Collecting clustergram\n",
      "  Downloading clustergram-0.8.0-py3-none-any.whl (18 kB)\n",
      "Requirement already satisfied: pandas in /Users/kirillkuznecov/opt/anaconda3/envs/ds_3114/lib/python3.11/site-packages (from clustergram) (2.0.3)\n",
      "Requirement already satisfied: numpy in /Users/kirillkuznecov/opt/anaconda3/envs/ds_3114/lib/python3.11/site-packages (from clustergram) (1.25.0)\n",
      "Requirement already satisfied: matplotlib in /Users/kirillkuznecov/opt/anaconda3/envs/ds_3114/lib/python3.11/site-packages (from clustergram) (3.7.2)\n",
      "Requirement already satisfied: contourpy>=1.0.1 in /Users/kirillkuznecov/opt/anaconda3/envs/ds_3114/lib/python3.11/site-packages (from matplotlib->clustergram) (1.1.0)\n",
      "Requirement already satisfied: cycler>=0.10 in /Users/kirillkuznecov/opt/anaconda3/envs/ds_3114/lib/python3.11/site-packages (from matplotlib->clustergram) (0.11.0)\n",
      "Requirement already satisfied: fonttools>=4.22.0 in /Users/kirillkuznecov/opt/anaconda3/envs/ds_3114/lib/python3.11/site-packages (from matplotlib->clustergram) (4.42.0)\n",
      "Requirement already satisfied: kiwisolver>=1.0.1 in /Users/kirillkuznecov/opt/anaconda3/envs/ds_3114/lib/python3.11/site-packages (from matplotlib->clustergram) (1.4.4)\n",
      "Requirement already satisfied: packaging>=20.0 in /Users/kirillkuznecov/opt/anaconda3/envs/ds_3114/lib/python3.11/site-packages (from matplotlib->clustergram) (23.1)\n",
      "Requirement already satisfied: pillow>=6.2.0 in /Users/kirillkuznecov/opt/anaconda3/envs/ds_3114/lib/python3.11/site-packages (from matplotlib->clustergram) (10.0.0)\n",
      "Requirement already satisfied: pyparsing<3.1,>=2.3.1 in /Users/kirillkuznecov/opt/anaconda3/envs/ds_3114/lib/python3.11/site-packages (from matplotlib->clustergram) (3.0.9)\n",
      "Requirement already satisfied: python-dateutil>=2.7 in /Users/kirillkuznecov/opt/anaconda3/envs/ds_3114/lib/python3.11/site-packages (from matplotlib->clustergram) (2.8.2)\n",
      "Requirement already satisfied: pytz>=2020.1 in /Users/kirillkuznecov/opt/anaconda3/envs/ds_3114/lib/python3.11/site-packages (from pandas->clustergram) (2023.3)\n",
      "Requirement already satisfied: tzdata>=2022.1 in /Users/kirillkuznecov/opt/anaconda3/envs/ds_3114/lib/python3.11/site-packages (from pandas->clustergram) (2023.3)\n",
      "Requirement already satisfied: six>=1.5 in /Users/kirillkuznecov/opt/anaconda3/envs/ds_3114/lib/python3.11/site-packages (from python-dateutil>=2.7->matplotlib->clustergram) (1.16.0)\n",
      "Installing collected packages: clustergram\n",
      "Successfully installed clustergram-0.8.0\n"
     ]
    }
   ],
   "source": [
    "!pip install clustergram"
   ]
  },
  {
   "cell_type": "code",
   "execution_count": 35,
   "metadata": {},
   "outputs": [
    {
     "name": "stdout",
     "output_type": "stream",
     "text": [
      "Collecting telethon\n",
      "  Downloading Telethon-1.29.2.tar.gz (548 kB)\n",
      "\u001b[2K     \u001b[90m━━━━━━━━━━━━━━━━━━━━━━━━━━━━━━━━━━━━━━━\u001b[0m \u001b[32m548.7/548.7 kB\u001b[0m \u001b[31m1.1 MB/s\u001b[0m eta \u001b[36m0:00:00\u001b[0ma \u001b[36m0:00:01\u001b[0m\n",
      "\u001b[?25h  Installing build dependencies ... \u001b[?25ldone\n",
      "\u001b[?25h  Getting requirements to build wheel ... \u001b[?25ldone\n",
      "\u001b[?25h  Preparing metadata (pyproject.toml) ... \u001b[?25ldone\n",
      "\u001b[?25hCollecting pyaes (from telethon)\n",
      "  Using cached pyaes-1.6.1-py3-none-any.whl\n",
      "Requirement already satisfied: rsa in /Users/kirillkuznecov/opt/anaconda3/envs/ds_3114/lib/python3.11/site-packages (from telethon) (4.9)\n",
      "Requirement already satisfied: pyasn1>=0.1.3 in /Users/kirillkuznecov/opt/anaconda3/envs/ds_3114/lib/python3.11/site-packages (from rsa->telethon) (0.5.0)\n",
      "Building wheels for collected packages: telethon\n",
      "  Building wheel for telethon (pyproject.toml) ... \u001b[?25ldone\n",
      "\u001b[?25h  Created wheel for telethon: filename=Telethon-1.29.2-py3-none-any.whl size=619048 sha256=9ea03a43ba1359619e9ab1aee70f255f8601d6b8d783e04f1d6320092d95ed2e\n",
      "  Stored in directory: /Users/kirillkuznecov/Library/Caches/pip/wheels/bd/36/6c/e0fca017348ccefe62bd2363baa00652158b7aa5ad9a8d7964\n",
      "Successfully built telethon\n",
      "Installing collected packages: pyaes, telethon\n",
      "Successfully installed pyaes-1.6.1 telethon-1.29.2\n"
     ]
    }
   ],
   "source": [
    "!pip install telethon"
   ]
  },
  {
   "cell_type": "code",
   "execution_count": 36,
   "metadata": {},
   "outputs": [
    {
     "name": "stdout",
     "output_type": "stream",
     "text": [
      "Collecting imbalanced-learn\n",
      "  Downloading imbalanced_learn-0.11.0-py3-none-any.whl (235 kB)\n",
      "\u001b[2K     \u001b[90m━━━━━━━━━━━━━━━━━━━━━━━━━━━━━━━━━━━━━\u001b[0m \u001b[32m235.6/235.6 kB\u001b[0m \u001b[31m663.7 kB/s\u001b[0m eta \u001b[36m0:00:00\u001b[0ma \u001b[36m0:00:01\u001b[0m\n",
      "\u001b[?25hRequirement already satisfied: numpy>=1.17.3 in /Users/kirillkuznecov/opt/anaconda3/envs/ds_3114/lib/python3.11/site-packages (from imbalanced-learn) (1.25.0)\n",
      "Requirement already satisfied: scipy>=1.5.0 in /Users/kirillkuznecov/opt/anaconda3/envs/ds_3114/lib/python3.11/site-packages (from imbalanced-learn) (1.11.1)\n",
      "Requirement already satisfied: scikit-learn>=1.0.2 in /Users/kirillkuznecov/opt/anaconda3/envs/ds_3114/lib/python3.11/site-packages (from imbalanced-learn) (1.3.0)\n",
      "Requirement already satisfied: joblib>=1.1.1 in /Users/kirillkuznecov/opt/anaconda3/envs/ds_3114/lib/python3.11/site-packages (from imbalanced-learn) (1.3.1)\n",
      "Requirement already satisfied: threadpoolctl>=2.0.0 in /Users/kirillkuznecov/opt/anaconda3/envs/ds_3114/lib/python3.11/site-packages (from imbalanced-learn) (3.2.0)\n",
      "Installing collected packages: imbalanced-learn\n",
      "Successfully installed imbalanced-learn-0.11.0\n"
     ]
    }
   ],
   "source": [
    "!pip install imbalanced-learn"
   ]
  },
  {
   "cell_type": "code",
   "execution_count": 38,
   "metadata": {},
   "outputs": [
    {
     "name": "stdout",
     "output_type": "stream",
     "text": [
      "Collecting geopandas\n",
      "  Using cached geopandas-0.13.2-py3-none-any.whl (1.1 MB)\n",
      "Collecting fiona>=1.8.19 (from geopandas)\n",
      "  Downloading Fiona-1.9.4.post1-cp311-cp311-macosx_10_15_x86_64.whl (18.6 MB)\n",
      "\u001b[2K     \u001b[90m━━━━━━━━━━━━━━━━━━━━━━━━━━━━━━━━━━━━━━━━\u001b[0m \u001b[32m18.6/18.6 MB\u001b[0m \u001b[31m6.0 MB/s\u001b[0m eta \u001b[36m0:00:00\u001b[0m00:01\u001b[0m00:01\u001b[0m\n",
      "\u001b[?25hRequirement already satisfied: packaging in /Users/kirillkuznecov/opt/anaconda3/envs/ds_3114/lib/python3.11/site-packages (from geopandas) (23.1)\n",
      "Requirement already satisfied: pandas>=1.1.0 in /Users/kirillkuznecov/opt/anaconda3/envs/ds_3114/lib/python3.11/site-packages (from geopandas) (2.0.3)\n",
      "Collecting pyproj>=3.0.1 (from geopandas)\n",
      "  Downloading pyproj-3.6.0-cp311-cp311-macosx_10_9_x86_64.whl (5.9 MB)\n",
      "\u001b[2K     \u001b[90m━━━━━━━━━━━━━━━━━━━━━━━━━━━━━━━━━━━━━━━━\u001b[0m \u001b[32m5.9/5.9 MB\u001b[0m \u001b[31m3.2 MB/s\u001b[0m eta \u001b[36m0:00:00\u001b[0m00:01\u001b[0m00:01\u001b[0m\n",
      "\u001b[?25hCollecting shapely>=1.7.1 (from geopandas)\n",
      "  Using cached shapely-2.0.1-cp311-cp311-macosx_10_9_x86_64.whl (1.4 MB)\n",
      "Requirement already satisfied: attrs>=19.2.0 in /Users/kirillkuznecov/opt/anaconda3/envs/ds_3114/lib/python3.11/site-packages (from fiona>=1.8.19->geopandas) (23.1.0)\n",
      "Requirement already satisfied: certifi in /Users/kirillkuznecov/opt/anaconda3/envs/ds_3114/lib/python3.11/site-packages (from fiona>=1.8.19->geopandas) (2023.7.22)\n",
      "Requirement already satisfied: click~=8.0 in /Users/kirillkuznecov/opt/anaconda3/envs/ds_3114/lib/python3.11/site-packages (from fiona>=1.8.19->geopandas) (8.1.6)\n",
      "Collecting click-plugins>=1.0 (from fiona>=1.8.19->geopandas)\n",
      "  Using cached click_plugins-1.1.1-py2.py3-none-any.whl (7.5 kB)\n",
      "Collecting cligj>=0.5 (from fiona>=1.8.19->geopandas)\n",
      "  Using cached cligj-0.7.2-py3-none-any.whl (7.1 kB)\n",
      "Requirement already satisfied: six in /Users/kirillkuznecov/opt/anaconda3/envs/ds_3114/lib/python3.11/site-packages (from fiona>=1.8.19->geopandas) (1.16.0)\n",
      "Requirement already satisfied: python-dateutil>=2.8.2 in /Users/kirillkuznecov/opt/anaconda3/envs/ds_3114/lib/python3.11/site-packages (from pandas>=1.1.0->geopandas) (2.8.2)\n",
      "Requirement already satisfied: pytz>=2020.1 in /Users/kirillkuznecov/opt/anaconda3/envs/ds_3114/lib/python3.11/site-packages (from pandas>=1.1.0->geopandas) (2023.3)\n",
      "Requirement already satisfied: tzdata>=2022.1 in /Users/kirillkuznecov/opt/anaconda3/envs/ds_3114/lib/python3.11/site-packages (from pandas>=1.1.0->geopandas) (2023.3)\n",
      "Requirement already satisfied: numpy>=1.21.0 in /Users/kirillkuznecov/opt/anaconda3/envs/ds_3114/lib/python3.11/site-packages (from pandas>=1.1.0->geopandas) (1.25.0)\n",
      "Installing collected packages: shapely, pyproj, cligj, click-plugins, fiona, geopandas\n",
      "Successfully installed click-plugins-1.1.1 cligj-0.7.2 fiona-1.9.4.post1 geopandas-0.13.2 pyproj-3.6.0 shapely-2.0.1\n"
     ]
    }
   ],
   "source": [
    "!pip install geopandas\n"
   ]
  },
  {
   "cell_type": "code",
   "execution_count": 39,
   "metadata": {},
   "outputs": [
    {
     "name": "stdout",
     "output_type": "stream",
     "text": [
      "Requirement already satisfied: shapely in /Users/kirillkuznecov/opt/anaconda3/envs/ds_3114/lib/python3.11/site-packages (2.0.1)\n",
      "Requirement already satisfied: numpy>=1.14 in /Users/kirillkuznecov/opt/anaconda3/envs/ds_3114/lib/python3.11/site-packages (from shapely) (1.25.0)\n"
     ]
    }
   ],
   "source": [
    "!pip install shapely"
   ]
  },
  {
   "cell_type": "code",
   "execution_count": 40,
   "metadata": {},
   "outputs": [
    {
     "name": "stdout",
     "output_type": "stream",
     "text": [
      "Collecting comet_ml\n",
      "  Downloading comet_ml-3.33.8-py3-none-any.whl (558 kB)\n",
      "\u001b[2K     \u001b[90m━━━━━━━━━━━━━━━━━━━━━━━━━━━━━━━━━━━━━\u001b[0m \u001b[32m558.4/558.4 kB\u001b[0m \u001b[31m940.4 kB/s\u001b[0m eta \u001b[36m0:00:00\u001b[0ma \u001b[36m0:00:01\u001b[0m\n",
      "\u001b[?25hRequirement already satisfied: jsonschema!=3.1.0,>=2.6.0 in /Users/kirillkuznecov/opt/anaconda3/envs/ds_3114/lib/python3.11/site-packages (from comet_ml) (4.18.6)\n",
      "Requirement already satisfied: psutil>=5.6.3 in /Users/kirillkuznecov/opt/anaconda3/envs/ds_3114/lib/python3.11/site-packages (from comet_ml) (5.9.5)\n",
      "Collecting python-box<7.0.0 (from comet_ml)\n",
      "  Using cached python_box-6.1.0-cp311-cp311-macosx_10_9_universal2.whl (1.6 MB)\n",
      "Requirement already satisfied: requests-toolbelt>=0.8.0 in /Users/kirillkuznecov/opt/anaconda3/envs/ds_3114/lib/python3.11/site-packages (from comet_ml) (1.0.0)\n",
      "Requirement already satisfied: requests>=2.18.4 in /Users/kirillkuznecov/opt/anaconda3/envs/ds_3114/lib/python3.11/site-packages (from comet_ml) (2.31.0)\n",
      "Collecting semantic-version>=2.8.0 (from comet_ml)\n",
      "  Using cached semantic_version-2.10.0-py2.py3-none-any.whl (15 kB)\n",
      "Collecting sentry-sdk>=1.1.0 (from comet_ml)\n",
      "  Downloading sentry_sdk-1.29.2-py2.py3-none-any.whl (215 kB)\n",
      "\u001b[2K     \u001b[90m━━━━━━━━━━━━━━━━━━━━━━━━━━━━━━━━━━━━━━━\u001b[0m \u001b[32m215.6/215.6 kB\u001b[0m \u001b[31m2.2 MB/s\u001b[0m eta \u001b[36m0:00:00\u001b[0ma \u001b[36m0:00:01\u001b[0m\n",
      "\u001b[?25hCollecting simplejson (from comet_ml)\n",
      "  Downloading simplejson-3.19.1-cp311-cp311-macosx_10_9_x86_64.whl (75 kB)\n",
      "\u001b[2K     \u001b[90m━━━━━━━━━━━━━━━━━━━━━━━━━━━━━━━━━━━━━━━━\u001b[0m \u001b[32m75.5/75.5 kB\u001b[0m \u001b[31m2.0 MB/s\u001b[0m eta \u001b[36m0:00:00\u001b[0ma \u001b[36m0:00:01\u001b[0m\n",
      "\u001b[?25hRequirement already satisfied: six in /Users/kirillkuznecov/opt/anaconda3/envs/ds_3114/lib/python3.11/site-packages (from comet_ml) (1.16.0)\n",
      "Requirement already satisfied: urllib3>=1.21.1 in /Users/kirillkuznecov/opt/anaconda3/envs/ds_3114/lib/python3.11/site-packages (from comet_ml) (1.26.16)\n",
      "Collecting websocket-client<1.4.0,>=0.55.0 (from comet_ml)\n",
      "  Using cached websocket_client-1.3.3-py3-none-any.whl (54 kB)\n",
      "Collecting wrapt>=1.11.2 (from comet_ml)\n",
      "  Using cached wrapt-1.15.0-cp311-cp311-macosx_10_9_x86_64.whl (35 kB)\n",
      "Collecting wurlitzer>=1.0.2 (from comet_ml)\n",
      "  Using cached wurlitzer-3.0.3-py3-none-any.whl (7.3 kB)\n",
      "Collecting everett[ini]<3.2.0,>=1.0.1 (from comet_ml)\n",
      "  Using cached everett-3.1.0-py2.py3-none-any.whl (35 kB)\n",
      "Collecting dulwich!=0.20.33,>=0.20.6 (from comet_ml)\n",
      "  Downloading dulwich-0.21.5-cp311-cp311-macosx_10_9_x86_64.whl (470 kB)\n",
      "\u001b[2K     \u001b[90m━━━━━━━━━━━━━━━━━━━━━━━━━━━━━━━━━━━━━━━\u001b[0m \u001b[32m470.8/470.8 kB\u001b[0m \u001b[31m2.1 MB/s\u001b[0m eta \u001b[36m0:00:00\u001b[0ma \u001b[36m0:00:01\u001b[0m\n",
      "\u001b[?25hCollecting rich>=13.3.2 (from comet_ml)\n",
      "  Downloading rich-13.5.2-py3-none-any.whl (239 kB)\n",
      "\u001b[2K     \u001b[90m━━━━━━━━━━━━━━━━━━━━━━━━━━━━━━━━━━━━━━━\u001b[0m \u001b[32m239.7/239.7 kB\u001b[0m \u001b[31m2.8 MB/s\u001b[0m eta \u001b[36m0:00:00\u001b[0ma \u001b[36m0:00:01\u001b[0m\n",
      "\u001b[?25hCollecting configobj (from everett[ini]<3.2.0,>=1.0.1->comet_ml)\n",
      "  Using cached configobj-5.0.8-py2.py3-none-any.whl (36 kB)\n",
      "Requirement already satisfied: attrs>=22.2.0 in /Users/kirillkuznecov/opt/anaconda3/envs/ds_3114/lib/python3.11/site-packages (from jsonschema!=3.1.0,>=2.6.0->comet_ml) (23.1.0)\n",
      "Requirement already satisfied: jsonschema-specifications>=2023.03.6 in /Users/kirillkuznecov/opt/anaconda3/envs/ds_3114/lib/python3.11/site-packages (from jsonschema!=3.1.0,>=2.6.0->comet_ml) (2023.7.1)\n",
      "Requirement already satisfied: referencing>=0.28.4 in /Users/kirillkuznecov/opt/anaconda3/envs/ds_3114/lib/python3.11/site-packages (from jsonschema!=3.1.0,>=2.6.0->comet_ml) (0.30.2)\n",
      "Requirement already satisfied: rpds-py>=0.7.1 in /Users/kirillkuznecov/opt/anaconda3/envs/ds_3114/lib/python3.11/site-packages (from jsonschema!=3.1.0,>=2.6.0->comet_ml) (0.9.2)\n",
      "Requirement already satisfied: charset-normalizer<4,>=2 in /Users/kirillkuznecov/opt/anaconda3/envs/ds_3114/lib/python3.11/site-packages (from requests>=2.18.4->comet_ml) (3.2.0)\n",
      "Requirement already satisfied: idna<4,>=2.5 in /Users/kirillkuznecov/opt/anaconda3/envs/ds_3114/lib/python3.11/site-packages (from requests>=2.18.4->comet_ml) (3.4)\n",
      "Requirement already satisfied: certifi>=2017.4.17 in /Users/kirillkuznecov/opt/anaconda3/envs/ds_3114/lib/python3.11/site-packages (from requests>=2.18.4->comet_ml) (2023.7.22)\n",
      "Collecting markdown-it-py>=2.2.0 (from rich>=13.3.2->comet_ml)\n",
      "  Using cached markdown_it_py-3.0.0-py3-none-any.whl (87 kB)\n",
      "Requirement already satisfied: pygments<3.0.0,>=2.13.0 in /Users/kirillkuznecov/opt/anaconda3/envs/ds_3114/lib/python3.11/site-packages (from rich>=13.3.2->comet_ml) (2.15.1)\n",
      "Collecting mdurl~=0.1 (from markdown-it-py>=2.2.0->rich>=13.3.2->comet_ml)\n",
      "  Using cached mdurl-0.1.2-py3-none-any.whl (10.0 kB)\n",
      "Installing collected packages: everett, wurlitzer, wrapt, websocket-client, simplejson, sentry-sdk, semantic-version, python-box, mdurl, dulwich, configobj, markdown-it-py, rich, comet_ml\n",
      "  Attempting uninstall: websocket-client\n",
      "    Found existing installation: websocket-client 1.6.1\n",
      "    Uninstalling websocket-client-1.6.1:\n",
      "      Successfully uninstalled websocket-client-1.6.1\n",
      "Successfully installed comet_ml-3.33.8 configobj-5.0.8 dulwich-0.21.5 everett-3.1.0 markdown-it-py-3.0.0 mdurl-0.1.2 python-box-6.1.0 rich-13.5.2 semantic-version-2.10.0 sentry-sdk-1.29.2 simplejson-3.19.1 websocket-client-1.3.3 wrapt-1.15.0 wurlitzer-3.0.3\n"
     ]
    }
   ],
   "source": [
    "!pip install comet_ml"
   ]
  },
  {
   "cell_type": "code",
   "execution_count": 41,
   "metadata": {},
   "outputs": [
    {
     "name": "stdout",
     "output_type": "stream",
     "text": [
      "Collecting shutup\n",
      "  Using cached shutup-0.2.0-py3-none-any.whl (1.5 kB)\n",
      "Installing collected packages: shutup\n",
      "Successfully installed shutup-0.2.0\n"
     ]
    }
   ],
   "source": [
    "!pip install shutup"
   ]
  },
  {
   "cell_type": "code",
   "execution_count": 42,
   "metadata": {},
   "outputs": [
    {
     "name": "stdout",
     "output_type": "stream",
     "text": [
      "Collecting hyperopt\n",
      "  Using cached hyperopt-0.2.7-py2.py3-none-any.whl (1.6 MB)\n",
      "Requirement already satisfied: numpy in /Users/kirillkuznecov/opt/anaconda3/envs/ds_3114/lib/python3.11/site-packages (from hyperopt) (1.25.0)\n",
      "Requirement already satisfied: scipy in /Users/kirillkuznecov/opt/anaconda3/envs/ds_3114/lib/python3.11/site-packages (from hyperopt) (1.11.1)\n",
      "Requirement already satisfied: six in /Users/kirillkuznecov/opt/anaconda3/envs/ds_3114/lib/python3.11/site-packages (from hyperopt) (1.16.0)\n",
      "Requirement already satisfied: networkx>=2.2 in /Users/kirillkuznecov/opt/anaconda3/envs/ds_3114/lib/python3.11/site-packages (from hyperopt) (3.1)\n",
      "Collecting future (from hyperopt)\n",
      "  Using cached future-0.18.3-py3-none-any.whl\n",
      "Requirement already satisfied: tqdm in /Users/kirillkuznecov/opt/anaconda3/envs/ds_3114/lib/python3.11/site-packages (from hyperopt) (4.65.0)\n",
      "Collecting cloudpickle (from hyperopt)\n",
      "  Using cached cloudpickle-2.2.1-py3-none-any.whl (25 kB)\n",
      "Requirement already satisfied: py4j in /Users/kirillkuznecov/opt/anaconda3/envs/ds_3114/lib/python3.11/site-packages (from hyperopt) (0.10.9.7)\n",
      "Installing collected packages: future, cloudpickle, hyperopt\n",
      "Successfully installed cloudpickle-2.2.1 future-0.18.3 hyperopt-0.2.7\n"
     ]
    }
   ],
   "source": [
    "!pip install hyperopt"
   ]
  },
  {
   "cell_type": "code",
   "execution_count": 43,
   "metadata": {},
   "outputs": [
    {
     "name": "stdout",
     "output_type": "stream",
     "text": [
      "Collecting fastapi\n",
      "  Downloading fastapi-0.101.0-py3-none-any.whl (65 kB)\n",
      "\u001b[2K     \u001b[90m━━━━━━━━━━━━━━━━━━━━━━━━━━━━━━━━━━━━━━━\u001b[0m \u001b[32m65.7/65.7 kB\u001b[0m \u001b[31m229.6 kB/s\u001b[0m eta \u001b[36m0:00:00\u001b[0ma \u001b[36m0:00:01\u001b[0m\n",
      "\u001b[?25hCollecting pydantic!=1.8,!=1.8.1,!=2.0.0,!=2.0.1,!=2.1.0,<3.0.0,>=1.7.4 (from fastapi)\n",
      "  Downloading pydantic-2.1.1-py3-none-any.whl (370 kB)\n",
      "\u001b[2K     \u001b[90m━━━━━━━━━━━━━━━━━━━━━━━━━━━━━━━━━━━━━\u001b[0m \u001b[32m370.9/370.9 kB\u001b[0m \u001b[31m615.1 kB/s\u001b[0m eta \u001b[36m0:00:00\u001b[0ma \u001b[36m0:00:01\u001b[0m\n",
      "\u001b[?25hCollecting starlette<0.28.0,>=0.27.0 (from fastapi)\n",
      "  Using cached starlette-0.27.0-py3-none-any.whl (66 kB)\n",
      "Requirement already satisfied: typing-extensions>=4.5.0 in /Users/kirillkuznecov/opt/anaconda3/envs/ds_3114/lib/python3.11/site-packages (from fastapi) (4.7.1)\n",
      "Collecting annotated-types>=0.4.0 (from pydantic!=1.8,!=1.8.1,!=2.0.0,!=2.0.1,!=2.1.0,<3.0.0,>=1.7.4->fastapi)\n",
      "  Downloading annotated_types-0.5.0-py3-none-any.whl (11 kB)\n",
      "Collecting pydantic-core==2.4.0 (from pydantic!=1.8,!=1.8.1,!=2.0.0,!=2.0.1,!=2.1.0,<3.0.0,>=1.7.4->fastapi)\n",
      "  Downloading pydantic_core-2.4.0-cp311-cp311-macosx_10_7_x86_64.whl (1.7 MB)\n",
      "\u001b[2K     \u001b[90m━━━━━━━━━━━━━━━━━━━━━━━━━━━━━━━━━━━━━━━━\u001b[0m \u001b[32m1.7/1.7 MB\u001b[0m \u001b[31m769.2 kB/s\u001b[0m eta \u001b[36m0:00:00\u001b[0m00:01\u001b[0m00:01\u001b[0m\n",
      "\u001b[?25hRequirement already satisfied: anyio<5,>=3.4.0 in /Users/kirillkuznecov/opt/anaconda3/envs/ds_3114/lib/python3.11/site-packages (from starlette<0.28.0,>=0.27.0->fastapi) (3.7.1)\n",
      "Requirement already satisfied: idna>=2.8 in /Users/kirillkuznecov/opt/anaconda3/envs/ds_3114/lib/python3.11/site-packages (from anyio<5,>=3.4.0->starlette<0.28.0,>=0.27.0->fastapi) (3.4)\n",
      "Requirement already satisfied: sniffio>=1.1 in /Users/kirillkuznecov/opt/anaconda3/envs/ds_3114/lib/python3.11/site-packages (from anyio<5,>=3.4.0->starlette<0.28.0,>=0.27.0->fastapi) (1.3.0)\n",
      "Installing collected packages: pydantic-core, annotated-types, starlette, pydantic, fastapi\n",
      "Successfully installed annotated-types-0.5.0 fastapi-0.101.0 pydantic-2.1.1 pydantic-core-2.4.0 starlette-0.27.0\n"
     ]
    }
   ],
   "source": [
    "!pip install fastapi"
   ]
  },
  {
   "cell_type": "code",
   "execution_count": 44,
   "metadata": {},
   "outputs": [
    {
     "name": "stdout",
     "output_type": "stream",
     "text": [
      "Collecting unicorn[standart]\n",
      "  Using cached unicorn-2.0.1.post1-py2.py3-none-macosx_10_15_x86_64.whl (13.3 MB)\n",
      "\u001b[33mWARNING: unicorn 2.0.1.post1 does not provide the extra 'standart'\u001b[0m\u001b[33m\n",
      "\u001b[0mInstalling collected packages: unicorn\n",
      "Successfully installed unicorn-2.0.1.post1\n"
     ]
    }
   ],
   "source": [
    "!pip install \"unicorn[standart]\""
   ]
  },
  {
   "cell_type": "code",
   "execution_count": 45,
   "metadata": {},
   "outputs": [
    {
     "name": "stdout",
     "output_type": "stream",
     "text": [
      "Collecting python-telegram-bot\n",
      "  Downloading python_telegram_bot-20.4-py3-none-any.whl (549 kB)\n",
      "\u001b[2K     \u001b[90m━━━━━━━━━━━━━━━━━━━━━━━━━━━━━━━━━━━━━━━\u001b[0m \u001b[32m549.0/549.0 kB\u001b[0m \u001b[31m1.2 MB/s\u001b[0m eta \u001b[36m0:00:00\u001b[0m00:01\u001b[0m00:01\u001b[0m\n",
      "\u001b[?25hCollecting httpx~=0.24.1 (from python-telegram-bot)\n",
      "  Using cached httpx-0.24.1-py3-none-any.whl (75 kB)\n",
      "Requirement already satisfied: certifi in /Users/kirillkuznecov/opt/anaconda3/envs/ds_3114/lib/python3.11/site-packages (from httpx~=0.24.1->python-telegram-bot) (2023.7.22)\n",
      "Collecting httpcore<0.18.0,>=0.15.0 (from httpx~=0.24.1->python-telegram-bot)\n",
      "  Using cached httpcore-0.17.3-py3-none-any.whl (74 kB)\n",
      "Requirement already satisfied: idna in /Users/kirillkuznecov/opt/anaconda3/envs/ds_3114/lib/python3.11/site-packages (from httpx~=0.24.1->python-telegram-bot) (3.4)\n",
      "Requirement already satisfied: sniffio in /Users/kirillkuznecov/opt/anaconda3/envs/ds_3114/lib/python3.11/site-packages (from httpx~=0.24.1->python-telegram-bot) (1.3.0)\n",
      "Requirement already satisfied: h11<0.15,>=0.13 in /Users/kirillkuznecov/opt/anaconda3/envs/ds_3114/lib/python3.11/site-packages (from httpcore<0.18.0,>=0.15.0->httpx~=0.24.1->python-telegram-bot) (0.14.0)\n",
      "Requirement already satisfied: anyio<5.0,>=3.0 in /Users/kirillkuznecov/opt/anaconda3/envs/ds_3114/lib/python3.11/site-packages (from httpcore<0.18.0,>=0.15.0->httpx~=0.24.1->python-telegram-bot) (3.7.1)\n",
      "Installing collected packages: httpcore, httpx, python-telegram-bot\n",
      "Successfully installed httpcore-0.17.3 httpx-0.24.1 python-telegram-bot-20.4\n"
     ]
    }
   ],
   "source": [
    "!pip install python-telegram-bot"
   ]
  },
  {
   "cell_type": "code",
   "execution_count": 46,
   "metadata": {},
   "outputs": [
    {
     "name": "stdout",
     "output_type": "stream",
     "text": [
      "Collecting pyTelegramBotAPI\n",
      "  Using cached pyTelegramBotAPI-4.12.0.tar.gz (232 kB)\n",
      "  Preparing metadata (setup.py) ... \u001b[?25ldone\n",
      "\u001b[?25hRequirement already satisfied: requests in /Users/kirillkuznecov/opt/anaconda3/envs/ds_3114/lib/python3.11/site-packages (from pyTelegramBotAPI) (2.31.0)\n",
      "Requirement already satisfied: charset-normalizer<4,>=2 in /Users/kirillkuznecov/opt/anaconda3/envs/ds_3114/lib/python3.11/site-packages (from requests->pyTelegramBotAPI) (3.2.0)\n",
      "Requirement already satisfied: idna<4,>=2.5 in /Users/kirillkuznecov/opt/anaconda3/envs/ds_3114/lib/python3.11/site-packages (from requests->pyTelegramBotAPI) (3.4)\n",
      "Requirement already satisfied: urllib3<3,>=1.21.1 in /Users/kirillkuznecov/opt/anaconda3/envs/ds_3114/lib/python3.11/site-packages (from requests->pyTelegramBotAPI) (1.26.16)\n",
      "Requirement already satisfied: certifi>=2017.4.17 in /Users/kirillkuznecov/opt/anaconda3/envs/ds_3114/lib/python3.11/site-packages (from requests->pyTelegramBotAPI) (2023.7.22)\n",
      "Building wheels for collected packages: pyTelegramBotAPI\n",
      "  Building wheel for pyTelegramBotAPI (setup.py) ... \u001b[?25ldone\n",
      "\u001b[?25h  Created wheel for pyTelegramBotAPI: filename=pyTelegramBotAPI-4.12.0-py3-none-any.whl size=213954 sha256=b1d52b044928e22d2cd9ea9bd6fdd841e690e53bd7bf5e9bf7c696acd60afd6b\n",
      "  Stored in directory: /Users/kirillkuznecov/Library/Caches/pip/wheels/1b/52/18/776e818108e2c10263b68734da95bbdfdf73a57e7866600c5b\n",
      "Successfully built pyTelegramBotAPI\n",
      "Installing collected packages: pyTelegramBotAPI\n",
      "Successfully installed pyTelegramBotAPI-4.12.0\n"
     ]
    }
   ],
   "source": [
    "!pip install pyTelegramBotAPI"
   ]
  },
  {
   "cell_type": "code",
   "execution_count": 47,
   "metadata": {},
   "outputs": [
    {
     "name": "stdout",
     "output_type": "stream",
     "text": [
      "Collecting optuna\n",
      "  Using cached optuna-3.2.0-py3-none-any.whl (390 kB)\n",
      "Collecting alembic>=1.5.0 (from optuna)\n",
      "  Downloading alembic-1.11.2-py3-none-any.whl (225 kB)\n",
      "\u001b[2K     \u001b[90m━━━━━━━━━━━━━━━━━━━━━━━━━━━━━━━━━━━━━\u001b[0m \u001b[32m225.3/225.3 kB\u001b[0m \u001b[31m983.7 kB/s\u001b[0m eta \u001b[36m0:00:00\u001b[0ma \u001b[36m0:00:01\u001b[0m\n",
      "\u001b[?25hCollecting cmaes>=0.9.1 (from optuna)\n",
      "  Downloading cmaes-0.10.0-py3-none-any.whl (29 kB)\n",
      "Collecting colorlog (from optuna)\n",
      "  Using cached colorlog-6.7.0-py2.py3-none-any.whl (11 kB)\n",
      "Requirement already satisfied: numpy in /Users/kirillkuznecov/opt/anaconda3/envs/ds_3114/lib/python3.11/site-packages (from optuna) (1.25.0)\n",
      "Requirement already satisfied: packaging>=20.0 in /Users/kirillkuznecov/opt/anaconda3/envs/ds_3114/lib/python3.11/site-packages (from optuna) (23.1)\n",
      "Collecting sqlalchemy>=1.3.0 (from optuna)\n",
      "  Downloading SQLAlchemy-2.0.19-cp311-cp311-macosx_10_9_x86_64.whl (2.0 MB)\n",
      "\u001b[2K     \u001b[90m━━━━━━━━━━━━━━━━━━━━━━━━━━━━━━━━━━━━━━━━\u001b[0m \u001b[32m2.0/2.0 MB\u001b[0m \u001b[31m3.1 MB/s\u001b[0m eta \u001b[36m0:00:00\u001b[0ma \u001b[36m0:00:01\u001b[0m\n",
      "\u001b[?25hRequirement already satisfied: tqdm in /Users/kirillkuznecov/opt/anaconda3/envs/ds_3114/lib/python3.11/site-packages (from optuna) (4.65.0)\n",
      "Requirement already satisfied: PyYAML in /Users/kirillkuznecov/opt/anaconda3/envs/ds_3114/lib/python3.11/site-packages (from optuna) (6.0.1)\n",
      "Collecting Mako (from alembic>=1.5.0->optuna)\n",
      "  Using cached Mako-1.2.4-py3-none-any.whl (78 kB)\n",
      "Requirement already satisfied: typing-extensions>=4 in /Users/kirillkuznecov/opt/anaconda3/envs/ds_3114/lib/python3.11/site-packages (from alembic>=1.5.0->optuna) (4.7.1)\n",
      "Collecting greenlet!=0.4.17 (from sqlalchemy>=1.3.0->optuna)\n",
      "  Using cached greenlet-2.0.2-cp311-cp311-macosx_10_9_universal2.whl (243 kB)\n",
      "Requirement already satisfied: MarkupSafe>=0.9.2 in /Users/kirillkuznecov/opt/anaconda3/envs/ds_3114/lib/python3.11/site-packages (from Mako->alembic>=1.5.0->optuna) (2.1.3)\n",
      "Installing collected packages: Mako, greenlet, colorlog, cmaes, sqlalchemy, alembic, optuna\n",
      "Successfully installed Mako-1.2.4 alembic-1.11.2 cmaes-0.10.0 colorlog-6.7.0 greenlet-2.0.2 optuna-3.2.0 sqlalchemy-2.0.19\n"
     ]
    }
   ],
   "source": [
    "!pip install optuna"
   ]
  },
  {
   "cell_type": "code",
   "execution_count": 48,
   "metadata": {},
   "outputs": [
    {
     "name": "stdout",
     "output_type": "stream",
     "text": [
      "Collecting googletrans==4.0.0-rc1\n",
      "  Using cached googletrans-4.0.0rc1-py3-none-any.whl\n",
      "Collecting httpx==0.13.3 (from googletrans==4.0.0-rc1)\n",
      "  Using cached httpx-0.13.3-py3-none-any.whl (55 kB)\n",
      "Requirement already satisfied: certifi in /Users/kirillkuznecov/opt/anaconda3/envs/ds_3114/lib/python3.11/site-packages (from httpx==0.13.3->googletrans==4.0.0-rc1) (2023.7.22)\n",
      "Collecting hstspreload (from httpx==0.13.3->googletrans==4.0.0-rc1)\n",
      "  Using cached hstspreload-2023.1.1-py3-none-any.whl (1.5 MB)\n",
      "Requirement already satisfied: sniffio in /Users/kirillkuznecov/opt/anaconda3/envs/ds_3114/lib/python3.11/site-packages (from httpx==0.13.3->googletrans==4.0.0-rc1) (1.3.0)\n",
      "Collecting chardet==3.* (from httpx==0.13.3->googletrans==4.0.0-rc1)\n",
      "  Using cached chardet-3.0.4-py2.py3-none-any.whl (133 kB)\n",
      "Collecting idna==2.* (from httpx==0.13.3->googletrans==4.0.0-rc1)\n",
      "  Using cached idna-2.10-py2.py3-none-any.whl (58 kB)\n",
      "Collecting rfc3986<2,>=1.3 (from httpx==0.13.3->googletrans==4.0.0-rc1)\n",
      "  Using cached rfc3986-1.5.0-py2.py3-none-any.whl (31 kB)\n",
      "Collecting httpcore==0.9.* (from httpx==0.13.3->googletrans==4.0.0-rc1)\n",
      "  Using cached httpcore-0.9.1-py3-none-any.whl (42 kB)\n",
      "Collecting h11<0.10,>=0.8 (from httpcore==0.9.*->httpx==0.13.3->googletrans==4.0.0-rc1)\n",
      "  Using cached h11-0.9.0-py2.py3-none-any.whl (53 kB)\n",
      "Collecting h2==3.* (from httpcore==0.9.*->httpx==0.13.3->googletrans==4.0.0-rc1)\n",
      "  Using cached h2-3.2.0-py2.py3-none-any.whl (65 kB)\n",
      "Collecting hyperframe<6,>=5.2.0 (from h2==3.*->httpcore==0.9.*->httpx==0.13.3->googletrans==4.0.0-rc1)\n",
      "  Using cached hyperframe-5.2.0-py2.py3-none-any.whl (12 kB)\n",
      "Collecting hpack<4,>=3.0 (from h2==3.*->httpcore==0.9.*->httpx==0.13.3->googletrans==4.0.0-rc1)\n",
      "  Using cached hpack-3.0.0-py2.py3-none-any.whl (38 kB)\n",
      "Installing collected packages: rfc3986, hyperframe, hpack, h11, chardet, idna, hstspreload, h2, httpcore, httpx, googletrans\n",
      "  Attempting uninstall: h11\n",
      "    Found existing installation: h11 0.14.0\n",
      "    Uninstalling h11-0.14.0:\n",
      "      Successfully uninstalled h11-0.14.0\n",
      "  Attempting uninstall: chardet\n",
      "    Found existing installation: chardet 5.2.0\n",
      "    Uninstalling chardet-5.2.0:\n",
      "      Successfully uninstalled chardet-5.2.0\n",
      "  Attempting uninstall: idna\n",
      "    Found existing installation: idna 3.4\n",
      "    Uninstalling idna-3.4:\n",
      "      Successfully uninstalled idna-3.4\n",
      "  Attempting uninstall: httpcore\n",
      "    Found existing installation: httpcore 0.17.3\n",
      "    Uninstalling httpcore-0.17.3:\n",
      "      Successfully uninstalled httpcore-0.17.3\n",
      "  Attempting uninstall: httpx\n",
      "    Found existing installation: httpx 0.24.1\n",
      "    Uninstalling httpx-0.24.1:\n",
      "      Successfully uninstalled httpx-0.24.1\n",
      "\u001b[31mERROR: pip's dependency resolver does not currently take into account all the packages that are installed. This behaviour is the source of the following dependency conflicts.\n",
      "python-telegram-bot 20.4 requires httpx~=0.24.1, but you have httpx 0.13.3 which is incompatible.\u001b[0m\u001b[31m\n",
      "\u001b[0mSuccessfully installed chardet-3.0.4 googletrans-4.0.0rc1 h11-0.9.0 h2-3.2.0 hpack-3.0.0 hstspreload-2023.1.1 httpcore-0.9.1 httpx-0.13.3 hyperframe-5.2.0 idna-2.10 rfc3986-1.5.0\n"
     ]
    }
   ],
   "source": [
    "!pip install googletrans==4.0.0-rc1"
   ]
  },
  {
   "cell_type": "code",
   "execution_count": 49,
   "metadata": {},
   "outputs": [
    {
     "name": "stdout",
     "output_type": "stream",
     "text": [
      "Collecting google_trans_new\n",
      "  Using cached google_trans_new-1.1.9-py3-none-any.whl (9.2 kB)\n",
      "Installing collected packages: google_trans_new\n",
      "Successfully installed google_trans_new-1.1.9\n"
     ]
    }
   ],
   "source": [
    "!pip install google_trans_new"
   ]
  },
  {
   "cell_type": "code",
   "execution_count": 50,
   "metadata": {},
   "outputs": [
    {
     "name": "stdout",
     "output_type": "stream",
     "text": [
      "Collecting googletrans==3.1.0a0\n",
      "  Using cached googletrans-3.1.0a0-py3-none-any.whl\n",
      "Requirement already satisfied: httpx==0.13.3 in /Users/kirillkuznecov/opt/anaconda3/envs/ds_3114/lib/python3.11/site-packages (from googletrans==3.1.0a0) (0.13.3)\n",
      "Requirement already satisfied: certifi in /Users/kirillkuznecov/opt/anaconda3/envs/ds_3114/lib/python3.11/site-packages (from httpx==0.13.3->googletrans==3.1.0a0) (2023.7.22)\n",
      "Requirement already satisfied: hstspreload in /Users/kirillkuznecov/opt/anaconda3/envs/ds_3114/lib/python3.11/site-packages (from httpx==0.13.3->googletrans==3.1.0a0) (2023.1.1)\n",
      "Requirement already satisfied: sniffio in /Users/kirillkuznecov/opt/anaconda3/envs/ds_3114/lib/python3.11/site-packages (from httpx==0.13.3->googletrans==3.1.0a0) (1.3.0)\n",
      "Requirement already satisfied: chardet==3.* in /Users/kirillkuznecov/opt/anaconda3/envs/ds_3114/lib/python3.11/site-packages (from httpx==0.13.3->googletrans==3.1.0a0) (3.0.4)\n",
      "Requirement already satisfied: idna==2.* in /Users/kirillkuznecov/opt/anaconda3/envs/ds_3114/lib/python3.11/site-packages (from httpx==0.13.3->googletrans==3.1.0a0) (2.10)\n",
      "Requirement already satisfied: rfc3986<2,>=1.3 in /Users/kirillkuznecov/opt/anaconda3/envs/ds_3114/lib/python3.11/site-packages (from httpx==0.13.3->googletrans==3.1.0a0) (1.5.0)\n",
      "Requirement already satisfied: httpcore==0.9.* in /Users/kirillkuznecov/opt/anaconda3/envs/ds_3114/lib/python3.11/site-packages (from httpx==0.13.3->googletrans==3.1.0a0) (0.9.1)\n",
      "Requirement already satisfied: h11<0.10,>=0.8 in /Users/kirillkuznecov/opt/anaconda3/envs/ds_3114/lib/python3.11/site-packages (from httpcore==0.9.*->httpx==0.13.3->googletrans==3.1.0a0) (0.9.0)\n",
      "Requirement already satisfied: h2==3.* in /Users/kirillkuznecov/opt/anaconda3/envs/ds_3114/lib/python3.11/site-packages (from httpcore==0.9.*->httpx==0.13.3->googletrans==3.1.0a0) (3.2.0)\n",
      "Requirement already satisfied: hyperframe<6,>=5.2.0 in /Users/kirillkuznecov/opt/anaconda3/envs/ds_3114/lib/python3.11/site-packages (from h2==3.*->httpcore==0.9.*->httpx==0.13.3->googletrans==3.1.0a0) (5.2.0)\n",
      "Requirement already satisfied: hpack<4,>=3.0 in /Users/kirillkuznecov/opt/anaconda3/envs/ds_3114/lib/python3.11/site-packages (from h2==3.*->httpcore==0.9.*->httpx==0.13.3->googletrans==3.1.0a0) (3.0.0)\n",
      "Installing collected packages: googletrans\n",
      "  Attempting uninstall: googletrans\n",
      "    Found existing installation: googletrans 4.0.0rc1\n",
      "    Uninstalling googletrans-4.0.0rc1:\n",
      "      Successfully uninstalled googletrans-4.0.0rc1\n",
      "Successfully installed googletrans-3.1.0a0\n"
     ]
    }
   ],
   "source": [
    "!pip install googletrans==3.1.0a0"
   ]
  },
  {
   "cell_type": "code",
   "execution_count": 51,
   "metadata": {},
   "outputs": [
    {
     "name": "stdout",
     "output_type": "stream",
     "text": [
      "Requirement already satisfied: joblib in /Users/kirillkuznecov/opt/anaconda3/envs/ds_3114/lib/python3.11/site-packages (1.3.1)\n"
     ]
    }
   ],
   "source": [
    "!pip install joblib"
   ]
  },
  {
   "cell_type": "code",
   "execution_count": 52,
   "metadata": {},
   "outputs": [
    {
     "name": "stdout",
     "output_type": "stream",
     "text": [
      "Collecting yellowbrick\n",
      "  Using cached yellowbrick-1.5-py3-none-any.whl (282 kB)\n",
      "Requirement already satisfied: matplotlib!=3.0.0,>=2.0.2 in /Users/kirillkuznecov/opt/anaconda3/envs/ds_3114/lib/python3.11/site-packages (from yellowbrick) (3.7.2)\n",
      "Requirement already satisfied: scipy>=1.0.0 in /Users/kirillkuznecov/opt/anaconda3/envs/ds_3114/lib/python3.11/site-packages (from yellowbrick) (1.11.1)\n",
      "Requirement already satisfied: scikit-learn>=1.0.0 in /Users/kirillkuznecov/opt/anaconda3/envs/ds_3114/lib/python3.11/site-packages (from yellowbrick) (1.3.0)\n",
      "Requirement already satisfied: numpy>=1.16.0 in /Users/kirillkuznecov/opt/anaconda3/envs/ds_3114/lib/python3.11/site-packages (from yellowbrick) (1.25.0)\n",
      "Requirement already satisfied: cycler>=0.10.0 in /Users/kirillkuznecov/opt/anaconda3/envs/ds_3114/lib/python3.11/site-packages (from yellowbrick) (0.11.0)\n",
      "Requirement already satisfied: contourpy>=1.0.1 in /Users/kirillkuznecov/opt/anaconda3/envs/ds_3114/lib/python3.11/site-packages (from matplotlib!=3.0.0,>=2.0.2->yellowbrick) (1.1.0)\n",
      "Requirement already satisfied: fonttools>=4.22.0 in /Users/kirillkuznecov/opt/anaconda3/envs/ds_3114/lib/python3.11/site-packages (from matplotlib!=3.0.0,>=2.0.2->yellowbrick) (4.42.0)\n",
      "Requirement already satisfied: kiwisolver>=1.0.1 in /Users/kirillkuznecov/opt/anaconda3/envs/ds_3114/lib/python3.11/site-packages (from matplotlib!=3.0.0,>=2.0.2->yellowbrick) (1.4.4)\n",
      "Requirement already satisfied: packaging>=20.0 in /Users/kirillkuznecov/opt/anaconda3/envs/ds_3114/lib/python3.11/site-packages (from matplotlib!=3.0.0,>=2.0.2->yellowbrick) (23.1)\n",
      "Requirement already satisfied: pillow>=6.2.0 in /Users/kirillkuznecov/opt/anaconda3/envs/ds_3114/lib/python3.11/site-packages (from matplotlib!=3.0.0,>=2.0.2->yellowbrick) (10.0.0)\n",
      "Requirement already satisfied: pyparsing<3.1,>=2.3.1 in /Users/kirillkuznecov/opt/anaconda3/envs/ds_3114/lib/python3.11/site-packages (from matplotlib!=3.0.0,>=2.0.2->yellowbrick) (3.0.9)\n",
      "Requirement already satisfied: python-dateutil>=2.7 in /Users/kirillkuznecov/opt/anaconda3/envs/ds_3114/lib/python3.11/site-packages (from matplotlib!=3.0.0,>=2.0.2->yellowbrick) (2.8.2)\n",
      "Requirement already satisfied: joblib>=1.1.1 in /Users/kirillkuznecov/opt/anaconda3/envs/ds_3114/lib/python3.11/site-packages (from scikit-learn>=1.0.0->yellowbrick) (1.3.1)\n",
      "Requirement already satisfied: threadpoolctl>=2.0.0 in /Users/kirillkuznecov/opt/anaconda3/envs/ds_3114/lib/python3.11/site-packages (from scikit-learn>=1.0.0->yellowbrick) (3.2.0)\n",
      "Requirement already satisfied: six>=1.5 in /Users/kirillkuznecov/opt/anaconda3/envs/ds_3114/lib/python3.11/site-packages (from python-dateutil>=2.7->matplotlib!=3.0.0,>=2.0.2->yellowbrick) (1.16.0)\n",
      "Installing collected packages: yellowbrick\n",
      "Successfully installed yellowbrick-1.5\n"
     ]
    }
   ],
   "source": [
    "!pip install yellowbrick"
   ]
  },
  {
   "cell_type": "code",
   "execution_count": 53,
   "metadata": {},
   "outputs": [
    {
     "name": "stdout",
     "output_type": "stream",
     "text": [
      "Collecting lazypredict\n",
      "  Using cached lazypredict-0.2.12-py2.py3-none-any.whl (12 kB)\n",
      "Requirement already satisfied: click in /Users/kirillkuznecov/opt/anaconda3/envs/ds_3114/lib/python3.11/site-packages (from lazypredict) (8.1.6)\n",
      "Requirement already satisfied: scikit-learn in /Users/kirillkuznecov/opt/anaconda3/envs/ds_3114/lib/python3.11/site-packages (from lazypredict) (1.3.0)\n",
      "Requirement already satisfied: pandas in /Users/kirillkuznecov/opt/anaconda3/envs/ds_3114/lib/python3.11/site-packages (from lazypredict) (2.0.3)\n",
      "Requirement already satisfied: tqdm in /Users/kirillkuznecov/opt/anaconda3/envs/ds_3114/lib/python3.11/site-packages (from lazypredict) (4.65.0)\n",
      "Requirement already satisfied: joblib in /Users/kirillkuznecov/opt/anaconda3/envs/ds_3114/lib/python3.11/site-packages (from lazypredict) (1.3.1)\n",
      "Collecting lightgbm (from lazypredict)\n",
      "  Downloading lightgbm-4.0.0-py3-none-macosx_10_15_x86_64.macosx_11_6_x86_64.macosx_12_5_x86_64.whl (1.7 MB)\n",
      "\u001b[2K     \u001b[90m━━━━━━━━━━━━━━━━━━━━━━━━━━━━━━━━━━━━━━━━\u001b[0m \u001b[32m1.7/1.7 MB\u001b[0m \u001b[31m1.7 MB/s\u001b[0m eta \u001b[36m0:00:00\u001b[0ma \u001b[36m0:00:01\u001b[0m0m\n",
      "\u001b[?25hCollecting xgboost (from lazypredict)\n",
      "  Using cached xgboost-1.7.6-py3-none-macosx_10_15_x86_64.macosx_11_0_x86_64.macosx_12_0_x86_64.whl (1.8 MB)\n",
      "Requirement already satisfied: numpy in /Users/kirillkuznecov/opt/anaconda3/envs/ds_3114/lib/python3.11/site-packages (from lightgbm->lazypredict) (1.25.0)\n",
      "Requirement already satisfied: scipy in /Users/kirillkuznecov/opt/anaconda3/envs/ds_3114/lib/python3.11/site-packages (from lightgbm->lazypredict) (1.11.1)\n",
      "Requirement already satisfied: python-dateutil>=2.8.2 in /Users/kirillkuznecov/opt/anaconda3/envs/ds_3114/lib/python3.11/site-packages (from pandas->lazypredict) (2.8.2)\n",
      "Requirement already satisfied: pytz>=2020.1 in /Users/kirillkuznecov/opt/anaconda3/envs/ds_3114/lib/python3.11/site-packages (from pandas->lazypredict) (2023.3)\n",
      "Requirement already satisfied: tzdata>=2022.1 in /Users/kirillkuznecov/opt/anaconda3/envs/ds_3114/lib/python3.11/site-packages (from pandas->lazypredict) (2023.3)\n",
      "Requirement already satisfied: threadpoolctl>=2.0.0 in /Users/kirillkuznecov/opt/anaconda3/envs/ds_3114/lib/python3.11/site-packages (from scikit-learn->lazypredict) (3.2.0)\n",
      "Requirement already satisfied: six>=1.5 in /Users/kirillkuznecov/opt/anaconda3/envs/ds_3114/lib/python3.11/site-packages (from python-dateutil>=2.8.2->pandas->lazypredict) (1.16.0)\n",
      "Installing collected packages: xgboost, lightgbm, lazypredict\n",
      "Successfully installed lazypredict-0.2.12 lightgbm-4.0.0 xgboost-1.7.6\n"
     ]
    }
   ],
   "source": [
    "!pip install lazypredict\n"
   ]
  },
  {
   "cell_type": "code",
   "execution_count": 54,
   "metadata": {},
   "outputs": [
    {
     "name": "stdout",
     "output_type": "stream",
     "text": [
      "Collecting sympy\n",
      "  Using cached sympy-1.12-py3-none-any.whl (5.7 MB)\n",
      "Collecting mpmath>=0.19 (from sympy)\n",
      "  Using cached mpmath-1.3.0-py3-none-any.whl (536 kB)\n",
      "Installing collected packages: mpmath, sympy\n",
      "Successfully installed mpmath-1.3.0 sympy-1.12\n"
     ]
    }
   ],
   "source": [
    "!pip install sympy"
   ]
  },
  {
   "cell_type": "code",
   "execution_count": 55,
   "metadata": {},
   "outputs": [
    {
     "name": "stdout",
     "output_type": "stream",
     "text": [
      "Collecting cvxpy\n",
      "  Downloading cvxpy-1.3.2-cp311-cp311-macosx_10_9_x86_64.whl (936 kB)\n",
      "\u001b[2K     \u001b[90m━━━━━━━━━━━━━━━━━━━━━━━━━━━━━━━━━━━━━━━\u001b[0m \u001b[32m936.2/936.2 kB\u001b[0m \u001b[31m1.1 MB/s\u001b[0m eta \u001b[36m0:00:00\u001b[0m00:01\u001b[0m00:01\u001b[0m\n",
      "\u001b[?25hCollecting osqp>=0.4.1 (from cvxpy)\n",
      "  Using cached osqp-0.6.3-cp311-cp311-macosx_10_9_x86_64.whl (252 kB)\n",
      "Collecting ecos>=2 (from cvxpy)\n",
      "  Using cached ecos-2.0.12-cp311-cp311-macosx_10_9_x86_64.whl (90 kB)\n",
      "Collecting scs>=1.1.6 (from cvxpy)\n",
      "  Using cached scs-3.2.3-cp311-cp311-macosx_10_9_x86_64.whl (11.6 MB)\n",
      "Requirement already satisfied: numpy>=1.15 in /Users/kirillkuznecov/opt/anaconda3/envs/ds_3114/lib/python3.11/site-packages (from cvxpy) (1.25.0)\n",
      "Requirement already satisfied: scipy>=1.1.0 in /Users/kirillkuznecov/opt/anaconda3/envs/ds_3114/lib/python3.11/site-packages (from cvxpy) (1.11.1)\n",
      "Requirement already satisfied: setuptools>65.5.1 in /Users/kirillkuznecov/opt/anaconda3/envs/ds_3114/lib/python3.11/site-packages (from cvxpy) (67.8.0)\n",
      "Collecting qdldl (from osqp>=0.4.1->cvxpy)\n",
      "  Downloading qdldl-0.1.7.post0-cp311-cp311-macosx_10_9_x86_64.whl (105 kB)\n",
      "\u001b[2K     \u001b[90m━━━━━━━━━━━━━━━━━━━━━━━━━━━━━━━━━━━━━━━\u001b[0m \u001b[32m105.2/105.2 kB\u001b[0m \u001b[31m1.8 MB/s\u001b[0m eta \u001b[36m0:00:00\u001b[0ma \u001b[36m0:00:01\u001b[0m\n",
      "\u001b[?25hInstalling collected packages: scs, qdldl, ecos, osqp, cvxpy\n",
      "Successfully installed cvxpy-1.3.2 ecos-2.0.12 osqp-0.6.3 qdldl-0.1.7.post0 scs-3.2.3\n"
     ]
    }
   ],
   "source": [
    "!pip install cvxpy"
   ]
  },
  {
   "cell_type": "code",
   "execution_count": 56,
   "metadata": {},
   "outputs": [
    {
     "name": "stdout",
     "output_type": "stream",
     "text": [
      "Collecting pulp\n",
      "  Using cached PuLP-2.7.0-py3-none-any.whl (14.3 MB)\n",
      "Installing collected packages: pulp\n",
      "Successfully installed pulp-2.7.0\n"
     ]
    }
   ],
   "source": [
    "!pip install pulp"
   ]
  },
  {
   "cell_type": "code",
   "execution_count": 57,
   "metadata": {},
   "outputs": [
    {
     "name": "stdout",
     "output_type": "stream",
     "text": [
      "Collecting mahotas\n",
      "  Using cached mahotas-1.4.13-cp311-cp311-macosx_10_9_x86_64.whl\n",
      "Requirement already satisfied: numpy in /Users/kirillkuznecov/opt/anaconda3/envs/ds_3114/lib/python3.11/site-packages (from mahotas) (1.25.0)\n",
      "Installing collected packages: mahotas\n",
      "Successfully installed mahotas-1.4.13\n"
     ]
    }
   ],
   "source": [
    "!pip install mahotas"
   ]
  },
  {
   "cell_type": "code",
   "execution_count": 58,
   "metadata": {},
   "outputs": [
    {
     "name": "stdout",
     "output_type": "stream",
     "text": [
      "\u001b[31mERROR: Could not find a version that satisfies the requirement curses (from versions: none)\u001b[0m\u001b[31m\n",
      "\u001b[0m\u001b[31mERROR: No matching distribution found for curses\u001b[0m\u001b[31m\n",
      "\u001b[0m"
     ]
    }
   ],
   "source": [
    "!pip install curses"
   ]
  },
  {
   "cell_type": "code",
   "execution_count": 65,
   "metadata": {},
   "outputs": [
    {
     "name": "stdout",
     "output_type": "stream",
     "text": [
      "Collecting graphviz\n",
      "  Using cached graphviz-0.20.1-py3-none-any.whl (47 kB)\n",
      "Installing collected packages: graphviz\n",
      "Successfully installed graphviz-0.20.1\n"
     ]
    }
   ],
   "source": [
    "!pip install graphviz"
   ]
  },
  {
   "cell_type": "code",
   "execution_count": 67,
   "metadata": {},
   "outputs": [
    {
     "name": "stdout",
     "output_type": "stream",
     "text": [
      "Requirement already satisfied: six in /Users/kirillkuznecov/opt/anaconda3/envs/ds_3114/lib/python3.11/site-packages (1.16.0)\n"
     ]
    }
   ],
   "source": [
    "!pip install six"
   ]
  },
  {
   "cell_type": "code",
   "execution_count": 68,
   "metadata": {},
   "outputs": [
    {
     "name": "stdout",
     "output_type": "stream",
     "text": [
      "Collecting catboost\n",
      "  Using cached catboost-1.2.tar.gz (95.9 MB)\n",
      "  Installing build dependencies ... \u001b[?25ldone\n",
      "\u001b[?25h  Getting requirements to build wheel ... \u001b[?25ldone\n",
      "\u001b[?25h  Preparing metadata (pyproject.toml) ... \u001b[?25ldone\n",
      "\u001b[?25hRequirement already satisfied: graphviz in /Users/kirillkuznecov/opt/anaconda3/envs/ds_3114/lib/python3.11/site-packages (from catboost) (0.20.1)\n",
      "Requirement already satisfied: matplotlib in /Users/kirillkuznecov/opt/anaconda3/envs/ds_3114/lib/python3.11/site-packages (from catboost) (3.7.2)\n",
      "Requirement already satisfied: numpy>=1.16.0 in /Users/kirillkuznecov/opt/anaconda3/envs/ds_3114/lib/python3.11/site-packages (from catboost) (1.25.0)\n",
      "Requirement already satisfied: pandas>=0.24 in /Users/kirillkuznecov/opt/anaconda3/envs/ds_3114/lib/python3.11/site-packages (from catboost) (2.0.3)\n",
      "Requirement already satisfied: scipy in /Users/kirillkuznecov/opt/anaconda3/envs/ds_3114/lib/python3.11/site-packages (from catboost) (1.11.1)\n",
      "Requirement already satisfied: plotly in /Users/kirillkuznecov/opt/anaconda3/envs/ds_3114/lib/python3.11/site-packages (from catboost) (5.15.0)\n",
      "Requirement already satisfied: six in /Users/kirillkuznecov/opt/anaconda3/envs/ds_3114/lib/python3.11/site-packages (from catboost) (1.16.0)\n",
      "Requirement already satisfied: python-dateutil>=2.8.2 in /Users/kirillkuznecov/opt/anaconda3/envs/ds_3114/lib/python3.11/site-packages (from pandas>=0.24->catboost) (2.8.2)\n",
      "Requirement already satisfied: pytz>=2020.1 in /Users/kirillkuznecov/opt/anaconda3/envs/ds_3114/lib/python3.11/site-packages (from pandas>=0.24->catboost) (2023.3)\n",
      "Requirement already satisfied: tzdata>=2022.1 in /Users/kirillkuznecov/opt/anaconda3/envs/ds_3114/lib/python3.11/site-packages (from pandas>=0.24->catboost) (2023.3)\n",
      "Requirement already satisfied: contourpy>=1.0.1 in /Users/kirillkuznecov/opt/anaconda3/envs/ds_3114/lib/python3.11/site-packages (from matplotlib->catboost) (1.1.0)\n",
      "Requirement already satisfied: cycler>=0.10 in /Users/kirillkuznecov/opt/anaconda3/envs/ds_3114/lib/python3.11/site-packages (from matplotlib->catboost) (0.11.0)\n",
      "Requirement already satisfied: fonttools>=4.22.0 in /Users/kirillkuznecov/opt/anaconda3/envs/ds_3114/lib/python3.11/site-packages (from matplotlib->catboost) (4.42.0)\n",
      "Requirement already satisfied: kiwisolver>=1.0.1 in /Users/kirillkuznecov/opt/anaconda3/envs/ds_3114/lib/python3.11/site-packages (from matplotlib->catboost) (1.4.4)\n",
      "Requirement already satisfied: packaging>=20.0 in /Users/kirillkuznecov/opt/anaconda3/envs/ds_3114/lib/python3.11/site-packages (from matplotlib->catboost) (23.1)\n",
      "Requirement already satisfied: pillow>=6.2.0 in /Users/kirillkuznecov/opt/anaconda3/envs/ds_3114/lib/python3.11/site-packages (from matplotlib->catboost) (10.0.0)\n",
      "Requirement already satisfied: pyparsing<3.1,>=2.3.1 in /Users/kirillkuznecov/opt/anaconda3/envs/ds_3114/lib/python3.11/site-packages (from matplotlib->catboost) (3.0.9)\n",
      "Requirement already satisfied: tenacity>=6.2.0 in /Users/kirillkuznecov/opt/anaconda3/envs/ds_3114/lib/python3.11/site-packages (from plotly->catboost) (8.2.2)\n",
      "Building wheels for collected packages: catboost\n",
      "  Building wheel for catboost (pyproject.toml) ... \u001b[?25lerror\n",
      "  \u001b[1;31merror\u001b[0m: \u001b[1msubprocess-exited-with-error\u001b[0m\n",
      "  \n",
      "  \u001b[31m×\u001b[0m \u001b[32mBuilding wheel for catboost \u001b[0m\u001b[1;32m(\u001b[0m\u001b[32mpyproject.toml\u001b[0m\u001b[1;32m)\u001b[0m did not run successfully.\n",
      "  \u001b[31m│\u001b[0m exit code: \u001b[1;36m1\u001b[0m\n",
      "  \u001b[31m╰─>\u001b[0m \u001b[31m[39 lines of output]\u001b[0m\n",
      "  \u001b[31m   \u001b[0m running bdist_wheel\n",
      "  \u001b[31m   \u001b[0m running build\n",
      "  \u001b[31m   \u001b[0m running build_py\n",
      "  \u001b[31m   \u001b[0m creating build\n",
      "  \u001b[31m   \u001b[0m creating build/lib.macosx-10.9-x86_64-cpython-311\n",
      "  \u001b[31m   \u001b[0m creating build/lib.macosx-10.9-x86_64-cpython-311/catboost\n",
      "  \u001b[31m   \u001b[0m copying catboost/monoforest.py -> build/lib.macosx-10.9-x86_64-cpython-311/catboost\n",
      "  \u001b[31m   \u001b[0m copying catboost/plot_helpers.py -> build/lib.macosx-10.9-x86_64-cpython-311/catboost\n",
      "  \u001b[31m   \u001b[0m copying catboost/metrics.py -> build/lib.macosx-10.9-x86_64-cpython-311/catboost\n",
      "  \u001b[31m   \u001b[0m copying catboost/version.py -> build/lib.macosx-10.9-x86_64-cpython-311/catboost\n",
      "  \u001b[31m   \u001b[0m copying catboost/text_processing.py -> build/lib.macosx-10.9-x86_64-cpython-311/catboost\n",
      "  \u001b[31m   \u001b[0m copying catboost/datasets.py -> build/lib.macosx-10.9-x86_64-cpython-311/catboost\n",
      "  \u001b[31m   \u001b[0m copying catboost/__init__.py -> build/lib.macosx-10.9-x86_64-cpython-311/catboost\n",
      "  \u001b[31m   \u001b[0m copying catboost/core.py -> build/lib.macosx-10.9-x86_64-cpython-311/catboost\n",
      "  \u001b[31m   \u001b[0m copying catboost/utils.py -> build/lib.macosx-10.9-x86_64-cpython-311/catboost\n",
      "  \u001b[31m   \u001b[0m copying catboost/dev_utils.py -> build/lib.macosx-10.9-x86_64-cpython-311/catboost\n",
      "  \u001b[31m   \u001b[0m creating build/lib.macosx-10.9-x86_64-cpython-311/catboost/widget\n",
      "  \u001b[31m   \u001b[0m copying catboost/widget/__init__.py -> build/lib.macosx-10.9-x86_64-cpython-311/catboost/widget\n",
      "  \u001b[31m   \u001b[0m copying catboost/widget/metrics_plotter.py -> build/lib.macosx-10.9-x86_64-cpython-311/catboost/widget\n",
      "  \u001b[31m   \u001b[0m copying catboost/widget/ipythonwidget.py -> build/lib.macosx-10.9-x86_64-cpython-311/catboost/widget\n",
      "  \u001b[31m   \u001b[0m copying catboost/widget/callbacks.py -> build/lib.macosx-10.9-x86_64-cpython-311/catboost/widget\n",
      "  \u001b[31m   \u001b[0m creating build/lib.macosx-10.9-x86_64-cpython-311/catboost/eval\n",
      "  \u001b[31m   \u001b[0m copying catboost/eval/catboost_evaluation.py -> build/lib.macosx-10.9-x86_64-cpython-311/catboost/eval\n",
      "  \u001b[31m   \u001b[0m copying catboost/eval/_fold_model.py -> build/lib.macosx-10.9-x86_64-cpython-311/catboost/eval\n",
      "  \u001b[31m   \u001b[0m copying catboost/eval/_readers.py -> build/lib.macosx-10.9-x86_64-cpython-311/catboost/eval\n",
      "  \u001b[31m   \u001b[0m copying catboost/eval/log_config.py -> build/lib.macosx-10.9-x86_64-cpython-311/catboost/eval\n",
      "  \u001b[31m   \u001b[0m copying catboost/eval/_splitter.py -> build/lib.macosx-10.9-x86_64-cpython-311/catboost/eval\n",
      "  \u001b[31m   \u001b[0m copying catboost/eval/__init__.py -> build/lib.macosx-10.9-x86_64-cpython-311/catboost/eval\n",
      "  \u001b[31m   \u001b[0m copying catboost/eval/execution_case.py -> build/lib.macosx-10.9-x86_64-cpython-311/catboost/eval\n",
      "  \u001b[31m   \u001b[0m copying catboost/eval/_fold_storage.py -> build/lib.macosx-10.9-x86_64-cpython-311/catboost/eval\n",
      "  \u001b[31m   \u001b[0m copying catboost/eval/factor_utils.py -> build/lib.macosx-10.9-x86_64-cpython-311/catboost/eval\n",
      "  \u001b[31m   \u001b[0m copying catboost/eval/utils.py -> build/lib.macosx-10.9-x86_64-cpython-311/catboost/eval\n",
      "  \u001b[31m   \u001b[0m copying catboost/eval/evaluation_result.py -> build/lib.macosx-10.9-x86_64-cpython-311/catboost/eval\n",
      "  \u001b[31m   \u001b[0m copying catboost/eval/_fold_models_handler.py -> build/lib.macosx-10.9-x86_64-cpython-311/catboost/eval\n",
      "  \u001b[31m   \u001b[0m running build_ext\n",
      "  \u001b[31m   \u001b[0m Buildling _catboost with cmake and ninja\n",
      "  \u001b[31m   \u001b[0m target_platform=darwin-x86_64. Building targets _catboost with PIC\n",
      "  \u001b[31m   \u001b[0m Running \"cmake /private/var/folders/1_/hgb3xg852md0hqqs3ybwbsp40000gn/T/pip-install-lx_j8ugr/catboost_6eac66d872814d24afb70ec2b0460600/catboost_all_src -B /private/var/folders/1_/hgb3xg852md0hqqs3ybwbsp40000gn/T/pip-install-lx_j8ugr/catboost_6eac66d872814d24afb70ec2b0460600/build/temp.macosx-10.9-x86_64-cpython-311 -G Ninja -DCMAKE_BUILD_TYPE=Release -DCMAKE_TOOLCHAIN_FILE=/private/var/folders/1_/hgb3xg852md0hqqs3ybwbsp40000gn/T/pip-install-lx_j8ugr/catboost_6eac66d872814d24afb70ec2b0460600/catboost_all_src/build/toolchains/clang.toolchain --log-level=VERBOSE -DCMAKE_POSITION_INDEPENDENT_CODE=On -DCATBOOST_COMPONENTS=python-package -DCMAKE_OSX_DEPLOYMENT_TARGET=11.0 -DHAVE_CUDA=no -DPython3_ROOT_DIR=/Users/kirillkuznecov/opt/anaconda3/envs/ds_3114\"\n",
      "  \u001b[31m   \u001b[0m error: [Errno 2] No such file or directory: 'cmake'\n",
      "  \u001b[31m   \u001b[0m \u001b[31m[end of output]\u001b[0m\n",
      "  \n",
      "  \u001b[1;35mnote\u001b[0m: This error originates from a subprocess, and is likely not a problem with pip.\n",
      "\u001b[?25h\u001b[31m  ERROR: Failed building wheel for catboost\u001b[0m\u001b[31m\n",
      "\u001b[0mFailed to build catboost\n",
      "\u001b[31mERROR: Could not build wheels for catboost, which is required to install pyproject.toml-based projects\u001b[0m\u001b[31m\n",
      "\u001b[0m"
     ]
    }
   ],
   "source": [
    "!pip install catboost"
   ]
  },
  {
   "cell_type": "code",
   "execution_count": 60,
   "metadata": {},
   "outputs": [
    {
     "name": "stdout",
     "output_type": "stream",
     "text": [
      "Requirement already satisfied: xgboost in /Users/kirillkuznecov/opt/anaconda3/envs/ds_3114/lib/python3.11/site-packages (1.7.6)\n",
      "Requirement already satisfied: numpy in /Users/kirillkuznecov/opt/anaconda3/envs/ds_3114/lib/python3.11/site-packages (from xgboost) (1.25.0)\n",
      "Requirement already satisfied: scipy in /Users/kirillkuznecov/opt/anaconda3/envs/ds_3114/lib/python3.11/site-packages (from xgboost) (1.11.1)\n"
     ]
    }
   ],
   "source": [
    "!pip install xgboost"
   ]
  },
  {
   "cell_type": "code",
   "execution_count": 61,
   "metadata": {},
   "outputs": [
    {
     "name": "stdout",
     "output_type": "stream",
     "text": [
      "Requirement already satisfied: networkx in /Users/kirillkuznecov/opt/anaconda3/envs/ds_3114/lib/python3.11/site-packages (3.1)\n"
     ]
    }
   ],
   "source": [
    "!pip install networkx"
   ]
  },
  {
   "cell_type": "code",
   "execution_count": 62,
   "metadata": {},
   "outputs": [
    {
     "name": "stdout",
     "output_type": "stream",
     "text": [
      "Requirement already satisfied: cloudscraper in /Users/kirillkuznecov/opt/anaconda3/envs/ds_3114/lib/python3.11/site-packages (1.2.71)\n",
      "Requirement already satisfied: pyparsing>=2.4.7 in /Users/kirillkuznecov/opt/anaconda3/envs/ds_3114/lib/python3.11/site-packages (from cloudscraper) (3.0.9)\n",
      "Requirement already satisfied: requests>=2.9.2 in /Users/kirillkuznecov/opt/anaconda3/envs/ds_3114/lib/python3.11/site-packages (from cloudscraper) (2.31.0)\n",
      "Requirement already satisfied: requests-toolbelt>=0.9.1 in /Users/kirillkuznecov/opt/anaconda3/envs/ds_3114/lib/python3.11/site-packages (from cloudscraper) (1.0.0)\n",
      "Requirement already satisfied: charset-normalizer<4,>=2 in /Users/kirillkuznecov/opt/anaconda3/envs/ds_3114/lib/python3.11/site-packages (from requests>=2.9.2->cloudscraper) (3.2.0)\n",
      "Requirement already satisfied: idna<4,>=2.5 in /Users/kirillkuznecov/opt/anaconda3/envs/ds_3114/lib/python3.11/site-packages (from requests>=2.9.2->cloudscraper) (2.10)\n",
      "Requirement already satisfied: urllib3<3,>=1.21.1 in /Users/kirillkuznecov/opt/anaconda3/envs/ds_3114/lib/python3.11/site-packages (from requests>=2.9.2->cloudscraper) (1.26.16)\n",
      "Requirement already satisfied: certifi>=2017.4.17 in /Users/kirillkuznecov/opt/anaconda3/envs/ds_3114/lib/python3.11/site-packages (from requests>=2.9.2->cloudscraper) (2023.7.22)\n"
     ]
    }
   ],
   "source": [
    "!pip install cloudscraper"
   ]
  },
  {
   "cell_type": "code",
   "execution_count": 63,
   "metadata": {},
   "outputs": [
    {
     "name": "stdout",
     "output_type": "stream",
     "text": [
      "Requirement already satisfied: undetected-chromedriver in /Users/kirillkuznecov/opt/anaconda3/envs/ds_3114/lib/python3.11/site-packages (3.5.0)\n",
      "Requirement already satisfied: selenium>=4.9.0 in /Users/kirillkuznecov/opt/anaconda3/envs/ds_3114/lib/python3.11/site-packages (from undetected-chromedriver) (4.11.2)\n",
      "Requirement already satisfied: requests in /Users/kirillkuznecov/opt/anaconda3/envs/ds_3114/lib/python3.11/site-packages (from undetected-chromedriver) (2.31.0)\n",
      "Requirement already satisfied: websockets in /Users/kirillkuznecov/opt/anaconda3/envs/ds_3114/lib/python3.11/site-packages (from undetected-chromedriver) (11.0.3)\n",
      "Requirement already satisfied: urllib3[socks]<3,>=1.26 in /Users/kirillkuznecov/opt/anaconda3/envs/ds_3114/lib/python3.11/site-packages (from selenium>=4.9.0->undetected-chromedriver) (1.26.16)\n",
      "Requirement already satisfied: trio~=0.17 in /Users/kirillkuznecov/opt/anaconda3/envs/ds_3114/lib/python3.11/site-packages (from selenium>=4.9.0->undetected-chromedriver) (0.22.2)\n",
      "Requirement already satisfied: trio-websocket~=0.9 in /Users/kirillkuznecov/opt/anaconda3/envs/ds_3114/lib/python3.11/site-packages (from selenium>=4.9.0->undetected-chromedriver) (0.10.3)\n",
      "Requirement already satisfied: certifi>=2021.10.8 in /Users/kirillkuznecov/opt/anaconda3/envs/ds_3114/lib/python3.11/site-packages (from selenium>=4.9.0->undetected-chromedriver) (2023.7.22)\n",
      "Requirement already satisfied: charset-normalizer<4,>=2 in /Users/kirillkuznecov/opt/anaconda3/envs/ds_3114/lib/python3.11/site-packages (from requests->undetected-chromedriver) (3.2.0)\n",
      "Requirement already satisfied: idna<4,>=2.5 in /Users/kirillkuznecov/opt/anaconda3/envs/ds_3114/lib/python3.11/site-packages (from requests->undetected-chromedriver) (2.10)\n",
      "Requirement already satisfied: attrs>=20.1.0 in /Users/kirillkuznecov/opt/anaconda3/envs/ds_3114/lib/python3.11/site-packages (from trio~=0.17->selenium>=4.9.0->undetected-chromedriver) (23.1.0)\n",
      "Requirement already satisfied: sortedcontainers in /Users/kirillkuznecov/opt/anaconda3/envs/ds_3114/lib/python3.11/site-packages (from trio~=0.17->selenium>=4.9.0->undetected-chromedriver) (2.4.0)\n",
      "Requirement already satisfied: outcome in /Users/kirillkuznecov/opt/anaconda3/envs/ds_3114/lib/python3.11/site-packages (from trio~=0.17->selenium>=4.9.0->undetected-chromedriver) (1.2.0)\n",
      "Requirement already satisfied: sniffio in /Users/kirillkuznecov/opt/anaconda3/envs/ds_3114/lib/python3.11/site-packages (from trio~=0.17->selenium>=4.9.0->undetected-chromedriver) (1.3.0)\n",
      "Requirement already satisfied: exceptiongroup in /Users/kirillkuznecov/opt/anaconda3/envs/ds_3114/lib/python3.11/site-packages (from trio-websocket~=0.9->selenium>=4.9.0->undetected-chromedriver) (1.1.2)\n",
      "Requirement already satisfied: wsproto>=0.14 in /Users/kirillkuznecov/opt/anaconda3/envs/ds_3114/lib/python3.11/site-packages (from trio-websocket~=0.9->selenium>=4.9.0->undetected-chromedriver) (1.2.0)\n",
      "Requirement already satisfied: PySocks!=1.5.7,<2.0,>=1.5.6 in /Users/kirillkuznecov/opt/anaconda3/envs/ds_3114/lib/python3.11/site-packages (from urllib3[socks]<3,>=1.26->selenium>=4.9.0->undetected-chromedriver) (1.7.1)\n",
      "Requirement already satisfied: h11<1,>=0.9.0 in /Users/kirillkuznecov/opt/anaconda3/envs/ds_3114/lib/python3.11/site-packages (from wsproto>=0.14->trio-websocket~=0.9->selenium>=4.9.0->undetected-chromedriver) (0.9.0)\n"
     ]
    }
   ],
   "source": [
    "!pip install undetected-chromedriver"
   ]
  },
  {
   "cell_type": "code",
   "execution_count": 64,
   "metadata": {},
   "outputs": [
    {
     "name": "stdout",
     "output_type": "stream",
     "text": [
      "Requirement already satisfied: pmdarima in /Users/kirillkuznecov/opt/anaconda3/envs/ds_3114/lib/python3.11/site-packages (2.0.3)\n",
      "Requirement already satisfied: joblib>=0.11 in /Users/kirillkuznecov/opt/anaconda3/envs/ds_3114/lib/python3.11/site-packages (from pmdarima) (1.3.1)\n",
      "Requirement already satisfied: Cython!=0.29.18,!=0.29.31,>=0.29 in /Users/kirillkuznecov/opt/anaconda3/envs/ds_3114/lib/python3.11/site-packages (from pmdarima) (3.0.0)\n",
      "Requirement already satisfied: numpy>=1.21.2 in /Users/kirillkuznecov/opt/anaconda3/envs/ds_3114/lib/python3.11/site-packages (from pmdarima) (1.25.0)\n",
      "Requirement already satisfied: pandas>=0.19 in /Users/kirillkuznecov/opt/anaconda3/envs/ds_3114/lib/python3.11/site-packages (from pmdarima) (2.0.3)\n",
      "Requirement already satisfied: scikit-learn>=0.22 in /Users/kirillkuznecov/opt/anaconda3/envs/ds_3114/lib/python3.11/site-packages (from pmdarima) (1.3.0)\n",
      "Requirement already satisfied: scipy>=1.3.2 in /Users/kirillkuznecov/opt/anaconda3/envs/ds_3114/lib/python3.11/site-packages (from pmdarima) (1.11.1)\n",
      "Requirement already satisfied: statsmodels>=0.13.2 in /Users/kirillkuznecov/opt/anaconda3/envs/ds_3114/lib/python3.11/site-packages (from pmdarima) (0.14.0)\n",
      "Requirement already satisfied: urllib3 in /Users/kirillkuznecov/opt/anaconda3/envs/ds_3114/lib/python3.11/site-packages (from pmdarima) (1.26.16)\n",
      "Requirement already satisfied: setuptools!=50.0.0,>=38.6.0 in /Users/kirillkuznecov/opt/anaconda3/envs/ds_3114/lib/python3.11/site-packages (from pmdarima) (67.8.0)\n",
      "Requirement already satisfied: python-dateutil>=2.8.2 in /Users/kirillkuznecov/opt/anaconda3/envs/ds_3114/lib/python3.11/site-packages (from pandas>=0.19->pmdarima) (2.8.2)\n",
      "Requirement already satisfied: pytz>=2020.1 in /Users/kirillkuznecov/opt/anaconda3/envs/ds_3114/lib/python3.11/site-packages (from pandas>=0.19->pmdarima) (2023.3)\n",
      "Requirement already satisfied: tzdata>=2022.1 in /Users/kirillkuznecov/opt/anaconda3/envs/ds_3114/lib/python3.11/site-packages (from pandas>=0.19->pmdarima) (2023.3)\n",
      "Requirement already satisfied: threadpoolctl>=2.0.0 in /Users/kirillkuznecov/opt/anaconda3/envs/ds_3114/lib/python3.11/site-packages (from scikit-learn>=0.22->pmdarima) (3.2.0)\n",
      "Requirement already satisfied: patsy>=0.5.2 in /Users/kirillkuznecov/opt/anaconda3/envs/ds_3114/lib/python3.11/site-packages (from statsmodels>=0.13.2->pmdarima) (0.5.3)\n",
      "Requirement already satisfied: packaging>=21.3 in /Users/kirillkuznecov/opt/anaconda3/envs/ds_3114/lib/python3.11/site-packages (from statsmodels>=0.13.2->pmdarima) (23.1)\n",
      "Requirement already satisfied: six in /Users/kirillkuznecov/opt/anaconda3/envs/ds_3114/lib/python3.11/site-packages (from patsy>=0.5.2->statsmodels>=0.13.2->pmdarima) (1.16.0)\n"
     ]
    }
   ],
   "source": [
    "!pip install pmdarima"
   ]
  },
  {
   "cell_type": "code",
   "execution_count": null,
   "metadata": {},
   "outputs": [],
   "source": []
  }
 ],
 "metadata": {
  "kernelspec": {
   "display_name": "ds",
   "language": "python",
   "name": "python3"
  },
  "language_info": {
   "codemirror_mode": {
    "name": "ipython",
    "version": 3
   },
   "file_extension": ".py",
   "mimetype": "text/x-python",
   "name": "python",
   "nbconvert_exporter": "python",
   "pygments_lexer": "ipython3",
   "version": "3.11.4"
  },
  "orig_nbformat": 4,
  "vscode": {
   "interpreter": {
    "hash": "d40a6ae76423cf5fae73028028fb017d8630dd167584993d74bc99181da5a036"
   }
  }
 },
 "nbformat": 4,
 "nbformat_minor": 2
}
