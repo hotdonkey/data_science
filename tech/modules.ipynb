{
 "cells": [
  {
   "cell_type": "code",
   "execution_count": null,
   "metadata": {},
   "outputs": [],
   "source": [
    "!pip install numpy\n"
   ]
  },
  {
   "cell_type": "code",
   "execution_count": null,
   "metadata": {},
   "outputs": [],
   "source": [
    "!pip install pandas\n"
   ]
  },
  {
   "cell_type": "code",
   "execution_count": null,
   "metadata": {},
   "outputs": [],
   "source": [
    "!pip install matplotlib\n"
   ]
  },
  {
   "cell_type": "code",
   "execution_count": null,
   "metadata": {},
   "outputs": [],
   "source": [
    "!pip install seaborn\n"
   ]
  },
  {
   "cell_type": "code",
   "execution_count": null,
   "metadata": {},
   "outputs": [],
   "source": [
    "!pip install scipy\n"
   ]
  },
  {
   "cell_type": "code",
   "execution_count": null,
   "metadata": {},
   "outputs": [],
   "source": [
    "!pip install plotly\n"
   ]
  },
  {
   "cell_type": "code",
   "execution_count": null,
   "metadata": {},
   "outputs": [],
   "source": [
    "!pip install requests"
   ]
  },
  {
   "cell_type": "code",
   "execution_count": null,
   "metadata": {},
   "outputs": [],
   "source": [
    "!pip install bs4\n"
   ]
  },
  {
   "cell_type": "code",
   "execution_count": null,
   "metadata": {},
   "outputs": [],
   "source": [
    "!pip install selenium"
   ]
  },
  {
   "cell_type": "code",
   "execution_count": null,
   "metadata": {},
   "outputs": [],
   "source": [
    "!pip install scipy"
   ]
  },
  {
   "cell_type": "code",
   "execution_count": null,
   "metadata": {},
   "outputs": [],
   "source": [
    "!pip install gspread"
   ]
  },
  {
   "cell_type": "code",
   "execution_count": null,
   "metadata": {},
   "outputs": [],
   "source": [
    "!pip install oauth2client"
   ]
  },
  {
   "cell_type": "code",
   "execution_count": null,
   "metadata": {},
   "outputs": [],
   "source": [
    "!pip install df2gspread"
   ]
  },
  {
   "cell_type": "code",
   "execution_count": null,
   "metadata": {},
   "outputs": [],
   "source": [
    "!pip install openpyxl"
   ]
  },
  {
   "cell_type": "code",
   "execution_count": null,
   "metadata": {},
   "outputs": [],
   "source": [
    "!pip install lxml"
   ]
  },
  {
   "cell_type": "code",
   "execution_count": null,
   "metadata": {},
   "outputs": [],
   "source": [
    "!pip install statsmodels"
   ]
  },
  {
   "cell_type": "code",
   "execution_count": null,
   "metadata": {},
   "outputs": [],
   "source": [
    "!pip install sklearn"
   ]
  },
  {
   "cell_type": "code",
   "execution_count": null,
   "metadata": {},
   "outputs": [],
   "source": [
    "!pip install scikit-learn"
   ]
  },
  {
   "cell_type": "code",
   "execution_count": null,
   "metadata": {},
   "outputs": [],
   "source": [
    "!pip install html5lib"
   ]
  },
  {
   "cell_type": "code",
   "execution_count": null,
   "metadata": {},
   "outputs": [],
   "source": [
    "!pip install geopy"
   ]
  },
  {
   "cell_type": "code",
   "execution_count": null,
   "metadata": {},
   "outputs": [],
   "source": [
    "!pip install nltk"
   ]
  },
  {
   "cell_type": "code",
   "execution_count": null,
   "metadata": {},
   "outputs": [],
   "source": [
    "!pip install cloudscrape"
   ]
  },
  {
   "cell_type": "code",
   "execution_count": null,
   "metadata": {},
   "outputs": [],
   "source": [
    "!pip install afinn"
   ]
  },
  {
   "cell_type": "code",
   "execution_count": null,
   "metadata": {},
   "outputs": [],
   "source": [
    "!pip install pyspark"
   ]
  },
  {
   "cell_type": "code",
   "execution_count": null,
   "metadata": {},
   "outputs": [],
   "source": [
    "!pip install dostoevsky"
   ]
  },
  {
   "cell_type": "code",
   "execution_count": null,
   "metadata": {},
   "outputs": [],
   "source": [
    "!python -m dostoevsky download fasttext-social-network-model"
   ]
  },
  {
   "cell_type": "code",
   "execution_count": null,
   "metadata": {},
   "outputs": [],
   "source": [
    "!pip install langdetect"
   ]
  },
  {
   "cell_type": "code",
   "execution_count": null,
   "metadata": {},
   "outputs": [],
   "source": [
    "!pip install translators"
   ]
  },
  {
   "cell_type": "code",
   "execution_count": null,
   "metadata": {},
   "outputs": [],
   "source": [
    "!pip install translate"
   ]
  },
  {
   "cell_type": "code",
   "execution_count": null,
   "metadata": {},
   "outputs": [],
   "source": [
    "!pip install git+https://github.com/Cloudmersive/Cloudmersive.APIClient.Python.NLP.git"
   ]
  },
  {
   "cell_type": "code",
   "execution_count": null,
   "metadata": {},
   "outputs": [],
   "source": [
    "!pip install googletrans"
   ]
  },
  {
   "cell_type": "code",
   "execution_count": null,
   "metadata": {},
   "outputs": [],
   "source": [
    "!pip install pygoogletranslation"
   ]
  },
  {
   "cell_type": "code",
   "execution_count": null,
   "metadata": {},
   "outputs": [],
   "source": [
    "!pip install googletrans==3.1.0a0"
   ]
  },
  {
   "cell_type": "code",
   "execution_count": null,
   "metadata": {},
   "outputs": [],
   "source": [
    "!pip install spacy\n"
   ]
  },
  {
   "cell_type": "code",
   "execution_count": null,
   "metadata": {},
   "outputs": [],
   "source": [
    "!python -m spacy download ru_core_news_lg"
   ]
  },
  {
   "cell_type": "code",
   "execution_count": null,
   "metadata": {},
   "outputs": [],
   "source": [
    "!python -m spacy download ru_core_news_sm"
   ]
  },
  {
   "cell_type": "code",
   "execution_count": null,
   "metadata": {},
   "outputs": [],
   "source": [
    "!python -m spacy download ru_core_news_md"
   ]
  },
  {
   "cell_type": "code",
   "execution_count": null,
   "metadata": {},
   "outputs": [],
   "source": [
    "!python -m spacy download en_core_web_lg"
   ]
  },
  {
   "cell_type": "code",
   "execution_count": null,
   "metadata": {},
   "outputs": [],
   "source": [
    "!python -m spacy download en_core_web_sm"
   ]
  },
  {
   "cell_type": "code",
   "execution_count": null,
   "metadata": {},
   "outputs": [],
   "source": [
    "!pip install spacytextblob"
   ]
  },
  {
   "cell_type": "code",
   "execution_count": null,
   "metadata": {},
   "outputs": [],
   "source": [
    "!python -m textblob.download_corpora"
   ]
  },
  {
   "cell_type": "code",
   "execution_count": null,
   "metadata": {},
   "outputs": [],
   "source": [
    "!pip install naeval"
   ]
  },
  {
   "cell_type": "code",
   "execution_count": null,
   "metadata": {},
   "outputs": [],
   "source": [
    "!python -m pip install mitoinstaller\n",
    "!python -m mitoinstaller install"
   ]
  },
  {
   "cell_type": "code",
   "execution_count": null,
   "metadata": {},
   "outputs": [],
   "source": [
    "!pip install schedule"
   ]
  },
  {
   "cell_type": "code",
   "execution_count": null,
   "metadata": {},
   "outputs": [],
   "source": [
    "!pip install tqdm"
   ]
  },
  {
   "cell_type": "code",
   "execution_count": null,
   "metadata": {},
   "outputs": [],
   "source": [
    "!pip install clustergram"
   ]
  },
  {
   "cell_type": "code",
   "execution_count": null,
   "metadata": {},
   "outputs": [],
   "source": [
    "!pip install telethon"
   ]
  },
  {
   "cell_type": "code",
   "execution_count": null,
   "metadata": {},
   "outputs": [],
   "source": [
    "!pip install imbalanced-learn"
   ]
  },
  {
   "cell_type": "code",
   "execution_count": null,
   "metadata": {},
   "outputs": [],
   "source": [
    "!pip install geopandas\n"
   ]
  },
  {
   "cell_type": "code",
   "execution_count": null,
   "metadata": {},
   "outputs": [],
   "source": [
    "!pip install shapely"
   ]
  },
  {
   "cell_type": "code",
   "execution_count": null,
   "metadata": {},
   "outputs": [],
   "source": [
    "!pip install comet_ml"
   ]
  },
  {
   "cell_type": "code",
   "execution_count": null,
   "metadata": {},
   "outputs": [],
   "source": [
    "!pip install shutup"
   ]
  },
  {
   "cell_type": "code",
   "execution_count": null,
   "metadata": {},
   "outputs": [],
   "source": [
    "!pip install hyperopt"
   ]
  },
  {
   "cell_type": "code",
   "execution_count": null,
   "metadata": {},
   "outputs": [],
   "source": [
    "!pip install fastapi"
   ]
  },
  {
   "cell_type": "code",
   "execution_count": null,
   "metadata": {},
   "outputs": [],
   "source": [
    "!pip install \"unicorn[standart]\""
   ]
  },
  {
   "cell_type": "code",
   "execution_count": null,
   "metadata": {},
   "outputs": [],
   "source": [
    "!pip install python-telegram-bot"
   ]
  },
  {
   "cell_type": "code",
   "execution_count": null,
   "metadata": {},
   "outputs": [],
   "source": [
    "!pip install pyTelegramBotAPI"
   ]
  },
  {
   "cell_type": "code",
   "execution_count": null,
   "metadata": {},
   "outputs": [],
   "source": [
    "!pip install optuna"
   ]
  },
  {
   "cell_type": "code",
   "execution_count": null,
   "metadata": {},
   "outputs": [],
   "source": [
    "!pip install googletrans==4.0.0-rc1"
   ]
  },
  {
   "cell_type": "code",
   "execution_count": null,
   "metadata": {},
   "outputs": [],
   "source": [
    "!pip install google_trans_new"
   ]
  },
  {
   "cell_type": "code",
   "execution_count": null,
   "metadata": {},
   "outputs": [],
   "source": [
    "!pip install googletrans==3.1.0a0"
   ]
  },
  {
   "cell_type": "code",
   "execution_count": null,
   "metadata": {},
   "outputs": [],
   "source": [
    "!pip install joblib"
   ]
  },
  {
   "cell_type": "code",
   "execution_count": null,
   "metadata": {},
   "outputs": [],
   "source": [
    "!pip install yellowbrick"
   ]
  },
  {
   "cell_type": "code",
   "execution_count": null,
   "metadata": {},
   "outputs": [],
   "source": [
    "!pip install lazypredict\n"
   ]
  },
  {
   "cell_type": "code",
   "execution_count": null,
   "metadata": {},
   "outputs": [],
   "source": [
    "!pip install sympy"
   ]
  },
  {
   "cell_type": "code",
   "execution_count": null,
   "metadata": {},
   "outputs": [],
   "source": [
    "!pip install cvxpy"
   ]
  },
  {
   "cell_type": "code",
   "execution_count": null,
   "metadata": {},
   "outputs": [],
   "source": [
    "!pip install pulp"
   ]
  },
  {
   "cell_type": "code",
   "execution_count": null,
   "metadata": {},
   "outputs": [],
   "source": [
    "!pip install mahotas"
   ]
  },
  {
   "cell_type": "code",
   "execution_count": null,
   "metadata": {},
   "outputs": [],
   "source": [
    "!pip install curses"
   ]
  },
  {
   "cell_type": "code",
   "execution_count": null,
   "metadata": {},
   "outputs": [],
   "source": [
    "!pip install graphviz"
   ]
  },
  {
   "cell_type": "code",
   "execution_count": null,
   "metadata": {},
   "outputs": [],
   "source": [
    "!pip install six"
   ]
  },
  {
   "cell_type": "code",
   "execution_count": null,
   "metadata": {},
   "outputs": [],
   "source": [
    "!pip install catboost"
   ]
  },
  {
   "cell_type": "code",
   "execution_count": null,
   "metadata": {},
   "outputs": [],
   "source": [
    "!pip install xgboost"
   ]
  },
  {
   "cell_type": "code",
   "execution_count": null,
   "metadata": {},
   "outputs": [],
   "source": [
    "!pip install networkx"
   ]
  },
  {
   "cell_type": "code",
   "execution_count": null,
   "metadata": {},
   "outputs": [],
   "source": [
    "!pip install cloudscraper"
   ]
  },
  {
   "cell_type": "code",
   "execution_count": null,
   "metadata": {},
   "outputs": [],
   "source": [
    "!pip install undetected-chromedriver"
   ]
  },
  {
   "cell_type": "code",
   "execution_count": null,
   "metadata": {},
   "outputs": [],
   "source": [
    "!pip install pmdarima"
   ]
  },
  {
   "cell_type": "code",
   "execution_count": null,
   "metadata": {},
   "outputs": [],
   "source": [
    "!pip install arch"
   ]
  },
  {
   "cell_type": "code",
   "execution_count": null,
   "metadata": {},
   "outputs": [],
   "source": [
    "!pip install prophet"
   ]
  },
  {
   "cell_type": "code",
   "execution_count": null,
   "metadata": {},
   "outputs": [],
   "source": [
    "!pip install neuralprophet"
   ]
  },
  {
   "cell_type": "code",
   "execution_count": null,
   "metadata": {},
   "outputs": [],
   "source": [
    "!pip install undetected-chromedriver"
   ]
  },
  {
   "cell_type": "code",
   "execution_count": null,
   "metadata": {},
   "outputs": [],
   "source": [
    "!pip install cute_ranking"
   ]
  },
  {
   "cell_type": "code",
   "execution_count": null,
   "metadata": {},
   "outputs": [],
   "source": [
    "!pip install scikit-surprise"
   ]
  },
  {
   "cell_type": "code",
   "execution_count": 1,
   "metadata": {},
   "outputs": [
    {
     "name": "stdout",
     "output_type": "stream",
     "text": [
      "Collecting lightfm\n",
      "  Using cached lightfm-1.17.tar.gz (316 kB)\n",
      "  Preparing metadata (setup.py) ... \u001b[?25ldone\n",
      "\u001b[?25hRequirement already satisfied: numpy in /Users/kirillkuznecov/anaconda3/envs/ds_tensorflow/lib/python3.11/site-packages (from lightfm) (1.23.5)\n",
      "Requirement already satisfied: scipy>=0.17.0 in /Users/kirillkuznecov/anaconda3/envs/ds_tensorflow/lib/python3.11/site-packages (from lightfm) (1.11.1)\n",
      "Requirement already satisfied: requests in /Users/kirillkuznecov/anaconda3/envs/ds_tensorflow/lib/python3.11/site-packages (from lightfm) (2.31.0)\n",
      "Requirement already satisfied: scikit-learn in /Users/kirillkuznecov/anaconda3/envs/ds_tensorflow/lib/python3.11/site-packages (from lightfm) (1.3.0)\n",
      "Requirement already satisfied: charset-normalizer<4,>=2 in /Users/kirillkuznecov/anaconda3/envs/ds_tensorflow/lib/python3.11/site-packages (from requests->lightfm) (2.0.4)\n",
      "Requirement already satisfied: idna<4,>=2.5 in /Users/kirillkuznecov/anaconda3/envs/ds_tensorflow/lib/python3.11/site-packages (from requests->lightfm) (3.4)\n",
      "Requirement already satisfied: urllib3<3,>=1.21.1 in /Users/kirillkuznecov/anaconda3/envs/ds_tensorflow/lib/python3.11/site-packages (from requests->lightfm) (1.26.16)\n",
      "Requirement already satisfied: certifi>=2017.4.17 in /Users/kirillkuznecov/anaconda3/envs/ds_tensorflow/lib/python3.11/site-packages (from requests->lightfm) (2023.7.22)\n",
      "Requirement already satisfied: joblib>=1.1.1 in /Users/kirillkuznecov/anaconda3/envs/ds_tensorflow/lib/python3.11/site-packages (from scikit-learn->lightfm) (1.3.2)\n",
      "Requirement already satisfied: threadpoolctl>=2.0.0 in /Users/kirillkuznecov/anaconda3/envs/ds_tensorflow/lib/python3.11/site-packages (from scikit-learn->lightfm) (3.2.0)\n",
      "Building wheels for collected packages: lightfm\n",
      "  Building wheel for lightfm (setup.py) ... \u001b[?25lerror\n",
      "  \u001b[1;31merror\u001b[0m: \u001b[1msubprocess-exited-with-error\u001b[0m\n",
      "  \n",
      "  \u001b[31m×\u001b[0m \u001b[32mpython setup.py bdist_wheel\u001b[0m did not run successfully.\n",
      "  \u001b[31m│\u001b[0m exit code: \u001b[1;36m1\u001b[0m\n",
      "  \u001b[31m╰─>\u001b[0m \u001b[31m[110 lines of output]\u001b[0m\n",
      "  \u001b[31m   \u001b[0m Compiling without OpenMP support.\n",
      "  \u001b[31m   \u001b[0m /Users/kirillkuznecov/anaconda3/envs/ds_tensorflow/lib/python3.11/site-packages/setuptools/dist.py:745: SetuptoolsDeprecationWarning: Invalid dash-separated options\n",
      "  \u001b[31m   \u001b[0m !!\n",
      "  \u001b[31m   \u001b[0m \n",
      "  \u001b[31m   \u001b[0m         ********************************************************************************\n",
      "  \u001b[31m   \u001b[0m         Usage of dash-separated 'description-file' will not be supported in future\n",
      "  \u001b[31m   \u001b[0m         versions. Please use the underscore name 'description_file' instead.\n",
      "  \u001b[31m   \u001b[0m \n",
      "  \u001b[31m   \u001b[0m         By 2023-Sep-26, you need to update your project and remove deprecated calls\n",
      "  \u001b[31m   \u001b[0m         or your builds will no longer be supported.\n",
      "  \u001b[31m   \u001b[0m \n",
      "  \u001b[31m   \u001b[0m         See https://setuptools.pypa.io/en/latest/userguide/declarative_config.html for details.\n",
      "  \u001b[31m   \u001b[0m         ********************************************************************************\n",
      "  \u001b[31m   \u001b[0m \n",
      "  \u001b[31m   \u001b[0m !!\n",
      "  \u001b[31m   \u001b[0m   opt = self.warn_dash_deprecation(opt, section)\n",
      "  \u001b[31m   \u001b[0m running bdist_wheel\n",
      "  \u001b[31m   \u001b[0m running build\n",
      "  \u001b[31m   \u001b[0m running build_py\n",
      "  \u001b[31m   \u001b[0m creating build\n",
      "  \u001b[31m   \u001b[0m creating build/lib.macosx-11.1-arm64-cpython-311\n",
      "  \u001b[31m   \u001b[0m creating build/lib.macosx-11.1-arm64-cpython-311/lightfm\n",
      "  \u001b[31m   \u001b[0m copying lightfm/lightfm.py -> build/lib.macosx-11.1-arm64-cpython-311/lightfm\n",
      "  \u001b[31m   \u001b[0m copying lightfm/evaluation.py -> build/lib.macosx-11.1-arm64-cpython-311/lightfm\n",
      "  \u001b[31m   \u001b[0m copying lightfm/__init__.py -> build/lib.macosx-11.1-arm64-cpython-311/lightfm\n",
      "  \u001b[31m   \u001b[0m copying lightfm/_lightfm_fast.py -> build/lib.macosx-11.1-arm64-cpython-311/lightfm\n",
      "  \u001b[31m   \u001b[0m copying lightfm/data.py -> build/lib.macosx-11.1-arm64-cpython-311/lightfm\n",
      "  \u001b[31m   \u001b[0m copying lightfm/cross_validation.py -> build/lib.macosx-11.1-arm64-cpython-311/lightfm\n",
      "  \u001b[31m   \u001b[0m creating build/lib.macosx-11.1-arm64-cpython-311/lightfm/datasets\n",
      "  \u001b[31m   \u001b[0m copying lightfm/datasets/_common.py -> build/lib.macosx-11.1-arm64-cpython-311/lightfm/datasets\n",
      "  \u001b[31m   \u001b[0m copying lightfm/datasets/__init__.py -> build/lib.macosx-11.1-arm64-cpython-311/lightfm/datasets\n",
      "  \u001b[31m   \u001b[0m copying lightfm/datasets/movielens.py -> build/lib.macosx-11.1-arm64-cpython-311/lightfm/datasets\n",
      "  \u001b[31m   \u001b[0m copying lightfm/datasets/stackexchange.py -> build/lib.macosx-11.1-arm64-cpython-311/lightfm/datasets\n",
      "  \u001b[31m   \u001b[0m copying lightfm/_lightfm_fast_no_openmp.c -> build/lib.macosx-11.1-arm64-cpython-311/lightfm\n",
      "  \u001b[31m   \u001b[0m copying lightfm/_lightfm_fast_openmp.c -> build/lib.macosx-11.1-arm64-cpython-311/lightfm\n",
      "  \u001b[31m   \u001b[0m running build_ext\n",
      "  \u001b[31m   \u001b[0m building 'lightfm._lightfm_fast_no_openmp' extension\n",
      "  \u001b[31m   \u001b[0m creating build/temp.macosx-11.1-arm64-cpython-311\n",
      "  \u001b[31m   \u001b[0m creating build/temp.macosx-11.1-arm64-cpython-311/lightfm\n",
      "  \u001b[31m   \u001b[0m clang -DNDEBUG -fwrapv -O2 -Wall -fPIC -O2 -isystem /Users/kirillkuznecov/anaconda3/envs/ds_tensorflow/include -arch arm64 -fPIC -O2 -isystem /Users/kirillkuznecov/anaconda3/envs/ds_tensorflow/include -arch arm64 -I/Users/kirillkuznecov/anaconda3/envs/ds_tensorflow/include/python3.11 -c lightfm/_lightfm_fast_no_openmp.c -o build/temp.macosx-11.1-arm64-cpython-311/lightfm/_lightfm_fast_no_openmp.o -ffast-math\n",
      "  \u001b[31m   \u001b[0m clang -bundle -undefined dynamic_lookup -Wl,-rpath,/Users/kirillkuznecov/anaconda3/envs/ds_tensorflow/lib -L/Users/kirillkuznecov/anaconda3/envs/ds_tensorflow/lib -Wl,-rpath,/Users/kirillkuznecov/anaconda3/envs/ds_tensorflow/lib -L/Users/kirillkuznecov/anaconda3/envs/ds_tensorflow/lib build/temp.macosx-11.1-arm64-cpython-311/lightfm/_lightfm_fast_no_openmp.o -o build/lib.macosx-11.1-arm64-cpython-311/lightfm/_lightfm_fast_no_openmp.cpython-311-darwin.so\n",
      "  \u001b[31m   \u001b[0m /Users/kirillkuznecov/anaconda3/envs/ds_tensorflow/lib/python3.11/site-packages/setuptools/_distutils/cmd.py:66: SetuptoolsDeprecationWarning: setup.py install is deprecated.\n",
      "  \u001b[31m   \u001b[0m !!\n",
      "  \u001b[31m   \u001b[0m \n",
      "  \u001b[31m   \u001b[0m         ********************************************************************************\n",
      "  \u001b[31m   \u001b[0m         Please avoid running ``setup.py`` directly.\n",
      "  \u001b[31m   \u001b[0m         Instead, use pypa/build, pypa/installer or other\n",
      "  \u001b[31m   \u001b[0m         standards-based tools.\n",
      "  \u001b[31m   \u001b[0m \n",
      "  \u001b[31m   \u001b[0m         See https://blog.ganssle.io/articles/2021/10/setup-py-deprecated.html for details.\n",
      "  \u001b[31m   \u001b[0m         ********************************************************************************\n",
      "  \u001b[31m   \u001b[0m \n",
      "  \u001b[31m   \u001b[0m !!\n",
      "  \u001b[31m   \u001b[0m   self.initialize_options()\n",
      "  \u001b[31m   \u001b[0m installing to build/bdist.macosx-11.1-arm64/wheel\n",
      "  \u001b[31m   \u001b[0m running install\n",
      "  \u001b[31m   \u001b[0m running install_lib\n",
      "  \u001b[31m   \u001b[0m creating build/bdist.macosx-11.1-arm64\n",
      "  \u001b[31m   \u001b[0m creating build/bdist.macosx-11.1-arm64/wheel\n",
      "  \u001b[31m   \u001b[0m creating build/bdist.macosx-11.1-arm64/wheel/lightfm\n",
      "  \u001b[31m   \u001b[0m copying build/lib.macosx-11.1-arm64-cpython-311/lightfm/lightfm.py -> build/bdist.macosx-11.1-arm64/wheel/lightfm\n",
      "  \u001b[31m   \u001b[0m copying build/lib.macosx-11.1-arm64-cpython-311/lightfm/_lightfm_fast_no_openmp.c -> build/bdist.macosx-11.1-arm64/wheel/lightfm\n",
      "  \u001b[31m   \u001b[0m copying build/lib.macosx-11.1-arm64-cpython-311/lightfm/evaluation.py -> build/bdist.macosx-11.1-arm64/wheel/lightfm\n",
      "  \u001b[31m   \u001b[0m creating build/bdist.macosx-11.1-arm64/wheel/lightfm/datasets\n",
      "  \u001b[31m   \u001b[0m copying build/lib.macosx-11.1-arm64-cpython-311/lightfm/datasets/_common.py -> build/bdist.macosx-11.1-arm64/wheel/lightfm/datasets\n",
      "  \u001b[31m   \u001b[0m copying build/lib.macosx-11.1-arm64-cpython-311/lightfm/datasets/__init__.py -> build/bdist.macosx-11.1-arm64/wheel/lightfm/datasets\n",
      "  \u001b[31m   \u001b[0m copying build/lib.macosx-11.1-arm64-cpython-311/lightfm/datasets/movielens.py -> build/bdist.macosx-11.1-arm64/wheel/lightfm/datasets\n",
      "  \u001b[31m   \u001b[0m copying build/lib.macosx-11.1-arm64-cpython-311/lightfm/datasets/stackexchange.py -> build/bdist.macosx-11.1-arm64/wheel/lightfm/datasets\n",
      "  \u001b[31m   \u001b[0m copying build/lib.macosx-11.1-arm64-cpython-311/lightfm/__init__.py -> build/bdist.macosx-11.1-arm64/wheel/lightfm\n",
      "  \u001b[31m   \u001b[0m copying build/lib.macosx-11.1-arm64-cpython-311/lightfm/_lightfm_fast_openmp.c -> build/bdist.macosx-11.1-arm64/wheel/lightfm\n",
      "  \u001b[31m   \u001b[0m copying build/lib.macosx-11.1-arm64-cpython-311/lightfm/_lightfm_fast_no_openmp.cpython-311-darwin.so -> build/bdist.macosx-11.1-arm64/wheel/lightfm\n",
      "  \u001b[31m   \u001b[0m copying build/lib.macosx-11.1-arm64-cpython-311/lightfm/_lightfm_fast.py -> build/bdist.macosx-11.1-arm64/wheel/lightfm\n",
      "  \u001b[31m   \u001b[0m copying build/lib.macosx-11.1-arm64-cpython-311/lightfm/data.py -> build/bdist.macosx-11.1-arm64/wheel/lightfm\n",
      "  \u001b[31m   \u001b[0m copying build/lib.macosx-11.1-arm64-cpython-311/lightfm/cross_validation.py -> build/bdist.macosx-11.1-arm64/wheel/lightfm\n",
      "  \u001b[31m   \u001b[0m running install_egg_info\n",
      "  \u001b[31m   \u001b[0m running egg_info\n",
      "  \u001b[31m   \u001b[0m writing lightfm.egg-info/PKG-INFO\n",
      "  \u001b[31m   \u001b[0m writing dependency_links to lightfm.egg-info/dependency_links.txt\n",
      "  \u001b[31m   \u001b[0m writing requirements to lightfm.egg-info/requires.txt\n",
      "  \u001b[31m   \u001b[0m writing top-level names to lightfm.egg-info/top_level.txt\n",
      "  \u001b[31m   \u001b[0m reading manifest file 'lightfm.egg-info/SOURCES.txt'\n",
      "  \u001b[31m   \u001b[0m writing manifest file 'lightfm.egg-info/SOURCES.txt'\n",
      "  \u001b[31m   \u001b[0m Copying lightfm.egg-info to build/bdist.macosx-11.1-arm64/wheel/lightfm-1.17-py3.11.egg-info\n",
      "  \u001b[31m   \u001b[0m running install_scripts\n",
      "  \u001b[31m   \u001b[0m Traceback (most recent call last):\n",
      "  \u001b[31m   \u001b[0m   File \"<string>\", line 2, in <module>\n",
      "  \u001b[31m   \u001b[0m   File \"<pip-setuptools-caller>\", line 34, in <module>\n",
      "  \u001b[31m   \u001b[0m   File \"/private/var/folders/1_/hgb3xg852md0hqqs3ybwbsp40000gn/T/pip-install-elwn7evu/lightfm_bc8ebadb29074b6eaf17383a0d361a5b/setup.py\", line 160, in <module>\n",
      "  \u001b[31m   \u001b[0m     setup(\n",
      "  \u001b[31m   \u001b[0m   File \"/Users/kirillkuznecov/anaconda3/envs/ds_tensorflow/lib/python3.11/site-packages/setuptools/__init__.py\", line 107, in setup\n",
      "  \u001b[31m   \u001b[0m     return distutils.core.setup(**attrs)\n",
      "  \u001b[31m   \u001b[0m            ^^^^^^^^^^^^^^^^^^^^^^^^^^^^^\n",
      "  \u001b[31m   \u001b[0m   File \"/Users/kirillkuznecov/anaconda3/envs/ds_tensorflow/lib/python3.11/site-packages/setuptools/_distutils/core.py\", line 185, in setup\n",
      "  \u001b[31m   \u001b[0m     return run_commands(dist)\n",
      "  \u001b[31m   \u001b[0m            ^^^^^^^^^^^^^^^^^^\n",
      "  \u001b[31m   \u001b[0m   File \"/Users/kirillkuznecov/anaconda3/envs/ds_tensorflow/lib/python3.11/site-packages/setuptools/_distutils/core.py\", line 201, in run_commands\n",
      "  \u001b[31m   \u001b[0m     dist.run_commands()\n",
      "  \u001b[31m   \u001b[0m   File \"/Users/kirillkuznecov/anaconda3/envs/ds_tensorflow/lib/python3.11/site-packages/setuptools/_distutils/dist.py\", line 969, in run_commands\n",
      "  \u001b[31m   \u001b[0m     self.run_command(cmd)\n",
      "  \u001b[31m   \u001b[0m   File \"/Users/kirillkuznecov/anaconda3/envs/ds_tensorflow/lib/python3.11/site-packages/setuptools/dist.py\", line 1234, in run_command\n",
      "  \u001b[31m   \u001b[0m     super().run_command(command)\n",
      "  \u001b[31m   \u001b[0m   File \"/Users/kirillkuznecov/anaconda3/envs/ds_tensorflow/lib/python3.11/site-packages/setuptools/_distutils/dist.py\", line 988, in run_command\n",
      "  \u001b[31m   \u001b[0m     cmd_obj.run()\n",
      "  \u001b[31m   \u001b[0m   File \"/Users/kirillkuznecov/anaconda3/envs/ds_tensorflow/lib/python3.11/site-packages/wheel/bdist_wheel.py\", line 328, in run\n",
      "  \u001b[31m   \u001b[0m     impl_tag, abi_tag, plat_tag = self.get_tag()\n",
      "  \u001b[31m   \u001b[0m                                   ^^^^^^^^^^^^^^\n",
      "  \u001b[31m   \u001b[0m   File \"/Users/kirillkuznecov/anaconda3/envs/ds_tensorflow/lib/python3.11/site-packages/wheel/bdist_wheel.py\", line 278, in get_tag\n",
      "  \u001b[31m   \u001b[0m     assert tag in supported_tags, \"would build wheel with unsupported tag {}\".format(tag)\n",
      "  \u001b[31m   \u001b[0m            ^^^^^^^^^^^^^^^^^^^^^\n",
      "  \u001b[31m   \u001b[0m AssertionError: would build wheel with unsupported tag ('cp311', 'cp311', 'macosx_11_1_arm64')\n",
      "  \u001b[31m   \u001b[0m \u001b[31m[end of output]\u001b[0m\n",
      "  \n",
      "  \u001b[1;35mnote\u001b[0m: This error originates from a subprocess, and is likely not a problem with pip.\n",
      "\u001b[31m  ERROR: Failed building wheel for lightfm\u001b[0m\u001b[31m\n",
      "\u001b[0m\u001b[?25h  Running setup.py clean for lightfm\n",
      "Failed to build lightfm\n",
      "\u001b[31mERROR: Could not build wheels for lightfm, which is required to install pyproject.toml-based projects\u001b[0m\u001b[31m\n",
      "\u001b[0m"
     ]
    }
   ],
   "source": [
    "!pip install lightfm"
   ]
  },
  {
   "cell_type": "code",
   "execution_count": null,
   "metadata": {},
   "outputs": [],
   "source": [
    "!pip install tensorflow"
   ]
  },
  {
   "cell_type": "code",
   "execution_count": 1,
   "metadata": {},
   "outputs": [
    {
     "name": "stdout",
     "output_type": "stream",
     "text": [
      "Collecting mlxtend\n",
      "  Using cached mlxtend-0.22.0-py2.py3-none-any.whl (1.4 MB)\n",
      "Requirement already satisfied: scipy>=1.2.1 in /Users/kirillkuznecov/opt/anaconda3/envs/ds/lib/python3.11/site-packages (from mlxtend) (1.10.0)\n",
      "Requirement already satisfied: numpy>=1.16.2 in /Users/kirillkuznecov/opt/anaconda3/envs/ds/lib/python3.11/site-packages (from mlxtend) (1.24.3)\n",
      "Requirement already satisfied: pandas>=0.24.2 in /Users/kirillkuznecov/opt/anaconda3/envs/ds/lib/python3.11/site-packages (from mlxtend) (1.5.3)\n",
      "Requirement already satisfied: scikit-learn>=1.0.2 in /Users/kirillkuznecov/opt/anaconda3/envs/ds/lib/python3.11/site-packages (from mlxtend) (1.2.1)\n",
      "Requirement already satisfied: matplotlib>=3.0.0 in /Users/kirillkuznecov/opt/anaconda3/envs/ds/lib/python3.11/site-packages (from mlxtend) (3.6.3)\n",
      "Requirement already satisfied: joblib>=0.13.2 in /Users/kirillkuznecov/opt/anaconda3/envs/ds/lib/python3.11/site-packages (from mlxtend) (1.2.0)\n",
      "Requirement already satisfied: setuptools in /Users/kirillkuznecov/opt/anaconda3/envs/ds/lib/python3.11/site-packages (from mlxtend) (67.8.0)\n",
      "Requirement already satisfied: contourpy>=1.0.1 in /Users/kirillkuznecov/opt/anaconda3/envs/ds/lib/python3.11/site-packages (from matplotlib>=3.0.0->mlxtend) (1.0.7)\n",
      "Requirement already satisfied: cycler>=0.10 in /Users/kirillkuznecov/opt/anaconda3/envs/ds/lib/python3.11/site-packages (from matplotlib>=3.0.0->mlxtend) (0.11.0)\n",
      "Requirement already satisfied: fonttools>=4.22.0 in /Users/kirillkuznecov/opt/anaconda3/envs/ds/lib/python3.11/site-packages (from matplotlib>=3.0.0->mlxtend) (4.38.0)\n",
      "Requirement already satisfied: kiwisolver>=1.0.1 in /Users/kirillkuznecov/opt/anaconda3/envs/ds/lib/python3.11/site-packages (from matplotlib>=3.0.0->mlxtend) (1.4.4)\n",
      "Requirement already satisfied: packaging>=20.0 in /Users/kirillkuznecov/opt/anaconda3/envs/ds/lib/python3.11/site-packages (from matplotlib>=3.0.0->mlxtend) (23.0)\n",
      "Requirement already satisfied: pillow>=6.2.0 in /Users/kirillkuznecov/opt/anaconda3/envs/ds/lib/python3.11/site-packages (from matplotlib>=3.0.0->mlxtend) (9.4.0)\n",
      "Requirement already satisfied: pyparsing>=2.2.1 in /Users/kirillkuznecov/opt/anaconda3/envs/ds/lib/python3.11/site-packages (from matplotlib>=3.0.0->mlxtend) (3.0.9)\n",
      "Requirement already satisfied: python-dateutil>=2.7 in /Users/kirillkuznecov/opt/anaconda3/envs/ds/lib/python3.11/site-packages (from matplotlib>=3.0.0->mlxtend) (2.8.2)\n",
      "Requirement already satisfied: pytz>=2020.1 in /Users/kirillkuznecov/opt/anaconda3/envs/ds/lib/python3.11/site-packages (from pandas>=0.24.2->mlxtend) (2022.7.1)\n",
      "Requirement already satisfied: threadpoolctl>=2.0.0 in /Users/kirillkuznecov/opt/anaconda3/envs/ds/lib/python3.11/site-packages (from scikit-learn>=1.0.2->mlxtend) (3.1.0)\n",
      "Requirement already satisfied: six>=1.5 in /Users/kirillkuznecov/opt/anaconda3/envs/ds/lib/python3.11/site-packages (from python-dateutil>=2.7->matplotlib>=3.0.0->mlxtend) (1.16.0)\n",
      "Installing collected packages: mlxtend\n",
      "Successfully installed mlxtend-0.22.0\n"
     ]
    }
   ],
   "source": [
    "!pip install mlxtend"
   ]
  },
  {
   "cell_type": "code",
   "execution_count": null,
   "metadata": {},
   "outputs": [],
   "source": []
  }
 ],
 "metadata": {
  "kernelspec": {
   "display_name": "ds",
   "language": "python",
   "name": "python3"
  },
  "language_info": {
   "codemirror_mode": {
    "name": "ipython",
    "version": 3
   },
   "file_extension": ".py",
   "mimetype": "text/x-python",
   "name": "python",
   "nbconvert_exporter": "python",
   "pygments_lexer": "ipython3",
   "version": "3.11.4"
  },
  "orig_nbformat": 4,
  "vscode": {
   "interpreter": {
    "hash": "d40a6ae76423cf5fae73028028fb017d8630dd167584993d74bc99181da5a036"
   }
  }
 },
 "nbformat": 4,
 "nbformat_minor": 2
}
