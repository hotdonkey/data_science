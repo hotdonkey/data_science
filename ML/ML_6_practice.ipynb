{
 "cells": [
  {
   "cell_type": "code",
   "execution_count": 1,
   "metadata": {},
   "outputs": [],
   "source": [
    "import numpy as np\n",
    "import pandas as pd\n",
    "import matplotlib.pyplot as plt\n",
    "import seaborn as sns\n",
    "\n",
    "from sklearn import linear_model\n",
    "from sklearn import metrics\n",
    "from sklearn.model_selection import train_test_split\n",
    "from sklearn.preprocessing import OrdinalEncoder\n",
    "from sklearn.preprocessing import OneHotEncoder\n",
    "from sklearn.preprocessing import StandardScaler\n",
    "from sklearn.preprocessing import PolynomialFeatures\n",
    "\n",
    "\n",
    "from sklearn.feature_selection import RFE\n",
    "from sklearn.feature_selection import SelectKBest, f_regression\n",
    "\n",
    "\n",
    "from sklearn.feature_selection import RFE\n"
   ]
  },
  {
   "cell_type": "code",
   "execution_count": 2,
   "metadata": {},
   "outputs": [
    {
     "data": {
      "text/html": [
       "<div><div id=702a92da-83bd-4be3-89a5-c9b8c6eb7ff6 style=\"display:none; background-color:#9D6CFF; color:white; width:200px; height:30px; padding-left:5px; border-radius:4px; flex-direction:row; justify-content:space-around; align-items:center;\" onmouseover=\"this.style.backgroundColor='#BA9BF8'\" onmouseout=\"this.style.backgroundColor='#9D6CFF'\" onclick=\"window.commands?.execute('create-mitosheet-from-dataframe-output');\">See Full Dataframe in Mito</div> <script> if (window.commands?.hasCommand('create-mitosheet-from-dataframe-output')) document.getElementById('702a92da-83bd-4be3-89a5-c9b8c6eb7ff6').style.display = 'flex' </script> <table border=\"1\" class=\"dataframe\">\n",
       "  <thead>\n",
       "    <tr style=\"text-align: right;\">\n",
       "      <th></th>\n",
       "      <th>price</th>\n",
       "      <th>year</th>\n",
       "      <th>condition</th>\n",
       "      <th>cylinders</th>\n",
       "      <th>odometer</th>\n",
       "      <th>title_status</th>\n",
       "      <th>transmission</th>\n",
       "      <th>drive</th>\n",
       "      <th>size</th>\n",
       "      <th>lat</th>\n",
       "      <th>long</th>\n",
       "      <th>weather</th>\n",
       "    </tr>\n",
       "  </thead>\n",
       "  <tbody>\n",
       "    <tr>\n",
       "      <th>0</th>\n",
       "      <td>43900</td>\n",
       "      <td>2016</td>\n",
       "      <td>4</td>\n",
       "      <td>6</td>\n",
       "      <td>43500</td>\n",
       "      <td>clean</td>\n",
       "      <td>automatic</td>\n",
       "      <td>4wd</td>\n",
       "      <td>full-size</td>\n",
       "      <td>36.471500</td>\n",
       "      <td>-82.483400</td>\n",
       "      <td>59.0</td>\n",
       "    </tr>\n",
       "    <tr>\n",
       "      <th>1</th>\n",
       "      <td>15490</td>\n",
       "      <td>2009</td>\n",
       "      <td>2</td>\n",
       "      <td>8</td>\n",
       "      <td>98131</td>\n",
       "      <td>clean</td>\n",
       "      <td>automatic</td>\n",
       "      <td>4wd</td>\n",
       "      <td>full-size</td>\n",
       "      <td>40.468826</td>\n",
       "      <td>-74.281734</td>\n",
       "      <td>52.0</td>\n",
       "    </tr>\n",
       "    <tr>\n",
       "      <th>2</th>\n",
       "      <td>2495</td>\n",
       "      <td>2002</td>\n",
       "      <td>2</td>\n",
       "      <td>8</td>\n",
       "      <td>201803</td>\n",
       "      <td>clean</td>\n",
       "      <td>automatic</td>\n",
       "      <td>4wd</td>\n",
       "      <td>full-size</td>\n",
       "      <td>42.477134</td>\n",
       "      <td>-82.949564</td>\n",
       "      <td>45.0</td>\n",
       "    </tr>\n",
       "    <tr>\n",
       "      <th>3</th>\n",
       "      <td>1300</td>\n",
       "      <td>2000</td>\n",
       "      <td>1</td>\n",
       "      <td>8</td>\n",
       "      <td>170305</td>\n",
       "      <td>rebuilt</td>\n",
       "      <td>automatic</td>\n",
       "      <td>4wd</td>\n",
       "      <td>full-size</td>\n",
       "      <td>40.764373</td>\n",
       "      <td>-82.349503</td>\n",
       "      <td>49.0</td>\n",
       "    </tr>\n",
       "    <tr>\n",
       "      <th>4</th>\n",
       "      <td>13865</td>\n",
       "      <td>2010</td>\n",
       "      <td>3</td>\n",
       "      <td>8</td>\n",
       "      <td>166062</td>\n",
       "      <td>clean</td>\n",
       "      <td>automatic</td>\n",
       "      <td>4wd</td>\n",
       "      <td>NaN</td>\n",
       "      <td>49.210949</td>\n",
       "      <td>-123.114720</td>\n",
       "      <td>NaN</td>\n",
       "    </tr>\n",
       "  </tbody>\n",
       "</table></div>"
      ],
      "text/plain": [
       "   price  year  condition  cylinders  odometer title_status transmission  \\\n",
       "0  43900  2016          4          6     43500        clean    automatic   \n",
       "1  15490  2009          2          8     98131        clean    automatic   \n",
       "2   2495  2002          2          8    201803        clean    automatic   \n",
       "3   1300  2000          1          8    170305      rebuilt    automatic   \n",
       "4  13865  2010          3          8    166062        clean    automatic   \n",
       "\n",
       "  drive       size        lat        long  weather  \n",
       "0   4wd  full-size  36.471500  -82.483400     59.0  \n",
       "1   4wd  full-size  40.468826  -74.281734     52.0  \n",
       "2   4wd  full-size  42.477134  -82.949564     45.0  \n",
       "3   4wd  full-size  40.764373  -82.349503     49.0  \n",
       "4   4wd        NaN  49.210949 -123.114720      NaN  "
      ]
     },
     "execution_count": 2,
     "metadata": {},
     "output_type": "execute_result"
    }
   ],
   "source": [
    "data = pd.read_excel('./data/data_ford_price.xlsx')\n",
    "data.head()"
   ]
  },
  {
   "cell_type": "code",
   "execution_count": 3,
   "metadata": {},
   "outputs": [
    {
     "name": "stdout",
     "output_type": "stream",
     "text": [
      "<class 'pandas.core.frame.DataFrame'>\n",
      "RangeIndex: 7017 entries, 0 to 7016\n",
      "Data columns (total 12 columns):\n",
      " #   Column        Non-Null Count  Dtype  \n",
      "---  ------        --------------  -----  \n",
      " 0   price         7017 non-null   int64  \n",
      " 1   year          7017 non-null   int64  \n",
      " 2   condition     7017 non-null   int64  \n",
      " 3   cylinders     7017 non-null   int64  \n",
      " 4   odometer      7017 non-null   int64  \n",
      " 5   title_status  7017 non-null   object \n",
      " 6   transmission  7017 non-null   object \n",
      " 7   drive         6626 non-null   object \n",
      " 8   size          5453 non-null   object \n",
      " 9   lat           7017 non-null   float64\n",
      " 10  long          7017 non-null   float64\n",
      " 11  weather       6837 non-null   float64\n",
      "dtypes: float64(3), int64(5), object(4)\n",
      "memory usage: 658.0+ KB\n"
     ]
    }
   ],
   "source": [
    "data.info()"
   ]
  },
  {
   "attachments": {},
   "cell_type": "markdown",
   "metadata": {},
   "source": [
    "___"
   ]
  },
  {
   "attachments": {},
   "cell_type": "markdown",
   "metadata": {},
   "source": [
    "### Baseline без обработки"
   ]
  },
  {
   "cell_type": "code",
   "execution_count": 4,
   "metadata": {},
   "outputs": [],
   "source": [
    "# Инициализируем функцию для отслеживания метрик\n",
    "def print_metrics(y_train, y_train_predict, y_test, y_test_predict, name=''):\n",
    "    print(f'Train R^2 {name}: {round(metrics.r2_score(y_train, y_train_predict),3)}')\n",
    "    print(f'Train MAE {name}: {round(metrics.mean_absolute_error(y_train, y_train_predict),3)}')\n",
    "    print(f'Train MAPE {name}: {round(metrics.mean_absolute_percentage_error(y_train, y_train_predict)*100,2)}')\n",
    "    \n",
    "    print('\\n')\n",
    "    \n",
    "    print(f'Test R^2 {name}: {round(metrics.r2_score(y_test, y_test_predict),3)}')\n",
    "    print(f'Test MAE {name}: {round(metrics.mean_absolute_error(y_test, y_test_predict),3)}')\n",
    "    print(f'Test MAPE {name}: {round(metrics.mean_absolute_percentage_error(y_test, y_test_predict)*100,2)}')"
   ]
  },
  {
   "cell_type": "code",
   "execution_count": 5,
   "metadata": {},
   "outputs": [
    {
     "name": "stdout",
     "output_type": "stream",
     "text": [
      "Train R^2 : 0.513\n",
      "Train MAE : 4876.315\n",
      "Train MAPE : 8291.01\n",
      "\n",
      "\n",
      "Test R^2 : 0.661\n",
      "Test MAE : 4480.368\n",
      "Test MAPE : 3616.38\n"
     ]
    }
   ],
   "source": [
    "# Без обработки уберем категориальные строковые фиты, скинем пропуски и оставим дубликаты\n",
    "base_columns = [i for i in data.dtypes.index if data.dtypes.loc[i] != 'object']\n",
    "base_data = data[base_columns]\n",
    "\n",
    "base_data = base_data.dropna()\n",
    "base_data = base_data.drop_duplicates()\n",
    "\n",
    "X_base = base_data.drop(['price'], axis=1)\n",
    "y_base = base_data['price']\n",
    "\n",
    "X_train_b, X_test_b, y_train_b, y_test_b = train_test_split(X_base, y_base, test_size=0.2, random_state=42)\n",
    "\n",
    "base_lr = linear_model.LinearRegression()\n",
    "base_lr.fit(X_train_b, y_train_b)\n",
    "\n",
    "y_train_b_pred = base_lr.predict(X_train_b)\n",
    "y_test_b_pred = base_lr.predict(X_test_b)\n",
    "\n",
    "print_metrics(y_train_b, y_train_b_pred, y_test_b, y_test_b_pred) "
   ]
  },
  {
   "attachments": {},
   "cell_type": "markdown",
   "metadata": {},
   "source": [
    "---"
   ]
  },
  {
   "attachments": {},
   "cell_type": "markdown",
   "metadata": {},
   "source": [
    "### RFE для baseline"
   ]
  },
  {
   "cell_type": "code",
   "execution_count": 6,
   "metadata": {},
   "outputs": [
    {
     "name": "stdout",
     "output_type": "stream",
     "text": [
      "MVP features RFE: ['year', 'condition', 'cylinders']\n"
     ]
    }
   ],
   "source": [
    "estimator = linear_model.LinearRegression()\n",
    "selectorerf = RFE(estimator, n_features_to_select=3, step=1)\n",
    "selectorerf = selectorerf.fit(X_train_b, y_train_b)\n",
    "\n",
    "rfe_selector = selectorerf.get_feature_names_out().tolist()\n",
    "print(f'MVP features RFE: {rfe_selector}') "
   ]
  },
  {
   "attachments": {},
   "cell_type": "markdown",
   "metadata": {},
   "source": [
    "> Наибольший вес при выборе метода RFE составили фиты: year, condition, cylinders"
   ]
  },
  {
   "cell_type": "code",
   "execution_count": 7,
   "metadata": {},
   "outputs": [
    {
     "name": "stdout",
     "output_type": "stream",
     "text": [
      "Train R^2 : 0.489\n",
      "Train MAE : 5173.458\n",
      "Train MAPE : 8421.76\n",
      "\n",
      "\n",
      "Test R^2 : 0.642\n",
      "Test MAE : 4739.32\n",
      "Test MAPE : 3878.66\n"
     ]
    }
   ],
   "source": [
    "lr_rfe = linear_model.LinearRegression()\n",
    "lr_rfe.fit(X_train_b[rfe_selector], y_train_b)\n",
    "y_train_pred_rfe = lr_rfe.predict(X_train_b[rfe_selector])\n",
    "y_test_pred_rfe = lr_rfe.predict(X_test_b[rfe_selector])\n",
    "\n",
    "print_metrics(y_train_b, y_train_pred_rfe, y_test_b, y_test_pred_rfe)\n"
   ]
  },
  {
   "attachments": {},
   "cell_type": "markdown",
   "metadata": {},
   "source": [
    "---"
   ]
  },
  {
   "attachments": {},
   "cell_type": "markdown",
   "metadata": {},
   "source": [
    "#### KBest для baseline"
   ]
  },
  {
   "cell_type": "code",
   "execution_count": 8,
   "metadata": {},
   "outputs": [
    {
     "name": "stdout",
     "output_type": "stream",
     "text": [
      "MVP features KBest: ['year', 'condition', 'odometer']\n"
     ]
    }
   ],
   "source": [
    "selectorkb = SelectKBest(f_regression, k=3)\n",
    "selectorkb.fit(X_train_b, y_train_b)\n",
    "\n",
    "kbest_selector = selectorkb.get_feature_names_out().tolist()\n",
    "print(f'MVP features KBest: {kbest_selector}')"
   ]
  },
  {
   "attachments": {},
   "cell_type": "markdown",
   "metadata": {},
   "source": [
    "> Наибольший вес при выборе метода Kbest составили фиты: year, condition, odometer"
   ]
  },
  {
   "cell_type": "code",
   "execution_count": 9,
   "metadata": {},
   "outputs": [
    {
     "name": "stdout",
     "output_type": "stream",
     "text": [
      "Train R^2 : 0.502\n",
      "Train MAE : 5003.878\n",
      "Train MAPE : 8796.73\n",
      "\n",
      "\n",
      "Test R^2 : 0.652\n",
      "Test MAE : 4627.646\n",
      "Test MAPE : 3634.62\n"
     ]
    }
   ],
   "source": [
    "lr_kbest = linear_model.LinearRegression()\n",
    "lr_kbest.fit(X_train_b[kbest_selector], y_train_b)\n",
    "y_train_pred_kbest = lr_kbest.predict(X_train_b[kbest_selector])\n",
    "y_test_pred_kbest = lr_kbest.predict(X_test_b[kbest_selector])\n",
    "\n",
    "print_metrics(y_train_b, y_train_pred_kbest, y_test_b, y_test_pred_kbest) "
   ]
  },
  {
   "attachments": {},
   "cell_type": "markdown",
   "metadata": {},
   "source": [
    "### Вывод (все нижеследующее касается тестовой выборки, хотя и тренировочная обладает теми же характеристиками):\n",
    "### При проведенном исследовании я выявил следующее:\n",
    "#### 1) Методы RFE и Kbest отдают больший вес разным фитам.\n",
    "#### 2) По метрике R^2 выигрывает Kbest, так же показатель MAPE и MAE выглядят лучше, но все равно вне разумных пределов.\n",
    "#### 3) Различия метрик KBest от baseline статистически не значимы.\n",
    "#### Ниже я попробовал провести более детальный анализ."
   ]
  },
  {
   "attachments": {},
   "cell_type": "markdown",
   "metadata": {},
   "source": [
    "---"
   ]
  },
  {
   "attachments": {},
   "cell_type": "markdown",
   "metadata": {},
   "source": [
    "## Дальнейший блок я сделал потому как не был уверен в том, что этого делать не нужно, ибо хоть в постановке задачи этого и не было, тем не менее дальнейшие шаги предполагаются при моделировании (хотя возможно что-то я упустил), так же не было уверености, что поведение метрик не изменится после поверхностного EDA. \n",
    "## Имеется ввиду, что ответ на на вопрос что лучше: RFE, SelectKBest или модель на всех признаках может отличаться для baseline-модели и моделей на предобработанных данных."
   ]
  },
  {
   "attachments": {},
   "cell_type": "markdown",
   "metadata": {},
   "source": [
    "---"
   ]
  },
  {
   "attachments": {},
   "cell_type": "markdown",
   "metadata": {},
   "source": [
    "### Предобработка данных. Я посчитал разумным провести полный цикл обработки данных для получения наиболее чистых значений метрик для задания практики"
   ]
  },
  {
   "attachments": {},
   "cell_type": "markdown",
   "metadata": {},
   "source": [
    "#### Дубликаты"
   ]
  },
  {
   "cell_type": "code",
   "execution_count": 10,
   "metadata": {},
   "outputs": [],
   "source": [
    "data = data.drop_duplicates()"
   ]
  },
  {
   "cell_type": "code",
   "execution_count": 11,
   "metadata": {},
   "outputs": [
    {
     "name": "stdout",
     "output_type": "stream",
     "text": [
      "<class 'pandas.core.frame.DataFrame'>\n",
      "Int64Index: 4734 entries, 0 to 7016\n",
      "Data columns (total 12 columns):\n",
      " #   Column        Non-Null Count  Dtype  \n",
      "---  ------        --------------  -----  \n",
      " 0   price         4734 non-null   int64  \n",
      " 1   year          4734 non-null   int64  \n",
      " 2   condition     4734 non-null   int64  \n",
      " 3   cylinders     4734 non-null   int64  \n",
      " 4   odometer      4734 non-null   int64  \n",
      " 5   title_status  4734 non-null   object \n",
      " 6   transmission  4734 non-null   object \n",
      " 7   drive         4466 non-null   object \n",
      " 8   size          3592 non-null   object \n",
      " 9   lat           4734 non-null   float64\n",
      " 10  long          4734 non-null   float64\n",
      " 11  weather       4612 non-null   float64\n",
      "dtypes: float64(3), int64(5), object(4)\n",
      "memory usage: 480.8+ KB\n"
     ]
    }
   ],
   "source": [
    "data.info()"
   ]
  },
  {
   "attachments": {},
   "cell_type": "markdown",
   "metadata": {},
   "source": [
    "---"
   ]
  },
  {
   "attachments": {},
   "cell_type": "markdown",
   "metadata": {},
   "source": [
    "#### Пропуски"
   ]
  },
  {
   "cell_type": "code",
   "execution_count": 12,
   "metadata": {},
   "outputs": [
    {
     "data": {
      "text/plain": [
       "price            0.000000\n",
       "year             0.000000\n",
       "condition        0.000000\n",
       "cylinders        0.000000\n",
       "odometer         0.000000\n",
       "title_status     0.000000\n",
       "transmission     0.000000\n",
       "drive            5.661174\n",
       "size            24.123363\n",
       "lat              0.000000\n",
       "long             0.000000\n",
       "weather          2.577102\n",
       "dtype: float64"
      ]
     },
     "execution_count": 12,
     "metadata": {},
     "output_type": "execute_result"
    }
   ],
   "source": [
    "# Процент пропусков по фитам\n",
    "data.isnull().mean()*100"
   ]
  },
  {
   "attachments": {},
   "cell_type": "markdown",
   "metadata": {},
   "source": [
    "### Заполним пропуски модельным подходом"
   ]
  },
  {
   "cell_type": "code",
   "execution_count": 13,
   "metadata": {},
   "outputs": [],
   "source": [
    "# Заполним все пропуски через предсказания модели\n",
    "X = data.drop('price', axis=1)\n",
    "y = data['price']\n",
    "\n",
    "# Создадим список фитов с пропусками\n",
    "# получим список строковых обозначений фитов\n",
    "list_of_empty = [i for i in X.isnull().sum().index if X[i].isnull().sum() > 0]\n",
    "\n",
    "# Создадим копии первичного фрейма для заполнения пропусков\n",
    "weather = X.copy()  # числовой признак будем использовать линейную регрессию\n",
    "size = X.copy()  # категориальный будем использовать логистическую\n",
    "drive = X.copy()  # категориальный\n",
    "\n",
    "# Создадим блок фреймов наполненных пропусками по целевым колонкам\n",
    "test_weather_data = weather[weather['weather'].isna()]\n",
    "test_size_data = size[size['size'].isna()]\n",
    "test_drive_data = drive[drive['drive'].isna()]\n",
    "\n",
    "# Удалим все пропуски\n",
    "weather.dropna(inplace=True)\n",
    "size.dropna(inplace=True)\n",
    "drive.dropna(inplace=True)\n",
    "\n",
    "# Для каждого фита создадим трейн/тест, скинув на трейне фиты с пустотами\n",
    "y_train_weather = weather['weather']\n",
    "# здесь скидываем и пустые фиты и целевой фит\n",
    "X_train_weather = weather.drop(list_of_empty, axis=1)\n",
    "X_test_weather = test_weather_data.drop(list_of_empty, axis=1)\n",
    "\n",
    "y_train_size = size['size']\n",
    "X_train_size = size.drop(list_of_empty, axis=1)\n",
    "X_test_size = test_size_data.drop(list_of_empty, axis=1)\n",
    "\n",
    "y_train_drive = drive['drive']\n",
    "X_train_drive = drive.drop(list_of_empty, axis=1)\n",
    "X_test_drive = test_drive_data.drop(list_of_empty, axis=1)\n",
    "\n",
    "# Приступим к кодированию категориальных признаков через one hot для увеличения предсказательной способностей модели\n",
    "one_hot_encoder_weather = OneHotEncoder()  # создаем объект кодировщика\n",
    "one_hot_encoder_size = OneHotEncoder()\n",
    "one_hot_encoder_drive = OneHotEncoder()\n",
    "\n",
    "# создаем список фитов для кодировки\n",
    "categorial_cols = ['cylinders', 'title_status', 'transmission']\n",
    "\n",
    "# Закодируем блок\n",
    "X_train_weather_oh = one_hot_encoder_weather.fit_transform(\n",
    "    X_train_weather[categorial_cols]).toarray()\n",
    "X_test_weather_oh = one_hot_encoder_weather.transform(\n",
    "    X_test_weather[categorial_cols]).toarray()\n",
    "\n",
    "X_train_size_oh = one_hot_encoder_size.fit_transform(\n",
    "    X_train_size[categorial_cols]).toarray()\n",
    "X_test_size_oh = one_hot_encoder_size.transform(\n",
    "    X_test_size[categorial_cols]).toarray()\n",
    "\n",
    "X_train_drive_oh = one_hot_encoder_drive.fit_transform(\n",
    "    X_train_drive[categorial_cols]).toarray()\n",
    "X_test_drive_oh = one_hot_encoder_drive.transform(\n",
    "    X_test_drive[categorial_cols]).toarray()\n",
    "\n",
    "# Создадим из полученных закодированных фитов датафреймы\n",
    "# т.к. у нас закодированы одни и те же категориальные фиты мы можем получить имена колонок из любого кодировщика\n",
    "columns = one_hot_encoder_weather.get_feature_names_out()\n",
    "\n",
    "X_train_weather_oh_df = pd.DataFrame(data=X_train_weather_oh, columns=columns)\n",
    "X_test_weather_oh_df = pd.DataFrame(data=X_test_weather_oh, columns=columns)\n",
    "\n",
    "X_train_size_oh_df = pd.DataFrame(data=X_train_size_oh, columns=columns)\n",
    "X_test_size_oh_df = pd.DataFrame(data=X_test_size_oh, columns=columns)\n",
    "\n",
    "X_train_drive_oh_df = pd.DataFrame(data=X_train_drive_oh, columns=columns)\n",
    "X_test_drive_oh_df = pd.DataFrame(data=X_test_drive_oh, columns=columns)\n",
    "\n",
    "# Сбросим индексы у извлеченных выборок т.к они пришли из основного датафрейма\n",
    "y_train_weather = y_train_weather.reset_index().drop(['index'], axis=1)\n",
    "X_train_weather = X_train_weather.reset_index().drop(['index'], axis=1)\n",
    "X_test_weather = X_test_weather.reset_index().drop(['index'], axis=1)\n",
    "\n",
    "y_train_size = y_train_size.reset_index().drop(['index'], axis=1)\n",
    "X_train_size = X_train_size.reset_index().drop(['index'], axis=1)\n",
    "X_test_size = X_test_size.reset_index().drop(['index'], axis=1)\n",
    "\n",
    "y_train_drive = y_train_drive.reset_index().drop(['index'], axis=1)\n",
    "X_train_drive = X_train_drive.reset_index().drop(['index'], axis=1)\n",
    "X_test_drive = X_test_drive.reset_index().drop(['index'], axis=1)\n",
    "\n",
    "# Объединим фреймы\n",
    "X_train_weather_new = pd.concat(\n",
    "    [X_train_weather, X_train_weather_oh_df], axis=1)\n",
    "X_test_weather_new = pd.concat([X_test_weather, X_test_weather_oh_df], axis=1)\n",
    "\n",
    "X_train_size_new = pd.concat([X_train_size, X_train_size_oh_df], axis=1)\n",
    "X_test_size_new = pd.concat([X_test_size, X_test_size_oh_df], axis=1)\n",
    "\n",
    "X_train_drive_new = pd.concat([X_train_drive, X_train_drive_oh_df], axis=1)\n",
    "X_test_drive_new = pd.concat([X_test_drive, X_test_drive_oh_df], axis=1)\n",
    "\n",
    "# Удалим категориальные фиты, т.к. мы их уже закодировали\n",
    "X_train_weather_new = X_train_weather_new.drop(columns=categorial_cols, axis=1)\n",
    "X_test_weather_new = X_test_weather_new.drop(columns=categorial_cols, axis=1)\n",
    "\n",
    "X_train_size_new = X_train_size_new.drop(columns=categorial_cols, axis=1)\n",
    "X_test_size_new = X_test_size_new.drop(columns=categorial_cols, axis=1)\n",
    "\n",
    "X_train_drive_new = X_train_drive_new.drop(columns=categorial_cols, axis=1)\n",
    "X_test_drive_new = X_test_drive_new.drop(columns=categorial_cols, axis=1)\n",
    "\n",
    "# Произведем моделирование linear regression для числовых, logistic regression для категориальных\n",
    "weather_model = linear_model.LinearRegression()\n",
    "weather_model.fit(X_train_weather_new, y_train_weather)\n",
    "y_test_weather = weather_model.predict(X_test_weather_new)\n",
    "\n",
    "size_model = linear_model.LogisticRegression(\n",
    "    class_weight='balanced', random_state=42, max_iter=500, n_jobs=-1)\n",
    "size_model.fit(X_train_size_new, y_train_size['size'].ravel())\n",
    "y_test_size = size_model.predict(X_test_size_new)\n",
    "\n",
    "drive_model = linear_model.LogisticRegression(\n",
    "    class_weight='balanced', random_state=42, max_iter=500, n_jobs=-1)\n",
    "drive_model.fit(X_train_drive_new, y_train_drive['drive'].ravel())\n",
    "y_test_drive = drive_model.predict(X_test_drive_new)\n",
    "\n",
    "# Запихнем результаты заполнений в датафрейм\n",
    "X.loc[X['weather'].isna(), 'weather'] = y_test_weather\n",
    "X.loc[X['size'].isna(), 'size'] = y_test_size\n",
    "X.loc[X['drive'].isna(), 'drive'] = y_test_drive"
   ]
  },
  {
   "cell_type": "code",
   "execution_count": 14,
   "metadata": {},
   "outputs": [],
   "source": [
    "new_data = pd.concat([X,y], axis=1)"
   ]
  },
  {
   "cell_type": "code",
   "execution_count": 15,
   "metadata": {},
   "outputs": [
    {
     "data": {
      "text/plain": [
       "year            0.0\n",
       "condition       0.0\n",
       "cylinders       0.0\n",
       "odometer        0.0\n",
       "title_status    0.0\n",
       "transmission    0.0\n",
       "drive           0.0\n",
       "size            0.0\n",
       "lat             0.0\n",
       "long            0.0\n",
       "weather         0.0\n",
       "price           0.0\n",
       "dtype: float64"
      ]
     },
     "execution_count": 15,
     "metadata": {},
     "output_type": "execute_result"
    }
   ],
   "source": [
    "new_data.isnull().mean()*100"
   ]
  },
  {
   "attachments": {},
   "cell_type": "markdown",
   "metadata": {},
   "source": [
    "---"
   ]
  },
  {
   "attachments": {},
   "cell_type": "markdown",
   "metadata": {},
   "source": [
    "#### Выбросы"
   ]
  },
  {
   "cell_type": "code",
   "execution_count": 16,
   "metadata": {},
   "outputs": [],
   "source": [
    "graph_data = [i for i in new_data.dtypes.index if new_data.dtypes.loc[i] != 'object']"
   ]
  },
  {
   "cell_type": "code",
   "execution_count": 17,
   "metadata": {},
   "outputs": [
    {
     "data": {
      "image/png": "[encoded data removed]",
      "text/plain": [
       "<Figure size 2000x500 with 8 Axes>"
      ]
     },
     "metadata": {},
     "output_type": "display_data"
    }
   ],
   "source": [
    "fig, axes = plt.subplots(1, len(graph_data), figsize=(20,5))\n",
    "\n",
    "for number, feat in enumerate(graph_data):\n",
    "    graph = sns.boxplot(data=new_data[feat], ax=axes[number])\n",
    "    graph.set_title(f'{feat}')"
   ]
  },
  {
   "attachments": {},
   "cell_type": "markdown",
   "metadata": {},
   "source": [
    "### Посмотрим на распределение признаков для дальнейшей работы с признаками"
   ]
  },
  {
   "cell_type": "code",
   "execution_count": 18,
   "metadata": {},
   "outputs": [
    {
     "data": {
      "image/png": "[encoded data removed]",
      "text/plain": [
       "<Figure size 2000x500 with 8 Axes>"
      ]
     },
     "metadata": {},
     "output_type": "display_data"
    }
   ],
   "source": [
    "fig, axes = plt.subplots(1, len(graph_data), figsize=(20,5))\n",
    "\n",
    "for number, feat in enumerate(graph_data):\n",
    "    graph = sns.histplot(data=new_data[feat], ax=axes[number])\n",
    "    graph.set_title(f'{feat}')"
   ]
  },
  {
   "cell_type": "code",
   "execution_count": 19,
   "metadata": {},
   "outputs": [],
   "source": [
    "def outliers_z_score(data, feature, left_mod=3, right_mod=3, log_scale=False):\n",
    "    \"\"\"Function for finding outliers by z-method with adjustment option for left and right multiplier.\n",
    "\n",
    "    Args:\n",
    "        data (DataFrame): DataFrame which will be used to find outliers.\n",
    "        feature (string): Name of a column in DF which will be inspected for outliers.\n",
    "        left_mod (int, optional): lower boundary multiplier. Defaults to 3.\n",
    "        right_mod (int, optional): upper boundary multiplier. Defaults to 3.\n",
    "        log_scale (bool, optional): converting data in logarithmic representation in case of lognormal destribution of\n",
    "        original data. Defaults to False.\n",
    "\n",
    "    Returns:\n",
    "        DataFrame: returns two copies of the original DataFrame contain DF's with outliers and cleaned data.\n",
    "    \"\"\"    ''''''\n",
    "\n",
    "    if log_scale:\n",
    "        x = np.log(data[feature]+1)\n",
    "    else:\n",
    "        x = data[feature]\n",
    "\n",
    "    mu = x.mean()\n",
    "\n",
    "    sigma = x.std()\n",
    "\n",
    "    lower_bound = mu - left_mod * sigma\n",
    "\n",
    "    upper_bound = mu + right_mod * sigma\n",
    "\n",
    "    outliers = data[(x < lower_bound) | (x > upper_bound)]\n",
    "\n",
    "    cleaned = data[(x > lower_bound) & (x < upper_bound)]\n",
    "\n",
    "    print(f'Number of outliers by z-method: {outliers.shape[0]}')\n",
    "    print(f'Resulting number of lines cleared of outliers: {cleaned.shape[0]}')\n",
    "\n",
    "    return outliers, cleaned"
   ]
  },
  {
   "cell_type": "code",
   "execution_count": 20,
   "metadata": {},
   "outputs": [
    {
     "name": "stdout",
     "output_type": "stream",
     "text": [
      "Number of outliers by z-method: 236\n",
      "Resulting number of lines cleared of outliers: 4498\n",
      "Number of outliers by z-method: 59\n",
      "Resulting number of lines cleared of outliers: 4439\n",
      "Number of outliers by z-method: 136\n",
      "Resulting number of lines cleared of outliers: 4303\n"
     ]
    }
   ],
   "source": [
    "# Удалим выбросы в наиболее подходящих для этого фитах\n",
    "_, new_data = outliers_z_score(new_data, 'price', left_mod=1.5, right_mod=1.5, log_scale=True)\n",
    "_, new_data = outliers_z_score(new_data, 'year')\n",
    "_, new_data = outliers_z_score(new_data, 'odometer', left_mod=2.0, right_mod=2.0, log_scale=True)"
   ]
  },
  {
   "attachments": {},
   "cell_type": "markdown",
   "metadata": {},
   "source": [
    "---"
   ]
  },
  {
   "attachments": {},
   "cell_type": "markdown",
   "metadata": {},
   "source": [
    "### Закодируем признаки для моделирования"
   ]
  },
  {
   "cell_type": "code",
   "execution_count": 21,
   "metadata": {},
   "outputs": [
    {
     "name": "stdout",
     "output_type": "stream",
     "text": [
      "Число уникальных значений признака cylinders:  6\n",
      "Число уникальных значений признака title_status:  5\n",
      "Число уникальных значений признака transmission:  3\n",
      "Число уникальных значений признака drive:  3\n",
      "Число уникальных значений признака size:  4\n"
     ]
    }
   ],
   "source": [
    "# Кодирование признаков датасета\n",
    "columns_to_change = ['cylinders', 'title_status', 'transmission', 'drive', 'size']\n",
    "\n",
    "for column in columns_to_change:\n",
    "    print('Число уникальных значений признака {}: '.format(\n",
    "        column), new_data[column].nunique())\n"
   ]
  },
  {
   "cell_type": "code",
   "execution_count": 22,
   "metadata": {},
   "outputs": [],
   "source": [
    "# Закодируем строковые фиты порядковым кодированием\n",
    "encoder = OrdinalEncoder()\n",
    "data_ordinal = encoder.fit_transform(new_data[columns_to_change])\n",
    "\n",
    "# запишем полученные названия новых колонок в отдельную переменную\n",
    "column_names = encoder.get_feature_names_out(columns_to_change)\n"
   ]
  },
  {
   "cell_type": "code",
   "execution_count": 23,
   "metadata": {},
   "outputs": [],
   "source": [
    "# Создадим таблицу кодировок\n",
    "data_ordinal = pd.DataFrame(data=data_ordinal, columns=column_names, index=new_data.index)"
   ]
  },
  {
   "cell_type": "code",
   "execution_count": 24,
   "metadata": {},
   "outputs": [],
   "source": [
    "# Объединим полученые датафреймы\n",
    "encoded_data = new_data.drop(columns_to_change, axis=1)\n",
    "encoded_data = pd.concat([encoded_data, data_ordinal], axis=1)"
   ]
  },
  {
   "cell_type": "code",
   "execution_count": 25,
   "metadata": {},
   "outputs": [],
   "source": [
    "X = encoded_data.drop(['price'], axis=1)\n",
    "y = encoded_data['price']"
   ]
  },
  {
   "cell_type": "code",
   "execution_count": 26,
   "metadata": {},
   "outputs": [
    {
     "data": {
      "text/html": [
       "<div><div id=8473613a-8f27-40d0-be7e-2cdc035cb62b style=\"display:none; background-color:#9D6CFF; color:white; width:200px; height:30px; padding-left:5px; border-radius:4px; flex-direction:row; justify-content:space-around; align-items:center;\" onmouseover=\"this.style.backgroundColor='#BA9BF8'\" onmouseout=\"this.style.backgroundColor='#9D6CFF'\" onclick=\"window.commands?.execute('create-mitosheet-from-dataframe-output');\">See Full Dataframe in Mito</div> <script> if (window.commands?.hasCommand('create-mitosheet-from-dataframe-output')) document.getElementById('8473613a-8f27-40d0-be7e-2cdc035cb62b').style.display = 'flex' </script> <table border=\"1\" class=\"dataframe\">\n",
       "  <thead>\n",
       "    <tr style=\"text-align: right;\">\n",
       "      <th></th>\n",
       "      <th>year</th>\n",
       "      <th>condition</th>\n",
       "      <th>odometer</th>\n",
       "      <th>lat</th>\n",
       "      <th>long</th>\n",
       "      <th>weather</th>\n",
       "      <th>cylinders</th>\n",
       "      <th>title_status</th>\n",
       "      <th>transmission</th>\n",
       "      <th>drive</th>\n",
       "      <th>size</th>\n",
       "    </tr>\n",
       "  </thead>\n",
       "  <tbody>\n",
       "    <tr>\n",
       "      <th>0</th>\n",
       "      <td>2016</td>\n",
       "      <td>4</td>\n",
       "      <td>-1.166451</td>\n",
       "      <td>36.471500</td>\n",
       "      <td>-82.483400</td>\n",
       "      <td>0.770262</td>\n",
       "      <td>3.0</td>\n",
       "      <td>0.0</td>\n",
       "      <td>0.0</td>\n",
       "      <td>0.0</td>\n",
       "      <td>1.0</td>\n",
       "    </tr>\n",
       "    <tr>\n",
       "      <th>1</th>\n",
       "      <td>2009</td>\n",
       "      <td>2</td>\n",
       "      <td>-0.384821</td>\n",
       "      <td>40.468826</td>\n",
       "      <td>-74.281734</td>\n",
       "      <td>-0.069157</td>\n",
       "      <td>4.0</td>\n",
       "      <td>0.0</td>\n",
       "      <td>0.0</td>\n",
       "      <td>0.0</td>\n",
       "      <td>1.0</td>\n",
       "    </tr>\n",
       "    <tr>\n",
       "      <th>2</th>\n",
       "      <td>2002</td>\n",
       "      <td>2</td>\n",
       "      <td>1.098461</td>\n",
       "      <td>42.477134</td>\n",
       "      <td>-82.949564</td>\n",
       "      <td>-0.908576</td>\n",
       "      <td>4.0</td>\n",
       "      <td>0.0</td>\n",
       "      <td>0.0</td>\n",
       "      <td>0.0</td>\n",
       "      <td>1.0</td>\n",
       "    </tr>\n",
       "    <tr>\n",
       "      <th>4</th>\n",
       "      <td>2010</td>\n",
       "      <td>3</td>\n",
       "      <td>0.587098</td>\n",
       "      <td>49.210949</td>\n",
       "      <td>-123.114720</td>\n",
       "      <td>-1.412958</td>\n",
       "      <td>4.0</td>\n",
       "      <td>0.0</td>\n",
       "      <td>0.0</td>\n",
       "      <td>0.0</td>\n",
       "      <td>1.0</td>\n",
       "    </tr>\n",
       "    <tr>\n",
       "      <th>5</th>\n",
       "      <td>2003</td>\n",
       "      <td>3</td>\n",
       "      <td>0.609990</td>\n",
       "      <td>45.518031</td>\n",
       "      <td>-122.578752</td>\n",
       "      <td>-0.308991</td>\n",
       "      <td>4.0</td>\n",
       "      <td>0.0</td>\n",
       "      <td>0.0</td>\n",
       "      <td>0.0</td>\n",
       "      <td>1.0</td>\n",
       "    </tr>\n",
       "  </tbody>\n",
       "</table></div>"
      ],
      "text/plain": [
       "   year  condition  odometer        lat        long   weather  cylinders  \\\n",
       "0  2016          4 -1.166451  36.471500  -82.483400  0.770262        3.0   \n",
       "1  2009          2 -0.384821  40.468826  -74.281734 -0.069157        4.0   \n",
       "2  2002          2  1.098461  42.477134  -82.949564 -0.908576        4.0   \n",
       "4  2010          3  0.587098  49.210949 -123.114720 -1.412958        4.0   \n",
       "5  2003          3  0.609990  45.518031 -122.578752 -0.308991        4.0   \n",
       "\n",
       "   title_status  transmission  drive  size  \n",
       "0           0.0           0.0    0.0   1.0  \n",
       "1           0.0           0.0    0.0   1.0  \n",
       "2           0.0           0.0    0.0   1.0  \n",
       "4           0.0           0.0    0.0   1.0  \n",
       "5           0.0           0.0    0.0   1.0  "
      ]
     },
     "execution_count": 26,
     "metadata": {},
     "output_type": "execute_result"
    }
   ],
   "source": [
    "col_names = ['odometer', 'weather']\n",
    "X_scaled = X.copy()\n",
    "x = X[col_names]\n",
    "\n",
    "scaler = StandardScaler()\n",
    "\n",
    "X_scaled[col_names] = scaler.fit_transform(x.values)\n",
    "X_scaled.head()"
   ]
  },
  {
   "cell_type": "code",
   "execution_count": 27,
   "metadata": {},
   "outputs": [],
   "source": [
    "X_train, X_test, y_train, y_test = train_test_split(X_scaled, y, test_size=0.2, random_state=42)"
   ]
  },
  {
   "attachments": {},
   "cell_type": "markdown",
   "metadata": {},
   "source": [
    "___"
   ]
  },
  {
   "attachments": {},
   "cell_type": "markdown",
   "metadata": {},
   "source": [
    "### Моделирование с отобранными признаками по методу RFE"
   ]
  },
  {
   "cell_type": "code",
   "execution_count": 28,
   "metadata": {},
   "outputs": [
    {
     "name": "stdout",
     "output_type": "stream",
     "text": [
      "MVP features RFE: ['condition', 'odometer', 'transmission']\n"
     ]
    }
   ],
   "source": [
    "estimator = linear_model.LinearRegression()\n",
    "selectorerf = RFE(estimator, n_features_to_select=3, step=1)\n",
    "selectorerf = selectorerf.fit(X_train, y_train)\n",
    "\n",
    "rfe_selector = selectorerf.get_feature_names_out().tolist()\n",
    "print(f'MVP features RFE: {rfe_selector}') "
   ]
  },
  {
   "cell_type": "code",
   "execution_count": 29,
   "metadata": {},
   "outputs": [
    {
     "name": "stdout",
     "output_type": "stream",
     "text": [
      "Train R^2 : 0.486\n",
      "Train MAE : 5697.723\n",
      "Train MAPE : 77.3\n",
      "\n",
      "\n",
      "Test R^2 : 0.45\n",
      "Test MAE : 5670.4\n",
      "Test MAPE : 74.19\n"
     ]
    }
   ],
   "source": [
    "lr_rfe = linear_model.LinearRegression()\n",
    "lr_rfe.fit(X_train[rfe_selector], y_train)\n",
    "y_train_pred_rfe = lr_rfe.predict(X_train[rfe_selector])\n",
    "y_test_pred_rfe = lr_rfe.predict(X_test[rfe_selector])\n",
    "\n",
    "print_metrics(y_train, y_train_pred_rfe, y_test, y_test_pred_rfe)\n"
   ]
  },
  {
   "attachments": {},
   "cell_type": "markdown",
   "metadata": {},
   "source": [
    "### Моделирование с отобранными признаками по методу KBest"
   ]
  },
  {
   "cell_type": "code",
   "execution_count": 30,
   "metadata": {},
   "outputs": [
    {
     "name": "stdout",
     "output_type": "stream",
     "text": [
      "MVP features KBest: ['year', 'condition', 'odometer']\n"
     ]
    }
   ],
   "source": [
    "selectorkb = SelectKBest(f_regression, k=3)\n",
    "selectorkb.fit(X_train, y_train)\n",
    "\n",
    "kbest_selector = selectorkb.get_feature_names_out().tolist()\n",
    "print(f'MVP features KBest: {kbest_selector}')"
   ]
  },
  {
   "cell_type": "code",
   "execution_count": 31,
   "metadata": {},
   "outputs": [
    {
     "name": "stdout",
     "output_type": "stream",
     "text": [
      "Train R^2 : 0.73\n",
      "Train MAE : 4083.487\n",
      "Train MAPE : 55.24\n",
      "\n",
      "\n",
      "Test R^2 : 0.715\n",
      "Test MAE : 4078.749\n",
      "Test MAPE : 53.39\n"
     ]
    }
   ],
   "source": [
    "lr_kbest = linear_model.LinearRegression()\n",
    "lr_kbest.fit(X_train[kbest_selector], y_train)\n",
    "y_train_pred_kbest = lr_kbest.predict(X_train[kbest_selector])\n",
    "y_test_pred_kbest = lr_kbest.predict(X_test[kbest_selector])\n",
    "\n",
    "print_metrics(y_train, y_train_pred_kbest, y_test, y_test_pred_kbest) "
   ]
  },
  {
   "attachments": {},
   "cell_type": "markdown",
   "metadata": {},
   "source": [
    "### Моделирование с полным набором признаков"
   ]
  },
  {
   "cell_type": "code",
   "execution_count": 32,
   "metadata": {},
   "outputs": [
    {
     "name": "stdout",
     "output_type": "stream",
     "text": [
      "Train R^2 : 0.766\n",
      "Train MAE : 3776.134\n",
      "Train MAPE : 51.61\n",
      "\n",
      "\n",
      "Test R^2 : 0.749\n",
      "Test MAE : 3773.138\n",
      "Test MAPE : 49.85\n"
     ]
    }
   ],
   "source": [
    "full_lr = linear_model.LinearRegression()\n",
    "full_lr.fit(X_train, y_train)\n",
    "\n",
    "y_train_pred_full = full_lr.predict(X_train)\n",
    "y_test_pred_full = full_lr.predict(X_test)\n",
    "\n",
    "print_metrics(y_train, y_train_pred_full, y_test, y_test_pred_full) "
   ]
  },
  {
   "attachments": {},
   "cell_type": "markdown",
   "metadata": {},
   "source": [
    "### Вывод о приоритетности подходов остался тем же что и для baseline модели"
   ]
  },
  {
   "cell_type": "code",
   "execution_count": null,
   "metadata": {},
   "outputs": [],
   "source": []
  }
 ],
 "metadata": {
  "kernelspec": {
   "display_name": "ds",
   "language": "python",
   "name": "python3"
  },
  "language_info": {
   "codemirror_mode": {
    "name": "ipython",
    "version": 3
   },
   "file_extension": ".py",
   "mimetype": "text/x-python",
   "name": "python",
   "nbconvert_exporter": "python",
   "pygments_lexer": "ipython3",
   "version": "3.11.0"
  },
  "orig_nbformat": 4
 },
 "nbformat": 4,
 "nbformat_minor": 2
}
