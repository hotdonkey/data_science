{
 "cells": [
  {
   "cell_type": "code",
   "execution_count": 1,
   "metadata": {},
   "outputs": [],
   "source": [
    "import numpy as np\n",
    "import pandas as pd\n",
    "\n",
    "from sklearn import linear_model\n",
    "from sklearn import metrics\n",
    "from sklearn.preprocessing import LabelBinarizer\n",
    "from sklearn.preprocessing import OneHotEncoder\n",
    "from sklearn.model_selection import train_test_split"
   ]
  },
  {
   "cell_type": "code",
   "execution_count": 2,
   "metadata": {},
   "outputs": [
    {
     "data": {
      "text/html": [
       "<div><div id=bf2104e5-36ca-4a3e-863b-ab872f0510ec style=\"display:none; background-color:#9D6CFF; color:white; width:200px; height:30px; padding-left:5px; border-radius:4px; flex-direction:row; justify-content:space-around; align-items:center;\" onmouseover=\"this.style.backgroundColor='#BA9BF8'\" onmouseout=\"this.style.backgroundColor='#9D6CFF'\" onclick=\"window.commands?.execute('create-mitosheet-from-dataframe-output');\">See Full Dataframe in Mito</div> <script> if (window.commands?.hasCommand('create-mitosheet-from-dataframe-output')) document.getElementById('bf2104e5-36ca-4a3e-863b-ab872f0510ec').style.display = 'flex' </script> <table border=\"1\" class=\"dataframe\">\n",
       "  <thead>\n",
       "    <tr style=\"text-align: right;\">\n",
       "      <th></th>\n",
       "      <th>price</th>\n",
       "      <th>year</th>\n",
       "      <th>condition</th>\n",
       "      <th>cylinders</th>\n",
       "      <th>odometer</th>\n",
       "      <th>title_status</th>\n",
       "      <th>transmission</th>\n",
       "      <th>drive</th>\n",
       "      <th>size</th>\n",
       "      <th>lat</th>\n",
       "      <th>long</th>\n",
       "      <th>weather</th>\n",
       "    </tr>\n",
       "  </thead>\n",
       "  <tbody>\n",
       "    <tr>\n",
       "      <th>0</th>\n",
       "      <td>43900</td>\n",
       "      <td>2016</td>\n",
       "      <td>4</td>\n",
       "      <td>6</td>\n",
       "      <td>43500</td>\n",
       "      <td>clean</td>\n",
       "      <td>automatic</td>\n",
       "      <td>4wd</td>\n",
       "      <td>full-size</td>\n",
       "      <td>36.471500</td>\n",
       "      <td>-82.483400</td>\n",
       "      <td>59.0</td>\n",
       "    </tr>\n",
       "    <tr>\n",
       "      <th>1</th>\n",
       "      <td>15490</td>\n",
       "      <td>2009</td>\n",
       "      <td>2</td>\n",
       "      <td>8</td>\n",
       "      <td>98131</td>\n",
       "      <td>clean</td>\n",
       "      <td>automatic</td>\n",
       "      <td>4wd</td>\n",
       "      <td>full-size</td>\n",
       "      <td>40.468826</td>\n",
       "      <td>-74.281734</td>\n",
       "      <td>52.0</td>\n",
       "    </tr>\n",
       "    <tr>\n",
       "      <th>2</th>\n",
       "      <td>2495</td>\n",
       "      <td>2002</td>\n",
       "      <td>2</td>\n",
       "      <td>8</td>\n",
       "      <td>201803</td>\n",
       "      <td>clean</td>\n",
       "      <td>automatic</td>\n",
       "      <td>4wd</td>\n",
       "      <td>full-size</td>\n",
       "      <td>42.477134</td>\n",
       "      <td>-82.949564</td>\n",
       "      <td>45.0</td>\n",
       "    </tr>\n",
       "    <tr>\n",
       "      <th>3</th>\n",
       "      <td>1300</td>\n",
       "      <td>2000</td>\n",
       "      <td>1</td>\n",
       "      <td>8</td>\n",
       "      <td>170305</td>\n",
       "      <td>rebuilt</td>\n",
       "      <td>automatic</td>\n",
       "      <td>4wd</td>\n",
       "      <td>full-size</td>\n",
       "      <td>40.764373</td>\n",
       "      <td>-82.349503</td>\n",
       "      <td>49.0</td>\n",
       "    </tr>\n",
       "    <tr>\n",
       "      <th>4</th>\n",
       "      <td>13865</td>\n",
       "      <td>2010</td>\n",
       "      <td>3</td>\n",
       "      <td>8</td>\n",
       "      <td>166062</td>\n",
       "      <td>clean</td>\n",
       "      <td>automatic</td>\n",
       "      <td>4wd</td>\n",
       "      <td>NaN</td>\n",
       "      <td>49.210949</td>\n",
       "      <td>-123.114720</td>\n",
       "      <td>NaN</td>\n",
       "    </tr>\n",
       "  </tbody>\n",
       "</table></div>"
      ],
      "text/plain": [
       "   price  year  condition  cylinders  odometer title_status transmission  \\\n",
       "0  43900  2016          4          6     43500        clean    automatic   \n",
       "1  15490  2009          2          8     98131        clean    automatic   \n",
       "2   2495  2002          2          8    201803        clean    automatic   \n",
       "3   1300  2000          1          8    170305      rebuilt    automatic   \n",
       "4  13865  2010          3          8    166062        clean    automatic   \n",
       "\n",
       "  drive       size        lat        long  weather  \n",
       "0   4wd  full-size  36.471500  -82.483400     59.0  \n",
       "1   4wd  full-size  40.468826  -74.281734     52.0  \n",
       "2   4wd  full-size  42.477134  -82.949564     45.0  \n",
       "3   4wd  full-size  40.764373  -82.349503     49.0  \n",
       "4   4wd        NaN  49.210949 -123.114720      NaN  "
      ]
     },
     "execution_count": 2,
     "metadata": {},
     "output_type": "execute_result"
    }
   ],
   "source": [
    "data = pd.read_excel('./data/data_ford_price.xlsx')\n",
    "data.head()"
   ]
  },
  {
   "cell_type": "code",
   "execution_count": 3,
   "metadata": {},
   "outputs": [
    {
     "name": "stdout",
     "output_type": "stream",
     "text": [
      "<class 'pandas.core.frame.DataFrame'>\n",
      "RangeIndex: 7017 entries, 0 to 7016\n",
      "Data columns (total 12 columns):\n",
      " #   Column        Non-Null Count  Dtype  \n",
      "---  ------        --------------  -----  \n",
      " 0   price         7017 non-null   int64  \n",
      " 1   year          7017 non-null   int64  \n",
      " 2   condition     7017 non-null   int64  \n",
      " 3   cylinders     7017 non-null   int64  \n",
      " 4   odometer      7017 non-null   int64  \n",
      " 5   title_status  7017 non-null   object \n",
      " 6   transmission  7017 non-null   object \n",
      " 7   drive         6626 non-null   object \n",
      " 8   size          5453 non-null   object \n",
      " 9   lat           7017 non-null   float64\n",
      " 10  long          7017 non-null   float64\n",
      " 11  weather       6837 non-null   float64\n",
      "dtypes: float64(3), int64(5), object(4)\n",
      "memory usage: 658.0+ KB\n"
     ]
    }
   ],
   "source": [
    "data.info()"
   ]
  },
  {
   "cell_type": "code",
   "execution_count": 4,
   "metadata": {},
   "outputs": [],
   "source": [
    "X = data.drop('price', axis=1)\n",
    "y = data['price']"
   ]
  },
  {
   "attachments": {},
   "cell_type": "markdown",
   "metadata": {},
   "source": [
    "---"
   ]
  },
  {
   "attachments": {},
   "cell_type": "markdown",
   "metadata": {},
   "source": [
    "### Работа с кодированием"
   ]
  },
  {
   "attachments": {},
   "cell_type": "markdown",
   "metadata": {},
   "source": [
    "> Произведем кодирование категориальных признаков с использованием методов Scikit-learn"
   ]
  },
  {
   "cell_type": "code",
   "execution_count": 5,
   "metadata": {},
   "outputs": [
    {
     "name": "stdout",
     "output_type": "stream",
     "text": [
      "категории: ['BSc' 'MSc' 'PhD' 'начальное' 'нет' 'среднее']\n"
     ]
    },
    {
     "data": {
      "text/plain": [
       "array([[0, 0, 0, 0, 1, 0],\n",
       "       [0, 1, 0, 0, 0, 0]])"
      ]
     },
     "execution_count": 5,
     "metadata": {},
     "output_type": "execute_result"
    }
   ],
   "source": [
    "# Пример работы кодировщика\n",
    "lb = LabelBinarizer()\n",
    "\n",
    "education = ['нет', 'начальное', 'среднее', 'BSc', 'MSc', 'начальное', 'PhD']\n",
    "lb.fit(education)\n",
    "print('категории:', lb.classes_)\n",
    "\n",
    "lb.transform(['нет', 'MSc'])\n"
   ]
  },
  {
   "cell_type": "code",
   "execution_count": 6,
   "metadata": {},
   "outputs": [
    {
     "name": "stdout",
     "output_type": "stream",
     "text": [
      "Число уникальных значений признака cylinders:  6\n",
      "Число уникальных значений признака title_status:  5\n",
      "Число уникальных значений признака transmission:  3\n",
      "Число уникальных значений признака drive:  3\n",
      "Число уникальных значений признака size:  4\n"
     ]
    }
   ],
   "source": [
    "# Кодирование признаков датасета\n",
    "columns_to_change = ['cylinders', 'title_status', 'transmission', 'drive', 'size']\n",
    "\n",
    "for column in columns_to_change:\n",
    "    print('Число уникальных значений признака {}: '.format(\n",
    "        column), data[column].nunique())\n"
   ]
  },
  {
   "cell_type": "code",
   "execution_count": 7,
   "metadata": {},
   "outputs": [
    {
     "name": "stdout",
     "output_type": "stream",
     "text": [
      "['cylinders_3' 'cylinders_4' 'cylinders_5' 'cylinders_6' 'cylinders_8'\n",
      " 'cylinders_10' 'title_status_clean' 'title_status_lien'\n",
      " 'title_status_missing' 'title_status_rebuilt' 'title_status_salvage'\n",
      " 'transmission_automatic' 'transmission_manual' 'transmission_other'\n",
      " 'drive_4wd' 'drive_fwd' 'drive_rwd' 'drive_nan' 'size_compact'\n",
      " 'size_full-size' 'size_mid-size' 'size_sub-compact' 'size_nan']\n"
     ]
    }
   ],
   "source": [
    "one_hot_encoder = OneHotEncoder()\n",
    "\n",
    "# 'учим' и сразу применяем преобразование к выборке, результат переводим в массив\n",
    "data_onehot = one_hot_encoder.fit_transform(data[columns_to_change]).toarray()\n",
    "\n",
    "# запишем полученные названия новых колонок в отдельную переменную\n",
    "column_names = one_hot_encoder.get_feature_names_out(columns_to_change)\n",
    "print(column_names)\n"
   ]
  },
  {
   "cell_type": "code",
   "execution_count": 8,
   "metadata": {},
   "outputs": [],
   "source": [
    "# Создадим таблицу кодировок\n",
    "data_onehot = pd.DataFrame(data=data_onehot, columns=column_names, index=data.index)"
   ]
  },
  {
   "cell_type": "code",
   "execution_count": 9,
   "metadata": {},
   "outputs": [],
   "source": [
    "# Объединяем таблицу кодировок с первичным датафреймом\n",
    "data_new = pd.concat([data, data_onehot], axis=1)"
   ]
  },
  {
   "cell_type": "code",
   "execution_count": 10,
   "metadata": {},
   "outputs": [],
   "source": [
    "# Удаляем столбцы которые были базой для onehot\n",
    "data_new = data_new.drop(columns_to_change, axis=1)"
   ]
  },
  {
   "cell_type": "code",
   "execution_count": 11,
   "metadata": {},
   "outputs": [
    {
     "data": {
      "text/plain": [
       "(7017, 30)"
      ]
     },
     "execution_count": 11,
     "metadata": {},
     "output_type": "execute_result"
    }
   ],
   "source": [
    "# Смотрим форму полученного датафрейма\n",
    "data_new.shape"
   ]
  },
  {
   "attachments": {},
   "cell_type": "markdown",
   "metadata": {},
   "source": [
    "---"
   ]
  },
  {
   "attachments": {},
   "cell_type": "markdown",
   "metadata": {},
   "source": [
    "#### Работа с пропусками"
   ]
  },
  {
   "cell_type": "code",
   "execution_count": 12,
   "metadata": {},
   "outputs": [
    {
     "data": {
      "text/plain": [
       "price              0\n",
       "year               0\n",
       "condition          0\n",
       "cylinders          0\n",
       "odometer           0\n",
       "title_status       0\n",
       "transmission       0\n",
       "drive            391\n",
       "size            1564\n",
       "lat                0\n",
       "long               0\n",
       "weather          180\n",
       "dtype: int64"
      ]
     },
     "execution_count": 12,
     "metadata": {},
     "output_type": "execute_result"
    }
   ],
   "source": [
    "# Посмотрим пропуски в таблице\n",
    "data.isna().sum()"
   ]
  },
  {
   "cell_type": "code",
   "execution_count": 13,
   "metadata": {},
   "outputs": [
    {
     "data": {
      "text/plain": [
       "price            0.000000\n",
       "year             0.000000\n",
       "condition        0.000000\n",
       "cylinders        0.000000\n",
       "odometer         0.000000\n",
       "title_status     0.000000\n",
       "transmission     0.000000\n",
       "drive            5.572182\n",
       "size            22.288727\n",
       "lat              0.000000\n",
       "long             0.000000\n",
       "weather          2.565199\n",
       "dtype: float64"
      ]
     },
     "execution_count": 13,
     "metadata": {},
     "output_type": "execute_result"
    }
   ],
   "source": [
    "# Посмотрим пропуски в таблице\n",
    "data.isna().mean()*100"
   ]
  },
  {
   "cell_type": "code",
   "execution_count": 14,
   "metadata": {},
   "outputs": [
    {
     "data": {
      "text/html": [
       "<div><div id=4aa516c7-19d3-4861-a36d-078537126ad8 style=\"display:none; background-color:#9D6CFF; color:white; width:200px; height:30px; padding-left:5px; border-radius:4px; flex-direction:row; justify-content:space-around; align-items:center;\" onmouseover=\"this.style.backgroundColor='#BA9BF8'\" onmouseout=\"this.style.backgroundColor='#9D6CFF'\" onclick=\"window.commands?.execute('create-mitosheet-from-dataframe-output');\">See Full Dataframe in Mito</div> <script> if (window.commands?.hasCommand('create-mitosheet-from-dataframe-output')) document.getElementById('4aa516c7-19d3-4861-a36d-078537126ad8').style.display = 'flex' </script> <table border=\"1\" class=\"dataframe\">\n",
       "  <thead>\n",
       "    <tr style=\"text-align: right;\">\n",
       "      <th></th>\n",
       "      <th>price</th>\n",
       "      <th>year</th>\n",
       "      <th>condition</th>\n",
       "      <th>cylinders</th>\n",
       "      <th>odometer</th>\n",
       "      <th>title_status</th>\n",
       "      <th>transmission</th>\n",
       "      <th>drive</th>\n",
       "      <th>size</th>\n",
       "      <th>lat</th>\n",
       "      <th>long</th>\n",
       "      <th>weather</th>\n",
       "    </tr>\n",
       "  </thead>\n",
       "  <tbody>\n",
       "    <tr>\n",
       "      <th>0</th>\n",
       "      <td>43900</td>\n",
       "      <td>2016</td>\n",
       "      <td>4</td>\n",
       "      <td>6</td>\n",
       "      <td>43500</td>\n",
       "      <td>clean</td>\n",
       "      <td>automatic</td>\n",
       "      <td>4wd</td>\n",
       "      <td>full-size</td>\n",
       "      <td>36.471500</td>\n",
       "      <td>-82.483400</td>\n",
       "      <td>59.0</td>\n",
       "    </tr>\n",
       "    <tr>\n",
       "      <th>1</th>\n",
       "      <td>15490</td>\n",
       "      <td>2009</td>\n",
       "      <td>2</td>\n",
       "      <td>8</td>\n",
       "      <td>98131</td>\n",
       "      <td>clean</td>\n",
       "      <td>automatic</td>\n",
       "      <td>4wd</td>\n",
       "      <td>full-size</td>\n",
       "      <td>40.468826</td>\n",
       "      <td>-74.281734</td>\n",
       "      <td>52.0</td>\n",
       "    </tr>\n",
       "    <tr>\n",
       "      <th>2</th>\n",
       "      <td>2495</td>\n",
       "      <td>2002</td>\n",
       "      <td>2</td>\n",
       "      <td>8</td>\n",
       "      <td>201803</td>\n",
       "      <td>clean</td>\n",
       "      <td>automatic</td>\n",
       "      <td>4wd</td>\n",
       "      <td>full-size</td>\n",
       "      <td>42.477134</td>\n",
       "      <td>-82.949564</td>\n",
       "      <td>45.0</td>\n",
       "    </tr>\n",
       "    <tr>\n",
       "      <th>3</th>\n",
       "      <td>1300</td>\n",
       "      <td>2000</td>\n",
       "      <td>1</td>\n",
       "      <td>8</td>\n",
       "      <td>170305</td>\n",
       "      <td>rebuilt</td>\n",
       "      <td>automatic</td>\n",
       "      <td>4wd</td>\n",
       "      <td>full-size</td>\n",
       "      <td>40.764373</td>\n",
       "      <td>-82.349503</td>\n",
       "      <td>49.0</td>\n",
       "    </tr>\n",
       "    <tr>\n",
       "      <th>5</th>\n",
       "      <td>6995</td>\n",
       "      <td>2003</td>\n",
       "      <td>3</td>\n",
       "      <td>8</td>\n",
       "      <td>167662</td>\n",
       "      <td>clean</td>\n",
       "      <td>automatic</td>\n",
       "      <td>4wd</td>\n",
       "      <td>full-size</td>\n",
       "      <td>45.518031</td>\n",
       "      <td>-122.578752</td>\n",
       "      <td>50.0</td>\n",
       "    </tr>\n",
       "    <tr>\n",
       "      <th>...</th>\n",
       "      <td>...</td>\n",
       "      <td>...</td>\n",
       "      <td>...</td>\n",
       "      <td>...</td>\n",
       "      <td>...</td>\n",
       "      <td>...</td>\n",
       "      <td>...</td>\n",
       "      <td>...</td>\n",
       "      <td>...</td>\n",
       "      <td>...</td>\n",
       "      <td>...</td>\n",
       "      <td>...</td>\n",
       "    </tr>\n",
       "    <tr>\n",
       "      <th>7012</th>\n",
       "      <td>22500</td>\n",
       "      <td>2015</td>\n",
       "      <td>3</td>\n",
       "      <td>6</td>\n",
       "      <td>23500</td>\n",
       "      <td>clean</td>\n",
       "      <td>automatic</td>\n",
       "      <td>rwd</td>\n",
       "      <td>full-size</td>\n",
       "      <td>32.680700</td>\n",
       "      <td>-117.169800</td>\n",
       "      <td>59.0</td>\n",
       "    </tr>\n",
       "    <tr>\n",
       "      <th>7013</th>\n",
       "      <td>5975</td>\n",
       "      <td>2005</td>\n",
       "      <td>2</td>\n",
       "      <td>8</td>\n",
       "      <td>0</td>\n",
       "      <td>clean</td>\n",
       "      <td>automatic</td>\n",
       "      <td>rwd</td>\n",
       "      <td>full-size</td>\n",
       "      <td>38.213303</td>\n",
       "      <td>-85.785762</td>\n",
       "      <td>50.0</td>\n",
       "    </tr>\n",
       "    <tr>\n",
       "      <th>7014</th>\n",
       "      <td>9999</td>\n",
       "      <td>2006</td>\n",
       "      <td>3</td>\n",
       "      <td>8</td>\n",
       "      <td>161514</td>\n",
       "      <td>clean</td>\n",
       "      <td>automatic</td>\n",
       "      <td>NaN</td>\n",
       "      <td>full-size</td>\n",
       "      <td>37.609783</td>\n",
       "      <td>-120.995406</td>\n",
       "      <td>59.0</td>\n",
       "    </tr>\n",
       "    <tr>\n",
       "      <th>7015</th>\n",
       "      <td>10900</td>\n",
       "      <td>2011</td>\n",
       "      <td>2</td>\n",
       "      <td>8</td>\n",
       "      <td>164000</td>\n",
       "      <td>clean</td>\n",
       "      <td>automatic</td>\n",
       "      <td>4wd</td>\n",
       "      <td>full-size</td>\n",
       "      <td>43.140600</td>\n",
       "      <td>-93.385000</td>\n",
       "      <td>47.0</td>\n",
       "    </tr>\n",
       "    <tr>\n",
       "      <th>7016</th>\n",
       "      <td>18000</td>\n",
       "      <td>2010</td>\n",
       "      <td>2</td>\n",
       "      <td>8</td>\n",
       "      <td>104000</td>\n",
       "      <td>clean</td>\n",
       "      <td>automatic</td>\n",
       "      <td>4wd</td>\n",
       "      <td>full-size</td>\n",
       "      <td>37.987200</td>\n",
       "      <td>-84.178900</td>\n",
       "      <td>50.0</td>\n",
       "    </tr>\n",
       "  </tbody>\n",
       "</table></div>"
      ],
      "text/plain": [
       "      price  year  condition  cylinders  odometer title_status transmission  \\\n",
       "0     43900  2016          4          6     43500        clean    automatic   \n",
       "1     15490  2009          2          8     98131        clean    automatic   \n",
       "2      2495  2002          2          8    201803        clean    automatic   \n",
       "3      1300  2000          1          8    170305      rebuilt    automatic   \n",
       "5      6995  2003          3          8    167662        clean    automatic   \n",
       "...     ...   ...        ...        ...       ...          ...          ...   \n",
       "7012  22500  2015          3          6     23500        clean    automatic   \n",
       "7013   5975  2005          2          8         0        clean    automatic   \n",
       "7014   9999  2006          3          8    161514        clean    automatic   \n",
       "7015  10900  2011          2          8    164000        clean    automatic   \n",
       "7016  18000  2010          2          8    104000        clean    automatic   \n",
       "\n",
       "     drive       size        lat        long  weather  \n",
       "0      4wd  full-size  36.471500  -82.483400     59.0  \n",
       "1      4wd  full-size  40.468826  -74.281734     52.0  \n",
       "2      4wd  full-size  42.477134  -82.949564     45.0  \n",
       "3      4wd  full-size  40.764373  -82.349503     49.0  \n",
       "5      4wd  full-size  45.518031 -122.578752     50.0  \n",
       "...    ...        ...        ...         ...      ...  \n",
       "7012   rwd  full-size  32.680700 -117.169800     59.0  \n",
       "7013   rwd  full-size  38.213303  -85.785762     50.0  \n",
       "7014   NaN  full-size  37.609783 -120.995406     59.0  \n",
       "7015   4wd  full-size  43.140600  -93.385000     47.0  \n",
       "7016   4wd  full-size  37.987200  -84.178900     50.0  \n",
       "\n",
       "[6837 rows x 12 columns]"
      ]
     },
     "execution_count": 14,
     "metadata": {},
     "output_type": "execute_result"
    }
   ],
   "source": [
    "data[~data['weather'].isna()]"
   ]
  },
  {
   "cell_type": "code",
   "execution_count": 15,
   "metadata": {},
   "outputs": [],
   "source": [
    "X = X.dropna() # Дропнем на матрице наблюдений\n",
    "y = y.iloc[X.index] # И на векторе ответов"
   ]
  },
  {
   "cell_type": "code",
   "execution_count": 16,
   "metadata": {},
   "outputs": [],
   "source": [
    "# Разделим на тренировочную и тестовую выборки\n",
    "X_train, X_test, y_train, y_test = train_test_split(X, y, test_size=0.2, random_state=30)"
   ]
  },
  {
   "cell_type": "code",
   "execution_count": 17,
   "metadata": {},
   "outputs": [],
   "source": [
    "# Проведем кодирование\n",
    "one_hot_encoder = OneHotEncoder()\n",
    "\n",
    "X_train_enc = one_hot_encoder.fit_transform(X_train[columns_to_change]).toarray() # на тренировочной выборке используем фит_трансформ\n",
    "X_test_enc = one_hot_encoder.transform(X_test[columns_to_change]).toarray() # а на тестовой только трансформ"
   ]
  },
  {
   "cell_type": "code",
   "execution_count": 18,
   "metadata": {},
   "outputs": [],
   "source": [
    "columns = one_hot_encoder.get_feature_names_out()"
   ]
  },
  {
   "cell_type": "code",
   "execution_count": 19,
   "metadata": {},
   "outputs": [],
   "source": [
    "X_train_onehot_df = pd.DataFrame(X_train_enc, columns=columns)\n",
    "X_test_onehot_df = pd.DataFrame(X_test_enc, columns=columns)"
   ]
  },
  {
   "cell_type": "code",
   "execution_count": 20,
   "metadata": {},
   "outputs": [],
   "source": [
    "# Сбросим индексы после разбиения на трейн и тест\n",
    "X_train = X_train.reset_index().drop(['index'], axis=1)\n",
    "X_test = X_test.reset_index().drop(['index'], axis=1)\n",
    "\n",
    "y_train = y_train.reset_index().drop(['index'], axis=1)\n",
    "y_test = y_test.reset_index().drop(['index'], axis=1)\n"
   ]
  },
  {
   "cell_type": "code",
   "execution_count": 21,
   "metadata": {},
   "outputs": [],
   "source": [
    "# Объединяем таблицы и удаляем старые категориальные признаки\n",
    "X_train_new = pd.concat([X_train, X_train_onehot_df], axis=1)\n",
    "X_test_new = pd.concat([X_test, X_test_onehot_df], axis=1)\n",
    "\n",
    "X_train_new = X_train_new.drop(columns=columns_to_change)\n",
    "X_test_new = X_test_new.drop(columns=columns_to_change)\n"
   ]
  },
  {
   "cell_type": "code",
   "execution_count": 22,
   "metadata": {},
   "outputs": [],
   "source": [
    "# Настало время обучить модель. Для этого создаём объект класса LinearRegression.\n",
    "lr_model = linear_model.LinearRegression()"
   ]
  },
  {
   "cell_type": "code",
   "execution_count": 23,
   "metadata": {},
   "outputs": [
    {
     "data": {
      "text/html": [
       "<style>#sk-container-id-1 {color: black;background-color: white;}#sk-container-id-1 pre{padding: 0;}#sk-container-id-1 div.sk-toggleable {background-color: white;}#sk-container-id-1 label.sk-toggleable__label {cursor: pointer;display: block;width: 100%;margin-bottom: 0;padding: 0.3em;box-sizing: border-box;text-align: center;}#sk-container-id-1 label.sk-toggleable__label-arrow:before {content: \"▸\";float: left;margin-right: 0.25em;color: #696969;}#sk-container-id-1 label.sk-toggleable__label-arrow:hover:before {color: black;}#sk-container-id-1 div.sk-estimator:hover label.sk-toggleable__label-arrow:before {color: black;}#sk-container-id-1 div.sk-toggleable__content {max-height: 0;max-width: 0;overflow: hidden;text-align: left;background-color: #f0f8ff;}#sk-container-id-1 div.sk-toggleable__content pre {margin: 0.2em;color: black;border-radius: 0.25em;background-color: #f0f8ff;}#sk-container-id-1 input.sk-toggleable__control:checked~div.sk-toggleable__content {max-height: 200px;max-width: 100%;overflow: auto;}#sk-container-id-1 input.sk-toggleable__control:checked~label.sk-toggleable__label-arrow:before {content: \"▾\";}#sk-container-id-1 div.sk-estimator input.sk-toggleable__control:checked~label.sk-toggleable__label {background-color: #d4ebff;}#sk-container-id-1 div.sk-label input.sk-toggleable__control:checked~label.sk-toggleable__label {background-color: #d4ebff;}#sk-container-id-1 input.sk-hidden--visually {border: 0;clip: rect(1px 1px 1px 1px);clip: rect(1px, 1px, 1px, 1px);height: 1px;margin: -1px;overflow: hidden;padding: 0;position: absolute;width: 1px;}#sk-container-id-1 div.sk-estimator {font-family: monospace;background-color: #f0f8ff;border: 1px dotted black;border-radius: 0.25em;box-sizing: border-box;margin-bottom: 0.5em;}#sk-container-id-1 div.sk-estimator:hover {background-color: #d4ebff;}#sk-container-id-1 div.sk-parallel-item::after {content: \"\";width: 100%;border-bottom: 1px solid gray;flex-grow: 1;}#sk-container-id-1 div.sk-label:hover label.sk-toggleable__label {background-color: #d4ebff;}#sk-container-id-1 div.sk-serial::before {content: \"\";position: absolute;border-left: 1px solid gray;box-sizing: border-box;top: 0;bottom: 0;left: 50%;z-index: 0;}#sk-container-id-1 div.sk-serial {display: flex;flex-direction: column;align-items: center;background-color: white;padding-right: 0.2em;padding-left: 0.2em;position: relative;}#sk-container-id-1 div.sk-item {position: relative;z-index: 1;}#sk-container-id-1 div.sk-parallel {display: flex;align-items: stretch;justify-content: center;background-color: white;position: relative;}#sk-container-id-1 div.sk-item::before, #sk-container-id-1 div.sk-parallel-item::before {content: \"\";position: absolute;border-left: 1px solid gray;box-sizing: border-box;top: 0;bottom: 0;left: 50%;z-index: -1;}#sk-container-id-1 div.sk-parallel-item {display: flex;flex-direction: column;z-index: 1;position: relative;background-color: white;}#sk-container-id-1 div.sk-parallel-item:first-child::after {align-self: flex-end;width: 50%;}#sk-container-id-1 div.sk-parallel-item:last-child::after {align-self: flex-start;width: 50%;}#sk-container-id-1 div.sk-parallel-item:only-child::after {width: 0;}#sk-container-id-1 div.sk-dashed-wrapped {border: 1px dashed gray;margin: 0 0.4em 0.5em 0.4em;box-sizing: border-box;padding-bottom: 0.4em;background-color: white;}#sk-container-id-1 div.sk-label label {font-family: monospace;font-weight: bold;display: inline-block;line-height: 1.2em;}#sk-container-id-1 div.sk-label-container {text-align: center;}#sk-container-id-1 div.sk-container {/* jupyter's `normalize.less` sets `[hidden] { display: none; }` but bootstrap.min.css set `[hidden] { display: none !important; }` so we also need the `!important` here to be able to override the default hidden behavior on the sphinx rendered scikit-learn.org. See: https://github.com/scikit-learn/scikit-learn/issues/21755 */display: inline-block !important;position: relative;}#sk-container-id-1 div.sk-text-repr-fallback {display: none;}</style><div id=\"sk-container-id-1\" class=\"sk-top-container\"><div class=\"sk-text-repr-fallback\"><pre>LinearRegression()</pre><b>In a Jupyter environment, please rerun this cell to show the HTML representation or trust the notebook. <br />On GitHub, the HTML representation is unable to render, please try loading this page with nbviewer.org.</b></div><div class=\"sk-container\" hidden><div class=\"sk-item\"><div class=\"sk-estimator sk-toggleable\"><input class=\"sk-toggleable__control sk-hidden--visually\" id=\"sk-estimator-id-1\" type=\"checkbox\" checked><label for=\"sk-estimator-id-1\" class=\"sk-toggleable__label sk-toggleable__label-arrow\">LinearRegression</label><div class=\"sk-toggleable__content\"><pre>LinearRegression()</pre></div></div></div></div></div>"
      ],
      "text/plain": [
       "LinearRegression()"
      ]
     },
     "execution_count": 23,
     "metadata": {},
     "output_type": "execute_result"
    }
   ],
   "source": [
    "# Обучаем модель по МНК\n",
    "lr_model.fit(X_train_new, y_train)"
   ]
  },
  {
   "cell_type": "code",
   "execution_count": 24,
   "metadata": {},
   "outputs": [],
   "source": [
    "# Делаем предсказание для тренировочной выборки\n",
    "y_train_predict = lr_model.predict(X_train_new)"
   ]
  },
  {
   "cell_type": "code",
   "execution_count": 25,
   "metadata": {},
   "outputs": [
    {
     "name": "stdout",
     "output_type": "stream",
     "text": [
      "Train R^2: 0.647\n",
      "Test R^2: 0.693\n"
     ]
    }
   ],
   "source": [
    "# Делаем предсказание для тестовой выборки:\n",
    "\n",
    "y_test_predict = lr_model.predict(X_test_new)\n",
    "print(\"Train R^2: {:.3f}\".format(metrics.r2_score(y_train, y_train_predict)))\n",
    "print(\"Test R^2: {:.3f}\".format(metrics.r2_score(y_test, y_test_predict)))"
   ]
  },
  {
   "attachments": {},
   "cell_type": "markdown",
   "metadata": {},
   "source": [
    "---"
   ]
  },
  {
   "attachments": {},
   "cell_type": "markdown",
   "metadata": {},
   "source": [
    "#### Заполнение пропусков"
   ]
  },
  {
   "attachments": {},
   "cell_type": "markdown",
   "metadata": {},
   "source": [
    "> Среднее"
   ]
  },
  {
   "cell_type": "code",
   "execution_count": 26,
   "metadata": {},
   "outputs": [],
   "source": [
    "# Использование среднего значения\n",
    "X_train_new['weather'] = X_train_new['weather'].fillna(\n",
    "    np.round(np.mean(X_train_new['weather']), 0))\n",
    "\n",
    "X_test['weather'] = X_test_new['weather'].fillna(\n",
    "    np.round(np.mean(X_train_new['weather']), 0))\n"
   ]
  },
  {
   "attachments": {},
   "cell_type": "markdown",
   "metadata": {},
   "source": [
    "> Мода"
   ]
  },
  {
   "cell_type": "code",
   "execution_count": 27,
   "metadata": {},
   "outputs": [
    {
     "data": {
      "text/plain": [
       "4wd    0.736602\n",
       "Name: drive, dtype: float64"
      ]
     },
     "execution_count": 27,
     "metadata": {},
     "output_type": "execute_result"
    }
   ],
   "source": [
    "X_train['drive'].value_counts(True).head(1)"
   ]
  },
  {
   "cell_type": "code",
   "execution_count": 28,
   "metadata": {},
   "outputs": [
    {
     "data": {
      "text/plain": [
       "full-size    0.830089\n",
       "Name: size, dtype: float64"
      ]
     },
     "execution_count": 28,
     "metadata": {},
     "output_type": "execute_result"
    }
   ],
   "source": [
    "X_train['size'].value_counts(True).head(1)"
   ]
  },
  {
   "cell_type": "code",
   "execution_count": 29,
   "metadata": {},
   "outputs": [],
   "source": [
    "X_train['drive'] = X_train['drive'].fillna(X_train['drive'].mode())\n",
    "\n",
    "X_test['drive'] = X_test['drive'].fillna(X_train['drive'].mode())\n",
    "\n",
    "X_train['size'] = X_train['size'].fillna(X_train['size'].mode())\n",
    "\n",
    "X_test['size'] = X_test['size'].fillna(X_train['size'].mode())\n"
   ]
  },
  {
   "attachments": {},
   "cell_type": "markdown",
   "metadata": {},
   "source": [
    "#### Замена пропусков через предсказание модели"
   ]
  },
  {
   "cell_type": "code",
   "execution_count": 30,
   "metadata": {},
   "outputs": [],
   "source": [
    "data = pd.read_excel('./data/data_ford_price.xlsx')\n",
    "\n",
    "X = data.drop('price', axis=1)\n",
    "y = data['price']"
   ]
  },
  {
   "cell_type": "code",
   "execution_count": 31,
   "metadata": {},
   "outputs": [
    {
     "data": {
      "text/html": [
       "<div><div id=33d71a7a-50c4-49e7-b8ee-8fac4335236a style=\"display:none; background-color:#9D6CFF; color:white; width:200px; height:30px; padding-left:5px; border-radius:4px; flex-direction:row; justify-content:space-around; align-items:center;\" onmouseover=\"this.style.backgroundColor='#BA9BF8'\" onmouseout=\"this.style.backgroundColor='#9D6CFF'\" onclick=\"window.commands?.execute('create-mitosheet-from-dataframe-output');\">See Full Dataframe in Mito</div> <script> if (window.commands?.hasCommand('create-mitosheet-from-dataframe-output')) document.getElementById('33d71a7a-50c4-49e7-b8ee-8fac4335236a').style.display = 'flex' </script> <table border=\"1\" class=\"dataframe\">\n",
       "  <thead>\n",
       "    <tr style=\"text-align: right;\">\n",
       "      <th></th>\n",
       "      <th>year</th>\n",
       "      <th>condition</th>\n",
       "      <th>cylinders</th>\n",
       "      <th>odometer</th>\n",
       "      <th>title_status</th>\n",
       "      <th>transmission</th>\n",
       "      <th>drive</th>\n",
       "      <th>size</th>\n",
       "      <th>lat</th>\n",
       "      <th>long</th>\n",
       "      <th>weather</th>\n",
       "    </tr>\n",
       "  </thead>\n",
       "  <tbody>\n",
       "    <tr>\n",
       "      <th>0</th>\n",
       "      <td>2016</td>\n",
       "      <td>4</td>\n",
       "      <td>6</td>\n",
       "      <td>43500</td>\n",
       "      <td>clean</td>\n",
       "      <td>automatic</td>\n",
       "      <td>4wd</td>\n",
       "      <td>full-size</td>\n",
       "      <td>36.471500</td>\n",
       "      <td>-82.483400</td>\n",
       "      <td>59.0</td>\n",
       "    </tr>\n",
       "    <tr>\n",
       "      <th>1</th>\n",
       "      <td>2009</td>\n",
       "      <td>2</td>\n",
       "      <td>8</td>\n",
       "      <td>98131</td>\n",
       "      <td>clean</td>\n",
       "      <td>automatic</td>\n",
       "      <td>4wd</td>\n",
       "      <td>full-size</td>\n",
       "      <td>40.468826</td>\n",
       "      <td>-74.281734</td>\n",
       "      <td>52.0</td>\n",
       "    </tr>\n",
       "    <tr>\n",
       "      <th>2</th>\n",
       "      <td>2002</td>\n",
       "      <td>2</td>\n",
       "      <td>8</td>\n",
       "      <td>201803</td>\n",
       "      <td>clean</td>\n",
       "      <td>automatic</td>\n",
       "      <td>4wd</td>\n",
       "      <td>full-size</td>\n",
       "      <td>42.477134</td>\n",
       "      <td>-82.949564</td>\n",
       "      <td>45.0</td>\n",
       "    </tr>\n",
       "    <tr>\n",
       "      <th>3</th>\n",
       "      <td>2000</td>\n",
       "      <td>1</td>\n",
       "      <td>8</td>\n",
       "      <td>170305</td>\n",
       "      <td>rebuilt</td>\n",
       "      <td>automatic</td>\n",
       "      <td>4wd</td>\n",
       "      <td>full-size</td>\n",
       "      <td>40.764373</td>\n",
       "      <td>-82.349503</td>\n",
       "      <td>49.0</td>\n",
       "    </tr>\n",
       "    <tr>\n",
       "      <th>4</th>\n",
       "      <td>2010</td>\n",
       "      <td>3</td>\n",
       "      <td>8</td>\n",
       "      <td>166062</td>\n",
       "      <td>clean</td>\n",
       "      <td>automatic</td>\n",
       "      <td>4wd</td>\n",
       "      <td>NaN</td>\n",
       "      <td>49.210949</td>\n",
       "      <td>-123.114720</td>\n",
       "      <td>NaN</td>\n",
       "    </tr>\n",
       "  </tbody>\n",
       "</table></div>"
      ],
      "text/plain": [
       "   year  condition  cylinders  odometer title_status transmission drive  \\\n",
       "0  2016          4          6     43500        clean    automatic   4wd   \n",
       "1  2009          2          8     98131        clean    automatic   4wd   \n",
       "2  2002          2          8    201803        clean    automatic   4wd   \n",
       "3  2000          1          8    170305      rebuilt    automatic   4wd   \n",
       "4  2010          3          8    166062        clean    automatic   4wd   \n",
       "\n",
       "        size        lat        long  weather  \n",
       "0  full-size  36.471500  -82.483400     59.0  \n",
       "1  full-size  40.468826  -74.281734     52.0  \n",
       "2  full-size  42.477134  -82.949564     45.0  \n",
       "3  full-size  40.764373  -82.349503     49.0  \n",
       "4        NaN  49.210949 -123.114720      NaN  "
      ]
     },
     "execution_count": 31,
     "metadata": {},
     "output_type": "execute_result"
    }
   ],
   "source": [
    "X.head()"
   ]
  },
  {
   "cell_type": "code",
   "execution_count": 32,
   "metadata": {},
   "outputs": [
    {
     "data": {
      "text/plain": [
       "(180, 1)"
      ]
     },
     "execution_count": 32,
     "metadata": {},
     "output_type": "execute_result"
    }
   ],
   "source": [
    "# Заполнение пропусков модельным способом \n",
    "\n",
    "weather = X.copy() # копируем матрицу наблюдений\n",
    "\n",
    "test_data = weather[weather['weather'].isnull()] # создаем промежуточный фрейм включающий все пропуски по указаному фиту\n",
    "weather.dropna(inplace=True) # удаляем пропуски из первичной матрицы\n",
    "\n",
    "y_train = weather['weather'] # создаем тренировочный вектор ответов на безнулевом датафрейме\n",
    "X_train = weather.drop(['size', 'weather', 'drive'], axis=1) # создаем матрицу наблюдений на безнулевом датафрейме\n",
    "X_test = test_data.drop(['size', 'weather', 'drive'], axis=1) # создаем тестовую матрицу на основе фрейма пропусков удалив все фиты в которых изначально были nan\n",
    "\n",
    "one_hot_encoder = OneHotEncoder() # создаем объект кодировщика\n",
    "categorial_cols = ['cylinders', 'title_status', 'transmission'] # создаем список фитов для кодировки\n",
    "\n",
    "X_train_onehot = one_hot_encoder.fit_transform(\n",
    "    X_train[categorial_cols]).toarray()  \n",
    "X_test_onehot = one_hot_encoder.transform(X_test[categorial_cols]).toarray() # кодируем\n",
    "\n",
    "columns = one_hot_encoder.get_feature_names_out(categorial_cols) # берем наименовая фитов для создания датафреймов\n",
    "X_train_onehot_df = pd.DataFrame(X_train_onehot, columns=columns) # создаем трэйн и тест датафреймы закодированных признаков\n",
    "X_test_onehot_df = pd.DataFrame(X_test_onehot, columns=columns)\n",
    "\n",
    "X_train = X_train.reset_index().drop(['index'], axis=1) # сбрасываем индексы и удаляем ненужную колонку\n",
    "X_test = X_test.reset_index().drop(['index'], axis=1)\n",
    "y_train = y_train.reset_index().drop(['index'], axis=1)\n",
    "\n",
    "X_train_new = pd.concat([X_train, X_train_onehot_df], axis=1) # объединяем \n",
    "X_test_new = pd.concat([X_test, X_test_onehot_df], axis=1)\n",
    "\n",
    "X_train_new = X_train_new.drop(columns=categorial_cols)\n",
    "X_test_new = X_test_new.drop(columns=categorial_cols)\n",
    "\n",
    "\n",
    "model = linear_model.LinearRegression()\n",
    "model.fit(X_train_new, y_train)\n",
    "\n",
    "y_pred = model.predict(X_test_new)\n",
    "y_pred.shape"
   ]
  },
  {
   "attachments": {},
   "cell_type": "markdown",
   "metadata": {},
   "source": [
    "---"
   ]
  },
  {
   "attachments": {},
   "cell_type": "markdown",
   "metadata": {},
   "source": [
    "#### Своя практика"
   ]
  },
  {
   "cell_type": "code",
   "execution_count": 33,
   "metadata": {},
   "outputs": [],
   "source": [
    "# Инициализируем датафрейм и разобьем его на X и y по целевому признаку\n",
    "data = pd.read_excel('./data/data_ford_price.xlsx')\n",
    "\n",
    "X = data.drop('price', axis=1)\n",
    "y = data['price']\n",
    "\n",
    "# Создадим список фитов с пропусками\n",
    "# получим список строковых обозначений фитов\n",
    "list_of_empty = [i for i in X.isna().sum().index if X[i].isna().sum() > 0]\n",
    "\n",
    "# Создадим копии первичного фрейма для заполнения пропусков\n",
    "weather = X.copy()  # числовой признак будем использовать линейную регрессию\n",
    "size = X.copy()  # категориальный будем использовать логистическую\n",
    "drive = X.copy()  # категориальный\n",
    "\n",
    "# Создадим блок фреймов наполненных пропусками по целевым колонкам\n",
    "test_weather_data = weather[weather['weather'].isna()]\n",
    "test_size_data = size[size['size'].isna()]\n",
    "test_drive_data = drive[drive['drive'].isna()]\n",
    "\n",
    "# Удалим все пропуски\n",
    "weather.dropna(inplace=True)\n",
    "size.dropna(inplace=True)\n",
    "drive.dropna(inplace=True)\n",
    "\n",
    "# Для каждого фита создадим трейн/тест, скинув на трейне фиты с пустотами\n",
    "y_train_weather = weather['weather']\n",
    "# здесь скидываем и пустые фиты и целевой фит\n",
    "X_train_weather = weather.drop(list_of_empty, axis=1)\n",
    "X_test_weather = test_weather_data.drop(list_of_empty, axis=1)\n",
    "\n",
    "y_train_size = size['size']\n",
    "X_train_size = size.drop(list_of_empty, axis=1)\n",
    "X_test_size = test_size_data.drop(list_of_empty, axis=1)\n",
    "\n",
    "y_train_drive = drive['drive']\n",
    "X_train_drive = drive.drop(list_of_empty, axis=1)\n",
    "X_test_drive = test_drive_data.drop(list_of_empty, axis=1)\n",
    "\n",
    "# Приступим к кодированию категориальных признаков через one hot для увеличения предсказательной способностей модели\n",
    "one_hot_encoder_weather = OneHotEncoder()  # создаем объект кодировщика\n",
    "one_hot_encoder_size = OneHotEncoder()\n",
    "one_hot_encoder_drive = OneHotEncoder()\n",
    "\n",
    "# создаем список фитов для кодировки\n",
    "categorial_cols = ['cylinders', 'title_status', 'transmission']\n",
    "\n",
    "# Закодируем блок\n",
    "X_train_weather_oh = one_hot_encoder_weather.fit_transform(\n",
    "    X_train_weather[categorial_cols]).toarray()\n",
    "X_test_weather_oh = one_hot_encoder_weather.transform(\n",
    "    X_test_weather[categorial_cols]).toarray()\n",
    "\n",
    "X_train_size_oh = one_hot_encoder_size.fit_transform(\n",
    "    X_train_size[categorial_cols]).toarray()\n",
    "X_test_size_oh = one_hot_encoder_size.transform(\n",
    "    X_test_size[categorial_cols]).toarray()\n",
    "\n",
    "X_train_drive_oh = one_hot_encoder_drive.fit_transform(\n",
    "    X_train_drive[categorial_cols]).toarray()\n",
    "X_test_drive_oh = one_hot_encoder_drive.transform(\n",
    "    X_test_drive[categorial_cols]).toarray()\n",
    "\n",
    "# Создадим из полученных закодированных фитов датафреймы\n",
    "# т.к. у нас закодированы одни и те же категориальные фиты мы можем получить имена колонок из любого кодировщика\n",
    "columns = one_hot_encoder_weather.get_feature_names_out()\n",
    "\n",
    "X_train_weather_oh_df = pd.DataFrame(data=X_train_weather_oh, columns=columns)\n",
    "X_test_weather_oh_df = pd.DataFrame(data=X_test_weather_oh, columns=columns)\n",
    "\n",
    "X_train_size_oh_df = pd.DataFrame(data=X_train_size_oh, columns=columns)\n",
    "X_test_size_oh_df = pd.DataFrame(data=X_test_size_oh, columns=columns)\n",
    "\n",
    "X_train_drive_oh_df = pd.DataFrame(data=X_train_drive_oh, columns=columns)\n",
    "X_test_drive_oh_df = pd.DataFrame(data=X_test_drive_oh, columns=columns)\n",
    "\n",
    "# Сбросим индексы у извлеченных выборок т.к они пришли из основного датафрейма\n",
    "y_train_weather = y_train_weather.reset_index().drop(['index'], axis=1)\n",
    "X_train_weather = X_train_weather.reset_index().drop(['index'], axis=1)\n",
    "X_test_weather = X_test_weather.reset_index().drop(['index'], axis=1)\n",
    "\n",
    "y_train_size = y_train_size.reset_index().drop(['index'], axis=1)\n",
    "X_train_size = X_train_size.reset_index().drop(['index'], axis=1)\n",
    "X_test_size = X_test_size.reset_index().drop(['index'], axis=1)\n",
    "\n",
    "y_train_drive = y_train_drive.reset_index().drop(['index'], axis=1)\n",
    "X_train_drive = X_train_drive.reset_index().drop(['index'], axis=1)\n",
    "X_test_drive = X_test_drive.reset_index().drop(['index'], axis=1)\n",
    "\n",
    "# Объединим фреймы\n",
    "X_train_weather_new = pd.concat(\n",
    "    [X_train_weather, X_train_weather_oh_df], axis=1)\n",
    "X_test_weather_new = pd.concat([X_test_weather, X_test_weather_oh_df], axis=1)\n",
    "\n",
    "X_train_size_new = pd.concat([X_train_size, X_train_size_oh_df], axis=1)\n",
    "X_test_size_new = pd.concat([X_test_size, X_test_size_oh_df], axis=1)\n",
    "\n",
    "X_train_drive_new = pd.concat([X_train_drive, X_train_drive_oh_df], axis=1)\n",
    "X_test_drive_new = pd.concat([X_test_drive, X_test_drive_oh_df], axis=1)\n",
    "\n",
    "# Удалим категориальные фиты, т.к. мы их уже закодировали\n",
    "X_train_weather_new = X_train_weather_new.drop(columns=categorial_cols, axis=1)\n",
    "X_test_weather_new = X_test_weather_new.drop(columns=categorial_cols, axis=1)\n",
    "\n",
    "X_train_size_new = X_train_size_new.drop(columns=categorial_cols, axis=1)\n",
    "X_test_size_new = X_test_size_new.drop(columns=categorial_cols, axis=1)\n",
    "\n",
    "X_train_drive_new = X_train_drive_new.drop(columns=categorial_cols, axis=1)\n",
    "X_test_drive_new = X_test_drive_new.drop(columns=categorial_cols, axis=1)\n",
    "\n",
    "# Произведем моделирование linear regression для числовых, logistic regression для категориальных\n",
    "weather_model = linear_model.LinearRegression()\n",
    "weather_model.fit(X_train_weather_new, y_train_weather)\n",
    "y_test_weather = weather_model.predict(X_test_weather_new)\n",
    "\n",
    "size_model = linear_model.LogisticRegression(\n",
    "    class_weight='balanced', random_state=42, max_iter=500, n_jobs=-1)\n",
    "size_model.fit(X_train_size_new, y_train_size['size'].ravel())\n",
    "y_test_size = size_model.predict(X_test_size_new)\n",
    "\n",
    "drive_model = linear_model.LogisticRegression(\n",
    "    class_weight='balanced', random_state=42, max_iter=500, n_jobs=-1)\n",
    "drive_model.fit(X_train_drive_new, y_train_drive['drive'].ravel())\n",
    "y_test_drive = drive_model.predict(X_test_drive_new)\n",
    "\n",
    "# Запихнем результаты заполнений в датафрейм\n",
    "X.loc[X['weather'].isna(), 'weather'] = y_test_weather\n",
    "X.loc[X['size'].isna(), 'size'] = y_test_size\n",
    "X.loc[X['drive'].isna(), 'drive'] = y_test_drive\n"
   ]
  },
  {
   "attachments": {},
   "cell_type": "markdown",
   "metadata": {},
   "source": [
    "---"
   ]
  },
  {
   "attachments": {},
   "cell_type": "markdown",
   "metadata": {},
   "source": [
    "#### Работа с выбросами через модели"
   ]
  },
  {
   "cell_type": "code",
   "execution_count": 34,
   "metadata": {},
   "outputs": [],
   "source": [
    "# Инициализируем датафрейм и разобьем его на X и y по целевому признаку\n",
    "data = pd.read_excel('./data/data_ford_price.xlsx')\n",
    "\n",
    "X = data.drop('price', axis=1)\n",
    "y = data['price']"
   ]
  },
  {
   "cell_type": "code",
   "execution_count": 35,
   "metadata": {},
   "outputs": [
    {
     "data": {
      "text/html": [
       "<div><div id=5f07aac6-3664-4488-9efb-a68a6e629649 style=\"display:none; background-color:#9D6CFF; color:white; width:200px; height:30px; padding-left:5px; border-radius:4px; flex-direction:row; justify-content:space-around; align-items:center;\" onmouseover=\"this.style.backgroundColor='#BA9BF8'\" onmouseout=\"this.style.backgroundColor='#9D6CFF'\" onclick=\"window.commands?.execute('create-mitosheet-from-dataframe-output');\">See Full Dataframe in Mito</div> <script> if (window.commands?.hasCommand('create-mitosheet-from-dataframe-output')) document.getElementById('5f07aac6-3664-4488-9efb-a68a6e629649').style.display = 'flex' </script> <table border=\"1\" class=\"dataframe\">\n",
       "  <thead>\n",
       "    <tr style=\"text-align: right;\">\n",
       "      <th></th>\n",
       "      <th>price</th>\n",
       "      <th>year</th>\n",
       "      <th>condition</th>\n",
       "      <th>cylinders</th>\n",
       "      <th>odometer</th>\n",
       "      <th>title_status</th>\n",
       "      <th>transmission</th>\n",
       "      <th>drive</th>\n",
       "      <th>size</th>\n",
       "      <th>lat</th>\n",
       "      <th>long</th>\n",
       "      <th>weather</th>\n",
       "    </tr>\n",
       "  </thead>\n",
       "  <tbody>\n",
       "    <tr>\n",
       "      <th>0</th>\n",
       "      <td>43900</td>\n",
       "      <td>2016</td>\n",
       "      <td>4</td>\n",
       "      <td>6</td>\n",
       "      <td>43500</td>\n",
       "      <td>clean</td>\n",
       "      <td>automatic</td>\n",
       "      <td>4wd</td>\n",
       "      <td>full-size</td>\n",
       "      <td>36.471500</td>\n",
       "      <td>-82.483400</td>\n",
       "      <td>59.0</td>\n",
       "    </tr>\n",
       "    <tr>\n",
       "      <th>1</th>\n",
       "      <td>15490</td>\n",
       "      <td>2009</td>\n",
       "      <td>2</td>\n",
       "      <td>8</td>\n",
       "      <td>98131</td>\n",
       "      <td>clean</td>\n",
       "      <td>automatic</td>\n",
       "      <td>4wd</td>\n",
       "      <td>full-size</td>\n",
       "      <td>40.468826</td>\n",
       "      <td>-74.281734</td>\n",
       "      <td>52.0</td>\n",
       "    </tr>\n",
       "    <tr>\n",
       "      <th>2</th>\n",
       "      <td>2495</td>\n",
       "      <td>2002</td>\n",
       "      <td>2</td>\n",
       "      <td>8</td>\n",
       "      <td>201803</td>\n",
       "      <td>clean</td>\n",
       "      <td>automatic</td>\n",
       "      <td>4wd</td>\n",
       "      <td>full-size</td>\n",
       "      <td>42.477134</td>\n",
       "      <td>-82.949564</td>\n",
       "      <td>45.0</td>\n",
       "    </tr>\n",
       "    <tr>\n",
       "      <th>3</th>\n",
       "      <td>1300</td>\n",
       "      <td>2000</td>\n",
       "      <td>1</td>\n",
       "      <td>8</td>\n",
       "      <td>170305</td>\n",
       "      <td>rebuilt</td>\n",
       "      <td>automatic</td>\n",
       "      <td>4wd</td>\n",
       "      <td>full-size</td>\n",
       "      <td>40.764373</td>\n",
       "      <td>-82.349503</td>\n",
       "      <td>49.0</td>\n",
       "    </tr>\n",
       "    <tr>\n",
       "      <th>4</th>\n",
       "      <td>13865</td>\n",
       "      <td>2010</td>\n",
       "      <td>3</td>\n",
       "      <td>8</td>\n",
       "      <td>166062</td>\n",
       "      <td>clean</td>\n",
       "      <td>automatic</td>\n",
       "      <td>4wd</td>\n",
       "      <td>NaN</td>\n",
       "      <td>49.210949</td>\n",
       "      <td>-123.114720</td>\n",
       "      <td>NaN</td>\n",
       "    </tr>\n",
       "  </tbody>\n",
       "</table></div>"
      ],
      "text/plain": [
       "   price  year  condition  cylinders  odometer title_status transmission  \\\n",
       "0  43900  2016          4          6     43500        clean    automatic   \n",
       "1  15490  2009          2          8     98131        clean    automatic   \n",
       "2   2495  2002          2          8    201803        clean    automatic   \n",
       "3   1300  2000          1          8    170305      rebuilt    automatic   \n",
       "4  13865  2010          3          8    166062        clean    automatic   \n",
       "\n",
       "  drive       size        lat        long  weather  \n",
       "0   4wd  full-size  36.471500  -82.483400     59.0  \n",
       "1   4wd  full-size  40.468826  -74.281734     52.0  \n",
       "2   4wd  full-size  42.477134  -82.949564     45.0  \n",
       "3   4wd  full-size  40.764373  -82.349503     49.0  \n",
       "4   4wd        NaN  49.210949 -123.114720      NaN  "
      ]
     },
     "execution_count": 35,
     "metadata": {},
     "output_type": "execute_result"
    }
   ],
   "source": [
    "data.head()"
   ]
  },
  {
   "attachments": {},
   "cell_type": "markdown",
   "metadata": {},
   "source": [
    "Для начала сформируем baseline-модель. Проведём следующую предобработку: для простоты уберём категориальные столбцы из данных и затем удалим строки с пропусками."
   ]
  },
  {
   "cell_type": "code",
   "execution_count": 36,
   "metadata": {},
   "outputs": [],
   "source": [
    "def outliers_z_score(data, feature, left_mod=3, right_mod=3, log_scale=False):\n",
    "    \"\"\"Function for finding outliers by z-method with adjustment option for left and right multiplier.\n",
    "\n",
    "    Args:\n",
    "        data (DataFrame): DataFrame which will be used to find outliers.\n",
    "        feature (string): Name of a column in DF which will be inspected for outliers.\n",
    "        left_mod (int, optional): lower boundary multiplier. Defaults to 3.\n",
    "        right_mod (int, optional): upper boundary multiplier. Defaults to 3.\n",
    "        log_scale (bool, optional): converting data in logarithmic representation in case of lognormal destribution of\n",
    "        original data. Defaults to False.\n",
    "\n",
    "    Returns:\n",
    "        DataFrame: returns two copies of the original DataFrame contain DF's with outliers and cleaned data.\n",
    "    \"\"\"    ''''''\n",
    "\n",
    "    if log_scale:\n",
    "        x = np.log(data[feature]+1)\n",
    "    else:\n",
    "        x = data[feature]\n",
    "\n",
    "    mu = x.mean()\n",
    "\n",
    "    sigma = x.std()\n",
    "\n",
    "    lower_bound = mu - left_mod * sigma\n",
    "\n",
    "    upper_bound = mu + right_mod * sigma\n",
    "\n",
    "    outliers = data[(x < lower_bound) | (x > upper_bound)]\n",
    "\n",
    "    cleaned = data[(x > lower_bound) & (x < upper_bound)]\n",
    "\n",
    "    print(f'Number of outliers by z-method: {outliers.shape[0]}')\n",
    "    print(f'Resulting number of lines cleared of outliers: {cleaned.shape[0]}')\n",
    "\n",
    "    return outliers, cleaned"
   ]
  },
  {
   "cell_type": "code",
   "execution_count": 37,
   "metadata": {},
   "outputs": [
    {
     "name": "stdout",
     "output_type": "stream",
     "text": [
      "Number of outliers by z-method: 41\n",
      "Resulting number of lines cleared of outliers: 6976\n",
      "Number of outliers by z-method: 85\n",
      "Resulting number of lines cleared of outliers: 6891\n",
      "Number of outliers by z-method: 17\n",
      "Resulting number of lines cleared of outliers: 6874\n"
     ]
    }
   ],
   "source": [
    "_, data = outliers_z_score(data, 'price')\n",
    "_, data = outliers_z_score(data, 'year')\n",
    "_, data = outliers_z_score(data, 'odometer')"
   ]
  },
  {
   "cell_type": "code",
   "execution_count": 38,
   "metadata": {},
   "outputs": [
    {
     "data": {
      "text/html": [
       "<div><div id=8ddd6c65-3917-444c-8862-08ab24d40b45 style=\"display:none; background-color:#9D6CFF; color:white; width:200px; height:30px; padding-left:5px; border-radius:4px; flex-direction:row; justify-content:space-around; align-items:center;\" onmouseover=\"this.style.backgroundColor='#BA9BF8'\" onmouseout=\"this.style.backgroundColor='#9D6CFF'\" onclick=\"window.commands?.execute('create-mitosheet-from-dataframe-output');\">See Full Dataframe in Mito</div> <script> if (window.commands?.hasCommand('create-mitosheet-from-dataframe-output')) document.getElementById('8ddd6c65-3917-444c-8862-08ab24d40b45').style.display = 'flex' </script> <table border=\"1\" class=\"dataframe\">\n",
       "  <thead>\n",
       "    <tr style=\"text-align: right;\">\n",
       "      <th></th>\n",
       "      <th>year</th>\n",
       "      <th>cylinders</th>\n",
       "      <th>odometer</th>\n",
       "      <th>lat</th>\n",
       "      <th>long</th>\n",
       "      <th>weather</th>\n",
       "    </tr>\n",
       "  </thead>\n",
       "  <tbody>\n",
       "    <tr>\n",
       "      <th>0</th>\n",
       "      <td>2016</td>\n",
       "      <td>6</td>\n",
       "      <td>43500</td>\n",
       "      <td>36.471500</td>\n",
       "      <td>-82.483400</td>\n",
       "      <td>59.0</td>\n",
       "    </tr>\n",
       "    <tr>\n",
       "      <th>1</th>\n",
       "      <td>2009</td>\n",
       "      <td>8</td>\n",
       "      <td>98131</td>\n",
       "      <td>40.468826</td>\n",
       "      <td>-74.281734</td>\n",
       "      <td>52.0</td>\n",
       "    </tr>\n",
       "    <tr>\n",
       "      <th>2</th>\n",
       "      <td>2002</td>\n",
       "      <td>8</td>\n",
       "      <td>201803</td>\n",
       "      <td>42.477134</td>\n",
       "      <td>-82.949564</td>\n",
       "      <td>45.0</td>\n",
       "    </tr>\n",
       "    <tr>\n",
       "      <th>3</th>\n",
       "      <td>2000</td>\n",
       "      <td>8</td>\n",
       "      <td>170305</td>\n",
       "      <td>40.764373</td>\n",
       "      <td>-82.349503</td>\n",
       "      <td>49.0</td>\n",
       "    </tr>\n",
       "    <tr>\n",
       "      <th>5</th>\n",
       "      <td>2003</td>\n",
       "      <td>8</td>\n",
       "      <td>167662</td>\n",
       "      <td>45.518031</td>\n",
       "      <td>-122.578752</td>\n",
       "      <td>50.0</td>\n",
       "    </tr>\n",
       "  </tbody>\n",
       "</table></div>"
      ],
      "text/plain": [
       "   year  cylinders  odometer        lat        long  weather\n",
       "0  2016          6     43500  36.471500  -82.483400     59.0\n",
       "1  2009          8     98131  40.468826  -74.281734     52.0\n",
       "2  2002          8    201803  42.477134  -82.949564     45.0\n",
       "3  2000          8    170305  40.764373  -82.349503     49.0\n",
       "5  2003          8    167662  45.518031 -122.578752     50.0"
      ]
     },
     "execution_count": 38,
     "metadata": {},
     "output_type": "execute_result"
    }
   ],
   "source": [
    "data = data[[\n",
    "    'price', 'year', 'cylinders',\n",
    "    'odometer', 'lat', 'long', 'weather']]\n",
    "data.dropna(inplace=True)\n",
    "\n",
    "y = data['price']\n",
    "X = data.drop(columns='price')\n",
    "X.head()\n"
   ]
  },
  {
   "cell_type": "code",
   "execution_count": 39,
   "metadata": {},
   "outputs": [
    {
     "name": "stdout",
     "output_type": "stream",
     "text": [
      "MAE: 4045.733\n"
     ]
    }
   ],
   "source": [
    "X_train, X_test, y_train, y_test = train_test_split(\n",
    "    X, y, test_size=0.3, random_state=30)\n",
    "\n",
    "model = linear_model.LinearRegression()\n",
    "model.fit(X_train, y_train)\n",
    "y_predicted = model.predict(X_test)\n",
    "\n",
    "mae = metrics.mean_absolute_error(y_test, y_predicted)\n",
    "print('MAE: %.3f' % mae)\n"
   ]
  },
  {
   "attachments": {},
   "cell_type": "markdown",
   "metadata": {},
   "source": [
    "Первый алгоритм, который мы применим, - Isolation Forest, или iForest. Это алгоритм обнаружения аномалий на основе дерева.\n",
    "Данный метод стремится изолировать аномалии, которые немногочисленны и различаются по пространству признаков.\n",
    "\n",
    "Библиотека scikit-learn предоставляет реализацию Isolation Forest в классе IsolationForest.\n",
    "Одним из основных гиперпараметров модели является contamination («загрязнение»), который используется для оценки количества\n",
    "выбросов в наборе данных. Его значение находится в диапазоне от 0.0 до 0.5 и по умолчанию равно 0.1."
   ]
  },
  {
   "cell_type": "code",
   "execution_count": 40,
   "metadata": {},
   "outputs": [
    {
     "name": "stderr",
     "output_type": "stream",
     "text": [
      "/Users/kirillkuznecov/opt/anaconda3/envs/ds/lib/python3.11/site-packages/sklearn/base.py:420: UserWarning: X does not have valid feature names, but IsolationForest was fitted with feature names\n",
      "  warnings.warn(\n"
     ]
    },
    {
     "name": "stdout",
     "output_type": "stream",
     "text": [
      "(4688, 6) (4688,)\n",
      "MAE: 4051.904\n"
     ]
    }
   ],
   "source": [
    "from sklearn.ensemble import IsolationForest\n",
    "\n",
    "# ищем выбросы в обучающей выборке\n",
    "iso = IsolationForest(contamination=0.1)\n",
    "y_predicted_iso = iso.fit_predict(X_train)\n",
    "\n",
    "# выберем все строки, которые не являются выбросами\n",
    "mask = y_predicted_iso != -1\n",
    "X_train_iso, y_train_iso = X_train[mask], y_train[mask]\n",
    "\n",
    "print(X_train.shape, y_train.shape)\n",
    "\n",
    "model = linear_model.LinearRegression()\n",
    "model.fit(X_train_iso, y_train_iso)\n",
    "\n",
    "y_predicted = model.predict(X_test)\n",
    "mae = metrics.mean_absolute_error(y_test, y_predicted)\n",
    "print('MAE: %.3f' % mae)\n"
   ]
  },
  {
   "attachments": {},
   "cell_type": "markdown",
   "metadata": {},
   "source": [
    "Следующий метод - Local Outlier Factor, или LOF. Это метод, который пытается использовать идею ближайших соседей для\n",
    "обнаружения выбросов.\n",
    "\n",
    "Каждому примеру присваивается оценка того, насколько он изолирован от его локальных соседей. Примеры, которые наиболее\n",
    "отдалены от соседей, скорее всего, будут являться выбросами.\n",
    "\n",
    "Библиотека scikit-learn обеспечивает реализацию этого подхода в классе LocalOutlierFactor."
   ]
  },
  {
   "cell_type": "code",
   "execution_count": 41,
   "metadata": {},
   "outputs": [
    {
     "name": "stdout",
     "output_type": "stream",
     "text": [
      "(4330, 6) (4330,)\n",
      "MAE: 4040.503\n"
     ]
    }
   ],
   "source": [
    "from sklearn.neighbors import LocalOutlierFactor\n",
    "\n",
    "lof = LocalOutlierFactor()\n",
    "y_predicted_lof = lof.fit_predict(X_train)\n",
    "\n",
    "mask = y_predicted_lof != -1\n",
    "X_train_lof, y_train_lof = X_train[mask], y_train[mask]\n",
    "\n",
    "print(X_train_lof.shape, y_train_lof.shape)\n",
    "\n",
    "model = linear_model.LinearRegression()\n",
    "model.fit(X_train_lof, y_train_lof)\n",
    "\n",
    "y_predicted = model.predict(X_test)\n",
    "mae = metrics.mean_absolute_error(y_test, y_predicted)\n",
    "print('MAE: %.3f' % mae)\n"
   ]
  },
  {
   "attachments": {},
   "cell_type": "markdown",
   "metadata": {},
   "source": [
    "Напоследок рассмотрим Minimum Covariance Determinant, или MCD.\n",
    "Если входные переменные имеют гауссово распределение, то для обнаружения выбросов можно использовать простые статистические методы.\n",
    "Например, если набор данных имеет две входные переменные и обе они являются гауссовыми, то пространство признаков образует\n",
    "многомерную гауссовскую зависимость, и знание этого распределения можно использовать для определения значений, далёких от\n",
    "распределения.\n",
    "\n",
    "Этот подход можно обобщить, определив гиперсферу (эллипсоид), которая покрывает нормальные данные, а данные, выходящие за\n",
    "пределы этой формы, считаются выбросами. Эффективная реализация этого метода для многомерных данных известна как\n",
    "детерминант минимальной ковариации (MCD).\n",
    "\n",
    "Библиотека scikit-learn предоставляет доступ к этому методу через класс EllipticEnvelope."
   ]
  },
  {
   "cell_type": "code",
   "execution_count": 42,
   "metadata": {},
   "outputs": [
    {
     "name": "stdout",
     "output_type": "stream",
     "text": [
      "(4641, 6) (4641,)\n",
      "MAE: 4045.733\n"
     ]
    }
   ],
   "source": [
    "from sklearn.covariance import EllipticEnvelope\n",
    "\n",
    "ee = EllipticEnvelope(contamination=0.01)\n",
    "y_predicted_ee = ee.fit_predict(X_train)\n",
    "\n",
    "mask = y_predicted_ee != -1\n",
    "X_train_ee, y_train_ee = X_train[mask], y_train[mask]\n",
    "\n",
    "print(X_train_ee.shape, y_train_ee.shape)\n",
    "\n",
    "model = linear_model.LinearRegression()\n",
    "model.fit(X_train, y_train)\n",
    "\n",
    "y_predicted = model.predict(X_test)\n",
    "mae = metrics.mean_absolute_error(y_test, y_predicted)\n",
    "print('MAE: %.3f' % mae)\n"
   ]
  },
  {
   "attachments": {},
   "cell_type": "markdown",
   "metadata": {},
   "source": [
    "---"
   ]
  },
  {
   "cell_type": "code",
   "execution_count": 43,
   "metadata": {},
   "outputs": [],
   "source": [
    "# Инициализируем датафрейм и разобьем его на X и y по целевому признаку\n",
    "from sklearn import preprocessing\n",
    "data = pd.read_excel('./data/data_ford_price.xlsx')\n"
   ]
  },
  {
   "cell_type": "code",
   "execution_count": 44,
   "metadata": {},
   "outputs": [
    {
     "data": {
      "text/html": [
       "<div><div id=8bd5b7ee-0b10-4b10-a89b-08277827badb style=\"display:none; background-color:#9D6CFF; color:white; width:200px; height:30px; padding-left:5px; border-radius:4px; flex-direction:row; justify-content:space-around; align-items:center;\" onmouseover=\"this.style.backgroundColor='#BA9BF8'\" onmouseout=\"this.style.backgroundColor='#9D6CFF'\" onclick=\"window.commands?.execute('create-mitosheet-from-dataframe-output');\">See Full Dataframe in Mito</div> <script> if (window.commands?.hasCommand('create-mitosheet-from-dataframe-output')) document.getElementById('8bd5b7ee-0b10-4b10-a89b-08277827badb').style.display = 'flex' </script> <table border=\"1\" class=\"dataframe\">\n",
       "  <thead>\n",
       "    <tr style=\"text-align: right;\">\n",
       "      <th></th>\n",
       "      <th>price</th>\n",
       "      <th>year</th>\n",
       "      <th>weather</th>\n",
       "    </tr>\n",
       "  </thead>\n",
       "  <tbody>\n",
       "    <tr>\n",
       "      <th>0</th>\n",
       "      <td>1.982455</td>\n",
       "      <td>2016</td>\n",
       "      <td>0.571429</td>\n",
       "    </tr>\n",
       "    <tr>\n",
       "      <th>1</th>\n",
       "      <td>0.189460</td>\n",
       "      <td>2009</td>\n",
       "      <td>0.071429</td>\n",
       "    </tr>\n",
       "    <tr>\n",
       "      <th>2</th>\n",
       "      <td>-0.630672</td>\n",
       "      <td>2002</td>\n",
       "      <td>-0.428571</td>\n",
       "    </tr>\n",
       "    <tr>\n",
       "      <th>3</th>\n",
       "      <td>-0.706090</td>\n",
       "      <td>2000</td>\n",
       "      <td>-0.142857</td>\n",
       "    </tr>\n",
       "    <tr>\n",
       "      <th>5</th>\n",
       "      <td>-0.346671</td>\n",
       "      <td>2003</td>\n",
       "      <td>-0.071429</td>\n",
       "    </tr>\n",
       "    <tr>\n",
       "      <th>...</th>\n",
       "      <td>...</td>\n",
       "      <td>...</td>\n",
       "      <td>...</td>\n",
       "    </tr>\n",
       "    <tr>\n",
       "      <th>7012</th>\n",
       "      <td>0.631871</td>\n",
       "      <td>2015</td>\n",
       "      <td>0.571429</td>\n",
       "    </tr>\n",
       "    <tr>\n",
       "      <th>7013</th>\n",
       "      <td>-0.411044</td>\n",
       "      <td>2005</td>\n",
       "      <td>-0.071429</td>\n",
       "    </tr>\n",
       "    <tr>\n",
       "      <th>7014</th>\n",
       "      <td>-0.157084</td>\n",
       "      <td>2006</td>\n",
       "      <td>0.571429</td>\n",
       "    </tr>\n",
       "    <tr>\n",
       "      <th>7015</th>\n",
       "      <td>-0.100221</td>\n",
       "      <td>2011</td>\n",
       "      <td>-0.285714</td>\n",
       "    </tr>\n",
       "    <tr>\n",
       "      <th>7016</th>\n",
       "      <td>0.347870</td>\n",
       "      <td>2010</td>\n",
       "      <td>-0.071429</td>\n",
       "    </tr>\n",
       "  </tbody>\n",
       "</table></div>"
      ],
      "text/plain": [
       "         price  year   weather\n",
       "0     1.982455  2016  0.571429\n",
       "1     0.189460  2009  0.071429\n",
       "2    -0.630672  2002 -0.428571\n",
       "3    -0.706090  2000 -0.142857\n",
       "5    -0.346671  2003 -0.071429\n",
       "...        ...   ...       ...\n",
       "7012  0.631871  2015  0.571429\n",
       "7013 -0.411044  2005 -0.071429\n",
       "7014 -0.157084  2006  0.571429\n",
       "7015 -0.100221  2011 -0.285714\n",
       "7016  0.347870  2010 -0.071429\n",
       "\n",
       "[6837 rows x 3 columns]"
      ]
     },
     "execution_count": 44,
     "metadata": {},
     "output_type": "execute_result"
    }
   ],
   "source": [
    "data = data[['price', 'year', 'weather']]\n",
    "data.dropna(inplace=True)\n",
    "data_scaled = data.copy()\n",
    "col_names = ['price', 'weather']\n",
    "x = data_scaled[col_names]\n",
    "\n",
    "\n",
    "scaler = preprocessing.RobustScaler()\n",
    "\n",
    "data_scaled[col_names] = scaler.fit_transform(x.values)\n",
    "data_scaled\n"
   ]
  },
  {
   "cell_type": "markdown",
   "metadata": {},
   "source": []
  },
  {
   "attachments": {},
   "cell_type": "markdown",
   "metadata": {},
   "source": [
    "---"
   ]
  },
  {
   "cell_type": "code",
   "execution_count": 45,
   "metadata": {},
   "outputs": [],
   "source": []
  },
  {
   "cell_type": "code",
   "execution_count": 47,
   "metadata": {},
   "outputs": [],
   "source": [
    "\n"
   ]
  },
  {
   "cell_type": "code",
   "execution_count": null,
   "metadata": {},
   "outputs": [],
   "source": []
  }
 ],
 "metadata": {
  "kernelspec": {
   "display_name": "ds",
   "language": "python",
   "name": "python3"
  },
  "language_info": {
   "codemirror_mode": {
    "name": "ipython",
    "version": 3
   },
   "file_extension": ".py",
   "mimetype": "text/x-python",
   "name": "python",
   "nbconvert_exporter": "python",
   "pygments_lexer": "ipython3",
   "version": "3.11.0"
  },
  "orig_nbformat": 4
 },
 "nbformat": 4,
 "nbformat_minor": 2
}
