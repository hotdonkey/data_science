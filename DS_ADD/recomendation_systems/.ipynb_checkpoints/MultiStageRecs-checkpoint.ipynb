{
 "cells": [
  {
   "cell_type": "code",
   "execution_count": 20,
   "metadata": {
    "id": "S2m9jrt-lgfH",
    "outputId": "8ab5ee48-d492-4eb9-a5b0-d39be86612db",
    "scrolled": true
   },
   "outputs": [],
   "source": [
    "import pandas as pd\n",
    "import implicit\n",
    "import lightfm\n",
    "import scipy\n",
    "\n",
    "import string\n",
    "# Библиотека построения индекса приближенного поиска ближайших соседей\n",
    "import annoy\n",
    "import numpy as np\n",
    "\n",
    "from pymorphy3 import MorphAnalyzer\n",
    "from stop_words import get_stop_words\n",
    "from gensim.models import FastText\n",
    "import tqdm\n",
    "\n",
    "from sklearn.model_selection import train_test_split"
   ]
  },
  {
   "cell_type": "code",
   "execution_count": 14,
   "metadata": {
    "id": "ddqQLulwlgfO",
    "scrolled": true
   },
   "outputs": [],
   "source": [
    "# Для фильтрации пунктуации\n",
    "exclude = set(string.punctuation)\n",
    "# Для приведения слов в начальной форме\n",
    "morpher = MorphAnalyzer()\n",
    "\n",
    "# Для фильтрации стоп-слов\n",
    "sw = get_stop_words(\"en\")\n",
    "\n",
    "def preprocess_txt(line):\n",
    "    spls = \"\".join(i for i in str(line).strip() if i not in exclude).split()\n",
    "    spls = [morpher.parse(i.lower())[0].normal_form for i in spls]\n",
    "    spls = [i for i in spls if i not in sw and i != \"\"]\n",
    "    return spls"
   ]
  },
  {
   "cell_type": "code",
   "execution_count": 15,
   "metadata": {
    "id": "hX4jSy5UlgfQ",
    "outputId": "688846ff-12a4-426e-f82b-143cc7c8c4e0",
    "scrolled": true
   },
   "outputs": [
    {
     "data": {
      "text/html": [
       "<div>\n",
       "<style scoped>\n",
       "    .dataframe tbody tr th:only-of-type {\n",
       "        vertical-align: middle;\n",
       "    }\n",
       "\n",
       "    .dataframe tbody tr th {\n",
       "        vertical-align: top;\n",
       "    }\n",
       "\n",
       "    .dataframe thead th {\n",
       "        text-align: right;\n",
       "    }\n",
       "</style>\n",
       "<table border=\"1\" class=\"dataframe\">\n",
       "  <thead>\n",
       "    <tr style=\"text-align: right;\">\n",
       "      <th></th>\n",
       "      <th>user id</th>\n",
       "      <th>item id</th>\n",
       "      <th>rating</th>\n",
       "      <th>timestamp</th>\n",
       "      <th>score</th>\n",
       "    </tr>\n",
       "  </thead>\n",
       "  <tbody>\n",
       "    <tr>\n",
       "      <th>214</th>\n",
       "      <td>259</td>\n",
       "      <td>255</td>\n",
       "      <td>4</td>\n",
       "      <td>874724710</td>\n",
       "      <td>1</td>\n",
       "    </tr>\n",
       "    <tr>\n",
       "      <th>83965</th>\n",
       "      <td>259</td>\n",
       "      <td>286</td>\n",
       "      <td>4</td>\n",
       "      <td>874724727</td>\n",
       "      <td>1</td>\n",
       "    </tr>\n",
       "    <tr>\n",
       "      <th>43027</th>\n",
       "      <td>259</td>\n",
       "      <td>298</td>\n",
       "      <td>4</td>\n",
       "      <td>874724754</td>\n",
       "      <td>1</td>\n",
       "    </tr>\n",
       "    <tr>\n",
       "      <th>21396</th>\n",
       "      <td>259</td>\n",
       "      <td>185</td>\n",
       "      <td>4</td>\n",
       "      <td>874724781</td>\n",
       "      <td>1</td>\n",
       "    </tr>\n",
       "    <tr>\n",
       "      <th>82655</th>\n",
       "      <td>259</td>\n",
       "      <td>173</td>\n",
       "      <td>4</td>\n",
       "      <td>874724843</td>\n",
       "      <td>1</td>\n",
       "    </tr>\n",
       "  </tbody>\n",
       "</table>\n",
       "</div>"
      ],
      "text/plain": [
       "       user id  item id  rating  timestamp  score\n",
       "214        259      255       4  874724710      1\n",
       "83965      259      286       4  874724727      1\n",
       "43027      259      298       4  874724754      1\n",
       "21396      259      185       4  874724781      1\n",
       "82655      259      173       4  874724843      1"
      ]
     },
     "execution_count": 15,
     "metadata": {},
     "output_type": "execute_result"
    }
   ],
   "source": [
    "# Загрузим рейтинги, также как делали\n",
    "ratings = pd.read_csv(\"./data/ml-100k/u.data\", sep=\"\\t\", header=None)\n",
    "ratings.columns = ['user id', 'item id', 'rating', 'timestamp']\n",
    "ratings.sort_values('timestamp', inplace=True)\n",
    "\n",
    "ratings['score'] = (ratings['rating'] > 2).apply(int)\n",
    "train, test = train_test_split(ratings, test_size=0.2, shuffle=False)\n",
    "\n",
    "ratings.head()"
   ]
  },
  {
   "cell_type": "code",
   "execution_count": 16,
   "metadata": {
    "id": "xXuM5W2KlgfR",
    "outputId": "3b5fb32d-0945-4e8f-ab3a-5618b05caa9b",
    "scrolled": true
   },
   "outputs": [
    {
     "data": {
      "text/html": [
       "<div>\n",
       "<style scoped>\n",
       "    .dataframe tbody tr th:only-of-type {\n",
       "        vertical-align: middle;\n",
       "    }\n",
       "\n",
       "    .dataframe tbody tr th {\n",
       "        vertical-align: top;\n",
       "    }\n",
       "\n",
       "    .dataframe thead th {\n",
       "        text-align: right;\n",
       "    }\n",
       "</style>\n",
       "<table border=\"1\" class=\"dataframe\">\n",
       "  <thead>\n",
       "    <tr style=\"text-align: right;\">\n",
       "      <th></th>\n",
       "      <th>id</th>\n",
       "      <th>title</th>\n",
       "      <th>tagline</th>\n",
       "      <th>description</th>\n",
       "      <th>genres</th>\n",
       "      <th>keywords</th>\n",
       "      <th>date</th>\n",
       "      <th>collection</th>\n",
       "      <th>runtime</th>\n",
       "      <th>revenue</th>\n",
       "      <th>...</th>\n",
       "      <th>cast</th>\n",
       "      <th>production_companies</th>\n",
       "      <th>production_countries</th>\n",
       "      <th>popularity</th>\n",
       "      <th>average_vote</th>\n",
       "      <th>num_votes</th>\n",
       "      <th>language</th>\n",
       "      <th>imdb_id</th>\n",
       "      <th>poster_url</th>\n",
       "      <th>joined</th>\n",
       "    </tr>\n",
       "  </thead>\n",
       "  <tbody>\n",
       "    <tr>\n",
       "      <th>0</th>\n",
       "      <td>862</td>\n",
       "      <td>Toy Story</td>\n",
       "      <td>NaN</td>\n",
       "      <td>Led by Woody, Andy's toys live happily in his ...</td>\n",
       "      <td>animation, comedy, family</td>\n",
       "      <td>jealousy, toy, boy, friendship, friends, rival...</td>\n",
       "      <td>1995-10-30</td>\n",
       "      <td>Toy Story Collection</td>\n",
       "      <td>81.0</td>\n",
       "      <td>373554033.0</td>\n",
       "      <td>...</td>\n",
       "      <td>Tom Hanks, Tim Allen, Don Rickles, Jim Varney,...</td>\n",
       "      <td>Pixar Animation Studios</td>\n",
       "      <td>United States of America</td>\n",
       "      <td>21.946943</td>\n",
       "      <td>7.7</td>\n",
       "      <td>5415.0</td>\n",
       "      <td>en</td>\n",
       "      <td>tt0114709</td>\n",
       "      <td>/rhIRbceoE9lR4veEXuwCC2wARtG.jpg</td>\n",
       "      <td>[toy, story, led, woody, andys, toys, live, ha...</td>\n",
       "    </tr>\n",
       "    <tr>\n",
       "      <th>1</th>\n",
       "      <td>8844</td>\n",
       "      <td>Jumanji</td>\n",
       "      <td>Roll the dice and unleash the excitement!</td>\n",
       "      <td>When siblings Judy and Peter discover an encha...</td>\n",
       "      <td>adventure, fantasy, family</td>\n",
       "      <td>board game, disappearance, based on children's...</td>\n",
       "      <td>1995-12-15</td>\n",
       "      <td>NaN</td>\n",
       "      <td>104.0</td>\n",
       "      <td>262797249.0</td>\n",
       "      <td>...</td>\n",
       "      <td>Robin Williams, Jonathan Hyde, Kirsten Dunst, ...</td>\n",
       "      <td>TriStar Pictures, Teitler Film, Interscope Com...</td>\n",
       "      <td>United States of America</td>\n",
       "      <td>17.015539</td>\n",
       "      <td>6.9</td>\n",
       "      <td>2413.0</td>\n",
       "      <td>en</td>\n",
       "      <td>tt0113497</td>\n",
       "      <td>/vzmL6fP7aPKNKPRTFnZmiUfciyV.jpg</td>\n",
       "      <td>[jumanji, siblings, judy, peter, discover, enc...</td>\n",
       "    </tr>\n",
       "    <tr>\n",
       "      <th>2</th>\n",
       "      <td>15602</td>\n",
       "      <td>Grumpier Old Men</td>\n",
       "      <td>Still Yelling. Still Fighting. Still Ready for...</td>\n",
       "      <td>A family wedding reignites the ancient feud be...</td>\n",
       "      <td>romance, comedy</td>\n",
       "      <td>fishing, best friend, duringcreditsstinger, ol...</td>\n",
       "      <td>1995-12-22</td>\n",
       "      <td>Grumpy Old Men Collection</td>\n",
       "      <td>101.0</td>\n",
       "      <td>0.0</td>\n",
       "      <td>...</td>\n",
       "      <td>Walter Matthau, Jack Lemmon, Ann-Margret, Soph...</td>\n",
       "      <td>Warner Bros., Lancaster Gate</td>\n",
       "      <td>United States of America</td>\n",
       "      <td>11.712900</td>\n",
       "      <td>6.5</td>\n",
       "      <td>92.0</td>\n",
       "      <td>en</td>\n",
       "      <td>tt0113228</td>\n",
       "      <td>/6ksm1sjKMFLbO7UY2i6G1ju9SML.jpg</td>\n",
       "      <td>[grumpier, old, men, family, wedding, reignite...</td>\n",
       "    </tr>\n",
       "    <tr>\n",
       "      <th>3</th>\n",
       "      <td>31357</td>\n",
       "      <td>Waiting to Exhale</td>\n",
       "      <td>Friends are the people who let you be yourself...</td>\n",
       "      <td>Cheated on, mistreated and stepped on, the wom...</td>\n",
       "      <td>comedy, drama, romance</td>\n",
       "      <td>based on novel, interracial relationship, sing...</td>\n",
       "      <td>1995-12-22</td>\n",
       "      <td>NaN</td>\n",
       "      <td>127.0</td>\n",
       "      <td>81452156.0</td>\n",
       "      <td>...</td>\n",
       "      <td>Whitney Houston, Angela Bassett, Loretta Devin...</td>\n",
       "      <td>Twentieth Century Fox Film Corporation</td>\n",
       "      <td>United States of America</td>\n",
       "      <td>3.859495</td>\n",
       "      <td>6.1</td>\n",
       "      <td>34.0</td>\n",
       "      <td>en</td>\n",
       "      <td>tt0114885</td>\n",
       "      <td>/16XOMpEaLWkrcPqSQqhTmeJuqQl.jpg</td>\n",
       "      <td>[waiting, exhale, cheated, mistreated, stepped...</td>\n",
       "    </tr>\n",
       "    <tr>\n",
       "      <th>4</th>\n",
       "      <td>11862</td>\n",
       "      <td>Father of the Bride Part II</td>\n",
       "      <td>Just When His World Is Back To Normal... He's ...</td>\n",
       "      <td>Just when George Banks has recovered from his ...</td>\n",
       "      <td>comedy</td>\n",
       "      <td>baby, midlife crisis, confidence, aging, daugh...</td>\n",
       "      <td>1995-02-10</td>\n",
       "      <td>Father of the Bride Collection</td>\n",
       "      <td>106.0</td>\n",
       "      <td>76578911.0</td>\n",
       "      <td>...</td>\n",
       "      <td>Steve Martin, Diane Keaton, Martin Short, Kimb...</td>\n",
       "      <td>Sandollar Productions, Touchstone Pictures</td>\n",
       "      <td>United States of America</td>\n",
       "      <td>8.387519</td>\n",
       "      <td>5.7</td>\n",
       "      <td>173.0</td>\n",
       "      <td>en</td>\n",
       "      <td>tt0113041</td>\n",
       "      <td>/e64sOI48hQXyru7naBFyssKFxVd.jpg</td>\n",
       "      <td>[father, bride, part, ii, just, george, banks,...</td>\n",
       "    </tr>\n",
       "  </tbody>\n",
       "</table>\n",
       "<p>5 rows × 22 columns</p>\n",
       "</div>"
      ],
      "text/plain": [
       "      id                        title  \\\n",
       "0    862                    Toy Story   \n",
       "1   8844                      Jumanji   \n",
       "2  15602             Grumpier Old Men   \n",
       "3  31357            Waiting to Exhale   \n",
       "4  11862  Father of the Bride Part II   \n",
       "\n",
       "                                             tagline  \\\n",
       "0                                                NaN   \n",
       "1          Roll the dice and unleash the excitement!   \n",
       "2  Still Yelling. Still Fighting. Still Ready for...   \n",
       "3  Friends are the people who let you be yourself...   \n",
       "4  Just When His World Is Back To Normal... He's ...   \n",
       "\n",
       "                                         description  \\\n",
       "0  Led by Woody, Andy's toys live happily in his ...   \n",
       "1  When siblings Judy and Peter discover an encha...   \n",
       "2  A family wedding reignites the ancient feud be...   \n",
       "3  Cheated on, mistreated and stepped on, the wom...   \n",
       "4  Just when George Banks has recovered from his ...   \n",
       "\n",
       "                       genres  \\\n",
       "0   animation, comedy, family   \n",
       "1  adventure, fantasy, family   \n",
       "2             romance, comedy   \n",
       "3      comedy, drama, romance   \n",
       "4                      comedy   \n",
       "\n",
       "                                            keywords        date  \\\n",
       "0  jealousy, toy, boy, friendship, friends, rival...  1995-10-30   \n",
       "1  board game, disappearance, based on children's...  1995-12-15   \n",
       "2  fishing, best friend, duringcreditsstinger, ol...  1995-12-22   \n",
       "3  based on novel, interracial relationship, sing...  1995-12-22   \n",
       "4  baby, midlife crisis, confidence, aging, daugh...  1995-02-10   \n",
       "\n",
       "                       collection  runtime      revenue  ...  \\\n",
       "0            Toy Story Collection     81.0  373554033.0  ...   \n",
       "1                             NaN    104.0  262797249.0  ...   \n",
       "2       Grumpy Old Men Collection    101.0          0.0  ...   \n",
       "3                             NaN    127.0   81452156.0  ...   \n",
       "4  Father of the Bride Collection    106.0   76578911.0  ...   \n",
       "\n",
       "                                                cast  \\\n",
       "0  Tom Hanks, Tim Allen, Don Rickles, Jim Varney,...   \n",
       "1  Robin Williams, Jonathan Hyde, Kirsten Dunst, ...   \n",
       "2  Walter Matthau, Jack Lemmon, Ann-Margret, Soph...   \n",
       "3  Whitney Houston, Angela Bassett, Loretta Devin...   \n",
       "4  Steve Martin, Diane Keaton, Martin Short, Kimb...   \n",
       "\n",
       "                                production_companies  \\\n",
       "0                            Pixar Animation Studios   \n",
       "1  TriStar Pictures, Teitler Film, Interscope Com...   \n",
       "2                       Warner Bros., Lancaster Gate   \n",
       "3             Twentieth Century Fox Film Corporation   \n",
       "4         Sandollar Productions, Touchstone Pictures   \n",
       "\n",
       "       production_countries popularity average_vote  num_votes  language  \\\n",
       "0  United States of America  21.946943          7.7     5415.0        en   \n",
       "1  United States of America  17.015539          6.9     2413.0        en   \n",
       "2  United States of America  11.712900          6.5       92.0        en   \n",
       "3  United States of America   3.859495          6.1       34.0        en   \n",
       "4  United States of America   8.387519          5.7      173.0        en   \n",
       "\n",
       "     imdb_id                        poster_url  \\\n",
       "0  tt0114709  /rhIRbceoE9lR4veEXuwCC2wARtG.jpg   \n",
       "1  tt0113497  /vzmL6fP7aPKNKPRTFnZmiUfciyV.jpg   \n",
       "2  tt0113228  /6ksm1sjKMFLbO7UY2i6G1ju9SML.jpg   \n",
       "3  tt0114885  /16XOMpEaLWkrcPqSQqhTmeJuqQl.jpg   \n",
       "4  tt0113041  /e64sOI48hQXyru7naBFyssKFxVd.jpg   \n",
       "\n",
       "                                              joined  \n",
       "0  [toy, story, led, woody, andys, toys, live, ha...  \n",
       "1  [jumanji, siblings, judy, peter, discover, enc...  \n",
       "2  [grumpier, old, men, family, wedding, reignite...  \n",
       "3  [waiting, exhale, cheated, mistreated, stepped...  \n",
       "4  [father, bride, part, ii, just, george, banks,...  \n",
       "\n",
       "[5 rows x 22 columns]"
      ]
     },
     "execution_count": 16,
     "metadata": {},
     "output_type": "execute_result"
    }
   ],
   "source": [
    "# Загрузим данные о фильмах, сразу же создадим колонку с title+description предобработанные для обучения fasttext\n",
    "movies = pd.read_csv(\"./data/movies.csv\")\n",
    "movies['joined'] = (movies['title'] + \" \" + movies[\"description\"]).apply(preprocess_txt)\n",
    "\n",
    "movies.head()"
   ]
  },
  {
   "cell_type": "code",
   "execution_count": 21,
   "metadata": {
    "colab": {
     "referenced_widgets": [
      "a845c4da8db14f7cb67a3b559133aa78"
     ]
    },
    "id": "Ihfn6pkglgfS",
    "outputId": "90583c77-af26-4f1e-e957-8cd59e195bdd",
    "scrolled": true
   },
   "outputs": [
    {
     "data": {
      "application/vnd.jupyter.widget-view+json": {
       "model_id": "656f4403e3f040489d19c57371880928",
       "version_major": 2,
       "version_minor": 0
      },
      "text/plain": [
       "  0%|          | 0/46628 [00:00<?, ?it/s]"
      ]
     },
     "metadata": {},
     "output_type": "display_data"
    },
    {
     "data": {
      "text/plain": [
       "True"
      ]
     },
     "execution_count": 21,
     "metadata": {},
     "output_type": "execute_result"
    }
   ],
   "source": [
    "# Подготовим кандидатогенератор, который будет отдавать фильмы похожие по текстовому описанию на те, которые оенил пользователь\n",
    "# Обучим Fasttext и заэмбедим фильмы\n",
    "sentences = [i for i in movies['joined'] if len(i) > 2]\n",
    "modelFT = FastText(sentences=sentences, vector_size=20, min_count=1, window=5)\n",
    "\n",
    "# Для того, чтобы быстро находить айтемы положим эмбединги их тайтлов в ANN индекс\n",
    "# Создадим объект индекса\n",
    "ft_index_movies = annoy.AnnoyIndex(20 ,'angular')\n",
    "\n",
    "# Будем хранить соответствия не только id-> фильм, но и фильм-> id, чтобы быстрее находить эмбеддинги айтемов\n",
    "index_map_movies = {}\n",
    "reverse_index_map = {}\n",
    "counter = 0\n",
    "\n",
    "for i in tqdm.notebook.tqdm(range(len(movies))):\n",
    "    n_ft = 0\n",
    "    index_map_movies[counter] = movies.loc[i, \"title\"]\n",
    "    reverse_index_map[movies.loc[i, \"id\"]] = counter\n",
    "    vector_ft = np.zeros(20)\n",
    "    # Каждое слово обернем в эмбеддинг\n",
    "    for word in movies.loc[i, \"joined\"]:\n",
    "        if word in modelFT.wv.key_to_index:\n",
    "            vector_ft += modelFT.wv.get_vector(word)\n",
    "            n_ft += 1\n",
    "    if n_ft > 0:\n",
    "        vector_ft = vector_ft / n_ft\n",
    "    ft_index_movies.add_item(counter, vector_ft)\n",
    "    counter += 1\n",
    "\n",
    "# \n",
    "ft_index_movies.build(10)"
   ]
  },
  {
   "cell_type": "code",
   "execution_count": 23,
   "metadata": {
    "id": "Fjvppbi0lgfT",
    "scrolled": true
   },
   "outputs": [],
   "source": [
    "# Создадим метод, который по id фильма будет возвращать похожие на него по описанию фильмы\n",
    "def recommend(movie_id, num_sampled=10):\n",
    "    if movie_id not in reverse_index_map:\n",
    "        return []\n",
    "    return ft_index_movies.get_nns_by_item(reverse_index_map[movie_id], num_sampled)"
   ]
  },
  {
   "cell_type": "code",
   "execution_count": 24,
   "metadata": {
    "id": "xBAt2UivlgfU",
    "scrolled": true
   },
   "outputs": [],
   "source": [
    "# Сделаем сразу рандомный кандидатогенератор (он нам пригодится для кандидатогенерации по жанрам)\n",
    "def sample_random(sample_set, num_sampled=10):\n",
    "    return np.random.choice(sample_set, num_sampled, replace=False)"
   ]
  },
  {
   "cell_type": "code",
   "execution_count": 25,
   "metadata": {
    "id": "PemDQOPalgfV",
    "scrolled": true
   },
   "outputs": [],
   "source": [
    "# Сделаем кандидатогенератор по последним просмотренным жанрам\n",
    "\n",
    "movies2genres = {}\n",
    "genres_dict = {}\n",
    "\n",
    "for i in range(len(movies)):\n",
    "    genres = str(movies.loc[i, \"genres\"]).strip().split(\",\")\n",
    "    movies2genres[movies.loc[i, 'id']] = genres\n",
    "    for genre in genres:\n",
    "        if genre not in genres_dict:\n",
    "            genres_dict[genre] = []\n",
    "        genres_dict[genre].append(movies.loc[i, 'id'])"
   ]
  },
  {
   "cell_type": "code",
   "execution_count": 26,
   "metadata": {
    "id": "MZ0sZaE1lgfW",
    "scrolled": true
   },
   "outputs": [],
   "source": [
    "# Создадим метод, который по последнему пролайканному пользователем фильму будет возвращать набор кандидатов\n",
    "# КОнечно, целесообразно включать более полную историю, но все-таки это учебный пример\n",
    "\n",
    "movies_unique = movies['id'].unique()\n",
    "\n",
    "def candidate_generator(movie_id):\n",
    "    candidates_ft = []\n",
    "    if movie_id is not None:\n",
    "        candidates_ft = list(recommend(movie_id))\n",
    "    candidates_random = list(sample_random(movies_unique))\n",
    "\n",
    "    candidates_genres = []\n",
    "    for genre in movies2genres.get(movie_id, []):\n",
    "        candidates_genres += list(sample_random(genres_dict[genre], 5))\n",
    "    # Отфильтруем входной фильмы (он мог попасть в кандидаты) и уберем дубликаты\n",
    "    return set([i for i in candidates_ft + candidates_genres + candidates_random if i!= movie_id])"
   ]
  },
  {
   "cell_type": "code",
   "execution_count": 27,
   "metadata": {
    "id": "f6PJONE3lgfX",
    "outputId": "2920f72d-947b-4f2d-f6cd-2932d0cd8bb9",
    "scrolled": true
   },
   "outputs": [
    {
     "data": {
      "text/plain": [
       "{1903,\n",
       " 2641,\n",
       " 2892,\n",
       " 10413,\n",
       " 16141,\n",
       " 17941,\n",
       " 19783,\n",
       " 21864,\n",
       " 29970,\n",
       " 38386,\n",
       " 40126,\n",
       " 40191,\n",
       " 40382,\n",
       " 41869,\n",
       " 45284,\n",
       " 59296,\n",
       " 70104,\n",
       " 76207,\n",
       " 87936,\n",
       " 87939,\n",
       " 89237,\n",
       " 104505,\n",
       " 134480,\n",
       " 165739,\n",
       " 237983,\n",
       " 246655,\n",
       " 315319,\n",
       " 330399,\n",
       " 364089,\n",
       " 374052}"
      ]
     },
     "execution_count": 27,
     "metadata": {},
     "output_type": "execute_result"
    }
   ],
   "source": [
    "# Проверим как работает наш кандидатогенератор\n",
    "\n",
    "candidate_generator(802)"
   ]
  },
  {
   "cell_type": "code",
   "execution_count": 28,
   "metadata": {
    "id": "INLDZWV8lgfY",
    "outputId": "db2caf8c-13f0-4ea2-8a67-0dd504247a33",
    "scrolled": true
   },
   "outputs": [
    {
     "data": {
      "text/plain": [
       "<lightfm.lightfm.LightFM at 0x17ce44d00>"
      ]
     },
     "execution_count": 28,
     "metadata": {},
     "output_type": "execute_result"
    }
   ],
   "source": [
    "# Подготовим наши ранжирующие факторизационные машины\n",
    "train_pivot = (1 + ratings.pivot(index=\"user id\", columns=\"item id\", values=\"score\")).fillna(0)\n",
    "train_pivot.reset_index(inplace=True, drop=False)\n",
    "train_pivot = scipy.sparse.csr_matrix(train_pivot)\n",
    "\n",
    "model = lightfm.LightFM(loss='warp')\n",
    "model.fit(train_pivot, epochs=30)"
   ]
  },
  {
   "cell_type": "code",
   "execution_count": 33,
   "metadata": {
    "colab": {
     "referenced_widgets": [
      "023494c9ab02406b9b93ff23c56d2a9d"
     ]
    },
    "id": "6GQC4CLvlgfY",
    "outputId": "65e5669e-2f13-4499-9f47-6bd7d04de35e",
    "scrolled": true
   },
   "outputs": [
    {
     "name": "stderr",
     "output_type": "stream",
     "text": [
      "/var/folders/df/dz8wtw0j7791hg98mrx_thxc0000gn/T/ipykernel_86170/3668647822.py:12: TqdmDeprecationWarning: This function will be removed in tqdm==5.0.0\n",
      "Please use `tqdm.notebook.tqdm` instead of `tqdm.tqdm_notebook`\n",
      "  for user_id, liked in tqdm.tqdm_notebook(test_grouped.items()):\n"
     ]
    },
    {
     "data": {
      "application/vnd.jupyter.widget-view+json": {
       "model_id": "340e57b197314f3bac370e5fb5bce68a",
       "version_major": 2,
       "version_minor": 0
      },
      "text/plain": [
       "  0%|          | 0/301 [00:00<?, ?it/s]"
      ]
     },
     "metadata": {},
     "output_type": "display_data"
    },
    {
     "name": "stdout",
     "output_type": "stream",
     "text": [
      "0.005980066445182726\n"
     ]
    }
   ],
   "source": [
    "# Посмотрим, насколько статичные рекомендации будут хороши: возьмем последний лайк для каждого пользователя в тренировочном сете\n",
    "item_ids = set(train['item id'].unique())\n",
    "known_likes = train[train['score'] > 0].groupby('user id')['item id'].unique().to_dict()\n",
    "\n",
    "# Получаем последние лайки\n",
    "last_like = train[train['score'] > 0].drop_duplicates(['user id'], keep=\"last\")[[\"user id\", \"item id\"]].to_dict()\n",
    "test_grouped = test[test['score'] > 0].groupby('user id')['item id'].unique().to_dict()\n",
    "\n",
    "\n",
    "map_at10 = 0\n",
    "\n",
    "for user_id, liked in tqdm.tqdm_notebook(test_grouped.items()):\n",
    "    values = set(liked)\n",
    "    train_likes = set(known_likes.get(user_id, []))\n",
    "    candidates = list(candidate_generator(last_like.get(user_id, None)))\n",
    "    \n",
    "    # Факторизационные машины не умеют работать с айтемами, которых они не видели\n",
    "    # ПОэтому надо отфильтровать кандидатов\n",
    "    candidates = [i for i in candidates if i in item_ids]\n",
    "    \n",
    "    # Если мы не смогли ничего отскорить, то считаем, что пользователь просто получил нашу выдачу в рандомном порядке\n",
    "    recommendations = candidates[:min(10, len(candidates))]\n",
    "    if len(candidates) != 0:\n",
    "        recommendations = sorted(list(zip(item_ids, model.predict(user_id, candidates))), key=lambda x: x[1], reverse=True)\n",
    "        recommendations = set([i[0] for i in recommendations if i not in train_likes][:10])\n",
    "    map_at10 += len(values.intersection(recommendations)) / 10\n",
    "map_at10 = map_at10 / len(test_grouped)\n",
    "print(map_at10)"
   ]
  },
  {
   "cell_type": "markdown",
   "metadata": {
    "id": "TNqqzlkslgfZ"
   },
   "source": [
    "Мы видим, что качество просело, это объясняется тем, что мы начали рекомендовать из всего пула фильмов (не все видело наше ранжирование), данное упражнение должно было показать вам что такое многостадийные рекомендации. Вы должны усвоить, что обе стадии - ранжирование и кандидатогенерация тесно связаны между собой и очень важны каждая сама по себе."
   ]
  },
  {
   "cell_type": "code",
   "execution_count": null,
   "metadata": {},
   "outputs": [],
   "source": []
  }
 ],
 "metadata": {
  "colab": {
   "collapsed_sections": [],
   "name": "MultiStageRecs.ipynb",
   "provenance": []
  },
  "kernelspec": {
   "display_name": "Python 3 (ipykernel)",
   "language": "python",
   "name": "python3"
  },
  "language_info": {
   "codemirror_mode": {
    "name": "ipython",
    "version": 3
   },
   "file_extension": ".py",
   "mimetype": "text/x-python",
   "name": "python",
   "nbconvert_exporter": "python",
   "pygments_lexer": "ipython3",
   "version": "3.10.13"
  }
 },
 "nbformat": 4,
 "nbformat_minor": 1
}
