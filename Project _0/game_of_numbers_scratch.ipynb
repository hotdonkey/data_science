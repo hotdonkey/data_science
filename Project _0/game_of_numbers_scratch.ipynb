{
 "cells": [
  {
   "cell_type": "code",
   "execution_count": 2,
   "metadata": {},
   "outputs": [
    {
     "name": "stdout",
     "output_type": "stream",
     "text": [
      "It takes: 5 attempts to find the number in average\n"
     ]
    },
    {
     "data": {
      "text/plain": [
       "6"
      ]
     },
     "execution_count": 2,
     "metadata": {},
     "output_type": "execute_result"
    }
   ],
   "source": [
    "import numpy as np\n",
    "\n",
    "def random_predict(number:int=np.random.randint(1, 101)) -> int:\n",
    "    \"\"\"Prediction of the random number from the range \n",
    "       (adjustable can be replaced by user iput) via algorithm\n",
    "       that will keep attempts number in the stable range below 10\n",
    "       (main goal is to keep avg attemts on the lvl of 7).\n",
    "\n",
    "       Args:\n",
    "       number (int, random): Number which we are trying to find.\n",
    "\n",
    "       Returns:\n",
    "       int: Number of attempts\n",
    "    \"\"\"\n",
    "    count = 0\n",
    "    upper = 101                                             #upper border of the generated list\n",
    "    lower = 1                                               #lower border of the generated list\n",
    "    number_range = [x for x in range(lower,upper)]          #generated searching list\n",
    "    \n",
    "    while True:\n",
    "        count += 1\n",
    "        predict_number = number_range[round(len(number_range)/2)-1]\n",
    "        \n",
    "        if predict_number > number:                          #First check\n",
    "            upper = predict_number+1                         #if number is in the lower range\n",
    "            number_range = [x for x in range(lower,upper)]   #cutting off upper range and searching in\n",
    "            #print(predict_number)                           #the lower range\n",
    "        \n",
    "        elif predict_number < number:                        #Second check\n",
    "            lower = predict_number                           #if number is in the higher range\n",
    "            upper += 1                                       #cutting off lower range\n",
    "            number_range = [x for x in range(lower,upper)]   #and proceed searching\n",
    "            #print(predict_number)\n",
    "        \n",
    "        else:                                                #Final result\n",
    "            break\n",
    "                    \n",
    "    return count\n",
    "\n",
    "def score_game(random_predict) -> int:\n",
    "    \"\"\"Calculation of the average number of attempts that\n",
    "       needed to find our number \n",
    "\n",
    "       Args:\n",
    "       random_predict ([type]): prediction function from abowe\n",
    "\n",
    "       Returns:\n",
    "       int: avg numbers of attempts\n",
    "    \"\"\"\n",
    "    count_ls = []\n",
    "    #np.random.seed(1)                                        #fixing seed (dunno what it is realy >.<)\n",
    "    random_array = np.random.randint(1, 101, size=(1000))     #ammount of cycles to find the number in the stated range\n",
    "\n",
    "    for number in random_array:\n",
    "        count_ls.append(random_predict(number))\n",
    "\n",
    "    score = int(np.mean(count_ls))\n",
    "    print(f\"It takes: {score} attempts to find the number in average\")\n",
    "    return score\n",
    "\n",
    "\n",
    "if __name__ == \"__main__\":\n",
    "    # RUN\n",
    "    score_game(random_predict)\n",
    "\n",
    "random_predict()"
   ]
  },
  {
   "cell_type": "code",
   "execution_count": null,
   "metadata": {},
   "outputs": [],
   "source": []
  }
 ],
 "metadata": {
  "kernelspec": {
   "display_name": "Python 3.8.8 ('base')",
   "language": "python",
   "name": "python3"
  },
  "language_info": {
   "codemirror_mode": {
    "name": "ipython",
    "version": 3
   },
   "file_extension": ".py",
   "mimetype": "text/x-python",
   "name": "python",
   "nbconvert_exporter": "python",
   "pygments_lexer": "ipython3",
   "version": "3.8.8"
  },
  "orig_nbformat": 4,
  "vscode": {
   "interpreter": {
    "hash": "0a4563de36e3f3ac1b0f6b819c2b55265fc3ddf1d5829ad5206b1e010f711c02"
   }
  }
 },
 "nbformat": 4,
 "nbformat_minor": 2
}
