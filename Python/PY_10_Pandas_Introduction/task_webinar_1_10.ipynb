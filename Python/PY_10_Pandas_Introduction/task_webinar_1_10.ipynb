{
 "cells": [
  {
   "cell_type": "code",
   "execution_count": null,
   "metadata": {},
   "outputs": [],
   "source": [
    "import pandas as pd\n",
    "import numpy as np\n",
    "amazon_df = pd.read_csv('https://raw.githubusercontent.com/AndreyRysistov/VebinarDST/main/amazon_com_data.csv')\n",
    "\n",
    "#amazon_df.head(5)\n",
    "#amazon_df.shape\n",
    "#amazon_df.columns\n",
    "#amazon_df.info()\n",
    "#print(f'Ammount of elements {amazon_df.shape[0]}')\n",
    "#amazon_df.describe()\n",
    "#amazon_df.describe(include=['object'])\n",
    "\n",
    "amazon_df.drop(\n",
    "    ['pdp_url', 'description', 'total_sizes', 'available_size', 'style_attributes',],\n",
    "    axis=1,\n",
    "    inplace=True\n",
    ")\n",
    "#amazon_df.describe(include=['object'])\n",
    "\n",
    "amazon_df['mrp'] = amazon_df['mrp'].str.replace('$','').astype('float64')\n",
    "amazon_df['price'] = amazon_df['price'].str.replace('$','').astype('float64')\n",
    "\n",
    "#amazon_df.describe(include=['object'])\n",
    "#amazon_df.describe()\n",
    "#amazon_df.head()\n",
    "#amazon_df['price'].hist()\n",
    "#amazon_df['review_count'].sum()  #answer 9634073\n",
    "#amazon_df[amazon_df['brand_name']=='Hanky-Panky'].shape[0] #answer 338\n",
    "#round(amazon_df['price'].corr(amazon_df['rating']), ndigits=3) #answer 0,013\n",
    "#amazon_df[amazon_df['brand_name']=='Wacoal']['product_name'].mode()  #answer Wacoal Women's Retro Chic Underwire Bra\n",
    "#amazon_df[amazon_df['brand_name'] == 'Fila']['color'].unique().shape[0] #answer 1"
   ]
  },
  {
   "cell_type": "code",
   "execution_count": 84,
   "metadata": {},
   "outputs": [
    {
     "name": "stdout",
     "output_type": "stream",
     "text": [
      "<class 'pandas.core.frame.DataFrame'>\n",
      "RangeIndex: 917 entries, 0 to 916\n",
      "Data columns (total 13 columns):\n",
      " #   Column              Non-Null Count  Dtype  \n",
      "---  ------              --------------  -----  \n",
      " 0   Name                917 non-null    object \n",
      " 1   Allegiances         917 non-null    object \n",
      " 2   Death Year          305 non-null    float64\n",
      " 3   Book of Death       307 non-null    float64\n",
      " 4   Death Chapter       299 non-null    float64\n",
      " 5   Book Intro Chapter  905 non-null    float64\n",
      " 6   Gender              917 non-null    int64  \n",
      " 7   Nobility            917 non-null    int64  \n",
      " 8   GoT                 917 non-null    int64  \n",
      " 9   CoK                 917 non-null    int64  \n",
      " 10  SoS                 917 non-null    int64  \n",
      " 11  FfC                 917 non-null    int64  \n",
      " 12  DwD                 917 non-null    int64  \n",
      "dtypes: float64(4), int64(7), object(2)\n",
      "memory usage: 93.3+ KB\n"
     ]
    }
   ],
   "source": [
    "'''\n",
    "    1. В каком случае персонажи умирают чаще, когда они верны Ланистерам или Старкам (столбец Allegiances)?\n",
    "    2. В какой книге умерло больше всего персонажей? (столбец Book of Death)\n",
    "    3. Каково соотношение погибнувших женщин и мужчин? (столбец Gender, 1- мужчина, 0 - женщина)\n",
    "    4. Что вы можете сказать о том, есть ли зависимость вероятности смерти персонажа от его титула? (столбец Nobility, 1 - есть титул, 0 - простолюдин)\n",
    "'''\n",
    "\n",
    "\n",
    "agot_df = pd.read_csv('https://raw.githubusercontent.com/AndreyRysistov/VebinarDST/main/character-deaths.csv')\n",
    "agot_df.info()"
   ]
  },
  {
   "cell_type": "code",
   "execution_count": null,
   "metadata": {},
   "outputs": [],
   "source": []
  }
 ],
 "metadata": {
  "kernelspec": {
   "display_name": "Python 3.10.6 64-bit",
   "language": "python",
   "name": "python3"
  },
  "language_info": {
   "codemirror_mode": {
    "name": "ipython",
    "version": 3
   },
   "file_extension": ".py",
   "mimetype": "text/x-python",
   "name": "python",
   "nbconvert_exporter": "python",
   "pygments_lexer": "ipython3",
   "version": "3.10.6"
  },
  "orig_nbformat": 4,
  "vscode": {
   "interpreter": {
    "hash": "27b4a17af713f464e4f7b4da81cd20c20d6cf4af2f1712b81a84a456da04343d"
   }
  }
 },
 "nbformat": 4,
 "nbformat_minor": 2
}
