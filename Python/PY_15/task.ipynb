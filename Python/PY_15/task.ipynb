{
 "cells": [
  {
   "cell_type": "code",
   "execution_count": 1,
   "metadata": {},
   "outputs": [],
   "source": [
    "class DepartmentReport():\n",
    "    def add_revenue(self, amount):\n",
    "        if not hasattr(self, 'revenues'):\n",
    "            self.revenues = []\n",
    "        self.revenues.append(amount)\n",
    "    \n",
    "    def average_revenue(self):\n",
    "        return sum(self.revenues) / len(self.revenues)"
   ]
  },
  {
   "cell_type": "code",
   "execution_count": 2,
   "metadata": {},
   "outputs": [
    {
     "name": "stdout",
     "output_type": "stream",
     "text": [
      "[1000000, 400000]\n",
      "700000.0\n"
     ]
    }
   ],
   "source": [
    "report = DepartmentReport()\n",
    "report.add_revenue(1_000_000)\n",
    "report.add_revenue(400_000)\n",
    "print(report.revenues)\n",
    "# => [1000000, 400000]\n",
    "print(report.average_revenue())\n",
    "# => 700000.0"
   ]
  },
  {
   "cell_type": "code",
   "execution_count": 3,
   "metadata": {},
   "outputs": [],
   "source": [
    "class DepartmentReport():\n",
    "    def __init__(self, company):\n",
    "        self.revenues = []\n",
    "        self.company = company\n",
    "        \n",
    "    def add_revenue(self, amount):\n",
    "        self.revenues.append(amount)\n",
    "    \n",
    "    def average_revenue(self):\n",
    "        average = round(sum(self.revenues) / len(self.revenues))\n",
    "        return f'Average department revenue for {self.company}: {average}'"
   ]
  },
  {
   "cell_type": "code",
   "execution_count": 4,
   "metadata": {},
   "outputs": [
    {
     "name": "stdout",
     "output_type": "stream",
     "text": [
      "Average department revenue for Danon: 700000\n"
     ]
    }
   ],
   "source": [
    "report = DepartmentReport(\"Danon\")\n",
    "report.add_revenue(1_000_000)\n",
    "report.add_revenue(400_000)\n",
    "\n",
    "print(report.average_revenue())\n",
    "# => Average department revenue for Danon: 700000"
   ]
  },
  {
   "cell_type": "code",
   "execution_count": 33,
   "metadata": {},
   "outputs": [],
   "source": [
    "class User():\n",
    "    def __init__(self, email, password, balance):\n",
    "        self.email = email\n",
    "        self.password = password\n",
    "        self.balance = balance\n",
    "        self.amount = 0\n",
    "    \n",
    "    def login(self, email, password):\n",
    "        if self.email == email and self.password == password:\n",
    "            return True\n",
    "        else:\n",
    "            return False\n",
    "            \n",
    "    def update_balance(self, amount):\n",
    "        self.amount = amount\n",
    "        self.balance += self.amount\n",
    "        return self.balance"
   ]
  },
  {
   "cell_type": "code",
   "execution_count": 35,
   "metadata": {},
   "outputs": [
    {
     "name": "stdout",
     "output_type": "stream",
     "text": [
      "19700\n"
     ]
    }
   ],
   "source": [
    "user = User(\"gosha@roskino.org\", \"qwerty\", 20_000)\n",
    "#user.login(\"gosha@roskino.org\", \"qwerty123\")\n",
    "# => False\n",
    "#user.login(\"gosha@roskino.org\", \"qwerty\")\n",
    "# => True\n",
    "user.update_balance(200)\n",
    "user.update_balance(-500)\n",
    "print(user.balance)\n",
    "# => 19700"
   ]
  },
  {
   "cell_type": "code",
   "execution_count": 153,
   "metadata": {},
   "outputs": [],
   "source": [
    "class IntDataFrame():\n",
    "    def __init__(self, data: int):\n",
    "        self.data = [int(x) for x in data]\n",
    "        self.counter = 0\n",
    "        self.count()\n",
    "        self.unique()\n",
    "    \n",
    "    def count(self):\n",
    "        for i in self.data:\n",
    "            if i > 0:\n",
    "                self.counter += 1\n",
    "        return self.counter // 2\n",
    "        \n",
    "    \n",
    "    def unique(self):\n",
    "        return len(set(self.data))"
   ]
  },
  {
   "cell_type": "code",
   "execution_count": 155,
   "metadata": {},
   "outputs": [
    {
     "data": {
      "text/plain": [
       "4"
      ]
     },
     "execution_count": 155,
     "metadata": {},
     "output_type": "execute_result"
    }
   ],
   "source": [
    "df = IntDataFrame([-4.7, 4, 3, 0, 2.4, 0.3, 4])\n",
    "\n",
    "df.count()\n",
    "# => 5\n",
    "#df.unique()\n",
    "# => 4"
   ]
  },
  {
   "cell_type": "code",
   "execution_count": 160,
   "metadata": {},
   "outputs": [],
   "source": [
    "class OwnLogger():\n",
    "    def __init__(self):\n",
    "        self.logs = {\"info\": None, \"warning\": None, \"error\": None, \"all\": None}\n",
    "    \n",
    "    def log(self, message, level):\n",
    "        self.logs[level] = message\n",
    "        self.logs['all'] = message\n",
    "    \n",
    "    def show_last(self, level='all'):\n",
    "        return self.logs[level]\n",
    "    \n"
   ]
  },
  {
   "cell_type": "code",
   "execution_count": 161,
   "metadata": {},
   "outputs": [
    {
     "data": {
      "text/plain": [
       "'System started'"
      ]
     },
     "execution_count": 161,
     "metadata": {},
     "output_type": "execute_result"
    }
   ],
   "source": [
    "logger = OwnLogger()\n",
    "logger.log(\"System started\", \"info\")\n",
    "logger.show_last(\"error\")\n",
    "# => None\n",
    "# Некоторые интерпретаторы Python могут не выводить None, тогда в этой проверке у вас будет пустая строка\n",
    "logger.log(\"Connection instable\", \"warning\")\n",
    "logger.log(\"Connection lost\", \"error\")\n",
    "\n",
    "logger.show_last()\n",
    "# => Connection lost\n",
    "logger.show_last(\"info\")\n",
    "# => System started"
   ]
  },
  {
   "cell_type": "code",
   "execution_count": 162,
   "metadata": {},
   "outputs": [
    {
     "name": "stdout",
     "output_type": "stream",
     "text": [
      "d:\\ide\\code\\skillfactory\\PY_15\n"
     ]
    }
   ],
   "source": [
    "start_path = os.getcwd()\n",
    "print(start_path) # /home/nbuser/library"
   ]
  },
  {
   "cell_type": "code",
   "execution_count": 163,
   "metadata": {},
   "outputs": [
    {
     "data": {
      "text/plain": [
       "'d:\\\\ide\\\\code\\\\skillfactory'"
      ]
     },
     "execution_count": 163,
     "metadata": {},
     "output_type": "execute_result"
    }
   ],
   "source": [
    "os.chdir(\"..\") # подняться на один уровень выше\n",
    "os.getcwd() # '/home/nbuser'"
   ]
  },
  {
   "cell_type": "code",
   "execution_count": 164,
   "metadata": {},
   "outputs": [
    {
     "data": {
      "text/plain": [
       "'d:\\\\ide\\\\code\\\\skillfactory\\\\PY_15'"
      ]
     },
     "execution_count": 164,
     "metadata": {},
     "output_type": "execute_result"
    }
   ],
   "source": [
    "os.chdir(start_path)\n",
    "os.getcwd() # '/home/nbuser/library'"
   ]
  },
  {
   "cell_type": "code",
   "execution_count": 165,
   "metadata": {},
   "outputs": [
    {
     "name": "stdout",
     "output_type": "stream",
     "text": [
      "['data', 'task.ipynb']\n",
      "Файл отсутствует в данной директории\n"
     ]
    }
   ],
   "source": [
    "import os\n",
    "\n",
    "print(os.listdir()) # ['SnapchatLoader', 'FBLoader', 'tmp.py', '.gitignore', 'venv', '.git']\n",
    "\n",
    "if 'tmp.py' not in os.listdir():\n",
    "    print(\"Файл отсутствует в данной директории\")"
   ]
  },
  {
   "cell_type": "code",
   "execution_count": 166,
   "metadata": {},
   "outputs": [
    {
     "name": "stdout",
     "output_type": "stream",
     "text": [
      "d:\\ide\\code\\skillfactory\\PY_15\n",
      "d:\\ide\\code\\skillfactory\\PY_15\\test\n"
     ]
    }
   ],
   "source": [
    "print(start_path)\n",
    "print(os.path.join(start_path, 'test'))\n"
   ]
  },
  {
   "cell_type": "code",
   "execution_count": null,
   "metadata": {},
   "outputs": [],
   "source": []
  }
 ],
 "metadata": {
  "kernelspec": {
   "display_name": "Python 3.10.6 64-bit",
   "language": "python",
   "name": "python3"
  },
  "language_info": {
   "codemirror_mode": {
    "name": "ipython",
    "version": 3
   },
   "file_extension": ".py",
   "mimetype": "text/x-python",
   "name": "python",
   "nbconvert_exporter": "python",
   "pygments_lexer": "ipython3",
   "version": "3.10.6"
  },
  "orig_nbformat": 4,
  "vscode": {
   "interpreter": {
    "hash": "27b4a17af713f464e4f7b4da81cd20c20d6cf4af2f1712b81a84a456da04343d"
   }
  }
 },
 "nbformat": 4,
 "nbformat_minor": 2
}
