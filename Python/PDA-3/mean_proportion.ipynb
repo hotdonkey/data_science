{
 "cells": [
  {
   "cell_type": "code",
   "execution_count": 4,
   "metadata": {},
   "outputs": [],
   "source": [
    "import numpy as np\n",
    "from scipy import stats"
   ]
  },
  {
   "cell_type": "markdown",
   "metadata": {},
   "source": [
    "### НАЧНЁМ С ОДНОВЫБОРОЧНЫХ ТЕСТОВ\n",
    "\n",
    "Помним, что данные должны приходить из нормального распределения. Сгенерируем множество точек из нормального распределения (для воспроизводимости зафиксируем random state) со средним, равным 5, и стандартным отклонением, равным 2."
   ]
  },
  {
   "cell_type": "code",
   "execution_count": 5,
   "metadata": {},
   "outputs": [],
   "source": [
    "np.random.seed(13)\n",
    "random_normal = np.random.normal(5, 2, 100)\n",
    "random_bin = np.random.choice([0, 1], size=(100,), p=[0.8, 0.2])"
   ]
  },
  {
   "cell_type": "markdown",
   "metadata": {},
   "source": [
    "Проверим гипотезу, что среднее выборки, сгенерированной из нормального распределения, равно 0:"
   ]
  },
  {
   "cell_type": "code",
   "execution_count": 8,
   "metadata": {},
   "outputs": [
    {
     "data": {
      "text/plain": [
       "TtestResult(statistic=27.315846581411247, pvalue=6.762242033211967e-48, df=99)"
      ]
     },
     "execution_count": 8,
     "metadata": {},
     "output_type": "execute_result"
    }
   ],
   "source": [
    "stats.ttest_1samp(random_normal, 0.0)"
   ]
  },
  {
   "cell_type": "markdown",
   "metadata": {},
   "source": [
    "По результату мы видим, что p_value= 6.762242033211871e-48, соответственно, гипотеза о равенстве среднего нулю отвергается на уровне значимости 0.01 (вообще говоря, почти на любом уровне значимости)."
   ]
  },
  {
   "cell_type": "markdown",
   "metadata": {},
   "source": [
    "Теперь проверим против 5.0:"
   ]
  },
  {
   "cell_type": "code",
   "execution_count": 9,
   "metadata": {},
   "outputs": [
    {
     "data": {
      "text/plain": [
       "TtestResult(statistic=0.6236095710595042, pvalue=0.5343182132984923, df=99)"
      ]
     },
     "execution_count": 9,
     "metadata": {},
     "output_type": "execute_result"
    }
   ],
   "source": [
    "stats.ttest_1samp(random_normal, 5.0)"
   ]
  },
  {
   "cell_type": "markdown",
   "metadata": {},
   "source": [
    "Мы видим, что гипотеза о равенстве 5 принимается с p_value=0.53.\n",
    "\n",
    "Проведём тест на равенство доли единиц во второй выборке 0.5:"
   ]
  },
  {
   "cell_type": "code",
   "execution_count": 14,
   "metadata": {},
   "outputs": [
    {
     "data": {
      "text/plain": [
       "BinomTestResult(k=20, n=100, alternative='two-sided', statistic=0.2, pvalue=1.1159089057251951e-09)"
      ]
     },
     "execution_count": 14,
     "metadata": {},
     "output_type": "execute_result"
    }
   ],
   "source": [
    "num_successes = sum(random_bin)\n",
    "total_trials = len(random_bin)\n",
    "\n",
    "# Perform the binomial test\n",
    "stats.binomtest(k=num_successes, n=total_trials, p=0.5)\n"
   ]
  },
  {
   "cell_type": "markdown",
   "metadata": {},
   "source": [
    "Заметим, что k = [число позитивных действий, число фейлов]. Видим, что гипотеза отвергается практически на любом уровне значимости с p_value=1.115908905725195e-09."
   ]
  },
  {
   "cell_type": "markdown",
   "metadata": {},
   "source": [
    "---"
   ]
  },
  {
   "cell_type": "markdown",
   "metadata": {},
   "source": [
    "### А ТЕПЕРЬ — ДВУХВЫБОРОЧНЫЙ ТЕСТ!"
   ]
  },
  {
   "cell_type": "markdown",
   "metadata": {},
   "source": [
    "Мы увидели, что проводить статистический тест со SciPy просто! Давайте теперь проделаем то же самое со множественной проверкой гипотез.\n",
    "\n",
    "Сгенерируем множества точек:"
   ]
  },
  {
   "cell_type": "code",
   "execution_count": 15,
   "metadata": {},
   "outputs": [],
   "source": [
    "random_normal_5 = np.random.normal(5, 2, 100)\n",
    "random_normal_false = np.random.normal(7, 2, 100)"
   ]
  },
  {
   "cell_type": "markdown",
   "metadata": {},
   "source": [
    "Проверим двухвыборочными тестами:"
   ]
  },
  {
   "cell_type": "code",
   "execution_count": 17,
   "metadata": {},
   "outputs": [
    {
     "name": "stdout",
     "output_type": "stream",
     "text": [
      "TtestResult(statistic=-1.109776693013421, pvalue=0.2684412714449198, df=198.0)\n",
      "TtestResult(statistic=7.56418694452888, pvalue=1.4333446457467145e-12, df=198.0)\n"
     ]
    }
   ],
   "source": [
    "print(stats.ttest_ind(random_normal_5, random_normal))\n",
    "print(stats.ttest_ind(random_normal_false, random_normal))"
   ]
  },
  {
   "cell_type": "markdown",
   "metadata": {},
   "source": [
    "Видим, что в первом случае нулевая гипотеза не отвергается, а во втором — отвергается. Что ж, мы молодцы, и самое время перейти к задачам, не так ли?"
   ]
  },
  {
   "cell_type": "markdown",
   "metadata": {},
   "source": [
    "Стоп! А как же тест на равенство пропорций (долей)? К сожалению, в SciPy он не реализован, поэтому придётся обратиться к другому пакету — statsmodels."
   ]
  },
  {
   "cell_type": "code",
   "execution_count": 18,
   "metadata": {},
   "outputs": [],
   "source": [
    "from statsmodels.stats.proportion import proportions_ztest"
   ]
  },
  {
   "cell_type": "code",
   "execution_count": 19,
   "metadata": {},
   "outputs": [],
   "source": [
    "random_bin_2 = np.random.choice([0, 1], size=(100,), p=[0.8, 0.2])\n",
    "random_bin_false = np.random.choice([0, 1], size=(100,), p=[0.6, 0.4])"
   ]
  },
  {
   "cell_type": "markdown",
   "metadata": {},
   "source": [
    "Посмотрим на результат применения теста:"
   ]
  },
  {
   "cell_type": "code",
   "execution_count": 20,
   "metadata": {},
   "outputs": [
    {
     "name": "stdout",
     "output_type": "stream",
     "text": [
      "(-0.5163595320566151, 0.6056033242983083)\n",
      "(-2.5197631533948477, 0.011743382301172597)\n"
     ]
    }
   ],
   "source": [
    "print(\n",
    "    proportions_ztest(\n",
    "        count=[sum(random_bin), sum(random_bin_2)], # количество “успехов” в каждой из выборок. \n",
    "        nobs=[len(random_bin), len(random_bin_2)], # общее количество наблюдений в каждой выборке.\n",
    "    )\n",
    ")\n",
    "\n",
    "print(\n",
    "    proportions_ztest(\n",
    "        count=[sum(random_bin), sum(random_bin_false)], # количество “успехов” в каждой из выборок. \n",
    "        nobs=[len(random_bin), len(random_bin_false)], # общее количество наблюдений в каждой выборке.\n",
    "    )\n",
    ")"
   ]
  },
  {
   "cell_type": "markdown",
   "metadata": {},
   "source": [
    "Первое число — значение статистики, второе — p_value. Видим, что результаты совпадают с ожидаемыми."
   ]
  },
  {
   "cell_type": "code",
   "execution_count": 26,
   "metadata": {},
   "outputs": [
    {
     "data": {
      "text/plain": [
       "3.481426687624852e-07"
      ]
     },
     "execution_count": 26,
     "metadata": {},
     "output_type": "execute_result"
    }
   ],
   "source": [
    "# Задание 5.2\n",
    "# Какое значение p_value * 10**7 получается при проведении теста равенства доли 0.1 по выборке, \n",
    "# сгенерированной кодом ниже (округлите до двух знаков после запятой)?\n",
    "\n",
    "np.random.seed(13)\n",
    "random_bin = np.random.choice([0, 1], size=(100,), p=[0.7, 0.3])\n",
    "\n",
    "stats.binomtest(k=sum(random_bin), n=len(random_bin), p=0.1).pvalue"
   ]
  },
  {
   "cell_type": "code",
   "execution_count": 29,
   "metadata": {},
   "outputs": [
    {
     "data": {
      "text/plain": [
       "7.974042103707906"
      ]
     },
     "execution_count": 29,
     "metadata": {},
     "output_type": "execute_result"
    }
   ],
   "source": [
    "# Задание 5.3\n",
    "# Какое значение статистики получается при проведении теста равенства средних 3 по выборке, \n",
    "# сгенерированной кодом ниже (округлите до двух знаков после запятой)?\n",
    "\n",
    "np.random.seed(21)\n",
    "random_normal = np.random.normal(18, 20, 100)\n",
    "\n",
    "stats.ttest_1samp(random_normal, 3).statistic"
   ]
  },
  {
   "cell_type": "code",
   "execution_count": 34,
   "metadata": {},
   "outputs": [
    {
     "name": "stdout",
     "output_type": "stream",
     "text": [
      "rejected on 0.15 level\n"
     ]
    }
   ],
   "source": [
    "# Задание 5.4\n",
    "# На каких уровнях значимости отвергается гипотеза равенства среднего 7 по выборке, сгенерированной кодом ниже:\n",
    "\n",
    "np.random.seed(21)\n",
    "random_normal = np.random.normal(18, 20, 10)\n",
    "\n",
    "# Проведем t-тест для каждого уровня значимости\n",
    "for alpha in [0.05, 0.01, 0.1, 0.15]:\n",
    "    t_stat, p_value = stats.ttest_1samp(random_normal, 7)\n",
    "    \n",
    "    if p_value < alpha:\n",
    "        print(f\"rejected on {alpha} level\")\n",
    "    else:\n",
    "        pass"
   ]
  },
  {
   "cell_type": "code",
   "execution_count": null,
   "metadata": {},
   "outputs": [],
   "source": []
  }
 ],
 "metadata": {
  "kernelspec": {
   "display_name": "Python 3",
   "language": "python",
   "name": "python3"
  },
  "language_info": {
   "codemirror_mode": {
    "name": "ipython",
    "version": 3
   },
   "file_extension": ".py",
   "mimetype": "text/x-python",
   "name": "python",
   "nbconvert_exporter": "python",
   "pygments_lexer": "ipython3",
   "version": "3.12.1"
  }
 },
 "nbformat": 4,
 "nbformat_minor": 2
}
