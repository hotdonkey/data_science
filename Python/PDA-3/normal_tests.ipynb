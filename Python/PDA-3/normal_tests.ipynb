{
 "cells": [
  {
   "cell_type": "code",
   "execution_count": 1,
   "metadata": {},
   "outputs": [],
   "source": [
    "import numpy as np\n",
    "from scipy import stats"
   ]
  },
  {
   "cell_type": "markdown",
   "metadata": {},
   "source": [
    "Импортируем необходимые библиотеки и сгенерируем набор точек из нормального распределения."
   ]
  },
  {
   "cell_type": "code",
   "execution_count": 2,
   "metadata": {},
   "outputs": [],
   "source": [
    "np.random.seed(13)\n",
    "random_normal = np.random.normal(5, 2, 100)\n",
    "random_uniform = np.random.uniform(0, 1, 100)"
   ]
  },
  {
   "cell_type": "markdown",
   "metadata": {},
   "source": [
    "Проведём тест на нормальность сгенерированных распределений:"
   ]
  },
  {
   "cell_type": "code",
   "execution_count": 3,
   "metadata": {},
   "outputs": [
    {
     "name": "stdout",
     "output_type": "stream",
     "text": [
      "ShapiroResult(statistic=0.9897643468746817, pvalue=0.6455599791405382)\n",
      "ShapiroResult(statistic=0.9223205486897722, pvalue=1.8727311444297305e-05)\n"
     ]
    }
   ],
   "source": [
    "print(stats.shapiro(random_normal))\n",
    "print(stats.shapiro(random_uniform))"
   ]
  },
  {
   "cell_type": "markdown",
   "metadata": {},
   "source": [
    "Видим, что во втором случае нулевая гипотеза (нормальность распределения, из которого приходят точки) отвергается практически на любом уровне значимости.\n",
    "\n",
    "В первом случае распределение нормальное. Для теста Колмогорова-Смирнова необходимо передавать распределение, относительно которого происходит сравнение. Давайте попробуем:"
   ]
  },
  {
   "cell_type": "code",
   "execution_count": 4,
   "metadata": {},
   "outputs": [
    {
     "name": "stdout",
     "output_type": "stream",
     "text": [
      "KstestResult(statistic=0.933371471007256, pvalue=4.646377515900965e-118, statistic_location=2.476788109361862, statistic_sign=-1)\n",
      "KstestResult(statistic=0.5039276991503323, pvalue=4.926235881910341e-24, statistic_location=0.00984544079968852, statistic_sign=-1)\n"
     ]
    }
   ],
   "source": [
    "print(stats.kstest(random_normal, 'norm'))\n",
    "print(stats.kstest(random_uniform, 'norm'))"
   ]
  },
  {
   "cell_type": "markdown",
   "metadata": {},
   "source": [
    "Мы видим, что в обоих случаях гипотеза о нормальности распределения отвергается. Почему? Потому что происходит сравнение с нормальным распределением со средним 0 и дисперсией 1. Проверим это, нормализовав входное множество точек."
   ]
  },
  {
   "cell_type": "code",
   "execution_count": 7,
   "metadata": {},
   "outputs": [
    {
     "data": {
      "text/plain": [
       "KstestResult(statistic=0.06562034353090856, pvalue=0.7572142037683822, statistic_location=-0.40053934145643744, statistic_sign=1)"
      ]
     },
     "execution_count": 7,
     "metadata": {},
     "output_type": "execute_result"
    }
   ],
   "source": [
    "normalized_data = (random_normal - np.mean(random_normal)) / np.std(random_normal)\n",
    "kstest_result = stats.kstest(normalized_data, 'norm')\n",
    "kstest_result"
   ]
  },
  {
   "cell_type": "markdown",
   "metadata": {},
   "source": [
    "---"
   ]
  },
  {
   "cell_type": "code",
   "execution_count": 8,
   "metadata": {},
   "outputs": [
    {
     "data": {
      "text/plain": [
       "ShapiroResult(statistic=0.9548438589729802, pvalue=0.7258625093629594)"
      ]
     },
     "execution_count": 8,
     "metadata": {},
     "output_type": "execute_result"
    }
   ],
   "source": [
    "# Задание 7.1\n",
    "# Чему равно p_value проверки на нормальность данных, сгенерированных следующим образом,\n",
    "# тестом Шапиро-Уилка? Ответ округлите до второго знака после запятой.\n",
    "\n",
    "np.random.seed(2)\n",
    "random_normal = np.random.normal(2, 4, 10)\n",
    "\n",
    "stats.shapiro(random_normal)"
   ]
  },
  {
   "cell_type": "code",
   "execution_count": 14,
   "metadata": {},
   "outputs": [
    {
     "data": {
      "text/plain": [
       "0.01"
      ]
     },
     "execution_count": 14,
     "metadata": {},
     "output_type": "execute_result"
    }
   ],
   "source": [
    "# Задание 7.2\n",
    "# Чему равно p_value проверки на нормальность данных, сгенерированных следующим образом, \n",
    "# тестом Колмогорова-Смирнова без нормализации? Ответ округлите до второго знака после запятой.\n",
    "\n",
    "np.random.seed(2)\n",
    "random_normal = np.random.normal(2, 4, 10)\n",
    "\n",
    "stats.kstest(random_normal, 'norm').pvalue.round(2)"
   ]
  },
  {
   "cell_type": "code",
   "execution_count": 15,
   "metadata": {},
   "outputs": [
    {
     "data": {
      "text/plain": [
       "0.85"
      ]
     },
     "execution_count": 15,
     "metadata": {},
     "output_type": "execute_result"
    }
   ],
   "source": [
    "# Задание 7.3\n",
    "# Чему равно p_value проверки на нормальность данных, сгенерированных следующим образом, \n",
    "# тестом Колмогорова-Смирнова с нормализацией? Ответ округлите до второго знака после запятой.\n",
    "\n",
    "np.random.seed(2)\n",
    "random_normal = np.random.normal(2, 4, 10)\n",
    "\n",
    "normalized_data = (random_normal - np.mean(random_normal)) / np.std(random_normal)\n",
    "\n",
    "stats.kstest(normalized_data, 'norm').pvalue.round(2)"
   ]
  },
  {
   "cell_type": "code",
   "execution_count": null,
   "metadata": {},
   "outputs": [],
   "source": []
  }
 ],
 "metadata": {
  "kernelspec": {
   "display_name": "Python 3",
   "language": "python",
   "name": "python3"
  },
  "language_info": {
   "codemirror_mode": {
    "name": "ipython",
    "version": 3
   },
   "file_extension": ".py",
   "mimetype": "text/x-python",
   "name": "python",
   "nbconvert_exporter": "python",
   "pygments_lexer": "ipython3",
   "version": "3.12.1"
  }
 },
 "nbformat": 4,
 "nbformat_minor": 2
}
