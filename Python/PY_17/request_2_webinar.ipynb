{
 "cells": [
  {
   "cell_type": "code",
   "execution_count": null,
   "metadata": {},
   "outputs": [],
   "source": [
    "import requests\n",
    "from bs4 import BeautifulSoup\n",
    "import pprint"
   ]
  },
  {
   "cell_type": "code",
   "execution_count": null,
   "metadata": {},
   "outputs": [],
   "source": [
    "res = requests.get('https://blog.skillfactory.ru/')\n",
    "print(res.status_code)"
   ]
  },
  {
   "cell_type": "code",
   "execution_count": null,
   "metadata": {},
   "outputs": [],
   "source": [
    "pprint.pprint(res.text[:1000])"
   ]
  },
  {
   "cell_type": "code",
   "execution_count": null,
   "metadata": {},
   "outputs": [],
   "source": [
    "url = 'https://blog.skillfactory.ru/'\n",
    "params = {\n",
    "    's':'python'\n",
    "}\n",
    "headers = {\n",
    "    'user-agent':'Mozilla/5.0 (Windows NT 10.0; Win64; x64) AppleWebKit/537.36 (KHTML, like Gecko) Chrome/107.0.0.0 Safari/537.36'\n",
    "}\n",
    "req = requests.get(url, params=params, headers=headers)\n",
    "\n",
    "pprint.pprint(req.text)"
   ]
  },
  {
   "cell_type": "markdown",
   "metadata": {},
   "source": [
    "---"
   ]
  },
  {
   "cell_type": "code",
   "execution_count": null,
   "metadata": {},
   "outputs": [],
   "source": [
    "# определяем список хабов, которые нам интересны\n",
    "DESIRED_HUBS = ['python', 'big data', 'звук', 'финансы в it']"
   ]
  },
  {
   "cell_type": "code",
   "execution_count": null,
   "metadata": {},
   "outputs": [],
   "source": [
    "# получаем страницу с самыми свежими постами\n",
    "req = requests.get('https://habr.com/ru/all/')\n",
    "\n",
    "# создаем soup-объект и указываем, что работаем с html\n",
    "soup = BeautifulSoup(req.text)"
   ]
  },
  {
   "cell_type": "code",
   "execution_count": null,
   "metadata": {},
   "outputs": [],
   "source": [
    "posts = soup.find_all('article', class_='tm-articles-list__item')\n",
    "pprint.pprint(posts[0])"
   ]
  },
  {
   "cell_type": "code",
   "execution_count": null,
   "metadata": {},
   "outputs": [],
   "source": [
    "# добавляем извлечение хабов из постов, чтобы отбирать только нужные\n",
    "for post in posts:\n",
    "    hubs = post.find_all('a', class_='tm-article-snippet__title-link')  # ищем список всех хабов в каждой статье\n",
    "    for hub in hubs:\n",
    "        hub_lower = hub.text.lower().replace('*', '').strip()  # при помощи атрибута text обращаемся к содержимому тэга\n",
    "        #print(hub_lower)\n",
    "        # ищем вхождение хотя бы одного желаемого хаба\n",
    "        for element in DESIRED_HUBS:\n",
    "            if element in hub_lower:\n",
    "                # пост нам интересен - делаем с ним все что захотим:\n",
    "                # можно отправит в телеграм уведомление, можно на почту и т.п.\n",
    "                title_element = post.find('a', class_='tm-article-snippet__title-link')\n",
    "                print(f'{title_element.text}: {title_element.get(\"href\")}') # при помощи get достаем содержимое атрибута href\n",
    "                # так как пост уже нам подошел - дальше нет смысла проверять другие его хабы\n",
    "                break"
   ]
  },
  {
   "cell_type": "markdown",
   "metadata": {},
   "source": [
    "---"
   ]
  },
  {
   "cell_type": "markdown",
   "metadata": {},
   "source": [
    "Парсинг новостей с комерсанта по тегу угмк"
   ]
  },
  {
   "cell_type": "code",
   "execution_count": 1,
   "metadata": {},
   "outputs": [
    {
     "data": {
      "text/plain": [
       "['Гендиректор УГМК Андрей Козицын: аукционы применимы только для нефтяных компаний: https://www.kommersant.ru//doc/353077?query=%D0%A3%D0%93%D0%9C%D0%9A',\n",
       " 'Чем богата УГМК: https://www.kommersant.ru//doc/326090?query=%D0%A3%D0%93%D0%9C%D0%9A',\n",
       " 'УГМК сокращает инвестпрограмму: https://www.kommersant.ru//doc/296141?query=%D0%A3%D0%93%D0%9C%D0%9A',\n",
       " '«Мы с УГМК поженились надолго»: https://www.kommersant.ru//doc/754173?query=%D0%A3%D0%93%D0%9C%D0%9A',\n",
       " '«Мы с УГМК поженились надолго»: https://www.kommersant.ru//doc/754426?query=%D0%A3%D0%93%D0%9C%D0%9A',\n",
       " 'Открыт прием заявок на первую конференцию «УГМК-ТЕХНО»: https://www.kommersant.ru//doc/5283677?query=%D0%A3%D0%93%D0%9C%D0%9A',\n",
       " 'Синдикат для УГМК: https://www.kommersant.ru//doc/4197234?query=%D0%A3%D0%93%D0%9C%D0%9A',\n",
       " 'УГМК хочет сократить экспорт: https://www.kommersant.ru//doc/365738?query=%D0%A3%D0%93%D0%9C%D0%9A',\n",
       " 'Гендиректор УГМК Андрей Козицын покинул совет директоров «Уралэлектромеди»: https://www.kommersant.ru//doc/5433487?query=%D0%A3%D0%93%D0%9C%D0%9A',\n",
       " 'Медная компания со свинцовым отливом: https://www.kommersant.ru//doc/162338?query=%D0%A3%D0%93%D0%9C%D0%9A',\n",
       " 'БАМ начнет жить на медные деньги: https://www.kommersant.ru//doc/141932?query=%D0%A3%D0%93%D0%9C%D0%9A',\n",
       " 'В УГМК обнаружился миноритарный акционер: https://www.kommersant.ru//doc/329535?query=%D0%A3%D0%93%D0%9C%D0%9A',\n",
       " 'Реформа УГМК началась с увольнения: https://www.kommersant.ru//doc/326046?query=%D0%A3%D0%93%D0%9C%D0%9A',\n",
       " 'УГМК много меди не нужно: https://www.kommersant.ru//doc/318980?query=%D0%A3%D0%93%D0%9C%D0%9A',\n",
       " 'УГМК подписалось под миллиарды: https://www.kommersant.ru//doc/1660099?query=%D0%A3%D0%93%D0%9C%D0%9A',\n",
       " 'Ведомости: https://www.kommersant.ru//doc/161621?query=%D0%A3%D0%93%D0%9C%D0%9A',\n",
       " 'УГМК потеряла доверие: https://www.kommersant.ru//doc/1586953?query=%D0%A3%D0%93%D0%9C%D0%9A',\n",
       " 'УГМК потеряла доверие: https://www.kommersant.ru//doc/1587057?query=%D0%A3%D0%93%D0%9C%D0%9A',\n",
       " 'Гендиректор УГМК Андрей Козицын учредил ООО «Правильный обед»: https://www.kommersant.ru//doc/5424472?query=%D0%A3%D0%93%D0%9C%D0%9A',\n",
       " '\"Уралэлектромедь\" уводит сырье у конкурента: https://www.kommersant.ru//doc/269028?query=%D0%A3%D0%93%D0%9C%D0%9A',\n",
       " '\"Лугансктепловоз\" протянул рельсы к металлургам: https://www.kommersant.ru//doc/287197?query=%D0%A3%D0%93%D0%9C%D0%9A',\n",
       " 'УГМК установила связь с рабочими: https://www.kommersant.ru//doc/1392153?query=%D0%A3%D0%93%D0%9C%D0%9A',\n",
       " 'В Верхней Пышме стартовала конференция «УГМК-ТЕХНО - UMMC-ТЕСН»: https://www.kommersant.ru//doc/5448497?query=%D0%A3%D0%93%D0%9C%D0%9A',\n",
       " 'УГМК претендует на мощность: https://www.kommersant.ru//doc/1420004?query=%D0%A3%D0%93%D0%9C%D0%9A',\n",
       " 'Уральская традиция: https://www.kommersant.ru//doc/1618761?query=%D0%A3%D0%93%D0%9C%D0%9A',\n",
       " 'УГМК бросилась вроссыпную: https://www.kommersant.ru//doc/5481062?query=%D0%A3%D0%93%D0%9C%D0%9A',\n",
       " 'Воронежский никель примагнитил двух инвесторов: https://www.kommersant.ru//doc/1826731?query=%D0%A3%D0%93%D0%9C%D0%9A',\n",
       " 'Заклятые европротивники: https://www.kommersant.ru//doc/1350651?query=%D0%A3%D0%93%D0%9C%D0%9A',\n",
       " 'УГМК теряет мощность: https://www.kommersant.ru//doc/1606303?query=%D0%A3%D0%93%D0%9C%D0%9A',\n",
       " 'УГМК наверстал титул: https://www.kommersant.ru//doc/1631192?query=%D0%A3%D0%93%D0%9C%D0%9A',\n",
       " '\"Интер РАО\" поможет УГМК: https://www.kommersant.ru//doc/1678742?query=%D0%A3%D0%93%D0%9C%D0%9A',\n",
       " 'УГМК сыграл по-хозяйски: https://www.kommersant.ru//doc/1889650?query=%D0%A3%D0%93%D0%9C%D0%9A',\n",
       " 'УГМК сделал четвертый дубль: https://www.kommersant.ru//doc/1926676?query=%D0%A3%D0%93%D0%9C%D0%9A',\n",
       " 'Хозяева медной горы: https://www.kommersant.ru//doc/2121753?query=%D0%A3%D0%93%D0%9C%D0%9A',\n",
       " 'Виталий Гайдук продает на прощание: https://www.kommersant.ru//doc/1866855?query=%D0%A3%D0%93%D0%9C%D0%9A',\n",
       " 'Уралочки вышли ростом: https://www.kommersant.ru//doc/1310138?query=%D0%A3%D0%93%D0%9C%D0%9A',\n",
       " 'НОВАТЭК вышел на медные залежи: https://www.kommersant.ru//doc/1315165?query=%D0%A3%D0%93%D0%9C%D0%9A',\n",
       " 'Не добыли «Уральского золота»: https://www.kommersant.ru//doc/1345397?query=%D0%A3%D0%93%D0%9C%D0%9A',\n",
       " 'ФАС добралась до медного рынка: https://www.kommersant.ru//doc/1378961?query=%D0%A3%D0%93%D0%9C%D0%9A',\n",
       " 'Как Башкирия дружила с УГМК: https://www.kommersant.ru//doc/1602624?query=%D0%A3%D0%93%D0%9C%D0%9A',\n",
       " 'Кольцо безвластия: https://www.kommersant.ru//doc/4595454?query=%D0%A3%D0%93%D0%9C%D0%9A',\n",
       " 'УГМК разочаровалась в Малышевском рудоуправлении: https://www.kommersant.ru//doc/1230215?query=%D0%A3%D0%93%D0%9C%D0%9A',\n",
       " 'УГМК узнала цену цинка: https://www.kommersant.ru//doc/1249963?query=%D0%A3%D0%93%D0%9C%D0%9A',\n",
       " 'Урал поделился застрахованным: https://www.kommersant.ru//doc/4511942?query=%D0%A3%D0%93%D0%9C%D0%9A',\n",
       " '«Россиум» собирает металлургов: https://www.kommersant.ru//doc/4528955?query=%D0%A3%D0%93%D0%9C%D0%9A',\n",
       " 'УГМК зарегистрировала IT-компанию в Свердловской области: https://www.kommersant.ru//doc/5458271?query=%D0%A3%D0%93%D0%9C%D0%9A',\n",
       " 'УГМК выкупит 40% \"УГМК-Транс\" у \"Трансгрупп\": https://www.kommersant.ru//doc/2009271?query=%D0%A3%D0%93%D0%9C%D0%9A',\n",
       " '\"ВСМПО-Ависма\" вышла из \"Уральского золота\": https://www.kommersant.ru//doc/1344785?query=%D0%A3%D0%93%D0%9C%D0%9A',\n",
       " 'УГМК растопила «Исеть»: https://www.kommersant.ru//doc/1491567?query=%D0%A3%D0%93%D0%9C%D0%9A',\n",
       " '\"Финал четырех\" делят надвое: https://www.kommersant.ru//doc/1616497?query=%D0%A3%D0%93%D0%9C%D0%9A']"
      ]
     },
     "execution_count": 1,
     "metadata": {},
     "output_type": "execute_result"
    }
   ],
   "source": [
    "import requests\n",
    "import pprint\n",
    "from bs4 import BeautifulSoup\n",
    "import time\n",
    "import pandas as pd\n",
    "\n",
    "url = 'https://www.kommersant.ru/search/results'\n",
    "params = {\n",
    "    'datestart' : '2000-01-01',\n",
    "    'dateend' : '2022-11-27',\n",
    "    'sort_type' : 1,\n",
    "    'page' : 1,\n",
    "    'search_query': 'УГМК'\n",
    "}\n",
    "headers = {\n",
    "    'user-agent':'Mozilla/5.0 (Windows NT 10.0; Win64; x64) AppleWebKit/537.36 (KHTML, like Gecko) Chrome/107.0.0.0 Safari/537.36'\n",
    "}\n",
    "\n",
    "news_list = list()\n",
    "\n",
    "for i in range(1,6):\n",
    "    params['page'] = i\n",
    "    req = requests.get(url, params=params, headers=headers)\n",
    "    time.sleep(0.3)\n",
    "    soup = BeautifulSoup(req.text)\n",
    "    news = soup.find_all('article', class_='uho rubric_lenta__item')\n",
    "    for element in news:\n",
    "        article = element.find_all('a', class_='uho__link uho__link--overlay')\n",
    "        for head in article:\n",
    "            news_list.append(f'{head.text}: https://www.kommersant.ru/{head.get(\"href\")}')\n",
    "            \n",
    "news_list"
   ]
  },
  {
   "cell_type": "code",
   "execution_count": null,
   "metadata": {},
   "outputs": [],
   "source": []
  }
 ],
 "metadata": {
  "kernelspec": {
   "display_name": "Python 3",
   "language": "python",
   "name": "python3"
  },
  "language_info": {
   "codemirror_mode": {
    "name": "ipython",
    "version": 3
   },
   "file_extension": ".py",
   "mimetype": "text/x-python",
   "name": "python",
   "nbconvert_exporter": "python",
   "pygments_lexer": "ipython3",
   "version": "3.11.0 (v3.11.0:deaf509e8f, Oct 24 2022, 14:43:23) [Clang 13.0.0 (clang-1300.0.29.30)]"
  },
  "orig_nbformat": 4,
  "vscode": {
   "interpreter": {
    "hash": "aee8b7b246df8f9039afb4144a1f6fd8d2ca17a180786b69acc140d282b71a49"
   }
  }
 },
 "nbformat": 4,
 "nbformat_minor": 2
}
