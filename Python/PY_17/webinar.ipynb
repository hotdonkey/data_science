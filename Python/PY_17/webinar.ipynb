{
 "cells": [
  {
   "cell_type": "code",
   "execution_count": 1,
   "metadata": {},
   "outputs": [],
   "source": [
    "import pandas as pd\n",
    "import requests\n",
    "from bs4 import BeautifulSoup"
   ]
  },
  {
   "cell_type": "code",
   "execution_count": 2,
   "metadata": {},
   "outputs": [
    {
     "data": {
      "text/plain": [
       "200"
      ]
     },
     "execution_count": 2,
     "metadata": {},
     "output_type": "execute_result"
    }
   ],
   "source": [
    "res = requests.get('https://blog.skillfactory.ru/')\n",
    "res.status_code"
   ]
  },
  {
   "cell_type": "code",
   "execution_count": 3,
   "metadata": {},
   "outputs": [],
   "source": [
    "#res.text"
   ]
  },
  {
   "cell_type": "code",
   "execution_count": 4,
   "metadata": {},
   "outputs": [],
   "source": [
    "url = 'https://blog.skillfactory.ru/?s=python'\n",
    "params = {'?s' : 'python'}\n",
    "req = requests.get(url, params=params)"
   ]
  },
  {
   "cell_type": "code",
   "execution_count": 5,
   "metadata": {},
   "outputs": [],
   "source": [
    "soup = BeautifulSoup(req.text)"
   ]
  },
  {
   "cell_type": "code",
   "execution_count": 9,
   "metadata": {},
   "outputs": [],
   "source": [
    "# функция finda_all позволяет найти все указанные тег с нужными атрибутами (с вложениями), возвращает список\n",
    "news = soup.find_all('div', class_='post-card')"
   ]
  },
  {
   "cell_type": "code",
   "execution_count": 11,
   "metadata": {},
   "outputs": [
    {
     "name": "stdout",
     "output_type": "stream",
     "text": [
      "PDPR2_komu-i-dlya-chego-nuzhen-python\n",
      "https://blog.skillfactory.ru/pdpr2_komu-i-dlya-chego-nuzhen-python/\n",
      "Курсы слайдер utm\n",
      "2022-11-13 18:44:28+00:00\n",
      "\n",
      "FPW_komu-i-dlya-chego-nuzhen-python\n",
      "https://blog.skillfactory.ru/fpw_komu-i-dlya-chego-nuzhen-python/\n",
      "Курсы слайдер utm\n",
      "2022-11-13 18:41:52+00:00\n",
      "\n",
      "PY_komu-i-dlya-chego-nuzhen-python\n",
      "https://blog.skillfactory.ru/py_komu-i-dlya-chego-nuzhen-python/\n",
      "Курсы слайдер utm\n",
      "2022-11-13 18:39:51+00:00\n",
      "\n",
      "FPW_php-vs-python-chto-vybrat\n",
      "https://blog.skillfactory.ru/fpw_php-vs-python-chto-vybrat/\n",
      "Курсы слайдер utm\n",
      "2022-11-13 18:09:10+00:00\n",
      "\n",
      "PDEV_php-vs-python-chto-vybrat\n",
      "https://blog.skillfactory.ru/pdev_php-vs-python-chto-vybrat/\n",
      "Курсы слайдер utm\n",
      "2022-11-13 18:07:07+00:00\n",
      "\n",
      "PHPPRO_php-vs-python-chto-vybrat\n",
      "https://blog.skillfactory.ru/phppro_php-vs-python-chto-vybrat/\n",
      "Курсы слайдер utm\n",
      "2022-11-13 18:05:04+00:00\n",
      "\n",
      "PWS_ya-osvoila-python-na-karantine-i-teper-rabotayu-v-konsaltinge\n",
      "https://blog.skillfactory.ru/pws_ya-osvoila-python-na-karantine-i-teper-rabotayu-v-konsaltinge/\n",
      "Курсы слайдер utm\n",
      "2022-11-13 17:58:11+00:00\n",
      "\n",
      "FPW_ya-osvoila-python-na-karantine-i-teper-rabotayu-v-konsaltinge\n",
      "https://blog.skillfactory.ru/fpw_ya-osvoila-python-na-karantine-i-teper-rabotayu-v-konsaltinge/\n",
      "Курсы слайдер utm\n",
      "2022-11-13 17:56:08+00:00\n",
      "\n",
      "DSPR_rabota-s-izobrazheniyami-v-python-i-pillow\n",
      "https://blog.skillfactory.ru/dspr_rabota-s-izobrazheniyami-v-python-i-pillow/\n",
      "Курсы слайдер utm\n",
      "2022-11-13 17:27:20+00:00\n",
      "\n",
      "PDEV_rabota-s-izobrazheniyami-v-python-i-pillow\n",
      "https://blog.skillfactory.ru/pdev_rabota-s-izobrazheniyami-v-python-i-pillow/\n",
      "Курсы слайдер utm\n",
      "2022-11-13 17:25:16+00:00\n",
      "\n"
     ]
    }
   ],
   "source": [
    "for el in news:\n",
    "    # функция find ищет один указанный тег, возвращает именно его\n",
    "    title = el.find('div', 'post-card__title').text # поле text позволяет извлечь текстовое содержимое тега\n",
    "    print(title)\n",
    "    link = el.find('a').get('href') # метод get позволяет извлечь значение атрибута\n",
    "    print(link)\n",
    "    category = el.find('span', 'post-card__category').text\n",
    "    print(category)\n",
    "    date = pd.to_datetime(el.find('meta', itemprop='datePublished').get('content'))\n",
    "    print(date)\n",
    "    print()"
   ]
  },
  {
   "cell_type": "code",
   "execution_count": null,
   "metadata": {},
   "outputs": [],
   "source": []
  }
 ],
 "metadata": {
  "kernelspec": {
   "display_name": "Python 3",
   "language": "python",
   "name": "python3"
  },
  "language_info": {
   "codemirror_mode": {
    "name": "ipython",
    "version": 3
   },
   "file_extension": ".py",
   "mimetype": "text/x-python",
   "name": "python",
   "nbconvert_exporter": "python",
   "pygments_lexer": "ipython3",
   "version": "3.11.0 (v3.11.0:deaf509e8f, Oct 24 2022, 14:43:23) [Clang 13.0.0 (clang-1300.0.29.30)]"
  },
  "orig_nbformat": 4,
  "vscode": {
   "interpreter": {
    "hash": "aee8b7b246df8f9039afb4144a1f6fd8d2ca17a180786b69acc140d282b71a49"
   }
  }
 },
 "nbformat": 4,
 "nbformat_minor": 2
}
