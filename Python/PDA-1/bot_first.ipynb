{
 "cells": [
  {
   "cell_type": "code",
   "execution_count": 1,
   "metadata": {},
   "outputs": [],
   "source": [
    "import string\n",
    "import numpy as np\n",
    "import pandas as pd\n",
    "import codecs\n",
    "import joblib\n",
    "import pymorphy3\n",
    "from nltk.corpus import stopwords\n",
    "from nltk.tokenize import word_tokenize\n",
    "from gensim.models import Word2Vec\n",
    "from sklearn.feature_extraction.text import TfidfVectorizer, CountVectorizer, HashingVectorizer\n",
    "from sklearn.model_selection import train_test_split\n",
    "from sklearn.linear_model import LogisticRegression\n",
    "from sklearn.metrics import accuracy_score\n",
    "from sklearn.preprocessing import normalize\n",
    "from annoy import AnnoyIndex\n",
    "\n",
    "import warnings\n",
    "warnings.filterwarnings('ignore')\n"
   ]
  },
  {
   "cell_type": "code",
   "execution_count": 2,
   "metadata": {},
   "outputs": [
    {
     "data": {
      "text/html": [
       "<div>\n",
       "<style scoped>\n",
       "    .dataframe tbody tr th:only-of-type {\n",
       "        vertical-align: middle;\n",
       "    }\n",
       "\n",
       "    .dataframe tbody tr th {\n",
       "        vertical-align: top;\n",
       "    }\n",
       "\n",
       "    .dataframe thead th {\n",
       "        text-align: right;\n",
       "    }\n",
       "</style>\n",
       "<table border=\"1\" class=\"dataframe\">\n",
       "  <thead>\n",
       "    <tr style=\"text-align: right;\">\n",
       "      <th></th>\n",
       "      <th>answer</th>\n",
       "      <th>text</th>\n",
       "    </tr>\n",
       "  </thead>\n",
       "  <tbody>\n",
       "    <tr>\n",
       "      <th>0</th>\n",
       "      <td>58e3cfe6132ca50e053f5f82</td>\n",
       "      <td>Юбка детская ORBY Новая, не носили ни разу. В ...</td>\n",
       "    </tr>\n",
       "    <tr>\n",
       "      <th>1</th>\n",
       "      <td>5667531b2b7f8d127d838c34</td>\n",
       "      <td>Ботильоны Новые,привезены из Чехии ,указан раз...</td>\n",
       "    </tr>\n",
       "    <tr>\n",
       "      <th>2</th>\n",
       "      <td>59534826aaab284cba337e06</td>\n",
       "      <td>Брюки Размер 40-42. Брюки почти новые - не зна...</td>\n",
       "    </tr>\n",
       "    <tr>\n",
       "      <th>3</th>\n",
       "      <td>57de544096ad842e26de8027</td>\n",
       "      <td>Продам детские шапки Продам шапки,кажда 200р.Р...</td>\n",
       "    </tr>\n",
       "    <tr>\n",
       "      <th>4</th>\n",
       "      <td>5ad4d2626c86cb168d212022</td>\n",
       "      <td>Блузка Темно-синяя, 42 размер,состояние отличн...</td>\n",
       "    </tr>\n",
       "  </tbody>\n",
       "</table>\n",
       "</div>"
      ],
      "text/plain": [
       "                     answer                                               text\n",
       "0  58e3cfe6132ca50e053f5f82  Юбка детская ORBY Новая, не носили ни разу. В ...\n",
       "1  5667531b2b7f8d127d838c34  Ботильоны Новые,привезены из Чехии ,указан раз...\n",
       "2  59534826aaab284cba337e06  Брюки Размер 40-42. Брюки почти новые - не зна...\n",
       "3  57de544096ad842e26de8027  Продам детские шапки Продам шапки,кажда 200р.Р...\n",
       "4  5ad4d2626c86cb168d212022  Блузка Темно-синяя, 42 размер,состояние отличн..."
      ]
     },
     "execution_count": 2,
     "metadata": {},
     "output_type": "execute_result"
    }
   ],
   "source": [
    "df = pd.read_csv(\"./data/ProductsDataset.csv\")\n",
    "df.rename(columns={'descrirption': 'description', 'product_id' : 'answer'}, inplace=True)\n",
    "data_market = df[['title', 'description', 'answer']]\n",
    "#data_market = df[['title', 'answer']]\n",
    "data_market['text'] = data_market['title'] + \" \" + data_market['description']\n",
    "data_market.drop(['title', 'description'], axis=1, inplace=True)\n",
    "#data_market.rename(columns={'title':'text'}, inplace=True)\n",
    "data_market.dropna(inplace=True)\n",
    "\n",
    "data_market.head()"
   ]
  },
  {
   "cell_type": "code",
   "execution_count": 3,
   "metadata": {},
   "outputs": [],
   "source": [
    "morpher = pymorphy3.MorphAnalyzer()\n",
    "\n",
    "stop_words = set(stopwords.words('russian'))\n",
    "sw = set(stop_words)\n",
    "\n",
    "\n",
    "def preprocess_txt(line):\n",
    "    if isinstance(line, str):\n",
    "        exclude = set(string.punctuation)\n",
    "        line = line.replace(',', ', ')\n",
    "        line = line.replace('.', '. ')\n",
    "        line = line.replace('не ', 'не')\n",
    "        spls = \"\".join(i for i in line if i not in exclude).strip().split()\n",
    "        spls = [morpher.parse(i.lower())[\n",
    "            0].normal_form for i in spls if i.lower() not in sw and i != \"\"]\n",
    "        \n",
    "        spls = ' '.join(spls)\n",
    "        \n",
    "        return spls\n",
    "    else:\n",
    "        return str(line)\n",
    "\n",
    "\n",
    "data_market['text'] = data_market['text'].apply(preprocess_txt)\n",
    "data_market['class'] = 1"
   ]
  },
  {
   "cell_type": "code",
   "execution_count": 4,
   "metadata": {},
   "outputs": [
    {
     "data": {
      "text/html": [
       "<div>\n",
       "<style scoped>\n",
       "    .dataframe tbody tr th:only-of-type {\n",
       "        vertical-align: middle;\n",
       "    }\n",
       "\n",
       "    .dataframe tbody tr th {\n",
       "        vertical-align: top;\n",
       "    }\n",
       "\n",
       "    .dataframe thead th {\n",
       "        text-align: right;\n",
       "    }\n",
       "</style>\n",
       "<table border=\"1\" class=\"dataframe\">\n",
       "  <thead>\n",
       "    <tr style=\"text-align: right;\">\n",
       "      <th></th>\n",
       "      <th>answer</th>\n",
       "      <th>text</th>\n",
       "      <th>class</th>\n",
       "    </tr>\n",
       "  </thead>\n",
       "  <tbody>\n",
       "    <tr>\n",
       "      <th>0</th>\n",
       "      <td>58e3cfe6132ca50e053f5f82</td>\n",
       "      <td>юбка детский orby новый неносить раз реал крас...</td>\n",
       "      <td>1</td>\n",
       "    </tr>\n",
       "    <tr>\n",
       "      <th>1</th>\n",
       "      <td>5667531b2b7f8d127d838c34</td>\n",
       "      <td>ботильон новый привезти чехия указать размер 4...</td>\n",
       "      <td>1</td>\n",
       "    </tr>\n",
       "    <tr>\n",
       "      <th>2</th>\n",
       "      <td>59534826aaab284cba337e06</td>\n",
       "      <td>брюки размер 4042 брюки новый незнать мерило п...</td>\n",
       "      <td>1</td>\n",
       "    </tr>\n",
       "    <tr>\n",
       "      <th>3</th>\n",
       "      <td>57de544096ad842e26de8027</td>\n",
       "      <td>продать детский шапка продать шапка кажда 200р...</td>\n",
       "      <td>1</td>\n",
       "    </tr>\n",
       "    <tr>\n",
       "      <th>4</th>\n",
       "      <td>5ad4d2626c86cb168d212022</td>\n",
       "      <td>блузка темносиний 42 размер состояние отличный...</td>\n",
       "      <td>1</td>\n",
       "    </tr>\n",
       "  </tbody>\n",
       "</table>\n",
       "</div>"
      ],
      "text/plain": [
       "                     answer  \\\n",
       "0  58e3cfe6132ca50e053f5f82   \n",
       "1  5667531b2b7f8d127d838c34   \n",
       "2  59534826aaab284cba337e06   \n",
       "3  57de544096ad842e26de8027   \n",
       "4  5ad4d2626c86cb168d212022   \n",
       "\n",
       "                                                text  class  \n",
       "0  юбка детский orby новый неносить раз реал крас...      1  \n",
       "1  ботильон новый привезти чехия указать размер 4...      1  \n",
       "2  брюки размер 4042 брюки новый незнать мерило п...      1  \n",
       "3  продать детский шапка продать шапка кажда 200р...      1  \n",
       "4  блузка темносиний 42 размер состояние отличный...      1  "
      ]
     },
     "execution_count": 4,
     "metadata": {},
     "output_type": "execute_result"
    }
   ],
   "source": [
    "data_market.head()"
   ]
  },
  {
   "cell_type": "code",
   "execution_count": 5,
   "metadata": {},
   "outputs": [
    {
     "data": {
      "text/html": [
       "<div>\n",
       "<style scoped>\n",
       "    .dataframe tbody tr th:only-of-type {\n",
       "        vertical-align: middle;\n",
       "    }\n",
       "\n",
       "    .dataframe tbody tr th {\n",
       "        vertical-align: top;\n",
       "    }\n",
       "\n",
       "    .dataframe thead th {\n",
       "        text-align: right;\n",
       "    }\n",
       "</style>\n",
       "<table border=\"1\" class=\"dataframe\">\n",
       "  <thead>\n",
       "    <tr style=\"text-align: right;\">\n",
       "      <th></th>\n",
       "      <th>text</th>\n",
       "      <th>answer</th>\n",
       "      <th>class</th>\n",
       "    </tr>\n",
       "  </thead>\n",
       "  <tbody>\n",
       "    <tr>\n",
       "      <th>1</th>\n",
       "      <td>парень относиться цветной линза девушка зелёны...</td>\n",
       "      <td>меня вобще прикалывает эта тема :).</td>\n",
       "      <td>0</td>\n",
       "    </tr>\n",
       "    <tr>\n",
       "      <th>2</th>\n",
       "      <td>делать сегодня найти 2 миллион рубль</td>\n",
       "      <td>Если это \"счастье \" действительно на вас свали...</td>\n",
       "      <td>0</td>\n",
       "    </tr>\n",
       "    <tr>\n",
       "      <th>3</th>\n",
       "      <td>эбу двенашка называться итэлма эбу</td>\n",
       "      <td>ЭБУ — электронный блок управления двигателем а...</td>\n",
       "      <td>0</td>\n",
       "    </tr>\n",
       "    <tr>\n",
       "      <th>4</th>\n",
       "      <td>академия вампир сколько даный момент часть кни...</td>\n",
       "      <td>4. Охотники и Жертвы, Ледяной укус, Поцелуй ть...</td>\n",
       "      <td>0</td>\n",
       "    </tr>\n",
       "    <tr>\n",
       "      <th>5</th>\n",
       "      <td>защититься энергетический вампир</td>\n",
       "      <td>Защита мыслью. &lt;br&gt;Каждый человек должен в отн...</td>\n",
       "      <td>0</td>\n",
       "    </tr>\n",
       "  </tbody>\n",
       "</table>\n",
       "</div>"
      ],
      "text/plain": [
       "                                                text  \\\n",
       "1  парень относиться цветной линза девушка зелёны...   \n",
       "2               делать сегодня найти 2 миллион рубль   \n",
       "3                 эбу двенашка называться итэлма эбу   \n",
       "4  академия вампир сколько даный момент часть кни...   \n",
       "5                   защититься энергетический вампир   \n",
       "\n",
       "                                              answer  class  \n",
       "1               меня вобще прикалывает эта тема :).       0  \n",
       "2  Если это \"счастье \" действительно на вас свали...      0  \n",
       "3  ЭБУ — электронный блок управления двигателем а...      0  \n",
       "4  4. Охотники и Жертвы, Ледяной укус, Поцелуй ть...      0  \n",
       "5  Защита мыслью. <br>Каждый человек должен в отн...      0  "
      ]
     },
     "execution_count": 5,
     "metadata": {},
     "output_type": "execute_result"
    }
   ],
   "source": [
    "# Read the txt file into a dataframe, skipping bad lines\n",
    "data_talker = pd.read_csv(\n",
    "    './data/prepared_answers.txt', sep='\\t',\n",
    "    header=None, names=['text', 'answer'], \n",
    "    on_bad_lines=\"skip\"\n",
    ")\n",
    "\n",
    "data_talker.dropna(inplace=True)\n",
    "data_talker['class'] = 0\n",
    "\n",
    "data_talker = data_talker.iloc[:len(data_market)]\n",
    "\n",
    "data_talker['text'] = data_talker['text'].apply(preprocess_txt)\n",
    "\n",
    "data_talker.head()"
   ]
  },
  {
   "cell_type": "code",
   "execution_count": 6,
   "metadata": {},
   "outputs": [
    {
     "data": {
      "text/plain": [
       "class\n",
       "1    33534\n",
       "0    33534\n",
       "Name: count, dtype: int64"
      ]
     },
     "metadata": {},
     "output_type": "display_data"
    },
    {
     "data": {
      "text/html": [
       "<div>\n",
       "<style scoped>\n",
       "    .dataframe tbody tr th:only-of-type {\n",
       "        vertical-align: middle;\n",
       "    }\n",
       "\n",
       "    .dataframe tbody tr th {\n",
       "        vertical-align: top;\n",
       "    }\n",
       "\n",
       "    .dataframe thead th {\n",
       "        text-align: right;\n",
       "    }\n",
       "</style>\n",
       "<table border=\"1\" class=\"dataframe\">\n",
       "  <thead>\n",
       "    <tr style=\"text-align: right;\">\n",
       "      <th></th>\n",
       "      <th>answer</th>\n",
       "      <th>text</th>\n",
       "      <th>class</th>\n",
       "    </tr>\n",
       "  </thead>\n",
       "  <tbody>\n",
       "    <tr>\n",
       "      <th>0</th>\n",
       "      <td>58e3cfe6132ca50e053f5f82</td>\n",
       "      <td>юбка детский orby новый неносить раз реал крас...</td>\n",
       "      <td>1</td>\n",
       "    </tr>\n",
       "    <tr>\n",
       "      <th>1</th>\n",
       "      <td>5667531b2b7f8d127d838c34</td>\n",
       "      <td>ботильон новый привезти чехия указать размер 4...</td>\n",
       "      <td>1</td>\n",
       "    </tr>\n",
       "    <tr>\n",
       "      <th>2</th>\n",
       "      <td>59534826aaab284cba337e06</td>\n",
       "      <td>брюки размер 4042 брюки новый незнать мерило п...</td>\n",
       "      <td>1</td>\n",
       "    </tr>\n",
       "    <tr>\n",
       "      <th>3</th>\n",
       "      <td>57de544096ad842e26de8027</td>\n",
       "      <td>продать детский шапка продать шапка кажда 200р...</td>\n",
       "      <td>1</td>\n",
       "    </tr>\n",
       "    <tr>\n",
       "      <th>4</th>\n",
       "      <td>5ad4d2626c86cb168d212022</td>\n",
       "      <td>блузка темносиний 42 размер состояние отличный...</td>\n",
       "      <td>1</td>\n",
       "    </tr>\n",
       "  </tbody>\n",
       "</table>\n",
       "</div>"
      ],
      "text/plain": [
       "                     answer  \\\n",
       "0  58e3cfe6132ca50e053f5f82   \n",
       "1  5667531b2b7f8d127d838c34   \n",
       "2  59534826aaab284cba337e06   \n",
       "3  57de544096ad842e26de8027   \n",
       "4  5ad4d2626c86cb168d212022   \n",
       "\n",
       "                                                text  class  \n",
       "0  юбка детский orby новый неносить раз реал крас...      1  \n",
       "1  ботильон новый привезти чехия указать размер 4...      1  \n",
       "2  брюки размер 4042 брюки новый незнать мерило п...      1  \n",
       "3  продать детский шапка продать шапка кажда 200р...      1  \n",
       "4  блузка темносиний 42 размер состояние отличный...      1  "
      ]
     },
     "metadata": {},
     "output_type": "display_data"
    },
    {
     "data": {
      "text/html": [
       "<div>\n",
       "<style scoped>\n",
       "    .dataframe tbody tr th:only-of-type {\n",
       "        vertical-align: middle;\n",
       "    }\n",
       "\n",
       "    .dataframe tbody tr th {\n",
       "        vertical-align: top;\n",
       "    }\n",
       "\n",
       "    .dataframe thead th {\n",
       "        text-align: right;\n",
       "    }\n",
       "</style>\n",
       "<table border=\"1\" class=\"dataframe\">\n",
       "  <thead>\n",
       "    <tr style=\"text-align: right;\">\n",
       "      <th></th>\n",
       "      <th>answer</th>\n",
       "      <th>text</th>\n",
       "      <th>class</th>\n",
       "    </tr>\n",
       "  </thead>\n",
       "  <tbody>\n",
       "    <tr>\n",
       "      <th>33530</th>\n",
       "      <td>&lt;p&gt;Никола́й Дми́триевич Серге́ев (22 сентября ...</td>\n",
       "      <td>сергеев николай дмитриевич</td>\n",
       "      <td>0</td>\n",
       "    </tr>\n",
       "    <tr>\n",
       "      <th>33531</th>\n",
       "      <td>Считают.... что это не модно.... Глубоко заблу...</td>\n",
       "      <td>романтик просто почему романтик мало просто не...</td>\n",
       "      <td>0</td>\n",
       "    </tr>\n",
       "    <tr>\n",
       "      <th>33532</th>\n",
       "      <td>Ноты.....</td>\n",
       "      <td>самый музыкальный термин</td>\n",
       "      <td>0</td>\n",
       "    </tr>\n",
       "    <tr>\n",
       "      <th>33533</th>\n",
       "      <td>Герпес - это вирус. Очень у многих людей вирус...</td>\n",
       "      <td>герпес это такой лечить себя ухаживать интерне...</td>\n",
       "      <td>0</td>\n",
       "    </tr>\n",
       "    <tr>\n",
       "      <th>33534</th>\n",
       "      <td>&lt;p&gt; 45 орехов если первая белка -х, то вторая ...</td>\n",
       "      <td>первый белок найти несколько орех это 13 часть...</td>\n",
       "      <td>0</td>\n",
       "    </tr>\n",
       "  </tbody>\n",
       "</table>\n",
       "</div>"
      ],
      "text/plain": [
       "                                                  answer  \\\n",
       "33530  <p>Никола́й Дми́триевич Серге́ев (22 сентября ...   \n",
       "33531  Считают.... что это не модно.... Глубоко заблу...   \n",
       "33532                                         Ноты.....    \n",
       "33533  Герпес - это вирус. Очень у многих людей вирус...   \n",
       "33534  <p> 45 орехов если первая белка -х, то вторая ...   \n",
       "\n",
       "                                                    text  class  \n",
       "33530                         сергеев николай дмитриевич      0  \n",
       "33531  романтик просто почему романтик мало просто не...      0  \n",
       "33532                           самый музыкальный термин      0  \n",
       "33533  герпес это такой лечить себя ухаживать интерне...      0  \n",
       "33534  первый белок найти несколько орех это 13 часть...      0  "
      ]
     },
     "metadata": {},
     "output_type": "display_data"
    }
   ],
   "source": [
    "cdf = pd.concat([data_market, data_talker], axis=0)\n",
    "\n",
    "display(cdf['class'].value_counts())\n",
    "display(cdf.head(), cdf.tail())"
   ]
  },
  {
   "cell_type": "code",
   "execution_count": 7,
   "metadata": {},
   "outputs": [],
   "source": [
    "X = cdf['text']\n",
    "y = cdf['class']\n",
    "\n",
    "X_train, X_test, y_train, y_test = train_test_split(\n",
    "    X, y, test_size=0.2, random_state=42, stratify=y)\n",
    "\n"
   ]
  },
  {
   "cell_type": "code",
   "execution_count": 8,
   "metadata": {},
   "outputs": [],
   "source": [
    "tfidf_vec = TfidfVectorizer(ngram_range=(1, 3), max_features=100000).fit(\n",
    "    X_train.values)\n",
    "\n",
    "xtrain_tfidf = tfidf_vec.transform(X_train)\n",
    "xtest_tfidf = tfidf_vec.transform(X_test)\n"
   ]
  },
  {
   "cell_type": "code",
   "execution_count": 9,
   "metadata": {},
   "outputs": [
    {
     "name": "stdout",
     "output_type": "stream",
     "text": [
      "0.9847174593708066\n"
     ]
    }
   ],
   "source": [
    "model_clf = LogisticRegression(random_state=42)\n",
    "model_clf.fit(xtrain_tfidf, y_train)\n",
    "predictions = model_clf.predict(xtest_tfidf)\n",
    "\n",
    "print(accuracy_score(y_test, predictions))"
   ]
  },
  {
   "cell_type": "code",
   "execution_count": 10,
   "metadata": {},
   "outputs": [],
   "source": [
    "# Сохранение TfidfVectorizer в файл\n",
    "joblib.dump(tfidf_vec, './data/tfidf_vectorizer.pkl')\n",
    "tfidf_vectorizer = joblib.load('./data/tfidf_vectorizer.pkl')"
   ]
  },
  {
   "cell_type": "code",
   "execution_count": 11,
   "metadata": {},
   "outputs": [
    {
     "name": "stdout",
     "output_type": "stream",
     "text": [
      "[1]\n"
     ]
    }
   ],
   "source": [
    "new_data = 'крокодилья шапка'\n",
    "question = tfidf_vec.transform(pd.Series(new_data))\n",
    "answer = model_clf.predict(question)\n",
    "print(answer)"
   ]
  },
  {
   "cell_type": "markdown",
   "metadata": {},
   "source": [
    "---"
   ]
  },
  {
   "cell_type": "code",
   "execution_count": 12,
   "metadata": {},
   "outputs": [],
   "source": [
    "# Функция классификации\n",
    "def responce_classification(text=''):\n",
    "    question = tfidf_vectorizer.transform(pd.Series(text))\n",
    "    label = model_clf.predict(question)\n",
    "    return label[0]"
   ]
  },
  {
   "cell_type": "code",
   "execution_count": 13,
   "metadata": {},
   "outputs": [
    {
     "data": {
      "text/html": [
       "<div>\n",
       "<style scoped>\n",
       "    .dataframe tbody tr th:only-of-type {\n",
       "        vertical-align: middle;\n",
       "    }\n",
       "\n",
       "    .dataframe tbody tr th {\n",
       "        vertical-align: top;\n",
       "    }\n",
       "\n",
       "    .dataframe thead th {\n",
       "        text-align: right;\n",
       "    }\n",
       "</style>\n",
       "<table border=\"1\" class=\"dataframe\">\n",
       "  <thead>\n",
       "    <tr style=\"text-align: right;\">\n",
       "      <th></th>\n",
       "      <th>answer</th>\n",
       "      <th>text</th>\n",
       "    </tr>\n",
       "  </thead>\n",
       "  <tbody>\n",
       "    <tr>\n",
       "      <th>0</th>\n",
       "      <td>58e3cfe6132ca50e053f5f82</td>\n",
       "      <td>юбка детский orby новый неносить раз реал крас...</td>\n",
       "    </tr>\n",
       "    <tr>\n",
       "      <th>1</th>\n",
       "      <td>5667531b2b7f8d127d838c34</td>\n",
       "      <td>ботильон новый привезти чехия указать размер 4...</td>\n",
       "    </tr>\n",
       "    <tr>\n",
       "      <th>2</th>\n",
       "      <td>59534826aaab284cba337e06</td>\n",
       "      <td>брюки размер 4042 брюки новый незнать мерило п...</td>\n",
       "    </tr>\n",
       "    <tr>\n",
       "      <th>3</th>\n",
       "      <td>57de544096ad842e26de8027</td>\n",
       "      <td>продать детский шапка продать шапка кажда 200р...</td>\n",
       "    </tr>\n",
       "    <tr>\n",
       "      <th>4</th>\n",
       "      <td>5ad4d2626c86cb168d212022</td>\n",
       "      <td>блузка темносиний 42 размер состояние отличный...</td>\n",
       "    </tr>\n",
       "    <tr>\n",
       "      <th>...</th>\n",
       "      <td>...</td>\n",
       "      <td>...</td>\n",
       "    </tr>\n",
       "    <tr>\n",
       "      <th>35542</th>\n",
       "      <td>5ac078a7938000715c0e2c38</td>\n",
       "      <td>новый болеро soliver привезти европа неподойти...</td>\n",
       "    </tr>\n",
       "    <tr>\n",
       "      <th>35543</th>\n",
       "      <td>5b5f181c62e1c6616a7f6472</td>\n",
       "      <td>юбка юбка белый турция фирма adl</td>\n",
       "    </tr>\n",
       "    <tr>\n",
       "      <th>35544</th>\n",
       "      <td>5bd6c8b29e94ba033d31f8d0</td>\n",
       "      <td>новый твидовый пиджак новый бирка пиджак разме...</td>\n",
       "    </tr>\n",
       "    <tr>\n",
       "      <th>35545</th>\n",
       "      <td>5bd6c8bc074b3e1c056f69b2</td>\n",
       "      <td>женский зимний куртка женский зимний спортивны...</td>\n",
       "    </tr>\n",
       "    <tr>\n",
       "      <th>35546</th>\n",
       "      <td>5bd6c8fb2138bbc55745362c</td>\n",
       "      <td>новый золотой ветровка женский ветровка размер...</td>\n",
       "    </tr>\n",
       "  </tbody>\n",
       "</table>\n",
       "<p>33534 rows × 2 columns</p>\n",
       "</div>"
      ],
      "text/plain": [
       "                         answer  \\\n",
       "0      58e3cfe6132ca50e053f5f82   \n",
       "1      5667531b2b7f8d127d838c34   \n",
       "2      59534826aaab284cba337e06   \n",
       "3      57de544096ad842e26de8027   \n",
       "4      5ad4d2626c86cb168d212022   \n",
       "...                         ...   \n",
       "35542  5ac078a7938000715c0e2c38   \n",
       "35543  5b5f181c62e1c6616a7f6472   \n",
       "35544  5bd6c8b29e94ba033d31f8d0   \n",
       "35545  5bd6c8bc074b3e1c056f69b2   \n",
       "35546  5bd6c8fb2138bbc55745362c   \n",
       "\n",
       "                                                    text  \n",
       "0      юбка детский orby новый неносить раз реал крас...  \n",
       "1      ботильон новый привезти чехия указать размер 4...  \n",
       "2      брюки размер 4042 брюки новый незнать мерило п...  \n",
       "3      продать детский шапка продать шапка кажда 200р...  \n",
       "4      блузка темносиний 42 размер состояние отличный...  \n",
       "...                                                  ...  \n",
       "35542  новый болеро soliver привезти европа неподойти...  \n",
       "35543                   юбка юбка белый турция фирма adl  \n",
       "35544  новый твидовый пиджак новый бирка пиджак разме...  \n",
       "35545  женский зимний куртка женский зимний спортивны...  \n",
       "35546  новый золотой ветровка женский ветровка размер...  \n",
       "\n",
       "[33534 rows x 2 columns]"
      ]
     },
     "execution_count": 13,
     "metadata": {},
     "output_type": "execute_result"
    }
   ],
   "source": [
    "data_market_results = data_market.drop(['class'], axis=1)\n",
    "data_market_results"
   ]
  },
  {
   "cell_type": "code",
   "execution_count": 14,
   "metadata": {},
   "outputs": [
    {
     "data": {
      "text/plain": [
       "True"
      ]
     },
     "execution_count": 14,
     "metadata": {},
     "output_type": "execute_result"
    }
   ],
   "source": [
    "# Создание AnnoyIndex для маркета\n",
    "market_tfidf = tfidf_vectorizer.transform(data_market_results['text'])\n",
    "vector_size = market_tfidf.shape[1]  # Размерность векторов\n",
    "index_market = AnnoyIndex(vector_size, 'angular')  # 'angular' для использования косинусной меры\n",
    "\n",
    "# Добавление векторов из обучающего набора в AnnoyIndex\n",
    "for i, value in data_market_results['text'].items():\n",
    "    vector = tfidf_vectorizer.transform([value]).toarray()[0]  # Преобразуйте разреженную матрицу TF-IDF в массив\n",
    "    index_market.add_item(i, vector)\n",
    "\n",
    "# Построение индекса\n",
    "index_market.build(10)  # Замените n_trees на желаемое количество деревьев\n",
    "index_market.save('./data/market_idx.ann')\n"
   ]
  },
  {
   "cell_type": "code",
   "execution_count": 15,
   "metadata": {},
   "outputs": [
    {
     "data": {
      "text/html": [
       "<div>\n",
       "<style scoped>\n",
       "    .dataframe tbody tr th:only-of-type {\n",
       "        vertical-align: middle;\n",
       "    }\n",
       "\n",
       "    .dataframe tbody tr th {\n",
       "        vertical-align: top;\n",
       "    }\n",
       "\n",
       "    .dataframe thead th {\n",
       "        text-align: right;\n",
       "    }\n",
       "</style>\n",
       "<table border=\"1\" class=\"dataframe\">\n",
       "  <thead>\n",
       "    <tr style=\"text-align: right;\">\n",
       "      <th></th>\n",
       "      <th>text</th>\n",
       "      <th>answer</th>\n",
       "    </tr>\n",
       "  </thead>\n",
       "  <tbody>\n",
       "    <tr>\n",
       "      <th>1</th>\n",
       "      <td>парень относиться цветной линза девушка зелёны...</td>\n",
       "      <td>меня вобще прикалывает эта тема :).</td>\n",
       "    </tr>\n",
       "    <tr>\n",
       "      <th>2</th>\n",
       "      <td>делать сегодня найти 2 миллион рубль</td>\n",
       "      <td>Если это \"счастье \" действительно на вас свали...</td>\n",
       "    </tr>\n",
       "    <tr>\n",
       "      <th>3</th>\n",
       "      <td>эбу двенашка называться итэлма эбу</td>\n",
       "      <td>ЭБУ — электронный блок управления двигателем а...</td>\n",
       "    </tr>\n",
       "    <tr>\n",
       "      <th>4</th>\n",
       "      <td>академия вампир сколько даный момент часть кни...</td>\n",
       "      <td>4. Охотники и Жертвы, Ледяной укус, Поцелуй ть...</td>\n",
       "    </tr>\n",
       "    <tr>\n",
       "      <th>5</th>\n",
       "      <td>защититься энергетический вампир</td>\n",
       "      <td>Защита мыслью. &lt;br&gt;Каждый человек должен в отн...</td>\n",
       "    </tr>\n",
       "    <tr>\n",
       "      <th>...</th>\n",
       "      <td>...</td>\n",
       "      <td>...</td>\n",
       "    </tr>\n",
       "    <tr>\n",
       "      <th>33530</th>\n",
       "      <td>сергеев николай дмитриевич</td>\n",
       "      <td>&lt;p&gt;Никола́й Дми́триевич Серге́ев (22 сентября ...</td>\n",
       "    </tr>\n",
       "    <tr>\n",
       "      <th>33531</th>\n",
       "      <td>романтик просто почему романтик мало просто не...</td>\n",
       "      <td>Считают.... что это не модно.... Глубоко заблу...</td>\n",
       "    </tr>\n",
       "    <tr>\n",
       "      <th>33532</th>\n",
       "      <td>самый музыкальный термин</td>\n",
       "      <td>Ноты.....</td>\n",
       "    </tr>\n",
       "    <tr>\n",
       "      <th>33533</th>\n",
       "      <td>герпес это такой лечить себя ухаживать интерне...</td>\n",
       "      <td>Герпес - это вирус. Очень у многих людей вирус...</td>\n",
       "    </tr>\n",
       "    <tr>\n",
       "      <th>33534</th>\n",
       "      <td>первый белок найти несколько орех это 13 часть...</td>\n",
       "      <td>&lt;p&gt; 45 орехов если первая белка -х, то вторая ...</td>\n",
       "    </tr>\n",
       "  </tbody>\n",
       "</table>\n",
       "<p>33534 rows × 2 columns</p>\n",
       "</div>"
      ],
      "text/plain": [
       "                                                    text  \\\n",
       "1      парень относиться цветной линза девушка зелёны...   \n",
       "2                   делать сегодня найти 2 миллион рубль   \n",
       "3                     эбу двенашка называться итэлма эбу   \n",
       "4      академия вампир сколько даный момент часть кни...   \n",
       "5                       защититься энергетический вампир   \n",
       "...                                                  ...   \n",
       "33530                         сергеев николай дмитриевич   \n",
       "33531  романтик просто почему романтик мало просто не...   \n",
       "33532                           самый музыкальный термин   \n",
       "33533  герпес это такой лечить себя ухаживать интерне...   \n",
       "33534  первый белок найти несколько орех это 13 часть...   \n",
       "\n",
       "                                                  answer  \n",
       "1                   меня вобще прикалывает эта тема :).   \n",
       "2      Если это \"счастье \" действительно на вас свали...  \n",
       "3      ЭБУ — электронный блок управления двигателем а...  \n",
       "4      4. Охотники и Жертвы, Ледяной укус, Поцелуй ть...  \n",
       "5      Защита мыслью. <br>Каждый человек должен в отн...  \n",
       "...                                                  ...  \n",
       "33530  <p>Никола́й Дми́триевич Серге́ев (22 сентября ...  \n",
       "33531  Считают.... что это не модно.... Глубоко заблу...  \n",
       "33532                                         Ноты.....   \n",
       "33533  Герпес - это вирус. Очень у многих людей вирус...  \n",
       "33534  <p> 45 орехов если первая белка -х, то вторая ...  \n",
       "\n",
       "[33534 rows x 2 columns]"
      ]
     },
     "execution_count": 15,
     "metadata": {},
     "output_type": "execute_result"
    }
   ],
   "source": [
    "talker = data_talker.drop(['class'], axis=1)\n",
    "talker"
   ]
  },
  {
   "cell_type": "code",
   "execution_count": 16,
   "metadata": {},
   "outputs": [
    {
     "data": {
      "text/plain": [
       "True"
      ]
     },
     "execution_count": 16,
     "metadata": {},
     "output_type": "execute_result"
    }
   ],
   "source": [
    "# Создание AnnoyIndex для маркета\n",
    "talker_tfidf = tfidf_vectorizer.transform(talker['text'])\n",
    "vector_size = talker_tfidf.shape[1]  # Размерность векторов\n",
    "index_talker = AnnoyIndex(vector_size, 'angular')  # 'angular' для использования косинусной меры\n",
    "\n",
    "# Добавление векторов из обучающего набора в AnnoyIndex\n",
    "for i, value in talker['text'].items():\n",
    "    vector = tfidf_vectorizer.transform([value]).toarray()[0]  # Преобразуйте разреженную матрицу TF-IDF в массив\n",
    "    index_talker.add_item(i, vector)\n",
    "\n",
    "# Построение индекса\n",
    "index_talker.build(10)  # Замените n_trees на желаемое количество деревьев\n",
    "index_talker.save('./data/talker_idx.ann')\n"
   ]
  },
  {
   "cell_type": "code",
   "execution_count": 20,
   "metadata": {},
   "outputs": [
    {
     "data": {
      "text/html": [
       "<div>\n",
       "<style scoped>\n",
       "    .dataframe tbody tr th:only-of-type {\n",
       "        vertical-align: middle;\n",
       "    }\n",
       "\n",
       "    .dataframe tbody tr th {\n",
       "        vertical-align: top;\n",
       "    }\n",
       "\n",
       "    .dataframe thead th {\n",
       "        text-align: right;\n",
       "    }\n",
       "</style>\n",
       "<table border=\"1\" class=\"dataframe\">\n",
       "  <thead>\n",
       "    <tr style=\"text-align: right;\">\n",
       "      <th></th>\n",
       "      <th>answer</th>\n",
       "      <th>text</th>\n",
       "    </tr>\n",
       "  </thead>\n",
       "  <tbody>\n",
       "    <tr>\n",
       "      <th>14523</th>\n",
       "      <td>5a92ef916c86cb68a245e5ea</td>\n",
       "      <td>сапог кожа осенний натуральный кожа италия 37 рр</td>\n",
       "    </tr>\n",
       "  </tbody>\n",
       "</table>\n",
       "</div>"
      ],
      "text/plain": [
       "                         answer  \\\n",
       "14523  5a92ef916c86cb68a245e5ea   \n",
       "\n",
       "                                                   text  \n",
       "14523  сапог кожа осенний натуральный кожа италия 37 рр  "
      ]
     },
     "metadata": {},
     "output_type": "display_data"
    },
    {
     "name": "stdout",
     "output_type": "stream",
     "text": [
      "14523    5a92ef916c86cb68a245e5ea\n",
      "Name: answer, dtype: object\n"
     ]
    }
   ],
   "source": [
    "new_data = 'orby'\n",
    "question = tfidf_vectorizer.transform(pd.Series(new_data))\n",
    "\n",
    "# Поиск ближайших соседей для вопроса\n",
    "nearest_neighbors = index_market.get_nns_by_vector(question.toarray()[0], 1, search_k=2)\n",
    "\n",
    "# Вывод наиболее релевантного ответа\n",
    "answer = data_market_results['answer'].iloc[nearest_neighbors]\n",
    "\n",
    "display(data_market_results[data_market_results['answer'] == answer.values[0]])\n",
    "print(answer)"
   ]
  },
  {
   "cell_type": "code",
   "execution_count": 18,
   "metadata": {},
   "outputs": [
    {
     "name": "stdout",
     "output_type": "stream",
     "text": [
      "2    Если это \"счастье \" действительно на вас свали...\n",
      "Name: answer, dtype: object\n"
     ]
    }
   ],
   "source": [
    "question = tfidf_vectorizer.transform(pd.Series(new_data))\n",
    "\n",
    "# Поиск ближайших соседей для вопроса\n",
    "nearest_neighbors = index_talker.get_nns_by_vector(question.toarray()[0], 1, search_k=1)\n",
    "\n",
    "# Вывод наиболее релевантного ответа\n",
    "answer = data_talker['answer'].iloc[nearest_neighbors]\n",
    "print(answer)"
   ]
  },
  {
   "cell_type": "markdown",
   "metadata": {},
   "source": [
    "----"
   ]
  },
  {
   "cell_type": "code",
   "execution_count": 19,
   "metadata": {},
   "outputs": [
    {
     "ename": "KeyboardInterrupt",
     "evalue": "",
     "output_type": "error",
     "traceback": [
      "\u001b[0;31m---------------------------------------------------------------------------\u001b[0m",
      "\u001b[0;31mKeyboardInterrupt\u001b[0m                         Traceback (most recent call last)",
      "Cell \u001b[0;32mIn[19], line 8\u001b[0m\n\u001b[1;32m      6\u001b[0m \u001b[38;5;28;01mfor\u001b[39;00m i, value \u001b[38;5;129;01min\u001b[39;00m cdf[\u001b[38;5;124m'\u001b[39m\u001b[38;5;124mtext\u001b[39m\u001b[38;5;124m'\u001b[39m]\u001b[38;5;241m.\u001b[39mitems():\n\u001b[1;32m      7\u001b[0m     vector \u001b[38;5;241m=\u001b[39m tfidf_vec\u001b[38;5;241m.\u001b[39mtransform([value])\u001b[38;5;241m.\u001b[39mtoarray()[\u001b[38;5;241m0\u001b[39m]  \u001b[38;5;66;03m# Преобразуйте разреженную матрицу TF-IDF в массив\u001b[39;00m\n\u001b[0;32m----> 8\u001b[0m     \u001b[43mindex_ann\u001b[49m\u001b[38;5;241;43m.\u001b[39;49m\u001b[43madd_item\u001b[49m\u001b[43m(\u001b[49m\u001b[43mi\u001b[49m\u001b[43m,\u001b[49m\u001b[43m \u001b[49m\u001b[43mvector\u001b[49m\u001b[43m)\u001b[49m\n\u001b[1;32m     10\u001b[0m \u001b[38;5;66;03m# Построение индекса\u001b[39;00m\n\u001b[1;32m     11\u001b[0m index_ann\u001b[38;5;241m.\u001b[39mbuild(\u001b[38;5;241m10\u001b[39m)  \u001b[38;5;66;03m# Замените n_trees на желаемое количество деревьев\u001b[39;00m\n",
      "\u001b[0;31mKeyboardInterrupt\u001b[0m: "
     ]
    }
   ],
   "source": [
    "# Создание AnnoyIndex\n",
    "vector_size = xtrain_tfidf.shape[1]  # Размерность векторов\n",
    "index_ann = AnnoyIndex(vector_size, 'angular')  # 'angular' для использования косинусной меры\n",
    "\n",
    "# Добавление векторов из обучающего набора в AnnoyIndex\n",
    "for i, value in cdf['text'].items():\n",
    "    vector = tfidf_vec.transform([value]).toarray()[0]  # Преобразуйте разреженную матрицу TF-IDF в массив\n",
    "    index_ann.add_item(i, vector)\n",
    "\n",
    "# Построение индекса\n",
    "index_ann.build(10)  # Замените n_trees на желаемое количество деревьев\n"
   ]
  },
  {
   "cell_type": "code",
   "execution_count": null,
   "metadata": {},
   "outputs": [
    {
     "name": "stdout",
     "output_type": "stream",
     "text": [
      "2010    Оч точно подмечено!! ! +100000. \n",
      "Name: answer, dtype: object\n"
     ]
    }
   ],
   "source": [
    "new_data = 'Юбка детская ORBY '\n",
    "question = tfidf_vec.transform(pd.Series(new_data))\n",
    "\n",
    "# Поиск ближайших соседей для вопроса\n",
    "nearest_neighbors = index_ann.get_nns_by_vector(question.toarray()[0], 1, search_k=1)\n",
    "\n",
    "# Вывод наиболее релевантного ответа\n",
    "answer = cdf['answer'].iloc[nearest_neighbors]\n",
    "print(answer)"
   ]
  },
  {
   "cell_type": "code",
   "execution_count": null,
   "metadata": {},
   "outputs": [
    {
     "data": {
      "text/html": [
       "<div>\n",
       "<style scoped>\n",
       "    .dataframe tbody tr th:only-of-type {\n",
       "        vertical-align: middle;\n",
       "    }\n",
       "\n",
       "    .dataframe tbody tr th {\n",
       "        vertical-align: top;\n",
       "    }\n",
       "\n",
       "    .dataframe thead th {\n",
       "        text-align: right;\n",
       "    }\n",
       "</style>\n",
       "<table border=\"1\" class=\"dataframe\">\n",
       "  <thead>\n",
       "    <tr style=\"text-align: right;\">\n",
       "      <th></th>\n",
       "      <th>answer</th>\n",
       "      <th>text</th>\n",
       "      <th>class</th>\n",
       "    </tr>\n",
       "  </thead>\n",
       "  <tbody>\n",
       "    <tr>\n",
       "      <th>2010</th>\n",
       "      <td>Оч точно подмечено!! ! +100000.</td>\n",
       "      <td>заметить комментарий смешной сам вопрос</td>\n",
       "      <td>0</td>\n",
       "    </tr>\n",
       "  </tbody>\n",
       "</table>\n",
       "</div>"
      ],
      "text/plain": [
       "                                answer  \\\n",
       "2010  Оч точно подмечено!! ! +100000.    \n",
       "\n",
       "                                         text  class  \n",
       "2010  заметить комментарий смешной сам вопрос      0  "
      ]
     },
     "execution_count": 102,
     "metadata": {},
     "output_type": "execute_result"
    }
   ],
   "source": [
    "cdf[cdf['answer'] ==answer.values[0]]"
   ]
  },
  {
   "cell_type": "code",
   "execution_count": null,
   "metadata": {},
   "outputs": [],
   "source": []
  }
 ],
 "metadata": {
  "kernelspec": {
   "display_name": "Python 3",
   "language": "python",
   "name": "python3"
  },
  "language_info": {
   "codemirror_mode": {
    "name": "ipython",
    "version": 3
   },
   "file_extension": ".py",
   "mimetype": "text/x-python",
   "name": "python",
   "nbconvert_exporter": "python",
   "pygments_lexer": "ipython3",
   "version": "3.11.4"
  }
 },
 "nbformat": 4,
 "nbformat_minor": 2
}
