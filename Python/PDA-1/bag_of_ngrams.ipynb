{
 "cells": [
  {
   "cell_type": "markdown",
   "metadata": {},
   "source": [
    "\n",
    "## Bag of N-grams"
   ]
  },
  {
   "cell_type": "code",
   "execution_count": 2,
   "metadata": {},
   "outputs": [
    {
     "data": {
      "text/plain": [
       "[('I', 'like'),\n",
       " ('like', 'this'),\n",
       " ('this', 'movie,'),\n",
       " ('movie,', \"it's\"),\n",
       " (\"it's\", 'funny.'),\n",
       " ('funny.', 'I'),\n",
       " ('I', 'hate'),\n",
       " ('hate', 'this'),\n",
       " ('this', 'movie.'),\n",
       " ('movie.', 'This'),\n",
       " ('This', 'was'),\n",
       " ('was', 'awesome!'),\n",
       " ('awesome!', 'I'),\n",
       " ('I', 'like'),\n",
       " ('like', 'it.'),\n",
       " ('it.', 'Nice'),\n",
       " ('Nice', 'one.'),\n",
       " ('one.', 'I'),\n",
       " ('I', 'love'),\n",
       " ('love', 'it.')]"
      ]
     },
     "execution_count": 2,
     "metadata": {},
     "output_type": "execute_result"
    }
   ],
   "source": [
    "from nltk.util import ngrams\n",
    "text = \"I like this movie, it's funny. I hate this movie. This was awesome! I like it. Nice one. I love it.\"\n",
    "tokenized = text.split()\n",
    "bigrams = ngrams(tokenized, 2)\n",
    "\n",
    "[i for i in bigrams]"
   ]
  },
  {
   "cell_type": "code",
   "execution_count": null,
   "metadata": {},
   "outputs": [],
   "source": []
  }
 ],
 "metadata": {
  "kernelspec": {
   "display_name": "Python 3",
   "language": "python",
   "name": "python3"
  },
  "language_info": {
   "codemirror_mode": {
    "name": "ipython",
    "version": 3
   },
   "file_extension": ".py",
   "mimetype": "text/x-python",
   "name": "python",
   "nbconvert_exporter": "python",
   "pygments_lexer": "ipython3",
   "version": "3.11.4"
  }
 },
 "nbformat": 4,
 "nbformat_minor": 2
}
