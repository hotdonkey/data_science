{
 "cells": [
  {
   "cell_type": "markdown",
   "metadata": {},
   "source": [
    "\n",
    "## Bag of N-grams"
   ]
  },
  {
   "cell_type": "code",
   "execution_count": 1,
   "metadata": {},
   "outputs": [
    {
     "data": {
      "text/plain": [
       "[('I', 'like', 'this'),\n",
       " ('like', 'this', 'movie,'),\n",
       " ('this', 'movie,', \"it's\"),\n",
       " ('movie,', \"it's\", 'funny.'),\n",
       " (\"it's\", 'funny.', 'I'),\n",
       " ('funny.', 'I', 'hate'),\n",
       " ('I', 'hate', 'this'),\n",
       " ('hate', 'this', 'movie.'),\n",
       " ('this', 'movie.', 'This'),\n",
       " ('movie.', 'This', 'was'),\n",
       " ('This', 'was', 'awesome!'),\n",
       " ('was', 'awesome!', 'I'),\n",
       " ('awesome!', 'I', 'like'),\n",
       " ('I', 'like', 'it.'),\n",
       " ('like', 'it.', 'Nice'),\n",
       " ('it.', 'Nice', 'one.'),\n",
       " ('Nice', 'one.', 'I'),\n",
       " ('one.', 'I', 'love'),\n",
       " ('I', 'love', 'it.')]"
      ]
     },
     "execution_count": 1,
     "metadata": {},
     "output_type": "execute_result"
    }
   ],
   "source": [
    "from nltk.util import ngrams\n",
    "text = \"I like this movie, it's funny. I hate this movie. This was awesome! I like it. Nice one. I love it.\"\n",
    "tokenized = text.split()\n",
    "bigrams = ngrams(tokenized, 3)\n",
    "\n",
    "[i for i in bigrams]"
   ]
  },
  {
   "cell_type": "code",
   "execution_count": 1,
   "metadata": {},
   "outputs": [],
   "source": [
    "test = 1"
   ]
  },
  {
   "cell_type": "code",
   "execution_count": null,
   "metadata": {},
   "outputs": [],
   "source": []
  }
 ],
 "metadata": {
  "kernelspec": {
   "display_name": "Python 3",
   "language": "python",
   "name": "python3"
  },
  "language_info": {
   "codemirror_mode": {
    "name": "ipython",
    "version": 3
   },
   "file_extension": ".py",
   "mimetype": "text/x-python",
   "name": "python",
   "nbconvert_exporter": "python",
   "pygments_lexer": "ipython3",
   "version": "3.11.4"
  }
 },
 "nbformat": 4,
 "nbformat_minor": 2
}
