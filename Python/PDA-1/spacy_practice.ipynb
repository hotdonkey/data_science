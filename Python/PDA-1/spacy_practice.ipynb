{
 "cells": [
  {
   "cell_type": "code",
   "execution_count": 1,
   "metadata": {},
   "outputs": [],
   "source": [
    "import spacy"
   ]
  },
  {
   "cell_type": "code",
   "execution_count": 2,
   "metadata": {},
   "outputs": [],
   "source": [
    "nlp = spacy.load(\"ru_core_news_sm\")"
   ]
  },
  {
   "cell_type": "code",
   "execution_count": 11,
   "metadata": {},
   "outputs": [],
   "source": [
    "text = 'Я хочу полететь в Лондон. Вчера я прилетел из Москвы'"
   ]
  },
  {
   "cell_type": "code",
   "execution_count": 34,
   "metadata": {},
   "outputs": [],
   "source": [
    "doc = nlp(text)"
   ]
  },
  {
   "cell_type": "code",
   "execution_count": 35,
   "metadata": {},
   "outputs": [
    {
     "name": "stdout",
     "output_type": "stream",
     "text": [
      "хочу PRON nsubj Я PRON []\n",
      "хочу VERB ROOT хочу VERB ['Pres']\n",
      "хочу VERB xcomp полететь VERB []\n",
      "Лондон ADP case в ADP []\n",
      "полететь PROPN obl Лондон PROPN []\n",
      "хочу PUNCT punct . PUNCT []\n",
      "прилетел ADV advmod Вчера ADV []\n",
      "прилетел PRON nsubj я PRON []\n",
      "прилетел VERB ROOT прилетел VERB ['Past']\n",
      "Москвы ADP case из ADP []\n",
      "прилетел PROPN obl Москвы PROPN []\n"
     ]
    }
   ],
   "source": [
    "for token in doc:\n",
    "    print(token.head.text, token.pos_, token.dep_, token.text, token.tag_, token.morph.get(\"Tense\"))"
   ]
  },
  {
   "cell_type": "code",
   "execution_count": 44,
   "metadata": {},
   "outputs": [
    {
     "name": "stdout",
     "output_type": "stream",
     "text": [
      "[полететь, Лондон]\n",
      "[Москвы]\n"
     ]
    }
   ],
   "source": [
    "for sent in doc.sents:\n",
    "    print([word for word in sent if word.dep_=='xcomp' or word.pos_ =='PROPN'])"
   ]
  },
  {
   "cell_type": "code",
   "execution_count": null,
   "metadata": {},
   "outputs": [],
   "source": []
  }
 ],
 "metadata": {
  "kernelspec": {
   "display_name": "Python 3",
   "language": "python",
   "name": "python3"
  },
  "language_info": {
   "codemirror_mode": {
    "name": "ipython",
    "version": 3
   },
   "file_extension": ".py",
   "mimetype": "text/x-python",
   "name": "python",
   "nbconvert_exporter": "python",
   "pygments_lexer": "ipython3",
   "version": "3.11.4"
  }
 },
 "nbformat": 4,
 "nbformat_minor": 2
}
