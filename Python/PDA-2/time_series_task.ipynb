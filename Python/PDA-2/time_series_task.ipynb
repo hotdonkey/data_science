{
 "cells": [
  {
   "cell_type": "code",
   "execution_count": 100,
   "metadata": {},
   "outputs": [],
   "source": [
    "import pandas as pd\n",
    "import numpy as np\n",
    "\n",
    "from sklearn.model_selection import TimeSeriesSplit\n",
    "\n",
    "from statsmodels.tsa.seasonal import seasonal_decompose\n",
    "from statsmodels.tsa.stattools import adfuller\n",
    "\n",
    "\n",
    "import matplotlib.pyplot as plt"
   ]
  },
  {
   "cell_type": "markdown",
   "metadata": {},
   "source": [
    "---"
   ]
  },
  {
   "cell_type": "code",
   "execution_count": 12,
   "metadata": {},
   "outputs": [
    {
     "name": "stderr",
     "output_type": "stream",
     "text": [
      "/var/folders/df/dz8wtw0j7791hg98mrx_thxc0000gn/T/ipykernel_9806/3065445199.py:1: DtypeWarning: Columns (5) have mixed types. Specify dtype option on import or set low_memory=False.\n",
      "  df = pd.read_csv('./data/train.csv', parse_dates=['date'], index_col=['date'])\n"
     ]
    }
   ],
   "source": [
    "# Инициализация датасета\n",
    "df = pd.read_csv('./data/train.csv', parse_dates=['date'], index_col=['date'])"
   ]
  },
  {
   "cell_type": "code",
   "execution_count": 90,
   "metadata": {},
   "outputs": [
    {
     "data": {
      "text/html": [
       "<div>\n",
       "<style scoped>\n",
       "    .dataframe tbody tr th:only-of-type {\n",
       "        vertical-align: middle;\n",
       "    }\n",
       "\n",
       "    .dataframe tbody tr th {\n",
       "        vertical-align: top;\n",
       "    }\n",
       "\n",
       "    .dataframe thead th {\n",
       "        text-align: right;\n",
       "    }\n",
       "</style>\n",
       "<table border=\"1\" class=\"dataframe\">\n",
       "  <thead>\n",
       "    <tr style=\"text-align: right;\">\n",
       "      <th></th>\n",
       "      <th>id</th>\n",
       "      <th>store_nbr</th>\n",
       "      <th>item_nbr</th>\n",
       "      <th>sales</th>\n",
       "      <th>onpromotion</th>\n",
       "    </tr>\n",
       "    <tr>\n",
       "      <th>date</th>\n",
       "      <th></th>\n",
       "      <th></th>\n",
       "      <th></th>\n",
       "      <th></th>\n",
       "      <th></th>\n",
       "    </tr>\n",
       "  </thead>\n",
       "  <tbody>\n",
       "    <tr>\n",
       "      <th>2013-01-01</th>\n",
       "      <td>0</td>\n",
       "      <td>25</td>\n",
       "      <td>103665</td>\n",
       "      <td>7.0</td>\n",
       "      <td>NaN</td>\n",
       "    </tr>\n",
       "    <tr>\n",
       "      <th>2013-01-01</th>\n",
       "      <td>1</td>\n",
       "      <td>25</td>\n",
       "      <td>105574</td>\n",
       "      <td>1.0</td>\n",
       "      <td>NaN</td>\n",
       "    </tr>\n",
       "    <tr>\n",
       "      <th>2013-01-01</th>\n",
       "      <td>2</td>\n",
       "      <td>25</td>\n",
       "      <td>105575</td>\n",
       "      <td>2.0</td>\n",
       "      <td>NaN</td>\n",
       "    </tr>\n",
       "    <tr>\n",
       "      <th>2013-01-01</th>\n",
       "      <td>3</td>\n",
       "      <td>25</td>\n",
       "      <td>108079</td>\n",
       "      <td>1.0</td>\n",
       "      <td>NaN</td>\n",
       "    </tr>\n",
       "    <tr>\n",
       "      <th>2013-01-01</th>\n",
       "      <td>4</td>\n",
       "      <td>25</td>\n",
       "      <td>108701</td>\n",
       "      <td>1.0</td>\n",
       "      <td>NaN</td>\n",
       "    </tr>\n",
       "  </tbody>\n",
       "</table>\n",
       "</div>"
      ],
      "text/plain": [
       "            id  store_nbr  item_nbr  sales onpromotion\n",
       "date                                                  \n",
       "2013-01-01   0         25    103665    7.0         NaN\n",
       "2013-01-01   1         25    105574    1.0         NaN\n",
       "2013-01-01   2         25    105575    2.0         NaN\n",
       "2013-01-01   3         25    108079    1.0         NaN\n",
       "2013-01-01   4         25    108701    1.0         NaN"
      ]
     },
     "metadata": {},
     "output_type": "display_data"
    },
    {
     "name": "stdout",
     "output_type": "stream",
     "text": [
      "Количество строк исходного датасета: 125497040\n"
     ]
    }
   ],
   "source": [
    "df.rename(columns={'unit_sales':'sales'}, inplace=True)\n",
    "display(df.head()) # Основная структура таблицы\n",
    "print(f\"Количество строк исходного датасета: {df.shape[0]}\")"
   ]
  },
  {
   "cell_type": "markdown",
   "metadata": {},
   "source": [
    "---"
   ]
  },
  {
   "cell_type": "markdown",
   "metadata": {},
   "source": [
    "### Предподготовка данных"
   ]
  },
  {
   "cell_type": "code",
   "execution_count": 94,
   "metadata": {},
   "outputs": [
    {
     "data": {
      "text/html": [
       "<div>\n",
       "<style scoped>\n",
       "    .dataframe tbody tr th:only-of-type {\n",
       "        vertical-align: middle;\n",
       "    }\n",
       "\n",
       "    .dataframe tbody tr th {\n",
       "        vertical-align: top;\n",
       "    }\n",
       "\n",
       "    .dataframe thead th {\n",
       "        text-align: right;\n",
       "    }\n",
       "</style>\n",
       "<table border=\"1\" class=\"dataframe\">\n",
       "  <thead>\n",
       "    <tr style=\"text-align: right;\">\n",
       "      <th></th>\n",
       "      <th>sales</th>\n",
       "    </tr>\n",
       "    <tr>\n",
       "      <th>date</th>\n",
       "      <th></th>\n",
       "    </tr>\n",
       "  </thead>\n",
       "  <tbody>\n",
       "    <tr>\n",
       "      <th>2013-01-01</th>\n",
       "      <td>2511.619</td>\n",
       "    </tr>\n",
       "    <tr>\n",
       "      <th>2013-01-02</th>\n",
       "      <td>5316.224</td>\n",
       "    </tr>\n",
       "    <tr>\n",
       "      <th>2013-01-03</th>\n",
       "      <td>4442.913</td>\n",
       "    </tr>\n",
       "    <tr>\n",
       "      <th>2013-01-04</th>\n",
       "      <td>4844.354</td>\n",
       "    </tr>\n",
       "    <tr>\n",
       "      <th>2013-01-05</th>\n",
       "      <td>5817.526</td>\n",
       "    </tr>\n",
       "  </tbody>\n",
       "</table>\n",
       "</div>"
      ],
      "text/plain": [
       "               sales\n",
       "date                \n",
       "2013-01-01  2511.619\n",
       "2013-01-02  5316.224\n",
       "2013-01-03  4442.913\n",
       "2013-01-04  4844.354\n",
       "2013-01-05  5817.526"
      ]
     },
     "metadata": {},
     "output_type": "display_data"
    },
    {
     "name": "stdout",
     "output_type": "stream",
     "text": [
      "Пропуски: sales    0\n",
      "dtype: int64\n"
     ]
    }
   ],
   "source": [
    "# Отфильтруем по 25 магазину и найдем сумму продаж\n",
    "df_25 = df.query(\"store_nbr == 25\")\n",
    "df_25 = df_25.groupby(by=df_25.index)['sales'].sum()\n",
    "\n",
    "# Зададим частоту равную дню и проведема интерполяцию для последующей декомпозиции\n",
    "df_25 = df_25.asfreq(freq='D')\n",
    "df_25 = df_25.interpolate(method='linear')\n",
    "df_25 = pd.DataFrame(df_25)\n",
    "\n",
    "display(df_25.head())\n",
    "print(f\"Пропуски: {df_25.isna().sum()}\")"
   ]
  },
  {
   "cell_type": "markdown",
   "metadata": {},
   "source": [
    "---"
   ]
  },
  {
   "cell_type": "markdown",
   "metadata": {},
   "source": [
    "### Сезонное разложение ряда"
   ]
  },
  {
   "cell_type": "code",
   "execution_count": 95,
   "metadata": {},
   "outputs": [
    {
     "data": {
      "image/png": "[encoded data removed]",
      "text/plain": [
       "<Figure size 640x480 with 4 Axes>"
      ]
     },
     "metadata": {},
     "output_type": "display_data"
    }
   ],
   "source": [
    "decomposition = seasonal_decompose(df_25) \n",
    "decomposition.plot();\n"
   ]
  },
  {
   "cell_type": "markdown",
   "metadata": {},
   "source": [
    "---"
   ]
  },
  {
   "cell_type": "markdown",
   "metadata": {},
   "source": [
    "### Ответы на вопросы модуля"
   ]
  },
  {
   "cell_type": "code",
   "execution_count": 96,
   "metadata": {},
   "outputs": [
    {
     "name": "stdout",
     "output_type": "stream",
     "text": [
      "Количество элементов в исходном датасете: 125497040\n",
      "Количество элементов в шумовой части: 1688\n",
      "Количество числовых элементов в шумовой части: 1682\n",
      "Количество элементов в сезонной части: 1688\n",
      "Количество элементов в трендовой части: 1688\n"
     ]
    }
   ],
   "source": [
    "seasonal = decomposition.seasonal\n",
    "trend = decomposition.trend\n",
    "\n",
    "residuals = decomposition.resid\n",
    "#residuals = residuals.dropna()\n",
    "\n",
    "print(f\"Количество элементов в исходном датасете: {df.shape[0]}\")\n",
    "print(f\"Количество элементов в шумовой части: {residuals.shape[0]}\")\n",
    "print(f\"Количество числовых элементов в шумовой части: {residuals.dropna().shape[0]}\")\n",
    "print(f\"Количество элементов в сезонной части: {seasonal.shape[0]}\")\n",
    "print(f\"Количество элементов в трендовой части: {trend.shape[0]}\")"
   ]
  },
  {
   "cell_type": "code",
   "execution_count": 98,
   "metadata": {},
   "outputs": [
    {
     "name": "stdout",
     "output_type": "stream",
     "text": [
      "adf:  -5.001296622947661\n",
      "p-value:  2.206239337839275e-05\n",
      "Critical values:  {'1%': -3.4342906911169404, '5%': -2.8632805908715726, '10%': -2.5676966486957706}\n",
      "ряд стационарен\n"
     ]
    }
   ],
   "source": [
    "# Тест на стационарность\n",
    "test = adfuller(df_25['sales'])\n",
    "print ('adf: ', test[0] )\n",
    "print ('p-value: ', test[1])\n",
    "print ('Critical values: ', test[4])\n",
    "if test[0]> test[4]['5%']: # проверка, больше ли критического полученное значение для нашего ряда \n",
    "    print ('ряд не стационарен')\n",
    "else:\n",
    "    print ('ряд стационарен')"
   ]
  },
  {
   "cell_type": "markdown",
   "metadata": {},
   "source": [
    "---"
   ]
  },
  {
   "cell_type": "markdown",
   "metadata": {},
   "source": [
    "### Формирование тренировочной и тестовой выборок"
   ]
  },
  {
   "cell_type": "code",
   "execution_count": 114,
   "metadata": {},
   "outputs": [
    {
     "name": "stdout",
     "output_type": "stream",
     "text": [
      "TRAIN size: 1667 TEST size: 7\n",
      "TRAIN size: 1674 TEST size: 7\n",
      "TRAIN size: 1681 TEST size: 7\n"
     ]
    }
   ],
   "source": [
    "tscv = TimeSeriesSplit(n_splits=3, test_size=7)\n",
    "\n",
    "train_test_groups = tscv.split(df_25['sales']) \n",
    "\n",
    "\n",
    "for train_index, test_index in train_test_groups:\n",
    "    print(\"TRAIN size:\", len(train_index), \"TEST size:\", len(test_index))"
   ]
  },
  {
   "cell_type": "code",
   "execution_count": 115,
   "metadata": {},
   "outputs": [
    {
     "name": "stdout",
     "output_type": "stream",
     "text": [
      "TRAIN size: [   0    1    2 ... 1664 1665 1666] TEST size: [1667 1668 1669 1670 1671 1672 1673]\n",
      "TRAIN size: [   0    1    2 ... 1671 1672 1673] TEST size: [1674 1675 1676 1677 1678 1679 1680]\n",
      "TRAIN size: [   0    1    2 ... 1678 1679 1680] TEST size: [1681 1682 1683 1684 1685 1686 1687]\n"
     ]
    }
   ],
   "source": [
    "train_test_groups = tscv.split(df_25['sales']) \n",
    "for train_index, test_index in train_test_groups:\n",
    "    print(\"TRAIN size:\", (train_index), \"TEST size:\", (test_index))"
   ]
  },
  {
   "cell_type": "code",
   "execution_count": null,
   "metadata": {},
   "outputs": [],
   "source": []
  }
 ],
 "metadata": {
  "kernelspec": {
   "display_name": "Python 3",
   "language": "python",
   "name": "python3"
  },
  "language_info": {
   "codemirror_mode": {
    "name": "ipython",
    "version": 3
   },
   "file_extension": ".py",
   "mimetype": "text/x-python",
   "name": "python",
   "nbconvert_exporter": "python",
   "pygments_lexer": "ipython3",
   "version": "3.12.1"
  }
 },
 "nbformat": 4,
 "nbformat_minor": 2
}
