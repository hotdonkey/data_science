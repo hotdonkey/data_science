{
 "cells": [
  {
   "cell_type": "code",
   "execution_count": null,
   "metadata": {},
   "outputs": [],
   "source": []
  },
  {
   "cell_type": "code",
   "execution_count": 8,
   "metadata": {},
   "outputs": [
    {
     "name": "stdout",
     "output_type": "stream",
     "text": [
      "1 2 3\n",
      "3\n"
     ]
    }
   ],
   "source": [
    "class Queue:\n",
    "    def __init__(self, items=[]):\n",
    "        self.items = items\n",
    "        \n",
    "    def enqueue(self, id):\n",
    "        self.items.append(id)\n",
    "    \n",
    "    def is_empty(self):\n",
    "        return len(self.items) == 0\n",
    "    \n",
    "    def dequeue(self):\n",
    "        self.items.pop(0)\n",
    "    \n",
    "    def show_queue(self):\n",
    "        print(\" \".join(map(str, self.items)))\n",
    "    \n",
    "    \n",
    "    \n",
    "# Создаём объект класса Queue\n",
    "q = Queue()\n",
    "\n",
    "# Добавляем элементы в очередь\n",
    "q.enqueue(1)\n",
    "q.enqueue(2)\n",
    "q.enqueue(3)\n",
    "\n",
    "# Выводим элементы очереди\n",
    "q.show_queue()  \n",
    "\n",
    "# 1 2 3\n",
    "\n",
    "# Удаляем элементы из очереди\n",
    "q.dequeue()\n",
    "q.dequeue()\n",
    "\n",
    "# Выводим элементы очереди\n",
    "q.show_queue()  \n",
    "\n",
    "# 3"
   ]
  },
  {
   "cell_type": "code",
   "execution_count": null,
   "metadata": {},
   "outputs": [],
   "source": []
  }
 ],
 "metadata": {
  "kernelspec": {
   "display_name": "Python 3",
   "language": "python",
   "name": "python3"
  },
  "language_info": {
   "codemirror_mode": {
    "name": "ipython",
    "version": 3
   },
   "file_extension": ".py",
   "mimetype": "text/x-python",
   "name": "python",
   "nbconvert_exporter": "python",
   "pygments_lexer": "ipython3",
   "version": "3.13.0"
  }
 },
 "nbformat": 4,
 "nbformat_minor": 2
}
