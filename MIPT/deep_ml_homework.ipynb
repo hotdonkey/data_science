{
 "cells": [
  {
   "cell_type": "code",
   "execution_count": 1,
   "metadata": {},
   "outputs": [
    {
     "name": "stdout",
     "output_type": "stream",
     "text": [
      "Число измерений: 2\n",
      "Размеры массива: (3, 3)\n",
      "Количество элементов: 9\n",
      "Тип данных элементов: int64\n",
      "Элемент по индексу (0, 0): 1\n",
      "Срез данных массива: [[2 3]\n",
      " [5 6]]\n",
      "Сумма элементов: 45\n",
      "Среднее значение: 5.0\n",
      "Медиана: 5.0\n",
      "Отклонение от среднего: 2.581988897471611\n"
     ]
    }
   ],
   "source": [
    "import numpy as np\n",
    "\n",
    "# Создание массива NumPy\n",
    "data = np.array([[1, 2, 3], [4, 5, 6], [7, 8, 9]])\n",
    "\n",
    "# Получение атрибутов массива\n",
    "num_dimensions = data.ndim\n",
    "shape = data.shape\n",
    "size = data.size\n",
    "dtype = data.dtype\n",
    "\n",
    "# Выборка элемента по индексу и выполнение срезов данных массива\n",
    "element_at_index_0_0 = data[0, 0]\n",
    "sliced_data = data[:2, 1:]\n",
    "\n",
    "# Выполнение математических и статистических функций библиотеки NumPy\n",
    "sum_of_elements = np.sum(data)\n",
    "mean_value = np.mean(data)\n",
    "median_value = np.median(data)\n",
    "std_deviation = np.std(data)\n",
    "\n",
    "# Вывод результатов\n",
    "print(\"Число измерений:\", num_dimensions)\n",
    "print(\"Размеры массива:\", shape)\n",
    "print(\"Количество элементов:\", size)\n",
    "print(\"Тип данных элементов:\", dtype)\n",
    "print(\"Элемент по индексу (0, 0):\", element_at_index_0_0)\n",
    "print(\"Срез данных массива:\", sliced_data)\n",
    "print(\"Сумма элементов:\", sum_of_elements)\n",
    "print(\"Среднее значение:\", mean_value)\n",
    "print(\"Медиана:\", median_value)\n",
    "print(\"Отклонение от среднего:\", std_deviation)"
   ]
  },
  {
   "cell_type": "code",
   "execution_count": null,
   "metadata": {},
   "outputs": [],
   "source": []
  }
 ],
 "metadata": {
  "kernelspec": {
   "display_name": "Python 3",
   "language": "python",
   "name": "python3"
  },
  "language_info": {
   "codemirror_mode": {
    "name": "ipython",
    "version": 3
   },
   "file_extension": ".py",
   "mimetype": "text/x-python",
   "name": "python",
   "nbconvert_exporter": "python",
   "pygments_lexer": "ipython3",
   "version": "3.11.7"
  }
 },
 "nbformat": 4,
 "nbformat_minor": 2
}
