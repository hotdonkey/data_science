{
 "cells": [
  {
   "cell_type": "markdown",
   "id": "1a948207-dc1a-4722-8649-2b46b1c1dc79",
   "metadata": {},
   "source": [
    "# Машинное обучение без учителя.\n",
    "автор Д.В.Яценко"
   ]
  },
  {
   "cell_type": "markdown",
   "id": "41a5e928-d45b-409a-95a6-c1e5f6d54b38",
   "metadata": {},
   "source": [
    "## Кластеризация"
   ]
  },
  {
   "cell_type": "code",
   "execution_count": 42,
   "id": "da86082d-78f9-4f20-9444-5b3dc55489c1",
   "metadata": {},
   "outputs": [],
   "source": [
    "import time\n",
    "import warnings\n",
    "import numpy as np\n",
    "import matplotlib.pyplot as plt\n",
    "from sklearn import cluster, datasets, mixture\n",
    "from sklearn.neighbors import kneighbors_graph\n",
    "from sklearn.preprocessing import StandardScaler\n",
    "from itertools import cycle, islice\n",
    "from sklearn.metrics import silhouette_score, calinski_harabasz_score, davies_bouldin_score"
   ]
  },
  {
   "cell_type": "markdown",
   "id": "ed1e023a-0127-499c-ad6f-0fbdc6e66bed",
   "metadata": {},
   "source": [
    "### Создадим наборы данных"
   ]
  },
  {
   "cell_type": "code",
   "execution_count": 43,
   "id": "15371183-c360-4aaa-af31-72564c5a676d",
   "metadata": {},
   "outputs": [
    {
     "data": {
      "text/plain": [
       "<Figure size 3000x2000 with 0 Axes>"
      ]
     },
     "metadata": {},
     "output_type": "display_data"
    }
   ],
   "source": [
    "np.random.seed(0)\n",
    "\n",
    "# ============\n",
    "# Создание набора данных для работы (набора точек). Размер выбран так, чтобы\n",
    "# можно было заметить различия в работе методов, связанные с количество признаков,\n",
    "# но не настолько большим, чтобы исполнение кода длилось слишком долго.\n",
    "# ============\n",
    "n_samples = 1500\n",
    "noisy_circles = datasets.make_circles(n_samples=n_samples, factor=.5,\n",
    "                                      noise=.05)\n",
    "noisy_moons = datasets.make_moons(n_samples=n_samples, noise=.05)\n",
    "blobs = datasets.make_blobs(n_samples=n_samples, random_state=8)\n",
    "no_structure = np.random.rand(n_samples, 2), None\n",
    "\n",
    "# Создание распределлённых данных\n",
    "random_state = 170\n",
    "X, y = datasets.make_blobs(n_samples=n_samples, random_state=random_state)\n",
    "transformation = [[0.6, -0.6], [-0.4, 0.8]]\n",
    "X_aniso = np.dot(X, transformation)\n",
    "aniso = (X_aniso, y)\n",
    "\n",
    "# blobs with varied variances\n",
    "varied = datasets.make_blobs(n_samples=n_samples,\n",
    "                             cluster_std=[1.0, 2.5, 0.5],\n",
    "                             random_state=random_state)\n",
    "# ============\n",
    "# Установка параметров кластеров\n",
    "# ============\n",
    "plt.rcParams[\"figure.figsize\"] = (30,20)\n",
    "plt.figure()\n",
    "\n",
    "plt.subplots_adjust(left=.02, right=.98, bottom=.001, top=.95, wspace=.05,\n",
    "                    hspace=.01)\n",
    "\n",
    "plot_num = 1\n",
    "\n",
    "default_base = {'quantile': .3,\n",
    "                'eps': .3,\n",
    "                'damping': .9,\n",
    "                'preference': -200,\n",
    "                'n_neighbors': 10,\n",
    "                'n_clusters': 3,\n",
    "                'min_samples': 20,\n",
    "                'xi': 0.05,\n",
    "                'min_cluster_size': 0.1}\n",
    "\n",
    "datasets = [\n",
    "    (noisy_circles, {'damping': .77, 'preference': -240,\n",
    "                     'quantile': .2, 'n_clusters': 2,\n",
    "                     'min_samples': 20, 'xi': 0.25}),\n",
    "    (noisy_moons, {'damping': .75, 'preference': -220, 'n_clusters': 2}),\n",
    "    (varied, {'eps': .18, 'n_neighbors': 2,\n",
    "              'min_samples': 5, 'xi': 0.035, 'min_cluster_size': .2}),\n",
    "    (aniso, {'eps': .15, 'n_neighbors': 2,\n",
    "             'min_samples': 20, 'xi': 0.1, 'min_cluster_size': .2}),\n",
    "    (blobs, {}),\n",
    "    (no_structure, {})]"
   ]
  },
  {
   "cell_type": "code",
   "execution_count": 45,
   "id": "9aab90fe-5685-4833-9d5a-e8e12fd25f00",
   "metadata": {},
   "outputs": [],
   "source": [
    "def print_metrics(model_name,X,y):\n",
    "    silhouette = silhouette_score(X, y)\n",
    "    calinski_harabasz = calinski_harabasz_score(X,y)\n",
    "    davies_bouldin = davies_bouldin_score(X, y)\n",
    "    print(f\"Метрики качества кластеризации для модели {model_name}\\n\\t silhouette:{silhouette}\\n\\t calinski_harabasz: {calinski_harabasz}\\n\\t davies_bouldin:{davies_bouldin}\\n======\")"
   ]
  },
  {
   "cell_type": "code",
   "execution_count": null,
   "id": "fa853ab1-d876-4ae6-a0c3-eb3a553c4dff",
   "metadata": {},
   "outputs": [],
   "source": [
    "for i_dataset, (dataset, algo_params) in enumerate(datasets):\n",
    "    # изменение параметров на специфичные для набора данных значения\n",
    "    params = default_base.copy()\n",
    "    params.update(algo_params)\n",
    "\n",
    "    X, y = dataset\n",
    "\n",
    "    # нормализация набора данных \n",
    "    X = StandardScaler().fit_transform(X)\n",
    "\n",
    "    # оценка ширины полосы для метода \"mean shift\"\n",
    "    bandwidth = cluster.estimate_bandwidth(X, quantile=params['quantile'])\n",
    "\n",
    "    # расчёт матрицы связности для метода AgglomerativeClustering\n",
    "    connectivity = kneighbors_graph(\n",
    "        X, n_neighbors=params['n_neighbors'], include_self=False)\n",
    "    # симметричность\n",
    "    connectivity = 0.5 * (connectivity + connectivity.T)\n",
    "\n",
    "    # ============\n",
    "    # Создание кластеров\n",
    "    # ============\n",
    "    ms = cluster.MeanShift(bandwidth=bandwidth, bin_seeding=True)\n",
    "    two_means = cluster.MiniBatchKMeans(n_clusters=params['n_clusters'])\n",
    "    ward = cluster.AgglomerativeClustering(\n",
    "        n_clusters=params['n_clusters'], linkage='ward',\n",
    "        connectivity=connectivity)\n",
    "    spectral = cluster.SpectralClustering(\n",
    "        n_clusters=params['n_clusters'], eigen_solver='arpack',\n",
    "        affinity=\"nearest_neighbors\")\n",
    "    dbscan = cluster.DBSCAN(eps=params['eps'])\n",
    "    optics = cluster.OPTICS(min_samples=params['min_samples'],\n",
    "                            xi=params['xi'],\n",
    "                            min_cluster_size=params['min_cluster_size'])\n",
    "    affinity_propagation = cluster.AffinityPropagation(\n",
    "        damping=params['damping'], preference=params['preference'])\n",
    "    average_linkage = cluster.AgglomerativeClustering(\n",
    "        linkage=\"average\", # affinity=\"cityblock\",\n",
    "        n_clusters=params['n_clusters'], connectivity=connectivity)\n",
    "    birch = cluster.Birch(n_clusters=params['n_clusters'])\n",
    "    gmm = mixture.GaussianMixture(\n",
    "        n_components=params['n_clusters'], covariance_type='full')\n",
    "\n",
    "    clustering_algorithms = (\n",
    "        ('MiniBatch\\nKMeans', two_means),\n",
    "        ('Affinity\\nPropagation', affinity_propagation),\n",
    "        ('MeanShift', ms),\n",
    "        ('Spectral\\nClustering', spectral),\n",
    "        ('Ward', ward),\n",
    "        ('Agglomerative\\nClustering', average_linkage),\n",
    "        ('DBSCAN', dbscan),\n",
    "        ('OPTICS', optics),\n",
    "        ('BIRCH', birch),\n",
    "        ('Gaussian\\nMixture', gmm)\n",
    "    )\n",
    "\n",
    "    for name, algorithm in clustering_algorithms:\n",
    "        t0 = time.time()\n",
    "\n",
    "        # работа с предупреждениям (ворнингами, warnings)\n",
    "        with warnings.catch_warnings():\n",
    "            warnings.filterwarnings(\n",
    "                \"ignore\",\n",
    "                message=\"the number of connected components of the \" +\n",
    "                \"connectivity matrix is [0-9]{1,2}\" +\n",
    "                \" > 1. Completing it to avoid stopping the tree early.\",\n",
    "                category=UserWarning)\n",
    "            warnings.filterwarnings(\n",
    "                \"ignore\",\n",
    "                message=\"Graph is not fully connected, spectral embedding\" +\n",
    "                \" may not work as expected.\",\n",
    "                category=UserWarning)\n",
    "            algorithm.fit(X)\n",
    "\n",
    "        t1 = time.time()\n",
    "        if hasattr(algorithm, 'labels_'):\n",
    "            y_pred = algorithm.labels_.astype(int)\n",
    "        else:\n",
    "            y_pred = algorithm.predict(X)\n",
    "        if i_dataset ==2:   \n",
    "            print_metrics(name,X,y_pred)\n",
    "        plt.subplot(len(datasets), len(clustering_algorithms), plot_num)\n",
    "        if i_dataset == 0:\n",
    "            plt.title(name, size=18)\n",
    "\n",
    "        colors = np.array(list(islice(cycle(['#377eb8', '#ff7f00', '#4daf4a',\n",
    "                                             '#f781bf', '#a65628', '#984ea3',\n",
    "                                             '#999999', '#e41a1c', '#dede00']),\n",
    "                                      int(max(y_pred) + 1))))\n",
    "        # добавление чёрного цвета к объектам, которые были определены, как не относящиеся ни к одному кластеру\n",
    "        colors = np.append(colors, [\"#000000\"])\n",
    "        plt.scatter(X[:, 0], X[:, 1], s=10, color=colors[y_pred])\n",
    "\n",
    "        plt.xlim(-2.5, 2.5)\n",
    "        plt.ylim(-2.5, 2.5)\n",
    "        plt.xticks(())\n",
    "        plt.yticks(())\n",
    "        plt.text(.99, .01, ('%.2fs' % (t1 - t0)).lstrip('0'),\n",
    "                 transform=plt.gca().transAxes, size=15,\n",
    "                 horizontalalignment='right')\n",
    "        plot_num += 1\n",
    "\n",
    "plt.show()"
   ]
  },
  {
   "cell_type": "markdown",
   "id": "98a918c8-b109-4ce7-9e74-f289c695c943",
   "metadata": {},
   "source": [
    "## Снижение размерности"
   ]
  },
  {
   "cell_type": "code",
   "execution_count": 24,
   "id": "addb2871-ad24-451d-ab4c-566885f7297d",
   "metadata": {},
   "outputs": [],
   "source": [
    "from sklearn import datasets\n",
    "from sklearn.preprocessing import StandardScaler\n",
    "from sklearn.decomposition import PCA\n",
    "import matplotlib.pyplot as plt\n",
    "from sklearn.linear_model import LogisticRegression\n",
    "from sklearn.manifold import TSNE"
   ]
  },
  {
   "cell_type": "markdown",
   "id": "0d810e57-dfe0-4fc2-8c0e-c34888c78e3c",
   "metadata": {},
   "source": [
    "### Данные"
   ]
  },
  {
   "cell_type": "code",
   "execution_count": null,
   "id": "c6c5e355-7054-431c-95b7-b79af214dfe6",
   "metadata": {},
   "outputs": [],
   "source": [
    "dataset = datasets.load_wine()\n",
    "X = dataset.data\n",
    "y = dataset.target"
   ]
  },
  {
   "cell_type": "markdown",
   "id": "07bdd899-fc07-414f-a197-3487b1d1f3b6",
   "metadata": {},
   "source": [
    "### Cтандартизация\n",
    "Centering and scaling"
   ]
  },
  {
   "cell_type": "code",
   "execution_count": null,
   "id": "264295d3-c9a2-4063-8954-1993ffefc9da",
   "metadata": {},
   "outputs": [],
   "source": [
    "scaler = StandardScaler()\n",
    "X_scaled = scaler.fit_transform(X)"
   ]
  },
  {
   "cell_type": "markdown",
   "id": "c6905e5d-d81c-47bc-b1a5-8e7e0d6f96da",
   "metadata": {},
   "source": [
    "### Метод понижения размерности PCA"
   ]
  },
  {
   "cell_type": "code",
   "execution_count": null,
   "id": "f6e3d0f5-3980-4096-b8e9-4e3fe5e85cde",
   "metadata": {},
   "outputs": [],
   "source": [
    "pca = PCA(n_components=2)\n",
    "principal_components = pca.fit_transform(X) # Позже заменить на X_scaled"
   ]
  },
  {
   "cell_type": "code",
   "execution_count": null,
   "id": "b0d39eb5-83c0-467d-8beb-e55be68908df",
   "metadata": {},
   "outputs": [],
   "source": [
    "plt.scatter(principal_components[:,0],principal_components[:,1],c=y)"
   ]
  },
  {
   "cell_type": "code",
   "execution_count": null,
   "id": "8f9e939c-fa4d-4b15-b4f8-b783f6b63b7a",
   "metadata": {},
   "outputs": [],
   "source": [
    "clf = LogisticRegression(random_state=0).fit(principal_components, y)\n",
    "clf.score(principal_components, y)"
   ]
  },
  {
   "cell_type": "markdown",
   "id": "1db7e79f-ac7c-4442-8c00-3deae7516753",
   "metadata": {},
   "source": [
    "### Метод понижения размерности TSNE"
   ]
  },
  {
   "cell_type": "code",
   "execution_count": null,
   "id": "c859cfc7-1d60-4ac2-9ccf-64e3576f260f",
   "metadata": {},
   "outputs": [],
   "source": [
    "tsne = TSNE(n_components=2, random_state=42)\n",
    "X_tsne = tsne.fit_transform(X) # Позже заменить на X_scaled"
   ]
  },
  {
   "cell_type": "code",
   "execution_count": null,
   "id": "9fa465aa-6b61-4594-bb3f-b85b377ee27c",
   "metadata": {},
   "outputs": [],
   "source": [
    "plt.scatter(X_tsne[:,0],X_tsne[:,1],c=y)"
   ]
  },
  {
   "cell_type": "code",
   "execution_count": null,
   "id": "4c3aa644-68cc-4e77-a61b-4b5e17373f78",
   "metadata": {},
   "outputs": [],
   "source": [
    "clf = LogisticRegression(random_state=0).fit(X_tsne, y)\n",
    "clf.score(X_tsne, y)"
   ]
  },
  {
   "cell_type": "code",
   "execution_count": null,
   "id": "673e1190-4b00-4384-808c-aa9c00ad69c3",
   "metadata": {},
   "outputs": [],
   "source": []
  }
 ],
 "metadata": {
  "kernelspec": {
   "display_name": "mipt",
   "language": "python",
   "name": "mipt"
  },
  "language_info": {
   "codemirror_mode": {
    "name": "ipython",
    "version": 3
   },
   "file_extension": ".py",
   "mimetype": "text/x-python",
   "name": "python",
   "nbconvert_exporter": "python",
   "pygments_lexer": "ipython3",
   "version": "3.11.11"
  }
 },
 "nbformat": 4,
 "nbformat_minor": 5
}
