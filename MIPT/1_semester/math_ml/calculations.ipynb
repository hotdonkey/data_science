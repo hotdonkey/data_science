{
 "cells": [
  {
   "cell_type": "code",
   "execution_count": 4,
   "metadata": {},
   "outputs": [],
   "source": [
    "from sympy import *\n",
    "import numpy as np"
   ]
  },
  {
   "cell_type": "code",
   "execution_count": 3,
   "metadata": {},
   "outputs": [
    {
     "name": "stdout",
     "output_type": "stream",
     "text": [
      "Целевая функция для аргументов a и b :\n",
      " f =  3*a**2 + a + 5*b**2 + 4*b\n",
      "Функция ограничений:  a + b - 200 = 0\n",
      "Функция Лагранжа :\n",
      "  3*a**2 + a + 5*b**2 + 4*b + w*(a + b - 200)\n",
      "df/da = 6*a + w + 1 = 0\n",
      "df/db = 10*b + w + 4 = 0\n",
      "df/dw = a + b - 200 = 0\n",
      "Стационарная точка M(x,y):\n",
      " 125.1875 , 74.8125\n"
     ]
    }
   ],
   "source": [
    "a,b,w=symbols(' a b w' )\n",
    "g = 3*a**2 + a + 4*b + 5*b**2\n",
    "print('Целевая функция для аргументов a и b :\\n f = ', g)\n",
    "q = a + b - 200\n",
    "print('Функция ограничений: ', q,'= 0')\n",
    "f = 3*a**2 + a + 4*b + 5*b**2 + w*(a + b - 200)\n",
    "print('Функция Лагранжа :\\n ',f)\n",
    "fa = f.diff(a)\n",
    "print('df/da =',fa,'= 0')\n",
    "fb = f.diff(b)\n",
    "print('df/db =',fb,'= 0')\n",
    "fw = f.diff(w)\n",
    "print('df/dw =',fw,'= 0')\n",
    "sols = solve([fa,fb,fw],a,b,w)\n",
    "print('Стационарная точка M(x,y):\\n',float(sols[a]),',',float(sols[b]))"
   ]
  },
  {
   "cell_type": "code",
   "execution_count": 7,
   "metadata": {},
   "outputs": [
    {
     "data": {
      "text/plain": [
       "1.4285714285714286"
      ]
     },
     "execution_count": 7,
     "metadata": {},
     "output_type": "execute_result"
    }
   ],
   "source": [
    "f = np.array([8, 2, 8, 3, 5, 6, 5, 15])\n",
    " \n",
    "np.gradient(f, 7)[7]"
   ]
  },
  {
   "cell_type": "code",
   "execution_count": null,
   "metadata": {},
   "outputs": [],
   "source": []
  }
 ],
 "metadata": {
  "kernelspec": {
   "display_name": "Python 3",
   "language": "python",
   "name": "python3"
  },
  "language_info": {
   "codemirror_mode": {
    "name": "ipython",
    "version": 3
   },
   "file_extension": ".py",
   "mimetype": "text/x-python",
   "name": "python",
   "nbconvert_exporter": "python",
   "pygments_lexer": "ipython3",
   "version": "3.11.7"
  }
 },
 "nbformat": 4,
 "nbformat_minor": 2
}
