{
 "cells": [
  {
   "cell_type": "markdown",
   "id": "4f30d601-3b52-4057-9bb3-ba34d8286846",
   "metadata": {},
   "source": [
    "# Описательная статистика. Анализ данных с помощью Pandas\n",
    "автор Д.В.Яценко"
   ]
  },
  {
   "cell_type": "markdown",
   "id": "c24b6a4c-3207-42e0-be80-95706f5ced35",
   "metadata": {},
   "source": [
    "## Метрики"
   ]
  },
  {
   "cell_type": "code",
   "execution_count": 1,
   "id": "1c3ad32e-dad4-485a-b5f8-c24e726c33df",
   "metadata": {},
   "outputs": [],
   "source": [
    "import numpy as np\n",
    "import scipy\n",
    "import pandas as pd\n",
    "from matplotlib import pyplot as plt"
   ]
  },
  {
   "cell_type": "code",
   "execution_count": 2,
   "id": "b68a8c89-139d-494c-92cf-ee5d6342bdfe",
   "metadata": {},
   "outputs": [],
   "source": [
    "x=np.random.standard_normal(50)\n",
    "df = pd.DataFrame(x)"
   ]
  },
  {
   "cell_type": "code",
   "execution_count": 3,
   "id": "ed65f2d5-1346-4ee3-affe-8084d09a3496",
   "metadata": {},
   "outputs": [
    {
     "data": {
      "text/plain": [
       "(array([ 2.,  2.,  3.,  6.,  5., 11.,  9.,  6.,  5.,  1.]),\n",
       " array([-2.1109179 , -1.70227134, -1.29362478, -0.88497822, -0.47633166,\n",
       "        -0.0676851 ,  0.34096146,  0.74960802,  1.15825458,  1.56690114,\n",
       "         1.9755477 ]),\n",
       " <BarContainer object of 10 artists>)"
      ]
     },
     "execution_count": 3,
     "metadata": {},
     "output_type": "execute_result"
    },
    {
     "data": {
      "image/png": "[encoded data removed]",
      "text/plain": [
       "<Figure size 640x480 with 1 Axes>"
      ]
     },
     "metadata": {},
     "output_type": "display_data"
    }
   ],
   "source": [
    "plt.hist(x)"
   ]
  },
  {
   "cell_type": "code",
   "execution_count": 4,
   "id": "1fe81659-8182-4dbd-9588-a88056d86db3",
   "metadata": {},
   "outputs": [
    {
     "data": {
      "text/plain": [
       "array([[<Axes: title={'center': '0'}>]], dtype=object)"
      ]
     },
     "execution_count": 4,
     "metadata": {},
     "output_type": "execute_result"
    },
    {
     "data": {
      "image/png": "[encoded data removed]",
      "text/plain": [
       "<Figure size 640x480 with 1 Axes>"
      ]
     },
     "metadata": {},
     "output_type": "display_data"
    }
   ],
   "source": [
    "df.hist()"
   ]
  },
  {
   "cell_type": "code",
   "execution_count": 11,
   "id": "010a569e",
   "metadata": {},
   "outputs": [
    {
     "data": {
      "text/plain": [
       "array([ 0.59425038,  0.41275802, -0.54743645, -0.32487848, -0.54723526,\n",
       "       -0.97647001,  0.62442804, -0.47180691,  0.24275402,  0.35123475,\n",
       "        0.1521802 ,  1.4514146 ,  1.9755477 , -0.71658768,  0.05113766,\n",
       "       -0.59448191,  0.31045121, -1.44320837,  0.17109815,  0.3615539 ,\n",
       "        1.54159503, -0.83256103,  0.64771904, -1.73854636,  0.01036288,\n",
       "        1.08187358, -1.55034698, -0.18218856,  0.75098783, -2.1109179 ,\n",
       "        0.90694377,  0.26539391,  1.22526494, -0.41649514,  1.32813466,\n",
       "        0.44793811, -1.278923  ,  0.38720982,  0.1649123 ,  1.29502942,\n",
       "        0.87194468, -1.09975911,  1.05525294, -0.12797037,  0.17618845,\n",
       "       -0.78577405,  0.91363875,  0.74583476, -0.05569385,  0.02813167])"
      ]
     },
     "execution_count": 11,
     "metadata": {},
     "output_type": "execute_result"
    }
   ],
   "source": [
    "x"
   ]
  },
  {
   "cell_type": "code",
   "execution_count": 23,
   "id": "659826f5",
   "metadata": {},
   "outputs": [
    {
     "data": {
      "text/plain": [
       "array([0., 0., 0., 0., 0., 0., 0., 0., 0., 0., 0., 0., 0., 0., 0., 0., 0.,\n",
       "       0., 0., 0., 0., 0., 0., 0., 0., 0., 0., 0., 0., 0., 0., 0., 0., 0.,\n",
       "       0., 0., 0., 0., 0., 0., 0., 0., 0., 0., 0., 0., 0., 0., 0., 0.])"
      ]
     },
     "execution_count": 23,
     "metadata": {},
     "output_type": "execute_result"
    }
   ],
   "source": [
    "df.values.flatten()-x"
   ]
  },
  {
   "cell_type": "code",
   "execution_count": 8,
   "id": "6b8675de-7bbb-4757-8c8c-1190edf0fe6c",
   "metadata": {},
   "outputs": [
    {
     "data": {
      "text/plain": [
       "(0.1736433008509584, 0.09483767513903446, 0.8952362161210766)"
      ]
     },
     "execution_count": 8,
     "metadata": {},
     "output_type": "execute_result"
    }
   ],
   "source": [
    "np.median(x),x.mean(),x.std()"
   ]
  },
  {
   "cell_type": "code",
   "execution_count": 9,
   "id": "725e5362-53fe-43b5-8740-38f2d928d294",
   "metadata": {},
   "outputs": [
    {
     "data": {
      "text/plain": [
       "(-2.1109179000939604,\n",
       " -0.528378169329691,\n",
       " 0.7213058270422424,\n",
       " 1.9755477031490902)"
      ]
     },
     "execution_count": 9,
     "metadata": {},
     "output_type": "execute_result"
    }
   ],
   "source": [
    "x.min(),np.percentile(x,25),np.percentile(x,75),x.max()"
   ]
  },
  {
   "cell_type": "code",
   "execution_count": 10,
   "id": "186f0d1b-ebfb-40b6-b3e9-a0e5596b6702",
   "metadata": {},
   "outputs": [
    {
     "data": {
      "text/plain": [
       "(0.1736433008509584, 0.09483767513903446, 0.9043251416899984)"
      ]
     },
     "execution_count": 10,
     "metadata": {},
     "output_type": "execute_result"
    }
   ],
   "source": [
    "df[0].median(),df[0].mean(),df[0].std()"
   ]
  },
  {
   "cell_type": "code",
   "execution_count": null,
   "id": "dd21164f-5de5-4196-99e9-c7c9a285b3d3",
   "metadata": {},
   "outputs": [],
   "source": [
    "df[0].min(),df[0].quantile(0.25),df[0].quantile(0.75),df[0].max()"
   ]
  },
  {
   "cell_type": "raw",
   "id": "d14cb74f-bd4e-4f2e-83fb-0f1cceb4730f",
   "metadata": {},
   "source": [
    "IQR"
   ]
  },
  {
   "cell_type": "code",
   "execution_count": null,
   "id": "75769e9e-3629-4835-b774-eb5e47a109cf",
   "metadata": {},
   "outputs": [],
   "source": [
    "scipy.stats.iqr(x),np.percentile(x,75)-np.percentile(x,25)"
   ]
  },
  {
   "cell_type": "code",
   "execution_count": null,
   "id": "cdae0920-bb4e-4538-a9cb-07bd1acb068c",
   "metadata": {},
   "outputs": [],
   "source": [
    "plt.boxplot(x)"
   ]
  },
  {
   "cell_type": "code",
   "execution_count": null,
   "id": "dc4d18d6-7dcb-4cd6-a7e3-327cf9f93324",
   "metadata": {},
   "outputs": [],
   "source": [
    "df.boxplot()"
   ]
  },
  {
   "cell_type": "code",
   "execution_count": null,
   "id": "5ad45b42-279c-499f-98fe-3d0c552d2f91",
   "metadata": {},
   "outputs": [],
   "source": [
    "ax = df.plot.kde()\n",
    "pd.DataFrame(np.random.standard_normal(100000)).plot.kde(ax=ax)"
   ]
  },
  {
   "cell_type": "code",
   "execution_count": null,
   "id": "6461eddb-fb9b-4967-8e46-d4dbfb0c1662",
   "metadata": {},
   "outputs": [],
   "source": [
    "print(f\" Асимметрия: {df[0].skew()}, Эксцесс: {df[0].kurtosis()}\")"
   ]
  },
  {
   "cell_type": "markdown",
   "id": "2f10be5b-1fd5-4495-8e8e-d2974ef498ab",
   "metadata": {},
   "source": [
    "## Работа с файлами"
   ]
  },
  {
   "cell_type": "code",
   "execution_count": null,
   "id": "5c93f782-3a6f-45fa-8347-6ef201e70068",
   "metadata": {},
   "outputs": [],
   "source": [
    "# чтение из URL"
   ]
  },
  {
   "cell_type": "code",
   "execution_count": null,
   "id": "6bd3ac94-d9e2-40d7-9f0e-6ba9af473224",
   "metadata": {},
   "outputs": [],
   "source": [
    "df = pd.read_csv(\"https://github.com/d-yacenko/data/raw/refs/heads/main/ordinal_data.csv\") ## см прошлый семинар по парсингу нестандартного формата дат"
   ]
  },
  {
   "cell_type": "code",
   "execution_count": null,
   "id": "be3f029b-bbf3-459d-97a9-51a604116557",
   "metadata": {},
   "outputs": [],
   "source": [
    "df.head(2)"
   ]
  },
  {
   "cell_type": "code",
   "execution_count": null,
   "id": "2d114c75-603c-406e-b5e1-036bfd79e293",
   "metadata": {},
   "outputs": [],
   "source": [
    "!wget https://github.com/d-yacenko/dataset/raw/refs/heads/main/telecom10k/psx_66.2_2024-01-07\\ 21:50:00.txt"
   ]
  },
  {
   "cell_type": "code",
   "execution_count": null,
   "id": "e3021c18-5a00-429c-b451-0a8112197b85",
   "metadata": {},
   "outputs": [],
   "source": [
    "# нестандартные текстовые файлы"
   ]
  },
  {
   "cell_type": "code",
   "execution_count": null,
   "id": "07c22190-d158-4630-8898-94b14c131df0",
   "metadata": {},
   "outputs": [],
   "source": [
    "df = pd.read_csv(\"psx_66.2_2024-01-07 21:50:00.txt\",delimiter=\"|\",header=1)\n",
    "df.head(2)"
   ]
  },
  {
   "cell_type": "code",
   "execution_count": null,
   "id": "df33caf0-8211-427d-b3c7-1473c66f5118",
   "metadata": {},
   "outputs": [],
   "source": [
    "# Работа с Excel файлом"
   ]
  },
  {
   "cell_type": "code",
   "execution_count": null,
   "id": "a5b94664-4804-4706-a9ec-48e9cb33c8ff",
   "metadata": {},
   "outputs": [],
   "source": [
    "df.to_excel('test.xlsx')"
   ]
  },
  {
   "cell_type": "code",
   "execution_count": null,
   "id": "e7fda90d-123c-4571-85e1-234de21724ff",
   "metadata": {},
   "outputs": [],
   "source": [
    "# %pip install fastparquet fastavro pyarrow"
   ]
  },
  {
   "cell_type": "code",
   "execution_count": null,
   "id": "e87adc15-46d5-43d8-b1f5-3255cff96dd9",
   "metadata": {},
   "outputs": [],
   "source": [
    "df.to_parquet('test.parquet')"
   ]
  },
  {
   "cell_type": "markdown",
   "id": "a6e9b3b8-3740-4aad-b74d-c7e45a1879a5",
   "metadata": {},
   "source": [
    "## Приемы аналитики Pandas"
   ]
  },
  {
   "cell_type": "markdown",
   "id": "55ad2218-0b32-4da9-81e7-5b79be60a89f",
   "metadata": {},
   "source": [
    "Датасет [https://data.mendeley.com/datasets/3t6rbtcms8/1](https://data.mendeley.com/datasets/3t6rbtcms8/1), найти 20 самых активных потребителей интернет \n",
    "* Фильтрация\n",
    "* Группировка\n",
    "* Union\n",
    "* Join\n",
    "* Merge"
   ]
  },
  {
   "attachments": {
    "89af0e83-2ad9-48cc-856c-b6cfc677eaa6.png": {
     "image/png": "[encoded data removed]"
    }
   },
   "cell_type": "markdown",
   "id": "ec46a07f-bfac-4bdd-9b50-19d727c6e39b",
   "metadata": {},
   "source": [
    "![tables.png](attachment:89af0e83-2ad9-48cc-856c-b6cfc677eaa6.png)"
   ]
  },
  {
   "cell_type": "markdown",
   "id": "6737bf11-fccc-41b2-868e-a7a92d010753",
   "metadata": {},
   "source": [
    "### Union"
   ]
  },
  {
   "cell_type": "code",
   "execution_count": null,
   "id": "b57677b5-08c8-4591-91fb-b78d62c275fa",
   "metadata": {},
   "outputs": [],
   "source": [
    "!wget https://github.com/d-yacenko/dataset/raw/refs/heads/main/telecom10k/psx_65.0_2024-01-02\\ 06:00:00.csv\n",
    "!wget https://github.com/d-yacenko/dataset/raw/refs/heads/main/telecom10k/psx_65.0_2024-01-02\\ 06:10:00.csv\n",
    "!wget https://github.com/d-yacenko/dataset/raw/refs/heads/main/telecom10k/psx_65.0_2024-01-02\\ 06:20:00.csv\n",
    "!wget https://github.com/d-yacenko/dataset/raw/refs/heads/main/telecom10k/psx_65.0_2024-01-02\\ 06:30:00.csv\n"
   ]
  },
  {
   "cell_type": "code",
   "execution_count": null,
   "id": "06fb2d76-f822-435b-9dee-ca6a33a4ce44",
   "metadata": {},
   "outputs": [],
   "source": [
    "df0 = pd.read_csv('psx_65.0_2024-01-02 06:00:00.csv', parse_dates=['StartSession','EndSession'])\n",
    "df1 = pd.read_csv('psx_65.0_2024-01-02 06:10:00.csv', parse_dates=['StartSession','EndSession'])\n",
    "df2 = pd.read_csv('psx_65.0_2024-01-02 06:20:00.csv', parse_dates=['StartSession','EndSession'])\n",
    "df3 = pd.read_csv('psx_65.0_2024-01-02 06:30:00.csv', parse_dates=['StartSession','EndSession'])\n",
    "df0.shape,df1.shape,df2.shape,df3.shape,"
   ]
  },
  {
   "cell_type": "code",
   "execution_count": null,
   "id": "f6300666-cb7d-4539-a087-2930f52879a5",
   "metadata": {},
   "outputs": [],
   "source": [
    "traffic = pd.concat([df0, df1, df2, df3],axis=0) #ignore_index=True\n",
    "# traffic.reset_index(drop=True,inplace=True)\n",
    "print(traffic.shape,sum(traffic.duplicated()))"
   ]
  },
  {
   "cell_type": "code",
   "execution_count": null,
   "id": "c7d4ee8a-432b-4263-a020-140072c1d434",
   "metadata": {},
   "outputs": [],
   "source": [
    "traffic.head(2)"
   ]
  },
  {
   "cell_type": "markdown",
   "id": "560a99aa-276b-4477-8bf9-d8a22b32af3f",
   "metadata": {},
   "source": [
    "### Join"
   ]
  },
  {
   "cell_type": "code",
   "execution_count": null,
   "id": "a4df46d6-1689-49b0-8c68-e6368fbcaa3a",
   "metadata": {},
   "outputs": [],
   "source": [
    "!wget https://github.com/d-yacenko/dataset/raw/refs/heads/main/telecom10k/client.parquet\n",
    "!wget https://github.com/d-yacenko/dataset/raw/refs/heads/main/telecom10k/subscribers.csv"
   ]
  },
  {
   "cell_type": "code",
   "execution_count": null,
   "id": "14c20610-6469-46b4-af7c-d9c78e3083c5",
   "metadata": {},
   "outputs": [],
   "source": [
    "subscribers = pd.read_csv(\"subscribers.csv\")"
   ]
  },
  {
   "cell_type": "code",
   "execution_count": null,
   "id": "ba3e7da4-a561-437e-8d1a-6bbf144d5093",
   "metadata": {},
   "outputs": [],
   "source": [
    "subscribers.head(2)"
   ]
  },
  {
   "cell_type": "markdown",
   "id": "a2fa3be9-a382-41af-ae3d-0f6d88b5ec90",
   "metadata": {},
   "source": [
    "### Фильтрация"
   ]
  },
  {
   "cell_type": "code",
   "execution_count": null,
   "id": "03f12714-0522-41ab-bde6-5d3900214afd",
   "metadata": {},
   "outputs": [],
   "source": [
    "print(subscribers.shape)\n",
    "subscribers = subscribers[subscribers[\"Status\"]==\"ON\"]\n",
    "print(subscribers.shape)"
   ]
  },
  {
   "cell_type": "code",
   "execution_count": null,
   "id": "0e21d98f-759c-4e16-af5b-a2fe15b8ba81",
   "metadata": {},
   "outputs": [],
   "source": [
    "clients = pd.read_parquet(\"client.parquet\")"
   ]
  },
  {
   "cell_type": "code",
   "execution_count": null,
   "id": "01b391a1-a2d8-45c3-833b-175572d31e8c",
   "metadata": {},
   "outputs": [],
   "source": [
    "clients.head(2)"
   ]
  },
  {
   "cell_type": "markdown",
   "id": "ce39aaa5-aee4-4678-81f0-1da7cadd06f5",
   "metadata": {},
   "source": [
    "### Соединение"
   ]
  },
  {
   "cell_type": "code",
   "execution_count": null,
   "id": "e5b428e8-6d76-42ab-88c8-5b011e65953a",
   "metadata": {},
   "outputs": [],
   "source": [
    "join_clients=pd.merge(subscribers, clients, left_on='IdClient',right_on='Id', how='inner')"
   ]
  },
  {
   "cell_type": "code",
   "execution_count": null,
   "id": "924978ac-009e-478c-8796-75a6eb19aa83",
   "metadata": {},
   "outputs": [],
   "source": [
    "join_clients.head(2)"
   ]
  },
  {
   "cell_type": "code",
   "execution_count": null,
   "id": "53a73d45-5ae5-40ff-a271-7fde9ac9ce20",
   "metadata": {},
   "outputs": [],
   "source": [
    "join_all=pd.merge(traffic, join_clients, left_on='IdSubscriber',right_on='IdOnPSX', how='left')"
   ]
  },
  {
   "cell_type": "code",
   "execution_count": null,
   "id": "c5897eda-2110-4a88-b207-cd43a0f6199c",
   "metadata": {},
   "outputs": [],
   "source": [
    "join_all.head(2)"
   ]
  },
  {
   "cell_type": "markdown",
   "id": "aa4cee28-e42e-47be-bc36-ef589750d0ea",
   "metadata": {},
   "source": [
    "### Группировка"
   ]
  },
  {
   "cell_type": "code",
   "execution_count": null,
   "id": "1b904930-9c64-4865-a04d-12c63bae0358",
   "metadata": {},
   "outputs": [],
   "source": [
    "grouped_all=join_all.groupby(\"Email\").sum([\"UpTx\",\"DownTx\"])"
   ]
  },
  {
   "cell_type": "code",
   "execution_count": null,
   "id": "73bd62c1-fd98-4c86-820f-c9650bc2bb66",
   "metadata": {},
   "outputs": [],
   "source": [
    "grouped_all.head(2)"
   ]
  },
  {
   "cell_type": "markdown",
   "id": "50fe30b3-8b81-4a8d-b7b8-3a716e599d1d",
   "metadata": {},
   "source": [
    "### Вычисление"
   ]
  },
  {
   "cell_type": "code",
   "execution_count": null,
   "id": "e4c8a2ed-738b-45be-b4b6-58743891e17c",
   "metadata": {},
   "outputs": [],
   "source": [
    "grouped_all[\"total_traf\"]=grouped_all[\"UpTx\"]+grouped_all[\"DownTx\"]"
   ]
  },
  {
   "cell_type": "code",
   "execution_count": null,
   "id": "938b3ed7-9c30-49d7-ac3e-ca7ad5023243",
   "metadata": {},
   "outputs": [],
   "source": [
    "grouped_all.head(2)"
   ]
  },
  {
   "cell_type": "markdown",
   "id": "8e40c3aa-006a-43ee-864f-d215b4a2309b",
   "metadata": {},
   "source": [
    "### Сортировка"
   ]
  },
  {
   "cell_type": "code",
   "execution_count": null,
   "id": "45b211bd-a619-4ad1-9e3b-5fc59f5260d7",
   "metadata": {},
   "outputs": [],
   "source": [
    "grouped_all=grouped_all.sort_values(by=\"total_traf\",ascending=False)"
   ]
  },
  {
   "cell_type": "code",
   "execution_count": null,
   "id": "b852c2b0-e1f1-4b99-b586-d410db73afd3",
   "metadata": {},
   "outputs": [],
   "source": [
    "grouped_all.head(5)"
   ]
  },
  {
   "cell_type": "markdown",
   "id": "6095ef57-ab3b-45be-8441-877b4abdb19f",
   "metadata": {},
   "source": [
    "### Срез и график"
   ]
  },
  {
   "cell_type": "code",
   "execution_count": null,
   "id": "05665a71-49bb-490c-9bee-a1ad2c326b20",
   "metadata": {},
   "outputs": [],
   "source": [
    "grouped_all[\"total_traf\"].iloc[:20].plot.bar()"
   ]
  },
  {
   "cell_type": "code",
   "execution_count": null,
   "id": "40012de4-ac23-413c-ad04-c23186ef54a5",
   "metadata": {},
   "outputs": [],
   "source": []
  },
  {
   "cell_type": "code",
   "execution_count": null,
   "id": "b949db27-6db5-4edc-ad92-0c2cbf7dacf2",
   "metadata": {},
   "outputs": [],
   "source": []
  }
 ],
 "metadata": {
  "kernelspec": {
   "display_name": "Python 3",
   "language": "python",
   "name": "python3"
  },
  "language_info": {
   "codemirror_mode": {
    "name": "ipython",
    "version": 3
   },
   "file_extension": ".py",
   "mimetype": "text/x-python",
   "name": "python",
   "nbconvert_exporter": "python",
   "pygments_lexer": "ipython3",
   "version": "3.11.7"
  }
 },
 "nbformat": 4,
 "nbformat_minor": 5
}
