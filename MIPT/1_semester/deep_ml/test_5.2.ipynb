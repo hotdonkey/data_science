{
 "cells": [
  {
   "cell_type": "code",
   "execution_count": 3,
   "metadata": {},
   "outputs": [],
   "source": [
    "import numpy as np\n",
    "import pandas as pd"
   ]
  },
  {
   "cell_type": "markdown",
   "metadata": {},
   "source": [
    "---"
   ]
  },
  {
   "cell_type": "markdown",
   "metadata": {},
   "source": [
    "### Вопрос 1. Метод наименьших квадратов\n",
    "В этом задании вам необходимо реализовать алгоритм МНК (метод наименьших квадратов) в виде функции с использованием библиотеки numpy:\n",
    "\n",
    "def mnk(x_,y_):\n",
    "    …\n",
    "    return a,b\n",
    "Входные данные:\n",
    "\n",
    "●     x_: временной ряд x длиной 30 точек, сгенерированный с помощью функции linspace;\n",
    "\n",
    "●     y_: временной ряд y длиной 30 точек, сгенерированный с помощью функции linspace с коэффициентами a и b.\n",
    "\n",
    "Написанная функция должна возвращать коэффициенты a и b функции линейной аппроксимации (y = ax + b)."
   ]
  },
  {
   "cell_type": "markdown",
   "metadata": {},
   "source": [
    "Ответ:"
   ]
  },
  {
   "cell_type": "code",
   "execution_count": 2,
   "metadata": {},
   "outputs": [],
   "source": [
    "def mnk(x_, y_):\n",
    "    X = np.column_stack([np.ones(x_.shape[0]), x_])\n",
    "    coefficients = np.linalg.inv(X.T @ X) @ X.T @ y_\n",
    "    b = coefficients[0]  # Свободный член\n",
    "    a = coefficients[1]\n",
    "    return a, b"
   ]
  },
  {
   "cell_type": "markdown",
   "metadata": {},
   "source": [
    "---\n",
    "### Вопрос 2. Анализ информации о клиентах\n",
    "Вам предложены данные о клиентах, которые хранятся в следующем формате:\n",
    "\n",
    "\n",
    "Выполните следующие задания применительно к данным:\n",
    "\n",
    "Удалите строки, где есть пропуски.\n",
    "Удалите дубликаты, если они имеются в данных.\n",
    "Замените нулевые значения средними по столбцу без учета строки нулевого значения.\n",
    "Сохраните результаты проделанных действий в датафрейм с именем df\n"
   ]
  },
  {
   "cell_type": "markdown",
   "metadata": {},
   "source": [
    "Ответ:"
   ]
  },
  {
   "cell_type": "code",
   "execution_count": 13,
   "metadata": {},
   "outputs": [],
   "source": [
    "import pandas as pd\n",
    "import numpy as np\n",
    "df = pd.read_csv('users.csv', sep=',')\n",
    "\n",
    "# далее запишите ваш код\n",
    "df = df.dropna(axis=0)\n",
    "df = df.drop_duplicates()\n",
    "\n",
    "for column in df.select_dtypes(include=[np.number]).columns:\n",
    "    \n",
    "    mean_value = df[column][df[column] != 0].mean()\n",
    "    df[column] = df[column].replace(0, mean_value)"
   ]
  },
  {
   "cell_type": "markdown",
   "metadata": {},
   "source": [
    "---\n",
    "### Вопрос 3. Анализ электромобилей — 1\n",
    "Вам предложены данные об электромобилях, которые хранятся в файле Electric_Car.csv.\n",
    "\n",
    "Выполните следующие действия применительно к данным:\n",
    "\n",
    "Сагрегируйте данные по брендам (поле Brand).\n",
    "Вычислите среднее значение цены (поле PriceEuro) для каждой группы.\n",
    "Сохраните результаты проделанных действий в датафрейм с именем Carsgroupby."
   ]
  },
  {
   "cell_type": "code",
   "execution_count": 36,
   "metadata": {},
   "outputs": [],
   "source": [
    "Cars = pd.read_csv(\"./data/Cars.csv\")"
   ]
  },
  {
   "cell_type": "markdown",
   "metadata": {},
   "source": [
    "Ответ:"
   ]
  },
  {
   "cell_type": "code",
   "execution_count": 34,
   "metadata": {},
   "outputs": [],
   "source": [
    "Carsgroupby = pd.DataFrame(Cars.groupby(\"Brand\")[\"PriceEuro\"].mean())"
   ]
  },
  {
   "cell_type": "markdown",
   "metadata": {},
   "source": [
    "---\n",
    "### Вопрос 4. Анализ электромобилей — 2\n",
    "Вам предложены данные об электромобилях, которые хранятся в файле Electric_Car.csv.\n",
    "\n",
    "Выполните следующие действия применительно к данным:\n",
    "\n",
    "Сделайте срез по столбцу PriceEuro со значениями более 50000 и по столбцу TopSpeed_KmH со значениями более 200.\n",
    "Переназначьте индексы таблицы начиная с нуля.\n",
    "Сохраните результаты проделанных действий в датафрейм с именем Cars_speed.\n"
   ]
  },
  {
   "cell_type": "markdown",
   "metadata": {},
   "source": [
    "Ответ:"
   ]
  },
  {
   "cell_type": "code",
   "execution_count": 40,
   "metadata": {},
   "outputs": [],
   "source": [
    "filter_1 = Cars[\"TopSpeed_KmH\"] > 200\n",
    "filter_2 = Cars[\"PriceEuro\"] > 50000\n",
    "Cars_speed = Cars[filter_1 & filter_2].reset_index(drop=True)"
   ]
  },
  {
   "cell_type": "markdown",
   "metadata": {},
   "source": [
    "---\n",
    "### Вопрос 5. Анализ электромобилей — 3\n",
    "Вам предложены данные, которые хранятся в датафреймах EC.csv , EVP.csv.\n",
    "\n",
    "Вам необходимо:\n",
    "\n",
    "1.\tВыполнить операцию слияния таблиц по столбцу Brand и сохранить результат в переменную integral.\n",
    "2.\tПолучить описательные статистики для полученной таблицы integral с помощью функции describe(). \n",
    "3.\tСохранить результат вывода описательных статистик в переменную describe_pd."
   ]
  },
  {
   "cell_type": "markdown",
   "metadata": {},
   "source": [
    "Ответ:"
   ]
  },
  {
   "cell_type": "code",
   "execution_count": null,
   "metadata": {},
   "outputs": [],
   "source": [
    "integral = pd.merge(EC, EVP, on='Brand') \n",
    "\n",
    "describe_pd = integral.describe()"
   ]
  },
  {
   "cell_type": "code",
   "execution_count": null,
   "metadata": {},
   "outputs": [],
   "source": []
  }
 ],
 "metadata": {
  "kernelspec": {
   "display_name": "Python 3",
   "language": "python",
   "name": "python3"
  },
  "language_info": {
   "codemirror_mode": {
    "name": "ipython",
    "version": 3
   },
   "file_extension": ".py",
   "mimetype": "text/x-python",
   "name": "python",
   "nbconvert_exporter": "python",
   "pygments_lexer": "ipython3",
   "version": "3.11.7"
  }
 },
 "nbformat": 4,
 "nbformat_minor": 2
}
