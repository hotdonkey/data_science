{
 "cells": [
  {
   "cell_type": "code",
   "execution_count": 1,
   "metadata": {},
   "outputs": [],
   "source": [
    "alphabet = \"abcdefghijklmnopqrstuvwxyz\""
   ]
  },
  {
   "cell_type": "code",
   "execution_count": 10,
   "metadata": {},
   "outputs": [
    {
     "data": {
      "text/plain": [
       "26"
      ]
     },
     "execution_count": 10,
     "metadata": {},
     "output_type": "execute_result"
    }
   ],
   "source": [
    "len(alphabet)"
   ]
  },
  {
   "cell_type": "code",
   "execution_count": 6,
   "metadata": {},
   "outputs": [],
   "source": [
    "test =\"zzzab\"\n",
    "# hkfib"
   ]
  },
  {
   "cell_type": "code",
   "execution_count": 7,
   "metadata": {},
   "outputs": [
    {
     "data": {
      "text/plain": [
       "25"
      ]
     },
     "execution_count": 7,
     "metadata": {},
     "output_type": "execute_result"
    }
   ],
   "source": [
    "alphabet.find('z')"
   ]
  },
  {
   "cell_type": "code",
   "execution_count": 8,
   "metadata": {},
   "outputs": [
    {
     "name": "stdout",
     "output_type": "stream",
     "text": [
      "25\n",
      "25\n",
      "25\n",
      "0\n",
      "1\n"
     ]
    }
   ],
   "source": [
    "for i in test:\n",
    "    print(alphabet.find(i))"
   ]
  },
  {
   "cell_type": "code",
   "execution_count": 12,
   "metadata": {},
   "outputs": [
    {
     "data": {
      "text/plain": [
       "'z'"
      ]
     },
     "execution_count": 12,
     "metadata": {},
     "output_type": "execute_result"
    }
   ],
   "source": [
    "alphabet[25]"
   ]
  },
  {
   "cell_type": "code",
   "execution_count": 89,
   "metadata": {},
   "outputs": [
    {
     "name": "stdout",
     "output_type": "stream",
     "text": [
      "3\n",
      "3\n",
      "3\n",
      "1\n",
      "1\n"
     ]
    }
   ],
   "source": [
    "test_lst = []\n",
    "for i in test:\n",
    "    test_lst.append(alphabet.find(i))\n",
    "\n",
    "for i in test_lst:\n",
    "    print(test_lst.count(i))"
   ]
  },
  {
   "cell_type": "code",
   "execution_count": 90,
   "metadata": {},
   "outputs": [
    {
     "data": {
      "text/plain": [
       "[25, 25, 25, 0, 1]"
      ]
     },
     "execution_count": 90,
     "metadata": {},
     "output_type": "execute_result"
    }
   ],
   "source": [
    "test_lst = []\n",
    "for i in test:\n",
    "    test_lst.append(alphabet.find(i))\n",
    "\n",
    "test_lst"
   ]
  },
  {
   "cell_type": "code",
   "execution_count": 33,
   "metadata": {},
   "outputs": [
    {
     "data": {
      "text/plain": [
       "[25, 0, 1]"
      ]
     },
     "execution_count": 33,
     "metadata": {},
     "output_type": "execute_result"
    }
   ],
   "source": [
    "for i, v in enumerate(test_lst):\n",
    "    if test_lst.count(v) > 1:\n",
    "        test_lst[i] += 1\n",
    "        test_lst.pop(i)\n",
    "        if test_lst[i] > len(alphabet) - 1:\n",
    "            test_lst[i] = 0\n",
    "            test_lst.pop(i)\n",
    "test_lst"
   ]
  },
  {
   "cell_type": "code",
   "execution_count": 91,
   "metadata": {},
   "outputs": [
    {
     "data": {
      "text/plain": [
       "{25: [0, 1, 2]}"
      ]
     },
     "execution_count": 91,
     "metadata": {},
     "output_type": "execute_result"
    }
   ],
   "source": [
    "duplicates = {}\n",
    "for i, v in enumerate(test_lst):\n",
    "    if v in duplicates:\n",
    "        duplicates[v].append(i)\n",
    "    else:\n",
    "        duplicates[v] = [i]\n",
    "\n",
    "duplicates = {k: v for k, v in duplicates.items() if len(v) > 1}\n",
    "duplicates"
   ]
  },
  {
   "cell_type": "code",
   "execution_count": 115,
   "metadata": {},
   "outputs": [
    {
     "data": {
      "text/plain": [
       "[2, 25]"
      ]
     },
     "execution_count": 115,
     "metadata": {},
     "output_type": "execute_result"
    }
   ],
   "source": [
    "test =\"zzzab\"\n",
    "alphabet = \"abcdefghijklmnopqrstuvwxyz\"\n",
    "test_lst = []\n",
    "for i in test:\n",
    "    test_lst.append(alphabet.find(i))\n",
    "    \n",
    "def check_duplicates(test_lst= test_lst):\n",
    "    duplicates = {}\n",
    "    for i, v in enumerate(test_lst):\n",
    "        if v in duplicates:\n",
    "            duplicates[v].append(i)\n",
    "        else:\n",
    "            duplicates[v] = [i]\n",
    "\n",
    "    duplicates = {k: v for k, v in duplicates.items() if len(v) > 1}\n",
    "    \n",
    "    return duplicates\n",
    "\n",
    "duplicates = check_duplicates()\n",
    "\n",
    "while True:\n",
    "    \n",
    "    for key in duplicates.keys():\n",
    "        a, b = duplicates[key][0], duplicates[key][1]\n",
    "        test_lst.pop(b)\n",
    "        test_lst[a] += 1\n",
    "        if test_lst[a] > len(alphabet) - 1:\n",
    "            test_lst[a] = 0\n",
    "        \n",
    "    duplicates = check_duplicates()\n",
    "    \n",
    "    if len(duplicates) == 0:\n",
    "        break\n",
    "    \n",
    "test_lst"
   ]
  },
  {
   "cell_type": "code",
   "execution_count": null,
   "metadata": {},
   "outputs": [],
   "source": []
  },
  {
   "cell_type": "code",
   "execution_count": 141,
   "metadata": {},
   "outputs": [],
   "source": [
    "s = \"zzzab\"\n",
    "def replace_duplicates(s):\n",
    "    \n",
    "    # Встроенный алфавит\n",
    "    alphabet = \"abcdefghijklmnopqrstuvwxyz\"\n",
    "    \n",
    "    # Подготовка ввода для обработки\n",
    "    test_lst = []\n",
    "    for i in test:\n",
    "        test_lst.append(alphabet.find(i))\n",
    "    \n",
    "    # Вспомогательная функция для поиска дубликатов\n",
    "    def check_duplicates(test_lst=test_lst):\n",
    "        duplicates = {}\n",
    "        for i, v in enumerate(test_lst):\n",
    "            if v in duplicates:\n",
    "                duplicates[v].append(i)\n",
    "            else:\n",
    "                duplicates[v] = [i]\n",
    "\n",
    "        duplicates = {k: v for k, v in duplicates.items() if len(v) > 1}\n",
    "        \n",
    "        return duplicates\n",
    "    \n",
    "    \n",
    "    # Инициализация словаря дубликатов\n",
    "    duplicates = check_duplicates()\n",
    "\n",
    "    # Начинаем крутить по списку выискивая и подменяя дубликаты\n",
    "    while True:\n",
    "        for key in duplicates.keys():\n",
    "            # Подмена по 2 элементам\n",
    "            a, b = duplicates[key][0], duplicates[key][1]\n",
    "            test_lst.pop(b)\n",
    "            test_lst[a] += 1\n",
    "            if test_lst[a] > len(alphabet) - 1:\n",
    "                test_lst[a] = 0\n",
    "        duplicates = check_duplicates()\n",
    "        \n",
    "        # Как исчерпали все - выходим\n",
    "        if len(duplicates) == 0:\n",
    "            break\n",
    "        \n",
    "    \n",
    "    result = \"\"\n",
    "    for i in test_lst:\n",
    "        result += alphabet[i]\n",
    "        \n",
    "    return result\n",
    "        \n",
    "    "
   ]
  },
  {
   "cell_type": "code",
   "execution_count": null,
   "metadata": {},
   "outputs": [],
   "source": [
    "s = \"zzzab\"\n",
    "def replace_duplicates(s: str) -> str:\n",
    "    \"\"\"\n",
    "    Заменяет дубликаты символов в строке на следующие символы в алфавите и возвращает измененную строку.\n",
    "\n",
    "    Args:\n",
    "    s (str): Входная строка\n",
    "\n",
    "    Returns:\n",
    "    str: Измененная строка без дубликатов\n",
    "    \"\"\"\n",
    "    \n",
    "    # Встроенный алфавит\n",
    "    alphabet = \"abcdefghijklmnopqrstuvwxyz\"\n",
    "    \n",
    "    # Подготовка ввода для обработки\n",
    "    test_lst = []\n",
    "    for i in s:\n",
    "        test_lst.append(alphabet.find(i))  # Преобразование символов в индексы алфавита\n",
    "    \n",
    "    # Вспомогательная функция для поиска дубликатов\n",
    "    def check_duplicates(test_lst=test_lst) -> dict:\n",
    "        duplicates = {}\n",
    "        for i, v in enumerate(test_lst):\n",
    "            if v in duplicates:\n",
    "                duplicates[v].append(i)\n",
    "            else:\n",
    "                duplicates[v] = [i]\n",
    "\n",
    "        duplicates = {k: v for k, v in duplicates.items() if len(v) > 1}  # Оставляем только дубликаты\n",
    "        \n",
    "        return duplicates\n",
    "    \n",
    "    # Инициализация словаря дубликатов\n",
    "    duplicates = check_duplicates()\n",
    "\n",
    "    # Начинаем крутить по списку выискивая и подменяя дубликаты\n",
    "    while True:\n",
    "        for key in duplicates.keys():\n",
    "            # Подмена по 2 элементам\n",
    "            a, b = duplicates[key][0], duplicates[key][1]\n",
    "            test_lst.pop(b)  # Удаляем второй дубликат\n",
    "            test_lst[a] += 1  # Увеличиваем первый дубликат на 1\n",
    "            if test_lst[a] > len(alphabet) - 1:  # Если вышли за пределы алфавита, возвращаемся к началу\n",
    "                test_lst[a] = 0\n",
    "        duplicates = check_duplicates()  # Проверяем остались ли дубликаты\n",
    "        \n",
    "        # Как исчерпали все - выходим\n",
    "        if len(duplicates) == 0:\n",
    "            break\n",
    "    \n",
    "    result = \"\"\n",
    "    for i in test_lst:\n",
    "        result += alphabet[i]  # Преобразование индексов обратно в символы\n",
    "    \n",
    "    return result\n"
   ]
  },
  {
   "cell_type": "code",
   "execution_count": 194,
   "metadata": {},
   "outputs": [],
   "source": [
    "s = \"hhakafh\"\n",
    "\n",
    "\n",
    "def replace_duplicates(s):\n",
    "    \"\"\"\n",
    "    Заменяет дубликаты символов в строке на следующие символы в алфавите и возвращает измененную строку.\n",
    "\n",
    "    Args:\n",
    "    s (str): Входная строка\n",
    "\n",
    "    Returns:\n",
    "    str: Измененная строка без дубликатов\n",
    "    \"\"\"\n",
    "\n",
    "    # Встроенный алфавит\n",
    "    alphabet = \"abcdefghijklmnopqrstuvwxyz\"\n",
    "\n",
    "    # Подготовка ввода для обработки\n",
    "    test_lst = []\n",
    "    for i in s:\n",
    "        test_lst.append(alphabet.find(i))  # Преобразование символов в индексы алфавита\n",
    "\n",
    "    # Вспомогательная функция для поиска дубликатов\n",
    "    def check_duplicates(test_lst=test_lst) -> dict:\n",
    "        duplicates = {}\n",
    "        for i, v in enumerate(test_lst):\n",
    "            if v in duplicates:\n",
    "                duplicates[v].append(i)\n",
    "            else:\n",
    "                duplicates[v] = [i]\n",
    "\n",
    "        # Оставляем только дубликаты\n",
    "        duplicates = {k: v for k, v in duplicates.items() if len(v) > 1}\n",
    "\n",
    "        return duplicates\n",
    "\n",
    "    # Инициализация словаря дубликатов\n",
    "    duplicates = check_duplicates()\n",
    "\n",
    "    # Начинаем крутить по списку выискивая и подменяя дубликаты\n",
    "    counter = 1\n",
    "    while True:\n",
    "        # Первый дубликат\n",
    "        dup_list = duplicates[list(duplicates.keys())[0]]\n",
    "        a = dup_list[0]\n",
    "        b = dup_list[1]\n",
    "        \n",
    "        test_lst.pop(b)  # Удаляем второй дубликат\n",
    "        test_lst[a] += 1  # Увеличиваем первый дубликат на 1\n",
    "        \n",
    "        # Если вышли за пределы алфавита, возвращаемся к началу\n",
    "        if (test_lst[a] > len(alphabet) - 1):  \n",
    "            test_lst[a] = 0\n",
    "    \n",
    "\n",
    "        # Преобразование индексов обратно в символы\n",
    "        result = \"\"\n",
    "        for i in test_lst:\n",
    "            result += alphabet[i]\n",
    "\n",
    "        print(f\"Step {counter}: {result}\")\n",
    "\n",
    "        counter += 1\n",
    "\n",
    "        duplicates = check_duplicates()  # Проверяем остались ли дубликаты\n",
    "\n",
    "        # Как исчерпали все - выходим\n",
    "        if len(duplicates) == 0:\n",
    "            break\n",
    "\n",
    "    return sorted([i for i in result]) # Чтоб проверить тестами"
   ]
  },
  {
   "cell_type": "code",
   "execution_count": 195,
   "metadata": {},
   "outputs": [
    {
     "name": "stdout",
     "output_type": "stream",
     "text": [
      "____Начало теста_____\n",
      "Step 1: azab\n",
      "Step 2: bzb\n",
      "Step 3: cz\n",
      "Step 1: iakafh\n",
      "Step 2: ibkfh\n",
      "Тест пройден\n",
      "____Конец теста_____\n",
      "Step 1: iakafh\n",
      "Step 2: ibkfh\n"
     ]
    },
    {
     "data": {
      "text/plain": [
       "['b', 'f', 'h', 'i', 'k']"
      ]
     },
     "execution_count": 195,
     "metadata": {},
     "output_type": "execute_result"
    }
   ],
   "source": [
    "def test_replace_duplicates():\n",
    "    \"\"\"Тест\"\"\"\n",
    "    print(\"____Начало теста_____\")\n",
    "\n",
    "    assert replace_duplicates(\"zzzab\") == sorted([i for i in \"cz\"])\n",
    "    assert replace_duplicates(\"hhakafh\") == sorted([i for i in \"hkfib\"])\n",
    "\n",
    "    print(\"Тест пройден\")\n",
    "    print(\"____Конец теста_____\")\n",
    "\n",
    "\n",
    "# Запуск теста\n",
    "test_replace_duplicates()\n",
    "\n",
    "# Запуск функции\n",
    "replace_duplicates(s)"
   ]
  },
  {
   "cell_type": "code",
   "execution_count": 191,
   "metadata": {},
   "outputs": [
    {
     "data": {
      "text/plain": [
       "['hkfib']"
      ]
     },
     "execution_count": 191,
     "metadata": {},
     "output_type": "execute_result"
    }
   ],
   "source": [
    "sorted(\"hkfib\".split())"
   ]
  },
  {
   "cell_type": "code",
   "execution_count": 188,
   "metadata": {},
   "outputs": [
    {
     "data": {
      "text/plain": [
       "True"
      ]
     },
     "execution_count": 188,
     "metadata": {},
     "output_type": "execute_result"
    }
   ],
   "source": [
    "sorted([\"c\", \"z\"]) == sorted([\"z\", \"c\"])"
   ]
  },
  {
   "cell_type": "code",
   "execution_count": 193,
   "metadata": {},
   "outputs": [
    {
     "data": {
      "text/plain": [
       "['b', 'f', 'h', 'i', 'k']"
      ]
     },
     "execution_count": 193,
     "metadata": {},
     "output_type": "execute_result"
    }
   ],
   "source": [
    "sorted([i for i in \"hkfib\"])"
   ]
  },
  {
   "cell_type": "code",
   "execution_count": null,
   "metadata": {},
   "outputs": [],
   "source": []
  },
  {
   "cell_type": "code",
   "execution_count": 3,
   "metadata": {},
   "outputs": [],
   "source": [
    "import pandas as pd\n",
    "import numpy as np\n",
    "\n",
    "fruit = np.array([\"lemons\", \"lemons\", \"lemons\", \"lemons\",\n",
    "             \t\"apples\", \"apples\", \"apples\", \"apples\",\n",
    "             \t\"apples\", \"apples\", \"apples\"],\n",
    "            \tdtype=object)\n",
    "\n",
    "shop = np.array([\"Shop A\", \"Shop A\", \"Shop A\", \"Shop B\",\n",
    "             \t\"Shop A\", \"Shop A\", \"Shop A\", \"Shop B\",\n",
    "             \t\"Shop B\", \"Shop B\", \"Shop A\"],\n",
    "            \tdtype=object)\n",
    " \n",
    "pl = np.array([\"online\", \"online\", \"offline\",\n",
    "             \t\"online\", \"online\", \"offline\",\n",
    "             \t\"offline\", \"online\", \"offline\",\n",
    "             \t\"offline\", \"offline\"],\n",
    "            \tdtype=object)\n",
    "\n",
    "df = pd.DataFrame({'fruit': fruit, 'shop': shop, 'pl': pl,\n",
    "               \t\"Q\": [1, 2, 2, 3, 3, 4, 5, 6, 7, 4, 4],\n",
    "               \t\"P\": [5, 4, 5, 5, 6, 6, 8, 9, 9, 3, 3]})\n",
    "df['total'] = df['Q']*df['P']\n",
    "\n",
    "##########################################\n",
    "\n",
    "subset = df.query(\"Q > 3 and shop == 'Shop A'\")\n"
   ]
  },
  {
   "cell_type": "code",
   "execution_count": 4,
   "metadata": {},
   "outputs": [
    {
     "data": {
      "text/html": [
       "<div>\n",
       "<style scoped>\n",
       "    .dataframe tbody tr th:only-of-type {\n",
       "        vertical-align: middle;\n",
       "    }\n",
       "\n",
       "    .dataframe tbody tr th {\n",
       "        vertical-align: top;\n",
       "    }\n",
       "\n",
       "    .dataframe thead th {\n",
       "        text-align: right;\n",
       "    }\n",
       "</style>\n",
       "<table border=\"1\" class=\"dataframe\">\n",
       "  <thead>\n",
       "    <tr style=\"text-align: right;\">\n",
       "      <th></th>\n",
       "      <th>fruit</th>\n",
       "      <th>shop</th>\n",
       "      <th>pl</th>\n",
       "      <th>Q</th>\n",
       "      <th>P</th>\n",
       "      <th>total</th>\n",
       "    </tr>\n",
       "  </thead>\n",
       "  <tbody>\n",
       "    <tr>\n",
       "      <th>0</th>\n",
       "      <td>lemons</td>\n",
       "      <td>Shop A</td>\n",
       "      <td>online</td>\n",
       "      <td>1</td>\n",
       "      <td>5</td>\n",
       "      <td>5</td>\n",
       "    </tr>\n",
       "    <tr>\n",
       "      <th>1</th>\n",
       "      <td>lemons</td>\n",
       "      <td>Shop A</td>\n",
       "      <td>online</td>\n",
       "      <td>2</td>\n",
       "      <td>4</td>\n",
       "      <td>8</td>\n",
       "    </tr>\n",
       "    <tr>\n",
       "      <th>2</th>\n",
       "      <td>lemons</td>\n",
       "      <td>Shop A</td>\n",
       "      <td>offline</td>\n",
       "      <td>2</td>\n",
       "      <td>5</td>\n",
       "      <td>10</td>\n",
       "    </tr>\n",
       "    <tr>\n",
       "      <th>3</th>\n",
       "      <td>lemons</td>\n",
       "      <td>Shop B</td>\n",
       "      <td>online</td>\n",
       "      <td>3</td>\n",
       "      <td>5</td>\n",
       "      <td>15</td>\n",
       "    </tr>\n",
       "    <tr>\n",
       "      <th>4</th>\n",
       "      <td>apples</td>\n",
       "      <td>Shop A</td>\n",
       "      <td>online</td>\n",
       "      <td>3</td>\n",
       "      <td>6</td>\n",
       "      <td>18</td>\n",
       "    </tr>\n",
       "    <tr>\n",
       "      <th>5</th>\n",
       "      <td>apples</td>\n",
       "      <td>Shop A</td>\n",
       "      <td>offline</td>\n",
       "      <td>4</td>\n",
       "      <td>6</td>\n",
       "      <td>24</td>\n",
       "    </tr>\n",
       "    <tr>\n",
       "      <th>6</th>\n",
       "      <td>apples</td>\n",
       "      <td>Shop A</td>\n",
       "      <td>offline</td>\n",
       "      <td>5</td>\n",
       "      <td>8</td>\n",
       "      <td>40</td>\n",
       "    </tr>\n",
       "    <tr>\n",
       "      <th>7</th>\n",
       "      <td>apples</td>\n",
       "      <td>Shop B</td>\n",
       "      <td>online</td>\n",
       "      <td>6</td>\n",
       "      <td>9</td>\n",
       "      <td>54</td>\n",
       "    </tr>\n",
       "    <tr>\n",
       "      <th>8</th>\n",
       "      <td>apples</td>\n",
       "      <td>Shop B</td>\n",
       "      <td>offline</td>\n",
       "      <td>7</td>\n",
       "      <td>9</td>\n",
       "      <td>63</td>\n",
       "    </tr>\n",
       "    <tr>\n",
       "      <th>9</th>\n",
       "      <td>apples</td>\n",
       "      <td>Shop B</td>\n",
       "      <td>offline</td>\n",
       "      <td>4</td>\n",
       "      <td>3</td>\n",
       "      <td>12</td>\n",
       "    </tr>\n",
       "    <tr>\n",
       "      <th>10</th>\n",
       "      <td>apples</td>\n",
       "      <td>Shop A</td>\n",
       "      <td>offline</td>\n",
       "      <td>4</td>\n",
       "      <td>3</td>\n",
       "      <td>12</td>\n",
       "    </tr>\n",
       "  </tbody>\n",
       "</table>\n",
       "</div>"
      ],
      "text/plain": [
       "     fruit    shop       pl  Q  P  total\n",
       "0   lemons  Shop A   online  1  5      5\n",
       "1   lemons  Shop A   online  2  4      8\n",
       "2   lemons  Shop A  offline  2  5     10\n",
       "3   lemons  Shop B   online  3  5     15\n",
       "4   apples  Shop A   online  3  6     18\n",
       "5   apples  Shop A  offline  4  6     24\n",
       "6   apples  Shop A  offline  5  8     40\n",
       "7   apples  Shop B   online  6  9     54\n",
       "8   apples  Shop B  offline  7  9     63\n",
       "9   apples  Shop B  offline  4  3     12\n",
       "10  apples  Shop A  offline  4  3     12"
      ]
     },
     "execution_count": 4,
     "metadata": {},
     "output_type": "execute_result"
    }
   ],
   "source": [
    "df"
   ]
  },
  {
   "cell_type": "code",
   "execution_count": 32,
   "metadata": {},
   "outputs": [
    {
     "data": {
      "text/plain": [
       "fruit\n",
       "lemons    4.75\n",
       "Name: P, dtype: float64"
      ]
     },
     "execution_count": 32,
     "metadata": {},
     "output_type": "execute_result"
    }
   ],
   "source": [
    "df[df[\"fruit\"] == 'lemons'].groupby('fruit')[\"P\"].mean()"
   ]
  },
  {
   "cell_type": "code",
   "execution_count": 56,
   "metadata": {},
   "outputs": [],
   "source": [
    "import pandas as pd\n",
    "import numpy as np\n",
    "\n",
    "fruit = np.array([\"lemons\", \"lemons\", \"lemons\", \"lemons\",\n",
    "             \t\"apples\", \"apples\", \"apples\", \"apples\",\n",
    "             \t\"apples\", \"apples\", \"apples\"],\n",
    "            \tdtype=object)\n",
    "\n",
    "shop = np.array([\"Shop A\", \"Shop A\", \"Shop A\", \"Shop B\",\n",
    "             \t\"Shop A\", \"Shop A\", \"Shop A\", \"Shop B\",\n",
    "             \t\"Shop B\", \"Shop B\", \"Shop A\"],\n",
    "            \tdtype=object)\n",
    " \n",
    "pl = np.array([\"online\", \"online\", \"offline\",\n",
    "             \t\"online\", \"online\", \"offline\",\n",
    "             \t\"offline\", \"online\", \"offline\",\n",
    "             \t\"offline\", \"offline\"],\n",
    "            \tdtype=object)\n",
    "\n",
    "df = pd.DataFrame({'fruit': fruit, 'shop': shop, 'pl': pl,\n",
    "               \t\"Q\": [1, 2, 2, 3, 3, 4, 5, 6, 7, 4, 4],\n",
    "               \t\"P\": [5, 4, 5, 5, 6, 6, 8, 9, 9, 3, 3]})\n",
    "df['total'] = df['Q']*df['P']\n",
    "\n",
    "##########################################\n",
    "\n",
    "subset = df.query(\"Q > 3 and shop == 'Shop A'\").reset_index(drop=True)\n",
    "fruit_total = df.groupby(\"fruit\")[\"total\"].sum()\n",
    "fruit_quantity = df.groupby(\"fruit\")[\"Q\"].sum()\n",
    "lemon_average_price = df[df[\"fruit\"] == 'lemons'].groupby('fruit')[\"P\"].mean()\n"
   ]
  },
  {
   "cell_type": "code",
   "execution_count": 57,
   "metadata": {},
   "outputs": [
    {
     "data": {
      "text/plain": [
       "40"
      ]
     },
     "execution_count": 57,
     "metadata": {},
     "output_type": "execute_result"
    }
   ],
   "source": [
    "subset[\"total\"].iloc[1]"
   ]
  },
  {
   "cell_type": "code",
   "execution_count": 58,
   "metadata": {},
   "outputs": [
    {
     "data": {
      "text/plain": [
       "fruit\n",
       "apples    33\n",
       "lemons     8\n",
       "Name: Q, dtype: int64"
      ]
     },
     "execution_count": 58,
     "metadata": {},
     "output_type": "execute_result"
    }
   ],
   "source": [
    "fruit_quantity"
   ]
  },
  {
   "cell_type": "code",
   "execution_count": 59,
   "metadata": {},
   "outputs": [],
   "source": [
    "import pandas as pd\n",
    "import numpy as np\n",
    "\n",
    "fruit = np.array([\"lemons\", \"lemons\", \"lemons\", \"lemons\",\n",
    "                 \"apples\", \"apples\", \"apples\", \"apples\",\n",
    "                 \"apples\", \"apples\", \"apples\"],\n",
    "                dtype=object)\n",
    "\n",
    "shop = np.array([\"Shop A\", \"Shop A\", \"Shop A\", \"Shop B\",\n",
    "                 \"Shop A\", \"Shop A\", \"Shop A\", \"Shop B\",\n",
    "                 \"Shop B\", \"Shop B\", \"Shop A\"],\n",
    "                dtype=object)\n",
    "  \n",
    "pl = np.array([\"online\", \"online\", \"offline\",\n",
    "                 \"online\", \"online\", \"offline\",\n",
    "                 \"offline\", \"online\", \"offline\",\n",
    "                 \"offline\", \"offline\"],\n",
    "                dtype=object)\n",
    "\n",
    "\n",
    "\n",
    "df = pd.DataFrame({'fruit': fruit, 'shop': shop, 'pl': pl,\n",
    "                   \"Q\": [1, 2, 2, 3, 3, 4, 5, 6, 7, 4, 4],\n",
    "                   \"P\": [5, 4, 5, 5, 6, 6, 8, 9, 9, 3,3]})\n",
    "df['total'] = df['Q']*df['P']\n",
    "# далее запишите ваш код\n",
    "\n",
    "\n",
    "\n"
   ]
  },
  {
   "cell_type": "code",
   "execution_count": 62,
   "metadata": {},
   "outputs": [],
   "source": [
    "pivot = df.pivot_table(values=\"total\", index=\"shop\", columns=\"pl\", aggfunc=\"sum\")"
   ]
  },
  {
   "cell_type": "code",
   "execution_count": 63,
   "metadata": {},
   "outputs": [
    {
     "data": {
      "text/plain": [
       "69"
      ]
     },
     "execution_count": 63,
     "metadata": {},
     "output_type": "execute_result"
    }
   ],
   "source": [
    "pivot.iloc[1,1]"
   ]
  },
  {
   "cell_type": "code",
   "execution_count": 26,
   "metadata": {},
   "outputs": [
    {
     "name": "stdout",
     "output_type": "stream",
     "text": [
      "Средний силуэтный коэффициент: 0.7320912174491638\n"
     ]
    }
   ],
   "source": [
    "from sklearn.datasets import make_blobs\n",
    "from scipy.cluster.hierarchy import linkage, fcluster\n",
    "from sklearn.metrics import silhouette_score\n",
    "import numpy as np\n",
    "\n",
    "# Список для хранения силуэтных коэффициентов\n",
    "silhouette_scores = []\n",
    "\n",
    "# Генерация 10 случайных наборов данных\n",
    "for i in range(10):\n",
    "    # Генерация случайных данных\n",
    "    X, _ = make_blobs(n_samples=100, n_features=4, centers=4, random_state=i)\n",
    "\n",
    "    # Иерархическая кластеризация\n",
    "    Z = linkage(X, method='ward')\n",
    "    cluster_labels = fcluster(Z, 4, criterion='maxclust')\n",
    "\n",
    "    # Вычисление силуэтного коэффициента\n",
    "    score = silhouette_score(X, cluster_labels)\n",
    "    silhouette_scores.append(score)\n",
    "\n",
    "# Вычисление и вывод среднего силуэтного коэффициента\n",
    "silhouette_avg = np.mean(silhouette_scores)\n",
    "print(\"Средний силуэтный коэффициент:\", silhouette_avg)"
   ]
  },
  {
   "cell_type": "code",
   "execution_count": 33,
   "metadata": {},
   "outputs": [
    {
     "name": "stdout",
     "output_type": "stream",
     "text": [
      "Лучшие параметры: eps=1, min_samples=10, средний силуэтный коэффициент=0.8229345005215011\n"
     ]
    }
   ],
   "source": [
    "from sklearn.datasets import make_blobs\n",
    "from sklearn.cluster import DBSCAN\n",
    "from sklearn.metrics import silhouette_score\n",
    "\n",
    "# Генерация искусственных данных\n",
    "X, y = make_blobs(n_samples=1000, centers=3, random_state=42)\n",
    "\n",
    "def dbscan_silhouette(eps, min_samples):\n",
    "    dbscan = DBSCAN(eps=eps, min_samples=min_samples)\n",
    "    dbscan.fit(X)\n",
    "\n",
    "    labels = dbscan.labels_\n",
    "\n",
    "    # Проверка на наличие хотя бы одного кластера\n",
    "    if len(set(labels)) <= 1:\n",
    "        return -1  # Возврат -1, если не удалось образовать кластеры\n",
    "\n",
    "    silhouette = silhouette_score(X, labels)\n",
    "    return silhouette\n",
    "\n",
    "best_eps, best_min_samples, best_silhouette = None, None, -1\n",
    "for eps in [0.1, 0.5, 1]:\n",
    "    for min_samples in [5, 10, 20]:\n",
    "        silhouette_avg = dbscan_silhouette(eps, min_samples)\n",
    "        \n",
    "        # Сравнение и сохранение лучших параметров\n",
    "        if silhouette_avg > best_silhouette:\n",
    "            best_silhouette = silhouette_avg\n",
    "            best_eps = eps\n",
    "            best_min_samples = min_samples\n",
    "        \n",
    "print(f\"Лучшие параметры: eps={best_eps}, min_samples={best_min_samples}, средний силуэтный коэффициент={best_silhouette}\")"
   ]
  },
  {
   "cell_type": "code",
   "execution_count": null,
   "metadata": {},
   "outputs": [
    {
     "data": {
      "text/plain": [
       "array([0.28857914, 0.23635118, 0.18619353, 0.15098918, 0.13788697])"
      ]
     },
     "execution_count": 36,
     "metadata": {},
     "output_type": "execute_result"
    }
   ],
   "source": [
    "import numpy as np\n",
    "from sklearn.decomposition import PCA\n",
    "np.random.seed(42)\n",
    "X = np.random.rand(100, 5)\n",
    "\n",
    "pca_mopel = PCA()\n",
    "pca_mopel.fit_transform(X)\n",
    "loadings = pca_mopel.explained_variance_ratio_"
   ]
  },
  {
   "cell_type": "code",
   "execution_count": 47,
   "metadata": {},
   "outputs": [
    {
     "name": "stdout",
     "output_type": "stream",
     "text": [
      "0.49979049189969954\n"
     ]
    }
   ],
   "source": [
    "import numpy as np\n",
    "from sklearn.manifold import TSNE\n",
    "from scipy.sparse.linalg import svds\n",
    "import matplotlib.pyplot as plt\n",
    "from scipy.spatial.distance import pdist, squareform\n",
    "np.random.seed(42)\n",
    "X = np.random.rand(100, 5)\n",
    "U, S, Vt = svds(X, k=2)\n",
    "\n",
    "S_diag = np.diag(S)\n",
    "predicted_ratings = np.dot(np.dot(U, S_diag), Vt)\n",
    "\n",
    "result = predicted_ratings[1, 3]\n",
    "\n",
    "print(result)"
   ]
  },
  {
   "cell_type": "code",
   "execution_count": 51,
   "metadata": {},
   "outputs": [
    {
     "data": {
      "image/png": "[encoded data removed]",
      "text/plain": [
       "<Figure size 640x480 with 1 Axes>"
      ]
     },
     "metadata": {},
     "output_type": "display_data"
    },
    {
     "name": "stdout",
     "output_type": "stream",
     "text": [
      "53209.66\n"
     ]
    }
   ],
   "source": [
    "import numpy as np\n",
    "from sklearn.manifold import TSNE\n",
    "import matplotlib.pyplot as plt\n",
    "from scipy.spatial.distance import pdist, squareform\n",
    "\n",
    "np.random.seed(42)\n",
    "x = np.random.rand(100, 5)\n",
    "tsne = TSNE(n_components=2)\n",
    "X_tsne = tsne.fit_transform(X)\n",
    "plt.scatter(X_tsne[:, 0], X_tsne[:, 1])\n",
    "plt.show()\n",
    "dist = pdist(X_tsne, \"euclidean\")\n",
    "sum_dist = np.sum(squareform(dist))\n",
    "result = round(sum_dist, 2)\n",
    "print(result)"
   ]
  },
  {
   "cell_type": "code",
   "execution_count": 5,
   "metadata": {},
   "outputs": [
    {
     "name": "stdout",
     "output_type": "stream",
     "text": [
      "[[ 3.  6. 10.]\n",
      " [ 6.  9.  6.]\n",
      " [ 7.  4. 11.]]\n"
     ]
    }
   ],
   "source": [
    "import numpy as np\n",
    "\n",
    "image = np.array(\n",
    "    [\n",
    "        [1, 2, 0, 0, 3],\n",
    "        [0, 1, 2, 3, 1],\n",
    "        [0, 0, 1, 2, 3],\n",
    "        [3, 2, 1, 2, 0],\n",
    "        [1, 0, 3, 1, 2],\n",
    "    ]\n",
    ")\n",
    "\n",
    "filter = np.array([[1, 0, 1], [0, 1, 0], [1, 0, 1]])\n",
    "\n",
    "\n",
    "feature_map = np.zeros((3, 3))\n",
    "for i in range(3):\n",
    "    for j in range(3):\n",
    "        feature_map[i][j] = np.sum(image[i:i+3, j:j+3] * filter)\n",
    "\n",
    "print(feature_map)"
   ]
  },
  {
   "cell_type": "code",
   "execution_count": 11,
   "metadata": {},
   "outputs": [
    {
     "name": "stdout",
     "output_type": "stream",
     "text": [
      "0.6456563062257954\n"
     ]
    }
   ],
   "source": [
    "import math\n",
    "\n",
    "# Функция сигмоид\n",
    "def sigmoid(x):\n",
    "    return 1/(1+math.exp(-x))\n",
    "\n",
    "# Задаем коэффициенты a и b\n",
    "a = 0.5\n",
    "b = 0.2\n",
    "\n",
    "# Входные данные\n",
    "x1 = 1.0\n",
    "x2 = 0.5\n",
    "\n",
    "# Линейная комбинация\n",
    "linear_combination = a* x1 + b*x2\n",
    "\n",
    "# Применяем функцию активации (сигмоид)\n",
    "output = sigmoid(linear_combination) \n",
    "\n",
    "# Выводим результат\n",
    "print(output)\n"
   ]
  },
  {
   "cell_type": "code",
   "execution_count": 19,
   "metadata": {},
   "outputs": [
    {
     "name": "stdout",
     "output_type": "stream",
     "text": [
      "[[-2.  0.  2.]\n",
      " [ 8. 10. 12.]\n",
      " [18. 20. 22.]]\n"
     ]
    }
   ],
   "source": [
    "import numpy as np\n",
    "\n",
    "# создаем исходную матрицу A размером 5x5\n",
    "A = np.array([[1, 2, 3, 4, 5], \n",
    "              [6, 7, 8, 9, 10], \n",
    "              [11, 12, 13, 14, 15], \n",
    "              [16, 17, 18, 19, 20], \n",
    "              [21, 22, 23, 24, 25]])\n",
    "\n",
    "# создаем матрицу фильтра F размером 3x3\n",
    "F = np.array([[1, 2, -1], \n",
    "              [1, 0, -1], \n",
    "              [1, 0, -1]])\n",
    "\n",
    "# определяем размеры матриц A и F\n",
    "height_a, width_a = A.shape\n",
    "height_f, width_f = F.shape\n",
    "\n",
    "# инициализируем выходную матрицу C\n",
    "C = np.zeros((height_a - height_f + 1, width_a-width_f+1) )\n",
    "\n",
    "# проходим по каждой строке матрицы A\n",
    "for i in range(height_a - height_f + 1):\n",
    "    # проходим по каждому столбцу матрицы A\n",
    "    for j in range(width_a-width_f+1):\n",
    "        \n",
    "        # суммируем результаты умножения, чтобы получить новое значение в выходной матрице C\n",
    "        C[i, j] = np.sum(A[i:i+3,j:j+3]*F)\n",
    "\n",
    "print(C)\n"
   ]
  },
  {
   "cell_type": "code",
   "execution_count": 31,
   "metadata": {},
   "outputs": [
    {
     "name": "stdout",
     "output_type": "stream",
     "text": [
      "1.1\n"
     ]
    }
   ],
   "source": [
    "# Создаем искусственные данные\n",
    "import numpy as np\n",
    "np.random.seed(42)\n",
    "\n",
    "X = np.random.randn(100, 5)  # матрица 100x5\n",
    "\n",
    "# Определяем архитектуру нейронной сети\n",
    "input_size = 5\n",
    "hidden_size = 3\n",
    "output_size = 1\n",
    "\n",
    "# Инициализируем веса случайным образом\n",
    "W1 = np.random.randn(5, 3)  # матрица весов 5x3\n",
    "W2 = np.random.randn(3, 1)  # матрица весов 3x1\n",
    "\n",
    "# Определяем функцию активации\n",
    "def sigmoid(x):\n",
    "\n",
    "    return 1/(1+np.exp(-x))\n",
    "\n",
    "# Прямой проход по нейронной сети\n",
    "hidden_layer = sigmoid(np.dot(X , W1))  # скрытый слой\n",
    "output_layer = np.dot(hidden_layer, W2)  # выходной слой\n",
    "\n",
    "# Вычисляем среднеквадратичную ошибку\n",
    "y_true = np.random.randn(100, 1)  # реальные значения\n",
    "mse = round(np.mean((y_true - output_layer)**2), 1)\n",
    "\n",
    "print(mse) \n"
   ]
  },
  {
   "cell_type": "code",
   "execution_count": 1,
   "metadata": {},
   "outputs": [],
   "source": [
    "def par_checker(string):\n",
    "    stack = [] # инициализируем стек\n",
    "    \n",
    "    for s in string: # читаем строку посимвольно\n",
    "        if s == \"(\": # если открывающая скобка, \n",
    "            stack.append(s) # добавляем её в стек\n",
    "        elif s == \")\": \n",
    "            # если встретилась закрывающая скобка, то проверяем\n",
    "            # пуст ли стек и является ли верхний элемент — открывающей скобкой\n",
    "            if len(stack) > 0 and stack[-1] == \"(\":\n",
    "                stack.pop() # удаляем из стека\n",
    "            else: # иначе завершаем функцию с False\n",
    "                return False\n",
    "    # если стек пустой, то незакрытых скобок не осталось\n",
    "    # значит, возвращаем True, иначе — False\n",
    "    return len(stack) == 0 "
   ]
  },
  {
   "cell_type": "code",
   "execution_count": 2,
   "metadata": {},
   "outputs": [],
   "source": [
    "x = \"(5+6)*(7+8)/(4+3)\""
   ]
  },
  {
   "cell_type": "code",
   "execution_count": 3,
   "metadata": {},
   "outputs": [
    {
     "data": {
      "text/plain": [
       "True"
      ]
     },
     "execution_count": 3,
     "metadata": {},
     "output_type": "execute_result"
    }
   ],
   "source": [
    "par_checker(x)"
   ]
  },
  {
   "cell_type": "code",
   "execution_count": 1,
   "metadata": {},
   "outputs": [],
   "source": [
    "import numpy as np"
   ]
  },
  {
   "cell_type": "code",
   "execution_count": 15,
   "metadata": {},
   "outputs": [
    {
     "data": {
      "text/plain": [
       "array([2, 5, 4, 1, 8, 3])"
      ]
     },
     "execution_count": 15,
     "metadata": {},
     "output_type": "execute_result"
    }
   ],
   "source": [
    "permutation = np.random.permutation(range(10))  # Перемешиваем числа\n",
    "random_integers = permutation[:6] \n",
    "random_integers"
   ]
  },
  {
   "cell_type": "code",
   "execution_count": null,
   "metadata": {},
   "outputs": [],
   "source": []
  },
  {
   "cell_type": "code",
   "execution_count": 1,
   "metadata": {},
   "outputs": [
    {
     "ename": "OSError",
     "evalue": "cannot load library 'libvips.42.dylib': dlopen(libvips.42.dylib, 0x0002): tried: 'libvips.42.dylib' (no such file), '/System/Volumes/Preboot/Cryptexes/OSlibvips.42.dylib' (no such file), '/usr/lib/libvips.42.dylib' (no such file, not in dyld cache), 'libvips.42.dylib' (no such file), '/usr/lib/libvips.42.dylib' (no such file, not in dyld cache).  Additionally, ctypes.util.find_library() did not manage to locate a library called 'libvips.42.dylib'",
     "output_type": "error",
     "traceback": [
      "\u001b[0;31m---------------------------------------------------------------------------\u001b[0m",
      "\u001b[0;31mModuleNotFoundError\u001b[0m                       Traceback (most recent call last)",
      "File \u001b[0;32m/Library/Frameworks/Python.framework/Versions/3.11/lib/python3.11/site-packages/pyvips/__init__.py:19\u001b[0m\n\u001b[1;32m     18\u001b[0m \u001b[38;5;28;01mtry\u001b[39;00m:\n\u001b[0;32m---> 19\u001b[0m     \u001b[38;5;28;01mimport\u001b[39;00m \u001b[38;5;21;01m_libvips\u001b[39;00m\n\u001b[1;32m     21\u001b[0m     logger\u001b[38;5;241m.\u001b[39mdebug(\u001b[38;5;124m'\u001b[39m\u001b[38;5;124mLoaded binary module _libvips\u001b[39m\u001b[38;5;124m'\u001b[39m)\n",
      "\u001b[0;31mModuleNotFoundError\u001b[0m: No module named '_libvips'",
      "\nDuring handling of the above exception, another exception occurred:\n",
      "\u001b[0;31mOSError\u001b[0m                                   Traceback (most recent call last)",
      "Cell \u001b[0;32mIn[1], line 1\u001b[0m\n\u001b[0;32m----> 1\u001b[0m \u001b[38;5;28;01mimport\u001b[39;00m \u001b[38;5;21;01mpyvips\u001b[39;00m\n\u001b[1;32m      3\u001b[0m image \u001b[38;5;241m=\u001b[39m pyvips\u001b[38;5;241m.\u001b[39mImage\u001b[38;5;241m.\u001b[39mnew_from_file(\u001b[38;5;124m\"\u001b[39m\u001b[38;5;124mlast.onnx.svg\u001b[39m\u001b[38;5;124m\"\u001b[39m, dpi\u001b[38;5;241m=\u001b[39m\u001b[38;5;241m300\u001b[39m)\n\u001b[1;32m      4\u001b[0m image\u001b[38;5;241m.\u001b[39mwrite_to_file(\u001b[38;5;124m\"\u001b[39m\u001b[38;5;124mmodel.png\u001b[39m\u001b[38;5;124m\"\u001b[39m)\n",
      "File \u001b[0;32m/Library/Frameworks/Python.framework/Versions/3.11/lib/python3.11/site-packages/pyvips/__init__.py:59\u001b[0m\n\u001b[1;32m     57\u001b[0m     vips_lib \u001b[38;5;241m=\u001b[39m ffi\u001b[38;5;241m.\u001b[39mdlopen(\u001b[38;5;124m'\u001b[39m\u001b[38;5;124mlibvips-42.dll\u001b[39m\u001b[38;5;124m'\u001b[39m)\n\u001b[1;32m     58\u001b[0m \u001b[38;5;28;01melif\u001b[39;00m _is_mac:\n\u001b[0;32m---> 59\u001b[0m     vips_lib \u001b[38;5;241m=\u001b[39m \u001b[43mffi\u001b[49m\u001b[38;5;241;43m.\u001b[39;49m\u001b[43mdlopen\u001b[49m\u001b[43m(\u001b[49m\u001b[38;5;124;43m'\u001b[39;49m\u001b[38;5;124;43mlibvips.42.dylib\u001b[39;49m\u001b[38;5;124;43m'\u001b[39;49m\u001b[43m)\u001b[49m\n\u001b[1;32m     60\u001b[0m \u001b[38;5;28;01melse\u001b[39;00m:\n\u001b[1;32m     61\u001b[0m     vips_lib \u001b[38;5;241m=\u001b[39m ffi\u001b[38;5;241m.\u001b[39mdlopen(\u001b[38;5;124m'\u001b[39m\u001b[38;5;124mlibvips.so.42\u001b[39m\u001b[38;5;124m'\u001b[39m)\n",
      "File \u001b[0;32m/Library/Frameworks/Python.framework/Versions/3.11/lib/python3.11/site-packages/cffi/api.py:150\u001b[0m, in \u001b[0;36mFFI.dlopen\u001b[0;34m(self, name, flags)\u001b[0m\n\u001b[1;32m    147\u001b[0m     \u001b[38;5;28;01mraise\u001b[39;00m \u001b[38;5;167;01mTypeError\u001b[39;00m(\u001b[38;5;124m\"\u001b[39m\u001b[38;5;124mdlopen(name): name must be a file name, None, \u001b[39m\u001b[38;5;124m\"\u001b[39m\n\u001b[1;32m    148\u001b[0m                     \u001b[38;5;124m\"\u001b[39m\u001b[38;5;124mor an already-opened \u001b[39m\u001b[38;5;124m'\u001b[39m\u001b[38;5;124mvoid *\u001b[39m\u001b[38;5;124m'\u001b[39m\u001b[38;5;124m handle\u001b[39m\u001b[38;5;124m\"\u001b[39m)\n\u001b[1;32m    149\u001b[0m \u001b[38;5;28;01mwith\u001b[39;00m \u001b[38;5;28mself\u001b[39m\u001b[38;5;241m.\u001b[39m_lock:\n\u001b[0;32m--> 150\u001b[0m     lib, function_cache \u001b[38;5;241m=\u001b[39m \u001b[43m_make_ffi_library\u001b[49m\u001b[43m(\u001b[49m\u001b[38;5;28;43mself\u001b[39;49m\u001b[43m,\u001b[49m\u001b[43m \u001b[49m\u001b[43mname\u001b[49m\u001b[43m,\u001b[49m\u001b[43m \u001b[49m\u001b[43mflags\u001b[49m\u001b[43m)\u001b[49m\n\u001b[1;32m    151\u001b[0m     \u001b[38;5;28mself\u001b[39m\u001b[38;5;241m.\u001b[39m_function_caches\u001b[38;5;241m.\u001b[39mappend(function_cache)\n\u001b[1;32m    152\u001b[0m     \u001b[38;5;28mself\u001b[39m\u001b[38;5;241m.\u001b[39m_libraries\u001b[38;5;241m.\u001b[39mappend(lib)\n",
      "File \u001b[0;32m/Library/Frameworks/Python.framework/Versions/3.11/lib/python3.11/site-packages/cffi/api.py:832\u001b[0m, in \u001b[0;36m_make_ffi_library\u001b[0;34m(ffi, libname, flags)\u001b[0m\n\u001b[1;32m    830\u001b[0m \u001b[38;5;28;01mdef\u001b[39;00m \u001b[38;5;21m_make_ffi_library\u001b[39m(ffi, libname, flags):\n\u001b[1;32m    831\u001b[0m     backend \u001b[38;5;241m=\u001b[39m ffi\u001b[38;5;241m.\u001b[39m_backend\n\u001b[0;32m--> 832\u001b[0m     backendlib \u001b[38;5;241m=\u001b[39m \u001b[43m_load_backend_lib\u001b[49m\u001b[43m(\u001b[49m\u001b[43mbackend\u001b[49m\u001b[43m,\u001b[49m\u001b[43m \u001b[49m\u001b[43mlibname\u001b[49m\u001b[43m,\u001b[49m\u001b[43m \u001b[49m\u001b[43mflags\u001b[49m\u001b[43m)\u001b[49m\n\u001b[1;32m    833\u001b[0m     \u001b[38;5;66;03m#\u001b[39;00m\n\u001b[1;32m    834\u001b[0m     \u001b[38;5;28;01mdef\u001b[39;00m \u001b[38;5;21maccessor_function\u001b[39m(name):\n",
      "File \u001b[0;32m/Library/Frameworks/Python.framework/Versions/3.11/lib/python3.11/site-packages/cffi/api.py:827\u001b[0m, in \u001b[0;36m_load_backend_lib\u001b[0;34m(backend, name, flags)\u001b[0m\n\u001b[1;32m    825\u001b[0m     \u001b[38;5;28;01mif\u001b[39;00m first_error \u001b[38;5;129;01mis\u001b[39;00m \u001b[38;5;129;01mnot\u001b[39;00m \u001b[38;5;28;01mNone\u001b[39;00m:\n\u001b[1;32m    826\u001b[0m         msg \u001b[38;5;241m=\u001b[39m \u001b[38;5;124m\"\u001b[39m\u001b[38;5;132;01m%s\u001b[39;00m\u001b[38;5;124m.  Additionally, \u001b[39m\u001b[38;5;132;01m%s\u001b[39;00m\u001b[38;5;124m\"\u001b[39m \u001b[38;5;241m%\u001b[39m (first_error, msg)\n\u001b[0;32m--> 827\u001b[0m     \u001b[38;5;28;01mraise\u001b[39;00m \u001b[38;5;167;01mOSError\u001b[39;00m(msg)\n\u001b[1;32m    828\u001b[0m \u001b[38;5;28;01mreturn\u001b[39;00m backend\u001b[38;5;241m.\u001b[39mload_library(path, flags)\n",
      "\u001b[0;31mOSError\u001b[0m: cannot load library 'libvips.42.dylib': dlopen(libvips.42.dylib, 0x0002): tried: 'libvips.42.dylib' (no such file), '/System/Volumes/Preboot/Cryptexes/OSlibvips.42.dylib' (no such file), '/usr/lib/libvips.42.dylib' (no such file, not in dyld cache), 'libvips.42.dylib' (no such file), '/usr/lib/libvips.42.dylib' (no such file, not in dyld cache).  Additionally, ctypes.util.find_library() did not manage to locate a library called 'libvips.42.dylib'"
     ]
    }
   ],
   "source": [
    "import pyvips\n",
    "\n",
    "image = pyvips.Image.new_from_file(\"last.onnx.svg\", dpi=300)\n",
    "image.write_to_file(\"model.png\")"
   ]
  },
  {
   "cell_type": "code",
   "execution_count": null,
   "metadata": {},
   "outputs": [
    {
     "name": "stdout",
     "output_type": "stream",
     "text": [
      "Задача №1 добавлена\n",
      "Задача №2 добавлена\n",
      "Задача №3 добавлена\n",
      "Задача №4 добавлена\n",
      "Задача №1 выполнена\n",
      "Задача №2 выполнена\n",
      "Задача №5 добавлена\n",
      "Задача №6 добавлена\n",
      "Задача №3 выполнена\n",
      "Задача №7 добавлена\n",
      "Задача №4 выполнена\n",
      "Задача №5 выполнена\n",
      "Задача №8 добавлена\n",
      "Задача №9 добавлена\n",
      "Задача №10 добавлена\n",
      "Задача №6 выполнена\n",
      "Введена неверная команда\n",
      "Введена неверная команда\n",
      "Введена неверная команда\n",
      "Введена неверная команда\n",
      "Введена неверная команда\n",
      "Введена неверная команда\n",
      "Введена неверная команда\n",
      "Введена неверная команда\n",
      "Введена неверная команда\n",
      "Введена неверная команда\n",
      "Введена неверная команда\n",
      "Введена неверная команда\n",
      "Введена неверная команда\n",
      "Введена неверная команда\n",
      "Введена неверная команда\n",
      "Введена неверная команда\n",
      "Введена неверная команда\n"
     ]
    },
    {
     "ename": "",
     "evalue": "",
     "output_type": "error",
     "traceback": [
      "\u001b[1;31mThe Kernel crashed while executing code in the current cell or a previous cell. \n",
      "\u001b[1;31mPlease review the code in the cell(s) to identify a possible cause of the failure. \n",
      "\u001b[1;31mClick <a href='https://aka.ms/vscodeJupyterKernelCrash'>here</a> for more info. \n",
      "\u001b[1;31mView Jupyter <a href='command:jupyter.viewOutput'>log</a> for further details."
     ]
    }
   ],
   "source": [
    "N_max = int(input(\"Определите размер очереди:\"))\n",
    "\n",
    "queue = [0 for _ in range(N_max)]  # инициализируем список с нулевыми элементами\n",
    "order = 0  # будем хранить сквозной номер задачи\n",
    "head = 0  # указатель на начало очереди\n",
    "tail = 0  # указатель на элемент следующий за концом очереди\n",
    "\n",
    "\n",
    "def is_empty():  # очередь пуста?\n",
    "    # да, если указатели совпадают и в них содержится ноль\n",
    "    return head == tail and queue[head] == 0\n",
    "\n",
    "\n",
    "def size():  # получаем размер очереди\n",
    "    if is_empty():  # если она пуста\n",
    "        return 0  # возвращаем ноль\n",
    "    elif head == tail:  # иначе, если очередь не пуста, но указатели совпадают\n",
    "        return N_max  # значит очередь заполнена\n",
    "    elif head > tail:  # если хвост очереди сместился в начало списка\n",
    "        return N_max - head + tail\n",
    "    else:  # или если хвост стоит правее начала\n",
    "        return tail - head\n",
    "\n",
    "\n",
    "def add():  # добавляем задачу в очередь\n",
    "    global tail, order\n",
    "    order += 1  # увеличиваем порядковый номер задачи\n",
    "    queue[tail] = order  # добавляем его в очередь\n",
    "    print(\"Задача №%d добавлена\" % (queue[tail]))\n",
    "\n",
    "    # увеличиваем указатель на 1 по модулю максимального числа элементов\n",
    "    # для зацикливания очереди в списке\n",
    "    tail = (tail + 1) % N_max\n",
    "\n",
    "\n",
    "def show():  # выводим приоритетную задачу\n",
    "    print(\"Задача №%d в приоритете\" % (queue[head]))\n",
    "\n",
    "\n",
    "def do():  # выполняем приоритетную задачу\n",
    "    global head\n",
    "    print(\"Задача №%d выполнена\" % (queue[head]))\n",
    "    queue[head] = 0  # после выполнения зануляем элемент по указателю\n",
    "    head = (head + 1) % N_max  # и циклично перемещаем указатель\n",
    "\n",
    "\n",
    "cmd = [\n",
    "    add(),\n",
    "    add(),\n",
    "    add(),\n",
    "    add(),\n",
    "    do(),\n",
    "    do(),\n",
    "    add(),\n",
    "    add(),\n",
    "    do(),\n",
    "    add(),\n",
    "    do(),\n",
    "    do(),\n",
    "    add(),\n",
    "    add(),\n",
    "    add(),\n",
    "    do(),\n",
    "    exit(),\n",
    "]\n",
    "for i in cmd:\n",
    "# while True:\n",
    "    # cmd = input(\"Введите команду:\")\n",
    "\n",
    "    if cmd == \"empty\":\n",
    "        if is_empty():\n",
    "            print(\"Очередь пустая\")\n",
    "        else:\n",
    "            print(\"В очереди есть задачи\")\n",
    "    elif cmd == \"size\":\n",
    "        print(\"Количество задач в очереди:\", size())\n",
    "    elif cmd == \"add\":\n",
    "        if size() != N_max:\n",
    "            add()\n",
    "        else:\n",
    "            print(\"Очередь переполнена\")\n",
    "    elif cmd == \"show\":\n",
    "        if is_empty():\n",
    "            print(\"Очередь пустая\")\n",
    "        else:\n",
    "            show()\n",
    "    elif cmd == \"do\":\n",
    "        if is_empty():\n",
    "            print(\"Очередь пустая\")\n",
    "        else:\n",
    "            do()\n",
    "    elif cmd == \"exit\":\n",
    "        for _ in range(size()):\n",
    "            do()\n",
    "        print(\"Очередь пустая. Завершение работы\")\n",
    "        break\n",
    "    else:\n",
    "        print(\"Введена неверная команда\")"
   ]
  },
  {
   "cell_type": "code",
   "execution_count": 1,
   "metadata": {},
   "outputs": [],
   "source": [
    "G = {\"Адмиралтейская\" : \n",
    "         {\"Садовая\" : 4},\n",
    "     \"Садовая\" : \n",
    "         {\"Сенная площадь\" : 3, \n",
    "          \"Спасская\" : 3, \n",
    "          \"Адмиралтейская\" : 4, \n",
    "          \"Звенигородская\" : 5},\n",
    "     \"Сенная площадь\" : \n",
    "         {\"Садовая\" : 3, \n",
    "          \"Спасская\" : 3},\n",
    "     \"Спасская\" : \n",
    "         {\"Садовая\" : 3, \n",
    "          \"Сенная площадь\" : 3, \n",
    "          \"Достоевская\" : 4},\n",
    "     \"Звенигородская\" : \n",
    "         {\"Пушкинская\" : 3, \n",
    "          \"Садовая\" : 5},\n",
    "     \"Пушкинская\" : \n",
    "         {\"Звенигородская\" : 3, \n",
    "          \"Владимирская\" : 4},\n",
    "     \"Владимирская\" : \n",
    "         {\"Достоевская\" : 3, \n",
    "          \"Пушкинская\" : 4},\n",
    "     \"Достоевская\" : \n",
    "         {\"Владимирская\" : 3, \n",
    "          \"Спасская\" : 4}}"
   ]
  },
  {
   "cell_type": "code",
   "execution_count": 2,
   "metadata": {},
   "outputs": [],
   "source": [
    "D = {k : 100 for k in G.keys()} # расстояния\n",
    "start_k = 'Адмиралтейская' # стартовая вершина\n",
    "D[start_k] = 0 # расстояние от нее до самой себя равно нулю\n",
    "U = {k : False for k in G.keys()} # флаги просмотра вершин\n",
    "P = {k : None for k in G.keys()} # предки\n",
    "\n",
    "for _ in range(len(D)):\n",
    "    # выбираем среди непросмотренных наименьшее по расстоянию\n",
    "    min_k = min([k for k in U.keys() if not U[k]], key = lambda x: D[x])\n",
    "\n",
    "    for v in G[min_k].keys(): # проходимся по всем смежным вершинам\n",
    "         if D[v] > D[min_k] + G[min_k][v]: # если расстояние от текущей вершины меньше\n",
    "            D[v] = D[min_k] + G[min_k][v] # то фиксируем его\n",
    "            P[v] = min_k # и записываем как предок\n",
    "    U[min_k] = True # просмотренную вершину помечаем"
   ]
  },
  {
   "cell_type": "code",
   "execution_count": 4,
   "metadata": {},
   "outputs": [
    {
     "name": "stdout",
     "output_type": "stream",
     "text": [
      "Владимирская\n",
      "Достоевская\n",
      "Спасская\n",
      "Садовая\n",
      "Адмиралтейская\n"
     ]
    }
   ],
   "source": [
    "pointer = \"Владимирская\" # куда должны прийти\n",
    "while pointer is not None: # перемещаемся, пока не придём в стартовую точку\n",
    "    print(pointer)\n",
    "    pointer = P[pointer]"
   ]
  },
  {
   "cell_type": "code",
   "execution_count": 15,
   "metadata": {},
   "outputs": [],
   "source": [
    "class BinaryTree:\n",
    "    def __init__(self, value):\n",
    "        self.value = value\n",
    "        self.left_child = None\n",
    "        self.right_child = None\n",
    "        \n",
    "    def insert_left(self, next_value):\n",
    "        if self.left_child is None:\n",
    "            self.left_child = BinaryTree(next_value)\n",
    "        else:\n",
    "            new_child = BinaryTree(next_value)\n",
    "            new_child.left_child = self.left_child\n",
    "            self.left_child = new_child\n",
    "        return self\n",
    "    \n",
    "    def insert_right(self, next_value):\n",
    "        if self.right_child is None:\n",
    "            self.right_child = BinaryTree(next_value)\n",
    "        else:\n",
    "            new_child = BinaryTree(next_value)\n",
    "            new_child.right_child = self.right_child\n",
    "            self.right_child = new_child\n",
    "        return self\n",
    "    \n",
    "    def pre_order(self):\n",
    "        print(self.value) # процедура обработки\n",
    "\n",
    "        if self.left_child is not None: # если левый потомок существует\n",
    "            self.left_child.pre_order() # рекурсивно вызываем функцию\n",
    "\n",
    "        if self.right_child is not None: # если правый потомок существует\n",
    "            self.right_child.pre_order() # рекурсивно вызываем функцию\n",
    "\n",
    "    def post_order(self):\n",
    "        if self.left_child is not None: # если левый потомок существует\n",
    "            self.left_child.post_order() # рекурсивно вызываем функцию\n",
    "\n",
    "        if self.right_child is not None: # если правый потомок существует\n",
    "            self.right_child.post_order() # рекурсивно вызываем функцию\n",
    "\n",
    "        print(self.value) # процедура обработки"
   ]
  },
  {
   "cell_type": "code",
   "execution_count": 16,
   "metadata": {},
   "outputs": [],
   "source": [
    "# создаём корень и его потомков /7|2|5\\\n",
    "node_root = BinaryTree(2).insert_left(7).insert_right(5)\n",
    "# левое поддерево корня /2|7|6\\\n",
    "node_7 = node_root.left_child.insert_left(2).insert_right(6)\n",
    "# правое поддерево предыдущего узла /5|6|11\\\n",
    "node_6 = node_7.right_child.insert_left(5).insert_right(11)\n",
    "# правое поддерево корня /|5|9\\\n",
    "node_5 = node_root.right_child.insert_right(9)\n",
    "# левое поддерево предыдущего узла корня /4|9|\\\n",
    "node_9 = node_5.right_child.insert_left(4)"
   ]
  },
  {
   "cell_type": "code",
   "execution_count": 17,
   "metadata": {},
   "outputs": [
    {
     "name": "stdout",
     "output_type": "stream",
     "text": [
      "2\n",
      "7\n",
      "2\n",
      "6\n",
      "5\n",
      "11\n",
      "5\n",
      "9\n",
      "4\n"
     ]
    }
   ],
   "source": [
    "node_root.pre_order()"
   ]
  },
  {
   "cell_type": "code",
   "execution_count": 18,
   "metadata": {},
   "outputs": [
    {
     "name": "stdout",
     "output_type": "stream",
     "text": [
      "2\n",
      "5\n",
      "11\n",
      "6\n",
      "7\n",
      "4\n",
      "9\n",
      "5\n",
      "2\n"
     ]
    }
   ],
   "source": [
    "node_root.post_order()"
   ]
  },
  {
   "cell_type": "code",
   "execution_count": 33,
   "metadata": {},
   "outputs": [
    {
     "name": "stdout",
     "output_type": "stream",
     "text": [
      "2 1 5\n",
      "3\n"
     ]
    }
   ],
   "source": [
    "class Node:  # класс элемента\n",
    "    def __init__(self, value=None, next_=None):  # инициализируем\n",
    "        self.value = value  # значением\n",
    "        self.next = next_  # и ссылкой на следующий элемент\n",
    "\n",
    "    def __str__(self):\n",
    "        return \"Node value = \" + str(self.value)\n",
    "\n",
    "\n",
    "class LinkedList:  # класс списка\n",
    "    def __init__(self):  # инициализируем пустым\n",
    "        self.first = None\n",
    "        self.last = None\n",
    "\n",
    "    def clear(self):  # очищаем список\n",
    "        self.__init__()\n",
    "\n",
    "    def __str__(self):  # функция печати\n",
    "        R = \"\"\n",
    "\n",
    "        pointer = self.first  # берем первый указатель\n",
    "        while pointer is not None:  # пока указатель не станет None\n",
    "            R += str(pointer.value)  # добавляем значение в строку\n",
    "            pointer = pointer.next  # идем дальше по указателю\n",
    "            if pointer is not None:  # если он существует добавляем пробел\n",
    "                R += \" \"\n",
    "        return R\n",
    "\n",
    "    def __iter__(self):  # объявляем класс как итератор\n",
    "        self.current = self.first  # в текущий элемент помещаем первый\n",
    "        return self  # возвращаем итератор\n",
    "\n",
    "    def __next__(self):  # метод перехода\n",
    "        if self.current is None:  # если текущий стал последним\n",
    "            raise StopIteration  # вызываем исключение\n",
    "        else:\n",
    "            node = self.current  # сохраняем текущий элемент\n",
    "            self.current = self.current.next  # совершаем переход\n",
    "            return node  # и возвращаем сохраненный\n",
    "\n",
    "    def __len__(self):\n",
    "        count = 0\n",
    "        pointer = self.first\n",
    "        while pointer is not None:\n",
    "            count += 1\n",
    "            pointer = pointer.next\n",
    "        return count\n",
    "\n",
    "    def pushleft(self, value):\n",
    "        if self.first is None:\n",
    "            self.first = Node(value)\n",
    "            self.last = self.first\n",
    "        else:\n",
    "            new_node = Node(value, self.first)\n",
    "            self.first = new_node\n",
    "\n",
    "    def pushright(self, value):\n",
    "        if self.first is None:\n",
    "            self.first = Node(value)\n",
    "            self.last = self.first\n",
    "        else:\n",
    "            new_node = Node(value)\n",
    "            self.last.next = new_node\n",
    "            self.last = new_node\n",
    "\n",
    "    def popleft(self):\n",
    "        if self.first is None:  # если список пустой, возвращаем None\n",
    "            return None\n",
    "        elif self.first == self.last:  # если список содержит только один элемент\n",
    "            node = self.first  # сохраняем его\n",
    "            self.__init__()  # очищаем\n",
    "            return node  # и возвращаем сохраненный элемент\n",
    "        else:\n",
    "            node = self.first  # сохраняем первый элемент\n",
    "            self.first = self.first.next  # меняем указатель на первый элемент\n",
    "            return node  # возвращаем сохраненный\n",
    "\n",
    "    def popright(self):\n",
    "        if self.first is None:  # если список пустой, возвращаем None\n",
    "            return None\n",
    "        elif self.first == self.last:  # если список содержит только один элемент\n",
    "            node = self.first  # сохраняем его\n",
    "            self.__init__()  # очищаем\n",
    "            return node  # и возвращаем сохраненный элемент\n",
    "        else:\n",
    "            node = self.last  # сохраняем последний\n",
    "            pointer = self.first  # создаем указатель\n",
    "            while pointer.next is not node:  # пока не найдем предпоследний\n",
    "                pointer = pointer.next\n",
    "            pointer.next = None  # обнуляем указатели, чтобы\n",
    "            self.last = pointer  # предпоследний стал последним\n",
    "            return node  # возвращаем сохраненный\n",
    "\n",
    "\n",
    "LL = LinkedList()\n",
    "\n",
    "LL.pushright(1)\n",
    "LL.pushleft(2)\n",
    "LL.pushright(3)\n",
    "LL.popright()\n",
    "LL.pushleft(4)\n",
    "LL.pushright(5)\n",
    "LL.popleft()\n",
    "\n",
    "print(LL)  # Печатает содержимое списка\n",
    "print(len(LL))  # Печатает размер списка"
   ]
  },
  {
   "cell_type": "code",
   "execution_count": 48,
   "metadata": {},
   "outputs": [
    {
     "name": "stdout",
     "output_type": "stream",
     "text": [
      "1\n",
      "1\n",
      "1\n",
      "1\n",
      "1\n",
      "1\n",
      "1\n",
      "1\n",
      "1\n",
      "[1, 2, 3, 4, 5, 6, 7, 8, 9] 0\n"
     ]
    }
   ],
   "source": [
    "array = [2, 3, 1, 4, 6, 5, 9, 8, 7]\n",
    "counter = 0\n",
    "for i in range(len(array)): # проходим по всему массиву\n",
    "    idx_min = i # сохраняем индекс предположительно минимального элемента\n",
    "    for j in range(i, len(array)):  \n",
    "        if array[j] < array[idx_min]:\n",
    "            idx_min = j\n",
    "    if i != idx_min: # если индекс не совпадает с минимальным, меняем\n",
    "        array[i], array[idx_min] = array[idx_min], array[i]\n",
    "    print(1)\n",
    "    \n",
    "        \n",
    "print(array, counter)"
   ]
  },
  {
   "cell_type": "code",
   "execution_count": 2,
   "metadata": {},
   "outputs": [
    {
     "data": {
      "text/plain": [
       "1"
      ]
     },
     "execution_count": 2,
     "metadata": {},
     "output_type": "execute_result"
    }
   ],
   "source": [
    "1"
   ]
  },
  {
   "cell_type": "code",
   "execution_count": null,
   "metadata": {},
   "outputs": [],
   "source": []
  }
 ],
 "metadata": {
  "kernelspec": {
   "display_name": "Python 3",
   "language": "python",
   "name": "python3"
  },
  "language_info": {
   "codemirror_mode": {
    "name": "ipython",
    "version": 3
   },
   "file_extension": ".py",
   "mimetype": "text/x-python",
   "name": "python",
   "nbconvert_exporter": "python",
   "pygments_lexer": "ipython3",
   "version": "3.11.7"
  }
 },
 "nbformat": 4,
 "nbformat_minor": 2
}
