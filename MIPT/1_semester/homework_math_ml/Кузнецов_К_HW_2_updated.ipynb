{
 "cells": [
  {
   "cell_type": "markdown",
   "metadata": {
    "id": "NyHIGVhfa_Wf"
   },
   "source": [
    "# Стохастический градиентный и координатный спуски"
   ]
  },
  {
   "cell_type": "markdown",
   "metadata": {
    "id": "gn6lluIADUKa"
   },
   "source": [
    "Для каждого задания указано количество баллов (если они оцениваются отдельно) + 1 балл за аккуратное и полное выполнение всего задания"
   ]
  },
  {
   "cell_type": "markdown",
   "metadata": {
    "id": "txCccYvha_Wv"
   },
   "source": [
    "## Загрузка и подготовка данных"
   ]
  },
  {
   "cell_type": "markdown",
   "metadata": {
    "id": "NbyOzeZ6a_Wx"
   },
   "source": [
    "**Загрузите уже знакомый вам файл *Advertising.csv* как объект DataFrame.** "
   ]
  },
  {
   "cell_type": "code",
   "execution_count": 1,
   "metadata": {},
   "outputs": [],
   "source": [
    "import pandas as pd\n",
    "import numpy as np\n",
    "import matplotlib.pyplot as plt\n",
    "import seaborn as sns"
   ]
  },
  {
   "cell_type": "code",
   "execution_count": 2,
   "metadata": {
    "id": "E1L4_xeDa_Wz"
   },
   "outputs": [
    {
     "data": {
      "text/html": [
       "<div>\n",
       "<style scoped>\n",
       "    .dataframe tbody tr th:only-of-type {\n",
       "        vertical-align: middle;\n",
       "    }\n",
       "\n",
       "    .dataframe tbody tr th {\n",
       "        vertical-align: top;\n",
       "    }\n",
       "\n",
       "    .dataframe thead th {\n",
       "        text-align: right;\n",
       "    }\n",
       "</style>\n",
       "<table border=\"1\" class=\"dataframe\">\n",
       "  <thead>\n",
       "    <tr style=\"text-align: right;\">\n",
       "      <th></th>\n",
       "      <th>TV</th>\n",
       "      <th>radio</th>\n",
       "      <th>newspaper</th>\n",
       "      <th>sales</th>\n",
       "    </tr>\n",
       "  </thead>\n",
       "  <tbody>\n",
       "    <tr>\n",
       "      <th>1</th>\n",
       "      <td>230.1</td>\n",
       "      <td>37.8</td>\n",
       "      <td>69.2</td>\n",
       "      <td>22.1</td>\n",
       "    </tr>\n",
       "    <tr>\n",
       "      <th>2</th>\n",
       "      <td>44.5</td>\n",
       "      <td>39.3</td>\n",
       "      <td>45.1</td>\n",
       "      <td>10.4</td>\n",
       "    </tr>\n",
       "    <tr>\n",
       "      <th>3</th>\n",
       "      <td>17.2</td>\n",
       "      <td>45.9</td>\n",
       "      <td>69.3</td>\n",
       "      <td>9.3</td>\n",
       "    </tr>\n",
       "    <tr>\n",
       "      <th>4</th>\n",
       "      <td>151.5</td>\n",
       "      <td>41.3</td>\n",
       "      <td>58.5</td>\n",
       "      <td>18.5</td>\n",
       "    </tr>\n",
       "    <tr>\n",
       "      <th>5</th>\n",
       "      <td>180.8</td>\n",
       "      <td>10.8</td>\n",
       "      <td>58.4</td>\n",
       "      <td>12.9</td>\n",
       "    </tr>\n",
       "  </tbody>\n",
       "</table>\n",
       "</div>"
      ],
      "text/plain": [
       "      TV  radio  newspaper  sales\n",
       "1  230.1   37.8       69.2   22.1\n",
       "2   44.5   39.3       45.1   10.4\n",
       "3   17.2   45.9       69.3    9.3\n",
       "4  151.5   41.3       58.5   18.5\n",
       "5  180.8   10.8       58.4   12.9"
      ]
     },
     "metadata": {},
     "output_type": "display_data"
    },
    {
     "name": "stdout",
     "output_type": "stream",
     "text": [
      "<class 'pandas.core.frame.DataFrame'>\n",
      "Index: 200 entries, 1 to 200\n",
      "Data columns (total 4 columns):\n",
      " #   Column     Non-Null Count  Dtype  \n",
      "---  ------     --------------  -----  \n",
      " 0   TV         200 non-null    float64\n",
      " 1   radio      200 non-null    float64\n",
      " 2   newspaper  200 non-null    float64\n",
      " 3   sales      200 non-null    float64\n",
      "dtypes: float64(4)\n",
      "memory usage: 7.8 KB\n",
      "               TV       radio   newspaper       sales\n",
      "count  200.000000  200.000000  200.000000  200.000000\n",
      "mean   147.042500   23.264000   30.554000   14.022500\n",
      "std     85.854236   14.846809   21.778621    5.217457\n",
      "min      0.700000    0.000000    0.300000    1.600000\n",
      "25%     74.375000    9.975000   12.750000   10.375000\n",
      "50%    149.750000   22.900000   25.750000   12.900000\n",
      "75%    218.825000   36.525000   45.100000   17.400000\n",
      "max    296.400000   49.600000  114.000000   27.000000 None\n"
     ]
    }
   ],
   "source": [
    "# Загрузка и подготовка данных\n",
    "data = pd.read_csv(\"./data/Advertising.csv\", index_col=0)\n",
    "\n",
    "# Выведем данные по таблице\n",
    "display(data.head())\n",
    "print(data.describe(), data.info())"
   ]
  },
  {
   "cell_type": "markdown",
   "metadata": {},
   "source": [
    "----"
   ]
  },
  {
   "cell_type": "markdown",
   "metadata": {
    "id": "bf4aVFndDUKf"
   },
   "source": [
    "**Проверьте, есть ли в данных пропуски и, если они есть - удалите их**"
   ]
  },
  {
   "cell_type": "code",
   "execution_count": 3,
   "metadata": {
    "id": "tiVeFnR5DUKg"
   },
   "outputs": [
    {
     "name": "stdout",
     "output_type": "stream",
     "text": [
      "TV           0\n",
      "radio        0\n",
      "newspaper    0\n",
      "sales        0\n",
      "dtype: int64\n"
     ]
    }
   ],
   "source": [
    "# Отпринтуем пропуски\n",
    "print(data.isnull().sum())"
   ]
  },
  {
   "cell_type": "markdown",
   "metadata": {},
   "source": [
    "> Пропусков в данных нет, но если посмотреть на статистики на прошлом этапе, можно отметить нулевые значения в столбце радио, проверим их количество и удалим, если они не имеют большого веса в контексте выборки (в этом случае, можно будет предположить, что нулевые значения не являются пропусками, а скорее допустимой характеристикой переменной)"
   ]
  },
  {
   "cell_type": "code",
   "execution_count": 4,
   "metadata": {},
   "outputs": [
    {
     "data": {
      "text/html": [
       "<div>\n",
       "<style scoped>\n",
       "    .dataframe tbody tr th:only-of-type {\n",
       "        vertical-align: middle;\n",
       "    }\n",
       "\n",
       "    .dataframe tbody tr th {\n",
       "        vertical-align: top;\n",
       "    }\n",
       "\n",
       "    .dataframe thead th {\n",
       "        text-align: right;\n",
       "    }\n",
       "</style>\n",
       "<table border=\"1\" class=\"dataframe\">\n",
       "  <thead>\n",
       "    <tr style=\"text-align: right;\">\n",
       "      <th></th>\n",
       "      <th>TV</th>\n",
       "      <th>radio</th>\n",
       "      <th>newspaper</th>\n",
       "      <th>sales</th>\n",
       "    </tr>\n",
       "  </thead>\n",
       "  <tbody>\n",
       "    <tr>\n",
       "      <th>128</th>\n",
       "      <td>80.2</td>\n",
       "      <td>0.0</td>\n",
       "      <td>9.2</td>\n",
       "      <td>8.8</td>\n",
       "    </tr>\n",
       "  </tbody>\n",
       "</table>\n",
       "</div>"
      ],
      "text/plain": [
       "       TV  radio  newspaper  sales\n",
       "128  80.2    0.0        9.2    8.8"
      ]
     },
     "execution_count": 4,
     "metadata": {},
     "output_type": "execute_result"
    }
   ],
   "source": [
    "# Отфильтруем по минимальному-нулевому значению\n",
    "data[data[\"radio\"] == data[\"radio\"].min()]"
   ]
  },
  {
   "cell_type": "markdown",
   "metadata": {},
   "source": [
    "> Как видно нулевое значение наличествует только в 1 строке, что можно рассмотреть как пропуск, удалим его"
   ]
  },
  {
   "cell_type": "code",
   "execution_count": 5,
   "metadata": {},
   "outputs": [
    {
     "data": {
      "text/html": [
       "<div>\n",
       "<style scoped>\n",
       "    .dataframe tbody tr th:only-of-type {\n",
       "        vertical-align: middle;\n",
       "    }\n",
       "\n",
       "    .dataframe tbody tr th {\n",
       "        vertical-align: top;\n",
       "    }\n",
       "\n",
       "    .dataframe thead th {\n",
       "        text-align: right;\n",
       "    }\n",
       "</style>\n",
       "<table border=\"1\" class=\"dataframe\">\n",
       "  <thead>\n",
       "    <tr style=\"text-align: right;\">\n",
       "      <th></th>\n",
       "      <th>TV</th>\n",
       "      <th>radio</th>\n",
       "      <th>newspaper</th>\n",
       "      <th>sales</th>\n",
       "    </tr>\n",
       "  </thead>\n",
       "  <tbody>\n",
       "    <tr>\n",
       "      <th>1</th>\n",
       "      <td>230.1</td>\n",
       "      <td>37.8</td>\n",
       "      <td>69.2</td>\n",
       "      <td>22.1</td>\n",
       "    </tr>\n",
       "    <tr>\n",
       "      <th>2</th>\n",
       "      <td>44.5</td>\n",
       "      <td>39.3</td>\n",
       "      <td>45.1</td>\n",
       "      <td>10.4</td>\n",
       "    </tr>\n",
       "    <tr>\n",
       "      <th>3</th>\n",
       "      <td>17.2</td>\n",
       "      <td>45.9</td>\n",
       "      <td>69.3</td>\n",
       "      <td>9.3</td>\n",
       "    </tr>\n",
       "    <tr>\n",
       "      <th>4</th>\n",
       "      <td>151.5</td>\n",
       "      <td>41.3</td>\n",
       "      <td>58.5</td>\n",
       "      <td>18.5</td>\n",
       "    </tr>\n",
       "    <tr>\n",
       "      <th>5</th>\n",
       "      <td>180.8</td>\n",
       "      <td>10.8</td>\n",
       "      <td>58.4</td>\n",
       "      <td>12.9</td>\n",
       "    </tr>\n",
       "  </tbody>\n",
       "</table>\n",
       "</div>"
      ],
      "text/plain": [
       "      TV  radio  newspaper  sales\n",
       "1  230.1   37.8       69.2   22.1\n",
       "2   44.5   39.3       45.1   10.4\n",
       "3   17.2   45.9       69.3    9.3\n",
       "4  151.5   41.3       58.5   18.5\n",
       "5  180.8   10.8       58.4   12.9"
      ]
     },
     "metadata": {},
     "output_type": "display_data"
    },
    {
     "name": "stdout",
     "output_type": "stream",
     "text": [
      "<class 'pandas.core.frame.DataFrame'>\n",
      "Index: 199 entries, 1 to 200\n",
      "Data columns (total 4 columns):\n",
      " #   Column     Non-Null Count  Dtype  \n",
      "---  ------     --------------  -----  \n",
      " 0   TV         199 non-null    float64\n",
      " 1   radio      199 non-null    float64\n",
      " 2   newspaper  199 non-null    float64\n",
      " 3   sales      199 non-null    float64\n",
      "dtypes: float64(4)\n",
      "memory usage: 7.8 KB\n",
      "               TV       radio   newspaper       sales\n",
      "count  199.000000  199.000000  199.000000  199.000000\n",
      "mean   147.378392   23.380905   30.661307   14.048744\n",
      "std     85.938922   14.791683   21.780479    5.217365\n",
      "min      0.700000    0.300000    0.300000    1.600000\n",
      "25%     74.050000   10.050000   12.850000   10.400000\n",
      "50%    149.800000   23.300000   25.900000   12.900000\n",
      "75%    219.150000   36.550000   45.100000   17.400000\n",
      "max    296.400000   49.600000  114.000000   27.000000 None\n"
     ]
    }
   ],
   "source": [
    "# Вырежем через фильтрацию\n",
    "data = data[data[\"radio\"] != data[\"radio\"].min()]\n",
    "\n",
    "# Посмотрим на полученный результат\n",
    "display(data.head())\n",
    "print(data.describe(), data.info())"
   ]
  },
  {
   "cell_type": "markdown",
   "metadata": {},
   "source": [
    "> Нулевые и пропущенные значения отсутсвуют. Задача выполнена.\n",
    "___"
   ]
  },
  {
   "cell_type": "markdown",
   "metadata": {
    "id": "rTkiqPr_DUKh"
   },
   "source": [
    "**Преобразуйте ваши признаки в массивы NumPy и разделите их на переменные X (предикторы) и y(целевая переменная)** "
   ]
  },
  {
   "cell_type": "code",
   "execution_count": 6,
   "metadata": {
    "id": "R9OHIRB3a_Xa"
   },
   "outputs": [],
   "source": [
    "# ваш код\n",
    "X = np.array(data.drop(columns=[\"sales\"], axis=1))\n",
    "y = np.array(data[\"sales\"])"
   ]
  },
  {
   "cell_type": "markdown",
   "metadata": {
    "id": "KCvjSoHEDUKo"
   },
   "source": [
    "## Координатный спуск (3 балла)"
   ]
  },
  {
   "cell_type": "markdown",
   "metadata": {
    "id": "yjNm8dATDUKq"
   },
   "source": [
    "**Добавим единичный столбец для того, чтобы у нас был свободный коэффициент в уравнении регрессии:**"
   ]
  },
  {
   "cell_type": "code",
   "execution_count": 7,
   "metadata": {
    "id": "LMgq0fmKDUKr"
   },
   "outputs": [],
   "source": [
    "X = np.hstack([np.ones(X.shape[0]).reshape(-1, 1), X])"
   ]
  },
  {
   "cell_type": "markdown",
   "metadata": {
    "id": "R008OQwcDUKt"
   },
   "source": [
    "**Нормализуем данные: обычно это необходимо для корректной работы алгоритма**"
   ]
  },
  {
   "cell_type": "code",
   "execution_count": 8,
   "metadata": {
    "id": "2Sk7Wx-SDUKt"
   },
   "outputs": [],
   "source": [
    "X = X / np.sqrt(np.sum(np.square(X), axis=0))"
   ]
  },
  {
   "cell_type": "markdown",
   "metadata": {
    "id": "F_pHHbAdDUKu"
   },
   "source": [
    "**Реализуйте алгоритм координатного спуска:** (3 балла)\n",
    "\n",
    "Ниже приведен алгоритм:"
   ]
  },
  {
   "cell_type": "markdown",
   "metadata": {
    "id": "jBQ8vT5UDUKu"
   },
   "source": [
    "<a href=\"https://ibb.co/Th3BQFn\"><img src=\"https://i.ibb.co/DK2DBS6/zascas.jpg\" alt=\"zascas\" border=\"0\"></a>"
   ]
  },
  {
   "cell_type": "markdown",
   "metadata": {
    "id": "5ce_yM20DUKv"
   },
   "source": [
    "Примечание: 1000 итераций здесь указаны для этого задания, на самом деле их может быть намного больше, нет детерменированного значения."
   ]
  },
  {
   "cell_type": "markdown",
   "metadata": {
    "id": "y3IdiHm9DUKv"
   },
   "source": [
    "Вам необходимо реализовать координатный спуск, и вывести веса в модели линейной регрессии."
   ]
  },
  {
   "cell_type": "code",
   "execution_count": 9,
   "metadata": {},
   "outputs": [
    {
     "name": "stdout",
     "output_type": "stream",
     "text": [
      "[ 40.6711837  110.28460324  73.93424192  -0.42416681]\n"
     ]
    }
   ],
   "source": [
    "# Исправленный код алгоритма, приведенного в задании\n",
    "w = np.zeros(X.shape[1])\n",
    "iterations = 1000\n",
    "\n",
    "for iteration in range(iterations):\n",
    "    r = y - np.dot(X, w)  # Вычисляем остатки\n",
    "\n",
    "    for j in range(X.shape[1]):\n",
    "        # Вычисляем остаток без j-го веса\n",
    "        r_j_prev = r + X[:, j] * w[j]\n",
    "        # Обновляем вес w[j]\n",
    "        w[j] = np.dot(X[:, j], r_j_prev)\n",
    "        # Обновляем остатки\n",
    "        r = r_j_prev - X[:, j] * w[j]\n",
    "\n",
    "print(w)"
   ]
  },
  {
   "cell_type": "markdown",
   "metadata": {
    "id": "a3jG-7UADUKx"
   },
   "source": [
    "Сравните результаты с реализацией линейной регрессии из библиотеки sklearn:"
   ]
  },
  {
   "cell_type": "code",
   "execution_count": 10,
   "metadata": {
    "id": "SBl-1Yb5DUKy"
   },
   "outputs": [
    {
     "name": "stdout",
     "output_type": "stream",
     "text": [
      "[ 40.6711837  110.28460324  73.93424192  -0.42416681]\n"
     ]
    }
   ],
   "source": [
    "from sklearn.linear_model import LinearRegression\n",
    "\n",
    "model = LinearRegression(fit_intercept=False)\n",
    "model.fit(X, y)\n",
    "\n",
    "print(model.coef_)"
   ]
  },
  {
   "cell_type": "markdown",
   "metadata": {
    "id": "hIl0AGLyDUKy"
   },
   "source": [
    "Если вы все сделали верно, они должны практически совпасть!"
   ]
  },
  {
   "cell_type": "markdown",
   "metadata": {},
   "source": [
    "> Результаты идентичны"
   ]
  },
  {
   "cell_type": "markdown",
   "metadata": {},
   "source": [
    "----"
   ]
  },
  {
   "cell_type": "markdown",
   "metadata": {
    "id": "VCGwFnPdDUKz"
   },
   "source": [
    "## Стохастический градиентный спуск (6 баллов)"
   ]
  },
  {
   "cell_type": "markdown",
   "metadata": {
    "id": "5u7Q2YJla_Xk"
   },
   "source": [
    "**Отмасштабируйте столбцы исходной матрицы *X* (которую мы еще не нормализовали). Для того, чтобы это сделать, надо вычесть из каждого значения среднее и разделить на стандартное отклонение** (0.5 баллов)"
   ]
  },
  {
   "cell_type": "code",
   "execution_count": 11,
   "metadata": {
    "id": "9cEpV_5La_Xo"
   },
   "outputs": [],
   "source": [
    "# Реинициализируем наше добро\n",
    "X = np.array(data.drop(columns=[\"sales\"], axis=1))\n",
    "y = np.array(data[\"sales\"])"
   ]
  },
  {
   "cell_type": "code",
   "execution_count": 12,
   "metadata": {},
   "outputs": [],
   "source": [
    "# Нормируем\n",
    "def normalize(X):\n",
    "    \"\"\"Нормализует матрицу признаков.\n",
    "\n",
    "    Args:\n",
    "        X (numpy array): Данные, которые необходимо нормализовать.\n",
    "\n",
    "    Returns:\n",
    "        numpy array: Нормализованные данные.\n",
    "    \"\"\"\n",
    "    mean = np.mean(X, axis=0)\n",
    "    std = np.std(X, axis=0)\n",
    "\n",
    "    # Проверка на ноль\n",
    "    std[std == 0] = 1\n",
    "\n",
    "    return (X - mean) / std\n",
    "\n",
    "\n",
    "X_norm = normalize(X)"
   ]
  },
  {
   "cell_type": "markdown",
   "metadata": {
    "id": "8WkNYILHDUK1"
   },
   "source": [
    "**Добавим единичный столбец**"
   ]
  },
  {
   "cell_type": "code",
   "execution_count": 13,
   "metadata": {
    "id": "EVl5tEGtDUK1"
   },
   "outputs": [],
   "source": [
    "X_norm = np.hstack([np.ones(X_norm.shape[0]).reshape(-1, 1), X_norm])"
   ]
  },
  {
   "cell_type": "markdown",
   "metadata": {
    "id": "m53tZA5fDUK1"
   },
   "source": [
    "**Создайте функцию mse_error для вычисления среднеквадратичной ошибки, принимающую два аргумента: реальные значения и предсказывающие, и возвращающую значение mse** (0.5 балла)"
   ]
  },
  {
   "cell_type": "code",
   "execution_count": 14,
   "metadata": {
    "id": "0cvtC08Aa_YK"
   },
   "outputs": [],
   "source": [
    "# Функция MSE\n",
    "def mse_error(y_test, y_pred, round_n=3):\n",
    "    \"\"\"Вычисляет среднеквадратическую ошибку (MSE).\n",
    "\n",
    "    Args:\n",
    "        y_test (numpy array): Истинные целевые значения.\n",
    "        y_pred (numpy array): Предсказанные значения.\n",
    "        round_n (int): Количество знаков после запятой для округления.\n",
    "\n",
    "    Returns:\n",
    "        float: Значение MSE, округленное до указанного количества знаков.\n",
    "    \"\"\"\n",
    "    mse = np.mean(np.square(y_test - y_pred))\n",
    "    return np.round(mse, round_n)"
   ]
  },
  {
   "cell_type": "markdown",
   "metadata": {
    "id": "lpOLhdvBDUK2"
   },
   "source": [
    "**Сделайте наивный прогноз: предскажите продажи средним значением. После этого рассчитайте среднеквадратичную ошибку для этого прогноза** (0.5 балла)"
   ]
  },
  {
   "cell_type": "code",
   "execution_count": 15,
   "metadata": {
    "id": "kLV_XljVa_YZ"
   },
   "outputs": [
    {
     "name": "stdout",
     "output_type": "stream",
     "text": [
      "MSE на прогнозе средним: 27.084\n"
     ]
    }
   ],
   "source": [
    "# Формируем прогноз на основе прокидывания среднего значения\n",
    "y_mean = np.mean(y)  # Вычисляем среднее значение\n",
    "y_pred_mean = np.full_like(\n",
    "    y, y_mean\n",
    ")  # Создаем массив формы y, заполенный средним значением\n",
    "mse_err = mse_error(y, y_pred_mean)\n",
    "print(f\"MSE на прогнозе средним: {mse_err}\")"
   ]
  },
  {
   "cell_type": "markdown",
   "metadata": {
    "id": "BbybL2ola_ZM"
   },
   "source": [
    "**Создайте функцию *lin_pred*, которая может по матрице предикторов *X* и вектору весов линейной модели *w* получить вектор прогнозов** (0.5 балла)"
   ]
  },
  {
   "cell_type": "code",
   "execution_count": 16,
   "metadata": {
    "id": "1Cyz-Luaa_ZO"
   },
   "outputs": [],
   "source": [
    "# Функция предсказания\n",
    "def lin_pred(X, w):\n",
    "    \"\"\"Предсказания с помощью модели линейной регрессии.\n",
    "\n",
    "    Args:\n",
    "        X (numpy array): Массив признаков.\n",
    "        w (numpy array): Веса модели.\n",
    "\n",
    "    Returns:\n",
    "        numpy array: Предсказанные значения.\n",
    "    \"\"\"\n",
    "    return np.dot(X, w)"
   ]
  },
  {
   "cell_type": "markdown",
   "metadata": {
    "id": "BU4adBrya_Zm"
   },
   "source": [
    "**Создайте функцию *stoch_grad_step* для реализации шага стохастического градиентного спуска. (1.5 балла) \n",
    "Функция должна принимать на вход следующие аргументы:**\n",
    "* матрицу *X*\n",
    "* вектора *y* и *w*\n",
    "* число *train_ind* - индекс объекта обучающей выборки (строки матрицы *X*), по которому считается изменение весов\n",
    "* число *$\\eta$* (eta) - шаг градиентного спуска\n",
    "\n",
    "Результатом будет вектор обновленных весов"
   ]
  },
  {
   "cell_type": "markdown",
   "metadata": {
    "id": "dyLY-P02DUK5"
   },
   "source": [
    "Шаг для стохастического градиентного спуска выглядит следующим образом:"
   ]
  },
  {
   "cell_type": "markdown",
   "metadata": {
    "id": "ORsAyIKNDUK5"
   },
   "source": [
    "$$\\Large w_j \\leftarrow w_j - \\frac{2\\eta}{\\ell} \\sum_{i=1}^\\ell{{x_{ij}((w_0 + w_1x_{i1} + w_2x_{i2} +  w_3x_{i3}) - y_i)}}$$"
   ]
  },
  {
   "cell_type": "markdown",
   "metadata": {
    "id": "CQl2FrpuDUK6"
   },
   "source": [
    "Для того, чтобы написать функцию, нужно сделать следующее:\n",
    "    \n",
    "*  посчитать направление изменения: умножить объект обучающей выборки на 2 и на разницу между предсказанным значением и реальным, а потом поделить на количество элементов в выборке.\n",
    "* вернуть разницу между вектором весов и направлением изменения, умноженным на шаг градиентного спуска"
   ]
  },
  {
   "cell_type": "code",
   "execution_count": 17,
   "metadata": {},
   "outputs": [],
   "source": [
    "# Функция шага градиента с SGD\n",
    "def stoch_grad_step(X, y, w, train_ind, intercept_perm, intercept_norm, eta=0.1):\n",
    "    \"\"\"Выполняет один шаг градиентного спуска.\n",
    "\n",
    "    Args:\n",
    "        X (numpy array): Матрица признаков размерности (m, n), где m - количество примеров, \n",
    "                         а n - количество признаков. Каждая строка соответствует отдельному примеру.\n",
    "        y (numpy array): Вектор целевых переменных размерности (m,), \n",
    "                         содержащий истинные значения для каждого примера.\n",
    "        w (numpy array): Вектор весов модели размерности (n,), который будет обновлен \n",
    "                         на основе ошибки предсказания.\n",
    "        train_ind (int): Индекс выбранного примера из обучающей выборки, \n",
    "                         используемый для обновления весов.\n",
    "        intercept_perm (bool): Указывает, должен ли свободный член (bias) \n",
    "                               оставаться постоянным или должен быть откорректирован по формуле выще.\n",
    "        intercept_norm (bool): Указывает, нужно ли нормализовать обновление \n",
    "                               свободного члена (bias) по количеству примеров.\n",
    "        eta (float): Шаг градиента (темп обучения), определяющий размер изменения весов \n",
    "                     в ответ на ошибку.\n",
    "\n",
    "    Returns:\n",
    "        numpy array: Обновленный вектор весов после выполнения шага градиентного спуска.\n",
    "    \"\"\"\n",
    "    x_i = X[train_ind]  # Получение текущей строки\n",
    "    y_i = y[train_ind]  # Получение целевого значения\n",
    "\n",
    "    # Предсказание и ошибка\n",
    "    predicted = lin_pred(x_i, w)\n",
    "    error = predicted - y_i\n",
    "\n",
    "    # Обновление весов сформируем логику преобразования свободного члена\n",
    "    # исходя из представленной формулы (есть предположение, что преобразование\n",
    "    # свободного члена может ухудшить финальную метрику)\n",
    "    if intercept_perm and intercept_norm:\n",
    "        w[0] -= 2 * eta * error / len(X)\n",
    "    elif intercept_perm and not intercept_norm:\n",
    "        w[0] -= 2 * eta * error\n",
    "    elif not intercept_perm and intercept_norm:\n",
    "        w[0] -= eta * error / len(X)\n",
    "    else:\n",
    "        w[0] -= eta * error  # Обновление свободного члена без нормировки\n",
    "\n",
    "    w[1:] -= (\n",
    "        2 * eta * error * x_i[1:] / len(X)\n",
    "    )  # Обновление остальных весов с нормировкой\n",
    "\n",
    "    return w"
   ]
  },
  {
   "cell_type": "markdown",
   "metadata": {
    "id": "pXwIFd0Ma_Zx"
   },
   "source": [
    "**Создайте функцию *stochastic_gradient_descent*, для реализации стохастического градиентного спуска (2.5 балла)**\n",
    "\n",
    "**Функция принимает на вход следующие аргументы:**\n",
    "- Матрицу признаков X\n",
    "- Целевую переменнную\n",
    "- Изначальную точку (веса модели)\n",
    "- Параметр, определяющий темп обучения\n",
    "- Максимальное число итераций\n",
    "- Евклидово расстояние между векторами весов на соседних итерациях градиентного спуска,при котором алгоритм прекращает работу \n",
    "\n",
    "**На каждой итерации в вектор (список) должно записываться текущее значение среднеквадратичной ошибки. Функция должна возвращать вектор весов $w$, а также вектор (список) ошибок.**"
   ]
  },
  {
   "cell_type": "markdown",
   "metadata": {
    "id": "ZVeoNF1JDUK7"
   },
   "source": [
    "Алгоритм сследующий:\n",
    "    \n",
    "* Инициализируйте расстояние между векторами весов на соседних итерациях большим числом (можно бесконечностью)\n",
    "* Создайте пустой список для фиксации ошибок\n",
    "* Создайте счетчик итераций\n",
    "* Реализуйте оновной цикл обучения пока расстояние между векторами весов больше того, при котором надо прекратить работу (когда расстояния станут слишком маленькими - значит, мы застряли в одном месте) и количество итераций меньше максимально разрешенного: сгенерируйте случайный индекс, запишите текущую ошибку в вектор ошибок, запишите в переменную текущий шаг стохастического спуска с использованием функции, написанной ранее. Далее рассчитайте текущее расстояние между векторами весов и прибавьте к счетчику итераций 1.\n",
    "* Верните вектор весов и вектор ошибок"
   ]
  },
  {
   "cell_type": "code",
   "execution_count": 18,
   "metadata": {},
   "outputs": [],
   "source": [
    "def stochastic_gradient_descent(\n",
    "    X,\n",
    "    y,\n",
    "    w_init,\n",
    "    intercept_perm,\n",
    "    intercept_norm,\n",
    "    learning_rate,\n",
    "    max_iter,\n",
    "    tol_level,\n",
    "    random_seed=42,\n",
    "):\n",
    "    \"\"\"Градиентный спуск\n",
    "\n",
    "      Args:\n",
    "        X (numpy array): Матрица признаков размерностью (m, n),\n",
    "        y (numpy array): Вектор целевых переменных размерностью (m,)\n",
    "        w_init (numpy array): Вектор инициализации весов модели размерностью (n,)\n",
    "        intercept_perm (bool): Указывает, должен ли свободный член (bias)\n",
    "                               оставаться постоянным или может изменяться\n",
    "        intercept_norm (bool): Указывает, нужно ли нормализовать обновление\n",
    "                               свободного члена (bias)\n",
    "        learning_rate (float): Темп обучения\n",
    "        max_iter (int): Максимальное число итераций.\n",
    "        tol_level (float): Уровень близости, который используется для проверки\n",
    "                           сходимости\n",
    "        random_seed (int): Значение seed'a\n",
    "\n",
    "    Returns:\n",
    "        tuple:\n",
    "            - numpy array: Финальный вектор весов\n",
    "            - list: Список значений среднеквадратичной ошибки (MSE)\n",
    "    \"\"\"\n",
    "\n",
    "    np.random.seed(random_seed)\n",
    "    w_new = w_init.copy()  # Создаем копию вектора весов\n",
    "    errors = []  # Список для хранения значений ошибок\n",
    "    iters = 0  # Инициируем количество итераций для последующей возможности остановки\n",
    "\n",
    "    distance = np.inf  # Задаем начальное расстояние для контроля tol_level\n",
    "\n",
    "    while distance > tol_level and iters < max_iter:\n",
    "        train_ind = np.random.randint(len(y))  # Берем один случайный индекс\n",
    "        w_old = w_new.copy()\n",
    "\n",
    "        # Шаг градиента\n",
    "        w_new = stoch_grad_step(\n",
    "            X, y, w_new, train_ind, intercept_perm, intercept_norm, learning_rate\n",
    "        )\n",
    "\n",
    "        # Предсказания\n",
    "        y_pred = lin_pred(X, w_new)\n",
    "\n",
    "        # Вычисление MSE\n",
    "        mse = mse_error(y_test=y, y_pred=y_pred)\n",
    "        errors.append(mse)\n",
    "\n",
    "        # Вычисляем расстояние между старыми и новыми весами\n",
    "        distance = np.linalg.norm(w_new - w_old)\n",
    "\n",
    "        iters += 1  # Увеличиваем количество итераций\n",
    "\n",
    "    return w_new, errors"
   ]
  },
  {
   "cell_type": "markdown",
   "metadata": {
    "id": "0OqHO1Rta_Z7"
   },
   "source": [
    " **Запустите $10^5$ итераций стохастического градиентного спуска. Укажите вектор начальных весов, состоящий из нулей. Можете поэкспериментировать с параметром, отвечающим за темп обучения.**"
   ]
  },
  {
   "cell_type": "markdown",
   "metadata": {
    "id": "N6fHHT6vDUK8"
   },
   "source": [
    "**Постройте график зависимости ошибки от номера итерации**"
   ]
  },
  {
   "cell_type": "code",
   "execution_count": 19,
   "metadata": {},
   "outputs": [],
   "source": [
    "def grad_with_visuals(\n",
    "    X,\n",
    "    y,\n",
    "    intercept_perm=True,\n",
    "    intercept_norm=True,\n",
    "    learning_rate=0.01,\n",
    "    max_iter=1e5,\n",
    "    tol_level=1e-6,\n",
    "    graph_name=None,\n",
    "):\n",
    "    \"\"\"Функция для выполнения стохастического градиентного спуска с визуализацией ошибок.\n",
    "\n",
    "    Args:\n",
    "        X (numpy array): Матрица признаков размерности (m, n)\n",
    "        y (numpy array): Вектор целевых переменных размерности (m,)\n",
    "        intercept_perm (bool): Указывает, должен ли свободный член (bias) \n",
    "                               оставаться постоянным или изменяться\n",
    "        intercept_norm (bool): Указывает, нужно ли нормализовать обновление \n",
    "                               свободного члена (bias)\n",
    "        learning_rate (float): Темп обучения\n",
    "        max_iter (int): Максимальное количество итераций\n",
    "        tol_level (float): Уровень близости\n",
    "        graph_name (str): Название графика\n",
    "\n",
    "    Returns:\n",
    "        tuple: \n",
    "            - numpy array: Предсказанные значения\n",
    "            - list: Список значений среднеквадратичной ошибки (MSE)\n",
    "    \"\"\"\n",
    "    # Инициализация весов нулями, количество весов соответствует числу признаков\n",
    "    w_init = np.zeros(X.shape[1])\n",
    "\n",
    "    # Выполняем стохастический градиентный спуск\n",
    "    sgd_pred, sgd_err = stochastic_gradient_descent(\n",
    "        X=X,\n",
    "        y=y,\n",
    "        w_init=w_init,\n",
    "        intercept_perm=intercept_perm,\n",
    "        intercept_norm=intercept_norm,\n",
    "        learning_rate=learning_rate,\n",
    "        max_iter=max_iter,\n",
    "        tol_level=tol_level,\n",
    "    )\n",
    "\n",
    "    # Создаем словарь, где ключами будут номера итераций, а значениями - ошибки\n",
    "    error_dict = {i: j for i, j in enumerate(sgd_err)}\n",
    "\n",
    "    # Преобразуем словарь в DataFrame для удобной обработки\n",
    "    error_frame = (\n",
    "        pd.DataFrame(pd.Series(error_dict))\n",
    "        .reset_index()  # Сбрасываем индекс\n",
    "        .set_axis([\"Итерация\", \"Ошибка\"], axis=1)  # Задаем названия столбцов\n",
    "    )\n",
    "\n",
    "    # Визуализация\n",
    "    plt.figure(figsize=(12, 6))  # Определяем размеры графика\n",
    "    sns.lineplot(\n",
    "        x=error_frame[\"Итерация\"], y=error_frame[\"Ошибка\"], color=\"green\"\n",
    "    )  # Строим график зависимости ошибки от итерации\n",
    "    plt.title(f\"Зависимость ошибки от номера итерации {graph_name}\")  # Название графика\n",
    "    plt.xlabel(\"Итерация\")  # Подпись для оси X\n",
    "    plt.ylabel(\"Ошибка (MSE)\")  # Подпись для оси Y\n",
    "    plt.show()  # Отображение графика\n",
    "\n",
    "    return sgd_pred, sgd_err  # Возвращаем предсказанные значения и ошибки"
   ]
  },
  {
   "cell_type": "code",
   "execution_count": 20,
   "metadata": {},
   "outputs": [
    {
     "data": {
      "image/png": "[encoded data removed]",
      "text/plain": [
       "<Figure size 1200x600 with 1 Axes>"
      ]
     },
     "metadata": {},
     "output_type": "display_data"
    }
   ],
   "source": [
    "# Реализация SGD с использованием преобразования интерсепта (по)\n",
    "sgd_pred, sgd_err = grad_with_visuals(\n",
    "    X=X_norm, y=y, graph_name=\"sgd_formula_realisation\"\n",
    ")"
   ]
  },
  {
   "cell_type": "markdown",
   "metadata": {
    "id": "O-MVOcJ6a_aY"
   },
   "source": [
    "**Выведите вектор весов, к которому сошелся метод.**"
   ]
  },
  {
   "cell_type": "code",
   "execution_count": 21,
   "metadata": {
    "id": "MPjVkXe4DUK9"
   },
   "outputs": [
    {
     "name": "stdout",
     "output_type": "stream",
     "text": [
      "[10.69508373  2.99316664  2.08581397  0.45214911]\n"
     ]
    }
   ],
   "source": [
    "# Вывод весов\n",
    "print(sgd_pred)"
   ]
  },
  {
   "cell_type": "markdown",
   "metadata": {
    "id": "qabzMc3Qa_a5"
   },
   "source": [
    "**Выведите среднеквадратичную ошибку на последней итерации.**"
   ]
  },
  {
   "cell_type": "code",
   "execution_count": 22,
   "metadata": {
    "id": "7tPWleMIa_a7"
   },
   "outputs": [
    {
     "name": "stdout",
     "output_type": "stream",
     "text": [
      "15.411\n"
     ]
    }
   ],
   "source": [
    "# Вывод финальной ошибки\n",
    "print(sgd_err[-1])"
   ]
  },
  {
   "cell_type": "markdown",
   "metadata": {},
   "source": [
    "**Попробуем поэксперементировать с интерсептом**"
   ]
  },
  {
   "cell_type": "code",
   "execution_count": 23,
   "metadata": {},
   "outputs": [
    {
     "data": {
      "image/png": "[encoded data removed]",
      "text/plain": [
       "<Figure size 1200x600 with 1 Axes>"
      ]
     },
     "metadata": {},
     "output_type": "display_data"
    },
    {
     "name": "stdout",
     "output_type": "stream",
     "text": [
      "[9.457031   3.47262617 2.41633681 0.27505158]\n",
      "24.222\n"
     ]
    }
   ],
   "source": [
    "# Реализация SGD с нормированием интесепта, но без умножение на коэф-т\n",
    "sgd_pred_no_intercept, sgd_err_no_intercept = grad_with_visuals(\n",
    "    X=X_norm, \n",
    "    y=y, \n",
    "    intercept_perm=False, \n",
    "    graph_name=\"sgd_intercept_norm_only\"\n",
    ")\n",
    "print(sgd_pred_no_intercept)\n",
    "print(sgd_err_no_intercept[-1])"
   ]
  },
  {
   "cell_type": "code",
   "execution_count": 24,
   "metadata": {},
   "outputs": [
    {
     "data": {
      "image/png": "[encoded data removed]",
      "text/plain": [
       "<Figure size 1200x600 with 1 Axes>"
      ]
     },
     "metadata": {},
     "output_type": "display_data"
    },
    {
     "name": "stdout",
     "output_type": "stream",
     "text": [
      "[13.99519344  3.24001556  2.26641417  0.34649443]\n",
      "3.542\n"
     ]
    }
   ],
   "source": [
    "# Реализация SGD без нормирования интесепта и без умножение на коэф-т\n",
    "sgd_pred_perm, sgd_err_perm = grad_with_visuals(\n",
    "    X=X_norm,\n",
    "    y=y,\n",
    "    intercept_perm=False,\n",
    "    intercept_norm=False,\n",
    "    graph_name=\"sgd_intercept_untouched\",\n",
    ")\n",
    "print(sgd_pred_perm)\n",
    "print(sgd_err_perm[-1])"
   ]
  },
  {
   "cell_type": "code",
   "execution_count": 25,
   "metadata": {},
   "outputs": [
    {
     "data": {
      "image/png": "[encoded data removed]",
      "text/plain": [
       "<Figure size 1200x600 with 1 Axes>"
      ]
     },
     "metadata": {},
     "output_type": "display_data"
    },
    {
     "name": "stdout",
     "output_type": "stream",
     "text": [
      "[14.32628757  3.22310672  2.25438964  0.34893093]\n",
      "3.651\n"
     ]
    }
   ],
   "source": [
    "# Реализация SGD без нормирования интесепта\n",
    "sgd_pred_norm, sgd_err_norm = grad_with_visuals(\n",
    "    X=X_norm,\n",
    "    y=y,\n",
    "    intercept_norm=False,\n",
    "    graph_name=\"sgd_intercept_no_norm\",\n",
    ")\n",
    "print(sgd_pred_norm)\n",
    "print(sgd_err_norm[-1])"
   ]
  },
  {
   "cell_type": "markdown",
   "metadata": {},
   "source": [
    "> Из всех возможных экспериментов, наилучшую метрику и скорость сходимости к оптимуму в конкретной задаче показывает подход, в котором свободный член w_0 не подвергается воздействию в процессе обновления весов, так же стоит отметить кратный прирост в производительности и снижение флуктуаций mse в процессе обучения относительно реализации на батчах размером равным выборке."
   ]
  },
  {
   "cell_type": "markdown",
   "metadata": {},
   "source": [
    "---"
   ]
  },
  {
   "cell_type": "markdown",
   "metadata": {},
   "source": [
    "### Проверка встренным алгоритмом"
   ]
  },
  {
   "cell_type": "code",
   "execution_count": 26,
   "metadata": {},
   "outputs": [
    {
     "name": "stdout",
     "output_type": "stream",
     "text": [
      "[14.04442844  3.93425536  2.78770858 -0.01464352]\n",
      "2.773\n"
     ]
    }
   ],
   "source": [
    "from sklearn.linear_model import SGDRegressor\n",
    "\n",
    "# Создание и обучение модели с помощью стохастического градиентного спуска\n",
    "sgd_reg = SGDRegressor(\n",
    "    fit_intercept=False, \n",
    "    max_iter=1000000, \n",
    "    tol=1e-6, \n",
    "    random_state=42)\n",
    "\n",
    "\n",
    "sgd_reg.fit(X_norm, y)\n",
    "y_pred = sgd_reg.predict(X_norm)\n",
    "# Вывод весов\n",
    "print(sgd_reg.coef_)\n",
    "print(mse_error(y, y_pred))"
   ]
  },
  {
   "cell_type": "markdown",
   "metadata": {},
   "source": [
    "> Как можно заметить вектор весов весьма близок к ручной реализации, ошибка пакетной реалиции лучше чем в хардкод подходе, возможно это обусловленно использованием в пакетном решении спуска по батчам данных, а не по рандомному элементу выборки, а возможно куда-то закралось криворучие."
   ]
  },
  {
   "cell_type": "code",
   "execution_count": null,
   "metadata": {},
   "outputs": [],
   "source": []
  }
 ],
 "metadata": {
  "colab": {
   "collapsed_sections": [],
   "name": "Практика_Оптимизация.ipynb",
   "provenance": [],
   "toc_visible": true
  },
  "kernelspec": {
   "display_name": "Python 3",
   "language": "python",
   "name": "python3"
  },
  "language_info": {
   "codemirror_mode": {
    "name": "ipython",
    "version": 3
   },
   "file_extension": ".py",
   "mimetype": "text/x-python",
   "name": "python",
   "nbconvert_exporter": "python",
   "pygments_lexer": "ipython3",
   "version": "3.11.7"
  }
 },
 "nbformat": 4,
 "nbformat_minor": 0
}
