{
 "cells": [
  {
   "cell_type": "code",
   "execution_count": 1,
   "metadata": {},
   "outputs": [],
   "source": [
    "alphabet = \"abcdefghijklmnopqrstuvwxyz\""
   ]
  },
  {
   "cell_type": "code",
   "execution_count": 10,
   "metadata": {},
   "outputs": [
    {
     "data": {
      "text/plain": [
       "26"
      ]
     },
     "execution_count": 10,
     "metadata": {},
     "output_type": "execute_result"
    }
   ],
   "source": [
    "len(alphabet)"
   ]
  },
  {
   "cell_type": "code",
   "execution_count": 6,
   "metadata": {},
   "outputs": [],
   "source": [
    "test =\"zzzab\"\n",
    "# hkfib"
   ]
  },
  {
   "cell_type": "code",
   "execution_count": 7,
   "metadata": {},
   "outputs": [
    {
     "data": {
      "text/plain": [
       "25"
      ]
     },
     "execution_count": 7,
     "metadata": {},
     "output_type": "execute_result"
    }
   ],
   "source": [
    "alphabet.find('z')"
   ]
  },
  {
   "cell_type": "code",
   "execution_count": 8,
   "metadata": {},
   "outputs": [
    {
     "name": "stdout",
     "output_type": "stream",
     "text": [
      "25\n",
      "25\n",
      "25\n",
      "0\n",
      "1\n"
     ]
    }
   ],
   "source": [
    "for i in test:\n",
    "    print(alphabet.find(i))"
   ]
  },
  {
   "cell_type": "code",
   "execution_count": 12,
   "metadata": {},
   "outputs": [
    {
     "data": {
      "text/plain": [
       "'z'"
      ]
     },
     "execution_count": 12,
     "metadata": {},
     "output_type": "execute_result"
    }
   ],
   "source": [
    "alphabet[25]"
   ]
  },
  {
   "cell_type": "code",
   "execution_count": 89,
   "metadata": {},
   "outputs": [
    {
     "name": "stdout",
     "output_type": "stream",
     "text": [
      "3\n",
      "3\n",
      "3\n",
      "1\n",
      "1\n"
     ]
    }
   ],
   "source": [
    "test_lst = []\n",
    "for i in test:\n",
    "    test_lst.append(alphabet.find(i))\n",
    "\n",
    "for i in test_lst:\n",
    "    print(test_lst.count(i))"
   ]
  },
  {
   "cell_type": "code",
   "execution_count": 90,
   "metadata": {},
   "outputs": [
    {
     "data": {
      "text/plain": [
       "[25, 25, 25, 0, 1]"
      ]
     },
     "execution_count": 90,
     "metadata": {},
     "output_type": "execute_result"
    }
   ],
   "source": [
    "test_lst = []\n",
    "for i in test:\n",
    "    test_lst.append(alphabet.find(i))\n",
    "\n",
    "test_lst"
   ]
  },
  {
   "cell_type": "code",
   "execution_count": 33,
   "metadata": {},
   "outputs": [
    {
     "data": {
      "text/plain": [
       "[25, 0, 1]"
      ]
     },
     "execution_count": 33,
     "metadata": {},
     "output_type": "execute_result"
    }
   ],
   "source": [
    "for i, v in enumerate(test_lst):\n",
    "    if test_lst.count(v) > 1:\n",
    "        test_lst[i] += 1\n",
    "        test_lst.pop(i)\n",
    "        if test_lst[i] > len(alphabet) - 1:\n",
    "            test_lst[i] = 0\n",
    "            test_lst.pop(i)\n",
    "test_lst"
   ]
  },
  {
   "cell_type": "code",
   "execution_count": 91,
   "metadata": {},
   "outputs": [
    {
     "data": {
      "text/plain": [
       "{25: [0, 1, 2]}"
      ]
     },
     "execution_count": 91,
     "metadata": {},
     "output_type": "execute_result"
    }
   ],
   "source": [
    "duplicates = {}\n",
    "for i, v in enumerate(test_lst):\n",
    "    if v in duplicates:\n",
    "        duplicates[v].append(i)\n",
    "    else:\n",
    "        duplicates[v] = [i]\n",
    "\n",
    "duplicates = {k: v for k, v in duplicates.items() if len(v) > 1}\n",
    "duplicates"
   ]
  },
  {
   "cell_type": "code",
   "execution_count": 115,
   "metadata": {},
   "outputs": [
    {
     "data": {
      "text/plain": [
       "[2, 25]"
      ]
     },
     "execution_count": 115,
     "metadata": {},
     "output_type": "execute_result"
    }
   ],
   "source": [
    "test =\"zzzab\"\n",
    "alphabet = \"abcdefghijklmnopqrstuvwxyz\"\n",
    "test_lst = []\n",
    "for i in test:\n",
    "    test_lst.append(alphabet.find(i))\n",
    "    \n",
    "def check_duplicates(test_lst= test_lst):\n",
    "    duplicates = {}\n",
    "    for i, v in enumerate(test_lst):\n",
    "        if v in duplicates:\n",
    "            duplicates[v].append(i)\n",
    "        else:\n",
    "            duplicates[v] = [i]\n",
    "\n",
    "    duplicates = {k: v for k, v in duplicates.items() if len(v) > 1}\n",
    "    \n",
    "    return duplicates\n",
    "\n",
    "duplicates = check_duplicates()\n",
    "\n",
    "while True:\n",
    "    \n",
    "    for key in duplicates.keys():\n",
    "        a, b = duplicates[key][0], duplicates[key][1]\n",
    "        test_lst.pop(b)\n",
    "        test_lst[a] += 1\n",
    "        if test_lst[a] > len(alphabet) - 1:\n",
    "            test_lst[a] = 0\n",
    "        \n",
    "    duplicates = check_duplicates()\n",
    "    \n",
    "    if len(duplicates) == 0:\n",
    "        break\n",
    "    \n",
    "test_lst"
   ]
  },
  {
   "cell_type": "code",
   "execution_count": null,
   "metadata": {},
   "outputs": [],
   "source": []
  },
  {
   "cell_type": "code",
   "execution_count": 141,
   "metadata": {},
   "outputs": [],
   "source": [
    "s = \"zzzab\"\n",
    "def replace_duplicates(s):\n",
    "    \n",
    "    # Встроенный алфавит\n",
    "    alphabet = \"abcdefghijklmnopqrstuvwxyz\"\n",
    "    \n",
    "    # Подготовка ввода для обработки\n",
    "    test_lst = []\n",
    "    for i in test:\n",
    "        test_lst.append(alphabet.find(i))\n",
    "    \n",
    "    # Вспомогательная функция для поиска дубликатов\n",
    "    def check_duplicates(test_lst=test_lst):\n",
    "        duplicates = {}\n",
    "        for i, v in enumerate(test_lst):\n",
    "            if v in duplicates:\n",
    "                duplicates[v].append(i)\n",
    "            else:\n",
    "                duplicates[v] = [i]\n",
    "\n",
    "        duplicates = {k: v for k, v in duplicates.items() if len(v) > 1}\n",
    "        \n",
    "        return duplicates\n",
    "    \n",
    "    \n",
    "    # Инициализация словаря дубликатов\n",
    "    duplicates = check_duplicates()\n",
    "\n",
    "    # Начинаем крутить по списку выискивая и подменяя дубликаты\n",
    "    while True:\n",
    "        for key in duplicates.keys():\n",
    "            # Подмена по 2 элементам\n",
    "            a, b = duplicates[key][0], duplicates[key][1]\n",
    "            test_lst.pop(b)\n",
    "            test_lst[a] += 1\n",
    "            if test_lst[a] > len(alphabet) - 1:\n",
    "                test_lst[a] = 0\n",
    "        duplicates = check_duplicates()\n",
    "        \n",
    "        # Как исчерпали все - выходим\n",
    "        if len(duplicates) == 0:\n",
    "            break\n",
    "        \n",
    "    \n",
    "    result = \"\"\n",
    "    for i in test_lst:\n",
    "        result += alphabet[i]\n",
    "        \n",
    "    return result\n",
    "        \n",
    "    "
   ]
  },
  {
   "cell_type": "code",
   "execution_count": null,
   "metadata": {},
   "outputs": [],
   "source": [
    "s = \"zzzab\"\n",
    "def replace_duplicates(s: str) -> str:\n",
    "    \"\"\"\n",
    "    Заменяет дубликаты символов в строке на следующие символы в алфавите и возвращает измененную строку.\n",
    "\n",
    "    Args:\n",
    "    s (str): Входная строка\n",
    "\n",
    "    Returns:\n",
    "    str: Измененная строка без дубликатов\n",
    "    \"\"\"\n",
    "    \n",
    "    # Встроенный алфавит\n",
    "    alphabet = \"abcdefghijklmnopqrstuvwxyz\"\n",
    "    \n",
    "    # Подготовка ввода для обработки\n",
    "    test_lst = []\n",
    "    for i in s:\n",
    "        test_lst.append(alphabet.find(i))  # Преобразование символов в индексы алфавита\n",
    "    \n",
    "    # Вспомогательная функция для поиска дубликатов\n",
    "    def check_duplicates(test_lst=test_lst) -> dict:\n",
    "        duplicates = {}\n",
    "        for i, v in enumerate(test_lst):\n",
    "            if v in duplicates:\n",
    "                duplicates[v].append(i)\n",
    "            else:\n",
    "                duplicates[v] = [i]\n",
    "\n",
    "        duplicates = {k: v for k, v in duplicates.items() if len(v) > 1}  # Оставляем только дубликаты\n",
    "        \n",
    "        return duplicates\n",
    "    \n",
    "    # Инициализация словаря дубликатов\n",
    "    duplicates = check_duplicates()\n",
    "\n",
    "    # Начинаем крутить по списку выискивая и подменяя дубликаты\n",
    "    while True:\n",
    "        for key in duplicates.keys():\n",
    "            # Подмена по 2 элементам\n",
    "            a, b = duplicates[key][0], duplicates[key][1]\n",
    "            test_lst.pop(b)  # Удаляем второй дубликат\n",
    "            test_lst[a] += 1  # Увеличиваем первый дубликат на 1\n",
    "            if test_lst[a] > len(alphabet) - 1:  # Если вышли за пределы алфавита, возвращаемся к началу\n",
    "                test_lst[a] = 0\n",
    "        duplicates = check_duplicates()  # Проверяем остались ли дубликаты\n",
    "        \n",
    "        # Как исчерпали все - выходим\n",
    "        if len(duplicates) == 0:\n",
    "            break\n",
    "    \n",
    "    result = \"\"\n",
    "    for i in test_lst:\n",
    "        result += alphabet[i]  # Преобразование индексов обратно в символы\n",
    "    \n",
    "    return result\n"
   ]
  },
  {
   "cell_type": "code",
   "execution_count": 194,
   "metadata": {},
   "outputs": [],
   "source": [
    "s = \"hhakafh\"\n",
    "\n",
    "\n",
    "def replace_duplicates(s):\n",
    "    \"\"\"\n",
    "    Заменяет дубликаты символов в строке на следующие символы в алфавите и возвращает измененную строку.\n",
    "\n",
    "    Args:\n",
    "    s (str): Входная строка\n",
    "\n",
    "    Returns:\n",
    "    str: Измененная строка без дубликатов\n",
    "    \"\"\"\n",
    "\n",
    "    # Встроенный алфавит\n",
    "    alphabet = \"abcdefghijklmnopqrstuvwxyz\"\n",
    "\n",
    "    # Подготовка ввода для обработки\n",
    "    test_lst = []\n",
    "    for i in s:\n",
    "        test_lst.append(alphabet.find(i))  # Преобразование символов в индексы алфавита\n",
    "\n",
    "    # Вспомогательная функция для поиска дубликатов\n",
    "    def check_duplicates(test_lst=test_lst) -> dict:\n",
    "        duplicates = {}\n",
    "        for i, v in enumerate(test_lst):\n",
    "            if v in duplicates:\n",
    "                duplicates[v].append(i)\n",
    "            else:\n",
    "                duplicates[v] = [i]\n",
    "\n",
    "        # Оставляем только дубликаты\n",
    "        duplicates = {k: v for k, v in duplicates.items() if len(v) > 1}\n",
    "\n",
    "        return duplicates\n",
    "\n",
    "    # Инициализация словаря дубликатов\n",
    "    duplicates = check_duplicates()\n",
    "\n",
    "    # Начинаем крутить по списку выискивая и подменяя дубликаты\n",
    "    counter = 1\n",
    "    while True:\n",
    "        # Первый дубликат\n",
    "        dup_list = duplicates[list(duplicates.keys())[0]]\n",
    "        a = dup_list[0]\n",
    "        b = dup_list[1]\n",
    "        \n",
    "        test_lst.pop(b)  # Удаляем второй дубликат\n",
    "        test_lst[a] += 1  # Увеличиваем первый дубликат на 1\n",
    "        \n",
    "        # Если вышли за пределы алфавита, возвращаемся к началу\n",
    "        if (test_lst[a] > len(alphabet) - 1):  \n",
    "            test_lst[a] = 0\n",
    "    \n",
    "\n",
    "        # Преобразование индексов обратно в символы\n",
    "        result = \"\"\n",
    "        for i in test_lst:\n",
    "            result += alphabet[i]\n",
    "\n",
    "        print(f\"Step {counter}: {result}\")\n",
    "\n",
    "        counter += 1\n",
    "\n",
    "        duplicates = check_duplicates()  # Проверяем остались ли дубликаты\n",
    "\n",
    "        # Как исчерпали все - выходим\n",
    "        if len(duplicates) == 0:\n",
    "            break\n",
    "\n",
    "    return sorted([i for i in result]) # Чтоб проверить тестами"
   ]
  },
  {
   "cell_type": "code",
   "execution_count": 195,
   "metadata": {},
   "outputs": [
    {
     "name": "stdout",
     "output_type": "stream",
     "text": [
      "____Начало теста_____\n",
      "Step 1: azab\n",
      "Step 2: bzb\n",
      "Step 3: cz\n",
      "Step 1: iakafh\n",
      "Step 2: ibkfh\n",
      "Тест пройден\n",
      "____Конец теста_____\n",
      "Step 1: iakafh\n",
      "Step 2: ibkfh\n"
     ]
    },
    {
     "data": {
      "text/plain": [
       "['b', 'f', 'h', 'i', 'k']"
      ]
     },
     "execution_count": 195,
     "metadata": {},
     "output_type": "execute_result"
    }
   ],
   "source": [
    "def test_replace_duplicates():\n",
    "    \"\"\"Тест\"\"\"\n",
    "    print(\"____Начало теста_____\")\n",
    "\n",
    "    assert replace_duplicates(\"zzzab\") == sorted([i for i in \"cz\"])\n",
    "    assert replace_duplicates(\"hhakafh\") == sorted([i for i in \"hkfib\"])\n",
    "\n",
    "    print(\"Тест пройден\")\n",
    "    print(\"____Конец теста_____\")\n",
    "\n",
    "\n",
    "# Запуск теста\n",
    "test_replace_duplicates()\n",
    "\n",
    "# Запуск функции\n",
    "replace_duplicates(s)"
   ]
  },
  {
   "cell_type": "code",
   "execution_count": 191,
   "metadata": {},
   "outputs": [
    {
     "data": {
      "text/plain": [
       "['hkfib']"
      ]
     },
     "execution_count": 191,
     "metadata": {},
     "output_type": "execute_result"
    }
   ],
   "source": [
    "sorted(\"hkfib\".split())"
   ]
  },
  {
   "cell_type": "code",
   "execution_count": 188,
   "metadata": {},
   "outputs": [
    {
     "data": {
      "text/plain": [
       "True"
      ]
     },
     "execution_count": 188,
     "metadata": {},
     "output_type": "execute_result"
    }
   ],
   "source": [
    "sorted([\"c\", \"z\"]) == sorted([\"z\", \"c\"])"
   ]
  },
  {
   "cell_type": "code",
   "execution_count": 193,
   "metadata": {},
   "outputs": [
    {
     "data": {
      "text/plain": [
       "['b', 'f', 'h', 'i', 'k']"
      ]
     },
     "execution_count": 193,
     "metadata": {},
     "output_type": "execute_result"
    }
   ],
   "source": [
    "sorted([i for i in \"hkfib\"])"
   ]
  },
  {
   "cell_type": "code",
   "execution_count": null,
   "metadata": {},
   "outputs": [],
   "source": []
  },
  {
   "cell_type": "code",
   "execution_count": null,
   "metadata": {},
   "outputs": [],
   "source": []
  }
 ],
 "metadata": {
  "kernelspec": {
   "display_name": "Python 3",
   "language": "python",
   "name": "python3"
  },
  "language_info": {
   "codemirror_mode": {
    "name": "ipython",
    "version": 3
   },
   "file_extension": ".py",
   "mimetype": "text/x-python",
   "name": "python",
   "nbconvert_exporter": "python",
   "pygments_lexer": "ipython3",
   "version": "3.11.7"
  }
 },
 "nbformat": 4,
 "nbformat_minor": 2
}
