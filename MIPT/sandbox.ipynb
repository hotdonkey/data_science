{
 "cells": [
  {
   "cell_type": "code",
   "execution_count": 1,
   "metadata": {},
   "outputs": [],
   "source": [
    "alphabet = \"abcdefghijklmnopqrstuvwxyz\""
   ]
  },
  {
   "cell_type": "code",
   "execution_count": 10,
   "metadata": {},
   "outputs": [
    {
     "data": {
      "text/plain": [
       "26"
      ]
     },
     "execution_count": 10,
     "metadata": {},
     "output_type": "execute_result"
    }
   ],
   "source": [
    "len(alphabet)"
   ]
  },
  {
   "cell_type": "code",
   "execution_count": 6,
   "metadata": {},
   "outputs": [],
   "source": [
    "test =\"zzzab\"\n",
    "# hkfib"
   ]
  },
  {
   "cell_type": "code",
   "execution_count": 7,
   "metadata": {},
   "outputs": [
    {
     "data": {
      "text/plain": [
       "25"
      ]
     },
     "execution_count": 7,
     "metadata": {},
     "output_type": "execute_result"
    }
   ],
   "source": [
    "alphabet.find('z')"
   ]
  },
  {
   "cell_type": "code",
   "execution_count": 8,
   "metadata": {},
   "outputs": [
    {
     "name": "stdout",
     "output_type": "stream",
     "text": [
      "25\n",
      "25\n",
      "25\n",
      "0\n",
      "1\n"
     ]
    }
   ],
   "source": [
    "for i in test:\n",
    "    print(alphabet.find(i))"
   ]
  },
  {
   "cell_type": "code",
   "execution_count": 12,
   "metadata": {},
   "outputs": [
    {
     "data": {
      "text/plain": [
       "'z'"
      ]
     },
     "execution_count": 12,
     "metadata": {},
     "output_type": "execute_result"
    }
   ],
   "source": [
    "alphabet[25]"
   ]
  },
  {
   "cell_type": "code",
   "execution_count": 89,
   "metadata": {},
   "outputs": [
    {
     "name": "stdout",
     "output_type": "stream",
     "text": [
      "3\n",
      "3\n",
      "3\n",
      "1\n",
      "1\n"
     ]
    }
   ],
   "source": [
    "test_lst = []\n",
    "for i in test:\n",
    "    test_lst.append(alphabet.find(i))\n",
    "\n",
    "for i in test_lst:\n",
    "    print(test_lst.count(i))"
   ]
  },
  {
   "cell_type": "code",
   "execution_count": 90,
   "metadata": {},
   "outputs": [
    {
     "data": {
      "text/plain": [
       "[25, 25, 25, 0, 1]"
      ]
     },
     "execution_count": 90,
     "metadata": {},
     "output_type": "execute_result"
    }
   ],
   "source": [
    "test_lst = []\n",
    "for i in test:\n",
    "    test_lst.append(alphabet.find(i))\n",
    "\n",
    "test_lst"
   ]
  },
  {
   "cell_type": "code",
   "execution_count": 33,
   "metadata": {},
   "outputs": [
    {
     "data": {
      "text/plain": [
       "[25, 0, 1]"
      ]
     },
     "execution_count": 33,
     "metadata": {},
     "output_type": "execute_result"
    }
   ],
   "source": [
    "for i, v in enumerate(test_lst):\n",
    "    if test_lst.count(v) > 1:\n",
    "        test_lst[i] += 1\n",
    "        test_lst.pop(i)\n",
    "        if test_lst[i] > len(alphabet) - 1:\n",
    "            test_lst[i] = 0\n",
    "            test_lst.pop(i)\n",
    "test_lst"
   ]
  },
  {
   "cell_type": "code",
   "execution_count": 91,
   "metadata": {},
   "outputs": [
    {
     "data": {
      "text/plain": [
       "{25: [0, 1, 2]}"
      ]
     },
     "execution_count": 91,
     "metadata": {},
     "output_type": "execute_result"
    }
   ],
   "source": [
    "duplicates = {}\n",
    "for i, v in enumerate(test_lst):\n",
    "    if v in duplicates:\n",
    "        duplicates[v].append(i)\n",
    "    else:\n",
    "        duplicates[v] = [i]\n",
    "\n",
    "duplicates = {k: v for k, v in duplicates.items() if len(v) > 1}\n",
    "duplicates"
   ]
  },
  {
   "cell_type": "code",
   "execution_count": 115,
   "metadata": {},
   "outputs": [
    {
     "data": {
      "text/plain": [
       "[2, 25]"
      ]
     },
     "execution_count": 115,
     "metadata": {},
     "output_type": "execute_result"
    }
   ],
   "source": [
    "test =\"zzzab\"\n",
    "alphabet = \"abcdefghijklmnopqrstuvwxyz\"\n",
    "test_lst = []\n",
    "for i in test:\n",
    "    test_lst.append(alphabet.find(i))\n",
    "    \n",
    "def check_duplicates(test_lst= test_lst):\n",
    "    duplicates = {}\n",
    "    for i, v in enumerate(test_lst):\n",
    "        if v in duplicates:\n",
    "            duplicates[v].append(i)\n",
    "        else:\n",
    "            duplicates[v] = [i]\n",
    "\n",
    "    duplicates = {k: v for k, v in duplicates.items() if len(v) > 1}\n",
    "    \n",
    "    return duplicates\n",
    "\n",
    "duplicates = check_duplicates()\n",
    "\n",
    "while True:\n",
    "    \n",
    "    for key in duplicates.keys():\n",
    "        a, b = duplicates[key][0], duplicates[key][1]\n",
    "        test_lst.pop(b)\n",
    "        test_lst[a] += 1\n",
    "        if test_lst[a] > len(alphabet) - 1:\n",
    "            test_lst[a] = 0\n",
    "        \n",
    "    duplicates = check_duplicates()\n",
    "    \n",
    "    if len(duplicates) == 0:\n",
    "        break\n",
    "    \n",
    "test_lst"
   ]
  },
  {
   "cell_type": "code",
   "execution_count": null,
   "metadata": {},
   "outputs": [],
   "source": []
  },
  {
   "cell_type": "code",
   "execution_count": 141,
   "metadata": {},
   "outputs": [],
   "source": [
    "s = \"zzzab\"\n",
    "def replace_duplicates(s):\n",
    "    \n",
    "    # Встроенный алфавит\n",
    "    alphabet = \"abcdefghijklmnopqrstuvwxyz\"\n",
    "    \n",
    "    # Подготовка ввода для обработки\n",
    "    test_lst = []\n",
    "    for i in test:\n",
    "        test_lst.append(alphabet.find(i))\n",
    "    \n",
    "    # Вспомогательная функция для поиска дубликатов\n",
    "    def check_duplicates(test_lst=test_lst):\n",
    "        duplicates = {}\n",
    "        for i, v in enumerate(test_lst):\n",
    "            if v in duplicates:\n",
    "                duplicates[v].append(i)\n",
    "            else:\n",
    "                duplicates[v] = [i]\n",
    "\n",
    "        duplicates = {k: v for k, v in duplicates.items() if len(v) > 1}\n",
    "        \n",
    "        return duplicates\n",
    "    \n",
    "    \n",
    "    # Инициализация словаря дубликатов\n",
    "    duplicates = check_duplicates()\n",
    "\n",
    "    # Начинаем крутить по списку выискивая и подменяя дубликаты\n",
    "    while True:\n",
    "        for key in duplicates.keys():\n",
    "            # Подмена по 2 элементам\n",
    "            a, b = duplicates[key][0], duplicates[key][1]\n",
    "            test_lst.pop(b)\n",
    "            test_lst[a] += 1\n",
    "            if test_lst[a] > len(alphabet) - 1:\n",
    "                test_lst[a] = 0\n",
    "        duplicates = check_duplicates()\n",
    "        \n",
    "        # Как исчерпали все - выходим\n",
    "        if len(duplicates) == 0:\n",
    "            break\n",
    "        \n",
    "    \n",
    "    result = \"\"\n",
    "    for i in test_lst:\n",
    "        result += alphabet[i]\n",
    "        \n",
    "    return result\n",
    "        \n",
    "    "
   ]
  },
  {
   "cell_type": "code",
   "execution_count": null,
   "metadata": {},
   "outputs": [],
   "source": [
    "s = \"zzzab\"\n",
    "def replace_duplicates(s: str) -> str:\n",
    "    \"\"\"\n",
    "    Заменяет дубликаты символов в строке на следующие символы в алфавите и возвращает измененную строку.\n",
    "\n",
    "    Args:\n",
    "    s (str): Входная строка\n",
    "\n",
    "    Returns:\n",
    "    str: Измененная строка без дубликатов\n",
    "    \"\"\"\n",
    "    \n",
    "    # Встроенный алфавит\n",
    "    alphabet = \"abcdefghijklmnopqrstuvwxyz\"\n",
    "    \n",
    "    # Подготовка ввода для обработки\n",
    "    test_lst = []\n",
    "    for i in s:\n",
    "        test_lst.append(alphabet.find(i))  # Преобразование символов в индексы алфавита\n",
    "    \n",
    "    # Вспомогательная функция для поиска дубликатов\n",
    "    def check_duplicates(test_lst=test_lst) -> dict:\n",
    "        duplicates = {}\n",
    "        for i, v in enumerate(test_lst):\n",
    "            if v in duplicates:\n",
    "                duplicates[v].append(i)\n",
    "            else:\n",
    "                duplicates[v] = [i]\n",
    "\n",
    "        duplicates = {k: v for k, v in duplicates.items() if len(v) > 1}  # Оставляем только дубликаты\n",
    "        \n",
    "        return duplicates\n",
    "    \n",
    "    # Инициализация словаря дубликатов\n",
    "    duplicates = check_duplicates()\n",
    "\n",
    "    # Начинаем крутить по списку выискивая и подменяя дубликаты\n",
    "    while True:\n",
    "        for key in duplicates.keys():\n",
    "            # Подмена по 2 элементам\n",
    "            a, b = duplicates[key][0], duplicates[key][1]\n",
    "            test_lst.pop(b)  # Удаляем второй дубликат\n",
    "            test_lst[a] += 1  # Увеличиваем первый дубликат на 1\n",
    "            if test_lst[a] > len(alphabet) - 1:  # Если вышли за пределы алфавита, возвращаемся к началу\n",
    "                test_lst[a] = 0\n",
    "        duplicates = check_duplicates()  # Проверяем остались ли дубликаты\n",
    "        \n",
    "        # Как исчерпали все - выходим\n",
    "        if len(duplicates) == 0:\n",
    "            break\n",
    "    \n",
    "    result = \"\"\n",
    "    for i in test_lst:\n",
    "        result += alphabet[i]  # Преобразование индексов обратно в символы\n",
    "    \n",
    "    return result\n"
   ]
  },
  {
   "cell_type": "code",
   "execution_count": 194,
   "metadata": {},
   "outputs": [],
   "source": [
    "s = \"hhakafh\"\n",
    "\n",
    "\n",
    "def replace_duplicates(s):\n",
    "    \"\"\"\n",
    "    Заменяет дубликаты символов в строке на следующие символы в алфавите и возвращает измененную строку.\n",
    "\n",
    "    Args:\n",
    "    s (str): Входная строка\n",
    "\n",
    "    Returns:\n",
    "    str: Измененная строка без дубликатов\n",
    "    \"\"\"\n",
    "\n",
    "    # Встроенный алфавит\n",
    "    alphabet = \"abcdefghijklmnopqrstuvwxyz\"\n",
    "\n",
    "    # Подготовка ввода для обработки\n",
    "    test_lst = []\n",
    "    for i in s:\n",
    "        test_lst.append(alphabet.find(i))  # Преобразование символов в индексы алфавита\n",
    "\n",
    "    # Вспомогательная функция для поиска дубликатов\n",
    "    def check_duplicates(test_lst=test_lst) -> dict:\n",
    "        duplicates = {}\n",
    "        for i, v in enumerate(test_lst):\n",
    "            if v in duplicates:\n",
    "                duplicates[v].append(i)\n",
    "            else:\n",
    "                duplicates[v] = [i]\n",
    "\n",
    "        # Оставляем только дубликаты\n",
    "        duplicates = {k: v for k, v in duplicates.items() if len(v) > 1}\n",
    "\n",
    "        return duplicates\n",
    "\n",
    "    # Инициализация словаря дубликатов\n",
    "    duplicates = check_duplicates()\n",
    "\n",
    "    # Начинаем крутить по списку выискивая и подменяя дубликаты\n",
    "    counter = 1\n",
    "    while True:\n",
    "        # Первый дубликат\n",
    "        dup_list = duplicates[list(duplicates.keys())[0]]\n",
    "        a = dup_list[0]\n",
    "        b = dup_list[1]\n",
    "        \n",
    "        test_lst.pop(b)  # Удаляем второй дубликат\n",
    "        test_lst[a] += 1  # Увеличиваем первый дубликат на 1\n",
    "        \n",
    "        # Если вышли за пределы алфавита, возвращаемся к началу\n",
    "        if (test_lst[a] > len(alphabet) - 1):  \n",
    "            test_lst[a] = 0\n",
    "    \n",
    "\n",
    "        # Преобразование индексов обратно в символы\n",
    "        result = \"\"\n",
    "        for i in test_lst:\n",
    "            result += alphabet[i]\n",
    "\n",
    "        print(f\"Step {counter}: {result}\")\n",
    "\n",
    "        counter += 1\n",
    "\n",
    "        duplicates = check_duplicates()  # Проверяем остались ли дубликаты\n",
    "\n",
    "        # Как исчерпали все - выходим\n",
    "        if len(duplicates) == 0:\n",
    "            break\n",
    "\n",
    "    return sorted([i for i in result]) # Чтоб проверить тестами"
   ]
  },
  {
   "cell_type": "code",
   "execution_count": 195,
   "metadata": {},
   "outputs": [
    {
     "name": "stdout",
     "output_type": "stream",
     "text": [
      "____Начало теста_____\n",
      "Step 1: azab\n",
      "Step 2: bzb\n",
      "Step 3: cz\n",
      "Step 1: iakafh\n",
      "Step 2: ibkfh\n",
      "Тест пройден\n",
      "____Конец теста_____\n",
      "Step 1: iakafh\n",
      "Step 2: ibkfh\n"
     ]
    },
    {
     "data": {
      "text/plain": [
       "['b', 'f', 'h', 'i', 'k']"
      ]
     },
     "execution_count": 195,
     "metadata": {},
     "output_type": "execute_result"
    }
   ],
   "source": [
    "def test_replace_duplicates():\n",
    "    \"\"\"Тест\"\"\"\n",
    "    print(\"____Начало теста_____\")\n",
    "\n",
    "    assert replace_duplicates(\"zzzab\") == sorted([i for i in \"cz\"])\n",
    "    assert replace_duplicates(\"hhakafh\") == sorted([i for i in \"hkfib\"])\n",
    "\n",
    "    print(\"Тест пройден\")\n",
    "    print(\"____Конец теста_____\")\n",
    "\n",
    "\n",
    "# Запуск теста\n",
    "test_replace_duplicates()\n",
    "\n",
    "# Запуск функции\n",
    "replace_duplicates(s)"
   ]
  },
  {
   "cell_type": "code",
   "execution_count": 191,
   "metadata": {},
   "outputs": [
    {
     "data": {
      "text/plain": [
       "['hkfib']"
      ]
     },
     "execution_count": 191,
     "metadata": {},
     "output_type": "execute_result"
    }
   ],
   "source": [
    "sorted(\"hkfib\".split())"
   ]
  },
  {
   "cell_type": "code",
   "execution_count": 188,
   "metadata": {},
   "outputs": [
    {
     "data": {
      "text/plain": [
       "True"
      ]
     },
     "execution_count": 188,
     "metadata": {},
     "output_type": "execute_result"
    }
   ],
   "source": [
    "sorted([\"c\", \"z\"]) == sorted([\"z\", \"c\"])"
   ]
  },
  {
   "cell_type": "code",
   "execution_count": 193,
   "metadata": {},
   "outputs": [
    {
     "data": {
      "text/plain": [
       "['b', 'f', 'h', 'i', 'k']"
      ]
     },
     "execution_count": 193,
     "metadata": {},
     "output_type": "execute_result"
    }
   ],
   "source": [
    "sorted([i for i in \"hkfib\"])"
   ]
  },
  {
   "cell_type": "code",
   "execution_count": null,
   "metadata": {},
   "outputs": [],
   "source": []
  },
  {
   "cell_type": "code",
   "execution_count": 3,
   "metadata": {},
   "outputs": [],
   "source": [
    "import pandas as pd\n",
    "import numpy as np\n",
    "\n",
    "fruit = np.array([\"lemons\", \"lemons\", \"lemons\", \"lemons\",\n",
    "             \t\"apples\", \"apples\", \"apples\", \"apples\",\n",
    "             \t\"apples\", \"apples\", \"apples\"],\n",
    "            \tdtype=object)\n",
    "\n",
    "shop = np.array([\"Shop A\", \"Shop A\", \"Shop A\", \"Shop B\",\n",
    "             \t\"Shop A\", \"Shop A\", \"Shop A\", \"Shop B\",\n",
    "             \t\"Shop B\", \"Shop B\", \"Shop A\"],\n",
    "            \tdtype=object)\n",
    " \n",
    "pl = np.array([\"online\", \"online\", \"offline\",\n",
    "             \t\"online\", \"online\", \"offline\",\n",
    "             \t\"offline\", \"online\", \"offline\",\n",
    "             \t\"offline\", \"offline\"],\n",
    "            \tdtype=object)\n",
    "\n",
    "df = pd.DataFrame({'fruit': fruit, 'shop': shop, 'pl': pl,\n",
    "               \t\"Q\": [1, 2, 2, 3, 3, 4, 5, 6, 7, 4, 4],\n",
    "               \t\"P\": [5, 4, 5, 5, 6, 6, 8, 9, 9, 3, 3]})\n",
    "df['total'] = df['Q']*df['P']\n",
    "\n",
    "##########################################\n",
    "\n",
    "subset = df.query(\"Q > 3 and shop == 'Shop A'\")\n"
   ]
  },
  {
   "cell_type": "code",
   "execution_count": 4,
   "metadata": {},
   "outputs": [
    {
     "data": {
      "text/html": [
       "<div>\n",
       "<style scoped>\n",
       "    .dataframe tbody tr th:only-of-type {\n",
       "        vertical-align: middle;\n",
       "    }\n",
       "\n",
       "    .dataframe tbody tr th {\n",
       "        vertical-align: top;\n",
       "    }\n",
       "\n",
       "    .dataframe thead th {\n",
       "        text-align: right;\n",
       "    }\n",
       "</style>\n",
       "<table border=\"1\" class=\"dataframe\">\n",
       "  <thead>\n",
       "    <tr style=\"text-align: right;\">\n",
       "      <th></th>\n",
       "      <th>fruit</th>\n",
       "      <th>shop</th>\n",
       "      <th>pl</th>\n",
       "      <th>Q</th>\n",
       "      <th>P</th>\n",
       "      <th>total</th>\n",
       "    </tr>\n",
       "  </thead>\n",
       "  <tbody>\n",
       "    <tr>\n",
       "      <th>0</th>\n",
       "      <td>lemons</td>\n",
       "      <td>Shop A</td>\n",
       "      <td>online</td>\n",
       "      <td>1</td>\n",
       "      <td>5</td>\n",
       "      <td>5</td>\n",
       "    </tr>\n",
       "    <tr>\n",
       "      <th>1</th>\n",
       "      <td>lemons</td>\n",
       "      <td>Shop A</td>\n",
       "      <td>online</td>\n",
       "      <td>2</td>\n",
       "      <td>4</td>\n",
       "      <td>8</td>\n",
       "    </tr>\n",
       "    <tr>\n",
       "      <th>2</th>\n",
       "      <td>lemons</td>\n",
       "      <td>Shop A</td>\n",
       "      <td>offline</td>\n",
       "      <td>2</td>\n",
       "      <td>5</td>\n",
       "      <td>10</td>\n",
       "    </tr>\n",
       "    <tr>\n",
       "      <th>3</th>\n",
       "      <td>lemons</td>\n",
       "      <td>Shop B</td>\n",
       "      <td>online</td>\n",
       "      <td>3</td>\n",
       "      <td>5</td>\n",
       "      <td>15</td>\n",
       "    </tr>\n",
       "    <tr>\n",
       "      <th>4</th>\n",
       "      <td>apples</td>\n",
       "      <td>Shop A</td>\n",
       "      <td>online</td>\n",
       "      <td>3</td>\n",
       "      <td>6</td>\n",
       "      <td>18</td>\n",
       "    </tr>\n",
       "    <tr>\n",
       "      <th>5</th>\n",
       "      <td>apples</td>\n",
       "      <td>Shop A</td>\n",
       "      <td>offline</td>\n",
       "      <td>4</td>\n",
       "      <td>6</td>\n",
       "      <td>24</td>\n",
       "    </tr>\n",
       "    <tr>\n",
       "      <th>6</th>\n",
       "      <td>apples</td>\n",
       "      <td>Shop A</td>\n",
       "      <td>offline</td>\n",
       "      <td>5</td>\n",
       "      <td>8</td>\n",
       "      <td>40</td>\n",
       "    </tr>\n",
       "    <tr>\n",
       "      <th>7</th>\n",
       "      <td>apples</td>\n",
       "      <td>Shop B</td>\n",
       "      <td>online</td>\n",
       "      <td>6</td>\n",
       "      <td>9</td>\n",
       "      <td>54</td>\n",
       "    </tr>\n",
       "    <tr>\n",
       "      <th>8</th>\n",
       "      <td>apples</td>\n",
       "      <td>Shop B</td>\n",
       "      <td>offline</td>\n",
       "      <td>7</td>\n",
       "      <td>9</td>\n",
       "      <td>63</td>\n",
       "    </tr>\n",
       "    <tr>\n",
       "      <th>9</th>\n",
       "      <td>apples</td>\n",
       "      <td>Shop B</td>\n",
       "      <td>offline</td>\n",
       "      <td>4</td>\n",
       "      <td>3</td>\n",
       "      <td>12</td>\n",
       "    </tr>\n",
       "    <tr>\n",
       "      <th>10</th>\n",
       "      <td>apples</td>\n",
       "      <td>Shop A</td>\n",
       "      <td>offline</td>\n",
       "      <td>4</td>\n",
       "      <td>3</td>\n",
       "      <td>12</td>\n",
       "    </tr>\n",
       "  </tbody>\n",
       "</table>\n",
       "</div>"
      ],
      "text/plain": [
       "     fruit    shop       pl  Q  P  total\n",
       "0   lemons  Shop A   online  1  5      5\n",
       "1   lemons  Shop A   online  2  4      8\n",
       "2   lemons  Shop A  offline  2  5     10\n",
       "3   lemons  Shop B   online  3  5     15\n",
       "4   apples  Shop A   online  3  6     18\n",
       "5   apples  Shop A  offline  4  6     24\n",
       "6   apples  Shop A  offline  5  8     40\n",
       "7   apples  Shop B   online  6  9     54\n",
       "8   apples  Shop B  offline  7  9     63\n",
       "9   apples  Shop B  offline  4  3     12\n",
       "10  apples  Shop A  offline  4  3     12"
      ]
     },
     "execution_count": 4,
     "metadata": {},
     "output_type": "execute_result"
    }
   ],
   "source": [
    "df"
   ]
  },
  {
   "cell_type": "code",
   "execution_count": 32,
   "metadata": {},
   "outputs": [
    {
     "data": {
      "text/plain": [
       "fruit\n",
       "lemons    4.75\n",
       "Name: P, dtype: float64"
      ]
     },
     "execution_count": 32,
     "metadata": {},
     "output_type": "execute_result"
    }
   ],
   "source": [
    "df[df[\"fruit\"] == 'lemons'].groupby('fruit')[\"P\"].mean()"
   ]
  },
  {
   "cell_type": "code",
   "execution_count": 56,
   "metadata": {},
   "outputs": [],
   "source": [
    "import pandas as pd\n",
    "import numpy as np\n",
    "\n",
    "fruit = np.array([\"lemons\", \"lemons\", \"lemons\", \"lemons\",\n",
    "             \t\"apples\", \"apples\", \"apples\", \"apples\",\n",
    "             \t\"apples\", \"apples\", \"apples\"],\n",
    "            \tdtype=object)\n",
    "\n",
    "shop = np.array([\"Shop A\", \"Shop A\", \"Shop A\", \"Shop B\",\n",
    "             \t\"Shop A\", \"Shop A\", \"Shop A\", \"Shop B\",\n",
    "             \t\"Shop B\", \"Shop B\", \"Shop A\"],\n",
    "            \tdtype=object)\n",
    " \n",
    "pl = np.array([\"online\", \"online\", \"offline\",\n",
    "             \t\"online\", \"online\", \"offline\",\n",
    "             \t\"offline\", \"online\", \"offline\",\n",
    "             \t\"offline\", \"offline\"],\n",
    "            \tdtype=object)\n",
    "\n",
    "df = pd.DataFrame({'fruit': fruit, 'shop': shop, 'pl': pl,\n",
    "               \t\"Q\": [1, 2, 2, 3, 3, 4, 5, 6, 7, 4, 4],\n",
    "               \t\"P\": [5, 4, 5, 5, 6, 6, 8, 9, 9, 3, 3]})\n",
    "df['total'] = df['Q']*df['P']\n",
    "\n",
    "##########################################\n",
    "\n",
    "subset = df.query(\"Q > 3 and shop == 'Shop A'\").reset_index(drop=True)\n",
    "fruit_total = df.groupby(\"fruit\")[\"total\"].sum()\n",
    "fruit_quantity = df.groupby(\"fruit\")[\"Q\"].sum()\n",
    "lemon_average_price = df[df[\"fruit\"] == 'lemons'].groupby('fruit')[\"P\"].mean()\n"
   ]
  },
  {
   "cell_type": "code",
   "execution_count": 57,
   "metadata": {},
   "outputs": [
    {
     "data": {
      "text/plain": [
       "40"
      ]
     },
     "execution_count": 57,
     "metadata": {},
     "output_type": "execute_result"
    }
   ],
   "source": [
    "subset[\"total\"].iloc[1]"
   ]
  },
  {
   "cell_type": "code",
   "execution_count": 58,
   "metadata": {},
   "outputs": [
    {
     "data": {
      "text/plain": [
       "fruit\n",
       "apples    33\n",
       "lemons     8\n",
       "Name: Q, dtype: int64"
      ]
     },
     "execution_count": 58,
     "metadata": {},
     "output_type": "execute_result"
    }
   ],
   "source": [
    "fruit_quantity"
   ]
  },
  {
   "cell_type": "code",
   "execution_count": 59,
   "metadata": {},
   "outputs": [],
   "source": [
    "import pandas as pd\n",
    "import numpy as np\n",
    "\n",
    "fruit = np.array([\"lemons\", \"lemons\", \"lemons\", \"lemons\",\n",
    "                 \"apples\", \"apples\", \"apples\", \"apples\",\n",
    "                 \"apples\", \"apples\", \"apples\"],\n",
    "                dtype=object)\n",
    "\n",
    "shop = np.array([\"Shop A\", \"Shop A\", \"Shop A\", \"Shop B\",\n",
    "                 \"Shop A\", \"Shop A\", \"Shop A\", \"Shop B\",\n",
    "                 \"Shop B\", \"Shop B\", \"Shop A\"],\n",
    "                dtype=object)\n",
    "  \n",
    "pl = np.array([\"online\", \"online\", \"offline\",\n",
    "                 \"online\", \"online\", \"offline\",\n",
    "                 \"offline\", \"online\", \"offline\",\n",
    "                 \"offline\", \"offline\"],\n",
    "                dtype=object)\n",
    "\n",
    "\n",
    "\n",
    "df = pd.DataFrame({'fruit': fruit, 'shop': shop, 'pl': pl,\n",
    "                   \"Q\": [1, 2, 2, 3, 3, 4, 5, 6, 7, 4, 4],\n",
    "                   \"P\": [5, 4, 5, 5, 6, 6, 8, 9, 9, 3,3]})\n",
    "df['total'] = df['Q']*df['P']\n",
    "# далее запишите ваш код\n",
    "\n",
    "\n",
    "\n"
   ]
  },
  {
   "cell_type": "code",
   "execution_count": 62,
   "metadata": {},
   "outputs": [],
   "source": [
    "pivot = df.pivot_table(values=\"total\", index=\"shop\", columns=\"pl\", aggfunc=\"sum\")"
   ]
  },
  {
   "cell_type": "code",
   "execution_count": 63,
   "metadata": {},
   "outputs": [
    {
     "data": {
      "text/plain": [
       "69"
      ]
     },
     "execution_count": 63,
     "metadata": {},
     "output_type": "execute_result"
    }
   ],
   "source": [
    "pivot.iloc[1,1]"
   ]
  },
  {
   "cell_type": "code",
   "execution_count": null,
   "metadata": {},
   "outputs": [],
   "source": []
  }
 ],
 "metadata": {
  "kernelspec": {
   "display_name": "Python 3",
   "language": "python",
   "name": "python3"
  },
  "language_info": {
   "codemirror_mode": {
    "name": "ipython",
    "version": 3
   },
   "file_extension": ".py",
   "mimetype": "text/x-python",
   "name": "python",
   "nbconvert_exporter": "python",
   "pygments_lexer": "ipython3",
   "version": "3.11.7"
  }
 },
 "nbformat": 4,
 "nbformat_minor": 2
}
