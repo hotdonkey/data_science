{
 "cells": [
  {
   "cell_type": "code",
   "execution_count": 1,
   "metadata": {},
   "outputs": [
    {
     "name": "stdout",
     "output_type": "stream",
     "text": [
      "Число измерений: 2\n",
      "Размеры массива: (3, 3)\n",
      "Количество элементов: 9\n",
      "Тип данных элементов: int64\n",
      "Элемент по индексу (0, 0): 1\n",
      "Срез данных массива: [[2 3]\n",
      " [5 6]]\n",
      "Сумма элементов: 45\n",
      "Среднее значение: 5.0\n",
      "Медиана: 5.0\n",
      "Отклонение от среднего: 2.581988897471611\n"
     ]
    }
   ],
   "source": [
    "import numpy as np\n",
    "\n",
    "# Создание массива NumPy\n",
    "data = np.array([[1, 2, 3], [4, 5, 6], [7, 8, 9]])\n",
    "\n",
    "# Получение атрибутов массива\n",
    "num_dimensions = data.ndim\n",
    "shape = data.shape\n",
    "size = data.size\n",
    "dtype = data.dtype\n",
    "\n",
    "# Выборка элемента по индексу и выполнение срезов данных массива\n",
    "element_at_index_0_0 = data[0, 0]\n",
    "sliced_data = data[:2, 1:]\n",
    "\n",
    "# Выполнение математических и статистических функций библиотеки NumPy\n",
    "sum_of_elements = np.sum(data)\n",
    "mean_value = np.mean(data)\n",
    "median_value = np.median(data)\n",
    "std_deviation = np.std(data)\n",
    "\n",
    "# Вывод результатов\n",
    "print(\"Число измерений:\", num_dimensions)\n",
    "print(\"Размеры массива:\", shape)\n",
    "print(\"Количество элементов:\", size)\n",
    "print(\"Тип данных элементов:\", dtype)\n",
    "print(\"Элемент по индексу (0, 0):\", element_at_index_0_0)\n",
    "print(\"Срез данных массива:\", sliced_data)\n",
    "print(\"Сумма элементов:\", sum_of_elements)\n",
    "print(\"Среднее значение:\", mean_value)\n",
    "print(\"Медиана:\", median_value)\n",
    "print(\"Отклонение от среднего:\", std_deviation)"
   ]
  },
  {
   "cell_type": "code",
   "execution_count": 1,
   "metadata": {},
   "outputs": [
    {
     "name": "stdout",
     "output_type": "stream",
     "text": [
      "   id     name  subject  score\n",
      "0   1    Alice     math     85\n",
      "1   2      Bob     math     90\n",
      "2   3  Charlie     math     78\n",
      "3   1    Alice  physics     92\n",
      "4   2      Bob  physics     88\n",
      "5   3  Charlie  physics     75\n"
     ]
    }
   ],
   "source": [
    "import pandas as pd\n",
    "\n",
    "# Создаем исходный DataFrame\n",
    "data = {\n",
    "    'id': [1, 2, 3],\n",
    "    'name': ['Alice', 'Bob', 'Charlie'],\n",
    "    'math': [85, 90, 78],\n",
    "    'physics': [92, 88, 75]\n",
    "}\n",
    "df = pd.DataFrame(data)\n",
    "\n",
    "# Применяем метод melt для преобразования\n",
    "melted_df = df.melt(id_vars=['id', 'name'], var_name='subject', value_name='score')\n",
    "\n",
    "print(melted_df)\n"
   ]
  },
  {
   "cell_type": "code",
   "execution_count": 3,
   "metadata": {},
   "outputs": [
    {
     "data": {
      "text/html": [
       "<div>\n",
       "<style scoped>\n",
       "    .dataframe tbody tr th:only-of-type {\n",
       "        vertical-align: middle;\n",
       "    }\n",
       "\n",
       "    .dataframe tbody tr th {\n",
       "        vertical-align: top;\n",
       "    }\n",
       "\n",
       "    .dataframe thead th {\n",
       "        text-align: right;\n",
       "    }\n",
       "</style>\n",
       "<table border=\"1\" class=\"dataframe\">\n",
       "  <thead>\n",
       "    <tr style=\"text-align: right;\">\n",
       "      <th></th>\n",
       "      <th>id</th>\n",
       "      <th>name</th>\n",
       "      <th>math</th>\n",
       "      <th>physics</th>\n",
       "    </tr>\n",
       "  </thead>\n",
       "  <tbody>\n",
       "    <tr>\n",
       "      <th>0</th>\n",
       "      <td>1</td>\n",
       "      <td>Alice</td>\n",
       "      <td>85</td>\n",
       "      <td>92</td>\n",
       "    </tr>\n",
       "    <tr>\n",
       "      <th>1</th>\n",
       "      <td>2</td>\n",
       "      <td>Bob</td>\n",
       "      <td>90</td>\n",
       "      <td>88</td>\n",
       "    </tr>\n",
       "    <tr>\n",
       "      <th>2</th>\n",
       "      <td>3</td>\n",
       "      <td>Charlie</td>\n",
       "      <td>78</td>\n",
       "      <td>75</td>\n",
       "    </tr>\n",
       "  </tbody>\n",
       "</table>\n",
       "</div>"
      ],
      "text/plain": [
       "   id     name  math  physics\n",
       "0   1    Alice    85       92\n",
       "1   2      Bob    90       88\n",
       "2   3  Charlie    78       75"
      ]
     },
     "execution_count": 3,
     "metadata": {},
     "output_type": "execute_result"
    }
   ],
   "source": [
    "df"
   ]
  },
  {
   "cell_type": "code",
   "execution_count": 4,
   "metadata": {},
   "outputs": [
    {
     "name": "stdout",
     "output_type": "stream",
     "text": [
      "subject  id     name  math  physics\n",
      "0         1    Alice  85.0     92.0\n",
      "1         2      Bob  90.0     88.0\n",
      "2         3  Charlie  78.0     75.0\n"
     ]
    }
   ],
   "source": [
    "\n",
    "# Используем метод pivot_table для преобразования обратно в широкий формат\n",
    "pivoted_df = melted_df.pivot_table(index=['id', 'name'], columns='subject', values='score').reset_index()\n",
    "\n",
    "print(pivoted_df)"
   ]
  },
  {
   "cell_type": "code",
   "execution_count": null,
   "metadata": {},
   "outputs": [],
   "source": []
  }
 ],
 "metadata": {
  "kernelspec": {
   "display_name": "Python 3",
   "language": "python",
   "name": "python3"
  },
  "language_info": {
   "codemirror_mode": {
    "name": "ipython",
    "version": 3
   },
   "file_extension": ".py",
   "mimetype": "text/x-python",
   "name": "python",
   "nbconvert_exporter": "python",
   "pygments_lexer": "ipython3",
   "version": "3.11.7"
  }
 },
 "nbformat": 4,
 "nbformat_minor": 2
}
