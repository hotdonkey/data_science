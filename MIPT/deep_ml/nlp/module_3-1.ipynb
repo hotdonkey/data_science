{
 "cells": [
  {
   "cell_type": "code",
   "execution_count": 45,
   "metadata": {},
   "outputs": [],
   "source": [
    "import numpy as np\n",
    "import spacy\n"
   ]
  },
  {
   "cell_type": "markdown",
   "metadata": {},
   "source": [
    "### Задание 1"
   ]
  },
  {
   "cell_type": "code",
   "execution_count": 46,
   "metadata": {},
   "outputs": [],
   "source": [
    "nlp = spacy.load('en_core_web_sm')\n",
    "word_1 = 'cat'\n",
    "word_2 = 'cow'"
   ]
  },
  {
   "cell_type": "code",
   "execution_count": 47,
   "metadata": {},
   "outputs": [],
   "source": [
    "def cosine_dist(vec1, vec2, vectorised=False):\n",
    "    if vectorised:\n",
    "        pass\n",
    "    else:\n",
    "        vec1 = nlp(vec1).vector\n",
    "        vec2 = nlp(vec2).vector\n",
    "    dot_prod = np.dot(vec1, vec2)\n",
    "    norm_vec2 = np.linalg.norm(vec1)*np.linalg.norm(vec2)\n",
    "    result = round(dot_prod/norm_vec2, 3)\n",
    "    \n",
    "    return result"
   ]
  },
  {
   "cell_type": "code",
   "execution_count": 48,
   "metadata": {},
   "outputs": [
    {
     "name": "stdout",
     "output_type": "stream",
     "text": [
      "0.775\n"
     ]
    }
   ],
   "source": [
    "answer_1 = cosine_dist(word_1, word_2)\n",
    "print(answer_1)"
   ]
  },
  {
   "cell_type": "markdown",
   "metadata": {},
   "source": [
    "### Задание 2"
   ]
  },
  {
   "cell_type": "code",
   "execution_count": null,
   "metadata": {},
   "outputs": [],
   "source": [
    "sent_1 = \"Сегодня очень холодно на улице\"\n",
    "sent_2 = \"На улице сегодня очень холодно\""
   ]
  },
  {
   "cell_type": "code",
   "execution_count": 50,
   "metadata": {},
   "outputs": [
    {
     "name": "stdout",
     "output_type": "stream",
     "text": [
      "0.928\n"
     ]
    }
   ],
   "source": [
    "answer_2 = cosine_dist(sent_1, sent_2)\n",
    "print(answer_2)"
   ]
  },
  {
   "cell_type": "markdown",
   "metadata": {},
   "source": [
    "### Заданиие 3"
   ]
  },
  {
   "cell_type": "code",
   "execution_count": 51,
   "metadata": {},
   "outputs": [],
   "source": [
    "import pandas as pd\n",
    "from sklearn.feature_extraction.text import TfidfVectorizer\n",
    "from sklearn.metrics.pairwise import cosine_similarity"
   ]
  },
  {
   "cell_type": "code",
   "execution_count": 52,
   "metadata": {},
   "outputs": [],
   "source": [
    "nlp = spacy.load('en_core_web_sm')"
   ]
  },
  {
   "cell_type": "code",
   "execution_count": 53,
   "metadata": {},
   "outputs": [],
   "source": [
    "data = pd.read_csv(\"./data/product_description.csv\")"
   ]
  },
  {
   "cell_type": "code",
   "execution_count": 54,
   "metadata": {},
   "outputs": [
    {
     "data": {
      "text/html": [
       "<div>\n",
       "<style scoped>\n",
       "    .dataframe tbody tr th:only-of-type {\n",
       "        vertical-align: middle;\n",
       "    }\n",
       "\n",
       "    .dataframe tbody tr th {\n",
       "        vertical-align: top;\n",
       "    }\n",
       "\n",
       "    .dataframe thead th {\n",
       "        text-align: right;\n",
       "    }\n",
       "</style>\n",
       "<table border=\"1\" class=\"dataframe\">\n",
       "  <thead>\n",
       "    <tr style=\"text-align: right;\">\n",
       "      <th></th>\n",
       "      <th>product_name</th>\n",
       "      <th>description</th>\n",
       "    </tr>\n",
       "  </thead>\n",
       "  <tbody>\n",
       "    <tr>\n",
       "      <th>0</th>\n",
       "      <td>Chair</td>\n",
       "      <td>This comfortable chair is perfect for any room...</td>\n",
       "    </tr>\n",
       "    <tr>\n",
       "      <th>1</th>\n",
       "      <td>Sofa</td>\n",
       "      <td>This beautiful sofa is a great addition to any...</td>\n",
       "    </tr>\n",
       "    <tr>\n",
       "      <th>2</th>\n",
       "      <td>Table</td>\n",
       "      <td>This elegant table is perfect for your dining ...</td>\n",
       "    </tr>\n",
       "    <tr>\n",
       "      <th>3</th>\n",
       "      <td>Bed</td>\n",
       "      <td>This cozy bed is perfect for a good night's sl...</td>\n",
       "    </tr>\n",
       "    <tr>\n",
       "      <th>4</th>\n",
       "      <td>Bookshelf</td>\n",
       "      <td>This modern bookshelf is perfect for displayin...</td>\n",
       "    </tr>\n",
       "    <tr>\n",
       "      <th>5</th>\n",
       "      <td>Desk</td>\n",
       "      <td>This functional desk is perfect for your home ...</td>\n",
       "    </tr>\n",
       "    <tr>\n",
       "      <th>6</th>\n",
       "      <td>Ottoman</td>\n",
       "      <td>This stylish ottoman is perfect for your livin...</td>\n",
       "    </tr>\n",
       "    <tr>\n",
       "      <th>7</th>\n",
       "      <td>Cabinet</td>\n",
       "      <td>This versatile cabinet is perfect for storing ...</td>\n",
       "    </tr>\n",
       "    <tr>\n",
       "      <th>8</th>\n",
       "      <td>Dresser</td>\n",
       "      <td>This elegant dresser is perfect for your bedro...</td>\n",
       "    </tr>\n",
       "    <tr>\n",
       "      <th>9</th>\n",
       "      <td>TV Stand</td>\n",
       "      <td>This sleek TV stand is perfect for your entert...</td>\n",
       "    </tr>\n",
       "  </tbody>\n",
       "</table>\n",
       "</div>"
      ],
      "text/plain": [
       "  product_name                                        description\n",
       "0        Chair  This comfortable chair is perfect for any room...\n",
       "1         Sofa  This beautiful sofa is a great addition to any...\n",
       "2        Table  This elegant table is perfect for your dining ...\n",
       "3          Bed  This cozy bed is perfect for a good night's sl...\n",
       "4    Bookshelf  This modern bookshelf is perfect for displayin...\n",
       "5         Desk  This functional desk is perfect for your home ...\n",
       "6      Ottoman  This stylish ottoman is perfect for your livin...\n",
       "7      Cabinet  This versatile cabinet is perfect for storing ...\n",
       "8      Dresser  This elegant dresser is perfect for your bedro...\n",
       "9     TV Stand  This sleek TV stand is perfect for your entert..."
      ]
     },
     "execution_count": 54,
     "metadata": {},
     "output_type": "execute_result"
    }
   ],
   "source": [
    "data"
   ]
  },
  {
   "cell_type": "code",
   "execution_count": 55,
   "metadata": {},
   "outputs": [],
   "source": [
    "def preprocess_text(text):\n",
    "    doc = nlp(text)\n",
    "    tokens = [\n",
    "        token.lemma_.lower()\n",
    "        for token in doc\n",
    "        if not token.is_stop and not token.is_punct\n",
    "    ]\n",
    "    return \" \".join(tokens)\n",
    "\n",
    "\n",
    "data[\"processed_text\"] = data[\"description\"].apply(preprocess_text)"
   ]
  },
  {
   "cell_type": "code",
   "execution_count": 56,
   "metadata": {},
   "outputs": [
    {
     "data": {
      "text/html": [
       "<div>\n",
       "<style scoped>\n",
       "    .dataframe tbody tr th:only-of-type {\n",
       "        vertical-align: middle;\n",
       "    }\n",
       "\n",
       "    .dataframe tbody tr th {\n",
       "        vertical-align: top;\n",
       "    }\n",
       "\n",
       "    .dataframe thead th {\n",
       "        text-align: right;\n",
       "    }\n",
       "</style>\n",
       "<table border=\"1\" class=\"dataframe\">\n",
       "  <thead>\n",
       "    <tr style=\"text-align: right;\">\n",
       "      <th></th>\n",
       "      <th>product_name</th>\n",
       "      <th>description</th>\n",
       "      <th>processed_text</th>\n",
       "    </tr>\n",
       "  </thead>\n",
       "  <tbody>\n",
       "    <tr>\n",
       "      <th>0</th>\n",
       "      <td>Chair</td>\n",
       "      <td>This comfortable chair is perfect for any room...</td>\n",
       "      <td>comfortable chair perfect room home feature so...</td>\n",
       "    </tr>\n",
       "    <tr>\n",
       "      <th>1</th>\n",
       "      <td>Sofa</td>\n",
       "      <td>This beautiful sofa is a great addition to any...</td>\n",
       "      <td>beautiful sofa great addition living room slee...</td>\n",
       "    </tr>\n",
       "    <tr>\n",
       "      <th>2</th>\n",
       "      <td>Table</td>\n",
       "      <td>This elegant table is perfect for your dining ...</td>\n",
       "      <td>elegant table perfect dining room durable wood...</td>\n",
       "    </tr>\n",
       "    <tr>\n",
       "      <th>3</th>\n",
       "      <td>Bed</td>\n",
       "      <td>This cozy bed is perfect for a good night's sl...</td>\n",
       "      <td>cozy bed perfect good night sleep soft mattres...</td>\n",
       "    </tr>\n",
       "    <tr>\n",
       "      <th>4</th>\n",
       "      <td>Bookshelf</td>\n",
       "      <td>This modern bookshelf is perfect for displayin...</td>\n",
       "      <td>modern bookshelf perfect display favorite book...</td>\n",
       "    </tr>\n",
       "    <tr>\n",
       "      <th>5</th>\n",
       "      <td>Desk</td>\n",
       "      <td>This functional desk is perfect for your home ...</td>\n",
       "      <td>functional desk perfect home office spacious s...</td>\n",
       "    </tr>\n",
       "    <tr>\n",
       "      <th>6</th>\n",
       "      <td>Ottoman</td>\n",
       "      <td>This stylish ottoman is perfect for your livin...</td>\n",
       "      <td>stylish ottoman perfect living room bedroom fo...</td>\n",
       "    </tr>\n",
       "    <tr>\n",
       "      <th>7</th>\n",
       "      <td>Cabinet</td>\n",
       "      <td>This versatile cabinet is perfect for storing ...</td>\n",
       "      <td>versatile cabinet perfect store belonging mult...</td>\n",
       "    </tr>\n",
       "    <tr>\n",
       "      <th>8</th>\n",
       "      <td>Dresser</td>\n",
       "      <td>This elegant dresser is perfect for your bedro...</td>\n",
       "      <td>elegant dresser perfect bedroom spacious drawe...</td>\n",
       "    </tr>\n",
       "    <tr>\n",
       "      <th>9</th>\n",
       "      <td>TV Stand</td>\n",
       "      <td>This sleek TV stand is perfect for your entert...</td>\n",
       "      <td>sleek tv stand perfect entertainment center mu...</td>\n",
       "    </tr>\n",
       "  </tbody>\n",
       "</table>\n",
       "</div>"
      ],
      "text/plain": [
       "  product_name                                        description  \\\n",
       "0        Chair  This comfortable chair is perfect for any room...   \n",
       "1         Sofa  This beautiful sofa is a great addition to any...   \n",
       "2        Table  This elegant table is perfect for your dining ...   \n",
       "3          Bed  This cozy bed is perfect for a good night's sl...   \n",
       "4    Bookshelf  This modern bookshelf is perfect for displayin...   \n",
       "5         Desk  This functional desk is perfect for your home ...   \n",
       "6      Ottoman  This stylish ottoman is perfect for your livin...   \n",
       "7      Cabinet  This versatile cabinet is perfect for storing ...   \n",
       "8      Dresser  This elegant dresser is perfect for your bedro...   \n",
       "9     TV Stand  This sleek TV stand is perfect for your entert...   \n",
       "\n",
       "                                      processed_text  \n",
       "0  comfortable chair perfect room home feature so...  \n",
       "1  beautiful sofa great addition living room slee...  \n",
       "2  elegant table perfect dining room durable wood...  \n",
       "3  cozy bed perfect good night sleep soft mattres...  \n",
       "4  modern bookshelf perfect display favorite book...  \n",
       "5  functional desk perfect home office spacious s...  \n",
       "6  stylish ottoman perfect living room bedroom fo...  \n",
       "7  versatile cabinet perfect store belonging mult...  \n",
       "8  elegant dresser perfect bedroom spacious drawe...  \n",
       "9  sleek tv stand perfect entertainment center mu...  "
      ]
     },
     "execution_count": 56,
     "metadata": {},
     "output_type": "execute_result"
    }
   ],
   "source": [
    "data"
   ]
  },
  {
   "cell_type": "code",
   "execution_count": 57,
   "metadata": {},
   "outputs": [],
   "source": [
    "vectorizer = TfidfVectorizer()\n",
    "vectors = vectorizer.fit_transform(data[\"processed_text\"])"
   ]
  },
  {
   "cell_type": "code",
   "execution_count": 58,
   "metadata": {},
   "outputs": [
    {
     "data": {
      "text/plain": [
       "[('Chair', 'Table', 0.25938762953244804),\n",
       " ('Ottoman', 'Dresser', 0.25085690793255755),\n",
       " ('Chair', 'Sofa', 0.2505512775077498),\n",
       " ('Chair', 'Bed', 0.2456180219805501),\n",
       " ('Table', 'Dresser', 0.24096224354397955)]"
      ]
     },
     "execution_count": 58,
     "metadata": {},
     "output_type": "execute_result"
    }
   ],
   "source": [
    "cosine_matrix = cosine_similarity(vectors)\n",
    "\n",
    "similarity_df = pd.DataFrame(\n",
    "    cosine_matrix, index=data[\"product_name\"], columns=data[\"product_name\"]\n",
    ")\n",
    "\n",
    "# similarity_df.reset_index()\n",
    "similarity_pairs = []\n",
    "\n",
    "for i in range(len(data[\"product_name\"])):\n",
    "    for j in range(i + 1, len(data[\"product_name\"])):\n",
    "        similarity_pairs.append(\n",
    "            (data[\"product_name\"][i], data[\"product_name\"][j], cosine_matrix[i][j])\n",
    "        )\n",
    "        \n",
    "similarity_pairs.sort(key=lambda x: x[2], reverse=True)\n",
    "similarity_pairs[:5]"
   ]
  },
  {
   "cell_type": "code",
   "execution_count": null,
   "metadata": {},
   "outputs": [],
   "source": []
  }
 ],
 "metadata": {
  "kernelspec": {
   "display_name": "NLP",
   "language": "python",
   "name": "python3"
  },
  "language_info": {
   "codemirror_mode": {
    "name": "ipython",
    "version": 3
   },
   "file_extension": ".py",
   "mimetype": "text/x-python",
   "name": "python",
   "nbconvert_exporter": "python",
   "pygments_lexer": "ipython3",
   "version": "3.10.15"
  }
 },
 "nbformat": 4,
 "nbformat_minor": 2
}
