{
 "cells": [
  {
   "cell_type": "code",
   "execution_count": 2,
   "id": "c265ca73",
   "metadata": {},
   "outputs": [],
   "source": [
    "import torch\n",
    "import numpy as np"
   ]
  },
  {
   "cell_type": "markdown",
   "id": "386b9d4f",
   "metadata": {},
   "source": [
    "Задание 1.\n",
    "\n",
    "Посмотрите на представленный ниже код и ответьте на вопрос.\n",
    "\n",
    "Какой объект хранится в переменной d?"
   ]
  },
  {
   "cell_type": "code",
   "execution_count": 3,
   "id": "bb446e64",
   "metadata": {},
   "outputs": [],
   "source": [
    "a = np.arange (1., 5.)\n",
    "b = np.arange (1., 4.)\n",
    "d = np.zeros ((4,3))\n",
    "for i in range (4) :\n",
    "    for j in range (3):\n",
    "        d[i,j] += a[i] * b[j]"
   ]
  },
  {
   "cell_type": "code",
   "execution_count": 7,
   "id": "a6fe5cce",
   "metadata": {},
   "outputs": [
    {
     "data": {
      "text/plain": [
       "(array([[ 1.,  2.,  3.],\n",
       "        [ 2.,  4.,  6.],\n",
       "        [ 3.,  6.,  9.],\n",
       "        [ 4.,  8., 12.]]),\n",
       " array([1., 2., 3., 4.]),\n",
       " array([1., 2., 3.]))"
      ]
     },
     "execution_count": 7,
     "metadata": {},
     "output_type": "execute_result"
    }
   ],
   "source": [
    "d, a, b"
   ]
  },
  {
   "cell_type": "markdown",
   "id": "bb8b6668",
   "metadata": {},
   "source": [
    "Выберите один ответ:\n",
    "\n",
    "матрица, полученная в результате векторного произведения (*)\n",
    "\n",
    "матрица, полученная в результате матричного перемножения\n",
    "\n",
    "тензор, полученный в результате тензорного произведения\n",
    "\n",
    "тензор, полученный в результате векторного произведения\n",
    "\n",
    "матрица, полученная в результате поэлементного перемножения\n",
    "\n",
    "---\n",
    "Задание 2.\n",
    "\n",
    "Какой из перечисленных вариантов решает ту же задачу, что и представленный ниже код?"
   ]
  },
  {
   "cell_type": "code",
   "execution_count": 8,
   "id": "221be427",
   "metadata": {},
   "outputs": [
    {
     "data": {
      "text/plain": [
       "array([[ 1.,  2.,  3.],\n",
       "       [ 2.,  4.,  6.],\n",
       "       [ 3.,  6.,  9.],\n",
       "       [ 4.,  8., 12.]])"
      ]
     },
     "execution_count": 8,
     "metadata": {},
     "output_type": "execute_result"
    }
   ],
   "source": [
    "a = np.arange (1., 5.)\n",
    "b = np.arange (1., 4.)\n",
    "d = np.zeros ((4,3))\n",
    "for i in range (4):\n",
    "    for j in range (3):\n",
    "        d[i,j] += a[i] * b[j]\n",
    "        \n",
    "d"
   ]
  },
  {
   "cell_type": "code",
   "execution_count": 12,
   "id": "730482e7",
   "metadata": {},
   "outputs": [
    {
     "data": {
      "text/plain": [
       "array([[ 1.,  2.,  3.],\n",
       "       [ 2.,  4.,  6.],\n",
       "       [ 3.,  6.,  9.],\n",
       "       [ 4.,  8., 12.]])"
      ]
     },
     "execution_count": 12,
     "metadata": {},
     "output_type": "execute_result"
    }
   ],
   "source": [
    "np.tensordot(a, b, axes=0)"
   ]
  },
  {
   "cell_type": "markdown",
   "id": "36171eff",
   "metadata": {},
   "source": [
    "---\n",
    "Задание 3.\n",
    "\n",
    "Что будет выведено на экран в результате выполнения представленного ниже кода?"
   ]
  },
  {
   "cell_type": "code",
   "execution_count": 19,
   "id": "b3f3f66f",
   "metadata": {},
   "outputs": [
    {
     "name": "stdout",
     "output_type": "stream",
     "text": [
      "12\n"
     ]
    }
   ],
   "source": [
    "t1 = torch.randn(size=(2, 3, 4, 9))\n",
    "t2 = t1.view(6, -1, 3)\n",
    "print (t2.size()[1])"
   ]
  },
  {
   "cell_type": "code",
   "execution_count": 21,
   "id": "2f7ff070",
   "metadata": {},
   "outputs": [],
   "source": [
    "initial_x = torch.Tensor([15])\n",
    "tensor = torch.nn.Parameter(initial_x, requires_grad=True)"
   ]
  },
  {
   "cell_type": "code",
   "execution_count": 23,
   "id": "d19548eb",
   "metadata": {},
   "outputs": [],
   "source": [
    "initial_x = torch.Tensor([15.])\n",
    "tensor = torch.nn.Parameter(initial_x, requires_grad=True)"
   ]
  },
  {
   "cell_type": "code",
   "execution_count": 24,
   "id": "d8066555",
   "metadata": {},
   "outputs": [],
   "source": [
    "tensor = torch.tensor([15.], requires_grad=True)"
   ]
  },
  {
   "cell_type": "code",
   "execution_count": 25,
   "id": "041c4e42",
   "metadata": {},
   "outputs": [
    {
     "ename": "RuntimeError",
     "evalue": "Only Tensors of floating point and complex dtype can require gradients",
     "output_type": "error",
     "traceback": [
      "\u001b[0;31m---------------------------------------------------------------------------\u001b[0m",
      "\u001b[0;31mRuntimeError\u001b[0m                              Traceback (most recent call last)",
      "Cell \u001b[0;32mIn[25], line 1\u001b[0m\n\u001b[0;32m----> 1\u001b[0m tensor \u001b[38;5;241m=\u001b[39m \u001b[43mtorch\u001b[49m\u001b[38;5;241;43m.\u001b[39;49m\u001b[43mtensor\u001b[49m\u001b[43m(\u001b[49m\u001b[43m[\u001b[49m\u001b[38;5;241;43m15\u001b[39;49m\u001b[43m]\u001b[49m\u001b[43m,\u001b[49m\u001b[43m \u001b[49m\u001b[43mrequires_grad\u001b[49m\u001b[38;5;241;43m=\u001b[39;49m\u001b[38;5;28;43;01mTrue\u001b[39;49;00m\u001b[43m)\u001b[49m\n",
      "\u001b[0;31mRuntimeError\u001b[0m: Only Tensors of floating point and complex dtype can require gradients"
     ]
    }
   ],
   "source": [
    "tensor = torch.tensor([15], requires_grad=True)"
   ]
  },
  {
   "cell_type": "code",
   "execution_count": 28,
   "id": "315b0129",
   "metadata": {},
   "outputs": [],
   "source": [
    "def lesson_func_tensor(x):\n",
    "    return (torch.sin(x/5) * torch.exp(x/10)) + (5 * torch.exp(-x/5))"
   ]
  },
  {
   "cell_type": "code",
   "execution_count": 29,
   "id": "3850a21b",
   "metadata": {},
   "outputs": [
    {
     "name": "stdout",
     "output_type": "stream",
     "text": [
      "Final x: 25.8549\n"
     ]
    }
   ],
   "source": [
    "x = torch.tensor([15.], requires_grad=True)\n",
    "optimizer = torch.optim.SGD([x], lr=0.3)\n",
    "\n",
    "for _ in range(45):\n",
    "    optimizer.zero_grad()\n",
    "    loss = lesson_func_tensor(x)\n",
    "    loss.backward()\n",
    "    optimizer.step()\n",
    "\n",
    "print(f\"Final x: {x.item():.4f}\")  # Результат: ~25.1503"
   ]
  },
  {
   "cell_type": "code",
   "execution_count": 32,
   "id": "d3f5b478",
   "metadata": {},
   "outputs": [
    {
     "data": {
      "text/plain": [
       "array([[ 1.,  2.,  3.],\n",
       "       [ 2.,  4.,  6.],\n",
       "       [ 3.,  6.,  9.],\n",
       "       [ 4.,  8., 12.]])"
      ]
     },
     "execution_count": 32,
     "metadata": {},
     "output_type": "execute_result"
    }
   ],
   "source": [
    "a = np.arange (1., 5.)\n",
    "b = np.arange (1., 4.)\n",
    "d = np.zeros ((4,3))\n",
    "for i in range (4):\n",
    "    for j in range (3):\n",
    "        d[i,j] += a[i] * b[j]\n",
    "        \n",
    "d"
   ]
  },
  {
   "cell_type": "code",
   "execution_count": 39,
   "id": "a0f72228",
   "metadata": {},
   "outputs": [
    {
     "data": {
      "text/plain": [
       "tensor([[ 1.,  2.,  3.],\n",
       "        [ 2.,  4.,  6.],\n",
       "        [ 3.,  6.,  9.],\n",
       "        [ 4.,  8., 12.]])"
      ]
     },
     "execution_count": 39,
     "metadata": {},
     "output_type": "execute_result"
    }
   ],
   "source": [
    "torch.tensordot(torch.Tensor(a), torch.Tensor(b), dims=0)"
   ]
  },
  {
   "cell_type": "code",
   "execution_count": 40,
   "id": "344155af",
   "metadata": {},
   "outputs": [
    {
     "data": {
      "text/plain": [
       "array([[ 1.,  2.,  3.],\n",
       "       [ 2.,  4.,  6.],\n",
       "       [ 3.,  6.,  9.],\n",
       "       [ 4.,  8., 12.]])"
      ]
     },
     "execution_count": 40,
     "metadata": {},
     "output_type": "execute_result"
    }
   ],
   "source": [
    "np.tensordot(a, b, axes=0)"
   ]
  },
  {
   "cell_type": "code",
   "execution_count": null,
   "id": "11d5f17f",
   "metadata": {},
   "outputs": [],
   "source": []
  }
 ],
 "metadata": {
  "kernelspec": {
   "display_name": "dlenv",
   "language": "python",
   "name": "python3"
  },
  "language_info": {
   "codemirror_mode": {
    "name": "ipython",
    "version": 3
   },
   "file_extension": ".py",
   "mimetype": "text/x-python",
   "name": "python",
   "nbconvert_exporter": "python",
   "pygments_lexer": "ipython3",
   "version": "3.11.11"
  }
 },
 "nbformat": 4,
 "nbformat_minor": 5
}
