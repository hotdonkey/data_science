{
 "cells": [
  {
   "cell_type": "code",
   "execution_count": 1,
   "metadata": {},
   "outputs": [],
   "source": [
    "import numpy as np\n",
    "import pandas as pd\n",
    "from collections import Counter\n",
    "import seaborn as sns\n",
    "\n",
    "from sklearn.model_selection import train_test_split\n",
    "from sklearn.metrics import mean_squared_error, accuracy_score\n",
    "from sklearn.preprocessing import OrdinalEncoder\n",
    "from sklearn.tree import DecisionTreeClassifier"
   ]
  },
  {
   "cell_type": "markdown",
   "metadata": {},
   "source": [
    "___\n",
    "## Задание 1.\n",
    "Выберите один или несколько ответов:\n",
    "> Конечных узлов (листьев) 2\n",
    "\n",
    "> Критерий gini в исходной выборке равен 0.32\n",
    "\n",
    "> Обученное дерево решений получилось с ошибками\n",
    "\n",
    "> Глубина дерева равна 2"
   ]
  },
  {
   "cell_type": "code",
   "execution_count": 2,
   "metadata": {},
   "outputs": [],
   "source": [
    "dataset = pd.DataFrame(\n",
    "    [[1, 0, 0], [0, 0, 1], [0, 1, 1], [1, 1, 1], [0, 0, 1]], columns=['холодно', 'солнце_светит', 'идти_гулять'])\n",
    "dataset\n",
    "\n",
    "X = dataset.iloc[:, :-1]\n",
    "y = dataset.iloc[:, -1]"
   ]
  },
  {
   "cell_type": "code",
   "execution_count": 3,
   "metadata": {},
   "outputs": [
    {
     "data": {
      "text/html": [
       "<style>#sk-container-id-1 {color: black;}#sk-container-id-1 pre{padding: 0;}#sk-container-id-1 div.sk-toggleable {background-color: white;}#sk-container-id-1 label.sk-toggleable__label {cursor: pointer;display: block;width: 100%;margin-bottom: 0;padding: 0.3em;box-sizing: border-box;text-align: center;}#sk-container-id-1 label.sk-toggleable__label-arrow:before {content: \"▸\";float: left;margin-right: 0.25em;color: #696969;}#sk-container-id-1 label.sk-toggleable__label-arrow:hover:before {color: black;}#sk-container-id-1 div.sk-estimator:hover label.sk-toggleable__label-arrow:before {color: black;}#sk-container-id-1 div.sk-toggleable__content {max-height: 0;max-width: 0;overflow: hidden;text-align: left;background-color: #f0f8ff;}#sk-container-id-1 div.sk-toggleable__content pre {margin: 0.2em;color: black;border-radius: 0.25em;background-color: #f0f8ff;}#sk-container-id-1 input.sk-toggleable__control:checked~div.sk-toggleable__content {max-height: 200px;max-width: 100%;overflow: auto;}#sk-container-id-1 input.sk-toggleable__control:checked~label.sk-toggleable__label-arrow:before {content: \"▾\";}#sk-container-id-1 div.sk-estimator input.sk-toggleable__control:checked~label.sk-toggleable__label {background-color: #d4ebff;}#sk-container-id-1 div.sk-label input.sk-toggleable__control:checked~label.sk-toggleable__label {background-color: #d4ebff;}#sk-container-id-1 input.sk-hidden--visually {border: 0;clip: rect(1px 1px 1px 1px);clip: rect(1px, 1px, 1px, 1px);height: 1px;margin: -1px;overflow: hidden;padding: 0;position: absolute;width: 1px;}#sk-container-id-1 div.sk-estimator {font-family: monospace;background-color: #f0f8ff;border: 1px dotted black;border-radius: 0.25em;box-sizing: border-box;margin-bottom: 0.5em;}#sk-container-id-1 div.sk-estimator:hover {background-color: #d4ebff;}#sk-container-id-1 div.sk-parallel-item::after {content: \"\";width: 100%;border-bottom: 1px solid gray;flex-grow: 1;}#sk-container-id-1 div.sk-label:hover label.sk-toggleable__label {background-color: #d4ebff;}#sk-container-id-1 div.sk-serial::before {content: \"\";position: absolute;border-left: 1px solid gray;box-sizing: border-box;top: 0;bottom: 0;left: 50%;z-index: 0;}#sk-container-id-1 div.sk-serial {display: flex;flex-direction: column;align-items: center;background-color: white;padding-right: 0.2em;padding-left: 0.2em;position: relative;}#sk-container-id-1 div.sk-item {position: relative;z-index: 1;}#sk-container-id-1 div.sk-parallel {display: flex;align-items: stretch;justify-content: center;background-color: white;position: relative;}#sk-container-id-1 div.sk-item::before, #sk-container-id-1 div.sk-parallel-item::before {content: \"\";position: absolute;border-left: 1px solid gray;box-sizing: border-box;top: 0;bottom: 0;left: 50%;z-index: -1;}#sk-container-id-1 div.sk-parallel-item {display: flex;flex-direction: column;z-index: 1;position: relative;background-color: white;}#sk-container-id-1 div.sk-parallel-item:first-child::after {align-self: flex-end;width: 50%;}#sk-container-id-1 div.sk-parallel-item:last-child::after {align-self: flex-start;width: 50%;}#sk-container-id-1 div.sk-parallel-item:only-child::after {width: 0;}#sk-container-id-1 div.sk-dashed-wrapped {border: 1px dashed gray;margin: 0 0.4em 0.5em 0.4em;box-sizing: border-box;padding-bottom: 0.4em;background-color: white;}#sk-container-id-1 div.sk-label label {font-family: monospace;font-weight: bold;display: inline-block;line-height: 1.2em;}#sk-container-id-1 div.sk-label-container {text-align: center;}#sk-container-id-1 div.sk-container {/* jupyter's `normalize.less` sets `[hidden] { display: none; }` but bootstrap.min.css set `[hidden] { display: none !important; }` so we also need the `!important` here to be able to override the default hidden behavior on the sphinx rendered scikit-learn.org. See: https://github.com/scikit-learn/scikit-learn/issues/21755 */display: inline-block !important;position: relative;}#sk-container-id-1 div.sk-text-repr-fallback {display: none;}</style><div id=\"sk-container-id-1\" class=\"sk-top-container\"><div class=\"sk-text-repr-fallback\"><pre>DecisionTreeClassifier()</pre><b>In a Jupyter environment, please rerun this cell to show the HTML representation or trust the notebook. <br />On GitHub, the HTML representation is unable to render, please try loading this page with nbviewer.org.</b></div><div class=\"sk-container\" hidden><div class=\"sk-item\"><div class=\"sk-estimator sk-toggleable\"><input class=\"sk-toggleable__control sk-hidden--visually\" id=\"sk-estimator-id-1\" type=\"checkbox\" checked><label for=\"sk-estimator-id-1\" class=\"sk-toggleable__label sk-toggleable__label-arrow\">DecisionTreeClassifier</label><div class=\"sk-toggleable__content\"><pre>DecisionTreeClassifier()</pre></div></div></div></div></div>"
      ],
      "text/plain": [
       "DecisionTreeClassifier()"
      ]
     },
     "execution_count": 3,
     "metadata": {},
     "output_type": "execute_result"
    }
   ],
   "source": [
    "tree = DecisionTreeClassifier()\n",
    "tree.fit(X, y)\n"
   ]
  },
  {
   "cell_type": "code",
   "execution_count": 4,
   "metadata": {},
   "outputs": [
    {
     "name": "stdout",
     "output_type": "stream",
     "text": [
      "Количество конечных узлов (листьев): 3\n"
     ]
    }
   ],
   "source": [
    "n_leaves = tree.tree_.n_leaves\n",
    "print(\"Количество конечных узлов (листьев):\", n_leaves)"
   ]
  },
  {
   "cell_type": "code",
   "execution_count": 5,
   "metadata": {},
   "outputs": [
    {
     "name": "stdout",
     "output_type": "stream",
     "text": [
      " 0.31999999999999984\n"
     ]
    }
   ],
   "source": [
    "classes = Counter(y)\n",
    "whole = len(y)\n",
    "\n",
    "gini = 1\n",
    "\n",
    "for freq in classes.values():\n",
    "    gini -= (freq/whole)**2\n",
    "\n",
    "print(\"\", gini)\n"
   ]
  },
  {
   "cell_type": "code",
   "execution_count": 6,
   "metadata": {},
   "outputs": [
    {
     "name": "stdout",
     "output_type": "stream",
     "text": [
      "Количество ошибок: 0\n"
     ]
    }
   ],
   "source": [
    "predictions = tree.predict(X)\n",
    "errors = sum(predictions != y)\n",
    "print(\"Количество ошибок:\", errors)"
   ]
  },
  {
   "cell_type": "code",
   "execution_count": 7,
   "metadata": {},
   "outputs": [
    {
     "name": "stdout",
     "output_type": "stream",
     "text": [
      "Глубина дерева: 2\n"
     ]
    }
   ],
   "source": [
    "depth = tree.tree_.max_depth\n",
    "print(\"Глубина дерева:\", depth)"
   ]
  },
  {
   "cell_type": "markdown",
   "metadata": {},
   "source": [
    "---\n",
    "## Задание 2.\n",
    "Обучите дерево решений из sklearn на базовых параметрах для решения поставленной задачи и у неё посмотрите на важность признаков и выберите правильные варианты ответа в LMS:\n",
    "\n",
    "Выберите один ответ:\n",
    "> Важность 'холодно' 0.375, важность 'солнце светит' 0.625\n",
    "\n",
    "> Важность 'холодно' 0.5, важность 'солнце светит' 0.5\n",
    "\n",
    "> Нет правильного ответа\n",
    "\n",
    "> Важность 'холодно' 2, важность 'солнце светит' 1"
   ]
  },
  {
   "cell_type": "code",
   "execution_count": 8,
   "metadata": {},
   "outputs": [
    {
     "data": {
      "application/vnd.microsoft.datawrangler.viewer.v0+json": {
       "columns": [
        {
         "name": "index",
         "rawType": "int64",
         "type": "integer"
        },
        {
         "name": "холодно",
         "rawType": "float64",
         "type": "float"
        },
        {
         "name": "солнце_светит",
         "rawType": "float64",
         "type": "float"
        }
       ],
       "conversionMethod": "pd.DataFrame",
       "ref": "cc3ef076-a317-480b-8bb1-b8b6866cf362",
       "rows": [
        [
         "0",
         "0.37499999999999983",
         "0.6250000000000001"
        ]
       ],
       "shape": {
        "columns": 2,
        "rows": 1
       }
      },
      "text/html": [
       "<div>\n",
       "<style scoped>\n",
       "    .dataframe tbody tr th:only-of-type {\n",
       "        vertical-align: middle;\n",
       "    }\n",
       "\n",
       "    .dataframe tbody tr th {\n",
       "        vertical-align: top;\n",
       "    }\n",
       "\n",
       "    .dataframe thead th {\n",
       "        text-align: right;\n",
       "    }\n",
       "</style>\n",
       "<table border=\"1\" class=\"dataframe\">\n",
       "  <thead>\n",
       "    <tr style=\"text-align: right;\">\n",
       "      <th></th>\n",
       "      <th>холодно</th>\n",
       "      <th>солнце_светит</th>\n",
       "    </tr>\n",
       "  </thead>\n",
       "  <tbody>\n",
       "    <tr>\n",
       "      <th>0</th>\n",
       "      <td>0.375</td>\n",
       "      <td>0.625</td>\n",
       "    </tr>\n",
       "  </tbody>\n",
       "</table>\n",
       "</div>"
      ],
      "text/plain": [
       "   холодно  солнце_светит\n",
       "0    0.375          0.625"
      ]
     },
     "execution_count": 8,
     "metadata": {},
     "output_type": "execute_result"
    }
   ],
   "source": [
    "names = tree.feature_names_in_\n",
    "importances = tree.feature_importances_\n",
    "pd.DataFrame([importances], columns=names.tolist())"
   ]
  },
  {
   "cell_type": "markdown",
   "metadata": {},
   "source": [
    "---\n",
    "## Задание 3.\n",
    "Будем работать с датасетом музыкальных композиций, только с меньшей версией этого набора данных. Целевой признак popularity.\n",
    "\n",
    "Ссылка на нужную версию датасета.\n",
    "\n",
    "1. Считайте данные через pandas \n",
    "\n",
    "2. Сделайте разбиение на обучение и тест с соотношением 80/20 и random_state=1. \n",
    "\n",
    "3. Проверьте есть ли в датасете категориальные строковые признаки. Если есть, то преобразуйте через OrdinalEncoder. \n",
    "\n",
    "Какая получилась размерность у тренировочной и тестовой выборок?\n",
    "\n",
    "Запишите ответ в виде: кол-во строк, кол-во столбцов через запятую, с пробелом. \n",
    "Пример ввода: 7500, 20 \n",
    "\n",
    "У тренировочной Ответ, у тестовой  Ответ"
   ]
  },
  {
   "cell_type": "code",
   "execution_count": 9,
   "metadata": {},
   "outputs": [
    {
     "name": "stdout",
     "output_type": "stream",
     "text": [
      "<class 'pandas.core.frame.DataFrame'>\n",
      "RangeIndex: 5000 entries, 0 to 4999\n",
      "Data columns (total 16 columns):\n",
      " #   Column            Non-Null Count  Dtype  \n",
      "---  ------            --------------  -----  \n",
      " 0   popularity        5000 non-null   int64  \n",
      " 1   duration_ms       5000 non-null   int64  \n",
      " 2   explicit          5000 non-null   bool   \n",
      " 3   danceability      5000 non-null   float64\n",
      " 4   energy            5000 non-null   float64\n",
      " 5   key               5000 non-null   int64  \n",
      " 6   loudness          5000 non-null   float64\n",
      " 7   mode              5000 non-null   int64  \n",
      " 8   speechiness       5000 non-null   float64\n",
      " 9   acousticness      5000 non-null   float64\n",
      " 10  instrumentalness  5000 non-null   float64\n",
      " 11  liveness          5000 non-null   float64\n",
      " 12  valence           5000 non-null   float64\n",
      " 13  tempo             5000 non-null   float64\n",
      " 14  time_signature    5000 non-null   int64  \n",
      " 15  track_genre       5000 non-null   object \n",
      "dtypes: bool(1), float64(9), int64(5), object(1)\n",
      "memory usage: 590.9+ KB\n"
     ]
    }
   ],
   "source": [
    "music = pd.read_csv(\"./musical_composes.csv\")\n",
    "\n",
    "music.info()"
   ]
  },
  {
   "cell_type": "code",
   "execution_count": 10,
   "metadata": {},
   "outputs": [],
   "source": [
    "music[\"explicit\"] = music[\"explicit\"].apply(lambda x: 1 if x == True else 0)"
   ]
  },
  {
   "cell_type": "code",
   "execution_count": 11,
   "metadata": {},
   "outputs": [],
   "source": [
    "ord_enc = OrdinalEncoder()\n",
    "music[\"track_genre\"] = ord_enc.fit_transform(music[[\"track_genre\"]])"
   ]
  },
  {
   "cell_type": "code",
   "execution_count": 12,
   "metadata": {},
   "outputs": [
    {
     "name": "stdout",
     "output_type": "stream",
     "text": [
      "<class 'pandas.core.frame.DataFrame'>\n",
      "RangeIndex: 5000 entries, 0 to 4999\n",
      "Data columns (total 16 columns):\n",
      " #   Column            Non-Null Count  Dtype  \n",
      "---  ------            --------------  -----  \n",
      " 0   popularity        5000 non-null   int64  \n",
      " 1   duration_ms       5000 non-null   int64  \n",
      " 2   explicit          5000 non-null   int64  \n",
      " 3   danceability      5000 non-null   float64\n",
      " 4   energy            5000 non-null   float64\n",
      " 5   key               5000 non-null   int64  \n",
      " 6   loudness          5000 non-null   float64\n",
      " 7   mode              5000 non-null   int64  \n",
      " 8   speechiness       5000 non-null   float64\n",
      " 9   acousticness      5000 non-null   float64\n",
      " 10  instrumentalness  5000 non-null   float64\n",
      " 11  liveness          5000 non-null   float64\n",
      " 12  valence           5000 non-null   float64\n",
      " 13  tempo             5000 non-null   float64\n",
      " 14  time_signature    5000 non-null   int64  \n",
      " 15  track_genre       5000 non-null   float64\n",
      "dtypes: float64(10), int64(6)\n",
      "memory usage: 625.1 KB\n"
     ]
    }
   ],
   "source": [
    "music.info()"
   ]
  },
  {
   "cell_type": "code",
   "execution_count": 13,
   "metadata": {},
   "outputs": [],
   "source": [
    "y = music[\"popularity\"]\n",
    "X = music.drop(columns=[\"popularity\"])\n",
    "\n",
    "X_train, X_test, y_train, y_test = train_test_split(\n",
    "    X, y, test_size=0.2, random_state=1)"
   ]
  },
  {
   "cell_type": "code",
   "execution_count": 14,
   "metadata": {},
   "outputs": [
    {
     "name": "stdout",
     "output_type": "stream",
     "text": [
      "У тренировочной (4000, 15), у тестовой (1000, 15)\n"
     ]
    }
   ],
   "source": [
    "print(f\"У тренировочной {X_train.shape}, у тестовой {X_test.shape}\")"
   ]
  },
  {
   "cell_type": "markdown",
   "metadata": {},
   "source": [
    "---\n",
    "## Задание 4.\n",
    "Продолжайте работать с датасетом музыкальных композиций.\n",
    "\n",
    "1. Обучите дерево решений для задачи на базовых параметрах с фиксированным random_state=1 \n",
    "\n",
    "2. Посчитайте метрику MSE и выберите правильный вариант ответа:\n",
    "\n",
    "Выберите один ответ:\n",
    "> Модель переобучена на обучающем наборе данных, необходимо уменьшить глубину дерева\n",
    "\n",
    "> Модель переобучена на тестовом наборе данных, необходимо уменьшить глубину дерева\n",
    "\n",
    "> Модель недообучена, необходимо увеличить глубину дерева\n",
    "\n",
    "> Модель недообучена, необходимо уменьшить глубину дерева"
   ]
  },
  {
   "cell_type": "code",
   "execution_count": 15,
   "metadata": {},
   "outputs": [
    {
     "name": "stdout",
     "output_type": "stream",
     "text": [
      "Скоры на трейне: 33.636\n",
      "Скоры на тесте: 989.429\n"
     ]
    }
   ],
   "source": [
    "tree = DecisionTreeClassifier(random_state=1)\n",
    "tree.fit(X_train, y_train)\n",
    "\n",
    "y_pred_test = tree.predict(X_test)\n",
    "score_test = mean_squared_error(y_test, y_pred_test)\n",
    "\n",
    "y_pred_train = tree.predict(X_train)\n",
    "score_train = mean_squared_error(y_train, y_pred_train)\n",
    "\n",
    "print(f\"Скоры на трейне: {score_train}\")\n",
    "print(f\"Скоры на тесте: {score_test}\")"
   ]
  },
  {
   "cell_type": "markdown",
   "metadata": {},
   "source": [
    "> Модель переобучена на обучающем наборе данных, необходимо уменьшить глубину дерева"
   ]
  },
  {
   "cell_type": "markdown",
   "metadata": {},
   "source": [
    "---\n",
    "## Задание 5.\n",
    "Продолжайте работать с датасетом музыкальных композиций.\n",
    "\n",
    "У модели дерево решений оставьте параметр random_state=1. Измените только глубину дерева решений в диапазонах от 1 до 25, чтобы метрика MSE на тесте стала самой лучшей и напишите полученное значение метрики, округлив её до 2 знака после точки."
   ]
  },
  {
   "cell_type": "code",
   "execution_count": 16,
   "metadata": {},
   "outputs": [
    {
     "data": {
      "text/plain": [
       "900.16"
      ]
     },
     "execution_count": 16,
     "metadata": {},
     "output_type": "execute_result"
    }
   ],
   "source": [
    "score_list = []\n",
    "tree_depth = [i for i in range(1, 26)]\n",
    "\n",
    "for i in tree_depth:\n",
    "    tree = DecisionTreeClassifier(random_state=1, max_depth=i)\n",
    "    tree.fit(X_train, y_train)\n",
    "    y_pred = tree.predict(X_test)\n",
    "    score_test = np.round(mean_squared_error(y_test, y_pred),2)\n",
    "    score_list.append(score_test)\n",
    "    \n",
    "score_list[np.argmin(score_list)]"
   ]
  },
  {
   "cell_type": "markdown",
   "metadata": {},
   "source": [
    "Ваш ответ неверен. Внимательно изучите материалы по теме"
   ]
  },
  {
   "cell_type": "markdown",
   "metadata": {},
   "source": [
    "---\n",
    "## Задание 6.\n",
    "Продолжайте работать с датасетом музыкальных композиций.\n",
    "Модель регрессии обучилась крайне плохо на датасете, давайте перейдем к задаче бинарной классификации (популярная песня/не популярная песня), для этого нужно перевести целевой признак `popularity` в бинарный вид: \n",
    "\n",
    "- Если признак `popularity` больше 50 - 1 класс\n",
    "\n",
    "- Если признак `popularity` меньше или равен 50 - 0 класс \n",
    "\n",
    "Работайте с выборками после разбиения на обучение и тест и создайте переменные y_train_bin и y_test_bin.\n",
    "\n",
    "Посчитайте соотношение классов на обучающей и тестовой выборках и укажите эти значения\n",
    "\n",
    "Объектов 1 класса на тесте  ___Ответ___ и объектов 0 класса на тесте ___Ответ___\n",
    "\n",
    "Объектов 1 класса на обучении ___Ответ___ и объектов 0 класса на обучении  ___Ответ___"
   ]
  },
  {
   "cell_type": "code",
   "execution_count": 17,
   "metadata": {},
   "outputs": [],
   "source": [
    "music['popularity'] = music['popularity'].apply(lambda x: 1 if x > 50 else 0)"
   ]
  },
  {
   "cell_type": "code",
   "execution_count": 18,
   "metadata": {},
   "outputs": [],
   "source": [
    "y = music[\"popularity\"]\n",
    "X = music.drop(columns=[\"popularity\"])\n",
    "\n",
    "X_train, X_test, y_train, y_test = train_test_split(\n",
    "    X, y, test_size=0.2, random_state=1)"
   ]
  },
  {
   "cell_type": "code",
   "execution_count": 19,
   "metadata": {},
   "outputs": [
    {
     "name": "stdout",
     "output_type": "stream",
     "text": [
      "Объектов 1 класса на тесте  401 и объектов 0 класса на тесте 599\n",
      "Объектов 1 класса на обучении  1627 и объектов 0 класса на обучении 2373\n"
     ]
    }
   ],
   "source": [
    "y_train_1 = y_train.sum()\n",
    "y_train_0 = len(y_train) - y_train_1\n",
    "\n",
    "y_test_1 = y_test.sum()\n",
    "y_test_0 = len(y_test) - y_test_1\n",
    "\n",
    "print(\n",
    "    f'Объектов 1 класса на тесте  {y_test_1} и объектов 0 класса на тесте {y_test_0}')\n",
    "\n",
    "print(\n",
    "    f'Объектов 1 класса на обучении  {y_train_1} и объектов 0 класса на обучении {y_train_0}')"
   ]
  },
  {
   "cell_type": "markdown",
   "metadata": {},
   "source": [
    "---\n",
    "## Задача 7.\n",
    "Продолжайте работать с датасетом музыкальных композиций.\n",
    "Обучите дерево решений для задачи бинарной классификации с фиксированным `random_state=1`, измените только глубину дерева в диапазоне от 1 до 25, чтобы метрика accuracy на тесте была самая лучшая.\n",
    "\n",
    "Какая метрика accuracy на тесте у вас получилась?"
   ]
  },
  {
   "cell_type": "code",
   "execution_count": 20,
   "metadata": {},
   "outputs": [
    {
     "data": {
      "text/plain": [
       "0.698"
      ]
     },
     "execution_count": 20,
     "metadata": {},
     "output_type": "execute_result"
    }
   ],
   "source": [
    "score_list = []\n",
    "tree_depth = [i for i in range(1, 26)]\n",
    "\n",
    "for i in tree_depth:\n",
    "    tree = DecisionTreeClassifier(random_state=1, max_depth=i)\n",
    "    tree.fit(X_train, y_train)\n",
    "    y_pred = tree.predict(X_test)\n",
    "    score_test = accuracy_score(y_test, y_pred)\n",
    "    score_list.append(score_test)\n",
    "    \n",
    "score_list[np.argmax(score_list)]"
   ]
  },
  {
   "cell_type": "markdown",
   "metadata": {},
   "source": [
    "Ваш ответ неверен. Внимательно изучите материалы по теме."
   ]
  },
  {
   "cell_type": "markdown",
   "metadata": {},
   "source": [
    "---\n",
    "## Задание 8.\n",
    "Продолжайте работать с датасетом музыкальных композиций.\n",
    "Получите важности признаков у обученной модели дерева решений с предыдущего задания и выберите верные утверждения:\n",
    "\n",
    "Выберите один или несколько ответов:\n",
    "\n",
    "> Признак `duration_ms` полезней, чем признак `danceability`\n",
    "\n",
    "> Признак `valence` один из самых полезных признаков\n",
    "\n",
    "> Признак `key` полезней, чем признак `liveness`\n",
    "\n",
    ">Признак `explicit` один из самых полезных признаков"
   ]
  },
  {
   "cell_type": "code",
   "execution_count": 24,
   "metadata": {},
   "outputs": [
    {
     "data": {
      "text/plain": [
       "<Axes: >"
      ]
     },
     "execution_count": 24,
     "metadata": {},
     "output_type": "execute_result"
    },
    {
     "data": {
      "image/png": "[encoded data removed]",
      "text/plain": [
       "<Figure size 640x480 with 1 Axes>"
      ]
     },
     "metadata": {},
     "output_type": "display_data"
    }
   ],
   "source": [
    "names = tree.feature_names_in_\n",
    "importances = tree.feature_importances_\n",
    "importances_bar = dict(zip(names, importances))\n",
    "sns.barplot(importances_bar, orient='h')"
   ]
  },
  {
   "cell_type": "markdown",
   "metadata": {},
   "source": [
    "Ответ\n",
    "---\n",
    "> Признак `duration_ms` полезней, чем признак `danceability`\n",
    "\n",
    "> Признак `valence` один из самых полезных признаков\n",
    "---"
   ]
  },
  {
   "cell_type": "code",
   "execution_count": null,
   "metadata": {},
   "outputs": [],
   "source": []
  }
 ],
 "metadata": {
  "kernelspec": {
   "display_name": "Python 3",
   "language": "python",
   "name": "python3"
  },
  "language_info": {
   "codemirror_mode": {
    "name": "ipython",
    "version": 3
   },
   "file_extension": ".py",
   "mimetype": "text/x-python",
   "name": "python",
   "nbconvert_exporter": "python",
   "pygments_lexer": "ipython3",
   "version": "3.11.11"
  }
 },
 "nbformat": 4,
 "nbformat_minor": 2
}
