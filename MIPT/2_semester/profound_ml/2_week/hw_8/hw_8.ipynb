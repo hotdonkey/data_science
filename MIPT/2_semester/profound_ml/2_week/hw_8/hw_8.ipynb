{
 "cells": [
  {
   "cell_type": "code",
   "execution_count": 81,
   "metadata": {},
   "outputs": [],
   "source": [
    "import pandas as pd\n",
    "import numpy as np\n",
    "import matplotlib.pyplot as plt\n",
    "\n",
    "from sklearn.model_selection import train_test_split\n",
    "from sklearn.preprocessing import OrdinalEncoder, OneHotEncoder\n",
    "from sklearn.compose import ColumnTransformer\n",
    "\n",
    "from sklearn.metrics import f1_score\n",
    "from sklearn.ensemble import RandomForestClassifier, GradientBoostingClassifier\n",
    "from sklearn.tree import DecisionTreeRegressor\n",
    "\n",
    "from catboost import CatBoostClassifier"
   ]
  },
  {
   "cell_type": "markdown",
   "metadata": {},
   "source": [
    "Задание 1.\n",
    "\n",
    "Для выполнения задания вы можете самостоятельно создать Python-ноутбук, а в LMS прикладывать лишь требуемые результаты.\n",
    "\n",
    "Будем работать с датасетом для предсказания оттока клиента.\n",
    "\n",
    "Можно скачать датасет с google drive.\n",
    "\n",
    "Целевой признак Churn\n",
    "\n",
    "Считайте данные через pandas\n",
    "\n",
    "Сделайте разбиение на обучение и тест с соотношением 80/20, со стратификацией по целевому признаку и random_state=1.\n",
    "\n",
    "Удалите признак идентификатора клиента. Изучите признаки в тренировочном датасете, убедитесь, что типы данных соответствуют значениям в признаке.\n",
    "\n",
    "Если есть не явные пропуски замените их в численных признаках на 0\n",
    "\n",
    "Укажите в ответе, сколько категориальных/бинарных/численных признаков имеется в задаче."
   ]
  },
  {
   "cell_type": "code",
   "execution_count": 82,
   "metadata": {},
   "outputs": [],
   "source": [
    "df = pd.read_csv(\"./data.csv\")"
   ]
  },
  {
   "cell_type": "code",
   "execution_count": 83,
   "metadata": {},
   "outputs": [
    {
     "data": {
      "application/vnd.microsoft.datawrangler.viewer.v0+json": {
       "columns": [
        {
         "name": "index",
         "rawType": "int64",
         "type": "integer"
        },
        {
         "name": "customerID",
         "rawType": "object",
         "type": "string"
        },
        {
         "name": "gender",
         "rawType": "object",
         "type": "string"
        },
        {
         "name": "SeniorCitizen",
         "rawType": "int64",
         "type": "integer"
        },
        {
         "name": "Partner",
         "rawType": "object",
         "type": "string"
        },
        {
         "name": "Dependents",
         "rawType": "object",
         "type": "string"
        },
        {
         "name": "tenure",
         "rawType": "int64",
         "type": "integer"
        },
        {
         "name": "PhoneService",
         "rawType": "object",
         "type": "string"
        },
        {
         "name": "MultipleLines",
         "rawType": "object",
         "type": "string"
        },
        {
         "name": "InternetService",
         "rawType": "object",
         "type": "string"
        },
        {
         "name": "OnlineSecurity",
         "rawType": "object",
         "type": "string"
        },
        {
         "name": "OnlineBackup",
         "rawType": "object",
         "type": "string"
        },
        {
         "name": "DeviceProtection",
         "rawType": "object",
         "type": "string"
        },
        {
         "name": "TechSupport",
         "rawType": "object",
         "type": "string"
        },
        {
         "name": "StreamingTV",
         "rawType": "object",
         "type": "string"
        },
        {
         "name": "StreamingMovies",
         "rawType": "object",
         "type": "string"
        },
        {
         "name": "Contract",
         "rawType": "object",
         "type": "string"
        },
        {
         "name": "PaperlessBilling",
         "rawType": "object",
         "type": "string"
        },
        {
         "name": "PaymentMethod",
         "rawType": "object",
         "type": "string"
        },
        {
         "name": "MonthlyCharges",
         "rawType": "float64",
         "type": "float"
        },
        {
         "name": "TotalCharges",
         "rawType": "object",
         "type": "string"
        },
        {
         "name": "Churn",
         "rawType": "object",
         "type": "string"
        }
       ],
       "conversionMethod": "pd.DataFrame",
       "ref": "324ced7f-115f-4c2b-b839-b819627c1933",
       "rows": [
        [
         "0",
         "7590-VHVEG",
         "Female",
         "0",
         "Yes",
         "No",
         "1",
         "No",
         "No phone service",
         "DSL",
         "No",
         "Yes",
         "No",
         "No",
         "No",
         "No",
         "Month-to-month",
         "Yes",
         "Electronic check",
         "29.85",
         "29.85",
         "No"
        ],
        [
         "1",
         "5575-GNVDE",
         "Male",
         "0",
         "No",
         "No",
         "34",
         "Yes",
         "No",
         "DSL",
         "Yes",
         "No",
         "Yes",
         "No",
         "No",
         "No",
         "One year",
         "No",
         "Mailed check",
         "56.95",
         "1889.5",
         "No"
        ],
        [
         "2",
         "3668-QPYBK",
         "Male",
         "0",
         "No",
         "No",
         "2",
         "Yes",
         "No",
         "DSL",
         "Yes",
         "Yes",
         "No",
         "No",
         "No",
         "No",
         "Month-to-month",
         "Yes",
         "Mailed check",
         "53.85",
         "108.15",
         "Yes"
        ],
        [
         "3",
         "7795-CFOCW",
         "Male",
         "0",
         "No",
         "No",
         "45",
         "No",
         "No phone service",
         "DSL",
         "Yes",
         "No",
         "Yes",
         "Yes",
         "No",
         "No",
         "One year",
         "No",
         "Bank transfer (automatic)",
         "42.3",
         "1840.75",
         "No"
        ],
        [
         "4",
         "9237-HQITU",
         "Female",
         "0",
         "No",
         "No",
         "2",
         "Yes",
         "No",
         "Fiber optic",
         "No",
         "No",
         "No",
         "No",
         "No",
         "No",
         "Month-to-month",
         "Yes",
         "Electronic check",
         "70.7",
         "151.65",
         "Yes"
        ]
       ],
       "shape": {
        "columns": 21,
        "rows": 5
       }
      },
      "text/html": [
       "<div>\n",
       "<style scoped>\n",
       "    .dataframe tbody tr th:only-of-type {\n",
       "        vertical-align: middle;\n",
       "    }\n",
       "\n",
       "    .dataframe tbody tr th {\n",
       "        vertical-align: top;\n",
       "    }\n",
       "\n",
       "    .dataframe thead th {\n",
       "        text-align: right;\n",
       "    }\n",
       "</style>\n",
       "<table border=\"1\" class=\"dataframe\">\n",
       "  <thead>\n",
       "    <tr style=\"text-align: right;\">\n",
       "      <th></th>\n",
       "      <th>customerID</th>\n",
       "      <th>gender</th>\n",
       "      <th>SeniorCitizen</th>\n",
       "      <th>Partner</th>\n",
       "      <th>Dependents</th>\n",
       "      <th>tenure</th>\n",
       "      <th>PhoneService</th>\n",
       "      <th>MultipleLines</th>\n",
       "      <th>InternetService</th>\n",
       "      <th>OnlineSecurity</th>\n",
       "      <th>...</th>\n",
       "      <th>DeviceProtection</th>\n",
       "      <th>TechSupport</th>\n",
       "      <th>StreamingTV</th>\n",
       "      <th>StreamingMovies</th>\n",
       "      <th>Contract</th>\n",
       "      <th>PaperlessBilling</th>\n",
       "      <th>PaymentMethod</th>\n",
       "      <th>MonthlyCharges</th>\n",
       "      <th>TotalCharges</th>\n",
       "      <th>Churn</th>\n",
       "    </tr>\n",
       "  </thead>\n",
       "  <tbody>\n",
       "    <tr>\n",
       "      <th>0</th>\n",
       "      <td>7590-VHVEG</td>\n",
       "      <td>Female</td>\n",
       "      <td>0</td>\n",
       "      <td>Yes</td>\n",
       "      <td>No</td>\n",
       "      <td>1</td>\n",
       "      <td>No</td>\n",
       "      <td>No phone service</td>\n",
       "      <td>DSL</td>\n",
       "      <td>No</td>\n",
       "      <td>...</td>\n",
       "      <td>No</td>\n",
       "      <td>No</td>\n",
       "      <td>No</td>\n",
       "      <td>No</td>\n",
       "      <td>Month-to-month</td>\n",
       "      <td>Yes</td>\n",
       "      <td>Electronic check</td>\n",
       "      <td>29.85</td>\n",
       "      <td>29.85</td>\n",
       "      <td>No</td>\n",
       "    </tr>\n",
       "    <tr>\n",
       "      <th>1</th>\n",
       "      <td>5575-GNVDE</td>\n",
       "      <td>Male</td>\n",
       "      <td>0</td>\n",
       "      <td>No</td>\n",
       "      <td>No</td>\n",
       "      <td>34</td>\n",
       "      <td>Yes</td>\n",
       "      <td>No</td>\n",
       "      <td>DSL</td>\n",
       "      <td>Yes</td>\n",
       "      <td>...</td>\n",
       "      <td>Yes</td>\n",
       "      <td>No</td>\n",
       "      <td>No</td>\n",
       "      <td>No</td>\n",
       "      <td>One year</td>\n",
       "      <td>No</td>\n",
       "      <td>Mailed check</td>\n",
       "      <td>56.95</td>\n",
       "      <td>1889.5</td>\n",
       "      <td>No</td>\n",
       "    </tr>\n",
       "    <tr>\n",
       "      <th>2</th>\n",
       "      <td>3668-QPYBK</td>\n",
       "      <td>Male</td>\n",
       "      <td>0</td>\n",
       "      <td>No</td>\n",
       "      <td>No</td>\n",
       "      <td>2</td>\n",
       "      <td>Yes</td>\n",
       "      <td>No</td>\n",
       "      <td>DSL</td>\n",
       "      <td>Yes</td>\n",
       "      <td>...</td>\n",
       "      <td>No</td>\n",
       "      <td>No</td>\n",
       "      <td>No</td>\n",
       "      <td>No</td>\n",
       "      <td>Month-to-month</td>\n",
       "      <td>Yes</td>\n",
       "      <td>Mailed check</td>\n",
       "      <td>53.85</td>\n",
       "      <td>108.15</td>\n",
       "      <td>Yes</td>\n",
       "    </tr>\n",
       "    <tr>\n",
       "      <th>3</th>\n",
       "      <td>7795-CFOCW</td>\n",
       "      <td>Male</td>\n",
       "      <td>0</td>\n",
       "      <td>No</td>\n",
       "      <td>No</td>\n",
       "      <td>45</td>\n",
       "      <td>No</td>\n",
       "      <td>No phone service</td>\n",
       "      <td>DSL</td>\n",
       "      <td>Yes</td>\n",
       "      <td>...</td>\n",
       "      <td>Yes</td>\n",
       "      <td>Yes</td>\n",
       "      <td>No</td>\n",
       "      <td>No</td>\n",
       "      <td>One year</td>\n",
       "      <td>No</td>\n",
       "      <td>Bank transfer (automatic)</td>\n",
       "      <td>42.30</td>\n",
       "      <td>1840.75</td>\n",
       "      <td>No</td>\n",
       "    </tr>\n",
       "    <tr>\n",
       "      <th>4</th>\n",
       "      <td>9237-HQITU</td>\n",
       "      <td>Female</td>\n",
       "      <td>0</td>\n",
       "      <td>No</td>\n",
       "      <td>No</td>\n",
       "      <td>2</td>\n",
       "      <td>Yes</td>\n",
       "      <td>No</td>\n",
       "      <td>Fiber optic</td>\n",
       "      <td>No</td>\n",
       "      <td>...</td>\n",
       "      <td>No</td>\n",
       "      <td>No</td>\n",
       "      <td>No</td>\n",
       "      <td>No</td>\n",
       "      <td>Month-to-month</td>\n",
       "      <td>Yes</td>\n",
       "      <td>Electronic check</td>\n",
       "      <td>70.70</td>\n",
       "      <td>151.65</td>\n",
       "      <td>Yes</td>\n",
       "    </tr>\n",
       "  </tbody>\n",
       "</table>\n",
       "<p>5 rows × 21 columns</p>\n",
       "</div>"
      ],
      "text/plain": [
       "   customerID  gender  SeniorCitizen Partner Dependents  tenure PhoneService  \\\n",
       "0  7590-VHVEG  Female              0     Yes         No       1           No   \n",
       "1  5575-GNVDE    Male              0      No         No      34          Yes   \n",
       "2  3668-QPYBK    Male              0      No         No       2          Yes   \n",
       "3  7795-CFOCW    Male              0      No         No      45           No   \n",
       "4  9237-HQITU  Female              0      No         No       2          Yes   \n",
       "\n",
       "      MultipleLines InternetService OnlineSecurity  ... DeviceProtection  \\\n",
       "0  No phone service             DSL             No  ...               No   \n",
       "1                No             DSL            Yes  ...              Yes   \n",
       "2                No             DSL            Yes  ...               No   \n",
       "3  No phone service             DSL            Yes  ...              Yes   \n",
       "4                No     Fiber optic             No  ...               No   \n",
       "\n",
       "  TechSupport StreamingTV StreamingMovies        Contract PaperlessBilling  \\\n",
       "0          No          No              No  Month-to-month              Yes   \n",
       "1          No          No              No        One year               No   \n",
       "2          No          No              No  Month-to-month              Yes   \n",
       "3         Yes          No              No        One year               No   \n",
       "4          No          No              No  Month-to-month              Yes   \n",
       "\n",
       "               PaymentMethod MonthlyCharges  TotalCharges Churn  \n",
       "0           Electronic check          29.85         29.85    No  \n",
       "1               Mailed check          56.95        1889.5    No  \n",
       "2               Mailed check          53.85        108.15   Yes  \n",
       "3  Bank transfer (automatic)          42.30       1840.75    No  \n",
       "4           Electronic check          70.70        151.65   Yes  \n",
       "\n",
       "[5 rows x 21 columns]"
      ]
     },
     "execution_count": 83,
     "metadata": {},
     "output_type": "execute_result"
    }
   ],
   "source": [
    "df.head()"
   ]
  },
  {
   "cell_type": "code",
   "execution_count": 86,
   "metadata": {},
   "outputs": [],
   "source": [
    "data = df.drop(columns=[\"customerID\"])\n",
    "# data[\"gender\"] = data[\"gender\"].apply(lambda x: 1 if x == \"Female\" else 0)\n",
    "# data[\"Partner\"] = data[\"Partner\"].apply(lambda x: 1 if x == \"Yes\" else 0)\n",
    "# data[\"Dependents\"] = data[\"Dependents\"].apply(lambda x: 1 if x == \"Yes\" else 0)\n",
    "# data[\"PhoneService\"] = data[\"PhoneService\"].apply(lambda x: 1 if x == \"Yes\" else 0)\n",
    "# data[\"PaperlessBilling\"] = data[\"PaperlessBilling\"].apply(lambda x: 1 if x == \"Yes\" else 0)\n",
    "# data[\"Churn\"] = data[\"Churn\"].apply(lambda x: 1 if x == \"Yes\" else 0)\n",
    "data[\"MonthlyCharges\"] = pd.to_numeric(data[\"MonthlyCharges\"])\n",
    "data[\"TotalCharges\"] = data[\"TotalCharges\"].str.replace(\" \", \"0\")\n",
    "data[\"TotalCharges\"] = pd.to_numeric(data[\"TotalCharges\"])"
   ]
  },
  {
   "cell_type": "code",
   "execution_count": 87,
   "metadata": {},
   "outputs": [],
   "source": [
    "X = data.drop(columns=[\"Churn\"])\n",
    "y = data[\"Churn\"]"
   ]
  },
  {
   "cell_type": "code",
   "execution_count": 88,
   "metadata": {},
   "outputs": [
    {
     "name": "stdout",
     "output_type": "stream",
     "text": [
      "Категориальныех переменных: 10\n",
      "Бинарных признаков: 6\n",
      "Числовых признаков: 3\n"
     ]
    }
   ],
   "source": [
    "binary = [\"gender\", \"SeniorCitizen\", \"Partner\", \"Dependents\", \"PhoneService\", \"PaperlessBilling\"]\n",
    "categorical = [\n",
    "    \"MultipleLines\", \"InternetService\", \"OnlineSecurity\",\n",
    "    \"OnlineBackup\", \"DeviceProtection\", \"TechSupport\",\n",
    "    \"StreamingTV\", \"StreamingMovies\", \"Contract\", \"PaymentMethod\",\n",
    "    ]\n",
    "\n",
    "print(f\"Категориальныех переменных: {len(categorical)}\")\n",
    "print(f\"Бинарных признаков: {len(binary)}\")\n",
    "print(f\"Числовых признаков: {len(X.columns.to_list())- len(categorical) - len(binary)}\")"
   ]
  },
  {
   "cell_type": "code",
   "execution_count": 89,
   "metadata": {},
   "outputs": [],
   "source": [
    "X_train, X_test, y_train, y_test = train_test_split(\n",
    "    X, y, test_size=0.2, random_state=1)"
   ]
  },
  {
   "cell_type": "markdown",
   "metadata": {},
   "source": [
    "---\n",
    "Задание 2.\n",
    "\n",
    "Продолжайте работать с датасетом для предсказания оттока клиента.\n",
    "\n",
    "Преобразуйте бинарные признаки через OrdinalEncoder, а категориальные - через OneHotEncoder (с параметром sparse_output=False).\n",
    "\n",
    "Не забудьте удалить преобразованные категориальные колонки из выборок.\n",
    "\n",
    "Какая получилась размерность у тренировочной и тестовой выборок?\n",
    "\n",
    "Пример ввода: 1000, 10 (после запятой пробел)"
   ]
  },
  {
   "cell_type": "code",
   "execution_count": 90,
   "metadata": {},
   "outputs": [
    {
     "name": "stdout",
     "output_type": "stream",
     "text": [
      "5634, 40\n",
      "1409, 40\n"
     ]
    }
   ],
   "source": [
    "# Преобразуем бинарные признаки через OrdinalEncoder\n",
    "ordinal_encoder = OrdinalEncoder()\n",
    "X_train[binary] = ordinal_encoder.fit_transform(X_train[binary])\n",
    "X_test[binary] = ordinal_encoder.transform(X_test[binary])\n",
    "\n",
    "# Преобразуем категориальные признаки через OneHotEncoder\n",
    "onehot_encoder = OneHotEncoder(sparse=False)  # Обратите внимание на используемый параметр\n",
    "X_train_encoded = onehot_encoder.fit_transform(X_train[categorical])\n",
    "X_test_encoded = onehot_encoder.transform(X_test[categorical])\n",
    "\n",
    "# Создаем DataFrame с закодированными категориальными признаками\n",
    "X_train_encoded_df = pd.DataFrame(X_train_encoded, columns=onehot_encoder.get_feature_names_out(categorical))\n",
    "X_test_encoded_df = pd.DataFrame(X_test_encoded, columns=onehot_encoder.get_feature_names_out(categorical))\n",
    "\n",
    "# Удаляем исходные категориальные колонки из тренировочной и тестовой выборок\n",
    "X_train = X_train.drop(columns=categorical).reset_index(drop=True)\n",
    "X_test = X_test.drop(columns=categorical).reset_index(drop=True)\n",
    "\n",
    "# Объединяем закодированные признаки с основными\n",
    "X_train_transformed = pd.concat([X_train, X_train_encoded_df.reset_index(drop=True)], axis=1)\n",
    "X_test_transformed = pd.concat([X_test, X_test_encoded_df.reset_index(drop=True)], axis=1)\n",
    "\n",
    "# Проверяем размерности\n",
    "train_shape = X_train_transformed.shape\n",
    "test_shape = X_test_transformed.shape\n",
    "\n",
    "# Выводим размеры\n",
    "print(f\"{train_shape[0]}, {train_shape[1]}\")  # Размеры обучающей выборки\n",
    "print(f\"{test_shape[0]}, {test_shape[1]}\")  # Размеры тестовой выборки"
   ]
  },
  {
   "cell_type": "code",
   "execution_count": 91,
   "metadata": {},
   "outputs": [],
   "source": [
    "# preprocessor = ColumnTransformer(\n",
    "#     transformers=[\n",
    "#         ('ord', OrdinalEncoder(), binary),\n",
    "#         ('ohe', OneHotEncoder(), categorical)\n",
    "#     ]\n",
    "# )\n",
    "\n",
    "# # Применяем трансформер к обучающей выборке\n",
    "# X_train_transformed = preprocessor.fit_transform(X_train)\n",
    "# X_test_transformed = preprocessor.transform(X_test)\n",
    "\n",
    "# # Проверяем размерности\n",
    "# train_shape = X_train_transformed.shape\n",
    "# test_shape = X_test_transformed.shape\n",
    "\n",
    "# # Выводим размеры\n",
    "# print(f\"{train_shape[0]}, {train_shape[1]} тренировочная выборка\")  # Размеры обучающей выборки\n",
    "# print(f\"{test_shape[0]}, {test_shape[1]} тестовая выборка\")  # Размеры тестовой выборки\n"
   ]
  },
  {
   "cell_type": "markdown",
   "metadata": {},
   "source": [
    "---\n",
    "Задание 3.\n",
    "\n",
    "Продолжайте работать с датасетом для предсказания оттока клиента.\n",
    "\n",
    "Обучите случайный лес на базовых гиперпараметрах с фиксированным random_state=1 и посчитайте метрику f1 с усреднением macro на тренировочной и тестовой выборках.\n",
    "\n",
    "Обучите градиентный бустинг из sklearn на базовых гиперпараметрах с фиксированным random_state=1 и посчитайте метрику f1 с усреднением macro на тренировочной и тестовой выборках.\n",
    "\n",
    "Укажите, на сколько метрика на тесте на градиентном бустинге лучше, чем на случайном лесу, округлив до второго знака после точки."
   ]
  },
  {
   "cell_type": "code",
   "execution_count": 92,
   "metadata": {},
   "outputs": [
    {
     "name": "stdout",
     "output_type": "stream",
     "text": [
      "Random Forest - Train F1: 0.9975, Test F1: 0.7104\n",
      "Gradient Boosting - Train F1: 0.7606, Test F1: 0.7313\n",
      "Improvement of Gradient Boosting over Random Forest on test set: 0.02\n"
     ]
    }
   ],
   "source": [
    "# Обучение модели случайного леса\n",
    "rf_model = RandomForestClassifier(random_state=1)\n",
    "rf_model.fit(X_train_transformed, y_train)\n",
    "\n",
    "# Прогноз для тренировочной и тестовой выборок\n",
    "y_train_pred_rf = rf_model.predict(X_train_transformed)\n",
    "y_test_pred_rf = rf_model.predict(X_test_transformed)\n",
    "\n",
    "# Рассчитываем метрику F1 для случайного леса\n",
    "f1_train_rf = f1_score(y_train, y_train_pred_rf, average='macro')\n",
    "f1_test_rf = f1_score(y_test, y_test_pred_rf, average='macro')\n",
    "\n",
    "# Обучение модели градиентного бустинга\n",
    "gb_model = GradientBoostingClassifier(random_state=1)\n",
    "gb_model.fit(X_train_transformed, y_train)\n",
    "\n",
    "# Прогноз для тренировочной и тестовой выборок\n",
    "y_train_pred_gb = gb_model.predict(X_train_transformed)\n",
    "y_test_pred_gb = gb_model.predict(X_test_transformed)\n",
    "\n",
    "# Рассчитываем метрику F1 для градиентного бустинга\n",
    "f1_train_gb = f1_score(y_train, y_train_pred_gb, average='macro')\n",
    "f1_test_gb = f1_score(y_test, y_test_pred_gb, average='macro')\n",
    "\n",
    "# Выводим результаты\n",
    "print(f\"Random Forest - Train F1: {f1_train_rf:.4f}, Test F1: {f1_test_rf:.4f}\")\n",
    "print(f\"Gradient Boosting - Train F1: {f1_train_gb:.4f}, Test F1: {f1_test_gb:.4f}\")\n",
    "\n",
    "# На сколько метрика теста на градиентном бустинге лучше, чем на случайном лесу\n",
    "improvement = round(f1_test_gb - f1_test_rf, 2)\n",
    "print(f\"Improvement of Gradient Boosting over Random Forest on test set: {improvement}\")"
   ]
  },
  {
   "cell_type": "markdown",
   "metadata": {},
   "source": [
    "---\n",
    "Задание 4.\n",
    "\n",
    "Продолжайте работать с датасетом для предсказания оттока клиента.\n",
    "\n",
    "У модели градиентный бустинг оставьте параметр random_state=1. Измените глубину деревьев от 1 до 20 с шагом 1.\n",
    "\n",
    "Визуализируйте изменение метрики f1 macro на тренировочной и тестовой выборках от параметра глубины.\n",
    "\n",
    "Выберите правильный вывод.\n"
   ]
  },
  {
   "cell_type": "code",
   "execution_count": 76,
   "metadata": {},
   "outputs": [
    {
     "data": {
      "text/plain": [
       "<matplotlib.legend.Legend at 0x177ef1110>"
      ]
     },
     "execution_count": 76,
     "metadata": {},
     "output_type": "execute_result"
    },
    {
     "data": {
      "image/png": "[encoded data removed]",
      "text/plain": [
       "<Figure size 1000x600 with 1 Axes>"
      ]
     },
     "metadata": {},
     "output_type": "display_data"
    }
   ],
   "source": [
    "# Параметры для градиентного бустинга\n",
    "depths = range(1, 21)\n",
    "f1_train_scores = []\n",
    "f1_test_scores = []\n",
    "\n",
    "# Цикл по глубине деревьев\n",
    "for depth in depths:\n",
    "    gb_model = GradientBoostingClassifier(max_depth=depth, random_state=1)\n",
    "    gb_model.fit(X_train_transformed, y_train)\n",
    "\n",
    "    # Прогнозируем\n",
    "    y_train_pred = gb_model.predict(X_train_transformed)\n",
    "    y_test_pred = gb_model.predict(X_test_transformed)\n",
    "\n",
    "    # Считаем метрики F1\n",
    "    f1_train = f1_score(y_train, y_train_pred, average='macro')\n",
    "    f1_test = f1_score(y_test, y_test_pred, average='macro')\n",
    "\n",
    "    f1_train_scores.append(f1_train)\n",
    "    f1_test_scores.append(f1_test)\n",
    "\n",
    "# Визуализация\n",
    "plt.figure(figsize=(10, 6))\n",
    "plt.plot(depths, f1_train_scores, label='Train F1 Score', marker='o')\n",
    "plt.plot(depths, f1_test_scores, label='Test F1 Score', marker='o')\n",
    "plt.title('Изменение F1 Score в зависимости от глубины деревьев')\n",
    "plt.xlabel('Глубина деревьев')\n",
    "plt.ylabel('F1 Score (Macro)')\n",
    "plt.xticks(depths)\n",
    "plt.legend()"
   ]
  },
  {
   "cell_type": "markdown",
   "metadata": {},
   "source": [
    "---\n",
    "Задание 5.\n",
    "Продолжайте работать с датасетом для предсказания оттока клиента.\n",
    "\n",
    "У модели градиентный бустинг оставьте параметр random_state=1. Измените скорость обучения от 0.1 до 0.9 с шагом 0.1.\n",
    "\n",
    "Визуализируйте изменение метрики f1 macro на тренировочной и тестовой выборках от параметра скорости обучения.\n",
    "\n",
    "Выберите правильный вывод.\n",
    "Выберите один ответ:\n",
    "\n",
    "Параметр learning_rate не влияет на качество градиентного бустинга на тесте\n",
    "\n",
    "Увеличение до разумных пределов параметра learning_rate в градиентном бустинге ухудшает качество модели на тесте\n",
    "\n",
    "Увеличение до разумных пределов параметра learning_rate в градиентном бустинге улучшает качество модели на тесте"
   ]
  },
  {
   "cell_type": "code",
   "execution_count": 77,
   "metadata": {},
   "outputs": [
    {
     "data": {
      "image/png": "[encoded data removed]",
      "text/plain": [
       "<Figure size 1000x600 with 1 Axes>"
      ]
     },
     "metadata": {},
     "output_type": "display_data"
    }
   ],
   "source": [
    "# Параметры для градиентного бустинга\n",
    "learning_rates = np.arange(0.1, 1.0, 0.1)\n",
    "f1_train_scores = []\n",
    "f1_test_scores = []\n",
    "\n",
    "# Цикл по скорости обучения\n",
    "for lr in learning_rates:\n",
    "    gb_model = GradientBoostingClassifier(learning_rate=lr, random_state=1)\n",
    "    gb_model.fit(X_train_transformed, y_train)\n",
    "    \n",
    "    # Прогнозируем\n",
    "    y_train_pred = gb_model.predict(X_train_transformed)\n",
    "    y_test_pred = gb_model.predict(X_test_transformed)\n",
    "    \n",
    "    # Считаем метрики F1\n",
    "    f1_train = f1_score(y_train, y_train_pred, average='macro')\n",
    "    f1_test = f1_score(y_test, y_test_pred, average='macro')\n",
    "    \n",
    "    f1_train_scores.append(f1_train)\n",
    "    f1_test_scores.append(f1_test)\n",
    "\n",
    "# Визуализация\n",
    "plt.figure(figsize=(10, 6))\n",
    "plt.plot(learning_rates, f1_train_scores, label='Train F1 Score', marker='o')\n",
    "plt.plot(learning_rates, f1_test_scores, label='Test F1 Score', marker='o')\n",
    "plt.title('Изменение F1 Score в зависимости от скорости обучения (learning_rate)')\n",
    "plt.xlabel('Скорость обучения (learning_rate)')\n",
    "plt.ylabel('F1 Score (Macro)')\n",
    "plt.xticks(learning_rates)\n",
    "plt.legend()\n",
    "plt.grid()\n",
    "plt.show()"
   ]
  },
  {
   "cell_type": "markdown",
   "metadata": {},
   "source": [
    "---\n",
    "Задание 6.\n",
    "Продолжайте работать с датасетом для предсказания оттока клиента.\n",
    "\n",
    "Обучите модель CatBoost с параметрами random_state=1, n_estimators=100 на данных без не явных пропусков, без идентификатора клиента и без предобработанных категориальных и бинарных переменных, передав в параметр cat_features модели список категориальных и бинарных признаков.\n",
    "\n",
    "Укажите метрику F1 macro на тестовой выборке, округлив ее до третьего знака после точки.\n",
    "\n"
   ]
  },
  {
   "cell_type": "code",
   "execution_count": 95,
   "metadata": {},
   "outputs": [],
   "source": [
    "data = df.drop(columns=[\"customerID\"])\n",
    "X = data.drop(columns=[\"Churn\"])\n",
    "y = data[\"Churn\"]\n",
    "\n",
    "X_train, X_test, y_train, y_test = train_test_split(\n",
    "    X, y, test_size=0.2, random_state=1)\n",
    "\n",
    "binary = [\"gender\", \"SeniorCitizen\", \"Partner\", \"Dependents\", \"PhoneService\", \"PaperlessBilling\"]\n",
    "categorical = [\n",
    "    \"MultipleLines\", \"InternetService\", \"OnlineSecurity\",\n",
    "    \"OnlineBackup\", \"DeviceProtection\", \"TechSupport\",\n",
    "    \"StreamingTV\", \"StreamingMovies\", \"Contract\", \"PaymentMethod\",\n",
    "    ]\n"
   ]
  },
  {
   "cell_type": "code",
   "execution_count": 96,
   "metadata": {},
   "outputs": [
    {
     "name": "stdout",
     "output_type": "stream",
     "text": [
      "F1 Macro на тестовой выборке: 0.749\n"
     ]
    }
   ],
   "source": [
    "# Объединяем бинарные и категориальные признаки для передачи в cat_features\n",
    "cat_features = binary + categorical\n",
    "\n",
    "# Обучаем модель CatBoost\n",
    "model = CatBoostClassifier(random_state=1, n_estimators=100, cat_features=cat_features, verbose=0)\n",
    "model.fit(X_train, y_train)\n",
    "\n",
    "# Прогнозируем на тестовой выборке\n",
    "y_test_pred = model.predict(X_test)\n",
    "\n",
    "# Рассчитываем метрику F1 macro\n",
    "f1_macro = f1_score(y_test, y_test_pred, average='macro')\n",
    "\n",
    "# Выводим результат, округляя до третьего знака после запятой\n",
    "print(f\"F1 Macro на тестовой выборке: {f1_macro:.3f}\")"
   ]
  },
  {
   "cell_type": "markdown",
   "metadata": {},
   "source": [
    "---\n",
    "Задание 7.\n",
    "\n",
    "Продолжайте работать с датасетом для предсказания оттока клиента.\n",
    "\n",
    "В этом задании будем делать свой градиентный бустинг.\n",
    "\n",
    "Нужно сделать класс с методами:\n",
    "\n",
    "_ _init_ _ - на вход передаются параметры n_estimators, learning_rate, max_depth\n",
    "\n",
    "fit - на вход передаются параметры X, y\n",
    "\n",
    "predict - на вход передаются параметры X, y\n",
    "\n",
    "Первое предсказание сделайте, как среднее целевых значений на тренировочной выборке, последующие - предсказания отклонений (y - y_hat). Пользуйтесь деревьями решений для задачи регрессии, фиксируйте у них random_state номером дерева в ансамбле, начиная с 0.\n",
    "\n",
    "Можете воспользоваться заготовкой.\n",
    "\n",
    "Обучите получившуюся модель на тренировочной выборке, где обработаны пропуски и категории, сделайте предсказания на тестовой выборке и укажите метрику качества f1 macro, округлив её до третьего знака после точки. Например. 0,111"
   ]
  },
  {
   "cell_type": "code",
   "execution_count": 97,
   "metadata": {},
   "outputs": [
    {
     "ename": "TypeError",
     "evalue": "Could not convert NoYesNoNoNoYesNoNoNoYesNoNoNoYesNoNoNoNoNoYesNoNoYesNoNoNoNoYesNoNoNoYesNoNoNoYesYesYesNoYesYesNoNoNoNoNoYesYesNoNoNoYesNoNoYesNoNoNoNoYesNoNoYesYesNoNoNoNoNoNoNoNoNoNoNoYesNoNoNoYesYesNoYesNoYesNoNoNoYesYesNoNoYesYesNoNoNoNoNoYesNoNoNoNoNoNoNoNoYesNoNoNoNoNoNoYesYesNoNoNoNoNoYesNoNoNoNoYesNoNoNoNoNoYesYesNoNoNoNoNoNoYesYesNoYesYesNoNoNoNoNoYesNoYesNoNoYesYesYesNoYesNoNoNoNoNoNoNoNoYesYesNoNoNoNoNoNoNoYesNoNoNoNoNoNoYesNoYesYesNoYesYesNoYesNoNoNoNoNoNoNoNoYesNoNoNoNoNoNoNoNoYesYesYesNoNoNoNoNoNoNoNoNoYesNoYesNoNoNoNoYesNoNoNoNoNoNoNoNoYesNoNoNoNoNoYesNoNoYesNoNoNoYesYesYesNoNoNoYesNoNoNoNoYesNoNoNoNoNoNoNoYesNoNoNoNoYesNoYesNoNoNoNoNoNoNoNoNoYesNoNoNoNoNoNoNoNoNoNoNoNoNoNoNoNoNoYesNoNoNoNoNoYesNoNoNoYesNoNoNoNoNoNoNoNoYesYesNoNoNoNoNoNoYesYesNoYesYesNoNoNoNoNoNoNoNoNoYesNoNoYesNoNoYesNoNoYesYesNoYesYesNoNoNoYesNoYesNoYesYesNoNoNoNoNoNoNoNoYesNoNoNoNoNoNoNoNoNoNoYesNoYesNoNoNoNoYesNoNoNoYesNoNoNoYesNoNoYesNoNoNoYesNoNoYesNoYesNoYesNoYesYesNoNoYesYesNoNoNoNoNoNoNoNoNoNoNoYesNoYesNoNoYesYesNoYesNoNoNoYesNoNoNoNoNoNoYesNoNoYesNoNoNoNoYesNoNoNoYesNoNoNoNoYesNoNoNoNoNoNoYesNoYesYesYesNoYesYesYesNoNoNoYesYesNoNoNoNoNoNoNoNoNoNoNoYesNoYesNoNoNoYesNoYesNoNoNoNoYesNoYesNoYesNoNoNoNoNoNoYesYesNoYesNoNoNoNoNoNoNoNoNoNoNoYesYesYesNoNoYesNoNoYesNoNoYesNoNoNoNoYesNoNoYesNoNoNoYesNoNoNoNoNoNoNoNoNoNoYesNoNoYesYesYesNoNoNoYesYesNoYesNoNoNoNoNoNoNoNoNoNoNoNoNoNoNoNoYesNoYesNoNoNoYesYesNoNoNoNoYesYesNoNoYesNoNoNoNoNoYesNoNoNoNoNoNoNoNoYesNoNoNoNoYesNoNoNoYesYesNoNoNoNoYesNoNoYesYesNoYesYesNoNoYesNoNoNoNoNoNoNoNoNoNoNoYesNoNoNoYesYesNoNoNoNoNoNoNoNoNoYesNoNoNoNoYesNoNoNoNoNoYesNoNoNoYesYesYesNoNoYesYesYesYesNoYesNoNoNoNoNoNoNoNoYesNoNoNoNoNoNoYesYesNoYesNoNoYesNoNoYesNoNoNoYesNoYesNoNoYesYesNoNoNoYesNoYesNoNoNoNoNoNoYesNoNoYesNoNoNoYesYesNoNoYesNoNoNoNoNoYesYesNoNoNoNoNoYesNoNoYesNoNoYesNoNoNoNoNoYesYesNoNoYesNoNoNoYesYesNoNoNoNoNoNoYesNoNoNoNoNoYesNoNoNoYesYesNoNoNoNoNoYesNoNoNoNoNoYesNoYesNoNoYesNoNoNoNoNoNoYesNoNoNoYesNoNoNoYesNoNoNoYesNoNoNoNoYesYesNoNoYesYesYesNoNoYesNoNoNoNoYesNoNoNoYesYesYesNoYesYesNoYesNoYesNoYesNoYesNoNoNoYesNoNoNoNoYesNoYesNoYesYesYesNoNoNoNoNoNoYesNoNoNoNoYesNoYesNoYesNoNoNoNoNoNoNoNoYesNoYesNoNoNoNoNoYesYesNoYesNoNoNoNoNoYesYesYesNoNoNoNoNoNoNoNoYesNoNoYesYesNoYesNoNoNoNoNoNoNoYesNoNoNoNoYesNoNoNoYesNoNoNoNoYesNoNoYesYesNoNoNoNoNoNoNoNoNoNoNoNoNoNoNoYesNoNoNoNoNoNoYesNoYesYesNoNoNoYesNoNoNoNoNoNoNoNoYesNoNoNoNoNoNoNoNoYesNoNoNoNoNoNoNoNoNoNoNoYesNoYesYesNoNoNoYesNoYesNoYesNoNoYesNoNoNoNoNoNoNoYesNoYesNoNoNoNoNoNoNoNoNoNoYesNoNoNoYesNoNoNoYesNoNoNoNoNoNoNoNoNoNoNoNoNoNoNoNoNoNoNoNoYesNoYesNoNoYesNoYesNoYesNoNoNoYesYesNoNoNoNoNoNoYesNoNoNoYesNoNoYesNoNoNoNoNoYesNoYesNoNoNoNoYesNoNoYesNoNoNoNoNoNoNoNoYesYesYesNoYesYesNoNoNoYesYesYesNoYesNoNoNoNoYesYesNoNoNoYesNoNoNoNoYesNoNoYesNoYesNoNoYesNoNoYesNoNoNoNoYesNoNoNoYesNoNoNoNoYesYesYesNoNoYesNoNoNoNoNoNoNoYesNoYesNoYesYesNoNoYesNoNoNoNoNoNoNoNoYesYesYesNoNoNoNoNoYesNoYesNoYesNoNoNoNoNoNoNoNoNoNoYesNoYesYesNoYesNoNoYesNoYesNoNoNoYesNoNoNoNoNoNoNoYesNoNoNoNoNoNoNoNoNoYesNoNoNoNoYesNoNoNoNoNoYesYesNoYesNoNoNoNoNoNoYesNoNoNoYesNoNoYesNoNoNoNoNoNoNoNoNoNoYesNoNoNoNoNoNoNoYesNoYesNoNoYesNoYesNoYesNoYesNoNoYesNoNoNoYesNoYesNoNoNoYesNoNoYesNoYesNoYesNoNoNoNoYesYesNoNoYesNoNoYesNoNoNoNoNoNoNoNoYesNoYesNoNoNoNoNoYesNoYesNoNoYesYesNoNoNoYesNoNoYesNoNoNoNoNoYesNoNoYesYesNoYesYesNoYesYesNoYesNoNoNoYesYesNoNoNoNoNoNoYesNoNoNoYesNoNoYesNoNoNoYesYesNoNoNoNoNoNoNoNoYesNoNoYesNoNoNoNoNoNoNoNoNoNoYesNoNoYesYesYesNoNoYesNoNoNoNoYesNoYesNoNoNoNoNoNoNoYesNoYesYesYesYesNoNoYesYesNoNoNoNoYesNoYesYesYesNoYesYesNoYesYesNoNoYesYesNoYesYesYesNoNoNoYesNoYesNoNoNoNoNoNoNoYesNoNoNoNoYesNoNoNoNoYesNoNoYesNoNoYesNoNoYesNoNoNoNoNoNoYesYesNoNoNoYesYesYesNoYesYesNoNoNoNoYesNoNoNoNoYesNoNoNoNoNoYesNoNoNoNoYesNoNoNoNoNoYesYesNoYesNoYesNoNoYesNoNoYesNoNoYesYesNoNoNoNoNoNoNoNoNoNoYesNoNoNoNoYesYesNoNoNoNoNoYesNoYesNoNoNoYesNoNoNoNoNoNoNoNoNoNoNoNoNoNoYesNoNoNoYesNoYesNoNoNoYesNoYesNoNoNoNoNoNoYesNoNoNoYesNoNoNoNoNoYesNoYesYesNoYesNoYesYesNoYesYesYesNoNoYesYesNoNoNoNoNoNoYesYesYesNoNoNoNoNoNoNoNoNoNoYesNoNoNoNoNoNoYesNoYesNoNoNoNoNoYesNoNoYesNoNoNoNoNoNoNoNoNoYesNoYesNoNoNoNoNoYesNoYesYesYesNoNoNoYesNoNoYesNoNoNoNoNoNoNoNoNoNoNoNoNoNoNoNoNoNoNoNoYesYesYesYesYesNoYesNoNoNoYesNoNoNoYesNoNoNoNoYesNoNoNoNoNoNoNoNoYesNoNoNoYesNoNoNoNoYesYesNoNoYesNoNoNoNoNoNoNoNoYesNoNoNoNoNoYesYesNoYesNoNoNoNoNoNoNoYesNoYesNoNoNoYesNoNoYesNoNoYesNoYesNoYesYesNoYesNoNoNoNoNoNoNoNoYesYesNoNoNoNoNoYesNoNoYesNoNoNoNoYesNoNoNoNoYesNoYesNoNoYesNoYesNoNoNoNoNoNoNoNoNoNoNoYesNoYesNoNoNoNoNoYesYesNoNoNoNoNoNoYesNoYesNoNoYesNoNoYesYesNoYesYesNoNoNoNoYesNoNoNoYesNoNoNoNoYesYesNoNoNoNoNoNoYesNoNoNoYesYesNoYesNoYesNoYesNoNoNoNoNoNoNoNoYesYesNoNoNoNoNoNoYesNoNoNoNoNoNoNoNoNoYesNoNoNoNoNoNoNoNoYesNoYesNoYesNoNoNoNoNoNoNoYesYesNoYesNoNoNoNoNoNoNoNoNoNoYesNoNoYesNoNoNoNoNoYesNoNoNoNoNoNoNoNoNoYesNoNoYesNoNoNoYesNoNoNoNoNoNoNoYesYesYesYesNoYesYesNoNoYesYesNoNoYesYesNoNoYesNoNoYesNoNoYesNoNoNoYesNoNoNoNoYesYesNoNoNoNoNoNoNoNoNoYesNoYesYesYesNoNoYesNoNoNoNoNoNoNoNoNoNoYesYesNoYesNoNoNoNoNoNoNoYesNoNoNoNoYesNoYesNoYesNoNoNoYesNoNoNoYesYesNoYesNoNoNoNoNoNoNoNoNoNoNoNoNoNoYesNoYesNoNoNoNoNoNoNoYesNoNoNoNoYesNoNoNoNoYesYesYesNoNoNoNoNoYesYesNoNoYesNoYesNoNoNoNoNoNoYesNoNoYesNoYesNoNoNoNoNoNoNoNoNoNoNoNoNoNoNoYesNoNoNoNoNoNoYesNoNoNoYesNoNoNoNoNoYesNoNoNoNoNoYesYesNoNoNoNoYesNoNoNoNoNoNoNoNoYesNoYesNoNoYesYesNoNoNoNoYesNoYesYesNoNoNoNoYesNoYesNoNoYesYesYesNoNoNoNoYesYesYesNoNoNoNoYesNoNoNoYesNoYesNoNoNoYesNoYesNoNoYesYesYesNoNoYesNoYesNoNoNoNoNoNoNoNoNoYesYesYesNoYesYesNoYesYesNoNoNoNoNoYesNoNoYesYesNoYesNoNoYesYesYesNoNoNoYesYesYesYesNoNoYesNoYesNoNoYesNoNoNoNoNoNoNoNoNoYesNoNoNoNoNoNoYesNoNoNoYesNoYesNoNoYesNoNoNoNoNoNoNoNoNoYesNoNoYesNoNoNoNoNoNoNoNoYesYesNoNoNoNoNoNoYesNoNoNoNoNoYesNoNoYesNoNoNoNoYesNoYesYesNoNoNoYesNoYesNoYesNoYesNoYesNoYesYesNoYesYesNoNoNoYesNoNoNoNoNoYesNoNoNoNoNoNoNoNoNoNoNoNoNoYesNoYesYesNoNoNoNoNoNoNoNoNoNoNoNoYesNoNoYesNoYesNoYesNoNoNoNoNoNoNoNoNoNoNoYesNoNoNoNoNoNoNoNoNoNoYesYesNoNoYesNoNoNoNoNoNoNoYesNoYesNoYesYesNoNoNoNoNoNoYesYesNoNoYesYesYesNoYesNoNoYesNoNoNoNoNoNoNoNoNoYesYesNoNoYesNoYesNoNoYesNoNoYesYesNoNoNoNoNoNoNoYesNoNoNoNoNoNoNoNoYesNoNoYesNoNoNoNoYesNoNoNoYesNoNoYesNoYesYesNoYesYesNoYesYesNoNoNoYesNoNoNoYesNoYesNoNoYesNoNoNoNoNoNoNoNoNoYesYesNoNoYesNoNoNoYesNoYesYesYesNoNoNoNoYesNoNoNoYesYesNoYesNoNoNoYesNoYesYesNoNoNoNoYesNoYesNoNoYesYesNoYesYesNoNoYesYesNoYesNoNoYesYesNoNoYesYesNoNoNoNoNoNoNoYesNoNoNoYesYesNoNoNoNoNoNoNoNoNoNoNoNoNoYesNoNoYesYesNoNoYesNoNoYesYesNoNoNoYesNoNoYesNoNoNoNoYesNoYesYesYesNoNoNoYesNoYesNoYesNoYesNoNoYesNoNoNoNoNoNoNoNoNoNoNoNoNoYesNoNoYesNoNoYesNoNoYesNoNoNoNoNoNoYesNoYesNoNoNoNoNoNoNoNoNoNoNoNoNoNoNoNoNoNoYesNoNoNoYesNoNoNoYesYesNoNoNoNoNoNoNoNoYesNoNoNoYesNoNoYesNoNoNoNoNoNoNoNoNoNoNoNoYesYesNoNoNoNoNoNoYesYesNoNoNoYesYesYesNoYesYesNoYesNoNoNoNoYesYesNoNoYesNoNoNoYesYesNoNoNoNoNoYesNoNoNoYesNoNoNoNoNoYesNoNoNoNoYesNoYesNoNoNoNoYesYesNoNoNoYesNoYesNoNoNoNoNoYesNoNoNoYesYesNoNoNoYesYesNoYesYesNoNoNoNoNoNoNoNoNoNoNoYesNoYesNoNoNoYesYesYesNoYesNoNoNoNoNoNoYesNoNoNoNoNoNoNoNoNoNoNoNoNoNoNoNoNoNoNoNoNoNoNoYesNoNoNoNoYesYesNoNoYesNoNoYesNoNoNoNoNoNoNoNoYesYesYesYesNoNoNoNoNoYesYesYesNoNoNoYesYesNoNoNoNoNoYesNoNoNoYesNoNoNoNoNoNoNoNoYesNoNoNoNoNoNoYesNoNoNoNoNoYesNoNoNoNoNoNoNoYesNoYesNoYesYesNoYesNoYesNoYesNoNoNoNoNoYesNoYesNoNoNoYesNoNoNoNoNoNoYesYesYesNoYesNoYesNoYesNoNoYesNoNoNoNoNoYesNoNoYesNoNoNoNoNoNoYesNoYesNoNoNoNoYesNoNoNoNoNoYesYesYesNoYesNoNoYesNoYesNoYesYesNoNoYesYesNoYesYesNoNoNoYesNoNoYesYesYesYesNoNoYesNoNoNoYesNoNoNoNoYesNoYesNoNoYesYesNoYesYesNoYesYesYesYesYesNoNoYesYesNoNoNoNoYesNoNoNoNoNoNoYesNoYesNoNoNoNoNoNoNoNoYesNoNoNoNoYesYesYesYesNoNoNoNoNoYesYesYesYesNoYesNoNoYesNoNoNoNoNoNoYesNoNoNoNoNoYesNoNoYesNoYesYesNoNoNoNoNoNoYesNoNoNoNoNoNoNoNoNoNoNoNoYesNoYesNoNoNoYesNoNoNoNoNoNoNoNoNoNoNoNoYesNoNoNoNoYesNoNoNoYesNoYesNoNoNoNoNoNoNoNoNoNoNoYesNoYesNoNoNoNoYesNoYesNoNoNoYesNoNoNoNoNoNoNoNoYesNoYesNoYesNoNoNoYesNoNoNoYesNoNoNoNoYesNoNoNoNoYesYesNoNoNoNoYesNoNoNoYesNoNoNoNoNoNoYesNoYesYesNoNoNoNoNoNoNoNoNoNoNoNoNoYesNoNoNoNoNoNoNoNoNoNoYesNoNoNoYesNoNoNoNoNoNoNoYesNoYesNoNoYesNoYesNoNoNoNoYesNoNoNoNoNoNoNoNoYesNoNoYesYesNoNoNoNoNoNoNoNoNoNoNoNoNoNoYesNoYesYesYesYesNoYesYesNoYesNoNoYesYesNoNoYesNoNoNoNoYesNoNoNoNoYesNoYesNoYesNoYesYesNoNoNoNoNoNoYesYesNoNoNoNoNoNoYesNoNoNoYesNoNoNoYesNoNoNoNoYesNoNoNoNoNoNoNoNoNoYesNoNoNoNoYesYesNoNoNoNoNoNoNoNoNoNoYesNoNoNoNoYesNoNoNoNoNoNoNoYesNoNoYesNoNoNoNoYesNoNoNoNoNoNoNoNoYesNoYesNoYesYesNoNoNoNoNoNoNoNoNoNoNoNoNoYesNoNoNoNoYesYesYesNoNoNoYesNoNoYesNoNoNoNoYesNoYesNoNoNoNoNoYesNoNoNoNoNoNoYesNoNoNoNoYesNoNoNoNoNoNoNoNoYesNoYesNoNoNoNoNoNoNoYesNoNoNoNoNoNoNoYesNoNoNoYesNoNoNoYesNoNoYesNoNoNoNoYesYesYesNoYesNoYesNoYesYesNoNoNoYesNoNoNoNoYesNoYesYesNoYesNoYesNoYesNoNoNoNoNoNoNoYesNoNoNoNoYesNoYesNoNoNoNoNoYesYesNoNoNoNoNoNoYesYesYesNoNoNoYesNoNoNoNoNoYesNoNoNoNoNoNoYesNoYesNoNoNoYesNoNoYesNoNoNoNoYesYesNoYesNoNoNoNoYesNoNoNoNoNoNoNoYesNoNoNoYesNoYesNoYesYesNoYesYesYesNoNoYesNoYesNoNoNoNoYesNoNoYesNoNoYesNoNoYesNoNoNoNoNoNoNoYesNoNoNoNoNoYesNoNoNoYesNoNoNoNoNoNoYesNoNoNoNoYesNoYesYesNoNoNoNoNoNoYesYesYesNoNoYesNoYesYesNoNoNoYesNoNoNoNoNoNoNoNoYesNoNoNoNoNoNoYesNoNoNoNoNoNoNoNoNoNoNoYesNoNoNoNoNoYesYesNoNoNoYesNoNoNoNoNoNoNoNoNoYesYesYesNoNoNoNoNoNoNoYesYesNoNoYesNoNoNoYesNoNoYesYesNoNoNoNoNoNoNoNoNoYesNoNoYesYesNoNoYesYesNoNoNoNoNoNoNoNoNoNoNoNoYesNoNoNoNoNoNoNoYesYesNoNoYesNoNoYesNoNoYesNoYesNoNoNoNoNoNoNoNoNoNoNoNoNoNoNoNoNoYesNoNoNoNoNoNoNoNoNoYesNoNoNoNoYesNoYesYesYesNoNoYesNoYesYesNoYesNoNoYesYesNoNoNoNoNoNoNoNoYesNoNoNoYesNoNoNoYesNoNoNoYesNoYesNoNoYesNoNoYesNoNoNoNoNoNoNoNoNoNoNoNoNoNoNoNoNoNoYesNoYesNoYesNoYesYesNoYesYesNoNoYesNoNoNoNoNoNoNoNoYesNoNoNoNoYesNoNoNoYesYesNoYesNoYesNoYesNoYesYesNoYesNoYesNoNoNoYesNoNoNoYesNoNoNoYesNoNoNoYesYesNoNoNoNoNoNoNoNoNoYesNoNoNoYesYesYesNoNoNoNoNoNoYesNoNoNoNoNoNoYesNoYesNoNoNoNoNoNoNoNoYesNoNoYesYesNoNoYesNoYesNoNoNoNoNoNoNoNoNoNoYesNoNoNoNoNoYesNoNoNoNoNoNoNoNoNoNoNoNoNoNoNoYesNoNoNoYesYesYesNoNoYesNoYesYesYesNoYesNoNoYesNoNoNoNoYesNoNoNoYesNoYesYesNoNoNoNoYesYesNoNoNoNoNoNoNoYesNoYesNoNoNoYesNoNoNoNoNoYesNoYesNoNoNoNoNoYesNoYesNoNoNoNoNoNoNoNoNoNoNoYesNoNoNoNoNoYesNoNoYesNoNoNoNoNoNoNoYesNoYesYesNoNoNoNoNoNoNoYesNoNoNoYesNoNoYesNoYesNoYesYesNoNoNoYesNoNoNoNoNoNoYesNoYesNoNoNoNoNoNoNoNoNoNoNoYesNoYesNoNoNoNoNoNoNoYesNoNoNoNoNoNoNoNoNoNoYesNoYesYesNoYesNoYesNoYesYesYesYesNoYesNoNoNoNoYesNoNoYesNoNoNoNoNoYesNoNoNoNoNoNoNoYesNoNoYesYesNoNoNoNoNoNoNoNoYesYesYesYesNoNoNoNoNoNoYesYesNoNoNoNoYesNoNoNoNoYesYesNoNoNoNoNoNoNoYesNoYesYesNoNoYesNoNoYesNoNoNoNoYesYesNoNoNoNoYesNoNoNoYesYesNoYesYesNoNoNoNoYesNoNoNoYesNoNoNoNoNoNoNoNoNoNoYesNoYesNoNoNoNoNoNoNoNoNoNoNoYesNoNoNoYesNoNoNoYesNoNoYesYesNoYesYesNoNoNoNoNoNoYesNoYesYesNoNoNoNoNoNoYesNoYesYesNoYesNoNoYesNoNoYesNoYesYesNoYesNoNoYesNoNoNoNoNoNoNoNoYesYesYesYesNoNoNoNoNoNoNoNoNoYesNoNoNoYesNoNoNoNoNoNoNoNoNoNoNoYesNoNoNoNoNoNoNoYesNoNoNoNoNoYesNoYesNoNoNoNoYesYesNoNoNoNoYesNoNoNoNoNoNoYesNoNoNoNoNoNoNoNoNoNoYesNoNoNoNoNoNoYesNoNoNoNoNoNoNoNoNoNoNoNoNoNoYesNoYesNoNoNoNoNoNoNoNoNoNoNoNoNoNoNoNoYesNoNoNoNoYesNoYesNoYesNoYesYesYesNoNoNoNoNoNoNoNoYesYesYesNoYesYesNoNoNoYesNoNoNoNoNoNoNoNoNoNoYesYesYesNoNoNoNoNoNoNoNoNoNoYesNoYesNoYesYesNoNoNoNoYesNoNoNoNoNoNoNoNoNoNoNoYesNoNoNoNoNoNoNoYesNoYesYesYesNoNoYesYesNoNoNoNoNoNoYesNoNoNoYesNoNoYesNoNoNoYesNoNoYesYesNoYesNoYesYesNoNoNoNoNoNoNoYesNoNoNoNoYesNoNoNoNoNoNoNoNoYesNoYesNoNoNoYesNoNoNoYesNoNoNoNoNoNoNoNoNoNoNoNoNoNoYesNoNoNoYesNoNoNoNoNoNoYesNoYesNoNoNoNoYesNoNoNoNoNoNoYesYesNoNoYesNoNoNoYesYesNoNoNoYesNoNoYesYesNoNoNoNoNoNoNoYesNoNoNoYesNoNoNoNoNoNoNoNoYesYesNoYesNoNoYesNoYesNoNoNoNoYesNoNoNoNoNoNoNoYesNoYesYesYesYesNoYesNoNoNoYesYesNoNoNoNoYesNoNoYesYesNoYesYesYesNoNoYesNoYesYesNoNoNoNoYesYesYesNoNoNoNoYesYesYesYesNoNoNoNoNoYesYesYesNoYesNoNoNoNoNoYesNoNoNoNoYesNoNoNoNoNoNoYesYesNoYesNoYesNoNoNoNoYesNoNoNoNoYesNoNoNoYesNoNoNoNoYesNoYesNoNoYesNoNoYesNoNoNoYesYesNoNoYesNoNoYesNoNoNoNoNoYesNoNoNoNoNoYesNoNoYesNoNoNoNoYesNoNoYesNoYesNoYesNoNoNoNoNoNoNoNoYesNoNoNoNoNoNoNoNoNoNoNoNoYesYesNoNoNoNoNoNoNoNoYesNoNoNoNoNoNoNoNoNoYesNoYesYesNoYesNoYesNoNoYesNoNoNoNoNoNoYesNoYesNoNoNoNoNoNoNoNoYesYesYesNoNoNoNoNoNoNoYesNoYesNoNoYesNoYesYesYesNoNoYesNoYesNoNoYesNoNoNoNoNoNoNoNoNoYesNoNoNoYesNoNoNoNoYesNoNoYesNoYesNoNoNoNoNoYesNoNoNoNoYesNoNoNoNoNoNoNoYesNoNoNoNoYesNoNoNoNoYesNoYesNoNoNoNoNoNoNoNoNoNoNoNoYesYesNoYesYesYesNoNoNoYesNoNoYesNoNoNoYesNoYesNoNoNoYesYesNoYesNoNoYesYesNoNoYesNoNoNoNoNoNoNoYesNoNoYesNoNoNoYesYesNoYesYesYesYesNoNoNoNoNoNoYesNoYesNoNoNoNoNoNoYesNoNoYesYesNoNoNoNoNoNoNoNoYesNoNoNoNoNoNoNoNoNoYesNoNoYesNoNoYesYesNoYesNoNoNoNoNoYesNoYesNoNoNoNoNoYesNoNoYesYesYesNoNoNoNoYesYesNoNoNoNoNoNoNoYesNoYesNoNoYesNoNoYesYesNoNoNoNoNoNoNoNoNoYesYesYesNoNoNoNoNoNoNoNoYesNoYesNoNoYesNoNoNoNoYesNoNoNoNoNoNoNoYesNoNoNoNoNoNoNoNoYesNoYesNoNoYesNoNoNoYesNoNoNoYesYesYesYesYesYesYesNoNoNoNoYesYesNoYesYesNoNoNoNoNoYesNoNoNoYesNoYesNoNoYesNoNoNoYesNoNoNoYesNoNoNoNoNoNoYesNoNoYesNoNoYesYesYesYesYesYesYesYesNoYesYesNoYesNoNoNoNoNoYesNoYesYesNo to numeric",
     "output_type": "error",
     "traceback": [
      "\u001b[0;31m---------------------------------------------------------------------------\u001b[0m",
      "\u001b[0;31mValueError\u001b[0m                                Traceback (most recent call last)",
      "File \u001b[0;32m/opt/homebrew/lib/python3.11/site-packages/pandas/core/nanops.py:1630\u001b[0m, in \u001b[0;36m_ensure_numeric\u001b[0;34m(x)\u001b[0m\n\u001b[1;32m   1629\u001b[0m \u001b[38;5;28;01mtry\u001b[39;00m:\n\u001b[0;32m-> 1630\u001b[0m     x \u001b[38;5;241m=\u001b[39m \u001b[38;5;28;43mfloat\u001b[39;49m\u001b[43m(\u001b[49m\u001b[43mx\u001b[49m\u001b[43m)\u001b[49m\n\u001b[1;32m   1631\u001b[0m \u001b[38;5;28;01mexcept\u001b[39;00m (\u001b[38;5;167;01mTypeError\u001b[39;00m, \u001b[38;5;167;01mValueError\u001b[39;00m):\n\u001b[1;32m   1632\u001b[0m     \u001b[38;5;66;03m# e.g. \"1+1j\" or \"foo\"\u001b[39;00m\n",
      "\u001b[0;31mValueError\u001b[0m: could not convert string to float: 'NoYesNoNoNoYesNoNoNoYesNoNoNoYesNoNoNoNoNoYesNoNoYesNoNoNoNoYesNoNoNoYesNoNoNoYesYesYesNoYesYesNoNoNoNoNoYesYesNoNoNoYesNoNoYesNoNoNoNoYesNoNoYesYesNoNoNoNoNoNoNoNoNoNoNoYesNoNoNoYesYesNoYesNoYesNoNoNoYesYesNoNoYesYesNoNoNoNoNoYesNoNoNoNoNoNoNoNoYesNoNoNoNoNoNoYesYesNoNoNoNoNoYesNoNoNoNoYesNoNoNoNoNoYesYesNoNoNoNoNoNoYesYesNoYesYesNoNoNoNoNoYesNoYesNoNoYesYesYesNoYesNoNoNoNoNoNoNoNoYesYesNoNoNoNoNoNoNoYesNoNoNoNoNoNoYesNoYesYesNoYesYesNoYesNoNoNoNoNoNoNoNoYesNoNoNoNoNoNoNoNoYesYesYesNoNoNoNoNoNoNoNoNoYesNoYesNoNoNoNoYesNoNoNoNoNoNoNoNoYesNoNoNoNoNoYesNoNoYesNoNoNoYesYesYesNoNoNoYesNoNoNoNoYesNoNoNoNoNoNoNoYesNoNoNoNoYesNoYesNoNoNoNoNoNoNoNoNoYesNoNoNoNoNoNoNoNoNoNoNoNoNoNoNoNoNoYesNoNoNoNoNoYesNoNoNoYesNoNoNoNoNoNoNoNoYesYesNoNoNoNoNoNoYesYesNoYesYesNoNoNoNoNoNoNoNoNoYesNoNoYesNoNoYesNoNoYesYesNoYesYesNoNoNoYesNoYesNoYesYesNoNoNoNoNoNoNoNoYesNoNoNoNoNoNoNoNoNoNoYesNoYesNoNoNoNoYesNoNoNoYesNoNoNoYesNoNoYesNoNoNoYesNoNoYesNoYesNoYesNoYesYesNoNoYesYesNoNoNoNoNoNoNoNoNoNoNoYesNoYesNoNoYesYesNoYesNoNoNoYesNoNoNoNoNoNoYesNoNoYesNoNoNoNoYesNoNoNoYesNoNoNoNoYesNoNoNoNoNoNoYesNoYesYesYesNoYesYesYesNoNoNoYesYesNoNoNoNoNoNoNoNoNoNoNoYesNoYesNoNoNoYesNoYesNoNoNoNoYesNoYesNoYesNoNoNoNoNoNoYesYesNoYesNoNoNoNoNoNoNoNoNoNoNoYesYesYesNoNoYesNoNoYesNoNoYesNoNoNoNoYesNoNoYesNoNoNoYesNoNoNoNoNoNoNoNoNoNoYesNoNoYesYesYesNoNoNoYesYesNoYesNoNoNoNoNoNoNoNoNoNoNoNoNoNoNoNoYesNoYesNoNoNoYesYesNoNoNoNoYesYesNoNoYesNoNoNoNoNoYesNoNoNoNoNoNoNoNoYesNoNoNoNoYesNoNoNoYesYesNoNoNoNoYesNoNoYesYesNoYesYesNoNoYesNoNoNoNoNoNoNoNoNoNoNoYesNoNoNoYesYesNoNoNoNoNoNoNoNoNoYesNoNoNoNoYesNoNoNoNoNoYesNoNoNoYesYesYesNoNoYesYesYesYesNoYesNoNoNoNoNoNoNoNoYesNoNoNoNoNoNoYesYesNoYesNoNoYesNoNoYesNoNoNoYesNoYesNoNoYesYesNoNoNoYesNoYesNoNoNoNoNoNoYesNoNoYesNoNoNoYesYesNoNoYesNoNoNoNoNoYesYesNoNoNoNoNoYesNoNoYesNoNoYesNoNoNoNoNoYesYesNoNoYesNoNoNoYesYesNoNoNoNoNoNoYesNoNoNoNoNoYesNoNoNoYesYesNoNoNoNoNoYesNoNoNoNoNoYesNoYesNoNoYesNoNoNoNoNoNoYesNoNoNoYesNoNoNoYesNoNoNoYesNoNoNoNoYesYesNoNoYesYesYesNoNoYesNoNoNoNoYesNoNoNoYesYesYesNoYesYesNoYesNoYesNoYesNoYesNoNoNoYesNoNoNoNoYesNoYesNoYesYesYesNoNoNoNoNoNoYesNoNoNoNoYesNoYesNoYesNoNoNoNoNoNoNoNoYesNoYesNoNoNoNoNoYesYesNoYesNoNoNoNoNoYesYesYesNoNoNoNoNoNoNoNoYesNoNoYesYesNoYesNoNoNoNoNoNoNoYesNoNoNoNoYesNoNoNoYesNoNoNoNoYesNoNoYesYesNoNoNoNoNoNoNoNoNoNoNoNoNoNoNoYesNoNoNoNoNoNoYesNoYesYesNoNoNoYesNoNoNoNoNoNoNoNoYesNoNoNoNoNoNoNoNoYesNoNoNoNoNoNoNoNoNoNoNoYesNoYesYesNoNoNoYesNoYesNoYesNoNoYesNoNoNoNoNoNoNoYesNoYesNoNoNoNoNoNoNoNoNoNoYesNoNoNoYesNoNoNoYesNoNoNoNoNoNoNoNoNoNoNoNoNoNoNoNoNoNoNoNoYesNoYesNoNoYesNoYesNoYesNoNoNoYesYesNoNoNoNoNoNoYesNoNoNoYesNoNoYesNoNoNoNoNoYesNoYesNoNoNoNoYesNoNoYesNoNoNoNoNoNoNoNoYesYesYesNoYesYesNoNoNoYesYesYesNoYesNoNoNoNoYesYesNoNoNoYesNoNoNoNoYesNoNoYesNoYesNoNoYesNoNoYesNoNoNoNoYesNoNoNoYesNoNoNoNoYesYesYesNoNoYesNoNoNoNoNoNoNoYesNoYesNoYesYesNoNoYesNoNoNoNoNoNoNoNoYesYesYesNoNoNoNoNoYesNoYesNoYesNoNoNoNoNoNoNoNoNoNoYesNoYesYesNoYesNoNoYesNoYesNoNoNoYesNoNoNoNoNoNoNoYesNoNoNoNoNoNoNoNoNoYesNoNoNoNoYesNoNoNoNoNoYesYesNoYesNoNoNoNoNoNoYesNoNoNoYesNoNoYesNoNoNoNoNoNoNoNoNoNoYesNoNoNoNoNoNoNoYesNoYesNoNoYesNoYesNoYesNoYesNoNoYesNoNoNoYesNoYesNoNoNoYesNoNoYesNoYesNoYesNoNoNoNoYesYesNoNoYesNoNoYesNoNoNoNoNoNoNoNoYesNoYesNoNoNoNoNoYesNoYesNoNoYesYesNoNoNoYesNoNoYesNoNoNoNoNoYesNoNoYesYesNoYesYesNoYesYesNoYesNoNoNoYesYesNoNoNoNoNoNoYesNoNoNoYesNoNoYesNoNoNoYesYesNoNoNoNoNoNoNoNoYesNoNoYesNoNoNoNoNoNoNoNoNoNoYesNoNoYesYesYesNoNoYesNoNoNoNoYesNoYesNoNoNoNoNoNoNoYesNoYesYesYesYesNoNoYesYesNoNoNoNoYesNoYesYesYesNoYesYesNoYesYesNoNoYesYesNoYesYesYesNoNoNoYesNoYesNoNoNoNoNoNoNoYesNoNoNoNoYesNoNoNoNoYesNoNoYesNoNoYesNoNoYesNoNoNoNoNoNoYesYesNoNoNoYesYesYesNoYesYesNoNoNoNoYesNoNoNoNoYesNoNoNoNoNoYesNoNoNoNoYesNoNoNoNoNoYesYesNoYesNoYesNoNoYesNoNoYesNoNoYesYesNoNoNoNoNoNoNoNoNoNoYesNoNoNoNoYesYesNoNoNoNoNoYesNoYesNoNoNoYesNoNoNoNoNoNoNoNoNoNoNoNoNoNoYesNoNoNoYesNoYesNoNoNoYesNoYesNoNoNoNoNoNoYesNoNoNoYesNoNoNoNoNoYesNoYesYesNoYesNoYesYesNoYesYesYesNoNoYesYesNoNoNoNoNoNoYesYesYesNoNoNoNoNoNoNoNoNoNoYesNoNoNoNoNoNoYesNoYesNoNoNoNoNoYesNoNoYesNoNoNoNoNoNoNoNoNoYesNoYesNoNoNoNoNoYesNoYesYesYesNoNoNoYesNoNoYesNoNoNoNoNoNoNoNoNoNoNoNoNoNoNoNoNoNoNoNoYesYesYesYesYesNoYesNoNoNoYesNoNoNoYesNoNoNoNoYesNoNoNoNoNoNoNoNoYesNoNoNoYesNoNoNoNoYesYesNoNoYesNoNoNoNoNoNoNoNoYesNoNoNoNoNoYesYesNoYesNoNoNoNoNoNoNoYesNoYesNoNoNoYesNoNoYesNoNoYesNoYesNoYesYesNoYesNoNoNoNoNoNoNoNoYesYesNoNoNoNoNoYesNoNoYesNoNoNoNoYesNoNoNoNoYesNoYesNoNoYesNoYesNoNoNoNoNoNoNoNoNoNoNoYesNoYesNoNoNoNoNoYesYesNoNoNoNoNoNoYesNoYesNoNoYesNoNoYesYesNoYesYesNoNoNoNoYesNoNoNoYesNoNoNoNoYesYesNoNoNoNoNoNoYesNoNoNoYesYesNoYesNoYesNoYesNoNoNoNoNoNoNoNoYesYesNoNoNoNoNoNoYesNoNoNoNoNoNoNoNoNoYesNoNoNoNoNoNoNoNoYesNoYesNoYesNoNoNoNoNoNoNoYesYesNoYesNoNoNoNoNoNoNoNoNoNoYesNoNoYesNoNoNoNoNoYesNoNoNoNoNoNoNoNoNoYesNoNoYesNoNoNoYesNoNoNoNoNoNoNoYesYesYesYesNoYesYesNoNoYesYesNoNoYesYesNoNoYesNoNoYesNoNoYesNoNoNoYesNoNoNoNoYesYesNoNoNoNoNoNoNoNoNoYesNoYesYesYesNoNoYesNoNoNoNoNoNoNoNoNoNoYesYesNoYesNoNoNoNoNoNoNoYesNoNoNoNoYesNoYesNoYesNoNoNoYesNoNoNoYesYesNoYesNoNoNoNoNoNoNoNoNoNoNoNoNoNoYesNoYesNoNoNoNoNoNoNoYesNoNoNoNoYesNoNoNoNoYesYesYesNoNoNoNoNoYesYesNoNoYesNoYesNoNoNoNoNoNoYesNoNoYesNoYesNoNoNoNoNoNoNoNoNoNoNoNoNoNoNoYesNoNoNoNoNoNoYesNoNoNoYesNoNoNoNoNoYesNoNoNoNoNoYesYesNoNoNoNoYesNoNoNoNoNoNoNoNoYesNoYesNoNoYesYesNoNoNoNoYesNoYesYesNoNoNoNoYesNoYesNoNoYesYesYesNoNoNoNoYesYesYesNoNoNoNoYesNoNoNoYesNoYesNoNoNoYesNoYesNoNoYesYesYesNoNoYesNoYesNoNoNoNoNoNoNoNoNoYesYesYesNoYesYesNoYesYesNoNoNoNoNoYesNoNoYesYesNoYesNoNoYesYesYesNoNoNoYesYesYesYesNoNoYesNoYesNoNoYesNoNoNoNoNoNoNoNoNoYesNoNoNoNoNoNoYesNoNoNoYesNoYesNoNoYesNoNoNoNoNoNoNoNoNoYesNoNoYesNoNoNoNoNoNoNoNoYesYesNoNoNoNoNoNoYesNoNoNoNoNoYesNoNoYesNoNoNoNoYesNoYesYesNoNoNoYesNoYesNoYesNoYesNoYesNoYesYesNoYesYesNoNoNoYesNoNoNoNoNoYesNoNoNoNoNoNoNoNoNoNoNoNoNoYesNoYesYesNoNoNoNoNoNoNoNoNoNoNoNoYesNoNoYesNoYesNoYesNoNoNoNoNoNoNoNoNoNoNoYesNoNoNoNoNoNoNoNoNoNoYesYesNoNoYesNoNoNoNoNoNoNoYesNoYesNoYesYesNoNoNoNoNoNoYesYesNoNoYesYesYesNoYesNoNoYesNoNoNoNoNoNoNoNoNoYesYesNoNoYesNoYesNoNoYesNoNoYesYesNoNoNoNoNoNoNoYesNoNoNoNoNoNoNoNoYesNoNoYesNoNoNoNoYesNoNoNoYesNoNoYesNoYesYesNoYesYesNoYesYesNoNoNoYesNoNoNoYesNoYesNoNoYesNoNoNoNoNoNoNoNoNoYesYesNoNoYesNoNoNoYesNoYesYesYesNoNoNoNoYesNoNoNoYesYesNoYesNoNoNoYesNoYesYesNoNoNoNoYesNoYesNoNoYesYesNoYesYesNoNoYesYesNoYesNoNoYesYesNoNoYesYesNoNoNoNoNoNoNoYesNoNoNoYesYesNoNoNoNoNoNoNoNoNoNoNoNoNoYesNoNoYesYesNoNoYesNoNoYesYesNoNoNoYesNoNoYesNoNoNoNoYesNoYesYesYesNoNoNoYesNoYesNoYesNoYesNoNoYesNoNoNoNoNoNoNoNoNoNoNoNoNoYesNoNoYesNoNoYesNoNoYesNoNoNoNoNoNoYesNoYesNoNoNoNoNoNoNoNoNoNoNoNoNoNoNoNoNoNoYesNoNoNoYesNoNoNoYesYesNoNoNoNoNoNoNoNoYesNoNoNoYesNoNoYesNoNoNoNoNoNoNoNoNoNoNoNoYesYesNoNoNoNoNoNoYesYesNoNoNoYesYesYesNoYesYesNoYesNoNoNoNoYesYesNoNoYesNoNoNoYesYesNoNoNoNoNoYesNoNoNoYesNoNoNoNoNoYesNoNoNoNoYesNoYesNoNoNoNoYesYesNoNoNoYesNoYesNoNoNoNoNoYesNoNoNoYesYesNoNoNoYesYesNoYesYesNoNoNoNoNoNoNoNoNoNoNoYesNoYesNoNoNoYesYesYesNoYesNoNoNoNoNoNoYesNoNoNoNoNoNoNoNoNoNoNoNoNoNoNoNoNoNoNoNoNoNoNoYesNoNoNoNoYesYesNoNoYesNoNoYesNoNoNoNoNoNoNoNoYesYesYesYesNoNoNoNoNoYesYesYesNoNoNoYesYesNoNoNoNoNoYesNoNoNoYesNoNoNoNoNoNoNoNoYesNoNoNoNoNoNoYesNoNoNoNoNoYesNoNoNoNoNoNoNoYesNoYesNoYesYesNoYesNoYesNoYesNoNoNoNoNoYesNoYesNoNoNoYesNoNoNoNoNoNoYesYesYesNoYesNoYesNoYesNoNoYesNoNoNoNoNoYesNoNoYesNoNoNoNoNoNoYesNoYesNoNoNoNoYesNoNoNoNoNoYesYesYesNoYesNoNoYesNoYesNoYesYesNoNoYesYesNoYesYesNoNoNoYesNoNoYesYesYesYesNoNoYesNoNoNoYesNoNoNoNoYesNoYesNoNoYesYesNoYesYesNoYesYesYesYesYesNoNoYesYesNoNoNoNoYesNoNoNoNoNoNoYesNoYesNoNoNoNoNoNoNoNoYesNoNoNoNoYesYesYesYesNoNoNoNoNoYesYesYesYesNoYesNoNoYesNoNoNoNoNoNoYesNoNoNoNoNoYesNoNoYesNoYesYesNoNoNoNoNoNoYesNoNoNoNoNoNoNoNoNoNoNoNoYesNoYesNoNoNoYesNoNoNoNoNoNoNoNoNoNoNoNoYesNoNoNoNoYesNoNoNoYesNoYesNoNoNoNoNoNoNoNoNoNoNoYesNoYesNoNoNoNoYesNoYesNoNoNoYesNoNoNoNoNoNoNoNoYesNoYesNoYesNoNoNoYesNoNoNoYesNoNoNoNoYesNoNoNoNoYesYesNoNoNoNoYesNoNoNoYesNoNoNoNoNoNoYesNoYesYesNoNoNoNoNoNoNoNoNoNoNoNoNoYesNoNoNoNoNoNoNoNoNoNoYesNoNoNoYesNoNoNoNoNoNoNoYesNoYesNoNoYesNoYesNoNoNoNoYesNoNoNoNoNoNoNoNoYesNoNoYesYesNoNoNoNoNoNoNoNoNoNoNoNoNoNoYesNoYesYesYesYesNoYesYesNoYesNoNoYesYesNoNoYesNoNoNoNoYesNoNoNoNoYesNoYesNoYesNoYesYesNoNoNoNoNoNoYesYesNoNoNoNoNoNoYesNoNoNoYesNoNoNoYesNoNoNoNoYesNoNoNoNoNoNoNoNoNoYesNoNoNoNoYesYesNoNoNoNoNoNoNoNoNoNoYesNoNoNoNoYesNoNoNoNoNoNoNoYesNoNoYesNoNoNoNoYesNoNoNoNoNoNoNoNoYesNoYesNoYesYesNoNoNoNoNoNoNoNoNoNoNoNoNoYesNoNoNoNoYesYesYesNoNoNoYesNoNoYesNoNoNoNoYesNoYesNoNoNoNoNoYesNoNoNoNoNoNoYesNoNoNoNoYesNoNoNoNoNoNoNoNoYesNoYesNoNoNoNoNoNoNoYesNoNoNoNoNoNoNoYesNoNoNoYesNoNoNoYesNoNoYesNoNoNoNoYesYesYesNoYesNoYesNoYesYesNoNoNoYesNoNoNoNoYesNoYesYesNoYesNoYesNoYesNoNoNoNoNoNoNoYesNoNoNoNoYesNoYesNoNoNoNoNoYesYesNoNoNoNoNoNoYesYesYesNoNoNoYesNoNoNoNoNoYesNoNoNoNoNoNoYesNoYesNoNoNoYesNoNoYesNoNoNoNoYesYesNoYesNoNoNoNoYesNoNoNoNoNoNoNoYesNoNoNoYesNoYesNoYesYesNoYesYesYesNoNoYesNoYesNoNoNoNoYesNoNoYesNoNoYesNoNoYesNoNoNoNoNoNoNoYesNoNoNoNoNoYesNoNoNoYesNoNoNoNoNoNoYesNoNoNoNoYesNoYesYesNoNoNoNoNoNoYesYesYesNoNoYesNoYesYesNoNoNoYesNoNoNoNoNoNoNoNoYesNoNoNoNoNoNoYesNoNoNoNoNoNoNoNoNoNoNoYesNoNoNoNoNoYesYesNoNoNoYesNoNoNoNoNoNoNoNoNoYesYesYesNoNoNoNoNoNoNoYesYesNoNoYesNoNoNoYesNoNoYesYesNoNoNoNoNoNoNoNoNoYesNoNoYesYesNoNoYesYesNoNoNoNoNoNoNoNoNoNoNoNoYesNoNoNoNoNoNoNoYesYesNoNoYesNoNoYesNoNoYesNoYesNoNoNoNoNoNoNoNoNoNoNoNoNoNoNoNoNoYesNoNoNoNoNoNoNoNoNoYesNoNoNoNoYesNoYesYesYesNoNoYesNoYesYesNoYesNoNoYesYesNoNoNoNoNoNoNoNoYesNoNoNoYesNoNoNoYesNoNoNoYesNoYesNoNoYesNoNoYesNoNoNoNoNoNoNoNoNoNoNoNoNoNoNoNoNoNoYesNoYesNoYesNoYesYesNoYesYesNoNoYesNoNoNoNoNoNoNoNoYesNoNoNoNoYesNoNoNoYesYesNoYesNoYesNoYesNoYesYesNoYesNoYesNoNoNoYesNoNoNoYesNoNoNoYesNoNoNoYesYesNoNoNoNoNoNoNoNoNoYesNoNoNoYesYesYesNoNoNoNoNoNoYesNoNoNoNoNoNoYesNoYesNoNoNoNoNoNoNoNoYesNoNoYesYesNoNoYesNoYesNoNoNoNoNoNoNoNoNoNoYesNoNoNoNoNoYesNoNoNoNoNoNoNoNoNoNoNoNoNoNoNoYesNoNoNoYesYesYesNoNoYesNoYesYesYesNoYesNoNoYesNoNoNoNoYesNoNoNoYesNoYesYesNoNoNoNoYesYesNoNoNoNoNoNoNoYesNoYesNoNoNoYesNoNoNoNoNoYesNoYesNoNoNoNoNoYesNoYesNoNoNoNoNoNoNoNoNoNoNoYesNoNoNoNoNoYesNoNoYesNoNoNoNoNoNoNoYesNoYesYesNoNoNoNoNoNoNoYesNoNoNoYesNoNoYesNoYesNoYesYesNoNoNoYesNoNoNoNoNoNoYesNoYesNoNoNoNoNoNoNoNoNoNoNoYesNoYesNoNoNoNoNoNoNoYesNoNoNoNoNoNoNoNoNoNoYesNoYesYesNoYesNoYesNoYesYesYesYesNoYesNoNoNoNoYesNoNoYesNoNoNoNoNoYesNoNoNoNoNoNoNoYesNoNoYesYesNoNoNoNoNoNoNoNoYesYesYesYesNoNoNoNoNoNoYesYesNoNoNoNoYesNoNoNoNoYesYesNoNoNoNoNoNoNoYesNoYesYesNoNoYesNoNoYesNoNoNoNoYesYesNoNoNoNoYesNoNoNoYesYesNoYesYesNoNoNoNoYesNoNoNoYesNoNoNoNoNoNoNoNoNoNoYesNoYesNoNoNoNoNoNoNoNoNoNoNoYesNoNoNoYesNoNoNoYesNoNoYesYesNoYesYesNoNoNoNoNoNoYesNoYesYesNoNoNoNoNoNoYesNoYesYesNoYesNoNoYesNoNoYesNoYesYesNoYesNoNoYesNoNoNoNoNoNoNoNoYesYesYesYesNoNoNoNoNoNoNoNoNoYesNoNoNoYesNoNoNoNoNoNoNoNoNoNoNoYesNoNoNoNoNoNoNoYesNoNoNoNoNoYesNoYesNoNoNoNoYesYesNoNoNoNoYesNoNoNoNoNoNoYesNoNoNoNoNoNoNoNoNoNoYesNoNoNoNoNoNoYesNoNoNoNoNoNoNoNoNoNoNoNoNoNoYesNoYesNoNoNoNoNoNoNoNoNoNoNoNoNoNoNoNoYesNoNoNoNoYesNoYesNoYesNoYesYesYesNoNoNoNoNoNoNoNoYesYesYesNoYesYesNoNoNoYesNoNoNoNoNoNoNoNoNoNoYesYesYesNoNoNoNoNoNoNoNoNoNoYesNoYesNoYesYesNoNoNoNoYesNoNoNoNoNoNoNoNoNoNoNoYesNoNoNoNoNoNoNoYesNoYesYesYesNoNoYesYesNoNoNoNoNoNoYesNoNoNoYesNoNoYesNoNoNoYesNoNoYesYesNoYesNoYesYesNoNoNoNoNoNoNoYesNoNoNoNoYesNoNoNoNoNoNoNoNoYesNoYesNoNoNoYesNoNoNoYesNoNoNoNoNoNoNoNoNoNoNoNoNoNoYesNoNoNoYesNoNoNoNoNoNoYesNoYesNoNoNoNoYesNoNoNoNoNoNoYesYesNoNoYesNoNoNoYesYesNoNoNoYesNoNoYesYesNoNoNoNoNoNoNoYesNoNoNoYesNoNoNoNoNoNoNoNoYesYesNoYesNoNoYesNoYesNoNoNoNoYesNoNoNoNoNoNoNoYesNoYesYesYesYesNoYesNoNoNoYesYesNoNoNoNoYesNoNoYesYesNoYesYesYesNoNoYesNoYesYesNoNoNoNoYesYesYesNoNoNoNoYesYesYesYesNoNoNoNoNoYesYesYesNoYesNoNoNoNoNoYesNoNoNoNoYesNoNoNoNoNoNoYesYesNoYesNoYesNoNoNoNoYesNoNoNoNoYesNoNoNoYesNoNoNoNoYesNoYesNoNoYesNoNoYesNoNoNoYesYesNoNoYesNoNoYesNoNoNoNoNoYesNoNoNoNoNoYesNoNoYesNoNoNoNoYesNoNoYesNoYesNoYesNoNoNoNoNoNoNoNoYesNoNoNoNoNoNoNoNoNoNoNoNoYesYesNoNoNoNoNoNoNoNoYesNoNoNoNoNoNoNoNoNoYesNoYesYesNoYesNoYesNoNoYesNoNoNoNoNoNoYesNoYesNoNoNoNoNoNoNoNoYesYesYesNoNoNoNoNoNoNoYesNoYesNoNoYesNoYesYesYesNoNoYesNoYesNoNoYesNoNoNoNoNoNoNoNoNoYesNoNoNoYesNoNoNoNoYesNoNoYesNoYesNoNoNoNoNoYesNoNoNoNoYesNoNoNoNoNoNoNoYesNoNoNoNoYesNoNoNoNoYesNoYesNoNoNoNoNoNoNoNoNoNoNoNoYesYesNoYesYesYesNoNoNoYesNoNoYesNoNoNoYesNoYesNoNoNoYesYesNoYesNoNoYesYesNoNoYesNoNoNoNoNoNoNoYesNoNoYesNoNoNoYesYesNoYesYesYesYesNoNoNoNoNoNoYesNoYesNoNoNoNoNoNoYesNoNoYesYesNoNoNoNoNoNoNoNoYesNoNoNoNoNoNoNoNoNoYesNoNoYesNoNoYesYesNoYesNoNoNoNoNoYesNoYesNoNoNoNoNoYesNoNoYesYesYesNoNoNoNoYesYesNoNoNoNoNoNoNoYesNoYesNoNoYesNoNoYesYesNoNoNoNoNoNoNoNoNoYesYesYesNoNoNoNoNoNoNoNoYesNoYesNoNoYesNoNoNoNoYesNoNoNoNoNoNoNoYesNoNoNoNoNoNoNoNoYesNoYesNoNoYesNoNoNoYesNoNoNoYesYesYesYesYesYesYesNoNoNoNoYesYesNoYesYesNoNoNoNoNoYesNoNoNoYesNoYesNoNoYesNoNoNoYesNoNoNoYesNoNoNoNoNoNoYesNoNoYesNoNoYesYesYesYesYesYesYesYesNoYesYesNoYesNoNoNoNoNoYesNoYesYesNo'",
      "\nDuring handling of the above exception, another exception occurred:\n",
      "\u001b[0;31mValueError\u001b[0m                                Traceback (most recent call last)",
      "File \u001b[0;32m/opt/homebrew/lib/python3.11/site-packages/pandas/core/nanops.py:1634\u001b[0m, in \u001b[0;36m_ensure_numeric\u001b[0;34m(x)\u001b[0m\n\u001b[1;32m   1633\u001b[0m \u001b[38;5;28;01mtry\u001b[39;00m:\n\u001b[0;32m-> 1634\u001b[0m     x \u001b[38;5;241m=\u001b[39m \u001b[38;5;28;43mcomplex\u001b[39;49m\u001b[43m(\u001b[49m\u001b[43mx\u001b[49m\u001b[43m)\u001b[49m\n\u001b[1;32m   1635\u001b[0m \u001b[38;5;28;01mexcept\u001b[39;00m \u001b[38;5;167;01mValueError\u001b[39;00m \u001b[38;5;28;01mas\u001b[39;00m err:\n\u001b[1;32m   1636\u001b[0m     \u001b[38;5;66;03m# e.g. \"foo\"\u001b[39;00m\n",
      "\u001b[0;31mValueError\u001b[0m: complex() arg is a malformed string",
      "\nThe above exception was the direct cause of the following exception:\n",
      "\u001b[0;31mTypeError\u001b[0m                                 Traceback (most recent call last)",
      "Cell \u001b[0;32mIn[97], line 36\u001b[0m\n\u001b[1;32m     34\u001b[0m \u001b[38;5;66;03m# Обучаем модель\u001b[39;00m\n\u001b[1;32m     35\u001b[0m model \u001b[38;5;241m=\u001b[39m GradientBoosting(n_estimators\u001b[38;5;241m=\u001b[39m\u001b[38;5;241m100\u001b[39m, learning_rate\u001b[38;5;241m=\u001b[39m\u001b[38;5;241m0.1\u001b[39m, max_depth\u001b[38;5;241m=\u001b[39m\u001b[38;5;241m3\u001b[39m)\n\u001b[0;32m---> 36\u001b[0m \u001b[43mmodel\u001b[49m\u001b[38;5;241;43m.\u001b[39;49m\u001b[43mfit\u001b[49m\u001b[43m(\u001b[49m\u001b[43mX_train_transformed\u001b[49m\u001b[43m,\u001b[49m\u001b[43m \u001b[49m\u001b[43my_train\u001b[49m\u001b[43m)\u001b[49m\n\u001b[1;32m     38\u001b[0m \u001b[38;5;66;03m# Делаем предсказания на тестовой выборке\u001b[39;00m\n\u001b[1;32m     39\u001b[0m y_test_pred \u001b[38;5;241m=\u001b[39m model\u001b[38;5;241m.\u001b[39mpredict(X_test_transformed)\n",
      "Cell \u001b[0;32mIn[97], line 11\u001b[0m, in \u001b[0;36mGradientBoosting.fit\u001b[0;34m(self, X, y)\u001b[0m\n\u001b[1;32m      9\u001b[0m \u001b[38;5;28;01mdef\u001b[39;00m\u001b[38;5;250m \u001b[39m\u001b[38;5;21mfit\u001b[39m(\u001b[38;5;28mself\u001b[39m, X, y):\n\u001b[1;32m     10\u001b[0m     \u001b[38;5;66;03m# Инициализация предсказаний как среднее значение целевой переменной\u001b[39;00m\n\u001b[0;32m---> 11\u001b[0m     \u001b[38;5;28mself\u001b[39m\u001b[38;5;241m.\u001b[39mbase_pred \u001b[38;5;241m=\u001b[39m \u001b[43mnp\u001b[49m\u001b[38;5;241;43m.\u001b[39;49m\u001b[43mmean\u001b[49m\u001b[43m(\u001b[49m\u001b[43my\u001b[49m\u001b[43m)\u001b[49m\n\u001b[1;32m     12\u001b[0m     y_hat \u001b[38;5;241m=\u001b[39m np\u001b[38;5;241m.\u001b[39mfull(y\u001b[38;5;241m.\u001b[39mshape, \u001b[38;5;28mself\u001b[39m\u001b[38;5;241m.\u001b[39mbase_pred)\n\u001b[1;32m     13\u001b[0m     residuals \u001b[38;5;241m=\u001b[39m y \u001b[38;5;241m-\u001b[39m y_hat\n",
      "File \u001b[0;32m<__array_function__ internals>:200\u001b[0m, in \u001b[0;36mmean\u001b[0;34m(*args, **kwargs)\u001b[0m\n",
      "File \u001b[0;32m/opt/homebrew/lib/python3.11/site-packages/numpy/core/fromnumeric.py:3462\u001b[0m, in \u001b[0;36mmean\u001b[0;34m(a, axis, dtype, out, keepdims, where)\u001b[0m\n\u001b[1;32m   3460\u001b[0m         \u001b[38;5;28;01mpass\u001b[39;00m\n\u001b[1;32m   3461\u001b[0m     \u001b[38;5;28;01melse\u001b[39;00m:\n\u001b[0;32m-> 3462\u001b[0m         \u001b[38;5;28;01mreturn\u001b[39;00m \u001b[43mmean\u001b[49m\u001b[43m(\u001b[49m\u001b[43maxis\u001b[49m\u001b[38;5;241;43m=\u001b[39;49m\u001b[43maxis\u001b[49m\u001b[43m,\u001b[49m\u001b[43m \u001b[49m\u001b[43mdtype\u001b[49m\u001b[38;5;241;43m=\u001b[39;49m\u001b[43mdtype\u001b[49m\u001b[43m,\u001b[49m\u001b[43m \u001b[49m\u001b[43mout\u001b[49m\u001b[38;5;241;43m=\u001b[39;49m\u001b[43mout\u001b[49m\u001b[43m,\u001b[49m\u001b[43m \u001b[49m\u001b[38;5;241;43m*\u001b[39;49m\u001b[38;5;241;43m*\u001b[39;49m\u001b[43mkwargs\u001b[49m\u001b[43m)\u001b[49m\n\u001b[1;32m   3464\u001b[0m \u001b[38;5;28;01mreturn\u001b[39;00m _methods\u001b[38;5;241m.\u001b[39m_mean(a, axis\u001b[38;5;241m=\u001b[39maxis, dtype\u001b[38;5;241m=\u001b[39mdtype,\n\u001b[1;32m   3465\u001b[0m                       out\u001b[38;5;241m=\u001b[39mout, \u001b[38;5;241m*\u001b[39m\u001b[38;5;241m*\u001b[39mkwargs)\n",
      "File \u001b[0;32m/opt/homebrew/lib/python3.11/site-packages/pandas/core/generic.py:11847\u001b[0m, in \u001b[0;36mNDFrame._add_numeric_operations.<locals>.mean\u001b[0;34m(self, axis, skipna, level, numeric_only, **kwargs)\u001b[0m\n\u001b[1;32m  11829\u001b[0m \u001b[38;5;129m@doc\u001b[39m(\n\u001b[1;32m  11830\u001b[0m     _num_doc,\n\u001b[1;32m  11831\u001b[0m     desc\u001b[38;5;241m=\u001b[39m\u001b[38;5;124m\"\u001b[39m\u001b[38;5;124mReturn the mean of the values over the requested axis.\u001b[39m\u001b[38;5;124m\"\u001b[39m,\n\u001b[0;32m   (...)\u001b[0m\n\u001b[1;32m  11845\u001b[0m     \u001b[38;5;241m*\u001b[39m\u001b[38;5;241m*\u001b[39mkwargs,\n\u001b[1;32m  11846\u001b[0m ):\n\u001b[0;32m> 11847\u001b[0m     \u001b[38;5;28;01mreturn\u001b[39;00m \u001b[43mNDFrame\u001b[49m\u001b[38;5;241;43m.\u001b[39;49m\u001b[43mmean\u001b[49m\u001b[43m(\u001b[49m\u001b[38;5;28;43mself\u001b[39;49m\u001b[43m,\u001b[49m\u001b[43m \u001b[49m\u001b[43maxis\u001b[49m\u001b[43m,\u001b[49m\u001b[43m \u001b[49m\u001b[43mskipna\u001b[49m\u001b[43m,\u001b[49m\u001b[43m \u001b[49m\u001b[43mlevel\u001b[49m\u001b[43m,\u001b[49m\u001b[43m \u001b[49m\u001b[43mnumeric_only\u001b[49m\u001b[43m,\u001b[49m\u001b[43m \u001b[49m\u001b[38;5;241;43m*\u001b[39;49m\u001b[38;5;241;43m*\u001b[39;49m\u001b[43mkwargs\u001b[49m\u001b[43m)\u001b[49m\n",
      "File \u001b[0;32m/opt/homebrew/lib/python3.11/site-packages/pandas/core/generic.py:11401\u001b[0m, in \u001b[0;36mNDFrame.mean\u001b[0;34m(self, axis, skipna, level, numeric_only, **kwargs)\u001b[0m\n\u001b[1;32m  11393\u001b[0m \u001b[38;5;28;01mdef\u001b[39;00m\u001b[38;5;250m \u001b[39m\u001b[38;5;21mmean\u001b[39m(\n\u001b[1;32m  11394\u001b[0m     \u001b[38;5;28mself\u001b[39m,\n\u001b[1;32m  11395\u001b[0m     axis: Axis \u001b[38;5;241m|\u001b[39m \u001b[38;5;28;01mNone\u001b[39;00m \u001b[38;5;241m|\u001b[39m lib\u001b[38;5;241m.\u001b[39mNoDefault \u001b[38;5;241m=\u001b[39m lib\u001b[38;5;241m.\u001b[39mno_default,\n\u001b[0;32m   (...)\u001b[0m\n\u001b[1;32m  11399\u001b[0m     \u001b[38;5;241m*\u001b[39m\u001b[38;5;241m*\u001b[39mkwargs,\n\u001b[1;32m  11400\u001b[0m ) \u001b[38;5;241m-\u001b[39m\u001b[38;5;241m>\u001b[39m Series \u001b[38;5;241m|\u001b[39m \u001b[38;5;28mfloat\u001b[39m:\n\u001b[0;32m> 11401\u001b[0m     \u001b[38;5;28;01mreturn\u001b[39;00m \u001b[38;5;28;43mself\u001b[39;49m\u001b[38;5;241;43m.\u001b[39;49m\u001b[43m_stat_function\u001b[49m\u001b[43m(\u001b[49m\n\u001b[1;32m  11402\u001b[0m \u001b[43m        \u001b[49m\u001b[38;5;124;43m\"\u001b[39;49m\u001b[38;5;124;43mmean\u001b[39;49m\u001b[38;5;124;43m\"\u001b[39;49m\u001b[43m,\u001b[49m\u001b[43m \u001b[49m\u001b[43mnanops\u001b[49m\u001b[38;5;241;43m.\u001b[39;49m\u001b[43mnanmean\u001b[49m\u001b[43m,\u001b[49m\u001b[43m \u001b[49m\u001b[43maxis\u001b[49m\u001b[43m,\u001b[49m\u001b[43m \u001b[49m\u001b[43mskipna\u001b[49m\u001b[43m,\u001b[49m\u001b[43m \u001b[49m\u001b[43mlevel\u001b[49m\u001b[43m,\u001b[49m\u001b[43m \u001b[49m\u001b[43mnumeric_only\u001b[49m\u001b[43m,\u001b[49m\u001b[43m \u001b[49m\u001b[38;5;241;43m*\u001b[39;49m\u001b[38;5;241;43m*\u001b[39;49m\u001b[43mkwargs\u001b[49m\n\u001b[1;32m  11403\u001b[0m \u001b[43m    \u001b[49m\u001b[43m)\u001b[49m\n",
      "File \u001b[0;32m/opt/homebrew/lib/python3.11/site-packages/pandas/core/generic.py:11353\u001b[0m, in \u001b[0;36mNDFrame._stat_function\u001b[0;34m(self, name, func, axis, skipna, level, numeric_only, **kwargs)\u001b[0m\n\u001b[1;32m  11343\u001b[0m     warnings\u001b[38;5;241m.\u001b[39mwarn(\n\u001b[1;32m  11344\u001b[0m         \u001b[38;5;124m\"\u001b[39m\u001b[38;5;124mUsing the level keyword in DataFrame and Series aggregations is \u001b[39m\u001b[38;5;124m\"\u001b[39m\n\u001b[1;32m  11345\u001b[0m         \u001b[38;5;124m\"\u001b[39m\u001b[38;5;124mdeprecated and will be removed in a future version. Use groupby \u001b[39m\u001b[38;5;124m\"\u001b[39m\n\u001b[0;32m   (...)\u001b[0m\n\u001b[1;32m  11348\u001b[0m         stacklevel\u001b[38;5;241m=\u001b[39mfind_stack_level(),\n\u001b[1;32m  11349\u001b[0m     )\n\u001b[1;32m  11350\u001b[0m     \u001b[38;5;28;01mreturn\u001b[39;00m \u001b[38;5;28mself\u001b[39m\u001b[38;5;241m.\u001b[39m_agg_by_level(\n\u001b[1;32m  11351\u001b[0m         name, axis\u001b[38;5;241m=\u001b[39maxis, level\u001b[38;5;241m=\u001b[39mlevel, skipna\u001b[38;5;241m=\u001b[39mskipna, numeric_only\u001b[38;5;241m=\u001b[39mnumeric_only\n\u001b[1;32m  11352\u001b[0m     )\n\u001b[0;32m> 11353\u001b[0m \u001b[38;5;28;01mreturn\u001b[39;00m \u001b[38;5;28;43mself\u001b[39;49m\u001b[38;5;241;43m.\u001b[39;49m\u001b[43m_reduce\u001b[49m\u001b[43m(\u001b[49m\n\u001b[1;32m  11354\u001b[0m \u001b[43m    \u001b[49m\u001b[43mfunc\u001b[49m\u001b[43m,\u001b[49m\u001b[43m \u001b[49m\u001b[43mname\u001b[49m\u001b[38;5;241;43m=\u001b[39;49m\u001b[43mname\u001b[49m\u001b[43m,\u001b[49m\u001b[43m \u001b[49m\u001b[43maxis\u001b[49m\u001b[38;5;241;43m=\u001b[39;49m\u001b[43maxis\u001b[49m\u001b[43m,\u001b[49m\u001b[43m \u001b[49m\u001b[43mskipna\u001b[49m\u001b[38;5;241;43m=\u001b[39;49m\u001b[43mskipna\u001b[49m\u001b[43m,\u001b[49m\u001b[43m \u001b[49m\u001b[43mnumeric_only\u001b[49m\u001b[38;5;241;43m=\u001b[39;49m\u001b[43mnumeric_only\u001b[49m\n\u001b[1;32m  11355\u001b[0m \u001b[43m\u001b[49m\u001b[43m)\u001b[49m\n",
      "File \u001b[0;32m/opt/homebrew/lib/python3.11/site-packages/pandas/core/series.py:4816\u001b[0m, in \u001b[0;36mSeries._reduce\u001b[0;34m(self, op, name, axis, skipna, numeric_only, filter_type, **kwds)\u001b[0m\n\u001b[1;32m   4812\u001b[0m     \u001b[38;5;28;01mraise\u001b[39;00m \u001b[38;5;167;01mNotImplementedError\u001b[39;00m(\n\u001b[1;32m   4813\u001b[0m         \u001b[38;5;124mf\u001b[39m\u001b[38;5;124m\"\u001b[39m\u001b[38;5;124mSeries.\u001b[39m\u001b[38;5;132;01m{\u001b[39;00mname\u001b[38;5;132;01m}\u001b[39;00m\u001b[38;5;124m does not implement \u001b[39m\u001b[38;5;132;01m{\u001b[39;00mkwd_name\u001b[38;5;132;01m}\u001b[39;00m\u001b[38;5;124m.\u001b[39m\u001b[38;5;124m\"\u001b[39m\n\u001b[1;32m   4814\u001b[0m     )\n\u001b[1;32m   4815\u001b[0m \u001b[38;5;28;01mwith\u001b[39;00m np\u001b[38;5;241m.\u001b[39merrstate(\u001b[38;5;28mall\u001b[39m\u001b[38;5;241m=\u001b[39m\u001b[38;5;124m\"\u001b[39m\u001b[38;5;124mignore\u001b[39m\u001b[38;5;124m\"\u001b[39m):\n\u001b[0;32m-> 4816\u001b[0m     \u001b[38;5;28;01mreturn\u001b[39;00m \u001b[43mop\u001b[49m\u001b[43m(\u001b[49m\u001b[43mdelegate\u001b[49m\u001b[43m,\u001b[49m\u001b[43m \u001b[49m\u001b[43mskipna\u001b[49m\u001b[38;5;241;43m=\u001b[39;49m\u001b[43mskipna\u001b[49m\u001b[43m,\u001b[49m\u001b[43m \u001b[49m\u001b[38;5;241;43m*\u001b[39;49m\u001b[38;5;241;43m*\u001b[39;49m\u001b[43mkwds\u001b[49m\u001b[43m)\u001b[49m\n",
      "File \u001b[0;32m/opt/homebrew/lib/python3.11/site-packages/pandas/core/nanops.py:93\u001b[0m, in \u001b[0;36mdisallow.__call__.<locals>._f\u001b[0;34m(*args, **kwargs)\u001b[0m\n\u001b[1;32m     91\u001b[0m \u001b[38;5;28;01mtry\u001b[39;00m:\n\u001b[1;32m     92\u001b[0m     \u001b[38;5;28;01mwith\u001b[39;00m np\u001b[38;5;241m.\u001b[39merrstate(invalid\u001b[38;5;241m=\u001b[39m\u001b[38;5;124m\"\u001b[39m\u001b[38;5;124mignore\u001b[39m\u001b[38;5;124m\"\u001b[39m):\n\u001b[0;32m---> 93\u001b[0m         \u001b[38;5;28;01mreturn\u001b[39;00m \u001b[43mf\u001b[49m\u001b[43m(\u001b[49m\u001b[38;5;241;43m*\u001b[39;49m\u001b[43margs\u001b[49m\u001b[43m,\u001b[49m\u001b[43m \u001b[49m\u001b[38;5;241;43m*\u001b[39;49m\u001b[38;5;241;43m*\u001b[39;49m\u001b[43mkwargs\u001b[49m\u001b[43m)\u001b[49m\n\u001b[1;32m     94\u001b[0m \u001b[38;5;28;01mexcept\u001b[39;00m \u001b[38;5;167;01mValueError\u001b[39;00m \u001b[38;5;28;01mas\u001b[39;00m e:\n\u001b[1;32m     95\u001b[0m     \u001b[38;5;66;03m# we want to transform an object array\u001b[39;00m\n\u001b[1;32m     96\u001b[0m     \u001b[38;5;66;03m# ValueError message to the more typical TypeError\u001b[39;00m\n\u001b[1;32m     97\u001b[0m     \u001b[38;5;66;03m# e.g. this is normally a disallowed function on\u001b[39;00m\n\u001b[1;32m     98\u001b[0m     \u001b[38;5;66;03m# object arrays that contain strings\u001b[39;00m\n\u001b[1;32m     99\u001b[0m     \u001b[38;5;28;01mif\u001b[39;00m is_object_dtype(args[\u001b[38;5;241m0\u001b[39m]):\n",
      "File \u001b[0;32m/opt/homebrew/lib/python3.11/site-packages/pandas/core/nanops.py:155\u001b[0m, in \u001b[0;36mbottleneck_switch.__call__.<locals>.f\u001b[0;34m(values, axis, skipna, **kwds)\u001b[0m\n\u001b[1;32m    153\u001b[0m         result \u001b[38;5;241m=\u001b[39m alt(values, axis\u001b[38;5;241m=\u001b[39maxis, skipna\u001b[38;5;241m=\u001b[39mskipna, \u001b[38;5;241m*\u001b[39m\u001b[38;5;241m*\u001b[39mkwds)\n\u001b[1;32m    154\u001b[0m \u001b[38;5;28;01melse\u001b[39;00m:\n\u001b[0;32m--> 155\u001b[0m     result \u001b[38;5;241m=\u001b[39m \u001b[43malt\u001b[49m\u001b[43m(\u001b[49m\u001b[43mvalues\u001b[49m\u001b[43m,\u001b[49m\u001b[43m \u001b[49m\u001b[43maxis\u001b[49m\u001b[38;5;241;43m=\u001b[39;49m\u001b[43maxis\u001b[49m\u001b[43m,\u001b[49m\u001b[43m \u001b[49m\u001b[43mskipna\u001b[49m\u001b[38;5;241;43m=\u001b[39;49m\u001b[43mskipna\u001b[49m\u001b[43m,\u001b[49m\u001b[43m \u001b[49m\u001b[38;5;241;43m*\u001b[39;49m\u001b[38;5;241;43m*\u001b[39;49m\u001b[43mkwds\u001b[49m\u001b[43m)\u001b[49m\n\u001b[1;32m    157\u001b[0m \u001b[38;5;28;01mreturn\u001b[39;00m result\n",
      "File \u001b[0;32m/opt/homebrew/lib/python3.11/site-packages/pandas/core/nanops.py:418\u001b[0m, in \u001b[0;36m_datetimelike_compat.<locals>.new_func\u001b[0;34m(values, axis, skipna, mask, **kwargs)\u001b[0m\n\u001b[1;32m    415\u001b[0m \u001b[38;5;28;01mif\u001b[39;00m datetimelike \u001b[38;5;129;01mand\u001b[39;00m mask \u001b[38;5;129;01mis\u001b[39;00m \u001b[38;5;28;01mNone\u001b[39;00m:\n\u001b[1;32m    416\u001b[0m     mask \u001b[38;5;241m=\u001b[39m isna(values)\n\u001b[0;32m--> 418\u001b[0m result \u001b[38;5;241m=\u001b[39m \u001b[43mfunc\u001b[49m\u001b[43m(\u001b[49m\u001b[43mvalues\u001b[49m\u001b[43m,\u001b[49m\u001b[43m \u001b[49m\u001b[43maxis\u001b[49m\u001b[38;5;241;43m=\u001b[39;49m\u001b[43maxis\u001b[49m\u001b[43m,\u001b[49m\u001b[43m \u001b[49m\u001b[43mskipna\u001b[49m\u001b[38;5;241;43m=\u001b[39;49m\u001b[43mskipna\u001b[49m\u001b[43m,\u001b[49m\u001b[43m \u001b[49m\u001b[43mmask\u001b[49m\u001b[38;5;241;43m=\u001b[39;49m\u001b[43mmask\u001b[49m\u001b[43m,\u001b[49m\u001b[43m \u001b[49m\u001b[38;5;241;43m*\u001b[39;49m\u001b[38;5;241;43m*\u001b[39;49m\u001b[43mkwargs\u001b[49m\u001b[43m)\u001b[49m\n\u001b[1;32m    420\u001b[0m \u001b[38;5;28;01mif\u001b[39;00m datetimelike:\n\u001b[1;32m    421\u001b[0m     result \u001b[38;5;241m=\u001b[39m _wrap_results(result, orig_values\u001b[38;5;241m.\u001b[39mdtype, fill_value\u001b[38;5;241m=\u001b[39miNaT)\n",
      "File \u001b[0;32m/opt/homebrew/lib/python3.11/site-packages/pandas/core/nanops.py:706\u001b[0m, in \u001b[0;36mnanmean\u001b[0;34m(values, axis, skipna, mask)\u001b[0m\n\u001b[1;32m    703\u001b[0m     dtype_count \u001b[38;5;241m=\u001b[39m dtype\n\u001b[1;32m    705\u001b[0m count \u001b[38;5;241m=\u001b[39m _get_counts(values\u001b[38;5;241m.\u001b[39mshape, mask, axis, dtype\u001b[38;5;241m=\u001b[39mdtype_count)\n\u001b[0;32m--> 706\u001b[0m the_sum \u001b[38;5;241m=\u001b[39m \u001b[43m_ensure_numeric\u001b[49m\u001b[43m(\u001b[49m\u001b[43mvalues\u001b[49m\u001b[38;5;241;43m.\u001b[39;49m\u001b[43msum\u001b[49m\u001b[43m(\u001b[49m\u001b[43maxis\u001b[49m\u001b[43m,\u001b[49m\u001b[43m \u001b[49m\u001b[43mdtype\u001b[49m\u001b[38;5;241;43m=\u001b[39;49m\u001b[43mdtype_sum\u001b[49m\u001b[43m)\u001b[49m\u001b[43m)\u001b[49m\n\u001b[1;32m    708\u001b[0m \u001b[38;5;28;01mif\u001b[39;00m axis \u001b[38;5;129;01mis\u001b[39;00m \u001b[38;5;129;01mnot\u001b[39;00m \u001b[38;5;28;01mNone\u001b[39;00m \u001b[38;5;129;01mand\u001b[39;00m \u001b[38;5;28mgetattr\u001b[39m(the_sum, \u001b[38;5;124m\"\u001b[39m\u001b[38;5;124mndim\u001b[39m\u001b[38;5;124m\"\u001b[39m, \u001b[38;5;28;01mFalse\u001b[39;00m):\n\u001b[1;32m    709\u001b[0m     count \u001b[38;5;241m=\u001b[39m cast(np\u001b[38;5;241m.\u001b[39mndarray, count)\n",
      "File \u001b[0;32m/opt/homebrew/lib/python3.11/site-packages/pandas/core/nanops.py:1637\u001b[0m, in \u001b[0;36m_ensure_numeric\u001b[0;34m(x)\u001b[0m\n\u001b[1;32m   1634\u001b[0m             x \u001b[38;5;241m=\u001b[39m \u001b[38;5;28mcomplex\u001b[39m(x)\n\u001b[1;32m   1635\u001b[0m         \u001b[38;5;28;01mexcept\u001b[39;00m \u001b[38;5;167;01mValueError\u001b[39;00m \u001b[38;5;28;01mas\u001b[39;00m err:\n\u001b[1;32m   1636\u001b[0m             \u001b[38;5;66;03m# e.g. \"foo\"\u001b[39;00m\n\u001b[0;32m-> 1637\u001b[0m             \u001b[38;5;28;01mraise\u001b[39;00m \u001b[38;5;167;01mTypeError\u001b[39;00m(\u001b[38;5;124mf\u001b[39m\u001b[38;5;124m\"\u001b[39m\u001b[38;5;124mCould not convert \u001b[39m\u001b[38;5;132;01m{\u001b[39;00mx\u001b[38;5;132;01m}\u001b[39;00m\u001b[38;5;124m to numeric\u001b[39m\u001b[38;5;124m\"\u001b[39m) \u001b[38;5;28;01mfrom\u001b[39;00m\u001b[38;5;250m \u001b[39m\u001b[38;5;21;01merr\u001b[39;00m\n\u001b[1;32m   1638\u001b[0m \u001b[38;5;28;01mreturn\u001b[39;00m x\n",
      "\u001b[0;31mTypeError\u001b[0m: Could not convert NoYesNoNoNoYesNoNoNoYesNoNoNoYesNoNoNoNoNoYesNoNoYesNoNoNoNoYesNoNoNoYesNoNoNoYesYesYesNoYesYesNoNoNoNoNoYesYesNoNoNoYesNoNoYesNoNoNoNoYesNoNoYesYesNoNoNoNoNoNoNoNoNoNoNoYesNoNoNoYesYesNoYesNoYesNoNoNoYesYesNoNoYesYesNoNoNoNoNoYesNoNoNoNoNoNoNoNoYesNoNoNoNoNoNoYesYesNoNoNoNoNoYesNoNoNoNoYesNoNoNoNoNoYesYesNoNoNoNoNoNoYesYesNoYesYesNoNoNoNoNoYesNoYesNoNoYesYesYesNoYesNoNoNoNoNoNoNoNoYesYesNoNoNoNoNoNoNoYesNoNoNoNoNoNoYesNoYesYesNoYesYesNoYesNoNoNoNoNoNoNoNoYesNoNoNoNoNoNoNoNoYesYesYesNoNoNoNoNoNoNoNoNoYesNoYesNoNoNoNoYesNoNoNoNoNoNoNoNoYesNoNoNoNoNoYesNoNoYesNoNoNoYesYesYesNoNoNoYesNoNoNoNoYesNoNoNoNoNoNoNoYesNoNoNoNoYesNoYesNoNoNoNoNoNoNoNoNoYesNoNoNoNoNoNoNoNoNoNoNoNoNoNoNoNoNoYesNoNoNoNoNoYesNoNoNoYesNoNoNoNoNoNoNoNoYesYesNoNoNoNoNoNoYesYesNoYesYesNoNoNoNoNoNoNoNoNoYesNoNoYesNoNoYesNoNoYesYesNoYesYesNoNoNoYesNoYesNoYesYesNoNoNoNoNoNoNoNoYesNoNoNoNoNoNoNoNoNoNoYesNoYesNoNoNoNoYesNoNoNoYesNoNoNoYesNoNoYesNoNoNoYesNoNoYesNoYesNoYesNoYesYesNoNoYesYesNoNoNoNoNoNoNoNoNoNoNoYesNoYesNoNoYesYesNoYesNoNoNoYesNoNoNoNoNoNoYesNoNoYesNoNoNoNoYesNoNoNoYesNoNoNoNoYesNoNoNoNoNoNoYesNoYesYesYesNoYesYesYesNoNoNoYesYesNoNoNoNoNoNoNoNoNoNoNoYesNoYesNoNoNoYesNoYesNoNoNoNoYesNoYesNoYesNoNoNoNoNoNoYesYesNoYesNoNoNoNoNoNoNoNoNoNoNoYesYesYesNoNoYesNoNoYesNoNoYesNoNoNoNoYesNoNoYesNoNoNoYesNoNoNoNoNoNoNoNoNoNoYesNoNoYesYesYesNoNoNoYesYesNoYesNoNoNoNoNoNoNoNoNoNoNoNoNoNoNoNoYesNoYesNoNoNoYesYesNoNoNoNoYesYesNoNoYesNoNoNoNoNoYesNoNoNoNoNoNoNoNoYesNoNoNoNoYesNoNoNoYesYesNoNoNoNoYesNoNoYesYesNoYesYesNoNoYesNoNoNoNoNoNoNoNoNoNoNoYesNoNoNoYesYesNoNoNoNoNoNoNoNoNoYesNoNoNoNoYesNoNoNoNoNoYesNoNoNoYesYesYesNoNoYesYesYesYesNoYesNoNoNoNoNoNoNoNoYesNoNoNoNoNoNoYesYesNoYesNoNoYesNoNoYesNoNoNoYesNoYesNoNoYesYesNoNoNoYesNoYesNoNoNoNoNoNoYesNoNoYesNoNoNoYesYesNoNoYesNoNoNoNoNoYesYesNoNoNoNoNoYesNoNoYesNoNoYesNoNoNoNoNoYesYesNoNoYesNoNoNoYesYesNoNoNoNoNoNoYesNoNoNoNoNoYesNoNoNoYesYesNoNoNoNoNoYesNoNoNoNoNoYesNoYesNoNoYesNoNoNoNoNoNoYesNoNoNoYesNoNoNoYesNoNoNoYesNoNoNoNoYesYesNoNoYesYesYesNoNoYesNoNoNoNoYesNoNoNoYesYesYesNoYesYesNoYesNoYesNoYesNoYesNoNoNoYesNoNoNoNoYesNoYesNoYesYesYesNoNoNoNoNoNoYesNoNoNoNoYesNoYesNoYesNoNoNoNoNoNoNoNoYesNoYesNoNoNoNoNoYesYesNoYesNoNoNoNoNoYesYesYesNoNoNoNoNoNoNoNoYesNoNoYesYesNoYesNoNoNoNoNoNoNoYesNoNoNoNoYesNoNoNoYesNoNoNoNoYesNoNoYesYesNoNoNoNoNoNoNoNoNoNoNoNoNoNoNoYesNoNoNoNoNoNoYesNoYesYesNoNoNoYesNoNoNoNoNoNoNoNoYesNoNoNoNoNoNoNoNoYesNoNoNoNoNoNoNoNoNoNoNoYesNoYesYesNoNoNoYesNoYesNoYesNoNoYesNoNoNoNoNoNoNoYesNoYesNoNoNoNoNoNoNoNoNoNoYesNoNoNoYesNoNoNoYesNoNoNoNoNoNoNoNoNoNoNoNoNoNoNoNoNoNoNoNoYesNoYesNoNoYesNoYesNoYesNoNoNoYesYesNoNoNoNoNoNoYesNoNoNoYesNoNoYesNoNoNoNoNoYesNoYesNoNoNoNoYesNoNoYesNoNoNoNoNoNoNoNoYesYesYesNoYesYesNoNoNoYesYesYesNoYesNoNoNoNoYesYesNoNoNoYesNoNoNoNoYesNoNoYesNoYesNoNoYesNoNoYesNoNoNoNoYesNoNoNoYesNoNoNoNoYesYesYesNoNoYesNoNoNoNoNoNoNoYesNoYesNoYesYesNoNoYesNoNoNoNoNoNoNoNoYesYesYesNoNoNoNoNoYesNoYesNoYesNoNoNoNoNoNoNoNoNoNoYesNoYesYesNoYesNoNoYesNoYesNoNoNoYesNoNoNoNoNoNoNoYesNoNoNoNoNoNoNoNoNoYesNoNoNoNoYesNoNoNoNoNoYesYesNoYesNoNoNoNoNoNoYesNoNoNoYesNoNoYesNoNoNoNoNoNoNoNoNoNoYesNoNoNoNoNoNoNoYesNoYesNoNoYesNoYesNoYesNoYesNoNoYesNoNoNoYesNoYesNoNoNoYesNoNoYesNoYesNoYesNoNoNoNoYesYesNoNoYesNoNoYesNoNoNoNoNoNoNoNoYesNoYesNoNoNoNoNoYesNoYesNoNoYesYesNoNoNoYesNoNoYesNoNoNoNoNoYesNoNoYesYesNoYesYesNoYesYesNoYesNoNoNoYesYesNoNoNoNoNoNoYesNoNoNoYesNoNoYesNoNoNoYesYesNoNoNoNoNoNoNoNoYesNoNoYesNoNoNoNoNoNoNoNoNoNoYesNoNoYesYesYesNoNoYesNoNoNoNoYesNoYesNoNoNoNoNoNoNoYesNoYesYesYesYesNoNoYesYesNoNoNoNoYesNoYesYesYesNoYesYesNoYesYesNoNoYesYesNoYesYesYesNoNoNoYesNoYesNoNoNoNoNoNoNoYesNoNoNoNoYesNoNoNoNoYesNoNoYesNoNoYesNoNoYesNoNoNoNoNoNoYesYesNoNoNoYesYesYesNoYesYesNoNoNoNoYesNoNoNoNoYesNoNoNoNoNoYesNoNoNoNoYesNoNoNoNoNoYesYesNoYesNoYesNoNoYesNoNoYesNoNoYesYesNoNoNoNoNoNoNoNoNoNoYesNoNoNoNoYesYesNoNoNoNoNoYesNoYesNoNoNoYesNoNoNoNoNoNoNoNoNoNoNoNoNoNoYesNoNoNoYesNoYesNoNoNoYesNoYesNoNoNoNoNoNoYesNoNoNoYesNoNoNoNoNoYesNoYesYesNoYesNoYesYesNoYesYesYesNoNoYesYesNoNoNoNoNoNoYesYesYesNoNoNoNoNoNoNoNoNoNoYesNoNoNoNoNoNoYesNoYesNoNoNoNoNoYesNoNoYesNoNoNoNoNoNoNoNoNoYesNoYesNoNoNoNoNoYesNoYesYesYesNoNoNoYesNoNoYesNoNoNoNoNoNoNoNoNoNoNoNoNoNoNoNoNoNoNoNoYesYesYesYesYesNoYesNoNoNoYesNoNoNoYesNoNoNoNoYesNoNoNoNoNoNoNoNoYesNoNoNoYesNoNoNoNoYesYesNoNoYesNoNoNoNoNoNoNoNoYesNoNoNoNoNoYesYesNoYesNoNoNoNoNoNoNoYesNoYesNoNoNoYesNoNoYesNoNoYesNoYesNoYesYesNoYesNoNoNoNoNoNoNoNoYesYesNoNoNoNoNoYesNoNoYesNoNoNoNoYesNoNoNoNoYesNoYesNoNoYesNoYesNoNoNoNoNoNoNoNoNoNoNoYesNoYesNoNoNoNoNoYesYesNoNoNoNoNoNoYesNoYesNoNoYesNoNoYesYesNoYesYesNoNoNoNoYesNoNoNoYesNoNoNoNoYesYesNoNoNoNoNoNoYesNoNoNoYesYesNoYesNoYesNoYesNoNoNoNoNoNoNoNoYesYesNoNoNoNoNoNoYesNoNoNoNoNoNoNoNoNoYesNoNoNoNoNoNoNoNoYesNoYesNoYesNoNoNoNoNoNoNoYesYesNoYesNoNoNoNoNoNoNoNoNoNoYesNoNoYesNoNoNoNoNoYesNoNoNoNoNoNoNoNoNoYesNoNoYesNoNoNoYesNoNoNoNoNoNoNoYesYesYesYesNoYesYesNoNoYesYesNoNoYesYesNoNoYesNoNoYesNoNoYesNoNoNoYesNoNoNoNoYesYesNoNoNoNoNoNoNoNoNoYesNoYesYesYesNoNoYesNoNoNoNoNoNoNoNoNoNoYesYesNoYesNoNoNoNoNoNoNoYesNoNoNoNoYesNoYesNoYesNoNoNoYesNoNoNoYesYesNoYesNoNoNoNoNoNoNoNoNoNoNoNoNoNoYesNoYesNoNoNoNoNoNoNoYesNoNoNoNoYesNoNoNoNoYesYesYesNoNoNoNoNoYesYesNoNoYesNoYesNoNoNoNoNoNoYesNoNoYesNoYesNoNoNoNoNoNoNoNoNoNoNoNoNoNoNoYesNoNoNoNoNoNoYesNoNoNoYesNoNoNoNoNoYesNoNoNoNoNoYesYesNoNoNoNoYesNoNoNoNoNoNoNoNoYesNoYesNoNoYesYesNoNoNoNoYesNoYesYesNoNoNoNoYesNoYesNoNoYesYesYesNoNoNoNoYesYesYesNoNoNoNoYesNoNoNoYesNoYesNoNoNoYesNoYesNoNoYesYesYesNoNoYesNoYesNoNoNoNoNoNoNoNoNoYesYesYesNoYesYesNoYesYesNoNoNoNoNoYesNoNoYesYesNoYesNoNoYesYesYesNoNoNoYesYesYesYesNoNoYesNoYesNoNoYesNoNoNoNoNoNoNoNoNoYesNoNoNoNoNoNoYesNoNoNoYesNoYesNoNoYesNoNoNoNoNoNoNoNoNoYesNoNoYesNoNoNoNoNoNoNoNoYesYesNoNoNoNoNoNoYesNoNoNoNoNoYesNoNoYesNoNoNoNoYesNoYesYesNoNoNoYesNoYesNoYesNoYesNoYesNoYesYesNoYesYesNoNoNoYesNoNoNoNoNoYesNoNoNoNoNoNoNoNoNoNoNoNoNoYesNoYesYesNoNoNoNoNoNoNoNoNoNoNoNoYesNoNoYesNoYesNoYesNoNoNoNoNoNoNoNoNoNoNoYesNoNoNoNoNoNoNoNoNoNoYesYesNoNoYesNoNoNoNoNoNoNoYesNoYesNoYesYesNoNoNoNoNoNoYesYesNoNoYesYesYesNoYesNoNoYesNoNoNoNoNoNoNoNoNoYesYesNoNoYesNoYesNoNoYesNoNoYesYesNoNoNoNoNoNoNoYesNoNoNoNoNoNoNoNoYesNoNoYesNoNoNoNoYesNoNoNoYesNoNoYesNoYesYesNoYesYesNoYesYesNoNoNoYesNoNoNoYesNoYesNoNoYesNoNoNoNoNoNoNoNoNoYesYesNoNoYesNoNoNoYesNoYesYesYesNoNoNoNoYesNoNoNoYesYesNoYesNoNoNoYesNoYesYesNoNoNoNoYesNoYesNoNoYesYesNoYesYesNoNoYesYesNoYesNoNoYesYesNoNoYesYesNoNoNoNoNoNoNoYesNoNoNoYesYesNoNoNoNoNoNoNoNoNoNoNoNoNoYesNoNoYesYesNoNoYesNoNoYesYesNoNoNoYesNoNoYesNoNoNoNoYesNoYesYesYesNoNoNoYesNoYesNoYesNoYesNoNoYesNoNoNoNoNoNoNoNoNoNoNoNoNoYesNoNoYesNoNoYesNoNoYesNoNoNoNoNoNoYesNoYesNoNoNoNoNoNoNoNoNoNoNoNoNoNoNoNoNoNoYesNoNoNoYesNoNoNoYesYesNoNoNoNoNoNoNoNoYesNoNoNoYesNoNoYesNoNoNoNoNoNoNoNoNoNoNoNoYesYesNoNoNoNoNoNoYesYesNoNoNoYesYesYesNoYesYesNoYesNoNoNoNoYesYesNoNoYesNoNoNoYesYesNoNoNoNoNoYesNoNoNoYesNoNoNoNoNoYesNoNoNoNoYesNoYesNoNoNoNoYesYesNoNoNoYesNoYesNoNoNoNoNoYesNoNoNoYesYesNoNoNoYesYesNoYesYesNoNoNoNoNoNoNoNoNoNoNoYesNoYesNoNoNoYesYesYesNoYesNoNoNoNoNoNoYesNoNoNoNoNoNoNoNoNoNoNoNoNoNoNoNoNoNoNoNoNoNoNoYesNoNoNoNoYesYesNoNoYesNoNoYesNoNoNoNoNoNoNoNoYesYesYesYesNoNoNoNoNoYesYesYesNoNoNoYesYesNoNoNoNoNoYesNoNoNoYesNoNoNoNoNoNoNoNoYesNoNoNoNoNoNoYesNoNoNoNoNoYesNoNoNoNoNoNoNoYesNoYesNoYesYesNoYesNoYesNoYesNoNoNoNoNoYesNoYesNoNoNoYesNoNoNoNoNoNoYesYesYesNoYesNoYesNoYesNoNoYesNoNoNoNoNoYesNoNoYesNoNoNoNoNoNoYesNoYesNoNoNoNoYesNoNoNoNoNoYesYesYesNoYesNoNoYesNoYesNoYesYesNoNoYesYesNoYesYesNoNoNoYesNoNoYesYesYesYesNoNoYesNoNoNoYesNoNoNoNoYesNoYesNoNoYesYesNoYesYesNoYesYesYesYesYesNoNoYesYesNoNoNoNoYesNoNoNoNoNoNoYesNoYesNoNoNoNoNoNoNoNoYesNoNoNoNoYesYesYesYesNoNoNoNoNoYesYesYesYesNoYesNoNoYesNoNoNoNoNoNoYesNoNoNoNoNoYesNoNoYesNoYesYesNoNoNoNoNoNoYesNoNoNoNoNoNoNoNoNoNoNoNoYesNoYesNoNoNoYesNoNoNoNoNoNoNoNoNoNoNoNoYesNoNoNoNoYesNoNoNoYesNoYesNoNoNoNoNoNoNoNoNoNoNoYesNoYesNoNoNoNoYesNoYesNoNoNoYesNoNoNoNoNoNoNoNoYesNoYesNoYesNoNoNoYesNoNoNoYesNoNoNoNoYesNoNoNoNoYesYesNoNoNoNoYesNoNoNoYesNoNoNoNoNoNoYesNoYesYesNoNoNoNoNoNoNoNoNoNoNoNoNoYesNoNoNoNoNoNoNoNoNoNoYesNoNoNoYesNoNoNoNoNoNoNoYesNoYesNoNoYesNoYesNoNoNoNoYesNoNoNoNoNoNoNoNoYesNoNoYesYesNoNoNoNoNoNoNoNoNoNoNoNoNoNoYesNoYesYesYesYesNoYesYesNoYesNoNoYesYesNoNoYesNoNoNoNoYesNoNoNoNoYesNoYesNoYesNoYesYesNoNoNoNoNoNoYesYesNoNoNoNoNoNoYesNoNoNoYesNoNoNoYesNoNoNoNoYesNoNoNoNoNoNoNoNoNoYesNoNoNoNoYesYesNoNoNoNoNoNoNoNoNoNoYesNoNoNoNoYesNoNoNoNoNoNoNoYesNoNoYesNoNoNoNoYesNoNoNoNoNoNoNoNoYesNoYesNoYesYesNoNoNoNoNoNoNoNoNoNoNoNoNoYesNoNoNoNoYesYesYesNoNoNoYesNoNoYesNoNoNoNoYesNoYesNoNoNoNoNoYesNoNoNoNoNoNoYesNoNoNoNoYesNoNoNoNoNoNoNoNoYesNoYesNoNoNoNoNoNoNoYesNoNoNoNoNoNoNoYesNoNoNoYesNoNoNoYesNoNoYesNoNoNoNoYesYesYesNoYesNoYesNoYesYesNoNoNoYesNoNoNoNoYesNoYesYesNoYesNoYesNoYesNoNoNoNoNoNoNoYesNoNoNoNoYesNoYesNoNoNoNoNoYesYesNoNoNoNoNoNoYesYesYesNoNoNoYesNoNoNoNoNoYesNoNoNoNoNoNoYesNoYesNoNoNoYesNoNoYesNoNoNoNoYesYesNoYesNoNoNoNoYesNoNoNoNoNoNoNoYesNoNoNoYesNoYesNoYesYesNoYesYesYesNoNoYesNoYesNoNoNoNoYesNoNoYesNoNoYesNoNoYesNoNoNoNoNoNoNoYesNoNoNoNoNoYesNoNoNoYesNoNoNoNoNoNoYesNoNoNoNoYesNoYesYesNoNoNoNoNoNoYesYesYesNoNoYesNoYesYesNoNoNoYesNoNoNoNoNoNoNoNoYesNoNoNoNoNoNoYesNoNoNoNoNoNoNoNoNoNoNoYesNoNoNoNoNoYesYesNoNoNoYesNoNoNoNoNoNoNoNoNoYesYesYesNoNoNoNoNoNoNoYesYesNoNoYesNoNoNoYesNoNoYesYesNoNoNoNoNoNoNoNoNoYesNoNoYesYesNoNoYesYesNoNoNoNoNoNoNoNoNoNoNoNoYesNoNoNoNoNoNoNoYesYesNoNoYesNoNoYesNoNoYesNoYesNoNoNoNoNoNoNoNoNoNoNoNoNoNoNoNoNoYesNoNoNoNoNoNoNoNoNoYesNoNoNoNoYesNoYesYesYesNoNoYesNoYesYesNoYesNoNoYesYesNoNoNoNoNoNoNoNoYesNoNoNoYesNoNoNoYesNoNoNoYesNoYesNoNoYesNoNoYesNoNoNoNoNoNoNoNoNoNoNoNoNoNoNoNoNoNoYesNoYesNoYesNoYesYesNoYesYesNoNoYesNoNoNoNoNoNoNoNoYesNoNoNoNoYesNoNoNoYesYesNoYesNoYesNoYesNoYesYesNoYesNoYesNoNoNoYesNoNoNoYesNoNoNoYesNoNoNoYesYesNoNoNoNoNoNoNoNoNoYesNoNoNoYesYesYesNoNoNoNoNoNoYesNoNoNoNoNoNoYesNoYesNoNoNoNoNoNoNoNoYesNoNoYesYesNoNoYesNoYesNoNoNoNoNoNoNoNoNoNoYesNoNoNoNoNoYesNoNoNoNoNoNoNoNoNoNoNoNoNoNoNoYesNoNoNoYesYesYesNoNoYesNoYesYesYesNoYesNoNoYesNoNoNoNoYesNoNoNoYesNoYesYesNoNoNoNoYesYesNoNoNoNoNoNoNoYesNoYesNoNoNoYesNoNoNoNoNoYesNoYesNoNoNoNoNoYesNoYesNoNoNoNoNoNoNoNoNoNoNoYesNoNoNoNoNoYesNoNoYesNoNoNoNoNoNoNoYesNoYesYesNoNoNoNoNoNoNoYesNoNoNoYesNoNoYesNoYesNoYesYesNoNoNoYesNoNoNoNoNoNoYesNoYesNoNoNoNoNoNoNoNoNoNoNoYesNoYesNoNoNoNoNoNoNoYesNoNoNoNoNoNoNoNoNoNoYesNoYesYesNoYesNoYesNoYesYesYesYesNoYesNoNoNoNoYesNoNoYesNoNoNoNoNoYesNoNoNoNoNoNoNoYesNoNoYesYesNoNoNoNoNoNoNoNoYesYesYesYesNoNoNoNoNoNoYesYesNoNoNoNoYesNoNoNoNoYesYesNoNoNoNoNoNoNoYesNoYesYesNoNoYesNoNoYesNoNoNoNoYesYesNoNoNoNoYesNoNoNoYesYesNoYesYesNoNoNoNoYesNoNoNoYesNoNoNoNoNoNoNoNoNoNoYesNoYesNoNoNoNoNoNoNoNoNoNoNoYesNoNoNoYesNoNoNoYesNoNoYesYesNoYesYesNoNoNoNoNoNoYesNoYesYesNoNoNoNoNoNoYesNoYesYesNoYesNoNoYesNoNoYesNoYesYesNoYesNoNoYesNoNoNoNoNoNoNoNoYesYesYesYesNoNoNoNoNoNoNoNoNoYesNoNoNoYesNoNoNoNoNoNoNoNoNoNoNoYesNoNoNoNoNoNoNoYesNoNoNoNoNoYesNoYesNoNoNoNoYesYesNoNoNoNoYesNoNoNoNoNoNoYesNoNoNoNoNoNoNoNoNoNoYesNoNoNoNoNoNoYesNoNoNoNoNoNoNoNoNoNoNoNoNoNoYesNoYesNoNoNoNoNoNoNoNoNoNoNoNoNoNoNoNoYesNoNoNoNoYesNoYesNoYesNoYesYesYesNoNoNoNoNoNoNoNoYesYesYesNoYesYesNoNoNoYesNoNoNoNoNoNoNoNoNoNoYesYesYesNoNoNoNoNoNoNoNoNoNoYesNoYesNoYesYesNoNoNoNoYesNoNoNoNoNoNoNoNoNoNoNoYesNoNoNoNoNoNoNoYesNoYesYesYesNoNoYesYesNoNoNoNoNoNoYesNoNoNoYesNoNoYesNoNoNoYesNoNoYesYesNoYesNoYesYesNoNoNoNoNoNoNoYesNoNoNoNoYesNoNoNoNoNoNoNoNoYesNoYesNoNoNoYesNoNoNoYesNoNoNoNoNoNoNoNoNoNoNoNoNoNoYesNoNoNoYesNoNoNoNoNoNoYesNoYesNoNoNoNoYesNoNoNoNoNoNoYesYesNoNoYesNoNoNoYesYesNoNoNoYesNoNoYesYesNoNoNoNoNoNoNoYesNoNoNoYesNoNoNoNoNoNoNoNoYesYesNoYesNoNoYesNoYesNoNoNoNoYesNoNoNoNoNoNoNoYesNoYesYesYesYesNoYesNoNoNoYesYesNoNoNoNoYesNoNoYesYesNoYesYesYesNoNoYesNoYesYesNoNoNoNoYesYesYesNoNoNoNoYesYesYesYesNoNoNoNoNoYesYesYesNoYesNoNoNoNoNoYesNoNoNoNoYesNoNoNoNoNoNoYesYesNoYesNoYesNoNoNoNoYesNoNoNoNoYesNoNoNoYesNoNoNoNoYesNoYesNoNoYesNoNoYesNoNoNoYesYesNoNoYesNoNoYesNoNoNoNoNoYesNoNoNoNoNoYesNoNoYesNoNoNoNoYesNoNoYesNoYesNoYesNoNoNoNoNoNoNoNoYesNoNoNoNoNoNoNoNoNoNoNoNoYesYesNoNoNoNoNoNoNoNoYesNoNoNoNoNoNoNoNoNoYesNoYesYesNoYesNoYesNoNoYesNoNoNoNoNoNoYesNoYesNoNoNoNoNoNoNoNoYesYesYesNoNoNoNoNoNoNoYesNoYesNoNoYesNoYesYesYesNoNoYesNoYesNoNoYesNoNoNoNoNoNoNoNoNoYesNoNoNoYesNoNoNoNoYesNoNoYesNoYesNoNoNoNoNoYesNoNoNoNoYesNoNoNoNoNoNoNoYesNoNoNoNoYesNoNoNoNoYesNoYesNoNoNoNoNoNoNoNoNoNoNoNoYesYesNoYesYesYesNoNoNoYesNoNoYesNoNoNoYesNoYesNoNoNoYesYesNoYesNoNoYesYesNoNoYesNoNoNoNoNoNoNoYesNoNoYesNoNoNoYesYesNoYesYesYesYesNoNoNoNoNoNoYesNoYesNoNoNoNoNoNoYesNoNoYesYesNoNoNoNoNoNoNoNoYesNoNoNoNoNoNoNoNoNoYesNoNoYesNoNoYesYesNoYesNoNoNoNoNoYesNoYesNoNoNoNoNoYesNoNoYesYesYesNoNoNoNoYesYesNoNoNoNoNoNoNoYesNoYesNoNoYesNoNoYesYesNoNoNoNoNoNoNoNoNoYesYesYesNoNoNoNoNoNoNoNoYesNoYesNoNoYesNoNoNoNoYesNoNoNoNoNoNoNoYesNoNoNoNoNoNoNoNoYesNoYesNoNoYesNoNoNoYesNoNoNoYesYesYesYesYesYesYesNoNoNoNoYesYesNoYesYesNoNoNoNoNoYesNoNoNoYesNoYesNoNoYesNoNoNoYesNoNoNoYesNoNoNoNoNoNoYesNoNoYesNoNoYesYesYesYesYesYesYesYesNoYesYesNoYesNoNoNoNoNoYesNoYesYesNo to numeric"
     ]
    }
   ],
   "source": [
    "class GradientBoosting:\n",
    "    def __init__(self, n_estimators=100, learning_rate=0.1, max_depth=3):\n",
    "        self.n_estimators = n_estimators\n",
    "        self.learning_rate = learning_rate\n",
    "        self.max_depth = max_depth\n",
    "        self.trees = []\n",
    "        self.base_pred = None\n",
    "\n",
    "    def fit(self, X, y):\n",
    "        # Инициализация предсказаний как среднее значение целевой переменной\n",
    "        self.base_pred = np.mean(y)\n",
    "        y_hat = np.full(y.shape, self.base_pred)\n",
    "        residuals = y - y_hat\n",
    "\n",
    "        for i in range(self.n_estimators):\n",
    "            # Обучение дерева на остатках\n",
    "            tree = DecisionTreeRegressor(max_depth=self.max_depth, random_state=i)\n",
    "            tree.fit(X, residuals)\n",
    "            self.trees.append(tree)\n",
    "\n",
    "            # Получаем предсказание текущей моделью\n",
    "            predictions = tree.predict(X)\n",
    "\n",
    "            # Добавляем предсказание текущей модели в весь бустинг\n",
    "            y_hat += self.learning_rate * predictions\n",
    "            residuals = y - (y_hat)\n",
    "\n",
    "    def predict(self, X):\n",
    "        y_hat = np.full(X.shape[0], self.base_pred)  # Начальные предсказания\n",
    "        for tree in self.trees:\n",
    "            y_hat += self.learning_rate * tree.predict(X)\n",
    "        return np.where(y_hat > 0.5, 1, 0)  # Бинарная классификация\n",
    "\n",
    "# Обучаем модель\n",
    "model = GradientBoosting(n_estimators=100, learning_rate=0.1, max_depth=3)\n",
    "model.fit(X_train_transformed, y_train)\n",
    "\n",
    "# Делаем предсказания на тестовой выборке\n",
    "y_test_pred = model.predict(X_test_transformed)\n",
    "\n",
    "# Рассчитываем метрику F1 macro\n",
    "f1_macro = f1_score(y_test, y_test_pred, average='macro')\n",
    "\n",
    "# Выводим результат, округляя до третьего знака после запятой\n",
    "print(f\"F1 Macro на тестовой выборке: {f1_macro:.3f}\")"
   ]
  },
  {
   "cell_type": "code",
   "execution_count": null,
   "metadata": {},
   "outputs": [],
   "source": []
  }
 ],
 "metadata": {
  "kernelspec": {
   "display_name": "Python 3",
   "language": "python",
   "name": "python3"
  },
  "language_info": {
   "codemirror_mode": {
    "name": "ipython",
    "version": 3
   },
   "file_extension": ".py",
   "mimetype": "text/x-python",
   "name": "python",
   "nbconvert_exporter": "python",
   "pygments_lexer": "ipython3",
   "version": "3.11.11"
  }
 },
 "nbformat": 4,
 "nbformat_minor": 2
}
