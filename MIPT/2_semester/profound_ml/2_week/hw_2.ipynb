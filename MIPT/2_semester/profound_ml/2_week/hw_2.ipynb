{
 "cells": [
  {
   "cell_type": "code",
   "execution_count": 3,
   "metadata": {},
   "outputs": [],
   "source": [
    "import numpy as np\n",
    "import pandas as pd\n",
    "from sklearn.model_selection import train_test_split\n",
    "from sklearn.linear_model import LinearRegression\n",
    "from sklearn.metrics import mean_absolute_error, r2_score\n",
    "from sklearn.preprocessing import PolynomialFeatures\n",
    "from sklearn.pipeline import Pipeline"
   ]
  },
  {
   "cell_type": "code",
   "execution_count": 4,
   "metadata": {},
   "outputs": [
    {
     "data": {
      "text/plain": [
       "np.float64(1340.0)"
      ]
     },
     "execution_count": 4,
     "metadata": {},
     "output_type": "execute_result"
    }
   ],
   "source": [
    "A = np.array([10, 5, 8, 1000])\n",
    "B = np.array([50, 100, 30, 0.1])\n",
    "(A * B).sum()"
   ]
  },
  {
   "cell_type": "markdown",
   "metadata": {},
   "source": [
    "---"
   ]
  },
  {
   "cell_type": "code",
   "execution_count": 5,
   "metadata": {},
   "outputs": [
    {
     "data": {
      "text/html": [
       "<div>\n",
       "<style scoped>\n",
       "    .dataframe tbody tr th:only-of-type {\n",
       "        vertical-align: middle;\n",
       "    }\n",
       "\n",
       "    .dataframe tbody tr th {\n",
       "        vertical-align: top;\n",
       "    }\n",
       "\n",
       "    .dataframe thead th {\n",
       "        text-align: right;\n",
       "    }\n",
       "</style>\n",
       "<table border=\"1\" class=\"dataframe\">\n",
       "  <thead>\n",
       "    <tr style=\"text-align: right;\">\n",
       "      <th></th>\n",
       "      <th>YearsExperience</th>\n",
       "      <th>Salary</th>\n",
       "    </tr>\n",
       "  </thead>\n",
       "  <tbody>\n",
       "    <tr>\n",
       "      <th>0</th>\n",
       "      <td>1.2</td>\n",
       "      <td>39344.0</td>\n",
       "    </tr>\n",
       "    <tr>\n",
       "      <th>1</th>\n",
       "      <td>1.4</td>\n",
       "      <td>46206.0</td>\n",
       "    </tr>\n",
       "    <tr>\n",
       "      <th>2</th>\n",
       "      <td>1.6</td>\n",
       "      <td>37732.0</td>\n",
       "    </tr>\n",
       "    <tr>\n",
       "      <th>3</th>\n",
       "      <td>2.1</td>\n",
       "      <td>43526.0</td>\n",
       "    </tr>\n",
       "    <tr>\n",
       "      <th>4</th>\n",
       "      <td>2.3</td>\n",
       "      <td>39892.0</td>\n",
       "    </tr>\n",
       "  </tbody>\n",
       "</table>\n",
       "</div>"
      ],
      "text/plain": [
       "   YearsExperience   Salary\n",
       "0              1.2  39344.0\n",
       "1              1.4  46206.0\n",
       "2              1.6  37732.0\n",
       "3              2.1  43526.0\n",
       "4              2.3  39892.0"
      ]
     },
     "execution_count": 5,
     "metadata": {},
     "output_type": "execute_result"
    }
   ],
   "source": [
    "df = pd.read_csv(\"./data/Salary_data.csv\", index_col=0)\n",
    "df.head()"
   ]
  },
  {
   "cell_type": "code",
   "execution_count": 6,
   "metadata": {},
   "outputs": [],
   "source": [
    "X = df.iloc[:, 0]\n",
    "y = df.iloc[:, 1]"
   ]
  },
  {
   "cell_type": "code",
   "execution_count": 7,
   "metadata": {},
   "outputs": [
    {
     "name": "stdout",
     "output_type": "stream",
     "text": [
      "[9356.86299354] 25154.410333062755\n"
     ]
    }
   ],
   "source": [
    "X_train, X_test, y_train, y_test = train_test_split(\n",
    "    X, y, test_size=0.20, random_state=10)\n",
    "\n",
    "base_lr = LinearRegression()\n",
    "base_lr.fit(X_train.values.reshape(-1,1), y_train)\n",
    "print(base_lr.coef_, base_lr.intercept_)\n"
   ]
  },
  {
   "cell_type": "code",
   "execution_count": 8,
   "metadata": {},
   "outputs": [
    {
     "name": "stdout",
     "output_type": "stream",
     "text": [
      "Mean Absolute Error: 2741.28\n",
      "R-squared: 0.98\n"
     ]
    }
   ],
   "source": [
    "base_pred = base_lr.predict(X_test.values.reshape(-1,1))\n",
    "mae_base = np.round(mean_absolute_error(y_test, base_pred), 2)\n",
    "print(f\"Mean Absolute Error: {mae_base}\")\n",
    "\n",
    "base_r2 = np.round(r2_score(y_test, base_pred), 2)\n",
    "print(f\"R-squared: {base_r2}\")"
   ]
  },
  {
   "cell_type": "markdown",
   "metadata": {},
   "source": [
    "---"
   ]
  },
  {
   "cell_type": "code",
   "execution_count": 9,
   "metadata": {},
   "outputs": [
    {
     "data": {
      "text/html": [
       "<div>\n",
       "<style scoped>\n",
       "    .dataframe tbody tr th:only-of-type {\n",
       "        vertical-align: middle;\n",
       "    }\n",
       "\n",
       "    .dataframe tbody tr th {\n",
       "        vertical-align: top;\n",
       "    }\n",
       "\n",
       "    .dataframe thead th {\n",
       "        text-align: right;\n",
       "    }\n",
       "</style>\n",
       "<table border=\"1\" class=\"dataframe\">\n",
       "  <thead>\n",
       "    <tr style=\"text-align: right;\">\n",
       "      <th></th>\n",
       "      <th>X</th>\n",
       "      <th>Y</th>\n",
       "    </tr>\n",
       "  </thead>\n",
       "  <tbody>\n",
       "    <tr>\n",
       "      <th>0</th>\n",
       "      <td>-3.292157</td>\n",
       "      <td>-53.468412</td>\n",
       "    </tr>\n",
       "    <tr>\n",
       "      <th>1</th>\n",
       "      <td>0.799528</td>\n",
       "      <td>-1.262560</td>\n",
       "    </tr>\n",
       "    <tr>\n",
       "      <th>2</th>\n",
       "      <td>-0.936214</td>\n",
       "      <td>-3.506193</td>\n",
       "    </tr>\n",
       "    <tr>\n",
       "      <th>3</th>\n",
       "      <td>-4.722680</td>\n",
       "      <td>-107.223200</td>\n",
       "    </tr>\n",
       "    <tr>\n",
       "      <th>4</th>\n",
       "      <td>-3.602674</td>\n",
       "      <td>-49.131950</td>\n",
       "    </tr>\n",
       "  </tbody>\n",
       "</table>\n",
       "</div>"
      ],
      "text/plain": [
       "          X           Y\n",
       "0 -3.292157  -53.468412\n",
       "1  0.799528   -1.262560\n",
       "2 -0.936214   -3.506193\n",
       "3 -4.722680 -107.223200\n",
       "4 -3.602674  -49.131950"
      ]
     },
     "execution_count": 9,
     "metadata": {},
     "output_type": "execute_result"
    }
   ],
   "source": [
    "df_2 = pd.read_csv(\"./data/poly.csv\")\n",
    "df_2.head()"
   ]
  },
  {
   "cell_type": "code",
   "execution_count": 10,
   "metadata": {},
   "outputs": [],
   "source": [
    "X = df_2.iloc[:, 0]\n",
    "y = df_2.iloc[:, 1]"
   ]
  },
  {
   "cell_type": "code",
   "execution_count": 11,
   "metadata": {},
   "outputs": [
    {
     "name": "stdout",
     "output_type": "stream",
     "text": [
      "R-squared (Train): 0.67\n",
      "R-squared (Test): -5.66\n"
     ]
    }
   ],
   "source": [
    "X_train, X_test, y_train, y_test = train_test_split(\n",
    "    X, y, test_size=0.20, random_state=10)\n",
    "\n",
    "base_2_lr = LinearRegression()\n",
    "base_2_lr.fit(X_train.values.reshape(-1, 1), y_train)\n",
    "\n",
    "test_pred = base_2_lr.predict(X_test.values.reshape(-1, 1))\n",
    "train_pred = base_2_lr.predict(X_train.values.reshape(-1, 1))\n",
    "\n",
    "r2_train = np.round(r2_score(y_train, train_pred), 2)\n",
    "r2_test = np.round(r2_score(y_test, test_pred), 2)\n",
    "\n",
    "\n",
    "print(f\"R-squared (Train): {r2_train}\")\n",
    "print(f\"R-squared (Test): {r2_test}\")"
   ]
  },
  {
   "cell_type": "code",
   "execution_count": 12,
   "metadata": {},
   "outputs": [
    {
     "name": "stdout",
     "output_type": "stream",
     "text": [
      "-3.24\n",
      "[np.float64(-3.24), np.float64(0.84), np.float64(0.94), np.float64(0.9), np.float64(-0.74), np.float64(-1.29)]\n"
     ]
    }
   ],
   "source": [
    "num_feats = [i for i in range(2, 8)]\n",
    "test_error = []\n",
    "for feat in num_feats:\n",
    "    pipe = Pipeline([\n",
    "        (\"poly\", PolynomialFeatures(degree=feat)),\n",
    "        (\"linear_regression\", LinearRegression())\n",
    "        ])\n",
    "    pipe.fit(X_train.values.reshape(-1, 1), y_train)\n",
    "    prediction = pipe.predict(X_test.values.reshape(-1, 1))\n",
    "    r_2_test = np.round(r2_score(y_test, prediction), 2)\n",
    "    \n",
    "    test_error.append(r_2_test)\n",
    "    \n",
    "print(test_error[np.argmin(test_error)])\n",
    "print(test_error)"
   ]
  },
  {
   "cell_type": "code",
   "execution_count": 13,
   "metadata": {},
   "outputs": [],
   "source": [
    "from sklearn.linear_model import Ridge"
   ]
  },
  {
   "cell_type": "code",
   "execution_count": 19,
   "metadata": {},
   "outputs": [],
   "source": [
    "X_train = X_train.values.reshape(-1, 1)\n",
    "X_test = X_test.values.reshape(-1, 1)"
   ]
  },
  {
   "cell_type": "code",
   "execution_count": 27,
   "metadata": {},
   "outputs": [
    {
     "name": "stdout",
     "output_type": "stream",
     "text": [
      "Alpha: 0.00, R² Training: 0.985, R² Testing: -1.287\n",
      "Alpha: 0.10, R² Training: 0.985, R² Testing: -0.913\n",
      "Alpha: 0.20, R² Training: 0.985, R² Testing: -0.602\n",
      "Alpha: 0.30, R² Training: 0.985, R² Testing: -0.342\n",
      "Alpha: 0.40, R² Training: 0.985, R² Testing: -0.123\n",
      "Alpha: 0.50, R² Training: 0.985, R² Testing: 0.061\n",
      "Alpha: 0.60, R² Training: 0.985, R² Testing: 0.215\n",
      "Alpha: 0.70, R² Training: 0.985, R² Testing: 0.346\n",
      "Alpha: 0.80, R² Training: 0.985, R² Testing: 0.455\n",
      "Alpha: 0.90, R² Training: 0.985, R² Testing: 0.547\n",
      "Alpha: 1.00, R² Training: 0.985, R² Testing: 0.624\n",
      "Alpha: 1.10, R² Training: 0.985, R² Testing: 0.688\n",
      "Alpha: 1.20, R² Training: 0.985, R² Testing: 0.741\n",
      "Alpha: 1.30, R² Training: 0.985, R² Testing: 0.784\n",
      "Alpha: 1.40, R² Training: 0.985, R² Testing: 0.819\n",
      "Alpha: 1.50, R² Training: 0.985, R² Testing: 0.846\n",
      "Alpha: 1.60, R² Training: 0.985, R² Testing: 0.867\n",
      "Alpha: 1.70, R² Training: 0.985, R² Testing: 0.882\n",
      "Alpha: 1.80, R² Training: 0.985, R² Testing: 0.893\n",
      "Alpha: 1.90, R² Training: 0.985, R² Testing: 0.899\n",
      "Alpha: 2.00, R² Training: 0.985, R² Testing: 0.902\n",
      "Alpha: 2.10, R² Training: 0.984, R² Testing: 0.901\n",
      "Alpha: 2.20, R² Training: 0.984, R² Testing: 0.898\n",
      "Alpha: 2.30, R² Training: 0.984, R² Testing: 0.892\n",
      "Alpha: 2.40, R² Training: 0.984, R² Testing: 0.884\n",
      "Alpha: 2.50, R² Training: 0.984, R² Testing: 0.874\n",
      "Alpha: 2.60, R² Training: 0.984, R² Testing: 0.863\n",
      "Alpha: 2.70, R² Training: 0.984, R² Testing: 0.850\n",
      "Alpha: 2.80, R² Training: 0.984, R² Testing: 0.836\n",
      "Alpha: 2.90, R² Training: 0.984, R² Testing: 0.821\n",
      "Alpha: 3.00, R² Training: 0.984, R² Testing: 0.805\n",
      "Alpha: 3.10, R² Training: 0.984, R² Testing: 0.789\n",
      "Alpha: 3.20, R² Training: 0.984, R² Testing: 0.771\n",
      "Alpha: 3.30, R² Training: 0.984, R² Testing: 0.753\n",
      "Alpha: 3.40, R² Training: 0.984, R² Testing: 0.735\n",
      "Alpha: 3.50, R² Training: 0.984, R² Testing: 0.717\n",
      "Alpha: 3.60, R² Training: 0.984, R² Testing: 0.698\n",
      "Alpha: 3.70, R² Training: 0.984, R² Testing: 0.679\n",
      "Alpha: 3.80, R² Training: 0.984, R² Testing: 0.659\n",
      "Alpha: 3.90, R² Training: 0.984, R² Testing: 0.640\n",
      "Alpha: 4.00, R² Training: 0.984, R² Testing: 0.621\n",
      "Alpha: 4.10, R² Training: 0.984, R² Testing: 0.601\n",
      "Alpha: 4.20, R² Training: 0.984, R² Testing: 0.582\n",
      "Alpha: 4.30, R² Training: 0.984, R² Testing: 0.563\n",
      "Alpha: 4.40, R² Training: 0.984, R² Testing: 0.543\n",
      "Alpha: 4.50, R² Training: 0.984, R² Testing: 0.524\n",
      "Alpha: 4.60, R² Training: 0.984, R² Testing: 0.506\n",
      "Alpha: 4.70, R² Training: 0.984, R² Testing: 0.487\n",
      "Alpha: 4.80, R² Training: 0.984, R² Testing: 0.468\n",
      "Alpha: 4.90, R² Training: 0.984, R² Testing: 0.450\n",
      "Alpha: 5.00, R² Training: 0.984, R² Testing: 0.432\n",
      "Alpha: 5.10, R² Training: 0.984, R² Testing: 0.414\n",
      "Alpha: 5.20, R² Training: 0.984, R² Testing: 0.396\n",
      "Alpha: 5.30, R² Training: 0.984, R² Testing: 0.379\n",
      "Alpha: 5.40, R² Training: 0.984, R² Testing: 0.361\n",
      "Alpha: 5.50, R² Training: 0.984, R² Testing: 0.344\n",
      "Alpha: 5.60, R² Training: 0.984, R² Testing: 0.328\n",
      "Alpha: 5.70, R² Training: 0.984, R² Testing: 0.311\n",
      "Alpha: 5.80, R² Training: 0.984, R² Testing: 0.295\n",
      "Alpha: 5.90, R² Training: 0.984, R² Testing: 0.279\n",
      "Alpha: 6.00, R² Training: 0.984, R² Testing: 0.263\n",
      "Alpha: 6.10, R² Training: 0.984, R² Testing: 0.248\n",
      "Alpha: 6.20, R² Training: 0.984, R² Testing: 0.233\n",
      "Alpha: 6.30, R² Training: 0.984, R² Testing: 0.218\n",
      "Alpha: 6.40, R² Training: 0.984, R² Testing: 0.204\n",
      "Alpha: 6.50, R² Training: 0.984, R² Testing: 0.189\n",
      "Alpha: 6.60, R² Training: 0.984, R² Testing: 0.175\n",
      "Alpha: 6.70, R² Training: 0.984, R² Testing: 0.162\n",
      "Alpha: 6.80, R² Training: 0.984, R² Testing: 0.148\n",
      "Alpha: 6.90, R² Training: 0.984, R² Testing: 0.135\n",
      "Alpha: 7.00, R² Training: 0.984, R² Testing: 0.122\n",
      "Alpha: 7.10, R² Training: 0.984, R² Testing: 0.109\n",
      "Alpha: 7.20, R² Training: 0.984, R² Testing: 0.097\n",
      "Alpha: 7.30, R² Training: 0.984, R² Testing: 0.085\n",
      "Alpha: 7.40, R² Training: 0.984, R² Testing: 0.073\n",
      "Alpha: 7.50, R² Training: 0.984, R² Testing: 0.061\n",
      "Alpha: 7.60, R² Training: 0.984, R² Testing: 0.050\n",
      "Alpha: 7.70, R² Training: 0.984, R² Testing: 0.039\n",
      "Alpha: 7.80, R² Training: 0.984, R² Testing: 0.028\n",
      "Alpha: 7.90, R² Training: 0.984, R² Testing: 0.017\n",
      "Alpha: 8.00, R² Training: 0.984, R² Testing: 0.007\n",
      "Alpha: 8.10, R² Training: 0.984, R² Testing: -0.003\n",
      "Alpha: 8.20, R² Training: 0.984, R² Testing: -0.013\n",
      "Alpha: 8.30, R² Training: 0.984, R² Testing: -0.023\n",
      "Alpha: 8.40, R² Training: 0.984, R² Testing: -0.032\n",
      "Alpha: 8.50, R² Training: 0.984, R² Testing: -0.042\n",
      "Alpha: 8.60, R² Training: 0.984, R² Testing: -0.051\n",
      "Alpha: 8.70, R² Training: 0.984, R² Testing: -0.060\n",
      "Alpha: 8.80, R² Training: 0.984, R² Testing: -0.068\n",
      "Alpha: 8.90, R² Training: 0.984, R² Testing: -0.077\n",
      "Alpha: 9.00, R² Training: 0.984, R² Testing: -0.085\n",
      "Alpha: 9.10, R² Training: 0.984, R² Testing: -0.093\n",
      "Alpha: 9.20, R² Training: 0.984, R² Testing: -0.101\n",
      "Alpha: 9.30, R² Training: 0.984, R² Testing: -0.108\n",
      "Alpha: 9.40, R² Training: 0.984, R² Testing: -0.116\n",
      "Alpha: 9.50, R² Training: 0.984, R² Testing: -0.123\n",
      "Alpha: 9.60, R² Training: 0.984, R² Testing: -0.130\n",
      "Alpha: 9.70, R² Training: 0.984, R² Testing: -0.137\n",
      "Alpha: 9.80, R² Training: 0.984, R² Testing: -0.144\n",
      "Alpha: 9.90, R² Training: 0.984, R² Testing: -0.150\n",
      "Alpha: 10.00, R² Training: 0.984, R² Testing: -0.156\n",
      "Best R² on test set: 0.902 with alpha: 2.00\n"
     ]
    }
   ],
   "source": [
    "from sklearn.pipeline import Pipeline\n",
    "from sklearn.preprocessing import PolynomialFeatures\n",
    "from sklearn.linear_model import Ridge\n",
    "from sklearn.metrics import r2_score\n",
    "import numpy as np\n",
    "\n",
    "# Диапазон значений alpha\n",
    "alpha_values = np.linspace(0, 10, num=101)  # от 0 до 10 включительно с шагом 0.1\n",
    "best_r2_test = -np.inf\n",
    "best_alpha = None\n",
    "\n",
    "# Для каждого значения alpha, строим модель и вычисляем метрики\n",
    "for alpha in alpha_values:\n",
    "    pipe = Pipeline([\n",
    "        (\"poly\", PolynomialFeatures(degree=7)),\n",
    "        (\"ridge\", Ridge(alpha=alpha))\n",
    "    ])\n",
    "    \n",
    "    # Обучение модели\n",
    "    pipe.fit(X_train, y_train)\n",
    "\n",
    "    # Предсказания\n",
    "    y_train_pred = pipe.predict(X_train)\n",
    "    y_test_pred = pipe.predict(X_test)\n",
    "\n",
    "    # Вычисление метрик R²\n",
    "    r2_train = r2_score(y_train, y_train_pred)\n",
    "    r2_test = r2_score(y_test, y_test_pred)\n",
    "\n",
    "    # Выводим метрики\n",
    "    print(f\"Alpha: {alpha:.2f}, R² Training: {r2_train:.3f}, R² Testing: {r2_test:.3f}\")\n",
    "\n",
    "    # Проверяем наилучший результат на тестовой выборке\n",
    "    if r2_test > best_r2_test:\n",
    "        best_r2_test = r2_test\n",
    "        best_alpha = alpha\n",
    "\n",
    "# Выводим наилучший результат\n",
    "print(f\"Best R² on test set: {best_r2_test:.3f} with alpha: {best_alpha:.2f}\")"
   ]
  },
  {
   "cell_type": "markdown",
   "metadata": {},
   "source": [
    "---"
   ]
  },
  {
   "cell_type": "code",
   "execution_count": 28,
   "metadata": {},
   "outputs": [
    {
     "data": {
      "text/html": [
       "<div>\n",
       "<style scoped>\n",
       "    .dataframe tbody tr th:only-of-type {\n",
       "        vertical-align: middle;\n",
       "    }\n",
       "\n",
       "    .dataframe tbody tr th {\n",
       "        vertical-align: top;\n",
       "    }\n",
       "\n",
       "    .dataframe thead th {\n",
       "        text-align: right;\n",
       "    }\n",
       "</style>\n",
       "<table border=\"1\" class=\"dataframe\">\n",
       "  <thead>\n",
       "    <tr style=\"text-align: right;\">\n",
       "      <th></th>\n",
       "      <th>Temperature (°C)</th>\n",
       "      <th>Pressure (kPa)</th>\n",
       "      <th>Temperature x Pressure</th>\n",
       "      <th>Material Fusion Metric</th>\n",
       "      <th>Material Transformation Metric</th>\n",
       "      <th>Quality Rating</th>\n",
       "    </tr>\n",
       "  </thead>\n",
       "  <tbody>\n",
       "    <tr>\n",
       "      <th>0</th>\n",
       "      <td>209.762701</td>\n",
       "      <td>8.050855</td>\n",
       "      <td>1688.769167</td>\n",
       "      <td>44522.217074</td>\n",
       "      <td>9.229576e+06</td>\n",
       "      <td>99.999971</td>\n",
       "    </tr>\n",
       "    <tr>\n",
       "      <th>1</th>\n",
       "      <td>243.037873</td>\n",
       "      <td>15.812068</td>\n",
       "      <td>3842.931469</td>\n",
       "      <td>63020.764997</td>\n",
       "      <td>1.435537e+07</td>\n",
       "      <td>99.985703</td>\n",
       "    </tr>\n",
       "    <tr>\n",
       "      <th>2</th>\n",
       "      <td>220.552675</td>\n",
       "      <td>7.843130</td>\n",
       "      <td>1729.823314</td>\n",
       "      <td>49125.950249</td>\n",
       "      <td>1.072839e+07</td>\n",
       "      <td>99.999758</td>\n",
       "    </tr>\n",
       "    <tr>\n",
       "      <th>3</th>\n",
       "      <td>208.976637</td>\n",
       "      <td>23.786089</td>\n",
       "      <td>4970.736918</td>\n",
       "      <td>57128.881547</td>\n",
       "      <td>9.125702e+06</td>\n",
       "      <td>99.999975</td>\n",
       "    </tr>\n",
       "    <tr>\n",
       "      <th>4</th>\n",
       "      <td>184.730960</td>\n",
       "      <td>15.797812</td>\n",
       "      <td>2918.345014</td>\n",
       "      <td>38068.201283</td>\n",
       "      <td>6.303792e+06</td>\n",
       "      <td>100.000000</td>\n",
       "    </tr>\n",
       "    <tr>\n",
       "      <th>...</th>\n",
       "      <td>...</td>\n",
       "      <td>...</td>\n",
       "      <td>...</td>\n",
       "      <td>...</td>\n",
       "      <td>...</td>\n",
       "      <td>...</td>\n",
       "    </tr>\n",
       "    <tr>\n",
       "      <th>3952</th>\n",
       "      <td>156.811578</td>\n",
       "      <td>21.794290</td>\n",
       "      <td>3417.596965</td>\n",
       "      <td>34941.963896</td>\n",
       "      <td>3.855501e+06</td>\n",
       "      <td>100.000000</td>\n",
       "    </tr>\n",
       "    <tr>\n",
       "      <th>3953</th>\n",
       "      <td>197.850406</td>\n",
       "      <td>8.291704</td>\n",
       "      <td>1640.516924</td>\n",
       "      <td>39714.857236</td>\n",
       "      <td>7.744742e+06</td>\n",
       "      <td>99.999997</td>\n",
       "    </tr>\n",
       "    <tr>\n",
       "      <th>3954</th>\n",
       "      <td>241.357144</td>\n",
       "      <td>16.391910</td>\n",
       "      <td>3956.304672</td>\n",
       "      <td>62657.690952</td>\n",
       "      <td>1.405957e+07</td>\n",
       "      <td>99.989318</td>\n",
       "    </tr>\n",
       "    <tr>\n",
       "      <th>3955</th>\n",
       "      <td>209.040239</td>\n",
       "      <td>23.809936</td>\n",
       "      <td>4977.234763</td>\n",
       "      <td>57195.985528</td>\n",
       "      <td>9.134036e+06</td>\n",
       "      <td>99.999975</td>\n",
       "    </tr>\n",
       "    <tr>\n",
       "      <th>3956</th>\n",
       "      <td>163.359996</td>\n",
       "      <td>24.332133</td>\n",
       "      <td>3974.897121</td>\n",
       "      <td>41092.392901</td>\n",
       "      <td>4.358913e+06</td>\n",
       "      <td>100.000000</td>\n",
       "    </tr>\n",
       "  </tbody>\n",
       "</table>\n",
       "<p>3957 rows × 6 columns</p>\n",
       "</div>"
      ],
      "text/plain": [
       "      Temperature (°C)  Pressure (kPa)  Temperature x Pressure  \\\n",
       "0           209.762701        8.050855             1688.769167   \n",
       "1           243.037873       15.812068             3842.931469   \n",
       "2           220.552675        7.843130             1729.823314   \n",
       "3           208.976637       23.786089             4970.736918   \n",
       "4           184.730960       15.797812             2918.345014   \n",
       "...                ...             ...                     ...   \n",
       "3952        156.811578       21.794290             3417.596965   \n",
       "3953        197.850406        8.291704             1640.516924   \n",
       "3954        241.357144       16.391910             3956.304672   \n",
       "3955        209.040239       23.809936             4977.234763   \n",
       "3956        163.359996       24.332133             3974.897121   \n",
       "\n",
       "      Material Fusion Metric  Material Transformation Metric  Quality Rating  \n",
       "0               44522.217074                    9.229576e+06       99.999971  \n",
       "1               63020.764997                    1.435537e+07       99.985703  \n",
       "2               49125.950249                    1.072839e+07       99.999758  \n",
       "3               57128.881547                    9.125702e+06       99.999975  \n",
       "4               38068.201283                    6.303792e+06      100.000000  \n",
       "...                      ...                             ...             ...  \n",
       "3952            34941.963896                    3.855501e+06      100.000000  \n",
       "3953            39714.857236                    7.744742e+06       99.999997  \n",
       "3954            62657.690952                    1.405957e+07       99.989318  \n",
       "3955            57195.985528                    9.134036e+06       99.999975  \n",
       "3956            41092.392901                    4.358913e+06      100.000000  \n",
       "\n",
       "[3957 rows x 6 columns]"
      ]
     },
     "execution_count": 28,
     "metadata": {},
     "output_type": "execute_result"
    }
   ],
   "source": [
    "df_3 = pd.read_csv(\"./data/manufacturing.csv\")\n",
    "df_3"
   ]
  },
  {
   "cell_type": "code",
   "execution_count": null,
   "metadata": {},
   "outputs": [
    {
     "name": "stdout",
     "output_type": "stream",
     "text": [
      "0.53 0.5\n"
     ]
    }
   ],
   "source": [
    "X = df_3.drop(\"Quality Rating\", axis=1)\n",
    "y = df_3[\"Quality Rating\"]\n",
    "\n",
    "X_train, X_test, y_train, y_test = train_test_split(\n",
    "    X, y, test_size=0.20, random_state=10)\n",
    "\n",
    "linear_model = LinearRegression()\n",
    "linear_model.fit(X_train, y_train)\n",
    "\n",
    "y_pred = linear_model.predict(X_test)\n",
    "y_pred_train = linear_model.predict(X_train)\n",
    "\n",
    "r_2_test = np.round(r2_score(y_test, y_pred), 2)\n",
    "r_2_train = np.round(r2_score(y_train, y_pred_train), 2)\n",
    "\n",
    "print(r_2_test, r_2_train)\n"
   ]
  },
  {
   "cell_type": "code",
   "execution_count": 39,
   "metadata": {},
   "outputs": [
    {
     "name": "stdout",
     "output_type": "stream",
     "text": [
      "0.86 0.86\n"
     ]
    }
   ],
   "source": [
    "pipe = Pipeline([\n",
    "    (\"poly\", PolynomialFeatures(degree=2)),\n",
    "    (\"model\", LinearRegression())\n",
    "])\n",
    "\n",
    "\n",
    "pipe.fit(X_train, y_train)\n",
    "\n",
    "y_pred = pipe.predict(X_test)\n",
    "y_pred_train = pipe.predict(X_train)\n",
    "\n",
    "r_2_test = np.round(r2_score(y_test, y_pred), 2)\n",
    "r_2_train = np.round(r2_score(y_train, y_pred_train), 2)\n",
    "\n",
    "print(r_2_test, r_2_train)"
   ]
  },
  {
   "cell_type": "code",
   "execution_count": 40,
   "metadata": {},
   "outputs": [
    {
     "name": "stdout",
     "output_type": "stream",
     "text": [
      "R² Training: 0.956\n",
      "R² Testing: 0.956\n"
     ]
    }
   ],
   "source": [
    "from sklearn.pipeline import Pipeline\n",
    "from sklearn.preprocessing import PolynomialFeatures\n",
    "from sklearn.linear_model import LinearRegression\n",
    "from sklearn.metrics import r2_score\n",
    "\n",
    "# Создаем Pipeline с полиномиальными признаками до 3 степени и линейной моделью\n",
    "pipe = Pipeline([\n",
    "    (\"poly\", PolynomialFeatures(degree=3)),\n",
    "    (\"linear\", LinearRegression())\n",
    "])\n",
    "\n",
    "# Обучаем модель на тренировочных данных\n",
    "pipe.fit(X_train, y_train)\n",
    "\n",
    "# Делаем предсказания на тренировочных и тестовых данных\n",
    "y_train_pred = pipe.predict(X_train)\n",
    "y_test_pred = pipe.predict(X_test)\n",
    "\n",
    "# Вычисляем метрики R²\n",
    "r2_train = r2_score(y_train, y_train_pred)\n",
    "r2_test = r2_score(y_test, y_test_pred)\n",
    "\n",
    "# Выводим результаты\n",
    "print(f\"R² Training: {r2_train:.3f}\")\n",
    "print(f\"R² Testing: {r2_test:.3f}\")"
   ]
  },
  {
   "cell_type": "code",
   "execution_count": null,
   "metadata": {},
   "outputs": [],
   "source": []
  }
 ],
 "metadata": {
  "kernelspec": {
   "display_name": "dlenv",
   "language": "python",
   "name": "python3"
  },
  "language_info": {
   "codemirror_mode": {
    "name": "ipython",
    "version": 3
   },
   "file_extension": ".py",
   "mimetype": "text/x-python",
   "name": "python",
   "nbconvert_exporter": "python",
   "pygments_lexer": "ipython3",
   "version": "3.11.11"
  }
 },
 "nbformat": 4,
 "nbformat_minor": 2
}
