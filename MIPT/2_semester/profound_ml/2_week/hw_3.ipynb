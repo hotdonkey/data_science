{
 "cells": [
  {
   "cell_type": "code",
   "execution_count": 2,
   "metadata": {},
   "outputs": [],
   "source": [
    "import numpy as np\n",
    "import pandas as pd\n",
    "\n",
    "from sklearn.model_selection import train_test_split\n",
    "from sklearn.metrics import accuracy_score\n",
    "from sklearn.preprocessing import PolynomialFeatures\n",
    "from sklearn.preprocessing import StandardScaler\n",
    "from sklearn.linear_model import LogisticRegression\n",
    "from sklearn.model_selection import GridSearchCV\n",
    "\n",
    "from sklearn.pipeline import Pipeline"
   ]
  },
  {
   "cell_type": "markdown",
   "metadata": {},
   "source": [
    "Вопрос 1.\n",
    "\n",
    "Задача: Прогнозирование вероятности покупки товара в интернет-магазине\n",
    "\n",
    "Студент B посетил интернет-магазин и просмотрел товары из категории \"Электроника\", сумма его предыдущей покупки составила 1500 рублей, а длительность сессии - 20 минут.\n",
    "\n",
    "У нас есть обученная модель логистической регрессии с коэффициентами:\n",
    "\n",
    "сумма покупки - 0.002\n",
    "\n",
    "категория \"Электроника\" - 0.5\n",
    "\n",
    "длительность сессии - 0.1\n",
    "\n",
    "свободный коэффициент - -5\n",
    "\n",
    "Получите вероятность покупки студентом B в интернет-магазине и укажите ответ, округлив его до второго знака после точки."
   ]
  },
  {
   "cell_type": "markdown",
   "metadata": {
    "vscode": {
     "languageId": "latex"
    }
   },
   "source": [
    "$P(y=1) = \\frac{1}{1 + e^{-(\\beta_0 + \\beta_1 x_1 + \\beta_2 x_2 + \\beta_3 x_3)}}$"
   ]
  },
  {
   "cell_type": "code",
   "execution_count": 3,
   "metadata": {},
   "outputs": [
    {
     "name": "stdout",
     "output_type": "stream",
     "text": [
      "0.62\n"
     ]
    }
   ],
   "source": [
    "x = -5 + (0.002 * 1500) + (0.5 * 1) + (0.1 * 20)\n",
    "p = np.round(1 / (1 + np.exp(-x)), 2)\n",
    "print(p)"
   ]
  },
  {
   "cell_type": "markdown",
   "metadata": {},
   "source": [
    "---"
   ]
  },
  {
   "cell_type": "markdown",
   "metadata": {},
   "source": [
    "Вопрос 2\n",
    "\n",
    "Для выполнения задания вы можете самостоятельно создать Python-ноутбук, а в LMS прикладывать лишь требуемые результаты.\n",
    "\n",
    "Имеется датасет для предсказания оценок студентов. Но мы возьмём немного измененную версию данных, скачать датасет.\n",
    "\n",
    "Сделайте разбиение на обучение и тест с соотношением 80/20 и random_state=10.\n",
    "\n",
    "Целевой признак grade: 0 - оценка ниже среднего, 1 - оценка выше среднего.\n",
    "\n",
    "Обучите логистическую регрессию из sklearn на базовых параметрах для решения поставленной задачи и укажите вес, который получился после обучения модели, при признаке studytime, округлив его до второго знака после точки."
   ]
  },
  {
   "cell_type": "code",
   "execution_count": 4,
   "metadata": {},
   "outputs": [
    {
     "data": {
      "application/vnd.microsoft.datawrangler.viewer.v0+json": {
       "columns": [
        {
         "name": "index",
         "rawType": "int64",
         "type": "integer"
        },
        {
         "name": "age",
         "rawType": "int64",
         "type": "integer"
        },
        {
         "name": "Medu",
         "rawType": "int64",
         "type": "integer"
        },
        {
         "name": "Fedu",
         "rawType": "int64",
         "type": "integer"
        },
        {
         "name": "traveltime",
         "rawType": "int64",
         "type": "integer"
        },
        {
         "name": "studytime",
         "rawType": "int64",
         "type": "integer"
        },
        {
         "name": "failures",
         "rawType": "int64",
         "type": "integer"
        },
        {
         "name": "famrel",
         "rawType": "int64",
         "type": "integer"
        },
        {
         "name": "freetime",
         "rawType": "int64",
         "type": "integer"
        },
        {
         "name": "goout",
         "rawType": "int64",
         "type": "integer"
        },
        {
         "name": "Dalc",
         "rawType": "int64",
         "type": "integer"
        },
        {
         "name": "Walc",
         "rawType": "int64",
         "type": "integer"
        },
        {
         "name": "health",
         "rawType": "int64",
         "type": "integer"
        },
        {
         "name": "absences",
         "rawType": "int64",
         "type": "integer"
        },
        {
         "name": "grade",
         "rawType": "int64",
         "type": "integer"
        }
       ],
       "conversionMethod": "pd.DataFrame",
       "ref": "2cbb40c6-cbf6-4260-92ee-6fe8b70666a4",
       "rows": [
        [
         "0",
         "18",
         "4",
         "4",
         "2",
         "2",
         "0",
         "4",
         "3",
         "4",
         "1",
         "1",
         "3",
         "4",
         "1"
        ],
        [
         "1",
         "17",
         "1",
         "1",
         "1",
         "2",
         "0",
         "5",
         "3",
         "3",
         "1",
         "1",
         "3",
         "2",
         "1"
        ],
        [
         "2",
         "15",
         "1",
         "1",
         "1",
         "2",
         "0",
         "4",
         "3",
         "2",
         "2",
         "3",
         "3",
         "6",
         "1"
        ],
        [
         "3",
         "15",
         "4",
         "2",
         "1",
         "3",
         "0",
         "3",
         "2",
         "2",
         "1",
         "1",
         "5",
         "0",
         "2"
        ],
        [
         "4",
         "16",
         "3",
         "3",
         "1",
         "2",
         "0",
         "4",
         "3",
         "2",
         "1",
         "2",
         "5",
         "0",
         "1"
        ]
       ],
       "shape": {
        "columns": 14,
        "rows": 5
       }
      },
      "text/html": [
       "<div>\n",
       "<style scoped>\n",
       "    .dataframe tbody tr th:only-of-type {\n",
       "        vertical-align: middle;\n",
       "    }\n",
       "\n",
       "    .dataframe tbody tr th {\n",
       "        vertical-align: top;\n",
       "    }\n",
       "\n",
       "    .dataframe thead th {\n",
       "        text-align: right;\n",
       "    }\n",
       "</style>\n",
       "<table border=\"1\" class=\"dataframe\">\n",
       "  <thead>\n",
       "    <tr style=\"text-align: right;\">\n",
       "      <th></th>\n",
       "      <th>age</th>\n",
       "      <th>Medu</th>\n",
       "      <th>Fedu</th>\n",
       "      <th>traveltime</th>\n",
       "      <th>studytime</th>\n",
       "      <th>failures</th>\n",
       "      <th>famrel</th>\n",
       "      <th>freetime</th>\n",
       "      <th>goout</th>\n",
       "      <th>Dalc</th>\n",
       "      <th>Walc</th>\n",
       "      <th>health</th>\n",
       "      <th>absences</th>\n",
       "      <th>grade</th>\n",
       "    </tr>\n",
       "  </thead>\n",
       "  <tbody>\n",
       "    <tr>\n",
       "      <th>0</th>\n",
       "      <td>18</td>\n",
       "      <td>4</td>\n",
       "      <td>4</td>\n",
       "      <td>2</td>\n",
       "      <td>2</td>\n",
       "      <td>0</td>\n",
       "      <td>4</td>\n",
       "      <td>3</td>\n",
       "      <td>4</td>\n",
       "      <td>1</td>\n",
       "      <td>1</td>\n",
       "      <td>3</td>\n",
       "      <td>4</td>\n",
       "      <td>1</td>\n",
       "    </tr>\n",
       "    <tr>\n",
       "      <th>1</th>\n",
       "      <td>17</td>\n",
       "      <td>1</td>\n",
       "      <td>1</td>\n",
       "      <td>1</td>\n",
       "      <td>2</td>\n",
       "      <td>0</td>\n",
       "      <td>5</td>\n",
       "      <td>3</td>\n",
       "      <td>3</td>\n",
       "      <td>1</td>\n",
       "      <td>1</td>\n",
       "      <td>3</td>\n",
       "      <td>2</td>\n",
       "      <td>1</td>\n",
       "    </tr>\n",
       "    <tr>\n",
       "      <th>2</th>\n",
       "      <td>15</td>\n",
       "      <td>1</td>\n",
       "      <td>1</td>\n",
       "      <td>1</td>\n",
       "      <td>2</td>\n",
       "      <td>0</td>\n",
       "      <td>4</td>\n",
       "      <td>3</td>\n",
       "      <td>2</td>\n",
       "      <td>2</td>\n",
       "      <td>3</td>\n",
       "      <td>3</td>\n",
       "      <td>6</td>\n",
       "      <td>1</td>\n",
       "    </tr>\n",
       "    <tr>\n",
       "      <th>3</th>\n",
       "      <td>15</td>\n",
       "      <td>4</td>\n",
       "      <td>2</td>\n",
       "      <td>1</td>\n",
       "      <td>3</td>\n",
       "      <td>0</td>\n",
       "      <td>3</td>\n",
       "      <td>2</td>\n",
       "      <td>2</td>\n",
       "      <td>1</td>\n",
       "      <td>1</td>\n",
       "      <td>5</td>\n",
       "      <td>0</td>\n",
       "      <td>2</td>\n",
       "    </tr>\n",
       "    <tr>\n",
       "      <th>4</th>\n",
       "      <td>16</td>\n",
       "      <td>3</td>\n",
       "      <td>3</td>\n",
       "      <td>1</td>\n",
       "      <td>2</td>\n",
       "      <td>0</td>\n",
       "      <td>4</td>\n",
       "      <td>3</td>\n",
       "      <td>2</td>\n",
       "      <td>1</td>\n",
       "      <td>2</td>\n",
       "      <td>5</td>\n",
       "      <td>0</td>\n",
       "      <td>1</td>\n",
       "    </tr>\n",
       "  </tbody>\n",
       "</table>\n",
       "</div>"
      ],
      "text/plain": [
       "   age  Medu  Fedu  traveltime  studytime  failures  famrel  freetime  goout  \\\n",
       "0   18     4     4           2          2         0       4         3      4   \n",
       "1   17     1     1           1          2         0       5         3      3   \n",
       "2   15     1     1           1          2         0       4         3      2   \n",
       "3   15     4     2           1          3         0       3         2      2   \n",
       "4   16     3     3           1          2         0       4         3      2   \n",
       "\n",
       "   Dalc  Walc  health  absences  grade  \n",
       "0     1     1       3         4      1  \n",
       "1     1     1       3         2      1  \n",
       "2     2     3       3         6      1  \n",
       "3     1     1       5         0      2  \n",
       "4     1     2       5         0      1  "
      ]
     },
     "execution_count": 4,
     "metadata": {},
     "output_type": "execute_result"
    }
   ],
   "source": [
    "df = pd.read_csv('./data/students.csv')\n",
    "df.head()"
   ]
  },
  {
   "cell_type": "code",
   "execution_count": 5,
   "metadata": {},
   "outputs": [
    {
     "name": "stderr",
     "output_type": "stream",
     "text": [
      "/opt/homebrew/lib/python3.11/site-packages/sklearn/linear_model/_logistic.py:460: ConvergenceWarning: lbfgs failed to converge (status=1):\n",
      "STOP: TOTAL NO. OF ITERATIONS REACHED LIMIT.\n",
      "\n",
      "Increase the number of iterations (max_iter) or scale the data as shown in:\n",
      "    https://scikit-learn.org/stable/modules/preprocessing.html\n",
      "Please also refer to the documentation for alternative solver options:\n",
      "    https://scikit-learn.org/stable/modules/linear_model.html#logistic-regression\n",
      "  n_iter_i = _check_optimize_result(\n"
     ]
    },
    {
     "data": {
      "application/vnd.microsoft.datawrangler.viewer.v0+json": {
       "columns": [
        {
         "name": "index",
         "rawType": "int64",
         "type": "integer"
        },
        {
         "name": "Feature",
         "rawType": "object",
         "type": "string"
        },
        {
         "name": "Coefficient",
         "rawType": "float64",
         "type": "float"
        }
       ],
       "conversionMethod": "pd.DataFrame",
       "ref": "dba12ef6-e607-4429-ab32-87394336a2fc",
       "rows": [
        [
         "0",
         "age",
         "0.18"
        ],
        [
         "1",
         "Medu",
         "0.46"
        ],
        [
         "2",
         "Fedu",
         "0.02"
        ],
        [
         "3",
         "traveltime",
         "-0.14"
        ],
        [
         "4",
         "studytime",
         "0.38"
        ],
        [
         "5",
         "failures",
         "-1.33"
        ],
        [
         "6",
         "famrel",
         "0.0"
        ],
        [
         "7",
         "freetime",
         "0.05"
        ],
        [
         "8",
         "goout",
         "-0.02"
        ],
        [
         "9",
         "Dalc",
         "-0.67"
        ],
        [
         "10",
         "Walc",
         "0.02"
        ],
        [
         "11",
         "health",
         "-0.14"
        ],
        [
         "12",
         "absences",
         "-0.06"
        ]
       ],
       "shape": {
        "columns": 2,
        "rows": 13
       }
      },
      "text/html": [
       "<div>\n",
       "<style scoped>\n",
       "    .dataframe tbody tr th:only-of-type {\n",
       "        vertical-align: middle;\n",
       "    }\n",
       "\n",
       "    .dataframe tbody tr th {\n",
       "        vertical-align: top;\n",
       "    }\n",
       "\n",
       "    .dataframe thead th {\n",
       "        text-align: right;\n",
       "    }\n",
       "</style>\n",
       "<table border=\"1\" class=\"dataframe\">\n",
       "  <thead>\n",
       "    <tr style=\"text-align: right;\">\n",
       "      <th></th>\n",
       "      <th>Feature</th>\n",
       "      <th>Coefficient</th>\n",
       "    </tr>\n",
       "  </thead>\n",
       "  <tbody>\n",
       "    <tr>\n",
       "      <th>0</th>\n",
       "      <td>age</td>\n",
       "      <td>0.18</td>\n",
       "    </tr>\n",
       "    <tr>\n",
       "      <th>1</th>\n",
       "      <td>Medu</td>\n",
       "      <td>0.46</td>\n",
       "    </tr>\n",
       "    <tr>\n",
       "      <th>2</th>\n",
       "      <td>Fedu</td>\n",
       "      <td>0.02</td>\n",
       "    </tr>\n",
       "    <tr>\n",
       "      <th>3</th>\n",
       "      <td>traveltime</td>\n",
       "      <td>-0.14</td>\n",
       "    </tr>\n",
       "    <tr>\n",
       "      <th>4</th>\n",
       "      <td>studytime</td>\n",
       "      <td>0.38</td>\n",
       "    </tr>\n",
       "    <tr>\n",
       "      <th>5</th>\n",
       "      <td>failures</td>\n",
       "      <td>-1.33</td>\n",
       "    </tr>\n",
       "    <tr>\n",
       "      <th>6</th>\n",
       "      <td>famrel</td>\n",
       "      <td>0.00</td>\n",
       "    </tr>\n",
       "    <tr>\n",
       "      <th>7</th>\n",
       "      <td>freetime</td>\n",
       "      <td>0.05</td>\n",
       "    </tr>\n",
       "    <tr>\n",
       "      <th>8</th>\n",
       "      <td>goout</td>\n",
       "      <td>-0.02</td>\n",
       "    </tr>\n",
       "    <tr>\n",
       "      <th>9</th>\n",
       "      <td>Dalc</td>\n",
       "      <td>-0.67</td>\n",
       "    </tr>\n",
       "    <tr>\n",
       "      <th>10</th>\n",
       "      <td>Walc</td>\n",
       "      <td>0.02</td>\n",
       "    </tr>\n",
       "    <tr>\n",
       "      <th>11</th>\n",
       "      <td>health</td>\n",
       "      <td>-0.14</td>\n",
       "    </tr>\n",
       "    <tr>\n",
       "      <th>12</th>\n",
       "      <td>absences</td>\n",
       "      <td>-0.06</td>\n",
       "    </tr>\n",
       "  </tbody>\n",
       "</table>\n",
       "</div>"
      ],
      "text/plain": [
       "       Feature  Coefficient\n",
       "0          age         0.18\n",
       "1         Medu         0.46\n",
       "2         Fedu         0.02\n",
       "3   traveltime        -0.14\n",
       "4    studytime         0.38\n",
       "5     failures        -1.33\n",
       "6       famrel         0.00\n",
       "7     freetime         0.05\n",
       "8        goout        -0.02\n",
       "9         Dalc        -0.67\n",
       "10        Walc         0.02\n",
       "11      health        -0.14\n",
       "12    absences        -0.06"
      ]
     },
     "metadata": {},
     "output_type": "display_data"
    }
   ],
   "source": [
    "X = df.drop(columns=[\"grade\"])\n",
    "y = df[\"grade\"]\n",
    "\n",
    "X_train, X_test, y_train, y_test = train_test_split(\n",
    "    X, y, test_size=0.2, random_state=10)\n",
    "\n",
    "model = LogisticRegression(max_iter=100)\n",
    "model.fit(X_train, y_train)\n",
    "\n",
    "result = dict(zip(X.columns, np.round(model.coef_[0], 2)))\n",
    "result_df = pd.DataFrame(result.items(), columns=['Feature', 'Coefficient'])\n",
    "display(result_df)"
   ]
  },
  {
   "cell_type": "markdown",
   "metadata": {},
   "source": [
    "---\n",
    "Вопрос 3.\n",
    "\n",
    "Продолжайте работать с данными с предыдущего задания.\n",
    "\n",
    "Вероятней всего (если у вас не отключены предупреждения) Python выдал \n",
    "\n",
    "ConvergenceWarning: lbfgs failed to converge (status=1): STOP: TOTAL NO. of ITERATIONS REACHED LIMIT., \n",
    "\n",
    "такое встречается, если в данных есть признаки разных масштабов. Давайте исправим это с помощью масштабирования данных через стандартизацию.\n",
    "\n",
    "Обучите модель StandardScaler на тренировочной выборке.\n",
    "\n",
    "Преобразуйте тренировочные и тестовые данных с помощью стандартизации\n",
    "\n",
    "Укажите, какие диапазоны получились у признака age на тестовой выборке - значение min и max. "
   ]
  },
  {
   "cell_type": "code",
   "execution_count": 6,
   "metadata": {},
   "outputs": [
    {
     "data": {
      "text/plain": [
       "count    13.00\n",
       "mean     -0.12\n",
       "std       0.88\n",
       "min      -1.30\n",
       "25%      -0.63\n",
       "50%      -0.29\n",
       "75%       0.10\n",
       "max       1.57\n",
       "Name: age, dtype: float64"
      ]
     },
     "execution_count": 6,
     "metadata": {},
     "output_type": "execute_result"
    }
   ],
   "source": [
    "sc = StandardScaler()\n",
    "X_train_sc = sc.fit_transform(X_train)\n",
    "X_test_sc = sc.transform(X_test)\n",
    "\n",
    "answer_df = pd.DataFrame(dict(zip(X.columns, X_test_sc)))\n",
    "answer_df[\"age\"].describe().round(2)"
   ]
  },
  {
   "cell_type": "markdown",
   "metadata": {},
   "source": [
    "---\n",
    "Вопрос 4.\n",
    "\n",
    "Продолжайте работать с масштабированными данными с предыдущего задания.\n",
    "\n",
    "Обучите модель логистической регрессии с базовыми параметрами на стандартизованных данных и посчитайте метрику accuracy на тренировочной и тестовой выборках и укажите их, округлив до второго знака после точки."
   ]
  },
  {
   "cell_type": "code",
   "execution_count": 7,
   "metadata": {},
   "outputs": [
    {
     "name": "stdout",
     "output_type": "stream",
     "text": [
      "0.76 0.78\n"
     ]
    }
   ],
   "source": [
    "model = LogisticRegression()\n",
    "model.fit(X_train_sc, y_train)\n",
    "\n",
    "y_pred_test = model.predict(X_test_sc)\n",
    "y_pred_train = model.predict(X_train_sc)\n",
    "\n",
    "acc_test = np.round(accuracy_score(y_test, y_pred_test), 2)\n",
    "acc_train = np.round(accuracy_score(y_train, y_pred_train), 2)\n",
    "print(acc_train, acc_test)"
   ]
  },
  {
   "cell_type": "markdown",
   "metadata": {},
   "source": [
    "---\n",
    "Вопрос 5.\n",
    "\n",
    "Продолжайте работать с данными с предыдущего задания.\n",
    "\n",
    "Возьмите НЕ масштабированные данные, т.к. сейчас будем их усложнять для более качественной модели.\n",
    "\n",
    "Для удобства можете пользоваться pipeline из sklearn, в котором будут:\n",
    "\n",
    "Модель полиномизации признаков до 4 степени PolynomialFeatures\n",
    "\n",
    "Модель масштабирования данных StandardScaler\n",
    "\n",
    "Логистическая регрессия БЕЗ регуляризации\n",
    "\n",
    "По умолчанию в логистической регрессии в sklearn есть L2 регуляризация, чтобы её отключить, нужно поменять параметр penalty.\n",
    "\n",
    "Обучите пайплайн на тренировочной выборке и посчитайте метрику accuracy на тренировочной и тестовой выборках и укажите их, округлив до второго знака после точки."
   ]
  },
  {
   "cell_type": "code",
   "execution_count": 8,
   "metadata": {},
   "outputs": [
    {
     "name": "stdout",
     "output_type": "stream",
     "text": [
      "0.95 0.68\n"
     ]
    },
    {
     "name": "stderr",
     "output_type": "stream",
     "text": [
      "/opt/homebrew/lib/python3.11/site-packages/sklearn/linear_model/_logistic.py:460: ConvergenceWarning: lbfgs failed to converge (status=1):\n",
      "STOP: TOTAL NO. OF ITERATIONS REACHED LIMIT.\n",
      "\n",
      "Increase the number of iterations (max_iter) or scale the data as shown in:\n",
      "    https://scikit-learn.org/stable/modules/preprocessing.html\n",
      "Please also refer to the documentation for alternative solver options:\n",
      "    https://scikit-learn.org/stable/modules/linear_model.html#logistic-regression\n",
      "  n_iter_i = _check_optimize_result(\n"
     ]
    }
   ],
   "source": [
    "X = df.drop(columns=[\"grade\"])\n",
    "y = df[\"grade\"]\n",
    "\n",
    "X_train, X_test, y_train, y_test = train_test_split(\n",
    "    X, y, test_size=0.2, random_state=10)\n",
    "\n",
    "model_pipe = Pipeline([\n",
    "    (\"poly\", PolynomialFeatures(degree=4)),\n",
    "    (\"scale\", StandardScaler()),\n",
    "    (\"log_reg\", LogisticRegression(penalty=None))\n",
    "])\n",
    "\n",
    "model_pipe.fit(X_train, y_train)\n",
    "\n",
    "y_pred_test = model_pipe.predict(X_test)\n",
    "y_pred_train = model_pipe.predict(X_train)\n",
    "\n",
    "acc_test = np.round(accuracy_score(y_test, y_pred_test), 2)\n",
    "acc_train = np.round(accuracy_score(y_train, y_pred_train), 2)\n",
    "print(acc_train, acc_test)"
   ]
  },
  {
   "cell_type": "markdown",
   "metadata": {},
   "source": [
    "---\n",
    "Вопрос 6\n",
    "\n",
    "Продолжайте работать с данными с предыдущего задания.\n",
    "\n",
    "Снова вероятней всего (если у вас не отключены предупреждения) Python выдал ConvergenceWarning: lbfgs failed to converge (status=1): STOP: TOTAL NO. of ITERATIONS REACHED LIMIT., хотя масштабирование данных сделано, так же эту ошибку можно избежать, если увеличить количество итераций в логистической регрессии, увеличьте параметр max_iter до 600.\n",
    "\n",
    "Так же метрика на тесте стала меньше, потому что модель переобучается, нужно и это исправить с помощью регуляризации.\n",
    "\n",
    "Для удобства можете пользоваться pipeline из sklearn, в котором будут:\n",
    "\n",
    "Модель полиномизации признаков до 4 степени PolynomialFeatures\n",
    "\n",
    "Модель масштабирования данных StandardScaler\n",
    "\n",
    "Логистическая регрессия с L2 регуляризацией\n",
    "\n",
    "Сделайте перебор параметра C в логистической регрессии, который из себя представляет 1/коэффициент регуляризации. Значения C перебирайте из следующего списка: [0.0001, 0.001, 0.01, 0.1, 1].\n",
    "\n",
    "Укажите, самую лучшую метрику на тесте, округлив её до второго знака после точки."
   ]
  },
  {
   "cell_type": "code",
   "execution_count": 9,
   "metadata": {},
   "outputs": [
    {
     "data": {
      "text/plain": [
       "{'log_reg__C': 0.0001}"
      ]
     },
     "execution_count": 9,
     "metadata": {},
     "output_type": "execute_result"
    }
   ],
   "source": [
    "param_grid = {\"log_reg__C\": [0.0001, 0.001, 0.01, 0.1, 1]}\n",
    "\n",
    "model_pipe_2 = Pipeline([\n",
    "    (\"poly\", PolynomialFeatures(degree=4)),\n",
    "    (\"scale\", StandardScaler()),\n",
    "    (\"log_reg\", LogisticRegression(penalty='l2', max_iter=700))\n",
    "])\n",
    "\n",
    "gs_cv = GridSearchCV(\n",
    "    estimator=model_pipe_2,\n",
    "    param_grid=param_grid,\n",
    "    n_jobs=-1,\n",
    "    scoring='accuracy'\n",
    ")\n",
    "\n",
    "gs_cv.fit(X_train, y_train)\n",
    "\n",
    "gs_cv.best_params_"
   ]
  },
  {
   "cell_type": "code",
   "execution_count": 10,
   "metadata": {},
   "outputs": [
    {
     "name": "stdout",
     "output_type": "stream",
     "text": [
      "Лучшая метрика (accuracy) на тестовой выборке: 0.81\n"
     ]
    }
   ],
   "source": [
    "y_pred_test = gs_cv.predict(X_test)\n",
    "test_accuracy = np.round(accuracy_score(y_test, y_pred_test), 2)\n",
    "print(\"Лучшая метрика (accuracy) на тестовой выборке:\", test_accuracy)"
   ]
  },
  {
   "cell_type": "markdown",
   "metadata": {},
   "source": [
    "---\n",
    "Вопрос 7.\n",
    "\n",
    "Имеется датасет для чаевых для таксиста . Но мы возьмём немного измененную версию данных. Скачать датасет.\n",
    "\n",
    "Сделайте разбиение на обучение и тест с соотношением 80/20 и random_state=10.\n",
    "\n",
    "Целевой признак tip_class.\n",
    "\n",
    "Обучите логистическую регрессию из sklearn с параметром max_iter=400 для решения поставленной задачи.\n",
    "\n",
    "Изучите масштаб в данных и если это требуется примените StandardScaler.\n",
    "\n",
    "Укажите метрики accuracy на тренировочной и тестовой выборках, округлив их до второго знака после точки. "
   ]
  },
  {
   "cell_type": "code",
   "execution_count": 11,
   "metadata": {},
   "outputs": [
    {
     "data": {
      "application/vnd.microsoft.datawrangler.viewer.v0+json": {
       "columns": [
        {
         "name": "index",
         "rawType": "int64",
         "type": "integer"
        },
        {
         "name": "trip_duration",
         "rawType": "float64",
         "type": "float"
        },
        {
         "name": "distance_traveled",
         "rawType": "float64",
         "type": "float"
        },
        {
         "name": "num_of_passengers",
         "rawType": "float64",
         "type": "float"
        },
        {
         "name": "fare",
         "rawType": "float64",
         "type": "float"
        },
        {
         "name": "miscellaneous_fees",
         "rawType": "float64",
         "type": "float"
        },
        {
         "name": "total_fare",
         "rawType": "float64",
         "type": "float"
        },
        {
         "name": "surge_applied",
         "rawType": "float64",
         "type": "float"
        },
        {
         "name": "tip_class",
         "rawType": "object",
         "type": "string"
        }
       ],
       "conversionMethod": "pd.DataFrame",
       "ref": "dcb3ea65-acb7-41db-9099-0754c0a6a96a",
       "rows": [
        [
         "0",
         "748.0",
         "2.75",
         "1.0",
         "75.0",
         "6.299999999999997",
         "105.3",
         "0.0",
         "over med"
        ],
        [
         "1",
         "1187.0",
         "3.43",
         "1.0",
         "105.0",
         "13.200000000000015",
         "142.20000000000002",
         "0.0",
         "over med"
        ],
        [
         "2",
         "329.0",
         "2.09",
         "1.0",
         "45.0",
         "13.199999999999989",
         "70.19999999999999",
         "0.0",
         "under med"
        ],
        [
         "3",
         "355.0",
         "1.74",
         "1.0",
         "45.0",
         "26.625",
         "71.625",
         "1.0",
         "low"
        ],
        [
         "4",
         "1288.0",
         "5.21",
         "1.0",
         "116.25",
         "26.32499999999999",
         "178.575",
         "1.0",
         "high"
        ]
       ],
       "shape": {
        "columns": 8,
        "rows": 5
       }
      },
      "text/html": [
       "<div>\n",
       "<style scoped>\n",
       "    .dataframe tbody tr th:only-of-type {\n",
       "        vertical-align: middle;\n",
       "    }\n",
       "\n",
       "    .dataframe tbody tr th {\n",
       "        vertical-align: top;\n",
       "    }\n",
       "\n",
       "    .dataframe thead th {\n",
       "        text-align: right;\n",
       "    }\n",
       "</style>\n",
       "<table border=\"1\" class=\"dataframe\">\n",
       "  <thead>\n",
       "    <tr style=\"text-align: right;\">\n",
       "      <th></th>\n",
       "      <th>trip_duration</th>\n",
       "      <th>distance_traveled</th>\n",
       "      <th>num_of_passengers</th>\n",
       "      <th>fare</th>\n",
       "      <th>miscellaneous_fees</th>\n",
       "      <th>total_fare</th>\n",
       "      <th>surge_applied</th>\n",
       "      <th>tip_class</th>\n",
       "    </tr>\n",
       "  </thead>\n",
       "  <tbody>\n",
       "    <tr>\n",
       "      <th>0</th>\n",
       "      <td>748.0</td>\n",
       "      <td>2.75</td>\n",
       "      <td>1.0</td>\n",
       "      <td>75.00</td>\n",
       "      <td>6.300</td>\n",
       "      <td>105.300</td>\n",
       "      <td>0.0</td>\n",
       "      <td>over med</td>\n",
       "    </tr>\n",
       "    <tr>\n",
       "      <th>1</th>\n",
       "      <td>1187.0</td>\n",
       "      <td>3.43</td>\n",
       "      <td>1.0</td>\n",
       "      <td>105.00</td>\n",
       "      <td>13.200</td>\n",
       "      <td>142.200</td>\n",
       "      <td>0.0</td>\n",
       "      <td>over med</td>\n",
       "    </tr>\n",
       "    <tr>\n",
       "      <th>2</th>\n",
       "      <td>329.0</td>\n",
       "      <td>2.09</td>\n",
       "      <td>1.0</td>\n",
       "      <td>45.00</td>\n",
       "      <td>13.200</td>\n",
       "      <td>70.200</td>\n",
       "      <td>0.0</td>\n",
       "      <td>under med</td>\n",
       "    </tr>\n",
       "    <tr>\n",
       "      <th>3</th>\n",
       "      <td>355.0</td>\n",
       "      <td>1.74</td>\n",
       "      <td>1.0</td>\n",
       "      <td>45.00</td>\n",
       "      <td>26.625</td>\n",
       "      <td>71.625</td>\n",
       "      <td>1.0</td>\n",
       "      <td>low</td>\n",
       "    </tr>\n",
       "    <tr>\n",
       "      <th>4</th>\n",
       "      <td>1288.0</td>\n",
       "      <td>5.21</td>\n",
       "      <td>1.0</td>\n",
       "      <td>116.25</td>\n",
       "      <td>26.325</td>\n",
       "      <td>178.575</td>\n",
       "      <td>1.0</td>\n",
       "      <td>high</td>\n",
       "    </tr>\n",
       "  </tbody>\n",
       "</table>\n",
       "</div>"
      ],
      "text/plain": [
       "   trip_duration  distance_traveled  num_of_passengers    fare  \\\n",
       "0          748.0               2.75                1.0   75.00   \n",
       "1         1187.0               3.43                1.0  105.00   \n",
       "2          329.0               2.09                1.0   45.00   \n",
       "3          355.0               1.74                1.0   45.00   \n",
       "4         1288.0               5.21                1.0  116.25   \n",
       "\n",
       "   miscellaneous_fees  total_fare  surge_applied  tip_class  \n",
       "0               6.300     105.300            0.0   over med  \n",
       "1              13.200     142.200            0.0   over med  \n",
       "2              13.200      70.200            0.0  under med  \n",
       "3              26.625      71.625            1.0        low  \n",
       "4              26.325     178.575            1.0       high  "
      ]
     },
     "execution_count": 11,
     "metadata": {},
     "output_type": "execute_result"
    }
   ],
   "source": [
    "df_2 = pd.read_csv(\"./data/trip.csv\")\n",
    "df_2.head()"
   ]
  },
  {
   "cell_type": "code",
   "execution_count": 12,
   "metadata": {},
   "outputs": [
    {
     "data": {
      "text/plain": [
       "trip_duration         0\n",
       "distance_traveled     0\n",
       "num_of_passengers     0\n",
       "fare                  0\n",
       "miscellaneous_fees    1\n",
       "total_fare            1\n",
       "surge_applied         1\n",
       "tip_class             1\n",
       "dtype: int64"
      ]
     },
     "execution_count": 12,
     "metadata": {},
     "output_type": "execute_result"
    }
   ],
   "source": [
    "df_2.isna().sum()"
   ]
  },
  {
   "cell_type": "code",
   "execution_count": 13,
   "metadata": {},
   "outputs": [],
   "source": [
    "df_2.dropna(inplace=True)"
   ]
  },
  {
   "cell_type": "code",
   "execution_count": null,
   "metadata": {},
   "outputs": [
    {
     "name": "stdout",
     "output_type": "stream",
     "text": [
      "0.58 0.56\n"
     ]
    },
    {
     "name": "stderr",
     "output_type": "stream",
     "text": [
      "/opt/homebrew/lib/python3.11/site-packages/sklearn/linear_model/_logistic.py:460: ConvergenceWarning: lbfgs failed to converge (status=1):\n",
      "STOP: TOTAL NO. OF ITERATIONS REACHED LIMIT.\n",
      "\n",
      "Increase the number of iterations (max_iter) or scale the data as shown in:\n",
      "    https://scikit-learn.org/stable/modules/preprocessing.html\n",
      "Please also refer to the documentation for alternative solver options:\n",
      "    https://scikit-learn.org/stable/modules/linear_model.html#logistic-regression\n",
      "  n_iter_i = _check_optimize_result(\n"
     ]
    }
   ],
   "source": [
    "X = df_2.drop(columns=[\"tip_class\"])\n",
    "y = df_2[\"tip_class\"]\n",
    "\n",
    "X_train, X_test, y_train, y_test = train_test_split(\n",
    "    X, y, test_size=0.2, random_state=10)\n",
    "\n",
    "model_3 = Pipeline([\n",
    "    (\"scale\", StandardScaler()),\n",
    "    (\"log_reg\", LogisticRegression(max_iter=400, n_jobs=-1))\n",
    "])\n",
    "\n",
    "model_3.fit(X_train, y_train)\n",
    "\n",
    "y_train_pred = model_3.predict(X_train)\n",
    "y_test_pred = model_3.predict(X_test)\n",
    "\n",
    "acc_test = np.round(accuracy_score(y_test, y_test_pred), 2)\n",
    "acc_train = np.round(accuracy_score(y_train, y_train_pred), 2)\n",
    "print(acc_train, acc_test)"
   ]
  },
  {
   "cell_type": "markdown",
   "metadata": {},
   "source": [
    "---\n",
    "Вопрос 8.\n",
    "\n",
    "Продолжайте работать с датасетом предыдущего задания.\n",
    "\n",
    "Посчитайте, сколько получилось ошибочных предсказаний в процентном соотношении по каждому классу на тестовой выборке и укажите в ответе, округлив проценты до второго знака после точки.\n",
    "\n",
    "Пример ответа:\n",
    "\n",
    "low: 5.10% ошибочных предсказаний under med: 15.26% ошибочных предсказаний over med: 18.93% ошибочных предсказаний high: 6.24% ошибочных предсказаний\n",
    "\n"
   ]
  },
  {
   "cell_type": "code",
   "execution_count": 19,
   "metadata": {},
   "outputs": [
    {
     "name": "stdout",
     "output_type": "stream",
     "text": [
      "low: 8.19% ошибочных предсказаний\n",
      "under med: 82.07% ошибочных предсказаний\n",
      "high: 10.14% ошибочных предсказаний\n",
      "over med: 69.28% ошибочных предсказаний\n"
     ]
    }
   ],
   "source": [
    "# Создадим DataFrame из истинных меток и предсказаний\n",
    "test_results = pd.DataFrame({\n",
    "    'true': y_test,  # Убедитесь, что это одномерный массив\n",
    "    'predicted': y_test_pred\n",
    "})\n",
    "\n",
    "# Получаем список уникальных классов\n",
    "classes = test_results['true'].unique()\n",
    "\n",
    "# Инициализируем словарь для хранения процентных значений\n",
    "error_percentages = {}\n",
    "\n",
    "# Подсчитываем ошибочные предсказания для каждого класса\n",
    "for cls in classes:\n",
    "    total_count = (test_results['true'] == cls).sum()  # Общее количество экземпляров в классе\n",
    "    incorrect_count = ((test_results['predicted'] != cls) & (test_results['true'] == cls)).sum()  # Неправильные предсказания\n",
    "    error_percentage = (incorrect_count / total_count) * 100 if total_count > 0 else 0  # Это предотвратит деление на ноль\n",
    "    error_percentages[cls] = round(error_percentage, 2)  # Округляем до двух знаков\n",
    "\n",
    "# Форматируем вывод\n",
    "for cls, error in error_percentages.items():\n",
    "    print(f\"{cls}: {error:.2f}% ошибочных предсказаний\")"
   ]
  },
  {
   "cell_type": "code",
   "execution_count": null,
   "metadata": {},
   "outputs": [],
   "source": []
  }
 ],
 "metadata": {
  "kernelspec": {
   "display_name": "Python 3",
   "language": "python",
   "name": "python3"
  },
  "language_info": {
   "codemirror_mode": {
    "name": "ipython",
    "version": 3
   },
   "file_extension": ".py",
   "mimetype": "text/x-python",
   "name": "python",
   "nbconvert_exporter": "python",
   "pygments_lexer": "ipython3",
   "version": "3.11.11"
  }
 },
 "nbformat": 4,
 "nbformat_minor": 2
}
