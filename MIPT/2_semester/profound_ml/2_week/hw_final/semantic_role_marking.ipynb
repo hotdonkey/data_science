{
 "cells": [
  {
   "cell_type": "code",
   "execution_count": 1,
   "metadata": {
    "id": "mDIwm2-sjVU1"
   },
   "outputs": [],
   "source": [
    "import torch\n",
    "import torch.nn as nn\n",
    "import torch.nn.functional as F\n",
    "import torch.optim as optim\n",
    "\n",
    "from tqdm import tqdm"
   ]
  },
  {
   "cell_type": "markdown",
   "metadata": {
    "id": "dw_mlAWbErMa"
   },
   "source": [
    "# Задача\n",
    "\n",
    "В данном задании вам предлагается решить задачу извлечения аргументов (объектов, аспектов и предикатов) из предложения. Такая модель должна быть обучена на предложениях, где слова или фразы имеют разметку последовательности – каждому слову соответствует его тег.\n",
    "\n",
    "> **Пример.** Postgres is easier to install and maintain than Oracle.\n",
    ">\n",
    "> [Postgres **OBJECT**] is [easier **PREDICATE**] to [install **ASPECT**] and [maintain **ASPECT**] than [Oracle **OBJECT**].\n",
    "\n",
    "> Сущности могут состоять из нескольких слов: Advil works better for body aches and pains than Motrin.\n",
    ">\n",
    "> [Advil **OBJECT**] works [better **PREDICATE**] for [body aches **ASPECT**] and [pains **ASPECT**] than [Motrin **OBJECT**].\n",
    "\n",
    "Данные состоят из сравнительных предложений (т.е. предложений, содержащих сравнение двух или более объектов). В предложениях содержится следующая информация:\n",
    "\n",
    "-\t*Объекты* – объекты, которые сравниваются\n",
    "-\t*Аспекты* – характеристики, по которым сравниваются объекты\n",
    "-\t*Сказуемое* – слова или фразы, которые реализуют сравнение (обычно сравнительные прилагательные или наречия)\n",
    "\n",
    "В наборе данных используется схема BIO:\n",
    "\n",
    "- Первое слово сущности помечается тегом `B-<entity-type>` (начало сущности).\n",
    "- Второе и последующие слова сущности помечаются тегом `I-<entity-type>` (внутри сущности).\n",
    "- Слова, которые не являются частью сущности, помечаются тегом `O` (вне сущности).\n",
    "\n",
    "Поэтому в нашем наборе данных используются следующие метки:\n",
    "- O\n",
    "- B-Object\n",
    "- I-Object\n",
    "- B-Aspect\n",
    "- I-Aspect\n",
    "- B-Predicate\n",
    "- I-Predicate\n",
    "\n",
    "**Ваша задача** – присвоить одну из таких меток каждому токену данных путем обучения модели на основе LSTM.\n"
   ]
  },
  {
   "cell_type": "markdown",
   "metadata": {
    "id": "ePN09DRHjVU3"
   },
   "source": [
    "# Data loading"
   ]
  },
  {
   "cell_type": "code",
   "execution_count": 2,
   "metadata": {
    "id": "Alc6_gXUjVU5"
   },
   "outputs": [],
   "source": [
    "def prepare_sequence(seq, to_ix):\n",
    "    idxs = [to_ix[w] for w in seq]\n",
    "    return torch.tensor(idxs, dtype=torch.long)#.to(device)"
   ]
  },
  {
   "cell_type": "code",
   "execution_count": 3,
   "metadata": {
    "id": "Paddoz90jVU6"
   },
   "outputs": [],
   "source": [
    "def read_dataset(filename, splitter=\"\\t\"):\n",
    "    data = []\n",
    "    sentence = []\n",
    "    tags = []\n",
    "    with open(filename) as f:\n",
    "        for line in f:\n",
    "            if not line.isspace():\n",
    "                word, tag = line.split(splitter)\n",
    "                sentence.append(word)\n",
    "                tags.append(tag.strip())\n",
    "            else:\n",
    "                data.append((sentence, tags))\n",
    "                sentence = []\n",
    "                tags = []\n",
    "    return data"
   ]
  },
  {
   "cell_type": "code",
   "execution_count": 4,
   "metadata": {
    "id": "xpWefqBUjbNO"
   },
   "outputs": [],
   "source": [
    "# !gdown 1wkfEJCUKF5nbZ6lV6HlRtcEaNkLrLo7y"
   ]
  },
  {
   "cell_type": "code",
   "execution_count": 5,
   "metadata": {
    "id": "GMurdqezdznJ"
   },
   "outputs": [],
   "source": [
    "# !gdown 10kS7glt0sLoh6UIn0RtpREW-zcU_zIay"
   ]
  },
  {
   "cell_type": "code",
   "execution_count": 6,
   "metadata": {
    "id": "YdSkztDBjVU7"
   },
   "outputs": [],
   "source": [
    "training_data = read_dataset(\"./data/train.tsv\")"
   ]
  },
  {
   "cell_type": "code",
   "execution_count": 7,
   "metadata": {
    "id": "xuWSZoeDjVU8"
   },
   "outputs": [
    {
     "data": {
      "text/plain": [
       "(['also',\n",
       "  ',',\n",
       "  'i',\n",
       "  'have',\n",
       "  'recently',\n",
       "  'discovered',\n",
       "  'advil',\n",
       "  'liquigels',\n",
       "  'work',\n",
       "  'much',\n",
       "  'better',\n",
       "  'and',\n",
       "  'faster',\n",
       "  'for',\n",
       "  'a',\n",
       "  'headache',\n",
       "  'than',\n",
       "  'regular',\n",
       "  'ibuprofen',\n",
       "  '.'],\n",
       " ['O',\n",
       "  'O',\n",
       "  'O',\n",
       "  'O',\n",
       "  'O',\n",
       "  'O',\n",
       "  'B-Object',\n",
       "  'O',\n",
       "  'O',\n",
       "  'O',\n",
       "  'B-Predicate',\n",
       "  'O',\n",
       "  'B-Predicate',\n",
       "  'O',\n",
       "  'O',\n",
       "  'B-Aspect',\n",
       "  'O',\n",
       "  'O',\n",
       "  'B-Object',\n",
       "  'O'])"
      ]
     },
     "execution_count": 7,
     "metadata": {},
     "output_type": "execute_result"
    }
   ],
   "source": [
    "training_data[0]"
   ]
  },
  {
   "cell_type": "code",
   "execution_count": 8,
   "metadata": {
    "id": "pu8zGCcZjVU9"
   },
   "outputs": [],
   "source": [
    "test_data = read_dataset(\"./data/test_no_answer.tsv\", splitter=\"\\n\")"
   ]
  },
  {
   "cell_type": "code",
   "execution_count": 9,
   "metadata": {
    "id": "CqFdS2ioeMYf"
   },
   "outputs": [
    {
     "data": {
      "text/plain": [
       "(['meanwhile',\n",
       "  ',',\n",
       "  'though',\n",
       "  'windows',\n",
       "  '8',\n",
       "  'is',\n",
       "  'significantly',\n",
       "  'at',\n",
       "  'greater',\n",
       "  'risk',\n",
       "  '(',\n",
       "  '1',\n",
       "  '.',\n",
       "  '73',\n",
       "  'percent',\n",
       "  ')',\n",
       "  'compared',\n",
       "  'to',\n",
       "  'windows',\n",
       "  '8',\n",
       "  '.',\n",
       "  '1',\n",
       "  ',',\n",
       "  'according',\n",
       "  'to',\n",
       "  'redmond',\n",
       "  \"'\",\n",
       "  's',\n",
       "  'report',\n",
       "  ',',\n",
       "  'it',\n",
       "  \"'\",\n",
       "  's',\n",
       "  'still',\n",
       "  'significantly',\n",
       "  'safer',\n",
       "  'than',\n",
       "  'windows',\n",
       "  '7',\n",
       "  ',',\n",
       "  'windows',\n",
       "  'xp',\n",
       "  ',',\n",
       "  'or',\n",
       "  'windows',\n",
       "  'vista',\n",
       "  '.'],\n",
       " ['',\n",
       "  '',\n",
       "  '',\n",
       "  '',\n",
       "  '',\n",
       "  '',\n",
       "  '',\n",
       "  '',\n",
       "  '',\n",
       "  '',\n",
       "  '',\n",
       "  '',\n",
       "  '',\n",
       "  '',\n",
       "  '',\n",
       "  '',\n",
       "  '',\n",
       "  '',\n",
       "  '',\n",
       "  '',\n",
       "  '',\n",
       "  '',\n",
       "  '',\n",
       "  '',\n",
       "  '',\n",
       "  '',\n",
       "  '',\n",
       "  '',\n",
       "  '',\n",
       "  '',\n",
       "  '',\n",
       "  '',\n",
       "  '',\n",
       "  '',\n",
       "  '',\n",
       "  '',\n",
       "  '',\n",
       "  '',\n",
       "  '',\n",
       "  '',\n",
       "  '',\n",
       "  '',\n",
       "  '',\n",
       "  '',\n",
       "  '',\n",
       "  '',\n",
       "  ''])"
      ]
     },
     "execution_count": 9,
     "metadata": {},
     "output_type": "execute_result"
    }
   ],
   "source": [
    "test_data[0]"
   ]
  },
  {
   "cell_type": "code",
   "execution_count": 10,
   "metadata": {
    "id": "iJ0n6C0UjVU-"
   },
   "outputs": [],
   "source": [
    "word_to_ix = {}\n",
    "\n",
    "# For each words-list (sentence) and tags-list in each tuple of training_data\n",
    "for sent, tags in training_data:\n",
    "    for word in sent:\n",
    "        if word not in word_to_ix:  # word has not been assigned an index yet\n",
    "            word_to_ix[word] = len(word_to_ix)  # Assign each word with a unique index\n",
    "\n",
    "for sent, tags in test_data:\n",
    "    for word in sent:\n",
    "        if word not in word_to_ix:  # word has not been assigned an index yet\n",
    "            word_to_ix[word] = len(word_to_ix)  # Assign each word with a unique index\n",
    "\n",
    "\n",
    "tag_to_ix = {\n",
    "    \"O\": 0,\n",
    "    \"B-Object\": 1,\n",
    "    \"I-Object\": 2,\n",
    "    \"B-Aspect\": 3,\n",
    "    \"I-Aspect\": 4,\n",
    "    \"B-Predicate\": 5,\n",
    "    \"I-Predicate\": 6\n",
    "}  # Assign each tag with a unique index\n",
    "\n",
    "idx_to_tag = dict(map(reversed, tag_to_ix.items()))\n",
    "\n",
    "EMBEDDING_DIM = 32\n",
    "HIDDEN_DIM = 64"
   ]
  },
  {
   "cell_type": "code",
   "execution_count": 11,
   "metadata": {},
   "outputs": [
    {
     "name": "stdout",
     "output_type": "stream",
     "text": [
      "Используемое устройство: mps\n"
     ]
    }
   ],
   "source": [
    "if torch.backends.mps.is_available():\n",
    "    device = torch.device(\"mps\")\n",
    "elif torch.cuda.is_available():\n",
    "    device = torch.device(\"cuda\")\n",
    "else:\n",
    "    device = torch.device(\"cpu\")\n",
    "\n",
    "print(f\"Используемое устройство: {device}\")"
   ]
  },
  {
   "cell_type": "markdown",
   "metadata": {
    "id": "27DtLuc4jVU_"
   },
   "source": [
    "# Tagger"
   ]
  },
  {
   "cell_type": "markdown",
   "metadata": {
    "id": "-gpSyN6CIOAL"
   },
   "source": [
    "Опишите архитектуру нейросети. Все необходимые слои описаны в комментариях. В качестве выхода из модели используйте логистический softmax:"
   ]
  },
  {
   "cell_type": "markdown",
   "metadata": {
    "id": "OHsmR9bbD17g"
   },
   "source": [
    "![изображение.png](data:image/png;base64,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)"
   ]
  },
  {
   "cell_type": "code",
   "execution_count": 12,
   "metadata": {
    "id": "0t9SrivpjVVA"
   },
   "outputs": [],
   "source": [
    "class LSTMTagger(nn.Module):\n",
    "\n",
    "    def __init__(self, embedding_dim, hidden_dim, vocab_size, tagset_size):\n",
    "        super(LSTMTagger, self).__init__()\n",
    "        torch.manual_seed(5)\n",
    "        torch.cuda.manual_seed(5)\n",
    "        torch.backends.cudnn.deterministic = True\n",
    "        torch.backends.cudnn.benchmark = False\n",
    "        self.hidden_dim = hidden_dim\n",
    "        # The Embedding layer with size of the dictionary vocab_size\n",
    "        self.embedding = nn.Embedding(vocab_size, embedding_dim)\n",
    "        # YOUR CODE HERE\n",
    "\n",
    "        # The LSTM takes word embeddings as inputs, and outputs hidden states\n",
    "        # with dimensionality hidden_dim.\n",
    "        self.lstm = nn.LSTM(embedding_dim, hidden_dim, batch_first=True)\n",
    "        # YOUR CODE HERE\n",
    "\n",
    "        # The linear layer that maps from hidden state space to tag space\n",
    "        self.linear = nn.Linear(hidden_dim, tagset_size)\n",
    "        # YOUR CODE HERE\n",
    "\n",
    "    def forward(self, sentence):\n",
    "        # YOUR CODE HERE\n",
    "        embeddings = self.embedding(sentence)\n",
    "        out, h = self.lstm(embeddings)\n",
    "        out = self.linear(out)\n",
    "        probs = F.log_softmax(out, dim=1)\n",
    "        \n",
    "        # return tag scores as a softmax followed by a logarithm\n",
    "        return probs"
   ]
  },
  {
   "cell_type": "markdown",
   "metadata": {
    "id": "CixPZbLqjVVA"
   },
   "source": [
    "# Training\n",
    "\n",
    "Обучите модель с представленными ниже параметрами."
   ]
  },
  {
   "cell_type": "code",
   "execution_count": 13,
   "metadata": {
    "id": "EriYw-bCjVVA"
   },
   "outputs": [],
   "source": [
    "model = LSTMTagger(EMBEDDING_DIM, HIDDEN_DIM, len(word_to_ix), len(tag_to_ix))\n",
    "#model = model.to(device)\n",
    "loss_function = nn.NLLLoss()\n",
    "optimizer = optim.SGD(model.parameters(), lr=0.1)"
   ]
  },
  {
   "cell_type": "code",
   "execution_count": 14,
   "metadata": {
    "id": "IQMTfQWfjVVB"
   },
   "outputs": [
    {
     "name": "stderr",
     "output_type": "stream",
     "text": [
      "100%|██████████| 300/300 [28:31<00:00,  5.71s/it]\n"
     ]
    }
   ],
   "source": [
    "for epoch in tqdm(range(300)):  # normally you would NOT do 300 epochs, it is toy data\n",
    "    # YOUR CODE HERE\n",
    "    for sentence, tags in training_data:\n",
    "        optimizer.zero_grad()\n",
    "        sentence_in = prepare_sequence(sentence, word_to_ix)#.to(device)\n",
    "        targets = prepare_sequence(tags, tag_to_ix)#.to(device)\n",
    "        tag_scores = model(sentence_in.unsqueeze(0))\n",
    "        loss = loss_function(tag_scores.view(-1, len(tag_to_ix)), targets)\n",
    "        loss.backward()\n",
    "        optimizer.step()"
   ]
  },
  {
   "cell_type": "markdown",
   "metadata": {
    "id": "Dgp0MceljVVC"
   },
   "source": [
    "# Inference\n",
    "Предскажите метки для слов из первого предложения."
   ]
  },
  {
   "cell_type": "code",
   "execution_count": 15,
   "metadata": {
    "id": "FxYeVqwdjVVC"
   },
   "outputs": [
    {
     "name": "stderr",
     "output_type": "stream",
     "text": [
      "100%|██████████| 283/283 [00:00<00:00, 1500.69it/s]\n"
     ]
    }
   ],
   "source": [
    "with torch.no_grad():\n",
    "    # YOUR CODE HERE\n",
    "    for sent in tqdm(test_data):\n",
    "        inputs = prepare_sequence(sent[0], word_to_ix)\n",
    "        tag_scores = model(inputs)\n",
    "        tags = [idx_to_tag[int(i)] for i in tag_scores.argmax(dim=-1)]\n",
    "        "
   ]
  },
  {
   "cell_type": "markdown",
   "metadata": {
    "id": "yL3VSMUX9Kqs"
   },
   "source": [
    "Предскажите метки для слов из первого предложения."
   ]
  },
  {
   "cell_type": "code",
   "execution_count": 25,
   "metadata": {
    "id": "LarAmbAa9GPF"
   },
   "outputs": [
    {
     "name": "stdout",
     "output_type": "stream",
     "text": [
      "Предсказанные метки для 1-го предложения:\n",
      "[('meanwhile', 'I-Aspect'), (',', 'O'), ('though', 'I-Aspect'), ('windows', 'I-Predicate'), ('8', 'I-Aspect'), ('is', 'B-Predicate'), ('significantly', 'B-Predicate'), ('at', 'I-Aspect'), ('greater', 'B-Predicate'), ('risk', 'B-Aspect'), ('(', 'I-Predicate'), ('1', 'B-Aspect'), ('.', 'O'), ('73', 'I-Aspect'), ('percent', 'I-Aspect'), (')', 'I-Predicate'), ('compared', 'I-Aspect'), ('to', 'I-Aspect'), ('windows', 'B-Predicate'), ('8', 'I-Aspect'), ('.', 'O'), ('1', 'O'), (',', 'O'), ('according', 'B-Predicate'), ('to', 'O'), ('redmond', 'B-Aspect'), (\"'\", 'I-Predicate'), ('s', 'I-Object'), ('report', 'B-Aspect'), (',', 'O'), ('it', 'B-Predicate'), (\"'\", 'I-Predicate'), ('s', 'I-Object'), ('still', 'O'), ('significantly', 'B-Aspect'), ('safer', 'B-Predicate'), ('than', 'O'), ('windows', 'B-Object'), ('7', 'B-Predicate'), (',', 'O'), ('windows', 'B-Predicate'), ('xp', 'I-Object'), (',', 'I-Object'), ('or', 'O'), ('windows', 'I-Object'), ('vista', 'I-Object'), ('.', 'I-Object')]\n"
     ]
    }
   ],
   "source": [
    "with torch.no_grad():\n",
    "    # Получаем 1-е предложение из тестового набора\n",
    "    sentence = test_data[0][0]\n",
    "\n",
    "    # Преобразуем слова в индексы\n",
    "    inputs = prepare_sequence(sentence, word_to_ix)\n",
    "\n",
    "    # Прогоняем через модель\n",
    "    tag_scores = model(inputs)\n",
    "\n",
    "    # Получаем предсказанные метки\n",
    "    predicted_tags = [idx_to_tag[int(i)] for i in tag_scores.argmax(dim=1)]\n",
    "\n",
    "    # Выводим пары (слово, предсказанный_тег)\n",
    "    print(\"Предсказанные метки для 1-го предложения:\")\n",
    "    print(result:=list(zip(sentence, predicted_tags)))"
   ]
  },
  {
   "cell_type": "code",
   "execution_count": 26,
   "metadata": {},
   "outputs": [
    {
     "name": "stdout",
     "output_type": "stream",
     "text": [
      "('greater', 'B-Predicate')\n"
     ]
    }
   ],
   "source": [
    "for i in result:\n",
    "    for j in i:\n",
    "        if j == \"greater\":\n",
    "            print(i)"
   ]
  },
  {
   "cell_type": "markdown",
   "metadata": {
    "id": "iUH0T10j9MWQ"
   },
   "source": [
    "Предскажите метки для слов из 11 предложения."
   ]
  },
  {
   "cell_type": "code",
   "execution_count": 27,
   "metadata": {
    "id": "CfLiquQb9Csk"
   },
   "outputs": [
    {
     "name": "stdout",
     "output_type": "stream",
     "text": [
      "Предсказанные метки для 11-го предложения:\n",
      "[('but', 'O'), ('that', 'O'), ('aside', 'I-Object'), (',', 'O'), ('windows', 'B-Predicate'), ('10', 'B-Predicate'), ('is', 'O'), ('still', 'O'), ('easier', 'B-Predicate'), ('to', 'I-Predicate'), ('navigate', 'B-Aspect'), ('than', 'I-Predicate'), ('mac', 'I-Aspect'), ('os', 'I-Aspect'), ('x', 'I-Aspect'), ('and', 'I-Aspect'), ('windows', 'B-Predicate'), ('8', 'I-Predicate'), (',', 'I-Predicate'), ('has', 'B-Predicate'), ('better', 'B-Predicate'), ('access', 'B-Aspect'), ('to', 'I-Aspect'), ('files', 'I-Aspect'), ('than', 'I-Aspect'), ('in', 'B-Predicate'), ('android', 'B-Object'), (',', 'I-Object'), ('and', 'I-Object'), ('is', 'O'), ('faster', 'B-Predicate'), (',', 'I-Predicate'), ('more', 'B-Predicate'), ('flexible', 'I-Predicate'), ('and', 'I-Predicate'), ('more', 'B-Predicate'), ('capable', 'I-Predicate'), ('than', 'I-Predicate'), ('windows', 'B-Object'), ('xp', 'I-Object'), ('and', 'I-Object'), ('the', 'O'), ('home', 'I-Object'), ('and', 'I-Object'), ('enterprise', 'B-Object'), ('editions', 'O'), ('of', 'O'), ('windows', 'B-Predicate'), ('7', 'B-Predicate'), ('.', 'O')]\n"
     ]
    }
   ],
   "source": [
    "with torch.no_grad():\n",
    "    # Получаем 11-е предложение из тестового набора\n",
    "    sentence = test_data[10][0]\n",
    "\n",
    "    # Преобразуем слова в индексы\n",
    "    inputs = prepare_sequence(sentence, word_to_ix)\n",
    "\n",
    "    # Прогоняем через модель\n",
    "    tag_scores = model(inputs)\n",
    "\n",
    "    # Получаем предсказанные метки\n",
    "    predicted_tags = [idx_to_tag[int(i)] for i in tag_scores.argmax(dim=1)]\n",
    "\n",
    "    # Выводим пары (слово, предсказанный_тег)\n",
    "    print(\"Предсказанные метки для 11-го предложения:\")\n",
    "    print(result:=list(zip(sentence, predicted_tags)))"
   ]
  },
  {
   "cell_type": "code",
   "execution_count": 28,
   "metadata": {},
   "outputs": [
    {
     "name": "stdout",
     "output_type": "stream",
     "text": [
      "('flexible', 'I-Predicate')\n"
     ]
    }
   ],
   "source": [
    "for i in result:\n",
    "    for j in i:\n",
    "        if j == \"flexible\":\n",
    "            print(i)"
   ]
  },
  {
   "cell_type": "code",
   "execution_count": 29,
   "metadata": {},
   "outputs": [
    {
     "name": "stdout",
     "output_type": "stream",
     "text": [
      "Предсказанные метки для 101-го предложения:\n",
      "[('fyi', 'I-Predicate'), ('-', 'I-Predicate'), ('i', 'B-Predicate'), ('like', 'B-Predicate'), ('my', 'B-Predicate'), ('ipad', 'B-Aspect'), ('but', 'O'), ('usually', 'B-Predicate'), ('only', 'I-Aspect'), ('use', 'B-Predicate'), ('it', 'I-Predicate'), ('when', 'I-Predicate'), ('i', 'B-Predicate'), (\"'\", 'I-Predicate'), ('m', 'O'), ('traveling', 'B-Aspect'), ('since', 'B-Predicate'), ('its', 'O'), ('so', 'O'), ('much', 'B-Predicate'), ('lighter', 'B-Predicate'), ('to', 'B-Predicate'), ('carry', 'B-Aspect'), ('around', 'I-Aspect'), ('than', 'O'), ('a', 'O'), ('laptop', 'O'), ('and', 'O'), ('way', 'O'), ('easier', 'B-Predicate'), ('to', 'I-Predicate'), ('read', 'B-Aspect'), ('than', 'I-Predicate'), ('my', 'B-Predicate'), ('phone', 'I-Object'), ('.', 'I-Object')]\n"
     ]
    }
   ],
   "source": [
    "with torch.no_grad():\n",
    "    # Получаем 101-е предложение (индекс 100)\n",
    "    sentence = test_data[100][0]\n",
    "\n",
    "    # Преобразуем слова в индексы\n",
    "    inputs = prepare_sequence(sentence, word_to_ix)\n",
    "\n",
    "    # Прогоняем через модель\n",
    "    tag_scores = model(inputs)\n",
    "\n",
    "    # Получаем предсказанные метки\n",
    "    predicted_tags = [idx_to_tag[int(i)] for i in tag_scores.argmax(dim=1)]\n",
    "\n",
    "    # Выводим пары (слово, предсказанный_тег)\n",
    "    print(\"Предсказанные метки для 101-го предложения:\")\n",
    "    tagged_sentence = list(zip(sentence, predicted_tags))\n",
    "    print(tagged_sentence)"
   ]
  },
  {
   "cell_type": "code",
   "execution_count": 30,
   "metadata": {},
   "outputs": [
    {
     "name": "stdout",
     "output_type": "stream",
     "text": [
      "Количество слов с меткой 'O': 9\n"
     ]
    }
   ],
   "source": [
    "# Считаем количество слов с меткой \"O\"\n",
    "count_O = sum(1 for word, tag in tagged_sentence if tag == \"O\")\n",
    "\n",
    "print(f\"Количество слов с меткой 'O': {count_O}\")"
   ]
  },
  {
   "cell_type": "markdown",
   "metadata": {
    "id": "gPIv233-jPtj"
   },
   "source": [
    "Сохраните результаты предсказания на тестовом наборе (`test_data`) в файл, запустив код ниже."
   ]
  },
  {
   "cell_type": "code",
   "execution_count": 31,
   "metadata": {
    "id": "fz7osROSjVVD"
   },
   "outputs": [
    {
     "name": "stderr",
     "output_type": "stream",
     "text": [
      "100%|██████████| 283/283 [00:00<00:00, 2231.11it/s]\n"
     ]
    }
   ],
   "source": [
    "with open(\"./data/out_test.tsv\", \"w\") as w:\n",
    "    with torch.no_grad():\n",
    "        for sentence in tqdm(test_data):\n",
    "            inputs = prepare_sequence(sentence[0], word_to_ix)\n",
    "            tag_scores = model(inputs)\n",
    "            tags = [idx_to_tag[int(i)] for i in tag_scores.argmax(dim=-1)]\n",
    "            for i, y in zip(sentence[0], tags):\n",
    "                w.write(f\"{i}\\t{y}\\n\")\n",
    "            w.write(\"\\n\")"
   ]
  },
  {
   "cell_type": "markdown",
   "metadata": {
    "id": "2KHcgCVgH1B5"
   },
   "source": [
    "Файл `test.tsv` содержит разметку тестовых данных. Сравните файлы построчно, запустив код ниже. Сколько суммарно меток было предсказано верно (то есть сколько строк совпало)?"
   ]
  },
  {
   "cell_type": "code",
   "execution_count": 23,
   "metadata": {
    "id": "BXOaAmKLjft5"
   },
   "outputs": [],
   "source": [
    "# !gdown 1mUtlDtb7naXDi1U8x73UdyncnHv1BOjd"
   ]
  },
  {
   "cell_type": "code",
   "execution_count": 32,
   "metadata": {
    "id": "8rnMnOHjjVVD"
   },
   "outputs": [
    {
     "name": "stdout",
     "output_type": "stream",
     "text": [
      "2890\n"
     ]
    }
   ],
   "source": [
    "points = 0\n",
    "with open(\"./data/test.tsv\", \"r\") as f_eval, open(\"./data/out_test.tsv\", \"r\") as f:\n",
    "  for line_eval, line in zip(f_eval.readlines(), f.readlines()):\n",
    "    if line_eval == line: points += 1\n",
    "print(points)"
   ]
  },
  {
   "cell_type": "code",
   "execution_count": null,
   "metadata": {
    "id": "51qugWgyk5pL"
   },
   "outputs": [],
   "source": []
  }
 ],
 "metadata": {
  "colab": {
   "provenance": []
  },
  "kernelspec": {
   "display_name": "dlenv",
   "language": "python",
   "name": "python3"
  },
  "language_info": {
   "codemirror_mode": {
    "name": "ipython",
    "version": 3
   },
   "file_extension": ".py",
   "mimetype": "text/x-python",
   "name": "python",
   "nbconvert_exporter": "python",
   "pygments_lexer": "ipython3",
   "version": "3.11.11"
  }
 },
 "nbformat": 4,
 "nbformat_minor": 0
}
