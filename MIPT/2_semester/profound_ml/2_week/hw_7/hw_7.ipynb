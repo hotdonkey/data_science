{
 "cells": [
  {
   "cell_type": "code",
   "execution_count": 45,
   "metadata": {},
   "outputs": [],
   "source": [
    "import numpy as np\n",
    "import pandas as pd\n",
    "\n",
    "import matplotlib.pyplot as plt\n",
    "import seaborn as sns\n",
    "\n",
    "from sklearn.model_selection import train_test_split\n",
    "from sklearn.metrics import mean_squared_error, accuracy_score\n",
    "\n",
    "from sklearn.tree import  DecisionTreeRegressor\n",
    "from sklearn.tree import DecisionTreeClassifier\n",
    "from sklearn.ensemble import RandomForestRegressor\n",
    "from sklearn.ensemble import RandomForestClassifier"
   ]
  },
  {
   "cell_type": "markdown",
   "metadata": {},
   "source": [
    "В результате выполнения заданий вы сможете:\n",
    "\n",
    "выбирать оптимальные значения параметров n_estimators и max_depth для случайного леса;\n",
    "реализовать свой случайные лес;\n",
    "решать задачи классификации и регрессии с помощью случайного леса.\n",
    "Для выполнения задания вы можете самостоятельно создать Python-ноутбук, а в LMS прикладывать лишь требуемые результаты.\n",
    "\n",
    "Будем работать с датасетом музыкальных композиций с предыдущего практического задания, где уже обработаны категориальные переменные."
   ]
  },
  {
   "cell_type": "code",
   "execution_count": 46,
   "metadata": {},
   "outputs": [
    {
     "data": {
      "application/vnd.microsoft.datawrangler.viewer.v0+json": {
       "columns": [
        {
         "name": "index",
         "rawType": "int64",
         "type": "integer"
        },
        {
         "name": "popularity",
         "rawType": "int64",
         "type": "integer"
        },
        {
         "name": "duration_ms",
         "rawType": "int64",
         "type": "integer"
        },
        {
         "name": "explicit",
         "rawType": "bool",
         "type": "boolean"
        },
        {
         "name": "danceability",
         "rawType": "float64",
         "type": "float"
        },
        {
         "name": "energy",
         "rawType": "float64",
         "type": "float"
        },
        {
         "name": "key",
         "rawType": "int64",
         "type": "integer"
        },
        {
         "name": "loudness",
         "rawType": "float64",
         "type": "float"
        },
        {
         "name": "mode",
         "rawType": "int64",
         "type": "integer"
        },
        {
         "name": "speechiness",
         "rawType": "float64",
         "type": "float"
        },
        {
         "name": "acousticness",
         "rawType": "float64",
         "type": "float"
        },
        {
         "name": "instrumentalness",
         "rawType": "float64",
         "type": "float"
        },
        {
         "name": "liveness",
         "rawType": "float64",
         "type": "float"
        },
        {
         "name": "valence",
         "rawType": "float64",
         "type": "float"
        },
        {
         "name": "tempo",
         "rawType": "float64",
         "type": "float"
        },
        {
         "name": "time_signature",
         "rawType": "int64",
         "type": "integer"
        },
        {
         "name": "track_genre",
         "rawType": "float64",
         "type": "float"
        }
       ],
       "conversionMethod": "pd.DataFrame",
       "ref": "eda233ec-918b-4c72-b7b5-1599aecf793f",
       "rows": [
        [
         "0",
         "77",
         "230613",
         "False",
         "0.509",
         "0.448",
         "4",
         "-7.552",
         "0",
         "0.0357",
         "0.00713",
         "0.0137",
         "0.244",
         "0.221",
         "156.909",
         "3",
         "0.0"
        ],
        [
         "1",
         "79",
         "208760",
         "False",
         "0.636",
         "0.676",
         "2",
         "-3.442",
         "1",
         "0.0263",
         "0.0807",
         "0.0",
         "0.0831",
         "0.273",
         "113.98",
         "4",
         "0.0"
        ],
        [
         "2",
         "76",
         "180690",
         "False",
         "0.573",
         "0.539",
         "2",
         "-6.091",
         "0",
         "0.0322",
         "0.0162",
         "1.16e-05",
         "0.105",
         "0.39",
         "75.012",
         "4",
         "0.0"
        ],
        [
         "3",
         "84",
         "232106",
         "False",
         "0.743",
         "0.446",
         "4",
         "-7.807",
         "0",
         "0.0683",
         "0.0039",
         "0.118",
         "0.337",
         "0.278",
         "123.596",
         "4",
         "0.0"
        ],
        [
         "4",
         "76",
         "225026",
         "False",
         "0.572",
         "0.214",
         "7",
         "-15.625",
         "1",
         "0.0293",
         "0.649",
         "0.129",
         "0.125",
         "0.485",
         "95.542",
         "4",
         "0.0"
        ]
       ],
       "shape": {
        "columns": 16,
        "rows": 5
       }
      },
      "text/html": [
       "<div>\n",
       "<style scoped>\n",
       "    .dataframe tbody tr th:only-of-type {\n",
       "        vertical-align: middle;\n",
       "    }\n",
       "\n",
       "    .dataframe tbody tr th {\n",
       "        vertical-align: top;\n",
       "    }\n",
       "\n",
       "    .dataframe thead th {\n",
       "        text-align: right;\n",
       "    }\n",
       "</style>\n",
       "<table border=\"1\" class=\"dataframe\">\n",
       "  <thead>\n",
       "    <tr style=\"text-align: right;\">\n",
       "      <th></th>\n",
       "      <th>popularity</th>\n",
       "      <th>duration_ms</th>\n",
       "      <th>explicit</th>\n",
       "      <th>danceability</th>\n",
       "      <th>energy</th>\n",
       "      <th>key</th>\n",
       "      <th>loudness</th>\n",
       "      <th>mode</th>\n",
       "      <th>speechiness</th>\n",
       "      <th>acousticness</th>\n",
       "      <th>instrumentalness</th>\n",
       "      <th>liveness</th>\n",
       "      <th>valence</th>\n",
       "      <th>tempo</th>\n",
       "      <th>time_signature</th>\n",
       "      <th>track_genre</th>\n",
       "    </tr>\n",
       "  </thead>\n",
       "  <tbody>\n",
       "    <tr>\n",
       "      <th>0</th>\n",
       "      <td>77</td>\n",
       "      <td>230613</td>\n",
       "      <td>False</td>\n",
       "      <td>0.509</td>\n",
       "      <td>0.448</td>\n",
       "      <td>4</td>\n",
       "      <td>-7.552</td>\n",
       "      <td>0</td>\n",
       "      <td>0.0357</td>\n",
       "      <td>0.00713</td>\n",
       "      <td>0.013700</td>\n",
       "      <td>0.2440</td>\n",
       "      <td>0.221</td>\n",
       "      <td>156.909</td>\n",
       "      <td>3</td>\n",
       "      <td>0.0</td>\n",
       "    </tr>\n",
       "    <tr>\n",
       "      <th>1</th>\n",
       "      <td>79</td>\n",
       "      <td>208760</td>\n",
       "      <td>False</td>\n",
       "      <td>0.636</td>\n",
       "      <td>0.676</td>\n",
       "      <td>2</td>\n",
       "      <td>-3.442</td>\n",
       "      <td>1</td>\n",
       "      <td>0.0263</td>\n",
       "      <td>0.08070</td>\n",
       "      <td>0.000000</td>\n",
       "      <td>0.0831</td>\n",
       "      <td>0.273</td>\n",
       "      <td>113.980</td>\n",
       "      <td>4</td>\n",
       "      <td>0.0</td>\n",
       "    </tr>\n",
       "    <tr>\n",
       "      <th>2</th>\n",
       "      <td>76</td>\n",
       "      <td>180690</td>\n",
       "      <td>False</td>\n",
       "      <td>0.573</td>\n",
       "      <td>0.539</td>\n",
       "      <td>2</td>\n",
       "      <td>-6.091</td>\n",
       "      <td>0</td>\n",
       "      <td>0.0322</td>\n",
       "      <td>0.01620</td>\n",
       "      <td>0.000012</td>\n",
       "      <td>0.1050</td>\n",
       "      <td>0.390</td>\n",
       "      <td>75.012</td>\n",
       "      <td>4</td>\n",
       "      <td>0.0</td>\n",
       "    </tr>\n",
       "    <tr>\n",
       "      <th>3</th>\n",
       "      <td>84</td>\n",
       "      <td>232106</td>\n",
       "      <td>False</td>\n",
       "      <td>0.743</td>\n",
       "      <td>0.446</td>\n",
       "      <td>4</td>\n",
       "      <td>-7.807</td>\n",
       "      <td>0</td>\n",
       "      <td>0.0683</td>\n",
       "      <td>0.00390</td>\n",
       "      <td>0.118000</td>\n",
       "      <td>0.3370</td>\n",
       "      <td>0.278</td>\n",
       "      <td>123.596</td>\n",
       "      <td>4</td>\n",
       "      <td>0.0</td>\n",
       "    </tr>\n",
       "    <tr>\n",
       "      <th>4</th>\n",
       "      <td>76</td>\n",
       "      <td>225026</td>\n",
       "      <td>False</td>\n",
       "      <td>0.572</td>\n",
       "      <td>0.214</td>\n",
       "      <td>7</td>\n",
       "      <td>-15.625</td>\n",
       "      <td>1</td>\n",
       "      <td>0.0293</td>\n",
       "      <td>0.64900</td>\n",
       "      <td>0.129000</td>\n",
       "      <td>0.1250</td>\n",
       "      <td>0.485</td>\n",
       "      <td>95.542</td>\n",
       "      <td>4</td>\n",
       "      <td>0.0</td>\n",
       "    </tr>\n",
       "  </tbody>\n",
       "</table>\n",
       "</div>"
      ],
      "text/plain": [
       "   popularity  duration_ms  explicit  danceability  energy  key  loudness  \\\n",
       "0          77       230613     False         0.509   0.448    4    -7.552   \n",
       "1          79       208760     False         0.636   0.676    2    -3.442   \n",
       "2          76       180690     False         0.573   0.539    2    -6.091   \n",
       "3          84       232106     False         0.743   0.446    4    -7.807   \n",
       "4          76       225026     False         0.572   0.214    7   -15.625   \n",
       "\n",
       "   mode  speechiness  acousticness  instrumentalness  liveness  valence  \\\n",
       "0     0       0.0357       0.00713          0.013700    0.2440    0.221   \n",
       "1     1       0.0263       0.08070          0.000000    0.0831    0.273   \n",
       "2     0       0.0322       0.01620          0.000012    0.1050    0.390   \n",
       "3     0       0.0683       0.00390          0.118000    0.3370    0.278   \n",
       "4     1       0.0293       0.64900          0.129000    0.1250    0.485   \n",
       "\n",
       "     tempo  time_signature  track_genre  \n",
       "0  156.909               3          0.0  \n",
       "1  113.980               4          0.0  \n",
       "2   75.012               4          0.0  \n",
       "3  123.596               4          0.0  \n",
       "4   95.542               4          0.0  "
      ]
     },
     "execution_count": 46,
     "metadata": {},
     "output_type": "execute_result"
    }
   ],
   "source": [
    "df = pd.read_csv(\"data.csv\")\n",
    "df.head()"
   ]
  },
  {
   "cell_type": "markdown",
   "metadata": {},
   "source": [
    "---"
   ]
  },
  {
   "cell_type": "markdown",
   "metadata": {},
   "source": [
    "### 1 задание\n",
    "Целевой признак popularity.\n",
    "\n",
    "Считайте данные через pandas\n",
    "\n",
    "Сделайте разбиение на обучение и тест с соотношением 80/20 и random_state=1.\n",
    "\n",
    "Обучите дерево решений для задачи на базовых параметрах с фиксированным random_state=1 и посчитайте метрику RMSE на тренировочной и тестовой выборках.\n",
    "\n",
    "Обучите случайный лес для задачи на базовых параметрах с фиксированным random_state=1 и посчитайте метрику RMSE на тренировочной и тестовой выборках.\n",
    "\n",
    "Укажите, на сколько метрика на тесте на случайном лесу лучше, чем на дереве решений, округлив до второго знака после точки."
   ]
  },
  {
   "cell_type": "code",
   "execution_count": 47,
   "metadata": {},
   "outputs": [],
   "source": [
    "X = df.drop(columns=[\"popularity\"])\n",
    "y = df[\"popularity\"]\n",
    "\n",
    "X_train, X_test, y_train, y_test = train_test_split(\n",
    "    X, y, test_size=0.2, random_state=1)"
   ]
  },
  {
   "cell_type": "code",
   "execution_count": 48,
   "metadata": {},
   "outputs": [
    {
     "name": "stdout",
     "output_type": "stream",
     "text": [
      "RMSE tree test 29.700319451538643\n",
      "RMSE tree train 4.501354464624463\n"
     ]
    }
   ],
   "source": [
    "tree = DecisionTreeRegressor(random_state=1)\n",
    "tree.fit(X_train, y_train) \n",
    "\n",
    "tree_pred_test = tree.predict(X_test)\n",
    "tree_pred_train = tree.predict(X_train)\n",
    "\n",
    "tree_rmse_test = np.sqrt(mean_squared_error(y_test, tree_pred_test))\n",
    "tree_rmse_train = np.sqrt(mean_squared_error(y_train, tree_pred_train))\n",
    "\n",
    "print(f\"RMSE tree test {tree_rmse_test}\")\n",
    "print(f\"RMSE tree train {tree_rmse_train}\")"
   ]
  },
  {
   "cell_type": "code",
   "execution_count": 49,
   "metadata": {},
   "outputs": [
    {
     "name": "stdout",
     "output_type": "stream",
     "text": [
      "RMSE forest test 22.691988372811892\n",
      "RMSE forest train 9.167082947577512\n"
     ]
    }
   ],
   "source": [
    "forest = RandomForestRegressor(random_state=1)\n",
    "forest.fit(X_train, y_train) \n",
    "\n",
    "forest_pred_test = forest.predict(X_test)\n",
    "forest_pred_train = forest.predict(X_train)\n",
    "\n",
    "forest_rmse_test = np.sqrt(mean_squared_error(y_test, forest_pred_test))\n",
    "forest_rmse_train = np.sqrt(mean_squared_error(y_train, forest_pred_train))\n",
    "\n",
    "print(f\"RMSE forest test {forest_rmse_test}\")\n",
    "print(f\"RMSE forest train {forest_rmse_train}\")"
   ]
  },
  {
   "cell_type": "code",
   "execution_count": 50,
   "metadata": {},
   "outputs": [
    {
     "name": "stdout",
     "output_type": "stream",
     "text": [
      "Метрика на тесте на случайном лесу лучше, чем на дереве решений на 7.01\n"
     ]
    }
   ],
   "source": [
    "q1_answer = forest_rmse_test - tree_rmse_test\n",
    "q1_answer = np.round(q1_answer, 2)\n",
    "print(\n",
    "    f\"Метрика на тесте на случайном лесу лучше, чем на дереве решений на {-q1_answer}\")"
   ]
  },
  {
   "cell_type": "markdown",
   "metadata": {},
   "source": [
    "---\n",
    "### 2 задание\n",
    "\n",
    "Продолжайте работать с датасетом музыкальных композиций.\n",
    "\n",
    "У модели случайный лес оставьте параметр random_state=1. Измените глубину деревьев от 1 до 50 с шагом 3.\n",
    "\n",
    "Визуализируйте изменение ошибки RMSE на тренировочной и тестовой выборках от параметра глубины.\n",
    "\n",
    "Выберите правильный вывод:\n",
    "\n",
    "Выберите один ответ:\n",
    "\n",
    "> Увеличение до разумных пределов параметра max_depth в случайном лесу ухудшает качество модели\n",
    "\n",
    "> Увеличение до разумных пределов параметра max_depth в случайном лесу улучшает качество модели\n",
    "\n",
    "> Параметр max_depth не влияет на качество случайного леса"
   ]
  },
  {
   "cell_type": "code",
   "execution_count": 51,
   "metadata": {},
   "outputs": [
    {
     "data": {
      "image/png": "[encoded data removed]",
      "text/plain": [
       "<Figure size 1500x500 with 1 Axes>"
      ]
     },
     "metadata": {},
     "output_type": "display_data"
    }
   ],
   "source": [
    "rmse_loss_train = []\n",
    "rmse_loss_test = []\n",
    "for i in range(1, 51, 3):\n",
    "    forest = RandomForestRegressor(random_state=1, max_depth=i)\n",
    "    forest.fit(X_train, y_train)\n",
    "\n",
    "    forest_pred_test = forest.predict(X_test)\n",
    "    forest_pred_train = forest.predict(X_train)\n",
    "\n",
    "    forest_rmse_test = np.sqrt(mean_squared_error(y_test, forest_pred_test))\n",
    "    forest_rmse_train = np.sqrt(mean_squared_error(y_train, forest_pred_train))\n",
    "\n",
    "    rmse_loss_train.append(forest_rmse_train)\n",
    "    rmse_loss_test.append(forest_rmse_test)\n",
    "\n",
    "fig, axes = plt.subplots(1, 1, figsize=(15, 5))\n",
    "\n",
    "line_1 = sns.lineplot(rmse_loss_train, ax=axes, label=\"Train\")\n",
    "line_2 = sns.lineplot(rmse_loss_test, ax=axes, label=\"Test\")\n",
    "axes.legend()\n",
    "plt.show()"
   ]
  },
  {
   "cell_type": "markdown",
   "metadata": {},
   "source": [
    "> Увеличение до разумных пределов параметра max_depth в случайном лесу улучшает качество модели\n",
    "___\n",
    "### 3 задание\n",
    "\n",
    "Продолжайте работать с датасетом музыкальных композиций.\n",
    "\n",
    "Давайте снова перейдем к задаче бинарной классификации (популярная песня/не популярная песня), для этого нужно перевести целевой признак popularity в бинарный вид:\n",
    "\n",
    "Если признак popularity больше 50 - 1 класс\n",
    "\n",
    "Если признак popularity меньше или равен 50 - 0 класс\n",
    "\n",
    "Работайте с выборками после разбиения на обучение и тест\n",
    "\n",
    "Обучите дерево решений для задачи бинарной классификации с фиксированным random_state=1 и со значением глубины дерева 17.\n",
    "\n",
    "Посчитайте метрику accuracy на тренировочной и тестовой выборках.\n",
    "\n",
    "Обучите случайный лес для задачи на базовых параметрах с фиксированным `random_state=1`.\n",
    "\n",
    "Посчитайте метрику accuracy на тренировочной и тестовой выборках.\n",
    "\n",
    "Укажите, на сколько метрика на тесте на случайном лесу лучше, чем на дереве решений, округлив до второго знака после точки."
   ]
  },
  {
   "cell_type": "code",
   "execution_count": 52,
   "metadata": {},
   "outputs": [],
   "source": [
    "df_classif = df.copy()"
   ]
  },
  {
   "cell_type": "code",
   "execution_count": 53,
   "metadata": {},
   "outputs": [
    {
     "name": "stdout",
     "output_type": "stream",
     "text": [
      "[1 0]\n"
     ]
    }
   ],
   "source": [
    "df_classif['popularity'] = df_classif['popularity'].apply(\n",
    "    lambda x: 1 if x > 50 else 0)\n",
    "\n",
    "print(df_classif['popularity'].unique())"
   ]
  },
  {
   "cell_type": "code",
   "execution_count": 54,
   "metadata": {},
   "outputs": [],
   "source": [
    "X = df_classif.drop(columns=[\"popularity\"])\n",
    "y = df_classif[\"popularity\"]\n",
    "\n",
    "X_train, X_test, y_train, y_test = train_test_split(\n",
    "    X, y, test_size=0.2, random_state=1)"
   ]
  },
  {
   "cell_type": "code",
   "execution_count": 55,
   "metadata": {},
   "outputs": [
    {
     "name": "stdout",
     "output_type": "stream",
     "text": [
      "Accuracy tree test 0.698\n",
      "Accuracy tree train 0.9805\n"
     ]
    }
   ],
   "source": [
    "tree = DecisionTreeClassifier(random_state=1, max_depth=17)\n",
    "tree.fit(X_train, y_train) \n",
    "\n",
    "tree_pred_test = tree.predict(X_test)\n",
    "tree_pred_train = tree.predict(X_train)\n",
    "\n",
    "tree_acc_test = accuracy_score(y_test, tree_pred_test)\n",
    "tree_acc_train = accuracy_score(y_train, tree_pred_train)\n",
    "\n",
    "print(f\"Accuracy tree test {tree_acc_test}\")\n",
    "print(f\"Accuracy tree train {tree_acc_train}\")"
   ]
  },
  {
   "cell_type": "code",
   "execution_count": 56,
   "metadata": {},
   "outputs": [
    {
     "name": "stdout",
     "output_type": "stream",
     "text": [
      "Accuracy forest test 0.777\n",
      "Accuracy forest train 0.9935\n"
     ]
    }
   ],
   "source": [
    "forest = RandomForestClassifier(random_state=1)\n",
    "forest.fit(X_train, y_train) \n",
    "\n",
    "forest_pred_test = forest.predict(X_test)\n",
    "forest_pred_train = forest.predict(X_train)\n",
    "\n",
    "forest_acc_test = accuracy_score(y_test, forest_pred_test)\n",
    "forest_acc_train = accuracy_score(y_train, forest_pred_train)\n",
    "\n",
    "print(f\"Accuracy forest test {forest_acc_test}\")\n",
    "print(f\"Accuracy forest train {forest_acc_train}\")"
   ]
  },
  {
   "cell_type": "code",
   "execution_count": 57,
   "metadata": {},
   "outputs": [
    {
     "name": "stdout",
     "output_type": "stream",
     "text": [
      "Метрика на тесте на случайном лесу лучше, чем на дереве решений на 0.08\n"
     ]
    }
   ],
   "source": [
    "q2_answer = forest_acc_test - tree_acc_test\n",
    "q2_answer = np.round(q2_answer, 2)\n",
    "print(\n",
    "    f\"Метрика на тесте на случайном лесу лучше, чем на дереве решений на {q2_answer}\")"
   ]
  },
  {
   "cell_type": "markdown",
   "metadata": {},
   "source": [
    "---\n",
    "### 4 задание\n",
    "\n",
    "Продолжайте работать с датасетом музыкальных композиций.\n",
    "\n",
    "У модели случайный лес оставьте параметр random_state=1. Измените количество деревьев от 1 до 150 с шагом 10.\n",
    "\n",
    "Визуализируйте изменение метрики accuracy на тренировочной и тестовой выборках от параметра количества моделей.\n",
    "\n",
    "Выберите правильный вывод:\n",
    "Выберите один ответ:\n",
    "\n",
    "> Параметр n_estimators не влияет на качество случайного леса\n",
    "\n",
    "> Увеличение до разумных пределов параметра n_estimators в случайном лесу ухудшает качество модели\n",
    "\n",
    "> Увеличение до разумных пределов параметра n_estimators в случайном лесу улучшает качество модели"
   ]
  },
  {
   "cell_type": "code",
   "execution_count": 58,
   "metadata": {},
   "outputs": [
    {
     "data": {
      "image/png": "[encoded data removed]",
      "text/plain": [
       "<Figure size 1500x500 with 1 Axes>"
      ]
     },
     "metadata": {},
     "output_type": "display_data"
    }
   ],
   "source": [
    "acc_loss_train = []\n",
    "acc_loss_test = []\n",
    "for i in range(1, 151, 10):\n",
    "    forest = RandomForestClassifier(random_state=1, n_estimators=i)\n",
    "    forest.fit(X_train, y_train)\n",
    "\n",
    "    forest_pred_test = forest.predict(X_test)\n",
    "    forest_pred_train = forest.predict(X_train)\n",
    "\n",
    "    forest_acc_test = accuracy_score(y_test, forest_pred_test)\n",
    "    forest_acc_train = accuracy_score(y_train, forest_pred_train)\n",
    "\n",
    "    acc_loss_train.append(forest_acc_train)\n",
    "    acc_loss_test.append(forest_acc_test)\n",
    "\n",
    "fig, axes = plt.subplots(1, 1, figsize=(15, 5))\n",
    "\n",
    "line_1 = sns.lineplot(acc_loss_train, ax=axes, label=\"Train\")\n",
    "line_2 = sns.lineplot(acc_loss_test, ax=axes, label=\"Test\")\n",
    "axes.legend()\n",
    "plt.show()"
   ]
  },
  {
   "cell_type": "markdown",
   "metadata": {},
   "source": [
    "> Увеличение до разумных пределов параметра n_estimators в случайном лесу улучшает качество модели\n",
    "---\n",
    "### 5 задание\n",
    "\n",
    "Продолжайте работать с датасетом музыкальных композиций.\n",
    "\n",
    "В этом задании начнём делать свой случайный лес. Для начала нужно сделать функцию для получения подвыборок для деревьев. На вход функции подаём параметры:\n",
    "\n",
    "data - признаки выборки\n",
    "\n",
    "labels - целевые значения выборки\n",
    "\n",
    "n - кол-во подвыборок\n",
    "\n",
    "max_samples - доля объектов для подвыборок\n",
    "\n",
    "Можете воспользоваться заготовкой.\n",
    "\n",
    "Передайте тренировочную выборку для задачи бинарной классификации в функцию get_bootstrap с параметрами n=3, max_samples=0.01.\n",
    "\n",
    "И укажите, сколько объектов первого класса оказалось в первой (по индексу нулевой) подвыборке при самом первом запуске функции после её объявления."
   ]
  },
  {
   "cell_type": "code",
   "execution_count": 59,
   "metadata": {},
   "outputs": [
    {
     "name": "stdout",
     "output_type": "stream",
     "text": [
      "Функция работает!\n"
     ]
    }
   ],
   "source": [
    "np.random.seed(42)  # для фиксации случайности\n",
    "\n",
    "\n",
    "def get_bootstrap(data, labels, n=100, max_samples=1.0):\n",
    "    if isinstance(data, pd.DataFrame):\n",
    "        data = data.copy().values  # перевод таблицы в numpy array\n",
    "\n",
    "    if isinstance(labels, pd.DataFrame) or isinstance(labels, pd.Series):\n",
    "        labels = labels.copy().values  # перевод целевого признака в numpy array\n",
    "\n",
    "    n_samples = data.shape[0]  # подсчет кол-ва объектов в подвыборках\n",
    "    bootstrap = []  # список для будущих подвыборок\n",
    "\n",
    "    for i in range(n):\n",
    "\n",
    "        sample_index = np.random.choice(n_samples, size=int(\n",
    "            n_samples * max_samples), replace=True)  # взятие случайных индексов в кол-ве n_samples\n",
    "        b_data = data[sample_index]  # взятие объектов по выбранным индексам\n",
    "        # взятие целевых значений по выбранным индексам\n",
    "        b_labels = labels[sample_index]\n",
    "\n",
    "        bootstrap.append((b_data, b_labels))  # добавление в список подвыборок\n",
    "\n",
    "    return bootstrap\n",
    "\n",
    "\n",
    "# Пример работы функции на данных из двух признаков на первом запуске:\n",
    "sample_X = np.array([\n",
    "    [0, 0],\n",
    "    [1, 1],\n",
    "    [2, 2]\n",
    "])\n",
    "\n",
    "sample_y = np.array([0, 1, 2])\n",
    "\n",
    "test_booty_1 = get_bootstrap(sample_X, sample_y, n=3, max_samples=1.0)\n",
    "\n",
    "test_booty_2 = [\n",
    "    (np.array([[2, 2], [0, 0], [2, 2]]), np.array([2, 0, 2])),\n",
    "    (np.array([[2, 2], [0, 0], [0, 0]]), np.array([2, 0, 0])),\n",
    "    (np.array([[2, 2], [1, 1], [2, 2]]), np.array([2, 1, 2]))\n",
    "]\n",
    "\n",
    "# Проверка равенства каждого элемента в кортежах\n",
    "for (data1, labels1), (data2, labels2) in zip(test_booty_1, test_booty_2):\n",
    "    assert np.array_equal(data1, data2), f\"Данные не совпадают: {data1} != {data2}\"\n",
    "    assert np.array_equal(labels1, labels2), f\"Метки не совпадают: {labels1} != {labels2}\"\n",
    "\n",
    "print(\"Функция работает!\")"
   ]
  },
  {
   "cell_type": "code",
   "execution_count": 60,
   "metadata": {},
   "outputs": [
    {
     "name": "stdout",
     "output_type": "stream",
     "text": [
      "Количество объектов первого класса в первой подвыборке: 12\n"
     ]
    }
   ],
   "source": [
    "### Альтернатива\n",
    "\n",
    "np.random.seed(42)\n",
    "def get_bootstrap(data, labels, n, max_samples):\n",
    "    \"\"\"Функция для получения подвыборок\"\"\"\n",
    "    bootstraps = []\n",
    "    num_samples = int(len(data) * max_samples)\n",
    "\n",
    "    for _ in range(n):\n",
    "        bootstrap_indices = np.random.choice(len(data), size=num_samples, replace=True)\n",
    "        bootstraps.append((data.iloc[bootstrap_indices], labels.iloc[bootstrap_indices]))\n",
    "    \n",
    "    return bootstraps\n",
    "\n",
    "\n",
    "# Вызываем функцию get_bootstrap\n",
    "bootstraps = get_bootstrap(data=X_train, labels=y_train, n=3, max_samples=0.01)\n",
    "\n",
    "# Количество объектов первого класса в первой подвыборке\n",
    "first_class_count = (bootstraps[0][1] == 1).sum()  # Предполагаем, что 1 - это первый класс\n",
    "print(\"Количество объектов первого класса в первой подвыборке:\", first_class_count)"
   ]
  },
  {
   "cell_type": "code",
   "execution_count": 61,
   "metadata": {},
   "outputs": [
    {
     "name": "stdout",
     "output_type": "stream",
     "text": [
      "Количество объектов первого класса в первой подвыборке: 12\n"
     ]
    }
   ],
   "source": [
    "np.random.seed(42)\n",
    "# Выполнение функции get_bootstrap\n",
    "test_strap = get_bootstrap(data=X_train, labels=y_train, n=3, max_samples=0.01)\n",
    "\n",
    "# Определяем количество объектов первого класса в первой (нулевой) подвыборке\n",
    "first_sample_labels = test_strap[0][1]  # Получаем метки из первой подвыборки\n",
    "num_class_0 = np.sum(first_sample_labels == 1)  # Считаем количество меток 1 класса\n",
    "\n",
    "print(\"Количество объектов первого класса в первой подвыборке:\", num_class_0)"
   ]
  },
  {
   "cell_type": "markdown",
   "metadata": {},
   "source": [
    "---\n",
    "### 6 задание\n",
    "\n",
    "Продолжайте работать с датасетом музыкальных композиций.\n",
    "\n",
    "Теперь сделаем функцию для получения подмножества признаков.\n",
    "\n",
    "На вход функции подаём параметры:\n",
    "\n",
    "features - признаки выборки\n",
    "\n",
    "max_features - доля признаков для подвыборок\n",
    "\n",
    "Можете воспользоваться заготовкой.\n",
    "\n",
    "Передайте признаки из тренировочной выборки для задачи бинарной классификации в функцию get_subsample с параметром max_features=0.1.\n",
    "\n",
    "И укажите, какой признак вернулся после выполнения функции при самом первом запуске после её объявления."
   ]
  },
  {
   "cell_type": "code",
   "execution_count": 62,
   "metadata": {},
   "outputs": [
    {
     "name": "stdout",
     "output_type": "stream",
     "text": [
      "['f1']\n",
      "['f2' 'f3']\n"
     ]
    }
   ],
   "source": [
    "np.random.seed(42)  # для фиксации случайности\n",
    "\n",
    "\n",
    "def get_subsample(features, max_features=1.0):\n",
    "    if not isinstance(features, np.ndarray):\n",
    "        features = np.array(features.copy())  # перевод признаков в numpy array\n",
    "\n",
    "    len_features = len(features)  # подсчет кол-ва признаков в подвыборках\n",
    "    sample_indexes = list(range(len(features)))  # получение списка индексов признаков\n",
    "\n",
    "    subsample = np.random.choice(  # взятие случайных индексов признаков\n",
    "        sample_indexes,\n",
    "        size=int(len_features*max_features),  # в кол-ве len_features\n",
    "        replace=False  # без повторений\n",
    "    )\n",
    "\n",
    "    return features[subsample]  # на список выходе признаки\n",
    "\n",
    "\n",
    "# Пример работы функции на данных из трех признаков на первом запуске:\n",
    "\n",
    "sample_features = ['f1', 'f2', 'f3']\n",
    "print(get_subsample(sample_features, max_features=0.5))\n",
    "print(get_subsample(sample_features, max_features=0.8))\n"
   ]
  },
  {
   "cell_type": "code",
   "execution_count": 63,
   "metadata": {},
   "outputs": [
    {
     "name": "stdout",
     "output_type": "stream",
     "text": [
      "['instrumentalness']\n"
     ]
    }
   ],
   "source": [
    "np.random.seed(42)  # для фиксации случайности\n",
    "\n",
    "print(get_subsample(X_train.columns, max_features=0.1))"
   ]
  },
  {
   "cell_type": "markdown",
   "metadata": {},
   "source": [
    "---\n",
    "### 7 задание\n",
    "\n",
    "Продолжайте работать с датасетом музыкальных композиций.\n",
    "\n",
    "Пришло время строить случайный лес из 100 деревьев, для этого:\n",
    "\n",
    "1. Сделайте нужное количество подвыборок с половиной объектов\n",
    "\n",
    "2. Сделайте выбор половины признаков*\n",
    "\n",
    "3. Постройте 100 деревьев на подвыборках\n",
    "\n",
    "Можете воспользоваться заготовкой.\n",
    "\n",
    "*При построении случайного леса из sklearn выбираются случайные признаки на каждом выборе лучшего разбиения в дереве решений, но в этом задании будем выбирать случайные признаки для каждого дерева решений.\n",
    "\n",
    "Укажите, какая глубина получилась у первого (по индексу нулевого) дерева решений."
   ]
  },
  {
   "cell_type": "code",
   "execution_count": 64,
   "metadata": {},
   "outputs": [
    {
     "name": "stdout",
     "output_type": "stream",
     "text": [
      "Глубина первого (по индексу нулевого) дерева решений = 23\n"
     ]
    }
   ],
   "source": [
    "np.random.seed(42)  # для фиксации случайности\n",
    "\n",
    "forest = []\n",
    "bootstrap = get_bootstrap(data=X_train, labels=y_train, n=100,\n",
    "                          max_samples=0.5)  # получаем подвыборки\n",
    "\n",
    "for b_data, b_labels in bootstrap:\n",
    "    b_data = pd.DataFrame(b_data, columns=X_train.columns)\n",
    "    features = get_subsample(\n",
    "        features=X_train.columns, max_features=0.5)  # получаем признаки\n",
    "\n",
    "    dt = DecisionTreeClassifier(random_state=1).fit(b_data[features], b_labels)\n",
    "    forest.append(dt)\n",
    "\n",
    "q7_answer = forest[0].get_depth()\n",
    "\n",
    "print(f'Глубина первого (по индексу нулевого) дерева решений = {q7_answer}')"
   ]
  },
  {
   "cell_type": "markdown",
   "metadata": {},
   "source": [
    "Ответ: 23\n",
    "\n",
    "Ваш ответ неверен. Обратите внимание на следующее:\n",
    "\n",
    "• фиксированная случайность np.random.seed (42)\n",
    "\n",
    "• выбраны корректные параметры функции get_bootstrap\n",
    "\n",
    "• выбраны корректные параметры функции get_subsample\n",
    "\n",
    "• получение глубины у корректного дерева из случайного леса"
   ]
  },
  {
   "cell_type": "markdown",
   "metadata": {},
   "source": [
    "---\n",
    "### 8 задание\n",
    "\n",
    "Продолжайте работать с датасетом музыкальных композиций.\n",
    "\n",
    "Получите предсказания для тестовых объектов обученным случайным лесом из предыдущего задания.\n",
    "\n",
    "Можно взять имена признаков из tree.feature_names_in_\n",
    "\n",
    "Можете воспользоваться заготовкой.\n",
    "\n",
    "Укажите, какая метрика качества accuracy получилась, округлив её до второго знака после точки."
   ]
  },
  {
   "cell_type": "code",
   "execution_count": 65,
   "metadata": {},
   "outputs": [
    {
     "name": "stdout",
     "output_type": "stream",
     "text": [
      "Метрика качества accuracy: 0.76\n"
     ]
    }
   ],
   "source": [
    "np.random.seed(42)  # для фиксации случайности\n",
    "# добавим предсказания всех деревьев в список\n",
    "predictions = []\n",
    "for tree in forest:\n",
    "    feats = tree.feature_names_in_\n",
    "    predictions.append(tree.predict(X_test[feats]))\n",
    "\n",
    "# сформируем список с предсказаниями для каждого объекта\n",
    "predictions_per_object = list(zip(*predictions))\n",
    "\n",
    "\n",
    "# выберем в качестве итогового предсказания для каждого объекта тот класс,\n",
    "# за который проголосовало большинство деревьев\n",
    "voted_predictions = []\n",
    "for obj in predictions_per_object:\n",
    "    voted_predictions.append(np.bincount(obj).argmax())\n",
    "\n",
    "# Теперь вычисляем accuracy\n",
    "accuracy = accuracy_score(y_test, voted_predictions)\n",
    "\n",
    "# Округляем до второго знака после запятой\n",
    "rounded_accuracy = round(accuracy, 2)\n",
    "print(\"Метрика качества accuracy:\", rounded_accuracy)"
   ]
  },
  {
   "cell_type": "markdown",
   "metadata": {},
   "source": [
    "Ответ: 0.76\n",
    "\n",
    "Ваш ответ неверен. Обратите внимание на следующее:\n",
    "\n",
    "• предсказания делаются на верном подмножестве признаков для каждого\n",
    "дерева решений\n",
    "\n",
    "• предсказания делаются для всех тестовых объектов\n",
    "\n",
    "• финальный класс для объекта получается путем голосования деревьев\n",
    "\n",
    "• округление метрики до второго знака после точки"
   ]
  },
  {
   "cell_type": "code",
   "execution_count": null,
   "metadata": {},
   "outputs": [],
   "source": []
  }
 ],
 "metadata": {
  "kernelspec": {
   "display_name": "Python 3",
   "language": "python",
   "name": "python3"
  },
  "language_info": {
   "codemirror_mode": {
    "name": "ipython",
    "version": 3
   },
   "file_extension": ".py",
   "mimetype": "text/x-python",
   "name": "python",
   "nbconvert_exporter": "python",
   "pygments_lexer": "ipython3",
   "version": "3.9.6"
  }
 },
 "nbformat": 4,
 "nbformat_minor": 2
}
