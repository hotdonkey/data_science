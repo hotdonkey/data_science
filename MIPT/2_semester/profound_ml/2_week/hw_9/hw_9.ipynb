{
 "cells": [
  {
   "cell_type": "code",
   "execution_count": 1,
   "id": "18a3cde9",
   "metadata": {},
   "outputs": [],
   "source": [
    "import numpy as np\n",
    "import pandas as pd\n",
    "\n",
    "import seaborn as sns\n",
    "import matplotlib.pyplot as plt\n",
    "import plotly.graph_objects as go"
   ]
  },
  {
   "cell_type": "code",
   "execution_count": 2,
   "id": "9f83d020",
   "metadata": {},
   "outputs": [],
   "source": [
    "df_1 = pd.read_csv(\"./data/data_1.csv\")\n",
    "df_2 = pd.read_csv(\"./data/data_2.csv\")\n",
    "df_3 = pd.read_csv(\"./data/data_3.csv\")"
   ]
  },
  {
   "cell_type": "code",
   "execution_count": 3,
   "id": "9968bd18",
   "metadata": {},
   "outputs": [
    {
     "data": {
      "application/vnd.microsoft.datawrangler.viewer.v0+json": {
       "columns": [
        {
         "name": "index",
         "rawType": "int64",
         "type": "integer"
        },
        {
         "name": "F0",
         "rawType": "float64",
         "type": "float"
        },
        {
         "name": "F1",
         "rawType": "float64",
         "type": "float"
        },
        {
         "name": "F2",
         "rawType": "float64",
         "type": "float"
        },
        {
         "name": "F3",
         "rawType": "float64",
         "type": "float"
        },
        {
         "name": "LABEL",
         "rawType": "int64",
         "type": "integer"
        }
       ],
       "conversionMethod": "pd.DataFrame",
       "ref": "01066b60-036a-469b-91f5-1d8dd2bb7bf3",
       "rows": [
        [
         "0",
         "-2.1822702492885875",
         "8.795185599389457",
         "5.469284417411591",
         "-0.2379656250671531",
         "0"
        ],
        [
         "1",
         "3.6986932620723785",
         "3.215944675978178",
         "-10.741660624679913",
         "10.535511585604617",
         "2"
        ],
        [
         "2",
         "-7.254823571475207",
         "-7.1978246900321805",
         "-7.556683961632242",
         "7.881213976223828",
         "1"
        ],
        [
         "3",
         "-3.186119623358709",
         "9.62596241703919",
         "5.670878358724052",
         "2.904449803056931",
         "0"
        ],
        [
         "4",
         "2.279499205220103",
         "3.920786381390696",
         "-9.580429929389222",
         "9.072585991091383",
         "2"
        ]
       ],
       "shape": {
        "columns": 5,
        "rows": 5
       }
      },
      "text/html": [
       "<div>\n",
       "<style scoped>\n",
       "    .dataframe tbody tr th:only-of-type {\n",
       "        vertical-align: middle;\n",
       "    }\n",
       "\n",
       "    .dataframe tbody tr th {\n",
       "        vertical-align: top;\n",
       "    }\n",
       "\n",
       "    .dataframe thead th {\n",
       "        text-align: right;\n",
       "    }\n",
       "</style>\n",
       "<table border=\"1\" class=\"dataframe\">\n",
       "  <thead>\n",
       "    <tr style=\"text-align: right;\">\n",
       "      <th></th>\n",
       "      <th>F0</th>\n",
       "      <th>F1</th>\n",
       "      <th>F2</th>\n",
       "      <th>F3</th>\n",
       "      <th>LABEL</th>\n",
       "    </tr>\n",
       "  </thead>\n",
       "  <tbody>\n",
       "    <tr>\n",
       "      <th>0</th>\n",
       "      <td>-2.182270</td>\n",
       "      <td>8.795186</td>\n",
       "      <td>5.469284</td>\n",
       "      <td>-0.237966</td>\n",
       "      <td>0</td>\n",
       "    </tr>\n",
       "    <tr>\n",
       "      <th>1</th>\n",
       "      <td>3.698693</td>\n",
       "      <td>3.215945</td>\n",
       "      <td>-10.741661</td>\n",
       "      <td>10.535512</td>\n",
       "      <td>2</td>\n",
       "    </tr>\n",
       "    <tr>\n",
       "      <th>2</th>\n",
       "      <td>-7.254824</td>\n",
       "      <td>-7.197825</td>\n",
       "      <td>-7.556684</td>\n",
       "      <td>7.881214</td>\n",
       "      <td>1</td>\n",
       "    </tr>\n",
       "    <tr>\n",
       "      <th>3</th>\n",
       "      <td>-3.186120</td>\n",
       "      <td>9.625962</td>\n",
       "      <td>5.670878</td>\n",
       "      <td>2.904450</td>\n",
       "      <td>0</td>\n",
       "    </tr>\n",
       "    <tr>\n",
       "      <th>4</th>\n",
       "      <td>2.279499</td>\n",
       "      <td>3.920786</td>\n",
       "      <td>-9.580430</td>\n",
       "      <td>9.072586</td>\n",
       "      <td>2</td>\n",
       "    </tr>\n",
       "  </tbody>\n",
       "</table>\n",
       "</div>"
      ],
      "text/plain": [
       "         F0        F1         F2         F3  LABEL\n",
       "0 -2.182270  8.795186   5.469284  -0.237966      0\n",
       "1  3.698693  3.215945 -10.741661  10.535512      2\n",
       "2 -7.254824 -7.197825  -7.556684   7.881214      1\n",
       "3 -3.186120  9.625962   5.670878   2.904450      0\n",
       "4  2.279499  3.920786  -9.580430   9.072586      2"
      ]
     },
     "metadata": {},
     "output_type": "display_data"
    },
    {
     "data": {
      "application/vnd.microsoft.datawrangler.viewer.v0+json": {
       "columns": [
        {
         "name": "index",
         "rawType": "int64",
         "type": "integer"
        },
        {
         "name": "F0",
         "rawType": "float64",
         "type": "float"
        },
        {
         "name": "F1",
         "rawType": "float64",
         "type": "float"
        },
        {
         "name": "F2",
         "rawType": "float64",
         "type": "float"
        },
        {
         "name": "F3",
         "rawType": "float64",
         "type": "float"
        },
        {
         "name": "LABEL",
         "rawType": "int64",
         "type": "integer"
        }
       ],
       "conversionMethod": "pd.DataFrame",
       "ref": "1955920d-b0e8-4f40-9a20-17dd619d0658",
       "rows": [
        [
         "0",
         "-2.1822702492885875",
         "8.795185599389457",
         "5.469284417411591",
         "-0.2379656250671531",
         "0"
        ],
        [
         "1",
         "2.860496748468277",
         "3.6886981159495433",
         "-10.164985369381933",
         "9.966854314422251",
         "2"
        ],
        [
         "2",
         "-7.817618141961113",
         "-7.674397335166532",
         "-5.634218269126588",
         "8.717750567311514",
         "1"
        ],
        [
         "3",
         "-3.186119623358709",
         "9.62596241703919",
         "5.670878358724052",
         "2.904449803056931",
         "0"
        ],
        [
         "4",
         "2.150899720042139",
         "4.041118968655803",
         "-9.584370021736587",
         "9.235391517165636",
         "2"
        ]
       ],
       "shape": {
        "columns": 5,
        "rows": 5
       }
      },
      "text/html": [
       "<div>\n",
       "<style scoped>\n",
       "    .dataframe tbody tr th:only-of-type {\n",
       "        vertical-align: middle;\n",
       "    }\n",
       "\n",
       "    .dataframe tbody tr th {\n",
       "        vertical-align: top;\n",
       "    }\n",
       "\n",
       "    .dataframe thead th {\n",
       "        text-align: right;\n",
       "    }\n",
       "</style>\n",
       "<table border=\"1\" class=\"dataframe\">\n",
       "  <thead>\n",
       "    <tr style=\"text-align: right;\">\n",
       "      <th></th>\n",
       "      <th>F0</th>\n",
       "      <th>F1</th>\n",
       "      <th>F2</th>\n",
       "      <th>F3</th>\n",
       "      <th>LABEL</th>\n",
       "    </tr>\n",
       "  </thead>\n",
       "  <tbody>\n",
       "    <tr>\n",
       "      <th>0</th>\n",
       "      <td>-2.182270</td>\n",
       "      <td>8.795186</td>\n",
       "      <td>5.469284</td>\n",
       "      <td>-0.237966</td>\n",
       "      <td>0</td>\n",
       "    </tr>\n",
       "    <tr>\n",
       "      <th>1</th>\n",
       "      <td>2.860497</td>\n",
       "      <td>3.688698</td>\n",
       "      <td>-10.164985</td>\n",
       "      <td>9.966854</td>\n",
       "      <td>2</td>\n",
       "    </tr>\n",
       "    <tr>\n",
       "      <th>2</th>\n",
       "      <td>-7.817618</td>\n",
       "      <td>-7.674397</td>\n",
       "      <td>-5.634218</td>\n",
       "      <td>8.717751</td>\n",
       "      <td>1</td>\n",
       "    </tr>\n",
       "    <tr>\n",
       "      <th>3</th>\n",
       "      <td>-3.186120</td>\n",
       "      <td>9.625962</td>\n",
       "      <td>5.670878</td>\n",
       "      <td>2.904450</td>\n",
       "      <td>0</td>\n",
       "    </tr>\n",
       "    <tr>\n",
       "      <th>4</th>\n",
       "      <td>2.150900</td>\n",
       "      <td>4.041119</td>\n",
       "      <td>-9.584370</td>\n",
       "      <td>9.235392</td>\n",
       "      <td>2</td>\n",
       "    </tr>\n",
       "  </tbody>\n",
       "</table>\n",
       "</div>"
      ],
      "text/plain": [
       "         F0        F1         F2        F3  LABEL\n",
       "0 -2.182270  8.795186   5.469284 -0.237966      0\n",
       "1  2.860497  3.688698 -10.164985  9.966854      2\n",
       "2 -7.817618 -7.674397  -5.634218  8.717751      1\n",
       "3 -3.186120  9.625962   5.670878  2.904450      0\n",
       "4  2.150900  4.041119  -9.584370  9.235392      2"
      ]
     },
     "metadata": {},
     "output_type": "display_data"
    },
    {
     "data": {
      "application/vnd.microsoft.datawrangler.viewer.v0+json": {
       "columns": [
        {
         "name": "index",
         "rawType": "int64",
         "type": "integer"
        },
        {
         "name": "F0",
         "rawType": "float64",
         "type": "float"
        },
        {
         "name": "F1",
         "rawType": "float64",
         "type": "float"
        },
        {
         "name": "F2",
         "rawType": "float64",
         "type": "float"
        },
        {
         "name": "F3",
         "rawType": "float64",
         "type": "float"
        },
        {
         "name": "LABEL",
         "rawType": "int64",
         "type": "integer"
        }
       ],
       "conversionMethod": "pd.DataFrame",
       "ref": "d377a784-1a4b-4ef8-9805-980fcd6bf9ae",
       "rows": [
        [
         "0",
         "-1.4992117269968457",
         "5.202551821605549",
         "-1.4992117269968457",
         "5.202551821605549",
         "0"
        ],
        [
         "1",
         "-10.027096478361708",
         "16.292373063263224",
         "-10.027096478361708",
         "16.292373063263224",
         "2"
        ],
        [
         "2",
         "-8.609967340206314",
         "9.453918878888832",
         "-8.609967340206314",
         "9.453918878888832",
         "1"
        ],
        [
         "3",
         "-3.6118078423928313",
         "9.10060120757019",
         "-3.6118078423928313",
         "9.10060120757019",
         "0"
        ],
        [
         "4",
         "-9.950580300767855",
         "16.051346772799896",
         "-9.950580300767855",
         "16.051346772799896",
         "2"
        ]
       ],
       "shape": {
        "columns": 5,
        "rows": 5
       }
      },
      "text/html": [
       "<div>\n",
       "<style scoped>\n",
       "    .dataframe tbody tr th:only-of-type {\n",
       "        vertical-align: middle;\n",
       "    }\n",
       "\n",
       "    .dataframe tbody tr th {\n",
       "        vertical-align: top;\n",
       "    }\n",
       "\n",
       "    .dataframe thead th {\n",
       "        text-align: right;\n",
       "    }\n",
       "</style>\n",
       "<table border=\"1\" class=\"dataframe\">\n",
       "  <thead>\n",
       "    <tr style=\"text-align: right;\">\n",
       "      <th></th>\n",
       "      <th>F0</th>\n",
       "      <th>F1</th>\n",
       "      <th>F2</th>\n",
       "      <th>F3</th>\n",
       "      <th>LABEL</th>\n",
       "    </tr>\n",
       "  </thead>\n",
       "  <tbody>\n",
       "    <tr>\n",
       "      <th>0</th>\n",
       "      <td>-1.499212</td>\n",
       "      <td>5.202552</td>\n",
       "      <td>-1.499212</td>\n",
       "      <td>5.202552</td>\n",
       "      <td>0</td>\n",
       "    </tr>\n",
       "    <tr>\n",
       "      <th>1</th>\n",
       "      <td>-10.027096</td>\n",
       "      <td>16.292373</td>\n",
       "      <td>-10.027096</td>\n",
       "      <td>16.292373</td>\n",
       "      <td>2</td>\n",
       "    </tr>\n",
       "    <tr>\n",
       "      <th>2</th>\n",
       "      <td>-8.609967</td>\n",
       "      <td>9.453919</td>\n",
       "      <td>-8.609967</td>\n",
       "      <td>9.453919</td>\n",
       "      <td>1</td>\n",
       "    </tr>\n",
       "    <tr>\n",
       "      <th>3</th>\n",
       "      <td>-3.611808</td>\n",
       "      <td>9.100601</td>\n",
       "      <td>-3.611808</td>\n",
       "      <td>9.100601</td>\n",
       "      <td>0</td>\n",
       "    </tr>\n",
       "    <tr>\n",
       "      <th>4</th>\n",
       "      <td>-9.950580</td>\n",
       "      <td>16.051347</td>\n",
       "      <td>-9.950580</td>\n",
       "      <td>16.051347</td>\n",
       "      <td>2</td>\n",
       "    </tr>\n",
       "  </tbody>\n",
       "</table>\n",
       "</div>"
      ],
      "text/plain": [
       "          F0         F1         F2         F3  LABEL\n",
       "0  -1.499212   5.202552  -1.499212   5.202552      0\n",
       "1 -10.027096  16.292373 -10.027096  16.292373      2\n",
       "2  -8.609967   9.453919  -8.609967   9.453919      1\n",
       "3  -3.611808   9.100601  -3.611808   9.100601      0\n",
       "4  -9.950580  16.051347  -9.950580  16.051347      2"
      ]
     },
     "metadata": {},
     "output_type": "display_data"
    }
   ],
   "source": [
    "display(df_1.head(), df_2.head(), df_3.head()) "
   ]
  },
  {
   "cell_type": "code",
   "execution_count": 4,
   "id": "7fa68c50",
   "metadata": {},
   "outputs": [
    {
     "data": {
      "application/vnd.plotly.v1+json": {
       "config": {
        "plotlyServerURL": "https://plot.ly"
       },
       "data": [
        {
         "marker": {
          "color": {
           "bdata": "AAIBAAIAAQABAgABAAAAAAAAAgABAgEAAQIAAgIBAQECAgICAAECAAECAQICAAICAgEAAgEBAAABAQEBAAACAAECAAEAAQAAAgIAAAECAQAAAAABAQAAAgEAAgEAAQACAgAAAgABAgEBAQABAQIAAQECAgECAQIBAQEAAQECAAECAQECAgECAQABAgEBAAEBAQEAAQABAgICAgIBAQIAAAEBAAEAAgICAQEBAAABAgIAAgICAQABAgACAAIAAQIBAgECAAIBAAIAAQECAAECAAICAgACAgAAAAEAAgEBAAIAAQICAgAAAgECAgIBAgABAQIAAAIAAQEBAgICAgEAAQEAAgECAAECAAIAAQICAgEAAgIBAAAAAQAAAAEAAAEAAQEAAgABAAAAAgEBAAABAgECAAAAAQECAgABAAACAgAAAgIBAAIAAQAAAAEAAgICAAIBAQIAAgEAAQIAAAECAAEBAQECAgABAAEBAQIAAQEBAAIBAgECAgICAgAAAgIBAgICAAIAAgABAgACAgEAAQECAAIAAQEAAAIAAAIBAgACAAEAAAAAAgEBAAACAQICAAIAAQACAgABAQIBAAABAQIAAQEBAAIBAAAAAAIBAQIAAQICAQABAQIBAgEAAgECAAIBAgAAAQEAAQIBAAECAQICAgICAgAAAgEAAAAAAgECAgEBAAIAAgIBAgICAgABAQACAgEBAQABAgABAgABAAEAAAEAAgICAAACAQEAAAAAAQACAQECAQAAAgEAAAIBAgEBAQABAQEBAQEBAgIAAgACAQABAAIAAQABAQEBAAIAAAICAQAAAQAAAQECAQECAQICAgACAQEAAgAAAQICAAAAAgEBAgIBAAEAAQAAAQEBAAICAAAAAAEAAQEAAQECAQEAAAIAAAIBAQABAAICAAECAAACAAIBAAAAAAECAgIAAAIBAAIBAAIBAQABAAICAQEBAQICAgABAQICAgABAAEAAQABAgIAAAEAAAABAQIAAgICAgABAgABAgICAAABAQIBAgICAQABAQIBAgIBAQAAAAEBAgIBAgIBAgIBAgIAAgAAAAEAAQABAgABAQEBAQECAQAAAAACAgEBAgEAAQEAAQICAQIAAgAAAQIBAQACAAEAAQEAAQABAgICAgACAQEAAgICAQEAAQIAAgIAAQEBAgIAAAAAAAACAAECAQEBAgACAQAAAgIBAAACAQAAAQEAAAICAgIBAgACAgAAAAACAgACAAIBAgEAAAAAAAAAAQICAAIBAgEAAgEBAgIBAgEAAAICAQAAAAIBAQIBAQIAAgACAgIAAgIBAgAAAQAAAgIBAgICAg==",
           "dtype": "i1"
          },
          "colorscale": [
           [
            0,
            "#440154"
           ],
           [
            0.1111111111111111,
            "#482878"
           ],
           [
            0.2222222222222222,
            "#3e4989"
           ],
           [
            0.3333333333333333,
            "#31688e"
           ],
           [
            0.4444444444444444,
            "#26828e"
           ],
           [
            0.5555555555555556,
            "#1f9e89"
           ],
           [
            0.6666666666666666,
            "#35b779"
           ],
           [
            0.7777777777777778,
            "#6ece58"
           ],
           [
            0.8888888888888888,
            "#b5de2b"
           ],
           [
            1,
            "#fde725"
           ]
          ],
          "opacity": 0.8,
          "size": 8
         },
         "mode": "markers",
         "type": "scatter3d",
         "x": {
          "bdata": "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",
          "dtype": "f8"
         },
         "y": {
          "bdata": "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",
          "dtype": "f8"
         },
         "z": {
          "bdata": "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",
          "dtype": "f8"
         }
        }
       ],
       "layout": {
        "scene": {
         "xaxis": {
          "title": {
           "text": "X"
          }
         },
         "yaxis": {
          "title": {
           "text": "Y"
          }
         },
         "zaxis": {
          "title": {
           "text": "Z"
          }
         }
        },
        "template": {
         "data": {
          "bar": [
           {
            "error_x": {
             "color": "#2a3f5f"
            },
            "error_y": {
             "color": "#2a3f5f"
            },
            "marker": {
             "line": {
              "color": "#E5ECF6",
              "width": 0.5
             },
             "pattern": {
              "fillmode": "overlay",
              "size": 10,
              "solidity": 0.2
             }
            },
            "type": "bar"
           }
          ],
          "barpolar": [
           {
            "marker": {
             "line": {
              "color": "#E5ECF6",
              "width": 0.5
             },
             "pattern": {
              "fillmode": "overlay",
              "size": 10,
              "solidity": 0.2
             }
            },
            "type": "barpolar"
           }
          ],
          "carpet": [
           {
            "aaxis": {
             "endlinecolor": "#2a3f5f",
             "gridcolor": "white",
             "linecolor": "white",
             "minorgridcolor": "white",
             "startlinecolor": "#2a3f5f"
            },
            "baxis": {
             "endlinecolor": "#2a3f5f",
             "gridcolor": "white",
             "linecolor": "white",
             "minorgridcolor": "white",
             "startlinecolor": "#2a3f5f"
            },
            "type": "carpet"
           }
          ],
          "choropleth": [
           {
            "colorbar": {
             "outlinewidth": 0,
             "ticks": ""
            },
            "type": "choropleth"
           }
          ],
          "contour": [
           {
            "colorbar": {
             "outlinewidth": 0,
             "ticks": ""
            },
            "colorscale": [
             [
              0,
              "#0d0887"
             ],
             [
              0.1111111111111111,
              "#46039f"
             ],
             [
              0.2222222222222222,
              "#7201a8"
             ],
             [
              0.3333333333333333,
              "#9c179e"
             ],
             [
              0.4444444444444444,
              "#bd3786"
             ],
             [
              0.5555555555555556,
              "#d8576b"
             ],
             [
              0.6666666666666666,
              "#ed7953"
             ],
             [
              0.7777777777777778,
              "#fb9f3a"
             ],
             [
              0.8888888888888888,
              "#fdca26"
             ],
             [
              1,
              "#f0f921"
             ]
            ],
            "type": "contour"
           }
          ],
          "contourcarpet": [
           {
            "colorbar": {
             "outlinewidth": 0,
             "ticks": ""
            },
            "type": "contourcarpet"
           }
          ],
          "heatmap": [
           {
            "colorbar": {
             "outlinewidth": 0,
             "ticks": ""
            },
            "colorscale": [
             [
              0,
              "#0d0887"
             ],
             [
              0.1111111111111111,
              "#46039f"
             ],
             [
              0.2222222222222222,
              "#7201a8"
             ],
             [
              0.3333333333333333,
              "#9c179e"
             ],
             [
              0.4444444444444444,
              "#bd3786"
             ],
             [
              0.5555555555555556,
              "#d8576b"
             ],
             [
              0.6666666666666666,
              "#ed7953"
             ],
             [
              0.7777777777777778,
              "#fb9f3a"
             ],
             [
              0.8888888888888888,
              "#fdca26"
             ],
             [
              1,
              "#f0f921"
             ]
            ],
            "type": "heatmap"
           }
          ],
          "histogram": [
           {
            "marker": {
             "pattern": {
              "fillmode": "overlay",
              "size": 10,
              "solidity": 0.2
             }
            },
            "type": "histogram"
           }
          ],
          "histogram2d": [
           {
            "colorbar": {
             "outlinewidth": 0,
             "ticks": ""
            },
            "colorscale": [
             [
              0,
              "#0d0887"
             ],
             [
              0.1111111111111111,
              "#46039f"
             ],
             [
              0.2222222222222222,
              "#7201a8"
             ],
             [
              0.3333333333333333,
              "#9c179e"
             ],
             [
              0.4444444444444444,
              "#bd3786"
             ],
             [
              0.5555555555555556,
              "#d8576b"
             ],
             [
              0.6666666666666666,
              "#ed7953"
             ],
             [
              0.7777777777777778,
              "#fb9f3a"
             ],
             [
              0.8888888888888888,
              "#fdca26"
             ],
             [
              1,
              "#f0f921"
             ]
            ],
            "type": "histogram2d"
           }
          ],
          "histogram2dcontour": [
           {
            "colorbar": {
             "outlinewidth": 0,
             "ticks": ""
            },
            "colorscale": [
             [
              0,
              "#0d0887"
             ],
             [
              0.1111111111111111,
              "#46039f"
             ],
             [
              0.2222222222222222,
              "#7201a8"
             ],
             [
              0.3333333333333333,
              "#9c179e"
             ],
             [
              0.4444444444444444,
              "#bd3786"
             ],
             [
              0.5555555555555556,
              "#d8576b"
             ],
             [
              0.6666666666666666,
              "#ed7953"
             ],
             [
              0.7777777777777778,
              "#fb9f3a"
             ],
             [
              0.8888888888888888,
              "#fdca26"
             ],
             [
              1,
              "#f0f921"
             ]
            ],
            "type": "histogram2dcontour"
           }
          ],
          "mesh3d": [
           {
            "colorbar": {
             "outlinewidth": 0,
             "ticks": ""
            },
            "type": "mesh3d"
           }
          ],
          "parcoords": [
           {
            "line": {
             "colorbar": {
              "outlinewidth": 0,
              "ticks": ""
             }
            },
            "type": "parcoords"
           }
          ],
          "pie": [
           {
            "automargin": true,
            "type": "pie"
           }
          ],
          "scatter": [
           {
            "fillpattern": {
             "fillmode": "overlay",
             "size": 10,
             "solidity": 0.2
            },
            "type": "scatter"
           }
          ],
          "scatter3d": [
           {
            "line": {
             "colorbar": {
              "outlinewidth": 0,
              "ticks": ""
             }
            },
            "marker": {
             "colorbar": {
              "outlinewidth": 0,
              "ticks": ""
             }
            },
            "type": "scatter3d"
           }
          ],
          "scattercarpet": [
           {
            "marker": {
             "colorbar": {
              "outlinewidth": 0,
              "ticks": ""
             }
            },
            "type": "scattercarpet"
           }
          ],
          "scattergeo": [
           {
            "marker": {
             "colorbar": {
              "outlinewidth": 0,
              "ticks": ""
             }
            },
            "type": "scattergeo"
           }
          ],
          "scattergl": [
           {
            "marker": {
             "colorbar": {
              "outlinewidth": 0,
              "ticks": ""
             }
            },
            "type": "scattergl"
           }
          ],
          "scattermap": [
           {
            "marker": {
             "colorbar": {
              "outlinewidth": 0,
              "ticks": ""
             }
            },
            "type": "scattermap"
           }
          ],
          "scattermapbox": [
           {
            "marker": {
             "colorbar": {
              "outlinewidth": 0,
              "ticks": ""
             }
            },
            "type": "scattermapbox"
           }
          ],
          "scatterpolar": [
           {
            "marker": {
             "colorbar": {
              "outlinewidth": 0,
              "ticks": ""
             }
            },
            "type": "scatterpolar"
           }
          ],
          "scatterpolargl": [
           {
            "marker": {
             "colorbar": {
              "outlinewidth": 0,
              "ticks": ""
             }
            },
            "type": "scatterpolargl"
           }
          ],
          "scatterternary": [
           {
            "marker": {
             "colorbar": {
              "outlinewidth": 0,
              "ticks": ""
             }
            },
            "type": "scatterternary"
           }
          ],
          "surface": [
           {
            "colorbar": {
             "outlinewidth": 0,
             "ticks": ""
            },
            "colorscale": [
             [
              0,
              "#0d0887"
             ],
             [
              0.1111111111111111,
              "#46039f"
             ],
             [
              0.2222222222222222,
              "#7201a8"
             ],
             [
              0.3333333333333333,
              "#9c179e"
             ],
             [
              0.4444444444444444,
              "#bd3786"
             ],
             [
              0.5555555555555556,
              "#d8576b"
             ],
             [
              0.6666666666666666,
              "#ed7953"
             ],
             [
              0.7777777777777778,
              "#fb9f3a"
             ],
             [
              0.8888888888888888,
              "#fdca26"
             ],
             [
              1,
              "#f0f921"
             ]
            ],
            "type": "surface"
           }
          ],
          "table": [
           {
            "cells": {
             "fill": {
              "color": "#EBF0F8"
             },
             "line": {
              "color": "white"
             }
            },
            "header": {
             "fill": {
              "color": "#C8D4E3"
             },
             "line": {
              "color": "white"
             }
            },
            "type": "table"
           }
          ]
         },
         "layout": {
          "annotationdefaults": {
           "arrowcolor": "#2a3f5f",
           "arrowhead": 0,
           "arrowwidth": 1
          },
          "autotypenumbers": "strict",
          "coloraxis": {
           "colorbar": {
            "outlinewidth": 0,
            "ticks": ""
           }
          },
          "colorscale": {
           "diverging": [
            [
             0,
             "#8e0152"
            ],
            [
             0.1,
             "#c51b7d"
            ],
            [
             0.2,
             "#de77ae"
            ],
            [
             0.3,
             "#f1b6da"
            ],
            [
             0.4,
             "#fde0ef"
            ],
            [
             0.5,
             "#f7f7f7"
            ],
            [
             0.6,
             "#e6f5d0"
            ],
            [
             0.7,
             "#b8e186"
            ],
            [
             0.8,
             "#7fbc41"
            ],
            [
             0.9,
             "#4d9221"
            ],
            [
             1,
             "#276419"
            ]
           ],
           "sequential": [
            [
             0,
             "#0d0887"
            ],
            [
             0.1111111111111111,
             "#46039f"
            ],
            [
             0.2222222222222222,
             "#7201a8"
            ],
            [
             0.3333333333333333,
             "#9c179e"
            ],
            [
             0.4444444444444444,
             "#bd3786"
            ],
            [
             0.5555555555555556,
             "#d8576b"
            ],
            [
             0.6666666666666666,
             "#ed7953"
            ],
            [
             0.7777777777777778,
             "#fb9f3a"
            ],
            [
             0.8888888888888888,
             "#fdca26"
            ],
            [
             1,
             "#f0f921"
            ]
           ],
           "sequentialminus": [
            [
             0,
             "#0d0887"
            ],
            [
             0.1111111111111111,
             "#46039f"
            ],
            [
             0.2222222222222222,
             "#7201a8"
            ],
            [
             0.3333333333333333,
             "#9c179e"
            ],
            [
             0.4444444444444444,
             "#bd3786"
            ],
            [
             0.5555555555555556,
             "#d8576b"
            ],
            [
             0.6666666666666666,
             "#ed7953"
            ],
            [
             0.7777777777777778,
             "#fb9f3a"
            ],
            [
             0.8888888888888888,
             "#fdca26"
            ],
            [
             1,
             "#f0f921"
            ]
           ]
          },
          "colorway": [
           "#636efa",
           "#EF553B",
           "#00cc96",
           "#ab63fa",
           "#FFA15A",
           "#19d3f3",
           "#FF6692",
           "#B6E880",
           "#FF97FF",
           "#FECB52"
          ],
          "font": {
           "color": "#2a3f5f"
          },
          "geo": {
           "bgcolor": "white",
           "lakecolor": "white",
           "landcolor": "#E5ECF6",
           "showlakes": true,
           "showland": true,
           "subunitcolor": "white"
          },
          "hoverlabel": {
           "align": "left"
          },
          "hovermode": "closest",
          "mapbox": {
           "style": "light"
          },
          "paper_bgcolor": "white",
          "plot_bgcolor": "#E5ECF6",
          "polar": {
           "angularaxis": {
            "gridcolor": "white",
            "linecolor": "white",
            "ticks": ""
           },
           "bgcolor": "#E5ECF6",
           "radialaxis": {
            "gridcolor": "white",
            "linecolor": "white",
            "ticks": ""
           }
          },
          "scene": {
           "xaxis": {
            "backgroundcolor": "#E5ECF6",
            "gridcolor": "white",
            "gridwidth": 2,
            "linecolor": "white",
            "showbackground": true,
            "ticks": "",
            "zerolinecolor": "white"
           },
           "yaxis": {
            "backgroundcolor": "#E5ECF6",
            "gridcolor": "white",
            "gridwidth": 2,
            "linecolor": "white",
            "showbackground": true,
            "ticks": "",
            "zerolinecolor": "white"
           },
           "zaxis": {
            "backgroundcolor": "#E5ECF6",
            "gridcolor": "white",
            "gridwidth": 2,
            "linecolor": "white",
            "showbackground": true,
            "ticks": "",
            "zerolinecolor": "white"
           }
          },
          "shapedefaults": {
           "line": {
            "color": "#2a3f5f"
           }
          },
          "ternary": {
           "aaxis": {
            "gridcolor": "white",
            "linecolor": "white",
            "ticks": ""
           },
           "baxis": {
            "gridcolor": "white",
            "linecolor": "white",
            "ticks": ""
           },
           "bgcolor": "#E5ECF6",
           "caxis": {
            "gridcolor": "white",
            "linecolor": "white",
            "ticks": ""
           }
          },
          "title": {
           "x": 0.05
          },
          "xaxis": {
           "automargin": true,
           "gridcolor": "white",
           "linecolor": "white",
           "ticks": "",
           "title": {
            "standoff": 15
           },
           "zerolinecolor": "white",
           "zerolinewidth": 2
          },
          "yaxis": {
           "automargin": true,
           "gridcolor": "white",
           "linecolor": "white",
           "ticks": "",
           "title": {
            "standoff": 15
           },
           "zerolinecolor": "white",
           "zerolinewidth": 2
          }
         }
        },
        "title": {
         "text": "3D Scatter Plot"
        }
       }
      }
     },
     "metadata": {},
     "output_type": "display_data"
    }
   ],
   "source": [
    "# Создание графика\n",
    "fig = go.Figure(data=[go.Scatter3d(\n",
    "    x=df_1[\"F0\"],\n",
    "    y=df_1[\"F1\"],\n",
    "    z=df_1[\"F2\"],\n",
    "    mode='markers',\n",
    "    marker=dict(\n",
    "        size=8,\n",
    "        color=df_1[\"LABEL\"],  # Цвет зависит от значения z\n",
    "        colorscale='Viridis',\n",
    "        opacity=0.8\n",
    "    )\n",
    ")])\n",
    "\n",
    "# Настройки макета\n",
    "fig.update_layout(\n",
    "    title='3D Scatter Plot',\n",
    "    scene=dict(\n",
    "        xaxis_title='X',\n",
    "        yaxis_title='Y',\n",
    "        zaxis_title='Z'\n",
    "    )\n",
    ")\n",
    "\n",
    "fig.show()"
   ]
  },
  {
   "cell_type": "code",
   "execution_count": 7,
   "id": "85764cd2",
   "metadata": {},
   "outputs": [
    {
     "data": {
      "application/vnd.plotly.v1+json": {
       "config": {
        "plotlyServerURL": "https://plot.ly"
       },
       "data": [
        {
         "marker": {
          "color": {
           "bdata": "AAIBAAIAAQABAgABAAAAAAAAAgABAgEAAQIAAgIBAQECAgICAAECAAECAQICAAICAgEAAgEBAAABAQEBAAACAAECAAEAAQAAAgIAAAECAQAAAAABAQAAAgEAAgEAAQACAgAAAgABAgEBAQABAQIAAQECAgECAQIBAQEAAQECAAECAQECAgECAQABAgEBAAEBAQEAAQABAgICAgIBAQIAAAEBAAEAAgICAQEBAAABAgIAAgICAQABAgACAAIAAQIBAgECAAIBAAIAAQECAAECAAICAgACAgAAAAEAAgEBAAIAAQICAgAAAgECAgIBAgABAQIAAAIAAQEBAgICAgEAAQEAAgECAAECAAIAAQICAgEAAgIBAAAAAQAAAAEAAAEAAQEAAgABAAAAAgEBAAABAgECAAAAAQECAgABAAACAgAAAgIBAAIAAQAAAAEAAgICAAIBAQIAAgEAAQIAAAECAAEBAQECAgABAAEBAQIAAQEBAAIBAgECAgICAgAAAgIBAgICAAIAAgABAgACAgEAAQECAAIAAQEAAAIAAAIBAgACAAEAAAAAAgEBAAACAQICAAIAAQACAgABAQIBAAABAQIAAQEBAAIBAAAAAAIBAQIAAQICAQABAQIBAgEAAgECAAIBAgAAAQEAAQIBAAECAQICAgICAgAAAgEAAAAAAgECAgEBAAIAAgIBAgICAgABAQACAgEBAQABAgABAgABAAEAAAEAAgICAAACAQEAAAAAAQACAQECAQAAAgEAAAIBAgEBAQABAQEBAQEBAgIAAgACAQABAAIAAQABAQEBAAIAAAICAQAAAQAAAQECAQECAQICAgACAQEAAgAAAQICAAAAAgEBAgIBAAEAAQAAAQEBAAICAAAAAAEAAQEAAQECAQEAAAIAAAIBAQABAAICAAECAAACAAIBAAAAAAECAgIAAAIBAAIBAAIBAQABAAICAQEBAQICAgABAQICAgABAAEAAQABAgIAAAEAAAABAQIAAgICAgABAgABAgICAAABAQIBAgICAQABAQIBAgIBAQAAAAEBAgIBAgIBAgIBAgIAAgAAAAEAAQABAgABAQEBAQECAQAAAAACAgEBAgEAAQEAAQICAQIAAgAAAQIBAQACAAEAAQEAAQABAgICAgACAQEAAgICAQEAAQIAAgIAAQEBAgIAAAAAAAACAAECAQEBAgACAQAAAgIBAAACAQAAAQEAAAICAgIBAgACAgAAAAACAgACAAIBAgEAAAAAAAAAAQICAAIBAgEAAgEBAgIBAgEAAAICAQAAAAIBAQIBAQIAAgACAgIAAgIBAgAAAQAAAgIBAgICAg==",
           "dtype": "i1"
          },
          "colorscale": [
           [
            0,
            "#440154"
           ],
           [
            0.1111111111111111,
            "#482878"
           ],
           [
            0.2222222222222222,
            "#3e4989"
           ],
           [
            0.3333333333333333,
            "#31688e"
           ],
           [
            0.4444444444444444,
            "#26828e"
           ],
           [
            0.5555555555555556,
            "#1f9e89"
           ],
           [
            0.6666666666666666,
            "#35b779"
           ],
           [
            0.7777777777777778,
            "#6ece58"
           ],
           [
            0.8888888888888888,
            "#b5de2b"
           ],
           [
            1,
            "#fde725"
           ]
          ],
          "opacity": 0.8,
          "size": 8
         },
         "mode": "markers",
         "type": "scatter3d",
         "x": {
          "bdata": "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",
          "dtype": "f8"
         },
         "y": {
          "bdata": "eUEfkSKXIUCTj2YodIINQAAzDDeVsh7AuGpbJX5AI0DZfEYXGyoQQOZeCvcS0iBAjaS3xSDdI8BBfZRTkqQkQLDm08ZiGRTA2EeV+vXPCUDxt0uM+YwiQKpmXBVGjRHASegyRqrWIkDijxs5UGUhQNIzjNPDYiFAEmYTp9jEIUBHRpqgkA8hQKoegqq4qRhAbf6eIItRB0Cf93AWrnshQBHztPuQgA7AP37YIlLJD0ARcxqVepMkwPUAIO5+4yJAHh1bDfDXFsAJc42PsyoQQIzUIBFtTyNAx91Nhd7VDEDW7iXZPV8RQKmBQ5GlAiHASJNHBJrOFMDN0LPjOqobwBn92P0ldAxAGTY9FQH0DkAGHzYe3hgLQLynLhoMVhJAgDO+FSbhIkAck4GNK9UWwHiythmzWQ9AesQbBTluIUDhRVfsHkISwJF7V1ie2Q1AHupAFGQRB8BlfghMPqsVQOb8DuesOBBAsG9NItS4JUBh00Xg2UcQQJ4tmxm8ohNAICv1n9kAEEDEnwcYTV8iwPBfDHPAXyRAnqBX5miVDkAoEhT3uVsjwE0PLH2T9g7AbpjN9ZOJIkBZcEts/l0kQO6VGCjyNhHAOkBQEAuHGMDoqoixIf4SwCg9yy3VCxPAx/rxwwxcIUCyT72R79glQLVJ/5JlSBBADEuesjZGI0BRiBC7NqoYwMhbL3UG6A1A45pHmqwwJEA7QHU3gjYhwBE47TfL+SJAU5siyvZGAsBGp8VF/egjQEr9q0NrYiFAFk2ygTcCEUCd3J20pZ8QQMfk3lTxpSJA9rIwzLbKI0Df5/dF7pcKwJ/biqdIpQ9A3+KvP7PYIMCSL2PoJScgQDlXC85mhSBAnGIVW8AsIUAVsJx1iuofQEBehECtVhTAgrcY6tonHMBn6GnY68kkQLXxJU/Y7B5AtbQNUbL1EEDt9kxyc7//v+zsIb136CZAaVMPjTeKDUDvnE2fJ7sTwMV4T7cxgCRAGWN3fXe1F8C8B/mnjJYcQMGuMgrKfRBAXRDBvJBzDUDiCCn8P7khQOFUW2ysQiNA//WZ9z79EkC/DNqLDIolQB8BC2lqKyLAeMNSkcrVDkDQVutTiDgRwHQki9sumBLAsCEkVTD/2b+3CAM9A8YjQGZoZwqdyxDAXp+j4z+nBMCiPlHwEI0TQHvmcat2bB9AKr00eoe9IcBiQ36oe+MgwHmjJ7nOvA9A4RxUR2FNEkC2sYAdq4AWwDOVnuTEIhJASJOWp7MnGsB7DqE6y9cOQBZVAFpaBCHA4569uMwxEsDZqcqQ0UgXwOj6DL7bZiJAwjYgmCSCFcAfANLjhwcTwJRIXCTjBhNAD3H5JeYQH0Clv6ls5+QcwJhcFvu7UhFA6O4ig9PpJsBc7exGblUewDVT2lSXIg9AvWeyrnIAEEBdV87Ju2MWwJHD9v5eGBRAUgzDz5OuGcDn9J5ylz0jQHb4/0gzYxnAIJSQPxyjD0BLX3oZ9xcUwO2yItdBCx7AUy3ToPdxIUBUHsksjUITwNpvL9Na2xbAErLrkTJUEsCmO5oeiC4cwJc8i9GDHSNATOdA/m0BFsCWFuN3dSshQNesjh2NsRbA/Lmlq5ROE0BeQCLqlX4QQFJrg+XrBghAeLiYNz2ME0Br0LtiBnkSQBg/l4JqxSLA9967TaM2GcDl+9mvs18LQBBr+8cruSBAYusoNf5xI0Dj2VxF38sWwN+TsuuIWiLALtFBSRdoJEDQ9X3mUh0YwI9Hy9+mpCJApkxBVa4IEUB/O5A64bwQQI/9HxW4UBJAy0ZvH025E8CFU8cH9WMkwHu6+OVhuh/AXwm3yHP+I0ApVGDFSZ8gQNBZjmxVdCDAYKLTJR5iEUBCqDdYCuEGQDi++pAHmiFAKcrjSg7PCECAtcWY7NwMQOboDGz7SRFA1RYLjMEFHMAysvDiXp8iQNsPHp2ADSTAJlvkXwcgEkACh1QZCmshQNYNKerX7hBAq4En62zUIEA9CbfZGR4MQKBcQRgOXyJAJ1SswlFvGsDHvUmoSMgOQDjKAZbf/RHA/HIF6LhEDkCZw9rE+PkhwM5X3uBRvRRAqT8QK0P5I0AvFZnH1hMQQDAx744irRXAVvyDlS2WIUBcbLq7fbQNQDrK8perVSBAUuEIWl+NHsDV4DMbOhcfwADuprZWcQ5An4sBQu03HECOi98UjKwgwFsZR6kd/A9A0yOnP2ggJECDZikNSeIPQAgd5Um8QBBAhY/Tf7dADkC4Iex/54MiQMNIIoaZmAxA5o3lr1dJEkAeOxBOROchQKaM021M2yVAqRlBdSovIECxHDX1yVYhwP8wJUAoCCBAsWoLpiAREkDamvQl7lUcwIdszWLc3R3ATNmP1SiWIkA1hxMSGmEOQKcq1PjIwx5A7NHA4CkvIsATZJbCXiIOQHIiQDgkZQtA43Tog+P1C0BnNJwp6SEiQKdFu5q1vSRAtEfQlU7CCUD/avsitZIZwI0rB24QxhJAJ+vjy8+eFEDDCR4jsM8RQEAZS8W34SPAheH8cDP/EEAQDRHHrVIjQAHAKBT8oBfAmSHmEek3IMBqkdqsjDASQK/GzFbzayJAA7E27E04IEBzzE464xYPQBZSGI6n6CRAq+3XVlCLIcCKlaFz0zAPwITTPrH9hiHAYIQosBJNCkCzmzt/WdMPQEz3ruNhKRJAlyBp77LCEkDFh8AieWwgwIZBYBfBliBA+5+YzH3AGsD8PyJbxVIVwDug/rbi9h1AJXeQ0/uSEEDNmeF0XbAMwICod23sFw9AZJy9N95dIEABKSZSzS0bwH1nJXifJRJA11rPxEmnJUDOuxEw1HMOQCnSRCGG7yRADBhmceCGIsDEIY/UFigOQJB/a/hkUhFAP8BnJI2bEUCHx3DiC+QbwO6dpY3+0R9ARlYsKViuEEBhqVdycjEOQPgIpk143B7Akr5z6Wz/HUCAnvQqfJUkQIwCVZFuUiJAVZu3xjaaF8CncRmAGw4jQBM79DLOziNAMm6JeQWxJUAWfOd9vwYgwAhTZ0e1NSBAVlOxXno6I0CIaGgZmxImwLpgM5a/yyNAkUU90N9JHsCeEjxDTBcawKYnWgPoDSFAJFrVP+EqEkD/qGdn1ughQJ2NMK8aiw3AUASIkQVWIkDbytjPtPgiQNZofM7sPSFA9aL+J/plEEDd6Is0M/ccwFxVkdXl+SXAIg7vcsciJEA0uxQ5EI4hQF2TfSjybR3AC5ZPbpX2CEAw20mvEwsXwH8BZm+cQhRA1NnBdMV4H0AgNF/+LxIgQOp0xggZhyVAvuPCHoYgHMCZWbe0zWcgwGOTsjwSnRFAuWGf/j4oD0BgChoWbmccQDAvNSA/qOI/DMtuRX+8JEDLflJj9vohQHp1gZG3LwxAc0A0+rlDDkDWIuoKFx8iQIirYwxttSFAgDCHjnREEkCq1igkYHAPQBfwpTUeqRDAB7uvcNylIUCtRiiEhvYFQNZE2+4IOCNAimfl5tGfF8BaCppKcrseQDhOwJmTXBpA8tOY8PbUIUD37omzZicWwNzEjA3deBhA9FMYfLoHEED6uppIhf0QQLJ/NX2QGhNAHwLpTNDpIUCzT11H6LcRQIDMc6ux8BrAlqeiFGd/EsAiCWXLxi8KQONutY5PuiNA7L0JuJ1+EUCVe+QPLqQbwBIajKoTGCVAng/kYxEbHcBHfecBnBMRQCqiZwJu1hxAwYdbfyo2JEAl6J/oxk4bwOIKxGZ43ghAg4Cwkoh7IEDgqjwIBbgYwNjL5+DHLhDA6CkLKfpUG8C2XinC4ZYUwAgYgnnFMBNA7hOx8l5bEkB+VFE2agYhQPsL4oEJkxnAMB0u67A/HECGeRnnlx4jwN4xwBJrUR7A6erUUFsgGcCkXuU9FcMSQCFGUfOIBSFALsR2IzCaFcBf+pVQCuYiwAaV5qptWyLAOMfq3H7gIECybp4TtuYKQCzhkpFYaBnA76E7S7xiEEB6x0E/J2ojwDfFB5wxcxBAkXi9O3YUD0C+tFOhu1MQQDfG/4ro0xJAf8pCfTmxE0Cp5E2Zm5cjQJX3/Bp9DR9APNlV2a0KEEBcuWjBzfUPQI1MmEIihCDAu/fb25cMDUCWArMwWZEQQNnlWL6cmBFACj8Qvz1eHkDTqaC58AoMQHpB3JkeLCFA6PHJ4fJhFkAzDsYr2t0iQME11PydXR3ADF/NIS6RD0B8ULtDTZojQJK4rfQ3pxBAisYsE9QNFEDib9kBbrMdwEpXawqKDCZASmTncI2YJMCOWJBrWqokwFaRMREW6hBAeBS/NbJ2I0AMgmue/CgTQFM/sy2NXyFAtu1j11KzGsCFuHY2SJ4iwOKf55fg6yBAUTS68EBKIkAiFv9zIhgRQPQArtjUpyNAx5P0GLrgI0A68W/h6bQPQE4r+4XL7RPASLxVj9jxC0AQexfqg1UeQDI1NOZTWBJAwPPZs3gQHEB+skhq+JkfwPzYQ3OSASFA9qye71ZTIUAlrmTC3wgiQB+JEQqE0SNAN9O06s+KCkB8YjJCP6ETwAWenNrnnxrACwRfv0RjI0C0g0BlQ7wjQImCzvWFuRBAnLudwTGmGMC9gtlVDMUKQNVkMgCKOw1AKs95fD0DJEA1egk1zGIRQGz7bNIgjh9A7qD9w88FG8C0zwmw8S8hQOyE/jWMFhJAf1gTwDJHEUAERIaFcu8kQE6k90aXfBvAialXr/UCG8D6FjmmxEQPQHTYBkf/cRHAmk4qJs+JH0B5UF2q01QjQBDROnA72+4/ZRaaF10+CcD+g6VkabwSQCExnj7YKSFAun7NiBJ9FcAwGuTJTTsMwFpbrKuCfQnA+vIGm35UIUCXXbGfdg0QQKzOtIEcryHA/ZbEcOZrJUAWDsiDL2UiQCXstPeQAiVAdqF3x40MIkDRdw4m9mwPQA/xyoGQCxLAF+ABhvnTJcD4qZS12J4OQBmAq4k1qCJARtPDI++REsD1x/o7YDUQQE7nQDhAyxFA/PDbew0lEsBdLH4oXPoiQAEa5TVOPCLAtGbzl6iHIsCLnG5enDkLQKJk2oVTnQjAapAM+HTbDkBADQrdS6wZwCKrp7A6LiJA8Vebe1UBEECsLHRBlEMdwLarnRo8mA9AKgcu6hMeIECi6Z+zarMMQFZVFcrv1SLAvOa+RcvFE0CZD513sdAiQD0a6dLpJCNAAql8PDLNIcBiMlHkG1MOwIZDwERWTiBAz2M7LLF1IsDRp1qwamkRQCV25VbFjh7AdtNLdoDoIEBkKvJjT64lwLt2M7irfw9AcetzPkeSD8BfIaPxV90QQHfUQ6DIXA1A7yHqnNTMEEDNrS7PWIoTQByt9X+0jBBAh6yj4khqDkAR3w4MbEIhQMsb1ASuBR1AbsSYFp9PEUD4YPhfXQcewHNCfdG7kyBAR6FB201vIEDBbgHxGh0jQBNemAwUkSBAx2aRuQKADUCJ4NruWQUewKLaaiNljRRAYibTXD4WEUC7Lg2nnPMkwBYEr9Y8ehfAKKwxgNpdJUAU7W8HF1MMQIpRyLjcxh9A64ID77lgDEB8IaY7TC8QQGTHyIJWDR/AwuXkLxrnE0CKavlq4J0SQDQG1HXEZxFALIKYwtXKD0AAXalx2iwiQIgPbd8syPu/h60xDAx/IcABJMGjajcdQMtAT74LRBFAO9f89SkpEkBKtj0Bh6gkwG75VLv/vg/A3+HBrvH3GcAO93C96vkiQFpe7OwWTiDAbFo4gT/NC0BUtBzli6EfQKc97PpdKCDAVIYfCEysEUBhs1CSm6wgQOtzMEfrER7AFk7hlH70JkB/kSEc5iUhwGBTkTeKQiJAUsVumPDfIEDyUfXlD7MVwJjijRP+Eh9A5G1Ny3ZgEEAtDMMnzC8QQJS75bMROw9AhjTTqxFyG0AIaE+3yp8hQMhCasNWoxJAb1/uea7HIsB5nyVILMMbwOoBQovIoiFAHqcmRxaUH0DOzSNJc6YgQApi+8aPiCZAXPpFF0kvJcAO6q1z0mAjQHjhZsH6QhVAB7DqiCQzIMDaELNyhYwQwG+8G1qZ7xBAcsZ0v1xfJMBh+GTk/1AgQDDWaNFBqCFApsrfs8dICkBX/JAXCpckwOiGAn1KDyJAxA1wFM5pHUBTYj7dxr8QQAwSNmevxiHAX5w3zjDtEEAq+4fF6aAWwJQlBsM2VBvAc2Rx1QuHG8C5jZQDB0kjQEczQD8k4yHARwJzs+qgH8AaMlEyISYhwJXU3y6lrBPACko5863WEcC0FG4ySGgYwEJwJELtlRvANl/tyG7pDUBhhZEyt9EQQM4GEnxpKCVA9qObaaZFEUC4Pe0//GYeQJIWPWXDsQtA1wI2OXj/IMBMExCxrKYiQBkd/LIlvxjAnMeyrXH3IEAkhB5FtWAOQOBUlyyftCNAIEuxyf6cH8CVNAeLRj0gQNMsWR+SwBnA/XeecPlvFMCRXNgcod8OwG6+kqkIyg3AOKG5Kz5kI0BYDmdxKqUQQNI2MplX8B5AlSo3JZP2IUB1AsrQmkATQK83J4kXThRAGmx0OcxbJ8CYJL8x6HojQE5+dqWxciFAsM9Tr0oFIMCQ5rl3+C4lQJfrHocaBSNAX822fAOiIsAHkAfhBeUhwLS5qy8LyRFAHE/m9Z1DFcCRhSBJiZgDwL58yAQsQg5APvnKc71gFsDwmJ1UP0kSQEGXW+hmWBBAD74ihxwWDUBHldFhijckQCC+2DwzGxNA52IE18wIHMDgaDvox6wZwFEDwBEs8SJAW3sdCeOsDUB/yLtTpDYgQNrhng528iNA4sqZNHsPCMCA5wqXwJ8TQH60ShT5dxRA/hIRi8eMIkCcq//sUFQiQMq82ne5uCJAheTNKDTZEkD/FiG0WjYVwAlr+kZjnQzAGnqIjDdJD0APxQWiHvMLQHMZjmhraQvA5pOoLhpzJkAoFR5B2m8fwFcKV0UmsiJA2M+ENEah7D8/Fv79xuoiQPP9wKqFFyBAZTgwM0gMJcDkYtj7lAoUwEC8IDsiwCLA5A+Lc8dmIkA23P4aUQoTQMrrdd0oCBZAXoEsqW8mI0DCLkPp02gmQLzGwsIffiJANJYhOnVoIUBCAVDnKaYPwKYbsb+ViCFAJBBKcwqLJMAaihwmT7gQwBDp7WPOEiBAxJ5thPtZHMD8mrDn2uQGwFwC09S/jhFArHXUebgIEMD0z17iIVshwMrFQH6m5SFAvsgU+AqrIkA8wzBlKdwJQGGqrHHbNCRAizQehEw7IEAKL90KplcQQIXRlIY6dxbACKP16kDVFMAFopN0J8MkQI+RPpSNnRnAvqTzcojTH0CNwRvWEikQQE5SUTBS7RNANxBq+Ce+IkBYeK0Y15wdwLaw3fbSQhFAb3FLzO8XJEAHp2twCnchQPRwSMaGmQtACbTx++F0I0AkZZqDGfIIQCT0q53ohCHA/cxjNHNsIUDiKM53On4iQBmBs0dnhiJAFUjBiM49IkB8va8gYrsiwDzL+ZXFIA5AujOoqVfkEEAw9NxN1ugTQDxr4hQVhCJA6DX5fRQVIkCc/W6frbcPQLUHNUPGvxvAYCT6J3NQIECMg14+0eUTQKC/ES6uugbADNyDUGTVHUD3EF88+Q0RQGCA1l9Gi/q/4xccWI/HJ8Abt1+TXhkiQDINP2KvPx/A0YUpzIH+HUBDs0a8ChkQQJ4HRbbACg5AvnnLEE3dIMDXlqojkGkTwDD4zdVSjRLAFFXfEy4OGcB3CzN7huwQQCeZh+IUsBNApIQ9traVDUCGMlnDTDMfQEjC2GPP2x7ANh5gJwmiEMDw9RaQCBMOQHzFr3qt+xFA4EpeNV/ICEApD7y76bspQA4C9L0UehrA3kxbGnqIJUCJEthkoV8bwOdsGzHXryRAaKS5Rxj/HMCbuNd4I6ogQGzjj1TVnRzA0/XUnDhoD0D8HTsw/ZURQOTcLH8Z/yBA6kbLxpHMIUDBz81iZxkjwB74YWSMNh9AtTVj5DvIJUA8afoIBdAkQGuRmLBbOwzAfVz11M5NEsCDLlJ3WSISQA4tQqRedCNArA7UGqM8EECa1iz338IIQBZZ+s46hxRALwq9NXkmEUDJGKMDI0khQLOweMHLxhLAUvpJ4ewsDEAFSpxNU1ojQNnJHBJS2yjAaIq8UHmhD0BW+y4+1MYIQJotOQ+5xQ1AXBNZFudhH0C6p7q/M34gQGueJ3RqNR3A5CW49asdHsAsKGOIbugQQPkG1RDa7h3A0xzIrCp8EUBXg1ULElcNQLX+u9eztBBAMhQUJf1VEsAnYPTb/JwgQPxYhMpkTxDAKlCiJXobEsByPRql+eMKQEejN5dHAgvAHrGiH8ZcDUDBM872Go8LQE+dOMWLSQ/AQHTAd7TiGMDkukmxz0AhQJic2w6kryJAhTFlj7eTIUDKt6sxtKgawPlhho9SdCPAi3nNj1qMEUBnuE70Lv0NQBiP03l9jSHA+ygSPJ/2DUBKriTgGdARQLN32uAYiwvA1+0bnpBqEkCuoI4MfSYPQMObe3HIFyfAQegYdppUEUBSIE/oIjoTQGaedywgMCdAFIB2oHvAEUAn8soJtQ4jQPmH7LMEaSFA5YtyyQ3EJEB8Q9aNEoEjwFsROQp+yCBA4xZvrUhfCMA18u6N0nggQNW7olh4fSTAlXeiwTiwEUD8RJ/YYkMiQPDrglDHXQjAL0rjOFvmFsDYJbKqOlMXwGLhwrR4ohXAFJbxFMX5CcCVDa+GxKUSwAgCbuIY1BFAuRNAw3WUHMBNJEwLPfMeQIyLdzpv1CBAun6n2tTGIkB96aInrcckQNH7xg5LsQ5AQ5QUquMlEkC0Y1r6PUUiwGwO06bU/QnA3D4pp1mVEEBjTjfQotUYwNsdrRZK9x9AMHooivSsIMCKQIsMBVkiwG43D/IYHCJA+CkLLOXLCsA6TKtktOMNQBF+AhHp3hFA8xP4s6HEHcBhlIAO6xERQOv8huIA1CBAPYQA+7xwFECmLvKUyEUiQF6K2eSvMiFA7ADo5dowF8CHKh2UQroMQMhRK1qdPxfA0aTi4G8HIcDEecZ6gvcgQFXH3v6hKQdA1AcmoIXqJEB5RLqwgjMXwH7r0YH4PiRAyK3Z2DKeEsAqX6xpBxwewD25f7wy4SFAfud97q/sEsB8UtKfRgEdQBp90YkCixbATYvs1gPnDEA4fpyluA8RQAo/Iv7KIBBAY7i99gC0C0DyiKVa/5EjQLQbcHL8bxFAlECqc42XJ8Clj1EjmA0WwJQBdoio2iJACRFOP19eEUCa+82IuNQRQMi0i06DFwlA/2PHdMYO2L8a6tECzxAiwALRJt1EVCJApN0CpQwTF8ADHOIArikQQBYeEuB6ih9AHBC9qSsJD0Ciy+jME6cTQJJEslDAJxxAUyMUBWIrJ8ByH5GgGowZwDZDNrYoexLAEg2IgPs0DUDmTdYTbckRQMCTbGaEFiNABZMPWvNlIkCyiCWBlOEgQOY4CQhKBSVAPbv6XwO9IECuZMN/5tgkQGzp+I40LxFArQfMKIbvIkBR69iC36kawNdE7qu+IRFAI8ZvR283H8B64E+5CIYkwOUVuO/EiyLAxsmldEsIC0BE0MS0Z4keQGwAkIn6qBJAmHodYigWGsDjPNJTtuYiQC16hm3H0CJALAh97ewlCkCmsRPyLnQSQJgBoVoTnR3AaFPgveM5IUBFdB+iXRwhQN09uA0w0g5AgrDX+D66FcCaMkdt/2ghQLT2SfIuPx1AMjPN1nyzHMB8jCgcxDwXwPUtaVsbQCJAmWty5WIJI0AnLj9LMfIPQFP26hpIYgtA27PsukhZEUCcVLO52REQQIbfpy2JohXAksFfFqcyEkB1749BYTYhQHMo79kNWRBAd/eW2O1KD0Bflu1sUCkfQOwnaClG9SBALkiW8hJnJEAA6WXsw+UfQPb1Wy+XDA9A8vHGg5gvEUDPX14VcwMjQKBQA4aYQgxAMWeo+/u1IkCTkKxIL18QQEr7maNkgCPAujtcqpxFDEBo9+qa+i8GwO8TC6zFayNAvX3CnVLvIEAx2oXY5HkiQMOEl0E1bh5Aclzfgjy3HkBrWONx6y0mQMZihhSs0yJAbGvK4Y2CEcB5Sio+M1gOQCGbxS22wg5AKk2R0xSfIUB8Nv21h5IRQCPq11S7ABrA8GFUIA29DkAaiNGeik8XwIkOP3KFcyFASx4XHQAIEkBm+hCPESsKwBzjq9V+TBzA0XCFlZr8EEBBD7fh3FUMQBzM4/MBIxnAlcNdLp4xD0AYn/lx/ioRwFLTbaLmWiZAH1Y2MnrzH0A6WwjMWQ0UQNzoxfQYWBBA1h9Fd5sMFsCsQCfvGzMeQJjOJeSt+CJAE2Gv70acJkA4eiroEL4RQABUoTndGRfACp3dltWkEsBsHkZ3J38RQHpgnQMSgxbA6tRmgxMfEcCNh4jU+E4TQCvc7TsNQxtAfdHtZTttFEDzvFzzsbkgQAWsNcg1LBBA/4oF4bOgD0DR91BR924NQMqs6kMw1iJAHowP06mwEUCNi4bXGngVQCzSquFKGB/A5v8ijN66FEBSgpFyHakhQPFN69QvXiNA7sZY2shwH8CPSOz/jiUfQBP6hXkwIiNATMC9O1TwEUBk+hXN26gJQNi3wwxOe/e/JhwYz/W2EED0YWCSv8QSQOQ8IbZwjhJAYR6GaFXXEEA=",
          "dtype": "f8"
         },
         "z": {
          "bdata": "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",
          "dtype": "f8"
         }
        }
       ],
       "layout": {
        "scene": {
         "xaxis": {
          "title": {
           "text": "X"
          }
         },
         "yaxis": {
          "title": {
           "text": "Y"
          }
         },
         "zaxis": {
          "title": {
           "text": "Z"
          }
         }
        },
        "template": {
         "data": {
          "bar": [
           {
            "error_x": {
             "color": "#2a3f5f"
            },
            "error_y": {
             "color": "#2a3f5f"
            },
            "marker": {
             "line": {
              "color": "#E5ECF6",
              "width": 0.5
             },
             "pattern": {
              "fillmode": "overlay",
              "size": 10,
              "solidity": 0.2
             }
            },
            "type": "bar"
           }
          ],
          "barpolar": [
           {
            "marker": {
             "line": {
              "color": "#E5ECF6",
              "width": 0.5
             },
             "pattern": {
              "fillmode": "overlay",
              "size": 10,
              "solidity": 0.2
             }
            },
            "type": "barpolar"
           }
          ],
          "carpet": [
           {
            "aaxis": {
             "endlinecolor": "#2a3f5f",
             "gridcolor": "white",
             "linecolor": "white",
             "minorgridcolor": "white",
             "startlinecolor": "#2a3f5f"
            },
            "baxis": {
             "endlinecolor": "#2a3f5f",
             "gridcolor": "white",
             "linecolor": "white",
             "minorgridcolor": "white",
             "startlinecolor": "#2a3f5f"
            },
            "type": "carpet"
           }
          ],
          "choropleth": [
           {
            "colorbar": {
             "outlinewidth": 0,
             "ticks": ""
            },
            "type": "choropleth"
           }
          ],
          "contour": [
           {
            "colorbar": {
             "outlinewidth": 0,
             "ticks": ""
            },
            "colorscale": [
             [
              0,
              "#0d0887"
             ],
             [
              0.1111111111111111,
              "#46039f"
             ],
             [
              0.2222222222222222,
              "#7201a8"
             ],
             [
              0.3333333333333333,
              "#9c179e"
             ],
             [
              0.4444444444444444,
              "#bd3786"
             ],
             [
              0.5555555555555556,
              "#d8576b"
             ],
             [
              0.6666666666666666,
              "#ed7953"
             ],
             [
              0.7777777777777778,
              "#fb9f3a"
             ],
             [
              0.8888888888888888,
              "#fdca26"
             ],
             [
              1,
              "#f0f921"
             ]
            ],
            "type": "contour"
           }
          ],
          "contourcarpet": [
           {
            "colorbar": {
             "outlinewidth": 0,
             "ticks": ""
            },
            "type": "contourcarpet"
           }
          ],
          "heatmap": [
           {
            "colorbar": {
             "outlinewidth": 0,
             "ticks": ""
            },
            "colorscale": [
             [
              0,
              "#0d0887"
             ],
             [
              0.1111111111111111,
              "#46039f"
             ],
             [
              0.2222222222222222,
              "#7201a8"
             ],
             [
              0.3333333333333333,
              "#9c179e"
             ],
             [
              0.4444444444444444,
              "#bd3786"
             ],
             [
              0.5555555555555556,
              "#d8576b"
             ],
             [
              0.6666666666666666,
              "#ed7953"
             ],
             [
              0.7777777777777778,
              "#fb9f3a"
             ],
             [
              0.8888888888888888,
              "#fdca26"
             ],
             [
              1,
              "#f0f921"
             ]
            ],
            "type": "heatmap"
           }
          ],
          "histogram": [
           {
            "marker": {
             "pattern": {
              "fillmode": "overlay",
              "size": 10,
              "solidity": 0.2
             }
            },
            "type": "histogram"
           }
          ],
          "histogram2d": [
           {
            "colorbar": {
             "outlinewidth": 0,
             "ticks": ""
            },
            "colorscale": [
             [
              0,
              "#0d0887"
             ],
             [
              0.1111111111111111,
              "#46039f"
             ],
             [
              0.2222222222222222,
              "#7201a8"
             ],
             [
              0.3333333333333333,
              "#9c179e"
             ],
             [
              0.4444444444444444,
              "#bd3786"
             ],
             [
              0.5555555555555556,
              "#d8576b"
             ],
             [
              0.6666666666666666,
              "#ed7953"
             ],
             [
              0.7777777777777778,
              "#fb9f3a"
             ],
             [
              0.8888888888888888,
              "#fdca26"
             ],
             [
              1,
              "#f0f921"
             ]
            ],
            "type": "histogram2d"
           }
          ],
          "histogram2dcontour": [
           {
            "colorbar": {
             "outlinewidth": 0,
             "ticks": ""
            },
            "colorscale": [
             [
              0,
              "#0d0887"
             ],
             [
              0.1111111111111111,
              "#46039f"
             ],
             [
              0.2222222222222222,
              "#7201a8"
             ],
             [
              0.3333333333333333,
              "#9c179e"
             ],
             [
              0.4444444444444444,
              "#bd3786"
             ],
             [
              0.5555555555555556,
              "#d8576b"
             ],
             [
              0.6666666666666666,
              "#ed7953"
             ],
             [
              0.7777777777777778,
              "#fb9f3a"
             ],
             [
              0.8888888888888888,
              "#fdca26"
             ],
             [
              1,
              "#f0f921"
             ]
            ],
            "type": "histogram2dcontour"
           }
          ],
          "mesh3d": [
           {
            "colorbar": {
             "outlinewidth": 0,
             "ticks": ""
            },
            "type": "mesh3d"
           }
          ],
          "parcoords": [
           {
            "line": {
             "colorbar": {
              "outlinewidth": 0,
              "ticks": ""
             }
            },
            "type": "parcoords"
           }
          ],
          "pie": [
           {
            "automargin": true,
            "type": "pie"
           }
          ],
          "scatter": [
           {
            "fillpattern": {
             "fillmode": "overlay",
             "size": 10,
             "solidity": 0.2
            },
            "type": "scatter"
           }
          ],
          "scatter3d": [
           {
            "line": {
             "colorbar": {
              "outlinewidth": 0,
              "ticks": ""
             }
            },
            "marker": {
             "colorbar": {
              "outlinewidth": 0,
              "ticks": ""
             }
            },
            "type": "scatter3d"
           }
          ],
          "scattercarpet": [
           {
            "marker": {
             "colorbar": {
              "outlinewidth": 0,
              "ticks": ""
             }
            },
            "type": "scattercarpet"
           }
          ],
          "scattergeo": [
           {
            "marker": {
             "colorbar": {
              "outlinewidth": 0,
              "ticks": ""
             }
            },
            "type": "scattergeo"
           }
          ],
          "scattergl": [
           {
            "marker": {
             "colorbar": {
              "outlinewidth": 0,
              "ticks": ""
             }
            },
            "type": "scattergl"
           }
          ],
          "scattermap": [
           {
            "marker": {
             "colorbar": {
              "outlinewidth": 0,
              "ticks": ""
             }
            },
            "type": "scattermap"
           }
          ],
          "scattermapbox": [
           {
            "marker": {
             "colorbar": {
              "outlinewidth": 0,
              "ticks": ""
             }
            },
            "type": "scattermapbox"
           }
          ],
          "scatterpolar": [
           {
            "marker": {
             "colorbar": {
              "outlinewidth": 0,
              "ticks": ""
             }
            },
            "type": "scatterpolar"
           }
          ],
          "scatterpolargl": [
           {
            "marker": {
             "colorbar": {
              "outlinewidth": 0,
              "ticks": ""
             }
            },
            "type": "scatterpolargl"
           }
          ],
          "scatterternary": [
           {
            "marker": {
             "colorbar": {
              "outlinewidth": 0,
              "ticks": ""
             }
            },
            "type": "scatterternary"
           }
          ],
          "surface": [
           {
            "colorbar": {
             "outlinewidth": 0,
             "ticks": ""
            },
            "colorscale": [
             [
              0,
              "#0d0887"
             ],
             [
              0.1111111111111111,
              "#46039f"
             ],
             [
              0.2222222222222222,
              "#7201a8"
             ],
             [
              0.3333333333333333,
              "#9c179e"
             ],
             [
              0.4444444444444444,
              "#bd3786"
             ],
             [
              0.5555555555555556,
              "#d8576b"
             ],
             [
              0.6666666666666666,
              "#ed7953"
             ],
             [
              0.7777777777777778,
              "#fb9f3a"
             ],
             [
              0.8888888888888888,
              "#fdca26"
             ],
             [
              1,
              "#f0f921"
             ]
            ],
            "type": "surface"
           }
          ],
          "table": [
           {
            "cells": {
             "fill": {
              "color": "#EBF0F8"
             },
             "line": {
              "color": "white"
             }
            },
            "header": {
             "fill": {
              "color": "#C8D4E3"
             },
             "line": {
              "color": "white"
             }
            },
            "type": "table"
           }
          ]
         },
         "layout": {
          "annotationdefaults": {
           "arrowcolor": "#2a3f5f",
           "arrowhead": 0,
           "arrowwidth": 1
          },
          "autotypenumbers": "strict",
          "coloraxis": {
           "colorbar": {
            "outlinewidth": 0,
            "ticks": ""
           }
          },
          "colorscale": {
           "diverging": [
            [
             0,
             "#8e0152"
            ],
            [
             0.1,
             "#c51b7d"
            ],
            [
             0.2,
             "#de77ae"
            ],
            [
             0.3,
             "#f1b6da"
            ],
            [
             0.4,
             "#fde0ef"
            ],
            [
             0.5,
             "#f7f7f7"
            ],
            [
             0.6,
             "#e6f5d0"
            ],
            [
             0.7,
             "#b8e186"
            ],
            [
             0.8,
             "#7fbc41"
            ],
            [
             0.9,
             "#4d9221"
            ],
            [
             1,
             "#276419"
            ]
           ],
           "sequential": [
            [
             0,
             "#0d0887"
            ],
            [
             0.1111111111111111,
             "#46039f"
            ],
            [
             0.2222222222222222,
             "#7201a8"
            ],
            [
             0.3333333333333333,
             "#9c179e"
            ],
            [
             0.4444444444444444,
             "#bd3786"
            ],
            [
             0.5555555555555556,
             "#d8576b"
            ],
            [
             0.6666666666666666,
             "#ed7953"
            ],
            [
             0.7777777777777778,
             "#fb9f3a"
            ],
            [
             0.8888888888888888,
             "#fdca26"
            ],
            [
             1,
             "#f0f921"
            ]
           ],
           "sequentialminus": [
            [
             0,
             "#0d0887"
            ],
            [
             0.1111111111111111,
             "#46039f"
            ],
            [
             0.2222222222222222,
             "#7201a8"
            ],
            [
             0.3333333333333333,
             "#9c179e"
            ],
            [
             0.4444444444444444,
             "#bd3786"
            ],
            [
             0.5555555555555556,
             "#d8576b"
            ],
            [
             0.6666666666666666,
             "#ed7953"
            ],
            [
             0.7777777777777778,
             "#fb9f3a"
            ],
            [
             0.8888888888888888,
             "#fdca26"
            ],
            [
             1,
             "#f0f921"
            ]
           ]
          },
          "colorway": [
           "#636efa",
           "#EF553B",
           "#00cc96",
           "#ab63fa",
           "#FFA15A",
           "#19d3f3",
           "#FF6692",
           "#B6E880",
           "#FF97FF",
           "#FECB52"
          ],
          "font": {
           "color": "#2a3f5f"
          },
          "geo": {
           "bgcolor": "white",
           "lakecolor": "white",
           "landcolor": "#E5ECF6",
           "showlakes": true,
           "showland": true,
           "subunitcolor": "white"
          },
          "hoverlabel": {
           "align": "left"
          },
          "hovermode": "closest",
          "mapbox": {
           "style": "light"
          },
          "paper_bgcolor": "white",
          "plot_bgcolor": "#E5ECF6",
          "polar": {
           "angularaxis": {
            "gridcolor": "white",
            "linecolor": "white",
            "ticks": ""
           },
           "bgcolor": "#E5ECF6",
           "radialaxis": {
            "gridcolor": "white",
            "linecolor": "white",
            "ticks": ""
           }
          },
          "scene": {
           "xaxis": {
            "backgroundcolor": "#E5ECF6",
            "gridcolor": "white",
            "gridwidth": 2,
            "linecolor": "white",
            "showbackground": true,
            "ticks": "",
            "zerolinecolor": "white"
           },
           "yaxis": {
            "backgroundcolor": "#E5ECF6",
            "gridcolor": "white",
            "gridwidth": 2,
            "linecolor": "white",
            "showbackground": true,
            "ticks": "",
            "zerolinecolor": "white"
           },
           "zaxis": {
            "backgroundcolor": "#E5ECF6",
            "gridcolor": "white",
            "gridwidth": 2,
            "linecolor": "white",
            "showbackground": true,
            "ticks": "",
            "zerolinecolor": "white"
           }
          },
          "shapedefaults": {
           "line": {
            "color": "#2a3f5f"
           }
          },
          "ternary": {
           "aaxis": {
            "gridcolor": "white",
            "linecolor": "white",
            "ticks": ""
           },
           "baxis": {
            "gridcolor": "white",
            "linecolor": "white",
            "ticks": ""
           },
           "bgcolor": "#E5ECF6",
           "caxis": {
            "gridcolor": "white",
            "linecolor": "white",
            "ticks": ""
           }
          },
          "title": {
           "x": 0.05
          },
          "xaxis": {
           "automargin": true,
           "gridcolor": "white",
           "linecolor": "white",
           "ticks": "",
           "title": {
            "standoff": 15
           },
           "zerolinecolor": "white",
           "zerolinewidth": 2
          },
          "yaxis": {
           "automargin": true,
           "gridcolor": "white",
           "linecolor": "white",
           "ticks": "",
           "title": {
            "standoff": 15
           },
           "zerolinecolor": "white",
           "zerolinewidth": 2
          }
         }
        },
        "title": {
         "text": "3D Scatter Plot"
        }
       }
      }
     },
     "metadata": {},
     "output_type": "display_data"
    }
   ],
   "source": [
    "# Создание графика\n",
    "fig = go.Figure(data=[go.Scatter3d(\n",
    "    x=df_2[\"F0\"],\n",
    "    y=df_2[\"F1\"],\n",
    "    z=df_2[\"F2\"],\n",
    "    mode='markers',\n",
    "    marker=dict(\n",
    "        size=8,\n",
    "        color=df_2[\"LABEL\"],  # Цвет зависит от значения z\n",
    "        colorscale='Viridis',\n",
    "        opacity=0.8\n",
    "    )\n",
    ")])\n",
    "\n",
    "# Настройки макета\n",
    "fig.update_layout(\n",
    "    title='3D Scatter Plot',\n",
    "    scene=dict(\n",
    "        xaxis_title='X',\n",
    "        yaxis_title='Y',\n",
    "        zaxis_title='Z'\n",
    "    )\n",
    ")\n",
    "\n",
    "fig.show()"
   ]
  },
  {
   "cell_type": "code",
   "execution_count": 64,
   "id": "2423eb35",
   "metadata": {},
   "outputs": [
    {
     "data": {
      "application/vnd.plotly.v1+json": {
       "config": {
        "plotlyServerURL": "https://plot.ly"
       },
       "data": [
        {
         "marker": {
          "color": {
           "bdata": "AAIBAAIAAQABAgABAAAAAAAAAgABAgEAAQIAAgIBAQECAgICAAECAAECAQICAAICAgEAAgEBAAABAQEBAAACAAECAAEAAQAAAgIAAAECAQAAAAABAQAAAgEAAgEAAQACAgAAAgABAgEBAQABAQIAAQECAgECAQIBAQEAAQECAAECAQECAgECAQABAgEBAAEBAQEAAQABAgICAgIBAQIAAAEBAAEAAgICAQEBAAABAgIAAgICAQABAgACAAIAAQIBAgECAAIBAAIAAQECAAECAAICAgACAgAAAAEAAgEBAAIAAQICAgAAAgECAgIBAgABAQIAAAIAAQEBAgICAgEAAQEAAgECAAECAAIAAQICAgEAAgIBAAAAAQAAAAEAAAEAAQEAAgABAAAAAgEBAAABAgECAAAAAQECAgABAAACAgAAAgIBAAIAAQAAAAEAAgICAAIBAQIAAgEAAQIAAAECAAEBAQECAgABAAEBAQIAAQEBAAIBAgECAgICAgAAAgIBAgICAAIAAgABAgACAgEAAQECAAIAAQEAAAIAAAIBAgACAAEAAAAAAgEBAAACAQICAAIAAQACAgABAQIBAAABAQIAAQEBAAIBAAAAAAIBAQIAAQICAQABAQIBAgEAAgECAAIBAgAAAQEAAQIBAAECAQICAgICAgAAAgEAAAAAAgECAgEBAAIAAgIBAgICAgABAQACAgEBAQABAgABAgABAAEAAAEAAgICAAACAQEAAAAAAQACAQECAQAAAgEAAAIBAgEBAQABAQEBAQEBAgIAAgACAQABAAIAAQABAQEBAAIAAAICAQAAAQAAAQECAQECAQICAgACAQEAAgAAAQICAAAAAgEBAgIBAAEAAQAAAQEBAAICAAAAAAEAAQEAAQECAQEAAAIAAAIBAQABAAICAAECAAACAAIBAAAAAAECAgIAAAIBAAIBAAIBAQABAAICAQEBAQICAgABAQICAgABAAEAAQABAgIAAAEAAAABAQIAAgICAgABAgABAgICAAABAQIBAgICAQABAQIBAgIBAQAAAAEBAgIBAgIBAgIBAgIAAgAAAAEAAQABAgABAQEBAQECAQAAAAACAgEBAgEAAQEAAQICAQIAAgAAAQIBAQACAAEAAQEAAQABAgICAgACAQEAAgICAQEAAQIAAgIAAQEBAgIAAAAAAAACAAECAQEBAgACAQAAAgIBAAACAQAAAQEAAAICAgIBAgACAgAAAAACAgACAAIBAgEAAAAAAAAAAQICAAIBAgEAAgEBAgIBAgEAAAICAQAAAAIBAQIBAQIAAgACAgIAAgIBAgAAAQAAAgIBAgICAg==",
           "dtype": "i1"
          },
          "colorscale": [
           [
            0,
            "#440154"
           ],
           [
            0.1111111111111111,
            "#482878"
           ],
           [
            0.2222222222222222,
            "#3e4989"
           ],
           [
            0.3333333333333333,
            "#31688e"
           ],
           [
            0.4444444444444444,
            "#26828e"
           ],
           [
            0.5555555555555556,
            "#1f9e89"
           ],
           [
            0.6666666666666666,
            "#35b779"
           ],
           [
            0.7777777777777778,
            "#6ece58"
           ],
           [
            0.8888888888888888,
            "#b5de2b"
           ],
           [
            1,
            "#fde725"
           ]
          ],
          "opacity": 0.8,
          "size": 8
         },
         "mode": "markers",
         "type": "scatter3d",
         "x": {
          "bdata": "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",
          "dtype": "f8"
         },
         "y": {
          "bdata": "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",
          "dtype": "f8"
         },
         "z": {
          "bdata": "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",
          "dtype": "f8"
         }
        }
       ],
       "layout": {
        "scene": {
         "xaxis": {
          "title": {
           "text": "X"
          }
         },
         "yaxis": {
          "title": {
           "text": "Y"
          }
         },
         "zaxis": {
          "title": {
           "text": "Z"
          }
         }
        },
        "template": {
         "data": {
          "bar": [
           {
            "error_x": {
             "color": "#2a3f5f"
            },
            "error_y": {
             "color": "#2a3f5f"
            },
            "marker": {
             "line": {
              "color": "#E5ECF6",
              "width": 0.5
             },
             "pattern": {
              "fillmode": "overlay",
              "size": 10,
              "solidity": 0.2
             }
            },
            "type": "bar"
           }
          ],
          "barpolar": [
           {
            "marker": {
             "line": {
              "color": "#E5ECF6",
              "width": 0.5
             },
             "pattern": {
              "fillmode": "overlay",
              "size": 10,
              "solidity": 0.2
             }
            },
            "type": "barpolar"
           }
          ],
          "carpet": [
           {
            "aaxis": {
             "endlinecolor": "#2a3f5f",
             "gridcolor": "white",
             "linecolor": "white",
             "minorgridcolor": "white",
             "startlinecolor": "#2a3f5f"
            },
            "baxis": {
             "endlinecolor": "#2a3f5f",
             "gridcolor": "white",
             "linecolor": "white",
             "minorgridcolor": "white",
             "startlinecolor": "#2a3f5f"
            },
            "type": "carpet"
           }
          ],
          "choropleth": [
           {
            "colorbar": {
             "outlinewidth": 0,
             "ticks": ""
            },
            "type": "choropleth"
           }
          ],
          "contour": [
           {
            "colorbar": {
             "outlinewidth": 0,
             "ticks": ""
            },
            "colorscale": [
             [
              0,
              "#0d0887"
             ],
             [
              0.1111111111111111,
              "#46039f"
             ],
             [
              0.2222222222222222,
              "#7201a8"
             ],
             [
              0.3333333333333333,
              "#9c179e"
             ],
             [
              0.4444444444444444,
              "#bd3786"
             ],
             [
              0.5555555555555556,
              "#d8576b"
             ],
             [
              0.6666666666666666,
              "#ed7953"
             ],
             [
              0.7777777777777778,
              "#fb9f3a"
             ],
             [
              0.8888888888888888,
              "#fdca26"
             ],
             [
              1,
              "#f0f921"
             ]
            ],
            "type": "contour"
           }
          ],
          "contourcarpet": [
           {
            "colorbar": {
             "outlinewidth": 0,
             "ticks": ""
            },
            "type": "contourcarpet"
           }
          ],
          "heatmap": [
           {
            "colorbar": {
             "outlinewidth": 0,
             "ticks": ""
            },
            "colorscale": [
             [
              0,
              "#0d0887"
             ],
             [
              0.1111111111111111,
              "#46039f"
             ],
             [
              0.2222222222222222,
              "#7201a8"
             ],
             [
              0.3333333333333333,
              "#9c179e"
             ],
             [
              0.4444444444444444,
              "#bd3786"
             ],
             [
              0.5555555555555556,
              "#d8576b"
             ],
             [
              0.6666666666666666,
              "#ed7953"
             ],
             [
              0.7777777777777778,
              "#fb9f3a"
             ],
             [
              0.8888888888888888,
              "#fdca26"
             ],
             [
              1,
              "#f0f921"
             ]
            ],
            "type": "heatmap"
           }
          ],
          "histogram": [
           {
            "marker": {
             "pattern": {
              "fillmode": "overlay",
              "size": 10,
              "solidity": 0.2
             }
            },
            "type": "histogram"
           }
          ],
          "histogram2d": [
           {
            "colorbar": {
             "outlinewidth": 0,
             "ticks": ""
            },
            "colorscale": [
             [
              0,
              "#0d0887"
             ],
             [
              0.1111111111111111,
              "#46039f"
             ],
             [
              0.2222222222222222,
              "#7201a8"
             ],
             [
              0.3333333333333333,
              "#9c179e"
             ],
             [
              0.4444444444444444,
              "#bd3786"
             ],
             [
              0.5555555555555556,
              "#d8576b"
             ],
             [
              0.6666666666666666,
              "#ed7953"
             ],
             [
              0.7777777777777778,
              "#fb9f3a"
             ],
             [
              0.8888888888888888,
              "#fdca26"
             ],
             [
              1,
              "#f0f921"
             ]
            ],
            "type": "histogram2d"
           }
          ],
          "histogram2dcontour": [
           {
            "colorbar": {
             "outlinewidth": 0,
             "ticks": ""
            },
            "colorscale": [
             [
              0,
              "#0d0887"
             ],
             [
              0.1111111111111111,
              "#46039f"
             ],
             [
              0.2222222222222222,
              "#7201a8"
             ],
             [
              0.3333333333333333,
              "#9c179e"
             ],
             [
              0.4444444444444444,
              "#bd3786"
             ],
             [
              0.5555555555555556,
              "#d8576b"
             ],
             [
              0.6666666666666666,
              "#ed7953"
             ],
             [
              0.7777777777777778,
              "#fb9f3a"
             ],
             [
              0.8888888888888888,
              "#fdca26"
             ],
             [
              1,
              "#f0f921"
             ]
            ],
            "type": "histogram2dcontour"
           }
          ],
          "mesh3d": [
           {
            "colorbar": {
             "outlinewidth": 0,
             "ticks": ""
            },
            "type": "mesh3d"
           }
          ],
          "parcoords": [
           {
            "line": {
             "colorbar": {
              "outlinewidth": 0,
              "ticks": ""
             }
            },
            "type": "parcoords"
           }
          ],
          "pie": [
           {
            "automargin": true,
            "type": "pie"
           }
          ],
          "scatter": [
           {
            "fillpattern": {
             "fillmode": "overlay",
             "size": 10,
             "solidity": 0.2
            },
            "type": "scatter"
           }
          ],
          "scatter3d": [
           {
            "line": {
             "colorbar": {
              "outlinewidth": 0,
              "ticks": ""
             }
            },
            "marker": {
             "colorbar": {
              "outlinewidth": 0,
              "ticks": ""
             }
            },
            "type": "scatter3d"
           }
          ],
          "scattercarpet": [
           {
            "marker": {
             "colorbar": {
              "outlinewidth": 0,
              "ticks": ""
             }
            },
            "type": "scattercarpet"
           }
          ],
          "scattergeo": [
           {
            "marker": {
             "colorbar": {
              "outlinewidth": 0,
              "ticks": ""
             }
            },
            "type": "scattergeo"
           }
          ],
          "scattergl": [
           {
            "marker": {
             "colorbar": {
              "outlinewidth": 0,
              "ticks": ""
             }
            },
            "type": "scattergl"
           }
          ],
          "scattermap": [
           {
            "marker": {
             "colorbar": {
              "outlinewidth": 0,
              "ticks": ""
             }
            },
            "type": "scattermap"
           }
          ],
          "scattermapbox": [
           {
            "marker": {
             "colorbar": {
              "outlinewidth": 0,
              "ticks": ""
             }
            },
            "type": "scattermapbox"
           }
          ],
          "scatterpolar": [
           {
            "marker": {
             "colorbar": {
              "outlinewidth": 0,
              "ticks": ""
             }
            },
            "type": "scatterpolar"
           }
          ],
          "scatterpolargl": [
           {
            "marker": {
             "colorbar": {
              "outlinewidth": 0,
              "ticks": ""
             }
            },
            "type": "scatterpolargl"
           }
          ],
          "scatterternary": [
           {
            "marker": {
             "colorbar": {
              "outlinewidth": 0,
              "ticks": ""
             }
            },
            "type": "scatterternary"
           }
          ],
          "surface": [
           {
            "colorbar": {
             "outlinewidth": 0,
             "ticks": ""
            },
            "colorscale": [
             [
              0,
              "#0d0887"
             ],
             [
              0.1111111111111111,
              "#46039f"
             ],
             [
              0.2222222222222222,
              "#7201a8"
             ],
             [
              0.3333333333333333,
              "#9c179e"
             ],
             [
              0.4444444444444444,
              "#bd3786"
             ],
             [
              0.5555555555555556,
              "#d8576b"
             ],
             [
              0.6666666666666666,
              "#ed7953"
             ],
             [
              0.7777777777777778,
              "#fb9f3a"
             ],
             [
              0.8888888888888888,
              "#fdca26"
             ],
             [
              1,
              "#f0f921"
             ]
            ],
            "type": "surface"
           }
          ],
          "table": [
           {
            "cells": {
             "fill": {
              "color": "#EBF0F8"
             },
             "line": {
              "color": "white"
             }
            },
            "header": {
             "fill": {
              "color": "#C8D4E3"
             },
             "line": {
              "color": "white"
             }
            },
            "type": "table"
           }
          ]
         },
         "layout": {
          "annotationdefaults": {
           "arrowcolor": "#2a3f5f",
           "arrowhead": 0,
           "arrowwidth": 1
          },
          "autotypenumbers": "strict",
          "coloraxis": {
           "colorbar": {
            "outlinewidth": 0,
            "ticks": ""
           }
          },
          "colorscale": {
           "diverging": [
            [
             0,
             "#8e0152"
            ],
            [
             0.1,
             "#c51b7d"
            ],
            [
             0.2,
             "#de77ae"
            ],
            [
             0.3,
             "#f1b6da"
            ],
            [
             0.4,
             "#fde0ef"
            ],
            [
             0.5,
             "#f7f7f7"
            ],
            [
             0.6,
             "#e6f5d0"
            ],
            [
             0.7,
             "#b8e186"
            ],
            [
             0.8,
             "#7fbc41"
            ],
            [
             0.9,
             "#4d9221"
            ],
            [
             1,
             "#276419"
            ]
           ],
           "sequential": [
            [
             0,
             "#0d0887"
            ],
            [
             0.1111111111111111,
             "#46039f"
            ],
            [
             0.2222222222222222,
             "#7201a8"
            ],
            [
             0.3333333333333333,
             "#9c179e"
            ],
            [
             0.4444444444444444,
             "#bd3786"
            ],
            [
             0.5555555555555556,
             "#d8576b"
            ],
            [
             0.6666666666666666,
             "#ed7953"
            ],
            [
             0.7777777777777778,
             "#fb9f3a"
            ],
            [
             0.8888888888888888,
             "#fdca26"
            ],
            [
             1,
             "#f0f921"
            ]
           ],
           "sequentialminus": [
            [
             0,
             "#0d0887"
            ],
            [
             0.1111111111111111,
             "#46039f"
            ],
            [
             0.2222222222222222,
             "#7201a8"
            ],
            [
             0.3333333333333333,
             "#9c179e"
            ],
            [
             0.4444444444444444,
             "#bd3786"
            ],
            [
             0.5555555555555556,
             "#d8576b"
            ],
            [
             0.6666666666666666,
             "#ed7953"
            ],
            [
             0.7777777777777778,
             "#fb9f3a"
            ],
            [
             0.8888888888888888,
             "#fdca26"
            ],
            [
             1,
             "#f0f921"
            ]
           ]
          },
          "colorway": [
           "#636efa",
           "#EF553B",
           "#00cc96",
           "#ab63fa",
           "#FFA15A",
           "#19d3f3",
           "#FF6692",
           "#B6E880",
           "#FF97FF",
           "#FECB52"
          ],
          "font": {
           "color": "#2a3f5f"
          },
          "geo": {
           "bgcolor": "white",
           "lakecolor": "white",
           "landcolor": "#E5ECF6",
           "showlakes": true,
           "showland": true,
           "subunitcolor": "white"
          },
          "hoverlabel": {
           "align": "left"
          },
          "hovermode": "closest",
          "mapbox": {
           "style": "light"
          },
          "paper_bgcolor": "white",
          "plot_bgcolor": "#E5ECF6",
          "polar": {
           "angularaxis": {
            "gridcolor": "white",
            "linecolor": "white",
            "ticks": ""
           },
           "bgcolor": "#E5ECF6",
           "radialaxis": {
            "gridcolor": "white",
            "linecolor": "white",
            "ticks": ""
           }
          },
          "scene": {
           "xaxis": {
            "backgroundcolor": "#E5ECF6",
            "gridcolor": "white",
            "gridwidth": 2,
            "linecolor": "white",
            "showbackground": true,
            "ticks": "",
            "zerolinecolor": "white"
           },
           "yaxis": {
            "backgroundcolor": "#E5ECF6",
            "gridcolor": "white",
            "gridwidth": 2,
            "linecolor": "white",
            "showbackground": true,
            "ticks": "",
            "zerolinecolor": "white"
           },
           "zaxis": {
            "backgroundcolor": "#E5ECF6",
            "gridcolor": "white",
            "gridwidth": 2,
            "linecolor": "white",
            "showbackground": true,
            "ticks": "",
            "zerolinecolor": "white"
           }
          },
          "shapedefaults": {
           "line": {
            "color": "#2a3f5f"
           }
          },
          "ternary": {
           "aaxis": {
            "gridcolor": "white",
            "linecolor": "white",
            "ticks": ""
           },
           "baxis": {
            "gridcolor": "white",
            "linecolor": "white",
            "ticks": ""
           },
           "bgcolor": "#E5ECF6",
           "caxis": {
            "gridcolor": "white",
            "linecolor": "white",
            "ticks": ""
           }
          },
          "title": {
           "x": 0.05
          },
          "xaxis": {
           "automargin": true,
           "gridcolor": "white",
           "linecolor": "white",
           "ticks": "",
           "title": {
            "standoff": 15
           },
           "zerolinecolor": "white",
           "zerolinewidth": 2
          },
          "yaxis": {
           "automargin": true,
           "gridcolor": "white",
           "linecolor": "white",
           "ticks": "",
           "title": {
            "standoff": 15
           },
           "zerolinecolor": "white",
           "zerolinewidth": 2
          }
         }
        },
        "title": {
         "text": "3D Scatter Plot"
        }
       }
      }
     },
     "metadata": {},
     "output_type": "display_data"
    }
   ],
   "source": [
    "# Создание графика\n",
    "fig = go.Figure(data=[go.Scatter3d(\n",
    "    x=df_3[\"F0\"],\n",
    "    y=df_3[\"F1\"],\n",
    "    z=df_3[\"F2\"],\n",
    "    mode='markers',\n",
    "    marker=dict(\n",
    "        size=8,\n",
    "        color=df_3[\"LABEL\"],  # Цвет зависит от значения z\n",
    "        colorscale='Viridis',\n",
    "        opacity=0.8\n",
    "    )\n",
    ")])\n",
    "\n",
    "# Настройки макета\n",
    "fig.update_layout(\n",
    "    title='3D Scatter Plot',\n",
    "    scene=dict(\n",
    "        xaxis_title='X',\n",
    "        yaxis_title='Y',\n",
    "        zaxis_title='Z'\n",
    "    )\n",
    ")\n",
    "\n",
    "fig.show()"
   ]
  },
  {
   "cell_type": "markdown",
   "id": "c380102d",
   "metadata": {},
   "source": [
    "---\n",
    "Задание 2.\n",
    "\n",
    "Проведите кластеризацию данных из dataset1 методом k-средних с количеством кластеров равным 3 (для однозначного результата используйте random_state=42). Получите центры кластеров. Введите значение 4-й координаты центра для последнего кластера в поле ответов, округлив до 3-го знака после запятой. В качестве разделителя дробной и целой части используйте символ точки «.»."
   ]
  },
  {
   "cell_type": "code",
   "execution_count": 29,
   "id": "fb695efa",
   "metadata": {},
   "outputs": [],
   "source": [
    "from sklearn.cluster import KMeans"
   ]
  },
  {
   "cell_type": "code",
   "execution_count": 30,
   "id": "5cdda618",
   "metadata": {},
   "outputs": [],
   "source": [
    "X = df_1.drop(columns=['LABEL'])    \n",
    "true_labels = df_1['LABEL']         "
   ]
  },
  {
   "cell_type": "code",
   "execution_count": 31,
   "id": "6e9d46ba",
   "metadata": {},
   "outputs": [
    {
     "data": {
      "text/plain": [
       "array([1, 0, 2, 1, 0, 1, 2, 1, 2, 0, 1, 2, 1, 1, 1, 1, 1, 1, 0, 1, 2, 0,\n",
       "       2, 1, 2, 0, 1, 0, 0, 2, 2, 2, 0, 0, 0, 0, 1, 2, 0, 1, 2, 0, 2, 0,\n",
       "       0, 1, 0, 0, 0, 2, 1, 0, 2, 2, 1, 1, 2, 2, 2, 2, 1, 1, 0, 1, 2, 0,\n",
       "       1, 2, 1, 2, 1, 1, 0, 0, 1, 1, 2, 0, 2, 1, 1, 1, 1, 2, 2, 1, 1, 0,\n",
       "       2, 1, 0, 2, 1, 2, 1, 0, 0, 1, 1, 0, 1, 2, 0, 2, 2, 2, 1, 2, 2, 0,\n",
       "       1, 2, 2, 0, 0, 2, 0, 2, 0, 2, 2, 2, 1, 2, 2, 0, 1, 2, 0, 2, 2, 0,\n",
       "       0, 2, 0, 2, 1, 2, 0, 2, 2, 1, 2, 2, 2, 2, 1, 2, 1, 2, 0, 0, 0, 0,\n",
       "       0, 2, 2, 0, 1, 1, 2, 2, 1, 2, 1, 0, 0, 0, 2, 2, 2, 1, 1, 2, 0, 0,\n",
       "       1, 0, 0, 0, 2, 1, 2, 0, 1, 0, 1, 0, 1, 2, 0, 2, 0, 2, 0, 1, 0, 2,\n",
       "       1, 0, 1, 2, 2, 0, 1, 2, 0, 1, 0, 0, 0, 1, 0, 0, 1, 1, 1, 2, 1, 0,\n",
       "       2, 2, 1, 0, 1, 2, 0, 0, 0, 1, 1, 0, 2, 0, 0, 0, 2, 0, 1, 2, 2, 0,\n",
       "       1, 1, 0, 1, 2, 2, 2, 0, 0, 0, 0, 2, 1, 2, 2, 1, 0, 2, 0, 1, 2, 0,\n",
       "       1, 0, 1, 2, 0, 0, 0, 2, 1, 0, 0, 2, 1, 1, 1, 2, 1, 1, 1, 2, 1, 1,\n",
       "       2, 1, 2, 2, 1, 0, 1, 2, 1, 1, 1, 0, 2, 2, 1, 1, 2, 0, 2, 0, 1, 1,\n",
       "       1, 2, 2, 0, 0, 1, 2, 1, 1, 0, 0, 1, 1, 0, 0, 2, 1, 0, 1, 2, 1, 1,\n",
       "       1, 2, 1, 0, 0, 0, 1, 0, 2, 2, 0, 1, 0, 2, 1, 2, 0, 1, 1, 2, 0, 1,\n",
       "       2, 2, 2, 2, 0, 0, 1, 2, 1, 2, 2, 2, 0, 1, 2, 2, 2, 1, 0, 2, 0, 2,\n",
       "       0, 0, 0, 0, 0, 1, 1, 0, 0, 2, 0, 0, 0, 1, 0, 1, 0, 1, 2, 0, 1, 0,\n",
       "       0, 2, 1, 2, 2, 0, 1, 0, 1, 2, 2, 1, 1, 0, 1, 1, 0, 2, 0, 1, 0, 1,\n",
       "       2, 1, 1, 1, 1, 0, 2, 2, 1, 1, 0, 2, 0, 0, 1, 0, 1, 2, 1, 0, 0, 1,\n",
       "       2, 2, 0, 2, 1, 1, 2, 2, 0, 1, 2, 2, 2, 1, 0, 2, 1, 1, 1, 1, 0, 2,\n",
       "       2, 0, 1, 2, 0, 0, 2, 1, 2, 2, 0, 2, 0, 2, 1, 0, 2, 0, 1, 0, 2, 0,\n",
       "       1, 1, 2, 2, 1, 2, 0, 2, 1, 2, 0, 2, 0, 0, 0, 0, 0, 0, 1, 1, 0, 2,\n",
       "       1, 1, 1, 1, 0, 2, 0, 0, 2, 2, 1, 0, 1, 0, 0, 2, 0, 0, 0, 0, 1, 2,\n",
       "       2, 1, 0, 0, 2, 2, 2, 1, 2, 0, 1, 2, 0, 1, 2, 1, 2, 1, 1, 2, 1, 0,\n",
       "       0, 0, 1, 1, 0, 2, 2, 1, 1, 1, 1, 2, 1, 0, 2, 2, 0, 2, 1, 1, 0, 2,\n",
       "       1, 1, 0, 2, 0, 2, 2, 2, 1, 2, 2, 2, 2, 2, 2, 2, 0, 0, 1, 0, 1, 0,\n",
       "       2, 1, 2, 1, 0, 1, 2, 1, 2, 2, 2, 2, 1, 0, 1, 1, 0, 0, 2, 1, 1, 2,\n",
       "       1, 1, 2, 2, 0, 2, 2, 0, 2, 0, 0, 0, 1, 0, 2, 2, 1, 0, 1, 1, 2, 0,\n",
       "       0, 1, 1, 1, 0, 2, 2, 0, 0, 2, 1, 2, 1, 2, 1, 1, 2, 2, 2, 1, 0, 0,\n",
       "       1, 1, 1, 1, 2, 1, 2, 2, 1, 2, 2, 0, 2, 2, 1, 1, 0, 1, 1, 0, 2, 2,\n",
       "       1, 2, 1, 0, 0, 1, 2, 0, 1, 1, 0, 1, 0, 2, 1, 1, 1, 1, 2, 0, 0, 0,\n",
       "       1, 1, 0, 2, 1, 0, 2, 1, 0, 2, 2, 1, 2, 1, 0, 0, 2, 2, 2, 2, 0, 0,\n",
       "       0, 1, 2, 2, 0, 0, 0, 1, 2, 1, 2, 1, 2, 1, 2, 0, 0, 1, 1, 2, 1, 1,\n",
       "       1, 2, 2, 0, 1, 0, 0, 0, 0, 1, 2, 0, 1, 2, 0, 0, 0, 1, 1, 2, 2, 0,\n",
       "       2, 0, 0, 0, 2, 1, 2, 2, 0, 2, 0, 0, 2, 2, 1, 1, 1, 2, 2, 0, 0, 2,\n",
       "       0, 0, 2, 0, 0, 2, 0, 0, 1, 0, 1, 1, 1, 2, 1, 2, 1, 2, 0, 1, 2, 2,\n",
       "       2, 2, 2, 2, 0, 2, 1, 1, 1, 1, 0, 0, 2, 2, 0, 2, 1, 2, 2, 1, 2, 0,\n",
       "       0, 2, 0, 1, 0, 1, 1, 2, 0, 2, 2, 1, 0, 1, 2, 1, 2, 2, 1, 2, 1, 2,\n",
       "       0, 0, 0, 0, 1, 0, 2, 2, 1, 0, 0, 0, 2, 2, 1, 2, 0, 1, 0, 0, 1, 2,\n",
       "       2, 2, 0, 0, 1, 1, 1, 1, 1, 1, 0, 1, 2, 0, 2, 2, 2, 0, 1, 0, 2, 1,\n",
       "       1, 0, 0, 2, 1, 1, 0, 2, 1, 1, 2, 2, 1, 1, 0, 0, 0, 0, 2, 0, 1, 0,\n",
       "       0, 1, 1, 1, 1, 0, 0, 1, 0, 1, 0, 2, 0, 2, 1, 1, 1, 1, 1, 1, 1, 2,\n",
       "       0, 0, 1, 0, 2, 0, 2, 1, 0, 2, 2, 0, 0, 2, 0, 2, 1, 1, 0, 0, 2, 1,\n",
       "       1, 1, 0, 2, 2, 0, 2, 2, 0, 1, 0, 1, 0, 0, 0, 1, 0, 0, 2, 0, 1, 1,\n",
       "       2, 1, 1, 0, 0, 2, 0, 0, 0, 0], dtype=int32)"
      ]
     },
     "execution_count": 31,
     "metadata": {},
     "output_type": "execute_result"
    }
   ],
   "source": [
    "kmeans_d1 = KMeans(n_clusters=3, random_state=42)\n",
    "kmeans_d1.fit_predict(X)\n"
   ]
  },
  {
   "cell_type": "code",
   "execution_count": 32,
   "id": "c458bd26",
   "metadata": {},
   "outputs": [
    {
     "data": {
      "text/plain": [
       "7.315"
      ]
     },
     "execution_count": 32,
     "metadata": {},
     "output_type": "execute_result"
    }
   ],
   "source": [
    "kmeans_d1.cluster_centers_[-1][3].round(3)"
   ]
  },
  {
   "cell_type": "markdown",
   "id": "d6783218",
   "metadata": {},
   "source": [
    "---\n",
    "Задание 3.\n",
    "\n",
    "Произведите процедуру кластеризации данных из dataset2 двумя способами. Первый способ – разбиение данных на 2 кластера с помощью метода k-средних (для однозначного результата используйте random_state=42). Второй способ – разбиение на 2 кластера с помощью иерархического метода полной связи (complete-linkage clustering) и критерия maxclust для формирования кластеров. Выберете верные утверждения. Обратите внимание, что обозначения cluster_0, cluster_1, cluster_2 соответствуют нумерации ожидаемых кластеров, которые указаны в колонке ‘LABEL’.\n",
    "\n"
   ]
  },
  {
   "cell_type": "code",
   "execution_count": 36,
   "id": "5c21ce75",
   "metadata": {},
   "outputs": [],
   "source": [
    "from sklearn.cluster import AgglomerativeClustering\n",
    "from scipy.cluster.hierarchy import linkage, fcluster"
   ]
  },
  {
   "cell_type": "code",
   "execution_count": 37,
   "id": "0010725b",
   "metadata": {},
   "outputs": [],
   "source": [
    "X = df_2.drop(columns=['LABEL'])    \n",
    "true_labels = df_2['LABEL']         "
   ]
  },
  {
   "cell_type": "code",
   "execution_count": 38,
   "id": "1d2ccce6",
   "metadata": {},
   "outputs": [],
   "source": [
    "kmeans = KMeans(n_clusters=2, random_state=42)\n",
    "kmeans_labels = kmeans.fit_predict(X)"
   ]
  },
  {
   "cell_type": "code",
   "execution_count": 39,
   "id": "0f49a081",
   "metadata": {},
   "outputs": [],
   "source": [
    "agg = AgglomerativeClustering(n_clusters=2, linkage='complete')\n",
    "agg_labels = agg.fit_predict(X)"
   ]
  },
  {
   "cell_type": "code",
   "execution_count": 49,
   "id": "f6356fc7",
   "metadata": {},
   "outputs": [
    {
     "data": {
      "application/vnd.plotly.v1+json": {
       "config": {
        "plotlyServerURL": "https://plot.ly"
       },
       "data": [
        {
         "marker": {
          "color": {
           "bdata": "AQAAAAAAAAAAAAAAAQAAAAAAAAABAAAAAAAAAAEAAAAAAAAAAAAAAAEAAAAAAAAAAQAAAAEAAAABAAAAAQAAAAEAAAABAAAAAAAAAAEAAAAAAAAAAAAAAAAAAAABAAAAAAAAAAAAAAABAAAAAAAAAAAAAAAAAAAAAAAAAAAAAAAAAAAAAAAAAAAAAAAAAAAAAQAAAAAAAAAAAAAAAQAAAAAAAAAAAAAAAAAAAAAAAAAAAAAAAQAAAAAAAAAAAAAAAAAAAAAAAAABAAAAAAAAAAAAAAAAAAAAAQAAAAEAAAAAAAAAAAAAAAAAAAAAAAAAAQAAAAEAAAAAAAAAAQAAAAAAAAAAAAAAAQAAAAAAAAABAAAAAAAAAAEAAAABAAAAAAAAAAAAAAABAAAAAQAAAAAAAAAAAAAAAAAAAAEAAAABAAAAAQAAAAEAAAAAAAAAAAAAAAEAAAABAAAAAAAAAAAAAAABAAAAAAAAAAAAAAABAAAAAAAAAAEAAAAAAAAAAAAAAAEAAAABAAAAAAAAAAEAAAAAAAAAAAAAAAAAAAAAAAAAAAAAAAEAAAAAAAAAAAAAAAAAAAABAAAAAAAAAAAAAAAAAAAAAAAAAAAAAAAAAAAAAAAAAAAAAAAAAAAAAAAAAAAAAAABAAAAAAAAAAAAAAAAAAAAAQAAAAAAAAAAAAAAAAAAAAAAAAAAAAAAAAAAAAAAAAAAAAAAAAAAAAEAAAAAAAAAAAAAAAAAAAAAAAAAAQAAAAAAAAAAAAAAAAAAAAAAAAABAAAAAAAAAAEAAAAAAAAAAAAAAAAAAAAAAAAAAAAAAAAAAAAAAAAAAAAAAAAAAAABAAAAAQAAAAAAAAAAAAAAAQAAAAAAAAABAAAAAAAAAAAAAAAAAAAAAAAAAAAAAAAAAAAAAQAAAAEAAAAAAAAAAAAAAAAAAAABAAAAAAAAAAAAAAAAAAAAAAAAAAEAAAAAAAAAAAAAAAEAAAAAAAAAAQAAAAAAAAABAAAAAAAAAAAAAAAAAAAAAAAAAAAAAAAAAAAAAQAAAAAAAAAAAAAAAQAAAAAAAAABAAAAAAAAAAAAAAAAAAAAAQAAAAAAAAAAAAAAAQAAAAAAAAAAAAAAAAAAAAEAAAAAAAAAAAAAAAEAAAABAAAAAQAAAAAAAAABAAAAAAAAAAAAAAAAAAAAAQAAAAAAAAABAAAAAAAAAAAAAAAAAAAAAAAAAAEAAAABAAAAAAAAAAAAAAAAAAAAAAAAAAAAAAAAAAAAAAAAAAEAAAAAAAAAAAAAAAAAAAABAAAAAQAAAAAAAAABAAAAAAAAAAAAAAAAAAAAAAAAAAAAAAAAAAAAAAAAAAAAAAABAAAAAAAAAAAAAAABAAAAAAAAAAAAAAAAAAAAAQAAAAAAAAAAAAAAAQAAAAAAAAABAAAAAAAAAAAAAAAAAAAAAAAAAAAAAAABAAAAAAAAAAAAAAAAAAAAAQAAAAEAAAABAAAAAAAAAAEAAAABAAAAAQAAAAAAAAABAAAAAQAAAAAAAAABAAAAAAAAAAAAAAABAAAAAAAAAAEAAAAAAAAAAQAAAAEAAAABAAAAAAAAAAAAAAAAAAAAAQAAAAEAAAAAAAAAAAAAAAAAAAAAAAAAAQAAAAEAAAABAAAAAAAAAAAAAAAAAAAAAAAAAAEAAAAAAAAAAQAAAAEAAAAAAAAAAAAAAAEAAAABAAAAAAAAAAAAAAAAAAAAAQAAAAAAAAABAAAAAAAAAAEAAAABAAAAAQAAAAAAAAABAAAAAAAAAAAAAAAAAAAAAQAAAAAAAAAAAAAAAAAAAAAAAAABAAAAAAAAAAAAAAABAAAAAAAAAAAAAAABAAAAAQAAAAAAAAAAAAAAAQAAAAAAAAAAAAAAAAAAAAAAAAAAAAAAAAAAAAEAAAAAAAAAAQAAAAAAAAAAAAAAAAAAAAAAAAABAAAAAAAAAAAAAAAAAAAAAQAAAAAAAAAAAAAAAAAAAAAAAAAAAAAAAAAAAAAAAAAAAAAAAAAAAAEAAAABAAAAAAAAAAAAAAAAAAAAAAAAAAAAAAAAAAAAAQAAAAAAAAABAAAAAAAAAAEAAAAAAAAAAAAAAAEAAAAAAAAAAAAAAAAAAAABAAAAAAAAAAAAAAAAAAAAAQAAAAAAAAABAAAAAAAAAAAAAAABAAAAAQAAAAAAAAABAAAAAQAAAAAAAAAAAAAAAAAAAAEAAAAAAAAAAQAAAAAAAAABAAAAAQAAAAEAAAABAAAAAAAAAAAAAAAAAAAAAQAAAAEAAAAAAAAAAAAAAAAAAAAAAAAAAQAAAAAAAAABAAAAAAAAAAEAAAAAAAAAAAAAAAEAAAAAAAAAAAAAAAAAAAAAAAAAAQAAAAEAAAAAAAAAAAAAAAAAAAABAAAAAAAAAAAAAAAAAAAAAQAAAAAAAAAAAAAAAQAAAAEAAAABAAAAAQAAAAAAAAAAAAAAAAAAAAAAAAABAAAAAAAAAAAAAAAAAAAAAAAAAAEAAAAAAAAAAAAAAAAAAAAAAAAAAAAAAAAAAAABAAAAAAAAAAAAAAAAAAAAAQAAAAAAAAAAAAAAAAAAAAEAAAABAAAAAAAAAAAAAAABAAAAAAAAAAAAAAAAAAAAAQAAAAAAAAAAAAAAAAAAAAAAAAAAAAAAAAAAAAAAAAAAAAAAAAAAAAEAAAABAAAAAAAAAAAAAAABAAAAAQAAAAEAAAABAAAAAAAAAAAAAAAAAAAAAAAAAAAAAAAAAAAAAQAAAAAAAAABAAAAAAAAAAAAAAAAAAAAAAAAAAAAAAAAAAAAAAAAAAEAAAAAAAAAAAAAAAEAAAAAAAAAAAAAAAAAAAAAAAAAAAAAAAEAAAAAAAAAAAAAAAEAAAAAAAAAAAAAAAEAAAAAAAAAAQAAAAAAAAABAAAAAQAAAAAAAAABAAAAAAAAAAAAAAAAAAAAAQAAAAEAAAAAAAAAAAAAAAAAAAABAAAAAQAAAAEAAAABAAAAAAAAAAEAAAAAAAAAAAAAAAAAAAAAAAAAAAAAAAEAAAABAAAAAAAAAAAAAAABAAAAAQAAAAAAAAAAAAAAAAAAAAAAAAAAAAAAAAAAAAEAAAAAAAAAAAAAAAAAAAAAAAAAAAAAAAAAAAAAAAAAAAAAAAAAAAABAAAAAAAAAAEAAAAAAAAAAAAAAAEAAAAAAAAAAQAAAAAAAAABAAAAAAAAAAEAAAAAAAAAAAAAAAAAAAAAAAAAAQAAAAAAAAABAAAAAQAAAAAAAAAAAAAAAAAAAAEAAAABAAAAAAAAAAEAAAABAAAAAAAAAAAAAAAAAAAAAAAAAAAAAAAAAAAAAAAAAAAAAAAAAAAAAAAAAAEAAAAAAAAAAAAAAAAAAAABAAAAAAAAAAEAAAABAAAAAAAAAAAAAAAAAAAAAQAAAAEAAAABAAAAAAAAAAAAAAAAAAAAAAAAAAAAAAAAAAAAAQAAAAAAAAABAAAAAAAAAAEAAAABAAAAAAAAAAAAAAAAAAAAAQAAAAAAAAAAAAAAAQAAAAEAAAABAAAAAQAAAAAAAAABAAAAAAAAAAAAAAABAAAAAAAAAAAAAAAAAAAAAAAAAAAAAAABAAAAAQAAAAAAAAABAAAAAQAAAAAAAAAAAAAAAAAAAAEAAAAAAAAAAQAAAAAAAAAAAAAAAQAAAAAAAAAAAAAAAQAAAAEAAAAAAAAAAQAAAAAAAAAAAAAAAQAAAAEAAAABAAAAAQAAAAAAAAAAAAAAAAAAAAAAAAABAAAAAQAAAAAAAAAAAAAAAQAAAAAAAAAAAAAAAQAAAAAAAAAAAAAAAAAAAAEAAAAAAAAAAQAAAAAAAAAAAAAAAAAAAAAAAAAAAAAAAAAAAAAAAAAAAAAAAAAAAAEAAAAAAAAAAAAAAAAAAAAAAAAAAAAAAAEAAAAAAAAAAQAAAAAAAAABAAAAAAAAAAEAAAAAAAAAAAAAAAAAAAABAAAAAQAAAAAAAAABAAAAAQAAAAEAAAAAAAAAAAAAAAAAAAABAAAAAAAAAAAAAAAAAAAAAAAAAAEAAAAAAAAAAAAAAAEAAAAAAAAAAAAAAAAAAAAAAAAAAQAAAAEAAAAAAAAAAAAAAAAAAAAAAAAAAAAAAAAAAAAAAAAAAAAAAAEAAAAAAAAAAAAAAAAAAAAAAAAAAAAAAAAAAAAAAAAAAAAAAAEAAAABAAAAAQAAAAAAAAAAAAAAAAAAAAAAAAAAAAAAAAAAAAAAAAAAAAAAAAAAAAAAAAAAAAAAAAAAAAAAAAABAAAAAAAAAAEAAAABAAAAAQAAAAAAAAABAAAAAAAAAAEAAAAAAAAAAAAAAAEAAAAAAAAAAAAAAAAAAAAAAAAAAAAAAAAAAAAAAAAAAAAAAAEAAAABAAAAAQAAAAEAAAAAAAAAAAAAAAAAAAAAAAAAAAAAAAAAAAABAAAAAAAAAAAAAAABAAAAAAAAAAAAAAAAAAAAAAAAAAAAAAABAAAAAAAAAAEAAAABAAAAAAAAAAAAAAAAAAAAAAAAAAEAAAAAAAAAAQAAAAAAAAABAAAAAAAAAAAAAAABAAAAAAAAAAEAAAAAAAAAAAAAAAAAAAAAAAAAAAAAAAEAAAAAAAAAAAAAAAAAAAABAAAAAAAAAAAAAAAAAAAAAAAAAAAAAAABAAAAAAAAAAAAAAABAAAAAAAAAAAAAAABAAAAAAAAAAAAAAAAAAAAAAAAAAAAAAABAAAAAQAAAAEAAAABAAAAAQAAAAEAAAAAAAAAAQAAAAAAAAAAAAAAAAAAAAAAAAAAAAAAAAAAAAEAAAAAAAAAAAAAAAEAAAABAAAAAAAAAAAAAAAAAAAAAQAAAAEAAAAAAAAAAAAAAAEAAAABAAAAAAAAAAAAAAABAAAAAQAAAAAAAAAAAAAAAAAAAAAAAAAAAAAAAAAAAAEAAAAAAAAAAAAAAAEAAAABAAAAAQAAAAEAAAAAAAAAAAAAAAEAAAAAAAAAAQAAAAAAAAAAAAAAAAAAAAAAAAABAAAAAQAAAAEAAAABAAAAAQAAAAEAAAABAAAAAAAAAAAAAAAAAAAAAQAAAAAAAAAAAAAAAAAAAAAAAAABAAAAAAAAAAAAAAAAAAAAAAAAAAAAAAAAAAAAAAAAAAAAAAABAAAAAQAAAAAAAAAAAAAAAAAAAAEAAAABAAAAAQAAAAAAAAAAAAAAAAAAAAAAAAAAAAAAAAAAAAAAAAABAAAAAAAAAAEAAAAAAAAAAAAAAAAAAAABAAAAAAAAAAAAAAAAAAAAAAAAAAEAAAABAAAAAAAAAAEAAAABAAAAAAAAAAAAAAAAAAAAAAAAAAAAAAAAAAAAAAAAAA==",
           "dtype": "i4"
          },
          "colorscale": [
           [
            0,
            "#440154"
           ],
           [
            0.1111111111111111,
            "#482878"
           ],
           [
            0.2222222222222222,
            "#3e4989"
           ],
           [
            0.3333333333333333,
            "#31688e"
           ],
           [
            0.4444444444444444,
            "#26828e"
           ],
           [
            0.5555555555555556,
            "#1f9e89"
           ],
           [
            0.6666666666666666,
            "#35b779"
           ],
           [
            0.7777777777777778,
            "#6ece58"
           ],
           [
            0.8888888888888888,
            "#b5de2b"
           ],
           [
            1,
            "#fde725"
           ]
          ],
          "opacity": 0.8,
          "size": 8
         },
         "mode": "markers",
         "type": "scatter3d",
         "x": {
          "bdata": "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",
          "dtype": "f8"
         },
         "y": {
          "bdata": "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",
          "dtype": "f8"
         },
         "z": {
          "bdata": "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",
          "dtype": "f8"
         }
        }
       ],
       "layout": {
        "scene": {
         "xaxis": {
          "title": {
           "text": "X"
          }
         },
         "yaxis": {
          "title": {
           "text": "Y"
          }
         },
         "zaxis": {
          "title": {
           "text": "Z"
          }
         }
        },
        "template": {
         "data": {
          "bar": [
           {
            "error_x": {
             "color": "#2a3f5f"
            },
            "error_y": {
             "color": "#2a3f5f"
            },
            "marker": {
             "line": {
              "color": "#E5ECF6",
              "width": 0.5
             },
             "pattern": {
              "fillmode": "overlay",
              "size": 10,
              "solidity": 0.2
             }
            },
            "type": "bar"
           }
          ],
          "barpolar": [
           {
            "marker": {
             "line": {
              "color": "#E5ECF6",
              "width": 0.5
             },
             "pattern": {
              "fillmode": "overlay",
              "size": 10,
              "solidity": 0.2
             }
            },
            "type": "barpolar"
           }
          ],
          "carpet": [
           {
            "aaxis": {
             "endlinecolor": "#2a3f5f",
             "gridcolor": "white",
             "linecolor": "white",
             "minorgridcolor": "white",
             "startlinecolor": "#2a3f5f"
            },
            "baxis": {
             "endlinecolor": "#2a3f5f",
             "gridcolor": "white",
             "linecolor": "white",
             "minorgridcolor": "white",
             "startlinecolor": "#2a3f5f"
            },
            "type": "carpet"
           }
          ],
          "choropleth": [
           {
            "colorbar": {
             "outlinewidth": 0,
             "ticks": ""
            },
            "type": "choropleth"
           }
          ],
          "contour": [
           {
            "colorbar": {
             "outlinewidth": 0,
             "ticks": ""
            },
            "colorscale": [
             [
              0,
              "#0d0887"
             ],
             [
              0.1111111111111111,
              "#46039f"
             ],
             [
              0.2222222222222222,
              "#7201a8"
             ],
             [
              0.3333333333333333,
              "#9c179e"
             ],
             [
              0.4444444444444444,
              "#bd3786"
             ],
             [
              0.5555555555555556,
              "#d8576b"
             ],
             [
              0.6666666666666666,
              "#ed7953"
             ],
             [
              0.7777777777777778,
              "#fb9f3a"
             ],
             [
              0.8888888888888888,
              "#fdca26"
             ],
             [
              1,
              "#f0f921"
             ]
            ],
            "type": "contour"
           }
          ],
          "contourcarpet": [
           {
            "colorbar": {
             "outlinewidth": 0,
             "ticks": ""
            },
            "type": "contourcarpet"
           }
          ],
          "heatmap": [
           {
            "colorbar": {
             "outlinewidth": 0,
             "ticks": ""
            },
            "colorscale": [
             [
              0,
              "#0d0887"
             ],
             [
              0.1111111111111111,
              "#46039f"
             ],
             [
              0.2222222222222222,
              "#7201a8"
             ],
             [
              0.3333333333333333,
              "#9c179e"
             ],
             [
              0.4444444444444444,
              "#bd3786"
             ],
             [
              0.5555555555555556,
              "#d8576b"
             ],
             [
              0.6666666666666666,
              "#ed7953"
             ],
             [
              0.7777777777777778,
              "#fb9f3a"
             ],
             [
              0.8888888888888888,
              "#fdca26"
             ],
             [
              1,
              "#f0f921"
             ]
            ],
            "type": "heatmap"
           }
          ],
          "histogram": [
           {
            "marker": {
             "pattern": {
              "fillmode": "overlay",
              "size": 10,
              "solidity": 0.2
             }
            },
            "type": "histogram"
           }
          ],
          "histogram2d": [
           {
            "colorbar": {
             "outlinewidth": 0,
             "ticks": ""
            },
            "colorscale": [
             [
              0,
              "#0d0887"
             ],
             [
              0.1111111111111111,
              "#46039f"
             ],
             [
              0.2222222222222222,
              "#7201a8"
             ],
             [
              0.3333333333333333,
              "#9c179e"
             ],
             [
              0.4444444444444444,
              "#bd3786"
             ],
             [
              0.5555555555555556,
              "#d8576b"
             ],
             [
              0.6666666666666666,
              "#ed7953"
             ],
             [
              0.7777777777777778,
              "#fb9f3a"
             ],
             [
              0.8888888888888888,
              "#fdca26"
             ],
             [
              1,
              "#f0f921"
             ]
            ],
            "type": "histogram2d"
           }
          ],
          "histogram2dcontour": [
           {
            "colorbar": {
             "outlinewidth": 0,
             "ticks": ""
            },
            "colorscale": [
             [
              0,
              "#0d0887"
             ],
             [
              0.1111111111111111,
              "#46039f"
             ],
             [
              0.2222222222222222,
              "#7201a8"
             ],
             [
              0.3333333333333333,
              "#9c179e"
             ],
             [
              0.4444444444444444,
              "#bd3786"
             ],
             [
              0.5555555555555556,
              "#d8576b"
             ],
             [
              0.6666666666666666,
              "#ed7953"
             ],
             [
              0.7777777777777778,
              "#fb9f3a"
             ],
             [
              0.8888888888888888,
              "#fdca26"
             ],
             [
              1,
              "#f0f921"
             ]
            ],
            "type": "histogram2dcontour"
           }
          ],
          "mesh3d": [
           {
            "colorbar": {
             "outlinewidth": 0,
             "ticks": ""
            },
            "type": "mesh3d"
           }
          ],
          "parcoords": [
           {
            "line": {
             "colorbar": {
              "outlinewidth": 0,
              "ticks": ""
             }
            },
            "type": "parcoords"
           }
          ],
          "pie": [
           {
            "automargin": true,
            "type": "pie"
           }
          ],
          "scatter": [
           {
            "fillpattern": {
             "fillmode": "overlay",
             "size": 10,
             "solidity": 0.2
            },
            "type": "scatter"
           }
          ],
          "scatter3d": [
           {
            "line": {
             "colorbar": {
              "outlinewidth": 0,
              "ticks": ""
             }
            },
            "marker": {
             "colorbar": {
              "outlinewidth": 0,
              "ticks": ""
             }
            },
            "type": "scatter3d"
           }
          ],
          "scattercarpet": [
           {
            "marker": {
             "colorbar": {
              "outlinewidth": 0,
              "ticks": ""
             }
            },
            "type": "scattercarpet"
           }
          ],
          "scattergeo": [
           {
            "marker": {
             "colorbar": {
              "outlinewidth": 0,
              "ticks": ""
             }
            },
            "type": "scattergeo"
           }
          ],
          "scattergl": [
           {
            "marker": {
             "colorbar": {
              "outlinewidth": 0,
              "ticks": ""
             }
            },
            "type": "scattergl"
           }
          ],
          "scattermap": [
           {
            "marker": {
             "colorbar": {
              "outlinewidth": 0,
              "ticks": ""
             }
            },
            "type": "scattermap"
           }
          ],
          "scattermapbox": [
           {
            "marker": {
             "colorbar": {
              "outlinewidth": 0,
              "ticks": ""
             }
            },
            "type": "scattermapbox"
           }
          ],
          "scatterpolar": [
           {
            "marker": {
             "colorbar": {
              "outlinewidth": 0,
              "ticks": ""
             }
            },
            "type": "scatterpolar"
           }
          ],
          "scatterpolargl": [
           {
            "marker": {
             "colorbar": {
              "outlinewidth": 0,
              "ticks": ""
             }
            },
            "type": "scatterpolargl"
           }
          ],
          "scatterternary": [
           {
            "marker": {
             "colorbar": {
              "outlinewidth": 0,
              "ticks": ""
             }
            },
            "type": "scatterternary"
           }
          ],
          "surface": [
           {
            "colorbar": {
             "outlinewidth": 0,
             "ticks": ""
            },
            "colorscale": [
             [
              0,
              "#0d0887"
             ],
             [
              0.1111111111111111,
              "#46039f"
             ],
             [
              0.2222222222222222,
              "#7201a8"
             ],
             [
              0.3333333333333333,
              "#9c179e"
             ],
             [
              0.4444444444444444,
              "#bd3786"
             ],
             [
              0.5555555555555556,
              "#d8576b"
             ],
             [
              0.6666666666666666,
              "#ed7953"
             ],
             [
              0.7777777777777778,
              "#fb9f3a"
             ],
             [
              0.8888888888888888,
              "#fdca26"
             ],
             [
              1,
              "#f0f921"
             ]
            ],
            "type": "surface"
           }
          ],
          "table": [
           {
            "cells": {
             "fill": {
              "color": "#EBF0F8"
             },
             "line": {
              "color": "white"
             }
            },
            "header": {
             "fill": {
              "color": "#C8D4E3"
             },
             "line": {
              "color": "white"
             }
            },
            "type": "table"
           }
          ]
         },
         "layout": {
          "annotationdefaults": {
           "arrowcolor": "#2a3f5f",
           "arrowhead": 0,
           "arrowwidth": 1
          },
          "autotypenumbers": "strict",
          "coloraxis": {
           "colorbar": {
            "outlinewidth": 0,
            "ticks": ""
           }
          },
          "colorscale": {
           "diverging": [
            [
             0,
             "#8e0152"
            ],
            [
             0.1,
             "#c51b7d"
            ],
            [
             0.2,
             "#de77ae"
            ],
            [
             0.3,
             "#f1b6da"
            ],
            [
             0.4,
             "#fde0ef"
            ],
            [
             0.5,
             "#f7f7f7"
            ],
            [
             0.6,
             "#e6f5d0"
            ],
            [
             0.7,
             "#b8e186"
            ],
            [
             0.8,
             "#7fbc41"
            ],
            [
             0.9,
             "#4d9221"
            ],
            [
             1,
             "#276419"
            ]
           ],
           "sequential": [
            [
             0,
             "#0d0887"
            ],
            [
             0.1111111111111111,
             "#46039f"
            ],
            [
             0.2222222222222222,
             "#7201a8"
            ],
            [
             0.3333333333333333,
             "#9c179e"
            ],
            [
             0.4444444444444444,
             "#bd3786"
            ],
            [
             0.5555555555555556,
             "#d8576b"
            ],
            [
             0.6666666666666666,
             "#ed7953"
            ],
            [
             0.7777777777777778,
             "#fb9f3a"
            ],
            [
             0.8888888888888888,
             "#fdca26"
            ],
            [
             1,
             "#f0f921"
            ]
           ],
           "sequentialminus": [
            [
             0,
             "#0d0887"
            ],
            [
             0.1111111111111111,
             "#46039f"
            ],
            [
             0.2222222222222222,
             "#7201a8"
            ],
            [
             0.3333333333333333,
             "#9c179e"
            ],
            [
             0.4444444444444444,
             "#bd3786"
            ],
            [
             0.5555555555555556,
             "#d8576b"
            ],
            [
             0.6666666666666666,
             "#ed7953"
            ],
            [
             0.7777777777777778,
             "#fb9f3a"
            ],
            [
             0.8888888888888888,
             "#fdca26"
            ],
            [
             1,
             "#f0f921"
            ]
           ]
          },
          "colorway": [
           "#636efa",
           "#EF553B",
           "#00cc96",
           "#ab63fa",
           "#FFA15A",
           "#19d3f3",
           "#FF6692",
           "#B6E880",
           "#FF97FF",
           "#FECB52"
          ],
          "font": {
           "color": "#2a3f5f"
          },
          "geo": {
           "bgcolor": "white",
           "lakecolor": "white",
           "landcolor": "#E5ECF6",
           "showlakes": true,
           "showland": true,
           "subunitcolor": "white"
          },
          "hoverlabel": {
           "align": "left"
          },
          "hovermode": "closest",
          "mapbox": {
           "style": "light"
          },
          "paper_bgcolor": "white",
          "plot_bgcolor": "#E5ECF6",
          "polar": {
           "angularaxis": {
            "gridcolor": "white",
            "linecolor": "white",
            "ticks": ""
           },
           "bgcolor": "#E5ECF6",
           "radialaxis": {
            "gridcolor": "white",
            "linecolor": "white",
            "ticks": ""
           }
          },
          "scene": {
           "xaxis": {
            "backgroundcolor": "#E5ECF6",
            "gridcolor": "white",
            "gridwidth": 2,
            "linecolor": "white",
            "showbackground": true,
            "ticks": "",
            "zerolinecolor": "white"
           },
           "yaxis": {
            "backgroundcolor": "#E5ECF6",
            "gridcolor": "white",
            "gridwidth": 2,
            "linecolor": "white",
            "showbackground": true,
            "ticks": "",
            "zerolinecolor": "white"
           },
           "zaxis": {
            "backgroundcolor": "#E5ECF6",
            "gridcolor": "white",
            "gridwidth": 2,
            "linecolor": "white",
            "showbackground": true,
            "ticks": "",
            "zerolinecolor": "white"
           }
          },
          "shapedefaults": {
           "line": {
            "color": "#2a3f5f"
           }
          },
          "ternary": {
           "aaxis": {
            "gridcolor": "white",
            "linecolor": "white",
            "ticks": ""
           },
           "baxis": {
            "gridcolor": "white",
            "linecolor": "white",
            "ticks": ""
           },
           "bgcolor": "#E5ECF6",
           "caxis": {
            "gridcolor": "white",
            "linecolor": "white",
            "ticks": ""
           }
          },
          "title": {
           "x": 0.05
          },
          "xaxis": {
           "automargin": true,
           "gridcolor": "white",
           "linecolor": "white",
           "ticks": "",
           "title": {
            "standoff": 15
           },
           "zerolinecolor": "white",
           "zerolinewidth": 2
          },
          "yaxis": {
           "automargin": true,
           "gridcolor": "white",
           "linecolor": "white",
           "ticks": "",
           "title": {
            "standoff": 15
           },
           "zerolinecolor": "white",
           "zerolinewidth": 2
          }
         }
        },
        "title": {
         "text": "3D Scatter Plot"
        }
       }
      }
     },
     "metadata": {},
     "output_type": "display_data"
    }
   ],
   "source": [
    "# Создание графика\n",
    "fig = go.Figure(data=[go.Scatter3d(\n",
    "    x=df_2[\"F0\"],\n",
    "    y=df_2[\"F1\"],\n",
    "    z=df_2[\"F2\"],\n",
    "    mode='markers',\n",
    "    marker=dict(\n",
    "        size=8,\n",
    "        color=kmeans_labels,  # Цвет зависит от значения z\n",
    "        colorscale='Viridis',\n",
    "        opacity=0.8\n",
    "    )\n",
    ")])\n",
    "\n",
    "# Настройки макета\n",
    "fig.update_layout(\n",
    "    title='3D Scatter Plot',\n",
    "    scene=dict(\n",
    "        xaxis_title='X',\n",
    "        yaxis_title='Y',\n",
    "        zaxis_title='Z'\n",
    "    )\n",
    ")\n",
    "\n",
    "fig.show()"
   ]
  },
  {
   "cell_type": "code",
   "execution_count": 50,
   "id": "2e3e17b0",
   "metadata": {},
   "outputs": [
    {
     "data": {
      "application/vnd.plotly.v1+json": {
       "config": {
        "plotlyServerURL": "https://plot.ly"
       },
       "data": [
        {
         "marker": {
          "color": {
           "bdata": "AAABAAAAAQABAAABAAAAAAAAAAABAAEAAQAAAAABAQEAAAAAAAEAAAEAAQAAAAAAAAEAAAEBAAABAQEBAAAAAAEAAAEAAQAAAAAAAAEAAQAAAAABAQAAAAEAAAEAAQAAAAAAAAABAAEBAQABAQAAAQEAAAEAAQABAQEAAQEAAAEAAQEAAAEAAQABAAEBAAEBAQEAAQABAAAAAAABAQAAAAEBAAEAAAAAAQEBAAABAAAAAAAAAQABAAAAAAAAAQABAAEAAAABAAAAAQEAAAEAAAAAAAAAAAAAAAEAAAEBAAAAAQAAAAAAAAEAAAABAAABAQAAAAAAAQEBAAAAAAEAAQEAAAEAAAEAAAAAAQAAAAEAAAABAAAAAQAAAAEAAAEAAQEAAAABAAAAAAEBAAABAAEAAAAAAQEAAAABAAAAAAAAAAABAAAAAQAAAAEAAAAAAAABAQAAAAEAAQAAAAEAAAEBAQEAAAABAAEBAQAAAQEBAAABAAEAAAAAAAAAAAABAAAAAAAAAAABAAAAAAEAAQEAAAAAAQEAAAAAAAABAAAAAAEAAAAAAAEBAAAAAQAAAAAAAQAAAAABAQABAAABAQAAAQEBAAABAAAAAAABAQAAAQAAAQABAQABAAEAAAEAAAABAAAAAQEAAQABAAEAAQAAAAAAAAAAAAEAAAAAAAEAAAEBAAAAAAABAAAAAAABAQAAAAEBAQABAAABAAABAAEAAAEAAAAAAAAAAQEAAAAAAQAAAQEAAQAAAAEAAAABAAEBAQABAQEBAQEBAAAAAAAAAQABAAAAAQABAQEBAAAAAAAAAQAAAQAAAQEAAQEAAQAAAAAAAQEAAAAAAQAAAAAAAAEBAAABAAEAAQAAAQEBAAAAAAAAAAEAAQEAAQEAAQEAAAAAAAABAQABAAAAAAEAAAAAAAABAAAAAAEAAAAAAAABAAABAAABAQABAAAAAQEBAQAAAAABAQAAAAABAAEAAQABAAAAAAEAAAABAQAAAAAAAAABAAABAAAAAAABAQABAAAAAQABAQABAAABAQAAAAEBAAABAAABAAABAAAAAAAAAAEAAQABAAABAQEBAQEAAQAAAAAAAAEBAAEAAQEAAQAAAQAAAAAAAQABAQAAAAEAAQEAAQABAAAAAAAAAQEAAAAAAQEAAQAAAAAAAQEBAAAAAAAAAAAAAAEAAQEBAAAAAQAAAAABAAAAAQAAAQEAAAAAAAABAAAAAAAAAAAAAAAAAAABAAEAAAAAAAAAAQAAAAABAAEAAAEBAAABAAEAAAAAAQAAAAABAQABAQAAAAAAAAAAAAABAAAAAQAAAAABAAAAAA==",
           "dtype": "i1"
          },
          "colorscale": [
           [
            0,
            "#440154"
           ],
           [
            0.1111111111111111,
            "#482878"
           ],
           [
            0.2222222222222222,
            "#3e4989"
           ],
           [
            0.3333333333333333,
            "#31688e"
           ],
           [
            0.4444444444444444,
            "#26828e"
           ],
           [
            0.5555555555555556,
            "#1f9e89"
           ],
           [
            0.6666666666666666,
            "#35b779"
           ],
           [
            0.7777777777777778,
            "#6ece58"
           ],
           [
            0.8888888888888888,
            "#b5de2b"
           ],
           [
            1,
            "#fde725"
           ]
          ],
          "opacity": 0.8,
          "size": 8
         },
         "mode": "markers",
         "type": "scatter3d",
         "x": {
          "bdata": "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",
          "dtype": "f8"
         },
         "y": {
          "bdata": "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",
          "dtype": "f8"
         },
         "z": {
          "bdata": "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",
          "dtype": "f8"
         }
        }
       ],
       "layout": {
        "scene": {
         "xaxis": {
          "title": {
           "text": "X"
          }
         },
         "yaxis": {
          "title": {
           "text": "Y"
          }
         },
         "zaxis": {
          "title": {
           "text": "Z"
          }
         }
        },
        "template": {
         "data": {
          "bar": [
           {
            "error_x": {
             "color": "#2a3f5f"
            },
            "error_y": {
             "color": "#2a3f5f"
            },
            "marker": {
             "line": {
              "color": "#E5ECF6",
              "width": 0.5
             },
             "pattern": {
              "fillmode": "overlay",
              "size": 10,
              "solidity": 0.2
             }
            },
            "type": "bar"
           }
          ],
          "barpolar": [
           {
            "marker": {
             "line": {
              "color": "#E5ECF6",
              "width": 0.5
             },
             "pattern": {
              "fillmode": "overlay",
              "size": 10,
              "solidity": 0.2
             }
            },
            "type": "barpolar"
           }
          ],
          "carpet": [
           {
            "aaxis": {
             "endlinecolor": "#2a3f5f",
             "gridcolor": "white",
             "linecolor": "white",
             "minorgridcolor": "white",
             "startlinecolor": "#2a3f5f"
            },
            "baxis": {
             "endlinecolor": "#2a3f5f",
             "gridcolor": "white",
             "linecolor": "white",
             "minorgridcolor": "white",
             "startlinecolor": "#2a3f5f"
            },
            "type": "carpet"
           }
          ],
          "choropleth": [
           {
            "colorbar": {
             "outlinewidth": 0,
             "ticks": ""
            },
            "type": "choropleth"
           }
          ],
          "contour": [
           {
            "colorbar": {
             "outlinewidth": 0,
             "ticks": ""
            },
            "colorscale": [
             [
              0,
              "#0d0887"
             ],
             [
              0.1111111111111111,
              "#46039f"
             ],
             [
              0.2222222222222222,
              "#7201a8"
             ],
             [
              0.3333333333333333,
              "#9c179e"
             ],
             [
              0.4444444444444444,
              "#bd3786"
             ],
             [
              0.5555555555555556,
              "#d8576b"
             ],
             [
              0.6666666666666666,
              "#ed7953"
             ],
             [
              0.7777777777777778,
              "#fb9f3a"
             ],
             [
              0.8888888888888888,
              "#fdca26"
             ],
             [
              1,
              "#f0f921"
             ]
            ],
            "type": "contour"
           }
          ],
          "contourcarpet": [
           {
            "colorbar": {
             "outlinewidth": 0,
             "ticks": ""
            },
            "type": "contourcarpet"
           }
          ],
          "heatmap": [
           {
            "colorbar": {
             "outlinewidth": 0,
             "ticks": ""
            },
            "colorscale": [
             [
              0,
              "#0d0887"
             ],
             [
              0.1111111111111111,
              "#46039f"
             ],
             [
              0.2222222222222222,
              "#7201a8"
             ],
             [
              0.3333333333333333,
              "#9c179e"
             ],
             [
              0.4444444444444444,
              "#bd3786"
             ],
             [
              0.5555555555555556,
              "#d8576b"
             ],
             [
              0.6666666666666666,
              "#ed7953"
             ],
             [
              0.7777777777777778,
              "#fb9f3a"
             ],
             [
              0.8888888888888888,
              "#fdca26"
             ],
             [
              1,
              "#f0f921"
             ]
            ],
            "type": "heatmap"
           }
          ],
          "histogram": [
           {
            "marker": {
             "pattern": {
              "fillmode": "overlay",
              "size": 10,
              "solidity": 0.2
             }
            },
            "type": "histogram"
           }
          ],
          "histogram2d": [
           {
            "colorbar": {
             "outlinewidth": 0,
             "ticks": ""
            },
            "colorscale": [
             [
              0,
              "#0d0887"
             ],
             [
              0.1111111111111111,
              "#46039f"
             ],
             [
              0.2222222222222222,
              "#7201a8"
             ],
             [
              0.3333333333333333,
              "#9c179e"
             ],
             [
              0.4444444444444444,
              "#bd3786"
             ],
             [
              0.5555555555555556,
              "#d8576b"
             ],
             [
              0.6666666666666666,
              "#ed7953"
             ],
             [
              0.7777777777777778,
              "#fb9f3a"
             ],
             [
              0.8888888888888888,
              "#fdca26"
             ],
             [
              1,
              "#f0f921"
             ]
            ],
            "type": "histogram2d"
           }
          ],
          "histogram2dcontour": [
           {
            "colorbar": {
             "outlinewidth": 0,
             "ticks": ""
            },
            "colorscale": [
             [
              0,
              "#0d0887"
             ],
             [
              0.1111111111111111,
              "#46039f"
             ],
             [
              0.2222222222222222,
              "#7201a8"
             ],
             [
              0.3333333333333333,
              "#9c179e"
             ],
             [
              0.4444444444444444,
              "#bd3786"
             ],
             [
              0.5555555555555556,
              "#d8576b"
             ],
             [
              0.6666666666666666,
              "#ed7953"
             ],
             [
              0.7777777777777778,
              "#fb9f3a"
             ],
             [
              0.8888888888888888,
              "#fdca26"
             ],
             [
              1,
              "#f0f921"
             ]
            ],
            "type": "histogram2dcontour"
           }
          ],
          "mesh3d": [
           {
            "colorbar": {
             "outlinewidth": 0,
             "ticks": ""
            },
            "type": "mesh3d"
           }
          ],
          "parcoords": [
           {
            "line": {
             "colorbar": {
              "outlinewidth": 0,
              "ticks": ""
             }
            },
            "type": "parcoords"
           }
          ],
          "pie": [
           {
            "automargin": true,
            "type": "pie"
           }
          ],
          "scatter": [
           {
            "fillpattern": {
             "fillmode": "overlay",
             "size": 10,
             "solidity": 0.2
            },
            "type": "scatter"
           }
          ],
          "scatter3d": [
           {
            "line": {
             "colorbar": {
              "outlinewidth": 0,
              "ticks": ""
             }
            },
            "marker": {
             "colorbar": {
              "outlinewidth": 0,
              "ticks": ""
             }
            },
            "type": "scatter3d"
           }
          ],
          "scattercarpet": [
           {
            "marker": {
             "colorbar": {
              "outlinewidth": 0,
              "ticks": ""
             }
            },
            "type": "scattercarpet"
           }
          ],
          "scattergeo": [
           {
            "marker": {
             "colorbar": {
              "outlinewidth": 0,
              "ticks": ""
             }
            },
            "type": "scattergeo"
           }
          ],
          "scattergl": [
           {
            "marker": {
             "colorbar": {
              "outlinewidth": 0,
              "ticks": ""
             }
            },
            "type": "scattergl"
           }
          ],
          "scattermap": [
           {
            "marker": {
             "colorbar": {
              "outlinewidth": 0,
              "ticks": ""
             }
            },
            "type": "scattermap"
           }
          ],
          "scattermapbox": [
           {
            "marker": {
             "colorbar": {
              "outlinewidth": 0,
              "ticks": ""
             }
            },
            "type": "scattermapbox"
           }
          ],
          "scatterpolar": [
           {
            "marker": {
             "colorbar": {
              "outlinewidth": 0,
              "ticks": ""
             }
            },
            "type": "scatterpolar"
           }
          ],
          "scatterpolargl": [
           {
            "marker": {
             "colorbar": {
              "outlinewidth": 0,
              "ticks": ""
             }
            },
            "type": "scatterpolargl"
           }
          ],
          "scatterternary": [
           {
            "marker": {
             "colorbar": {
              "outlinewidth": 0,
              "ticks": ""
             }
            },
            "type": "scatterternary"
           }
          ],
          "surface": [
           {
            "colorbar": {
             "outlinewidth": 0,
             "ticks": ""
            },
            "colorscale": [
             [
              0,
              "#0d0887"
             ],
             [
              0.1111111111111111,
              "#46039f"
             ],
             [
              0.2222222222222222,
              "#7201a8"
             ],
             [
              0.3333333333333333,
              "#9c179e"
             ],
             [
              0.4444444444444444,
              "#bd3786"
             ],
             [
              0.5555555555555556,
              "#d8576b"
             ],
             [
              0.6666666666666666,
              "#ed7953"
             ],
             [
              0.7777777777777778,
              "#fb9f3a"
             ],
             [
              0.8888888888888888,
              "#fdca26"
             ],
             [
              1,
              "#f0f921"
             ]
            ],
            "type": "surface"
           }
          ],
          "table": [
           {
            "cells": {
             "fill": {
              "color": "#EBF0F8"
             },
             "line": {
              "color": "white"
             }
            },
            "header": {
             "fill": {
              "color": "#C8D4E3"
             },
             "line": {
              "color": "white"
             }
            },
            "type": "table"
           }
          ]
         },
         "layout": {
          "annotationdefaults": {
           "arrowcolor": "#2a3f5f",
           "arrowhead": 0,
           "arrowwidth": 1
          },
          "autotypenumbers": "strict",
          "coloraxis": {
           "colorbar": {
            "outlinewidth": 0,
            "ticks": ""
           }
          },
          "colorscale": {
           "diverging": [
            [
             0,
             "#8e0152"
            ],
            [
             0.1,
             "#c51b7d"
            ],
            [
             0.2,
             "#de77ae"
            ],
            [
             0.3,
             "#f1b6da"
            ],
            [
             0.4,
             "#fde0ef"
            ],
            [
             0.5,
             "#f7f7f7"
            ],
            [
             0.6,
             "#e6f5d0"
            ],
            [
             0.7,
             "#b8e186"
            ],
            [
             0.8,
             "#7fbc41"
            ],
            [
             0.9,
             "#4d9221"
            ],
            [
             1,
             "#276419"
            ]
           ],
           "sequential": [
            [
             0,
             "#0d0887"
            ],
            [
             0.1111111111111111,
             "#46039f"
            ],
            [
             0.2222222222222222,
             "#7201a8"
            ],
            [
             0.3333333333333333,
             "#9c179e"
            ],
            [
             0.4444444444444444,
             "#bd3786"
            ],
            [
             0.5555555555555556,
             "#d8576b"
            ],
            [
             0.6666666666666666,
             "#ed7953"
            ],
            [
             0.7777777777777778,
             "#fb9f3a"
            ],
            [
             0.8888888888888888,
             "#fdca26"
            ],
            [
             1,
             "#f0f921"
            ]
           ],
           "sequentialminus": [
            [
             0,
             "#0d0887"
            ],
            [
             0.1111111111111111,
             "#46039f"
            ],
            [
             0.2222222222222222,
             "#7201a8"
            ],
            [
             0.3333333333333333,
             "#9c179e"
            ],
            [
             0.4444444444444444,
             "#bd3786"
            ],
            [
             0.5555555555555556,
             "#d8576b"
            ],
            [
             0.6666666666666666,
             "#ed7953"
            ],
            [
             0.7777777777777778,
             "#fb9f3a"
            ],
            [
             0.8888888888888888,
             "#fdca26"
            ],
            [
             1,
             "#f0f921"
            ]
           ]
          },
          "colorway": [
           "#636efa",
           "#EF553B",
           "#00cc96",
           "#ab63fa",
           "#FFA15A",
           "#19d3f3",
           "#FF6692",
           "#B6E880",
           "#FF97FF",
           "#FECB52"
          ],
          "font": {
           "color": "#2a3f5f"
          },
          "geo": {
           "bgcolor": "white",
           "lakecolor": "white",
           "landcolor": "#E5ECF6",
           "showlakes": true,
           "showland": true,
           "subunitcolor": "white"
          },
          "hoverlabel": {
           "align": "left"
          },
          "hovermode": "closest",
          "mapbox": {
           "style": "light"
          },
          "paper_bgcolor": "white",
          "plot_bgcolor": "#E5ECF6",
          "polar": {
           "angularaxis": {
            "gridcolor": "white",
            "linecolor": "white",
            "ticks": ""
           },
           "bgcolor": "#E5ECF6",
           "radialaxis": {
            "gridcolor": "white",
            "linecolor": "white",
            "ticks": ""
           }
          },
          "scene": {
           "xaxis": {
            "backgroundcolor": "#E5ECF6",
            "gridcolor": "white",
            "gridwidth": 2,
            "linecolor": "white",
            "showbackground": true,
            "ticks": "",
            "zerolinecolor": "white"
           },
           "yaxis": {
            "backgroundcolor": "#E5ECF6",
            "gridcolor": "white",
            "gridwidth": 2,
            "linecolor": "white",
            "showbackground": true,
            "ticks": "",
            "zerolinecolor": "white"
           },
           "zaxis": {
            "backgroundcolor": "#E5ECF6",
            "gridcolor": "white",
            "gridwidth": 2,
            "linecolor": "white",
            "showbackground": true,
            "ticks": "",
            "zerolinecolor": "white"
           }
          },
          "shapedefaults": {
           "line": {
            "color": "#2a3f5f"
           }
          },
          "ternary": {
           "aaxis": {
            "gridcolor": "white",
            "linecolor": "white",
            "ticks": ""
           },
           "baxis": {
            "gridcolor": "white",
            "linecolor": "white",
            "ticks": ""
           },
           "bgcolor": "#E5ECF6",
           "caxis": {
            "gridcolor": "white",
            "linecolor": "white",
            "ticks": ""
           }
          },
          "title": {
           "x": 0.05
          },
          "xaxis": {
           "automargin": true,
           "gridcolor": "white",
           "linecolor": "white",
           "ticks": "",
           "title": {
            "standoff": 15
           },
           "zerolinecolor": "white",
           "zerolinewidth": 2
          },
          "yaxis": {
           "automargin": true,
           "gridcolor": "white",
           "linecolor": "white",
           "ticks": "",
           "title": {
            "standoff": 15
           },
           "zerolinecolor": "white",
           "zerolinewidth": 2
          }
         }
        },
        "title": {
         "text": "3D Scatter Plot"
        }
       }
      }
     },
     "metadata": {},
     "output_type": "display_data"
    }
   ],
   "source": [
    "# Создание графика\n",
    "fig = go.Figure(data=[go.Scatter3d(\n",
    "    x=df_2[\"F0\"],\n",
    "    y=df_2[\"F1\"],\n",
    "    z=df_2[\"F2\"],\n",
    "    mode='markers',\n",
    "    marker=dict(\n",
    "        size=8,\n",
    "        color=agg_labels,  # Цвет зависит от значения z\n",
    "        colorscale='Viridis',\n",
    "        opacity=0.8\n",
    "    )\n",
    ")])\n",
    "\n",
    "# Настройки макета\n",
    "fig.update_layout(\n",
    "    title='3D Scatter Plot',\n",
    "    scene=dict(\n",
    "        xaxis_title='X',\n",
    "        yaxis_title='Y',\n",
    "        zaxis_title='Z'\n",
    "    )\n",
    ")\n",
    "\n",
    "fig.show()"
   ]
  },
  {
   "cell_type": "code",
   "execution_count": 51,
   "id": "f5fec662",
   "metadata": {},
   "outputs": [
    {
     "data": {
      "application/vnd.plotly.v1+json": {
       "config": {
        "plotlyServerURL": "https://plot.ly"
       },
       "data": [
        {
         "marker": {
          "color": {
           "bdata": "AAIBAAIAAQABAgABAAAAAAAAAgABAgEAAQIAAgIBAQECAgICAAECAAECAQICAAICAgEAAgEBAAABAQEBAAACAAECAAEAAQAAAgIAAAECAQAAAAABAQAAAgEAAgEAAQACAgAAAgABAgEBAQABAQIAAQECAgECAQIBAQEAAQECAAECAQECAgECAQABAgEBAAEBAQEAAQABAgICAgIBAQIAAAEBAAEAAgICAQEBAAABAgIAAgICAQABAgACAAIAAQIBAgECAAIBAAIAAQECAAECAAICAgACAgAAAAEAAgEBAAIAAQICAgAAAgECAgIBAgABAQIAAAIAAQEBAgICAgEAAQEAAgECAAECAAIAAQICAgEAAgIBAAAAAQAAAAEAAAEAAQEAAgABAAAAAgEBAAABAgECAAAAAQECAgABAAACAgAAAgIBAAIAAQAAAAEAAgICAAIBAQIAAgEAAQIAAAECAAEBAQECAgABAAEBAQIAAQEBAAIBAgECAgICAgAAAgIBAgICAAIAAgABAgACAgEAAQECAAIAAQEAAAIAAAIBAgACAAEAAAAAAgEBAAACAQICAAIAAQACAgABAQIBAAABAQIAAQEBAAIBAAAAAAIBAQIAAQICAQABAQIBAgEAAgECAAIBAgAAAQEAAQIBAAECAQICAgICAgAAAgEAAAAAAgECAgEBAAIAAgIBAgICAgABAQACAgEBAQABAgABAgABAAEAAAEAAgICAAACAQEAAAAAAQACAQECAQAAAgEAAAIBAgEBAQABAQEBAQEBAgIAAgACAQABAAIAAQABAQEBAAIAAAICAQAAAQAAAQECAQECAQICAgACAQEAAgAAAQICAAAAAgEBAgIBAAEAAQAAAQEBAAICAAAAAAEAAQEAAQECAQEAAAIAAAIBAQABAAICAAECAAACAAIBAAAAAAECAgIAAAIBAAIBAAIBAQABAAICAQEBAQICAgABAQICAgABAAEAAQABAgIAAAEAAAABAQIAAgICAgABAgABAgICAAABAQIBAgICAQABAQIBAgIBAQAAAAEBAgIBAgIBAgIBAgIAAgAAAAEAAQABAgABAQEBAQECAQAAAAACAgEBAgEAAQEAAQICAQIAAgAAAQIBAQACAAEAAQEAAQABAgICAgACAQEAAgICAQEAAQIAAgIAAQEBAgIAAAAAAAACAAECAQEBAgACAQAAAgIBAAACAQAAAQEAAAICAgIBAgACAgAAAAACAgACAAIBAgEAAAAAAAAAAQICAAIBAgEAAgEBAgIBAgEAAAICAQAAAAIBAQIBAQIAAgACAgIAAgIBAgAAAQAAAgIBAgICAg==",
           "dtype": "i1"
          },
          "colorscale": [
           [
            0,
            "#440154"
           ],
           [
            0.1111111111111111,
            "#482878"
           ],
           [
            0.2222222222222222,
            "#3e4989"
           ],
           [
            0.3333333333333333,
            "#31688e"
           ],
           [
            0.4444444444444444,
            "#26828e"
           ],
           [
            0.5555555555555556,
            "#1f9e89"
           ],
           [
            0.6666666666666666,
            "#35b779"
           ],
           [
            0.7777777777777778,
            "#6ece58"
           ],
           [
            0.8888888888888888,
            "#b5de2b"
           ],
           [
            1,
            "#fde725"
           ]
          ],
          "opacity": 0.8,
          "size": 8
         },
         "mode": "markers",
         "type": "scatter3d",
         "x": {
          "bdata": "ddO9Gkp1AcB84oceTOIGQGhbsbA9RR/AhcH7SCx9CcDNc5TpCjUBQIhMMOC6GgHAVmH4aA6DIMDtf2+w/0ACwEVVQKzbPAbABVICuhb7AUAuTUTlYbQBwOGMJZfjwAnAdNwz7L7M579m4Jut5M8MwBICS3p0rQrAqY6rTE6OBcDpGH7Y8EgJwMHM2ajLzPu/ARvFR3swAkCVcc1XHgoGwKLwgJ6S2xPA7G2CLZKIBEBI3iK+BRr9v1+PbQeiBAHAwn50Kir7GMBP5Hj1/Zz/PxrjHeuyxOa/aHJkeGne+T/2q8ahsX37PwTulTPtPSXACW2Knq0eHcDUeCUs4iAgwBC8AVYu8/0/Da8BijhS7z9bEyzrTvH+P5jBLEYwIP4/WNk5OAmT+78h49dXM8UgwGiS8uq7avo/wVVXeJBgA8DPczmLAZUKwL/L1eEmGPE/T475k0EbHsCkhJevs5ABQDvCyMZvdwBAXIwtW6U8/b/QOFX+n2H8P3I/DmzXgfI/ZL2+MUEiB0Dpg2eco28fwA40a+UrRwTA1zXBcP+8+D9xiXmsGDQgwGLLrTVdXBXAYnPoKXB29b9QTG/tkhT3v0baiUkcaRbAKb0NXvkYFMB9+/gzB9cawLUPH9pinyjA2S/ANAutDcDQZNTbDFT5v1spdRVHZfg/hjIaIZKsB8CNmphSRBEcwFGIbN60OwVAksT7k8Uw/7+5cBjUlq0hwAiv+EpvkgzAPLmhk3vYF8BA3h9cmP0LwGs/aoHwVgrATr+O0DS1/D9u79iwe3cBQPLNpc0Jkw3AQGP7W0hO6r9WeMOiLr8gwD6uR4IYeABAgJmq8QwhE8BEUJK4TRgPwNAsej9kCQbAmfM42W9WBcDkK8/vCO4EwKzFBrFcXRTArnfJIWvCIcBepQ6iw4Xwv0PvY2iBdQPAgPvKQIieAkCPUYEVSIIQwPX97Zc5yfe/3e/JWVmIAUANA8J2nR8XwBjq1rkz9QnAgRKNBi/8E8D/xXjip+bIv7kjmdl6f/s/Want3SEe8z9s9DtPWAEDwJ1FubvauAzAwu0CIvL++j8Q2eJcZrPcvxfnffahyBvAqaIgQa/CAEBAFX3nHPogwMtROx0anCfAkWTVVQ9KD8B2bptv5lAOwA7Wo0WzIhbAGcUM+N7JIMBS6nAvaHAEQPpPrvg2GgTAeyZ8LYS1HsD5yc/pxo0QwImu1VocZvE/2LeC/g+dBkDLpiZyF+sZwHtG1kssm/o/t0JuGN6J/b+uJQECAn38PwjXjH6JhRfAdYTIm4tFGcCfN98P7YgiwOUJWre6a/6/5XC+/GKDG8Dj4pddKZAUwMBrEDSw1ghAjKiDpxgYBsAsOX2AcAITwPrCe8Q5OP8/MQraA5YHIcDt+Vf5aiYUwFLBUclpfvs/kvgcUTSjBkC0x+31vPwRwKDXKCwoXu8/ZvUIPVjbLMAb/YkZaEMQwNpLNiYyOifAyNzJE1VB/T9DFS7ySsIawCIuCsKnSRjAJgJh3PHgCMD49+XeTtUcwFR1yT7U2x3ATc+HaTm6I8AOyviiveIfwAqYAa7jthDAriz8fFVJGsB5dNV/YBIDwFq1dijtTBLA4Yk3c34d+j9+hQdo2MP/P3qWK3lcwvY/ICEQbnaAAUChDeIZHQ/9PwuhGTP8GxvA4hJJ0kRPG8DQ1JPSmGQJQJ5mu8Flsvq/eyCLUFI+DMBFBjGRm4oiwN4f9Tig9hXAQhUnoDQsCcCF7qd/9QAWwDDbW5HpwPm/kxiDzCd2AUBklfALsXP+P9K3UzSXnvc/2enAVk6ZHsBOklj4vh0fwCWkbXhOphLAJT/U4nwGAsD4Z7r6P8L1v56Hd4wB6hjAGA9NpU4bAkAyWOLVefD9P2jvI+M10gnA6qWtbePm7D/QGJvm1lwFQJ1mseG0PfQ/CE8UFOmDHsAqcPcBzcv/vyGTO5+hTiHAi+8mNts9/z/iJv2DMJgMwJRFbTJ8v/A/K+3gSZbKCsAN0RF9onYAQIQX/xLqVPy/lm/lslZ6I8Asr0itpeYEQOzDuj+b5BzAFzIzhHrN/j/IkquAqPodwAE1iJK2k/4/LLVT1FQH/r+c80Jianj4P0AXaQCmdRrA8Hawc+L4BMCM7WD3snj/P8Ray1QpRe2/847E0nO2G8DkllBdP1klwPPxWu/pTvk/l7zihhVnAsCQDgAfad0YwD+oEEd8J/8/NapBnF9BCMCyko7YjHX8P+t/PaCxOfw/ImqpccwZ+j8N6pxnMnAEwOxmACfas/s/IuhifukwAUC6QaTQbj0DwIFJxchQEAnAQmykTwwJ/L/OTF70tjAcwOmcpJqlre6/RzM8fZHABUDlvGgkuEcgwBsecnca7xLAMgV8QSV2CcCUQhI5+3n9P6h4Hy5uLwnA7VBQcorzH8Ble9jbv738P+VDcjjS5AVAcmBO9SktBUAiA8uHTYH8v4z7fVSRJfu/zi157XwHA0BCgYTbofUUwDdcL9cRJvI/MqkDVghp9T9YUWAbamH7P1MgCoEv5xzAszi5l5xiAUDPhpZPOuEAwMKTp/IlzBfAYKOTmAJsGcBLeiCdcfn+Pw8M7h/a/vC/d0T6z+z+AcA6M+CELwkCQBCuE42dygTAWL7ULduOEcBOckOQYrcUwDDuUsDOMhvAxaRw1cwGB0AejP529PsDQLrsHuNXgvo/hw4YLhoNBUAYR0kG7GEWwDUPaorZ5g/AEAFtjsHUHMBSrzFJWyQnwGSQXDHDBvW/YKIiTtN29z+tXa1netUZwEboXdAH1wNAiVNo5XavA8Bri8GERiMhwHqBKocrOPQ/daQYgt0WCcB0Zg49NXH7P298rnc1+APA9fh95EcsIMBAPVbfZAz+Pxn4SI9ISQVA1EN6Z+3nBEAZC6z9btEgwAZcNXY8LwjAjVE1xtkUAUDsFR2FR98HQL7AwMVkRhDARDL+/BHZCsCcaEftWSwQwBTzHTUYaQXA+6lB4I99IMDv6QAfyU8IwNJTH/Tq7wHAw6yLoayiDsBW70IvaTgdwHwkuUqbffu/kN0GpErADcAZ+DwjQfMMwD/XDqBgdAXAXOTgwyW7HcADI1/Xl7ojwC/Pb0taRwnAvO7nlXm6A0Akc/q5MH0LwBjlBrA/jBLAoi4IDfokC8BfY4V5umUKwO+PLTbLHwHA2BRJCFVL/T/mQY/pmCIhwA2irgcSjRzAiVTm1mzhC8CIZ4EwlUEKwLGqitM28wLA3IvYzmEmAUCAjgOGbpccwHJgXrJr+wVABCzXm0YG7L8NdrpkijsGwKNQ7lBfSw/A7/Q9U2EDAcBeeYaFbZIlwLXlAjZqG/w/6PB8yOotAkCbw7dJTCMCwKawVW8yxBnAhjkpCqvjEMBu6yc+T/YDwDhiLWcveQJAn/W6ZAscAUDfKlZBd4sCwL5cFxyzbPq/4h5Dql3MAkDRjGIpvfoEQCTOkAy7byLAOJJH6h1fDMDKH2uTuDP0P2rMBWIwTAPAXM2RgSKeAcA0wrALi1wKwJVKmfoosQfAW+OikgHPEMB8izdJav4iwFebNPXSLfi/vWsZsxXQAUCCXLxp/uv2P3E8v+ZSUQJAHNvqGIgUu7+ImctJHNj/P64Kubhd8hvASFrrW8FcG8A3el271Jf/P32ftRLbyQjAs7GPdwr++T9H8cy+3wMlwL0UxB1u1v+/KNg5yAcbD8CAanuoUEADQDF779H9LQrAhsZf7gKkFMDgYOmXd0UOwAMrmTn0FgRAUcEKzMtKA8C6UGxEVsgbwAcDvRS0dx3AsgNytR+BHMBMngnP9zoXwFG9lgYHPAFAiaBMM6Cz+j/FT42yoYoKwDT18Dxc3yDAZ2MyNhMT2L+gIybQTtAUwPRh7CLiTh7AInNhV9aoIMBEzEGtqLsCQEtGQTDARgPAkG6apjbKFMB00F2BgesZwNCcE7BYHPu/foXNlk1RCMCge+Se1fX4P2HJOwzyyiDAMbcGG2no+z/A/CRm8s/7vzaGw510RAJA6Yv+lFPWAkDDg40Tq7H8P9IsREfDuQFAUlYEi+jYBkC4+uDFmP4BwLFLzJLqdgHA0cMC8xzlAkBLypc2vnIBQHeEiEYivBPAZPrJ/i5jAECaQCtpuUsDQDLVXJEKmARARxys0tcfCsBAgBBnZoEEQMIB+rRbQxDAubsmXng6AEAsqZFJosXqv6t3FP6H4SDA53vdZVVPA0DIy14b/N4LwL39tjNcBwhAoMtrdwTw/z8EXEr209kCwFjVAbBGnP2/Iv9jHe7iFsD6u/tlbrAhwObC4lD02wRAHsRL+ZQ6BsDl+1cmt8H8P1DFQzeksAnAsgDKkBxuIcC65HbWsH4kwPACKTKfm+q/o+NKPwyYB8AyH3bOtJkHQF6aG6LE8Pq/d4hp4enB8b8BuVxBASMFQEA+EvqXGhbAYD93HyrhAEAUPPeIFGUEwDnuTB8nwABA1et7t8pxA8CmDP+TaTwiwCzlC0v2T+2/6o6i+huFEcBRHigx+8kCwPFTCIMi0gnAUHjtJlEh9z/eA5+VM3kUwGO0LAxk9hXATYjBWsfLCcCGsjlHj6H+v2yiMVTq3wFAKeaxXbX8EcCkhv4TlNz+P98xmnbIhQhAmAjbAhZrCcBLeuC/0aT9P0QaIgN21QHAEBAHtAiDFsA1RlgZhGUPwHwt2HA7tANAKTGQMsWEAUCYUE/UOaMHwFJAd1Ag8CrAAPJSU/PeGcDEP1Bkuv4HQMMwdE6KFyfAeOH1tq3G+r8H7boNFeL4v0AUvTgIcCjA7yrr0SLAHcC4DH9/9iwBQHNwn0t0+QfAZbMIZQDOHsA7PGTbZpEFwH0FRadqohrAF2ZpVeDcBsDue37+mj3oP7Z36XIZNSPAa52GZ1BdEsDM8D3spTD6v3FgQ733xwXAXAftz1qJ9b9z3be5KCoEQMUXbXoCRxDAlILMD2eeJMCsONVvYN34P+5b42cdLQzAqit/EEuqJcD6KKOTbbj8PxQ/oH6qiQZAJjPHvxHtFMDjgsFg2MX2v9vl51UhoyPAG/Ue/jJgG8ByvXfuY1wBQLZ44fafsQ7AgCdAnLzC+T+Y9k3cLMwlwOBHxzTENv+/s4QVYPd37z+mOMQgCMEbwHvdjfch/v8/0qSR3M8YBcDxeuRZgXkBQFQqLbEbbQfAoAppOaWL/T8uFazrmE3Ivz1+yCJi5/G/HPJ55FKqGsC1J0M5hVcjwPDzmO1idAPA+tt0D9+aIcBah+os0Ub9P1YEORvCDCHAFFz1Vp60CsDYh+dNY8YmwIQU0+yUMAVAyRdGH8PjFMDgCMSNF3X2P9H3XlUQ/gFA5c6DZUTkAUAkVY/IDzQCQBx9EHK+cANAy3yiAOzD+T/fLxmb9vQKwOiGXuRdNve//2f45mfI+z8yuRdzzL4ewG4X7ZRX3f+/0WOm4GHsE8AD54D9UdQHwBo7CrmuGw/AROJ8+/vEB0CUg9ncDTALwPVXrU9Er/o/R8rgL5WE9z+5BhoYxGIawJ6wXAOwJhfATkmBF4bCBsBl+QQHnDUBQLhUE1iyM+W/31iBNCi18T93bE87C536PxRdZUsdkxnAr/hHA6Cj+D/2TfXsqX0GQMaejEAHIQVAmmkw56gz4j/UERF99/n6v1e0zA20UxXAPPmqQnC7G8B5XPltdZwBwCHPGMu63v4/+KWQTaf09z+KTFb5Fp4iwOWMfeO81SXAvTViEibMHsAKVeQQ7Jbkv9wOHEMnmBfA9cBoD7BX/D8wRzNRhTkGwBQF8VHu8h/ALHDMtek2+T/ND3/IlncDwMPB5nqYBxbA0EYiOnyXA8AkMhbYZmMmwIL1hlhPqO6/eNW9x7zw+L+abQWyyJ0OwCApJ2xfXALAtg5wk2sFAED+T1eyY4b7PzYIt/iiRfg/h9IZE4jmDMBQwiU5w2T/v38qJFjqvABA/a7NhFleIsB8mTpwMHsXwHdiVuRaJQbAySnCox35BsCAluelnsXbvwDb6ysrlAnA1aUzMeEFEsB9EcxuI3gEwGeq5BuZJg1ABobJfT+9FMBQ7zbnpYYowFOUj4Z6NfA/kvgji76DJMDzUZcyntz6v/2/loEv6AfAMa8Y/zQf9z8ZuK3/zK4UwFr3Gq9JdQXA3NJxPomiBMA3KoDWDgMEQJKqdCv2YRLASk+n6gP7BEC972wMIAMYwEfUCo13QhfArSOHsyqmHsAAAnNYRyn+v0RZp55cLyPA8l8DYM42I8CFD0sQy8IiwKAgEciKI+u/K115DvjPFcA6RfyHq4sZwD7saXuOiB3Ayn7Ut143BEDDAO7vkpEBQJdHpF01XATA2A3rBzSvBUAOCA5b/LcCwMYcWyCILQJAlmrcyhYaH8DftdmcGOz+v8cYtYpP6xrAPGPPn+0sCcBWyJ3dxmH9P7LdBRxFHwTA/foPGJo7IcD+9fGrGA70vxW66HQxXiHAYB9Qcj1CD8DzDpEGKJ37vwRobY41YyXAFVLzfthjBMAfHTWlIDkHQABTdzx5ZhHA+fQbTEUAAcCoYdZBFOcAQBBLrz4OwANAlmZjb75DG8A4QUjTyzIDwAceVN0icfm/HBXWMfexEsB+JqRUGRQCwP6WGUTgOfq/YUKp10fYHMD5N0jULyYiwDRgKgflJAJAGIEHtNn+FcBUHpgoLcsbwGSx/F9g9QBA+AQ4zS9qJcAKiJYucDb3P7CMxeWfeABAjqUTeA608T924fJMtqADwALm73XssQFAQnqzsgxCEMDzu/glm5QgwHQUwGrvVAHANGBEboL2AEAOkwfMM/wFwPnuDgzK7fC/qD/gcvx/GsBcDofuZDMCQAA4Dms8yvc/eiHnGhAfAMDeSSdZiiUKwAYtsVSw0AfAWhX+q4f0AUCeCyIincQIwLjOaQ2RASHAKlj3nV2f9D8a6szOlGcCQEjuqV2bCwTA9n7k5Z+5+L/A0CP9IHAYwPSAGdTiPQDAzCuOYFE//r99NuDYlMX8v/HkHPqoWP+/YzofRrGxGsCVDAJ136cnwPBqgpnA/xDAOJN2FCojEsByp+tgX+EBQA9nadzq6QBAccF0lRY2AcC/oo4k6MH+vzQNQO+F1wfAG3NR42Q8/b9MD7LbmgsRwFqwwH8D5AnAL0wt3TqVGMDS25oeMZIBwFLkOlX1EADAsqcImnTKJMA9TvQ0YwEewMeO7Ao5gfs/3L8X9keDGcDIBqxdsYQowD6Q8faSMu6/ItjuCnDiCMCUiZ3GKRgBQD2/3Wpa2QfAVIehDyGQ/79MyXDGq0cFQAzdpClDwRbA9UC1ZRCTG8DoL/ZY+RgQwIqTZ1zeMhjAtmPoonouBMAdZ6gYsgADQEoOCGzvoAVA/pnCibnUBcAuY9K28ZEgwHyTPYjaO/8/P4fCZknF2L/by/4bYW8HwE6cH+ifUgRAE3toD33cBcDt5Z2JBTUAQFuDzEjuhxjAdTPr2xX7CMCy6C4Bh4MJwBHsg+hfngLANDhvsb7GCcCnNB079M0dwJOrwm6STgNATMySO5a9AkCNLYoG2/wAQC4yen2+pgrAQjBzEV/XBcCUzfjjgmb3Pxvu6UndGA3AFDBWpPAi/r9oz0i6gcsHQOE1+tK33hHAEHImDgs0AsAymiz7lOn7PyAr4Tv/TRHAdAbSb+UpHsCiolaSUWzhv46QyyRxSxTAtWdAGUBzAsB7l6uoEW4GQKIa7J/p5AJAFyqbebuyIcBWfzSRkdwcwMR2ryjoygbApfPcCQlRI8C8j1p8/J8DQMafUb6KCwJAyY1bsIUN/T+wsFcLKR8MwIrmrPOIjBTAdmpUbJY9H8Dc3RsmT7ICQMy/1GvJ8/4/G4imn8OQA0BjXJrDCej/v7/uUR1ZsQbA7LnRykv1DMC6SxJ70tscwA38Ar8U3f2/eTMXzG1JGMBBmMNWDg0GwIYk/dji4R/A7vGLtViCBEBxdmziTugBQOrd0oZ2Ivm/NHb5UOtpCsBWWnomFQcjwMShggwrmgTA9ruuPh/EAMAOItLbaaICwAz/gsimUxjA85sA7uJoHcDQrydCE3j+P/575yXB2Q3AojXaFUS5AUA50GqibE0BQOhV+8UO1wJAqpvbG6CLAECZQlwyqdAGwIMREY3uIyDAqsHhXOod/j8eo+ZrWioDwITRWCbaqBrAaV7W4GiP9T+Z6w4+In4AQGpz85UPbgJA+Q/vKu1ZBMCm8V8oURsMwLjHi9QgkBzALCB5+S9jFsCgSMKJw8cBQKCuQjyaaxfAtyas6+OZ/z8Hz7ZfO1ABQHgMaumSdvk/r+nFvqXCEcBzShjIZ+Dzv28iAw8R3yHAlUyfDLacGcAoe+hKmz/1PxB0SIijVRfAMVpa0/Hs/z8lsBBfQyj/P3nnA0GKpyPAXX2cRC1GIMDinNn10/kIwMb9OSsxlgTAIlmESGCy8L9kNjpCr+UhwOKgBFHjSxXAQZBF1a3HA0CQftaHHvUBQICrxybHMBvAjlGQfgUlCEBkwamdZVgEQEKrhQD0WB3Asi1K6zCuAkBAlqNixykCQFR+TdXmVyHARawoxvqs/T+G9ioGUD0IQOajBWyjxwTAJkF8G25HA0AQRLGleBwDwEkoilyvjAfA1ujRrDbS/b/B7GnqirkUwOLJ/old0wHAunkDaI3RKMCYuQa6Q2QIwJ3y8Zc3zhLAU+YA/ayj+j9DyIWopD0EwJG8J4bT5yDAEAvfe84UIMBpfa6RXbocwC2yUmtwqSDAGsPAk8HTHcC98j3fstMSwCm+OvbDMPU/rh75bPcVIMCcYZGtpOYBwOJJ8r4cahDArrQf8AADEsDKA20tP3QGwMs/QCYtrQNAdMBe9YqN8D9SwE0+IcEXwGjsEe+GBiDAdevpJ+hy+T8o6W3eyPIawPY7XS+0VP6/5N3GFe3pEsD65zD6OV8jwK2qcHTFrgPA6U37hrxGG8D1dgxmPZcCQB+WdVufNANA7cydTvmXJMAlFcCDyAr/P4wu/pcpewLAsJXYUhf2BkBC9EE1vq0IwBqvUZmYXQHAyOZbl8AC6r9oe/JUw/UCQORT+4Tt0hHAVAMF27RJIsBqc3d4EimSP0KI+hMc7AFA+h4WTv0VDsAyrS8vd/cgwECiUu1Zsv6/xEpLZQs4I8AVOm5zha8YwL7jx59fAwLAU2OjYM2BIMABq/FBG1MBwBK9UdHBNxnANTWvKKYLAUAR8eA+lYoDQFlXEaIbEgVAfJT5EzsP9j/RZWVRTDACwNNV5geP7P4/hbxnkrn7IsDOq/Q/wBwTwO7GlVGvu/i/Errfqx2F+j+gg7INBGz1P4M4HGpuCQNA042X/GgcGcBWCC3YvmsXwM1HlwTmKAPAyr37dBm9I8AqCWCFr07+Pxpci2a0mfy/eHcI6ByaBEDUchxVZ93zP/RkmQrLjgPAARB6VcvNHMD3cwFaxqEawF2dOiglJxfAWwEAzw78A0DwJ4CZL+oIQCWr21PRngPAgi47jIUgAMDYln6pI8j/vxn1T/HTJhHAqp5sxjQuAcDf749UPjYIwIiFKjZZKP0/DmiN/9Kn7L/bjLzrJ9QiwHzA5rF8+gNAvzj8ooNNFcAOt3Tz9uciwOzYJwX7kyLAJERUaLaTAUBSQAd3ui3svzlml6Xckfg/oeXUdBY2H8D2dAYzUAPpv4D/jjLA+fy/gaxUw414AkB9tV8KZRMBQLhYbYBqrxTAm4QE+9ca/b8+T9J8nGjqvxGmphUVTglAHLcBdO6rG8CHeFXhjckKwPFVvy68zgDAFndz69ixDMDYskObOxIjwLxxhIi7bQjA9E9wipr1C8A2B6lBakH+PzvHKXPuk/c/3AdGwblf9T91Kw0jvlX7P4dmGp2azx/AK3PxB9vR9T+hSzBRgO30v+AvukYibvU/QDUcWOfA5D+kYgKhjkQJwKrOZ560Wve/+HI0cnB19r8KX2WAjmr2v2uKZKznVf8/FjEgB7/K8T84udxO8b0CwBd93BwI8wRA6ORUtL2wBMDsnneC5eQCQCxi+iSQZxPARS5xI0s1BED5Bvj70LQjwKHOB2jK6wXASMRFT7KpCMBI55yY5zYIwKPgN6Y59wjA0+Z1s+emAsBWHSW5YMEBwFsv2L3UbgjAKIY6yGifGcC81zUEo4UCQEKZliuvA/Q/thQWVEobB8B+pkw/ftYBQJyHY0OMtx7ALeDjgn+z+T/c0APMvIcUwAvFHmvAOATA4qPdYVcUAUDf7Ez7kDkgwFJrtir6rxLA1lA/Ds2d/T+NQsm9g4f/P8xK+ZFhZSLAc8qg0pMa8z/TWEeP1J0SwBMFoi/F0f2/YOHJ6xP49r+kCkh3JSkEQNqyiThfofw/6qItvjlLG8BA8GpuNOENwD61+j2AuwrAtx48UM8IFMBTDYoyRqj/P2qF7nb71BnA5CddXmcsFsD9SsZmSusAQBcFENJTIxXAFUgNQMgaIcCsNvnRb60IQLQ65YNeqA/AilX8v/WA+j8UqEFvgbUDwFfmwys86ANAphZB3HSV/z+9OEpJSh7+P28K2V0mXQXASNpOO5MXBED0npw9r1D3P8qd7fg8ax3ABKE1bpeXAEB+fSuB57QCwBcVrOhjgg7ANk6Tpm6VFMCnlQszmh31v7Tx0hAOOwTAN6PL56saAUBWtl5IEPX5P9RMTWGq9RbAfqmi9UFH/D+KU1946ZQEQCDjGjItPvk/PuxAvjuB+T8=",
          "dtype": "f8"
         },
         "y": {
          "bdata": "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",
          "dtype": "f8"
         },
         "z": {
          "bdata": "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",
          "dtype": "f8"
         }
        }
       ],
       "layout": {
        "scene": {
         "xaxis": {
          "title": {
           "text": "X"
          }
         },
         "yaxis": {
          "title": {
           "text": "Y"
          }
         },
         "zaxis": {
          "title": {
           "text": "Z"
          }
         }
        },
        "template": {
         "data": {
          "bar": [
           {
            "error_x": {
             "color": "#2a3f5f"
            },
            "error_y": {
             "color": "#2a3f5f"
            },
            "marker": {
             "line": {
              "color": "#E5ECF6",
              "width": 0.5
             },
             "pattern": {
              "fillmode": "overlay",
              "size": 10,
              "solidity": 0.2
             }
            },
            "type": "bar"
           }
          ],
          "barpolar": [
           {
            "marker": {
             "line": {
              "color": "#E5ECF6",
              "width": 0.5
             },
             "pattern": {
              "fillmode": "overlay",
              "size": 10,
              "solidity": 0.2
             }
            },
            "type": "barpolar"
           }
          ],
          "carpet": [
           {
            "aaxis": {
             "endlinecolor": "#2a3f5f",
             "gridcolor": "white",
             "linecolor": "white",
             "minorgridcolor": "white",
             "startlinecolor": "#2a3f5f"
            },
            "baxis": {
             "endlinecolor": "#2a3f5f",
             "gridcolor": "white",
             "linecolor": "white",
             "minorgridcolor": "white",
             "startlinecolor": "#2a3f5f"
            },
            "type": "carpet"
           }
          ],
          "choropleth": [
           {
            "colorbar": {
             "outlinewidth": 0,
             "ticks": ""
            },
            "type": "choropleth"
           }
          ],
          "contour": [
           {
            "colorbar": {
             "outlinewidth": 0,
             "ticks": ""
            },
            "colorscale": [
             [
              0,
              "#0d0887"
             ],
             [
              0.1111111111111111,
              "#46039f"
             ],
             [
              0.2222222222222222,
              "#7201a8"
             ],
             [
              0.3333333333333333,
              "#9c179e"
             ],
             [
              0.4444444444444444,
              "#bd3786"
             ],
             [
              0.5555555555555556,
              "#d8576b"
             ],
             [
              0.6666666666666666,
              "#ed7953"
             ],
             [
              0.7777777777777778,
              "#fb9f3a"
             ],
             [
              0.8888888888888888,
              "#fdca26"
             ],
             [
              1,
              "#f0f921"
             ]
            ],
            "type": "contour"
           }
          ],
          "contourcarpet": [
           {
            "colorbar": {
             "outlinewidth": 0,
             "ticks": ""
            },
            "type": "contourcarpet"
           }
          ],
          "heatmap": [
           {
            "colorbar": {
             "outlinewidth": 0,
             "ticks": ""
            },
            "colorscale": [
             [
              0,
              "#0d0887"
             ],
             [
              0.1111111111111111,
              "#46039f"
             ],
             [
              0.2222222222222222,
              "#7201a8"
             ],
             [
              0.3333333333333333,
              "#9c179e"
             ],
             [
              0.4444444444444444,
              "#bd3786"
             ],
             [
              0.5555555555555556,
              "#d8576b"
             ],
             [
              0.6666666666666666,
              "#ed7953"
             ],
             [
              0.7777777777777778,
              "#fb9f3a"
             ],
             [
              0.8888888888888888,
              "#fdca26"
             ],
             [
              1,
              "#f0f921"
             ]
            ],
            "type": "heatmap"
           }
          ],
          "histogram": [
           {
            "marker": {
             "pattern": {
              "fillmode": "overlay",
              "size": 10,
              "solidity": 0.2
             }
            },
            "type": "histogram"
           }
          ],
          "histogram2d": [
           {
            "colorbar": {
             "outlinewidth": 0,
             "ticks": ""
            },
            "colorscale": [
             [
              0,
              "#0d0887"
             ],
             [
              0.1111111111111111,
              "#46039f"
             ],
             [
              0.2222222222222222,
              "#7201a8"
             ],
             [
              0.3333333333333333,
              "#9c179e"
             ],
             [
              0.4444444444444444,
              "#bd3786"
             ],
             [
              0.5555555555555556,
              "#d8576b"
             ],
             [
              0.6666666666666666,
              "#ed7953"
             ],
             [
              0.7777777777777778,
              "#fb9f3a"
             ],
             [
              0.8888888888888888,
              "#fdca26"
             ],
             [
              1,
              "#f0f921"
             ]
            ],
            "type": "histogram2d"
           }
          ],
          "histogram2dcontour": [
           {
            "colorbar": {
             "outlinewidth": 0,
             "ticks": ""
            },
            "colorscale": [
             [
              0,
              "#0d0887"
             ],
             [
              0.1111111111111111,
              "#46039f"
             ],
             [
              0.2222222222222222,
              "#7201a8"
             ],
             [
              0.3333333333333333,
              "#9c179e"
             ],
             [
              0.4444444444444444,
              "#bd3786"
             ],
             [
              0.5555555555555556,
              "#d8576b"
             ],
             [
              0.6666666666666666,
              "#ed7953"
             ],
             [
              0.7777777777777778,
              "#fb9f3a"
             ],
             [
              0.8888888888888888,
              "#fdca26"
             ],
             [
              1,
              "#f0f921"
             ]
            ],
            "type": "histogram2dcontour"
           }
          ],
          "mesh3d": [
           {
            "colorbar": {
             "outlinewidth": 0,
             "ticks": ""
            },
            "type": "mesh3d"
           }
          ],
          "parcoords": [
           {
            "line": {
             "colorbar": {
              "outlinewidth": 0,
              "ticks": ""
             }
            },
            "type": "parcoords"
           }
          ],
          "pie": [
           {
            "automargin": true,
            "type": "pie"
           }
          ],
          "scatter": [
           {
            "fillpattern": {
             "fillmode": "overlay",
             "size": 10,
             "solidity": 0.2
            },
            "type": "scatter"
           }
          ],
          "scatter3d": [
           {
            "line": {
             "colorbar": {
              "outlinewidth": 0,
              "ticks": ""
             }
            },
            "marker": {
             "colorbar": {
              "outlinewidth": 0,
              "ticks": ""
             }
            },
            "type": "scatter3d"
           }
          ],
          "scattercarpet": [
           {
            "marker": {
             "colorbar": {
              "outlinewidth": 0,
              "ticks": ""
             }
            },
            "type": "scattercarpet"
           }
          ],
          "scattergeo": [
           {
            "marker": {
             "colorbar": {
              "outlinewidth": 0,
              "ticks": ""
             }
            },
            "type": "scattergeo"
           }
          ],
          "scattergl": [
           {
            "marker": {
             "colorbar": {
              "outlinewidth": 0,
              "ticks": ""
             }
            },
            "type": "scattergl"
           }
          ],
          "scattermap": [
           {
            "marker": {
             "colorbar": {
              "outlinewidth": 0,
              "ticks": ""
             }
            },
            "type": "scattermap"
           }
          ],
          "scattermapbox": [
           {
            "marker": {
             "colorbar": {
              "outlinewidth": 0,
              "ticks": ""
             }
            },
            "type": "scattermapbox"
           }
          ],
          "scatterpolar": [
           {
            "marker": {
             "colorbar": {
              "outlinewidth": 0,
              "ticks": ""
             }
            },
            "type": "scatterpolar"
           }
          ],
          "scatterpolargl": [
           {
            "marker": {
             "colorbar": {
              "outlinewidth": 0,
              "ticks": ""
             }
            },
            "type": "scatterpolargl"
           }
          ],
          "scatterternary": [
           {
            "marker": {
             "colorbar": {
              "outlinewidth": 0,
              "ticks": ""
             }
            },
            "type": "scatterternary"
           }
          ],
          "surface": [
           {
            "colorbar": {
             "outlinewidth": 0,
             "ticks": ""
            },
            "colorscale": [
             [
              0,
              "#0d0887"
             ],
             [
              0.1111111111111111,
              "#46039f"
             ],
             [
              0.2222222222222222,
              "#7201a8"
             ],
             [
              0.3333333333333333,
              "#9c179e"
             ],
             [
              0.4444444444444444,
              "#bd3786"
             ],
             [
              0.5555555555555556,
              "#d8576b"
             ],
             [
              0.6666666666666666,
              "#ed7953"
             ],
             [
              0.7777777777777778,
              "#fb9f3a"
             ],
             [
              0.8888888888888888,
              "#fdca26"
             ],
             [
              1,
              "#f0f921"
             ]
            ],
            "type": "surface"
           }
          ],
          "table": [
           {
            "cells": {
             "fill": {
              "color": "#EBF0F8"
             },
             "line": {
              "color": "white"
             }
            },
            "header": {
             "fill": {
              "color": "#C8D4E3"
             },
             "line": {
              "color": "white"
             }
            },
            "type": "table"
           }
          ]
         },
         "layout": {
          "annotationdefaults": {
           "arrowcolor": "#2a3f5f",
           "arrowhead": 0,
           "arrowwidth": 1
          },
          "autotypenumbers": "strict",
          "coloraxis": {
           "colorbar": {
            "outlinewidth": 0,
            "ticks": ""
           }
          },
          "colorscale": {
           "diverging": [
            [
             0,
             "#8e0152"
            ],
            [
             0.1,
             "#c51b7d"
            ],
            [
             0.2,
             "#de77ae"
            ],
            [
             0.3,
             "#f1b6da"
            ],
            [
             0.4,
             "#fde0ef"
            ],
            [
             0.5,
             "#f7f7f7"
            ],
            [
             0.6,
             "#e6f5d0"
            ],
            [
             0.7,
             "#b8e186"
            ],
            [
             0.8,
             "#7fbc41"
            ],
            [
             0.9,
             "#4d9221"
            ],
            [
             1,
             "#276419"
            ]
           ],
           "sequential": [
            [
             0,
             "#0d0887"
            ],
            [
             0.1111111111111111,
             "#46039f"
            ],
            [
             0.2222222222222222,
             "#7201a8"
            ],
            [
             0.3333333333333333,
             "#9c179e"
            ],
            [
             0.4444444444444444,
             "#bd3786"
            ],
            [
             0.5555555555555556,
             "#d8576b"
            ],
            [
             0.6666666666666666,
             "#ed7953"
            ],
            [
             0.7777777777777778,
             "#fb9f3a"
            ],
            [
             0.8888888888888888,
             "#fdca26"
            ],
            [
             1,
             "#f0f921"
            ]
           ],
           "sequentialminus": [
            [
             0,
             "#0d0887"
            ],
            [
             0.1111111111111111,
             "#46039f"
            ],
            [
             0.2222222222222222,
             "#7201a8"
            ],
            [
             0.3333333333333333,
             "#9c179e"
            ],
            [
             0.4444444444444444,
             "#bd3786"
            ],
            [
             0.5555555555555556,
             "#d8576b"
            ],
            [
             0.6666666666666666,
             "#ed7953"
            ],
            [
             0.7777777777777778,
             "#fb9f3a"
            ],
            [
             0.8888888888888888,
             "#fdca26"
            ],
            [
             1,
             "#f0f921"
            ]
           ]
          },
          "colorway": [
           "#636efa",
           "#EF553B",
           "#00cc96",
           "#ab63fa",
           "#FFA15A",
           "#19d3f3",
           "#FF6692",
           "#B6E880",
           "#FF97FF",
           "#FECB52"
          ],
          "font": {
           "color": "#2a3f5f"
          },
          "geo": {
           "bgcolor": "white",
           "lakecolor": "white",
           "landcolor": "#E5ECF6",
           "showlakes": true,
           "showland": true,
           "subunitcolor": "white"
          },
          "hoverlabel": {
           "align": "left"
          },
          "hovermode": "closest",
          "mapbox": {
           "style": "light"
          },
          "paper_bgcolor": "white",
          "plot_bgcolor": "#E5ECF6",
          "polar": {
           "angularaxis": {
            "gridcolor": "white",
            "linecolor": "white",
            "ticks": ""
           },
           "bgcolor": "#E5ECF6",
           "radialaxis": {
            "gridcolor": "white",
            "linecolor": "white",
            "ticks": ""
           }
          },
          "scene": {
           "xaxis": {
            "backgroundcolor": "#E5ECF6",
            "gridcolor": "white",
            "gridwidth": 2,
            "linecolor": "white",
            "showbackground": true,
            "ticks": "",
            "zerolinecolor": "white"
           },
           "yaxis": {
            "backgroundcolor": "#E5ECF6",
            "gridcolor": "white",
            "gridwidth": 2,
            "linecolor": "white",
            "showbackground": true,
            "ticks": "",
            "zerolinecolor": "white"
           },
           "zaxis": {
            "backgroundcolor": "#E5ECF6",
            "gridcolor": "white",
            "gridwidth": 2,
            "linecolor": "white",
            "showbackground": true,
            "ticks": "",
            "zerolinecolor": "white"
           }
          },
          "shapedefaults": {
           "line": {
            "color": "#2a3f5f"
           }
          },
          "ternary": {
           "aaxis": {
            "gridcolor": "white",
            "linecolor": "white",
            "ticks": ""
           },
           "baxis": {
            "gridcolor": "white",
            "linecolor": "white",
            "ticks": ""
           },
           "bgcolor": "#E5ECF6",
           "caxis": {
            "gridcolor": "white",
            "linecolor": "white",
            "ticks": ""
           }
          },
          "title": {
           "x": 0.05
          },
          "xaxis": {
           "automargin": true,
           "gridcolor": "white",
           "linecolor": "white",
           "ticks": "",
           "title": {
            "standoff": 15
           },
           "zerolinecolor": "white",
           "zerolinewidth": 2
          },
          "yaxis": {
           "automargin": true,
           "gridcolor": "white",
           "linecolor": "white",
           "ticks": "",
           "title": {
            "standoff": 15
           },
           "zerolinecolor": "white",
           "zerolinewidth": 2
          }
         }
        },
        "title": {
         "text": "3D Scatter Plot"
        }
       }
      }
     },
     "metadata": {},
     "output_type": "display_data"
    }
   ],
   "source": [
    "# Создание графика\n",
    "fig = go.Figure(data=[go.Scatter3d(\n",
    "    x=df_2[\"F0\"],\n",
    "    y=df_2[\"F1\"],\n",
    "    z=df_2[\"F2\"],\n",
    "    mode='markers',\n",
    "    marker=dict(\n",
    "        size=8,\n",
    "        color=df_2[\"LABEL\"],  # Цвет зависит от значения z\n",
    "        colorscale='Viridis',\n",
    "        opacity=0.8\n",
    "    )\n",
    ")])\n",
    "\n",
    "# Настройки макета\n",
    "fig.update_layout(\n",
    "    title='3D Scatter Plot',\n",
    "    scene=dict(\n",
    "        xaxis_title='X',\n",
    "        yaxis_title='Y',\n",
    "        zaxis_title='Z'\n",
    "    )\n",
    ")\n",
    "\n",
    "fig.show()"
   ]
  },
  {
   "cell_type": "code",
   "execution_count": 56,
   "id": "eb9af61c",
   "metadata": {},
   "outputs": [
    {
     "data": {
      "text/plain": [
       "0    667\n",
       "1    333\n",
       "dtype: int64"
      ]
     },
     "execution_count": 56,
     "metadata": {},
     "output_type": "execute_result"
    }
   ],
   "source": [
    "pd.Series(agg_labels).value_counts()"
   ]
  },
  {
   "cell_type": "markdown",
   "id": "93e74c42",
   "metadata": {},
   "source": [
    "---\n",
    "Задание 4.\n",
    "\n",
    "Произведите процедуру кластеризации данных из dataset3 методом DBSCAN с использованием евклидовой метрики для оценки расстояния, а также радиусом равным 0.3 и минимальное количество точек равным 10. Сколько кластеров получилось?"
   ]
  },
  {
   "cell_type": "code",
   "execution_count": 58,
   "id": "24a45fe4",
   "metadata": {},
   "outputs": [
    {
     "name": "stdout",
     "output_type": "stream",
     "text": [
      "Количество кластеров: 6\n"
     ]
    }
   ],
   "source": [
    "import pandas as pd\n",
    "from sklearn.cluster import DBSCAN\n",
    "\n",
    "X = df_3.drop(columns=['LABEL'])    \n",
    "true_labels = df_3['LABEL']       \n",
    "\n",
    "\n",
    "dbscan = DBSCAN(eps=0.3, min_samples=10, metric='euclidean')\n",
    "labels = dbscan.fit_predict(X)\n",
    "\n",
    "\n",
    "unique_labels = set(labels)  # Получаем уникальные метки кластеров\n",
    "num_clusters = len(unique_labels) - (1 if -1 in unique_labels else 0)  # Исключаем шум (-1)\n",
    "\n",
    "print(f\"Количество кластеров: {num_clusters}\")"
   ]
  },
  {
   "cell_type": "markdown",
   "id": "0393c350",
   "metadata": {},
   "source": [
    "---\n",
    "Задание 5.\n",
    "\n",
    "Произведите процедуру кластеризации данных из dataset3 методом DBSCAN с использованием евклидовой метрики для оценки расстояния, а также радиусом равным 1.5 и минимальное количество точек равным 8. Выберете верные утверждения. Обратите внимание, что обозначения cluster_0, cluster_1, cluster_2 соответствуют нумерации ожидаемых кластеров, которые указаны в колонке ‘LABEL’."
   ]
  },
  {
   "cell_type": "code",
   "execution_count": 59,
   "id": "ab018b63",
   "metadata": {},
   "outputs": [
    {
     "name": "stdout",
     "output_type": "stream",
     "text": [
      "Количество кластеров: 3\n"
     ]
    }
   ],
   "source": [
    "\n",
    "dbscan = DBSCAN(eps=1.5, min_samples=8, metric='euclidean')\n",
    "predicted_labels = dbscan.fit_predict(X)\n",
    "\n",
    "unique_labels = set(predicted_labels)  # Получаем уникальные метки кластеров\n",
    "num_clusters = len(unique_labels) - (1 if -1 in unique_labels else 0)  # Исключаем шум (-1)\n",
    "\n",
    "print(f\"Количество кластеров: {num_clusters}\")"
   ]
  },
  {
   "cell_type": "code",
   "execution_count": 60,
   "id": "1d64df49",
   "metadata": {},
   "outputs": [
    {
     "data": {
      "application/vnd.plotly.v1+json": {
       "config": {
        "plotlyServerURL": "https://plot.ly"
       },
       "data": [
        {
         "marker": {
          "color": {
           "bdata": "AAECAAEAAgACAQACAAAAAAD/AQACAQIAAgEAAQECAgIBAQEBAAIBAAIBAgEBAAEBAQIAAQICAAACAgICAAABAAIBAAIAAgAAAQEAAAIBAgAAAAACAgAAAQIAAQIAAv8BAQAAAQACAQL/AgACAgEAAgIBAQIBAgECAgIAAgIBAAIBAgIBAQIBAgACAQICAAICAgIAAgACAQEBAQECAgEAAAICAAIAAQEBAgICAAACAQEAAQEBAgACAQABAAEAAgECAQIBAAECAAEAAgIBAAIBAAEBAQABAQAAAAIAAQICAAEAAgEBAQAAAQIBAQECAQACAgEAAAEAAgICAQEBAQIAAgIAAQIBAAIBAAEAAgEBAQIAAQECAAAAAgAAAAIAAAIAAgIAAQACAAAAAQICAAACAQIBAAAAAgIBAQACAAABAQAAAQECAAEAAgAAAAL/AQEBAAECAgEAAQIAAgEAAAIBAAICAgIBAQACAAICAgEAAgICAAECAf8BAQEBAQAAAQECAQEBAAEAAQACAQABAQIAAgIBAAEAAgIAAAEAAAECAQABAAIAAAAAAQICAAABAgEBAAEAAgABAQACAgH/AAD/AgEAAgICAAECAAAAAAECAgEAAgEBAgACAgECAQIAAQIBAAECAQAAAgIAAgECAAIBAgEBAQEBAQAAAQIAAAAAAQIBAQICAAEAAQECAQEBAQACAgABAQICAgACAQACAQACAAIAAAIAAQEBAAABAgIAAAAAAgABAgIBAgAAAQIAAAECAQICAgACAgICAgICAQEAAQABAgACAAEAAgACAgL/AAEAAAEBAgAAAgAAAgIBAgIBAgEBAQABAgIAAQAAAgEBAAAAAQICAQECAAIAAgAAAv8CAAEBAAAAAAIAAgIAAgIBAgIAAAEAAAECAgACAAEBAAIBAAABAAECAAAAAAIBAQEAAAECAAECAAEC/wACAAEBAgICAgEBAQACAgEBAQACAAIAAgACAQEAAAIAAAACAgEAAQEBAQACAQACAQEBAAACAgECAQEBAgACAgECAQECAgAAAAICAQECAQECAQECAQEAAQAAAAIA/wACAQACAgICAgIBAgAAAAABAQICAQIAAgIAAgEBAgEAAQAAAgECAgABAAIAAgIAAgACAQEBAQAB/wIAAQEBAgIAAgEAAQEAAgICAQEAAAAAAAABAAIBAgICAQABAgAAAQECAAABAgAAAgIAAAEBAQECAQABAQAAAAABAQABAAECAf8AAAAAAAAA/wEBAAECAQIAAf8CAQECAQIAAAEBAgAAAAECAgEC/wEAAQABAQEAAQECAQAAAgAAAQECAQEBAQ==",
           "dtype": "i1"
          },
          "colorscale": [
           [
            0,
            "#440154"
           ],
           [
            0.1111111111111111,
            "#482878"
           ],
           [
            0.2222222222222222,
            "#3e4989"
           ],
           [
            0.3333333333333333,
            "#31688e"
           ],
           [
            0.4444444444444444,
            "#26828e"
           ],
           [
            0.5555555555555556,
            "#1f9e89"
           ],
           [
            0.6666666666666666,
            "#35b779"
           ],
           [
            0.7777777777777778,
            "#6ece58"
           ],
           [
            0.8888888888888888,
            "#b5de2b"
           ],
           [
            1,
            "#fde725"
           ]
          ],
          "opacity": 0.8,
          "size": 8
         },
         "mode": "markers",
         "type": "scatter3d",
         "x": {
          "bdata": "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",
          "dtype": "f8"
         },
         "y": {
          "bdata": "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",
          "dtype": "f8"
         },
         "z": {
          "bdata": "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",
          "dtype": "f8"
         }
        }
       ],
       "layout": {
        "scene": {
         "xaxis": {
          "title": {
           "text": "X"
          }
         },
         "yaxis": {
          "title": {
           "text": "Y"
          }
         },
         "zaxis": {
          "title": {
           "text": "Z"
          }
         }
        },
        "template": {
         "data": {
          "bar": [
           {
            "error_x": {
             "color": "#2a3f5f"
            },
            "error_y": {
             "color": "#2a3f5f"
            },
            "marker": {
             "line": {
              "color": "#E5ECF6",
              "width": 0.5
             },
             "pattern": {
              "fillmode": "overlay",
              "size": 10,
              "solidity": 0.2
             }
            },
            "type": "bar"
           }
          ],
          "barpolar": [
           {
            "marker": {
             "line": {
              "color": "#E5ECF6",
              "width": 0.5
             },
             "pattern": {
              "fillmode": "overlay",
              "size": 10,
              "solidity": 0.2
             }
            },
            "type": "barpolar"
           }
          ],
          "carpet": [
           {
            "aaxis": {
             "endlinecolor": "#2a3f5f",
             "gridcolor": "white",
             "linecolor": "white",
             "minorgridcolor": "white",
             "startlinecolor": "#2a3f5f"
            },
            "baxis": {
             "endlinecolor": "#2a3f5f",
             "gridcolor": "white",
             "linecolor": "white",
             "minorgridcolor": "white",
             "startlinecolor": "#2a3f5f"
            },
            "type": "carpet"
           }
          ],
          "choropleth": [
           {
            "colorbar": {
             "outlinewidth": 0,
             "ticks": ""
            },
            "type": "choropleth"
           }
          ],
          "contour": [
           {
            "colorbar": {
             "outlinewidth": 0,
             "ticks": ""
            },
            "colorscale": [
             [
              0,
              "#0d0887"
             ],
             [
              0.1111111111111111,
              "#46039f"
             ],
             [
              0.2222222222222222,
              "#7201a8"
             ],
             [
              0.3333333333333333,
              "#9c179e"
             ],
             [
              0.4444444444444444,
              "#bd3786"
             ],
             [
              0.5555555555555556,
              "#d8576b"
             ],
             [
              0.6666666666666666,
              "#ed7953"
             ],
             [
              0.7777777777777778,
              "#fb9f3a"
             ],
             [
              0.8888888888888888,
              "#fdca26"
             ],
             [
              1,
              "#f0f921"
             ]
            ],
            "type": "contour"
           }
          ],
          "contourcarpet": [
           {
            "colorbar": {
             "outlinewidth": 0,
             "ticks": ""
            },
            "type": "contourcarpet"
           }
          ],
          "heatmap": [
           {
            "colorbar": {
             "outlinewidth": 0,
             "ticks": ""
            },
            "colorscale": [
             [
              0,
              "#0d0887"
             ],
             [
              0.1111111111111111,
              "#46039f"
             ],
             [
              0.2222222222222222,
              "#7201a8"
             ],
             [
              0.3333333333333333,
              "#9c179e"
             ],
             [
              0.4444444444444444,
              "#bd3786"
             ],
             [
              0.5555555555555556,
              "#d8576b"
             ],
             [
              0.6666666666666666,
              "#ed7953"
             ],
             [
              0.7777777777777778,
              "#fb9f3a"
             ],
             [
              0.8888888888888888,
              "#fdca26"
             ],
             [
              1,
              "#f0f921"
             ]
            ],
            "type": "heatmap"
           }
          ],
          "histogram": [
           {
            "marker": {
             "pattern": {
              "fillmode": "overlay",
              "size": 10,
              "solidity": 0.2
             }
            },
            "type": "histogram"
           }
          ],
          "histogram2d": [
           {
            "colorbar": {
             "outlinewidth": 0,
             "ticks": ""
            },
            "colorscale": [
             [
              0,
              "#0d0887"
             ],
             [
              0.1111111111111111,
              "#46039f"
             ],
             [
              0.2222222222222222,
              "#7201a8"
             ],
             [
              0.3333333333333333,
              "#9c179e"
             ],
             [
              0.4444444444444444,
              "#bd3786"
             ],
             [
              0.5555555555555556,
              "#d8576b"
             ],
             [
              0.6666666666666666,
              "#ed7953"
             ],
             [
              0.7777777777777778,
              "#fb9f3a"
             ],
             [
              0.8888888888888888,
              "#fdca26"
             ],
             [
              1,
              "#f0f921"
             ]
            ],
            "type": "histogram2d"
           }
          ],
          "histogram2dcontour": [
           {
            "colorbar": {
             "outlinewidth": 0,
             "ticks": ""
            },
            "colorscale": [
             [
              0,
              "#0d0887"
             ],
             [
              0.1111111111111111,
              "#46039f"
             ],
             [
              0.2222222222222222,
              "#7201a8"
             ],
             [
              0.3333333333333333,
              "#9c179e"
             ],
             [
              0.4444444444444444,
              "#bd3786"
             ],
             [
              0.5555555555555556,
              "#d8576b"
             ],
             [
              0.6666666666666666,
              "#ed7953"
             ],
             [
              0.7777777777777778,
              "#fb9f3a"
             ],
             [
              0.8888888888888888,
              "#fdca26"
             ],
             [
              1,
              "#f0f921"
             ]
            ],
            "type": "histogram2dcontour"
           }
          ],
          "mesh3d": [
           {
            "colorbar": {
             "outlinewidth": 0,
             "ticks": ""
            },
            "type": "mesh3d"
           }
          ],
          "parcoords": [
           {
            "line": {
             "colorbar": {
              "outlinewidth": 0,
              "ticks": ""
             }
            },
            "type": "parcoords"
           }
          ],
          "pie": [
           {
            "automargin": true,
            "type": "pie"
           }
          ],
          "scatter": [
           {
            "fillpattern": {
             "fillmode": "overlay",
             "size": 10,
             "solidity": 0.2
            },
            "type": "scatter"
           }
          ],
          "scatter3d": [
           {
            "line": {
             "colorbar": {
              "outlinewidth": 0,
              "ticks": ""
             }
            },
            "marker": {
             "colorbar": {
              "outlinewidth": 0,
              "ticks": ""
             }
            },
            "type": "scatter3d"
           }
          ],
          "scattercarpet": [
           {
            "marker": {
             "colorbar": {
              "outlinewidth": 0,
              "ticks": ""
             }
            },
            "type": "scattercarpet"
           }
          ],
          "scattergeo": [
           {
            "marker": {
             "colorbar": {
              "outlinewidth": 0,
              "ticks": ""
             }
            },
            "type": "scattergeo"
           }
          ],
          "scattergl": [
           {
            "marker": {
             "colorbar": {
              "outlinewidth": 0,
              "ticks": ""
             }
            },
            "type": "scattergl"
           }
          ],
          "scattermap": [
           {
            "marker": {
             "colorbar": {
              "outlinewidth": 0,
              "ticks": ""
             }
            },
            "type": "scattermap"
           }
          ],
          "scattermapbox": [
           {
            "marker": {
             "colorbar": {
              "outlinewidth": 0,
              "ticks": ""
             }
            },
            "type": "scattermapbox"
           }
          ],
          "scatterpolar": [
           {
            "marker": {
             "colorbar": {
              "outlinewidth": 0,
              "ticks": ""
             }
            },
            "type": "scatterpolar"
           }
          ],
          "scatterpolargl": [
           {
            "marker": {
             "colorbar": {
              "outlinewidth": 0,
              "ticks": ""
             }
            },
            "type": "scatterpolargl"
           }
          ],
          "scatterternary": [
           {
            "marker": {
             "colorbar": {
              "outlinewidth": 0,
              "ticks": ""
             }
            },
            "type": "scatterternary"
           }
          ],
          "surface": [
           {
            "colorbar": {
             "outlinewidth": 0,
             "ticks": ""
            },
            "colorscale": [
             [
              0,
              "#0d0887"
             ],
             [
              0.1111111111111111,
              "#46039f"
             ],
             [
              0.2222222222222222,
              "#7201a8"
             ],
             [
              0.3333333333333333,
              "#9c179e"
             ],
             [
              0.4444444444444444,
              "#bd3786"
             ],
             [
              0.5555555555555556,
              "#d8576b"
             ],
             [
              0.6666666666666666,
              "#ed7953"
             ],
             [
              0.7777777777777778,
              "#fb9f3a"
             ],
             [
              0.8888888888888888,
              "#fdca26"
             ],
             [
              1,
              "#f0f921"
             ]
            ],
            "type": "surface"
           }
          ],
          "table": [
           {
            "cells": {
             "fill": {
              "color": "#EBF0F8"
             },
             "line": {
              "color": "white"
             }
            },
            "header": {
             "fill": {
              "color": "#C8D4E3"
             },
             "line": {
              "color": "white"
             }
            },
            "type": "table"
           }
          ]
         },
         "layout": {
          "annotationdefaults": {
           "arrowcolor": "#2a3f5f",
           "arrowhead": 0,
           "arrowwidth": 1
          },
          "autotypenumbers": "strict",
          "coloraxis": {
           "colorbar": {
            "outlinewidth": 0,
            "ticks": ""
           }
          },
          "colorscale": {
           "diverging": [
            [
             0,
             "#8e0152"
            ],
            [
             0.1,
             "#c51b7d"
            ],
            [
             0.2,
             "#de77ae"
            ],
            [
             0.3,
             "#f1b6da"
            ],
            [
             0.4,
             "#fde0ef"
            ],
            [
             0.5,
             "#f7f7f7"
            ],
            [
             0.6,
             "#e6f5d0"
            ],
            [
             0.7,
             "#b8e186"
            ],
            [
             0.8,
             "#7fbc41"
            ],
            [
             0.9,
             "#4d9221"
            ],
            [
             1,
             "#276419"
            ]
           ],
           "sequential": [
            [
             0,
             "#0d0887"
            ],
            [
             0.1111111111111111,
             "#46039f"
            ],
            [
             0.2222222222222222,
             "#7201a8"
            ],
            [
             0.3333333333333333,
             "#9c179e"
            ],
            [
             0.4444444444444444,
             "#bd3786"
            ],
            [
             0.5555555555555556,
             "#d8576b"
            ],
            [
             0.6666666666666666,
             "#ed7953"
            ],
            [
             0.7777777777777778,
             "#fb9f3a"
            ],
            [
             0.8888888888888888,
             "#fdca26"
            ],
            [
             1,
             "#f0f921"
            ]
           ],
           "sequentialminus": [
            [
             0,
             "#0d0887"
            ],
            [
             0.1111111111111111,
             "#46039f"
            ],
            [
             0.2222222222222222,
             "#7201a8"
            ],
            [
             0.3333333333333333,
             "#9c179e"
            ],
            [
             0.4444444444444444,
             "#bd3786"
            ],
            [
             0.5555555555555556,
             "#d8576b"
            ],
            [
             0.6666666666666666,
             "#ed7953"
            ],
            [
             0.7777777777777778,
             "#fb9f3a"
            ],
            [
             0.8888888888888888,
             "#fdca26"
            ],
            [
             1,
             "#f0f921"
            ]
           ]
          },
          "colorway": [
           "#636efa",
           "#EF553B",
           "#00cc96",
           "#ab63fa",
           "#FFA15A",
           "#19d3f3",
           "#FF6692",
           "#B6E880",
           "#FF97FF",
           "#FECB52"
          ],
          "font": {
           "color": "#2a3f5f"
          },
          "geo": {
           "bgcolor": "white",
           "lakecolor": "white",
           "landcolor": "#E5ECF6",
           "showlakes": true,
           "showland": true,
           "subunitcolor": "white"
          },
          "hoverlabel": {
           "align": "left"
          },
          "hovermode": "closest",
          "mapbox": {
           "style": "light"
          },
          "paper_bgcolor": "white",
          "plot_bgcolor": "#E5ECF6",
          "polar": {
           "angularaxis": {
            "gridcolor": "white",
            "linecolor": "white",
            "ticks": ""
           },
           "bgcolor": "#E5ECF6",
           "radialaxis": {
            "gridcolor": "white",
            "linecolor": "white",
            "ticks": ""
           }
          },
          "scene": {
           "xaxis": {
            "backgroundcolor": "#E5ECF6",
            "gridcolor": "white",
            "gridwidth": 2,
            "linecolor": "white",
            "showbackground": true,
            "ticks": "",
            "zerolinecolor": "white"
           },
           "yaxis": {
            "backgroundcolor": "#E5ECF6",
            "gridcolor": "white",
            "gridwidth": 2,
            "linecolor": "white",
            "showbackground": true,
            "ticks": "",
            "zerolinecolor": "white"
           },
           "zaxis": {
            "backgroundcolor": "#E5ECF6",
            "gridcolor": "white",
            "gridwidth": 2,
            "linecolor": "white",
            "showbackground": true,
            "ticks": "",
            "zerolinecolor": "white"
           }
          },
          "shapedefaults": {
           "line": {
            "color": "#2a3f5f"
           }
          },
          "ternary": {
           "aaxis": {
            "gridcolor": "white",
            "linecolor": "white",
            "ticks": ""
           },
           "baxis": {
            "gridcolor": "white",
            "linecolor": "white",
            "ticks": ""
           },
           "bgcolor": "#E5ECF6",
           "caxis": {
            "gridcolor": "white",
            "linecolor": "white",
            "ticks": ""
           }
          },
          "title": {
           "x": 0.05
          },
          "xaxis": {
           "automargin": true,
           "gridcolor": "white",
           "linecolor": "white",
           "ticks": "",
           "title": {
            "standoff": 15
           },
           "zerolinecolor": "white",
           "zerolinewidth": 2
          },
          "yaxis": {
           "automargin": true,
           "gridcolor": "white",
           "linecolor": "white",
           "ticks": "",
           "title": {
            "standoff": 15
           },
           "zerolinecolor": "white",
           "zerolinewidth": 2
          }
         }
        },
        "title": {
         "text": "3D Scatter Plot"
        }
       }
      }
     },
     "metadata": {},
     "output_type": "display_data"
    }
   ],
   "source": [
    "# Создание графика\n",
    "fig = go.Figure(data=[go.Scatter3d(\n",
    "    x=df_3[\"F0\"],\n",
    "    y=df_3[\"F1\"],\n",
    "    z=df_3[\"F2\"],\n",
    "    mode='markers',\n",
    "    marker=dict(\n",
    "        size=8,\n",
    "        color=predicted_labels,  # Цвет зависит от значения z\n",
    "        colorscale='Viridis',\n",
    "        opacity=0.8\n",
    "    )\n",
    ")])\n",
    "\n",
    "# Настройки макета\n",
    "fig.update_layout(\n",
    "    title='3D Scatter Plot',\n",
    "    scene=dict(\n",
    "        xaxis_title='X',\n",
    "        yaxis_title='Y',\n",
    "        zaxis_title='Z'\n",
    "    )\n",
    ")\n",
    "\n",
    "fig.show()"
   ]
  },
  {
   "cell_type": "code",
   "execution_count": null,
   "id": "f686e1fc",
   "metadata": {},
   "outputs": [],
   "source": []
  }
 ],
 "metadata": {
  "kernelspec": {
   "display_name": "dlenv",
   "language": "python",
   "name": "python3"
  },
  "language_info": {
   "codemirror_mode": {
    "name": "ipython",
    "version": 3
   },
   "file_extension": ".py",
   "mimetype": "text/x-python",
   "name": "python",
   "nbconvert_exporter": "python",
   "pygments_lexer": "ipython3",
   "version": "3.11.11"
  }
 },
 "nbformat": 4,
 "nbformat_minor": 5
}
