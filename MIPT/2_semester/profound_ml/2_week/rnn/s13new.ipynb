{
 "cells": [
  {
   "cell_type": "markdown",
   "id": "a012f39b-d7fe-4157-aa4c-b30710cba0c5",
   "metadata": {},
   "source": [
    "# Семинар 13\n",
    "\n",
    "RNN\n",
    "\n",
    "Д.В. Яценко, по мотивам [семинара](https://in.harbour.space/data-science/deep-learning-in-applications-radoslav-neychev-anastasia-ianina/)"
   ]
  },
  {
   "cell_type": "code",
   "execution_count": 1,
   "id": "fec21698-8b9b-4535-9ba8-13bd00e19a10",
   "metadata": {
    "tags": []
   },
   "outputs": [],
   "source": [
    "from sklearn.preprocessing import StandardScaler\n",
    "from sklearn.metrics import accuracy_score\n",
    "import torch\n",
    "from torch import nn\n",
    "import torch.nn.functional as F\n",
    "from torch.nn import Linear,Embedding,Sequential,ReLU,Dropout,BatchNorm1d,CrossEntropyLoss,Sigmoid\n",
    "from torch.optim import Adam,RMSprop\n",
    "from torch.autograd import Variable\n",
    "import numpy as np\n",
    "from random import sample\n",
    "import re\n",
    "import pandas as pd\n",
    "import numpy as np\n",
    "import seaborn as sns\n",
    "import matplotlib.pyplot as plt\n",
    "from sklearn.datasets import fetch_20newsgroups\n",
    "from IPython.display import clear_output\n",
    "import matplotlib.pyplot as plt\n",
    "np.random.seed(0)"
   ]
  },
  {
   "cell_type": "code",
   "execution_count": 2,
   "id": "2bc41017-c3b6-48e9-b832-33dce3592127",
   "metadata": {
    "tags": []
   },
   "outputs": [],
   "source": [
    "BATCH_SIZE=1024"
   ]
  },
  {
   "cell_type": "markdown",
   "id": "083cb353-7656-4286-affc-2f36174d3055",
   "metadata": {},
   "source": [
    "## Затухание градиента"
   ]
  },
  {
   "cell_type": "code",
   "execution_count": 35,
   "id": "60b7ab40-9016-4e3e-b292-67ec74a270f3",
   "metadata": {
    "tags": []
   },
   "outputs": [],
   "source": [
    "train_source = fetch_20newsgroups(subset='train')\n",
    "test_source = fetch_20newsgroups(subset='test')"
   ]
  },
  {
   "cell_type": "code",
   "execution_count": 4,
   "id": "34ecdb9a-1677-4354-b647-c350ae2111c9",
   "metadata": {
    "tags": []
   },
   "outputs": [
    {
     "name": "stdout",
     "output_type": "stream",
     "text": [
      "From: lerxst@wam.umd.edu (where's my thing)\n",
      "Subject: WHAT car is this!?\n",
      "Nntp-Posting-Host: rac3.wam.umd.edu\n",
      "Organization: University of Maryland, College Park\n",
      "Lines: 15\n",
      "\n",
      " I was wondering if anyone out there could enlighten me on this car I saw\n",
      "the other day. It was a 2-door sports car, looked to be from the late 60s/\n",
      "early 70s. It was called a Bricklin. The doors were really small. In addition,\n",
      "the front bumper was separate from the rest of the body. This is \n",
      "all I know. If anyone can tellme a model name, engine specs, years\n",
      "of production, where this car is made, history, or whatever info you\n",
      "have on this funky looking car, please e-mail.\n",
      "\n",
      "Thanks,\n",
      "- IL\n",
      "   ---- brought to you by your neighborhood Lerxst ----\n",
      "\n",
      "\n",
      "\n",
      "\n",
      "\n"
     ]
    }
   ],
   "source": [
    "print(train_source['data'][0])"
   ]
  },
  {
   "cell_type": "code",
   "execution_count": 5,
   "id": "78ab67b8-967c-4041-b077-3c9ab6be9941",
   "metadata": {
    "tags": []
   },
   "outputs": [],
   "source": [
    "def rm_head(src):\n",
    "    data=[]\n",
    "    for t in src:\n",
    "        if len(t.split(\"Lines:\"))==2:\n",
    "            data.append(t.split(\"Lines:\")[1][4:])\n",
    "        elif len(t.split(\"Organization:\"))==2:\n",
    "            data.append(t.split(\"Organization:\")[1])\n",
    "        else: data.append(t)\n",
    "    return data    \n",
    "train_source['data']=rm_head(train_source['data']) \n",
    "test_source['data']=rm_head(test_source['data'])     "
   ]
  },
  {
   "cell_type": "code",
   "execution_count": 6,
   "id": "4fdc56a7-2221-451c-b107-8da1e0a08635",
   "metadata": {
    "tags": []
   },
   "outputs": [
    {
     "data": {
      "text/plain": [
       "'\\n I was wondering if anyone out there could enlighten me on this car I saw\\nthe other day. It was a 2-door sports car, looked to be from the late 60s/\\nearly 70s. It was called a Bricklin. The doors were really small. In addition,\\nthe front bumper was separate from the rest of the body. This is \\nall I know. If anyone can tellme a model name, engine specs, years\\nof production, where this car is made, history, or whatever info you\\nhave on this funky looking car, please e-mail.\\n\\nThanks,\\n- IL\\n   ---- brought to you by your neighborhood Lerxst ----\\n\\n\\n\\n\\n'"
      ]
     },
     "execution_count": 6,
     "metadata": {},
     "output_type": "execute_result"
    }
   ],
   "source": [
    "train_source['data'][0]"
   ]
  },
  {
   "cell_type": "code",
   "execution_count": 7,
   "id": "33c496d6-8ee0-4168-921e-a80dc266fe49",
   "metadata": {
    "tags": []
   },
   "outputs": [],
   "source": [
    "TOKEN_RE = re.compile(r'[\\w\\d]+')\n",
    "def tokenize_text_simple_regex(txt, min_token_size=4):\n",
    "    txt = txt.lower()\n",
    "    all_tokens = TOKEN_RE.findall(txt)\n",
    "    return [token for token in all_tokens if len(token) >= min_token_size]\n",
    "def tokenize_corpus(texts, tokenizer=tokenize_text_simple_regex, **tokenizer_kwargs):\n",
    "    return [tokenizer(text, **tokenizer_kwargs) for text in texts]"
   ]
  },
  {
   "cell_type": "code",
   "execution_count": 8,
   "id": "755c6bd3-a661-49bc-90c6-e151456bcbdf",
   "metadata": {
    "tags": []
   },
   "outputs": [],
   "source": [
    "train_tokenized = tokenize_corpus(train_source['data'])\n",
    "test_tokenized = tokenize_corpus(test_source['data'])"
   ]
  },
  {
   "cell_type": "code",
   "execution_count": 9,
   "id": "e152b7d2-9311-46c7-868b-b73d5da59423",
   "metadata": {},
   "outputs": [],
   "source": [
    "from gensim.models import Word2Vec\n",
    "vec = Word2Vec(train_tokenized,vector_size=32,min_count=5,window=5).wv"
   ]
  },
  {
   "cell_type": "code",
   "execution_count": 10,
   "id": "61d8e83b-08d2-4837-981c-9cf9799f0357",
   "metadata": {},
   "outputs": [],
   "source": [
    "word_set=[]\n",
    "vec_texts=np.zeros(32)\n",
    "for text in train_tokenized:\n",
    "    vec_text=np.zeros(32)\n",
    "    for word in text:\n",
    "        if word in vec:\n",
    "            vec_text+=vec[word]\n",
    "            word_set.append(word)        \n",
    "    vec_texts=np.vstack((vec_texts,vec_text))\n",
    "vec_texts=np.delete(vec_texts,0,axis=0)\n",
    "word_set=set(word_set)\n",
    "UNIQUE_WORDS_N=len(word_set)"
   ]
  },
  {
   "cell_type": "code",
   "execution_count": 11,
   "id": "7729e5db-2eee-4c93-9997-191a250b9380",
   "metadata": {
    "tags": []
   },
   "outputs": [],
   "source": [
    "device = torch.device(\"cuda:1\" if torch.cuda.is_available() else \"cpu\")\n",
    "# model = Sequential(Linear(32,32),BatchNorm1d(32),Sigmoid(),Linear(32, 32),BatchNorm1d(32),Sigmoid(), Linear(32, 32),BatchNorm1d(32),Sigmoid(), Linear(32, 32),BatchNorm1d(32),Sigmoid(), Linear(32,len(set(train_source['target']))) ).to(device)\n",
    "model = Sequential(Linear(32,32),BatchNorm1d(32),ReLU(),Linear(32, 32),BatchNorm1d(32),ReLU(), Linear(32, 32),BatchNorm1d(32),ReLU(), Linear(32, 32),BatchNorm1d(32),ReLU(), Linear(32,len(set(train_source['target']))) ).to(device)\n",
    "BATCH=len(vec_texts)//200\n",
    "optim=RMSprop(model.parameters(), lr=0.001)\n",
    "shed=torch.optim.lr_scheduler.ReduceLROnPlateau(optim,patience=35)\n",
    "loss=CrossEntropyLoss()"
   ]
  },
  {
   "cell_type": "code",
   "execution_count": 12,
   "id": "309e4130-17bf-427c-9e28-063cc65e2697",
   "metadata": {
    "tags": []
   },
   "outputs": [],
   "source": [
    "targets=torch.tensor(train_source['target'])\n",
    "vec_texts=torch.tensor(vec_texts,dtype=torch.float)"
   ]
  },
  {
   "cell_type": "code",
   "execution_count": 13,
   "id": "3a5b50e5-2488-405e-a977-5b8e80e60f33",
   "metadata": {
    "tags": []
   },
   "outputs": [
    {
     "data": {
      "image/png": "[encoded data removed]",
      "text/plain": [
       "<Figure size 640x480 with 1 Axes>"
      ]
     },
     "metadata": {},
     "output_type": "display_data"
    },
    {
     "data": {
      "text/plain": [
       "tensor(2.0540, device='cuda:1')"
      ]
     },
     "execution_count": 13,
     "metadata": {},
     "output_type": "execute_result"
    }
   ],
   "source": [
    "hist_loss=[]\n",
    "for e in range(20):\n",
    "    epoch_loss=0\n",
    "    for i in range(len(vec_texts)//BATCH):\n",
    "        optim.zero_grad()\n",
    "        ix = np.random.randint(0, len(vec_texts),BATCH)\n",
    "        x=vec_texts[ix].to(device)\n",
    "        y=targets[ix].to(device)\n",
    "        pred=model(x)    \n",
    "        L=loss(pred,y)\n",
    "        L.backward()\n",
    "        epoch_loss+=L.cpu().data\n",
    "        optim.step() \n",
    "        shed.step(L)\n",
    "    clear_output(True)\n",
    "    hist_loss.append(float(epoch_loss)/i)\n",
    "    plt.plot(hist_loss)\n",
    "    plt.show()\n",
    "# model.cpu()\n",
    "L.detach()"
   ]
  },
  {
   "cell_type": "code",
   "execution_count": 14,
   "id": "437d8367-6f96-4f5b-8c68-95da9dc83955",
   "metadata": {
    "tags": []
   },
   "outputs": [
    {
     "name": "stdout",
     "output_type": "stream",
     "text": [
      "Доля верных ответов 0.3743150079547463\n"
     ]
    }
   ],
   "source": [
    "pred=model.forward(vec_texts.to(device))\n",
    "pred=pred.cpu()\n",
    "print('Доля верных ответов', accuracy_score(targets, pred.argmax(-1)))"
   ]
  },
  {
   "cell_type": "code",
   "execution_count": 15,
   "id": "830194b5-622f-4d8f-aced-2d3de09e4e64",
   "metadata": {
    "tags": []
   },
   "outputs": [],
   "source": [
    "n=torch.empty(0)\n",
    "L=loss(pred,targets)\n",
    "L.backward()\n",
    "for l in model.parameters():\n",
    "    d=l.grad\n",
    "    # print(d.shape)\n",
    "    if len(d.shape)==2:\n",
    "        n=torch.cat((n,sum(d.data.cpu())))\n",
    "n=n.reshape(-1,32)        "
   ]
  },
  {
   "cell_type": "code",
   "execution_count": 16,
   "id": "78410d41-d60b-4104-990c-8fa0813cb7fe",
   "metadata": {
    "tags": []
   },
   "outputs": [
    {
     "data": {
      "image/png": "[encoded data removed]",
      "text/plain": [
       "<Figure size 640x480 with 2 Axes>"
      ]
     },
     "metadata": {},
     "output_type": "display_data"
    }
   ],
   "source": [
    "sns.set()\n",
    "ax = sns.heatmap(n, vmin=0, vmax=1)\n",
    "plt.show()"
   ]
  },
  {
   "cell_type": "markdown",
   "id": "ce4c7dc7-75df-42f7-a7cd-37148ff19846",
   "metadata": {},
   "source": [
    "## Проза"
   ]
  },
  {
   "cell_type": "code",
   "execution_count": 17,
   "id": "d873984d-866a-45d0-9998-50fdabf49b03",
   "metadata": {
    "tags": []
   },
   "outputs": [
    {
     "name": "stdout",
     "output_type": "stream",
     "text": [
      "--2024-05-03 20:21:44--  https://github.com/d-yacenko/data/raw/main/war_and_peace.txt\n",
      "Распознаётся github.com (github.com)… 140.82.121.4\n",
      "Подключение к github.com (github.com)|140.82.121.4|:443... соединение установлено.\n",
      "HTTP-запрос отправлен. Ожидание ответа… 302 Found\n",
      "Адрес: https://raw.githubusercontent.com/d-yacenko/data/main/war_and_peace.txt [переход]\n",
      "--2024-05-03 20:21:44--  https://raw.githubusercontent.com/d-yacenko/data/main/war_and_peace.txt\n",
      "Распознаётся raw.githubusercontent.com (raw.githubusercontent.com)… 185.199.108.133, 185.199.109.133, 185.199.110.133, ...\n",
      "Подключение к raw.githubusercontent.com (raw.githubusercontent.com)|185.199.108.133|:443... соединение установлено.\n",
      "HTTP-запрос отправлен. Ожидание ответа… 200 OK\n",
      "Длина: 1398793 (1,3M) [text/plain]\n",
      "Сохранение в: «war_and_peace.txt.6»\n",
      "\n",
      "war_and_peace.txt.6 100%[===================>]   1,33M  4,21MB/s    за 0,3s    \n",
      "\n",
      "2024-05-03 20:21:45 (4,21 MB/s) - «war_and_peace.txt.6» сохранён [1398793/1398793]\n",
      "\n",
      "--2024-05-03 20:21:45--  https://github.com/d-yacenko/data/raw/main/author_quotes.txt\n",
      "Распознаётся github.com (github.com)… 140.82.121.3\n",
      "Подключение к github.com (github.com)|140.82.121.3|:443... соединение установлено.\n",
      "HTTP-запрос отправлен. Ожидание ответа… 302 Found\n",
      "Адрес: https://raw.githubusercontent.com/d-yacenko/data/main/author_quotes.txt [переход]\n",
      "--2024-05-03 20:21:46--  https://raw.githubusercontent.com/d-yacenko/data/main/author_quotes.txt\n",
      "Распознаётся raw.githubusercontent.com (raw.githubusercontent.com)… 185.199.108.133, 185.199.109.133, 185.199.110.133, ...\n",
      "Подключение к raw.githubusercontent.com (raw.githubusercontent.com)|185.199.108.133|:443... соединение установлено.\n",
      "HTTP-запрос отправлен. Ожидание ответа… 200 OK\n",
      "Длина: 4757084 (4,5M) [text/plain]\n",
      "Сохранение в: «author_quotes.txt.6»\n",
      "\n",
      "author_quotes.txt.6 100%[===================>]   4,54M  7,39MB/s    за 0,6s    \n",
      "\n",
      "2024-05-03 20:21:47 (7,39 MB/s) - «author_quotes.txt.6» сохранён [4757084/4757084]\n",
      "\n"
     ]
    }
   ],
   "source": [
    "!wget https://github.com/d-yacenko/data/raw/main/war_and_peace.txt\n",
    "!wget https://github.com/d-yacenko/data/raw/main/author_quotes.txt"
   ]
  },
  {
   "cell_type": "code",
   "execution_count": 3,
   "id": "925b2338-8047-480a-b8d5-e9e592e40dfa",
   "metadata": {
    "tags": []
   },
   "outputs": [],
   "source": [
    "with open('war_and_peace.txt') as input_file:\n",
    "    quotes = input_file.read()[:-1].split('\\n')\n",
    "    quotes = [' ' + line for line in quotes]"
   ]
  },
  {
   "cell_type": "code",
   "execution_count": 4,
   "id": "92a3a431-4a68-4adc-b35f-3f7ffacd8c61",
   "metadata": {
    "tags": []
   },
   "outputs": [],
   "source": [
    "tokens = list(set(''.join(quotes)))\n",
    "tokens.sort()\n",
    "token_to_id = {token: idx for idx, token in enumerate(tokens)}\n",
    "num_tokens = len(tokens)"
   ]
  },
  {
   "cell_type": "code",
   "execution_count": 5,
   "id": "fd5c2534-67a8-4098-bd38-133181a3d1f1",
   "metadata": {},
   "outputs": [
    {
     "data": {
      "text/plain": [
       "143"
      ]
     },
     "execution_count": 5,
     "metadata": {},
     "output_type": "execute_result"
    }
   ],
   "source": [
    "num_tokens"
   ]
  },
  {
   "cell_type": "code",
   "execution_count": 6,
   "id": "333e5b7c-a300-4806-b658-d47d80dcab76",
   "metadata": {
    "tags": []
   },
   "outputs": [
    {
     "name": "stdout",
     "output_type": "stream",
     "text": [
      "Seems alright!\n"
     ]
    }
   ],
   "source": [
    "assert len(tokens) == len(token_to_id), \"dictionaries must have same size\"\n",
    "\n",
    "for i in range(num_tokens):\n",
    "    assert token_to_id[tokens[i]] == i, \"token identifier must be it's position in tokens list\"\n",
    "\n",
    "print(\"Seems alright!\")"
   ]
  },
  {
   "cell_type": "code",
   "execution_count": 7,
   "id": "89157b45-59af-49a4-8d3f-481c596891e2",
   "metadata": {
    "tags": []
   },
   "outputs": [],
   "source": [
    "def to_matrix(data, token_to_id, max_len=None, dtype='int32', batch_first = True):\n",
    "    \"\"\"Casts a list of names into rnn-digestable matrix\"\"\"\n",
    "    \n",
    "    max_len = max_len or max(map(len, data))\n",
    "    data_ix = np.zeros([len(data), max_len], dtype) + token_to_id[' ']\n",
    "\n",
    "    for i in range(len(data)):\n",
    "        line_ix = [token_to_id[c] for c in data[i]]\n",
    "        data_ix[i, :len(line_ix)] = line_ix\n",
    "        \n",
    "    if not batch_first: # convert [batch, time] into [time, batch]\n",
    "        data_ix = np.transpose(data_ix)\n",
    "\n",
    "    return data_ix"
   ]
  },
  {
   "cell_type": "code",
   "execution_count": 8,
   "id": "5209a704-1332-4eb3-b6bd-3278fc10688a",
   "metadata": {
    "tags": []
   },
   "outputs": [
    {
     "name": "stdout",
     "output_type": "stream",
     "text": [
      "                           Лев Николаевич Толстой\n",
      "   - Экое золото у меня этот Митенька, - прибавил граф улыбаясь, когда молодой\n",
      " (сноска 44) Расскажите нам это, виконт,\n",
      " подбирая кожу над левым глазом, - malgre la haute estime que je professe pour\n",
      "   - Как однако странно, - сказала Вера, выбрав общую минуту молчания, - что\n",
      " обращаясь в его сторону. - Для чего вы, неверующий в истины света и не видящий\n",
      "   \"Нет, теперь уже не упущу случая, как после Аустерлица, думал он, ожидая всякую\n",
      "[[  0   0   0   0   0   0   0   0   0   0   0   0   0   0   0   0   0   0\n",
      "    0   0   0   0   0   0   0   0   0  91 115 112   0  93 118 120 124 121\n",
      "  110 115 112 118 133   0  98 124 121 127 128 124 119   0   0   0   0   0\n",
      "    0   0   0   0   0   0   0   0   0   0   0   0   0   0   0   0   0   0\n",
      "    0   0   0   0   0   0   0   0   0   0]\n",
      " [  0   0   0  10   0 107 120 124 115   0 117 124 121 124 128 124   0 129\n",
      "    0 122 115 123 141   0 139 128 124 128   0  92 118 128 115 123 138 120\n",
      "  110   9   0  10   0 125 126 118 111 110 112 118 121   0 113 126 110 130\n",
      "    0 129 121 137 111 110 141 127 138   9   0 120 124 113 114 110   0 122\n",
      "  124 121 124 114 124 119   0   0   0   0]\n",
      " [  0   6 127 123 124 127 120 110   0  17  17   7   0  96 110 127 127 120\n",
      "  110 116 118 128 115   0 123 110 122   0 139 128 124   9   0 112 118 120\n",
      "  124 123 128   9   0   0   0   0   0   0   0   0   0   0   0   0   0   0\n",
      "    0   0   0   0   0   0   0   0   0   0   0   0   0   0   0   0   0   0\n",
      "    0   0   0   0   0   0   0   0   0   0]\n",
      " [  0 125 124 114 111 118 126 110 141   0 120 124 116 129   0 123 110 114\n",
      "    0 121 115 112 137 122   0 113 121 110 117 124 122   9   0  10   0  66\n",
      "   54  65  60  71  58   0  65  54   0  61  54  74  73  58   0  58  72  73\n",
      "   62  66  58   0  70  74  58   0  63  58   0  69  71  68  59  58  72  72\n",
      "   58   0  69  68  74  71   0   0   0   0]\n",
      " [  0   0   0  10   0  90 110 120   0 124 114 123 110 120 124   0 127 128\n",
      "  126 110 123 123 124   9   0  10   0 127 120 110 117 110 121 110   0  82\n",
      "  115 126 110   9   0 112 137 111 126 110 112   0 124 111 135 129 140   0\n",
      "  122 118 123 129 128 129   0 122 124 121 133 110 123 118 141   9   0  10\n",
      "    0 133 128 124   0   0   0   0   0   0]\n",
      " [  0 124 111 126 110 135 110 141 127 138   0 112   0 115 113 124   0 127\n",
      "  128 124 126 124 123 129  11   0  10   0  84 121 141   0 133 115 113 124\n",
      "    0 112 137   9   0 123 115 112 115 126 129 140 135 118 119   0 112   0\n",
      "  118 127 128 118 123 137   0 127 112 115 128 110   0 118   0 123 115   0\n",
      "  112 118 114 141 135 118 119   0   0   0]\n",
      " [  0   0   0   2  93 115 128   9   0 128 115 125 115 126 138   0 129 116\n",
      "  115   0 123 115   0 129 125 129 135 129   0 127 121 129 133 110 141   9\n",
      "    0 120 110 120   0 125 124 127 121 115   0  80 129 127 128 115 126 121\n",
      "  118 132 110   9   0 114 129 122 110 121   0 124 123   9   0 124 116 118\n",
      "  114 110 141   0 112 127 141 120 129 140]]\n"
     ]
    }
   ],
   "source": [
    "print('\\n'.join(quotes[::2000]))\n",
    "print(to_matrix(quotes[::2000], token_to_id))"
   ]
  },
  {
   "cell_type": "markdown",
   "id": "db0d3634-186e-43eb-b5ee-0c97feb2121e",
   "metadata": {},
   "source": [
    "## RNN"
   ]
  },
  {
   "cell_type": "markdown",
   "id": "e8b1c99a-2511-45a8-9521-4ae80736c7ea",
   "metadata": {},
   "source": [
    "![rnn](https://raw.githubusercontent.com/sic-rus-ai/stepik-dl-nlp/9398e845a1e57415f746dca77c0b557602a4902b//img/rnn.png)"
   ]
  },
  {
   "cell_type": "code",
   "execution_count": 9,
   "id": "de37773f-31d6-4b8f-bb34-f7eb28d4e372",
   "metadata": {},
   "outputs": [],
   "source": [
    "device = torch.device(\"cuda:1\" if torch.cuda.is_available() else \"cpu\")"
   ]
  },
  {
   "cell_type": "code",
   "execution_count": 10,
   "id": "b4eab031-af36-489b-85e6-007fc6f5e16f",
   "metadata": {
    "tags": []
   },
   "outputs": [],
   "source": [
    "class CharRNNCell(nn.Module):\n",
    "    \"\"\"\n",
    "    Implement the scheme above as torch module\n",
    "    \"\"\"\n",
    "    def __init__(self, num_tokens=len(tokens), embedding_size=15, rnn_num_units=1024):\n",
    "        super(self.__class__,self).__init__()\n",
    "        self.num_units = rnn_num_units\n",
    "        \n",
    "        self.embedding = nn.Embedding(num_tokens, embedding_size)\n",
    "        self.rnn_update = nn.Linear(embedding_size + rnn_num_units, rnn_num_units)\n",
    "        self.rnn_to_logits = nn.Linear(rnn_num_units, num_tokens)\n",
    "        \n",
    "    def forward(self, x, h_prev):\n",
    "        \"\"\"\n",
    "        This method computes h_next(x, h_prev) and log P(x_next | h_next)\n",
    "        We'll call it repeatedly to produce the whole sequence.\n",
    "        \n",
    "        :param x: batch of character ids, variable containing vector of int64\n",
    "        :param h_prev: previous rnn hidden states, variable containing matrix [batch, rnn_num_units] of float32\n",
    "        \"\"\"\n",
    "        # get vector embedding of x\n",
    "        x_emb = self.embedding(x)\n",
    "        \n",
    "        # compute next hidden state using self.rnn_update\n",
    "        x_and_h = torch.cat([x_emb, h_prev], dim=1) #YOUR CODE HERE\n",
    "        h_next = self.rnn_update(x_and_h) #YOUR CODE HERE\n",
    "        h_next = F.tanh(h_next)\n",
    "        \n",
    "        assert h_next.size() == h_prev.size()\n",
    "        \n",
    "        #compute logits for next character probs\n",
    "        logits = self.rnn_to_logits(h_next)\n",
    "        \n",
    "        return h_next, logits\n",
    "        # return h_next, F.log_softmax(logits, dim=-1)\n",
    "    \n",
    "    def initial_state(self, batch_size):\n",
    "        \"\"\" return rnn state before it processes first input (aka h0) \"\"\"\n",
    "        return Variable(torch.zeros(batch_size, self.num_units))"
   ]
  },
  {
   "cell_type": "code",
   "execution_count": 11,
   "id": "fbc9bc6c-8d58-4a63-b4a4-b00a6187ed27",
   "metadata": {
    "tags": []
   },
   "outputs": [],
   "source": [
    "def rnn_loop(rnn, batch_index):\n",
    "    \"\"\"\n",
    "    Computes log P(next_character) for all time-steps in names_ix\n",
    "    :param names_ix: an int32 matrix of shape [batch, time], output of to_matrix(names)\n",
    "    \"\"\"\n",
    "    batch_size, max_length = batch_index.size()\n",
    "    hid_state = rnn.initial_state(batch_size).to(device)\n",
    "    logprobs = []\n",
    "\n",
    "    for x_t in batch_index.transpose(0,1):\n",
    "        hid_state, logp_next = rnn(x_t, hid_state)  \n",
    "        logprobs.append(logp_next)\n",
    "       \n",
    "    return torch.stack(logprobs, dim=1)"
   ]
  },
  {
   "cell_type": "code",
   "execution_count": 15,
   "id": "9ee2a81a-b7cc-43d0-abba-a0d75d4ca899",
   "metadata": {
    "tags": []
   },
   "outputs": [],
   "source": [
    "char_rnn = CharRNNCell().to(device)\n",
    "opt = torch.optim.Adam(char_rnn.parameters())\n",
    "history = []\n",
    "loss_func = nn.CrossEntropyLoss()"
   ]
  },
  {
   "cell_type": "code",
   "execution_count": 16,
   "id": "269aa35b-0758-4e75-a3f4-d2e4718414a1",
   "metadata": {
    "tags": []
   },
   "outputs": [],
   "source": [
    "MAX_LENGTH = max(map(len, quotes))"
   ]
  },
  {
   "cell_type": "code",
   "execution_count": 14,
   "id": "03ec6f16-efd3-4552-b0cf-35e7858303f2",
   "metadata": {
    "tags": []
   },
   "outputs": [
    {
     "data": {
      "image/png": "[encoded data removed]",
      "text/plain": [
       "<Figure size 640x480 with 1 Axes>"
      ]
     },
     "metadata": {},
     "output_type": "display_data"
    }
   ],
   "source": [
    "for i in range(2000):\n",
    "    batch_ix = to_matrix(sample(quotes, BATCH_SIZE), token_to_id, max_len=MAX_LENGTH)\n",
    "    batch_ix = torch.tensor(batch_ix, dtype=torch.int64).to(device)\n",
    "    \n",
    "    logp_seq = rnn_loop(char_rnn, batch_ix)\n",
    "    \n",
    "    # compute loss\n",
    "    predictions_logp = logp_seq[:, :-1]\n",
    "    actual_next_tokens = batch_ix[:, 1:]\n",
    "\n",
    "    # loss = -torch.mean(torch.gather(predictions_logp, dim=2, index=actual_next_tokens[:,:,None]))\n",
    "    loss = loss_func(\n",
    "    predictions_logp.reshape((-1, num_tokens)),\n",
    "    actual_next_tokens.reshape(-1)\n",
    "    )\n",
    "    # train with backprop\n",
    "    loss.backward()\n",
    "    opt.step()\n",
    "    opt.zero_grad()\n",
    "    \n",
    "    # visualizing training process\n",
    "    history.append(loss.cpu().data.numpy())\n",
    "    if (i + 1) % 100 == 0:\n",
    "        clear_output(True)\n",
    "        plt.plot(history,label='loss')\n",
    "        plt.legend()\n",
    "        plt.show()\n",
    "\n",
    "assert np.mean(history[:10]) > np.mean(history[-10:]), \"RNN didn't converge.\""
   ]
  },
  {
   "cell_type": "code",
   "execution_count": 20,
   "id": "0c178db6-37d2-473e-a4ed-89a85f412961",
   "metadata": {
    "tags": []
   },
   "outputs": [
    {
     "data": {
      "text/plain": [
       "<All keys matched successfully>"
      ]
     },
     "execution_count": 20,
     "metadata": {},
     "output_type": "execute_result"
    }
   ],
   "source": [
    "# torch.save(char_rnn.state_dict(), \"rnn.pt\")\n",
    "char_rnn.load_state_dict(torch.load(\"rnn.pt\"))"
   ]
  },
  {
   "cell_type": "code",
   "execution_count": 18,
   "id": "0c76a9ac-6541-44bf-9098-4181081f1fb2",
   "metadata": {
    "tags": []
   },
   "outputs": [],
   "source": [
    "def generate_sample(char_rnn, seed_phrase=' ', max_length=MAX_LENGTH, temperature=0.3):\n",
    "    '''\n",
    "    The function generates text given a phrase of length at least SEQ_LENGTH.\n",
    "    :param seed_phrase: prefix characters. The RNN is asked to continue the phrase\n",
    "    :param max_length: maximum output length, including seed_phrase\n",
    "    :param temperature: coefficient for sampling.  higher temperature produces more chaotic outputs,\n",
    "                        smaller temperature converges to the single most likely output\n",
    "    '''\n",
    "    \n",
    "    x_sequence = [token_to_id[token] for token in seed_phrase]\n",
    "    x_sequence = torch.tensor([x_sequence], dtype=torch.int64)\n",
    "    hid_state = char_rnn.initial_state(batch_size=1).to(device)\n",
    "    \n",
    "    #feed the seed phrase, if any\n",
    "    for i in range(len(seed_phrase) - 1):\n",
    "        hid_state, _ = char_rnn(x_sequence[:, i].to(device), hid_state)\n",
    "    \n",
    "    #start generating\n",
    "    for _ in range(max_length - len(seed_phrase)):\n",
    "        hid_state, logp_next = char_rnn(x_sequence[:, -1].to(device), hid_state)\n",
    "        p_next = F.softmax(logp_next / temperature, dim=-1).cpu().data.numpy()[0]       \n",
    "        # sample next token and push it back into x_sequence\n",
    "        next_ix = np.random.choice(len(tokens), p=p_next)\n",
    "        next_ix = torch.tensor([[next_ix]], dtype=torch.int64)\n",
    "        x_sequence = torch.cat([x_sequence, next_ix], dim=1)\n",
    "        \n",
    "    return ''.join([tokens[ix] for ix in x_sequence.data.numpy()[0]])"
   ]
  },
  {
   "cell_type": "code",
   "execution_count": 19,
   "id": "80c11051-7bcf-4fdb-9341-7b43a4dee0e5",
   "metadata": {
    "tags": []
   },
   "outputs": [
    {
     "name": "stdout",
     "output_type": "stream",
     "text": [
      " Князь Андрей подъехал к крыльцо и не понимаю, - сказал он, - когда он поднялся и вел\n",
      " Князь Андрей встал и подошел к окну. Но которой после                               \n",
      " Князь Андрей посел стола в то время как он стал                                     \n",
      " Князь Андрей встретившись по пять история с домой. В одно посла в деле, и в комнате \n",
      " Князь Андрей подал ему                                                              \n",
      " Князь Андрей в                                                                      \n",
      " Князь Андрей почувствовал, что все может быть не находил с                          \n",
      " Князь Андрей не отвечая на последние службы обедать к ним исполните его по нем...   \n",
      " Князь Андрей встретившись к                                                         \n",
      " Князь Андрей подъехал к кресло, стараясь по всему солдаты, то на котором он не знал,\n"
     ]
    }
   ],
   "source": [
    "for _ in range(10):\n",
    "    print(generate_sample(char_rnn,seed_phrase=' Князь ',temperature=0.4))"
   ]
  },
  {
   "cell_type": "markdown",
   "id": "92ee9bdf-6260-4ba2-87de-91dda201fec2",
   "metadata": {},
   "source": [
    "## LSTM"
   ]
  },
  {
   "cell_type": "markdown",
   "id": "7025f9df-016b-4d1e-975e-f73df5f2b990",
   "metadata": {},
   "source": [
    "![lstm](https://i.stack.imgur.com/bVXaT.png)\n",
    "\n",
    "source: https://datascience.stackexchange.com/questions/82808/whats-the-difference-between-the-cell-and-hidden-state-in-lstm"
   ]
  },
  {
   "cell_type": "code",
   "execution_count": 9,
   "id": "0701b888-b106-4602-881f-955ac8e1b51f",
   "metadata": {},
   "outputs": [],
   "source": [
    "device = torch.device(\"cuda:0\" if torch.cuda.is_available() else \"cpu\")"
   ]
  },
  {
   "cell_type": "code",
   "execution_count": 10,
   "id": "1c7cbfd5-1a1c-42ce-9a82-2c3340599d8d",
   "metadata": {
    "tags": []
   },
   "outputs": [],
   "source": [
    "class LSTMCell(nn.Module):\n",
    "    \"\"\"\n",
    "    Implement the scheme above as torch module\n",
    "    \"\"\"\n",
    "    \n",
    "    def __init__(self, num_tokens=len(tokens), embedding_size=15, lstm_num_units=1024):    \n",
    "        super(self.__class__,self).__init__()\n",
    "        self.num_units = lstm_num_units  \n",
    "        \n",
    "        self.embedding = nn.Embedding(num_tokens, embedding_size)\n",
    "        self.fc1 = nn.Linear(embedding_size + lstm_num_units, lstm_num_units)\n",
    "        self.fc2 = nn.Linear(embedding_size + lstm_num_units, lstm_num_units)\n",
    "        self.fc3 = nn.Linear(embedding_size + lstm_num_units, lstm_num_units)\n",
    "        self.fc4 = nn.Linear(embedding_size + lstm_num_units, lstm_num_units)\n",
    "      \n",
    "        self.lstm_to_logits = nn.Linear(lstm_num_units, num_tokens)\n",
    "    def forward(self, x, h_prev,c_prev):\n",
    "        \"\"\"\n",
    "        This method computes h_next(x, h_prev) and log P(x_next | h_next)\n",
    "        We'll call it repeatedly to produce the whole sequence.\n",
    "        \n",
    "        :param x: batch of character ids, variable containing vector of int64\n",
    "        :param h_prev: previous lstm hidden states, variable containing matrix [batch, lstm_num_units] of float32\n",
    "        \"\"\"\n",
    "        # x=torch.tensor(x, dtype=torch.int64)\n",
    "        x_emb = self.embedding(x)\n",
    "        x_and_h = torch.cat([x_emb, h_prev], dim=1)\n",
    "        f=F.sigmoid(self.fc1(x_and_h))\n",
    "        i=F.sigmoid(self.fc2(x_and_h))\n",
    "        c=F.tanh(self.fc3(x_and_h))\n",
    "        o=F.sigmoid(self.fc4(x_and_h))\n",
    "        c_next = c_prev*f+i*c\n",
    "        h_next = F.tanh(c_next)*o \n",
    "        logits = self.lstm_to_logits(h_next)\n",
    " \n",
    "        assert h_next.size() == h_prev.size()\n",
    "        assert c_next.size() == c_prev.size()\n",
    "        \n",
    "        #compute logits for next character probs\n",
    "        logits = self.lstm_to_logits(h_next)\n",
    "        \n",
    "        return h_next,c_next, F.log_softmax(logits, -1)\n",
    "    \n",
    "    def initial_state(self, batch_size):\n",
    "        \"\"\" return lstm state before it processes first input (aka h0) \"\"\"\n",
    "        return Variable(torch.zeros(batch_size, self.num_units,dtype=torch.float32)),Variable(torch.zeros(batch_size, self.num_units,dtype=torch.float32))"
   ]
  },
  {
   "cell_type": "code",
   "execution_count": 11,
   "id": "d550b8d9-cf76-4510-a09f-0e0fd1b3e5e8",
   "metadata": {
    "tags": []
   },
   "outputs": [],
   "source": [
    "def lstm_loop(lstm, batch_index):\n",
    "    \"\"\"\n",
    "    :param names_ix: an int32 matrix of shape [batch, time], output of to_matrix(names)\n",
    "    \"\"\"\n",
    "    batch_size, max_length = batch_index.size()\n",
    "    hid_state,cell_state = lstm.initial_state(batch_size)\n",
    "    hid_state=hid_state.to(device)\n",
    "    cell_state=cell_state.to(device)\n",
    "    logprobs = []\n",
    "    \n",
    "    for x_t in batch_index.transpose(0,1):\n",
    "        hid_state, cell_state, logp_next = lstm(x_t, hid_state, cell_state)  \n",
    "        logprobs.append(logp_next)\n",
    "        \n",
    "    return torch.stack(logprobs, dim=1)"
   ]
  },
  {
   "cell_type": "code",
   "execution_count": 12,
   "id": "765525ec-e7f8-4eea-a89d-ed08c23948f6",
   "metadata": {
    "tags": []
   },
   "outputs": [],
   "source": [
    "char_lstm = LSTMCell().to(device)\n",
    "opt = torch.optim.Adam(char_lstm.parameters())\n",
    "history = []"
   ]
  },
  {
   "cell_type": "code",
   "execution_count": 13,
   "id": "e91f4e63-889d-48eb-bbe8-c372f7c2b8a2",
   "metadata": {
    "tags": []
   },
   "outputs": [],
   "source": [
    "MAX_LENGTH = max(map(len, quotes))"
   ]
  },
  {
   "cell_type": "code",
   "execution_count": 26,
   "id": "50f03cb7-97de-4980-9b9b-ca12c1cc1001",
   "metadata": {
    "tags": []
   },
   "outputs": [
    {
     "data": {
      "image/png": "[encoded data removed]",
      "text/plain": [
       "<Figure size 640x480 with 1 Axes>"
      ]
     },
     "metadata": {},
     "output_type": "display_data"
    }
   ],
   "source": [
    "for i in range(2000):\n",
    "    batch_ix = to_matrix(sample(quotes, BATCH_SIZE), token_to_id, max_len=MAX_LENGTH)\n",
    "    batch_ix = torch.tensor(batch_ix, dtype=torch.int64).to(device)\n",
    "    \n",
    "    logp_seq = lstm_loop(char_lstm, batch_ix)\n",
    "    \n",
    "    # compute loss\n",
    "    predictions_logp = logp_seq[:, :-1]\n",
    "    actual_next_tokens = batch_ix[:, 1:]\n",
    "\n",
    "    loss = -torch.mean(torch.gather(predictions_logp, dim=2, index=actual_next_tokens[:,:,None]))###YOUR CODE\n",
    "\n",
    "    # train with backprop\n",
    "    loss.backward()\n",
    "    opt.step()\n",
    "    opt.zero_grad()\n",
    "    \n",
    "    # visualizing training process\n",
    "    history.append(loss.cpu().data.numpy())\n",
    "    if (i + 1) % 100 == 0:\n",
    "        clear_output(True)\n",
    "        plt.plot(history,label='loss')\n",
    "        plt.legend()\n",
    "        plt.show()\n",
    "\n",
    "assert np.mean(history[:10]) > np.mean(history[-10:]), \"LSTM didn't converge.\""
   ]
  },
  {
   "cell_type": "code",
   "execution_count": 14,
   "id": "f9563794-ceac-4edc-b18b-cf3ec7578d70",
   "metadata": {
    "tags": []
   },
   "outputs": [
    {
     "data": {
      "text/plain": [
       "<All keys matched successfully>"
      ]
     },
     "execution_count": 14,
     "metadata": {},
     "output_type": "execute_result"
    }
   ],
   "source": [
    "# torch.save(char_lstm.state_dict(), \"lstm.pt\")\n",
    "char_lstm.load_state_dict(torch.load(\"lstm.pt\"))"
   ]
  },
  {
   "cell_type": "code",
   "execution_count": 15,
   "id": "481390c2-ac03-48f2-a0c6-36a7c7151e62",
   "metadata": {
    "tags": []
   },
   "outputs": [],
   "source": [
    "def generate_sample_lstm(char_rnn, seed_phrase=' ', max_length=MAX_LENGTH, temperature=0.3):\n",
    "    '''\n",
    "    The function generates text given a phrase of length at least SEQ_LENGTH.\n",
    "    :param seed_phrase: prefix characters. The RNN is asked to continue the phrase\n",
    "    :param max_length: maximum output length, including seed_phrase\n",
    "    :param temperature: coefficient for sampling.  higher temperature produces more chaotic outputs,\n",
    "                        smaller temperature converges to the single most likely output\n",
    "    '''\n",
    "    \n",
    "    x_sequence = [token_to_id[token] for token in seed_phrase]\n",
    "    x_sequence = torch.tensor([x_sequence], dtype=torch.int64)\n",
    "    hid_state, cell_state = char_rnn.initial_state(batch_size=1)\n",
    "    hid_state=hid_state.to(device)\n",
    "    cell_state=cell_state.to(device)\n",
    "    #feed the seed phrase, if any\n",
    "    for i in range(len(seed_phrase) - 1):\n",
    "        hid_state,cell_state, _ = char_rnn(x_sequence[:, i].to(device), hid_state, cell_state)\n",
    "    \n",
    "    #start generating\n",
    "    for _ in range(max_length - len(seed_phrase)):\n",
    "        hid_state, cell_state,logp_next = char_rnn(x_sequence[:, -1].to(device), hid_state, cell_state)\n",
    "        p_next = F.softmax(logp_next / temperature, dim=-1).cpu().data.numpy()[0]\n",
    "        \n",
    "        # sample next token and push it back into x_sequence\n",
    "        next_ix = np.random.choice(len(tokens), p=p_next)\n",
    "        next_ix = torch.tensor([[next_ix]], dtype=torch.int64)\n",
    "        x_sequence = torch.cat([x_sequence, next_ix], dim=1)\n",
    "        \n",
    "    return ''.join([tokens[ix] for ix in x_sequence.cpu().data.numpy()[0]])"
   ]
  },
  {
   "cell_type": "code",
   "execution_count": 16,
   "id": "9b3acbda-e32d-4355-ac5b-6205ef274e3e",
   "metadata": {
    "tags": []
   },
   "outputs": [
    {
     "name": "stdout",
     "output_type": "stream",
     "text": [
      " Кутузов старался против полковой командир, подскакивая глаза и сам с своею          \n",
      " Кутузова с восторг, по солдатским гостьми стариками, поднимая причител мертвого     \n",
      " Каристой видел и окружавших его и поправился с ней.                                 \n",
      " Кутузов послал своих гусар, подошел к нему и волная привычка. Как только            \n",
      " Князь Андрей подошел к мене удивленной ноги в руки последний девушке и близки       \n",
      " Когда выше бы и добрые и близко стояли на помощь к обедумку.                        \n",
      " Княжна Марья не могла уполне спроке даже со всею армии и получил об этому.          \n",
      " Кутузов отступил на горе.                                                           \n",
      " Кутузов обестил мужик и замерший генерал, и в этом доме стороны стояла и            \n",
      " Кутузов отвернулся, она с своими разливавшими из старшего после которой сидел       \n"
     ]
    }
   ],
   "source": [
    "for _ in range(10):\n",
    "    print(generate_sample_lstm(char_lstm,seed_phrase=' К',temperature=0.4))"
   ]
  },
  {
   "cell_type": "code",
   "execution_count": null,
   "id": "418eeeac-999e-4010-976d-1e445b11b055",
   "metadata": {},
   "outputs": [],
   "source": []
  }
 ],
 "metadata": {
  "kernelspec": {
   "display_name": "mipt",
   "language": "python",
   "name": "mipt"
  },
  "language_info": {
   "codemirror_mode": {
    "name": "ipython",
    "version": 3
   },
   "file_extension": ".py",
   "mimetype": "text/x-python",
   "name": "python",
   "nbconvert_exporter": "python",
   "pygments_lexer": "ipython3",
   "version": "3.11.9"
  }
 },
 "nbformat": 4,
 "nbformat_minor": 5
}
