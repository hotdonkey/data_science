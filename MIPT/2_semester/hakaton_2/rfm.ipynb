{
 "cells": [
  {
   "cell_type": "code",
   "execution_count": 46,
   "id": "1705032a",
   "metadata": {},
   "outputs": [],
   "source": [
    "import numpy as np\n",
    "import pandas as pd\n",
    "\n",
    "import matplotlib.pyplot as plt\n",
    "import seaborn as sns"
   ]
  },
  {
   "cell_type": "code",
   "execution_count": 47,
   "id": "da7497bc",
   "metadata": {},
   "outputs": [],
   "source": [
    "# Загрузка данных\n",
    "def load_data():\n",
    "    customers = pd.read_csv(\"./clean_data/customers.csv\")\n",
    "    geolocation = pd.read_csv(\"./clean_data/geolocation.csv\")\n",
    "    order_pay = pd.read_csv(\"./clean_data/order_payments.csv\")\n",
    "    reviews = pd.read_csv(\"./clean_data/order_reviews.csv\")\n",
    "    orders = pd.read_csv(\"./clean_data/orders.csv\")\n",
    "    item = pd.read_csv(\"./clean_data/orders_items.csv\")\n",
    "    category_name = pd.read_csv(\n",
    "        \"./clean_data/product_category_name_translation.csv\")\n",
    "    products = pd.read_csv(\"./clean_data/products.csv\")\n",
    "    sellers = pd.read_csv(\"./clean_data/sellers.csv\")\n",
    "    return customers, geolocation, order_pay, reviews, orders, item, category_name, products, sellers\n"
   ]
  },
  {
   "cell_type": "code",
   "execution_count": 48,
   "id": "57d351e9",
   "metadata": {},
   "outputs": [],
   "source": [
    "# Объединение данных\n",
    "def merge_data(orders, item, order_pay, reviews, products, customers, sellers, category_name):\n",
    "    df = orders.merge(item, on='order_id', how='left')\n",
    "    df = df.merge(order_pay, on='order_id', how='outer', validate='m:m')\n",
    "    df = df.merge(reviews, on='order_id', how='outer')\n",
    "    df = df.merge(products, on='product_id', how='outer')\n",
    "    df = df.merge(customers, on='customer_id', how='outer')\n",
    "    df = df.merge(sellers, on='seller_id', how='outer')\n",
    "    df = df.merge(category_name, on=\"product_category_name\", how=\"left\")\n",
    "    return df"
   ]
  },
  {
   "cell_type": "code",
   "execution_count": 49,
   "id": "64ffbc81",
   "metadata": {},
   "outputs": [],
   "source": [
    "# Очистка данных: удаление строк без customer_unique_id\n",
    "def filter_customers(df):\n",
    "    return df[~df[\"customer_unique_id\"].isna()]"
   ]
  },
  {
   "cell_type": "code",
   "execution_count": 50,
   "id": "dc0607c4",
   "metadata": {},
   "outputs": [],
   "source": [
    "# Главная функция пайплайна\n",
    "def main_pipeline():\n",
    "    # Шаг 1: Загрузка данных\n",
    "    customers, geolocation, order_pay, reviews, orders, item, category_name, products, sellers = load_data()\n",
    "\n",
    "    # Шаг 2: Объединение данных\n",
    "    df = merge_data(orders, item, order_pay, reviews, products,\n",
    "                    customers, sellers, category_name)\n",
    "\n",
    "    # Шаг 3: Фильтрация данных\n",
    "    df = filter_customers(df)\n",
    "\n",
    "    final_data = df\n",
    "\n",
    "    return final_data"
   ]
  },
  {
   "cell_type": "code",
   "execution_count": 51,
   "id": "97243cb0",
   "metadata": {},
   "outputs": [],
   "source": [
    "data = main_pipeline()"
   ]
  },
  {
   "cell_type": "code",
   "execution_count": 52,
   "id": "539bc572",
   "metadata": {},
   "outputs": [
    {
     "data": {
      "application/vnd.microsoft.datawrangler.viewer.v0+json": {
       "columns": [
        {
         "name": "index",
         "rawType": "int64",
         "type": "integer"
        },
        {
         "name": "order_id",
         "rawType": "object",
         "type": "string"
        },
        {
         "name": "customer_id",
         "rawType": "object",
         "type": "string"
        },
        {
         "name": "order_status",
         "rawType": "object",
         "type": "string"
        },
        {
         "name": "order_purchase_timestamp",
         "rawType": "object",
         "type": "string"
        },
        {
         "name": "order_approved_at",
         "rawType": "object",
         "type": "string"
        },
        {
         "name": "order_delivered_carrier_date",
         "rawType": "object",
         "type": "string"
        },
        {
         "name": "order_delivered_customer_date",
         "rawType": "object",
         "type": "string"
        },
        {
         "name": "order_estimated_delivery_date",
         "rawType": "object",
         "type": "string"
        },
        {
         "name": "order_item_id",
         "rawType": "float64",
         "type": "float"
        },
        {
         "name": "product_id",
         "rawType": "object",
         "type": "string"
        },
        {
         "name": "seller_id",
         "rawType": "object",
         "type": "string"
        },
        {
         "name": "shipping_limit_date",
         "rawType": "object",
         "type": "string"
        },
        {
         "name": "price",
         "rawType": "float64",
         "type": "float"
        },
        {
         "name": "freight_value",
         "rawType": "float64",
         "type": "float"
        },
        {
         "name": "payment_sequential",
         "rawType": "float64",
         "type": "float"
        },
        {
         "name": "payment_type",
         "rawType": "object",
         "type": "string"
        },
        {
         "name": "payment_installments",
         "rawType": "float64",
         "type": "float"
        },
        {
         "name": "payment_value",
         "rawType": "float64",
         "type": "float"
        },
        {
         "name": "review_id",
         "rawType": "object",
         "type": "string"
        },
        {
         "name": "review_score",
         "rawType": "float64",
         "type": "float"
        },
        {
         "name": "review_creation_date",
         "rawType": "object",
         "type": "string"
        },
        {
         "name": "review_answer_timestamp",
         "rawType": "object",
         "type": "string"
        },
        {
         "name": "product_category_name",
         "rawType": "object",
         "type": "string"
        },
        {
         "name": "product_name_lenght",
         "rawType": "float64",
         "type": "float"
        },
        {
         "name": "product_description_lenght",
         "rawType": "float64",
         "type": "float"
        },
        {
         "name": "product_photos_qty",
         "rawType": "float64",
         "type": "float"
        },
        {
         "name": "product_weight_g",
         "rawType": "float64",
         "type": "float"
        },
        {
         "name": "product_length_cm",
         "rawType": "float64",
         "type": "float"
        },
        {
         "name": "product_height_cm",
         "rawType": "float64",
         "type": "float"
        },
        {
         "name": "product_width_cm",
         "rawType": "float64",
         "type": "float"
        },
        {
         "name": "customer_unique_id",
         "rawType": "object",
         "type": "string"
        },
        {
         "name": "customer_zip_code_prefix",
         "rawType": "float64",
         "type": "float"
        },
        {
         "name": "customer_city",
         "rawType": "object",
         "type": "string"
        },
        {
         "name": "customer_state",
         "rawType": "object",
         "type": "string"
        },
        {
         "name": "seller_zip_code_prefix",
         "rawType": "float64",
         "type": "float"
        },
        {
         "name": "seller_city",
         "rawType": "object",
         "type": "string"
        },
        {
         "name": "seller_state",
         "rawType": "object",
         "type": "string"
        },
        {
         "name": "product_category_name_english",
         "rawType": "object",
         "type": "string"
        }
       ],
       "conversionMethod": "pd.DataFrame",
       "ref": "bd7c0d81-0fd1-48f1-a5eb-14a832e02ccd",
       "rows": [
        [
         "0",
         "d455a8cb295653b55abda06d434ab492",
         "944b72539d7e1f7f7fc6e46639ef1fe3",
         "delivered",
         "2017-09-26 22:17:05",
         "2017-09-27 22:24:16",
         "2017-09-29 15:53:03",
         "2017-10-07 16:12:47",
         "2017-10-30 00:00:00",
         "1.0",
         "a2ff5a97bf95719e38ea2e3b4105bce8",
         "0015a82c2db000af6aaaf3ae2ecb0532",
         "2017-10-12 22:24:16",
         "895.0",
         "21.02",
         "1.0",
         "credit_card",
         "10.0",
         "916.02",
         "f6923b4d17e0f4e87b38cb26c758d3c6",
         "5.0",
         "2017-10-08 00:00:00",
         "2017-10-11 21:42:45",
         "eletroportateis",
         "40.0",
         "849.0",
         "2.0",
         "11800.0",
         "40.0",
         "43.0",
         "36.0",
         "3c7e305796add66698959fc7ad176f6b",
         "87502.0",
         "umuarama",
         "PR",
         "9080.0",
         "santo andre",
         "SP",
         "small_appliances"
        ],
        [
         "1",
         "7f39ba4c9052be115350065d07583cac",
         "d7fc82cbeafea77bd0a8fbbf6296e387",
         "delivered",
         "2017-10-18 08:16:34",
         "2017-10-18 23:56:20",
         "2017-10-20 14:29:01",
         "2017-10-27 16:46:05",
         "2017-11-09 00:00:00",
         "1.0",
         "a2ff5a97bf95719e38ea2e3b4105bce8",
         "0015a82c2db000af6aaaf3ae2ecb0532",
         "2017-10-24 23:56:20",
         "895.0",
         "21.02",
         "1.0",
         "credit_card",
         "8.0",
         "916.02",
         "2abb25fde5aafe9bc85d031dffb2f4ac",
         "1.0",
         "2017-10-28 00:00:00",
         "2017-10-28 14:32:42",
         "eletroportateis",
         "40.0",
         "849.0",
         "2.0",
         "11800.0",
         "40.0",
         "43.0",
         "36.0",
         "9de5797cddb92598755a0f76383ddbbb",
         "35490.0",
         "entre rios de minas",
         "MG",
         "9080.0",
         "santo andre",
         "SP",
         "small_appliances"
        ],
        [
         "2",
         "9dc8d1a6f16f1b89874c29c9d8d30447",
         "d9442164acf4b03109425633efaa0cfc",
         "delivered",
         "2017-10-12 13:33:22",
         "2017-10-12 13:49:22",
         "2017-10-17 15:42:42",
         "2017-10-24 20:17:44",
         "2017-11-06 00:00:00",
         "1.0",
         "a2ff5a97bf95719e38ea2e3b4105bce8",
         "0015a82c2db000af6aaaf3ae2ecb0532",
         "2017-10-18 14:49:22",
         "895.0",
         "21.02",
         "1.0",
         "credit_card",
         "4.0",
         "916.02",
         "799c3e3362ac0d09cfa1b39b51647490",
         "5.0",
         "2017-10-25 00:00:00",
         "2017-10-25 23:15:15",
         "eletroportateis",
         "40.0",
         "849.0",
         "2.0",
         "11800.0",
         "40.0",
         "43.0",
         "36.0",
         "9915eb9f74b6c11aaf04833f65b00e93",
         "38600.0",
         "paracatu",
         "MG",
         "9080.0",
         "santo andre",
         "SP",
         "small_appliances"
        ],
        [
         "3",
         "0f548bd29148ebc519d6495e37a284e1",
         "015faf9ec36eccd957c0f2782aab09a4",
         "delivered",
         "2017-09-03 08:06:30",
         "2017-09-03 08:25:50",
         "2017-09-04 22:03:06",
         "2017-09-08 16:26:55",
         "2017-09-27 00:00:00",
         "1.0",
         "08574b074924071f4e201e151b152b4e",
         "001cca7ae9ae17fb1caed9dfb1094831",
         "2017-09-08 08:25:50",
         "99.0",
         "33.08",
         "1.0",
         "credit_card",
         "2.0",
         "264.16",
         "f402ea966112bd28646760b72d7f677f",
         "5.0",
         "2017-09-09 00:00:00",
         "2017-09-09 20:51:47",
         "ferramentas_jardim",
         "36.0",
         "450.0",
         "1.0",
         "9000.0",
         "42.0",
         "12.0",
         "39.0",
         "dce323533e45e74d215e0fe7fb114118",
         "24710.0",
         "sao goncalo",
         "RJ",
         "29156.0",
         "cariacica",
         "ES",
         "garden_tools"
        ],
        [
         "4",
         "0f548bd29148ebc519d6495e37a284e1",
         "015faf9ec36eccd957c0f2782aab09a4",
         "delivered",
         "2017-09-03 08:06:30",
         "2017-09-03 08:25:50",
         "2017-09-04 22:03:06",
         "2017-09-08 16:26:55",
         "2017-09-27 00:00:00",
         "2.0",
         "08574b074924071f4e201e151b152b4e",
         "001cca7ae9ae17fb1caed9dfb1094831",
         "2017-09-08 08:25:50",
         "99.0",
         "33.08",
         "1.0",
         "credit_card",
         "2.0",
         "264.16",
         "f402ea966112bd28646760b72d7f677f",
         "5.0",
         "2017-09-09 00:00:00",
         "2017-09-09 20:51:47",
         "ferramentas_jardim",
         "36.0",
         "450.0",
         "1.0",
         "9000.0",
         "42.0",
         "12.0",
         "39.0",
         "dce323533e45e74d215e0fe7fb114118",
         "24710.0",
         "sao goncalo",
         "RJ",
         "29156.0",
         "cariacica",
         "ES",
         "garden_tools"
        ]
       ],
       "shape": {
        "columns": 38,
        "rows": 5
       }
      },
      "text/html": [
       "<div>\n",
       "<style scoped>\n",
       "    .dataframe tbody tr th:only-of-type {\n",
       "        vertical-align: middle;\n",
       "    }\n",
       "\n",
       "    .dataframe tbody tr th {\n",
       "        vertical-align: top;\n",
       "    }\n",
       "\n",
       "    .dataframe thead th {\n",
       "        text-align: right;\n",
       "    }\n",
       "</style>\n",
       "<table border=\"1\" class=\"dataframe\">\n",
       "  <thead>\n",
       "    <tr style=\"text-align: right;\">\n",
       "      <th></th>\n",
       "      <th>order_id</th>\n",
       "      <th>customer_id</th>\n",
       "      <th>order_status</th>\n",
       "      <th>order_purchase_timestamp</th>\n",
       "      <th>order_approved_at</th>\n",
       "      <th>order_delivered_carrier_date</th>\n",
       "      <th>order_delivered_customer_date</th>\n",
       "      <th>order_estimated_delivery_date</th>\n",
       "      <th>order_item_id</th>\n",
       "      <th>product_id</th>\n",
       "      <th>...</th>\n",
       "      <th>product_height_cm</th>\n",
       "      <th>product_width_cm</th>\n",
       "      <th>customer_unique_id</th>\n",
       "      <th>customer_zip_code_prefix</th>\n",
       "      <th>customer_city</th>\n",
       "      <th>customer_state</th>\n",
       "      <th>seller_zip_code_prefix</th>\n",
       "      <th>seller_city</th>\n",
       "      <th>seller_state</th>\n",
       "      <th>product_category_name_english</th>\n",
       "    </tr>\n",
       "  </thead>\n",
       "  <tbody>\n",
       "    <tr>\n",
       "      <th>0</th>\n",
       "      <td>d455a8cb295653b55abda06d434ab492</td>\n",
       "      <td>944b72539d7e1f7f7fc6e46639ef1fe3</td>\n",
       "      <td>delivered</td>\n",
       "      <td>2017-09-26 22:17:05</td>\n",
       "      <td>2017-09-27 22:24:16</td>\n",
       "      <td>2017-09-29 15:53:03</td>\n",
       "      <td>2017-10-07 16:12:47</td>\n",
       "      <td>2017-10-30 00:00:00</td>\n",
       "      <td>1.0</td>\n",
       "      <td>a2ff5a97bf95719e38ea2e3b4105bce8</td>\n",
       "      <td>...</td>\n",
       "      <td>43.0</td>\n",
       "      <td>36.0</td>\n",
       "      <td>3c7e305796add66698959fc7ad176f6b</td>\n",
       "      <td>87502.0</td>\n",
       "      <td>umuarama</td>\n",
       "      <td>PR</td>\n",
       "      <td>9080.0</td>\n",
       "      <td>santo andre</td>\n",
       "      <td>SP</td>\n",
       "      <td>small_appliances</td>\n",
       "    </tr>\n",
       "    <tr>\n",
       "      <th>1</th>\n",
       "      <td>7f39ba4c9052be115350065d07583cac</td>\n",
       "      <td>d7fc82cbeafea77bd0a8fbbf6296e387</td>\n",
       "      <td>delivered</td>\n",
       "      <td>2017-10-18 08:16:34</td>\n",
       "      <td>2017-10-18 23:56:20</td>\n",
       "      <td>2017-10-20 14:29:01</td>\n",
       "      <td>2017-10-27 16:46:05</td>\n",
       "      <td>2017-11-09 00:00:00</td>\n",
       "      <td>1.0</td>\n",
       "      <td>a2ff5a97bf95719e38ea2e3b4105bce8</td>\n",
       "      <td>...</td>\n",
       "      <td>43.0</td>\n",
       "      <td>36.0</td>\n",
       "      <td>9de5797cddb92598755a0f76383ddbbb</td>\n",
       "      <td>35490.0</td>\n",
       "      <td>entre rios de minas</td>\n",
       "      <td>MG</td>\n",
       "      <td>9080.0</td>\n",
       "      <td>santo andre</td>\n",
       "      <td>SP</td>\n",
       "      <td>small_appliances</td>\n",
       "    </tr>\n",
       "    <tr>\n",
       "      <th>2</th>\n",
       "      <td>9dc8d1a6f16f1b89874c29c9d8d30447</td>\n",
       "      <td>d9442164acf4b03109425633efaa0cfc</td>\n",
       "      <td>delivered</td>\n",
       "      <td>2017-10-12 13:33:22</td>\n",
       "      <td>2017-10-12 13:49:22</td>\n",
       "      <td>2017-10-17 15:42:42</td>\n",
       "      <td>2017-10-24 20:17:44</td>\n",
       "      <td>2017-11-06 00:00:00</td>\n",
       "      <td>1.0</td>\n",
       "      <td>a2ff5a97bf95719e38ea2e3b4105bce8</td>\n",
       "      <td>...</td>\n",
       "      <td>43.0</td>\n",
       "      <td>36.0</td>\n",
       "      <td>9915eb9f74b6c11aaf04833f65b00e93</td>\n",
       "      <td>38600.0</td>\n",
       "      <td>paracatu</td>\n",
       "      <td>MG</td>\n",
       "      <td>9080.0</td>\n",
       "      <td>santo andre</td>\n",
       "      <td>SP</td>\n",
       "      <td>small_appliances</td>\n",
       "    </tr>\n",
       "    <tr>\n",
       "      <th>3</th>\n",
       "      <td>0f548bd29148ebc519d6495e37a284e1</td>\n",
       "      <td>015faf9ec36eccd957c0f2782aab09a4</td>\n",
       "      <td>delivered</td>\n",
       "      <td>2017-09-03 08:06:30</td>\n",
       "      <td>2017-09-03 08:25:50</td>\n",
       "      <td>2017-09-04 22:03:06</td>\n",
       "      <td>2017-09-08 16:26:55</td>\n",
       "      <td>2017-09-27 00:00:00</td>\n",
       "      <td>1.0</td>\n",
       "      <td>08574b074924071f4e201e151b152b4e</td>\n",
       "      <td>...</td>\n",
       "      <td>12.0</td>\n",
       "      <td>39.0</td>\n",
       "      <td>dce323533e45e74d215e0fe7fb114118</td>\n",
       "      <td>24710.0</td>\n",
       "      <td>sao goncalo</td>\n",
       "      <td>RJ</td>\n",
       "      <td>29156.0</td>\n",
       "      <td>cariacica</td>\n",
       "      <td>ES</td>\n",
       "      <td>garden_tools</td>\n",
       "    </tr>\n",
       "    <tr>\n",
       "      <th>4</th>\n",
       "      <td>0f548bd29148ebc519d6495e37a284e1</td>\n",
       "      <td>015faf9ec36eccd957c0f2782aab09a4</td>\n",
       "      <td>delivered</td>\n",
       "      <td>2017-09-03 08:06:30</td>\n",
       "      <td>2017-09-03 08:25:50</td>\n",
       "      <td>2017-09-04 22:03:06</td>\n",
       "      <td>2017-09-08 16:26:55</td>\n",
       "      <td>2017-09-27 00:00:00</td>\n",
       "      <td>2.0</td>\n",
       "      <td>08574b074924071f4e201e151b152b4e</td>\n",
       "      <td>...</td>\n",
       "      <td>12.0</td>\n",
       "      <td>39.0</td>\n",
       "      <td>dce323533e45e74d215e0fe7fb114118</td>\n",
       "      <td>24710.0</td>\n",
       "      <td>sao goncalo</td>\n",
       "      <td>RJ</td>\n",
       "      <td>29156.0</td>\n",
       "      <td>cariacica</td>\n",
       "      <td>ES</td>\n",
       "      <td>garden_tools</td>\n",
       "    </tr>\n",
       "  </tbody>\n",
       "</table>\n",
       "<p>5 rows × 38 columns</p>\n",
       "</div>"
      ],
      "text/plain": [
       "                           order_id                       customer_id  \\\n",
       "0  d455a8cb295653b55abda06d434ab492  944b72539d7e1f7f7fc6e46639ef1fe3   \n",
       "1  7f39ba4c9052be115350065d07583cac  d7fc82cbeafea77bd0a8fbbf6296e387   \n",
       "2  9dc8d1a6f16f1b89874c29c9d8d30447  d9442164acf4b03109425633efaa0cfc   \n",
       "3  0f548bd29148ebc519d6495e37a284e1  015faf9ec36eccd957c0f2782aab09a4   \n",
       "4  0f548bd29148ebc519d6495e37a284e1  015faf9ec36eccd957c0f2782aab09a4   \n",
       "\n",
       "  order_status order_purchase_timestamp    order_approved_at  \\\n",
       "0    delivered      2017-09-26 22:17:05  2017-09-27 22:24:16   \n",
       "1    delivered      2017-10-18 08:16:34  2017-10-18 23:56:20   \n",
       "2    delivered      2017-10-12 13:33:22  2017-10-12 13:49:22   \n",
       "3    delivered      2017-09-03 08:06:30  2017-09-03 08:25:50   \n",
       "4    delivered      2017-09-03 08:06:30  2017-09-03 08:25:50   \n",
       "\n",
       "  order_delivered_carrier_date order_delivered_customer_date  \\\n",
       "0          2017-09-29 15:53:03           2017-10-07 16:12:47   \n",
       "1          2017-10-20 14:29:01           2017-10-27 16:46:05   \n",
       "2          2017-10-17 15:42:42           2017-10-24 20:17:44   \n",
       "3          2017-09-04 22:03:06           2017-09-08 16:26:55   \n",
       "4          2017-09-04 22:03:06           2017-09-08 16:26:55   \n",
       "\n",
       "  order_estimated_delivery_date  order_item_id  \\\n",
       "0           2017-10-30 00:00:00            1.0   \n",
       "1           2017-11-09 00:00:00            1.0   \n",
       "2           2017-11-06 00:00:00            1.0   \n",
       "3           2017-09-27 00:00:00            1.0   \n",
       "4           2017-09-27 00:00:00            2.0   \n",
       "\n",
       "                         product_id  ... product_height_cm product_width_cm  \\\n",
       "0  a2ff5a97bf95719e38ea2e3b4105bce8  ...              43.0             36.0   \n",
       "1  a2ff5a97bf95719e38ea2e3b4105bce8  ...              43.0             36.0   \n",
       "2  a2ff5a97bf95719e38ea2e3b4105bce8  ...              43.0             36.0   \n",
       "3  08574b074924071f4e201e151b152b4e  ...              12.0             39.0   \n",
       "4  08574b074924071f4e201e151b152b4e  ...              12.0             39.0   \n",
       "\n",
       "                 customer_unique_id  customer_zip_code_prefix  \\\n",
       "0  3c7e305796add66698959fc7ad176f6b                   87502.0   \n",
       "1  9de5797cddb92598755a0f76383ddbbb                   35490.0   \n",
       "2  9915eb9f74b6c11aaf04833f65b00e93                   38600.0   \n",
       "3  dce323533e45e74d215e0fe7fb114118                   24710.0   \n",
       "4  dce323533e45e74d215e0fe7fb114118                   24710.0   \n",
       "\n",
       "         customer_city customer_state  seller_zip_code_prefix  seller_city  \\\n",
       "0             umuarama             PR                  9080.0  santo andre   \n",
       "1  entre rios de minas             MG                  9080.0  santo andre   \n",
       "2             paracatu             MG                  9080.0  santo andre   \n",
       "3          sao goncalo             RJ                 29156.0    cariacica   \n",
       "4          sao goncalo             RJ                 29156.0    cariacica   \n",
       "\n",
       "  seller_state  product_category_name_english  \n",
       "0           SP               small_appliances  \n",
       "1           SP               small_appliances  \n",
       "2           SP               small_appliances  \n",
       "3           ES                   garden_tools  \n",
       "4           ES                   garden_tools  \n",
       "\n",
       "[5 rows x 38 columns]"
      ]
     },
     "execution_count": 52,
     "metadata": {},
     "output_type": "execute_result"
    }
   ],
   "source": [
    "data.head()"
   ]
  },
  {
   "cell_type": "markdown",
   "id": "8e84fd73",
   "metadata": {},
   "source": [
    "---\n",
    "### Предобработка данных"
   ]
  },
  {
   "cell_type": "code",
   "execution_count": 53,
   "id": "5487713a",
   "metadata": {},
   "outputs": [],
   "source": [
    "# Преобразование временных меток в datetime\n",
    "data['order_purchase_timestamp'] = pd.to_datetime(\n",
    "    data['order_purchase_timestamp'])\n",
    "\n",
    "# Текущая дата для расчета давности (возьмем максимальную дату в данных как \"сегодня\")\n",
    "current_date = data['order_purchase_timestamp'].max()\n",
    "\n",
    "# Группировка данных по клиентам\n",
    "rfm_data = data.groupby('customer_unique_id').agg({\n",
    "    # Recency\n",
    "    'order_purchase_timestamp': lambda x: (current_date - x.max()).days,\n",
    "    'order_id': 'nunique',  # Frequency (уникальные заказы)\n",
    "    'product_id': 'count'   # Monetary (общее количество товаров)\n",
    "}).reset_index()\n",
    "\n",
    "rfm_data.columns = ['customer_unique_id', 'Recency', 'Frequency', 'Monetary']"
   ]
  },
  {
   "cell_type": "code",
   "execution_count": 54,
   "id": "cfa72257",
   "metadata": {},
   "outputs": [
    {
     "data": {
      "application/vnd.microsoft.datawrangler.viewer.v0+json": {
       "columns": [
        {
         "name": "index",
         "rawType": "int64",
         "type": "integer"
        },
        {
         "name": "customer_unique_id",
         "rawType": "object",
         "type": "string"
        },
        {
         "name": "Recency",
         "rawType": "float64",
         "type": "float"
        },
        {
         "name": "Frequency",
         "rawType": "int64",
         "type": "integer"
        },
        {
         "name": "Monetary",
         "rawType": "int64",
         "type": "integer"
        }
       ],
       "conversionMethod": "pd.DataFrame",
       "ref": "ddd6ed02-b27d-444b-8439-9853015a7c14",
       "rows": [
        [
         "0",
         "0000366f3b9a7992bf8c76cfdf3221e2",
         "111.0",
         "1",
         "1"
        ],
        [
         "1",
         "0000b849f77a49e4a4ce2b2a4ca5be3f",
         "114.0",
         "1",
         "1"
        ],
        [
         "2",
         "0000f46a3911fa3c0805444483337064",
         "536.0",
         "1",
         "1"
        ],
        [
         "3",
         "0000f6ccb0745a6a4b88665a16c9f078",
         "320.0",
         "1",
         "1"
        ],
        [
         "4",
         "0004aac84e0df4da2b147fca70cf8255",
         "287.0",
         "1",
         "1"
        ]
       ],
       "shape": {
        "columns": 4,
        "rows": 5
       }
      },
      "text/html": [
       "<div>\n",
       "<style scoped>\n",
       "    .dataframe tbody tr th:only-of-type {\n",
       "        vertical-align: middle;\n",
       "    }\n",
       "\n",
       "    .dataframe tbody tr th {\n",
       "        vertical-align: top;\n",
       "    }\n",
       "\n",
       "    .dataframe thead th {\n",
       "        text-align: right;\n",
       "    }\n",
       "</style>\n",
       "<table border=\"1\" class=\"dataframe\">\n",
       "  <thead>\n",
       "    <tr style=\"text-align: right;\">\n",
       "      <th></th>\n",
       "      <th>customer_unique_id</th>\n",
       "      <th>Recency</th>\n",
       "      <th>Frequency</th>\n",
       "      <th>Monetary</th>\n",
       "    </tr>\n",
       "  </thead>\n",
       "  <tbody>\n",
       "    <tr>\n",
       "      <th>0</th>\n",
       "      <td>0000366f3b9a7992bf8c76cfdf3221e2</td>\n",
       "      <td>111.0</td>\n",
       "      <td>1</td>\n",
       "      <td>1</td>\n",
       "    </tr>\n",
       "    <tr>\n",
       "      <th>1</th>\n",
       "      <td>0000b849f77a49e4a4ce2b2a4ca5be3f</td>\n",
       "      <td>114.0</td>\n",
       "      <td>1</td>\n",
       "      <td>1</td>\n",
       "    </tr>\n",
       "    <tr>\n",
       "      <th>2</th>\n",
       "      <td>0000f46a3911fa3c0805444483337064</td>\n",
       "      <td>536.0</td>\n",
       "      <td>1</td>\n",
       "      <td>1</td>\n",
       "    </tr>\n",
       "    <tr>\n",
       "      <th>3</th>\n",
       "      <td>0000f6ccb0745a6a4b88665a16c9f078</td>\n",
       "      <td>320.0</td>\n",
       "      <td>1</td>\n",
       "      <td>1</td>\n",
       "    </tr>\n",
       "    <tr>\n",
       "      <th>4</th>\n",
       "      <td>0004aac84e0df4da2b147fca70cf8255</td>\n",
       "      <td>287.0</td>\n",
       "      <td>1</td>\n",
       "      <td>1</td>\n",
       "    </tr>\n",
       "  </tbody>\n",
       "</table>\n",
       "</div>"
      ],
      "text/plain": [
       "                 customer_unique_id  Recency  Frequency  Monetary\n",
       "0  0000366f3b9a7992bf8c76cfdf3221e2    111.0          1         1\n",
       "1  0000b849f77a49e4a4ce2b2a4ca5be3f    114.0          1         1\n",
       "2  0000f46a3911fa3c0805444483337064    536.0          1         1\n",
       "3  0000f6ccb0745a6a4b88665a16c9f078    320.0          1         1\n",
       "4  0004aac84e0df4da2b147fca70cf8255    287.0          1         1"
      ]
     },
     "execution_count": 54,
     "metadata": {},
     "output_type": "execute_result"
    }
   ],
   "source": [
    "rfm_data.head()"
   ]
  },
  {
   "cell_type": "code",
   "execution_count": 55,
   "id": "7a702ca8",
   "metadata": {},
   "outputs": [
    {
     "data": {
      "application/vnd.microsoft.datawrangler.viewer.v0+json": {
       "columns": [
        {
         "name": "index",
         "rawType": "object",
         "type": "string"
        },
        {
         "name": "Recency",
         "rawType": "float64",
         "type": "float"
        },
        {
         "name": "Frequency",
         "rawType": "float64",
         "type": "float"
        },
        {
         "name": "Monetary",
         "rawType": "float64",
         "type": "float"
        }
       ],
       "conversionMethod": "pd.DataFrame",
       "ref": "0be3ba32-9190-458f-aab5-1db91fe706d7",
       "rows": [
        [
         "count",
         "93342.0",
         "96096.0",
         "96096.0"
        ],
        [
         "mean",
         "236.92763171991172",
         "1.003798285048285",
         "1.2040667665667666"
        ],
        [
         "std",
         "152.58420972195395",
         "0.2686919523794937",
         "0.8620569647024884"
        ],
        [
         "min",
         "0.0",
         "0.0",
         "0.0"
        ],
        [
         "25%",
         "113.0",
         "1.0",
         "1.0"
        ],
        [
         "50%",
         "218.0",
         "1.0",
         "1.0"
        ],
        [
         "75%",
         "345.0",
         "1.0",
         "1.0"
        ],
        [
         "max",
         "713.0",
         "15.0",
         "75.0"
        ]
       ],
       "shape": {
        "columns": 3,
        "rows": 8
       }
      },
      "text/html": [
       "<div>\n",
       "<style scoped>\n",
       "    .dataframe tbody tr th:only-of-type {\n",
       "        vertical-align: middle;\n",
       "    }\n",
       "\n",
       "    .dataframe tbody tr th {\n",
       "        vertical-align: top;\n",
       "    }\n",
       "\n",
       "    .dataframe thead th {\n",
       "        text-align: right;\n",
       "    }\n",
       "</style>\n",
       "<table border=\"1\" class=\"dataframe\">\n",
       "  <thead>\n",
       "    <tr style=\"text-align: right;\">\n",
       "      <th></th>\n",
       "      <th>Recency</th>\n",
       "      <th>Frequency</th>\n",
       "      <th>Monetary</th>\n",
       "    </tr>\n",
       "  </thead>\n",
       "  <tbody>\n",
       "    <tr>\n",
       "      <th>count</th>\n",
       "      <td>93342.000000</td>\n",
       "      <td>96096.000000</td>\n",
       "      <td>96096.000000</td>\n",
       "    </tr>\n",
       "    <tr>\n",
       "      <th>mean</th>\n",
       "      <td>236.927632</td>\n",
       "      <td>1.003798</td>\n",
       "      <td>1.204067</td>\n",
       "    </tr>\n",
       "    <tr>\n",
       "      <th>std</th>\n",
       "      <td>152.584210</td>\n",
       "      <td>0.268692</td>\n",
       "      <td>0.862057</td>\n",
       "    </tr>\n",
       "    <tr>\n",
       "      <th>min</th>\n",
       "      <td>0.000000</td>\n",
       "      <td>0.000000</td>\n",
       "      <td>0.000000</td>\n",
       "    </tr>\n",
       "    <tr>\n",
       "      <th>25%</th>\n",
       "      <td>113.000000</td>\n",
       "      <td>1.000000</td>\n",
       "      <td>1.000000</td>\n",
       "    </tr>\n",
       "    <tr>\n",
       "      <th>50%</th>\n",
       "      <td>218.000000</td>\n",
       "      <td>1.000000</td>\n",
       "      <td>1.000000</td>\n",
       "    </tr>\n",
       "    <tr>\n",
       "      <th>75%</th>\n",
       "      <td>345.000000</td>\n",
       "      <td>1.000000</td>\n",
       "      <td>1.000000</td>\n",
       "    </tr>\n",
       "    <tr>\n",
       "      <th>max</th>\n",
       "      <td>713.000000</td>\n",
       "      <td>15.000000</td>\n",
       "      <td>75.000000</td>\n",
       "    </tr>\n",
       "  </tbody>\n",
       "</table>\n",
       "</div>"
      ],
      "text/plain": [
       "            Recency     Frequency      Monetary\n",
       "count  93342.000000  96096.000000  96096.000000\n",
       "mean     236.927632      1.003798      1.204067\n",
       "std      152.584210      0.268692      0.862057\n",
       "min        0.000000      0.000000      0.000000\n",
       "25%      113.000000      1.000000      1.000000\n",
       "50%      218.000000      1.000000      1.000000\n",
       "75%      345.000000      1.000000      1.000000\n",
       "max      713.000000     15.000000     75.000000"
      ]
     },
     "execution_count": 55,
     "metadata": {},
     "output_type": "execute_result"
    }
   ],
   "source": [
    "rfm_data.describe()"
   ]
  },
  {
   "cell_type": "markdown",
   "id": "b2d20629",
   "metadata": {},
   "source": [
    "---\n",
    "### Расчет RFM-сегментов"
   ]
  },
  {
   "cell_type": "code",
   "execution_count": 56,
   "id": "9d54ecb1",
   "metadata": {},
   "outputs": [],
   "source": [
    "# Убедимся, что работаем только с нужными числовыми колонками\n",
    "rfm_numeric = rfm_data[['Recency', 'Frequency', 'Monetary']]\n",
    "\n",
    "# Рассчитаем квартили только для числовых колонок\n",
    "quantiles = rfm_numeric.quantile(q=[0.25, 0.5, 0.75]).to_dict()\n",
    "\n",
    "# Функция для присвоения RFM-рангов на основе квартилей данных\n",
    "\n",
    "\n",
    "def rank_rfm(x, metric, quantiles):\n",
    "    \"\"\"\n",
    "    Параметры:\n",
    "    x : float - значение метрики (Recency, Frequency, Monetary) для клиента\n",
    "    metric : str - название метрики ('Recency', 'Frequency', 'Monetary')\n",
    "    quantiles : dict - словарь с квартилями для всех метрик\n",
    "\n",
    "    Возвращает:\n",
    "    int - ранг от 1 до 4, где для Recency 4 - лучший, для Frequency/Monetary 4 - худший\n",
    "\n",
    "    Примечание: \n",
    "    Для Recency используется обратная шкала (меньше дней = лучше)\n",
    "    Для Frequency и Monetary - прямая шкала (больше значений = лучше)\n",
    "    Квартили рассчитываются для всей популяции клиентов\n",
    "\n",
    "    \"\"\"\n",
    "\n",
    "    # Логика ранжирования для Recency\n",
    "    if metric == 'Recency':\n",
    "        # Чем меньше дней прошло с последней покупки (ниже Recency), тем лучше\n",
    "        if x <= quantiles[metric][0.25]:\n",
    "            return 4  # Топ-25% самых активных (покупали недавно)\n",
    "        elif x <= quantiles[metric][0.5]:\n",
    "            return 3  # 25-50% - выше среднего\n",
    "        elif x <= quantiles[metric][0.75]:\n",
    "            return 2  # 50-75% - ниже среднего\n",
    "        else:\n",
    "            return 1  # Худшие 25% - давно не покупали\n",
    "\n",
    "    # Логика ранжирования для Frequency и Monetary\n",
    "    else:\n",
    "        # Чем больше покупок/сумма (выше значения), тем лучше\n",
    "        if x <= quantiles[metric][0.25]:\n",
    "            return 1  # Худшие 25% - редко/мало покупают\n",
    "        elif x <= quantiles[metric][0.5]:\n",
    "            return 2  # 25-50% - ниже среднего\n",
    "        elif x <= quantiles[metric][0.75]:\n",
    "            return 3  # 50-75% - выше среднего\n",
    "        else:\n",
    "            return 4  # Топ-25% - самые частые/крупные покупатели\n",
    "\n",
    "\n",
    "# Применим ранжирование\n",
    "rfm_data['R_rank'] = rfm_data['Recency'].apply(\n",
    "    rank_rfm, args=('Recency', quantiles))\n",
    "rfm_data['F_rank'] = rfm_data['Frequency'].apply(\n",
    "    rank_rfm, args=('Frequency', quantiles))\n",
    "rfm_data['M_rank'] = rfm_data['Monetary'].apply(\n",
    "    rank_rfm, args=('Monetary', quantiles))\n",
    "\n",
    "# Создадим RFM-сегмент\n",
    "rfm_data['RFM_Score'] = rfm_data['R_rank'].astype(\n",
    "    str) + rfm_data['F_rank'].astype(str) + rfm_data['M_rank'].astype(str)"
   ]
  },
  {
   "cell_type": "code",
   "execution_count": 57,
   "id": "45193502",
   "metadata": {},
   "outputs": [
    {
     "data": {
      "application/vnd.microsoft.datawrangler.viewer.v0+json": {
       "columns": [
        {
         "name": "index",
         "rawType": "int64",
         "type": "integer"
        },
        {
         "name": "customer_unique_id",
         "rawType": "object",
         "type": "string"
        },
        {
         "name": "Recency",
         "rawType": "float64",
         "type": "float"
        },
        {
         "name": "Frequency",
         "rawType": "int64",
         "type": "integer"
        },
        {
         "name": "Monetary",
         "rawType": "int64",
         "type": "integer"
        },
        {
         "name": "R_rank",
         "rawType": "int64",
         "type": "integer"
        },
        {
         "name": "F_rank",
         "rawType": "int64",
         "type": "integer"
        },
        {
         "name": "M_rank",
         "rawType": "int64",
         "type": "integer"
        },
        {
         "name": "RFM_Score",
         "rawType": "object",
         "type": "string"
        }
       ],
       "conversionMethod": "pd.DataFrame",
       "ref": "66e7ca4b-9711-432d-8133-6089fda13c65",
       "rows": [
        [
         "0",
         "0000366f3b9a7992bf8c76cfdf3221e2",
         "111.0",
         "1",
         "1",
         "4",
         "1",
         "1",
         "411"
        ],
        [
         "1",
         "0000b849f77a49e4a4ce2b2a4ca5be3f",
         "114.0",
         "1",
         "1",
         "3",
         "1",
         "1",
         "311"
        ],
        [
         "2",
         "0000f46a3911fa3c0805444483337064",
         "536.0",
         "1",
         "1",
         "1",
         "1",
         "1",
         "111"
        ],
        [
         "3",
         "0000f6ccb0745a6a4b88665a16c9f078",
         "320.0",
         "1",
         "1",
         "2",
         "1",
         "1",
         "211"
        ],
        [
         "4",
         "0004aac84e0df4da2b147fca70cf8255",
         "287.0",
         "1",
         "1",
         "2",
         "1",
         "1",
         "211"
        ]
       ],
       "shape": {
        "columns": 8,
        "rows": 5
       }
      },
      "text/html": [
       "<div>\n",
       "<style scoped>\n",
       "    .dataframe tbody tr th:only-of-type {\n",
       "        vertical-align: middle;\n",
       "    }\n",
       "\n",
       "    .dataframe tbody tr th {\n",
       "        vertical-align: top;\n",
       "    }\n",
       "\n",
       "    .dataframe thead th {\n",
       "        text-align: right;\n",
       "    }\n",
       "</style>\n",
       "<table border=\"1\" class=\"dataframe\">\n",
       "  <thead>\n",
       "    <tr style=\"text-align: right;\">\n",
       "      <th></th>\n",
       "      <th>customer_unique_id</th>\n",
       "      <th>Recency</th>\n",
       "      <th>Frequency</th>\n",
       "      <th>Monetary</th>\n",
       "      <th>R_rank</th>\n",
       "      <th>F_rank</th>\n",
       "      <th>M_rank</th>\n",
       "      <th>RFM_Score</th>\n",
       "    </tr>\n",
       "  </thead>\n",
       "  <tbody>\n",
       "    <tr>\n",
       "      <th>0</th>\n",
       "      <td>0000366f3b9a7992bf8c76cfdf3221e2</td>\n",
       "      <td>111.0</td>\n",
       "      <td>1</td>\n",
       "      <td>1</td>\n",
       "      <td>4</td>\n",
       "      <td>1</td>\n",
       "      <td>1</td>\n",
       "      <td>411</td>\n",
       "    </tr>\n",
       "    <tr>\n",
       "      <th>1</th>\n",
       "      <td>0000b849f77a49e4a4ce2b2a4ca5be3f</td>\n",
       "      <td>114.0</td>\n",
       "      <td>1</td>\n",
       "      <td>1</td>\n",
       "      <td>3</td>\n",
       "      <td>1</td>\n",
       "      <td>1</td>\n",
       "      <td>311</td>\n",
       "    </tr>\n",
       "    <tr>\n",
       "      <th>2</th>\n",
       "      <td>0000f46a3911fa3c0805444483337064</td>\n",
       "      <td>536.0</td>\n",
       "      <td>1</td>\n",
       "      <td>1</td>\n",
       "      <td>1</td>\n",
       "      <td>1</td>\n",
       "      <td>1</td>\n",
       "      <td>111</td>\n",
       "    </tr>\n",
       "    <tr>\n",
       "      <th>3</th>\n",
       "      <td>0000f6ccb0745a6a4b88665a16c9f078</td>\n",
       "      <td>320.0</td>\n",
       "      <td>1</td>\n",
       "      <td>1</td>\n",
       "      <td>2</td>\n",
       "      <td>1</td>\n",
       "      <td>1</td>\n",
       "      <td>211</td>\n",
       "    </tr>\n",
       "    <tr>\n",
       "      <th>4</th>\n",
       "      <td>0004aac84e0df4da2b147fca70cf8255</td>\n",
       "      <td>287.0</td>\n",
       "      <td>1</td>\n",
       "      <td>1</td>\n",
       "      <td>2</td>\n",
       "      <td>1</td>\n",
       "      <td>1</td>\n",
       "      <td>211</td>\n",
       "    </tr>\n",
       "  </tbody>\n",
       "</table>\n",
       "</div>"
      ],
      "text/plain": [
       "                 customer_unique_id  Recency  Frequency  Monetary  R_rank  \\\n",
       "0  0000366f3b9a7992bf8c76cfdf3221e2    111.0          1         1       4   \n",
       "1  0000b849f77a49e4a4ce2b2a4ca5be3f    114.0          1         1       3   \n",
       "2  0000f46a3911fa3c0805444483337064    536.0          1         1       1   \n",
       "3  0000f6ccb0745a6a4b88665a16c9f078    320.0          1         1       2   \n",
       "4  0004aac84e0df4da2b147fca70cf8255    287.0          1         1       2   \n",
       "\n",
       "   F_rank  M_rank RFM_Score  \n",
       "0       1       1       411  \n",
       "1       1       1       311  \n",
       "2       1       1       111  \n",
       "3       1       1       211  \n",
       "4       1       1       211  "
      ]
     },
     "execution_count": 57,
     "metadata": {},
     "output_type": "execute_result"
    }
   ],
   "source": [
    "rfm_data.head()"
   ]
  },
  {
   "cell_type": "markdown",
   "id": "e34c5c45",
   "metadata": {},
   "source": [
    "---\n",
    "### Интерпретация сегментов для оттока\n",
    "\n",
    "### 1. Структура RFM-оценки\n",
    "Каждый клиент получает 3 цифры в формате `R_F_M`, где:\n",
    "- **R (Recency)** - ранг давности последней покупки:\n",
    "  - 4: Совсем недавно (наилучший)\n",
    "  - 1: Очень давно (наихудший)\n",
    "- **F (Frequency)** - ранг частоты покупок:\n",
    "  - 4: Очень часто\n",
    "  - 1: Очень редко\n",
    "- **M (Monetary)** - ранг суммы покупок:\n",
    "  - 4: Очень много тратит\n",
    "  - 1: Очень мало тратит\n",
    "\n",
    "### 2. Логика распределения по рискам\n",
    "\n",
    "| Категория риска   | Примеры RFM-оценок      | Логика интерпретации                                                                 |\n",
    "|--------------------|-------------------------|--------------------------------------------------------------------------------------|\n",
    "| **Высокий риск**   | '111', '112', '121'     | Низкие ранги по всем параметрам: давно не покупал, редко покупает, малые траты       |\n",
    "| **Средний риск**   | '131', '211', '213'     | Смешанные показатели: например, недавняя покупка (R=2), но низкая частота (F=1)      |\n",
    "| **Низкий риск**    | '311', '333', '444'     | Высокие ранги хотя бы по одному ключевому параметру (обычно Recency)                 |\n",
    "\n"
   ]
  },
  {
   "cell_type": "code",
   "execution_count": 60,
   "id": "61422432",
   "metadata": {},
   "outputs": [
    {
     "data": {
      "application/vnd.microsoft.datawrangler.viewer.v0+json": {
       "columns": [
        {
         "name": "index",
         "rawType": "int64",
         "type": "integer"
        },
        {
         "name": "customer_unique_id",
         "rawType": "object",
         "type": "string"
        },
        {
         "name": "Recency",
         "rawType": "float64",
         "type": "float"
        },
        {
         "name": "Frequency",
         "rawType": "int64",
         "type": "integer"
        },
        {
         "name": "Monetary",
         "rawType": "int64",
         "type": "integer"
        },
        {
         "name": "R_rank",
         "rawType": "int64",
         "type": "integer"
        },
        {
         "name": "F_rank",
         "rawType": "int64",
         "type": "integer"
        },
        {
         "name": "M_rank",
         "rawType": "int64",
         "type": "integer"
        },
        {
         "name": "RFM_Score",
         "rawType": "object",
         "type": "string"
        },
        {
         "name": "RFM_Weighted",
         "rawType": "float64",
         "type": "float"
        },
        {
         "name": "Churn_Risk",
         "rawType": "category",
         "type": "unknown"
        }
       ],
       "conversionMethod": "pd.DataFrame",
       "ref": "9995faed-d29e-442a-9fdc-e2e2f46f5ff2",
       "rows": [
        [
         "0",
         "0000366f3b9a7992bf8c76cfdf3221e2",
         "111.0",
         "1",
         "1",
         "4",
         "1",
         "1",
         "411",
         "2.5",
         "Средний риск"
        ],
        [
         "1",
         "0000b849f77a49e4a4ce2b2a4ca5be3f",
         "114.0",
         "1",
         "1",
         "3",
         "1",
         "1",
         "311",
         "2.0",
         "Средний риск"
        ],
        [
         "2",
         "0000f46a3911fa3c0805444483337064",
         "536.0",
         "1",
         "1",
         "1",
         "1",
         "1",
         "111",
         "1.0",
         "Высокий риск"
        ],
        [
         "3",
         "0000f6ccb0745a6a4b88665a16c9f078",
         "320.0",
         "1",
         "1",
         "2",
         "1",
         "1",
         "211",
         "1.5",
         "Высокий риск"
        ],
        [
         "4",
         "0004aac84e0df4da2b147fca70cf8255",
         "287.0",
         "1",
         "1",
         "2",
         "1",
         "1",
         "211",
         "1.5",
         "Высокий риск"
        ]
       ],
       "shape": {
        "columns": 10,
        "rows": 5
       }
      },
      "text/html": [
       "<div>\n",
       "<style scoped>\n",
       "    .dataframe tbody tr th:only-of-type {\n",
       "        vertical-align: middle;\n",
       "    }\n",
       "\n",
       "    .dataframe tbody tr th {\n",
       "        vertical-align: top;\n",
       "    }\n",
       "\n",
       "    .dataframe thead th {\n",
       "        text-align: right;\n",
       "    }\n",
       "</style>\n",
       "<table border=\"1\" class=\"dataframe\">\n",
       "  <thead>\n",
       "    <tr style=\"text-align: right;\">\n",
       "      <th></th>\n",
       "      <th>customer_unique_id</th>\n",
       "      <th>Recency</th>\n",
       "      <th>Frequency</th>\n",
       "      <th>Monetary</th>\n",
       "      <th>R_rank</th>\n",
       "      <th>F_rank</th>\n",
       "      <th>M_rank</th>\n",
       "      <th>RFM_Score</th>\n",
       "      <th>RFM_Weighted</th>\n",
       "      <th>Churn_Risk</th>\n",
       "    </tr>\n",
       "  </thead>\n",
       "  <tbody>\n",
       "    <tr>\n",
       "      <th>0</th>\n",
       "      <td>0000366f3b9a7992bf8c76cfdf3221e2</td>\n",
       "      <td>111.0</td>\n",
       "      <td>1</td>\n",
       "      <td>1</td>\n",
       "      <td>4</td>\n",
       "      <td>1</td>\n",
       "      <td>1</td>\n",
       "      <td>411</td>\n",
       "      <td>2.5</td>\n",
       "      <td>Средний риск</td>\n",
       "    </tr>\n",
       "    <tr>\n",
       "      <th>1</th>\n",
       "      <td>0000b849f77a49e4a4ce2b2a4ca5be3f</td>\n",
       "      <td>114.0</td>\n",
       "      <td>1</td>\n",
       "      <td>1</td>\n",
       "      <td>3</td>\n",
       "      <td>1</td>\n",
       "      <td>1</td>\n",
       "      <td>311</td>\n",
       "      <td>2.0</td>\n",
       "      <td>Средний риск</td>\n",
       "    </tr>\n",
       "    <tr>\n",
       "      <th>2</th>\n",
       "      <td>0000f46a3911fa3c0805444483337064</td>\n",
       "      <td>536.0</td>\n",
       "      <td>1</td>\n",
       "      <td>1</td>\n",
       "      <td>1</td>\n",
       "      <td>1</td>\n",
       "      <td>1</td>\n",
       "      <td>111</td>\n",
       "      <td>1.0</td>\n",
       "      <td>Высокий риск</td>\n",
       "    </tr>\n",
       "    <tr>\n",
       "      <th>3</th>\n",
       "      <td>0000f6ccb0745a6a4b88665a16c9f078</td>\n",
       "      <td>320.0</td>\n",
       "      <td>1</td>\n",
       "      <td>1</td>\n",
       "      <td>2</td>\n",
       "      <td>1</td>\n",
       "      <td>1</td>\n",
       "      <td>211</td>\n",
       "      <td>1.5</td>\n",
       "      <td>Высокий риск</td>\n",
       "    </tr>\n",
       "    <tr>\n",
       "      <th>4</th>\n",
       "      <td>0004aac84e0df4da2b147fca70cf8255</td>\n",
       "      <td>287.0</td>\n",
       "      <td>1</td>\n",
       "      <td>1</td>\n",
       "      <td>2</td>\n",
       "      <td>1</td>\n",
       "      <td>1</td>\n",
       "      <td>211</td>\n",
       "      <td>1.5</td>\n",
       "      <td>Высокий риск</td>\n",
       "    </tr>\n",
       "  </tbody>\n",
       "</table>\n",
       "</div>"
      ],
      "text/plain": [
       "                 customer_unique_id  Recency  Frequency  Monetary  R_rank  \\\n",
       "0  0000366f3b9a7992bf8c76cfdf3221e2    111.0          1         1       4   \n",
       "1  0000b849f77a49e4a4ce2b2a4ca5be3f    114.0          1         1       3   \n",
       "2  0000f46a3911fa3c0805444483337064    536.0          1         1       1   \n",
       "3  0000f6ccb0745a6a4b88665a16c9f078    320.0          1         1       2   \n",
       "4  0004aac84e0df4da2b147fca70cf8255    287.0          1         1       2   \n",
       "\n",
       "   F_rank  M_rank RFM_Score  RFM_Weighted    Churn_Risk  \n",
       "0       1       1       411           2.5  Средний риск  \n",
       "1       1       1       311           2.0  Средний риск  \n",
       "2       1       1       111           1.0  Высокий риск  \n",
       "3       1       1       211           1.5  Высокий риск  \n",
       "4       1       1       211           1.5  Высокий риск  "
      ]
     },
     "metadata": {},
     "output_type": "display_data"
    }
   ],
   "source": [
    "# Рассчитываем взвешенную RFM-оценку\n",
    "weights = {'R': 0.5, 'F': 0.3, 'M': 0.2}\n",
    "rfm_data['RFM_Weighted'] = (\n",
    "    rfm_data['R_rank']*weights['R']\n",
    "    + rfm_data['F_rank']*weights['F']\n",
    "    + rfm_data['M_rank']*weights['M']\n",
    ")\n",
    "\n",
    "# Автоматическая классификация через квантили\n",
    "rfm_data['Churn_Risk'] = pd.qcut(\n",
    "    rfm_data['RFM_Weighted'],\n",
    "    q=[0, 0.25, 0.75, 1],  # Границы квантилей\n",
    "    labels=['Высокий риск', 'Средний риск', 'Низкий риск']\n",
    ")\n",
    "\n",
    "# Результат\n",
    "display(rfm_data.head())"
   ]
  },
  {
   "cell_type": "markdown",
   "id": "a7a13078",
   "metadata": {},
   "source": [
    "---\n",
    "### Визуализация результатов"
   ]
  },
  {
   "cell_type": "code",
   "execution_count": 64,
   "id": "35c2b11c",
   "metadata": {},
   "outputs": [
    {
     "data": {
      "image/png": "[encoded data removed]",
      "text/plain": [
       "<Figure size 1200x600 with 1 Axes>"
      ]
     },
     "metadata": {},
     "output_type": "display_data"
    }
   ],
   "source": [
    "plt.figure(figsize=(12, 6))\n",
    "sns.countplot(x='Churn_Risk', data=rfm_data, order=[\n",
    "              'Высокий риск', 'Средний риск', 'Низкий риск'])\n",
    "plt.title('Распределение клиентов по риску оттока')\n",
    "plt.show()"
   ]
  },
  {
   "cell_type": "code",
   "execution_count": 68,
   "id": "b9d27f66",
   "metadata": {},
   "outputs": [
    {
     "name": "stdout",
     "output_type": "stream",
     "text": [
      "\n",
      "Распределение клиентов по рискам:\n",
      "Churn_Risk\n",
      "Высокий риск    0.439019\n",
      "Средний риск    0.480852\n",
      "Низкий риск     0.080128\n",
      "Name: proportion, dtype: float64\n"
     ]
    }
   ],
   "source": [
    "# Проверка распределения\n",
    "risk_distribution = rfm_data['Churn_Risk'].value_counts(\n",
    "    normalize=True).sort_index()\n",
    "print(\"\\nРаспределение клиентов по рискам:\")\n",
    "print(risk_distribution)"
   ]
  },
  {
   "cell_type": "markdown",
   "id": "14ee5537",
   "metadata": {},
   "source": [
    "---\n",
    "### Используем Churn_risk как разметку для классификатора (для классификации клиента в режиме онлайн без этапа RFM)"
   ]
  },
  {
   "cell_type": "code",
   "execution_count": 69,
   "id": "4e4fffae",
   "metadata": {},
   "outputs": [
    {
     "data": {
      "application/vnd.microsoft.datawrangler.viewer.v0+json": {
       "columns": [
        {
         "name": "index",
         "rawType": "int64",
         "type": "integer"
        },
        {
         "name": "customer_unique_id",
         "rawType": "object",
         "type": "string"
        },
        {
         "name": "Churn_Risk",
         "rawType": "category",
         "type": "unknown"
        }
       ],
       "conversionMethod": "pd.DataFrame",
       "ref": "a5e5dd71-494d-46f9-bcb7-8428a0720b7a",
       "rows": [
        [
         "0",
         "0000366f3b9a7992bf8c76cfdf3221e2",
         "2"
        ],
        [
         "1",
         "0000b849f77a49e4a4ce2b2a4ca5be3f",
         "2"
        ],
        [
         "2",
         "0000f46a3911fa3c0805444483337064",
         "3"
        ],
        [
         "3",
         "0000f6ccb0745a6a4b88665a16c9f078",
         "3"
        ],
        [
         "4",
         "0004aac84e0df4da2b147fca70cf8255",
         "3"
        ],
        [
         "5",
         "0004bd2a26a76fe21f786e4fbd80607f",
         "2"
        ],
        [
         "6",
         "00050ab1314c0e55a6ca13cf7181fecf",
         "2"
        ],
        [
         "7",
         "00053a61a98854899e70ed204dd4bafe",
         "1"
        ],
        [
         "8",
         "0005e1862207bf6ccc02e4228effd9a0",
         "3"
        ],
        [
         "9",
         "0005ef4cd20d2893f0d9fbd94d3c0d97",
         "2"
        ],
        [
         "10",
         "0006fdc98a402fceb4eb0ee528f6a8d4",
         "3"
        ],
        [
         "11",
         "00082cbe03e478190aadbea78542e933",
         "3"
        ],
        [
         "12",
         "00090324bbad0e9342388303bb71ba0a",
         "2"
        ],
        [
         "13",
         "000949456b182f53c18b68d6babc79c1",
         "2"
        ],
        [
         "14",
         "000a5ad9c4601d2bbdd9ed765d5213b3",
         "3"
        ],
        [
         "15",
         "000bfa1d2f1a41876493be685390d6d3",
         "2"
        ],
        [
         "16",
         "000c8bdb58a29e7115cfc257230fb21b",
         "3"
        ],
        [
         "17",
         "000d460961d6dbfa3ec6c9f5805769e1",
         "3"
        ],
        [
         "18",
         "000de6019bb59f34c099a907c151d855",
         "2"
        ],
        [
         "19",
         "000e309254ab1fc5ba99dd469d36bdb4",
         "1"
        ],
        [
         "20",
         "000ec5bff359e1c0ad76a81a45cb598f",
         "2"
        ],
        [
         "21",
         "000ed48ceeb6f4bf8ad021a10a3c7b43",
         "2"
        ],
        [
         "22",
         "000fbf0473c10fc1ab6f8d2d286ce20c",
         "1"
        ],
        [
         "23",
         "0010a452c6d13139e50b57f19f52e04e",
         "3"
        ],
        [
         "24",
         "0010fb34b966d44409382af9e8fd5b77",
         "2"
        ],
        [
         "25",
         "001147e649a7b1afd577e873841632dd",
         "2"
        ],
        [
         "26",
         "00115fc7123b5310cf6d3a3aa932699e",
         "3"
        ],
        [
         "27",
         "0011805441c0d1b68b48002f1d005526",
         "3"
        ],
        [
         "28",
         "0011857aff0e5871ce5eb429f21cdaf5",
         "3"
        ],
        [
         "29",
         "0011c98589159d6149979563c504cb21",
         "3"
        ],
        [
         "30",
         "0012929d977a8d7280bb277c1e5f589d",
         "3"
        ],
        [
         "31",
         "0014a5a58da615f7b01a4f5e194bf5ea",
         "3"
        ],
        [
         "32",
         "0015752e079902b12cd00b9b7596276b",
         "1"
        ],
        [
         "33",
         "00172711b30d52eea8b313a7f2cced02",
         "2"
        ],
        [
         "34",
         "00191a9719ef48ebb5860b130347bf33",
         "3"
        ],
        [
         "35",
         "001926cef41060fae572e2e7b30bd2a4",
         "2"
        ],
        [
         "36",
         "001928b561575b2821c92254a2327d06",
         "1"
        ],
        [
         "37",
         "00196c4c9a3af7dd2ad10eade69c926f",
         "2"
        ],
        [
         "38",
         "00196fdb2bf9edfc35e88ebfbcf8d781",
         "2"
        ],
        [
         "39",
         "0019da6aa6bcb27cc32f1249bd12da05",
         "2"
        ],
        [
         "40",
         "0019e8c501c85848ac0966d45226fa1d",
         "2"
        ],
        [
         "41",
         "001a2bf0e46c684031af91fb2bce149d",
         "3"
        ],
        [
         "42",
         "001a34eb30ecb8e3aacb07c475ca4dd1",
         "2"
        ],
        [
         "43",
         "001a3a8e11d76c9a366c31a4aa2cc529",
         "2"
        ],
        [
         "44",
         "001ae44fa04911a9e9577356dce6c63c",
         "3"
        ],
        [
         "45",
         "001ae5a1788703d64536c30362503e49",
         "3"
        ],
        [
         "46",
         "001deb796b28a3a128d6113857569aa4",
         "2"
        ],
        [
         "47",
         "001f3c4211216384d5fe59b041ce1461",
         "3"
        ],
        [
         "48",
         "002043098f10ba39a4600b6c52fbfe3c",
         "3"
        ],
        [
         "49",
         "002311514717ca8b65b09a26cdf7b91a",
         "2"
        ]
       ],
       "shape": {
        "columns": 2,
        "rows": 96096
       }
      },
      "text/html": [
       "<div>\n",
       "<style scoped>\n",
       "    .dataframe tbody tr th:only-of-type {\n",
       "        vertical-align: middle;\n",
       "    }\n",
       "\n",
       "    .dataframe tbody tr th {\n",
       "        vertical-align: top;\n",
       "    }\n",
       "\n",
       "    .dataframe thead th {\n",
       "        text-align: right;\n",
       "    }\n",
       "</style>\n",
       "<table border=\"1\" class=\"dataframe\">\n",
       "  <thead>\n",
       "    <tr style=\"text-align: right;\">\n",
       "      <th></th>\n",
       "      <th>customer_unique_id</th>\n",
       "      <th>Churn_Risk</th>\n",
       "    </tr>\n",
       "  </thead>\n",
       "  <tbody>\n",
       "    <tr>\n",
       "      <th>0</th>\n",
       "      <td>0000366f3b9a7992bf8c76cfdf3221e2</td>\n",
       "      <td>2</td>\n",
       "    </tr>\n",
       "    <tr>\n",
       "      <th>1</th>\n",
       "      <td>0000b849f77a49e4a4ce2b2a4ca5be3f</td>\n",
       "      <td>2</td>\n",
       "    </tr>\n",
       "    <tr>\n",
       "      <th>2</th>\n",
       "      <td>0000f46a3911fa3c0805444483337064</td>\n",
       "      <td>3</td>\n",
       "    </tr>\n",
       "    <tr>\n",
       "      <th>3</th>\n",
       "      <td>0000f6ccb0745a6a4b88665a16c9f078</td>\n",
       "      <td>3</td>\n",
       "    </tr>\n",
       "    <tr>\n",
       "      <th>4</th>\n",
       "      <td>0004aac84e0df4da2b147fca70cf8255</td>\n",
       "      <td>3</td>\n",
       "    </tr>\n",
       "    <tr>\n",
       "      <th>...</th>\n",
       "      <td>...</td>\n",
       "      <td>...</td>\n",
       "    </tr>\n",
       "    <tr>\n",
       "      <th>96091</th>\n",
       "      <td>fffcf5a5ff07b0908bd4e2dbc735a684</td>\n",
       "      <td>2</td>\n",
       "    </tr>\n",
       "    <tr>\n",
       "      <th>96092</th>\n",
       "      <td>fffea47cd6d3cc0a88bd621562a9d061</td>\n",
       "      <td>3</td>\n",
       "    </tr>\n",
       "    <tr>\n",
       "      <th>96093</th>\n",
       "      <td>ffff371b4d645b6ecea244b27531430a</td>\n",
       "      <td>3</td>\n",
       "    </tr>\n",
       "    <tr>\n",
       "      <th>96094</th>\n",
       "      <td>ffff5962728ec6157033ef9805bacc48</td>\n",
       "      <td>2</td>\n",
       "    </tr>\n",
       "    <tr>\n",
       "      <th>96095</th>\n",
       "      <td>ffffd2657e2aad2907e67c3e9daecbeb</td>\n",
       "      <td>3</td>\n",
       "    </tr>\n",
       "  </tbody>\n",
       "</table>\n",
       "<p>96096 rows × 2 columns</p>\n",
       "</div>"
      ],
      "text/plain": [
       "                     customer_unique_id Churn_Risk\n",
       "0      0000366f3b9a7992bf8c76cfdf3221e2          2\n",
       "1      0000b849f77a49e4a4ce2b2a4ca5be3f          2\n",
       "2      0000f46a3911fa3c0805444483337064          3\n",
       "3      0000f6ccb0745a6a4b88665a16c9f078          3\n",
       "4      0004aac84e0df4da2b147fca70cf8255          3\n",
       "...                                 ...        ...\n",
       "96091  fffcf5a5ff07b0908bd4e2dbc735a684          2\n",
       "96092  fffea47cd6d3cc0a88bd621562a9d061          3\n",
       "96093  ffff371b4d645b6ecea244b27531430a          3\n",
       "96094  ffff5962728ec6157033ef9805bacc48          2\n",
       "96095  ffffd2657e2aad2907e67c3e9daecbeb          3\n",
       "\n",
       "[96096 rows x 2 columns]"
      ]
     },
     "execution_count": 69,
     "metadata": {},
     "output_type": "execute_result"
    }
   ],
   "source": [
    "rfm_labels = rfm_data.copy()[[\"customer_unique_id\", \"Churn_Risk\"]]\n",
    "rfm_labels[\"Churn_Risk\"] = rfm_labels[\"Churn_Risk\"].map(\n",
    "    {\"Высокий риск\": 3, \"Средний риск\": 2, \"Низкий риск\": 1})\n",
    "\n",
    "rfm_labels"
   ]
  },
  {
   "cell_type": "code",
   "execution_count": null,
   "id": "d10455af",
   "metadata": {},
   "outputs": [
    {
     "name": "stdout",
     "output_type": "stream",
     "text": [
      "График сохранен в results/plots/churn_distribution.png\n",
      "\n",
      "Пример данных:\n"
     ]
    },
    {
     "data": {
      "application/vnd.microsoft.datawrangler.viewer.v0+json": {
       "columns": [
        {
         "name": "index",
         "rawType": "int64",
         "type": "integer"
        },
        {
         "name": "customer_unique_id",
         "rawType": "object",
         "type": "string"
        },
        {
         "name": "Recency",
         "rawType": "float64",
         "type": "float"
        },
        {
         "name": "Frequency",
         "rawType": "int64",
         "type": "integer"
        },
        {
         "name": "Monetary",
         "rawType": "int64",
         "type": "integer"
        },
        {
         "name": "R_rank",
         "rawType": "int64",
         "type": "integer"
        },
        {
         "name": "F_rank",
         "rawType": "int64",
         "type": "integer"
        },
        {
         "name": "M_rank",
         "rawType": "int64",
         "type": "integer"
        },
        {
         "name": "RFM_Weighted",
         "rawType": "float64",
         "type": "float"
        },
        {
         "name": "Churn_Risk",
         "rawType": "category",
         "type": "unknown"
        }
       ],
       "conversionMethod": "pd.DataFrame",
       "ref": "a869a541-ab96-4b46-9376-a35e43ac43d7",
       "rows": [
        [
         "0",
         "0000366f3b9a7992bf8c76cfdf3221e2",
         "111.0",
         "1",
         "1",
         "4",
         "1",
         "1",
         "2.5",
         "2_medium"
        ],
        [
         "1",
         "0000b849f77a49e4a4ce2b2a4ca5be3f",
         "114.0",
         "1",
         "1",
         "3",
         "1",
         "1",
         "2.0",
         "2_medium"
        ],
        [
         "2",
         "0000f46a3911fa3c0805444483337064",
         "536.0",
         "1",
         "1",
         "1",
         "1",
         "1",
         "1.0",
         "3_high"
        ]
       ],
       "shape": {
        "columns": 9,
        "rows": 3
       }
      },
      "text/html": [
       "<div>\n",
       "<style scoped>\n",
       "    .dataframe tbody tr th:only-of-type {\n",
       "        vertical-align: middle;\n",
       "    }\n",
       "\n",
       "    .dataframe tbody tr th {\n",
       "        vertical-align: top;\n",
       "    }\n",
       "\n",
       "    .dataframe thead th {\n",
       "        text-align: right;\n",
       "    }\n",
       "</style>\n",
       "<table border=\"1\" class=\"dataframe\">\n",
       "  <thead>\n",
       "    <tr style=\"text-align: right;\">\n",
       "      <th></th>\n",
       "      <th>customer_unique_id</th>\n",
       "      <th>Recency</th>\n",
       "      <th>Frequency</th>\n",
       "      <th>Monetary</th>\n",
       "      <th>R_rank</th>\n",
       "      <th>F_rank</th>\n",
       "      <th>M_rank</th>\n",
       "      <th>RFM_Weighted</th>\n",
       "      <th>Churn_Risk</th>\n",
       "    </tr>\n",
       "  </thead>\n",
       "  <tbody>\n",
       "    <tr>\n",
       "      <th>0</th>\n",
       "      <td>0000366f3b9a7992bf8c76cfdf3221e2</td>\n",
       "      <td>111.0</td>\n",
       "      <td>1</td>\n",
       "      <td>1</td>\n",
       "      <td>4</td>\n",
       "      <td>1</td>\n",
       "      <td>1</td>\n",
       "      <td>2.5</td>\n",
       "      <td>2_medium</td>\n",
       "    </tr>\n",
       "    <tr>\n",
       "      <th>1</th>\n",
       "      <td>0000b849f77a49e4a4ce2b2a4ca5be3f</td>\n",
       "      <td>114.0</td>\n",
       "      <td>1</td>\n",
       "      <td>1</td>\n",
       "      <td>3</td>\n",
       "      <td>1</td>\n",
       "      <td>1</td>\n",
       "      <td>2.0</td>\n",
       "      <td>2_medium</td>\n",
       "    </tr>\n",
       "    <tr>\n",
       "      <th>2</th>\n",
       "      <td>0000f46a3911fa3c0805444483337064</td>\n",
       "      <td>536.0</td>\n",
       "      <td>1</td>\n",
       "      <td>1</td>\n",
       "      <td>1</td>\n",
       "      <td>1</td>\n",
       "      <td>1</td>\n",
       "      <td>1.0</td>\n",
       "      <td>3_high</td>\n",
       "    </tr>\n",
       "  </tbody>\n",
       "</table>\n",
       "</div>"
      ],
      "text/plain": [
       "                 customer_unique_id  Recency  Frequency  Monetary  R_rank  \\\n",
       "0  0000366f3b9a7992bf8c76cfdf3221e2    111.0          1         1       4   \n",
       "1  0000b849f77a49e4a4ce2b2a4ca5be3f    114.0          1         1       3   \n",
       "2  0000f46a3911fa3c0805444483337064    536.0          1         1       1   \n",
       "\n",
       "   F_rank  M_rank  RFM_Weighted Churn_Risk  \n",
       "0       1       1           2.5   2_medium  \n",
       "1       1       1           2.0   2_medium  \n",
       "2       1       1           1.0     3_high  "
      ]
     },
     "metadata": {},
     "output_type": "display_data"
    },
    {
     "name": "stdout",
     "output_type": "stream",
     "text": [
      "\n",
      "Распределение классов:\n",
      "Churn_Risk\n",
      "3    0.439019\n",
      "2    0.480852\n",
      "1    0.080128\n",
      "Name: proportion, dtype: float64\n",
      "\n",
      "Первые 5 записей для классификатора:\n"
     ]
    },
    {
     "data": {
      "application/vnd.microsoft.datawrangler.viewer.v0+json": {
       "columns": [
        {
         "name": "index",
         "rawType": "int64",
         "type": "integer"
        },
        {
         "name": "customer_unique_id",
         "rawType": "object",
         "type": "string"
        },
        {
         "name": "Churn_Risk",
         "rawType": "category",
         "type": "unknown"
        }
       ],
       "conversionMethod": "pd.DataFrame",
       "ref": "b005247b-fde0-4428-9c1d-4c22821b18ea",
       "rows": [
        [
         "0",
         "0000366f3b9a7992bf8c76cfdf3221e2",
         "2"
        ],
        [
         "1",
         "0000b849f77a49e4a4ce2b2a4ca5be3f",
         "2"
        ],
        [
         "2",
         "0000f46a3911fa3c0805444483337064",
         "3"
        ],
        [
         "3",
         "0000f6ccb0745a6a4b88665a16c9f078",
         "3"
        ],
        [
         "4",
         "0004aac84e0df4da2b147fca70cf8255",
         "3"
        ]
       ],
       "shape": {
        "columns": 2,
        "rows": 5
       }
      },
      "text/html": [
       "<div>\n",
       "<style scoped>\n",
       "    .dataframe tbody tr th:only-of-type {\n",
       "        vertical-align: middle;\n",
       "    }\n",
       "\n",
       "    .dataframe tbody tr th {\n",
       "        vertical-align: top;\n",
       "    }\n",
       "\n",
       "    .dataframe thead th {\n",
       "        text-align: right;\n",
       "    }\n",
       "</style>\n",
       "<table border=\"1\" class=\"dataframe\">\n",
       "  <thead>\n",
       "    <tr style=\"text-align: right;\">\n",
       "      <th></th>\n",
       "      <th>customer_unique_id</th>\n",
       "      <th>Churn_Risk</th>\n",
       "    </tr>\n",
       "  </thead>\n",
       "  <tbody>\n",
       "    <tr>\n",
       "      <th>0</th>\n",
       "      <td>0000366f3b9a7992bf8c76cfdf3221e2</td>\n",
       "      <td>2</td>\n",
       "    </tr>\n",
       "    <tr>\n",
       "      <th>1</th>\n",
       "      <td>0000b849f77a49e4a4ce2b2a4ca5be3f</td>\n",
       "      <td>2</td>\n",
       "    </tr>\n",
       "    <tr>\n",
       "      <th>2</th>\n",
       "      <td>0000f46a3911fa3c0805444483337064</td>\n",
       "      <td>3</td>\n",
       "    </tr>\n",
       "    <tr>\n",
       "      <th>3</th>\n",
       "      <td>0000f6ccb0745a6a4b88665a16c9f078</td>\n",
       "      <td>3</td>\n",
       "    </tr>\n",
       "    <tr>\n",
       "      <th>4</th>\n",
       "      <td>0004aac84e0df4da2b147fca70cf8255</td>\n",
       "      <td>3</td>\n",
       "    </tr>\n",
       "  </tbody>\n",
       "</table>\n",
       "</div>"
      ],
      "text/plain": [
       "                 customer_unique_id Churn_Risk\n",
       "0  0000366f3b9a7992bf8c76cfdf3221e2          2\n",
       "1  0000b849f77a49e4a4ce2b2a4ca5be3f          2\n",
       "2  0000f46a3911fa3c0805444483337064          3\n",
       "3  0000f6ccb0745a6a4b88665a16c9f078          3\n",
       "4  0004aac84e0df4da2b147fca70cf8255          3"
      ]
     },
     "metadata": {},
     "output_type": "display_data"
    }
   ],
   "source": [
    "import pandas as pd\n",
    "import matplotlib.pyplot as plt\n",
    "import seaborn as sns\n",
    "import os\n",
    "from IPython.display import display\n",
    "\n",
    "import warnings\n",
    "warnings.filterwarnings(\"ignore\")\n",
    "\n",
    "\n",
    "# Загрузка данных (в будущем этот и следующий шаг можно заменить на выгрузку sql)\n",
    "def load_data():\n",
    "    customers = pd.read_csv(\"./clean_data/customers.csv\")\n",
    "    geolocation = pd.read_csv(\"./clean_data/geolocation.csv\")\n",
    "    order_pay = pd.read_csv(\"./clean_data/order_payments.csv\")\n",
    "    reviews = pd.read_csv(\"./clean_data/order_reviews.csv\")\n",
    "    orders = pd.read_csv(\"./clean_data/orders.csv\")\n",
    "    item = pd.read_csv(\"./clean_data/orders_items.csv\")\n",
    "    category_name = pd.read_csv(\n",
    "        \"./clean_data/product_category_name_translation.csv\")\n",
    "    products = pd.read_csv(\"./clean_data/products.csv\")\n",
    "    sellers = pd.read_csv(\"./clean_data/sellers.csv\")\n",
    "    return customers, geolocation, order_pay, reviews, orders, item, category_name, products, sellers\n",
    "\n",
    "\n",
    "# Объединение данных\n",
    "def merge_data(orders, item, order_pay, reviews, products, customers, sellers, category_name):\n",
    "    df = orders.merge(item, on='order_id', how='left')\n",
    "    df = df.merge(order_pay, on='order_id', how='outer', validate='m:m')\n",
    "    df = df.merge(reviews, on='order_id', how='outer')\n",
    "    df = df.merge(products, on='product_id', how='outer')\n",
    "    df = df.merge(customers, on='customer_id', how='outer')\n",
    "    df = df.merge(sellers, on='seller_id', how='outer')\n",
    "    df = df.merge(category_name, on=\"product_category_name\", how=\"left\")\n",
    "    return df\n",
    "\n",
    "# Очистка данных: удаление строк без customer_unique_id\n",
    "\n",
    "\n",
    "def filter_customers(df):\n",
    "    return df[~df[\"customer_unique_id\"].isna()]\n",
    "\n",
    "\n",
    "def calculate_rfm(df):\n",
    "    \"\"\"Расчет RFM-метрик с обработкой исключений\"\"\"\n",
    "    try:\n",
    "        df['order_purchase_timestamp'] = pd.to_datetime(\n",
    "            df['order_purchase_timestamp'])\n",
    "        current_date = df['order_purchase_timestamp'].max()\n",
    "\n",
    "        return df.groupby('customer_unique_id').agg(\n",
    "            Recency=(\n",
    "                'order_purchase_timestamp',\n",
    "                lambda x: (current_date - x.max()).days),\n",
    "            Frequency=('order_id', 'nunique'),\n",
    "            Monetary=('product_id', 'count')\n",
    "        ).reset_index()\n",
    "    except KeyError as e:\n",
    "        print(f\"Ошибка: Отсутствует необходимая колонка {e}\")\n",
    "        return pd.DataFrame()\n",
    "\n",
    "\n",
    "def add_rfm_segments(rfm_data):\n",
    "    \"\"\"Добавление RFM-сегментов с весами\"\"\"\n",
    "    quantiles = rfm_data[['Recency', 'Frequency', 'Monetary']].quantile(\n",
    "        [0.25, 0.5, 0.75]).to_dict()\n",
    "\n",
    "    def rank_rfm(x, metric):\n",
    "        \"\"\"\n",
    "        Параметры:\n",
    "        x : float - значение метрики (Recency, Frequency, Monetary) для клиента\n",
    "        metric : str - название метрики ('Recency', 'Frequency', 'Monetary')\n",
    "        quantiles : dict - словарь с квартилями для всех метрик\n",
    "\n",
    "        Возвращает:\n",
    "        int - ранг от 1 до 4, где для Recency 4 - лучший, для Frequency/Monetary 4 - худший\n",
    "\n",
    "        Примечание: \n",
    "        Для Recency используется обратная шкала (меньше дней = лучше)\n",
    "        Для Frequency и Monetary - прямая шкала (больше значений = лучше)\n",
    "        Квартили рассчитываются для всей популяции клиентов\n",
    "\n",
    "        \"\"\"\n",
    "\n",
    "        # Логика ранжирования для Recency\n",
    "        if metric == 'Recency':\n",
    "            # Чем меньше дней прошло с последней покупки (ниже Recency), тем лучше\n",
    "            if x <= quantiles[metric][0.25]:\n",
    "                return 4  # Топ-25% самых активных (покупали недавно)\n",
    "            elif x <= quantiles[metric][0.5]:\n",
    "                return 3  # 25-50% - выше среднего\n",
    "            elif x <= quantiles[metric][0.75]:\n",
    "                return 2  # 50-75% - ниже среднего\n",
    "            else:\n",
    "                return 1  # Худшие 25% - давно не покупали\n",
    "\n",
    "        # Логика ранжирования для Frequency и Monetary\n",
    "        else:\n",
    "            # Чем больше покупок/сумма (выше значения), тем лучше\n",
    "            if x <= quantiles[metric][0.25]:\n",
    "                return 1  # Худшие 25% - редко/мало покупают\n",
    "            elif x <= quantiles[metric][0.5]:\n",
    "                return 2  # 25-50% - ниже среднего\n",
    "            elif x <= quantiles[metric][0.75]:\n",
    "                return 3  # 50-75% - выше среднего\n",
    "            else:\n",
    "                return 4  # Топ-25% - самые частые/крупные покупатели\n",
    "\n",
    "    for metric in ['Recency', 'Frequency', 'Monetary']:\n",
    "        rfm_data[f'{metric[0]}_rank'] = rfm_data[metric].apply(\n",
    "            rank_rfm, metric=metric)\n",
    "\n",
    "    # Взвешенная оценка\n",
    "    weights = {'R': 0.5, 'F': 0.3, 'M': 0.2}\n",
    "    rfm_data['RFM_Weighted'] = sum(\n",
    "        rfm_data[f'{k}_rank']*v for k, v in weights.items())\n",
    "\n",
    "    # Автоматическая классификация\n",
    "    rfm_data['Churn_Risk'] = pd.qcut(\n",
    "        rfm_data['RFM_Weighted'],\n",
    "        q=[0, 0.25, 0.75, 1],\n",
    "        labels=['3_high', '2_medium', '1_low']  # Формат для сортировки\n",
    "    )\n",
    "    return rfm_data\n",
    "\n",
    "\n",
    "def save_churn_plot(rfm_data, filename='plots/churn_risk_distribution.png'):\n",
    "    \"\"\"Сохранение графика распределения рисков оттока\"\"\"\n",
    "    try:\n",
    "        # Создаем директорию если нужно\n",
    "        os.makedirs(os.path.dirname(filename), exist_ok=True)\n",
    "\n",
    "        plt.figure(figsize=(12, 6))\n",
    "        ax = sns.countplot(\n",
    "            x='Churn_Risk',\n",
    "            data=rfm_data,\n",
    "            order=['Высокий риск', 'Средний риск', 'Низкий риск'],\n",
    "            palette={'Высокий риск': 'red',\n",
    "                     'Средний риск': 'orange', 'Низкий риск': 'green'}\n",
    "        )\n",
    "\n",
    "        # Добавляем аннотации\n",
    "        for p in ax.patches:\n",
    "            ax.annotate(f'{p.get_height():.0f}',\n",
    "                        (p.get_x() + p.get_width() / 2., p.get_height()),\n",
    "                        ha='center',\n",
    "                        va='center',\n",
    "                        xytext=(0, 5),\n",
    "                        textcoords='offset points')\n",
    "\n",
    "        plt.title('Распределение клиентов по риску оттока')\n",
    "        plt.xlabel('Категория риска')\n",
    "        plt.ylabel('Количество клиентов')\n",
    "        plt.xticks(rotation=45)\n",
    "\n",
    "        # Сохраняем и закрываем график\n",
    "        plt.savefig(filename, dpi=300, bbox_inches='tight')\n",
    "        plt.close()\n",
    "        print(f'График сохранен в {filename}')\n",
    "\n",
    "    except Exception as e:\n",
    "        print(f'Ошибка при сохранении графика: {str(e)}')\n",
    "\n",
    "def save_labels(label_data, filename='labels/labels.csv'):\n",
    "    try:\n",
    "        # Создаем директорию если нужно\n",
    "        os.makedirs(os.path.dirname(filename), exist_ok=True)\n",
    "        label_data.to_csv(filename, index=False)\n",
    "        \n",
    "    except Exception as e:\n",
    "        print(f'Ошибка при сохранении лэйблов: {str(e)}')\n",
    "    pass\n",
    "\n",
    "def main_pipeline():\n",
    "    \"\"\"Главный конвейер обработки данных\"\"\"\n",
    "    # Шаг 1: Загрузка данных\n",
    "    customers, geolocation, order_pay, reviews, orders, item, category_name, products, sellers = load_data()\n",
    "\n",
    "    # Шаг 2: Объединение данных\n",
    "    df = merge_data(orders, item, order_pay, reviews, products,\n",
    "                    customers, sellers, category_name)\n",
    "\n",
    "    # Шаг 3: Фильтрация пропусков\n",
    "    data = filter_customers(df)\n",
    "\n",
    "    # Шаг 4: Расчет rfm\n",
    "    rfm_raw = calculate_rfm(data)\n",
    "\n",
    "    # Шаг 5: Объединение данных\n",
    "    rfm_segment = add_rfm_segments(rfm_raw)\n",
    "    \n",
    "    # Шаг 6: Сохраняем график для дашборда\n",
    "    save_churn_plot(rfm_segment, 'results/plots/churn_distribution.png')\n",
    "    \n",
    "    # Шаг 7: Вычленяем лэйблы для классификации\n",
    "    label_data = rfm_segment.copy()[['customer_unique_id', 'Churn_Risk']]\n",
    "    risk_mapping = {'3_high': 3, '2_medium': 2, '1_low': 1}\n",
    "    label_data['Churn_Risk'] = label_data['Churn_Risk'].map(risk_mapping)\n",
    "    \n",
    "    # Шаг 8: Сохранение лэйблов для обучения классификатора\n",
    "    save_labels(label_data,'results/labels/labels.csv')\n",
    "\n",
    "    return rfm_segment, label_data\n",
    "\n",
    "\n",
    "# Запуск пайплайна и вывод результатов\n",
    "if __name__ == \"__main__\":\n",
    "    rfm_result, label_data  = main_pipeline()\n",
    "\n",
    "    print(\"\\nПример данных:\")\n",
    "    display(rfm_result.head(3))\n",
    "\n",
    "    print(\"\\nРаспределение классов:\")\n",
    "    print(label_data['Churn_Risk'].value_counts(normalize=True).sort_index())\n",
    "\n",
    "    print(\"\\nПервые 5 записей для классификатора:\")\n",
    "    display(label_data.head())"
   ]
  },
  {
   "cell_type": "code",
   "execution_count": null,
   "id": "cf1243a3",
   "metadata": {},
   "outputs": [],
   "source": []
  }
 ],
 "metadata": {
  "kernelspec": {
   "display_name": "dlenv",
   "language": "python",
   "name": "python3"
  },
  "language_info": {
   "codemirror_mode": {
    "name": "ipython",
    "version": 3
   },
   "file_extension": ".py",
   "mimetype": "text/x-python",
   "name": "python",
   "nbconvert_exporter": "python",
   "pygments_lexer": "ipython3",
   "version": "3.11.11"
  }
 },
 "nbformat": 4,
 "nbformat_minor": 5
}
