{
 "cells": [
  {
   "cell_type": "code",
   "execution_count": 1,
   "id": "6c73e701",
   "metadata": {},
   "outputs": [],
   "source": [
    "import numpy as np\n",
    "import pandas as pd\n",
    "\n",
    "import matplotlib.pyplot as plt\n",
    "import seaborn as sns"
   ]
  },
  {
   "cell_type": "code",
   "execution_count": 2,
   "id": "92afdff2",
   "metadata": {},
   "outputs": [],
   "source": [
    "# Загрузка данных\n",
    "def load_data():\n",
    "    customers = pd.read_csv(\"./clean_data/customers.csv\")\n",
    "    geolocation = pd.read_csv(\"./clean_data/geolocation.csv\")\n",
    "    order_pay = pd.read_csv(\"./clean_data/order_payments.csv\")\n",
    "    reviews = pd.read_csv(\"./clean_data/order_reviews.csv\")\n",
    "    orders = pd.read_csv(\"./clean_data/orders.csv\")\n",
    "    item = pd.read_csv(\"./clean_data/orders_items.csv\")\n",
    "    category_name = pd.read_csv(\n",
    "        \"./clean_data/product_category_name_translation.csv\")\n",
    "    products = pd.read_csv(\"./clean_data/products.csv\")\n",
    "    sellers = pd.read_csv(\"./clean_data/sellers.csv\")\n",
    "    return customers, geolocation, order_pay, reviews, orders, item, category_name, products, sellers\n"
   ]
  },
  {
   "cell_type": "code",
   "execution_count": 3,
   "id": "c7aa1138",
   "metadata": {},
   "outputs": [],
   "source": [
    "# Объединение данных\n",
    "def merge_data(orders, item, order_pay, reviews, products, customers, sellers, category_name):\n",
    "    df = orders.merge(item, on='order_id', how='left')\n",
    "    df = df.merge(order_pay, on='order_id', how='outer', validate='m:m')\n",
    "    df = df.merge(reviews, on='order_id', how='outer')\n",
    "    df = df.merge(products, on='product_id', how='outer')\n",
    "    df = df.merge(customers, on='customer_id', how='outer')\n",
    "    df = df.merge(sellers, on='seller_id', how='outer')\n",
    "    df = df.merge(category_name, on=\"product_category_name\", how=\"left\")\n",
    "    return df"
   ]
  },
  {
   "cell_type": "code",
   "execution_count": 4,
   "id": "2113647a",
   "metadata": {},
   "outputs": [],
   "source": [
    "# Очистка данных: удаление строк без customer_unique_id\n",
    "def filter_customers(df):\n",
    "    return df[~df[\"customer_unique_id\"].isna()]"
   ]
  },
  {
   "cell_type": "code",
   "execution_count": 5,
   "id": "b1c52044",
   "metadata": {},
   "outputs": [],
   "source": [
    "# Главная функция пайплайна\n",
    "def main_pipeline():\n",
    "    # Шаг 1: Загрузка данных\n",
    "    customers, geolocation, order_pay, reviews, orders, item, category_name, products, sellers = load_data()\n",
    "\n",
    "    # Шаг 2: Объединение данных\n",
    "    df = merge_data(orders, item, order_pay, reviews, products,\n",
    "                    customers, sellers, category_name)\n",
    "\n",
    "    # Шаг 3: Фильтрация данных\n",
    "    df = filter_customers(df)\n",
    "\n",
    "    final_data = df\n",
    "\n",
    "    return final_data"
   ]
  },
  {
   "cell_type": "code",
   "execution_count": 6,
   "id": "25c2948f",
   "metadata": {},
   "outputs": [],
   "source": [
    "data = main_pipeline()"
   ]
  },
  {
   "cell_type": "code",
   "execution_count": 8,
   "id": "162c9971",
   "metadata": {},
   "outputs": [
    {
     "data": {
      "application/vnd.microsoft.datawrangler.viewer.v0+json": {
       "columns": [
        {
         "name": "index",
         "rawType": "int64",
         "type": "integer"
        },
        {
         "name": "order_id",
         "rawType": "object",
         "type": "string"
        },
        {
         "name": "customer_id",
         "rawType": "object",
         "type": "string"
        },
        {
         "name": "order_status",
         "rawType": "object",
         "type": "string"
        },
        {
         "name": "order_purchase_timestamp",
         "rawType": "object",
         "type": "string"
        },
        {
         "name": "order_approved_at",
         "rawType": "object",
         "type": "string"
        },
        {
         "name": "order_delivered_carrier_date",
         "rawType": "object",
         "type": "string"
        },
        {
         "name": "order_delivered_customer_date",
         "rawType": "object",
         "type": "string"
        },
        {
         "name": "order_estimated_delivery_date",
         "rawType": "object",
         "type": "string"
        },
        {
         "name": "order_item_id",
         "rawType": "float64",
         "type": "float"
        },
        {
         "name": "product_id",
         "rawType": "object",
         "type": "string"
        },
        {
         "name": "seller_id",
         "rawType": "object",
         "type": "string"
        },
        {
         "name": "shipping_limit_date",
         "rawType": "object",
         "type": "string"
        },
        {
         "name": "price",
         "rawType": "float64",
         "type": "float"
        },
        {
         "name": "freight_value",
         "rawType": "float64",
         "type": "float"
        },
        {
         "name": "payment_sequential",
         "rawType": "float64",
         "type": "float"
        },
        {
         "name": "payment_type",
         "rawType": "object",
         "type": "string"
        },
        {
         "name": "payment_installments",
         "rawType": "float64",
         "type": "float"
        },
        {
         "name": "payment_value",
         "rawType": "float64",
         "type": "float"
        },
        {
         "name": "review_id",
         "rawType": "object",
         "type": "string"
        },
        {
         "name": "review_score",
         "rawType": "float64",
         "type": "float"
        },
        {
         "name": "review_creation_date",
         "rawType": "object",
         "type": "string"
        },
        {
         "name": "review_answer_timestamp",
         "rawType": "object",
         "type": "string"
        },
        {
         "name": "product_category_name",
         "rawType": "object",
         "type": "string"
        },
        {
         "name": "product_name_lenght",
         "rawType": "float64",
         "type": "float"
        },
        {
         "name": "product_description_lenght",
         "rawType": "float64",
         "type": "float"
        },
        {
         "name": "product_photos_qty",
         "rawType": "float64",
         "type": "float"
        },
        {
         "name": "product_weight_g",
         "rawType": "float64",
         "type": "float"
        },
        {
         "name": "product_length_cm",
         "rawType": "float64",
         "type": "float"
        },
        {
         "name": "product_height_cm",
         "rawType": "float64",
         "type": "float"
        },
        {
         "name": "product_width_cm",
         "rawType": "float64",
         "type": "float"
        },
        {
         "name": "customer_unique_id",
         "rawType": "object",
         "type": "string"
        },
        {
         "name": "customer_zip_code_prefix",
         "rawType": "float64",
         "type": "float"
        },
        {
         "name": "customer_city",
         "rawType": "object",
         "type": "string"
        },
        {
         "name": "customer_state",
         "rawType": "object",
         "type": "string"
        },
        {
         "name": "seller_zip_code_prefix",
         "rawType": "float64",
         "type": "float"
        },
        {
         "name": "seller_city",
         "rawType": "object",
         "type": "string"
        },
        {
         "name": "seller_state",
         "rawType": "object",
         "type": "string"
        },
        {
         "name": "product_category_name_english",
         "rawType": "object",
         "type": "string"
        }
       ],
       "conversionMethod": "pd.DataFrame",
       "ref": "c2405a47-63a6-42b1-a982-618b92301b7a",
       "rows": [
        [
         "0",
         "d455a8cb295653b55abda06d434ab492",
         "944b72539d7e1f7f7fc6e46639ef1fe3",
         "delivered",
         "2017-09-26 22:17:05",
         "2017-09-27 22:24:16",
         "2017-09-29 15:53:03",
         "2017-10-07 16:12:47",
         "2017-10-30 00:00:00",
         "1.0",
         "a2ff5a97bf95719e38ea2e3b4105bce8",
         "0015a82c2db000af6aaaf3ae2ecb0532",
         "2017-10-12 22:24:16",
         "895.0",
         "21.02",
         "1.0",
         "credit_card",
         "10.0",
         "916.02",
         "f6923b4d17e0f4e87b38cb26c758d3c6",
         "5.0",
         "2017-10-08 00:00:00",
         "2017-10-11 21:42:45",
         "eletroportateis",
         "40.0",
         "849.0",
         "2.0",
         "11800.0",
         "40.0",
         "43.0",
         "36.0",
         "3c7e305796add66698959fc7ad176f6b",
         "87502.0",
         "umuarama",
         "PR",
         "9080.0",
         "santo andre",
         "SP",
         "small_appliances"
        ],
        [
         "1",
         "7f39ba4c9052be115350065d07583cac",
         "d7fc82cbeafea77bd0a8fbbf6296e387",
         "delivered",
         "2017-10-18 08:16:34",
         "2017-10-18 23:56:20",
         "2017-10-20 14:29:01",
         "2017-10-27 16:46:05",
         "2017-11-09 00:00:00",
         "1.0",
         "a2ff5a97bf95719e38ea2e3b4105bce8",
         "0015a82c2db000af6aaaf3ae2ecb0532",
         "2017-10-24 23:56:20",
         "895.0",
         "21.02",
         "1.0",
         "credit_card",
         "8.0",
         "916.02",
         "2abb25fde5aafe9bc85d031dffb2f4ac",
         "1.0",
         "2017-10-28 00:00:00",
         "2017-10-28 14:32:42",
         "eletroportateis",
         "40.0",
         "849.0",
         "2.0",
         "11800.0",
         "40.0",
         "43.0",
         "36.0",
         "9de5797cddb92598755a0f76383ddbbb",
         "35490.0",
         "entre rios de minas",
         "MG",
         "9080.0",
         "santo andre",
         "SP",
         "small_appliances"
        ],
        [
         "2",
         "9dc8d1a6f16f1b89874c29c9d8d30447",
         "d9442164acf4b03109425633efaa0cfc",
         "delivered",
         "2017-10-12 13:33:22",
         "2017-10-12 13:49:22",
         "2017-10-17 15:42:42",
         "2017-10-24 20:17:44",
         "2017-11-06 00:00:00",
         "1.0",
         "a2ff5a97bf95719e38ea2e3b4105bce8",
         "0015a82c2db000af6aaaf3ae2ecb0532",
         "2017-10-18 14:49:22",
         "895.0",
         "21.02",
         "1.0",
         "credit_card",
         "4.0",
         "916.02",
         "799c3e3362ac0d09cfa1b39b51647490",
         "5.0",
         "2017-10-25 00:00:00",
         "2017-10-25 23:15:15",
         "eletroportateis",
         "40.0",
         "849.0",
         "2.0",
         "11800.0",
         "40.0",
         "43.0",
         "36.0",
         "9915eb9f74b6c11aaf04833f65b00e93",
         "38600.0",
         "paracatu",
         "MG",
         "9080.0",
         "santo andre",
         "SP",
         "small_appliances"
        ],
        [
         "3",
         "0f548bd29148ebc519d6495e37a284e1",
         "015faf9ec36eccd957c0f2782aab09a4",
         "delivered",
         "2017-09-03 08:06:30",
         "2017-09-03 08:25:50",
         "2017-09-04 22:03:06",
         "2017-09-08 16:26:55",
         "2017-09-27 00:00:00",
         "1.0",
         "08574b074924071f4e201e151b152b4e",
         "001cca7ae9ae17fb1caed9dfb1094831",
         "2017-09-08 08:25:50",
         "99.0",
         "33.08",
         "1.0",
         "credit_card",
         "2.0",
         "264.16",
         "f402ea966112bd28646760b72d7f677f",
         "5.0",
         "2017-09-09 00:00:00",
         "2017-09-09 20:51:47",
         "ferramentas_jardim",
         "36.0",
         "450.0",
         "1.0",
         "9000.0",
         "42.0",
         "12.0",
         "39.0",
         "dce323533e45e74d215e0fe7fb114118",
         "24710.0",
         "sao goncalo",
         "RJ",
         "29156.0",
         "cariacica",
         "ES",
         "garden_tools"
        ],
        [
         "4",
         "0f548bd29148ebc519d6495e37a284e1",
         "015faf9ec36eccd957c0f2782aab09a4",
         "delivered",
         "2017-09-03 08:06:30",
         "2017-09-03 08:25:50",
         "2017-09-04 22:03:06",
         "2017-09-08 16:26:55",
         "2017-09-27 00:00:00",
         "2.0",
         "08574b074924071f4e201e151b152b4e",
         "001cca7ae9ae17fb1caed9dfb1094831",
         "2017-09-08 08:25:50",
         "99.0",
         "33.08",
         "1.0",
         "credit_card",
         "2.0",
         "264.16",
         "f402ea966112bd28646760b72d7f677f",
         "5.0",
         "2017-09-09 00:00:00",
         "2017-09-09 20:51:47",
         "ferramentas_jardim",
         "36.0",
         "450.0",
         "1.0",
         "9000.0",
         "42.0",
         "12.0",
         "39.0",
         "dce323533e45e74d215e0fe7fb114118",
         "24710.0",
         "sao goncalo",
         "RJ",
         "29156.0",
         "cariacica",
         "ES",
         "garden_tools"
        ]
       ],
       "shape": {
        "columns": 38,
        "rows": 5
       }
      },
      "text/html": [
       "<div>\n",
       "<style scoped>\n",
       "    .dataframe tbody tr th:only-of-type {\n",
       "        vertical-align: middle;\n",
       "    }\n",
       "\n",
       "    .dataframe tbody tr th {\n",
       "        vertical-align: top;\n",
       "    }\n",
       "\n",
       "    .dataframe thead th {\n",
       "        text-align: right;\n",
       "    }\n",
       "</style>\n",
       "<table border=\"1\" class=\"dataframe\">\n",
       "  <thead>\n",
       "    <tr style=\"text-align: right;\">\n",
       "      <th></th>\n",
       "      <th>order_id</th>\n",
       "      <th>customer_id</th>\n",
       "      <th>order_status</th>\n",
       "      <th>order_purchase_timestamp</th>\n",
       "      <th>order_approved_at</th>\n",
       "      <th>order_delivered_carrier_date</th>\n",
       "      <th>order_delivered_customer_date</th>\n",
       "      <th>order_estimated_delivery_date</th>\n",
       "      <th>order_item_id</th>\n",
       "      <th>product_id</th>\n",
       "      <th>...</th>\n",
       "      <th>product_height_cm</th>\n",
       "      <th>product_width_cm</th>\n",
       "      <th>customer_unique_id</th>\n",
       "      <th>customer_zip_code_prefix</th>\n",
       "      <th>customer_city</th>\n",
       "      <th>customer_state</th>\n",
       "      <th>seller_zip_code_prefix</th>\n",
       "      <th>seller_city</th>\n",
       "      <th>seller_state</th>\n",
       "      <th>product_category_name_english</th>\n",
       "    </tr>\n",
       "  </thead>\n",
       "  <tbody>\n",
       "    <tr>\n",
       "      <th>0</th>\n",
       "      <td>d455a8cb295653b55abda06d434ab492</td>\n",
       "      <td>944b72539d7e1f7f7fc6e46639ef1fe3</td>\n",
       "      <td>delivered</td>\n",
       "      <td>2017-09-26 22:17:05</td>\n",
       "      <td>2017-09-27 22:24:16</td>\n",
       "      <td>2017-09-29 15:53:03</td>\n",
       "      <td>2017-10-07 16:12:47</td>\n",
       "      <td>2017-10-30 00:00:00</td>\n",
       "      <td>1.0</td>\n",
       "      <td>a2ff5a97bf95719e38ea2e3b4105bce8</td>\n",
       "      <td>...</td>\n",
       "      <td>43.0</td>\n",
       "      <td>36.0</td>\n",
       "      <td>3c7e305796add66698959fc7ad176f6b</td>\n",
       "      <td>87502.0</td>\n",
       "      <td>umuarama</td>\n",
       "      <td>PR</td>\n",
       "      <td>9080.0</td>\n",
       "      <td>santo andre</td>\n",
       "      <td>SP</td>\n",
       "      <td>small_appliances</td>\n",
       "    </tr>\n",
       "    <tr>\n",
       "      <th>1</th>\n",
       "      <td>7f39ba4c9052be115350065d07583cac</td>\n",
       "      <td>d7fc82cbeafea77bd0a8fbbf6296e387</td>\n",
       "      <td>delivered</td>\n",
       "      <td>2017-10-18 08:16:34</td>\n",
       "      <td>2017-10-18 23:56:20</td>\n",
       "      <td>2017-10-20 14:29:01</td>\n",
       "      <td>2017-10-27 16:46:05</td>\n",
       "      <td>2017-11-09 00:00:00</td>\n",
       "      <td>1.0</td>\n",
       "      <td>a2ff5a97bf95719e38ea2e3b4105bce8</td>\n",
       "      <td>...</td>\n",
       "      <td>43.0</td>\n",
       "      <td>36.0</td>\n",
       "      <td>9de5797cddb92598755a0f76383ddbbb</td>\n",
       "      <td>35490.0</td>\n",
       "      <td>entre rios de minas</td>\n",
       "      <td>MG</td>\n",
       "      <td>9080.0</td>\n",
       "      <td>santo andre</td>\n",
       "      <td>SP</td>\n",
       "      <td>small_appliances</td>\n",
       "    </tr>\n",
       "    <tr>\n",
       "      <th>2</th>\n",
       "      <td>9dc8d1a6f16f1b89874c29c9d8d30447</td>\n",
       "      <td>d9442164acf4b03109425633efaa0cfc</td>\n",
       "      <td>delivered</td>\n",
       "      <td>2017-10-12 13:33:22</td>\n",
       "      <td>2017-10-12 13:49:22</td>\n",
       "      <td>2017-10-17 15:42:42</td>\n",
       "      <td>2017-10-24 20:17:44</td>\n",
       "      <td>2017-11-06 00:00:00</td>\n",
       "      <td>1.0</td>\n",
       "      <td>a2ff5a97bf95719e38ea2e3b4105bce8</td>\n",
       "      <td>...</td>\n",
       "      <td>43.0</td>\n",
       "      <td>36.0</td>\n",
       "      <td>9915eb9f74b6c11aaf04833f65b00e93</td>\n",
       "      <td>38600.0</td>\n",
       "      <td>paracatu</td>\n",
       "      <td>MG</td>\n",
       "      <td>9080.0</td>\n",
       "      <td>santo andre</td>\n",
       "      <td>SP</td>\n",
       "      <td>small_appliances</td>\n",
       "    </tr>\n",
       "    <tr>\n",
       "      <th>3</th>\n",
       "      <td>0f548bd29148ebc519d6495e37a284e1</td>\n",
       "      <td>015faf9ec36eccd957c0f2782aab09a4</td>\n",
       "      <td>delivered</td>\n",
       "      <td>2017-09-03 08:06:30</td>\n",
       "      <td>2017-09-03 08:25:50</td>\n",
       "      <td>2017-09-04 22:03:06</td>\n",
       "      <td>2017-09-08 16:26:55</td>\n",
       "      <td>2017-09-27 00:00:00</td>\n",
       "      <td>1.0</td>\n",
       "      <td>08574b074924071f4e201e151b152b4e</td>\n",
       "      <td>...</td>\n",
       "      <td>12.0</td>\n",
       "      <td>39.0</td>\n",
       "      <td>dce323533e45e74d215e0fe7fb114118</td>\n",
       "      <td>24710.0</td>\n",
       "      <td>sao goncalo</td>\n",
       "      <td>RJ</td>\n",
       "      <td>29156.0</td>\n",
       "      <td>cariacica</td>\n",
       "      <td>ES</td>\n",
       "      <td>garden_tools</td>\n",
       "    </tr>\n",
       "    <tr>\n",
       "      <th>4</th>\n",
       "      <td>0f548bd29148ebc519d6495e37a284e1</td>\n",
       "      <td>015faf9ec36eccd957c0f2782aab09a4</td>\n",
       "      <td>delivered</td>\n",
       "      <td>2017-09-03 08:06:30</td>\n",
       "      <td>2017-09-03 08:25:50</td>\n",
       "      <td>2017-09-04 22:03:06</td>\n",
       "      <td>2017-09-08 16:26:55</td>\n",
       "      <td>2017-09-27 00:00:00</td>\n",
       "      <td>2.0</td>\n",
       "      <td>08574b074924071f4e201e151b152b4e</td>\n",
       "      <td>...</td>\n",
       "      <td>12.0</td>\n",
       "      <td>39.0</td>\n",
       "      <td>dce323533e45e74d215e0fe7fb114118</td>\n",
       "      <td>24710.0</td>\n",
       "      <td>sao goncalo</td>\n",
       "      <td>RJ</td>\n",
       "      <td>29156.0</td>\n",
       "      <td>cariacica</td>\n",
       "      <td>ES</td>\n",
       "      <td>garden_tools</td>\n",
       "    </tr>\n",
       "  </tbody>\n",
       "</table>\n",
       "<p>5 rows × 38 columns</p>\n",
       "</div>"
      ],
      "text/plain": [
       "                           order_id                       customer_id  \\\n",
       "0  d455a8cb295653b55abda06d434ab492  944b72539d7e1f7f7fc6e46639ef1fe3   \n",
       "1  7f39ba4c9052be115350065d07583cac  d7fc82cbeafea77bd0a8fbbf6296e387   \n",
       "2  9dc8d1a6f16f1b89874c29c9d8d30447  d9442164acf4b03109425633efaa0cfc   \n",
       "3  0f548bd29148ebc519d6495e37a284e1  015faf9ec36eccd957c0f2782aab09a4   \n",
       "4  0f548bd29148ebc519d6495e37a284e1  015faf9ec36eccd957c0f2782aab09a4   \n",
       "\n",
       "  order_status order_purchase_timestamp    order_approved_at  \\\n",
       "0    delivered      2017-09-26 22:17:05  2017-09-27 22:24:16   \n",
       "1    delivered      2017-10-18 08:16:34  2017-10-18 23:56:20   \n",
       "2    delivered      2017-10-12 13:33:22  2017-10-12 13:49:22   \n",
       "3    delivered      2017-09-03 08:06:30  2017-09-03 08:25:50   \n",
       "4    delivered      2017-09-03 08:06:30  2017-09-03 08:25:50   \n",
       "\n",
       "  order_delivered_carrier_date order_delivered_customer_date  \\\n",
       "0          2017-09-29 15:53:03           2017-10-07 16:12:47   \n",
       "1          2017-10-20 14:29:01           2017-10-27 16:46:05   \n",
       "2          2017-10-17 15:42:42           2017-10-24 20:17:44   \n",
       "3          2017-09-04 22:03:06           2017-09-08 16:26:55   \n",
       "4          2017-09-04 22:03:06           2017-09-08 16:26:55   \n",
       "\n",
       "  order_estimated_delivery_date  order_item_id  \\\n",
       "0           2017-10-30 00:00:00            1.0   \n",
       "1           2017-11-09 00:00:00            1.0   \n",
       "2           2017-11-06 00:00:00            1.0   \n",
       "3           2017-09-27 00:00:00            1.0   \n",
       "4           2017-09-27 00:00:00            2.0   \n",
       "\n",
       "                         product_id  ... product_height_cm product_width_cm  \\\n",
       "0  a2ff5a97bf95719e38ea2e3b4105bce8  ...              43.0             36.0   \n",
       "1  a2ff5a97bf95719e38ea2e3b4105bce8  ...              43.0             36.0   \n",
       "2  a2ff5a97bf95719e38ea2e3b4105bce8  ...              43.0             36.0   \n",
       "3  08574b074924071f4e201e151b152b4e  ...              12.0             39.0   \n",
       "4  08574b074924071f4e201e151b152b4e  ...              12.0             39.0   \n",
       "\n",
       "                 customer_unique_id  customer_zip_code_prefix  \\\n",
       "0  3c7e305796add66698959fc7ad176f6b                   87502.0   \n",
       "1  9de5797cddb92598755a0f76383ddbbb                   35490.0   \n",
       "2  9915eb9f74b6c11aaf04833f65b00e93                   38600.0   \n",
       "3  dce323533e45e74d215e0fe7fb114118                   24710.0   \n",
       "4  dce323533e45e74d215e0fe7fb114118                   24710.0   \n",
       "\n",
       "         customer_city customer_state  seller_zip_code_prefix  seller_city  \\\n",
       "0             umuarama             PR                  9080.0  santo andre   \n",
       "1  entre rios de minas             MG                  9080.0  santo andre   \n",
       "2             paracatu             MG                  9080.0  santo andre   \n",
       "3          sao goncalo             RJ                 29156.0    cariacica   \n",
       "4          sao goncalo             RJ                 29156.0    cariacica   \n",
       "\n",
       "  seller_state  product_category_name_english  \n",
       "0           SP               small_appliances  \n",
       "1           SP               small_appliances  \n",
       "2           SP               small_appliances  \n",
       "3           ES                   garden_tools  \n",
       "4           ES                   garden_tools  \n",
       "\n",
       "[5 rows x 38 columns]"
      ]
     },
     "execution_count": 8,
     "metadata": {},
     "output_type": "execute_result"
    }
   ],
   "source": [
    "data.head()"
   ]
  },
  {
   "cell_type": "markdown",
   "id": "1197644a",
   "metadata": {},
   "source": [
    "---\n",
    "### Работаем с количеством покупок"
   ]
  },
  {
   "cell_type": "code",
   "execution_count": 56,
   "id": "95c21574",
   "metadata": {},
   "outputs": [
    {
     "data": {
      "application/vnd.microsoft.datawrangler.viewer.v0+json": {
       "columns": [
        {
         "name": "index",
         "rawType": "object",
         "type": "string"
        },
        {
         "name": "num_of_orders",
         "rawType": "float64",
         "type": "float"
        }
       ],
       "conversionMethod": "pd.DataFrame",
       "ref": "b5452ef5-f482-4e31-90be-bf0960085178",
       "rows": [
        [
         "count",
         "96096.0"
        ],
        [
         "mean",
         "1.2040667665667666"
        ],
        [
         "std",
         "0.8620569647024884"
        ],
        [
         "min",
         "0.0"
        ],
        [
         "25%",
         "1.0"
        ],
        [
         "50%",
         "1.0"
        ],
        [
         "75%",
         "1.0"
        ],
        [
         "max",
         "75.0"
        ]
       ],
       "shape": {
        "columns": 1,
        "rows": 8
       }
      },
      "text/html": [
       "<div>\n",
       "<style scoped>\n",
       "    .dataframe tbody tr th:only-of-type {\n",
       "        vertical-align: middle;\n",
       "    }\n",
       "\n",
       "    .dataframe tbody tr th {\n",
       "        vertical-align: top;\n",
       "    }\n",
       "\n",
       "    .dataframe thead th {\n",
       "        text-align: right;\n",
       "    }\n",
       "</style>\n",
       "<table border=\"1\" class=\"dataframe\">\n",
       "  <thead>\n",
       "    <tr style=\"text-align: right;\">\n",
       "      <th></th>\n",
       "      <th>num_of_orders</th>\n",
       "    </tr>\n",
       "  </thead>\n",
       "  <tbody>\n",
       "    <tr>\n",
       "      <th>count</th>\n",
       "      <td>96096.000000</td>\n",
       "    </tr>\n",
       "    <tr>\n",
       "      <th>mean</th>\n",
       "      <td>1.204067</td>\n",
       "    </tr>\n",
       "    <tr>\n",
       "      <th>std</th>\n",
       "      <td>0.862057</td>\n",
       "    </tr>\n",
       "    <tr>\n",
       "      <th>min</th>\n",
       "      <td>0.000000</td>\n",
       "    </tr>\n",
       "    <tr>\n",
       "      <th>25%</th>\n",
       "      <td>1.000000</td>\n",
       "    </tr>\n",
       "    <tr>\n",
       "      <th>50%</th>\n",
       "      <td>1.000000</td>\n",
       "    </tr>\n",
       "    <tr>\n",
       "      <th>75%</th>\n",
       "      <td>1.000000</td>\n",
       "    </tr>\n",
       "    <tr>\n",
       "      <th>max</th>\n",
       "      <td>75.000000</td>\n",
       "    </tr>\n",
       "  </tbody>\n",
       "</table>\n",
       "</div>"
      ],
      "text/plain": [
       "       num_of_orders\n",
       "count   96096.000000\n",
       "mean        1.204067\n",
       "std         0.862057\n",
       "min         0.000000\n",
       "25%         1.000000\n",
       "50%         1.000000\n",
       "75%         1.000000\n",
       "max        75.000000"
      ]
     },
     "metadata": {},
     "output_type": "display_data"
    },
    {
     "data": {
      "application/vnd.microsoft.datawrangler.viewer.v0+json": {
       "columns": [
        {
         "name": "index",
         "rawType": "int64",
         "type": "integer"
        },
        {
         "name": "customer_unique_id",
         "rawType": "object",
         "type": "string"
        },
        {
         "name": "num_of_orders",
         "rawType": "int64",
         "type": "integer"
        }
       ],
       "conversionMethod": "pd.DataFrame",
       "ref": "3c0b09d6-f9be-490b-98f7-77b04353a1d3",
       "rows": [
        [
         "58030",
         "9a736b248f67d166d2fbb006bcb877c3",
         "75"
        ],
        [
         "42022",
         "6fbc7cdadbb522125f4b27ae9dee4060",
         "38"
        ],
        [
         "93770",
         "f9ae226291893fda10af7965268fb7f6",
         "35"
        ],
        [
         "32600",
         "569aa12b73b5f7edeaa6f2a01603e381",
         "26"
        ],
        [
         "50192",
         "85963fd37bfd387aa6d915d8a1065486",
         "24"
        ],
        [
         "81722",
         "d97b3cfb22b0d6b25ac9ed4e9c2d481b",
         "24"
        ],
        [
         "75269",
         "c8460e4251689ba205045f3ea17884a1",
         "24"
        ],
        [
         "11019",
         "1d2435aa3b858d45c707c9fc25e18779",
         "24"
        ],
        [
         "31637",
         "5419a7c9b86a43d8140e2939cd2c2f7e",
         "24"
        ],
        [
         "82369",
         "db1af3fd6b23ac3873ef02619d548f9c",
         "24"
        ],
        [
         "54212",
         "90807fdb59eec2152bc977feeb6e47e7",
         "24"
        ],
        [
         "14015",
         "2524dcec233c3766f2c2b22f69fd65f4",
         "22"
        ],
        [
         "24706",
         "41a3b256cc497dc952a815b848345cbc",
         "21"
        ],
        [
         "56331",
         "9620623f9ea546719cb3cd99bbb879a9",
         "21"
        ],
        [
         "26075",
         "4546caea018ad8c692964e3382debd19",
         "21"
        ],
        [
         "39720",
         "698e1cf81d01a3d389d96145f7fa6df8",
         "20"
        ],
        [
         "89264",
         "ed917c786a8a3e411eae87aeca27cb27",
         "20"
        ],
        [
         "73664",
         "c402f431464c72e27330a67f7b94d4fb",
         "20"
        ],
        [
         "21117",
         "3806104dbbc3d14c17b091b3b8e38d59",
         "20"
        ],
        [
         "13931",
         "24f12460aad399ba18f4ed2c2fbab65d",
         "19"
        ],
        [
         "5784",
         "0f5ac8d5c31de21d2f25e24be15bbffb",
         "18"
        ],
        [
         "39782",
         "69aedec762e21e5aaca6eba2e635dcfb",
         "16"
        ],
        [
         "73922",
         "c4b224d2c784bae11ae98b6ae9f2454c",
         "15"
        ],
        [
         "2702",
         "072a543c663f0b54b41af8b074162d62",
         "15"
        ],
        [
         "88262",
         "eae0a83d752b1dd32697e0e7b4221656",
         "15"
        ],
        [
         "52973",
         "8d50f5eadf50201ccdcedfb9e2ac8455",
         "15"
        ],
        [
         "6809",
         "11f97da02237a49c8e783dfda6f50e8e",
         "15"
        ],
        [
         "19238",
         "33176de67c05eeed870fd49f234387a0",
         "15"
        ],
        [
         "14223",
         "25ba76039a1caff121dfcb0d66e54780",
         "15"
        ],
        [
         "41848",
         "6f35424ab0a4f25807ac4e03b155832e",
         "14"
        ],
        [
         "55763",
         "94a19681bf6faa3c6ce3e2df1c2d97cb",
         "14"
        ],
        [
         "93104",
         "f7ea4eef770a388bd5b225acfc546604",
         "14"
        ],
        [
         "18139",
         "301d1ce5a76b7e1bc47e5115bf5eb6ba",
         "14"
        ],
        [
         "23472",
         "3e43e6105506432c953e165fb2acf44c",
         "14"
        ],
        [
         "83786",
         "dee6a650840de087ac42c4367bc9baf3",
         "14"
        ],
        [
         "18805",
         "31e412b9fb766b6794724ed17a41dfa6",
         "14"
        ],
        [
         "10494",
         "1bc3d5e384c365c86cf79078f32eb495",
         "14"
        ],
        [
         "73686",
         "c411c8b6dbaffd467263f87a23f2cf52",
         "13"
        ],
        [
         "43127",
         "7293e0b38ab0dab128e6bfb7239c37ad",
         "13"
        ],
        [
         "64252",
         "aae867e923db95a5af878ffec19ebd8c",
         "13"
        ],
        [
         "43894",
         "74adf920dbd3d2e6e9f18acd88b2fd41",
         "13"
        ],
        [
         "44203",
         "7582a5a77fc2976628f46a13ec91b375",
         "13"
        ],
        [
         "848",
         "024676cef113f6c81db6c5b8d29e5ee9",
         "12"
        ],
        [
         "44250",
         "75a2adfe9f86d401f24b5fe2eb9a582c",
         "12"
        ],
        [
         "29196",
         "4d99682572b7b5932340a0bce676c18c",
         "12"
        ],
        [
         "62546",
         "a66315c850c3712707754c1eca7a8069",
         "12"
        ],
        [
         "21766",
         "39c7f8c4e4552af113351a650816296c",
         "12"
        ],
        [
         "3026",
         "07ff81a9676efa0286ddd3f09e7c0063",
         "12"
        ],
        [
         "26455",
         "4644f1b187e390a08b4c66fb16c91364",
         "12"
        ],
        [
         "23770",
         "3f01021289a4c54f1c984262f4ba625b",
         "12"
        ]
       ],
       "shape": {
        "columns": 2,
        "rows": 96096
       }
      },
      "text/html": [
       "<div>\n",
       "<style scoped>\n",
       "    .dataframe tbody tr th:only-of-type {\n",
       "        vertical-align: middle;\n",
       "    }\n",
       "\n",
       "    .dataframe tbody tr th {\n",
       "        vertical-align: top;\n",
       "    }\n",
       "\n",
       "    .dataframe thead th {\n",
       "        text-align: right;\n",
       "    }\n",
       "</style>\n",
       "<table border=\"1\" class=\"dataframe\">\n",
       "  <thead>\n",
       "    <tr style=\"text-align: right;\">\n",
       "      <th></th>\n",
       "      <th>customer_unique_id</th>\n",
       "      <th>num_of_orders</th>\n",
       "    </tr>\n",
       "  </thead>\n",
       "  <tbody>\n",
       "    <tr>\n",
       "      <th>58030</th>\n",
       "      <td>9a736b248f67d166d2fbb006bcb877c3</td>\n",
       "      <td>75</td>\n",
       "    </tr>\n",
       "    <tr>\n",
       "      <th>42022</th>\n",
       "      <td>6fbc7cdadbb522125f4b27ae9dee4060</td>\n",
       "      <td>38</td>\n",
       "    </tr>\n",
       "    <tr>\n",
       "      <th>93770</th>\n",
       "      <td>f9ae226291893fda10af7965268fb7f6</td>\n",
       "      <td>35</td>\n",
       "    </tr>\n",
       "    <tr>\n",
       "      <th>32600</th>\n",
       "      <td>569aa12b73b5f7edeaa6f2a01603e381</td>\n",
       "      <td>26</td>\n",
       "    </tr>\n",
       "    <tr>\n",
       "      <th>50192</th>\n",
       "      <td>85963fd37bfd387aa6d915d8a1065486</td>\n",
       "      <td>24</td>\n",
       "    </tr>\n",
       "    <tr>\n",
       "      <th>...</th>\n",
       "      <td>...</td>\n",
       "      <td>...</td>\n",
       "    </tr>\n",
       "    <tr>\n",
       "      <th>6265</th>\n",
       "      <td>108b1a74b02d1e998850c39d7a7e9150</td>\n",
       "      <td>0</td>\n",
       "    </tr>\n",
       "    <tr>\n",
       "      <th>45196</th>\n",
       "      <td>783649d604223aea32afa945a91dda63</td>\n",
       "      <td>0</td>\n",
       "    </tr>\n",
       "    <tr>\n",
       "      <th>77740</th>\n",
       "      <td>cef403f888f6bb14ec10e4e02e410893</td>\n",
       "      <td>0</td>\n",
       "    </tr>\n",
       "    <tr>\n",
       "      <th>77739</th>\n",
       "      <td>cef3f66c58b52005df2fbba65ba9abdf</td>\n",
       "      <td>0</td>\n",
       "    </tr>\n",
       "    <tr>\n",
       "      <th>20209</th>\n",
       "      <td>35a1e3dc12ca1b9f2fca417827fd6183</td>\n",
       "      <td>0</td>\n",
       "    </tr>\n",
       "  </tbody>\n",
       "</table>\n",
       "<p>96096 rows × 2 columns</p>\n",
       "</div>"
      ],
      "text/plain": [
       "                     customer_unique_id  num_of_orders\n",
       "58030  9a736b248f67d166d2fbb006bcb877c3             75\n",
       "42022  6fbc7cdadbb522125f4b27ae9dee4060             38\n",
       "93770  f9ae226291893fda10af7965268fb7f6             35\n",
       "32600  569aa12b73b5f7edeaa6f2a01603e381             26\n",
       "50192  85963fd37bfd387aa6d915d8a1065486             24\n",
       "...                                 ...            ...\n",
       "6265   108b1a74b02d1e998850c39d7a7e9150              0\n",
       "45196  783649d604223aea32afa945a91dda63              0\n",
       "77740  cef403f888f6bb14ec10e4e02e410893              0\n",
       "77739  cef3f66c58b52005df2fbba65ba9abdf              0\n",
       "20209  35a1e3dc12ca1b9f2fca417827fd6183              0\n",
       "\n",
       "[96096 rows x 2 columns]"
      ]
     },
     "metadata": {},
     "output_type": "display_data"
    },
    {
     "data": {
      "image/png": "[encoded data removed]",
      "text/plain": [
       "<Figure size 1000x1000 with 2 Axes>"
      ]
     },
     "metadata": {},
     "output_type": "display_data"
    }
   ],
   "source": [
    "# Количество покупок на покупателя\n",
    "num_of_orders = data.groupby(\"customer_unique_id\")[\n",
    "    \"order_id\"].count().reset_index().rename(columns={\"order_id\":\"num_of_orders\"})\n",
    "\n",
    "display(num_of_orders.describe())\n",
    "\n",
    "display(num_of_orders.sort_values(by=\"num_of_orders\", ascending=False))\n",
    "\n",
    "fig, axes = plt.subplots(1, 2, figsize=(10, 10))\n",
    "sns.histplot(num_of_orders, ax=axes[0])\n",
    "sns.histplot(num_of_orders[num_of_orders[\"num_of_orders\"] > 4], ax=axes[1])\n",
    "plt.show()"
   ]
  },
  {
   "cell_type": "code",
   "execution_count": 57,
   "id": "7df24e80",
   "metadata": {},
   "outputs": [],
   "source": [
    "# Предположим, что отсечная черта по количеству покупок равна 4\n",
    "num_of_orders[\"consistancy\"] = num_of_orders[\"num_of_orders\"].apply(\n",
    "    lambda x: 1 if x >= 4 else 0)\n"
   ]
  },
  {
   "cell_type": "code",
   "execution_count": 58,
   "id": "e5fdd06e",
   "metadata": {},
   "outputs": [
    {
     "data": {
      "application/vnd.microsoft.datawrangler.viewer.v0+json": {
       "columns": [
        {
         "name": "index",
         "rawType": "int64",
         "type": "integer"
        },
        {
         "name": "customer_unique_id",
         "rawType": "object",
         "type": "string"
        },
        {
         "name": "num_of_orders",
         "rawType": "int64",
         "type": "integer"
        },
        {
         "name": "consistancy",
         "rawType": "int64",
         "type": "integer"
        }
       ],
       "conversionMethod": "pd.DataFrame",
       "ref": "6a55d363-7d0d-47bd-84e0-8968de397550",
       "rows": [
        [
         "0",
         "0000366f3b9a7992bf8c76cfdf3221e2",
         "1",
         "0"
        ],
        [
         "1",
         "0000b849f77a49e4a4ce2b2a4ca5be3f",
         "1",
         "0"
        ],
        [
         "2",
         "0000f46a3911fa3c0805444483337064",
         "1",
         "0"
        ],
        [
         "3",
         "0000f6ccb0745a6a4b88665a16c9f078",
         "1",
         "0"
        ],
        [
         "4",
         "0004aac84e0df4da2b147fca70cf8255",
         "1",
         "0"
        ],
        [
         "5",
         "0004bd2a26a76fe21f786e4fbd80607f",
         "1",
         "0"
        ],
        [
         "6",
         "00050ab1314c0e55a6ca13cf7181fecf",
         "1",
         "0"
        ],
        [
         "7",
         "00053a61a98854899e70ed204dd4bafe",
         "2",
         "0"
        ],
        [
         "8",
         "0005e1862207bf6ccc02e4228effd9a0",
         "1",
         "0"
        ],
        [
         "9",
         "0005ef4cd20d2893f0d9fbd94d3c0d97",
         "1",
         "0"
        ],
        [
         "10",
         "0006fdc98a402fceb4eb0ee528f6a8d4",
         "1",
         "0"
        ],
        [
         "11",
         "00082cbe03e478190aadbea78542e933",
         "1",
         "0"
        ],
        [
         "12",
         "00090324bbad0e9342388303bb71ba0a",
         "1",
         "0"
        ],
        [
         "13",
         "000949456b182f53c18b68d6babc79c1",
         "1",
         "0"
        ],
        [
         "14",
         "000a5ad9c4601d2bbdd9ed765d5213b3",
         "1",
         "0"
        ],
        [
         "15",
         "000bfa1d2f1a41876493be685390d6d3",
         "2",
         "0"
        ],
        [
         "16",
         "000c8bdb58a29e7115cfc257230fb21b",
         "1",
         "0"
        ],
        [
         "17",
         "000d460961d6dbfa3ec6c9f5805769e1",
         "1",
         "0"
        ],
        [
         "18",
         "000de6019bb59f34c099a907c151d855",
         "2",
         "0"
        ],
        [
         "19",
         "000e309254ab1fc5ba99dd469d36bdb4",
         "2",
         "0"
        ],
        [
         "20",
         "000ec5bff359e1c0ad76a81a45cb598f",
         "1",
         "0"
        ],
        [
         "21",
         "000ed48ceeb6f4bf8ad021a10a3c7b43",
         "1",
         "0"
        ],
        [
         "22",
         "000fbf0473c10fc1ab6f8d2d286ce20c",
         "4",
         "1"
        ],
        [
         "23",
         "0010a452c6d13139e50b57f19f52e04e",
         "1",
         "0"
        ],
        [
         "24",
         "0010fb34b966d44409382af9e8fd5b77",
         "1",
         "0"
        ],
        [
         "25",
         "001147e649a7b1afd577e873841632dd",
         "2",
         "0"
        ],
        [
         "26",
         "00115fc7123b5310cf6d3a3aa932699e",
         "1",
         "0"
        ],
        [
         "27",
         "0011805441c0d1b68b48002f1d005526",
         "1",
         "0"
        ],
        [
         "28",
         "0011857aff0e5871ce5eb429f21cdaf5",
         "1",
         "0"
        ],
        [
         "29",
         "0011c98589159d6149979563c504cb21",
         "1",
         "0"
        ],
        [
         "30",
         "0012929d977a8d7280bb277c1e5f589d",
         "1",
         "0"
        ],
        [
         "31",
         "0014a5a58da615f7b01a4f5e194bf5ea",
         "1",
         "0"
        ],
        [
         "32",
         "0015752e079902b12cd00b9b7596276b",
         "2",
         "0"
        ],
        [
         "33",
         "00172711b30d52eea8b313a7f2cced02",
         "1",
         "0"
        ],
        [
         "34",
         "00191a9719ef48ebb5860b130347bf33",
         "1",
         "0"
        ],
        [
         "35",
         "001926cef41060fae572e2e7b30bd2a4",
         "2",
         "0"
        ],
        [
         "36",
         "001928b561575b2821c92254a2327d06",
         "2",
         "0"
        ],
        [
         "37",
         "00196c4c9a3af7dd2ad10eade69c926f",
         "1",
         "0"
        ],
        [
         "38",
         "00196fdb2bf9edfc35e88ebfbcf8d781",
         "1",
         "0"
        ],
        [
         "39",
         "0019da6aa6bcb27cc32f1249bd12da05",
         "1",
         "0"
        ],
        [
         "40",
         "0019e8c501c85848ac0966d45226fa1d",
         "1",
         "0"
        ],
        [
         "41",
         "001a2bf0e46c684031af91fb2bce149d",
         "1",
         "0"
        ],
        [
         "42",
         "001a34eb30ecb8e3aacb07c475ca4dd1",
         "1",
         "0"
        ],
        [
         "43",
         "001a3a8e11d76c9a366c31a4aa2cc529",
         "1",
         "0"
        ],
        [
         "44",
         "001ae44fa04911a9e9577356dce6c63c",
         "0",
         "0"
        ],
        [
         "45",
         "001ae5a1788703d64536c30362503e49",
         "1",
         "0"
        ],
        [
         "46",
         "001deb796b28a3a128d6113857569aa4",
         "1",
         "0"
        ],
        [
         "47",
         "001f3c4211216384d5fe59b041ce1461",
         "1",
         "0"
        ],
        [
         "48",
         "002043098f10ba39a4600b6c52fbfe3c",
         "1",
         "0"
        ],
        [
         "49",
         "002311514717ca8b65b09a26cdf7b91a",
         "1",
         "0"
        ]
       ],
       "shape": {
        "columns": 3,
        "rows": 96096
       }
      },
      "text/html": [
       "<div>\n",
       "<style scoped>\n",
       "    .dataframe tbody tr th:only-of-type {\n",
       "        vertical-align: middle;\n",
       "    }\n",
       "\n",
       "    .dataframe tbody tr th {\n",
       "        vertical-align: top;\n",
       "    }\n",
       "\n",
       "    .dataframe thead th {\n",
       "        text-align: right;\n",
       "    }\n",
       "</style>\n",
       "<table border=\"1\" class=\"dataframe\">\n",
       "  <thead>\n",
       "    <tr style=\"text-align: right;\">\n",
       "      <th></th>\n",
       "      <th>customer_unique_id</th>\n",
       "      <th>num_of_orders</th>\n",
       "      <th>consistancy</th>\n",
       "    </tr>\n",
       "  </thead>\n",
       "  <tbody>\n",
       "    <tr>\n",
       "      <th>0</th>\n",
       "      <td>0000366f3b9a7992bf8c76cfdf3221e2</td>\n",
       "      <td>1</td>\n",
       "      <td>0</td>\n",
       "    </tr>\n",
       "    <tr>\n",
       "      <th>1</th>\n",
       "      <td>0000b849f77a49e4a4ce2b2a4ca5be3f</td>\n",
       "      <td>1</td>\n",
       "      <td>0</td>\n",
       "    </tr>\n",
       "    <tr>\n",
       "      <th>2</th>\n",
       "      <td>0000f46a3911fa3c0805444483337064</td>\n",
       "      <td>1</td>\n",
       "      <td>0</td>\n",
       "    </tr>\n",
       "    <tr>\n",
       "      <th>3</th>\n",
       "      <td>0000f6ccb0745a6a4b88665a16c9f078</td>\n",
       "      <td>1</td>\n",
       "      <td>0</td>\n",
       "    </tr>\n",
       "    <tr>\n",
       "      <th>4</th>\n",
       "      <td>0004aac84e0df4da2b147fca70cf8255</td>\n",
       "      <td>1</td>\n",
       "      <td>0</td>\n",
       "    </tr>\n",
       "    <tr>\n",
       "      <th>...</th>\n",
       "      <td>...</td>\n",
       "      <td>...</td>\n",
       "      <td>...</td>\n",
       "    </tr>\n",
       "    <tr>\n",
       "      <th>96091</th>\n",
       "      <td>fffcf5a5ff07b0908bd4e2dbc735a684</td>\n",
       "      <td>2</td>\n",
       "      <td>0</td>\n",
       "    </tr>\n",
       "    <tr>\n",
       "      <th>96092</th>\n",
       "      <td>fffea47cd6d3cc0a88bd621562a9d061</td>\n",
       "      <td>1</td>\n",
       "      <td>0</td>\n",
       "    </tr>\n",
       "    <tr>\n",
       "      <th>96093</th>\n",
       "      <td>ffff371b4d645b6ecea244b27531430a</td>\n",
       "      <td>1</td>\n",
       "      <td>0</td>\n",
       "    </tr>\n",
       "    <tr>\n",
       "      <th>96094</th>\n",
       "      <td>ffff5962728ec6157033ef9805bacc48</td>\n",
       "      <td>1</td>\n",
       "      <td>0</td>\n",
       "    </tr>\n",
       "    <tr>\n",
       "      <th>96095</th>\n",
       "      <td>ffffd2657e2aad2907e67c3e9daecbeb</td>\n",
       "      <td>1</td>\n",
       "      <td>0</td>\n",
       "    </tr>\n",
       "  </tbody>\n",
       "</table>\n",
       "<p>96096 rows × 3 columns</p>\n",
       "</div>"
      ],
      "text/plain": [
       "                     customer_unique_id  num_of_orders  consistancy\n",
       "0      0000366f3b9a7992bf8c76cfdf3221e2              1            0\n",
       "1      0000b849f77a49e4a4ce2b2a4ca5be3f              1            0\n",
       "2      0000f46a3911fa3c0805444483337064              1            0\n",
       "3      0000f6ccb0745a6a4b88665a16c9f078              1            0\n",
       "4      0004aac84e0df4da2b147fca70cf8255              1            0\n",
       "...                                 ...            ...          ...\n",
       "96091  fffcf5a5ff07b0908bd4e2dbc735a684              2            0\n",
       "96092  fffea47cd6d3cc0a88bd621562a9d061              1            0\n",
       "96093  ffff371b4d645b6ecea244b27531430a              1            0\n",
       "96094  ffff5962728ec6157033ef9805bacc48              1            0\n",
       "96095  ffffd2657e2aad2907e67c3e9daecbeb              1            0\n",
       "\n",
       "[96096 rows x 3 columns]"
      ]
     },
     "execution_count": 58,
     "metadata": {},
     "output_type": "execute_result"
    }
   ],
   "source": [
    "num_of_orders"
   ]
  },
  {
   "cell_type": "markdown",
   "id": "ebd0ec9f",
   "metadata": {},
   "source": [
    "---\n",
    "### Поработаем со временем покупок (order_purchase_timestamp)"
   ]
  },
  {
   "cell_type": "code",
   "execution_count": 75,
   "id": "52fe23af",
   "metadata": {},
   "outputs": [
    {
     "data": {
      "application/vnd.microsoft.datawrangler.viewer.v0+json": {
       "columns": [
        {
         "name": "index",
         "rawType": "int64",
         "type": "integer"
        },
        {
         "name": "customer_unique_id",
         "rawType": "object",
         "type": "string"
        },
        {
         "name": "first_order",
         "rawType": "datetime64[ns]",
         "type": "datetime"
        },
        {
         "name": "last_order",
         "rawType": "datetime64[ns]",
         "type": "datetime"
        },
        {
         "name": "mean",
         "rawType": "datetime64[ns]",
         "type": "datetime"
        },
        {
         "name": "life_span",
         "rawType": "timedelta64[ns]",
         "type": "unknown"
        }
       ],
       "conversionMethod": "pd.DataFrame",
       "ref": "8b877a10-46d8-4222-82c3-eec15f9b707c",
       "rows": [
        [
         "0",
         "0000366f3b9a7992bf8c76cfdf3221e2",
         "2018-05-10 10:56:27",
         "2018-05-10 10:56:27",
         "2018-05-10 10:56:27",
         "0 days 00:00:00"
        ],
        [
         "1",
         "0000b849f77a49e4a4ce2b2a4ca5be3f",
         "2018-05-07 11:11:27",
         "2018-05-07 11:11:27",
         "2018-05-07 11:11:27",
         "0 days 00:00:00"
        ],
        [
         "2",
         "0000f46a3911fa3c0805444483337064",
         "2017-03-10 21:05:03",
         "2017-03-10 21:05:03",
         "2017-03-10 21:05:03",
         "0 days 00:00:00"
        ],
        [
         "3",
         "0000f6ccb0745a6a4b88665a16c9f078",
         "2017-10-12 20:29:41",
         "2017-10-12 20:29:41",
         "2017-10-12 20:29:41",
         "0 days 00:00:00"
        ],
        [
         "4",
         "0004aac84e0df4da2b147fca70cf8255",
         "2017-11-14 19:45:42",
         "2017-11-14 19:45:42",
         "2017-11-14 19:45:42",
         "0 days 00:00:00"
        ],
        [
         "5",
         "0004bd2a26a76fe21f786e4fbd80607f",
         "2018-04-05 19:33:16",
         "2018-04-05 19:33:16",
         "2018-04-05 19:33:16",
         "0 days 00:00:00"
        ],
        [
         "6",
         "00050ab1314c0e55a6ca13cf7181fecf",
         "2018-04-20 12:57:23",
         "2018-04-20 12:57:23",
         "2018-04-20 12:57:23",
         "0 days 00:00:00"
        ],
        [
         "7",
         "00053a61a98854899e70ed204dd4bafe",
         "2018-02-28 11:15:41",
         "2018-02-28 11:15:41",
         "2018-02-28 11:15:41",
         "0 days 00:00:00"
        ],
        [
         "8",
         "0005e1862207bf6ccc02e4228effd9a0",
         "2017-03-04 23:32:12",
         "2017-03-04 23:32:12",
         "2017-03-04 23:32:12",
         "0 days 00:00:00"
        ],
        [
         "9",
         "0005ef4cd20d2893f0d9fbd94d3c0d97",
         "2018-03-12 15:22:12",
         "2018-03-12 15:22:12",
         "2018-03-12 15:22:12",
         "0 days 00:00:00"
        ],
        [
         "10",
         "0006fdc98a402fceb4eb0ee528f6a8d4",
         "2017-07-18 09:23:10",
         "2017-07-18 09:23:10",
         "2017-07-18 09:23:10",
         "0 days 00:00:00"
        ],
        [
         "11",
         "00082cbe03e478190aadbea78542e933",
         "2017-11-19 15:22:02",
         "2017-11-19 15:22:02",
         "2017-11-19 15:22:02",
         "0 days 00:00:00"
        ],
        [
         "12",
         "00090324bbad0e9342388303bb71ba0a",
         "2018-03-24 14:44:41",
         "2018-03-24 14:44:41",
         "2018-03-24 14:44:41",
         "0 days 00:00:00"
        ],
        [
         "13",
         "000949456b182f53c18b68d6babc79c1",
         "2018-04-23 09:55:46",
         "2018-04-23 09:55:46",
         "2018-04-23 09:55:46",
         "0 days 00:00:00"
        ],
        [
         "14",
         "000a5ad9c4601d2bbdd9ed765d5213b3",
         "2017-08-11 13:45:15",
         "2017-08-11 13:45:15",
         "2017-08-11 13:45:15",
         "0 days 00:00:00"
        ],
        [
         "15",
         "000bfa1d2f1a41876493be685390d6d3",
         "2017-09-29 14:46:58",
         "2017-09-29 14:46:58",
         "2017-09-29 14:46:58",
         "0 days 00:00:00"
        ],
        [
         "16",
         "000c8bdb58a29e7115cfc257230fb21b",
         "2017-12-12 22:53:35",
         "2017-12-12 22:53:35",
         "2017-12-12 22:53:35",
         "0 days 00:00:00"
        ],
        [
         "17",
         "000d460961d6dbfa3ec6c9f5805769e1",
         "2018-01-07 22:59:25",
         "2018-01-07 22:59:25",
         "2018-01-07 22:59:25",
         "0 days 00:00:00"
        ],
        [
         "18",
         "000de6019bb59f34c099a907c151d855",
         "2017-08-17 19:10:33",
         "2017-08-17 19:10:33",
         "2017-08-17 19:10:33",
         "0 days 00:00:00"
        ],
        [
         "19",
         "000e309254ab1fc5ba99dd469d36bdb4",
         "2018-06-25 09:53:57",
         "2018-06-25 09:53:57",
         "2018-06-25 09:53:57",
         "0 days 00:00:00"
        ],
        [
         "20",
         "000ec5bff359e1c0ad76a81a45cb598f",
         "2018-08-21 11:34:26",
         "2018-08-21 11:34:26",
         "2018-08-21 11:34:26",
         "0 days 00:00:00"
        ],
        [
         "21",
         "000ed48ceeb6f4bf8ad021a10a3c7b43",
         "2018-05-20 16:26:06",
         "2018-05-20 16:26:06",
         "2018-05-20 16:26:06",
         "0 days 00:00:00"
        ],
        [
         "22",
         "000fbf0473c10fc1ab6f8d2d286ce20c",
         "2018-07-26 09:43:52",
         "2018-07-26 09:43:52",
         "2018-07-26 09:43:52",
         "0 days 00:00:00"
        ],
        [
         "23",
         "0010a452c6d13139e50b57f19f52e04e",
         "2017-07-11 11:22:43",
         "2017-07-11 11:22:43",
         "2017-07-11 11:22:43",
         "0 days 00:00:00"
        ],
        [
         "24",
         "0010fb34b966d44409382af9e8fd5b77",
         "2018-03-05 17:08:53",
         "2018-03-05 17:08:53",
         "2018-03-05 17:08:53",
         "0 days 00:00:00"
        ],
        [
         "25",
         "001147e649a7b1afd577e873841632dd",
         "2017-08-31 17:12:56",
         "2017-08-31 17:12:56",
         "2017-08-31 17:12:56",
         "0 days 00:00:00"
        ],
        [
         "26",
         "00115fc7123b5310cf6d3a3aa932699e",
         "2017-01-21 21:58:35",
         "2017-01-21 21:58:35",
         "2017-01-21 21:58:35",
         "0 days 00:00:00"
        ],
        [
         "27",
         "0011805441c0d1b68b48002f1d005526",
         "2017-04-24 13:36:48",
         "2017-04-24 13:36:48",
         "2017-04-24 13:36:48",
         "0 days 00:00:00"
        ],
        [
         "28",
         "0011857aff0e5871ce5eb429f21cdaf5",
         "2017-06-28 11:08:38",
         "2017-06-28 11:08:38",
         "2017-06-28 11:08:38",
         "0 days 00:00:00"
        ],
        [
         "29",
         "0011c98589159d6149979563c504cb21",
         "2017-08-05 14:08:47",
         "2017-08-05 14:08:47",
         "2017-08-05 14:08:47",
         "0 days 00:00:00"
        ],
        [
         "30",
         "0012929d977a8d7280bb277c1e5f589d",
         "2017-10-17 15:46:36",
         "2017-10-17 15:46:36",
         "2017-10-17 15:46:36",
         "0 days 00:00:00"
        ],
        [
         "31",
         "0014a5a58da615f7b01a4f5e194bf5ea",
         "2018-01-18 20:49:36",
         "2018-01-18 20:49:36",
         "2018-01-18 20:49:36",
         "0 days 00:00:00"
        ],
        [
         "32",
         "0015752e079902b12cd00b9b7596276b",
         "2018-08-02 18:23:51",
         "2018-08-02 18:23:51",
         "2018-08-02 18:23:51",
         "0 days 00:00:00"
        ],
        [
         "33",
         "00172711b30d52eea8b313a7f2cced02",
         "2018-07-28 00:23:49",
         "2018-07-28 00:23:49",
         "2018-07-28 00:23:49",
         "0 days 00:00:00"
        ],
        [
         "34",
         "00191a9719ef48ebb5860b130347bf33",
         "2017-04-19 11:32:09",
         "2017-04-19 11:32:09",
         "2017-04-19 11:32:09",
         "0 days 00:00:00"
        ],
        [
         "35",
         "001926cef41060fae572e2e7b30bd2a4",
         "2017-08-17 12:55:47",
         "2017-08-17 12:55:47",
         "2017-08-17 12:55:47",
         "0 days 00:00:00"
        ],
        [
         "36",
         "001928b561575b2821c92254a2327d06",
         "2018-08-24 21:17:00",
         "2018-08-24 21:17:00",
         "2018-08-24 21:17:00",
         "0 days 00:00:00"
        ],
        [
         "37",
         "00196c4c9a3af7dd2ad10eade69c926f",
         "2018-07-28 09:29:12",
         "2018-07-28 09:29:12",
         "2018-07-28 09:29:12",
         "0 days 00:00:00"
        ],
        [
         "38",
         "00196fdb2bf9edfc35e88ebfbcf8d781",
         "2018-02-22 19:06:44",
         "2018-02-22 19:06:44",
         "2018-02-22 19:06:44",
         "0 days 00:00:00"
        ],
        [
         "39",
         "0019da6aa6bcb27cc32f1249bd12da05",
         "2018-02-11 00:55:30",
         "2018-02-11 00:55:30",
         "2018-02-11 00:55:30",
         "0 days 00:00:00"
        ],
        [
         "40",
         "0019e8c501c85848ac0966d45226fa1d",
         "2018-05-01 09:25:32",
         "2018-05-01 09:25:32",
         "2018-05-01 09:25:32",
         "0 days 00:00:00"
        ],
        [
         "41",
         "001a2bf0e46c684031af91fb2bce149d",
         "2017-06-29 22:43:49",
         "2017-06-29 22:43:49",
         "2017-06-29 22:43:49",
         "0 days 00:00:00"
        ],
        [
         "42",
         "001a34eb30ecb8e3aacb07c475ca4dd1",
         "2018-07-11 19:49:54",
         "2018-07-11 19:49:54",
         "2018-07-11 19:49:54",
         "0 days 00:00:00"
        ],
        [
         "43",
         "001a3a8e11d76c9a366c31a4aa2cc529",
         "2018-05-21 01:24:25",
         "2018-05-21 01:24:25",
         "2018-05-21 01:24:25",
         "0 days 00:00:00"
        ],
        [
         "45",
         "001ae5a1788703d64536c30362503e49",
         "2017-12-08 11:32:44",
         "2017-12-08 11:32:44",
         "2017-12-08 11:32:44",
         "0 days 00:00:00"
        ],
        [
         "46",
         "001deb796b28a3a128d6113857569aa4",
         "2018-06-22 16:07:29",
         "2018-06-22 16:07:29",
         "2018-06-22 16:07:29",
         "0 days 00:00:00"
        ],
        [
         "47",
         "001f3c4211216384d5fe59b041ce1461",
         "2017-03-19 18:34:36",
         "2017-03-19 18:34:36",
         "2017-03-19 18:34:36",
         "0 days 00:00:00"
        ],
        [
         "48",
         "002043098f10ba39a4600b6c52fbfe3c",
         "2017-03-26 16:45:59",
         "2017-03-26 16:45:59",
         "2017-03-26 16:45:59",
         "0 days 00:00:00"
        ],
        [
         "49",
         "002311514717ca8b65b09a26cdf7b91a",
         "2018-06-27 11:34:34",
         "2018-06-27 11:34:34",
         "2018-06-27 11:34:34",
         "0 days 00:00:00"
        ],
        [
         "50",
         "0023557a94bef0038066b5d1b3dc763e",
         "2018-03-28 19:53:14",
         "2018-03-28 19:53:14",
         "2018-03-28 19:53:14",
         "0 days 00:00:00"
        ]
       ],
       "shape": {
        "columns": 5,
        "rows": 91350
       }
      },
      "text/html": [
       "<div>\n",
       "<style scoped>\n",
       "    .dataframe tbody tr th:only-of-type {\n",
       "        vertical-align: middle;\n",
       "    }\n",
       "\n",
       "    .dataframe tbody tr th {\n",
       "        vertical-align: top;\n",
       "    }\n",
       "\n",
       "    .dataframe thead th {\n",
       "        text-align: right;\n",
       "    }\n",
       "</style>\n",
       "<table border=\"1\" class=\"dataframe\">\n",
       "  <thead>\n",
       "    <tr style=\"text-align: right;\">\n",
       "      <th></th>\n",
       "      <th>customer_unique_id</th>\n",
       "      <th>first_order</th>\n",
       "      <th>last_order</th>\n",
       "      <th>mean</th>\n",
       "      <th>life_span</th>\n",
       "    </tr>\n",
       "  </thead>\n",
       "  <tbody>\n",
       "    <tr>\n",
       "      <th>0</th>\n",
       "      <td>0000366f3b9a7992bf8c76cfdf3221e2</td>\n",
       "      <td>2018-05-10 10:56:27</td>\n",
       "      <td>2018-05-10 10:56:27</td>\n",
       "      <td>2018-05-10 10:56:27</td>\n",
       "      <td>0 days</td>\n",
       "    </tr>\n",
       "    <tr>\n",
       "      <th>1</th>\n",
       "      <td>0000b849f77a49e4a4ce2b2a4ca5be3f</td>\n",
       "      <td>2018-05-07 11:11:27</td>\n",
       "      <td>2018-05-07 11:11:27</td>\n",
       "      <td>2018-05-07 11:11:27</td>\n",
       "      <td>0 days</td>\n",
       "    </tr>\n",
       "    <tr>\n",
       "      <th>2</th>\n",
       "      <td>0000f46a3911fa3c0805444483337064</td>\n",
       "      <td>2017-03-10 21:05:03</td>\n",
       "      <td>2017-03-10 21:05:03</td>\n",
       "      <td>2017-03-10 21:05:03</td>\n",
       "      <td>0 days</td>\n",
       "    </tr>\n",
       "    <tr>\n",
       "      <th>3</th>\n",
       "      <td>0000f6ccb0745a6a4b88665a16c9f078</td>\n",
       "      <td>2017-10-12 20:29:41</td>\n",
       "      <td>2017-10-12 20:29:41</td>\n",
       "      <td>2017-10-12 20:29:41</td>\n",
       "      <td>0 days</td>\n",
       "    </tr>\n",
       "    <tr>\n",
       "      <th>4</th>\n",
       "      <td>0004aac84e0df4da2b147fca70cf8255</td>\n",
       "      <td>2017-11-14 19:45:42</td>\n",
       "      <td>2017-11-14 19:45:42</td>\n",
       "      <td>2017-11-14 19:45:42</td>\n",
       "      <td>0 days</td>\n",
       "    </tr>\n",
       "    <tr>\n",
       "      <th>...</th>\n",
       "      <td>...</td>\n",
       "      <td>...</td>\n",
       "      <td>...</td>\n",
       "      <td>...</td>\n",
       "      <td>...</td>\n",
       "    </tr>\n",
       "    <tr>\n",
       "      <th>96091</th>\n",
       "      <td>fffcf5a5ff07b0908bd4e2dbc735a684</td>\n",
       "      <td>2017-06-08 21:00:36</td>\n",
       "      <td>2017-06-08 21:00:36</td>\n",
       "      <td>2017-06-08 21:00:36</td>\n",
       "      <td>0 days</td>\n",
       "    </tr>\n",
       "    <tr>\n",
       "      <th>96092</th>\n",
       "      <td>fffea47cd6d3cc0a88bd621562a9d061</td>\n",
       "      <td>2017-12-10 20:07:56</td>\n",
       "      <td>2017-12-10 20:07:56</td>\n",
       "      <td>2017-12-10 20:07:56</td>\n",
       "      <td>0 days</td>\n",
       "    </tr>\n",
       "    <tr>\n",
       "      <th>96093</th>\n",
       "      <td>ffff371b4d645b6ecea244b27531430a</td>\n",
       "      <td>2017-02-07 15:49:16</td>\n",
       "      <td>2017-02-07 15:49:16</td>\n",
       "      <td>2017-02-07 15:49:16</td>\n",
       "      <td>0 days</td>\n",
       "    </tr>\n",
       "    <tr>\n",
       "      <th>96094</th>\n",
       "      <td>ffff5962728ec6157033ef9805bacc48</td>\n",
       "      <td>2018-05-02 15:17:41</td>\n",
       "      <td>2018-05-02 15:17:41</td>\n",
       "      <td>2018-05-02 15:17:41</td>\n",
       "      <td>0 days</td>\n",
       "    </tr>\n",
       "    <tr>\n",
       "      <th>96095</th>\n",
       "      <td>ffffd2657e2aad2907e67c3e9daecbeb</td>\n",
       "      <td>2017-05-02 20:18:45</td>\n",
       "      <td>2017-05-02 20:18:45</td>\n",
       "      <td>2017-05-02 20:18:45</td>\n",
       "      <td>0 days</td>\n",
       "    </tr>\n",
       "  </tbody>\n",
       "</table>\n",
       "<p>91350 rows × 5 columns</p>\n",
       "</div>"
      ],
      "text/plain": [
       "                     customer_unique_id         first_order  \\\n",
       "0      0000366f3b9a7992bf8c76cfdf3221e2 2018-05-10 10:56:27   \n",
       "1      0000b849f77a49e4a4ce2b2a4ca5be3f 2018-05-07 11:11:27   \n",
       "2      0000f46a3911fa3c0805444483337064 2017-03-10 21:05:03   \n",
       "3      0000f6ccb0745a6a4b88665a16c9f078 2017-10-12 20:29:41   \n",
       "4      0004aac84e0df4da2b147fca70cf8255 2017-11-14 19:45:42   \n",
       "...                                 ...                 ...   \n",
       "96091  fffcf5a5ff07b0908bd4e2dbc735a684 2017-06-08 21:00:36   \n",
       "96092  fffea47cd6d3cc0a88bd621562a9d061 2017-12-10 20:07:56   \n",
       "96093  ffff371b4d645b6ecea244b27531430a 2017-02-07 15:49:16   \n",
       "96094  ffff5962728ec6157033ef9805bacc48 2018-05-02 15:17:41   \n",
       "96095  ffffd2657e2aad2907e67c3e9daecbeb 2017-05-02 20:18:45   \n",
       "\n",
       "               last_order                mean life_span  \n",
       "0     2018-05-10 10:56:27 2018-05-10 10:56:27    0 days  \n",
       "1     2018-05-07 11:11:27 2018-05-07 11:11:27    0 days  \n",
       "2     2017-03-10 21:05:03 2017-03-10 21:05:03    0 days  \n",
       "3     2017-10-12 20:29:41 2017-10-12 20:29:41    0 days  \n",
       "4     2017-11-14 19:45:42 2017-11-14 19:45:42    0 days  \n",
       "...                   ...                 ...       ...  \n",
       "96091 2017-06-08 21:00:36 2017-06-08 21:00:36    0 days  \n",
       "96092 2017-12-10 20:07:56 2017-12-10 20:07:56    0 days  \n",
       "96093 2017-02-07 15:49:16 2017-02-07 15:49:16    0 days  \n",
       "96094 2018-05-02 15:17:41 2018-05-02 15:17:41    0 days  \n",
       "96095 2017-05-02 20:18:45 2017-05-02 20:18:45    0 days  \n",
       "\n",
       "[91350 rows x 5 columns]"
      ]
     },
     "execution_count": 75,
     "metadata": {},
     "output_type": "execute_result"
    }
   ],
   "source": [
    "data[\"order_purchase_timestamp\"] = pd.to_datetime(\n",
    "    data[\"order_purchase_timestamp\"])\n",
    "first_last_order = data.groupby(\"customer_unique_id\")[\n",
    "    \"order_purchase_timestamp\"].agg([\"min\", \"max\", \"mean\"]).reset_index().rename(columns={\"min\": \"first_order\", \"max\": \"last_order\"})\n",
    "\n",
    "first_last_order[\"life_span\"] = first_last_order[\"last_order\"] - \\\n",
    "    first_last_order[\"first_order\"]\n",
    "    \n",
    "first_last_order[first_last_order[\"life_span\"].dt.days == 0]"
   ]
  },
  {
   "cell_type": "code",
   "execution_count": 89,
   "id": "2b033f2d",
   "metadata": {},
   "outputs": [
    {
     "data": {
      "application/vnd.microsoft.datawrangler.viewer.v0+json": {
       "columns": [
        {
         "name": "index",
         "rawType": "int64",
         "type": "integer"
        },
        {
         "name": "customer_unique_id",
         "rawType": "object",
         "type": "string"
        },
        {
         "name": "num_of_orders",
         "rawType": "int64",
         "type": "integer"
        },
        {
         "name": "consistancy",
         "rawType": "int64",
         "type": "integer"
        }
       ],
       "conversionMethod": "pd.DataFrame",
       "ref": "53e0baa5-03c2-4934-b101-6674c75846f0",
       "rows": [
        [
         "22",
         "000fbf0473c10fc1ab6f8d2d286ce20c",
         "4",
         "1"
        ],
        [
         "158",
         "0064a1b5f5cddd047c987b988a90c8c1",
         "4",
         "1"
        ],
        [
         "203",
         "0085139b503668b3addcfe826d91be8d",
         "3",
         "0"
        ],
        [
         "226",
         "0096c18412349537abc45e350581cbbc",
         "4",
         "1"
        ],
        [
         "231",
         "0097fca0db567f5ca79509b7b4fc1c2d",
         "7",
         "1"
        ],
        [
         "254",
         "00a9fd000ff87bb48b989df819c418f5",
         "4",
         "1"
        ],
        [
         "263",
         "00ae50eb5e1d2514f694dee1dcbbd5ae",
         "5",
         "1"
        ],
        [
         "312",
         "00cc12a6d8b578b8ebd21ea4e2ae8b27",
         "4",
         "1"
        ],
        [
         "336",
         "00da34ebf22b87f6c2f53dc069f237df",
         "3",
         "0"
        ],
        [
         "366",
         "00ec6ce865af3a65e9cca32b180e5d20",
         "4",
         "1"
        ],
        [
         "377",
         "00face5c8f7dbb7eefd4112722f26903",
         "6",
         "1"
        ],
        [
         "378",
         "00fb8f6787f67bd33c7e86c9691d2b1c",
         "3",
         "0"
        ],
        [
         "382",
         "00fd4a627a3b93cff0729f0b3554640d",
         "3",
         "0"
        ],
        [
         "429",
         "011b4adcd54683b480c4d841250a987f",
         "3",
         "0"
        ],
        [
         "438",
         "012452d40dafae4df401bced74cdb490",
         "3",
         "0"
        ],
        [
         "448",
         "012a218df8995d3ec3bb221828360c86",
         "3",
         "0"
        ],
        [
         "463",
         "013689381e404bf6304f57bab4b8f01d",
         "3",
         "0"
        ],
        [
         "471",
         "01399b72331afe80cc0c3a982cafb177",
         "3",
         "0"
        ],
        [
         "480",
         "013f4353d26bb05dc6652f1269458d8d",
         "3",
         "0"
        ],
        [
         "497",
         "014dcb5d582d60bca6a379e45a9041da",
         "4",
         "1"
        ],
        [
         "507",
         "0152897024d0ddad70baafe17ed705f4",
         "3",
         "0"
        ],
        [
         "515",
         "01561f92006fd3ba8a8a4246b7f38101",
         "4",
         "1"
        ],
        [
         "533",
         "01626676a41ff29901f7b42bc8e09dd8",
         "3",
         "0"
        ],
        [
         "540",
         "01689985c22786e41347d5167048b25e",
         "3",
         "0"
        ],
        [
         "545",
         "016c60628fc64e15fa5990e58a0b57c1",
         "3",
         "0"
        ],
        [
         "558",
         "0178b244a5c281fb2ade54038dd4b161",
         "4",
         "1"
        ],
        [
         "620",
         "019ac5580a897d52e5ed6f7ed89ade27",
         "3",
         "0"
        ],
        [
         "626",
         "019ed386aec9ff0f9eab4a590231174e",
         "6",
         "1"
        ],
        [
         "634",
         "01a22e2079ea71e17313b88e5811e54a",
         "3",
         "0"
        ],
        [
         "667",
         "01bbbfc56b8ec1052e46f260226e34f9",
         "3",
         "0"
        ],
        [
         "678",
         "01c19b1261325781dcf2f82c9892f80e",
         "3",
         "0"
        ],
        [
         "681",
         "01c289bb06354cdc7e6549570f20ada4",
         "5",
         "1"
        ],
        [
         "718",
         "01e123d7c7cedf12af483fc17258b9ce",
         "4",
         "1"
        ],
        [
         "764",
         "0209a0a5c96cc50dd1bbe71e3730af2a",
         "6",
         "1"
        ],
        [
         "767",
         "0209f290b5451d357308bc0e90521026",
         "6",
         "1"
        ],
        [
         "782",
         "02168ea18740a0fdaaa15f11bebba5db",
         "4",
         "1"
        ],
        [
         "840",
         "0241fa2e9adf0576cb0f845377d05c03",
         "3",
         "0"
        ],
        [
         "848",
         "024676cef113f6c81db6c5b8d29e5ee9",
         "12",
         "1"
        ],
        [
         "900",
         "026cc430843b605b4b5515751f4fe5d3",
         "4",
         "1"
        ],
        [
         "979",
         "02a6a137ef7fe2414c9e14fc4d060790",
         "3",
         "0"
        ],
        [
         "1033",
         "02c661a1832c392b81d7ba1ebddf8796",
         "5",
         "1"
        ],
        [
         "1093",
         "02e9109b7e0a985108b43e573b6afb23",
         "5",
         "1"
        ],
        [
         "1120",
         "02fbe4db886eb98774c8ba300d39fa79",
         "3",
         "0"
        ],
        [
         "1127",
         "02ff3aee636a9ee1c1fef271daa0bc07",
         "5",
         "1"
        ],
        [
         "1183",
         "031cc9f0c34aac1349d8a7fca3814d70",
         "5",
         "1"
        ],
        [
         "1184",
         "031e19fc630c4121f1238716f41675c3",
         "4",
         "1"
        ],
        [
         "1203",
         "032b3a42598667caf2e099999b9dc1b9",
         "3",
         "0"
        ],
        [
         "1204",
         "032c36a3e0e337f241a5910aa6ef3077",
         "3",
         "0"
        ],
        [
         "1221",
         "0333b2fc6ba7014702e08ef613850270",
         "3",
         "0"
        ],
        [
         "1225",
         "0334ba9c67b6f75abf243ebfcc46de6b",
         "4",
         "1"
        ]
       ],
       "shape": {
        "columns": 3,
        "rows": 3831
       }
      },
      "text/html": [
       "<div>\n",
       "<style scoped>\n",
       "    .dataframe tbody tr th:only-of-type {\n",
       "        vertical-align: middle;\n",
       "    }\n",
       "\n",
       "    .dataframe tbody tr th {\n",
       "        vertical-align: top;\n",
       "    }\n",
       "\n",
       "    .dataframe thead th {\n",
       "        text-align: right;\n",
       "    }\n",
       "</style>\n",
       "<table border=\"1\" class=\"dataframe\">\n",
       "  <thead>\n",
       "    <tr style=\"text-align: right;\">\n",
       "      <th></th>\n",
       "      <th>customer_unique_id</th>\n",
       "      <th>num_of_orders</th>\n",
       "      <th>consistancy</th>\n",
       "    </tr>\n",
       "  </thead>\n",
       "  <tbody>\n",
       "    <tr>\n",
       "      <th>22</th>\n",
       "      <td>000fbf0473c10fc1ab6f8d2d286ce20c</td>\n",
       "      <td>4</td>\n",
       "      <td>1</td>\n",
       "    </tr>\n",
       "    <tr>\n",
       "      <th>158</th>\n",
       "      <td>0064a1b5f5cddd047c987b988a90c8c1</td>\n",
       "      <td>4</td>\n",
       "      <td>1</td>\n",
       "    </tr>\n",
       "    <tr>\n",
       "      <th>203</th>\n",
       "      <td>0085139b503668b3addcfe826d91be8d</td>\n",
       "      <td>3</td>\n",
       "      <td>0</td>\n",
       "    </tr>\n",
       "    <tr>\n",
       "      <th>226</th>\n",
       "      <td>0096c18412349537abc45e350581cbbc</td>\n",
       "      <td>4</td>\n",
       "      <td>1</td>\n",
       "    </tr>\n",
       "    <tr>\n",
       "      <th>231</th>\n",
       "      <td>0097fca0db567f5ca79509b7b4fc1c2d</td>\n",
       "      <td>7</td>\n",
       "      <td>1</td>\n",
       "    </tr>\n",
       "    <tr>\n",
       "      <th>...</th>\n",
       "      <td>...</td>\n",
       "      <td>...</td>\n",
       "      <td>...</td>\n",
       "    </tr>\n",
       "    <tr>\n",
       "      <th>95963</th>\n",
       "      <td>ff9ff869636c26565ded16038be5fa7d</td>\n",
       "      <td>3</td>\n",
       "      <td>0</td>\n",
       "    </tr>\n",
       "    <tr>\n",
       "      <th>95998</th>\n",
       "      <td>ffbb6557e45f7158781514f0efddb0d5</td>\n",
       "      <td>4</td>\n",
       "      <td>1</td>\n",
       "    </tr>\n",
       "    <tr>\n",
       "      <th>96060</th>\n",
       "      <td>ffe780a8995715d9560ca10f3351710f</td>\n",
       "      <td>3</td>\n",
       "      <td>0</td>\n",
       "    </tr>\n",
       "    <tr>\n",
       "      <th>96079</th>\n",
       "      <td>fff22793223fe80c97a8fd02ac5c6295</td>\n",
       "      <td>3</td>\n",
       "      <td>0</td>\n",
       "    </tr>\n",
       "    <tr>\n",
       "      <th>96083</th>\n",
       "      <td>fff5eb4918b2bf4b2da476788d42051c</td>\n",
       "      <td>6</td>\n",
       "      <td>1</td>\n",
       "    </tr>\n",
       "  </tbody>\n",
       "</table>\n",
       "<p>3831 rows × 3 columns</p>\n",
       "</div>"
      ],
      "text/plain": [
       "                     customer_unique_id  num_of_orders  consistancy\n",
       "22     000fbf0473c10fc1ab6f8d2d286ce20c              4            1\n",
       "158    0064a1b5f5cddd047c987b988a90c8c1              4            1\n",
       "203    0085139b503668b3addcfe826d91be8d              3            0\n",
       "226    0096c18412349537abc45e350581cbbc              4            1\n",
       "231    0097fca0db567f5ca79509b7b4fc1c2d              7            1\n",
       "...                                 ...            ...          ...\n",
       "95963  ff9ff869636c26565ded16038be5fa7d              3            0\n",
       "95998  ffbb6557e45f7158781514f0efddb0d5              4            1\n",
       "96060  ffe780a8995715d9560ca10f3351710f              3            0\n",
       "96079  fff22793223fe80c97a8fd02ac5c6295              3            0\n",
       "96083  fff5eb4918b2bf4b2da476788d42051c              6            1\n",
       "\n",
       "[3831 rows x 3 columns]"
      ]
     },
     "execution_count": 89,
     "metadata": {},
     "output_type": "execute_result"
    }
   ],
   "source": [
    "num_of_orders[num_of_orders[\"num_of_orders\"] > 2]"
   ]
  },
  {
   "cell_type": "code",
   "execution_count": null,
   "id": "44ca765a",
   "metadata": {},
   "outputs": [],
   "source": []
  }
 ],
 "metadata": {
  "kernelspec": {
   "display_name": "dlenv",
   "language": "python",
   "name": "python3"
  },
  "language_info": {
   "codemirror_mode": {
    "name": "ipython",
    "version": 3
   },
   "file_extension": ".py",
   "mimetype": "text/x-python",
   "name": "python",
   "nbconvert_exporter": "python",
   "pygments_lexer": "ipython3",
   "version": "3.11.11"
  }
 },
 "nbformat": 4,
 "nbformat_minor": 5
}
