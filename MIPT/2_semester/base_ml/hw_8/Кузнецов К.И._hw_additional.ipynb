{
 "cells": [
  {
   "cell_type": "markdown",
   "metadata": {
    "id": "vBp_z_fuARYs"
   },
   "source": [
    "# **Дополнительное домашнее задание. Логистическая регрессия и решающие деревья**"
   ]
  },
  {
   "cell_type": "markdown",
   "metadata": {
    "id": "QJWpCwbaZtbf"
   },
   "source": [
    "Суммарно 10 баллов за всю работу. По 5 баллов в каждой части.\n",
    "\n",
    "Требуется выполнить следующие задания."
   ]
  },
  {
   "cell_type": "code",
   "execution_count": 1,
   "metadata": {
    "deletable": false,
    "editable": false,
    "id": "LAazO1JI_9Nb",
    "nbgrader": {
     "cell_type": "code",
     "checksum": "4a97adf18cbf7d9242167540ed264dc2",
     "grade": false,
     "grade_id": "cell-3a9d1fb3",
     "locked": true,
     "schema_version": 3,
     "solution": false,
     "task": false
    },
    "tags": []
   },
   "outputs": [],
   "source": [
    "import numpy as np\n",
    "import pandas as pd\n",
    "import matplotlib.pyplot as plt\n",
    "%matplotlib inline\n",
    "\n",
    "import random\n",
    "\n",
    "from __future__ import annotations"
   ]
  },
  {
   "cell_type": "markdown",
   "metadata": {},
   "source": [
    "---"
   ]
  },
  {
   "cell_type": "markdown",
   "metadata": {
    "id": "xYmiOkCgOjeV"
   },
   "source": [
    "## **Часть 1. Логистическая регрессия (5 баллов)**"
   ]
  },
  {
   "cell_type": "markdown",
   "metadata": {
    "id": "zI5d1wcDOjeW"
   },
   "source": [
    "**Задание 1 (3 балла)**. Реализуйте логистическую регрессию, обучаемую с помощью двух видов градиенткого спуска:\n",
    "- полный (по всем данным) градиентный спуск;\n",
    "\n",
    "- стохастический градиентный спуск;\n",
    "\n",
    "Во всех пунктах необходимо соблюдать два условия:\n",
    "- Циклы можно использовать только для итераций градиентного спуска.\n",
    "- В качестве критерия останова необходимо использовать (одновременно):\n",
    "\n",
    "    - проверку на евклидову норму разности весов на двух соседних итерациях (например, меньше некоторого малого числа порядка 1e-6), задаваемого параметром `tolerance`;\n",
    "    - достижение максимального числа итераций (например, 10000), задаваемого параметром `max_iter`.\n",
    "\n",
    "Чтобы проследить, что оптимизационный процесс действительно сходится, добавьте атрибут класса `loss_history`. В нем после вызова метода `fit` должны содержаться значения функции потерь для всех итераций градиентного спуска, начиная с нулевой.\n",
    "\n",
    "Инициализировать веса можно случайным образом или нулевым вектором."
   ]
  },
  {
   "cell_type": "code",
   "execution_count": 2,
   "metadata": {
    "id": "qtjYaxHCahgu"
   },
   "outputs": [],
   "source": [
    "from sklearn.base import BaseEstimator\n",
    "\n",
    "from sklearn.metrics import precision_recall_curve, roc_auc_score, roc_curve, auc\n",
    "\n",
    "from sklearn.model_selection import KFold"
   ]
  },
  {
   "cell_type": "code",
   "execution_count": 6,
   "metadata": {
    "id": "ReCAYLn6OjeX"
   },
   "outputs": [],
   "source": [
    "class MyLogisticRegression(BaseEstimator):\n",
    "    def __init__(self, gd_type: str = 'stochastic', tolerance: float = 1e-6,\n",
    "                 max_iter: int = 1000, eta: float = 1e-2,\n",
    "                 w0: np.array = None) -> None:\n",
    "        \"\"\"\n",
    "        Аргументы:\n",
    "          gd_type: вид градиентного спуска ('full' или 'stochastic').\n",
    "\n",
    "          tolerance: порог для остановки градиетного спуска.\n",
    "\n",
    "          max_iter: максимальное количество шагов в градиентном спуске.\n",
    "\n",
    "          eta: скорость обучения (learning rate).\n",
    "\n",
    "          w0: массив размерности d (d — количество весов в оптимизации).\n",
    "              Начальные веса.\n",
    "        \"\"\"\n",
    "        self.gd_type = gd_type\n",
    "        self.tolerance = tolerance\n",
    "        self.max_iter = max_iter\n",
    "        self.eta = eta\n",
    "        self.w0 = w0\n",
    "        self.w = None\n",
    "        self.loss_history = None\n",
    "\n",
    "    def fit(self, X: np.array, y: np.array) -> MyLogisticRegression:\n",
    "        \"\"\"Обучаем модель на training данных. Сохраняйте значении функции потерь после каждой итерации.\n",
    "\n",
    "        Аргументы:\n",
    "          X: данные на обучение.\n",
    "\n",
    "          y: целевая переменная.\n",
    "\n",
    "        Возвращает:\n",
    "          self: обученный регрессор.\n",
    "        \"\"\"\n",
    "        self.loss_history = []\n",
    "        num_iters = 0\n",
    "        # Добавим столбец единиц для заполнения смещения\n",
    "        X = np.hstack([np.ones((X.shape[0], 1)), X])\n",
    "\n",
    "        # Инициализация весов\n",
    "        if self.w0 is not None:\n",
    "            self.w = self.w0.copy()\n",
    "        else:\n",
    "            self.w = np.random.normal(0, 0.01, X.shape[1])\n",
    "\n",
    "        # явный счетчик итераций, так что проверка на max_iter проходится\n",
    "        for _ in range(self.max_iter):\n",
    "            prev_w = self.w.copy()\n",
    "\n",
    "            if self.gd_type == \"full\":\n",
    "                gradient = self.calc_gradient(X, y)\n",
    "            else:\n",
    "                stoch_idx = np.random.randint(X.shape[0])\n",
    "                gradient = self.calc_gradient(\n",
    "                    X[stoch_idx:stoch_idx+1], y[stoch_idx:stoch_idx+1])\n",
    "\n",
    "            self.w -= self.eta * gradient  # делаем шаг по антиградиенту\n",
    "            self.loss_history.append(\n",
    "                self.calc_loss(X, y))  # добавляем в историю\n",
    "\n",
    "            if np.linalg.norm(self.w - prev_w) < self.tolerance:\n",
    "                break\n",
    "\n",
    "        return self\n",
    "\n",
    "    def sigmoid(self, z: np.array) -> np.array:\n",
    "        \"\"\"Сигмоидная функция.\"\"\"\n",
    "        return 1 / (1 + np.exp(-z))\n",
    "\n",
    "    def predict_proba(self, X: np.array) -> np.array:\n",
    "        \"\"\"Вычислите вероятности положительного и отрицательного классов для каждого наблюдения.\n",
    "\n",
    "        Аргументы:\n",
    "          X: массив размером (n, d).\n",
    "             Данные.\n",
    "\n",
    "        Возвращает:\n",
    "             Массив размером (n, 2).\n",
    "             Предсказанные вероятности.\n",
    "        \"\"\"\n",
    "        if self.w is None:\n",
    "            raise Exception('Not trained yet')\n",
    "\n",
    "        proba_positive = self.sigmoid(X @ self.w)\n",
    "        proba_negative = 1 - proba_positive\n",
    "        result = np.vstack((proba_negative, proba_positive)).T\n",
    "        return result\n",
    "\n",
    "    def predict(self, X: np.array) -> np.array:\n",
    "        \"\"\"Предсказание метки класса для каждого наблюдения.\n",
    "\n",
    "        Аргументы:\n",
    "          X: массив размером (n, d).\n",
    "             Данные.\n",
    "\n",
    "        Возвращает:\n",
    "             Массив размером (n,).\n",
    "             Предсказанные метки классов.\n",
    "        \"\"\"\n",
    "        if self.w is None:\n",
    "            raise Exception('Not trained yet')\n",
    "        proba = self.predict_proba(X)\n",
    "        result = (proba[:, 1] >= 0.5).astype(int)\n",
    "        return result\n",
    "\n",
    "    def calc_gradient(self, X: np.array, y: np.array) -> np.array:\n",
    "        \"\"\"Вычислите градиент функции потерь после каждой итерации.\n",
    "\n",
    "        Аргументы:\n",
    "          X: массив размером (n, d), n может быть равно 1, если выбран 'stochastic'.\n",
    "          y: массив размером (n,).\n",
    "\n",
    "        Возвращает:\n",
    "          Массив размером (d,).\n",
    "          Градиент функции потерь после текущей итерации.\n",
    "        \"\"\"\n",
    "        n = len(y)\n",
    "        pred = self.sigmoid(X @ self.w)\n",
    "        gradient = (X.T @ (pred - y)) / n\n",
    "        return gradient\n",
    "\n",
    "    def calc_loss(self, X: np.array, y: np.array) -> float:\n",
    "        \"\"\"Вычислите значение функции потерь после каждой итерации.\n",
    "\n",
    "        Аргументы:\n",
    "          X: массив размером (n, d).\n",
    "          y: массив размером (n,).\n",
    "\n",
    "        Возвращает:\n",
    "          Значение функции потерь после текущей итерации.\n",
    "        \"\"\"\n",
    "        pred = self.sigmoid(X @ self.w)\n",
    "        eps = 1e-11\n",
    "        pred = np.clip(pred, eps, 1 - eps)\n",
    "\n",
    "        log_loss = -np.mean(y * np.log(pred) + (1 - y) * np.log(1 - pred))\n",
    "\n",
    "        return log_loss"
   ]
  },
  {
   "cell_type": "markdown",
   "metadata": {
    "id": "0EHJ_pqXOjeY"
   },
   "source": [
    "Далее предполагается, что вы используете собственную реализацию логистической регрессии.\n",
    "Если с написанием класса возникли проблемы, используйте реализацию sklearn, чтобы не терять баллы за остальные задания."
   ]
  },
  {
   "cell_type": "markdown",
   "metadata": {
    "id": "MhoFH4BfOjeZ"
   },
   "source": [
    "Сгенерируем искусственные данные."
   ]
  },
  {
   "cell_type": "code",
   "execution_count": 7,
   "metadata": {
    "id": "5dh6ImQQOjeZ"
   },
   "outputs": [],
   "source": [
    "from sklearn.datasets import make_classification\n",
    "from sklearn.model_selection import train_test_split\n",
    "\n",
    "X, y = make_classification(\n",
    "    n_samples=10000, n_features=10, n_informative=5, n_redundant=5,\n",
    "    random_state=999)\n",
    "\n",
    "X_train, X_test, y_train, y_test = train_test_split(\n",
    "    X, y, test_size=0.3, random_state=999)"
   ]
  },
  {
   "cell_type": "markdown",
   "metadata": {
    "id": "BJlB_E7nOjea"
   },
   "source": [
    "**Задание 2 (1 балл).** Обучите логистическую регрессию на искусственных данных. Нарисуйте изменение лосса во время обучения."
   ]
  },
  {
   "cell_type": "code",
   "execution_count": 12,
   "metadata": {
    "id": "BH-yySQuOjeb"
   },
   "outputs": [
    {
     "data": {
      "image/png": "[encoded data removed]",
      "text/plain": [
       "<Figure size 640x480 with 1 Axes>"
      ]
     },
     "metadata": {},
     "output_type": "display_data"
    }
   ],
   "source": [
    "gd_type = \"full\"\n",
    "model = MyLogisticRegression(gd_type=gd_type)\n",
    "model.fit(X_train, y_train)\n",
    "\n",
    "plt.plot(model.loss_history, label='Loss')\n",
    "plt.xlabel('Iterations')\n",
    "plt.ylabel('Loss')\n",
    "plt.title(f'Loss function during training on {gd_type} gradient type')\n",
    "plt.legend()\n",
    "plt.show()"
   ]
  },
  {
   "cell_type": "code",
   "execution_count": 15,
   "metadata": {},
   "outputs": [
    {
     "data": {
      "image/png": "[encoded data removed]",
      "text/plain": [
       "<Figure size 640x480 with 1 Axes>"
      ]
     },
     "metadata": {},
     "output_type": "display_data"
    }
   ],
   "source": [
    "gd_type = \"stochastic\"\n",
    "model = MyLogisticRegression(gd_type=gd_type)\n",
    "model.fit(X_train, y_train)\n",
    "\n",
    "plt.plot(model.loss_history, label='Loss')\n",
    "plt.xlabel('Iterations')\n",
    "plt.ylabel('Loss')\n",
    "plt.title(f'Loss function during training on {gd_type} gradient type')\n",
    "plt.legend()\n",
    "plt.show()"
   ]
  },
  {
   "cell_type": "markdown",
   "metadata": {
    "id": "tuHbOvPlOjec"
   },
   "source": [
    "На тестовой части посчитайте ROC-AUC, PR-AUC. Постройте ROC- и PR-кривые."
   ]
  },
  {
   "cell_type": "code",
   "execution_count": null,
   "metadata": {
    "id": "wN1zT9E-Ydc8"
   },
   "outputs": [],
   "source": [
    "# your code"
   ]
  },
  {
   "cell_type": "markdown",
   "metadata": {
    "id": "6aTPsxh6Ydc9"
   },
   "source": [
    "**Задание 3 (1 балл).** Оцените ошибку ROC-AUC и PR-AUC вашей модели при помощи K-fold кросс-валидации.  "
   ]
  },
  {
   "cell_type": "code",
   "execution_count": null,
   "metadata": {
    "id": "Xx8Zz3MeYdc-"
   },
   "outputs": [],
   "source": [
    "# your code"
   ]
  },
  {
   "cell_type": "markdown",
   "metadata": {},
   "source": [
    "---"
   ]
  },
  {
   "cell_type": "markdown",
   "metadata": {
    "id": "ToLJecgbY44W"
   },
   "source": [
    "## **Часть 2. Решающие деревья (5 баллов)**"
   ]
  },
  {
   "cell_type": "markdown",
   "metadata": {
    "id": "9iAZwRjCeAQO"
   },
   "source": [
    "Здесь требуется реализовать разбиение элементов выборки в вершине дерева."
   ]
  },
  {
   "cell_type": "markdown",
   "metadata": {
    "id": "7zl0dnOpd3xX"
   },
   "source": [
    "$R_m$ — множество объектов в разбиваемой вершине, $j$ — номер признака, по которому происходит разбиение, $t$ — порог разбиения.\n",
    "\n",
    "Критерий ошибки:\n",
    "\n",
    "$$\n",
    "Q(R_m, j, t) = \\frac{|R_\\ell|}{|R_m|}H(R_\\ell) + \\frac{|R_r|}{|R_m|}H(R_r) \\to \\min_{j, t}\n",
    "$$\n",
    "\n",
    "$R_\\ell$ — множество объектов в левом поддереве, $R_r$ — множество объектов в правом поддереве.\n",
    "\n",
    "$H(R)$ — критерий информативности, с помощью которого можно оценить качество распределения целевой переменной среди объектов множества $R$."
   ]
  },
  {
   "cell_type": "code",
   "execution_count": null,
   "metadata": {
    "id": "kHeOJOhD-TVX"
   },
   "outputs": [],
   "source": [
    "from typing import Iterable, List, Tuple"
   ]
  },
  {
   "cell_type": "markdown",
   "metadata": {
    "id": "xEeetsF8f39b"
   },
   "source": [
    "Так как Boston Dataset с недавних пор отсутствует в sklearn, то ниже реализован способ загрузки данного датасета из другого источника."
   ]
  },
  {
   "cell_type": "code",
   "execution_count": null,
   "metadata": {
    "id": "LvqFxfNwKLGG"
   },
   "outputs": [],
   "source": [
    "# `load_boston` has been removed from scikit-learn since version 1.2.\n",
    "\n",
    "#from sklearn.datasets import load_boston\n",
    "#boston = load_boston()"
   ]
  },
  {
   "cell_type": "code",
   "execution_count": null,
   "metadata": {
    "id": "D_kJdSOIKL2Z"
   },
   "outputs": [],
   "source": [
    "# !wget -i https://github.com/scikit-learn/scikit-learn/blob/main/sklearn/datasets/data/boston_house_prices.csv\n",
    "#data_git = pd.read_csv('boston_house_prices.csv', sep=\"\\s+\")"
   ]
  },
  {
   "cell_type": "markdown",
   "metadata": {
    "id": "b1KE7WIFKp51"
   },
   "source": [
    "**Data Set Characteristics:**  \n",
    "\n",
    "    :Number of Instances: 506\n",
    "\n",
    "    :Number of Attributes: 13 numeric/categorical predictive. Median Value (attribute 14) is usually the target.\n",
    "\n",
    "    :Attribute Information (in order):\n",
    "        - CRIM     per capita crime rate by town\n",
    "        - ZN       proportion of residential land zoned for lots over 25,000 sq.ft.\n",
    "        - INDUS    proportion of non-retail business acres per town\n",
    "        - CHAS     Charles River dummy variable (= 1 if tract bounds river; 0 otherwise)\n",
    "        - NOX      nitric oxides concentration (parts per 10 million)\n",
    "        - RM       average number of rooms per dwelling\n",
    "        - AGE      proportion of owner-occupied units built prior to 1940\n",
    "        - DIS      weighted distances to five Boston employment centres\n",
    "        - RAD      index of accessibility to radial highways\n",
    "        - TAX      full-value property-tax rate per $10,000\n",
    "        - PTRATIO  pupil-teacher ratio by town\n",
    "        - B        1000(Bk - 0.63)^2 where Bk is the proportion of blacks by town\n",
    "        - LSTAT    % lower status of the population\n",
    "        - MEDV     Median value of owner-occupied homes in $1000's\n",
    "\n",
    "    :Missing Attribute Values: None\n",
    "\n",
    "    :Creator: Harrison, D. and Rubinfeld, D.L.\n",
    "\n",
    "This is a copy of UCI ML housing dataset.\n",
    "https://archive.ics.uci.edu/ml/machine-learning-databases/housing/\n",
    "\n",
    "This dataset was taken from the StatLib library which is maintained at Carnegie Mellon University.\n",
    "\n",
    "The Boston house-price data of Harrison, D. and Rubinfeld, D.L. 'Hedonic\n",
    "prices and the demand for clean air', J. Environ. Economics & Management,\n",
    "vol.5, 81-102, 1978.   Used in Belsley, Kuh & Welsch, 'Regression diagnostics\n",
    "...', Wiley, 1980.   N.B. Various transformations are used in the table on\n",
    "pages 244-261 of the latter.\n",
    "\n",
    "The Boston house-price data has been used in many machine learning papers that address regression\n",
    "problems.   \n",
    "     \n",
    ".. topic:: References\n",
    "\n",
    "   - Belsley, Kuh & Welsch, 'Regression diagnostics: Identifying Influential Data and Sources of Collinearity', Wiley, 1980. 244-261.\n",
    "   - Quinlan,R. (1993). Combining Instance-Based and Model-Based Learning. In Proceedings on the Tenth International Conference of Machine Learning, 236-243, University of Massachusetts, Amherst. Morgan Kaufmann.\n",
    "\n"
   ]
  },
  {
   "cell_type": "code",
   "execution_count": null,
   "metadata": {
    "id": "Qv8CemmpK2EU"
   },
   "outputs": [],
   "source": [
    "data_url = \"http://lib.stat.cmu.edu/datasets/boston\"\n",
    "raw_df = pd.read_csv(data_url, sep=\"\\s+\", skiprows=22, header=None)\n",
    "data = np.hstack([raw_df.values[::2, :], raw_df.values[1::2, :2]])\n",
    "target = raw_df.values[1::2, 2]"
   ]
  },
  {
   "cell_type": "code",
   "execution_count": null,
   "metadata": {
    "id": "3KLql08wLMKy"
   },
   "outputs": [],
   "source": [
    "feature_names = ['CRIM', 'ZN', 'INDUS', 'CHAS', 'NOX', 'RM', 'AGE', 'DIS', 'RAD', 'TAX', 'PTRATIO', 'B', 'LSTAT']\n",
    "\n",
    "X = pd.DataFrame(data, columns=feature_names, index=range(len(data)))\n",
    "y = pd.DataFrame(target, columns=['MEDV'], index=range(len(target)))\n",
    "\n",
    "X['target'] = y"
   ]
  },
  {
   "cell_type": "code",
   "execution_count": null,
   "metadata": {
    "id": "QMs9TfkuSme0"
   },
   "outputs": [],
   "source": [
    "X_train, X_test = train_test_split(X, test_size=0.25, random_state=999)"
   ]
  },
  {
   "cell_type": "markdown",
   "metadata": {
    "id": "hirWI1Vw4Fle"
   },
   "source": [
    "**Задание 1 (1 балл)**. Реализуйте подсчет критерия ошибки. Для этого реализуйте функции для подсчета значения критерия информативности, а также для разбиения вершины."
   ]
  },
  {
   "cell_type": "code",
   "execution_count": null,
   "metadata": {
    "id": "5bGstPZ14Flf"
   },
   "outputs": [],
   "source": [
    "def H(R: np.array) -> float:\n",
    "    \"\"\"\n",
    "    Вычислить критерий информативности (impurity criterion) для фиксированного набора объектов R.\n",
    "    Предполагается, что последний столбец содержить целевую переменную.\n",
    "    \"\"\"\n",
    "    # your code\n",
    "\n",
    "\n",
    "def split_node(R_m: np.array, feature: str, t: float) -> Iterable[np.array]:\n",
    "    \"\"\"\n",
    "    Разделить фиксированный набор объектов R_m с заданным признаком (номером признака) и пороговым значением t.\n",
    "    \"\"\"\n",
    "    # your code\n",
    "\n",
    "\n",
    "def q_error(R_m: np.array, feature: str, t: float) -> float:\n",
    "    \"\"\"\n",
    "    Вычислить критерий ошибки для заданных параметров разделения.\n",
    "    \"\"\"\n",
    "    # your code\n"
   ]
  },
  {
   "cell_type": "markdown",
   "metadata": {
    "id": "z5vMn7Yu4Flg"
   },
   "source": [
    "**Задание 2 (1 балл)**. Переберите все возможные разбиения обучающей выборки по одному из признаков и постройте график критерия ошибки в зависимости от значения порога."
   ]
  },
  {
   "cell_type": "code",
   "execution_count": null,
   "metadata": {
    "id": "73d0n-Ht4Flh"
   },
   "outputs": [],
   "source": [
    "# your code"
   ]
  },
  {
   "cell_type": "markdown",
   "metadata": {
    "id": "cdNVqLH24Flj"
   },
   "source": [
    "**Задание 3  (1 балл)**. Напишите функцию, находящую оптимальное разбиение данной вершины по данному признаку."
   ]
  },
  {
   "cell_type": "code",
   "execution_count": null,
   "metadata": {
    "id": "JnK6p2FU4Flk"
   },
   "outputs": [],
   "source": [
    "def get_optimal_split(R_m: np.array, feature: str) -> Tuple[float, List[float]]:\n",
    "    # your code"
   ]
  },
  {
   "cell_type": "markdown",
   "metadata": {
    "id": "WTwCYIgc4Fll"
   },
   "source": [
    "**Задание 4  (1 балл)**. Для первого разбиения найдите признак, показывающий наилучшее качество. Каков порог разбиения и значение качества? Постройте график критерия ошибки для данного признака в зависимости от значения порога."
   ]
  },
  {
   "cell_type": "code",
   "execution_count": null,
   "metadata": {
    "id": "GUl5daTc4Flo"
   },
   "outputs": [],
   "source": [
    "# your code"
   ]
  },
  {
   "cell_type": "markdown",
   "metadata": {
    "id": "qaSseANG4Flq"
   },
   "source": [
    " **Задание 5 (1 балл)**. Изобразите разбиение визуально. Для этого постройте диаграмму рассеяния целевой переменной в зависимости от значения входного признака. Далее изобразите вертикальную линию, соответствующую порогу разбиения."
   ]
  },
  {
   "cell_type": "code",
   "execution_count": null,
   "metadata": {
    "id": "Cjw3cznv8Qn2"
   },
   "outputs": [],
   "source": [
    "# your code"
   ]
  }
 ],
 "metadata": {
  "colab": {
   "provenance": []
  },
  "kernelspec": {
   "display_name": "dlenv",
   "language": "python",
   "name": "python3"
  },
  "language_info": {
   "codemirror_mode": {
    "name": "ipython",
    "version": 3
   },
   "file_extension": ".py",
   "mimetype": "text/x-python",
   "name": "python",
   "nbconvert_exporter": "python",
   "pygments_lexer": "ipython3",
   "version": "3.11.11"
  }
 },
 "nbformat": 4,
 "nbformat_minor": 0
}
