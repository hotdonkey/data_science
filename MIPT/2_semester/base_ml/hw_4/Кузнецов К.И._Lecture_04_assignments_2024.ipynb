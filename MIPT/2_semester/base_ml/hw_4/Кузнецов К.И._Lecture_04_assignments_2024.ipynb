{
  "nbformat": 4,
  "nbformat_minor": 0,
  "metadata": {
    "colab": {
      "provenance": []
    },
    "kernelspec": {
      "name": "python3",
      "display_name": "Python 3"
    },
    "language_info": {
      "name": "python"
    }
  },
  "cells": [
    {
      "cell_type": "markdown",
      "metadata": {
        "id": "rzEKuROcm5SP"
      },
      "source": [
        "# **Важно!**\n",
        "\n",
        "Домашнее задание состоит из нескольких задач, которые вам нужно решить.\n",
        "*   Баллы выставляются по принципу выполнено/невыполнено.\n",
        "*   За каждую выполненую задачу вы получаете баллы (количество баллов за задание указано в скобках).\n",
        "\n",
        "**Инструкция:** выполните задания в этом же ноутбуке (места под решения **каждой** задачи обозначаются как **#НАЧАЛО ВАШЕГО РЕШЕНИЯ** и **#КОНЕЦ ВАШЕГО РЕШЕНИЯ**).\n",
        "\n",
        "**Как отправить задание на проверку:** вам необходимо сохранить решение в данном блокноте и отправить итоговый **файл .IPYNB** на учебной платформе в **стандартную форму сдачи домашнего задания.**\n",
        "\n",
        "**Сроки проверки:** преподаватель проверит домашнее задание в течение недели после дедлайна и даст вам обратную связь.\n",
        "\n",
        "# **Перед выполнением задания**\n",
        "\n",
        "1. **Перезапустите ядро (restart the kernel):** в меню выбрать **Ядро (Kernel)**\n",
        "→ **Перезапустить (Restart).**\n",
        "2. **Выполните** **все ячейки (run all cells)**: в меню выбрать **Ячейка (Cell)**\n",
        "→ **Запустить все (Run All)**.\n",
        "\n",
        "После ячеек с заданием следуют ячейки с проверкой **с помощью assert**: если в коде есть ошибки, assert выведет уведомление об ошибке; если в коде нет ошибок, assert отработает без вывода дополнительной информации."
      ]
    },
    {
      "cell_type": "markdown",
      "metadata": {
        "id": "IvjzKaM9m5ST"
      },
      "source": [
        "---"
      ]
    },
    {
      "cell_type": "markdown",
      "metadata": {
        "id": "I15VyW-1m5ST"
      },
      "source": [
        "# Домашнее задание 4. Линейная классификация. Логистическая регрессия. Метод опорных векторов\n",
        "\n",
        "**Цели:**\n",
        "*   Решить проблемы бинарной классификации вручную.\n",
        "*   Решить многоклассовую классификацию на примере датасета рукописных цифр MNIST с помощью готовых библиотек.\n",
        "* Реализовать метод опорных векторов."
      ]
    },
    {
      "cell_type": "code",
      "execution_count": null,
      "metadata": {
        "deletable": false,
        "editable": false,
        "nbgrader": {
          "cell_type": "code",
          "checksum": "5c9ae45022783898a2aea57e451b47eb",
          "grade": false,
          "grade_id": "cell-d9e9033e8e7687c7",
          "locked": true,
          "schema_version": 3,
          "solution": false,
          "task": false
        },
        "id": "GMC4cNE2m5SU"
      },
      "outputs": [],
      "source": [
        "# Запустите эту ячейку для первоначальной настройки\n",
        "import numpy as np\n",
        "import pandas as pd\n",
        "import matplotlib.pyplot as plt\n",
        "\n",
        "plt.style.use('fivethirtyeight')\n",
        "plt.rc('lines', linewidth=2)"
      ]
    },
    {
      "cell_type": "markdown",
      "metadata": {
        "deletable": false,
        "editable": false,
        "nbgrader": {
          "cell_type": "markdown",
          "checksum": "9aa8fc14a3b822858f8162d40474eaac",
          "grade": false,
          "grade_id": "cell-cbe327c5d8b4bfb1",
          "locked": true,
          "schema_version": 3,
          "solution": false,
          "task": false
        },
        "id": "6bg9-fuim5SV"
      },
      "source": [
        "## Часть 1. Реализация алгоритма линейной классификации для бинарных данных\n",
        "\n",
        "Создадим синтетический набор бинарных данных и обучим модель вручную. Для этого нам необходимо написать функцию сигмоиды, вычислить функцию потерь и ее производную, чтобы использовать их во время градиентного спуска."
      ]
    },
    {
      "cell_type": "markdown",
      "source": [
        "**Задание 1 (1 балл)**\n",
        "\n",
        "Реализуйте функцию сигмоиды `sigmoid(z)`."
      ],
      "metadata": {
        "id": "G25H-QgTSFJ4"
      }
    },
    {
      "cell_type": "code",
      "source": [
        "# НАЧАЛО ВАШЕГО РЕШЕНИЯ\n",
        "# КОНЕЦ ВАШЕГО РЕШЕНИЯ"
      ],
      "metadata": {
        "id": "TJT9GfQ8SD2d"
      },
      "execution_count": null,
      "outputs": []
    },
    {
      "cell_type": "code",
      "source": [
        "assert np.isclose(sigmoid(5), 1, atol=0.01)"
      ],
      "metadata": {
        "id": "smoL8PTgjyKq"
      },
      "execution_count": null,
      "outputs": []
    },
    {
      "cell_type": "markdown",
      "source": [
        "**Задание 2 (1 балл)**\n",
        "\n",
        "Реализуйте логистическую функцию потерь `compute_cost(y, y_pred)`.\n",
        "\n"
      ],
      "metadata": {
        "id": "5oFH0MhKkasJ"
      }
    },
    {
      "cell_type": "code",
      "source": [
        "# НАЧАЛО ВАШЕГО РЕШЕНИЯ\n",
        "# КОНЕЦ ВАШЕГО РЕШЕНИЯ"
      ],
      "metadata": {
        "id": "JaYP4OliknMy"
      },
      "execution_count": null,
      "outputs": []
    },
    {
      "cell_type": "code",
      "source": [
        "y_pred = np.array([0.1, 0.8, 0.4])\n",
        "y = np.array([0, 1, 0])\n",
        "\n",
        "assert np.isclose(compute_cost(y, y_pred), 0.28, atol=0.01)"
      ],
      "metadata": {
        "id": "PikqHrBBjJH1"
      },
      "execution_count": null,
      "outputs": []
    },
    {
      "cell_type": "markdown",
      "source": [
        "**Задание 3 (1 балл)**\n",
        "\n",
        "Реализуйте градиент логистической функции потерь `compute_gradient(X, y, w)`."
      ],
      "metadata": {
        "id": "Es3WCeiBlv9c"
      }
    },
    {
      "cell_type": "code",
      "source": [
        "# НАЧАЛО ВАШЕГО РЕШЕНИЯ\n",
        "# КОНЕЦ ВАШЕГО РЕШЕНИЯ"
      ],
      "metadata": {
        "id": "wp4JDp5GpOyi"
      },
      "execution_count": null,
      "outputs": []
    },
    {
      "cell_type": "code",
      "source": [
        "X = np.array([[1, 2], [1, 3], [1, 4]])  # Пример данных с добавленным bias term\n",
        "y = np.array([0, 1, 0])  # Метки классов\n",
        "weights = np.array([0.1, -0.2])  # Начальные веса\n",
        "\n",
        "assert np.allclose(compute_gradient(X, y, weights), [0.04, 0.10], atol=0.01)"
      ],
      "metadata": {
        "id": "0jpwBVjepofV"
      },
      "execution_count": null,
      "outputs": []
    },
    {
      "cell_type": "markdown",
      "source": [
        "**Задание 4 (1 балл)**\n",
        "\n",
        "По аналогии с предыдущим домашним заданием реализуйте функцию градиентного спуска."
      ],
      "metadata": {
        "id": "7kxhZ7XTkpMj"
      }
    },
    {
      "cell_type": "code",
      "source": [
        "# Функция градиентного спуска\n",
        "def gradient_descent(X, y, w, learning_rate, num_iterations):\n",
        "    # НАЧАЛО ВАШЕГО РЕШЕНИЯ\n",
        "    # КОНЕЦ ВАШЕГО РЕШЕНИЯ\n",
        "    return w_tmp"
      ],
      "metadata": {
        "id": "STOYOXEz6hwy"
      },
      "execution_count": null,
      "outputs": []
    },
    {
      "cell_type": "code",
      "source": [
        "assert np.allclose(gradient_descent(X, y, weights, 0.03, 300), [-0.01, -0.22], atol=0.01)"
      ],
      "metadata": {
        "colab": {
          "base_uri": "https://localhost:8080/"
        },
        "id": "88kqK3_qlMKJ",
        "outputId": "cee5ecab-c5b9-4342-d7c9-0fabd1ebc6d5"
      },
      "execution_count": null,
      "outputs": [
        {
          "output_type": "stream",
          "name": "stdout",
          "text": [
            "Итерация 0: Потери = 0.6438727591780307\n",
            "Итерация 100: Потери = 0.6408436541471703\n",
            "Итерация 200: Потери = 0.6404881766498652\n"
          ]
        }
      ]
    },
    {
      "cell_type": "markdown",
      "source": [
        "**Задание 5 (1 балл)**\n",
        "\n",
        "Подготовьте синтетические бинарные данные с помощью команды из библиотеки `sklearn`. Используйте функцию `make_classification`. Создайте 200 точек с двумя признаками и двумя классами, без излишних признаков (`n_redundant=0`). Зафиксируйте `random_state=42`. Добавьте столбец единиц к данным для свободного члена."
      ],
      "metadata": {
        "id": "mUDp-KAk7F0E"
      }
    },
    {
      "cell_type": "code",
      "source": [
        "from sklearn.datasets import make_classification\n",
        "import matplotlib.pyplot as plt\n",
        "import numpy as np\n",
        "\n",
        "# НАЧАЛО ВАШЕГО РЕШЕНИЯ\n",
        "# КОНЕЦ ВАШЕГО РЕШЕНИЯ\n",
        "\n",
        "# Визуализация данных\n",
        "plt.figure(figsize=(8, 6))\n",
        "plt.scatter(X[y == 0, 0], X[y == 0, 1], color='blue', label='Класс 0', alpha=0.7)\n",
        "plt.scatter(X[y == 1, 0], X[y == 1, 1], color='red', label='Класс 1', alpha=0.7)\n",
        "plt.title(\"Синтетические бинарные данные\")\n",
        "plt.xlabel(\"Признак 1\")\n",
        "plt.ylabel(\"Признак 2\")\n",
        "plt.legend()\n",
        "plt.grid(alpha=0.3)\n",
        "plt.show()"
      ],
      "metadata": {
        "colab": {
          "base_uri": "https://localhost:8080/",
          "height": 606
        },
        "id": "GXZ4aege77Yo",
        "outputId": "fba34e03-a933-4dfd-d223-11c3da005238"
      },
      "execution_count": null,
      "outputs": [
        {
          "output_type": "display_data",
          "data": {
            "text/plain": [
              "<Figure size 800x600 with 1 Axes>"
            ],
            "image/png": "[encoded data removed]"
          },
          "metadata": {}
        }
      ]
    },
    {
      "cell_type": "markdown",
      "source": [
        "**Задание 6 (1 балл)**\n",
        "\n",
        "Создайте новую переменную `X_ones`, добавив столбец единиц к данным для свободного члена с помощью `NumPy` команды `concatenate`. Разбейте данные на тренировочную и тестовую выборки, выделив 20% данных под тестирование. Инициализируйте веса `weights` случайным образом."
      ],
      "metadata": {
        "id": "9elAF0IJxoKa"
      }
    },
    {
      "cell_type": "code",
      "source": [
        "from sklearn.model_selection import train_test_split\n",
        "# Не удаляйте и не меняйте seed\n",
        "np.random.seed(21)\n",
        "\n",
        "# НАЧАЛО ВАШЕГО РЕШЕНИЯ\n",
        "# КОНЕЦ ВАШЕГО РЕШЕНИЯ"
      ],
      "metadata": {
        "id": "GRhM9kJISB64"
      },
      "execution_count": null,
      "outputs": []
    },
    {
      "cell_type": "code",
      "source": [
        "assert X_ones.shape[1]==3 and X_ones.shape[0]==200\n",
        "assert weights.shape[0]==3"
      ],
      "metadata": {
        "id": "0xGerQDd-e2k"
      },
      "execution_count": null,
      "outputs": []
    },
    {
      "cell_type": "markdown",
      "source": [
        "**Задание 7 (1 балл)**\n",
        "\n",
        "Обучите модель и предскажите значения для тестовой выборки. Вычислите значение функции потерь для тестовой выборки, `test_cost`.\n",
        "\n",
        "*Hint!* Не забудьте сигмоиду."
      ],
      "metadata": {
        "id": "S89lM8R4_cyZ"
      }
    },
    {
      "cell_type": "code",
      "source": [
        "# НАЧАЛО ВАШЕГО РЕШЕНИЯ\n",
        "# КОНЕЦ ВАШЕГО РЕШЕНИЯ"
      ],
      "metadata": {
        "colab": {
          "base_uri": "https://localhost:8080/"
        },
        "id": "QxyONJqO_bCk",
        "outputId": "f1df2104-cb07-4677-84ea-5545d3799566"
      },
      "execution_count": null,
      "outputs": [
        {
          "output_type": "stream",
          "name": "stdout",
          "text": [
            "Итерация 0: Потери = 0.7841462867271323\n",
            "Итерация 100: Потери = 0.45763652522112375\n",
            "Итерация 200: Потери = 0.3984292412307012\n",
            "Итерация 300: Потери = 0.37846156693139177\n",
            "Итерация 400: Потери = 0.36924458108004704\n",
            "Итерация 500: Потери = 0.36429004851728075\n",
            "Итерация 600: Потери = 0.3613834317350559\n",
            "Итерация 700: Потери = 0.3595790127815047\n",
            "Итерация 800: Потери = 0.358413794103059\n",
            "Итерация 900: Потери = 0.35763935937323926\n"
          ]
        }
      ]
    },
    {
      "cell_type": "code",
      "source": [
        "assert np.isclose(test_cost, 0.3, atol=0.01)"
      ],
      "metadata": {
        "id": "2gOUhtCHCfdG"
      },
      "execution_count": null,
      "outputs": []
    },
    {
      "cell_type": "markdown",
      "source": [
        "## Часть 2. Реализация алгоритма бинарной классификации sklearn. Сравнение результатов"
      ],
      "metadata": {
        "id": "5GuwTkXREvj0"
      }
    },
    {
      "cell_type": "markdown",
      "source": [
        "**Задание 8 (1 балл)**\n",
        "\n",
        "Реализуйте обучение на тех же данных с помощью готовой функции `LogisticRegression` из `sklearn.linear_model`. Предскажите вероятности для тестовой выборки с помощью метода `predict_proba` и оцените качество обучения при помощи `log_loss` из `sklearn.metrics`. Запишите значение функции потерь в переменную `cost_sklearn`."
      ],
      "metadata": {
        "id": "lIbR7L-NFbjS"
      }
    },
    {
      "cell_type": "code",
      "source": [
        "from sklearn.linear_model import LogisticRegression\n",
        "from sklearn.metrics import log_loss\n",
        "\n",
        "# НАЧАЛО ВАШЕГО РЕШЕНИЯ\n",
        "# КОНЕЦ ВАШЕГО РЕШЕНИЯ"
      ],
      "metadata": {
        "id": "yxAt028LEv4F"
      },
      "execution_count": null,
      "outputs": []
    },
    {
      "cell_type": "code",
      "source": [
        "assert np.isclose(cost_sklearn, 0.3, atol=0.01)"
      ],
      "metadata": {
        "id": "cpuBZ9I6Gh5C"
      },
      "execution_count": null,
      "outputs": []
    },
    {
      "cell_type": "markdown",
      "source": [
        "Обратите внимание, что мы получили схожие значения функций потерь обоими методами.\n",
        "Теперь мы можем перейти к многоклассовой классификации."
      ],
      "metadata": {
        "id": "1qiLd8iMGp7y"
      }
    },
    {
      "cell_type": "markdown",
      "source": [
        "## Часть 3. Реализация алгоритма многоклассовой классификации на примере данных MNIST\n",
        "\n"
      ],
      "metadata": {
        "id": "3K8qktCJuMB5"
      }
    },
    {
      "cell_type": "markdown",
      "source": [
        "Теперь, когда мы разобрались с тем, как работает обучение модели бинарной классификации, мы можем перейти к проблеме многих классов. В качестве примера рассмотрим задачу классификации рукописных цифр из классического набора данных MNIST. Первым шагом необходимо загрузить данные. Мы будем использовать функцию `load_digits` из модуля `sklearn.datasets`, которая загрузит набор данных MNIST с цифрами от 0 до 9."
      ],
      "metadata": {
        "id": "g2_025qTv4kZ"
      }
    },
    {
      "cell_type": "code",
      "execution_count": null,
      "metadata": {
        "deletable": false,
        "editable": false,
        "nbgrader": {
          "cell_type": "code",
          "checksum": "3329526413375c3a5ce82d7a8badf554",
          "grade": false,
          "grade_id": "cell-dc48db25ce0a4632",
          "locked": true,
          "schema_version": 3,
          "solution": false,
          "task": false
        },
        "id": "2cldPSWPm5SV"
      },
      "outputs": [],
      "source": [
        "from sklearn.datasets import load_digits\n",
        "from sklearn.metrics import accuracy_score, precision_score, recall_score, f1_score\n",
        "import matplotlib.pyplot as plt\n",
        "\n",
        "digits = load_digits()\n",
        "X = digits.data # Изображения, преобразованные из матрицы (8, 8) в вектор (64,)\n",
        "y = digits.target"
      ]
    },
    {
      "cell_type": "markdown",
      "metadata": {
        "deletable": false,
        "editable": false,
        "nbgrader": {
          "cell_type": "markdown",
          "checksum": "b1815bf5d77a55487e5dc78b157621c6",
          "grade": false,
          "grade_id": "cell-c2e5221eda286ef9",
          "locked": true,
          "schema_version": 3,
          "solution": false,
          "task": false
        },
        "id": "zpWahM82m5SV"
      },
      "source": [
        "Для визуализации цифр из набора данных, загруженного с помощью библиотеки scikit-learn, можно использовать функцию `imshow() `библиотеки Matplotlib."
      ]
    },
    {
      "cell_type": "code",
      "execution_count": null,
      "metadata": {
        "deletable": false,
        "editable": false,
        "nbgrader": {
          "cell_type": "code",
          "checksum": "68d6357f48473319a0b66b00bd3d0204",
          "grade": false,
          "grade_id": "cell-e9aa8c506f284875",
          "locked": true,
          "schema_version": 3,
          "solution": false,
          "task": false
        },
        "colab": {
          "base_uri": "https://localhost:8080/",
          "height": 465
        },
        "id": "oF6tYNyLm5SW",
        "outputId": "9dc08a80-1ba2-4be4-8135-da10f1137358"
      },
      "outputs": [
        {
          "output_type": "display_data",
          "data": {
            "text/plain": [
              "<Figure size 1000x600 with 10 Axes>"
            ],
            "image/png": "[encoded data removed]"
          },
          "metadata": {}
        }
      ],
      "source": [
        "# Визуализация нескольких случайных изображений цифр\n",
        "indices = np.random.choice(len(X), 10, replace=False)\n",
        "random_digits = X[indices]\n",
        "\n",
        "# Создаем сетку 5x2 для отображения изображений\n",
        "fig, axes = plt.subplots(nrows=2, ncols=5, figsize=(10, 6))\n",
        "\n",
        "# Строим картинки в каждой ячейке сетки\n",
        "for i, ax in enumerate(axes.flat):\n",
        "    ax.imshow(random_digits[i].reshape((8,8)), cmap='gray')\n",
        "    ax.axis('off')  # Убираем оси\n",
        "\n",
        "# Эта команда помогает избегать наложений объектов графика\n",
        "plt.tight_layout()\n",
        "plt.show()"
      ]
    },
    {
      "cell_type": "markdown",
      "metadata": {
        "deletable": false,
        "editable": false,
        "nbgrader": {
          "cell_type": "markdown",
          "checksum": "892b14072309db9fdc13ffc24d4b60dd",
          "grade": false,
          "grade_id": "cell-72972e0fb60029b1",
          "locked": true,
          "schema_version": 3,
          "solution": false,
          "task": false
        },
        "id": "5i8hCYecm5SW"
      },
      "source": [
        "Как обычно, необходимо разделить данные на обучающую и тестовую выборки:"
      ]
    },
    {
      "cell_type": "code",
      "execution_count": null,
      "metadata": {
        "deletable": false,
        "editable": false,
        "nbgrader": {
          "cell_type": "code",
          "checksum": "e47fee4b5879a5bb7708cb6a783f99cf",
          "grade": false,
          "grade_id": "cell-7f82013d663dd86f",
          "locked": true,
          "schema_version": 3,
          "solution": false,
          "task": false
        },
        "id": "Z_NidS4Im5SW"
      },
      "outputs": [],
      "source": [
        "from sklearn.model_selection import train_test_split\n",
        "\n",
        "X_train, X_test, y_train, y_test = train_test_split(X, y, test_size=0.2, random_state=21)"
      ]
    },
    {
      "cell_type": "markdown",
      "metadata": {
        "deletable": false,
        "editable": false,
        "nbgrader": {
          "cell_type": "markdown",
          "checksum": "addae84ebc471640b3a763ca27d0a2a6",
          "grade": false,
          "grade_id": "cell-1fab3aad37f7b3d5",
          "locked": true,
          "schema_version": 3,
          "solution": false,
          "task": false
        },
        "id": "SRc0Ei50m5SX"
      },
      "source": [
        "Для решения задачи многоклассовой классификации с использованием модели перцептрона и стратегии one-vs-one в библиотеке `scikit-learn` можно использовать классификатор `sklearn`.`linear_model.Perceptron`.\n",
        "\n",
        "`sklearn.linear_model.Perceptron` — это реализация однослойного перцептрона, простого алгоритма для бинарной классификации. Суть его работы заключается в том, что он пытается разделить данные на два класса с помощью линейной границы (гиперплоскости).\n",
        "\n",
        "Cоздаем объект классификатора Perceptron и устанавливаем параметры модели. В данном случае мы используем параметр tol для задания критерия остановки (требуемой точности решения) и параметр random_state для установки начального состояния генератора случайных чисел, что позволит воспроизвести результаты."
      ]
    },
    {
      "cell_type": "markdown",
      "metadata": {
        "deletable": false,
        "editable": false,
        "nbgrader": {
          "cell_type": "markdown",
          "checksum": "1f60fe43b5949f3b67658703cbd02f95",
          "grade": false,
          "grade_id": "cell-96d54fd4782001f5",
          "locked": true,
          "schema_version": 3,
          "solution": false,
          "task": false
        },
        "id": "4tF3iC9Tm5SX"
      },
      "source": [
        "**Задание 9 (1 балл)**\n",
        "\n",
        "Создайте по экземпляру класса `LogisticRegression` (`sklearn.linear_model`) и `SVC` (`sklearn.svm`). Внимательно почитайте официальную [документацию OneVsRestClassifier](https://scikit-learn.org/1.5/modules/generated/sklearn.multiclass.OneVsRestClassifier.html), обратите внимание на то, какие аргументы принимает этот класс. Назовите их `softmax_model` и `ovr_model`, соответственно. Обучите обе модели на данных MNIST. Сделайте предсказания для тестовой выборки."
      ]
    },
    {
      "cell_type": "code",
      "source": [],
      "metadata": {
        "id": "cgix5c_1UgU3"
      },
      "execution_count": null,
      "outputs": []
    },
    {
      "cell_type": "code",
      "execution_count": null,
      "metadata": {
        "deletable": false,
        "nbgrader": {
          "cell_type": "code",
          "checksum": "ea4f096280b3f8ecbcb99817022b06ab",
          "grade": false,
          "grade_id": "cell-6773ed1eb8bcf30c",
          "locked": false,
          "schema_version": 3,
          "solution": true,
          "task": false
        },
        "id": "iu-8KGpwm5SX"
      },
      "outputs": [],
      "source": [
        "import numpy as np\n",
        "from sklearn.datasets import fetch_openml\n",
        "from sklearn.linear_model import LogisticRegression\n",
        "from sklearn.svm import SVC\n",
        "from sklearn.model_selection import train_test_split\n",
        "from sklearn.metrics import accuracy_score, log_loss\n",
        "\n",
        "np.random.seed(21)\n",
        "\n",
        "# НАЧАЛО ВАШЕГО РЕШЕНИЯ\n",
        "# КОНЕЦ ВАШЕГО РЕШЕНИЯ"
      ]
    },
    {
      "cell_type": "code",
      "execution_count": null,
      "metadata": {
        "deletable": false,
        "editable": false,
        "nbgrader": {
          "cell_type": "code",
          "checksum": "8d75dcf60bfd26b40301ea2cce4c33c7",
          "grade": true,
          "grade_id": "cell-920798c03be6c966",
          "locked": true,
          "points": 1,
          "schema_version": 3,
          "solution": false,
          "task": false
        },
        "id": "oVvEOT6om5SX"
      },
      "outputs": [],
      "source": [
        "assert type(softmax_model) == LogisticRegression and softmax_model.max_iter == 1000\n",
        "assert type(svm_model) == SVC and svm_model.max_iter == 1000"
      ]
    },
    {
      "cell_type": "markdown",
      "metadata": {
        "deletable": false,
        "editable": false,
        "nbgrader": {
          "cell_type": "markdown",
          "checksum": "5d12ea9ff32d5d2c9faf0b3ee62cf1b6",
          "grade": false,
          "grade_id": "cell-1eea5bfe58e8bd90",
          "locked": true,
          "schema_version": 3,
          "solution": false,
          "task": false
        },
        "id": "dlemY_jxm5SX"
      },
      "source": [
        "**Задание 10 (1 балл)**\n",
        "\n",
        "Вычислите и сравните основные метрики классификации. Для вычисления `precision`, `recall` и `F1-score` воспользуйтесь готовыми метриками из библиотки `sklearn.metrics` (найдите названия нужных функций самостоятельно). Укажите аргумент `average='macro'` для вычисления метрик усредненных по категориям. Сохраните значения метрик в переменные:\n",
        "\n",
        "* `softmax_accuracy_score`\n",
        "* `softmax_precision_score`\n",
        "* `softmax_recall_score`\n",
        "* `softmax_f1_score`\n",
        "\n",
        "\n",
        "* `svm_accuracy_score`\n",
        "* `svm_precision_score`\n",
        "* `svm_recall_score`\n",
        "* `svm_f1_score`\n",
        "\n"
      ]
    },
    {
      "cell_type": "code",
      "execution_count": null,
      "metadata": {
        "deletable": false,
        "nbgrader": {
          "cell_type": "code",
          "checksum": "e0619735849ec0626bd2f861da88052d",
          "grade": false,
          "grade_id": "cell-caefb1f3ef2e2ebd",
          "locked": false,
          "schema_version": 3,
          "solution": true,
          "task": false
        },
        "id": "12Qe16XFm5SY"
      },
      "outputs": [],
      "source": [
        "# НАЧАЛО ВАШЕГО РЕШЕНИЯ\n",
        "# КОНЕЦ ВАШЕГО РЕШЕНИЯ"
      ]
    },
    {
      "cell_type": "markdown",
      "source": [
        "Качество по всем метрикам должно быть выше 95%."
      ],
      "metadata": {
        "id": "3rd8jJmOJ7td"
      }
    },
    {
      "cell_type": "code",
      "source": [
        "# Качество по всем метрикам должно быть выше 95%\n",
        "print(f\"perceptron_accuracy_score: {softmax_accuracy_score}\")\n",
        "print(f\"perceptron_precision_score: {softmax_precision_score}\")\n",
        "print(f\"perceptron_recall_score: {softmax_recall_score}\")\n",
        "print(f\"perceptron_f1_score: {softmax_f1_score}\")\n",
        "\n",
        "print(f\"perceptron_accuracy_score: {svm_accuracy_score}\")\n",
        "print(f\"perceptron_precision_score: {svm_precision_score}\")\n",
        "print(f\"perceptron_recall_score: {svm_recall_score}\")\n",
        "print(f\"perceptron_f1_score: {svm_f1_score}\")"
      ],
      "metadata": {
        "colab": {
          "base_uri": "https://localhost:8080/"
        },
        "id": "QXZQCgOgJKe2",
        "outputId": "16f2d4a6-8e79-4f15-c0a1-0a08b624cf14"
      },
      "execution_count": null,
      "outputs": [
        {
          "output_type": "stream",
          "name": "stdout",
          "text": [
            "perceptron_accuracy_score: 0.975\n",
            "perceptron_precision_score: 0.9755891749496401\n",
            "perceptron_recall_score: 0.975590939649223\n",
            "perceptron_f1_score: 0.9753951883808829\n",
            "perceptron_accuracy_score: 0.9861111111111112\n",
            "perceptron_precision_score: 0.987139855110248\n",
            "perceptron_recall_score: 0.9852165435139574\n",
            "perceptron_f1_score: 0.9859103789515758\n"
          ]
        }
      ]
    },
    {
      "cell_type": "code",
      "execution_count": null,
      "metadata": {
        "deletable": false,
        "editable": false,
        "nbgrader": {
          "cell_type": "code",
          "checksum": "1453b102ac589dbb8436b9d2455c38f9",
          "grade": true,
          "grade_id": "cell-5c7e2d0107a66ae3",
          "locked": true,
          "points": 1,
          "schema_version": 3,
          "solution": false,
          "task": false
        },
        "id": "844j4Qmim5SY"
      },
      "outputs": [],
      "source": [
        "assert softmax_accuracy_score > 0.95\n",
        "assert softmax_precision_score > 0.95\n",
        "assert softmax_recall_score > 0.95\n",
        "assert softmax_f1_score > 0.95\n",
        "\n",
        "assert ovr_accuracy_score > 0.95\n",
        "assert ovr_precision_score > 0.95\n",
        "assert ovr_recall_score > 0.95\n",
        "assert ovr_f1_score > 0.95"
      ]
    },
    {
      "cell_type": "markdown",
      "source": [
        "# Поздравляем!\n",
        "В этом домашнем задании вы вручную реализовали алгоритм логистической регрессии с помощью градиентного спуска. Вы углубили навыки пользования библиотекой `sklearn` для обучения моделей, создания синтетических данных и вычисления метрик оценки качества моделей."
      ],
      "metadata": {
        "id": "qWhZ7PdRaNAU"
      }
    }
  ]
}