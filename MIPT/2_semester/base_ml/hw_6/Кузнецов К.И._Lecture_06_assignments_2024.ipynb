{
  "cells": [
    {
      "cell_type": "markdown",
      "metadata": {
        "id": "VoYCj0Iw6K-a"
      },
      "source": [
        "# **Важно!**\n",
        "\n",
        "Домашнее задание состоит из нескольких задач, которые вам нужно решить.\n",
        "*   Баллы выставляются по принципу выполнено/невыполнено.\n",
        "*   За каждую выполненую задачу вы получаете баллы (количество баллов за задание указано в скобках).\n",
        "\n",
        "**Инструкция:** выполните задания в этом же ноутбуке (места под решения **каждой** задачи обозначаются как **#НАЧАЛО ВАШЕГО РЕШЕНИЯ** и **#КОНЕЦ ВАШЕГО РЕШЕНИЯ**).\n",
        "\n",
        "**Как отправить задание на проверку:** вам необходимо сохранить решение в данном блокноте и отправить итоговый **файл .IPYNB** на учебной платформе в **стандартную форму сдачи домашнего задания.**\n",
        "\n",
        "**Сроки проверки:** преподаватель проверит домашнее задание в течение недели после дедлайна и даст вам обратную связь.\n",
        "\n",
        "# **Перед выполнением задания**\n",
        "\n",
        "1. **Перезапустите ядро (restart the kernel):** в меню выбрать **Ядро (Kernel)**\n",
        "→ **Перезапустить (Restart).**\n",
        "2. **Выполните** **все ячейки (run all cells)**: в меню выбрать **Ячейка (Cell)**\n",
        "→ **Запустить все (Run All)**.\n",
        "\n",
        "После ячеек с заданием следуют ячейки с проверкой **с помощью assert**: если в коде есть ошибки, assert выведет уведомление об ошибке; если в коде нет ошибок, assert отработает без вывода дополнительной информации."
      ]
    },
    {
      "cell_type": "markdown",
      "metadata": {
        "id": "uirot6Ld6K-e"
      },
      "source": [
        "---"
      ]
    },
    {
      "cell_type": "markdown",
      "metadata": {
        "id": "gFd8mUkX6K-f"
      },
      "source": [
        "# Домашнее задание 6. Бустинг. XGBoost, CatBoost. Оптимизация гиперпараметров. Grid Search, Hyperopt\n",
        "\n",
        "**Цели:**\n",
        "*   Применить на практике такие методы, как XGBoost и CatBoost.\n",
        "*   Оптимизировать гиперпараметры простым перебором (Grid Search).\n",
        "*   Оптимизировать гиперпараметры с помощью пакета Hyperopt.\n",
        "\n",
        "# Условия домашней работы"
      ]
    },
    {
      "cell_type": "markdown",
      "metadata": {
        "deletable": false,
        "editable": false,
        "id": "roxqknnu6K-g",
        "nbgrader": {
          "cell_type": "markdown",
          "checksum": "5eeebbb159978ef4546d129554b6421b",
          "grade": false,
          "grade_id": "cell-a12a1cf31bd86de8",
          "locked": true,
          "schema_version": 3,
          "solution": false,
          "task": false
        }
      },
      "source": [
        "## Часть 1. XGBoost и Grid Search"
      ]
    },
    {
      "cell_type": "markdown",
      "metadata": {
        "deletable": false,
        "editable": false,
        "id": "6FiCXbb36K-g",
        "nbgrader": {
          "cell_type": "markdown",
          "checksum": "aa08b3c81fb959f5ab1eda631a1ac94a",
          "grade": false,
          "grade_id": "cell-ad0908409300e6db",
          "locked": true,
          "schema_version": 3,
          "solution": false,
          "task": false
        }
      },
      "source": [
        "**XGBoost (eXtreme Gradient Boosting)** — это оптимизированная реализация алгоритма градиентного бустинга над решающими деревьями. Он является одним из наиболее популярных и эффективных алгоритмов машинного обучения, широко применяемым для задач классификации и регрессии.\n",
        "\n",
        "XGBoost использует ансамбль деревьев решений, которые обучаются последовательно, каждое следующее дерево исправляет ошибки предыдущих. Основная идея заключается в том, чтобы строить деревья, которые учитывают остатки (разницу между предсказанными и фактическими значениями) предыдущих деревьев. Это позволяет модели постепенно улучшать свою способность к прогнозированию и достигать лучшей обобщающей способности.\n",
        "\n",
        "XGBoost предоставляет множество параметров, которые можно настраивать для достижения оптимальной производительности и обобщающей способности модели. Он обладает высокой скоростью обучения и предсказания, хорошей обработкой категориальных признаков, встроенной обработкой пропущенных значений и возможностью регуляризации для снижения переобучения.\n",
        "\n",
        "Установка XGBoost:\n",
        "`pip install xgboost`"
      ]
    },
    {
      "cell_type": "markdown",
      "metadata": {
        "deletable": false,
        "editable": false,
        "id": "L3AVJvi56K-g",
        "nbgrader": {
          "cell_type": "markdown",
          "checksum": "60dfb064ac0a254746580892ec69959e",
          "grade": false,
          "grade_id": "cell-b8b3b2a84a2584c1",
          "locked": true,
          "schema_version": 3,
          "solution": false,
          "task": false
        }
      },
      "source": [
        "Для обработки датасета в XGBoost требуется выполнить следующие преобразования:\n",
        "\n",
        "1. Разделите данные на признаки (X) и целевую переменную (y). Признаки должны быть представлены в виде двумерного массива (например, в виде списка списков или в формате pandas DataFrame), а целевая переменная — в виде одномерного массива или списка.\n",
        "\n",
        "2. Преобразуйте категориальные признаки в числовой формат. XGBoost не может обрабатывать категориальные данные напрямую, поэтому необходимо выполнить кодирование категориальных признаков. Вы можете использовать методы, такие как One-Hot Encoding или Label Encoding, чтобы преобразовать категориальные значения в числовые.\n",
        "\n",
        "   - One-Hot Encoding — создает дополнительные бинарные признаки для каждой категории и присваивает им значение 0 или 1, в зависимости от принадлежности исходного значения к соответствующей категории. Многие библиотеки, включая pandas и scikit-learn, предоставляют инструменты для выполнения One-Hot Encoding.\n",
        "   \n",
        "   - Label Encoding — присваивает каждой уникальной категории целочисленное значение. Например, «красный» может быть закодирован как 0, «синий» — как 1 и т. д. В библиотеке scikit-learn есть класс LabelEncoder, который можно использовать для выполнения Label Encoding."
      ]
    },
    {
      "cell_type": "markdown",
      "metadata": {
        "deletable": false,
        "editable": false,
        "id": "w01C3NFo6K-h",
        "nbgrader": {
          "cell_type": "markdown",
          "checksum": "e98bd45b81668434b6d95e53f3174d2b",
          "grade": false,
          "grade_id": "cell-52f791cf220cd891",
          "locked": true,
          "schema_version": 3,
          "solution": false,
          "task": false
        }
      },
      "source": [
        "**GridSearchCV** — это инструмент в библиотеке scikit-learn, который предоставляет функциональность для систематического поиска наилучших гиперпараметров модели машинного обучения. Гиперпараметры являются настройками модели, которые не могут быть обучены в процессе обучения, а должны быть заданы до начала обучения. Примерами гиперпараметров могут быть глубина дерева в решающем дереве, скорость обучения в алгоритмах градиентного спуска и степень регуляризации в линейных моделях.\n",
        "\n",
        "GridSearchCV позволяет определить набор возможных значений гиперпараметров, которые вы хотите проверить, и автоматически перебирает все возможные комбинации этих значений, обучая и оценивая модель на каждой комбинации. Затем он возвращает модель с наилучшими найденными значениями гиперпараметров.\n",
        "\n",
        "В процессе использования GridSearchCV вам необходимо предоставить следующие элементы:\n",
        "* Модель машинного обучения, которую вы хотите настроить с помощью поиска по сетке гиперпараметров.\n",
        "* Словарь или список возможных значений для каждого гиперпараметра, которые вы хотите проверить.\n",
        "* Метод оценки, который будет использоваться для сравнения различных комбинаций гиперпараметров. Например, это может быть точность (Accuracy) или площадь под ROC-кривой (AUC-ROC).\n",
        "\n",
        "GridSearchCV автоматически перебирает все возможные комбинации гиперпараметров, выполняет обучение и оценку модели на каждой комбинации с использованием выбранного метода оценки. Затем он возвращает наилучшую модель с оптимальными значениями гиперпараметров, которые были найдены в результате перебора. Эта модель может быть использована для предсказания на новых данных."
      ]
    },
    {
      "cell_type": "code",
      "execution_count": 2,
      "metadata": {
        "deletable": false,
        "editable": false,
        "id": "aoLu_H7l6K-i",
        "nbgrader": {
          "cell_type": "code",
          "checksum": "286973b4d46106b87c9bfab48ce18c5d",
          "grade": false,
          "grade_id": "cell-c37a4ea3f59325d2",
          "locked": true,
          "schema_version": 3,
          "solution": false,
          "task": false
        }
      },
      "outputs": [],
      "source": [
        "# Импорт необходимых библиотек\n",
        "from sklearn.preprocessing import LabelEncoder\n",
        "from sklearn.model_selection import train_test_split, GridSearchCV\n",
        "from sklearn.metrics import accuracy_score\n",
        "import xgboost as xgb\n",
        "import pandas as pd\n",
        "import numpy as np"
      ]
    },
    {
      "cell_type": "code",
      "execution_count": 3,
      "metadata": {
        "deletable": false,
        "editable": false,
        "id": "UrzE5uuJ6K-j",
        "nbgrader": {
          "cell_type": "code",
          "checksum": "aee87f7373f5c9fa60351d3ffcaacb4b",
          "grade": false,
          "grade_id": "cell-657d8c0348911152",
          "locked": true,
          "schema_version": 3,
          "solution": false,
          "task": false
        }
      },
      "outputs": [],
      "source": [
        "data = pd.read_csv(\"Telco-Customer-Churn.csv\", sep=',')"
      ]
    },
    {
      "cell_type": "code",
      "execution_count": 4,
      "metadata": {
        "id": "KB3e39HfNgwj"
      },
      "outputs": [],
      "source": [
        "X = data.drop(['customerID', 'Churn'], axis=1)\n",
        "y = data['Churn']\n",
        "# Целевая переменная для модели XGBoost должна быть представлена целым числом.\n",
        "y = data['Churn'].apply(lambda x: 1 if x == \"Yes\" else 0)"
      ]
    },
    {
      "cell_type": "markdown",
      "metadata": {
        "deletable": false,
        "editable": false,
        "id": "SJDNaXuc6K-k",
        "nbgrader": {
          "cell_type": "markdown",
          "checksum": "34a9e3b26a5f61b6d9314d548a7e6c86",
          "grade": false,
          "grade_id": "cell-21fa7c1c730147f2",
          "locked": true,
          "schema_version": 3,
          "solution": false,
          "task": false
        }
      },
      "source": [
        "**Задание 1 (2 балла)**\n",
        "\n",
        "1. Выполните для столбца TotalCharges преобразование к вещественному типу.\n",
        "\n",
        "    Пример\n",
        "    df[\"column_name\"] = pd.to_numeric(X[\"column_name\"], errors=\"coerce\")\n",
        "\n",
        "2. Создайте пустой список categorical_columns\n",
        "\n",
        "3. Создайте цикл для прохода по каждому столбцу в DataFrame X:\n",
        "    если количество уникальных элементов в столбце меньше 5:\n",
        "        добавить имя столбца в categorical_columns.\n",
        "\n",
        "    Пример:    \n",
        "    for column in df.columns:\n",
        "        if len(df[column].unique()) < 10:\n",
        "            list_to_add.append(column)  \n",
        "\n",
        "4. Создайте экземпляр класса LabelEncoder, сохраните его в label_encoder.\n",
        "\n",
        "    Пример:\n",
        "    encoder = LabelEncoder()\n",
        "\n",
        "5. Примените LabelEncoder к каждому категориальному признаку.\n",
        "\n",
        "    Пример:\n",
        "    for column in categorical_columns:\n",
        "        # Замена значений в столбце X[column] на их числовое представление:\n",
        "        df[column] = label_encoder.fit_transform(df[column])"
      ]
    },
    {
      "cell_type": "code",
      "execution_count": null,
      "metadata": {
        "deletable": false,
        "id": "SsvJs7Qz6K-l",
        "nbgrader": {
          "cell_type": "code",
          "checksum": "84b192aa0f404ec24ff7554e8caad5e9",
          "grade": false,
          "grade_id": "cell-c93c03a36b18e7a1",
          "locked": false,
          "schema_version": 3,
          "solution": true,
          "task": false
        }
      },
      "outputs": [],
      "source": [
        "# НАЧАЛО ВАШЕГО РЕШЕНИЯ\n",
        "# КОНЕЦ ВАШЕГО РЕШЕНИЯ"
      ]
    },
    {
      "cell_type": "code",
      "execution_count": null,
      "metadata": {
        "deletable": false,
        "editable": false,
        "id": "-5mrQxjw6K-l",
        "nbgrader": {
          "cell_type": "code",
          "checksum": "e53d930a5dca0323421e462cae7b3f03",
          "grade": true,
          "grade_id": "cell-67896dd84ccce32c",
          "locked": true,
          "points": 2,
          "schema_version": 3,
          "solution": false,
          "task": false
        }
      },
      "outputs": [],
      "source": [
        "assert X[\"TotalCharges\"].dtype == float\n",
        "assert len(categorical_columns) == 16\n",
        "\n",
        "print(\"Проверки пройдены!!!\")"
      ]
    },
    {
      "cell_type": "markdown",
      "metadata": {
        "deletable": false,
        "editable": false,
        "id": "-rmyU9T26K-l",
        "nbgrader": {
          "cell_type": "markdown",
          "checksum": "5a10038523e79d76637473d22d8b6397",
          "grade": false,
          "grade_id": "cell-16f0d528ce473167",
          "locked": true,
          "schema_version": 3,
          "solution": false,
          "task": false
        }
      },
      "source": [
        "**Задание 2 (1 балл)**\n",
        "\n",
        "Разбейте датасет X и метки y, сохранив результат в X_train, X_test, y_train, y_test\n",
        "    с помощью train_test_split. Параметры train_test_split: X, y, test_size=0.2, random_state=42."
      ]
    },
    {
      "cell_type": "code",
      "execution_count": null,
      "metadata": {
        "deletable": false,
        "id": "wVk8b4RS6K-l",
        "nbgrader": {
          "cell_type": "code",
          "checksum": "008d93aa858ec322aef124c22ab83873",
          "grade": false,
          "grade_id": "cell-fb424e10a55c73b7",
          "locked": false,
          "schema_version": 3,
          "solution": true,
          "task": false
        }
      },
      "outputs": [],
      "source": [
        "# НАЧАЛО ВАШЕГО РЕШЕНИЯ\n",
        "# КОНЕЦ ВАШЕГО РЕШЕНИЯ"
      ]
    },
    {
      "cell_type": "code",
      "execution_count": null,
      "metadata": {
        "deletable": false,
        "editable": false,
        "id": "JNmsEzC06K-l",
        "nbgrader": {
          "cell_type": "code",
          "checksum": "2436217b776be769767a26d92b2bd4f2",
          "grade": true,
          "grade_id": "cell-305e029df98ef617",
          "locked": true,
          "points": 1,
          "schema_version": 3,
          "solution": false,
          "task": false
        }
      },
      "outputs": [],
      "source": [
        "assert len(X_train) == len(y_train) == 5634\n",
        "print(\"Проверки пройдены!!!\")"
      ]
    },
    {
      "cell_type": "markdown",
      "metadata": {
        "deletable": false,
        "editable": false,
        "id": "3vr6efAq6K-m",
        "nbgrader": {
          "cell_type": "markdown",
          "checksum": "2c4d9019500698c34a3f9a07f8232fb2",
          "grade": false,
          "grade_id": "cell-fa025119dad36c36",
          "locked": true,
          "schema_version": 3,
          "solution": false,
          "task": false
        }
      },
      "source": [
        "**Задание 3 (1 балл)**\n",
        "\n",
        "Инициализируйте экземпляр класса XGBClassifier без параметров и сохраните\n",
        "его в переменную `xgb_classifier`."
      ]
    },
    {
      "cell_type": "code",
      "execution_count": null,
      "metadata": {
        "deletable": false,
        "id": "3hm6NSdA6K-m",
        "nbgrader": {
          "cell_type": "code",
          "checksum": "8a462a6a6d61482668b870eca5154423",
          "grade": false,
          "grade_id": "cell-fcf2e11d7fcf7326",
          "locked": false,
          "schema_version": 3,
          "solution": true,
          "task": false
        }
      },
      "outputs": [],
      "source": [
        "# НАЧАЛО ВАШЕГО РЕШЕНИЯ\n",
        "# КОНЕЦ ВАШЕГО РЕШЕНИЯ"
      ]
    },
    {
      "cell_type": "code",
      "execution_count": null,
      "metadata": {
        "deletable": false,
        "editable": false,
        "id": "UvHUDyI76K-m",
        "nbgrader": {
          "cell_type": "code",
          "checksum": "a7fc642d8693e6c2633e18a9e2e3fbe9",
          "grade": true,
          "grade_id": "cell-5071f27eb1747157",
          "locked": true,
          "points": 1,
          "schema_version": 3,
          "solution": false,
          "task": false
        }
      },
      "outputs": [],
      "source": [
        "assert type(xgb_classifier) == xgb.XGBClassifier\n",
        "print(\"Проверки пройдены!!!\")"
      ]
    },
    {
      "cell_type": "markdown",
      "metadata": {
        "deletable": false,
        "editable": false,
        "id": "_lAEo7uX6K-m",
        "nbgrader": {
          "cell_type": "markdown",
          "checksum": "255a2ac84a3cb77ca490d825415cc32b",
          "grade": false,
          "grade_id": "cell-6da3708cb74cc2ec",
          "locked": true,
          "schema_version": 3,
          "solution": false,
          "task": false
        }
      },
      "source": [
        "**Задание 4 (1 балл)**\n",
        "\n",
        "Определение сетки параметров для перебора.\n",
        "Создайте словарь parameters со следующими парами ключ-значение:\n",
        "max_depth - [3, 5, 7]\n",
        "learning_rate - [0.1, 0.01, 0.001]\n",
        "n_estimators - [30, 50, 100]\n",
        "\n",
        "Пример:\n",
        "params = {\n",
        "    'key1': [1,2,3],\n",
        "    'key2': [1,2,3],\n",
        "    'key3': [1,2,3]\n",
        "}"
      ]
    },
    {
      "cell_type": "code",
      "execution_count": null,
      "metadata": {
        "deletable": false,
        "id": "pqDj_UDU6K-m",
        "nbgrader": {
          "cell_type": "code",
          "checksum": "50d399f54296fc70d6db1f556efb22ff",
          "grade": false,
          "grade_id": "cell-23246e1e99a69175",
          "locked": false,
          "schema_version": 3,
          "solution": true,
          "task": false
        }
      },
      "outputs": [],
      "source": [
        "# НАЧАЛО ВАШЕГО РЕШЕНИЯ\n",
        "# КОНЕЦ ВАШЕГО РЕШЕНИЯ"
      ]
    },
    {
      "cell_type": "code",
      "execution_count": null,
      "metadata": {
        "deletable": false,
        "editable": false,
        "id": "WbV6okNF6K-m",
        "nbgrader": {
          "cell_type": "code",
          "checksum": "1bc157327b14f567f75046ff14bf4fb8",
          "grade": true,
          "grade_id": "cell-54081ac097d6ac1a",
          "locked": true,
          "points": 1,
          "schema_version": 3,
          "solution": false,
          "task": false
        }
      },
      "outputs": [],
      "source": [
        "assert type(parameters) == dict\n",
        "assert sorted(parameters['max_depth']) == [3, 5, 7]\n",
        "assert sorted(parameters['learning_rate']) == [0.001, 0.01, 0.1]\n",
        "assert sorted(parameters['n_estimators']) == [30, 50, 100]\n",
        "print(\"Проверки пройдены!!!\")"
      ]
    },
    {
      "cell_type": "markdown",
      "metadata": {
        "deletable": false,
        "editable": false,
        "id": "ZSLtwe1h6K-m",
        "nbgrader": {
          "cell_type": "markdown",
          "checksum": "86b245ee97f540fabb0b35bf54a0c633",
          "grade": false,
          "grade_id": "cell-e8905136173b124b",
          "locked": true,
          "schema_version": 3,
          "solution": false,
          "task": false
        }
      },
      "source": [
        "**Задание 5 (1 балл)**\n",
        "\n",
        "Создайте экземпляр класса GridSearchCV, передав в него ряд параметров:\n",
        "estimator=xgb_classifier,\n",
        "param_grid=parameters,\n",
        "scoring='accuracy',\n",
        "cv=5.\n",
        "\n",
        "Сохраните в переменную grid_search.\n",
        "\n",
        "Пример:\n",
        "grid_search = GridSearchCV(par1=val1, par2=val2)"
      ]
    },
    {
      "cell_type": "code",
      "execution_count": null,
      "metadata": {
        "deletable": false,
        "id": "524QDOLb6K-n",
        "nbgrader": {
          "cell_type": "code",
          "checksum": "9167753f2d1acccf1a97a4bb2c952a35",
          "grade": false,
          "grade_id": "cell-7582baae7cd33e40",
          "locked": false,
          "schema_version": 3,
          "solution": true,
          "task": false
        }
      },
      "outputs": [],
      "source": [
        "# НАЧАЛО ВАШЕГО РЕШЕНИЯ\n",
        "\n",
        "# КОНЕЦ ВАШЕГО РЕШЕНИЯ"
      ]
    },
    {
      "cell_type": "code",
      "execution_count": null,
      "metadata": {
        "deletable": false,
        "editable": false,
        "id": "a_JRPKG36K-n",
        "nbgrader": {
          "cell_type": "code",
          "checksum": "3e86484d6794ab6b1b7fbb263ab1537f",
          "grade": true,
          "grade_id": "cell-f36f8a554fc343cf",
          "locked": true,
          "points": 1,
          "schema_version": 3,
          "solution": false,
          "task": false
        }
      },
      "outputs": [],
      "source": [
        "assert type(grid_search) == GridSearchCV\n",
        "assert grid_search.__dict__['scoring'] == 'accuracy'\n",
        "assert grid_search.__dict__['cv'] == 5\n",
        "print(\"Проверки пройдены!!!\")"
      ]
    },
    {
      "cell_type": "code",
      "execution_count": null,
      "metadata": {
        "colab": {
          "base_uri": "https://localhost:8080/",
          "height": 136
        },
        "deletable": false,
        "editable": false,
        "id": "QRaee_W96K-n",
        "nbgrader": {
          "cell_type": "code",
          "checksum": "31b36d71df229a48f78ff1e660d1a459",
          "grade": false,
          "grade_id": "cell-fe149fdc7ba0ca1f",
          "locked": true,
          "schema_version": 3,
          "solution": false,
          "task": false
        },
        "outputId": "a2bf684a-e92f-489c-a97c-af9a13e6a491"
      },
      "outputs": [
        {
          "data": {
            "text/html": [
              "<style>#sk-container-id-1 {\n",
              "  /* Definition of color scheme common for light and dark mode */\n",
              "  --sklearn-color-text: black;\n",
              "  --sklearn-color-line: gray;\n",
              "  /* Definition of color scheme for unfitted estimators */\n",
              "  --sklearn-color-unfitted-level-0: #fff5e6;\n",
              "  --sklearn-color-unfitted-level-1: #f6e4d2;\n",
              "  --sklearn-color-unfitted-level-2: #ffe0b3;\n",
              "  --sklearn-color-unfitted-level-3: chocolate;\n",
              "  /* Definition of color scheme for fitted estimators */\n",
              "  --sklearn-color-fitted-level-0: #f0f8ff;\n",
              "  --sklearn-color-fitted-level-1: #d4ebff;\n",
              "  --sklearn-color-fitted-level-2: #b3dbfd;\n",
              "  --sklearn-color-fitted-level-3: cornflowerblue;\n",
              "\n",
              "  /* Specific color for light theme */\n",
              "  --sklearn-color-text-on-default-background: var(--sg-text-color, var(--theme-code-foreground, var(--jp-content-font-color1, black)));\n",
              "  --sklearn-color-background: var(--sg-background-color, var(--theme-background, var(--jp-layout-color0, white)));\n",
              "  --sklearn-color-border-box: var(--sg-text-color, var(--theme-code-foreground, var(--jp-content-font-color1, black)));\n",
              "  --sklearn-color-icon: #696969;\n",
              "\n",
              "  @media (prefers-color-scheme: dark) {\n",
              "    /* Redefinition of color scheme for dark theme */\n",
              "    --sklearn-color-text-on-default-background: var(--sg-text-color, var(--theme-code-foreground, var(--jp-content-font-color1, white)));\n",
              "    --sklearn-color-background: var(--sg-background-color, var(--theme-background, var(--jp-layout-color0, #111)));\n",
              "    --sklearn-color-border-box: var(--sg-text-color, var(--theme-code-foreground, var(--jp-content-font-color1, white)));\n",
              "    --sklearn-color-icon: #878787;\n",
              "  }\n",
              "}\n",
              "\n",
              "#sk-container-id-1 {\n",
              "  color: var(--sklearn-color-text);\n",
              "}\n",
              "\n",
              "#sk-container-id-1 pre {\n",
              "  padding: 0;\n",
              "}\n",
              "\n",
              "#sk-container-id-1 input.sk-hidden--visually {\n",
              "  border: 0;\n",
              "  clip: rect(1px 1px 1px 1px);\n",
              "  clip: rect(1px, 1px, 1px, 1px);\n",
              "  height: 1px;\n",
              "  margin: -1px;\n",
              "  overflow: hidden;\n",
              "  padding: 0;\n",
              "  position: absolute;\n",
              "  width: 1px;\n",
              "}\n",
              "\n",
              "#sk-container-id-1 div.sk-dashed-wrapped {\n",
              "  border: 1px dashed var(--sklearn-color-line);\n",
              "  margin: 0 0.4em 0.5em 0.4em;\n",
              "  box-sizing: border-box;\n",
              "  padding-bottom: 0.4em;\n",
              "  background-color: var(--sklearn-color-background);\n",
              "}\n",
              "\n",
              "#sk-container-id-1 div.sk-container {\n",
              "  /* jupyter's `normalize.less` sets `[hidden] { display: none; }`\n",
              "     but bootstrap.min.css set `[hidden] { display: none !important; }`\n",
              "     so we also need the `!important` here to be able to override the\n",
              "     default hidden behavior on the sphinx rendered scikit-learn.org.\n",
              "     See: https://github.com/scikit-learn/scikit-learn/issues/21755 */\n",
              "  display: inline-block !important;\n",
              "  position: relative;\n",
              "}\n",
              "\n",
              "#sk-container-id-1 div.sk-text-repr-fallback {\n",
              "  display: none;\n",
              "}\n",
              "\n",
              "div.sk-parallel-item,\n",
              "div.sk-serial,\n",
              "div.sk-item {\n",
              "  /* draw centered vertical line to link estimators */\n",
              "  background-image: linear-gradient(var(--sklearn-color-text-on-default-background), var(--sklearn-color-text-on-default-background));\n",
              "  background-size: 2px 100%;\n",
              "  background-repeat: no-repeat;\n",
              "  background-position: center center;\n",
              "}\n",
              "\n",
              "/* Parallel-specific style estimator block */\n",
              "\n",
              "#sk-container-id-1 div.sk-parallel-item::after {\n",
              "  content: \"\";\n",
              "  width: 100%;\n",
              "  border-bottom: 2px solid var(--sklearn-color-text-on-default-background);\n",
              "  flex-grow: 1;\n",
              "}\n",
              "\n",
              "#sk-container-id-1 div.sk-parallel {\n",
              "  display: flex;\n",
              "  align-items: stretch;\n",
              "  justify-content: center;\n",
              "  background-color: var(--sklearn-color-background);\n",
              "  position: relative;\n",
              "}\n",
              "\n",
              "#sk-container-id-1 div.sk-parallel-item {\n",
              "  display: flex;\n",
              "  flex-direction: column;\n",
              "}\n",
              "\n",
              "#sk-container-id-1 div.sk-parallel-item:first-child::after {\n",
              "  align-self: flex-end;\n",
              "  width: 50%;\n",
              "}\n",
              "\n",
              "#sk-container-id-1 div.sk-parallel-item:last-child::after {\n",
              "  align-self: flex-start;\n",
              "  width: 50%;\n",
              "}\n",
              "\n",
              "#sk-container-id-1 div.sk-parallel-item:only-child::after {\n",
              "  width: 0;\n",
              "}\n",
              "\n",
              "/* Serial-specific style estimator block */\n",
              "\n",
              "#sk-container-id-1 div.sk-serial {\n",
              "  display: flex;\n",
              "  flex-direction: column;\n",
              "  align-items: center;\n",
              "  background-color: var(--sklearn-color-background);\n",
              "  padding-right: 1em;\n",
              "  padding-left: 1em;\n",
              "}\n",
              "\n",
              "\n",
              "/* Toggleable style: style used for estimator/Pipeline/ColumnTransformer box that is\n",
              "clickable and can be expanded/collapsed.\n",
              "- Pipeline and ColumnTransformer use this feature and define the default style\n",
              "- Estimators will overwrite some part of the style using the `sk-estimator` class\n",
              "*/\n",
              "\n",
              "/* Pipeline and ColumnTransformer style (default) */\n",
              "\n",
              "#sk-container-id-1 div.sk-toggleable {\n",
              "  /* Default theme specific background. It is overwritten whether we have a\n",
              "  specific estimator or a Pipeline/ColumnTransformer */\n",
              "  background-color: var(--sklearn-color-background);\n",
              "}\n",
              "\n",
              "/* Toggleable label */\n",
              "#sk-container-id-1 label.sk-toggleable__label {\n",
              "  cursor: pointer;\n",
              "  display: block;\n",
              "  width: 100%;\n",
              "  margin-bottom: 0;\n",
              "  padding: 0.5em;\n",
              "  box-sizing: border-box;\n",
              "  text-align: center;\n",
              "}\n",
              "\n",
              "#sk-container-id-1 label.sk-toggleable__label-arrow:before {\n",
              "  /* Arrow on the left of the label */\n",
              "  content: \"▸\";\n",
              "  float: left;\n",
              "  margin-right: 0.25em;\n",
              "  color: var(--sklearn-color-icon);\n",
              "}\n",
              "\n",
              "#sk-container-id-1 label.sk-toggleable__label-arrow:hover:before {\n",
              "  color: var(--sklearn-color-text);\n",
              "}\n",
              "\n",
              "/* Toggleable content - dropdown */\n",
              "\n",
              "#sk-container-id-1 div.sk-toggleable__content {\n",
              "  max-height: 0;\n",
              "  max-width: 0;\n",
              "  overflow: hidden;\n",
              "  text-align: left;\n",
              "  /* unfitted */\n",
              "  background-color: var(--sklearn-color-unfitted-level-0);\n",
              "}\n",
              "\n",
              "#sk-container-id-1 div.sk-toggleable__content.fitted {\n",
              "  /* fitted */\n",
              "  background-color: var(--sklearn-color-fitted-level-0);\n",
              "}\n",
              "\n",
              "#sk-container-id-1 div.sk-toggleable__content pre {\n",
              "  margin: 0.2em;\n",
              "  border-radius: 0.25em;\n",
              "  color: var(--sklearn-color-text);\n",
              "  /* unfitted */\n",
              "  background-color: var(--sklearn-color-unfitted-level-0);\n",
              "}\n",
              "\n",
              "#sk-container-id-1 div.sk-toggleable__content.fitted pre {\n",
              "  /* unfitted */\n",
              "  background-color: var(--sklearn-color-fitted-level-0);\n",
              "}\n",
              "\n",
              "#sk-container-id-1 input.sk-toggleable__control:checked~div.sk-toggleable__content {\n",
              "  /* Expand drop-down */\n",
              "  max-height: 200px;\n",
              "  max-width: 100%;\n",
              "  overflow: auto;\n",
              "}\n",
              "\n",
              "#sk-container-id-1 input.sk-toggleable__control:checked~label.sk-toggleable__label-arrow:before {\n",
              "  content: \"▾\";\n",
              "}\n",
              "\n",
              "/* Pipeline/ColumnTransformer-specific style */\n",
              "\n",
              "#sk-container-id-1 div.sk-label input.sk-toggleable__control:checked~label.sk-toggleable__label {\n",
              "  color: var(--sklearn-color-text);\n",
              "  background-color: var(--sklearn-color-unfitted-level-2);\n",
              "}\n",
              "\n",
              "#sk-container-id-1 div.sk-label.fitted input.sk-toggleable__control:checked~label.sk-toggleable__label {\n",
              "  background-color: var(--sklearn-color-fitted-level-2);\n",
              "}\n",
              "\n",
              "/* Estimator-specific style */\n",
              "\n",
              "/* Colorize estimator box */\n",
              "#sk-container-id-1 div.sk-estimator input.sk-toggleable__control:checked~label.sk-toggleable__label {\n",
              "  /* unfitted */\n",
              "  background-color: var(--sklearn-color-unfitted-level-2);\n",
              "}\n",
              "\n",
              "#sk-container-id-1 div.sk-estimator.fitted input.sk-toggleable__control:checked~label.sk-toggleable__label {\n",
              "  /* fitted */\n",
              "  background-color: var(--sklearn-color-fitted-level-2);\n",
              "}\n",
              "\n",
              "#sk-container-id-1 div.sk-label label.sk-toggleable__label,\n",
              "#sk-container-id-1 div.sk-label label {\n",
              "  /* The background is the default theme color */\n",
              "  color: var(--sklearn-color-text-on-default-background);\n",
              "}\n",
              "\n",
              "/* On hover, darken the color of the background */\n",
              "#sk-container-id-1 div.sk-label:hover label.sk-toggleable__label {\n",
              "  color: var(--sklearn-color-text);\n",
              "  background-color: var(--sklearn-color-unfitted-level-2);\n",
              "}\n",
              "\n",
              "/* Label box, darken color on hover, fitted */\n",
              "#sk-container-id-1 div.sk-label.fitted:hover label.sk-toggleable__label.fitted {\n",
              "  color: var(--sklearn-color-text);\n",
              "  background-color: var(--sklearn-color-fitted-level-2);\n",
              "}\n",
              "\n",
              "/* Estimator label */\n",
              "\n",
              "#sk-container-id-1 div.sk-label label {\n",
              "  font-family: monospace;\n",
              "  font-weight: bold;\n",
              "  display: inline-block;\n",
              "  line-height: 1.2em;\n",
              "}\n",
              "\n",
              "#sk-container-id-1 div.sk-label-container {\n",
              "  text-align: center;\n",
              "}\n",
              "\n",
              "/* Estimator-specific */\n",
              "#sk-container-id-1 div.sk-estimator {\n",
              "  font-family: monospace;\n",
              "  border: 1px dotted var(--sklearn-color-border-box);\n",
              "  border-radius: 0.25em;\n",
              "  box-sizing: border-box;\n",
              "  margin-bottom: 0.5em;\n",
              "  /* unfitted */\n",
              "  background-color: var(--sklearn-color-unfitted-level-0);\n",
              "}\n",
              "\n",
              "#sk-container-id-1 div.sk-estimator.fitted {\n",
              "  /* fitted */\n",
              "  background-color: var(--sklearn-color-fitted-level-0);\n",
              "}\n",
              "\n",
              "/* on hover */\n",
              "#sk-container-id-1 div.sk-estimator:hover {\n",
              "  /* unfitted */\n",
              "  background-color: var(--sklearn-color-unfitted-level-2);\n",
              "}\n",
              "\n",
              "#sk-container-id-1 div.sk-estimator.fitted:hover {\n",
              "  /* fitted */\n",
              "  background-color: var(--sklearn-color-fitted-level-2);\n",
              "}\n",
              "\n",
              "/* Specification for estimator info (e.g. \"i\" and \"?\") */\n",
              "\n",
              "/* Common style for \"i\" and \"?\" */\n",
              "\n",
              ".sk-estimator-doc-link,\n",
              "a:link.sk-estimator-doc-link,\n",
              "a:visited.sk-estimator-doc-link {\n",
              "  float: right;\n",
              "  font-size: smaller;\n",
              "  line-height: 1em;\n",
              "  font-family: monospace;\n",
              "  background-color: var(--sklearn-color-background);\n",
              "  border-radius: 1em;\n",
              "  height: 1em;\n",
              "  width: 1em;\n",
              "  text-decoration: none !important;\n",
              "  margin-left: 1ex;\n",
              "  /* unfitted */\n",
              "  border: var(--sklearn-color-unfitted-level-1) 1pt solid;\n",
              "  color: var(--sklearn-color-unfitted-level-1);\n",
              "}\n",
              "\n",
              ".sk-estimator-doc-link.fitted,\n",
              "a:link.sk-estimator-doc-link.fitted,\n",
              "a:visited.sk-estimator-doc-link.fitted {\n",
              "  /* fitted */\n",
              "  border: var(--sklearn-color-fitted-level-1) 1pt solid;\n",
              "  color: var(--sklearn-color-fitted-level-1);\n",
              "}\n",
              "\n",
              "/* On hover */\n",
              "div.sk-estimator:hover .sk-estimator-doc-link:hover,\n",
              ".sk-estimator-doc-link:hover,\n",
              "div.sk-label-container:hover .sk-estimator-doc-link:hover,\n",
              ".sk-estimator-doc-link:hover {\n",
              "  /* unfitted */\n",
              "  background-color: var(--sklearn-color-unfitted-level-3);\n",
              "  color: var(--sklearn-color-background);\n",
              "  text-decoration: none;\n",
              "}\n",
              "\n",
              "div.sk-estimator.fitted:hover .sk-estimator-doc-link.fitted:hover,\n",
              ".sk-estimator-doc-link.fitted:hover,\n",
              "div.sk-label-container:hover .sk-estimator-doc-link.fitted:hover,\n",
              ".sk-estimator-doc-link.fitted:hover {\n",
              "  /* fitted */\n",
              "  background-color: var(--sklearn-color-fitted-level-3);\n",
              "  color: var(--sklearn-color-background);\n",
              "  text-decoration: none;\n",
              "}\n",
              "\n",
              "/* Span, style for the box shown on hovering the info icon */\n",
              ".sk-estimator-doc-link span {\n",
              "  display: none;\n",
              "  z-index: 9999;\n",
              "  position: relative;\n",
              "  font-weight: normal;\n",
              "  right: .2ex;\n",
              "  padding: .5ex;\n",
              "  margin: .5ex;\n",
              "  width: min-content;\n",
              "  min-width: 20ex;\n",
              "  max-width: 50ex;\n",
              "  color: var(--sklearn-color-text);\n",
              "  box-shadow: 2pt 2pt 4pt #999;\n",
              "  /* unfitted */\n",
              "  background: var(--sklearn-color-unfitted-level-0);\n",
              "  border: .5pt solid var(--sklearn-color-unfitted-level-3);\n",
              "}\n",
              "\n",
              ".sk-estimator-doc-link.fitted span {\n",
              "  /* fitted */\n",
              "  background: var(--sklearn-color-fitted-level-0);\n",
              "  border: var(--sklearn-color-fitted-level-3);\n",
              "}\n",
              "\n",
              ".sk-estimator-doc-link:hover span {\n",
              "  display: block;\n",
              "}\n",
              "\n",
              "/* \"?\"-specific style due to the `<a>` HTML tag */\n",
              "\n",
              "#sk-container-id-1 a.estimator_doc_link {\n",
              "  float: right;\n",
              "  font-size: 1rem;\n",
              "  line-height: 1em;\n",
              "  font-family: monospace;\n",
              "  background-color: var(--sklearn-color-background);\n",
              "  border-radius: 1rem;\n",
              "  height: 1rem;\n",
              "  width: 1rem;\n",
              "  text-decoration: none;\n",
              "  /* unfitted */\n",
              "  color: var(--sklearn-color-unfitted-level-1);\n",
              "  border: var(--sklearn-color-unfitted-level-1) 1pt solid;\n",
              "}\n",
              "\n",
              "#sk-container-id-1 a.estimator_doc_link.fitted {\n",
              "  /* fitted */\n",
              "  border: var(--sklearn-color-fitted-level-1) 1pt solid;\n",
              "  color: var(--sklearn-color-fitted-level-1);\n",
              "}\n",
              "\n",
              "/* On hover */\n",
              "#sk-container-id-1 a.estimator_doc_link:hover {\n",
              "  /* unfitted */\n",
              "  background-color: var(--sklearn-color-unfitted-level-3);\n",
              "  color: var(--sklearn-color-background);\n",
              "  text-decoration: none;\n",
              "}\n",
              "\n",
              "#sk-container-id-1 a.estimator_doc_link.fitted:hover {\n",
              "  /* fitted */\n",
              "  background-color: var(--sklearn-color-fitted-level-3);\n",
              "}\n",
              "</style><div id=\"sk-container-id-1\" class=\"sk-top-container\"><div class=\"sk-text-repr-fallback\"><pre>GridSearchCV(cv=5,\n",
              "             estimator=XGBClassifier(base_score=None, booster=None,\n",
              "                                     callbacks=None, colsample_bylevel=None,\n",
              "                                     colsample_bynode=None,\n",
              "                                     colsample_bytree=None, device=None,\n",
              "                                     early_stopping_rounds=None,\n",
              "                                     enable_categorical=False, eval_metric=None,\n",
              "                                     feature_types=None, gamma=None,\n",
              "                                     grow_policy=None, importance_type=None,\n",
              "                                     interaction_constraints=None,\n",
              "                                     learning_rate=None,...\n",
              "                                     max_cat_threshold=None,\n",
              "                                     max_cat_to_onehot=None,\n",
              "                                     max_delta_step=None, max_depth=None,\n",
              "                                     max_leaves=None, min_child_weight=None,\n",
              "                                     missing=nan, monotone_constraints=None,\n",
              "                                     multi_strategy=None, n_estimators=None,\n",
              "                                     n_jobs=None, num_parallel_tree=None,\n",
              "                                     random_state=None, ...),\n",
              "             param_grid={&#x27;learning_rate&#x27;: [0.1, 0.01, 0.001],\n",
              "                         &#x27;max_depth&#x27;: [3, 5, 7],\n",
              "                         &#x27;n_estimators&#x27;: [30, 50, 100]},\n",
              "             scoring=&#x27;accuracy&#x27;)</pre><b>In a Jupyter environment, please rerun this cell to show the HTML representation or trust the notebook. <br />On GitHub, the HTML representation is unable to render, please try loading this page with nbviewer.org.</b></div><div class=\"sk-container\" hidden><div class=\"sk-item sk-dashed-wrapped\"><div class=\"sk-label-container\"><div class=\"sk-label fitted sk-toggleable\"><input class=\"sk-toggleable__control sk-hidden--visually\" id=\"sk-estimator-id-1\" type=\"checkbox\" ><label for=\"sk-estimator-id-1\" class=\"sk-toggleable__label fitted sk-toggleable__label-arrow fitted\">&nbsp;&nbsp;GridSearchCV<a class=\"sk-estimator-doc-link fitted\" rel=\"noreferrer\" target=\"_blank\" href=\"https://scikit-learn.org/1.5/modules/generated/sklearn.model_selection.GridSearchCV.html\">?<span>Documentation for GridSearchCV</span></a><span class=\"sk-estimator-doc-link fitted\">i<span>Fitted</span></span></label><div class=\"sk-toggleable__content fitted\"><pre>GridSearchCV(cv=5,\n",
              "             estimator=XGBClassifier(base_score=None, booster=None,\n",
              "                                     callbacks=None, colsample_bylevel=None,\n",
              "                                     colsample_bynode=None,\n",
              "                                     colsample_bytree=None, device=None,\n",
              "                                     early_stopping_rounds=None,\n",
              "                                     enable_categorical=False, eval_metric=None,\n",
              "                                     feature_types=None, gamma=None,\n",
              "                                     grow_policy=None, importance_type=None,\n",
              "                                     interaction_constraints=None,\n",
              "                                     learning_rate=None,...\n",
              "                                     max_cat_threshold=None,\n",
              "                                     max_cat_to_onehot=None,\n",
              "                                     max_delta_step=None, max_depth=None,\n",
              "                                     max_leaves=None, min_child_weight=None,\n",
              "                                     missing=nan, monotone_constraints=None,\n",
              "                                     multi_strategy=None, n_estimators=None,\n",
              "                                     n_jobs=None, num_parallel_tree=None,\n",
              "                                     random_state=None, ...),\n",
              "             param_grid={&#x27;learning_rate&#x27;: [0.1, 0.01, 0.001],\n",
              "                         &#x27;max_depth&#x27;: [3, 5, 7],\n",
              "                         &#x27;n_estimators&#x27;: [30, 50, 100]},\n",
              "             scoring=&#x27;accuracy&#x27;)</pre></div> </div></div><div class=\"sk-parallel\"><div class=\"sk-parallel-item\"><div class=\"sk-item\"><div class=\"sk-label-container\"><div class=\"sk-label fitted sk-toggleable\"><input class=\"sk-toggleable__control sk-hidden--visually\" id=\"sk-estimator-id-2\" type=\"checkbox\" ><label for=\"sk-estimator-id-2\" class=\"sk-toggleable__label fitted sk-toggleable__label-arrow fitted\">best_estimator_: XGBClassifier</label><div class=\"sk-toggleable__content fitted\"><pre>XGBClassifier(base_score=None, booster=None, callbacks=None,\n",
              "              colsample_bylevel=None, colsample_bynode=None,\n",
              "              colsample_bytree=None, device=None, early_stopping_rounds=None,\n",
              "              enable_categorical=False, eval_metric=None, feature_types=None,\n",
              "              gamma=None, grow_policy=None, importance_type=None,\n",
              "              interaction_constraints=None, learning_rate=0.1, max_bin=None,\n",
              "              max_cat_threshold=None, max_cat_to_onehot=None,\n",
              "              max_delta_step=None, max_depth=3, max_leaves=None,\n",
              "              min_child_weight=None, missing=nan, monotone_constraints=None,\n",
              "              multi_strategy=None, n_estimators=50, n_jobs=None,\n",
              "              num_parallel_tree=None, random_state=None, ...)</pre></div> </div></div><div class=\"sk-serial\"><div class=\"sk-item\"><div class=\"sk-estimator fitted sk-toggleable\"><input class=\"sk-toggleable__control sk-hidden--visually\" id=\"sk-estimator-id-3\" type=\"checkbox\" ><label for=\"sk-estimator-id-3\" class=\"sk-toggleable__label fitted sk-toggleable__label-arrow fitted\">XGBClassifier</label><div class=\"sk-toggleable__content fitted\"><pre>XGBClassifier(base_score=None, booster=None, callbacks=None,\n",
              "              colsample_bylevel=None, colsample_bynode=None,\n",
              "              colsample_bytree=None, device=None, early_stopping_rounds=None,\n",
              "              enable_categorical=False, eval_metric=None, feature_types=None,\n",
              "              gamma=None, grow_policy=None, importance_type=None,\n",
              "              interaction_constraints=None, learning_rate=0.1, max_bin=None,\n",
              "              max_cat_threshold=None, max_cat_to_onehot=None,\n",
              "              max_delta_step=None, max_depth=3, max_leaves=None,\n",
              "              min_child_weight=None, missing=nan, monotone_constraints=None,\n",
              "              multi_strategy=None, n_estimators=50, n_jobs=None,\n",
              "              num_parallel_tree=None, random_state=None, ...)</pre></div> </div></div></div></div></div></div></div></div></div>"
            ],
            "text/plain": [
              "GridSearchCV(cv=5,\n",
              "             estimator=XGBClassifier(base_score=None, booster=None,\n",
              "                                     callbacks=None, colsample_bylevel=None,\n",
              "                                     colsample_bynode=None,\n",
              "                                     colsample_bytree=None, device=None,\n",
              "                                     early_stopping_rounds=None,\n",
              "                                     enable_categorical=False, eval_metric=None,\n",
              "                                     feature_types=None, gamma=None,\n",
              "                                     grow_policy=None, importance_type=None,\n",
              "                                     interaction_constraints=None,\n",
              "                                     learning_rate=None,...\n",
              "                                     max_cat_threshold=None,\n",
              "                                     max_cat_to_onehot=None,\n",
              "                                     max_delta_step=None, max_depth=None,\n",
              "                                     max_leaves=None, min_child_weight=None,\n",
              "                                     missing=nan, monotone_constraints=None,\n",
              "                                     multi_strategy=None, n_estimators=None,\n",
              "                                     n_jobs=None, num_parallel_tree=None,\n",
              "                                     random_state=None, ...),\n",
              "             param_grid={'learning_rate': [0.1, 0.01, 0.001],\n",
              "                         'max_depth': [3, 5, 7],\n",
              "                         'n_estimators': [30, 50, 100]},\n",
              "             scoring='accuracy')"
            ]
          },
          "execution_count": 28,
          "metadata": {},
          "output_type": "execute_result"
        }
      ],
      "source": [
        "# Обучение модели с перебором параметров\n",
        "# !!! Может выполняться несколько минут\n",
        "grid_search.fit(X_train, y_train)"
      ]
    },
    {
      "cell_type": "code",
      "execution_count": null,
      "metadata": {
        "colab": {
          "base_uri": "https://localhost:8080/"
        },
        "deletable": false,
        "editable": false,
        "id": "WPA7K1Yo6K-n",
        "nbgrader": {
          "cell_type": "code",
          "checksum": "b6a94aed166943205dffa2f4c7498705",
          "grade": false,
          "grade_id": "cell-a3e6f52bfbf18e37",
          "locked": true,
          "schema_version": 3,
          "solution": false,
          "task": false
        },
        "outputId": "4917eb81-4316-430c-e038-0f9fd27a1672"
      },
      "outputs": [
        {
          "name": "stdout",
          "output_type": "stream",
          "text": [
            "Лучшие параметры: {'learning_rate': 0.1, 'max_depth': 3, 'n_estimators': 50}\n",
            "Точность на обучающем наборе: 0.8033367953714811\n",
            "Точность на тестовом наборе: 0.8076650106458482\n"
          ]
        }
      ],
      "source": [
        "# Лучшие параметры и точность модели\n",
        "best_params = grid_search.best_params_\n",
        "best_score = grid_search.best_score_\n",
        "\n",
        "print(\"Лучшие параметры:\", best_params)\n",
        "print(\"Точность на обучающем наборе:\", best_score)\n",
        "\n",
        "# Оценка модели на тестовом наборе\n",
        "y_pred = grid_search.predict(X_test)\n",
        "accuracy = accuracy_score(y_test, y_pred)\n",
        "print(\"Точность на тестовом наборе:\", accuracy)"
      ]
    },
    {
      "cell_type": "markdown",
      "metadata": {
        "deletable": false,
        "editable": false,
        "id": "Vc_OetBG6K-n",
        "nbgrader": {
          "cell_type": "markdown",
          "checksum": "c81345812c5794a5f8514b33226ed60c",
          "grade": false,
          "grade_id": "cell-332919cbfa1f2c05",
          "locked": true,
          "schema_version": 3,
          "solution": false,
          "task": false
        }
      },
      "source": [
        "## Часть 2. CatBoost и Hyperopt\n",
        "\n",
        "**CatBoost** — это открытая библиотека градиентного бустинга на деревьях решений. Она разработана компанией Яндекс и предназначена для решения задач машинного обучения, таких как классификация, регрессия и ранжирование. CatBoost предлагает высокую скорость обучения и прогнозирования, а также хорошую устойчивость к различным типам данных и категориальным признакам.\n",
        "\n",
        "Особенность CatBoost – способность автоматически обрабатывать категориальные признаки без необходимости их предварительного преобразования или использования кодирования, что делает эту библиотеку особенно полезной для работы с данными с множеством категориальных переменных.\n",
        "\n",
        "Установка CatBoost:\n",
        "`pip install catboost`"
      ]
    },
    {
      "cell_type": "markdown",
      "metadata": {
        "deletable": false,
        "editable": false,
        "id": "ybVeyfBA6K-n",
        "nbgrader": {
          "cell_type": "markdown",
          "checksum": "1f8c74b56645e41a3f3c77ddeb6009ed",
          "grade": false,
          "grade_id": "cell-cadca6781d957b7c",
          "locked": true,
          "schema_version": 3,
          "solution": false,
          "task": false
        }
      },
      "source": [
        "**Hyperopt** — это библиотека для автоматической оптимизации гиперпараметров моделей машинного обучения. Она предоставляет простой и гибкий интерфейс для поиска наилучших значений гиперпараметров, используя алгоритмы оптимизации.\n",
        "\n",
        "Основная идея Hyperopt — применение адаптивной модели оптимизации для нахождения комбинации гиперпараметров, которая минимизирует или максимизирует заданную функцию оценки (например, функцию потерь или метрику качества). Библиотека предлагает несколько алгоритмов оптимизации, включая Tree of Parzen Estimators (TPE) и Random Search.\n",
        "\n",
        "**Процесс использования Hyperopt:**\n",
        "\n",
        "1. **Определение пространства поиска.** Задается пространство гиперпараметров, которое нужно оптимизировать. Это может быть сделано с использованием объектов из модуля `hyperopt.hp`, которые представляют различные типы параметров (например, вещественные числа, целые числа, категориальные значения и др.).\n",
        "\n",
        "2. **Определение функции оценки (целевой функции).** Задается функция, которую нужно минимизировать или максимизировать. Обычно это функция потерь или метрика качества, связанная с моделью машинного обучения.\n",
        "\n",
        "3. **Создание объекта `Trials`.** Создается объект `Trials`, который будет использоваться для хранения информации о проведенных оптимизациях.\n",
        "\n",
        "4. **Запуск оптимизации.** Вызывается функция `fmin` с указанием функции оценки, пространства поиска и алгоритма оптимизации. Hyperopt будет итеративно предлагать наборы гиперпараметров, вычислять значение функции оценки и обновлять модель оптимизации для принятия решения о следующем наборе гиперпараметров.\n",
        "\n",
        "5. **Получение лучших гиперпараметров.** По окончании оптимизации можно получить значения лучших гиперпараметров, найденных в ходе процесса оптимизации.\n",
        "\n",
        "Установка библиотеки: `pip install hyperopt`"
      ]
    },
    {
      "cell_type": "code",
      "execution_count": null,
      "metadata": {
        "colab": {
          "base_uri": "https://localhost:8080/"
        },
        "id": "rMKqoGOTQitv",
        "outputId": "d29c521f-2b09-488e-d715-59206fb824fc"
      },
      "outputs": [
        {
          "name": "stdout",
          "output_type": "stream",
          "text": [
            "Collecting catboost\n",
            "  Downloading catboost-1.2.7-cp310-cp310-manylinux2014_x86_64.whl.metadata (1.2 kB)\n",
            "Requirement already satisfied: graphviz in /usr/local/lib/python3.10/dist-packages (from catboost) (0.20.3)\n",
            "Requirement already satisfied: matplotlib in /usr/local/lib/python3.10/dist-packages (from catboost) (3.8.0)\n",
            "Requirement already satisfied: numpy<2.0,>=1.16.0 in /usr/local/lib/python3.10/dist-packages (from catboost) (1.26.4)\n",
            "Requirement already satisfied: pandas>=0.24 in /usr/local/lib/python3.10/dist-packages (from catboost) (2.2.2)\n",
            "Requirement already satisfied: scipy in /usr/local/lib/python3.10/dist-packages (from catboost) (1.13.1)\n",
            "Requirement already satisfied: plotly in /usr/local/lib/python3.10/dist-packages (from catboost) (5.24.1)\n",
            "Requirement already satisfied: six in /usr/local/lib/python3.10/dist-packages (from catboost) (1.17.0)\n",
            "Requirement already satisfied: python-dateutil>=2.8.2 in /usr/local/lib/python3.10/dist-packages (from pandas>=0.24->catboost) (2.8.2)\n",
            "Requirement already satisfied: pytz>=2020.1 in /usr/local/lib/python3.10/dist-packages (from pandas>=0.24->catboost) (2024.2)\n",
            "Requirement already satisfied: tzdata>=2022.7 in /usr/local/lib/python3.10/dist-packages (from pandas>=0.24->catboost) (2024.2)\n",
            "Requirement already satisfied: contourpy>=1.0.1 in /usr/local/lib/python3.10/dist-packages (from matplotlib->catboost) (1.3.1)\n",
            "Requirement already satisfied: cycler>=0.10 in /usr/local/lib/python3.10/dist-packages (from matplotlib->catboost) (0.12.1)\n",
            "Requirement already satisfied: fonttools>=4.22.0 in /usr/local/lib/python3.10/dist-packages (from matplotlib->catboost) (4.55.3)\n",
            "Requirement already satisfied: kiwisolver>=1.0.1 in /usr/local/lib/python3.10/dist-packages (from matplotlib->catboost) (1.4.7)\n",
            "Requirement already satisfied: packaging>=20.0 in /usr/local/lib/python3.10/dist-packages (from matplotlib->catboost) (24.2)\n",
            "Requirement already satisfied: pillow>=6.2.0 in /usr/local/lib/python3.10/dist-packages (from matplotlib->catboost) (11.0.0)\n",
            "Requirement already satisfied: pyparsing>=2.3.1 in /usr/local/lib/python3.10/dist-packages (from matplotlib->catboost) (3.2.0)\n",
            "Requirement already satisfied: tenacity>=6.2.0 in /usr/local/lib/python3.10/dist-packages (from plotly->catboost) (9.0.0)\n",
            "Downloading catboost-1.2.7-cp310-cp310-manylinux2014_x86_64.whl (98.7 MB)\n",
            "\u001b[2K   \u001b[90m━━━━━━━━━━━━━━━━━━━━━━━━━━━━━━━━━━━━━━━━\u001b[0m \u001b[32m98.7/98.7 MB\u001b[0m \u001b[31m7.9 MB/s\u001b[0m eta \u001b[36m0:00:00\u001b[0m\n",
            "\u001b[?25hInstalling collected packages: catboost\n",
            "Successfully installed catboost-1.2.7\n"
          ]
        }
      ],
      "source": [
        "!pip install catboost"
      ]
    },
    {
      "cell_type": "code",
      "execution_count": null,
      "metadata": {
        "deletable": false,
        "editable": false,
        "id": "nocab60K6K-n",
        "nbgrader": {
          "cell_type": "code",
          "checksum": "4561696c33114756a8033404f6a6a0b1",
          "grade": false,
          "grade_id": "cell-200b2e08851e9edb",
          "locked": true,
          "schema_version": 3,
          "solution": false,
          "task": false
        }
      },
      "outputs": [],
      "source": [
        "# Импортируем необходимые библиотеки\n",
        "import catboost as cb\n",
        "from sklearn.model_selection import train_test_split\n",
        "from sklearn.metrics import accuracy_score\n",
        "from hyperopt import hp, fmin, tpe, Trials\n",
        "\n",
        "# Загрузка данных\n",
        "data = pd.read_csv('Telco-Customer-Churn.csv')\n",
        "X = data.drop(['customerID', 'Churn'], axis=1)\n",
        "y = data['Churn']\n",
        "\n",
        "X_train, X_test, y_train, y_test = train_test_split(X, y, test_size=0.2, random_state=42)"
      ]
    },
    {
      "cell_type": "markdown",
      "metadata": {
        "deletable": false,
        "editable": false,
        "id": "l1tXB7yy6K-n",
        "nbgrader": {
          "cell_type": "markdown",
          "checksum": "0f7c1bfce19e95750bd18bcaa0b21e6c",
          "grade": false,
          "grade_id": "cell-306edee78f57fc63",
          "locked": true,
          "schema_version": 3,
          "solution": false,
          "task": false
        }
      },
      "source": [
        "**Задание 6 (1 балл)**\n",
        "\n",
        "1. Выполните для столбца TotalCharges преобразование к вещественному типу.\n",
        "\n",
        "2. Создайте пустой список categorical_columns_indices.\n",
        "\n",
        "3. Создайте цикл с enumerate для прохода по каждому столбцу в DataFrame X:\n",
        "    если количество уникальных элементов в столбце меньше 5:\n",
        "        добавить индекс столбца в categorical_columns_indices\n",
        "    Пример:    \n",
        "    for index, column in enumerate(df.columns):\n",
        "        if len(df[column].unique()) < 10:\n",
        "            list_to_add.append(index)"
      ]
    },
    {
      "cell_type": "code",
      "execution_count": null,
      "metadata": {
        "deletable": false,
        "id": "3qE0r7556K-n",
        "nbgrader": {
          "cell_type": "code",
          "checksum": "398628b7bd2179ead758ad95250d74cf",
          "grade": false,
          "grade_id": "cell-1bed802cedc0e8e7",
          "locked": false,
          "schema_version": 3,
          "solution": true,
          "task": false
        }
      },
      "outputs": [],
      "source": [
        "# НАЧАЛО ВАШЕГО РЕШЕНИЯ\n",
        "# КОНЕЦ ВАШЕГО РЕШЕНИЯ"
      ]
    },
    {
      "cell_type": "code",
      "execution_count": null,
      "metadata": {
        "deletable": false,
        "editable": false,
        "id": "v0ONXyTU6K-n",
        "nbgrader": {
          "cell_type": "code",
          "checksum": "0942ede011d2ecbd3c5e5d180f7840ca",
          "grade": true,
          "grade_id": "cell-0a6d79b9bba4aa27",
          "locked": true,
          "points": 1,
          "schema_version": 3,
          "solution": false,
          "task": false
        }
      },
      "outputs": [],
      "source": [
        "assert X[\"TotalCharges\"].dtype == float\n",
        "assert len(categorical_columns_indices) == 16\n",
        "print(\"Проверки пройдены!!!\")"
      ]
    },
    {
      "cell_type": "markdown",
      "metadata": {
        "deletable": false,
        "editable": false,
        "id": "OJucgTDM6K-o",
        "nbgrader": {
          "cell_type": "markdown",
          "checksum": "86b726f086e66d7d3754ba76b8c7c1fb",
          "grade": false,
          "grade_id": "cell-e8119a8e1e43bf60",
          "locked": true,
          "schema_version": 3,
          "solution": false,
          "task": false
        }
      },
      "source": [
        "**Задание 7 (1 балл)**\n",
        "\n",
        "Создайте словарь dict_of_params со следующими парами ключ — значение:\n",
        "\n",
        "*   \"iterations\": [30, 50, 70]\n",
        "*   \"depth\": [3, 5, 7]\n",
        "*   \"learning_rate\": [0.01, 0.3]\n",
        "*   \"l2_leaf_reg\": [1, 3, 5, 7, 9\n",
        "\n"
      ]
    },
    {
      "cell_type": "code",
      "execution_count": null,
      "metadata": {
        "deletable": false,
        "id": "EovwI_Xb6K-o",
        "nbgrader": {
          "cell_type": "code",
          "checksum": "21000e4f2d7a067272e04d68d31a6306",
          "grade": false,
          "grade_id": "cell-025a19e639ff83bb",
          "locked": false,
          "schema_version": 3,
          "solution": true,
          "task": false
        }
      },
      "outputs": [],
      "source": [
        "# НАЧАЛО ВАШЕГО РЕШЕНИЯ\n",
        "# КОНЕЦ ВАШЕГО РЕШЕНИЯ"
      ]
    },
    {
      "cell_type": "code",
      "execution_count": null,
      "metadata": {
        "deletable": false,
        "editable": false,
        "id": "PJkHXOAG6K-o",
        "nbgrader": {
          "cell_type": "code",
          "checksum": "dbdd914243d822f8b24bc08c3b00e182",
          "grade": true,
          "grade_id": "cell-88eef32de85e06d3",
          "locked": true,
          "points": 1,
          "schema_version": 3,
          "solution": false,
          "task": false
        }
      },
      "outputs": [],
      "source": [
        "assert sorted(dict_of_params[\"iterations\"]) == [30, 50, 70]\n",
        "print(\"Проверки пройдены!!!\")"
      ]
    },
    {
      "cell_type": "code",
      "execution_count": null,
      "metadata": {
        "deletable": false,
        "editable": false,
        "id": "Jhoj7nF06K-o",
        "nbgrader": {
          "cell_type": "code",
          "checksum": "d18190d96e9f74c4a1af0e54513f61d4",
          "grade": false,
          "grade_id": "cell-096eac29491b822b",
          "locked": true,
          "schema_version": 3,
          "solution": false,
          "task": false
        }
      },
      "outputs": [],
      "source": [
        "# Переводим словарь dict_of_params в формат Hyperopt\n",
        "space = {\n",
        "    'iterations': hp.choice('iterations', dict_of_params[\"iterations\"]),\n",
        "    'depth': hp.choice('depth', dict_of_params[\"depth\"]),\n",
        "    'learning_rate': hp.uniform('learning_rate', dict_of_params[\"learning_rate\"][0], dict_of_params[\"learning_rate\"][1]),\n",
        "    'l2_leaf_reg': hp.choice('l2_leaf_reg', dict_of_params[\"l2_leaf_reg\"])\n",
        "}"
      ]
    },
    {
      "cell_type": "markdown",
      "metadata": {
        "deletable": false,
        "editable": false,
        "id": "WzDjghk-6K-o",
        "nbgrader": {
          "cell_type": "markdown",
          "checksum": "5d850990708c452a87f8598ce4e78af7",
          "grade": false,
          "grade_id": "cell-e179ae7aa689407b",
          "locked": true,
          "schema_version": 3,
          "solution": false,
          "task": false
        }
      },
      "source": [
        "**Задание 8 (2 балла)**\n",
        "\n",
        "Определяем функцию для оптимизации с гиперпараметрами и параметром `cat_features`, указывающим индексы категориальных признаков.\n",
        "\n",
        "1. Определите функцию с именем objective с параметром params.\n",
        "\n",
        "    Пример :\n",
        "    def objective(parameters):\n",
        "\n",
        "\n",
        "2. **Внутри функции objective** инициализируйте `cb.CatBoostClassifier()`, передав в качестве параметров `**params`, `cat_features=categorical_columns_indices`. Сохраните экземпляр в переменную `model`.\n",
        "\n",
        "    Пример:\n",
        "    model = cb.CatBoostClassifier(**parameters, cat_features=indices)\n",
        "\n",
        "3. Обучите модель на `X_train`, `y_train` с помощью метода `fit(X_train, y_train, silent=True)`. Флаг `silent=True` убирает вывод подробной информации об обучении.\n",
        "\n",
        "4. Сделайте предсказания для `X_test` с помощью метода `predict()`, ответ сохраните в `y_pred`.\n",
        "\n",
        "5. Сохраните в переменную `score` результат вызова `accuracy_score()` с параметрами `y_test`, `y_pred`.\n",
        "\n",
        "6. Верните через `return -score`."
      ]
    },
    {
      "cell_type": "code",
      "execution_count": null,
      "metadata": {
        "deletable": false,
        "id": "rnbngir76K-o",
        "nbgrader": {
          "cell_type": "code",
          "checksum": "699e2518a956691e799f401944acbcb4",
          "grade": false,
          "grade_id": "cell-a6ff96f3b6fa8479",
          "locked": false,
          "schema_version": 3,
          "solution": true,
          "task": false
        }
      },
      "outputs": [],
      "source": [
        "# НАЧАЛО ВАШЕГО РЕШЕНИЯ\n",
        "# КОНЕЦ ВАШЕГО РЕШЕНИЯ"
      ]
    },
    {
      "cell_type": "code",
      "execution_count": null,
      "metadata": {
        "deletable": false,
        "editable": false,
        "id": "_jkO4xm-6K-o",
        "nbgrader": {
          "cell_type": "code",
          "checksum": "838175b45fd6b060b991de7f9351371c",
          "grade": true,
          "grade_id": "cell-76a46666a33dada0",
          "locked": true,
          "points": 2,
          "schema_version": 3,
          "solution": false,
          "task": false
        }
      },
      "outputs": [],
      "source": [
        "assert callable(objective)\n",
        "print(\"Проверки пройдены!!!\")"
      ]
    },
    {
      "cell_type": "code",
      "execution_count": null,
      "metadata": {
        "colab": {
          "base_uri": "https://localhost:8080/"
        },
        "deletable": false,
        "editable": false,
        "id": "T_JV-VlQ6K-u",
        "nbgrader": {
          "cell_type": "code",
          "checksum": "25789e0495e49a98fb9517151e099dae",
          "grade": false,
          "grade_id": "cell-a97807424c46f88b",
          "locked": true,
          "schema_version": 3,
          "solution": false,
          "task": false
        },
        "outputId": "6ae477d8-cf1b-4b6c-f3b8-3caee246e51f"
      },
      "outputs": [
        {
          "name": "stdout",
          "output_type": "stream",
          "text": [
            "100%|██████████| 100/100 [00:39<00:00,  2.55trial/s, best loss: -0.8246983676366217]\n"
          ]
        }
      ],
      "source": [
        "# Запускаем оптимизацию с помощью Hyperopt\n",
        "trials = Trials()\n",
        "best = fmin(objective, space, algo=tpe.suggest, max_evals=100, trials=trials)"
      ]
    },
    {
      "cell_type": "code",
      "execution_count": null,
      "metadata": {
        "colab": {
          "base_uri": "https://localhost:8080/"
        },
        "deletable": false,
        "editable": false,
        "id": "MW0392VQ6K-u",
        "nbgrader": {
          "cell_type": "code",
          "checksum": "74c8f2c7b4a858576a9f66f8bc2d8a3c",
          "grade": false,
          "grade_id": "cell-19835974c82c9d2b",
          "locked": true,
          "schema_version": 3,
          "solution": false,
          "task": false
        },
        "outputId": "2b8b4aef-16aa-4a66-883c-400b71a291ac"
      },
      "outputs": [
        {
          "name": "stdout",
          "output_type": "stream",
          "text": [
            "Точность модели: 0.8246983676366217\n"
          ]
        }
      ],
      "source": [
        "# Получаем лучшие значения гиперпараметров\n",
        "final_best_params = {}\n",
        "for key in best:\n",
        "    try:\n",
        "        final_best_params[key] = dict_of_params[key][best[key]]\n",
        "    except:\n",
        "        final_best_params[key] = best[key]\n",
        "\n",
        "# Обучаем модель с лучшими гиперпараметрами\n",
        "# Создание экземпляра CatBoostClassifier с передачей списка индексов категориальных признаков\n",
        "model = cb.CatBoostClassifier(**final_best_params, cat_features=categorical_columns_indices)\n",
        "model.fit(X_train, y_train, silent=True)\n",
        "\n",
        "# Предсказываем классы для тестовых данных\n",
        "y_pred = model.predict(X_test)\n",
        "\n",
        "# Вычисляем точность модели\n",
        "accuracy = accuracy_score(y_test, y_pred)\n",
        "\n",
        "# Выводим результаты\n",
        "print(\"Точность модели:\", accuracy)"
      ]
    },
    {
      "cell_type": "markdown",
      "metadata": {
        "deletable": false,
        "editable": false,
        "id": "X50NfnLu6K-v",
        "nbgrader": {
          "cell_type": "markdown",
          "checksum": "1ef4c1e31cf9b1637887777917b43fb3",
          "grade": false,
          "grade_id": "cell-6e7a9507bc2645a1",
          "locked": true,
          "schema_version": 3,
          "solution": false,
          "task": false
        }
      },
      "source": [
        "Мы можем видеть, что подготовка данных для CatBoost занимает меньше времени.\n",
        "Если сравнивать GridSearchCV и Hyperopt, то Hyperopt устроен сложнее, однако может выдавать более оптимальные результаты."
      ]
    },
    {
      "cell_type": "markdown",
      "metadata": {
        "id": "kd0Z4ftzT-jK"
      },
      "source": [
        "# Поздравляем!\n",
        "В этом домашнем задании вы научились пользоваться библиотеками `XGBoost` и `CatBoost`, освоили автоматическую оптимизацию гиперпараметров с методом перебора (Grid Search), а также более элегантным образом с помощью пакета `Hyperopt`."
      ]
    },
    {
      "cell_type": "code",
      "execution_count": null,
      "metadata": {
        "id": "LWu5NDDAV6DY"
      },
      "outputs": [],
      "source": []
    }
  ],
  "metadata": {
    "colab": {
      "provenance": []
    },
    "kernelspec": {
      "display_name": "dlenv",
      "language": "python",
      "name": "python3"
    },
    "language_info": {
      "codemirror_mode": {
        "name": "ipython",
        "version": 3
      },
      "file_extension": ".py",
      "mimetype": "text/x-python",
      "name": "python",
      "nbconvert_exporter": "python",
      "pygments_lexer": "ipython3",
      "version": "3.11.11"
    }
  },
  "nbformat": 4,
  "nbformat_minor": 0
}
