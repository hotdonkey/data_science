{
  "cells": [
    {
      "cell_type": "markdown",
      "metadata": {
        "id": "wEqBFsHW0Ol7"
      },
      "source": [
        "# Подключение к кластеру с помощью библиотеки pymongo"
      ]
    },
    {
      "cell_type": "code",
      "execution_count": null,
      "metadata": {
        "id": "K0lclhnQ0YXc"
      },
      "outputs": [],
      "source": [
        "# !pip install pymongo"
      ]
    },
    {
      "cell_type": "code",
      "execution_count": 24,
      "metadata": {
        "id": "uBEhfIYY0Ol-",
        "outputId": "18d2b956-0001-4866-c4ca-4f50e9003cac"
      },
      "outputs": [
        {
          "name": "stdout",
          "output_type": "stream",
          "text": [
            "['sample_mflix', 'admin', 'local']\n"
          ]
        }
      ],
      "source": [
        "import os\n",
        "import pandas as pd\n",
        "import pymongo\n",
        "\n",
        "MONGO_URI_CLOUD_TEST = os.getenv(\"MONGO_URI_CLOUD_TEST\")\n",
        "credentials = pd.read_csv(\"../credentials.txt\").to_string().split()[3].replace(\"[\", \"\").replace(\"]\",\"\")\n",
        "\n",
        "client = pymongo.MongoClient(credentials)\n",
        "print(client.list_database_names())"
      ]
    },
    {
      "cell_type": "code",
      "execution_count": 5,
      "metadata": {},
      "outputs": [
        {
          "name": "stdout",
          "output_type": "stream",
          "text": [
            "None\n"
          ]
        }
      ],
      "source": [
        "import os\n",
        "MONGO_URI_CLOUD_TEST = os.getenv(\"MONGO_URI_CLOUD_TEST\")\n",
        "print(MONGO_URI_CLOUD_TEST)"
      ]
    },
    {
      "cell_type": "markdown",
      "metadata": {
        "id": "hRoFBen80OmB"
      },
      "source": [
        "# Управление базами данных и коллекциями"
      ]
    },
    {
      "cell_type": "markdown",
      "metadata": {
        "id": "zA-wdBPp0OmC"
      },
      "source": [
        "Вывести доступные базы данных:"
      ]
    },
    {
      "cell_type": "code",
      "execution_count": 25,
      "metadata": {
        "id": "tzowbDWb0OmC",
        "outputId": "8193a07c-f572-4d19-a741-06303e37b069"
      },
      "outputs": [
        {
          "data": {
            "text/plain": [
              "['sample_mflix', 'admin', 'local']"
            ]
          },
          "execution_count": 25,
          "metadata": {},
          "output_type": "execute_result"
        }
      ],
      "source": [
        "client.list_database_names()"
      ]
    },
    {
      "cell_type": "markdown",
      "metadata": {
        "id": "L64gIInB0OmD"
      },
      "source": [
        "Выбрать базу данных для работы. Если ее не существует, она будет создана при добавлении в нее данных:"
      ]
    },
    {
      "cell_type": "code",
      "execution_count": 26,
      "metadata": {
        "id": "OKVLG8PM0OmE"
      },
      "outputs": [],
      "source": [
        "db = client.my_database"
      ]
    },
    {
      "cell_type": "markdown",
      "metadata": {
        "id": "Ypj4MUxQ0OmE"
      },
      "source": [
        "Теперь на БД можно ссылаться по переменной db. Если БД нужно удалить, это можно сделать инструкцией `client.drop_database('my_database')`"
      ]
    },
    {
      "cell_type": "markdown",
      "metadata": {
        "id": "A6kVyz340OmF"
      },
      "source": [
        "Создадим коллекцию:"
      ]
    },
    {
      "cell_type": "code",
      "execution_count": 27,
      "metadata": {
        "id": "hTibBjAs0OmF",
        "outputId": "87262056-11cc-482a-edcb-cc7f4d5c3fa6"
      },
      "outputs": [
        {
          "data": {
            "text/plain": [
              "Collection(Database(MongoClient(host=['nfoxcluster0-shard-00-00.dgack.mongodb.net:27017', 'nfoxcluster0-shard-00-01.dgack.mongodb.net:27017', 'nfoxcluster0-shard-00-02.dgack.mongodb.net:27017'], document_class=dict, tz_aware=False, connect=True, authsource='admin', replicaset='atlas-12jlqq-shard-0', tls=True), 'my_database'), 'people')"
            ]
          },
          "execution_count": 27,
          "metadata": {},
          "output_type": "execute_result"
        }
      ],
      "source": [
        "db.create_collection('people')"
      ]
    },
    {
      "cell_type": "markdown",
      "metadata": {
        "id": "ACCLKuV40OmG"
      },
      "source": [
        "Список коллекций:"
      ]
    },
    {
      "cell_type": "code",
      "execution_count": 28,
      "metadata": {
        "id": "ZxojqH430OmG",
        "outputId": "1d5bc973-e418-4693-c00c-9c41a752580d"
      },
      "outputs": [
        {
          "data": {
            "text/plain": [
              "<pymongo.synchronous.command_cursor.CommandCursor at 0x11ea936d0>"
            ]
          },
          "execution_count": 28,
          "metadata": {},
          "output_type": "execute_result"
        }
      ],
      "source": [
        "db.list_collections()  # Результат _выборки_ данных -- курсор.\n",
        "                       # Курсоры имеют метод next, позволяющий\n",
        "                       # перемещаться по документам выборки."
      ]
    },
    {
      "cell_type": "code",
      "execution_count": 29,
      "metadata": {
        "id": "Z4gp5tJa0OmG",
        "outputId": "3807acf8-a582-427d-d24b-64a93282fc16"
      },
      "outputs": [
        {
          "data": {
            "text/plain": [
              "[{'name': 'people',\n",
              "  'type': 'collection',\n",
              "  'options': {},\n",
              "  'info': {'readOnly': False,\n",
              "   'uuid': Binary(b'A\\x1b\\xb8\\xca\\xdd\\xab@\\x8d\\x96w\\x93\\xb8=\\xe5\\xeaG', 4)},\n",
              "  'idIndex': {'v': 2, 'key': {'_id': 1}, 'name': '_id_'}}]"
            ]
          },
          "execution_count": 29,
          "metadata": {},
          "output_type": "execute_result"
        }
      ],
      "source": [
        "list(db.list_collections())"
      ]
    },
    {
      "cell_type": "markdown",
      "metadata": {
        "id": "erDATY_M0OmG"
      },
      "source": [
        "Теперь можно переходить к CRUD-операциям"
      ]
    },
    {
      "cell_type": "markdown",
      "metadata": {
        "id": "Bcq9SDSa0OmH"
      },
      "source": [
        "# CRUD-операции"
      ]
    },
    {
      "cell_type": "markdown",
      "metadata": {
        "id": "jFdXirIt0OmH"
      },
      "source": [
        "Выбираем коллекцию:"
      ]
    },
    {
      "cell_type": "code",
      "execution_count": 30,
      "metadata": {
        "id": "RjEMUg2w0OmH"
      },
      "outputs": [],
      "source": [
        "collection = db.people"
      ]
    },
    {
      "cell_type": "markdown",
      "metadata": {
        "id": "qqhkFhNy0OmH"
      },
      "source": [
        "## Вставка данных"
      ]
    },
    {
      "cell_type": "markdown",
      "metadata": {
        "id": "E4zsmFXJ0OmH"
      },
      "source": [
        "Данные в виде списка словарей:"
      ]
    },
    {
      "cell_type": "code",
      "execution_count": 31,
      "metadata": {
        "id": "-lcm0fpX0OmI"
      },
      "outputs": [],
      "source": [
        "data = [\n",
        "{\"name\": \"Keeley Bosco\", \"email\": \"katlyn@jenkinsmaggio.net\", \"city\": \"Lake Gladysberg\", \"mac\": \"08: fd: 0b: cd: 77: f7\", \"timestamp\": \"2015-04-25 13: 57: 36 +0700\", \"creditcard\": \"1228-1221-1221-1431\", \"age\": 40},\n",
        "{\"name\": \"Rubye Jerde\", \"email\": \"juvenal@johnston.name\", \"city\": None, \"mac\": \"90: 4d: fa: 42: 63: a2\", \"timestamp\": \"2015-04-25 09: 02: 04 +0700\", \"creditcard\": \"1228-1221-1221-1431\", \"age\": 15},\n",
        "{\"name\": \"Miss Darian Breitenberg\", \"email\": None, \"city\": None, \"mac\": \"f9: 0e: d3: 40: cb: e9\", \"timestamp\": \"2015-04-25 13: 16: 03 +0700\", \"creditcard\": None, \"age\": 25},\n",
        "{\"name\": \"Celine Ankunding\", \"email\": \"emery_kunze@rogahn.net\", \"city\": None, \"mac\": \"3a: af: c9: 0b: 5c: 08\", \"timestamp\": \"2015-04-25 14: 22: 22 +0700\", \"creditcard\": \"1228-1221-1221-1431\", \"age\": 12},\n",
        "{\"name\": \"Dr. Araceli Lang\", \"email\": \"mavis_lehner@jacobi.name\", \"city\": \"Yvettemouth\", \"creditcard\": \"1211-1221-1234-2201\", \"age\": 15},\n",
        "{\"name\": \"Esteban Von\", \"email\": None, \"city\": None, \"mac\": \"2d: e4: f0: dd: 90: 96\", \"timestamp\": \"2015-04-25 21: 47: 09 +0700\", \"creditcard\": None, \"age\": 36},\n",
        "{\"name\": \"Everette Swift\", \"email\": \"gielle_jacobs@flatleyboehm.biz\", \"city\": None, \"mac\": \"29: e0: 54: 7a: b7: ca\", \"timestamp\": \"2015-04-25 01: 42: 40 +0700\", \"creditcard\": None, \"age\": 22},\n",
        "{\"name\": \"Terrell Boyle\", \"email\": \"augustine.conroy@keebler.name\", \"city\": \"Port Reaganfort\", \"creditcard\": \"1228-1221-1221-1431\", \"age\": 19},\n",
        "{\"name\": \"Miss Emmie Muller\", \"email\": None, \"city\": \"Kaleyhaven\", \"mac\": \"be: dc: d2: 57: 81: 8b\", \"timestamp\": \"2015-04-25 15: 48: 26 +0700\", \"creditcard\": None, \"age\": 20},\n",
        "{\"name\": \"Libby Renner\", \"email\": None, \"city\": \"Port Reneeside\", \"mac\": \"9c: 63: 13: 31: c4: ac\", \"timestamp\": \"2015-04-25 08: 21: 59 +0700\", \"creditcard\": \"1234-2121-1221-1211\", \"age\": 14},\n",
        "{\"name\": \"Kris Spencer\", \"email\": None, \"city\": None, \"mac\": \"f9: 8a: 01: 69: aa: 63\", \"timestamp\": \"2015-04-25 18: 49: 00 +0700\", \"creditcard\": None, \"age\": 22},\n",
        "{\"name\": \"Terrance Schiller\", \"email\": \"prince@rosenbaum.info\", \"city\": None, \"mac\": \"fd: b7: 2a: 2e: 97: 8f\", \"timestamp\": \"2015-04-25 02: 25: 23 +0700\", \"creditcard\": None, \"age\": 27},\n",
        "{\"name\": \"Alessandro Barton\", \"email\": \"sigurd.hudson@hodkiewicz.net\", \"city\": \"South Pearl\", \"creditcard\": \"1234-2121-1221-1211\", \"age\": 26},\n",
        "{\"name\": \"Dr. Art Grimes\", \"email\": \"monica@abbott.org\", \"city\": None, \"mac\": \"bf: 2a: a2: 75: a4: 38\", \"timestamp\": \"2015-04-25 22: 51: 21 +0700\", \"creditcard\": \"1211-1221-1234-2201\", \"age\": 35},\n",
        "{\"name\": \"Keven Purdy\", \"email\": \"carter_zboncak@schmidtjenkins.info\", \"city\": \"Port Marjolaineshire\", \"mac\": None, \"timestamp\": \"2015-04-25 10: 13: 00 +0700\", \"creditcard\": \"1211-1221-1234-2201\", \"age\": 20},\n",
        "{\"name\": \"William Wisozk DVM\", \"email\": \"adonis@dach.net\", \"city\": \"Rogelioton\", \"mac\": \"9a: 6e: 08: fe: 8d: 41\", \"timestamp\": \"2015-04-25 20: 57: 29 +0700\", \"creditcard\": None, \"age\": 11},\n",
        "{\"name\": \"Oma Grady\", \"email\": \"laurianne_goldner@kerluke.biz\", \"city\": \"South Chelsie\", \"creditcard\": \"1212-1221-1121-1234\", \"age\": 30},\n",
        "{\"name\": \"Annie Schamberger\", \"email\": \"blanca_smitham@pfeffervon.net\", \"city\": \"Marvinville\", \"mac\": \"f0: 45: 37: 1b: d8: 19\", \"timestamp\": \"2015-04-25 10: 28: 07 +0700\", \"creditcard\": None, \"age\": 39},\n",
        "{\"name\": \"Jazmin Kovacek\", \"email\": \"mittie.ullrich@boehm.name\", \"city\": None, \"mac\": \"13: 36: 6a: b4: 2d: 07\", \"timestamp\": \"2015-04-25 19: 20: 51 +0700\", \"creditcard\": \"1211-1221-1234-2201\", \"age\": 27},\n",
        "]"
      ]
    },
    {
      "cell_type": "markdown",
      "metadata": {
        "id": "R8MVR00j0OmI"
      },
      "source": [
        "Вставляем данные в коллекцию:"
      ]
    },
    {
      "cell_type": "code",
      "execution_count": 32,
      "metadata": {
        "id": "leO9pGf70OmJ"
      },
      "outputs": [],
      "source": [
        "insert_result = collection.insert_many(data)  # pymongo.results.InsertManyResult"
      ]
    },
    {
      "cell_type": "code",
      "execution_count": 33,
      "metadata": {
        "id": "XRvfT8zw0OmJ",
        "outputId": "77682763-39d9-442a-b1b2-318b723b289a"
      },
      "outputs": [
        {
          "data": {
            "text/plain": [
              "True"
            ]
          },
          "execution_count": 33,
          "metadata": {},
          "output_type": "execute_result"
        }
      ],
      "source": [
        "insert_result.acknowledged  # True, если данные успешно вставлены"
      ]
    },
    {
      "cell_type": "markdown",
      "metadata": {
        "id": "WHwgeLWs0OmJ"
      },
      "source": [
        "## Выборка данных"
      ]
    },
    {
      "cell_type": "code",
      "execution_count": 34,
      "metadata": {
        "id": "BBEHIaSC0OmK",
        "outputId": "da6afd21-002a-4d4e-e593-4560535b5ac5"
      },
      "outputs": [
        {
          "data": {
            "text/plain": [
              "[{'_id': ObjectId('67bd8da5a2cbca4b6c64d1db'),\n",
              "  'name': 'Dr. Art Grimes',\n",
              "  'email': 'monica@abbott.org',\n",
              "  'city': None,\n",
              "  'mac': 'bf: 2a: a2: 75: a4: 38',\n",
              "  'timestamp': '2015-04-25 22: 51: 21 +0700',\n",
              "  'creditcard': '1211-1221-1234-2201',\n",
              "  'age': 35}]"
            ]
          },
          "execution_count": 34,
          "metadata": {},
          "output_type": "execute_result"
        }
      ],
      "source": [
        "list(\n",
        "    collection.find( {'name' : 'Dr. Art Grimes'} )\n",
        ")"
      ]
    },
    {
      "cell_type": "markdown",
      "metadata": {
        "id": "1JPW_Cip0OmK"
      },
      "source": [
        "По регулярному выражению:"
      ]
    },
    {
      "cell_type": "code",
      "execution_count": 35,
      "metadata": {
        "id": "1nqxa9k40OmK",
        "outputId": "e0a0d755-8948-4741-f2f8-d1f2be266ceb"
      },
      "outputs": [
        {
          "data": {
            "text/plain": [
              "[{'_id': ObjectId('67bd8da5a2cbca4b6c64d1d2'),\n",
              "  'name': 'Dr. Araceli Lang',\n",
              "  'email': 'mavis_lehner@jacobi.name',\n",
              "  'city': 'Yvettemouth',\n",
              "  'creditcard': '1211-1221-1234-2201',\n",
              "  'age': 15},\n",
              " {'_id': ObjectId('67bd8da5a2cbca4b6c64d1db'),\n",
              "  'name': 'Dr. Art Grimes',\n",
              "  'email': 'monica@abbott.org',\n",
              "  'city': None,\n",
              "  'mac': 'bf: 2a: a2: 75: a4: 38',\n",
              "  'timestamp': '2015-04-25 22: 51: 21 +0700',\n",
              "  'creditcard': '1211-1221-1234-2201',\n",
              "  'age': 35}]"
            ]
          },
          "execution_count": 35,
          "metadata": {},
          "output_type": "execute_result"
        }
      ],
      "source": [
        "list(\n",
        "    collection.find( {'name' : {'$regex':'^Dr'}} )\n",
        ")"
      ]
    },
    {
      "cell_type": "markdown",
      "metadata": {
        "id": "RGpUxjpf0OmK"
      },
      "source": [
        "По логическому условию:"
      ]
    },
    {
      "cell_type": "code",
      "execution_count": 36,
      "metadata": {
        "id": "gvhsVxJV0OmL",
        "outputId": "741b712b-d927-4ac4-bb37-939de5f00f6d"
      },
      "outputs": [
        {
          "data": {
            "text/plain": [
              "[{'_id': ObjectId('67bd8da5a2cbca4b6c64d1ce'),\n",
              "  'name': 'Keeley Bosco',\n",
              "  'email': 'katlyn@jenkinsmaggio.net',\n",
              "  'city': 'Lake Gladysberg',\n",
              "  'mac': '08: fd: 0b: cd: 77: f7',\n",
              "  'timestamp': '2015-04-25 13: 57: 36 +0700',\n",
              "  'creditcard': '1228-1221-1221-1431',\n",
              "  'age': 40},\n",
              " {'_id': ObjectId('67bd8da5a2cbca4b6c64d1d3'),\n",
              "  'name': 'Esteban Von',\n",
              "  'email': None,\n",
              "  'city': None,\n",
              "  'mac': '2d: e4: f0: dd: 90: 96',\n",
              "  'timestamp': '2015-04-25 21: 47: 09 +0700',\n",
              "  'creditcard': None,\n",
              "  'age': 36},\n",
              " {'_id': ObjectId('67bd8da5a2cbca4b6c64d1df'),\n",
              "  'name': 'Annie Schamberger',\n",
              "  'email': 'blanca_smitham@pfeffervon.net',\n",
              "  'city': 'Marvinville',\n",
              "  'mac': 'f0: 45: 37: 1b: d8: 19',\n",
              "  'timestamp': '2015-04-25 10: 28: 07 +0700',\n",
              "  'creditcard': None,\n",
              "  'age': 39}]"
            ]
          },
          "execution_count": 36,
          "metadata": {},
          "output_type": "execute_result"
        }
      ],
      "source": [
        "list(\n",
        "    collection.find( {'age' : {'$gt': 35}} )\n",
        ")"
      ]
    },
    {
      "cell_type": "markdown",
      "metadata": {
        "id": "nnIsNCri0OmL"
      },
      "source": [
        "См. https://www.mongodb.com/docs/manual/reference/sql-comparison/ -- в этой статье дано сопоставление привычных операторов SQL с методами MongoDB."
      ]
    },
    {
      "cell_type": "markdown",
      "metadata": {
        "id": "ubR8Qy0b0OmL"
      },
      "source": [
        "## Обновление документов"
      ]
    },
    {
      "cell_type": "code",
      "execution_count": 37,
      "metadata": {
        "id": "VLvN1FWa0OmL",
        "outputId": "41996435-8575-4d7d-af61-2587934ce898"
      },
      "outputs": [
        {
          "data": {
            "text/plain": [
              "UpdateResult({'n': 3, 'electionId': ObjectId('7fffffff00000000000001a5'), 'opTime': {'ts': Timestamp(1740475855, 10), 't': 421}, 'nModified': 3, 'ok': 1.0, '$clusterTime': {'clusterTime': Timestamp(1740475855, 10), 'signature': {'hash': b'\\x11\\xee\\x02\\x01\\xd6\\xc6\\xbf\\x91P\\n\\x82\\xcam\\x9e\\x1az:\\x9cX]', 'keyId': 7420911413914238996}}, 'operationTime': Timestamp(1740475855, 10), 'updatedExisting': True}, acknowledged=True)"
            ]
          },
          "execution_count": 37,
          "metadata": {},
          "output_type": "execute_result"
        }
      ],
      "source": [
        "collection.update_many(\n",
        "    {'age' : {'$gt': 35}}, {'$set' : { 'isOlder': True }}\n",
        ")"
      ]
    },
    {
      "cell_type": "code",
      "execution_count": 38,
      "metadata": {
        "id": "KRrkjIRD0OmM",
        "outputId": "7440e63b-2c1f-4287-f46d-b9578fda5441"
      },
      "outputs": [
        {
          "data": {
            "text/plain": [
              "[{'_id': ObjectId('67bd8da5a2cbca4b6c64d1ce'),\n",
              "  'name': 'Keeley Bosco',\n",
              "  'email': 'katlyn@jenkinsmaggio.net',\n",
              "  'city': 'Lake Gladysberg',\n",
              "  'mac': '08: fd: 0b: cd: 77: f7',\n",
              "  'timestamp': '2015-04-25 13: 57: 36 +0700',\n",
              "  'creditcard': '1228-1221-1221-1431',\n",
              "  'age': 40,\n",
              "  'isOlder': True},\n",
              " {'_id': ObjectId('67bd8da5a2cbca4b6c64d1d3'),\n",
              "  'name': 'Esteban Von',\n",
              "  'email': None,\n",
              "  'city': None,\n",
              "  'mac': '2d: e4: f0: dd: 90: 96',\n",
              "  'timestamp': '2015-04-25 21: 47: 09 +0700',\n",
              "  'creditcard': None,\n",
              "  'age': 36,\n",
              "  'isOlder': True},\n",
              " {'_id': ObjectId('67bd8da5a2cbca4b6c64d1df'),\n",
              "  'name': 'Annie Schamberger',\n",
              "  'email': 'blanca_smitham@pfeffervon.net',\n",
              "  'city': 'Marvinville',\n",
              "  'mac': 'f0: 45: 37: 1b: d8: 19',\n",
              "  'timestamp': '2015-04-25 10: 28: 07 +0700',\n",
              "  'creditcard': None,\n",
              "  'age': 39,\n",
              "  'isOlder': True}]"
            ]
          },
          "execution_count": 38,
          "metadata": {},
          "output_type": "execute_result"
        }
      ],
      "source": [
        "list(\n",
        "    collection.find( {'age' : {'$gt': 35}} )\n",
        ")"
      ]
    },
    {
      "cell_type": "markdown",
      "metadata": {
        "id": "5Zfnafxy0OmM"
      },
      "source": [
        "## Удаление документов"
      ]
    },
    {
      "cell_type": "code",
      "execution_count": 39,
      "metadata": {
        "id": "9uz4u-zT0OmM"
      },
      "outputs": [],
      "source": [
        "delete = collection.delete_many(\n",
        "    {'city': None}\n",
        ")"
      ]
    },
    {
      "cell_type": "code",
      "execution_count": 40,
      "metadata": {
        "id": "rW4BY5dI0OmM",
        "outputId": "27434fb5-2c00-4488-97f3-192687e57a08"
      },
      "outputs": [
        {
          "data": {
            "text/plain": [
              "9"
            ]
          },
          "execution_count": 40,
          "metadata": {},
          "output_type": "execute_result"
        }
      ],
      "source": [
        "delete.deleted_count"
      ]
    },
    {
      "cell_type": "code",
      "execution_count": null,
      "metadata": {},
      "outputs": [],
      "source": []
    }
  ],
  "metadata": {
    "colab": {
      "provenance": []
    },
    "kernelspec": {
      "display_name": "db_analisis",
      "language": "python",
      "name": "python3"
    },
    "language_info": {
      "codemirror_mode": {
        "name": "ipython",
        "version": 3
      },
      "file_extension": ".py",
      "mimetype": "text/x-python",
      "name": "python",
      "nbconvert_exporter": "python",
      "pygments_lexer": "ipython3",
      "version": "3.11.11"
    }
  },
  "nbformat": 4,
  "nbformat_minor": 0
}
