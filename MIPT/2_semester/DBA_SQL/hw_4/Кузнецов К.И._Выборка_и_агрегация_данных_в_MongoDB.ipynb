{
  "cells": [
    {
      "cell_type": "markdown",
      "metadata": {
        "id": "LbOZ0b-MLYMG"
      },
      "source": [
        "# Выборка и агрегация данных в MongoDB\n",
        "\n",
        "###Цель домашней работы\n",
        "\n",
        "Закрепить на практике основные приемы работы с СУБД MongoDB, включая выборку, сортировку, объединение, агрегацию данных и передачу результатов выборки в программу на Python в целях аналитики и дальнейшей обработки."
      ]
    },
    {
      "cell_type": "markdown",
      "metadata": {
        "id": "VGMYMmFvEAQY"
      },
      "source": [
        "### Формулировка задания\n",
        "\n",
        "В этом задании вам предстоит выполнить несколько запросов к базе данных для получения выборок по условиям, а также воспользоваться фреймворком агрегации MongoDB для построения конвейера обработки данных.\n",
        "\n",
        "Максимальное количество баллов за выполнение домашней работы: 10."
      ]
    },
    {
      "cell_type": "markdown",
      "metadata": {
        "id": "3S2xr8EESZ8A"
      },
      "source": [
        "##Что нужно использовать в работе над заданием\n",
        "\n",
        "I. MongoDB:\n",
        "\n",
        "1. Зарегистрируйтесь в сервисе MongoDB Atlas: https://www.mongodb.com/atlas/database.\n",
        "1. Создайте кластер уровня M0 (это бесплатно).\n",
        "1. Добавьте в кластер тестовую базу данных `sample_mflix`, используя опцию Load Sample Dataset.\n",
        "\n",
        "В качестве альтернативы вы можете установить MongoDB на свой локальный компьютер и импортировать необходимые датасеты в свою СУБД, загрузив их по ссылке: https://github.com/neelabalan/mongodb-sample-dataset/tree/main/sample_mflix. Для этого подключитесь к своему серверу через Compass, создайте новую БД, создайте для каждого датасета коллекцию и щелкните «Add data» → «Import JSON or CSV file».\n",
        "\n",
        "II. MongoDB Compass — в качестве вспомогательного инструмента для конструирования запросов и агрегаций.\n",
        "\n",
        "III. Python и библиотека pymongo. Работа ведется в Jupyter Notebook или Google Colaboratory. Рекомендуется использовать версию Python 3.12."
      ]
    },
    {
      "cell_type": "markdown",
      "metadata": {
        "id": "xyG0RIatRiaQ"
      },
      "source": [
        "##Ожидаемые результаты\n",
        "\n",
        "Результаты работы необходимо оформить в виде ноутбука Jupyter. Можно загрузить файл в LMS либо поделиться ссылкой на Google Colaboratory."
      ]
    },
    {
      "cell_type": "markdown",
      "metadata": {
        "id": "O9MAw9odS5LD"
      },
      "source": [
        "##Место где нужно выполнить задание\n",
        "\n"
      ]
    },
    {
      "cell_type": "code",
      "execution_count": 1,
      "metadata": {
        "id": "ktBuEf5lTBnx"
      },
      "outputs": [],
      "source": [
        "#Начать выполнение задания тут\n",
        "import pymongo\n",
        "import pandas as pd\n",
        "import matplotlib.pyplot as plt\n",
        "import seaborn as sns\n",
        "import warnings\n",
        "warnings.filterwarnings(\"ignore\")"
      ]
    },
    {
      "cell_type": "code",
      "execution_count": 2,
      "metadata": {
        "colab": {
          "base_uri": "https://localhost:8080/"
        },
        "id": "hUzn3aDI2stL",
        "outputId": "ec83cccf-e339-4f3c-aefc-29d13c2d612c"
      },
      "outputs": [
        {
          "name": "stdout",
          "output_type": "stream",
          "text": [
            "['my_database', 'sample_mflix', 'admin', 'local']\n"
          ]
        }
      ],
      "source": [
        "credentials = pd.read_csv(\n",
        "    \"../credentials.txt\").to_string().split()[3].replace(\"[\", \"\").replace(\"]\", \"\")  # Кривоватенько но ок, зато безопасно, наверное\n",
        "\n",
        "client = pymongo.MongoClient(credentials)\n",
        "# Вывести список БД для проверки подключения\n",
        "print(client.list_database_names())"
      ]
    },
    {
      "cell_type": "code",
      "execution_count": 3,
      "metadata": {},
      "outputs": [],
      "source": [
        "db = client['sample_mflix'] # присоединимся к интересующей бд"
      ]
    },
    {
      "cell_type": "code",
      "execution_count": 4,
      "metadata": {},
      "outputs": [
        {
          "data": {
            "text/plain": [
              "['comments', 'theaters', 'sessions', 'embedded_movies', 'users', 'movies']"
            ]
          },
          "execution_count": 4,
          "metadata": {},
          "output_type": "execute_result"
        }
      ],
      "source": [
        "db.list_collection_names() # проверим какие коллекции у нас есть"
      ]
    },
    {
      "cell_type": "markdown",
      "metadata": {
        "id": "3hkkb3IAiJyx"
      },
      "source": [
        "### Упражнение 1. Запросы на выборку"
      ]
    },
    {
      "cell_type": "markdown",
      "metadata": {
        "id": "2t6Z-LgtiSwL"
      },
      "source": [
        "Цель этого упражнения — закрепить навык выполнения запросов на выборку. Все запросы выполняются на базе `sample_mflix` с данными о кинофильмах."
      ]
    },
    {
      "cell_type": "markdown",
      "metadata": {
        "id": "SZnDnHNo0sPv"
      },
      "source": [
        "#### Задача 1.1 — **1 балл**"
      ]
    },
    {
      "cell_type": "markdown",
      "metadata": {
        "id": "A_Y7zbHe0u1T"
      },
      "source": [
        "Выведите из коллекции `theaters` документы о кинотеатрах в городе Florence, штат KY.\n",
        "\n",
        "Для справки:\n",
        "\n",
        "* Обратите внимание на то, что информация об адресе кинотеатров хранится во вложенных документах. Для доступа к полям вложенных документов следует использовать точку: `родительский_документ.вложенный_документ.поле`.\n",
        "* В случае затруднений с написанием логического условия обращайтесь к сопоставлению синтаксиса SQL и Mongo: https://www.mongodb.com/docs/manual/reference/sql-comparison/.\n",
        "* Если вы предпочитаете сперва выполнять запросы в Compass, из этого приложения можно выгружать код готового запроса на Python (кнопка с символом `</>`)."
      ]
    },
    {
      "cell_type": "code",
      "execution_count": 5,
      "metadata": {
        "id": "_z2iic5S0zCk"
      },
      "outputs": [
        {
          "data": {
            "text/plain": [
              "[{'_id': ObjectId('59a47287cfa9a3a73e51e893'),\n",
              "  'theaterId': 161,\n",
              "  'location': {'address': {'street1': '100 Meijer Dr.',\n",
              "    'city': 'Florence',\n",
              "    'state': 'KY',\n",
              "    'zipcode': '41042'},\n",
              "   'geo': {'type': 'Point', 'coordinates': [-84.636383, 39.014843]}}},\n",
              " {'_id': ObjectId('59a47287cfa9a3a73e51ea02'),\n",
              "  'theaterId': 2823,\n",
              "  'location': {'address': {'street1': '2823 Florence Mall',\n",
              "    'street2': '#2148',\n",
              "    'city': 'Florence',\n",
              "    'state': 'KY',\n",
              "    'zipcode': '41042'},\n",
              "   'geo': {'type': 'Point', 'coordinates': [-84.6499595, 38.9967246]}}}]"
            ]
          },
          "execution_count": 5,
          "metadata": {},
          "output_type": "execute_result"
        }
      ],
      "source": [
        "# Ваш код здесь\n",
        "theaters = db[\"theaters\"]\n",
        "result_1 = theaters.find(\n",
        "    {\n",
        "        \"location.address.city\": \"Florence\",\n",
        "        \"location.address.state\": \"KY\",\n",
        "    }\n",
        ")\n",
        "\n",
        "list(result_1)"
      ]
    },
    {
      "cell_type": "markdown",
      "metadata": {
        "id": "ZddwIpmPITB4"
      },
      "source": [
        "#### Задача 1.2 — **1 балл**"
      ]
    },
    {
      "cell_type": "markdown",
      "metadata": {
        "id": "n6hLPu2iODjH"
      },
      "source": [
        "Сделав запрос к коллекции `comments`, выведите _один_ комментарий (значение поля `text`) пользователя по имени Doreah."
      ]
    },
    {
      "cell_type": "code",
      "execution_count": 6,
      "metadata": {
        "id": "GXOz_fZCPFg_"
      },
      "outputs": [
        {
          "data": {
            "text/plain": [
              "'Porro explicabo cumque vitae sint quia quis. Consequuntur voluptatibus optio maxime ratione temporibus incidunt minus architecto.'"
            ]
          },
          "execution_count": 6,
          "metadata": {},
          "output_type": "execute_result"
        }
      ],
      "source": [
        "# Ваш код здесь\n",
        "# Первый вариант\n",
        "comments = db[\"comments\"]\n",
        "result_2_1 = comments.find(\n",
        "    {\"name\": \"Doreah\"},\n",
        ")\n",
        "\n",
        "list(result_2_1)[0][\"text\"]"
      ]
    },
    {
      "cell_type": "code",
      "execution_count": 7,
      "metadata": {},
      "outputs": [
        {
          "data": {
            "text/plain": [
              "'Porro explicabo cumque vitae sint quia quis. Consequuntur voluptatibus optio maxime ratione temporibus incidunt minus architecto.'"
            ]
          },
          "execution_count": 7,
          "metadata": {},
          "output_type": "execute_result"
        }
      ],
      "source": [
        "# Второй вариант с возвратом из БД только поля текст + id(возвращается по-умолчанию) и первого документа\n",
        "comments = db[\"comments\"]\n",
        "result_2_2 = comments.find_one(\n",
        "    {\"name\": \"Doreah\"},\n",
        "    {\"text\": 1},\n",
        ")\n",
        "\n",
        "result_2_2[\"text\"]"
      ]
    },
    {
      "cell_type": "markdown",
      "metadata": {
        "id": "tZEJx_DoXuDL"
      },
      "source": [
        "#### Задача 1.3 — **1 балл**"
      ]
    },
    {
      "cell_type": "markdown",
      "metadata": {
        "id": "h8k13yBRX0Uf"
      },
      "source": [
        "Сделав запрос к коллекции `movies`, выведите количество документов, в которых в качестве первого жанра фильма (поле `genres`) указано значение «Horror».\n",
        "\n",
        "Для справки:\n",
        "\n",
        "1. Обратите внимание, что поле `genres` представляет собой массив (индексация массивов начинается с нуля).\n",
        "1. При работе в MongoDB Shell для подсчета количества документов в курсоре можно использовать метод `count()`, однако он был удален в последних версиях библиотеки pymongo. В случае затруднений с использованием функций Mongo можно использовать для подсчета документов средства Python."
      ]
    },
    {
      "cell_type": "code",
      "execution_count": 8,
      "metadata": {
        "id": "3T6W4GVUX154"
      },
      "outputs": [
        {
          "data": {
            "text/plain": [
              "700"
            ]
          },
          "execution_count": 8,
          "metadata": {},
          "output_type": "execute_result"
        }
      ],
      "source": [
        "# Ваш код здесь\n",
        "movies = db[\"movies\"]\n",
        "\n",
        "result_3 = movies.count_documents(\n",
        "    {\n",
        "        \"genres.0\": \"Horror\"\n",
        "    }\n",
        ")\n",
        "\n",
        "result_3"
      ]
    },
    {
      "cell_type": "markdown",
      "metadata": {
        "id": "kTue_nh7TFUx"
      },
      "source": [
        "#### Задача 1.4 — **2 балла**"
      ]
    },
    {
      "cell_type": "markdown",
      "metadata": {
        "id": "kuIndgkLT9Tm"
      },
      "source": [
        "Выведите из коллекции `movies` документы о фильмах, которые в качестве первого жанра определены как «Film-Noir» либо «Horror» и были выпущены в период с 1940 по 1949 гг. (включительно)."
      ]
    },
    {
      "cell_type": "code",
      "execution_count": 9,
      "metadata": {
        "id": "hQwJj-fyTtQ1"
      },
      "outputs": [
        {
          "data": {
            "text/plain": [
              "[{'_id': ObjectId('573a1393f29313caabcdc814'),\n",
              "  'plot': \"An American man marries a Serbian immigrant who fears that she will turn into the cat person of her homeland's fables if they are intimate together.\",\n",
              "  'genres': ['Horror', 'Thriller'],\n",
              "  'runtime': 73,\n",
              "  'rated': 'APPROVED',\n",
              "  'cast': ['Simone Simon', 'Kent Smith', 'Tom Conway', 'Jane Randolph'],\n",
              "  'poster': 'https://m.media-amazon.com/images/M/MV5BNzI4YWY0NWQtNWI5YS00MGE4LWE4YTgtMzBmOWIwMzdiYTRiL2ltYWdlL2ltYWdlXkEyXkFqcGdeQXVyNjc1NTYyMjg@._V1_SY1000_SX677_AL_.jpg',\n",
              "  'title': 'Cat People',\n",
              "  'fullplot': 'Irena Dubrovna, a beautiful and mysterious Serbian-born fashion artist living in New York City, falls in love with and marries average-Joe American Oliver Reed. Their marriage suffers though, as Irena believes that she suffers from an ancient curse- whenever emotionally aroused, she will turn into a panther and kill. Oliver thinks that is absurd and childish, so he sends her to psychiatrist Dr. Judd to cure her. Easier said than done...',\n",
              "  'languages': ['English', 'Czech', 'Serbian'],\n",
              "  'released': datetime.datetime(1942, 12, 25, 0, 0),\n",
              "  'directors': ['Jacques Tourneur'],\n",
              "  'writers': ['DeWitt Bodeen'],\n",
              "  'awards': {'wins': 1, 'nominations': 2, 'text': '1 win & 2 nominations.'},\n",
              "  'lastupdated': '2015-08-21 00:53:54.453000000',\n",
              "  'year': 1942,\n",
              "  'imdb': {'rating': 7.4, 'votes': 11589, 'id': 34587},\n",
              "  'countries': ['USA'],\n",
              "  'type': 'movie',\n",
              "  'tomatoes': {'viewer': {'rating': 3.6, 'numReviews': 7115},\n",
              "   'critic': {'rating': 8.3, 'numReviews': 40, 'meter': 93},\n",
              "   'lastUpdated': datetime.datetime(2015, 9, 15, 17, 3, 25),\n",
              "   'consensus': 'Influential noir director Jacques Tourneau infused this sexy, moody horror film with some sly commentary about the psychology and the taboos of desire.',\n",
              "   'rotten': 3,\n",
              "   'production': 'RKO Pictures',\n",
              "   'fresh': 37},\n",
              "  'num_mflix_comments': 0},\n",
              " {'_id': ObjectId('573a1393f29313caabcdcd9d'),\n",
              "  'plot': 'A young Canadian nurse (Betsy) comes to the West Indies to care for Jessica, the wife of a plantation manager (Paul Holland). Jessica seems to be suffering from a kind of mental paralysis ...',\n",
              "  'genres': ['Horror'],\n",
              "  'runtime': 69,\n",
              "  'rated': 'APPROVED',\n",
              "  'cast': ['James Ellison', 'Frances Dee', 'Tom Conway', 'Edith Barrett'],\n",
              "  'num_mflix_comments': 1,\n",
              "  'poster': 'https://m.media-amazon.com/images/M/MV5BZjQzMzliN2YtYTVhNC00Zjc4LThjMmYtMTE0ZGUzMWNmYzJlXkEyXkFqcGdeQXVyMTYxNjkxOQ@@._V1_SY1000_SX677_AL_.jpg',\n",
              "  'title': 'I Walked with a Zombie',\n",
              "  'fullplot': 'A young Canadian nurse (Betsy) comes to the West Indies to care for Jessica, the wife of a plantation manager (Paul Holland). Jessica seems to be suffering from a kind of mental paralysis as a result of fever. When she falls in love with Paul, Betsy determines to cure Jessica even if she needs to use a voodoo ceremony, to give Paul what she thinks he wants.',\n",
              "  'languages': ['English'],\n",
              "  'released': datetime.datetime(1943, 4, 30, 0, 0),\n",
              "  'directors': ['Jacques Tourneur'],\n",
              "  'writers': ['Curt Siodmak (screenplay)',\n",
              "   'Ardel Wray (screenplay)',\n",
              "   'Inez Wallace (original story)'],\n",
              "  'awards': {'wins': 0, 'nominations': 2, 'text': '2 nominations.'},\n",
              "  'lastupdated': '2015-08-16 00:16:16.823000000',\n",
              "  'year': 1943,\n",
              "  'imdb': {'rating': 7.3, 'votes': 6893, 'id': 36027},\n",
              "  'countries': ['USA'],\n",
              "  'type': 'movie',\n",
              "  'tomatoes': {'viewer': {'rating': 3.6, 'numReviews': 4884, 'meter': 75},\n",
              "   'dvd': datetime.datetime(2005, 10, 4, 0, 0),\n",
              "   'critic': {'rating': 8.1, 'numReviews': 26, 'meter': 92},\n",
              "   'lastUpdated': datetime.datetime(2015, 8, 26, 18, 16, 16),\n",
              "   'consensus': \"Evocative direction by Jacques Tourneur collides with the low-rent production values of exploitateer Val Lewton in I Walked with a Zombie, a sultry sleeper that's simultaneously smarmy, eloquent and fascinating.\",\n",
              "   'rotten': 2,\n",
              "   'production': 'Warner Home Video',\n",
              "   'fresh': 24}},\n",
              " {'_id': ObjectId('573a1393f29313caabcdcdf5'),\n",
              "  'plot': 'A seemingly tame leopard used for a publicity stunt escapes and kills a young girl, spreading panic throughout a sleepy new Mexico town.',\n",
              "  'genres': ['Horror', 'Thriller'],\n",
              "  'runtime': 66,\n",
              "  'rated': 'APPROVED',\n",
              "  'cast': [\"Dennis O'Keefe\", 'Margo', 'Jean Brooks', 'Isabel Jewell'],\n",
              "  'num_mflix_comments': 0,\n",
              "  'poster': 'https://m.media-amazon.com/images/M/MV5BYmU4ZDI5NGMtYzM1OC00YTQ3LWI1NTEtNGM0Mzc0ZDA5NzI4XkEyXkFqcGdeQXVyMTQxNzMzNDI@._V1_SY1000_SX677_AL_.jpg',\n",
              "  'title': 'The Leopard Man',\n",
              "  'fullplot': 'At the encouragement of her manager, a nightclub performer in New Mexico (Kiki Walker) takes a leashed leopard into the club as a publicity gimmick. But her rival, angered by the attempt to upstage, scares the animal and it bolts. In the days that follow, people are mauled and the countryside is combed for the loose creature. But Kiki and her manager begin to wonder if maybe the leopard is not responsible for the killings.',\n",
              "  'languages': ['English', 'Spanish'],\n",
              "  'released': datetime.datetime(1943, 5, 8, 0, 0),\n",
              "  'directors': ['Jacques Tourneur'],\n",
              "  'writers': ['Ardel Wray (screenplay)',\n",
              "   'Edward Dein (additional dialogue)',\n",
              "   'Cornell Woolrich (novel)'],\n",
              "  'awards': {'wins': 0, 'nominations': 2, 'text': '2 nominations.'},\n",
              "  'lastupdated': '2015-08-05 00:17:53.897000000',\n",
              "  'year': 1943,\n",
              "  'imdb': {'rating': 6.9, 'votes': 2889, 'id': 36104},\n",
              "  'countries': ['USA'],\n",
              "  'type': 'movie',\n",
              "  'tomatoes': {'viewer': {'rating': 3.5, 'numReviews': 1375, 'meter': 67},\n",
              "   'fresh': 15,\n",
              "   'critic': {'rating': 7.4, 'numReviews': 17, 'meter': 88},\n",
              "   'rotten': 2,\n",
              "   'lastUpdated': datetime.datetime(2015, 8, 27, 18, 6, 2)}},\n",
              " {'_id': ObjectId('573a1393f29313caabcdd38c'),\n",
              "  'plot': 'A ruthless doctor and his young prize student find themselves continually harassed by their murderous supplier of illegal cadavers.',\n",
              "  'genres': ['Horror', 'Thriller'],\n",
              "  'runtime': 77,\n",
              "  'rated': 'APPROVED',\n",
              "  'title': 'The Body Snatcher',\n",
              "  'num_mflix_comments': 0,\n",
              "  'poster': 'https://m.media-amazon.com/images/M/MV5BNzNmOTE0YTktZGZmYS00N2RhLWI5NTgtYTAyZjZhYWExMmRmXkEyXkFqcGdeQXVyMTQxNzMzNDI@._V1_SY1000_SX677_AL_.jpg',\n",
              "  'countries': ['USA'],\n",
              "  'fullplot': \"In Edinburgh in 1831, Dr. Wolfe MacFarlane runs a medical school where Donald Fettes is a student. Fettes is interested in helping a young girl who has lost the use of her legs. He is certain that MacFarlane's surgical skills could be put to great use but he is reluctant to do so. The good Dr. MacFarlane has a secret that soon becomes all too obvious to young Fettes, who has only recently been promoted as his assistant: he has been paying a local cabbie, John Gray, to supply him with dead bodies for anatomical research. Gray constantly harasses MacFarlane and clearly has a hold over him dating to a famous trial many years before where Gray refused to identify the man for whom he was robbing graves. Fettes isn't aware of any of this but soon realizes exactly how Gray obtains the bodies they use in their anatomy classes.\",\n",
              "  'languages': ['English'],\n",
              "  'cast': ['Boris Karloff', 'Bela Lugosi', 'Henry Daniell', 'Edith Atwater'],\n",
              "  'directors': ['Robert Wise'],\n",
              "  'writers': ['Robert Louis Stevenson (short story)',\n",
              "   'Philip MacDonald (written for the screen by)',\n",
              "   'Val Lewton (written for the screen by)'],\n",
              "  'awards': {'wins': 0, 'nominations': 3, 'text': '3 nominations.'},\n",
              "  'lastupdated': '2015-08-16 01:24:24.840000000',\n",
              "  'year': 1945,\n",
              "  'imdb': {'rating': 7.4, 'votes': 5509, 'id': 37549},\n",
              "  'type': 'movie',\n",
              "  'tomatoes': {'viewer': {'rating': 3.5, 'numReviews': 3664, 'meter': 75},\n",
              "   'critic': {'rating': 6.8, 'numReviews': 16, 'meter': 81},\n",
              "   'lastUpdated': datetime.datetime(2015, 8, 21, 19, 11, 47),\n",
              "   'rotten': 3,\n",
              "   'production': 'RKO Pictures',\n",
              "   'fresh': 13}},\n",
              " {'_id': ObjectId('573a1393f29313caabcdd3ed'),\n",
              "  'plot': 'An architect senses impending doom as his half-remembered recurring dream turns into reality. The guests at the country house encourage him to stay as they take turns telling supernatural tales.',\n",
              "  'genres': ['Horror'],\n",
              "  'runtime': 77,\n",
              "  'rated': 'APPROVED',\n",
              "  'cast': ['Mervyn Johns', 'Roland Culver', 'Mary Merrall', 'Googie Withers'],\n",
              "  'num_mflix_comments': 0,\n",
              "  'poster': 'https://m.media-amazon.com/images/M/MV5BYTY2OTJjZjgtMzExMy00MWJlLTg2N2ItM2NhMDQxNTNkNjFhXkEyXkFqcGdeQXVyMjI4MjA5MzA@._V1_SY1000_SX677_AL_.jpg',\n",
              "  'title': 'Dead of Night',\n",
              "  'fullplot': \"Architect Walter Craig, seeking the possibility of some work at a country farmhouse, soon finds himself once again stuck in his recurring nightmare. Dreading the end of the dream that he knows is coming, he must first listen to all the assembled guests' own bizarre tales.\",\n",
              "  'languages': ['English', 'French'],\n",
              "  'released': datetime.datetime(1945, 10, 15, 0, 0),\n",
              "  'directors': ['Alberto Cavalcanti',\n",
              "   'Charles Crichton',\n",
              "   'Basil Dearden',\n",
              "   'Robert Hamer'],\n",
              "  'writers': ['H.G. Wells (original story)',\n",
              "   'E.F. Benson (original story)',\n",
              "   'John Baines (original story)',\n",
              "   'Angus MacPhail (original story)',\n",
              "   'John Baines (screenplay)',\n",
              "   'Angus MacPhail (screenplay)',\n",
              "   'T.E.B. Clarke (additional dialogue)'],\n",
              "  'awards': {'wins': 1, 'nominations': 1, 'text': '1 win & 1 nomination.'},\n",
              "  'lastupdated': '2015-09-15 04:38:12.500000000',\n",
              "  'year': 1945,\n",
              "  'imdb': {'rating': 7.7, 'votes': 7116, 'id': 37635},\n",
              "  'countries': ['UK'],\n",
              "  'type': 'movie',\n",
              "  'tomatoes': {'viewer': {'rating': 4.0, 'numReviews': 3194, 'meter': 88},\n",
              "   'dvd': datetime.datetime(2009, 1, 27, 0, 0),\n",
              "   'critic': {'rating': 8.0, 'numReviews': 27, 'meter': 96},\n",
              "   'lastUpdated': datetime.datetime(2015, 7, 26, 18, 40, 43),\n",
              "   'consensus': 'With four accomplished directors contributing, Dead of Night is a classic horror anthology that remains highly influential.',\n",
              "   'rotten': 1,\n",
              "   'production': 'Universal Pictures',\n",
              "   'fresh': 26}},\n",
              " {'_id': ObjectId('573a1393f29313caabcdd6e7'),\n",
              "  'plot': \"Chuck Scott gets a job as chauffeur to tough guy Eddie Roman; but Chuck's involvement with Eddie's fearful wife becomes a nightmare.\",\n",
              "  'genres': ['Film-Noir'],\n",
              "  'runtime': 86,\n",
              "  'rated': 'APPROVED',\n",
              "  'cast': ['Robert Cummings',\n",
              "   'Michèle Morgan',\n",
              "   'Steve Cochran',\n",
              "   'Lloyd Corrigan'],\n",
              "  'num_mflix_comments': 0,\n",
              "  'poster': 'https://m.media-amazon.com/images/M/MV5BNDI3OTM4NzMtNzQxMC00M2YxLWFmOTctNmUyNDBmMzIwZGI0XkEyXkFqcGdeQXVyMjUxODE0MDY@._V1_SY1000_SX677_AL_.jpg',\n",
              "  'title': 'The Chase',\n",
              "  'fullplot': \"Returning a lost wallet gains unemployed veteran Chuck Scott a job as chauffeur to Eddie Roman, a seeming gangster whose enemies have a way of meeting violent ends. The job proves nerve-wracking, and soon Chuck finds himself pledged to help Eddie's lovely, fearful, prisoner-wife Lorna to escape. The result leaves Chuck caught like a rat in a trap, vainly seeking a way out through dark streets. But the real chase begins when the strange plot virtually starts all over again...\",\n",
              "  'languages': ['English', 'Spanish'],\n",
              "  'released': datetime.datetime(1946, 11, 16, 0, 0),\n",
              "  'directors': ['Arthur Ripley'],\n",
              "  'writers': ['Philip Yordan (written for the screen by)',\n",
              "   'Cornell Woolrich (book)'],\n",
              "  'awards': {'wins': 0, 'nominations': 1, 'text': '1 nomination.'},\n",
              "  'lastupdated': '2015-08-01 00:47:13.267000000',\n",
              "  'year': 1946,\n",
              "  'imdb': {'rating': 6.7, 'votes': 766, 'id': 38409},\n",
              "  'countries': ['USA'],\n",
              "  'type': 'movie',\n",
              "  'tomatoes': {'viewer': {'rating': 3.2, 'numReviews': 92, 'meter': 40},\n",
              "   'dvd': datetime.datetime(2003, 8, 5, 0, 0),\n",
              "   'production': 'VCI',\n",
              "   'lastUpdated': datetime.datetime(2015, 8, 20, 18, 14, 48)}},\n",
              " {'_id': ObjectId('573a1393f29313caabcde460'),\n",
              "  'plot': \"Over-the-hill boxer Bill 'Stoker' Thompson insists he can still win, though his sexy wife Julie pleads with him to quit. But his manager Tiny is so confident he will lose, he takes money ...\",\n",
              "  'genres': ['Film-Noir', 'Sport'],\n",
              "  'runtime': 73,\n",
              "  'rated': 'APPROVED',\n",
              "  'cast': ['Robert Ryan', 'Audrey Totter', 'George Tobias', 'Alan Baxter'],\n",
              "  'num_mflix_comments': 0,\n",
              "  'poster': 'https://m.media-amazon.com/images/M/MV5BMjEwNjU3NzE1Nl5BMl5BanBnXkFtZTgwMjQ0MDgyMTE@._V1_SY1000_SX677_AL_.jpg',\n",
              "  'title': 'The Set-Up',\n",
              "  'fullplot': 'Over-the-hill boxer Bill \\'Stoker\\' Thompson insists he can still win, though his sexy wife Julie pleads with him to quit. But his manager Tiny is so confident he will lose, he takes money for a \"dive\" from tough gambler Little Boy...without bothering to tell Stoker. Tension builds as Stoker hopes to \"take\" Tiger Nelson, unaware of what will happen to him if he does.',\n",
              "  'languages': ['English'],\n",
              "  'released': datetime.datetime(1949, 4, 2, 0, 0),\n",
              "  'directors': ['Robert Wise'],\n",
              "  'writers': ['Art Cohn (screenplay)',\n",
              "   'Joseph Moncure March (from the poem by)'],\n",
              "  'awards': {'wins': 3,\n",
              "   'nominations': 1,\n",
              "   'text': 'Nominated for 1 BAFTA Film Award. Another 2 wins & 1 nomination.'},\n",
              "  'lastupdated': '2015-08-26 00:13:18.837000000',\n",
              "  'year': 1949,\n",
              "  'imdb': {'rating': 7.8, 'votes': 5309, 'id': 41859},\n",
              "  'countries': ['USA'],\n",
              "  'type': 'movie',\n",
              "  'tomatoes': {'viewer': {'rating': 4.0, 'numReviews': 1692, 'meter': 88},\n",
              "   'dvd': datetime.datetime(2004, 7, 6, 0, 0),\n",
              "   'critic': {'rating': 5.9, 'numReviews': 7, 'meter': 86},\n",
              "   'lastUpdated': datetime.datetime(2015, 7, 26, 18, 33, 52),\n",
              "   'rotten': 1,\n",
              "   'fresh': 6}}]"
            ]
          },
          "execution_count": 9,
          "metadata": {},
          "output_type": "execute_result"
        }
      ],
      "source": [
        "# Ваш код здесь\n",
        "result_4 = movies.find(\n",
        "    {\n",
        "        \"genres.0\": {\"$in\": [\"Film-Noir\", \"Horror\"]},\n",
        "        \"year\": {\"$gte\": 1940, \"$lte\": 1949}\n",
        "    }\n",
        ")\n",
        "list(result_4)"
      ]
    },
    {
      "cell_type": "markdown",
      "metadata": {
        "id": "B56JNDs88fnh"
      },
      "source": [
        "#### Задача 1.5 — **1 балл**"
      ]
    },
    {
      "cell_type": "markdown",
      "metadata": {
        "id": "VvFx2iL98mTQ"
      },
      "source": [
        "Модифицируйте запрос из задачи 1.4 таким образом, чтобы осуществить _проекцию_: результатом выборки должен стать список словарей, каждый из которых содержит только два поля: `title` и `year`.\n",
        "\n",
        "Для справки о проекции см. документацию по методу `find()` в pymongo:\n",
        "https://pymongo.readthedocs.io/en/stable/api/pymongo/collection.html#pymongo.collection.Collection.find"
      ]
    },
    {
      "cell_type": "code",
      "execution_count": 10,
      "metadata": {
        "id": "tnkwb6HXY014"
      },
      "outputs": [
        {
          "data": {
            "text/plain": [
              "[{'title': 'Cat People', 'year': 1942},\n",
              " {'title': 'I Walked with a Zombie', 'year': 1943},\n",
              " {'title': 'The Leopard Man', 'year': 1943},\n",
              " {'title': 'The Body Snatcher', 'year': 1945},\n",
              " {'title': 'Dead of Night', 'year': 1945},\n",
              " {'title': 'The Chase', 'year': 1946},\n",
              " {'title': 'The Set-Up', 'year': 1949}]"
            ]
          },
          "execution_count": 10,
          "metadata": {},
          "output_type": "execute_result"
        }
      ],
      "source": [
        "# Ваш код здесь\n",
        "result_5 = movies.find(\n",
        "    {\n",
        "        \"genres.0\": {\"$in\": [\"Film-Noir\", \"Horror\"]},\n",
        "        \"year\": {\"$gte\": 1940, \"$lte\": 1949},\n",
        "    },\n",
        "    {\"title\": 1, \"year\": 1, \"_id\": 0}\n",
        ")\n",
        "list(result_5)"
      ]
    },
    {
      "cell_type": "markdown",
      "metadata": {
        "id": "tzx1nDQ08ojw"
      },
      "source": [
        "### Упражнение 2. Конвейер агрегации"
      ]
    },
    {
      "cell_type": "markdown",
      "metadata": {
        "id": "nx6axWfJbBbc"
      },
      "source": [
        "#### Задача 2.1 — **3 балла**"
      ]
    },
    {
      "cell_type": "markdown",
      "metadata": {
        "id": "oj1sBQtGbLNQ"
      },
      "source": [
        "В рамках этой задачи требуется узнать, какие фильмы получили наибольшее число комментариев. Составьте для этого конвейер агрегации с перечисленными ниже этапами. Для удобства рекомендуется воспользоваться приложением Compass.\n",
        "\n",
        "1. Сгруппировать документы коллекции `comments` по полю `movie_id` и подсчитать количество комментариев для каждого фильма, записав его в поле `count`.\n",
        "1. Отсортировать получившийся набор данных по убыванию количества комментариев (так чтобы первый документ в этом наборе указывал на фильм с наибольшим количеством комментариев).\n",
        "1. Используя оператор `$lookup`, присоединить коллекцию `movies` (по полю `movie_id`).\n",
        "1. Выполнить проекцию, оставив в наборе данных только три поля: название фильма (`title`), год выпуска (`year`) и количество комментариев (поле `count`, добавленное на первом этапе). Для этого воспользуйтесь оператором `$project`: https://www.mongodb.com/docs/manual/reference/operator/aggregation/project/. Обратите внимание, что данные из коллекции `movies` (`title` и `year`) на этом этапе окажутся внутри массива.\n",
        "1. Применить оператор `$unwind`, чтобы деконструировать этот массив. См. https://www.mongodb.com/docs/manual/reference/operator/aggregation/unwind/. В результате массив должен превратиться в одиночный объект.\n",
        "1. Применить оператор `$addFields`, чтобы добавить поля `title` и `year` на вернхий уровень структуры документа. См. https://www.mongodb.com/docs/manual/reference/operator/aggregation/addFields/.\n",
        "1. Еще раз выполнить проекцию, чтобы удалить поле с массивом.\n",
        "\n",
        "Ваш алгоритм решения может отличаться от приведенного здесь. Главное — достичь цели: получить плоский набор данных с тремя полями (`count` — количество комментариев, `year` — год выпуска, `title` — название фильма).\n",
        "\n",
        "Скопируйте полученный конвейер в этот документ в виде кода на Python и выведите его на экран в виде списка словарей."
      ]
    },
    {
      "cell_type": "code",
      "execution_count": 11,
      "metadata": {},
      "outputs": [
        {
          "data": {
            "application/vnd.microsoft.datawrangler.viewer.v0+json": {
              "columns": [
                {
                  "name": "index",
                  "rawType": "int64",
                  "type": "integer"
                },
                {
                  "name": "count",
                  "rawType": "int64",
                  "type": "integer"
                },
                {
                  "name": "title",
                  "rawType": "object",
                  "type": "string"
                },
                {
                  "name": "year",
                  "rawType": "object",
                  "type": "unknown"
                }
              ],
              "conversionMethod": "pd.DataFrame",
              "ref": "ef7cd606-d6ac-4c61-8fc2-f416b20a7afe",
              "rows": [
                [
                  "0",
                  "161",
                  "The Taking of Pelham 1 2 3",
                  "2009"
                ],
                [
                  "1",
                  "158",
                  "About a Boy",
                  "2002"
                ],
                [
                  "2",
                  "158",
                  "Ocean's Eleven",
                  "2001"
                ],
                [
                  "3",
                  "158",
                  "Terminator Salvation",
                  "2009"
                ],
                [
                  "4",
                  "158",
                  "50 First Dates",
                  "2004"
                ],
                [
                  "5",
                  "157",
                  "The Mummy",
                  "1999"
                ],
                [
                  "6",
                  "157",
                  "Sherlock Holmes",
                  "2009"
                ],
                [
                  "7",
                  "155",
                  "Hellboy II: The Golden Army",
                  "2008"
                ],
                [
                  "8",
                  "154",
                  "Anchorman: The Legend of Ron Burgundy",
                  "2004"
                ],
                [
                  "9",
                  "154",
                  "The Mummy Returns",
                  "2001"
                ],
                [
                  "10",
                  "153",
                  "Bruce Almighty",
                  "2003"
                ],
                [
                  "11",
                  "153",
                  "E.T. the Extra-Terrestrial",
                  "1982"
                ],
                [
                  "12",
                  "153",
                  "Cinderella",
                  "1950"
                ],
                [
                  "13",
                  "153",
                  "Mission: Impossible",
                  "1996"
                ],
                [
                  "14",
                  "153",
                  "X-Men",
                  "2000"
                ],
                [
                  "15",
                  "153",
                  "Wanted",
                  "2008"
                ],
                [
                  "16",
                  "153",
                  "American Pie",
                  "1999"
                ],
                [
                  "17",
                  "153",
                  "Pirates of the Caribbean: At World's End",
                  "2007"
                ],
                [
                  "18",
                  "152",
                  "Gladiator",
                  "2000"
                ],
                [
                  "19",
                  "152",
                  "The Ring",
                  "2002"
                ],
                [
                  "20",
                  "151",
                  "Meet the Fockers",
                  "2004"
                ],
                [
                  "21",
                  "151",
                  "The Mask",
                  "1994"
                ],
                [
                  "22",
                  "151",
                  "The Matrix Reloaded",
                  "2003"
                ],
                [
                  "23",
                  "150",
                  "Toy Story 2",
                  "1999"
                ],
                [
                  "24",
                  "150",
                  "Big Daddy",
                  "1999"
                ],
                [
                  "25",
                  "148",
                  "Braveheart",
                  "1995"
                ],
                [
                  "26",
                  "148",
                  "Jurassic Park",
                  "1993"
                ],
                [
                  "27",
                  "148",
                  "I Am Legend",
                  "2007"
                ],
                [
                  "28",
                  "147",
                  "The Express",
                  "2008"
                ],
                [
                  "29",
                  "147",
                  "Jaws",
                  "1975"
                ],
                [
                  "30",
                  "147",
                  "Scary Movie",
                  "2000"
                ],
                [
                  "31",
                  "146",
                  "I Now Pronounce You Chuck & Larry",
                  "2007"
                ],
                [
                  "32",
                  "146",
                  "Twister",
                  "1996"
                ],
                [
                  "33",
                  "145",
                  "Dumb & Dumber",
                  "1994"
                ],
                [
                  "34",
                  "145",
                  "300",
                  "2006"
                ],
                [
                  "35",
                  "145",
                  "Cast Away",
                  "2000"
                ],
                [
                  "36",
                  "144",
                  "The Green Mile",
                  "1999"
                ],
                [
                  "37",
                  "144",
                  "I Love You, Man",
                  "2009"
                ],
                [
                  "38",
                  "144",
                  "Aladdin",
                  "1992"
                ],
                [
                  "39",
                  "144",
                  "Zoolander",
                  "2001"
                ],
                [
                  "40",
                  "144",
                  "Saving Private Ryan",
                  "1998"
                ],
                [
                  "41",
                  "144",
                  "Spider-Man 3",
                  "2007"
                ],
                [
                  "42",
                  "144",
                  "Dègkeselyè",
                  "1982"
                ],
                [
                  "43",
                  "144",
                  "Hostel: Part II",
                  "2007"
                ],
                [
                  "44",
                  "144",
                  "The Hangover",
                  "2009"
                ],
                [
                  "45",
                  "144",
                  "King Kong",
                  "2005"
                ],
                [
                  "46",
                  "144",
                  "The Simpsons Movie",
                  "2007"
                ],
                [
                  "47",
                  "144",
                  "The Last House on the Left",
                  "2009"
                ],
                [
                  "48",
                  "144",
                  "School of Rock",
                  "2003"
                ],
                [
                  "49",
                  "143",
                  "Ice Age",
                  "2002"
                ]
              ],
              "shape": {
                "columns": 3,
                "rows": 6787
              }
            },
            "text/html": [
              "<div>\n",
              "<style scoped>\n",
              "    .dataframe tbody tr th:only-of-type {\n",
              "        vertical-align: middle;\n",
              "    }\n",
              "\n",
              "    .dataframe tbody tr th {\n",
              "        vertical-align: top;\n",
              "    }\n",
              "\n",
              "    .dataframe thead th {\n",
              "        text-align: right;\n",
              "    }\n",
              "</style>\n",
              "<table border=\"1\" class=\"dataframe\">\n",
              "  <thead>\n",
              "    <tr style=\"text-align: right;\">\n",
              "      <th></th>\n",
              "      <th>count</th>\n",
              "      <th>title</th>\n",
              "      <th>year</th>\n",
              "    </tr>\n",
              "  </thead>\n",
              "  <tbody>\n",
              "    <tr>\n",
              "      <th>0</th>\n",
              "      <td>161</td>\n",
              "      <td>The Taking of Pelham 1 2 3</td>\n",
              "      <td>2009</td>\n",
              "    </tr>\n",
              "    <tr>\n",
              "      <th>1</th>\n",
              "      <td>158</td>\n",
              "      <td>About a Boy</td>\n",
              "      <td>2002</td>\n",
              "    </tr>\n",
              "    <tr>\n",
              "      <th>2</th>\n",
              "      <td>158</td>\n",
              "      <td>Ocean's Eleven</td>\n",
              "      <td>2001</td>\n",
              "    </tr>\n",
              "    <tr>\n",
              "      <th>3</th>\n",
              "      <td>158</td>\n",
              "      <td>Terminator Salvation</td>\n",
              "      <td>2009</td>\n",
              "    </tr>\n",
              "    <tr>\n",
              "      <th>4</th>\n",
              "      <td>158</td>\n",
              "      <td>50 First Dates</td>\n",
              "      <td>2004</td>\n",
              "    </tr>\n",
              "    <tr>\n",
              "      <th>...</th>\n",
              "      <td>...</td>\n",
              "      <td>...</td>\n",
              "      <td>...</td>\n",
              "    </tr>\n",
              "    <tr>\n",
              "      <th>6782</th>\n",
              "      <td>1</td>\n",
              "      <td>El hombre sin rostro</td>\n",
              "      <td>1950</td>\n",
              "    </tr>\n",
              "    <tr>\n",
              "      <th>6783</th>\n",
              "      <td>1</td>\n",
              "      <td>Robin of Locksley</td>\n",
              "      <td>1996</td>\n",
              "    </tr>\n",
              "    <tr>\n",
              "      <th>6784</th>\n",
              "      <td>1</td>\n",
              "      <td>Teknolust</td>\n",
              "      <td>2002</td>\n",
              "    </tr>\n",
              "    <tr>\n",
              "      <th>6785</th>\n",
              "      <td>1</td>\n",
              "      <td>Spy Kids 3-D: Game Over</td>\n",
              "      <td>2003</td>\n",
              "    </tr>\n",
              "    <tr>\n",
              "      <th>6786</th>\n",
              "      <td>1</td>\n",
              "      <td>Persuasion</td>\n",
              "      <td>1995</td>\n",
              "    </tr>\n",
              "  </tbody>\n",
              "</table>\n",
              "<p>6787 rows × 3 columns</p>\n",
              "</div>"
            ],
            "text/plain": [
              "      count                       title  year\n",
              "0       161  The Taking of Pelham 1 2 3  2009\n",
              "1       158                 About a Boy  2002\n",
              "2       158              Ocean's Eleven  2001\n",
              "3       158        Terminator Salvation  2009\n",
              "4       158              50 First Dates  2004\n",
              "...     ...                         ...   ...\n",
              "6782      1        El hombre sin rostro  1950\n",
              "6783      1           Robin of Locksley  1996\n",
              "6784      1                   Teknolust  2002\n",
              "6785      1     Spy Kids 3-D: Game Over  2003\n",
              "6786      1                  Persuasion  1995\n",
              "\n",
              "[6787 rows x 3 columns]"
            ]
          },
          "metadata": {},
          "output_type": "display_data"
        }
      ],
      "source": [
        "# Реализация через описанный алгоритм\n",
        "pipeline = [\n",
        "    {\n",
        "        '$group': {\n",
        "            '_id': '$movie_id',\n",
        "            'count': {\n",
        "                '$sum': 1\n",
        "            }\n",
        "        }\n",
        "    }, {\n",
        "        '$sort': {\n",
        "            'count': -1\n",
        "        }\n",
        "    }, {\n",
        "        '$lookup': {\n",
        "            'as': 'movies_comments',\n",
        "            'from': 'movies',\n",
        "            'foreignField': '_id',\n",
        "            'localField': '_id'\n",
        "        }\n",
        "    }, {\n",
        "        '$project': {\n",
        "            'movies_comments.title': 1,\n",
        "            'movies_comments.year': 1,\n",
        "            'count': 1\n",
        "        }\n",
        "    }, {\n",
        "        '$unwind': {\n",
        "            'path': '$movies_comments'\n",
        "        }\n",
        "    }, {\n",
        "        '$addFields': {\n",
        "            'title': '$movies_comments.title',\n",
        "            'year': '$movies_comments.year'\n",
        "        }\n",
        "    }, {\n",
        "        '$project': {\n",
        "            \"_id\": 0,\n",
        "            'title': 1,\n",
        "            'year': 1,\n",
        "            'count': 1\n",
        "        }\n",
        "    }\n",
        "]\n",
        "\n",
        "result_6_1 = list(comments.aggregate(pipeline))\n",
        "result_6_1 = pd.DataFrame(result_6_1)\n",
        "display(result_6_1)"
      ]
    },
    {
      "cell_type": "code",
      "execution_count": 16,
      "metadata": {},
      "outputs": [
        {
          "data": {
            "application/vnd.microsoft.datawrangler.viewer.v0+json": {
              "columns": [
                {
                  "name": "index",
                  "rawType": "int64",
                  "type": "integer"
                },
                {
                  "name": "count",
                  "rawType": "int64",
                  "type": "integer"
                },
                {
                  "name": "title",
                  "rawType": "object",
                  "type": "string"
                },
                {
                  "name": "year",
                  "rawType": "object",
                  "type": "unknown"
                }
              ],
              "conversionMethod": "pd.DataFrame",
              "ref": "946588a4-6f23-4c0c-9571-96bd470ec042",
              "rows": [
                [
                  "0",
                  "161",
                  "The Taking of Pelham 1 2 3",
                  "2009"
                ],
                [
                  "1",
                  "158",
                  "About a Boy",
                  "2002"
                ],
                [
                  "2",
                  "158",
                  "50 First Dates",
                  "2004"
                ],
                [
                  "3",
                  "158",
                  "Ocean's Eleven",
                  "2001"
                ],
                [
                  "4",
                  "158",
                  "Terminator Salvation",
                  "2009"
                ],
                [
                  "5",
                  "157",
                  "Sherlock Holmes",
                  "2009"
                ],
                [
                  "6",
                  "157",
                  "The Mummy",
                  "1999"
                ],
                [
                  "7",
                  "155",
                  "Hellboy II: The Golden Army",
                  "2008"
                ],
                [
                  "8",
                  "154",
                  "Anchorman: The Legend of Ron Burgundy",
                  "2004"
                ],
                [
                  "9",
                  "154",
                  "The Mummy Returns",
                  "2001"
                ],
                [
                  "10",
                  "153",
                  "Cinderella",
                  "1950"
                ],
                [
                  "11",
                  "153",
                  "American Pie",
                  "1999"
                ],
                [
                  "12",
                  "153",
                  "Pirates of the Caribbean: At World's End",
                  "2007"
                ],
                [
                  "13",
                  "153",
                  "Bruce Almighty",
                  "2003"
                ],
                [
                  "14",
                  "153",
                  "Mission: Impossible",
                  "1996"
                ],
                [
                  "15",
                  "153",
                  "Wanted",
                  "2008"
                ],
                [
                  "16",
                  "153",
                  "X-Men",
                  "2000"
                ],
                [
                  "17",
                  "153",
                  "E.T. the Extra-Terrestrial",
                  "1982"
                ],
                [
                  "18",
                  "152",
                  "Gladiator",
                  "2000"
                ],
                [
                  "19",
                  "152",
                  "The Ring",
                  "2002"
                ],
                [
                  "20",
                  "151",
                  "The Matrix Reloaded",
                  "2003"
                ],
                [
                  "21",
                  "151",
                  "The Mask",
                  "1994"
                ],
                [
                  "22",
                  "151",
                  "Meet the Fockers",
                  "2004"
                ],
                [
                  "23",
                  "150",
                  "Big Daddy",
                  "1999"
                ],
                [
                  "24",
                  "150",
                  "Toy Story 2",
                  "1999"
                ],
                [
                  "25",
                  "148",
                  "Braveheart",
                  "1995"
                ],
                [
                  "26",
                  "148",
                  "Jurassic Park",
                  "1993"
                ],
                [
                  "27",
                  "148",
                  "I Am Legend",
                  "2007"
                ],
                [
                  "28",
                  "147",
                  "Jaws",
                  "1975"
                ],
                [
                  "29",
                  "147",
                  "The Express",
                  "2008"
                ],
                [
                  "30",
                  "147",
                  "Scary Movie",
                  "2000"
                ],
                [
                  "31",
                  "146",
                  "I Now Pronounce You Chuck & Larry",
                  "2007"
                ],
                [
                  "32",
                  "146",
                  "Twister",
                  "1996"
                ],
                [
                  "33",
                  "145",
                  "Dumb & Dumber",
                  "1994"
                ],
                [
                  "34",
                  "145",
                  "Cast Away",
                  "2000"
                ],
                [
                  "35",
                  "145",
                  "300",
                  "2006"
                ],
                [
                  "36",
                  "144",
                  "The Hangover",
                  "2009"
                ],
                [
                  "37",
                  "144",
                  "The Simpsons Movie",
                  "2007"
                ],
                [
                  "38",
                  "144",
                  "Saving Private Ryan",
                  "1998"
                ],
                [
                  "39",
                  "144",
                  "King Kong",
                  "2005"
                ],
                [
                  "40",
                  "144",
                  "The Green Mile",
                  "1999"
                ],
                [
                  "41",
                  "144",
                  "The Last House on the Left",
                  "2009"
                ],
                [
                  "42",
                  "144",
                  "Hostel: Part II",
                  "2007"
                ],
                [
                  "43",
                  "144",
                  "Spider-Man 3",
                  "2007"
                ],
                [
                  "44",
                  "144",
                  "Zoolander",
                  "2001"
                ],
                [
                  "45",
                  "144",
                  "School of Rock",
                  "2003"
                ],
                [
                  "46",
                  "144",
                  "Aladdin",
                  "1992"
                ],
                [
                  "47",
                  "144",
                  "Dègkeselyè",
                  "1982"
                ],
                [
                  "48",
                  "144",
                  "I Love You, Man",
                  "2009"
                ],
                [
                  "49",
                  "143",
                  "Rush Hour 2",
                  "2001"
                ]
              ],
              "shape": {
                "columns": 3,
                "rows": 6787
              }
            },
            "text/html": [
              "<div>\n",
              "<style scoped>\n",
              "    .dataframe tbody tr th:only-of-type {\n",
              "        vertical-align: middle;\n",
              "    }\n",
              "\n",
              "    .dataframe tbody tr th {\n",
              "        vertical-align: top;\n",
              "    }\n",
              "\n",
              "    .dataframe thead th {\n",
              "        text-align: right;\n",
              "    }\n",
              "</style>\n",
              "<table border=\"1\" class=\"dataframe\">\n",
              "  <thead>\n",
              "    <tr style=\"text-align: right;\">\n",
              "      <th></th>\n",
              "      <th>count</th>\n",
              "      <th>title</th>\n",
              "      <th>year</th>\n",
              "    </tr>\n",
              "  </thead>\n",
              "  <tbody>\n",
              "    <tr>\n",
              "      <th>0</th>\n",
              "      <td>161</td>\n",
              "      <td>The Taking of Pelham 1 2 3</td>\n",
              "      <td>2009</td>\n",
              "    </tr>\n",
              "    <tr>\n",
              "      <th>1</th>\n",
              "      <td>158</td>\n",
              "      <td>About a Boy</td>\n",
              "      <td>2002</td>\n",
              "    </tr>\n",
              "    <tr>\n",
              "      <th>2</th>\n",
              "      <td>158</td>\n",
              "      <td>50 First Dates</td>\n",
              "      <td>2004</td>\n",
              "    </tr>\n",
              "    <tr>\n",
              "      <th>3</th>\n",
              "      <td>158</td>\n",
              "      <td>Ocean's Eleven</td>\n",
              "      <td>2001</td>\n",
              "    </tr>\n",
              "    <tr>\n",
              "      <th>4</th>\n",
              "      <td>158</td>\n",
              "      <td>Terminator Salvation</td>\n",
              "      <td>2009</td>\n",
              "    </tr>\n",
              "    <tr>\n",
              "      <th>...</th>\n",
              "      <td>...</td>\n",
              "      <td>...</td>\n",
              "      <td>...</td>\n",
              "    </tr>\n",
              "    <tr>\n",
              "      <th>6782</th>\n",
              "      <td>1</td>\n",
              "      <td>Slugs: The Movie</td>\n",
              "      <td>1988</td>\n",
              "    </tr>\n",
              "    <tr>\n",
              "      <th>6783</th>\n",
              "      <td>1</td>\n",
              "      <td>The Fatal Encounter</td>\n",
              "      <td>2014</td>\n",
              "    </tr>\n",
              "    <tr>\n",
              "      <th>6784</th>\n",
              "      <td>1</td>\n",
              "      <td>Along Came a Nanny</td>\n",
              "      <td>2014</td>\n",
              "    </tr>\n",
              "    <tr>\n",
              "      <th>6785</th>\n",
              "      <td>1</td>\n",
              "      <td>True Friends</td>\n",
              "      <td>1954</td>\n",
              "    </tr>\n",
              "    <tr>\n",
              "      <th>6786</th>\n",
              "      <td>1</td>\n",
              "      <td>House of Wax</td>\n",
              "      <td>1953</td>\n",
              "    </tr>\n",
              "  </tbody>\n",
              "</table>\n",
              "<p>6787 rows × 3 columns</p>\n",
              "</div>"
            ],
            "text/plain": [
              "      count                       title  year\n",
              "0       161  The Taking of Pelham 1 2 3  2009\n",
              "1       158                 About a Boy  2002\n",
              "2       158              50 First Dates  2004\n",
              "3       158              Ocean's Eleven  2001\n",
              "4       158        Terminator Salvation  2009\n",
              "...     ...                         ...   ...\n",
              "6782      1            Slugs: The Movie  1988\n",
              "6783      1         The Fatal Encounter  2014\n",
              "6784      1          Along Came a Nanny  2014\n",
              "6785      1                True Friends  1954\n",
              "6786      1                House of Wax  1953\n",
              "\n",
              "[6787 rows x 3 columns]"
            ]
          },
          "execution_count": 16,
          "metadata": {},
          "output_type": "execute_result"
        }
      ],
      "source": [
        "# Реализация через оптимизацию шагов (избавимся от лишней проекции)\n",
        "pipeline = [\n",
        "    {\n",
        "        '$group': {\n",
        "            '_id': '$movie_id', \n",
        "            'count': {\n",
        "                '$sum': 1\n",
        "            }\n",
        "        }\n",
        "    }, {\n",
        "        '$sort': {\n",
        "            'count': -1\n",
        "        }\n",
        "    }, {\n",
        "        '$lookup': {\n",
        "            'from': 'movies', \n",
        "            'localField': '_id', \n",
        "            'foreignField': '_id', \n",
        "            'as': 'movies_comments'\n",
        "        }\n",
        "    }, {\n",
        "        \"$unwind\": \"$movies_comments\"\n",
        "    }, {\n",
        "        '$project': {\n",
        "            '_id': 0, \n",
        "            'title': '$movies_comments.title', \n",
        "            'year': '$movies_comments.year', \n",
        "            'count': 1\n",
        "        }\n",
        "    }\n",
        "]\n",
        "\n",
        "result_6_2 = list(comments.aggregate(pipeline))\n",
        "result_6_2 = pd.DataFrame(result_6_2)\n",
        "result_6_2"
      ]
    },
    {
      "cell_type": "markdown",
      "metadata": {
        "id": "AFZpD6MVqVff"
      },
      "source": [
        "#### Задача 2.2 — **1 балл**"
      ]
    },
    {
      "cell_type": "markdown",
      "metadata": {
        "id": "fqF1_fs1qWvj"
      },
      "source": [
        "Используя данные, полученные в задаче 2.1, выведите на экран столбчатую диаграмму, показывающую топ-20 наиболее комментируемых фильмов. По оси ординат выведите названия этих фильмов (подписи разместите слева диаграммы), по оси абсцисс — количество комментариев.\n",
        "\n",
        "Для решения задачи можно использовать любую библиотеку, например Seaborn или Matplotlib."
      ]
    },
    {
      "cell_type": "code",
      "execution_count": 20,
      "metadata": {
        "id": "J17JdNLymo5k"
      },
      "outputs": [
        {
          "data": {
            "image/png": "[encoded data removed]",
            "text/plain": [
              "<Figure size 1000x800 with 1 Axes>"
            ]
          },
          "metadata": {},
          "output_type": "display_data"
        }
      ],
      "source": [
        "# Ваш код здесь\n",
        "plt.figure(figsize=(10, 8))\n",
        "sns.barplot(x=\"count\", y=\"title\", data=result_6_1.iloc[:20], palette=\"hot\")\n",
        "plt.xlabel(\"Количество комментариев\")\n",
        "plt.ylabel(\"Название фильма\")\n",
        "plt.title(\"Топ-20\")\n",
        "plt.show()"
      ]
    },
    {
      "cell_type": "code",
      "execution_count": null,
      "metadata": {},
      "outputs": [],
      "source": []
    }
  ],
  "metadata": {
    "colab": {
      "provenance": []
    },
    "kernelspec": {
      "display_name": "db_analisis",
      "language": "python",
      "name": "python3"
    },
    "language_info": {
      "codemirror_mode": {
        "name": "ipython",
        "version": 3
      },
      "file_extension": ".py",
      "mimetype": "text/x-python",
      "name": "python",
      "nbconvert_exporter": "python",
      "pygments_lexer": "ipython3",
      "version": "3.11.11"
    }
  },
  "nbformat": 4,
  "nbformat_minor": 0
}
