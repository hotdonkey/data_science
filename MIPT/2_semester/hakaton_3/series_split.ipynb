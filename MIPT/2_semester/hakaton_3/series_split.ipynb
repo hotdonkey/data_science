{
 "cells": [
  {
   "cell_type": "markdown",
   "id": "f88d806a",
   "metadata": {},
   "source": [
    "\n",
    "### Примерные границы ключевых моментов в процентах:\n",
    "\n",
    "| Событие                  | Время в минутах | Процент от общей длины (~48 мин) |\n",
    "|--------------------------|------------------|----------------------------------|\n",
    "| Cold Open / Teaser       | 0–3              | 0–6%                             |\n",
    "| Act 1 / Завязка           | 3–12             | 6–25%                            |\n",
    "| Act 2 / Развитие          | 12–24            | 25–50%                           |\n",
    "| Midpoint                 | ~24              | 50%                              |\n",
    "| Act 3 / Подъём к кульминации | 24–36         | 50–75%                           |\n",
    "| Climax / Кульминация      | 36–42            | 75–87.5%                         |\n",
    "| Tag / Развязка            | 42–48            | 87.5–100%                        |\n"
   ]
  },
  {
   "cell_type": "code",
   "execution_count": 1,
   "id": "375aae76",
   "metadata": {},
   "outputs": [],
   "source": [
    "import random\n",
    "\n",
    "def get_act_boundaries(\n",
    "    total_duration=2700,\n",
    "    highlight_length=20,\n",
    "    num_highlights=3,\n",
    "    allowed_acts=None,\n",
    "    min_gap=30,\n",
    "    return_discr=False\n",
    "):\n",
    "    \"\"\"\n",
    "    Генерирует случайные таймкоды для рекапа на основе классической структуры сериала.\n",
    "    \n",
    "    Параметры:\n",
    "        total_duration (int): общая продолжительность серии в секундах\n",
    "        highlight_length (int): длина одного клипа в секундах\n",
    "        num_highlights (int): сколько клипов нужно выбрать\n",
    "        allowed_acts (list): список индексов актов, из которых брать клипы (например [4, 5])\n",
    "        min_gap (int): минимальное расстояние между клипами (чтобы не пересекались)\n",
    "        return_discr=False : возвращает описание границы\n",
    "    \n",
    "    Возвращает:\n",
    "        list of tuples: [(start_sec, end_sec, act_name), ...]\n",
    "    \"\"\"\n",
    "    # Стандартная структура серии\n",
    "    act_boundaries_percent = [\n",
    "        ('Cold Open / Teaser', 0.00, 0.06),\n",
    "        ('Act 1 / Завязка', 0.06, 0.25),\n",
    "        ('Act 2 / Развитие', 0.25, 0.50),\n",
    "        ('Midpoint', 0.50, 0.50),\n",
    "        ('Act 3 / Подъём к кульминации', 0.50, 0.75),\n",
    "        ('Climax / Кульминация', 0.75, 0.875),\n",
    "        ('Tag / Развязка', 0.875, 1.00)\n",
    "    ]\n",
    "\n",
    "    # Переводим в секунды\n",
    "    act_boundaries_seconds = []\n",
    "    for name, start_p, end_p in act_boundaries_percent:\n",
    "        start_s = int(total_duration * start_p)\n",
    "        end_s = int(total_duration * end_p)\n",
    "        act_boundaries_seconds.append((name, start_s, end_s))\n",
    "\n",
    "    if allowed_acts is None:\n",
    "        allowed_acts = list(range(len(act_boundaries_seconds)))\n",
    "\n",
    "    highlights = []\n",
    "\n",
    "    def random_clip(start, end, length):\n",
    "        \"\"\"Возвращает случайный клип заданной длины внутри диапазона\"\"\"\n",
    "        available_start = max(start, end - length - 1)\n",
    "        if available_start >= end - 1:\n",
    "            return None  # невозможно выбрать клип такой длины\n",
    "        clip_start = random.randint(available_start, end - 1)\n",
    "        return (clip_start, clip_start + length)\n",
    "\n",
    "    attempts = 0\n",
    "    max_attempts = 20\n",
    "\n",
    "    while len(highlights) < num_highlights and attempts < max_attempts:\n",
    "        # Выбираем случайный акт\n",
    "        act_idx = random.choice(allowed_acts)\n",
    "        act_name, a_start, a_end = act_boundaries_seconds[act_idx]\n",
    "\n",
    "        # Пробуем создать клип\n",
    "        clip = random_clip(a_start, a_end, highlight_length)\n",
    "        if clip is None:\n",
    "            attempts += 1\n",
    "            continue\n",
    "\n",
    "        # Проверяем, чтобы не пересекался с предыдущими\n",
    "        if return_discr:\n",
    "            if all(abs(clip[0] - h[0]) > min_gap for h in highlights):\n",
    "                highlights.append((*clip, act_name))\n",
    "                attempts = 0\n",
    "            else:\n",
    "                attempts += 1\n",
    "        else:\n",
    "            if all(abs(clip[0] - h[0]) > min_gap for h in highlights):\n",
    "                highlights.append(clip)\n",
    "                attempts = 0\n",
    "            else:\n",
    "                attempts += 1\n",
    "\n",
    "    return highlights"
   ]
  },
  {
   "cell_type": "code",
   "execution_count": 2,
   "id": "1d87b85b",
   "metadata": {},
   "outputs": [
    {
     "data": {
      "text/plain": [
       "[(658, 678), (2017, 2037), (2357, 2377)]"
      ]
     },
     "execution_count": 2,
     "metadata": {},
     "output_type": "execute_result"
    }
   ],
   "source": [
    "get_act_boundaries()"
   ]
  },
  {
   "cell_type": "code",
   "execution_count": 13,
   "id": "6562f2fa",
   "metadata": {},
   "outputs": [
    {
     "data": {
      "text/plain": [
       "[(144, 164, 'Cold Open / Teaser'),\n",
       " (658, 678, 'Act 1 / Завязка'),\n",
       " (1329, 1349, 'Act 2 / Развитие')]"
      ]
     },
     "execution_count": 13,
     "metadata": {},
     "output_type": "execute_result"
    }
   ],
   "source": [
    "get_act_boundaries(return_discr=True)"
   ]
  },
  {
   "cell_type": "code",
   "execution_count": null,
   "id": "e057f816",
   "metadata": {},
   "outputs": [],
   "source": []
  }
 ],
 "metadata": {
  "kernelspec": {
   "display_name": "dlenv",
   "language": "python",
   "name": "python3"
  },
  "language_info": {
   "codemirror_mode": {
    "name": "ipython",
    "version": 3
   },
   "file_extension": ".py",
   "mimetype": "text/x-python",
   "name": "python",
   "nbconvert_exporter": "python",
   "pygments_lexer": "ipython3",
   "version": "3.11.11"
  }
 },
 "nbformat": 4,
 "nbformat_minor": 5
}
