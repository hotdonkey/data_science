{
 "cells": [
  {
   "cell_type": "code",
   "execution_count": 2,
   "id": "3bd94cce-3c2f-488e-bdb3-023829c4d952",
   "metadata": {},
   "outputs": [
    {
     "name": "stderr",
     "output_type": "stream",
     "text": [
      "[nltk_data] Downloading package punkt to\n",
      "[nltk_data]     C:\\Users\\Elina\\AppData\\Roaming\\nltk_data...\n",
      "[nltk_data]   Package punkt is already up-to-date!\n",
      "[nltk_data] Downloading package punkt_tab to\n",
      "[nltk_data]     C:\\Users\\Elina\\AppData\\Roaming\\nltk_data...\n",
      "[nltk_data]   Package punkt_tab is already up-to-date!\n"
     ]
    },
    {
     "data": {
      "text/plain": [
       "True"
      ]
     },
     "execution_count": 2,
     "metadata": {},
     "output_type": "execute_result"
    }
   ],
   "source": [
    "import nltk\n",
    "nltk.download('punkt')\n",
    "nltk.download('punkt_tab')"
   ]
  },
  {
   "cell_type": "code",
   "execution_count": 4,
   "id": "887e52d3-c489-4835-ad3f-3ee8a6a4a8cb",
   "metadata": {},
   "outputs": [
    {
     "name": "stdout",
     "output_type": "stream",
     "text": [
      "recap_sumy.txt создан.\n"
     ]
    }
   ],
   "source": [
    "import re\n",
    "from sumy.parsers.plaintext import PlaintextParser\n",
    "from sumy.nlp.tokenizers import Tokenizer\n",
    "from sumy.summarizers.lsa import LsaSummarizer\n",
    "\n",
    "# === Шаг 1: читаем .srt файл и превращаем в subtitle_blocks ===\n",
    "def load_subtitle_blocks(srt_path):\n",
    "    with open(srt_path, \"r\", encoding=\"utf-8\") as f:\n",
    "        raw_text = f.read()\n",
    "\n",
    "    # Разбиваем на блоки\n",
    "    blocks = raw_text.strip().split(\"\\n\\n\")\n",
    "    subtitle_blocks = []\n",
    "\n",
    "    for block in blocks:\n",
    "        lines = block.strip().split(\"\\n\")\n",
    "        if len(lines) >= 3:\n",
    "            # Последняя строка — текст\n",
    "            text = \" \".join(lines[2:])\n",
    "            subtitle_blocks.append({\"text\": text})\n",
    "        elif len(lines) == 2:\n",
    "            text = lines[1]\n",
    "            subtitle_blocks.append({\"text\": text})\n",
    "\n",
    "    return subtitle_blocks\n",
    "\n",
    "# === Шаг 2: суммаризация с помощью sumy ===\n",
    "def summarize_blocks(blocks, sentence_count=10):\n",
    "    subtitle_text = \" \".join([block[\"text\"] for block in blocks])\n",
    "    parser = PlaintextParser.from_string(subtitle_text, Tokenizer(\"english\"))\n",
    "    summarizer = LsaSummarizer()\n",
    "    summarizer.stop_words = []  # отключаем стоп-слова (чтобы не было ошибок)\n",
    "    summary_sentences = summarizer(parser.document, sentence_count)\n",
    "    return \"\\n\".join(str(sentence) for sentence in summary_sentences)\n",
    "\n",
    "# === Основной блок ===\n",
    "if __name__ == \"__main__\":\n",
    "    srt_file = \"14194_1_1.srt\"  \n",
    "    subtitle_blocks = load_subtitle_blocks(srt_file)\n",
    "    summary = summarize_blocks(subtitle_blocks, sentence_count=10)\n",
    "\n",
    "    with open(\"recap_sumy_2.txt\", \"w\", encoding=\"utf-8\") as f:\n",
    "        f.write(summary)\n",
    "\n",
    "    print(\"recap_sumy.txt создан.\")\n"
   ]
  },
  {
   "cell_type": "code",
   "execution_count": 6,
   "id": "7484319b-17d1-47f7-bbcc-c1e801625185",
   "metadata": {},
   "outputs": [
    {
     "name": "stdout",
     "output_type": "stream",
     "text": [
      "recap_with_timecodes.txt создан.\n"
     ]
    }
   ],
   "source": [
    "import re\n",
    "from sumy.parsers.plaintext import PlaintextParser\n",
    "from sumy.nlp.tokenizers import Tokenizer\n",
    "from sumy.summarizers.lsa import LsaSummarizer\n",
    "\n",
    "# === Шаг 1: читаем .srt файл и извлекаем блоки с таймкодами ===\n",
    "def load_subtitle_blocks(srt_path):\n",
    "    with open(srt_path, \"r\", encoding=\"utf-8\") as f:\n",
    "        raw_text = f.read()\n",
    "\n",
    "    blocks = raw_text.strip().split(\"\\n\\n\")\n",
    "    subtitle_blocks = []\n",
    "\n",
    "    for block in blocks:\n",
    "        lines = block.strip().split(\"\\n\")\n",
    "        if len(lines) >= 3:\n",
    "            timecode = lines[1].split(\" --> \")[0]\n",
    "            text = \" \".join(lines[2:])\n",
    "            subtitle_blocks.append({\"time\": timecode, \"text\": text})\n",
    "        elif len(lines) == 2:\n",
    "            timecode = lines[0]\n",
    "            text = lines[1]\n",
    "            subtitle_blocks.append({\"time\": timecode, \"text\": text})\n",
    "\n",
    "    return subtitle_blocks\n",
    "\n",
    "# === Шаг 2: суммаризация с таймкодами ===\n",
    "def summarize_blocks_with_time(blocks, sentence_count=10):\n",
    "    subtitle_text = \" \".join([block[\"text\"] for block in blocks])\n",
    "    parser = PlaintextParser.from_string(subtitle_text, Tokenizer(\"english\"))\n",
    "    summarizer = LsaSummarizer()\n",
    "    summarizer.stop_words = []\n",
    "\n",
    "    summary_sentences = list(summarizer(parser.document, sentence_count))\n",
    "    summary_texts = [str(s) for s in summary_sentences]\n",
    "\n",
    "    # Сопоставим предложения с блоками\n",
    "    results = []\n",
    "    for s in summary_texts:\n",
    "        for block in blocks:\n",
    "            if s.strip().startswith(block[\"text\"][:10]):  # сравнение начала фразы\n",
    "                results.append(f\"[{block['time']}] {s}\")\n",
    "                break\n",
    "    return \"\\n\".join(results)\n",
    "\n",
    "# === Основной блок ===\n",
    "if __name__ == \"__main__\":\n",
    "    srt_file = \"14194_1_1.srt\"\n",
    "    subtitle_blocks = load_subtitle_blocks(srt_file)\n",
    "    summary = summarize_blocks_with_time(subtitle_blocks, sentence_count=10)\n",
    "\n",
    "    with open(\"recap_with_timecodes.txt\", \"w\", encoding=\"utf-8\") as f:\n",
    "        f.write(summary)\n",
    "\n",
    "    print(\"recap_with_timecodes.txt создан.\")\n"
   ]
  },
  {
   "cell_type": "code",
   "execution_count": 8,
   "id": "af16a2cc-0ac5-4c98-8dd6-d5be75cbefc4",
   "metadata": {},
   "outputs": [
    {
     "name": "stdout",
     "output_type": "stream",
     "text": [
      "recap_with_ranges.txt создан.\n"
     ]
    }
   ],
   "source": [
    "import re\n",
    "from sumy.parsers.plaintext import PlaintextParser\n",
    "from sumy.nlp.tokenizers import Tokenizer\n",
    "from sumy.summarizers.lsa import LsaSummarizer\n",
    "\n",
    "# === Шаг 1: читаем .srt файл и извлекаем блоки с таймкодами начала и конца ===\n",
    "def load_subtitle_blocks(srt_path):\n",
    "    with open(srt_path, \"r\", encoding=\"utf-8\") as f:\n",
    "        raw_text = f.read()\n",
    "\n",
    "    blocks = raw_text.strip().split(\"\\n\\n\")\n",
    "    subtitle_blocks = []\n",
    "\n",
    "    for block in blocks:\n",
    "        lines = block.strip().split(\"\\n\")\n",
    "        if len(lines) >= 3:\n",
    "            time_range = lines[1].strip()\n",
    "            start, end = time_range.split(\" --> \")\n",
    "            text = \" \".join(lines[2:])\n",
    "            subtitle_blocks.append({\"start\": start, \"end\": end, \"text\": text})\n",
    "        elif len(lines) == 2:\n",
    "            text = lines[1]\n",
    "            subtitle_blocks.append({\"start\": \"00:00:00,000\", \"end\": \"00:00:00,000\", \"text\": text})\n",
    "\n",
    "    return subtitle_blocks\n",
    "\n",
    "# === Шаг 2: суммаризация с таймкодами начала и конца ===\n",
    "def summarize_blocks_with_time(blocks, sentence_count=10):\n",
    "    subtitle_text = \" \".join([block[\"text\"] for block in blocks])\n",
    "    parser = PlaintextParser.from_string(subtitle_text, Tokenizer(\"english\"))\n",
    "    summarizer = LsaSummarizer()\n",
    "    summarizer.stop_words = []\n",
    "\n",
    "    summary_sentences = list(summarizer(parser.document, sentence_count))\n",
    "    summary_texts = [str(s) for s in summary_sentences]\n",
    "\n",
    "    results = []\n",
    "    for s in summary_texts:\n",
    "        for block in blocks:\n",
    "            if s.strip().startswith(block[\"text\"][:10]):\n",
    "                results.append(f\"[{block['start']}] - [{block['end']}] {s}\")\n",
    "                break\n",
    "    return \"\\n\".join(results)\n",
    "\n",
    "# === Основной блок ===\n",
    "if __name__ == \"__main__\":\n",
    "    srt_file = \"14194_1_1.srt\"\n",
    "    subtitle_blocks = load_subtitle_blocks(srt_file)\n",
    "    summary = summarize_blocks_with_time(subtitle_blocks, sentence_count=10)\n",
    "\n",
    "    with open(\"recap_with_ranges.txt\", \"w\", encoding=\"utf-8\") as f:\n",
    "        f.write(summary)\n",
    "\n",
    "    print(\"recap_with_ranges.txt создан.\")\n"
   ]
  },
  {
   "cell_type": "code",
   "execution_count": null,
   "id": "7b9e776e-7ded-4de4-9e2a-632ccdc21a7a",
   "metadata": {},
   "outputs": [],
   "source": []
  }
 ],
 "metadata": {
  "kernelspec": {
   "display_name": "Python [conda env:base] *",
   "language": "python",
   "name": "conda-base-py"
  },
  "language_info": {
   "codemirror_mode": {
    "name": "ipython",
    "version": 3
   },
   "file_extension": ".py",
   "mimetype": "text/x-python",
   "name": "python",
   "nbconvert_exporter": "python",
   "pygments_lexer": "ipython3",
   "version": "3.12.7"
  }
 },
 "nbformat": 4,
 "nbformat_minor": 5
}
