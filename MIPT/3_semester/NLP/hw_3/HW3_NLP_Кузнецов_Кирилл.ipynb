{
  "cells": [
    {
      "cell_type": "markdown",
      "metadata": {
        "id": "homework-header"
      },
      "source": [
        "# Домашнее задание 3. Fine-Tuning модели BERT и анализ альтернативных архитектур в задаче классификации\n",
        "\n",
        "**ФИО Студента: Кузнецов Кирилл Игоревич**\n",
        "\n",
        "**Дата Выполнения:**\n",
        "\n",
        "---\n",
        "\n",
        "### **Описание задания**\n",
        "\n",
        "В этом задании вы реализуете эксперементальное сравнение классического трансформера (BERT) с современными альтернативными архитектурами (Mamba) на задаче классификации русскоязычных текстов. Проведете исследование trade-offs между качеством, скоростью и количеством обучаемых параметров для различных подходов к Fine-Tuning.\n",
        "---"
      ]
    },
    {
      "cell_type": "markdown",
      "metadata": {
        "id": "setup-section"
      },
      "source": [
        "## **Установка и импорт библиотек**"
      ]
    },
    {
      "cell_type": "code",
      "execution_count": 6,
      "metadata": {
        "id": "install-packages"
      },
      "outputs": [],
      "source": [
        "# # Установка PEFT для LoRA\n",
        "# !pip install peft\n",
        "\n",
        "# # Установка зависимостей для Mamba\n",
        "# !pip install causal-conv1d mamba-ssm\n"
      ]
    },
    {
      "cell_type": "code",
      "execution_count": 5,
      "metadata": {
        "id": "imports"
      },
      "outputs": [],
      "source": [
        "import torch\n",
        "import numpy as np\n",
        "import pandas as pd\n",
        "import matplotlib.pyplot as plt\n",
        "import seaborn as sns\n",
        "from tqdm.auto import tqdm\n",
        "import time\n",
        "import warnings\n",
        "\n",
        "from transformers import (\n",
        "    AutoTokenizer,\n",
        "    AutoModelForSequenceClassification,\n",
        "    TrainingArguments,\n",
        "    Trainer,\n",
        "    DataCollatorWithPadding,\n",
        "    set_seed\n",
        ")\n",
        "\n",
        "from datasets import Dataset as HFDataset\n",
        "import evaluate\n",
        "\n",
        "from peft import (\n",
        "    LoraConfig,\n",
        "    TaskType,\n",
        "    get_peft_model\n",
        ")\n",
        "\n",
        "from sklearn.metrics import accuracy_score, f1_score, classification_report\n",
        "from sklearn.model_selection import train_test_split\n",
        "\n",
        "warnings.filterwarnings('ignore')"
      ]
    },
    {
      "cell_type": "markdown",
      "metadata": {
        "id": "data-section"
      },
      "source": [
        "---\n",
        "## **Задание 1. Подготовка данных и базовой модели**\n",
        "\n",
        "Используем полный датасет русскоязычных отзывов с Кинопоиска. Для упрощения задачи бинарной классификации удаляем нейтральные отзывы. Разбиваем данные на обучающую и тестовую выборки в соотношении 80/20.\n",
        "\n",
        "Задачи:\n",
        "1. Загрузите датасет отзывов Кинопоиска и соответствующий токенизатор для DeepPavlov/rubert-base-cased.\n"
      ]
    },
    {
      "cell_type": "code",
      "execution_count": null,
      "metadata": {
        "id": "load-and-split-dataset"
      },
      "outputs": [],
      "source": [
        "# Загружаем полный датасет\n",
        "print(\"Загружаем полный датасет отзывов...\")\n",
        "df_full = pd.read_json(\"hf://datasets/blinoff/kinopoisk/kinopoisk.jsonl\", lines=True)\n",
        "\n",
        "# ..."
      ]
    },
    {
      "cell_type": "markdown",
      "metadata": {
        "id": "common-utils-section"
      },
      "source": [
        "Определим функции для токенизации, вычисления метрик и подсчета обучаемых параметров, которые будут использоваться для всех моделей.   \n",
        "\n",
        "2. Подготовьте данные: создайте dataset-объекты для обучающей и тестовой выборок, токенизируйте тексты и подготовьте их к подаче в модель в соответствии с семинаром 1 данной дисциплины.  \n",
        "3. Определите функцию для вычисления метрик Accuracy, F1-score.  \n",
        "\n",
        "\n",
        "\n",
        "\n",
        "  "
      ]
    },
    {
      "cell_type": "code",
      "execution_count": null,
      "metadata": {
        "id": "utility-functions"
      },
      "outputs": [],
      "source": [
        "MAX_LENGTH = 256 # Ограничиваем длину для ускорения обучения и экономии памяти\n",
        "\n",
        "# ..."
      ]
    },
    {
      "cell_type": "markdown",
      "metadata": {
        "id": "bert-section"
      },
      "source": [
        "---\n",
        "## **Задания 2 и 3. Baseline — Fine-Tuning BERT**\n",
        "\n",
        "В качестве baseline используем русскоязычную модель `DeepPavlov/rubert-base-cased`. Мы рассмотрим два подхода: полный Fine-Tuning и эффективный Fine-Tuning с помощью LoRA.\n",
        "\n",
        "Задачи:  \n",
        "**BERT Full Fine-Tuning:**\n",
        "1. Загрузите предобученную модель DeepPavlov/rubert-base-cased.\n",
        "2. Настройте TrainingArguments для полного дообучения.\n",
        "3. Обучите модель на полном обучающем наборе данных.\n",
        "4. Оцените качество на тестовой выборке и зафиксируйте время обучения и количество обучаемых параметров.  \n",
        "\n",
        "**BERT с LoRA или иным методом (Parameter-Efficient Fine-Tuning):**\n",
        "1. Снова загрузите исходную модель DeepPavlov/rubert-base-cased.\n",
        "2. Настройте LoraConfig, указав целевые модули (например, query, value).\n",
        "3. Примените LoRA к модели с помощью get_peft_model.\n",
        "4. Обучите параметро-эффективную модель.\n",
        "5. Оцените ее качество, время обучения и количество обучаемых параметров.   \n",
        "6. Сравните с результатами полного дообучения."
      ]
    },
    {
      "cell_type": "code",
      "execution_count": null,
      "metadata": {
        "id": "bert-tokenization"
      },
      "outputs": [],
      "source": [
        "MODEL_NAME_BERT = \"DeepPavlov/rubert-base-cased\""
      ]
    },
    {
      "cell_type": "code",
      "execution_count": null,
      "metadata": {
        "colab": {
          "base_uri": "https://localhost:8080/",
          "height": 231
        },
        "id": "bert-full-finetuning",
        "outputId": "73dcce30-65a7-4e7b-b1b8-5a427f30bb89"
      },
      "outputs": [
        {
          "name": "stdout",
          "output_type": "stream",
          "text": [
            "--- 1. BERT: Full Fine-tuning ---\n"
          ]
        },
        {
          "name": "stderr",
          "output_type": "stream",
          "text": [
            "Some weights of BertForSequenceClassification were not initialized from the model checkpoint at DeepPavlov/rubert-base-cased and are newly initialized: ['classifier.bias', 'classifier.weight']\n",
            "You should probably TRAIN this model on a down-stream task to be able to use it for predictions and inference.\n"
          ]
        },
        {
          "data": {
            "text/html": [
              "\n",
              "    <div>\n",
              "      \n",
              "      <progress value='1601' max='1601' style='width:300px; height:20px; vertical-align: middle;'></progress>\n",
              "      [1601/1601 22:51, Epoch 1/1]\n",
              "    </div>\n",
              "    <table border=\"1\" class=\"dataframe\">\n",
              "  <thead>\n",
              " <tr style=\"text-align: left;\">\n",
              "      <th>Epoch</th>\n",
              "      <th>Training Loss</th>\n",
              "      <th>Validation Loss</th>\n",
              "      <th>Accuracy</th>\n",
              "      <th>F1</th>\n",
              "    </tr>\n",
              "  </thead>\n",
              "  <tbody>\n",
              "    <tr>\n",
              "      <td>1</td>\n",
              "      <td>0.154200</td>\n",
              "      <td>0.153269</td>\n",
              "      <td>0.947837</td>\n",
              "      <td>0.946175</td>\n",
              "    </tr>\n",
              "  </tbody>\n",
              "</table><p>"
            ],
            "text/plain": [
              "<IPython.core.display.HTML object>"
            ]
          },
          "metadata": {},
          "output_type": "display_data"
        },
        {
          "data": {
            "text/html": [
              "\n",
              "    <div>\n",
              "      \n",
              "      <progress value='201' max='201' style='width:300px; height:20px; vertical-align: middle;'></progress>\n",
              "      [201/201 01:34]\n",
              "    </div>\n",
              "    "
            ],
            "text/plain": [
              "<IPython.core.display.HTML object>"
            ]
          },
          "metadata": {},
          "output_type": "display_data"
        },
        {
          "name": "stdout",
          "output_type": "stream",
          "text": [
            "\n",
            "Результаты для BERT Full Fine-tuning:\n",
            "{'Accuracy': 0.9478369514290177, 'F1-Score': 0.9461745148484598, 'Trainable Params': 177854978, 'Training Time (s)': 1374.4948289394379}\n"
          ]
        }
      ],
      "source": [
        "print(\"--- 1. BERT: Full Fine-tuning ---\")\n",
        "\n",
        "# ..."
      ]
    },
    {
      "cell_type": "code",
      "execution_count": null,
      "metadata": {
        "id": "bert-lora-finetuning"
      },
      "outputs": [],
      "source": [
        "print(\"\\n--- 2. BERT: LoRA Fine-tuning ---\")\n",
        "\n",
        "# ..."
      ]
    },
    {
      "cell_type": "markdown",
      "metadata": {
        "id": "mamba-section"
      },
      "source": [
        "---\n",
        "## **Задание 4. Альтернативная архитектура — Mamba**\n",
        "\n",
        "Mamba — это современная архитектура на основе пространств состояний (State Space Models), которая показывает высокую производительность и линейную сложность по длине последовательности. Используем небольшую предобученную модель `state-spaces/mamba-130m-hf`.\n",
        "\n",
        "Архитектура еще не распространенная, поэтому нужно самостоятельно написать блок для классификатора последовательностей. Вы можете воспользоваться готовым кодом ниже для эксперимента, либо установить библиотеку https://github.com/getorca/mamba_for_sequence_classification, либо протестировать иные архитектуры с huggingface\n",
        "\n",
        "Задачи:  \n",
        "1. Загрузите предобученную модель Mamba или другую, подходящую для классификации текста (например, state-spaces/mamba-130m-hf).\n",
        "2. Адаптируйте модель для задачи бинарной классификации (добавьте классификационную голову).\n",
        "3. Настройте TrainingArguments и проведите Fine-Tuning модели Mamba.\n",
        "Оцените ее итоговое качество, время обучения и количество параметров.\n"
      ]
    },
    {
      "cell_type": "code",
      "execution_count": null,
      "metadata": {
        "colab": {
          "base_uri": "https://localhost:8080/",
          "height": 98,
          "referenced_widgets": [
            "6fc4e0cb4d4d49489a0a65f28289a83a",
            "20df76277cbb49fd88d6794eb7433a25",
            "8bf4d34b7b5f4760998a059bc524164e",
            "f972a2389d4240dd877d04871f9f11f7",
            "7ed7d37c014d4c7691f5218eba7babe2",
            "254c3e3c25ee45b3a14634205e8d1f07",
            "d87ee7784e7c4cccab29e8aef0d9bc81",
            "71c7b3693cdc4c388de5abd1581423e3",
            "1b36c62575e249b5ba868aaea6df95a5",
            "a96d6f7b57684f4694640e30cab7d57f",
            "dc605f74c14b4bfd99ce5db31f5bada0",
            "d76972ffafa14af38705d9a0dc4c41e9",
            "8bd700ee97cc45f886b87e0c241f30d5",
            "0ff56ffaf21b4b6fa454c851b63c39f3",
            "a72c0ed5c766416d8ca2261545b8d7ab",
            "9c99e147fd4b4c92bd9f15ce8379f71e",
            "42a97d6935704b20bc65955bf1db3401",
            "533b221f1fb84bcc975addc1dd0fd3c2",
            "5e9c7cac5cf34c2281df66f2b96f73aa",
            "f04663ee3e3f4a7c9934f078357fd55b",
            "0b2ce9afc1cd48e3b17c17699304bcba",
            "deb17ec2d2cf442a9a08d92fd0b56af6"
          ]
        },
        "id": "4_gmp47pTXVA",
        "outputId": "fcfc55a6-075c-4d0d-b289-3885ef2dff41"
      },
      "outputs": [
        {
          "name": "stdout",
          "output_type": "stream",
          "text": [
            "Токенизатор для Mamba успешно загружен.\n"
          ]
        },
        {
          "data": {
            "application/vnd.jupyter.widget-view+json": {
              "model_id": "6fc4e0cb4d4d49489a0a65f28289a83a",
              "version_major": 2,
              "version_minor": 0
            },
            "text/plain": [
              "Map:   0%|          | 0/25612 [00:00<?, ? examples/s]"
            ]
          },
          "metadata": {},
          "output_type": "display_data"
        },
        {
          "data": {
            "application/vnd.jupyter.widget-view+json": {
              "model_id": "d76972ffafa14af38705d9a0dc4c41e9",
              "version_major": 2,
              "version_minor": 0
            },
            "text/plain": [
              "Map:   0%|          | 0/6403 [00:00<?, ? examples/s]"
            ]
          },
          "metadata": {},
          "output_type": "display_data"
        }
      ],
      "source": [
        "import torch\n",
        "import torch.nn as nn\n",
        "from transformers import AutoModel, AutoTokenizer\n",
        "from transformers.modeling_outputs import SequenceClassifierOutput\n",
        "\n",
        "# --- 1. Создаем наш собственный класс для классификации ---\n",
        "class CustomMambaForSequenceClassification(nn.Module):\n",
        "    def __init__(self, model_name=\"state-spaces/mamba-130m-hf\", num_labels=2):\n",
        "        super().__init__()\n",
        "        self.num_labels = num_labels\n",
        "\n",
        "        # Загружаем базовую модель Mamba (без головы для конкретной задачи)\n",
        "        self.mamba = AutoModel.from_pretrained(model_name)\n",
        "\n",
        "        # Получаем размер скрытого состояния из конфигурации модели\n",
        "        hidden_size = self.mamba.config.hidden_size\n",
        "\n",
        "        # Создаем голову для классификации — обычный линейный слой\n",
        "        self.classifier = nn.Linear(hidden_size, num_labels)\n",
        "\n",
        "    def forward(self, input_ids, attention_mask=None, labels=None):\n",
        "        # Прогоняем данные через базовую модель Mamba\n",
        "        outputs = self.mamba(input_ids=input_ids, attention_mask=attention_mask)\n",
        "\n",
        "        # Mamba возвращает last_hidden_state. Его форма: (batch_size, sequence_length, hidden_size)\n",
        "        last_hidden_state = outputs.last_hidden_state\n",
        "\n",
        "        # Для классификации берем скрытое состояние ПОСЛЕДНЕГО токена в последовательности\n",
        "        # Это стандартная практика для авторегрессионных моделей, как Mamba\n",
        "        cls_embedding = last_hidden_state[:, -1, :]\n",
        "\n",
        "        # Прогоняем его через наш классификатор, чтобы получить логиты\n",
        "        logits = self.classifier(cls_embedding)\n",
        "\n",
        "        # Если переданы метки (labels), вычисляем loss\n",
        "        loss = None\n",
        "        if labels is not None:\n",
        "            loss_fct = nn.CrossEntropyLoss()\n",
        "            loss = loss_fct(logits.view(-1, self.num_labels), labels.view(-1))\n",
        "\n",
        "        # Возвращаем результат в формате, который понимает Trainer\n",
        "        return SequenceClassifierOutput(\n",
        "            loss=loss,\n",
        "            logits=logits,\n",
        "            hidden_states=outputs.hidden_states,\n",
        "            attentions=None, # Mamba не использует Attention, поэтому None\n",
        "        )\n",
        "\n",
        "\n",
        "MODEL_NAME_MAMBA = \"state-spaces/mamba-130m-hf\"\n",
        "TOKENIZER_NAME_MAMBA = \"EleutherAI/gpt-neox-20b\"\n",
        "\n",
        "# Загружаем токенизатор\n",
        "tokenizer_mamba = AutoTokenizer.from_pretrained(TOKENIZER_NAME_MAMBA)\n",
        "if tokenizer_mamba.pad_token is None:\n",
        "    tokenizer_mamba.pad_token = tokenizer_mamba.eos_token\n",
        "print(\"Токенизатор для Mamba успешно загружен.\")\n",
        "\n",
        "# Токенизируем датасеты\n",
        "tokenized_train_mamba, tokenized_test_mamba = create_tokenized_datasets(tokenizer_mamba, train_dataset, test_dataset)\n",
        "\n",
        "# --- 2. Инициализируем нашу кастомную модель ---\n",
        "model_mamba = CustomMambaForSequenceClassification(model_name=MODEL_NAME_MAMBA, num_labels=2)\n",
        "model_mamba.mamba.config.pad_token_id = tokenizer_mamba.pad_token_id\n"
      ]
    },
    {
      "cell_type": "code",
      "execution_count": null,
      "metadata": {
        "colab": {
          "base_uri": "https://localhost:8080/",
          "height": 178
        },
        "id": "vIDW2yJ9T1VL",
        "outputId": "218248da-a3dd-4d99-f5eb-86aa9f3c1212"
      },
      "outputs": [
        {
          "data": {
            "text/html": [
              "\n",
              "    <div>\n",
              "      \n",
              "      <progress value='3202' max='3202' style='width:300px; height:20px; vertical-align: middle;'></progress>\n",
              "      [3202/3202 30:23, Epoch 1/1]\n",
              "    </div>\n",
              "    <table border=\"1\" class=\"dataframe\">\n",
              "  <thead>\n",
              " <tr style=\"text-align: left;\">\n",
              "      <th>Epoch</th>\n",
              "      <th>Training Loss</th>\n",
              "      <th>Validation Loss</th>\n",
              "      <th>Accuracy</th>\n",
              "      <th>F1</th>\n",
              "    </tr>\n",
              "  </thead>\n",
              "  <tbody>\n",
              "    <tr>\n",
              "      <td>1</td>\n",
              "      <td>0.375400</td>\n",
              "      <td>0.329374</td>\n",
              "      <td>0.915352</td>\n",
              "      <td>0.914519</td>\n",
              "    </tr>\n",
              "  </tbody>\n",
              "</table><p>"
            ],
            "text/plain": [
              "<IPython.core.display.HTML object>"
            ]
          },
          "metadata": {},
          "output_type": "display_data"
        },
        {
          "data": {
            "text/html": [
              "\n",
              "    <div>\n",
              "      \n",
              "      <progress value='401' max='401' style='width:300px; height:20px; vertical-align: middle;'></progress>\n",
              "      [401/401 02:24]\n",
              "    </div>\n",
              "    "
            ],
            "text/plain": [
              "<IPython.core.display.HTML object>"
            ]
          },
          "metadata": {},
          "output_type": "display_data"
        },
        {
          "name": "stdout",
          "output_type": "stream",
          "text": [
            "\n",
            "Результаты для Mamba Fine-tuning (кастомная модель):\n",
            "{'Accuracy': 0.9153521786662502, 'F1-Score': 0.9145188787765379, 'Trainable Params': 129136898, 'Training Time (s)': 1825.4752488136292}\n"
          ]
        }
      ],
      "source": [
        "# --- 3. Обучаем как обычно с помощью Trainer ---\n",
        "training_args_mamba = TrainingArguments(\n",
        "    output_dir=\"./results/mamba_custom\",\n",
        "    num_train_epochs=1,\n",
        "    per_device_train_batch_size=8,\n",
        "    per_device_eval_batch_size=16,\n",
        "    logging_dir='./logs/mamba_custom',\n",
        "    logging_steps=100,\n",
        "    eval_strategy=\"epoch\",\n",
        "    save_strategy=\"epoch\",\n",
        "    load_best_model_at_end=True,\n",
        "    metric_for_best_model=\"f1\",\n",
        "    report_to=\"none\"\n",
        ")\n",
        "\n",
        "trainer_mamba = Trainer(\n",
        "    model=model_mamba,\n",
        "    args=training_args_mamba,\n",
        "    train_dataset=tokenized_train_mamba,\n",
        "    eval_dataset=tokenized_test_mamba,\n",
        "    tokenizer=tokenizer_mamba,\n",
        "    compute_metrics=compute_metrics,\n",
        "    data_collator=DataCollatorWithPadding(tokenizer=tokenizer_mamba)\n",
        ")\n",
        "\n",
        "start_time = time.time()\n",
        "trainer_mamba.train()\n",
        "train_time = time.time() - start_time\n",
        "\n",
        "eval_results = trainer_mamba.evaluate()\n",
        "results['Mamba'] = {\n",
        "    'Accuracy': eval_results['eval_accuracy'],\n",
        "    'F1-Score': eval_results['eval_f1'],\n",
        "    'Trainable Params': count_trainable_parameters(model_mamba),\n",
        "    'Training Time (s)': train_time\n",
        "}\n",
        "\n",
        "print(f\"\\nРезультаты для Mamba Fine-tuning (кастомная модель):\")\n",
        "print(results['Mamba'])"
      ]
    },
    {
      "cell_type": "markdown",
      "metadata": {
        "id": "results-section"
      },
      "source": [
        "---\n",
        "## **Задание 5. Сравнительный анализ и выводы**\n",
        "\n",
        "Проведите сравнительный анализ подходов и сделайте выводы на основе проведенных эксперементов.\n",
        "\n",
        "Задачи:  \n",
        "1. Создайте сводную таблицу, в которой будут отражены все ключевые показатели для трех подходов:\n",
        "- BERT Full Fine-Tuning\n",
        "- BERT + LoRA\n",
        "- Mamba\n",
        "2. Сравните модели по следующим критериям:\n",
        "- Качество: Accuracy и F1-score.\n",
        "- Эффективность: время обучения и количество обучаемых параметров.\n",
        "\n",
        "3. Сформулируйте развернутые выводы:\n",
        "- Какой подход показал наилучшее качество?\n",
        "- Насколько LoRA сокращает количество параметров и время обучения по сравнению с полным Fine-Tuning? Как это влияет на метрики?\n",
        "- Как Mamba показывает себя в сравнении с BERT? В чем ее сильные и слабые стороны для данной задачи?\n",
        "\n",
        "4. Дайте рекомендации по выбору архитектуры в зависимости от ограничений (время, вычислительные ресурсы, требования к качеству).\n"
      ]
    },
    {
      "cell_type": "code",
      "execution_count": null,
      "metadata": {
        "id": "final-results"
      },
      "outputs": [],
      "source": [
        "# ..."
      ]
    }
  ],
  "metadata": {
    "accelerator": "GPU",
    "colab": {
      "gpuType": "T4",
      "provenance": []
    },
    "kernelspec": {
      "display_name": "nlp_env",
      "language": "python",
      "name": "python3"
    },
    "language_info": {
      "codemirror_mode": {
        "name": "ipython",
        "version": 3
      },
      "file_extension": ".py",
      "mimetype": "text/x-python",
      "name": "python",
      "nbconvert_exporter": "python",
      "pygments_lexer": "ipython3",
      "version": "3.11.13"
    },
    "widgets": {
      "application/vnd.jupyter.widget-state+json": {
        "0b2ce9afc1cd48e3b17c17699304bcba": {
          "model_module": "@jupyter-widgets/base",
          "model_module_version": "1.2.0",
          "model_name": "LayoutModel",
          "state": {
            "_model_module": "@jupyter-widgets/base",
            "_model_module_version": "1.2.0",
            "_model_name": "LayoutModel",
            "_view_count": null,
            "_view_module": "@jupyter-widgets/base",
            "_view_module_version": "1.2.0",
            "_view_name": "LayoutView",
            "align_content": null,
            "align_items": null,
            "align_self": null,
            "border": null,
            "bottom": null,
            "display": null,
            "flex": null,
            "flex_flow": null,
            "grid_area": null,
            "grid_auto_columns": null,
            "grid_auto_flow": null,
            "grid_auto_rows": null,
            "grid_column": null,
            "grid_gap": null,
            "grid_row": null,
            "grid_template_areas": null,
            "grid_template_columns": null,
            "grid_template_rows": null,
            "height": null,
            "justify_content": null,
            "justify_items": null,
            "left": null,
            "margin": null,
            "max_height": null,
            "max_width": null,
            "min_height": null,
            "min_width": null,
            "object_fit": null,
            "object_position": null,
            "order": null,
            "overflow": null,
            "overflow_x": null,
            "overflow_y": null,
            "padding": null,
            "right": null,
            "top": null,
            "visibility": null,
            "width": null
          }
        },
        "0ff56ffaf21b4b6fa454c851b63c39f3": {
          "model_module": "@jupyter-widgets/controls",
          "model_module_version": "1.5.0",
          "model_name": "FloatProgressModel",
          "state": {
            "_dom_classes": [],
            "_model_module": "@jupyter-widgets/controls",
            "_model_module_version": "1.5.0",
            "_model_name": "FloatProgressModel",
            "_view_count": null,
            "_view_module": "@jupyter-widgets/controls",
            "_view_module_version": "1.5.0",
            "_view_name": "ProgressView",
            "bar_style": "success",
            "description": "",
            "description_tooltip": null,
            "layout": "IPY_MODEL_5e9c7cac5cf34c2281df66f2b96f73aa",
            "max": 6403,
            "min": 0,
            "orientation": "horizontal",
            "style": "IPY_MODEL_f04663ee3e3f4a7c9934f078357fd55b",
            "value": 6403
          }
        },
        "1b36c62575e249b5ba868aaea6df95a5": {
          "model_module": "@jupyter-widgets/controls",
          "model_module_version": "1.5.0",
          "model_name": "ProgressStyleModel",
          "state": {
            "_model_module": "@jupyter-widgets/controls",
            "_model_module_version": "1.5.0",
            "_model_name": "ProgressStyleModel",
            "_view_count": null,
            "_view_module": "@jupyter-widgets/base",
            "_view_module_version": "1.2.0",
            "_view_name": "StyleView",
            "bar_color": null,
            "description_width": ""
          }
        },
        "20df76277cbb49fd88d6794eb7433a25": {
          "model_module": "@jupyter-widgets/controls",
          "model_module_version": "1.5.0",
          "model_name": "HTMLModel",
          "state": {
            "_dom_classes": [],
            "_model_module": "@jupyter-widgets/controls",
            "_model_module_version": "1.5.0",
            "_model_name": "HTMLModel",
            "_view_count": null,
            "_view_module": "@jupyter-widgets/controls",
            "_view_module_version": "1.5.0",
            "_view_name": "HTMLView",
            "description": "",
            "description_tooltip": null,
            "layout": "IPY_MODEL_254c3e3c25ee45b3a14634205e8d1f07",
            "placeholder": "​",
            "style": "IPY_MODEL_d87ee7784e7c4cccab29e8aef0d9bc81",
            "value": "Map: 100%"
          }
        },
        "254c3e3c25ee45b3a14634205e8d1f07": {
          "model_module": "@jupyter-widgets/base",
          "model_module_version": "1.2.0",
          "model_name": "LayoutModel",
          "state": {
            "_model_module": "@jupyter-widgets/base",
            "_model_module_version": "1.2.0",
            "_model_name": "LayoutModel",
            "_view_count": null,
            "_view_module": "@jupyter-widgets/base",
            "_view_module_version": "1.2.0",
            "_view_name": "LayoutView",
            "align_content": null,
            "align_items": null,
            "align_self": null,
            "border": null,
            "bottom": null,
            "display": null,
            "flex": null,
            "flex_flow": null,
            "grid_area": null,
            "grid_auto_columns": null,
            "grid_auto_flow": null,
            "grid_auto_rows": null,
            "grid_column": null,
            "grid_gap": null,
            "grid_row": null,
            "grid_template_areas": null,
            "grid_template_columns": null,
            "grid_template_rows": null,
            "height": null,
            "justify_content": null,
            "justify_items": null,
            "left": null,
            "margin": null,
            "max_height": null,
            "max_width": null,
            "min_height": null,
            "min_width": null,
            "object_fit": null,
            "object_position": null,
            "order": null,
            "overflow": null,
            "overflow_x": null,
            "overflow_y": null,
            "padding": null,
            "right": null,
            "top": null,
            "visibility": null,
            "width": null
          }
        },
        "42a97d6935704b20bc65955bf1db3401": {
          "model_module": "@jupyter-widgets/base",
          "model_module_version": "1.2.0",
          "model_name": "LayoutModel",
          "state": {
            "_model_module": "@jupyter-widgets/base",
            "_model_module_version": "1.2.0",
            "_model_name": "LayoutModel",
            "_view_count": null,
            "_view_module": "@jupyter-widgets/base",
            "_view_module_version": "1.2.0",
            "_view_name": "LayoutView",
            "align_content": null,
            "align_items": null,
            "align_self": null,
            "border": null,
            "bottom": null,
            "display": null,
            "flex": null,
            "flex_flow": null,
            "grid_area": null,
            "grid_auto_columns": null,
            "grid_auto_flow": null,
            "grid_auto_rows": null,
            "grid_column": null,
            "grid_gap": null,
            "grid_row": null,
            "grid_template_areas": null,
            "grid_template_columns": null,
            "grid_template_rows": null,
            "height": null,
            "justify_content": null,
            "justify_items": null,
            "left": null,
            "margin": null,
            "max_height": null,
            "max_width": null,
            "min_height": null,
            "min_width": null,
            "object_fit": null,
            "object_position": null,
            "order": null,
            "overflow": null,
            "overflow_x": null,
            "overflow_y": null,
            "padding": null,
            "right": null,
            "top": null,
            "visibility": null,
            "width": null
          }
        },
        "533b221f1fb84bcc975addc1dd0fd3c2": {
          "model_module": "@jupyter-widgets/controls",
          "model_module_version": "1.5.0",
          "model_name": "DescriptionStyleModel",
          "state": {
            "_model_module": "@jupyter-widgets/controls",
            "_model_module_version": "1.5.0",
            "_model_name": "DescriptionStyleModel",
            "_view_count": null,
            "_view_module": "@jupyter-widgets/base",
            "_view_module_version": "1.2.0",
            "_view_name": "StyleView",
            "description_width": ""
          }
        },
        "5e9c7cac5cf34c2281df66f2b96f73aa": {
          "model_module": "@jupyter-widgets/base",
          "model_module_version": "1.2.0",
          "model_name": "LayoutModel",
          "state": {
            "_model_module": "@jupyter-widgets/base",
            "_model_module_version": "1.2.0",
            "_model_name": "LayoutModel",
            "_view_count": null,
            "_view_module": "@jupyter-widgets/base",
            "_view_module_version": "1.2.0",
            "_view_name": "LayoutView",
            "align_content": null,
            "align_items": null,
            "align_self": null,
            "border": null,
            "bottom": null,
            "display": null,
            "flex": null,
            "flex_flow": null,
            "grid_area": null,
            "grid_auto_columns": null,
            "grid_auto_flow": null,
            "grid_auto_rows": null,
            "grid_column": null,
            "grid_gap": null,
            "grid_row": null,
            "grid_template_areas": null,
            "grid_template_columns": null,
            "grid_template_rows": null,
            "height": null,
            "justify_content": null,
            "justify_items": null,
            "left": null,
            "margin": null,
            "max_height": null,
            "max_width": null,
            "min_height": null,
            "min_width": null,
            "object_fit": null,
            "object_position": null,
            "order": null,
            "overflow": null,
            "overflow_x": null,
            "overflow_y": null,
            "padding": null,
            "right": null,
            "top": null,
            "visibility": null,
            "width": null
          }
        },
        "6fc4e0cb4d4d49489a0a65f28289a83a": {
          "model_module": "@jupyter-widgets/controls",
          "model_module_version": "1.5.0",
          "model_name": "HBoxModel",
          "state": {
            "_dom_classes": [],
            "_model_module": "@jupyter-widgets/controls",
            "_model_module_version": "1.5.0",
            "_model_name": "HBoxModel",
            "_view_count": null,
            "_view_module": "@jupyter-widgets/controls",
            "_view_module_version": "1.5.0",
            "_view_name": "HBoxView",
            "box_style": "",
            "children": [
              "IPY_MODEL_20df76277cbb49fd88d6794eb7433a25",
              "IPY_MODEL_8bf4d34b7b5f4760998a059bc524164e",
              "IPY_MODEL_f972a2389d4240dd877d04871f9f11f7"
            ],
            "layout": "IPY_MODEL_7ed7d37c014d4c7691f5218eba7babe2"
          }
        },
        "71c7b3693cdc4c388de5abd1581423e3": {
          "model_module": "@jupyter-widgets/base",
          "model_module_version": "1.2.0",
          "model_name": "LayoutModel",
          "state": {
            "_model_module": "@jupyter-widgets/base",
            "_model_module_version": "1.2.0",
            "_model_name": "LayoutModel",
            "_view_count": null,
            "_view_module": "@jupyter-widgets/base",
            "_view_module_version": "1.2.0",
            "_view_name": "LayoutView",
            "align_content": null,
            "align_items": null,
            "align_self": null,
            "border": null,
            "bottom": null,
            "display": null,
            "flex": null,
            "flex_flow": null,
            "grid_area": null,
            "grid_auto_columns": null,
            "grid_auto_flow": null,
            "grid_auto_rows": null,
            "grid_column": null,
            "grid_gap": null,
            "grid_row": null,
            "grid_template_areas": null,
            "grid_template_columns": null,
            "grid_template_rows": null,
            "height": null,
            "justify_content": null,
            "justify_items": null,
            "left": null,
            "margin": null,
            "max_height": null,
            "max_width": null,
            "min_height": null,
            "min_width": null,
            "object_fit": null,
            "object_position": null,
            "order": null,
            "overflow": null,
            "overflow_x": null,
            "overflow_y": null,
            "padding": null,
            "right": null,
            "top": null,
            "visibility": null,
            "width": null
          }
        },
        "7ed7d37c014d4c7691f5218eba7babe2": {
          "model_module": "@jupyter-widgets/base",
          "model_module_version": "1.2.0",
          "model_name": "LayoutModel",
          "state": {
            "_model_module": "@jupyter-widgets/base",
            "_model_module_version": "1.2.0",
            "_model_name": "LayoutModel",
            "_view_count": null,
            "_view_module": "@jupyter-widgets/base",
            "_view_module_version": "1.2.0",
            "_view_name": "LayoutView",
            "align_content": null,
            "align_items": null,
            "align_self": null,
            "border": null,
            "bottom": null,
            "display": null,
            "flex": null,
            "flex_flow": null,
            "grid_area": null,
            "grid_auto_columns": null,
            "grid_auto_flow": null,
            "grid_auto_rows": null,
            "grid_column": null,
            "grid_gap": null,
            "grid_row": null,
            "grid_template_areas": null,
            "grid_template_columns": null,
            "grid_template_rows": null,
            "height": null,
            "justify_content": null,
            "justify_items": null,
            "left": null,
            "margin": null,
            "max_height": null,
            "max_width": null,
            "min_height": null,
            "min_width": null,
            "object_fit": null,
            "object_position": null,
            "order": null,
            "overflow": null,
            "overflow_x": null,
            "overflow_y": null,
            "padding": null,
            "right": null,
            "top": null,
            "visibility": null,
            "width": null
          }
        },
        "8bd700ee97cc45f886b87e0c241f30d5": {
          "model_module": "@jupyter-widgets/controls",
          "model_module_version": "1.5.0",
          "model_name": "HTMLModel",
          "state": {
            "_dom_classes": [],
            "_model_module": "@jupyter-widgets/controls",
            "_model_module_version": "1.5.0",
            "_model_name": "HTMLModel",
            "_view_count": null,
            "_view_module": "@jupyter-widgets/controls",
            "_view_module_version": "1.5.0",
            "_view_name": "HTMLView",
            "description": "",
            "description_tooltip": null,
            "layout": "IPY_MODEL_42a97d6935704b20bc65955bf1db3401",
            "placeholder": "​",
            "style": "IPY_MODEL_533b221f1fb84bcc975addc1dd0fd3c2",
            "value": "Map: 100%"
          }
        },
        "8bf4d34b7b5f4760998a059bc524164e": {
          "model_module": "@jupyter-widgets/controls",
          "model_module_version": "1.5.0",
          "model_name": "FloatProgressModel",
          "state": {
            "_dom_classes": [],
            "_model_module": "@jupyter-widgets/controls",
            "_model_module_version": "1.5.0",
            "_model_name": "FloatProgressModel",
            "_view_count": null,
            "_view_module": "@jupyter-widgets/controls",
            "_view_module_version": "1.5.0",
            "_view_name": "ProgressView",
            "bar_style": "success",
            "description": "",
            "description_tooltip": null,
            "layout": "IPY_MODEL_71c7b3693cdc4c388de5abd1581423e3",
            "max": 25612,
            "min": 0,
            "orientation": "horizontal",
            "style": "IPY_MODEL_1b36c62575e249b5ba868aaea6df95a5",
            "value": 25612
          }
        },
        "9c99e147fd4b4c92bd9f15ce8379f71e": {
          "model_module": "@jupyter-widgets/base",
          "model_module_version": "1.2.0",
          "model_name": "LayoutModel",
          "state": {
            "_model_module": "@jupyter-widgets/base",
            "_model_module_version": "1.2.0",
            "_model_name": "LayoutModel",
            "_view_count": null,
            "_view_module": "@jupyter-widgets/base",
            "_view_module_version": "1.2.0",
            "_view_name": "LayoutView",
            "align_content": null,
            "align_items": null,
            "align_self": null,
            "border": null,
            "bottom": null,
            "display": null,
            "flex": null,
            "flex_flow": null,
            "grid_area": null,
            "grid_auto_columns": null,
            "grid_auto_flow": null,
            "grid_auto_rows": null,
            "grid_column": null,
            "grid_gap": null,
            "grid_row": null,
            "grid_template_areas": null,
            "grid_template_columns": null,
            "grid_template_rows": null,
            "height": null,
            "justify_content": null,
            "justify_items": null,
            "left": null,
            "margin": null,
            "max_height": null,
            "max_width": null,
            "min_height": null,
            "min_width": null,
            "object_fit": null,
            "object_position": null,
            "order": null,
            "overflow": null,
            "overflow_x": null,
            "overflow_y": null,
            "padding": null,
            "right": null,
            "top": null,
            "visibility": null,
            "width": null
          }
        },
        "a72c0ed5c766416d8ca2261545b8d7ab": {
          "model_module": "@jupyter-widgets/controls",
          "model_module_version": "1.5.0",
          "model_name": "HTMLModel",
          "state": {
            "_dom_classes": [],
            "_model_module": "@jupyter-widgets/controls",
            "_model_module_version": "1.5.0",
            "_model_name": "HTMLModel",
            "_view_count": null,
            "_view_module": "@jupyter-widgets/controls",
            "_view_module_version": "1.5.0",
            "_view_name": "HTMLView",
            "description": "",
            "description_tooltip": null,
            "layout": "IPY_MODEL_0b2ce9afc1cd48e3b17c17699304bcba",
            "placeholder": "​",
            "style": "IPY_MODEL_deb17ec2d2cf442a9a08d92fd0b56af6",
            "value": " 6403/6403 [00:18&lt;00:00, 333.80 examples/s]"
          }
        },
        "a96d6f7b57684f4694640e30cab7d57f": {
          "model_module": "@jupyter-widgets/base",
          "model_module_version": "1.2.0",
          "model_name": "LayoutModel",
          "state": {
            "_model_module": "@jupyter-widgets/base",
            "_model_module_version": "1.2.0",
            "_model_name": "LayoutModel",
            "_view_count": null,
            "_view_module": "@jupyter-widgets/base",
            "_view_module_version": "1.2.0",
            "_view_name": "LayoutView",
            "align_content": null,
            "align_items": null,
            "align_self": null,
            "border": null,
            "bottom": null,
            "display": null,
            "flex": null,
            "flex_flow": null,
            "grid_area": null,
            "grid_auto_columns": null,
            "grid_auto_flow": null,
            "grid_auto_rows": null,
            "grid_column": null,
            "grid_gap": null,
            "grid_row": null,
            "grid_template_areas": null,
            "grid_template_columns": null,
            "grid_template_rows": null,
            "height": null,
            "justify_content": null,
            "justify_items": null,
            "left": null,
            "margin": null,
            "max_height": null,
            "max_width": null,
            "min_height": null,
            "min_width": null,
            "object_fit": null,
            "object_position": null,
            "order": null,
            "overflow": null,
            "overflow_x": null,
            "overflow_y": null,
            "padding": null,
            "right": null,
            "top": null,
            "visibility": null,
            "width": null
          }
        },
        "d76972ffafa14af38705d9a0dc4c41e9": {
          "model_module": "@jupyter-widgets/controls",
          "model_module_version": "1.5.0",
          "model_name": "HBoxModel",
          "state": {
            "_dom_classes": [],
            "_model_module": "@jupyter-widgets/controls",
            "_model_module_version": "1.5.0",
            "_model_name": "HBoxModel",
            "_view_count": null,
            "_view_module": "@jupyter-widgets/controls",
            "_view_module_version": "1.5.0",
            "_view_name": "HBoxView",
            "box_style": "",
            "children": [
              "IPY_MODEL_8bd700ee97cc45f886b87e0c241f30d5",
              "IPY_MODEL_0ff56ffaf21b4b6fa454c851b63c39f3",
              "IPY_MODEL_a72c0ed5c766416d8ca2261545b8d7ab"
            ],
            "layout": "IPY_MODEL_9c99e147fd4b4c92bd9f15ce8379f71e"
          }
        },
        "d87ee7784e7c4cccab29e8aef0d9bc81": {
          "model_module": "@jupyter-widgets/controls",
          "model_module_version": "1.5.0",
          "model_name": "DescriptionStyleModel",
          "state": {
            "_model_module": "@jupyter-widgets/controls",
            "_model_module_version": "1.5.0",
            "_model_name": "DescriptionStyleModel",
            "_view_count": null,
            "_view_module": "@jupyter-widgets/base",
            "_view_module_version": "1.2.0",
            "_view_name": "StyleView",
            "description_width": ""
          }
        },
        "dc605f74c14b4bfd99ce5db31f5bada0": {
          "model_module": "@jupyter-widgets/controls",
          "model_module_version": "1.5.0",
          "model_name": "DescriptionStyleModel",
          "state": {
            "_model_module": "@jupyter-widgets/controls",
            "_model_module_version": "1.5.0",
            "_model_name": "DescriptionStyleModel",
            "_view_count": null,
            "_view_module": "@jupyter-widgets/base",
            "_view_module_version": "1.2.0",
            "_view_name": "StyleView",
            "description_width": ""
          }
        },
        "deb17ec2d2cf442a9a08d92fd0b56af6": {
          "model_module": "@jupyter-widgets/controls",
          "model_module_version": "1.5.0",
          "model_name": "DescriptionStyleModel",
          "state": {
            "_model_module": "@jupyter-widgets/controls",
            "_model_module_version": "1.5.0",
            "_model_name": "DescriptionStyleModel",
            "_view_count": null,
            "_view_module": "@jupyter-widgets/base",
            "_view_module_version": "1.2.0",
            "_view_name": "StyleView",
            "description_width": ""
          }
        },
        "f04663ee3e3f4a7c9934f078357fd55b": {
          "model_module": "@jupyter-widgets/controls",
          "model_module_version": "1.5.0",
          "model_name": "ProgressStyleModel",
          "state": {
            "_model_module": "@jupyter-widgets/controls",
            "_model_module_version": "1.5.0",
            "_model_name": "ProgressStyleModel",
            "_view_count": null,
            "_view_module": "@jupyter-widgets/base",
            "_view_module_version": "1.2.0",
            "_view_name": "StyleView",
            "bar_color": null,
            "description_width": ""
          }
        },
        "f972a2389d4240dd877d04871f9f11f7": {
          "model_module": "@jupyter-widgets/controls",
          "model_module_version": "1.5.0",
          "model_name": "HTMLModel",
          "state": {
            "_dom_classes": [],
            "_model_module": "@jupyter-widgets/controls",
            "_model_module_version": "1.5.0",
            "_model_name": "HTMLModel",
            "_view_count": null,
            "_view_module": "@jupyter-widgets/controls",
            "_view_module_version": "1.5.0",
            "_view_name": "HTMLView",
            "description": "",
            "description_tooltip": null,
            "layout": "IPY_MODEL_a96d6f7b57684f4694640e30cab7d57f",
            "placeholder": "​",
            "style": "IPY_MODEL_dc605f74c14b4bfd99ce5db31f5bada0",
            "value": " 25612/25612 [01:11&lt;00:00, 303.93 examples/s]"
          }
        }
      }
    }
  },
  "nbformat": 4,
  "nbformat_minor": 0
}
