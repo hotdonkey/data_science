{
 "cells": [
  {
   "cell_type": "markdown",
   "metadata": {
    "id": "NJftYkPxY92R"
   },
   "source": [
    "# Семинар 2 — Эмбеддинги и визуализация: глубокое погружение\n",
    "**Цель:** Научиться обучать и анализировать word embeddings, исследовать семантические отношения, визуализировать векторные представления, сравнить разные подходы к токенизации.\n",
    "\n",
    "**План семинара:**\n",
    "1. Обучение Word2Vec на большом корпусе\n",
    "2. Исследование семантических отношений и аналогий\n",
    "3. Визуализация эмбеддингов через t-SNE и UMAP\n",
    "4. Сравнение статических эмбеддингов: Word2Vec vs GloVe vs FastText\n",
    "5. Современная токенизация: BPE, WordPiece, SentencePiece\n",
    "6. Построение семантического поиска\n",
    "7. Мини-проект: создание word calculator"
   ]
  },
  {
   "cell_type": "markdown",
   "metadata": {
    "id": "vJC1BZt5Y92U"
   },
   "source": [
    "## БЛОК 0: Установка и импорт библиотек"
   ]
  },
  {
   "cell_type": "code",
   "execution_count": 1,
   "metadata": {
    "colab": {
     "base_uri": "https://localhost:8080/",
     "height": 1496
    },
    "executionInfo": {
     "elapsed": 50800,
     "status": "error",
     "timestamp": 1756329985818,
     "user": {
      "displayName": "Артем Галимьянов",
      "userId": "12403306618364451137"
     },
     "user_tz": -180
    },
    "id": "d_amkkHkY92U",
    "outputId": "c09aa13e-dbc0-49fe-c77b-c683042640ab"
   },
   "outputs": [],
   "source": [
    "# !pip install gensim nltk pymorphy3\n",
    "# !pip install scikit-learn umap-learn\n",
    "# !pip install transformers sentencepiece\n",
    "# !pip install plotly\n",
    "# !pip install tqdm"
   ]
  },
  {
   "cell_type": "code",
   "execution_count": 4,
   "metadata": {
    "executionInfo": {
     "elapsed": 55651,
     "status": "ok",
     "timestamp": 1756330092749,
     "user": {
      "displayName": "Артем Галимьянов",
      "userId": "12403306618364451137"
     },
     "user_tz": -180
    },
    "id": "J08jXgYrY92V"
   },
   "outputs": [],
   "source": [
    "import os\n",
    "import re\n",
    "import json\n",
    "import warnings\n",
    "import numpy as np\n",
    "import pandas as pd\n",
    "import matplotlib.pyplot as plt\n",
    "import seaborn as sns\n",
    "from tqdm.notebook import tqdm\n",
    "from collections import Counter, defaultdict\n",
    "import pickle\n",
    "\n",
    "# NLP библиотеки\n",
    "import nltk\n",
    "from nltk.tokenize import word_tokenize\n",
    "from nltk.corpus import stopwords\n",
    "import pymorphy3\n",
    "\n",
    "# Embeddings\n",
    "from gensim.models import Word2Vec, FastText\n",
    "from gensim.models import KeyedVectors\n",
    "import gensim.downloader as api\n",
    "\n",
    "# Визуализация\n",
    "from sklearn.manifold import TSNE\n",
    "from sklearn.decomposition import PCA\n",
    "import umap\n",
    "import plotly.graph_objects as go\n",
    "import plotly.express as px\n",
    "\n",
    "# Токенизация\n",
    "from transformers import AutoTokenizer\n",
    "import sentencepiece as spm\n",
    "\n",
    "# ML\n",
    "from sklearn.metrics.pairwise import cosine_similarity\n",
    "from scipy.spatial.distance import cosine\n",
    "\n",
    "warnings.filterwarnings('ignore')\n",
    "plt.style.use('seaborn-v0_8-darkgrid')\n",
    "\n",
    "# Создаём папки для результатов\n",
    "os.makedirs('results', exist_ok=True)\n",
    "os.makedirs('models', exist_ok=True)\n",
    "os.makedirs('visualizations', exist_ok=True)\n",
    "\n",
    "# Загружаем ресурсы NLTK\n",
    "nltk.download('punkt', quiet=True)\n",
    "nltk.download('stopwords', quiet=True)\n",
    "morph = pymorphy3.MorphAnalyzer()"
   ]
  },
  {
   "cell_type": "markdown",
   "metadata": {
    "id": "cwYjMu72Y92V"
   },
   "source": [
    "## БЛОК 1: Подготовка корпуса и обучение Word2Vec"
   ]
  },
  {
   "cell_type": "code",
   "execution_count": 39,
   "metadata": {
    "colab": {
     "base_uri": "https://localhost:8080/",
     "height": 0
    },
    "executionInfo": {
     "elapsed": 15756,
     "status": "ok",
     "timestamp": 1756333026279,
     "user": {
      "displayName": "Артем Галимьянов",
      "userId": "12403306618364451137"
     },
     "user_tz": -180
    },
    "id": "0-2kAG0uY92W",
    "outputId": "de66e7a9-7aca-4386-8a28-7f6730596abe"
   },
   "outputs": [
    {
     "name": "stdout",
     "output_type": "stream",
     "text": [
      "Создан корпус из 6870 текстов\n",
      "Корпус токенизирован\n",
      "Статистика корпуса:\n",
      "Размер словаря: 760 уникальных слов\n",
      "Всего токенов: 54049\n",
      "Средняя длина документа: 7.9 слов\n"
     ]
    }
   ],
   "source": [
    "def create_training_corpus():\n",
    "    \"\"\"\n",
    "    Создаём расширенный корпус для обучения эмбеддингов.\n",
    "    В реальности здесь будет загрузка большого корпуса (новости, Wikipedia и т.д.)\n",
    "    \"\"\"\n",
    "\n",
    "    # Тематические тексты для демонстрации семантических отношений\n",
    "    texts = [\n",
    "        # Искусственный интеллект и машинное обучение\n",
    "        \"Искусственный интеллект трансформирует современный бизнес и науку.\",\n",
    "        \"Машинное обучение используется для создания предиктивных моделей.\",\n",
    "        \"Нейронная сеть успешно распознает образы с высокой точностью.\",\n",
    "        \"Алгоритмы глубокого обучения требуют больших вычислительных мощностей.\",\n",
    "        \"Аналитик данных применяет машинное обучение для анализа тенденций.\",\n",
    "        \"Эта модель искусственного интеллекта способна к самообучению.\",\n",
    "        \"Обработка естественного языка является важной областью ИИ.\",\n",
    "        \"Нейросеть была обучена на огромном наборе текстовых данных.\",\n",
    "\n",
    "        # Разработка программного обеспечения\n",
    "        \"Программист пишет чистый и эффективный код для нового приложения.\",\n",
    "        \"Разработчик программного обеспечения отлаживает систему перед запуском.\",\n",
    "        \"Новый фреймворк значительно ускоряет процесс разработки.\",\n",
    "        \"Команда использует гибкую методологию для управления проектом.\",\n",
    "        \"Рефакторинг кода улучшает его читаемость и производительность.\",\n",
    "        \"Система контроля версий помогает отслеживать изменения в коде.\",\n",
    "        \"Автоматизированное тестирование обеспечивает высокое качество продукта.\",\n",
    "\n",
    "        # Данные и аналитика\n",
    "        \"Большие данные анализируются для поиска скрытых закономерностей.\",\n",
    "        \"Визуализация данных помогает понять сложные наборы информации.\",\n",
    "        \"Хранилище данных консолидирует информацию из разных источников.\",\n",
    "        \"Аналитик строит дашборды для мониторинга ключевых показателей.\",\n",
    "        \"Статистический анализ является основой науки о данных.\",\n",
    "\n",
    "        # Кибербезопасность\n",
    "        \"Кибербезопасность защищает корпоративные сети от внешних угроз.\",\n",
    "        \"Шифрование данных обеспечивает конфиденциальность информации.\",\n",
    "        \"Специалист по безопасности отражает хакерские атаки.\",\n",
    "        \"Двухфакторная аутентификация повышает уровень защиты аккаунта.\",\n",
    "        \"Аудит безопасности выявляет уязвимости в системе.\",\n",
    "\n",
    "        # Инфраструктура и аппаратное обеспечение\n",
    "        \"Облачные вычисления предоставляют гибкие и масштабируемые ресурсы.\",\n",
    "        \"Новый процессор обладает повышенной производительностью.\",\n",
    "        \"Серверная инфраструктура поддерживает работу всех сервисов компании.\",\n",
    "        \"Центр обработки данных требует надежного охлаждения.\",\n",
    "        \"Интернет вещей соединяет миллиарды устройств в единую сеть.\"\n",
    "\n",
    "        # Россия и Европа\n",
    "        \"Москва — столица и самый густонаселенный город России.\",\n",
    "        \"В столице России, Москве, находится знаменитый Кремль.\",\n",
    "        \"Столица России Москва обладает порядка 12 миллиона человек\",\n",
    "        \"Париж, столица Франции, славится своей культурой и Эйфелевой башней.\",\n",
    "        \"Париж - столица Франции. Основан в III веке до н. э.\",\n",
    "        \"Столица Франции Париж с населением 2 миллиона человек\",\n",
    "        \"Многие туристы мечтают посетить Лувр в Париже, столице Франции.\",\n",
    "        \"Берлин является политическим и культурным центром Германии.\",\n",
    "        \"Бранденбургские ворота — известный символ Берлина, столицы Германии.\",\n",
    "        \"Лондон, столица Великобритании, — это огромный мировой финансовый центр.\",\n",
    "        \"Столицей Великобритании является город Лондон, расположенный на реке Темзе.\",\n",
    "        \"Рим, столица Италии, известен как 'Вечный город' благодаря своей богатой истории.\",\n",
    "        \"В Риме, столице Италии, можно увидеть древний Колизей.\",\n",
    "        \"Мадрид — официальная столица и крупнейший город Испании.\",\n",
    "        \"В столице Испании, Мадриде, находится знаменитый музей Прадо.\",\n",
    "        \"Афины — историческая столица Греции, колыбель западной цивилизации.\",\n",
    "        \"Столицей Норвегии является город Осло.\",\n",
    "        \"Москва является столицей России и крупнейшим городом\",\n",
    "        \"Париж столица Франции известен Эйфелевой башней\",\n",
    "        \"Берлин столица Германии центр культуры и искусства\",\n",
    "        \"Лондон столица Великобритании финансовый центр Европы\",\n",
    "        \"Токио столица Японии самый населённый мегаполис мира\",\n",
    "\n",
    "        # Азия\n",
    "        \"Токио — современная и технологичная столица Японии.\",\n",
    "        \"Столицей Японии является густонаселенный мегаполис Токио.\",\n",
    "        \"Пекин — древняя столица Китая с богатым историческим наследием.\",\n",
    "        \"В Пекине, столице Китая, находится Запретный город.\",\n",
    "        \"Нью-Дели — официальная столица Индии.\",\n",
    "        \"Сеул является столицей и крупнейшим городом Республики Корея.\",\n",
    "\n",
    "        # Северная и Южная Америка\n",
    "        \"Вашингтон — столица Соединенных Штатов Америки, названная в честь первого президента.\",\n",
    "        \"Белый дом в Вашингтоне является резиденцией президента США.\",\n",
    "        \"Оттава была выбрана столицей Канады королевой Викторией.\",\n",
    "        \"Столицей Мексики является огромный город Мехико.\",\n",
    "        \"Бразилиа — специально построенная столица Бразилии с футуристической архитектурой.\",\n",
    "\n",
    "        # Другие регионы\n",
    "        \"Каир, столица Египта, расположен на берегах великой реки Нил.\",\n",
    "        \"Канберра является столицей Австралии, хотя Сидней — более крупный город.\",\n",
    "        \"Анкара — столица Турции, а не Стамбул, как многие думают.\"\n",
    "\n",
    "        # Технические и научные профессии\n",
    "        \"Программист пишет чистый и эффективный код для веб-приложений.\",\n",
    "        \"Инженер-строитель проектирует мосты и другие сложные сооружения.\",\n",
    "        \"Архитектор создает чертежи будущих зданий, сочетая искусство и науку.\",\n",
    "        \"Ученый-биолог проводит исследования в лаборатории.\",\n",
    "        \"Аналитик данных обрабатывает большие объемы информации для поиска закономерностей.\",\n",
    "        \"Инженер отвечает за исправность и надежность технических систем.\",\n",
    "\n",
    "        # общий блок\n",
    "        \"Программист пишет код и разрабатывает программное обеспечение\",\n",
    "        \"Врач лечит пациентов и заботится о здоровье людей\",\n",
    "        \"Учитель обучает детей и передаёт знания новому поколению\",\n",
    "        \"Инженер проектирует и создаёт технические системы\",\n",
    "        \"Художник создаёт произведения искусства и выражает эмоции\",\n",
    "\n",
    "        # Медицинские профессии\n",
    "        \"Врач терапевт ставит диагноз на основе симптомов пациента.\",\n",
    "        \"Хирург использует скальпель для проведения точных операций.\",\n",
    "        \"Медсестра заботится о больных и выполняет назначения врача.\",\n",
    "        \"Фармацевт консультирует покупателей по лекарственным препаратам в аптеке.\",\n",
    "\n",
    "        # Образование и искусство\n",
    "        \"Учитель начальных классов помогает детям осваивать чтение и письмо.\",\n",
    "        \"Преподаватель в университете читает лекции студентам.\",\n",
    "        \"Художник пишет картины маслом, используя холст и палитру.\",\n",
    "        \"Музыкант играет на скрипке в симфоническом оркестре.\",\n",
    "        \"Писатель создает новые миры на страницах своих книг.\",\n",
    "        \"Актер исполняет роль в театральной постановке.\",\n",
    "\n",
    "        # Сфера услуг и производство\n",
    "        \"Повар готовит изысканные блюда на кухне ресторана.\",\n",
    "        \"Фермер выращивает пшеницу и другие зерновые культуры на поле.\",\n",
    "        \"Водитель управляет грузовиком для перевозки товаров на дальние расстояния.\",\n",
    "        \"Парикмахер делает стильные стрижки и прически своим клиентам.\",\n",
    "\n",
    "        # Общественная безопасность\n",
    "        \"Пожарный рискует жизнью, чтобы спасать людей из огня.\",\n",
    "        \"Полицейский патрулирует улицы для поддержания порядка.\",\n",
    "        \"Юрист представляет интересы своего клиента в суде.\",\n",
    "        \"Спасатель оказывает помощь пострадавшим в чрезвычайных ситуациях.\"\n",
    "\n",
    "        # Домашние животные\n",
    "        \"Домашняя кошка — прекрасный компаньон, который любит ласку.\",\n",
    "        \"Кошка часто мурлычет, когда чувствует себя комфортно и в безопасности.\",\n",
    "        \"Собака считается лучшим и самым верным другом человека.\",\n",
    "        \"Дрессированная собака может выполнять множество полезных команд.\",\n",
    "\n",
    "        # Крупные хищники\n",
    "        \"Лев, царь зверей, живёт в африканской саванне и охотится в прайде.\",\n",
    "        \"Грозный рык льва слышен на многие километры вокруг.\",\n",
    "        \"Тигр — это крупный одиночный хищник из семейства кошачьих, обитающий в Азии.\",\n",
    "        \"Полосатый окрас помогает тигру маскироваться в джунглях.\",\n",
    "        \"Бурый медведь — всеядное животное, которое зимой впадает в спячку.\",\n",
    "        \"Волк — умный хищник, который охотится в стае.\",\n",
    "        \"Хитрая лиса известна своим пушистым рыжим хвостом.\",\n",
    "\n",
    "        # Травоядные\n",
    "        \"Слон — самое крупное наземное млекопитающее с длинным хоботом.\",\n",
    "        \"Африканский слон использует свои большие уши для охлаждения.\",\n",
    "        \"Жираф является самым высоким животным и питается листьями деревьев.\",\n",
    "        \"Зебра имеет уникальный черно-белый окрас для маскировки от хищников.\",\n",
    "        \"Кенгуру — сумчатое животное, которое передвигается прыжками.\",\n",
    "\n",
    "        # Морские обитатели\n",
    "        \"Дельфин — очень умное и социальное морское млекопитающее.\",\n",
    "        \"Дельфины общаются друг с другом с помощью щелчков и свиста.\",\n",
    "        \"Синий кит — самое большое животное на планете Земля.\",\n",
    "        \"Большая белая акула — это эффективный морской хищник.\",\n",
    "\n",
    "        # Птицы и другие\n",
    "        \"Орёл — хищная птица, парящая высоко в небе.\",\n",
    "        \"Обезьяна ловко карабкается по деревьям в тропическом лесу.\",\n",
    "        \"Пингвин — нелетающая птица, которая отлично плавает в холодной воде.\",\n",
    "        \"Крокодил — опасный хищник, обитающий в реках и озерах.\"\n",
    "\n",
    "        # Национальные блюда\n",
    "        \"Итальянская пицца 'Маргарита' готовится с томатами, моцареллой и базиликом.\",\n",
    "        \"Паста карбонара — это классическое блюдо родом из Рима.\",\n",
    "        \"Японские суши и роллы часто подают с соевым соусом и васаби.\",\n",
    "        \"Традиционный русский борщ варят на основе свёклы и капусты.\",\n",
    "        \"Мексиканское тако состоит из кукурузной лепешки с разнообразной начинкой.\",\n",
    "        \"Французский луковый суп подается с гренками и плавленым сыром.\",\n",
    "        \"Испанская паэлья — это блюдо из риса с морепродуктами или мясом.\",\n",
    "        \"Американский бургер — популярный вид фастфуда во всем мире.\",\n",
    "        \"Тайский суп том ям известен своим острым и кислым вкусом.\",\n",
    "\n",
    "        # Основные блюда и закуски\n",
    "        \"Сочный стейк из говядины обычно подают с овощным гарниром.\",\n",
    "        \"Греческий салат заправляют оливковым маслом и посыпают орегано.\",\n",
    "        \"Омлет — простое и сытное блюдо на завтрак из взбитых яиц.\",\n",
    "        \"Картофельное пюре является популярным гарниром ко многим блюдам.\",\n",
    "\n",
    "        # Десерты и выпечка\n",
    "        \"Шоколадный торт — любимый десерт многих сладкоежек.\",\n",
    "        \"Французский круассан — это воздушная выпечка из слоеного теста.\",\n",
    "        \"Чизкейк готовят на основе сливочного сыра.\",\n",
    "        \"В жаркую погоду приятно съесть шарик ванильного мороженого.\",\n",
    "        \"Яблочный штрудель — традиционный австрийский десерт.\",\n",
    "\n",
    "        # Напитки\n",
    "        \"Чашка горячего кофе помогает взбодриться утром.\",\n",
    "        \"Зеленый чай богат антиоксидантами и полезен для здоровья.\",\n",
    "        \"Свежевыжатый апельсиновый сок является отличным источником витамина C.\",\n",
    "        \"Бокал красного вина хорошо сочетается с мясными блюдами.\"\n",
    "    ] * 50  # Увеличиваем для лучшего обучения\n",
    "\n",
    "    # Добавляем вариации для создания семантических связей\n",
    "    variations = []\n",
    "    for text in texts[:10]:  # Берём первые 10 и создаём вариации\n",
    "        words = text.split()\n",
    "        # Перестановки слов\n",
    "        if len(words) > 3:\n",
    "            shuffled = words.copy()\n",
    "            np.random.shuffle(shuffled)\n",
    "            variations.append(' '.join(shuffled))\n",
    "        # Замены синонимов\n",
    "        text_syn = text.replace(\"искусственный интеллект\", \"ИИ\")\n",
    "        text_syn = text_syn.replace(\"машинное обучение\", \"ML\")\n",
    "        variations.append(text_syn)\n",
    "\n",
    "    texts.extend(variations)\n",
    "\n",
    "    return texts\n",
    "\n",
    "# Создаём корпус\n",
    "corpus_texts = create_training_corpus()\n",
    "print(f\"Создан корпус из {len(corpus_texts)} текстов\")\n",
    "\n",
    "# Предобработка текстов\n",
    "def preprocess_for_embeddings(text):\n",
    "    \"\"\"Упрощённая предобработка для обучения эмбеддингов\"\"\"\n",
    "    text = text.lower()\n",
    "    text = re.sub(r'[^а-яёa-z\\s]', ' ', text)\n",
    "    text = re.sub(r'\\s+', ' ', text).strip()\n",
    "    tokens = text.split()\n",
    "    return tokens\n",
    "\n",
    "# Предобработка с лемматизацией для Word2Vec\n",
    "def preprocess_for_embeddings_l(text):\n",
    "    \"\"\"Упрощённая предобработка для обучения эмбеддингов\"\"\"\n",
    "    text = text.lower()\n",
    "    text = re.sub(r'[^а-яёa-z\\s]', ' ', text)\n",
    "    text = re.sub(r'\\s+', ' ', text).strip()\n",
    "    tokens = text.split()\n",
    "    lemmas = [morph.parse(word)[0].normal_form for word in tokens]\n",
    "    return lemmas\n",
    "\n",
    "# Токенизируем корпус\n",
    "tokenized_corpus = [preprocess_for_embeddings(text) for text in corpus_texts]\n",
    "tokenized_corpus_l = [preprocess_for_embeddings_l(text) for text in corpus_texts]\n",
    "print(f\"Корпус токенизирован\")\n",
    "\n",
    "# Считаем статистику\n",
    "all_words = [word for text in tokenized_corpus for word in text]\n",
    "vocab_size = len(set(all_words))\n",
    "corpus_size = len(all_words)\n",
    "\n",
    "print(f\"Статистика корпуса:\")\n",
    "print(f\"Размер словаря: {vocab_size} уникальных слов\")\n",
    "print(f\"Всего токенов: {corpus_size}\")\n",
    "print(f\"Средняя длина документа: {corpus_size/len(tokenized_corpus):.1f} слов\")"
   ]
  },
  {
   "cell_type": "markdown",
   "metadata": {
    "id": "MO1z2UfmY92W"
   },
   "source": [
    "### Обучение разных моделей эмбеддингов"
   ]
  },
  {
   "cell_type": "code",
   "execution_count": 56,
   "metadata": {
    "colab": {
     "base_uri": "https://localhost:8080/",
     "height": 0
    },
    "executionInfo": {
     "elapsed": 63692,
     "status": "ok",
     "timestamp": 1756335493748,
     "user": {
      "displayName": "Артем Галимьянов",
      "userId": "12403306618364451137"
     },
     "user_tz": -180
    },
    "id": "Iun-yizSY92W",
    "outputId": "abd35e85-ad38-458b-f5b5-63a5d29ee9e1"
   },
   "outputs": [
    {
     "name": "stdout",
     "output_type": "stream",
     "text": [
      "Word2Vec (Skip-gram)...\n",
      "Обучено, словарь: 654 слов\n",
      "Word2Vec (CBOW)...\n",
      "Обучено, словарь: 654 слов\n",
      "FastText...\n",
      "Обучено, словарь: 654 слов\n"
     ]
    }
   ],
   "source": [
    "# 1. Word2Vec (Skip-gram)\n",
    "print(\"Word2Vec (Skip-gram)...\")\n",
    "w2v_sg = Word2Vec(\n",
    "    sentences=tokenized_corpus,\n",
    "    vector_size=100,\n",
    "    window=5,\n",
    "    min_count=2,\n",
    "    workers=4,\n",
    "    sg=1,  # Skip-gram\n",
    "    negative=5,\n",
    "    epochs=100,\n",
    "    seed=42\n",
    ")\n",
    "print(f\"Обучено, словарь: {len(w2v_sg.wv)} слов\")\n",
    "\n",
    "# 2. Word2Vec (CBOW)\n",
    "print(\"Word2Vec (CBOW)...\")\n",
    "w2v_cbow = Word2Vec(\n",
    "    sentences=tokenized_corpus,\n",
    "    vector_size=100,\n",
    "    window=5,\n",
    "    min_count=2,\n",
    "    workers=4,\n",
    "    sg=0,  # CBOW\n",
    "    epochs=100,\n",
    "    seed=42\n",
    ")\n",
    "print(f\"Обучено, словарь: {len(w2v_cbow.wv)} слов\")\n",
    "\n",
    "# 3. FastText\n",
    "print(\"FastText...\")\n",
    "fasttext_model = FastText(\n",
    "    sentences=tokenized_corpus,\n",
    "    vector_size=100,\n",
    "    window=5,\n",
    "    min_count=2,\n",
    "    min_n=3,\n",
    "    max_n=6,\n",
    "    sg=1,\n",
    "    epochs=100,\n",
    "    seed=42\n",
    ")\n",
    "print(f\"Обучено, словарь: {len(fasttext_model.wv)} слов\")"
   ]
  },
  {
   "cell_type": "markdown",
   "metadata": {
    "id": "eb7lUhf0Y92X"
   },
   "source": [
    "## БЛОК 2: Исследование семантических отношений"
   ]
  },
  {
   "cell_type": "code",
   "execution_count": 57,
   "metadata": {
    "colab": {
     "base_uri": "https://localhost:8080/"
    },
    "executionInfo": {
     "elapsed": 22,
     "status": "ok",
     "timestamp": 1756335572315,
     "user": {
      "displayName": "Артем Галимьянов",
      "userId": "12403306618364451137"
     },
     "user_tz": -180
    },
    "id": "eX6v_xc7Y92X",
    "outputId": "58fce6e9-18f4-4340-95c0-58b93169ca9c"
   },
   "outputs": [
    {
     "name": "stdout",
     "output_type": "stream",
     "text": [
      "\n",
      "========================================\n",
      "Сравнение моделей на тестовых словах\n",
      "========================================\n",
      "\n",
      "========================================\n",
      "Слово: 'россия'\n",
      "========================================\n",
      "Word2Vec Skip-gram - Анализ слова 'россия':\n",
      "Топ-5 похожих слов:\n",
      "    москва          : 0.732\n",
      "    кремль          : 0.665\n",
      "    миллиард        : 0.639\n",
      "    устройство      : 0.622\n",
      "    обладать        : 0.600\n",
      "Word2Vec CBOW - Анализ слова 'россия':\n",
      "Топ-5 похожих слов:\n",
      "    единый          : 0.660\n",
      "    сеул            : 0.632\n",
      "    москва          : 0.621\n",
      "    испания         : 0.578\n",
      "    густонаселённый : 0.552\n",
      "FastText - Анализ слова 'россия':\n",
      "Топ-5 похожих слов:\n",
      "    москва          : 0.748\n",
      "    миллиард        : 0.703\n",
      "    кремль          : 0.680\n",
      "    устройство      : 0.661\n",
      "    единый          : 0.647\n",
      "\n",
      "========================================\n",
      "Слово: 'программист'\n",
      "========================================\n",
      "Word2Vec Skip-gram - Анализ слова 'программист':\n",
      "Топ-5 похожих слов:\n",
      "    приложение      : 0.742\n",
      "    веб             : 0.731\n",
      "    думать          : 0.705\n",
      "    чистый          : 0.695\n",
      "    эффективный     : 0.689\n",
      "Word2Vec CBOW - Анализ слова 'программист':\n",
      "Топ-5 похожих слов:\n",
      "    думать          : 0.768\n",
      "    чистый          : 0.647\n",
      "    веб             : 0.568\n",
      "    эффективный     : 0.511\n",
      "    писать          : 0.473\n",
      "FastText - Анализ слова 'программист':\n",
      "Топ-5 похожих слов:\n",
      "    веб             : 0.780\n",
      "    приложение      : 0.777\n",
      "    чистый          : 0.751\n",
      "    думать          : 0.750\n",
      "    писать          : 0.705\n",
      "\n",
      "========================================\n",
      "Слово: 'кошка'\n",
      "========================================\n",
      "Word2Vec Skip-gram - Анализ слова 'кошка':\n",
      "Топ-5 похожих слов:\n",
      "    домашний        : 0.833\n",
      "    мурлыкать       : 0.822\n",
      "    прекрасный      : 0.815\n",
      "    ласка           : 0.800\n",
      "    любить          : 0.793\n",
      "Word2Vec CBOW - Анализ слова 'кошка':\n",
      "Топ-5 похожих слов:\n",
      "    прекрасный      : 0.733\n",
      "    домашний        : 0.712\n",
      "    ситуация        : 0.710\n",
      "    чрезвычайный    : 0.612\n",
      "    мурлыкать       : 0.612\n",
      "FastText - Анализ слова 'кошка':\n",
      "Топ-5 похожих слов:\n",
      "    ласка           : 0.777\n",
      "    компаньон       : 0.774\n",
      "    домашний        : 0.763\n",
      "    прекрасный      : 0.761\n",
      "    комфортно       : 0.746\n",
      "\n",
      "========================================\n",
      "Слово: 'искусственный'\n",
      "========================================\n",
      "Word2Vec Skip-gram - Анализ слова 'искусственный':\n",
      "Топ-5 похожих слов:\n",
      "    интеллект       : 0.757\n",
      "    самообучение    : 0.751\n",
      "    бизнес          : 0.739\n",
      "    способный       : 0.736\n",
      "    этот            : 0.720\n",
      "Word2Vec CBOW - Анализ слова 'искусственный':\n",
      "Топ-5 похожих слов:\n",
      "    способный       : 0.808\n",
      "    этот            : 0.784\n",
      "    самообучение    : 0.634\n",
      "    трансформировать : 0.615\n",
      "    бизнес          : 0.515\n",
      "FastText - Анализ слова 'искусственный':\n",
      "Топ-5 похожих слов:\n",
      "    интеллект       : 0.846\n",
      "    способный       : 0.813\n",
      "    бизнес          : 0.809\n",
      "    лекарственный   : 0.791\n",
      "    естественный    : 0.788\n"
     ]
    }
   ],
   "source": [
    "def explore_word_relations(model, word, model_name=\"Model\"):\n",
    "    \"\"\"Исследует семантические связи слова\"\"\"\n",
    "    if word not in model.wv:\n",
    "        print(f\"Слово '{word}' не найдено в {model_name}\")\n",
    "        return\n",
    "\n",
    "    print(f\"{model_name} - Анализ слова '{word}':\")\n",
    "\n",
    "    # Ближайшие слова\n",
    "    similar = model.wv.most_similar(word, topn=5)\n",
    "    print(f\"Топ-5 похожих слов:\")\n",
    "    for sim_word, score in similar:\n",
    "        print(f\"    {sim_word:15} : {score:.3f}\")\n",
    "\n",
    "    return similar\n",
    "\n",
    "# Тестовые слова\n",
    "test_words = ['россия', 'программист', 'кошка', 'искусственный']\n",
    "\n",
    "print(\"\\n\" + \"=\"*40)\n",
    "print(\"Сравнение моделей на тестовых словах\")\n",
    "print(\"=\"*40)\n",
    "\n",
    "for word in test_words:\n",
    "    print(f\"\\n{'='*40}\")\n",
    "    print(f\"Слово: '{word}'\")\n",
    "    print(f\"{'='*40}\")\n",
    "\n",
    "    explore_word_relations(w2v_sg, word, \"Word2Vec Skip-gram\")\n",
    "    explore_word_relations(w2v_cbow, word, \"Word2Vec CBOW\")\n",
    "    explore_word_relations(fasttext_model, word, \"FastText\")"
   ]
  },
  {
   "cell_type": "markdown",
   "metadata": {
    "id": "4X1XfaGWY92X"
   },
   "source": [
    "### Векторная арифметика и аналогии"
   ]
  },
  {
   "cell_type": "code",
   "execution_count": 58,
   "metadata": {
    "colab": {
     "base_uri": "https://localhost:8080/"
    },
    "executionInfo": {
     "elapsed": 21,
     "status": "ok",
     "timestamp": 1756335616571,
     "user": {
      "displayName": "Артем Галимьянов",
      "userId": "12403306618364451137"
     },
     "user_tz": -180
    },
    "id": "xQcGxPPCY92X",
    "outputId": "deaaae1e-f037-4454-c877-b5d4ae795519"
   },
   "outputs": [
    {
     "name": "stdout",
     "output_type": "stream",
     "text": [
      "Тестируем аналогии:\n",
      "Word2Vec:\n",
      "    Уравнение: москва + франция - россия\n",
      "    Результат:\n",
      "        париж           : 0.592\n",
      "        э               : 0.557\n",
      "        башня           : 0.545\n",
      "FastText:\n",
      "    Уравнение: москва + франция - россия\n",
      "    Результат:\n",
      "        париж           : 0.657\n",
      "        славиться       : 0.572\n",
      "        турист          : 0.555\n",
      "----------------------------------------\n",
      "Word2Vec:\n",
      "    Уравнение: париж + германия - франция\n",
      "    Результат:\n",
      "        берлин          : 0.604\n",
      "        бранденбургский : 0.580\n",
      "        ворота          : 0.578\n",
      "FastText:\n",
      "    Уравнение: париж + германия - франция\n",
      "    Результат:\n",
      "        берлин          : 0.725\n",
      "        ворота          : 0.711\n",
      "        бранденбургский : 0.640\n",
      "----------------------------------------\n",
      "Word2Vec:\n",
      "    Уравнение: врач + код - пациент\n",
      "    Результат:\n",
      "        приложение      : 0.566\n",
      "        контроль        : 0.497\n",
      "        версия          : 0.489\n",
      "FastText:\n",
      "    Уравнение: врач + код - пациент\n",
      "    Результат:\n",
      "        контроль        : 0.599\n",
      "        комфортно       : 0.560\n",
      "        кофе            : 0.552\n",
      "----------------------------------------\n"
     ]
    }
   ],
   "source": [
    "def word_arithmetic(model, positive, negative, model_name=\"Model\"):\n",
    "    \"\"\"\n",
    "    Выполняет векторную арифметику.\n",
    "    Пример: король - мужчина + женщина = королева\n",
    "    \"\"\"\n",
    "    # Проверяем наличие слов\n",
    "    for word in positive + negative:\n",
    "        if word not in model.wv:\n",
    "            print(f\"Слово '{word}' не найдено в {model_name}\")\n",
    "            return None\n",
    "\n",
    "    result = model.wv.most_similar(positive=positive, negative=negative, topn=3)\n",
    "\n",
    "    equation = \" + \".join(positive)\n",
    "    if negative:\n",
    "        equation += \" - \" + \" - \".join(negative)\n",
    "\n",
    "    print(f\"{model_name}:\")\n",
    "    print(f\"    Уравнение: {equation}\")\n",
    "    print(f\"    Результат:\")\n",
    "    for word, score in result:\n",
    "        print(f\"        {word:15} : {score:.3f}\")\n",
    "\n",
    "    return result\n",
    "\n",
    "# Примеры аналогий\n",
    "analogies = [\n",
    "    # Страны и столицы\n",
    "    (['москва', 'франция'], ['россия']),  # Москва - Россия + Франция ≈ Париж\n",
    "    (['париж', 'германия'], ['франция']),  # Париж - Франция + Германия ≈ Берлин\n",
    "\n",
    "    # Профессии (если есть в корпусе)\n",
    "    (['врач', 'код'], ['пациент']),  # Врач - пациент + код ≈ программист\n",
    "]\n",
    "\n",
    "print(\"Тестируем аналогии:\")\n",
    "for positive, negative in analogies:\n",
    "    word_arithmetic(w2v_sg, positive, negative, \"Word2Vec\")\n",
    "    word_arithmetic(fasttext_model, positive, negative, \"FastText\")\n",
    "    print(\"-\" * 40)"
   ]
  },
  {
   "cell_type": "markdown",
   "metadata": {
    "id": "6VQEFvw0Y92Y"
   },
   "source": [
    "## БЛОК 3: Визуализация эмбеддингов (t-SNE и UMAP)"
   ]
  },
  {
   "cell_type": "code",
   "execution_count": 59,
   "metadata": {
    "colab": {
     "base_uri": "https://localhost:8080/"
    },
    "executionInfo": {
     "elapsed": 48,
     "status": "ok",
     "timestamp": 1756335644143,
     "user": {
      "displayName": "Артем Галимьянов",
      "userId": "12403306618364451137"
     },
     "user_tz": -180
    },
    "id": "W-hln06WY92Y",
    "outputId": "fbd5d604-8ef1-4769-c905-1ca2fc040183"
   },
   "outputs": [
    {
     "name": "stdout",
     "output_type": "stream",
     "text": [
      "Подготовлено 24 слов для визуализации\n"
     ]
    }
   ],
   "source": [
    "def get_word_vectors_and_labels(model, words=None, max_words=100):\n",
    "    \"\"\"Получает векторы и метки для визуализации\"\"\"\n",
    "    if words is None:\n",
    "        # Берём топ частотных слов\n",
    "        words = list(model.wv.index_to_key)[:max_words]\n",
    "    else:\n",
    "        # Фильтруем только существующие слова\n",
    "        words = [w for w in words if w in model.wv]\n",
    "\n",
    "    vectors = np.array([model.wv[word] for word in words])\n",
    "    return vectors, words\n",
    "\n",
    "# Выбираем слова для визуализации (тематические группы)\n",
    "themed_words = {\n",
    "    'технологии': ['интеллект', 'машинное', 'обучение', 'нейронные', 'сети',\n",
    "                   'алгоритмы', 'компьютер', 'данных'],\n",
    "    'страны': ['россия', 'москва', 'франция', 'париж', 'германия', 'берлин',\n",
    "               'япония', 'токио'],\n",
    "    'профессии': ['программист', 'врач', 'учитель', 'инженер', 'художник'],\n",
    "    'животные': ['кошка', 'собака', 'лев', 'слон', 'дельфин'],\n",
    "    'еда': ['пицца', 'суши', 'борщ', 'паста', 'салат']\n",
    "}\n",
    "\n",
    "# Собираем все слова и их категории\n",
    "all_themed_words = []\n",
    "word_categories = []\n",
    "for category, words in themed_words.items():\n",
    "    for word in words:\n",
    "        if word in w2v_sg.wv:\n",
    "            all_themed_words.append(word)\n",
    "            word_categories.append(category)\n",
    "\n",
    "print(f\"Подготовлено {len(all_themed_words)} слов для визуализации\")\n",
    "\n",
    "# Получаем векторы\n",
    "vectors, labels = get_word_vectors_and_labels(w2v_sg, all_themed_words)"
   ]
  },
  {
   "cell_type": "markdown",
   "metadata": {
    "id": "EihpbhIMY92Y"
   },
   "source": [
    "### t-SNE визуализация"
   ]
  },
  {
   "cell_type": "code",
   "execution_count": 70,
   "metadata": {
    "colab": {
     "base_uri": "https://localhost:8080/",
     "height": 623
    },
    "executionInfo": {
     "elapsed": 1943,
     "status": "ok",
     "timestamp": 1756336183891,
     "user": {
      "displayName": "Артем Галимьянов",
      "userId": "12403306618364451137"
     },
     "user_tz": -180
    },
    "id": "2CeIMBERY92Y",
    "outputId": "69dccf28-2423-426f-e571-ffe4696f5b58"
   },
   "outputs": [
    {
     "data": {
      "image/png": "[encoded data removed]",
      "text/plain": [
       "<Figure size 1200x800 with 2 Axes>"
      ]
     },
     "metadata": {},
     "output_type": "display_data"
    },
    {
     "name": "stdout",
     "output_type": "stream",
     "text": [
      "t-SNE визуализация сохранена\n"
     ]
    }
   ],
   "source": [
    "# Сначала снижаем размерность с PCA для ускорения t-SNE\n",
    "pca = PCA(n_components=20, random_state=42)\n",
    "vectors_pca = pca.fit_transform(vectors)\n",
    "\n",
    "# t-SNE\n",
    "tsne = TSNE(n_components=2, perplexity=15, random_state=42, n_iter=1000)\n",
    "vectors_tsne = tsne.fit_transform(vectors_pca)\n",
    "\n",
    "# Визуализация с matplotlib\n",
    "plt.figure(figsize=(12, 8))\n",
    "category_indices = [list(themed_words.keys()).index(cat) for cat in word_categories]\n",
    "scatter = plt.scatter(vectors_tsne[:, 0], vectors_tsne[:, 1],\n",
    "                      c=category_indices,\n",
    "                      cmap='tab10', alpha=0.7, s=100)\n",
    "\n",
    "# Добавляем подписи\n",
    "for i, label in enumerate(labels):\n",
    "    plt.annotate(label, (vectors_tsne[i, 0], vectors_tsne[i, 1]),\n",
    "                 fontsize=9, alpha=0.8)\n",
    "\n",
    "plt.colorbar(scatter, ticks=range(len(themed_words.keys())),\n",
    "             label='Категория').ax.set_yticklabels(themed_words.keys())\n",
    "plt.title('t-SNE визуализация Word2Vec эмбеддингов')\n",
    "plt.xlabel('t-SNE 1')\n",
    "plt.ylabel('t-SNE 2')\n",
    "plt.grid(True, alpha=0.3)\n",
    "plt.tight_layout()\n",
    "plt.savefig('visualizations/tsne_word2vec.png', dpi=150)\n",
    "plt.show()\n",
    "\n",
    "print(\"t-SNE визуализация сохранена\")"
   ]
  },
  {
   "cell_type": "markdown",
   "metadata": {
    "id": "JvanVF5GY92Y"
   },
   "source": [
    "### UMAP визуализация"
   ]
  },
  {
   "cell_type": "code",
   "execution_count": 61,
   "metadata": {
    "colab": {
     "base_uri": "https://localhost:8080/",
     "height": 652
    },
    "executionInfo": {
     "elapsed": 94,
     "status": "ok",
     "timestamp": 1756335650266,
     "user": {
      "displayName": "Артем Галимьянов",
      "userId": "12403306618364451137"
     },
     "user_tz": -180
    },
    "id": "ZO3v6EfTY92Y",
    "outputId": "ab401104-6635-49c3-89cd-63214eddc03e"
   },
   "outputs": [
    {
     "name": "stdout",
     "output_type": "stream",
     "text": [
      "Создаём UMAP визуализацию...\n"
     ]
    },
    {
     "data": {
      "text/html": [
       "<html>\n",
       "<head><meta charset=\"utf-8\" /></head>\n",
       "<body>\n",
       "    <div>            <script src=\"https://cdnjs.cloudflare.com/ajax/libs/mathjax/2.7.5/MathJax.js?config=TeX-AMS-MML_SVG\"></script><script type=\"text/javascript\">if (window.MathJax && window.MathJax.Hub && window.MathJax.Hub.Config) {window.MathJax.Hub.Config({SVG: {font: \"STIX-Web\"}});}</script>                <script type=\"text/javascript\">window.PlotlyConfig = {MathJaxConfig: 'local'};</script>\n",
       "        <script charset=\"utf-8\" src=\"https://cdn.plot.ly/plotly-2.35.2.min.js\"></script>                <div id=\"b386d5bc-1045-45ed-954f-3512ea0d2457\" class=\"plotly-graph-div\" style=\"height:600px; width:100%;\"></div>            <script type=\"text/javascript\">                                    window.PLOTLYENV=window.PLOTLYENV || {};                                    if (document.getElementById(\"b386d5bc-1045-45ed-954f-3512ea0d2457\")) {                    Plotly.newPlot(                        \"b386d5bc-1045-45ed-954f-3512ea0d2457\",                        [{\"marker\":{\"size\":10},\"mode\":\"markers+text\",\"name\":\"технологии\",\"text\":[\"интеллект\",\"обучение\"],\"textfont\":{\"size\":9},\"textposition\":\"top center\",\"x\":[0.65294784,1.2228751],\"y\":[-4.897253,-5.1951256],\"type\":\"scatter\"},{\"marker\":{\"size\":10},\"mode\":\"markers+text\",\"name\":\"страны\",\"text\":[\"россия\",\"москва\",\"франция\",\"париж\",\"германия\",\"берлин\",\"япония\",\"токио\"],\"textfont\":{\"size\":9},\"textposition\":\"top center\",\"x\":[1.5320741,1.4851362,1.3274868,1.6492012,2.345915,2.0809004,0.9159026,0.3234185],\"y\":[-6.6363697,-7.128945,-5.9094014,-6.017529,-5.8844857,-5.5472603,-6.947704,-6.683884],\"type\":\"scatter\"},{\"marker\":{\"size\":10},\"mode\":\"markers+text\",\"name\":\"профессии\",\"text\":[\"программист\",\"врач\",\"учитель\",\"инженер\",\"художник\"],\"textfont\":{\"size\":9},\"textposition\":\"top center\",\"x\":[1.2927754,-0.3281221,0.5178231,0.1745355,0.7899251],\"y\":[-4.6668086,-5.9496493,-7.4270267,-4.16007,-4.0530357],\"type\":\"scatter\"},{\"marker\":{\"size\":10},\"mode\":\"markers+text\",\"name\":\"животные\",\"text\":[\"кошка\",\"собака\",\"лев\",\"слон\",\"дельфин\"],\"textfont\":{\"size\":9},\"textposition\":\"top center\",\"x\":[-0.55710226,-0.17858066,0.5350316,0.765269,-0.82492435],\"y\":[-4.7350407,-6.9629507,-5.6834826,-6.152454,-5.0966153],\"type\":\"scatter\"},{\"marker\":{\"size\":10},\"mode\":\"markers+text\",\"name\":\"еда\",\"text\":[\"пицца\",\"борщ\",\"паста\",\"салат\"],\"textfont\":{\"size\":9},\"textposition\":\"top center\",\"x\":[-0.17524502,0.24592805,1.8198327,0.047887374],\"y\":[-5.4855437,-5.282918,-4.754724,-4.711465],\"type\":\"scatter\"}],                        {\"template\":{\"data\":{\"histogram2dcontour\":[{\"type\":\"histogram2dcontour\",\"colorbar\":{\"outlinewidth\":0,\"ticks\":\"\"},\"colorscale\":[[0.0,\"#0d0887\"],[0.1111111111111111,\"#46039f\"],[0.2222222222222222,\"#7201a8\"],[0.3333333333333333,\"#9c179e\"],[0.4444444444444444,\"#bd3786\"],[0.5555555555555556,\"#d8576b\"],[0.6666666666666666,\"#ed7953\"],[0.7777777777777778,\"#fb9f3a\"],[0.8888888888888888,\"#fdca26\"],[1.0,\"#f0f921\"]]}],\"choropleth\":[{\"type\":\"choropleth\",\"colorbar\":{\"outlinewidth\":0,\"ticks\":\"\"}}],\"histogram2d\":[{\"type\":\"histogram2d\",\"colorbar\":{\"outlinewidth\":0,\"ticks\":\"\"},\"colorscale\":[[0.0,\"#0d0887\"],[0.1111111111111111,\"#46039f\"],[0.2222222222222222,\"#7201a8\"],[0.3333333333333333,\"#9c179e\"],[0.4444444444444444,\"#bd3786\"],[0.5555555555555556,\"#d8576b\"],[0.6666666666666666,\"#ed7953\"],[0.7777777777777778,\"#fb9f3a\"],[0.8888888888888888,\"#fdca26\"],[1.0,\"#f0f921\"]]}],\"heatmap\":[{\"type\":\"heatmap\",\"colorbar\":{\"outlinewidth\":0,\"ticks\":\"\"},\"colorscale\":[[0.0,\"#0d0887\"],[0.1111111111111111,\"#46039f\"],[0.2222222222222222,\"#7201a8\"],[0.3333333333333333,\"#9c179e\"],[0.4444444444444444,\"#bd3786\"],[0.5555555555555556,\"#d8576b\"],[0.6666666666666666,\"#ed7953\"],[0.7777777777777778,\"#fb9f3a\"],[0.8888888888888888,\"#fdca26\"],[1.0,\"#f0f921\"]]}],\"heatmapgl\":[{\"type\":\"heatmapgl\",\"colorbar\":{\"outlinewidth\":0,\"ticks\":\"\"},\"colorscale\":[[0.0,\"#0d0887\"],[0.1111111111111111,\"#46039f\"],[0.2222222222222222,\"#7201a8\"],[0.3333333333333333,\"#9c179e\"],[0.4444444444444444,\"#bd3786\"],[0.5555555555555556,\"#d8576b\"],[0.6666666666666666,\"#ed7953\"],[0.7777777777777778,\"#fb9f3a\"],[0.8888888888888888,\"#fdca26\"],[1.0,\"#f0f921\"]]}],\"contourcarpet\":[{\"type\":\"contourcarpet\",\"colorbar\":{\"outlinewidth\":0,\"ticks\":\"\"}}],\"contour\":[{\"type\":\"contour\",\"colorbar\":{\"outlinewidth\":0,\"ticks\":\"\"},\"colorscale\":[[0.0,\"#0d0887\"],[0.1111111111111111,\"#46039f\"],[0.2222222222222222,\"#7201a8\"],[0.3333333333333333,\"#9c179e\"],[0.4444444444444444,\"#bd3786\"],[0.5555555555555556,\"#d8576b\"],[0.6666666666666666,\"#ed7953\"],[0.7777777777777778,\"#fb9f3a\"],[0.8888888888888888,\"#fdca26\"],[1.0,\"#f0f921\"]]}],\"surface\":[{\"type\":\"surface\",\"colorbar\":{\"outlinewidth\":0,\"ticks\":\"\"},\"colorscale\":[[0.0,\"#0d0887\"],[0.1111111111111111,\"#46039f\"],[0.2222222222222222,\"#7201a8\"],[0.3333333333333333,\"#9c179e\"],[0.4444444444444444,\"#bd3786\"],[0.5555555555555556,\"#d8576b\"],[0.6666666666666666,\"#ed7953\"],[0.7777777777777778,\"#fb9f3a\"],[0.8888888888888888,\"#fdca26\"],[1.0,\"#f0f921\"]]}],\"mesh3d\":[{\"type\":\"mesh3d\",\"colorbar\":{\"outlinewidth\":0,\"ticks\":\"\"}}],\"scatter\":[{\"fillpattern\":{\"fillmode\":\"overlay\",\"size\":10,\"solidity\":0.2},\"type\":\"scatter\"}],\"parcoords\":[{\"type\":\"parcoords\",\"line\":{\"colorbar\":{\"outlinewidth\":0,\"ticks\":\"\"}}}],\"scatterpolargl\":[{\"type\":\"scatterpolargl\",\"marker\":{\"colorbar\":{\"outlinewidth\":0,\"ticks\":\"\"}}}],\"bar\":[{\"error_x\":{\"color\":\"#2a3f5f\"},\"error_y\":{\"color\":\"#2a3f5f\"},\"marker\":{\"line\":{\"color\":\"#E5ECF6\",\"width\":0.5},\"pattern\":{\"fillmode\":\"overlay\",\"size\":10,\"solidity\":0.2}},\"type\":\"bar\"}],\"scattergeo\":[{\"type\":\"scattergeo\",\"marker\":{\"colorbar\":{\"outlinewidth\":0,\"ticks\":\"\"}}}],\"scatterpolar\":[{\"type\":\"scatterpolar\",\"marker\":{\"colorbar\":{\"outlinewidth\":0,\"ticks\":\"\"}}}],\"histogram\":[{\"marker\":{\"pattern\":{\"fillmode\":\"overlay\",\"size\":10,\"solidity\":0.2}},\"type\":\"histogram\"}],\"scattergl\":[{\"type\":\"scattergl\",\"marker\":{\"colorbar\":{\"outlinewidth\":0,\"ticks\":\"\"}}}],\"scatter3d\":[{\"type\":\"scatter3d\",\"line\":{\"colorbar\":{\"outlinewidth\":0,\"ticks\":\"\"}},\"marker\":{\"colorbar\":{\"outlinewidth\":0,\"ticks\":\"\"}}}],\"scattermapbox\":[{\"type\":\"scattermapbox\",\"marker\":{\"colorbar\":{\"outlinewidth\":0,\"ticks\":\"\"}}}],\"scatterternary\":[{\"type\":\"scatterternary\",\"marker\":{\"colorbar\":{\"outlinewidth\":0,\"ticks\":\"\"}}}],\"scattercarpet\":[{\"type\":\"scattercarpet\",\"marker\":{\"colorbar\":{\"outlinewidth\":0,\"ticks\":\"\"}}}],\"carpet\":[{\"aaxis\":{\"endlinecolor\":\"#2a3f5f\",\"gridcolor\":\"white\",\"linecolor\":\"white\",\"minorgridcolor\":\"white\",\"startlinecolor\":\"#2a3f5f\"},\"baxis\":{\"endlinecolor\":\"#2a3f5f\",\"gridcolor\":\"white\",\"linecolor\":\"white\",\"minorgridcolor\":\"white\",\"startlinecolor\":\"#2a3f5f\"},\"type\":\"carpet\"}],\"table\":[{\"cells\":{\"fill\":{\"color\":\"#EBF0F8\"},\"line\":{\"color\":\"white\"}},\"header\":{\"fill\":{\"color\":\"#C8D4E3\"},\"line\":{\"color\":\"white\"}},\"type\":\"table\"}],\"barpolar\":[{\"marker\":{\"line\":{\"color\":\"#E5ECF6\",\"width\":0.5},\"pattern\":{\"fillmode\":\"overlay\",\"size\":10,\"solidity\":0.2}},\"type\":\"barpolar\"}],\"pie\":[{\"automargin\":true,\"type\":\"pie\"}]},\"layout\":{\"autotypenumbers\":\"strict\",\"colorway\":[\"#636efa\",\"#EF553B\",\"#00cc96\",\"#ab63fa\",\"#FFA15A\",\"#19d3f3\",\"#FF6692\",\"#B6E880\",\"#FF97FF\",\"#FECB52\"],\"font\":{\"color\":\"#2a3f5f\"},\"hovermode\":\"closest\",\"hoverlabel\":{\"align\":\"left\"},\"paper_bgcolor\":\"white\",\"plot_bgcolor\":\"#E5ECF6\",\"polar\":{\"bgcolor\":\"#E5ECF6\",\"angularaxis\":{\"gridcolor\":\"white\",\"linecolor\":\"white\",\"ticks\":\"\"},\"radialaxis\":{\"gridcolor\":\"white\",\"linecolor\":\"white\",\"ticks\":\"\"}},\"ternary\":{\"bgcolor\":\"#E5ECF6\",\"aaxis\":{\"gridcolor\":\"white\",\"linecolor\":\"white\",\"ticks\":\"\"},\"baxis\":{\"gridcolor\":\"white\",\"linecolor\":\"white\",\"ticks\":\"\"},\"caxis\":{\"gridcolor\":\"white\",\"linecolor\":\"white\",\"ticks\":\"\"}},\"coloraxis\":{\"colorbar\":{\"outlinewidth\":0,\"ticks\":\"\"}},\"colorscale\":{\"sequential\":[[0.0,\"#0d0887\"],[0.1111111111111111,\"#46039f\"],[0.2222222222222222,\"#7201a8\"],[0.3333333333333333,\"#9c179e\"],[0.4444444444444444,\"#bd3786\"],[0.5555555555555556,\"#d8576b\"],[0.6666666666666666,\"#ed7953\"],[0.7777777777777778,\"#fb9f3a\"],[0.8888888888888888,\"#fdca26\"],[1.0,\"#f0f921\"]],\"sequentialminus\":[[0.0,\"#0d0887\"],[0.1111111111111111,\"#46039f\"],[0.2222222222222222,\"#7201a8\"],[0.3333333333333333,\"#9c179e\"],[0.4444444444444444,\"#bd3786\"],[0.5555555555555556,\"#d8576b\"],[0.6666666666666666,\"#ed7953\"],[0.7777777777777778,\"#fb9f3a\"],[0.8888888888888888,\"#fdca26\"],[1.0,\"#f0f921\"]],\"diverging\":[[0,\"#8e0152\"],[0.1,\"#c51b7d\"],[0.2,\"#de77ae\"],[0.3,\"#f1b6da\"],[0.4,\"#fde0ef\"],[0.5,\"#f7f7f7\"],[0.6,\"#e6f5d0\"],[0.7,\"#b8e186\"],[0.8,\"#7fbc41\"],[0.9,\"#4d9221\"],[1,\"#276419\"]]},\"xaxis\":{\"gridcolor\":\"white\",\"linecolor\":\"white\",\"ticks\":\"\",\"title\":{\"standoff\":15},\"zerolinecolor\":\"white\",\"automargin\":true,\"zerolinewidth\":2},\"yaxis\":{\"gridcolor\":\"white\",\"linecolor\":\"white\",\"ticks\":\"\",\"title\":{\"standoff\":15},\"zerolinecolor\":\"white\",\"automargin\":true,\"zerolinewidth\":2},\"scene\":{\"xaxis\":{\"backgroundcolor\":\"#E5ECF6\",\"gridcolor\":\"white\",\"linecolor\":\"white\",\"showbackground\":true,\"ticks\":\"\",\"zerolinecolor\":\"white\",\"gridwidth\":2},\"yaxis\":{\"backgroundcolor\":\"#E5ECF6\",\"gridcolor\":\"white\",\"linecolor\":\"white\",\"showbackground\":true,\"ticks\":\"\",\"zerolinecolor\":\"white\",\"gridwidth\":2},\"zaxis\":{\"backgroundcolor\":\"#E5ECF6\",\"gridcolor\":\"white\",\"linecolor\":\"white\",\"showbackground\":true,\"ticks\":\"\",\"zerolinecolor\":\"white\",\"gridwidth\":2}},\"shapedefaults\":{\"line\":{\"color\":\"#2a3f5f\"}},\"annotationdefaults\":{\"arrowcolor\":\"#2a3f5f\",\"arrowhead\":0,\"arrowwidth\":1},\"geo\":{\"bgcolor\":\"white\",\"landcolor\":\"#E5ECF6\",\"subunitcolor\":\"white\",\"showland\":true,\"showlakes\":true,\"lakecolor\":\"white\"},\"title\":{\"x\":0.05},\"mapbox\":{\"style\":\"light\"}}},\"title\":{\"text\":\"UMAP визуализация Word2Vec эмбеддингов\"},\"xaxis\":{\"title\":{\"text\":\"UMAP 1\"}},\"yaxis\":{\"title\":{\"text\":\"UMAP 2\"}},\"height\":600,\"hovermode\":\"closest\"},                        {\"responsive\": true}                    ).then(function(){\n",
       "                            \n",
       "var gd = document.getElementById('b386d5bc-1045-45ed-954f-3512ea0d2457');\n",
       "var x = new MutationObserver(function (mutations, observer) {{\n",
       "        var display = window.getComputedStyle(gd).display;\n",
       "        if (!display || display === 'none') {{\n",
       "            console.log([gd, 'removed!']);\n",
       "            Plotly.purge(gd);\n",
       "            observer.disconnect();\n",
       "        }}\n",
       "}});\n",
       "\n",
       "// Listen for the removal of the full notebook cells\n",
       "var notebookContainer = gd.closest('#notebook-container');\n",
       "if (notebookContainer) {{\n",
       "    x.observe(notebookContainer, {childList: true});\n",
       "}}\n",
       "\n",
       "// Listen for the clearing of the current output cell\n",
       "var outputEl = gd.closest('.output');\n",
       "if (outputEl) {{\n",
       "    x.observe(outputEl, {childList: true});\n",
       "}}\n",
       "\n",
       "                        })                };                            </script>        </div>\n",
       "</body>\n",
       "</html>"
      ]
     },
     "metadata": {},
     "output_type": "display_data"
    },
    {
     "name": "stdout",
     "output_type": "stream",
     "text": [
      "UMAP визуализация сохранена\n"
     ]
    }
   ],
   "source": [
    "print(\"Создаём UMAP визуализацию...\")\n",
    "\n",
    "reducer = umap.UMAP(n_components=2, random_state=42, n_neighbors=15, min_dist=0.1)\n",
    "vectors_umap = reducer.fit_transform(vectors)\n",
    "\n",
    "# Интерактивная визуализация с Plotly\n",
    "fig = go.Figure()\n",
    "\n",
    "# Добавляем точки по категориям\n",
    "for category in themed_words.keys():\n",
    "    mask = np.array([cat == category for cat in word_categories])\n",
    "    category_vectors = vectors_umap[mask]\n",
    "    category_labels = [labels[i] for i, m in enumerate(mask) if m]\n",
    "\n",
    "    fig.add_trace(go.Scatter(\n",
    "        x=category_vectors[:, 0],\n",
    "        y=category_vectors[:, 1],\n",
    "        mode='markers+text',\n",
    "        name=category,\n",
    "        text=category_labels,\n",
    "        textposition=\"top center\",\n",
    "        marker=dict(size=10),\n",
    "        textfont=dict(size=9)\n",
    "    ))\n",
    "\n",
    "fig.update_layout(\n",
    "    title='UMAP визуализация Word2Vec эмбеддингов',\n",
    "    xaxis_title='UMAP 1',\n",
    "    yaxis_title='UMAP 2',\n",
    "    height=600,\n",
    "    hovermode='closest'\n",
    ")\n",
    "\n",
    "fig.write_html('visualizations/umap_word2vec.html')\n",
    "fig.show()\n",
    "\n",
    "print(\"UMAP визуализация сохранена\")"
   ]
  },
  {
   "cell_type": "markdown",
   "metadata": {
    "id": "TWZktTiFY92Y"
   },
   "source": [
    "## БЛОК 4: Сравнение качества эмбеддингов"
   ]
  },
  {
   "cell_type": "code",
   "execution_count": 62,
   "metadata": {
    "colab": {
     "base_uri": "https://localhost:8080/"
    },
    "executionInfo": {
     "elapsed": 21,
     "status": "ok",
     "timestamp": 1756335661841,
     "user": {
      "displayName": "Артем Галимьянов",
      "userId": "12403306618364451137"
     },
     "user_tz": -180
    },
    "id": "hvR71p-XY92Z",
    "outputId": "8fa160b6-4cf8-4824-8777-b071d16abd90"
   },
   "outputs": [
    {
     "name": "stdout",
     "output_type": "stream",
     "text": [
      "Результаты для Word2Vec Skip-gram:\n",
      "Точность аналогий: 0.500\n",
      "Когерентность тем: 0.350\n",
      "Обработка OOV: 0.000\n",
      "Результаты для Word2Vec CBOW:\n",
      "Точность аналогий: 0.500\n",
      "Когерентность тем: 0.102\n",
      "Обработка OOV: 0.000\n",
      "Результаты для FastText:\n",
      "Точность аналогий: 0.250\n",
      "Когерентность тем: 0.386\n",
      "Обработка OOV: 1.000\n",
      "Сравнительная таблица:\n",
      "             Model  Analogy Accuracy  Theme Coherence  OOV Handling\n",
      "Word2Vec Skip-gram              0.50         0.350060           0.0\n",
      "     Word2Vec CBOW              0.50         0.101911           0.0\n",
      "          FastText              0.25         0.385983           1.0\n"
     ]
    }
   ],
   "source": [
    "def evaluate_embeddings(model, model_name):\n",
    "    \"\"\"Оценивает качество эмбеддингов на стандартных задачах\"\"\"\n",
    "\n",
    "    results = {}\n",
    "\n",
    "    # 1. Проверка на известных аналогиях\n",
    "    analogies_test = [\n",
    "        ('москва', 'россия', 'париж', 'франция'),  # столица-страна\n",
    "        ('врач', 'пациент', 'учитель', 'ученик'),   # 'ученик' может отсутствовать в словаре\n",
    "    ]\n",
    "\n",
    "    analogy_scores = []\n",
    "    for a, b, c, expected in analogies_test:\n",
    "        if all(word in model.wv for word in [a, b, c, expected]):\n",
    "            # Вычисляем: a - b + c ≈ expected\n",
    "            result_vec = model.wv[c] - model.wv[a] + model.wv[b] # стандартный порядок c - a + b\n",
    "\n",
    "            # Находим ближайшее слово\n",
    "            most_similar = model.wv.similar_by_vector(result_vec, topn=10)\n",
    "\n",
    "            # Проверяем, есть ли expected в топ-10\n",
    "            rank = -1\n",
    "            for i, (word, _) in enumerate(most_similar):\n",
    "                if expected in word or word in expected:  # Частичное совпадение\n",
    "                    rank = i + 1\n",
    "                    break\n",
    "\n",
    "            if rank > 0:\n",
    "                analogy_scores.append(1.0 / rank)  # Чем выше ранг, тем лучше\n",
    "            else:\n",
    "                analogy_scores.append(0)\n",
    "\n",
    "    results['analogy_accuracy'] = np.mean(analogy_scores) if analogy_scores else 0\n",
    "\n",
    "    # 2. Кластеризация по темам\n",
    "    theme_coherence = []\n",
    "    for category, words in themed_words.items():\n",
    "        category_words = [w for w in words if w in model.wv]\n",
    "        if len(category_words) >= 2:\n",
    "            # Средняя попарная схожесть внутри категории\n",
    "            similarities = []\n",
    "            for i in range(len(category_words)):\n",
    "                for j in range(i+1, len(category_words)):\n",
    "                    sim = model.wv.similarity(category_words[i], category_words[j])\n",
    "                    similarities.append(sim)\n",
    "            if similarities:\n",
    "                theme_coherence.append(np.mean(similarities))\n",
    "\n",
    "    results['theme_coherence'] = np.mean(theme_coherence) if theme_coherence else 0\n",
    "\n",
    "    # 3. Обработка OOV (только для FastText)\n",
    "    if isinstance(model, FastText):\n",
    "        oov_words = ['несуществующееслово', 'абракадабра123', 'хзчтоэто']\n",
    "        oov_handled = sum(1 for word in oov_words if len(model.wv[word]) > 0)\n",
    "        results['oov_handling'] = oov_handled / len(oov_words)\n",
    "    else:\n",
    "        results['oov_handling'] = 0\n",
    "\n",
    "    print(f\"Результаты для {model_name}:\")\n",
    "    print(f\"Точность аналогий: {results['analogy_accuracy']:.3f}\")\n",
    "    print(f\"Когерентность тем: {results['theme_coherence']:.3f}\")\n",
    "    print(f\"Обработка OOV: {results['oov_handling']:.3f}\")\n",
    "\n",
    "    return results\n",
    "\n",
    "# Оцениваем все модели\n",
    "results_sg = evaluate_embeddings(w2v_sg, \"Word2Vec Skip-gram\")\n",
    "results_cbow = evaluate_embeddings(w2v_cbow, \"Word2Vec CBOW\")\n",
    "results_ft = evaluate_embeddings(fasttext_model, \"FastText\")\n",
    "\n",
    "# Сравнительная таблица\n",
    "comparison_df = pd.DataFrame({\n",
    "    'Model': ['Word2Vec Skip-gram', 'Word2Vec CBOW', 'FastText'],\n",
    "    'Analogy Accuracy': [results_sg['analogy_accuracy'],\n",
    "                         results_cbow['analogy_accuracy'],\n",
    "                         results_ft['analogy_accuracy']],\n",
    "    'Theme Coherence': [results_sg['theme_coherence'],\n",
    "                        results_cbow['theme_coherence'],\n",
    "                        results_ft['theme_coherence']],\n",
    "    'OOV Handling': [results_sg['oov_handling'],\n",
    "                     results_cbow['oov_handling'],\n",
    "                     results_ft['oov_handling']]\n",
    "})\n",
    "\n",
    "print(\"Сравнительная таблица:\")\n",
    "print(comparison_df.to_string(index=False))"
   ]
  },
  {
   "cell_type": "code",
   "execution_count": 63,
   "metadata": {
    "colab": {
     "base_uri": "https://localhost:8080/",
     "height": 299
    },
    "executionInfo": {
     "elapsed": 754,
     "status": "ok",
     "timestamp": 1756335666454,
     "user": {
      "displayName": "Артем Галимьянов",
      "userId": "12403306618364451137"
     },
     "user_tz": -180
    },
    "id": "iiB3M1X3Y92Z",
    "outputId": "07356822-210d-4001-83ce-d540d5e920be"
   },
   "outputs": [
    {
     "data": {
      "image/png": "[encoded data removed]",
      "text/plain": [
       "<Figure size 1500x500 with 3 Axes>"
      ]
     },
     "metadata": {},
     "output_type": "display_data"
    }
   ],
   "source": [
    "# Визуализация сравнения\n",
    "fig, axes = plt.subplots(1, 3, figsize=(15, 5))\n",
    "\n",
    "metrics = ['Analogy Accuracy', 'Theme Coherence', 'OOV Handling']\n",
    "titles = ['Точность аналогий', 'Когерентность', 'Работа с OOV']\n",
    "colors = ['#FF6B6B', '#4ECDC4', '#45B7D1']\n",
    "\n",
    "for idx, metric in enumerate(metrics):\n",
    "    axes[idx].bar(comparison_df['Model'], comparison_df[metric], color=colors)\n",
    "    axes[idx].set_title(titles[idx])\n",
    "    axes[idx].set_ylabel('Score')\n",
    "    axes[idx].set_ylim([0, 1.1])\n",
    "    axes[idx].tick_params(axis='x', rotation=45)\n",
    "\n",
    "    # Добавляем значения на столбцы\n",
    "    for i, v in enumerate(comparison_df[metric]):\n",
    "        axes[idx].text(i, v + 0.02, f'{v:.3f}', ha='center')\n",
    "\n",
    "plt.tight_layout()\n",
    "plt.savefig('visualizations/embeddings_comparison.png', dpi=150)\n",
    "plt.show()"
   ]
  },
  {
   "cell_type": "markdown",
   "metadata": {
    "id": "I9pS7pfdY92Z"
   },
   "source": [
    "## БЛОК 5: Современная токенизация (BPE, WordPiece, SentencePiece)"
   ]
  },
  {
   "cell_type": "code",
   "execution_count": 67,
   "metadata": {
    "colab": {
     "base_uri": "https://localhost:8080/"
    },
    "executionInfo": {
     "elapsed": 2031,
     "status": "ok",
     "timestamp": 1756335901373,
     "user": {
      "displayName": "Артем Галимьянов",
      "userId": "12403306618364451137"
     },
     "user_tz": -180
    },
    "id": "dQrM5F-GY92Z",
    "outputId": "a908832c-4367-4abe-eaee-4ea7bd48a34a"
   },
   "outputs": [
    {
     "name": "stdout",
     "output_type": "stream",
     "text": [
      "Загружаем токенизаторы...\n",
      "Токенизаторы загружены\n"
     ]
    }
   ],
   "source": [
    "# Загружаем разные токенизаторы\n",
    "print(\"Загружаем токенизаторы...\")\n",
    "\n",
    "# BERT tokenizer (WordPiece)\n",
    "bert_tokenizer = AutoTokenizer.from_pretrained('bert-base-multilingual-cased')\n",
    "\n",
    "# GPT-2 tokenizer (BPE)\n",
    "# gpt2_tokenizer = AutoTokenizer.from_pretrained('openai-community/gpt2')\n",
    "gpt2_tokenizer = AutoTokenizer.from_pretrained('sberbank-ai/rugpt3small_based_on_gpt2')\n",
    "\n",
    "# T5 tokenizer (SentencePiece)\n",
    "t5_tokenizer = AutoTokenizer.from_pretrained('cointegrated/rut5-small')\n",
    "\n",
    "print(\"Токенизаторы загружены\")\n",
    "\n",
    "# Тестовые предложения\n",
    "test_sentences = [\n",
    "    \"Искусственный интеллект революционизирует технологии\",\n",
    "    \"Непереосмысление предустановленных концепций\",\n",
    "    \"The quick brown fox jumps over the lazy dog\",\n",
    "    \"Москва - столица России\",\n",
    "    \"😊 Эмодзи и специальные символы $%#@!\",\n",
    "    \"2024 год принёс много изменений\",\n",
    "    \"машинное_обучение_и_нейронные_сети\"\n",
    "]"
   ]
  },
  {
   "cell_type": "code",
   "execution_count": 68,
   "metadata": {
    "colab": {
     "base_uri": "https://localhost:8080/"
    },
    "executionInfo": {
     "elapsed": 23,
     "status": "ok",
     "timestamp": 1756335906231,
     "user": {
      "displayName": "Артем Галимьянов",
      "userId": "12403306618364451137"
     },
     "user_tz": -180
    },
    "id": "2rSpisQsY92Z",
    "outputId": "67d89581-7876-4013-f784-04d54a84bc39"
   },
   "outputs": [
    {
     "name": "stdout",
     "output_type": "stream",
     "text": [
      "Сравнение токенизации:\n",
      "\n",
      "Текст: 'Искусственный интеллект революционизирует технологии'\n",
      "--------------------------------------------------\n",
      "Simple               (4 токенов):\n",
      "    ['Искусственный', 'интеллект', 'революционизирует', 'технологии']\n",
      "BERT (WordPiece)     (16 токенов):\n",
      "    ['И', '##ску', '##сс', '##тве', '##нный', 'ин', '##тел', '##лект', 'р', '##ево', '##лю', '##цио', '##ни', '##зи', '##рует']...\n",
      "GPT-2 (BPE)          (8 токенов):\n",
      "    ['ÐĺÑģÐº', 'ÑĥÑģ', 'ÑģÑĤÐ²ÐµÐ½Ð½ÑĭÐ¹', '_Ð¸Ð½ÑĤÐµÐ»Ð»ÐµÐºÑĤ', '_ÑĢÐµÐ²Ð¾Ð»Ñİ', 'ÑĨÐ¸Ð¾Ð½Ð¸', 'Ð·Ð¸ÑĢÑĥÐµÑĤ', '_ÑĤÐµÑħÐ½Ð¾Ð»Ð¾Ð³Ð¸Ð¸']\n",
      "T5 (SentencePiece)   (10 токенов):\n",
      "    ['▁Ис', 'кус', 'ственный', '▁интеллект', '▁', 'революцион', 'из', 'ирует', '▁', 'технологии']\n",
      "\n",
      "Текст: 'Непереосмысление предустановленных концепций'\n",
      "--------------------------------------------------\n",
      "Simple               (3 токенов):\n",
      "    ['Непереосмысление', 'предустановленных', 'концепций']\n",
      "BERT (WordPiece)     (15 токенов):\n",
      "    ['Не', '##пер', '##ео', '##с', '##мы', '##слен', '##ие', 'пред', '##ус', '##тан', '##ов', '##ленных', 'конце', '##п', '##ций']\n",
      "GPT-2 (BPE)          (10 токенов):\n",
      "    ['ÐĿÐµÐ¿', 'ÐµÑĢÐµ', 'Ð¾Ñģ', 'Ð¼ÑĭÑģÐ»', 'ÐµÐ½Ð¸Ðµ', '_Ð¿ÑĢÐµÐ´', 'ÑĥÑģÑĤÐ°Ð½Ð¾Ð²', 'Ð»ÐµÐ½Ð½ÑĭÑħ', '_ÐºÐ¾Ð½ÑĨÐµÐ¿', 'ÑĨÐ¸Ð¹']\n",
      "T5 (SentencePiece)   (10 токенов):\n",
      "    ['▁Не', 'пере', 'о', 'смысл', 'ение', '▁пред', 'установлен', 'ных', '▁концеп', 'ций']\n",
      "\n",
      "Текст: 'The quick brown fox jumps over the lazy dog'\n",
      "--------------------------------------------------\n",
      "Simple               (9 токенов):\n",
      "    ['The', 'quick', 'brown', 'fox', 'jumps', 'over', 'the', 'lazy', 'dog']\n",
      "BERT (WordPiece)     (12 токенов):\n",
      "    ['The', 'quick', 'brown', 'f', '##ox', 'jump', '##s', 'over', 'the', 'la', '##zy', 'dog']\n",
      "GPT-2 (BPE)          (16 токенов):\n",
      "    ['The', '_quick', '_bro', 'wn', '_f', 'ox', '_j', 'um', 'ps', '_over', '_the', '_l', 'az', 'y', '_d']...\n",
      "T5 (SentencePiece)   (19 токенов):\n",
      "    ['▁The', '▁qui', 'c', 'k', '▁b', 'row', 'n', '▁f', 'o', 'x', '▁ju', 'mp', 's', '▁over', '▁the']...\n",
      "\n",
      "Текст: 'Москва - столица России'\n",
      "--------------------------------------------------\n",
      "Simple               (4 токенов):\n",
      "    ['Москва', '-', 'столица', 'России']\n",
      "BERT (WordPiece)     (4 токенов):\n",
      "    ['Москва', '-', 'столица', 'России']\n",
      "GPT-2 (BPE)          (4 токенов):\n",
      "    ['ÐľÐ¾ÑģÐºÐ²Ð°', '_-', '_ÑģÑĤÐ¾Ð»Ð¸ÑĨÐ°', '_ÐłÐ¾ÑģÑģÐ¸Ð¸']\n",
      "T5 (SentencePiece)   (6 токенов):\n",
      "    ['▁Москва', '▁', '-', '▁стол', 'ица', '▁России']\n",
      "\n",
      "Текст: '😊 Эмодзи и специальные символы $%#@!'\n",
      "--------------------------------------------------\n",
      "Simple               (6 токенов):\n",
      "    ['😊', 'Эмодзи', 'и', 'специальные', 'символы', '$%#@!']\n",
      "BERT (WordPiece)     (16 токенов):\n",
      "    ['[UNK]', 'Э', '##мо', '##д', '##зи', 'и', 'с', '##пе', '##циальные', 'символ', '##ы', '$', '%', '#', '@']...\n",
      "GPT-2 (BPE)          (13 токенов):\n",
      "    ['ðŁĺ', 'Ĭ', '_ÐŃÐ¼', 'Ð¾Ð´', 'Ð·Ð¸', '_Ð¸', '_ÑģÐ¿ÐµÑĨÐ¸Ð°Ð»ÑĮÐ½ÑĭÐµ', '_ÑģÐ¸Ð¼Ð²Ð¾Ð»Ñĭ', '_$', '%', '#', '@', '!']\n",
      "T5 (SentencePiece)   (16 токенов):\n",
      "    ['▁', '😊', '▁Эм', 'од', 'зи', '▁', 'и', '▁специал', 'ьные', '▁символ', 'ы', '▁$', '%', '#', '@']...\n",
      "\n",
      "Текст: '2024 год принёс много изменений'\n",
      "--------------------------------------------------\n",
      "Simple               (5 токенов):\n",
      "    ['2024', 'год', 'принёс', 'много', 'изменений']\n",
      "BERT (WordPiece)     (7 токенов):\n",
      "    ['202', '##4', 'год', 'при', '##нёс', 'много', 'изменений']\n",
      "GPT-2 (BPE)          (6 токенов):\n",
      "    ['20', '24', '_Ð³Ð¾Ð´', '_Ð¿ÑĢÐ¸Ð½ÑĳÑģ', '_Ð¼Ð½Ð¾Ð³Ð¾', '_Ð¸Ð·Ð¼ÐµÐ½ÐµÐ½Ð¸Ð¹']\n",
      "T5 (SentencePiece)   (8 токенов):\n",
      "    ['▁', '2024', '▁год', '▁прин', 'ёс', '▁много', '▁измен', 'ений']\n",
      "\n",
      "Текст: 'машинное_обучение_и_нейронные_сети'\n",
      "--------------------------------------------------\n",
      "Simple               (1 токенов):\n",
      "    ['машинное_обучение_и_нейронные_сети']\n",
      "BERT (WordPiece)     (12 токенов):\n",
      "    ['машин', '##ное', '_', 'обучение', '_', 'и', '_', 'ней', '##рон', '##ные', '_', 'сети']\n",
      "GPT-2 (BPE)          (14 токенов):\n",
      "    ['Ð¼Ð°', 'ÑĪÐ¸Ð½', 'Ð½Ð¾Ðµ', '_', 'Ð¾Ð±', 'ÑĥÑĩÐµÐ½Ð¸Ðµ', '_', 'Ð¸', '_', 'Ð½ÐµÐ¹', 'ÑĢÐ¾Ð½', 'Ð½ÑĭÐµ', '_', 'ÑģÐµÑĤÐ¸']\n",
      "T5 (SentencePiece)   (13 токенов):\n",
      "    ['▁машин', 'ное', '_', 'обучени', 'е', '_', 'и', '_', 'ней', 'рон', 'ные', '_', 'сети']\n",
      "\n"
     ]
    }
   ],
   "source": [
    "def compare_tokenizers(text):\n",
    "    \"\"\"Сравнивает результаты разных токенизаторов\"\"\"\n",
    "\n",
    "    # Токенизация\n",
    "    bert_tokens = bert_tokenizer.tokenize(text)\n",
    "    gpt2_tokens = gpt2_tokenizer.tokenize(text)\n",
    "    t5_tokens = t5_tokenizer.tokenize(text)\n",
    "\n",
    "    # Простая токенизация по пробелам\n",
    "    simple_tokens = text.split()\n",
    "\n",
    "    return {\n",
    "        'Simple': simple_tokens,\n",
    "        'BERT (WordPiece)': bert_tokens,\n",
    "        'GPT-2 (BPE)': gpt2_tokens,\n",
    "        'T5 (SentencePiece)': t5_tokens\n",
    "    }\n",
    "\n",
    "print(\"Сравнение токенизации:\\n\")\n",
    "\n",
    "for sentence in test_sentences:\n",
    "    print(f\"Текст: '{sentence}'\")\n",
    "    print(\"-\" * 50)\n",
    "\n",
    "    results = compare_tokenizers(sentence)\n",
    "\n",
    "    for method, tokens in results.items():\n",
    "        print(f\"{method:20} ({len(tokens)} токенов):\")\n",
    "        # Отображаем токены, заменяя спецсимволы для наглядности в GPT-2/T5\n",
    "        display_tokens = [t.replace('Ġ', '_').replace(' ', ' ') for t in tokens]\n",
    "        print(f\"    {display_tokens[:15]}{'...' if len(tokens) > 15 else ''}\")\n",
    "\n",
    "    print()"
   ]
  },
  {
   "cell_type": "code",
   "execution_count": 69,
   "metadata": {
    "colab": {
     "base_uri": "https://localhost:8080/",
     "height": 616
    },
    "executionInfo": {
     "elapsed": 492,
     "status": "ok",
     "timestamp": 1756335912470,
     "user": {
      "displayName": "Артем Галимьянов",
      "userId": "12403306618364451137"
     },
     "user_tz": -180
    },
    "id": "gank9XpPY92Z",
    "outputId": "69b70c90-7778-4e99-8fa2-71dfccdb61f2"
   },
   "outputs": [
    {
     "name": "stdout",
     "output_type": "stream",
     "text": [
      "Средняя длина токенизации:\n",
      "Simple:             4.6 токенов\n",
      "BERT (WordPiece):   11.7 токенов\n",
      "GPT-2 (BPE):        10.1 токенов\n",
      "T5 (SentencePiece): 11.7 токенов\n"
     ]
    },
    {
     "data": {
      "image/png": "[encoded data removed]",
      "text/plain": [
       "<Figure size 1000x600 with 1 Axes>"
      ]
     },
     "metadata": {},
     "output_type": "display_data"
    }
   ],
   "source": [
    "# Статистика токенизации\n",
    "tokenization_stats = []\n",
    "\n",
    "for sentence in test_sentences:\n",
    "    results = compare_tokenizers(sentence)\n",
    "    stats = {\n",
    "        'text_length': len(sentence),\n",
    "        'word_count': len(sentence.split()),\n",
    "        'simple_tokens': len(results['Simple']),\n",
    "        'bert_tokens': len(results['BERT (WordPiece)']),\n",
    "        'gpt2_tokens': len(results['GPT-2 (BPE)']),\n",
    "        't5_tokens': len(results['T5 (SentencePiece)'])\n",
    "    }\n",
    "    tokenization_stats.append(stats)\n",
    "\n",
    "stats_df = pd.DataFrame(tokenization_stats)\n",
    "\n",
    "# Средние значения\n",
    "print(\"Средняя длина токенизации:\")\n",
    "print(f\"Simple:             {stats_df['simple_tokens'].mean():.1f} токенов\")\n",
    "print(f\"BERT (WordPiece):   {stats_df['bert_tokens'].mean():.1f} токенов\")\n",
    "print(f\"GPT-2 (BPE):        {stats_df['gpt2_tokens'].mean():.1f} токенов\")\n",
    "print(f\"T5 (SentencePiece): {stats_df['t5_tokens'].mean():.1f} токенов\")\n",
    "\n",
    "# Визуализация сравнения\n",
    "fig, ax = plt.subplots(figsize=(10, 6))\n",
    "\n",
    "x = np.arange(len(test_sentences))\n",
    "width = 0.2\n",
    "\n",
    "methods = ['simple_tokens', 'bert_tokens', 'gpt2_tokens', 't5_tokens']\n",
    "colors = ['#FF6B6B', '#4ECDC4', '#45B7D1', '#96CEB4']\n",
    "labels = ['Simple', 'BERT', 'GPT-2', 'T5']\n",
    "\n",
    "for i, (method, color, label) in enumerate(zip(methods, colors, labels)):\n",
    "    offset = (i - 1.5) * width\n",
    "    ax.bar(x + offset, stats_df[method], width, label=label, color=color)\n",
    "\n",
    "ax.set_xlabel('Предложение')\n",
    "ax.set_ylabel('Количество токенов')\n",
    "ax.set_title('Сравнение методов токенизации')\n",
    "ax.set_xticks(x)\n",
    "ax.set_xticklabels([f'Текст {i+1}' for i in range(len(test_sentences))], rotation=45, ha=\"right\")\n",
    "ax.legend()\n",
    "ax.grid(True, alpha=0.3)\n",
    "\n",
    "plt.tight_layout()\n",
    "plt.show()"
   ]
  },
  {
   "cell_type": "markdown",
   "metadata": {
    "id": "wfy0liodY92a"
   },
   "source": [
    "## БЛОК 6: Семантический поиск"
   ]
  },
  {
   "cell_type": "code",
   "execution_count": 52,
   "metadata": {
    "colab": {
     "base_uri": "https://localhost:8080/",
     "height": 642,
     "referenced_widgets": [
      "2631edb8e9154ca790a7c1a4606ab5b8",
      "a49f42d530324906a1c8ddb938aac8c9",
      "d4f45df50b1441748fc95b18cfdae336",
      "59a2c93aa0fa4a37a6345992bdf30041",
      "9acb138cf2d94d748d9b4ad8653d8633",
      "12db518cbaca4d2dbc7981d72aa18726",
      "daf27ad1f7214b87a6547e6f82a830c1",
      "4d2e44a2e0f14666800f689c361ab475",
      "d82bcbc4cfd4458c9617a79703431634",
      "e591219baf4447eb9b1b06f049b734dc",
      "5ee0f080379a42a080babd76e7a4e448"
     ]
    },
    "executionInfo": {
     "elapsed": 76,
     "status": "ok",
     "timestamp": 1756333651265,
     "user": {
      "displayName": "Артем Галимьянов",
      "userId": "12403306618364451137"
     },
     "user_tz": -180
    },
    "id": "f2n_W_1IY92a",
    "outputId": "660091e2-0970-4bcf-8b71-774279770d62"
   },
   "outputs": [
    {
     "data": {
      "application/vnd.jupyter.widget-view+json": {
       "model_id": "2631edb8e9154ca790a7c1a4606ab5b8",
       "version_major": 2,
       "version_minor": 0
      },
      "text/plain": [
       "Индексация:   0%|          | 0/50 [00:00<?, ?it/s]"
      ]
     },
     "metadata": {},
     "output_type": "display_data"
    },
    {
     "name": "stdout",
     "output_type": "stream",
     "text": [
      "Проиндексировано 50 документов\n",
      "Тестируем семантический поиск:\n",
      "\n",
      "Запрос: 'столица европейской страны'\n",
      "--------------------------------------------------\n",
      "1. [Score: 0.783] Париж столица Франции известен Эйфелевой башней...\n",
      "2. [Score: 0.766] Париж, столица Франции, славится своей культурой и Эйфелевой башней....\n",
      "3. [Score: 0.686] Рим, столица Италии, известен как 'Вечный город' благодаря своей богатой истории....\n",
      "\n",
      "Запрос: 'Искусственный интеллект'\n",
      "--------------------------------------------------\n",
      "1. [Score: 0.890] Искусственный интеллект трансформирует современный бизнес и науку....\n",
      "2. [Score: 0.699] Эта модель искусственного интеллекта способна к самообучению....\n",
      "3. [Score: 0.489] Статистический анализ является основой науки о данных....\n",
      "\n",
      "Запрос: 'итальянская кухня'\n",
      "--------------------------------------------------\n",
      "1. [Score: 0.637] Нейросеть была обучена на огромном наборе текстовых данных....\n",
      "2. [Score: 0.533] Эта модель искусственного интеллекта способна к самообучению....\n",
      "3. [Score: 0.516] Столицей Великобритании является город Лондон, расположенный на реке Темзе....\n",
      "\n",
      "Запрос: 'работа с данными'\n",
      "--------------------------------------------------\n",
      "1. [Score: 0.789] Серверная инфраструктура поддерживает работу всех сервисов компании....\n",
      "2. [Score: 0.699] Нейронная сеть успешно распознает образы с высокой точностью....\n",
      "3. [Score: 0.667] Столица Франции Париж с населением 2 миллиона человек...\n",
      "\n",
      "Запрос: 'морское млекопитающее'\n",
      "--------------------------------------------------\n",
      "1. [Score: 0.482] Интернет вещей соединяет миллиарды устройств в единую сеть.Москва — столица и самый густонаселенный ...\n",
      "2. [Score: 0.470] Нейронная сеть успешно распознает образы с высокой точностью....\n",
      "3. [Score: 0.468] Столица Франции Париж с населением 2 миллиона человек...\n",
      "\n"
     ]
    }
   ],
   "source": [
    "class SemanticSearch:\n",
    "    \"\"\"Простой семантический поиск на основе эмбеддингов\"\"\"\n",
    "\n",
    "    def __init__(self, model):\n",
    "        self.model = model\n",
    "        self.documents = []\n",
    "        self.doc_vectors = []\n",
    "\n",
    "    def index_documents(self, documents):\n",
    "        \"\"\"Индексирует документы\"\"\"\n",
    "        self.documents = documents\n",
    "        self.doc_vectors = []\n",
    "\n",
    "        for doc in tqdm(documents, desc=\"Индексация\"):\n",
    "            # Усредняем векторы слов документа\n",
    "            words = doc.lower().split()\n",
    "            word_vecs = []\n",
    "            for word in words:\n",
    "                if word in self.model.wv:\n",
    "                    word_vecs.append(self.model.wv[word])\n",
    "\n",
    "            if word_vecs:\n",
    "                doc_vec = np.mean(word_vecs, axis=0)\n",
    "            else:\n",
    "                doc_vec = np.zeros(self.model.wv.vector_size)\n",
    "\n",
    "            self.doc_vectors.append(doc_vec)\n",
    "\n",
    "        self.doc_vectors = np.array(self.doc_vectors)\n",
    "        print(f\"Проиндексировано {len(documents)} документов\")\n",
    "\n",
    "    def search(self, query, top_k=5):\n",
    "        \"\"\"Поиск похожих документов\"\"\"\n",
    "        # Векторизуем запрос\n",
    "        words = query.lower().split()\n",
    "        word_vecs = []\n",
    "        for word in words:\n",
    "            if word in self.model.wv:\n",
    "                word_vecs.append(self.model.wv[word])\n",
    "\n",
    "        if not word_vecs:\n",
    "            print(\"Ни одно слово запроса не найдено в словаре\")\n",
    "            return []\n",
    "\n",
    "        query_vec = np.mean(word_vecs, axis=0)\n",
    "\n",
    "        # Вычисляем косинусное сходство\n",
    "        similarities = cosine_similarity([query_vec], self.doc_vectors)[0]\n",
    "\n",
    "        # Находим топ-k\n",
    "        top_indices = np.argsort(similarities)[-top_k:][::-1]\n",
    "\n",
    "        results = []\n",
    "        for idx in top_indices:\n",
    "            results.append({\n",
    "                'document': self.documents[idx],\n",
    "                'score': similarities[idx]\n",
    "            })\n",
    "\n",
    "        return results\n",
    "\n",
    "# Создаём поисковую систему\n",
    "search_engine = SemanticSearch(w2v_sg)\n",
    "\n",
    "# Индексируем наш корпус\n",
    "search_engine.index_documents(corpus_texts[:50])  # Берём первые 50 уникальных текстов\n",
    "\n",
    "# Тестовые запросы\n",
    "test_queries = [\n",
    "    \"столица европейской страны\",\n",
    "    \"Искусственный интеллект\",\n",
    "    \"итальянская кухня\",\n",
    "    \"работа с данными\",\n",
    "    \"морское млекопитающее\"\n",
    "]\n",
    "\n",
    "print(\"Тестируем семантический поиск:\\n\")\n",
    "\n",
    "for query in test_queries:\n",
    "    print(f\"Запрос: '{query}'\")\n",
    "    print(\"-\" * 50)\n",
    "\n",
    "    results = search_engine.search(query, top_k=3)\n",
    "\n",
    "    for i, result in enumerate(results, 1):\n",
    "        print(f\"{i}. [Score: {result['score']:.3f}] {result['document'][:100]}...\")\n",
    "\n",
    "    print()"
   ]
  },
  {
   "cell_type": "markdown",
   "metadata": {
    "id": "FGOk-vAXY92a"
   },
   "source": [
    "## БЛОК 7: Word Calculator - интерактивный калькулятор слов"
   ]
  },
  {
   "cell_type": "code",
   "execution_count": 55,
   "metadata": {
    "colab": {
     "base_uri": "https://localhost:8080/",
     "height": 0
    },
    "executionInfo": {
     "elapsed": 22,
     "status": "ok",
     "timestamp": 1756333780844,
     "user": {
      "displayName": "Артем Галимьянов",
      "userId": "12403306618364451137"
     },
     "user_tz": -180
    },
    "id": "1rcPi3cyY92a",
    "outputId": "feed7351-6a9a-4748-bb70-8eccdb4d1765"
   },
   "outputs": [
    {
     "name": "stdout",
     "output_type": "stream",
     "text": [
      "Примеры вычислений:\n",
      "\n",
      "москва - россия + франция\n",
      "    = париж (score: 0.612)\n",
      "\n",
      "программист - код + пациент\n",
      "    = терапевт (score: 0.624)\n",
      "\n",
      "кошка + собака\n",
      "    = дрессированный (score: 0.781)\n",
      "\n",
      "париж + берлин - франция\n",
      "    = германия (score: 0.573)\n",
      "\n"
     ]
    }
   ],
   "source": [
    "class WordCalculator:\n",
    "    \"\"\"Интерактивный калькулятор для векторной арифметики слов\"\"\"\n",
    "\n",
    "    def __init__(self, model):\n",
    "        self.model = model\n",
    "\n",
    "    def calculate(self, expression):\n",
    "        \"\"\"\n",
    "        Вычисляет выражение вида: король - мужчина + женщина\n",
    "        \"\"\"\n",
    "        # Парсим выражение\n",
    "        tokens = expression.replace('+', ' + ').replace('-', ' - ').split()\n",
    "\n",
    "        positive_terms = []\n",
    "        negative_terms = []\n",
    "        operation = '+'\n",
    "\n",
    "        # Первый токен всегда положительный\n",
    "        if tokens[0] not in ['+', '-']:\n",
    "             positive_terms.append(tokens[0])\n",
    "        else:\n",
    "            print(\"Выражение не может начинаться с оператора\")\n",
    "            return None\n",
    "\n",
    "        # Обрабатываем остальные\n",
    "        for token in tokens[1:]:\n",
    "            if token in ['+', '-']:\n",
    "                operation = token\n",
    "            else:\n",
    "                if token not in self.model.wv:\n",
    "                    print(f\"Слово '{token}' не найдено в словаре\")\n",
    "                    return None\n",
    "                if operation == '+':\n",
    "                    positive_terms.append(token)\n",
    "                else:\n",
    "                    negative_terms.append(token)\n",
    "\n",
    "        if not positive_terms:\n",
    "            print(\"В выражении нет положительных членов\")\n",
    "            return None\n",
    "\n",
    "        # Находим ближайшие слова к результату\n",
    "        similar = self.model.wv.most_similar(positive=positive_terms, negative=negative_terms, topn=5)\n",
    "\n",
    "        return similar\n",
    "\n",
    "\n",
    "# Создаём калькулятор\n",
    "calculator = WordCalculator(w2v_sg)\n",
    "\n",
    "# Примеры вычислений\n",
    "print(\"Примеры вычислений:\\n\")\n",
    "\n",
    "examples = [\n",
    "    \"москва - россия + франция\",\n",
    "    \"программист - код + пациент\",\n",
    "    \"кошка + собака\",\n",
    "    \"париж + берлин - франция\"\n",
    "]\n",
    "\n",
    "for expr in examples:\n",
    "    print(f\"{expr}\")\n",
    "    result = calculator.calculate(expr)\n",
    "    if result:\n",
    "        print(f\"    = {result[0][0]} (score: {result[0][1]:.3f})\")\n",
    "    print()"
   ]
  },
  {
   "cell_type": "markdown",
   "metadata": {
    "id": "tzJzzRAMY92a"
   },
   "source": [
    "## Мини-задания для самостоятельной работы"
   ]
  },
  {
   "cell_type": "markdown",
   "metadata": {
    "id": "Pl96xFENY92a"
   },
   "source": [
    "**ЗАДАНИЯ:**\n",
    "\n",
    "1.  **ИССЛЕДОВАНИЕ ПАРАМЕТРОВ:**\n",
    "    * Измените `window` size (3, 5, 10) и посмотрите на изменение семантических связей. При выборе малых окон (3) попробуйте изменить примеры в датасете, где Москва и Россия, Париж и Франция находятся очень близко друг к другу\n",
    "    * Попробуйте разные `vector_size` (50, 100, 300).\n",
    "    * Сравните `negative` sampling с `hs=1` (hierarchical softmax).\n",
    "\n",
    "\n",
    "2.  **ТОКЕНИЗАЦИЯ:**\n",
    "    * Сравните скорость токенизации разных методов на большом тексте.\n",
    "\n"
   ]
  },
  {
   "cell_type": "markdown",
   "metadata": {
    "id": "rDye80WQp0Mm"
   },
   "source": [
    "# Итоги"
   ]
  },
  {
   "cell_type": "markdown",
   "metadata": {
    "id": "-g1OIH-DY92b"
   },
   "source": [
    "### ЧТО МЫ ИЗУЧИЛИ:\n",
    "\n",
    "1.  **ОБУЧЕНИЕ ЭМБЕДДИНГОВ:**\n",
    "    * ✓ Word2Vec (Skip-gram vs CBOW)\n",
    "    * ✓ FastText с subword information\n",
    "    * ✓ Взглянули на влияние лемматизации\n",
    "\n",
    "2.  **СЕМАНТИЧЕСКИЕ ОТНОШЕНИЯ:**\n",
    "    * ✓ Векторная арифметика\n",
    "    * ✓ Поиск аналогий\n",
    "    * ✓ Тематическая кластеризация\n",
    "\n",
    "3.  **ВИЗУАЛИЗАЦИЯ:**\n",
    "    * ✓ t-SNE для 2D проекции\n",
    "    * ✓ UMAP как альтернатива\n",
    "    * ✓ Интерпретация кластеров\n",
    "\n",
    "4.  **СОВРЕМЕННАЯ ТОКЕНИЗАЦИЯ:**\n",
    "    * ✓ BPE (Byte Pair Encoding)\n",
    "    * ✓ WordPiece (BERT)\n",
    "    * ✓ SentencePiece (T5)\n",
    "\n",
    "5.  **ПРАКТИЧЕСКИЕ ПРИЛОЖЕНИЯ:**\n",
    "    * ✓ Семантический поиск\n",
    "    * ✓ Word Calculator\n",
    "    * ✓ Оценка качества эмбеддингов\n",
    "\n",
    "### КЛЮЧЕВЫЕ ВЫВОДЫ:\n",
    "* **Skip-gram** лучше для редких слов и маленьких корпусов.\n",
    "* **FastText** решает проблему OOV (out-of-vocabulary) через character n-grams.\n",
    "* **Визуализация** помогает понять семантическую структуру векторного пространства.\n",
    "* **Современная токенизация** балансирует между размером словаря и качеством представления текста.\n",
    "* **Эмбеддинги** - основа для множества NLP задач.\n",
    "\n"
   ]
  },
  {
   "cell_type": "code",
   "execution_count": null,
   "metadata": {
    "id": "N_1kpixuyspb"
   },
   "outputs": [],
   "source": []
  }
 ],
 "metadata": {
  "accelerator": "GPU",
  "colab": {
   "gpuType": "T4",
   "provenance": []
  },
  "kernelspec": {
   "display_name": "nlp_env",
   "language": "python",
   "name": "python3"
  },
  "language_info": {
   "codemirror_mode": {
    "name": "ipython",
    "version": 3
   },
   "file_extension": ".py",
   "mimetype": "text/x-python",
   "name": "python",
   "nbconvert_exporter": "python",
   "pygments_lexer": "ipython3",
   "version": "3.11.13"
  },
  "widgets": {
   "application/vnd.jupyter.widget-state+json": {
    "12db518cbaca4d2dbc7981d72aa18726": {
     "model_module": "@jupyter-widgets/base",
     "model_module_version": "1.2.0",
     "model_name": "LayoutModel",
     "state": {
      "_model_module": "@jupyter-widgets/base",
      "_model_module_version": "1.2.0",
      "_model_name": "LayoutModel",
      "_view_count": null,
      "_view_module": "@jupyter-widgets/base",
      "_view_module_version": "1.2.0",
      "_view_name": "LayoutView",
      "align_content": null,
      "align_items": null,
      "align_self": null,
      "border": null,
      "bottom": null,
      "display": null,
      "flex": null,
      "flex_flow": null,
      "grid_area": null,
      "grid_auto_columns": null,
      "grid_auto_flow": null,
      "grid_auto_rows": null,
      "grid_column": null,
      "grid_gap": null,
      "grid_row": null,
      "grid_template_areas": null,
      "grid_template_columns": null,
      "grid_template_rows": null,
      "height": null,
      "justify_content": null,
      "justify_items": null,
      "left": null,
      "margin": null,
      "max_height": null,
      "max_width": null,
      "min_height": null,
      "min_width": null,
      "object_fit": null,
      "object_position": null,
      "order": null,
      "overflow": null,
      "overflow_x": null,
      "overflow_y": null,
      "padding": null,
      "right": null,
      "top": null,
      "visibility": null,
      "width": null
     }
    },
    "2631edb8e9154ca790a7c1a4606ab5b8": {
     "model_module": "@jupyter-widgets/controls",
     "model_module_version": "1.5.0",
     "model_name": "HBoxModel",
     "state": {
      "_dom_classes": [],
      "_model_module": "@jupyter-widgets/controls",
      "_model_module_version": "1.5.0",
      "_model_name": "HBoxModel",
      "_view_count": null,
      "_view_module": "@jupyter-widgets/controls",
      "_view_module_version": "1.5.0",
      "_view_name": "HBoxView",
      "box_style": "",
      "children": [
       "IPY_MODEL_a49f42d530324906a1c8ddb938aac8c9",
       "IPY_MODEL_d4f45df50b1441748fc95b18cfdae336",
       "IPY_MODEL_59a2c93aa0fa4a37a6345992bdf30041"
      ],
      "layout": "IPY_MODEL_9acb138cf2d94d748d9b4ad8653d8633"
     }
    },
    "4d2e44a2e0f14666800f689c361ab475": {
     "model_module": "@jupyter-widgets/base",
     "model_module_version": "1.2.0",
     "model_name": "LayoutModel",
     "state": {
      "_model_module": "@jupyter-widgets/base",
      "_model_module_version": "1.2.0",
      "_model_name": "LayoutModel",
      "_view_count": null,
      "_view_module": "@jupyter-widgets/base",
      "_view_module_version": "1.2.0",
      "_view_name": "LayoutView",
      "align_content": null,
      "align_items": null,
      "align_self": null,
      "border": null,
      "bottom": null,
      "display": null,
      "flex": null,
      "flex_flow": null,
      "grid_area": null,
      "grid_auto_columns": null,
      "grid_auto_flow": null,
      "grid_auto_rows": null,
      "grid_column": null,
      "grid_gap": null,
      "grid_row": null,
      "grid_template_areas": null,
      "grid_template_columns": null,
      "grid_template_rows": null,
      "height": null,
      "justify_content": null,
      "justify_items": null,
      "left": null,
      "margin": null,
      "max_height": null,
      "max_width": null,
      "min_height": null,
      "min_width": null,
      "object_fit": null,
      "object_position": null,
      "order": null,
      "overflow": null,
      "overflow_x": null,
      "overflow_y": null,
      "padding": null,
      "right": null,
      "top": null,
      "visibility": null,
      "width": null
     }
    },
    "59a2c93aa0fa4a37a6345992bdf30041": {
     "model_module": "@jupyter-widgets/controls",
     "model_module_version": "1.5.0",
     "model_name": "HTMLModel",
     "state": {
      "_dom_classes": [],
      "_model_module": "@jupyter-widgets/controls",
      "_model_module_version": "1.5.0",
      "_model_name": "HTMLModel",
      "_view_count": null,
      "_view_module": "@jupyter-widgets/controls",
      "_view_module_version": "1.5.0",
      "_view_name": "HTMLView",
      "description": "",
      "description_tooltip": null,
      "layout": "IPY_MODEL_e591219baf4447eb9b1b06f049b734dc",
      "placeholder": "​",
      "style": "IPY_MODEL_5ee0f080379a42a080babd76e7a4e448",
      "value": " 50/50 [00:00&lt;00:00, 1217.09it/s]"
     }
    },
    "5ee0f080379a42a080babd76e7a4e448": {
     "model_module": "@jupyter-widgets/controls",
     "model_module_version": "1.5.0",
     "model_name": "DescriptionStyleModel",
     "state": {
      "_model_module": "@jupyter-widgets/controls",
      "_model_module_version": "1.5.0",
      "_model_name": "DescriptionStyleModel",
      "_view_count": null,
      "_view_module": "@jupyter-widgets/base",
      "_view_module_version": "1.2.0",
      "_view_name": "StyleView",
      "description_width": ""
     }
    },
    "9acb138cf2d94d748d9b4ad8653d8633": {
     "model_module": "@jupyter-widgets/base",
     "model_module_version": "1.2.0",
     "model_name": "LayoutModel",
     "state": {
      "_model_module": "@jupyter-widgets/base",
      "_model_module_version": "1.2.0",
      "_model_name": "LayoutModel",
      "_view_count": null,
      "_view_module": "@jupyter-widgets/base",
      "_view_module_version": "1.2.0",
      "_view_name": "LayoutView",
      "align_content": null,
      "align_items": null,
      "align_self": null,
      "border": null,
      "bottom": null,
      "display": null,
      "flex": null,
      "flex_flow": null,
      "grid_area": null,
      "grid_auto_columns": null,
      "grid_auto_flow": null,
      "grid_auto_rows": null,
      "grid_column": null,
      "grid_gap": null,
      "grid_row": null,
      "grid_template_areas": null,
      "grid_template_columns": null,
      "grid_template_rows": null,
      "height": null,
      "justify_content": null,
      "justify_items": null,
      "left": null,
      "margin": null,
      "max_height": null,
      "max_width": null,
      "min_height": null,
      "min_width": null,
      "object_fit": null,
      "object_position": null,
      "order": null,
      "overflow": null,
      "overflow_x": null,
      "overflow_y": null,
      "padding": null,
      "right": null,
      "top": null,
      "visibility": null,
      "width": null
     }
    },
    "a49f42d530324906a1c8ddb938aac8c9": {
     "model_module": "@jupyter-widgets/controls",
     "model_module_version": "1.5.0",
     "model_name": "HTMLModel",
     "state": {
      "_dom_classes": [],
      "_model_module": "@jupyter-widgets/controls",
      "_model_module_version": "1.5.0",
      "_model_name": "HTMLModel",
      "_view_count": null,
      "_view_module": "@jupyter-widgets/controls",
      "_view_module_version": "1.5.0",
      "_view_name": "HTMLView",
      "description": "",
      "description_tooltip": null,
      "layout": "IPY_MODEL_12db518cbaca4d2dbc7981d72aa18726",
      "placeholder": "​",
      "style": "IPY_MODEL_daf27ad1f7214b87a6547e6f82a830c1",
      "value": "Индексация: 100%"
     }
    },
    "d4f45df50b1441748fc95b18cfdae336": {
     "model_module": "@jupyter-widgets/controls",
     "model_module_version": "1.5.0",
     "model_name": "FloatProgressModel",
     "state": {
      "_dom_classes": [],
      "_model_module": "@jupyter-widgets/controls",
      "_model_module_version": "1.5.0",
      "_model_name": "FloatProgressModel",
      "_view_count": null,
      "_view_module": "@jupyter-widgets/controls",
      "_view_module_version": "1.5.0",
      "_view_name": "ProgressView",
      "bar_style": "success",
      "description": "",
      "description_tooltip": null,
      "layout": "IPY_MODEL_4d2e44a2e0f14666800f689c361ab475",
      "max": 50,
      "min": 0,
      "orientation": "horizontal",
      "style": "IPY_MODEL_d82bcbc4cfd4458c9617a79703431634",
      "value": 50
     }
    },
    "d82bcbc4cfd4458c9617a79703431634": {
     "model_module": "@jupyter-widgets/controls",
     "model_module_version": "1.5.0",
     "model_name": "ProgressStyleModel",
     "state": {
      "_model_module": "@jupyter-widgets/controls",
      "_model_module_version": "1.5.0",
      "_model_name": "ProgressStyleModel",
      "_view_count": null,
      "_view_module": "@jupyter-widgets/base",
      "_view_module_version": "1.2.0",
      "_view_name": "StyleView",
      "bar_color": null,
      "description_width": ""
     }
    },
    "daf27ad1f7214b87a6547e6f82a830c1": {
     "model_module": "@jupyter-widgets/controls",
     "model_module_version": "1.5.0",
     "model_name": "DescriptionStyleModel",
     "state": {
      "_model_module": "@jupyter-widgets/controls",
      "_model_module_version": "1.5.0",
      "_model_name": "DescriptionStyleModel",
      "_view_count": null,
      "_view_module": "@jupyter-widgets/base",
      "_view_module_version": "1.2.0",
      "_view_name": "StyleView",
      "description_width": ""
     }
    },
    "e591219baf4447eb9b1b06f049b734dc": {
     "model_module": "@jupyter-widgets/base",
     "model_module_version": "1.2.0",
     "model_name": "LayoutModel",
     "state": {
      "_model_module": "@jupyter-widgets/base",
      "_model_module_version": "1.2.0",
      "_model_name": "LayoutModel",
      "_view_count": null,
      "_view_module": "@jupyter-widgets/base",
      "_view_module_version": "1.2.0",
      "_view_name": "LayoutView",
      "align_content": null,
      "align_items": null,
      "align_self": null,
      "border": null,
      "bottom": null,
      "display": null,
      "flex": null,
      "flex_flow": null,
      "grid_area": null,
      "grid_auto_columns": null,
      "grid_auto_flow": null,
      "grid_auto_rows": null,
      "grid_column": null,
      "grid_gap": null,
      "grid_row": null,
      "grid_template_areas": null,
      "grid_template_columns": null,
      "grid_template_rows": null,
      "height": null,
      "justify_content": null,
      "justify_items": null,
      "left": null,
      "margin": null,
      "max_height": null,
      "max_width": null,
      "min_height": null,
      "min_width": null,
      "object_fit": null,
      "object_position": null,
      "order": null,
      "overflow": null,
      "overflow_x": null,
      "overflow_y": null,
      "padding": null,
      "right": null,
      "top": null,
      "visibility": null,
      "width": null
     }
    }
   }
  }
 },
 "nbformat": 4,
 "nbformat_minor": 0
}
