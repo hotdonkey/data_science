{
  "cells": [
    {
      "cell_type": "markdown",
      "id": "0d1aef3d",
      "metadata": {
        "id": "0d1aef3d"
      },
      "source": [
        "## HW1. Проектирование API\n",
        "Автор: *Кузнецов Кирилл Игоревич*, группа, дата\n",
        "\n",
        "Это задание выполняется в рамках модуля 1 «Проектирование API». Вы закрепите навыки разработки API, используя подход сode-first, затем будете придерживаться подхода API-first\n",
        "\n",
        "> Чтобы получить максимальный балл, убедитесь, что ваш ноутбук запускается с нуля, структура понятна, а в выводах вы объясняете свои решения.  "
      ]
    },
    {
      "cell_type": "markdown",
      "id": "977cd6ff",
      "metadata": {
        "id": "977cd6ff"
      },
      "source": [
        "## Подготовка окружения\n"
      ]
    },
    {
      "cell_type": "markdown",
      "id": "d032325a",
      "metadata": {},
      "source": [
        "1. Работа производилась на локальной машине\n",
        "\n",
        "2. В процессе реализации была создана виртуальная среда\n",
        "`conda create --name devops_env  python=3.11 `"
      ]
    },
    {
      "cell_type": "code",
      "execution_count": null,
      "id": "8c6833ac",
      "metadata": {},
      "outputs": [],
      "source": [
        "# Для установки в zsh и обхода спецссимволов немного модернизируем команду\n",
        "# !pip install 'fastapi[all]' 'uvicorn[standard]'"
      ]
    },
    {
      "cell_type": "markdown",
      "id": "syEj3l2Nh-Yd",
      "metadata": {
        "id": "syEj3l2Nh-Yd"
      },
      "source": [
        "Теперь, когда у нас установлены необходимые библиотеки, мы можем приступить к созданию нашего первого приложения FastAPI."
      ]
    },
    {
      "cell_type": "markdown",
      "id": "l-tnRM_vlUN3",
      "metadata": {
        "id": "l-tnRM_vlUN3"
      },
      "source": [
        "### Задание 1\n",
        "\n",
        "Вам необходимо самостоятельно создать веб-сервер на основе FastAPI.\n",
        "\n",
        "Задача: создать файл `main.py`, который будет содержать наш код API с четырьмя методами HTTP.\n",
        "\n"
      ]
    },
    {
      "cell_type": "code",
      "execution_count": null,
      "id": "rB7Lf9Kllz8X",
      "metadata": {
        "id": "rB7Lf9Kllz8X"
      },
      "outputs": [],
      "source": []
    },
    {
      "cell_type": "markdown",
      "id": "rr0KQjEomEZq",
      "metadata": {
        "id": "rr0KQjEomEZq"
      },
      "source": [
        "### Задание 2\n",
        "\n",
        "Сервер должен отвечать валидным JSON на эндпоинте /json_data.\n",
        "\n",
        "Задача: создать новый эндпоинт /json_data и подключить компонент JSONResponse на этом эндпоинте. Содержание JSONa не важно, главное, чтобы он был валидным.\n"
      ]
    },
    {
      "cell_type": "code",
      "execution_count": null,
      "id": "rfSNPyEDm651",
      "metadata": {
        "id": "rfSNPyEDm651"
      },
      "outputs": [],
      "source": []
    },
    {
      "cell_type": "markdown",
      "id": "kECidjAWot55",
      "metadata": {
        "id": "kECidjAWot55"
      },
      "source": [
        "### Задание 3\n",
        "\n",
        "Обработка ошибок с использованием простого HTTPException.\n",
        "\n",
        "Задачи:\n",
        "1. Изучите стандартные коды ошибок.\n",
        "2. Выберите любое случайное число в диапазоне 400—526.\n",
        "\n",
        "> Чтобы возвращать ошибки с соответствующими HTTP-статусами вам нужно:\n",
        "> 1. подключить класс `HTTPException` и просто выдать любой [код ошибки](https://ru.wikipedia.org/wiki/%D0%A1%D0%BF%D0%B8%D1%81%D0%BE%D0%BA_%D0%BA%D0%BE%D0%B4%D0%BE%D0%B2_%D1%81%D0%BE%D1%81%D1%82%D0%BE%D1%8F%D0%BD%D0%B8%D1%8F_HTTP) (от 400 до 526);\n",
        "> 2. создать маршрут /error, который будет генерировать ошибку с этим кодом в ответ на любой запрос.\n",
        "\n",
        "В комментариях напишите, как вы понимаете, что означает выбранный вами код ошибки."
      ]
    },
    {
      "cell_type": "code",
      "execution_count": null,
      "id": "4R6kpCgtpK_j",
      "metadata": {
        "colab": {
          "base_uri": "https://localhost:8080/"
        },
        "id": "4R6kpCgtpK_j",
        "outputId": "7578b895-f238-43c4-a83c-ce4f2ffa3bbe"
      },
      "outputs": [
        {
          "name": "stdout",
          "output_type": "stream",
          "text": [
            "511\n"
          ]
        }
      ],
      "source": [
        "import random;print(\"используйте и опишите код ошибки\", random.randint(400,526))"
      ]
    },
    {
      "cell_type": "code",
      "execution_count": null,
      "id": "bskDw3BbrH8R",
      "metadata": {
        "id": "bskDw3BbrH8R"
      },
      "outputs": [],
      "source": []
    },
    {
      "cell_type": "markdown",
      "id": "tRdyHK6hqBjx",
      "metadata": {
        "id": "tRdyHK6hqBjx"
      },
      "source": [
        "### Задание 4\n",
        "\n",
        "Создание автодокументации для API: FastAPI автоматически генерирует документацию API в формате OpenAPI и предоставляет интерфейс Swagger UI для ее просмотра\n",
        "\n",
        "*Поскольку код коллаба выполняется внутри виртуальной машины, у которой нет внешнего IP-адреса, вам потребуется создать тоннель, чтобы получить внешний IP-адрес.*\n",
        "\n",
        "*Зарегистрируйтесь в личном кабинете https://xtunnel.ru/ и скопируйте бесплатную лицензию (секретный ключ API)*\n",
        "\n",
        "Если возникают сложности, используйте локальную версию коллаба.\n",
        "```bash\n",
        "pip install notebook\n",
        "jupyter notebook\n",
        "```\n",
        "\n",
        "\n",
        "Задача. Чтобы проверить документацию, выполните следующие шаги:\n",
        "1. Запустите сервер FastAPI с помощью команды ниже.\n",
        "2. Откройте браузер и перейдите по адресу `http://127.0.0.1:8000/docs` для просмотра документации в Swagger UI.\n",
        "3. Для просмотра документации в формате OpenAPI перейдите по адресу `http://127.0.0.1:8000/openapi.json`"
      ]
    },
    {
      "cell_type": "code",
      "execution_count": null,
      "id": "7uYkL_qAsM12",
      "metadata": {
        "id": "7uYkL_qAsM12"
      },
      "outputs": [],
      "source": [
        "\"\"\"\n",
        "\n",
        "вставьте сюда полученый JSON, который вы скопировали по адресу http://127.0.0.1:8000/openapi.json\n",
        "\n",
        "\"\"\""
      ]
    },
    {
      "cell_type": "markdown",
      "id": "O9ed3Ua4stEV",
      "metadata": {
        "id": "O9ed3Ua4stEV"
      },
      "source": [
        "### Задание 5\n",
        "\n",
        "Автодокументаци API хороша для маленьких проектов. Сейчас вам нужно полученый в задании 4 JSON вставить в редактор [Swagger](https://editor.swagger.io/), добавить проектируемый маршрут с ответом в формате XML и сохранить описание в YAML.\n",
        "\n",
        "Задачи:\n",
        "1. Откройте редактор Swagger, вставьте JSON (ответьте ОК на запрос Would you like to convert your JSON into YAML?)\n",
        "2. Добавьте 1 эндпоинт.\n",
        "3. Скопируйте получившееся описание в YAML и вставьте в ячейку ниже."
      ]
    },
    {
      "cell_type": "code",
      "execution_count": null,
      "id": "q9tPw_CMzWLi",
      "metadata": {
        "id": "q9tPw_CMzWLi"
      },
      "outputs": [],
      "source": [
        "\"\"\"\n",
        "\n",
        "вставьте сюда полученый YAML, который вы скопировали из SWagger\n",
        "\n",
        "\"\"\""
      ]
    },
    {
      "cell_type": "markdown",
      "id": "3dfa2f78",
      "metadata": {
        "id": "3dfa2f78"
      },
      "source": [
        "## Итоговое оформление\n",
        "\n",
        "\n",
        "1. Подготовьте ноутбук в логичной структуре: написание кода → работа с JSON → обработка ошибок → API в YAML → итоги.  \n",
        "2. В ячейках Markdown сформулируйте 5–8 предложений с выводами, когда стоит применять подход Code-first и почему стоит придерживаться подхода API-first.  \n",
        "\n"
      ]
    },
    {
      "cell_type": "code",
      "execution_count": null,
      "id": "HCAshmbE0Iwe",
      "metadata": {
        "id": "HCAshmbE0Iwe"
      },
      "outputs": [],
      "source": []
    }
  ],
  "metadata": {
    "colab": {
      "provenance": []
    },
    "kernelspec": {
      "display_name": "devops_env",
      "language": "python",
      "name": "python3"
    },
    "language_info": {
      "codemirror_mode": {
        "name": "ipython",
        "version": 3
      },
      "file_extension": ".py",
      "mimetype": "text/x-python",
      "name": "python",
      "nbconvert_exporter": "python",
      "pygments_lexer": "ipython3",
      "version": "3.11.13"
    }
  },
  "nbformat": 4,
  "nbformat_minor": 5
}
