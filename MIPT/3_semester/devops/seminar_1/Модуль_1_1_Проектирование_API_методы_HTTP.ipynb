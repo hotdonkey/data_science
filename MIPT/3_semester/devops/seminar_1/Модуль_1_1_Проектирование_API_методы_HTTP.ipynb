{
  "cells": [
    {
      "cell_type": "markdown",
      "id": "0d1aef3d",
      "metadata": {
        "id": "0d1aef3d"
      },
      "source": [
        "## Модуль 1. Проектирование API: Введение в API\n"
      ]
    },
    {
      "cell_type": "markdown",
      "id": "JNhZRMZMTyb1",
      "metadata": {
        "id": "JNhZRMZMTyb1"
      },
      "source": [
        "## Цель\n",
        "\n",
        "Вспомнить основные методы HTTP\n",
        "\n",
        "Познакомиться со стандартом документирования OpenAPI\n",
        "\n",
        "## Введение\n",
        "\n",
        "Сталкивались ли с ситуацией когда вам нужно было соединиться с эндпоинтом и у вас не было доукментации как это сделать ?\n",
        "\n",
        "Чтобы избежать такой ситуации документация должна генерироваться сама !!!\n",
        "\n",
        "Сейчас мы разберёмся как собирать автодокументацию (автоматически генерируемую документацию)."
      ]
    },
    {
      "cell_type": "markdown",
      "id": "977cd6ff",
      "metadata": {
        "id": "977cd6ff"
      },
      "source": [
        "## Подготовка окружения"
      ]
    },
    {
      "cell_type": "code",
      "execution_count": null,
      "id": "debb5aa2",
      "metadata": {
        "colab": {
          "base_uri": "https://localhost:8080/"
        },
        "id": "debb5aa2",
        "outputId": "0e42a641-7c82-4d09-8991-ce0f58a84b73"
      },
      "outputs": [
        {
          "name": "stdout",
          "output_type": "stream",
          "text": [
            "\u001b[?25l   \u001b[90m━━━━━━━━━━━━━━━━━━━━━━━━━━━━━━━━━━━━━━━━\u001b[0m \u001b[32m0.0/517.7 kB\u001b[0m \u001b[31m?\u001b[0m eta \u001b[36m-:--:--\u001b[0m\r\u001b[2K   \u001b[91m━━━━━━━━━━━━━━━━━━━━━━━━━━━━\u001b[0m\u001b[90m╺\u001b[0m\u001b[90m━━━━━━━━━━━\u001b[0m \u001b[32m368.6/517.7 kB\u001b[0m \u001b[31m10.9 MB/s\u001b[0m eta \u001b[36m0:00:01\u001b[0m\r\u001b[2K   \u001b[90m━━━━━━━━━━━━━━━━━━━━━━━━━━━━━━━━━━━━━━━━\u001b[0m \u001b[32m517.7/517.7 kB\u001b[0m \u001b[31m9.6 MB/s\u001b[0m eta \u001b[36m0:00:00\u001b[0m\n",
            "\u001b[2K   \u001b[90m━━━━━━━━━━━━━━━━━━━━━━━━━━━━━━━━━━━━━━━━\u001b[0m \u001b[32m4.7/4.7 MB\u001b[0m \u001b[31m70.4 MB/s\u001b[0m eta \u001b[36m0:00:00\u001b[0m\n",
            "\u001b[2K   \u001b[90m━━━━━━━━━━━━━━━━━━━━━━━━━━━━━━━━━━━━━━━━\u001b[0m \u001b[32m456.8/456.8 kB\u001b[0m \u001b[31m26.5 MB/s\u001b[0m eta \u001b[36m0:00:00\u001b[0m\n",
            "\u001b[?25h"
          ]
        }
      ],
      "source": [
        "!pip install requests fastapi uvicorn[\"standard\"] -qq"
      ]
    },
    {
      "cell_type": "markdown",
      "id": "h5L0KezpiUUL",
      "metadata": {
        "id": "h5L0KezpiUUL"
      },
      "source": [
        "## Создание виртуального окружения\n",
        "\n",
        "Виртуальное окружение позволяет изолировать зависимости проекта, чтобы они не конфликтовали с зависимостями других проектов. Это особенно полезно, когда вы работаете над несколькими проектами одновременно."
      ]
    },
    {
      "cell_type": "code",
      "execution_count": null,
      "id": "PCx1uXDJiUUi",
      "metadata": {
        "colab": {
          "base_uri": "https://localhost:8080/"
        },
        "id": "PCx1uXDJiUUi",
        "outputId": "a05ba52d-b2b5-455a-c797-5a9716069807"
      },
      "outputs": [
        {
          "name": "stdout",
          "output_type": "stream",
          "text": [
            "Error: Command '['/content/myenv/bin/python3', '-m', 'ensurepip', '--upgrade', '--default-pip']' returned non-zero exit status 1.\n"
          ]
        }
      ],
      "source": [
        "!python -m venv myenv # Создаем виртуальное окружение с именем 'myenv'"
      ]
    },
    {
      "cell_type": "markdown",
      "id": "oFyb-BLDiUUj",
      "metadata": {
        "id": "oFyb-BLDiUUj"
      },
      "source": [
        "### Активация виртуального окружения\n",
        "\n",
        "После создания виртуального окружения его необходимо активировать, чтобы начать использовать изолированные зависимости."
      ]
    },
    {
      "cell_type": "code",
      "execution_count": null,
      "id": "iSop7d5IiUUk",
      "metadata": {
        "colab": {
          "base_uri": "https://localhost:8080/"
        },
        "id": "iSop7d5IiUUk",
        "outputId": "4a1a73b4-c7a8-4b7a-9a83-e587e51f9cb8"
      },
      "outputs": [
        {
          "name": "stdout",
          "output_type": "stream",
          "text": [
            "/bin/bash: line 1: myenv/bin/activate: No such file or directory\n"
          ]
        }
      ],
      "source": [
        "!source myenv/bin/activate # Для Linux и MacOS\n",
        "# !myenv\\Scripts\\activate # Для Windows"
      ]
    },
    {
      "cell_type": "markdown",
      "id": "dbpyCe3oiUUm",
      "metadata": {
        "id": "dbpyCe3oiUUm"
      },
      "source": [
        "После активации виртуального окружения вы можете устанавливать пакеты, и они будут изолированы в этом окружении. Это позволяет избежать конфликтов между проектами."
      ]
    },
    {
      "cell_type": "markdown",
      "id": "Vy-Y2313iUUn",
      "metadata": {
        "id": "Vy-Y2313iUUn"
      },
      "source": [
        "### Деактивация виртуального окружения\n",
        "\n",
        "Когда вы закончите работу, вы можете деактивировать виртуальное окружение, чтобы вернуться к глобальным настройкам Python."
      ]
    },
    {
      "cell_type": "code",
      "execution_count": null,
      "id": "VnfN0mT9iUUq",
      "metadata": {
        "colab": {
          "base_uri": "https://localhost:8080/"
        },
        "id": "VnfN0mT9iUUq",
        "outputId": "42be1ca4-0f4d-4e54-d9f5-6c4278869226"
      },
      "outputs": [
        {
          "name": "stdout",
          "output_type": "stream",
          "text": [
            "/bin/bash: line 1: deactivate: command not found\n"
          ]
        }
      ],
      "source": [
        "!deactivate"
      ]
    },
    {
      "cell_type": "markdown",
      "id": "12FA__M2iUUt",
      "metadata": {
        "id": "12FA__M2iUUt"
      },
      "source": [
        "Теперь вы готовы к разработке вашего API с использованием FastAPI в изолированном окружении. Это поможет вам управлять зависимостями и избежать конфликтов между проектами."
      ]
    },
    {
      "cell_type": "markdown",
      "id": "u1izj79IiUTT",
      "metadata": {
        "id": "u1izj79IiUTT"
      },
      "source": [
        "# Основы HTTP\n",
        "\n",
        "В этом разделе мы рассмотрим основы HTTP, включая понятие HTTP-запросов и ответов, а также основные методы HTTP: GET, POST, PUT, DELETE. HTTP (Hypertext Transfer Protocol) — это протокол, который используется для передачи данных в интернете. Он является основой для обмена данными между клиентами и серверами."
      ]
    },
    {
      "cell_type": "markdown",
      "id": "KMwhTG5AiUTV",
      "metadata": {
        "id": "KMwhTG5AiUTV"
      },
      "source": [
        "## Понятие HTTP-запросов и ответов\n",
        "\n",
        "HTTP-запросы и ответы — это основа взаимодействия между клиентом и сервером в интернете. Клиент отправляет запрос серверу, а сервер отвечает на этот запрос. Давайте рассмотрим основные компоненты HTTP-запроса и ответа."
      ]
    },
    {
      "cell_type": "markdown",
      "id": "4ay6_iLXiUTX",
      "metadata": {
        "id": "4ay6_iLXiUTX"
      },
      "source": [
        "### HTTP-запрос\n",
        "\n",
        "HTTP-запрос состоит из нескольких частей:\n",
        "- **Метод**: Определяет действие, которое клиент хочет выполнить (например, получить данные или отправить данные).\n",
        "- **URL**: Указывает адрес ресурса, к которому обращается клиент.\n",
        "- **Заголовки**: Дополнительная информация о запросе (например, тип данных, которые клиент может принимать).\n",
        "- **Тело**: Содержит данные, которые клиент отправляет на сервер (используется не во всех запросах)."
      ]
    },
    {
      "cell_type": "markdown",
      "id": "S14qYptjiUTY",
      "metadata": {
        "id": "S14qYptjiUTY"
      },
      "source": [
        "### HTTP-ответ\n",
        "\n",
        "HTTP-ответ также состоит из нескольких частей:\n",
        "- **Статус-код**: Числовой код, который указывает на результат обработки запроса (например, 200 — успех, 404 — ресурс не найден).\n",
        "- **Заголовки**: Дополнительная информация о ответе (например, тип данных, которые сервер отправляет клиенту).\n",
        "- **Тело**: Содержит данные, которые сервер отправляет клиенту (например, HTML-страница или JSON-данные)."
      ]
    },
    {
      "cell_type": "markdown",
      "id": "ewg3s6OZiUTZ",
      "metadata": {
        "id": "ewg3s6OZiUTZ"
      },
      "source": [
        "## Основные методы HTTP\n",
        "\n",
        "Существует несколько методов HTTP, которые определяют тип действия, которое клиент хочет выполнить. Рассмотрим четыре основных метода: GET, POST, PUT и DELETE."
      ]
    },
    {
      "cell_type": "markdown",
      "id": "kJp38tagiUTb",
      "metadata": {
        "id": "kJp38tagiUTb"
      },
      "source": [
        "### Метод GET\n",
        "\n",
        "Метод GET используется для получения данных с сервера. Он является безопасным и идемпотентным, что означает, что повторный запрос не изменит состояние ресурса. Пример использования метода GET — получение веб-страницы или данных в формате JSON."
      ]
    },
    {
      "cell_type": "code",
      "execution_count": null,
      "id": "Bcan7nGmiUTd",
      "metadata": {
        "colab": {
          "base_uri": "https://localhost:8080/"
        },
        "id": "Bcan7nGmiUTd",
        "outputId": "c501c6e7-5b22-47db-c380-dddf59825a8d"
      },
      "outputs": [
        {
          "name": "stdout",
          "output_type": "stream",
          "text": [
            "Успешно получили данные:\n",
            "{'userId': 1, 'id': 1, 'title': 'sunt aut facere repellat provident occaecati excepturi optio reprehenderit', 'body': 'quia et suscipit\\nsuscipit recusandae consequuntur expedita et cum\\nreprehenderit molestiae ut ut quas totam\\nnostrum rerum est autem sunt rem eveniet architecto'}\n"
          ]
        }
      ],
      "source": [
        "# Пример использования метода GET с помощью библиотеки requests\n",
        "import requests  # Импортируем библиотеку requests для выполнения HTTP-запросов\n",
        "\n",
        "# Отправляем GET-запрос на указанный URL\n",
        "response = requests.get('https://jsonplaceholder.typicode.com/posts/1')  # URL для получения данных\n",
        "\n",
        "# Проверяем статус-код ответа\n",
        "if response.status_code == 200:  # Если статус-код 200, значит запрос успешен\n",
        "    print('Успешно получили данные:')\n",
        "    print(response.json())  # Выводим данные в формате JSON\n",
        "else:\n",
        "    print('Ошибка при получении данных')  # Выводим сообщение об ошибке, если запрос не успешен"
      ]
    },
    {
      "cell_type": "markdown",
      "id": "Y0xF3e1JiUTf",
      "metadata": {
        "id": "Y0xF3e1JiUTf"
      },
      "source": [
        "### Метод POST\n",
        "\n",
        "Метод POST используется для отправки данных на сервер. Он не является идемпотентным, что означает, что повторный запрос может изменить состояние ресурса. Пример использования метода POST — отправка формы или добавление нового ресурса на сервер."
      ]
    },
    {
      "cell_type": "code",
      "execution_count": null,
      "id": "gkUhlHKliUTi",
      "metadata": {
        "colab": {
          "base_uri": "https://localhost:8080/"
        },
        "id": "gkUhlHKliUTi",
        "outputId": "4d9ba828-c173-472c-fe9e-9f9c79f1aea3"
      },
      "outputs": [
        {
          "name": "stdout",
          "output_type": "stream",
          "text": [
            "Успешно отправили данные:\n",
            "{'title': 'foo', 'body': 'bar', 'userId': 1, 'id': 101}\n"
          ]
        }
      ],
      "source": [
        "# Пример использования метода POST с помощью библиотеки requests\n",
        "import requests  # Импортируем библиотеку requests для выполнения HTTP-запросов\n",
        "\n",
        "# Данные, которые мы хотим отправить на сервер\n",
        "data = {\n",
        "    'title': 'foo',\n",
        "    'body': 'bar',\n",
        "    'userId': 1\n",
        "}\n",
        "\n",
        "# Отправляем POST-запрос на указанный URL с данными\n",
        "response = requests.post('https://jsonplaceholder.typicode.com/posts', json=data)  # URL для отправки данных\n",
        "\n",
        "# Проверяем статус-код ответа\n",
        "if response.status_code == 201:  # Если статус-код 201, значит ресурс успешно создан\n",
        "    print('Успешно отправили данные:')\n",
        "    print(response.json())  # Выводим данные в формате JSON\n",
        "else:\n",
        "    print('Ошибка при отправке данных')  # Выводим сообщение об ошибке, если запрос не успешен"
      ]
    },
    {
      "cell_type": "markdown",
      "id": "m2GJtMTSiUTj",
      "metadata": {
        "id": "m2GJtMTSiUTj"
      },
      "source": [
        "### Метод PUT\n",
        "\n",
        "Метод PUT используется для обновления существующего ресурса на сервере. Он является идемпотентным, что означает, что повторный запрос не изменит состояние ресурса, если данные не изменились. Пример использования метода PUT — обновление информации о пользователе."
      ]
    },
    {
      "cell_type": "code",
      "execution_count": null,
      "id": "Osnc8XTmiUTk",
      "metadata": {
        "colab": {
          "base_uri": "https://localhost:8080/"
        },
        "id": "Osnc8XTmiUTk",
        "outputId": "7a648e22-ed1a-48aa-aebb-bf11181de05c"
      },
      "outputs": [
        {
          "name": "stdout",
          "output_type": "stream",
          "text": [
            "Успешно обновили данные:\n",
            "{'id': 1, 'title': 'foo', 'body': 'bar', 'userId': 1}\n"
          ]
        }
      ],
      "source": [
        "# Пример использования метода PUT с помощью библиотеки requests\n",
        "import requests  # Импортируем библиотеку requests для выполнения HTTP-запросов\n",
        "\n",
        "# Данные, которые мы хотим обновить на сервере\n",
        "data = {\n",
        "    'id': 1,\n",
        "    'title': 'foo',\n",
        "    'body': 'bar',\n",
        "    'userId': 1\n",
        "}\n",
        "\n",
        "# Отправляем PUT-запрос на указанный URL с данными\n",
        "response = requests.put('https://jsonplaceholder.typicode.com/posts/1', json=data)  # URL для обновления данных\n",
        "\n",
        "# Проверяем статус-код ответа\n",
        "if response.status_code == 200:  # Если статус-код 200, значит ресурс успешно обновлен\n",
        "    print('Успешно обновили данные:')\n",
        "    print(response.json())  # Выводим данные в формате JSON\n",
        "else:\n",
        "    print('Ошибка при обновлении данных')  # Выводим сообщение об ошибке, если запрос не успешен"
      ]
    },
    {
      "cell_type": "markdown",
      "id": "2ZWM5T6qiUTm",
      "metadata": {
        "id": "2ZWM5T6qiUTm"
      },
      "source": [
        "### Метод DELETE\n",
        "\n",
        "Метод DELETE используется для удаления ресурса с сервера. Он является идемпотентным, что означает, что повторный запрос не изменит состояние ресурса, если он уже удален. Пример использования метода DELETE — удаление записи из базы данных."
      ]
    },
    {
      "cell_type": "code",
      "execution_count": null,
      "id": "qBm6bk95iUTn",
      "metadata": {
        "colab": {
          "base_uri": "https://localhost:8080/"
        },
        "id": "qBm6bk95iUTn",
        "outputId": "1551dde6-c7c9-42ca-e973-d602aead04e6"
      },
      "outputs": [
        {
          "name": "stdout",
          "output_type": "stream",
          "text": [
            "Успешно удалили данные\n"
          ]
        }
      ],
      "source": [
        "# Пример использования метода DELETE с помощью библиотеки requests\n",
        "import requests  # Импортируем библиотеку requests для выполнения HTTP-запросов\n",
        "\n",
        "# Отправляем DELETE-запрос на указанный URL\n",
        "response = requests.delete('https://jsonplaceholder.typicode.com/posts/1')  # URL для удаления данных\n",
        "\n",
        "# Проверяем статус-код ответа\n",
        "if response.status_code == 200:  # Если статус-код 200, значит ресурс успешно удален\n",
        "    print('Успешно удалили данные')\n",
        "else:\n",
        "    print('Ошибка при удалении данных')  # Выводим сообщение об ошибке, если запрос не успешен"
      ]
    },
    {
      "cell_type": "markdown",
      "id": "RQDO5DcYiUTp",
      "metadata": {
        "id": "RQDO5DcYiUTp"
      },
      "source": [
        "Теперь вы знаете основы HTTP, включая понятие HTTP-запросов и ответов, а также основные методы HTTP: GET, POST, PUT, DELETE. Эти знания являются основой для работы с API и взаимодействия с веб-сервисами."
      ]
    },
    {
      "cell_type": "markdown",
      "id": "Lg9JbzfBiUTq",
      "metadata": {
        "id": "Lg9JbzfBiUTq"
      },
      "source": [
        "# FastAPI\n",
        "\n",
        "FastAPI — это современный, быстрый (высокопроизводительный) веб-фреймворк для создания API на Python. Он был разработан для того, чтобы облегчить разработку API, обеспечивая при этом высокую производительность и простоту использования. В этом разделе мы рассмотрим основные преимущества FastAPI и как его установить и настроить."
      ]
    },
    {
      "cell_type": "markdown",
      "id": "1tlZ-fJ8iUTr",
      "metadata": {
        "id": "1tlZ-fJ8iUTr"
      },
      "source": [
        "## Преимущества FastAPI\n",
        "\n",
        "1. **Высокая производительность**: FastAPI построен на основе Starlette и Pydantic, что делает его одним из самых быстрых фреймворков для Python. Он использует асинхронные вызовы, что позволяет обрабатывать множество запросов одновременно.\n",
        "\n",
        "2. **Простота использования**: FastAPI позволяет разработчикам быстро создавать API с минимальным количеством кода. Он автоматически генерирует документацию API, что упрощает тестирование и интеграцию.\n",
        "\n",
        "3. **Валидация данных**: Благодаря Pydantic, FastAPI обеспечивает автоматическую валидацию данных, что помогает избежать ошибок, связанных с некорректными данными.\n",
        "\n",
        "4. **Современные возможности**: Поддержка аннотаций типов Python позволяет использовать современные возможности языка, такие как асинхронные функции и типизация.\n",
        "\n",
        "5. **Автоматическая документация**: FastAPI автоматически генерирует документацию в формате OpenAPI и JSON Schema, что упрощает взаимодействие с API для разработчиков и пользователей."
      ]
    },
    {
      "cell_type": "markdown",
      "id": "CekZ49g6iUTu",
      "metadata": {
        "id": "CekZ49g6iUTu"
      },
      "source": [
        "### Создание простого FastAPI-приложения\n",
        "\n",
        "Теперь, когда мы установили необходимые пакеты, давайте создадим простое приложение с использованием FastAPI. Мы создадим минимальный API, который будет возвращать приветственное сообщение."
      ]
    },
    {
      "cell_type": "code",
      "execution_count": null,
      "id": "bJ7N2k8xiUTv",
      "metadata": {
        "colab": {
          "base_uri": "https://localhost:8080/"
        },
        "id": "bJ7N2k8xiUTv",
        "outputId": "1e3587a4-6c38-4ecd-bc6c-f6db7d762f0f"
      },
      "outputs": [
        {
          "name": "stdout",
          "output_type": "stream",
          "text": [
            "Writing main.py\n"
          ]
        }
      ],
      "source": [
        "%%writefile main.py\n",
        "from fastapi import FastAPI\n",
        "app = FastAPI()\n",
        "@app.get(\"/\")\n",
        "async def read_root():\n",
        "    return {\"message\": \"Hello, World!\"}"
      ]
    },
    {
      "cell_type": "markdown",
      "id": "mlvsTgOKiUT1",
      "metadata": {
        "id": "mlvsTgOKiUT1"
      },
      "source": [
        "### Запуск FastAPI-приложения\n",
        "\n",
        "Для запуска нашего приложения мы будем использовать Uvicorn. Он позволяет запускать ASGI-приложения, такие как FastAPI, и обрабатывать HTTP-запросы."
      ]
    },
    {
      "cell_type": "code",
      "execution_count": null,
      "id": "UJm8YeOeiUT4",
      "metadata": {
        "colab": {
          "background_save": true,
          "base_uri": "https://localhost:8080/"
        },
        "id": "UJm8YeOeiUT4",
        "outputId": "9906dfa3-14a3-42b7-b29a-484b2fe84630"
      },
      "outputs": [
        {
          "metadata": {
            "tags": null
          },
          "name": "stdout",
          "output_type": "stream",
          "text": [
            "\u001b[32mINFO\u001b[0m:     Will watch for changes in these directories: ['/content']\n",
            "\u001b[32mINFO\u001b[0m:     Uvicorn running on \u001b[1mhttp://127.0.0.1:8000\u001b[0m (Press CTRL+C to quit)\n",
            "\u001b[32mINFO\u001b[0m:     Started reloader process [\u001b[36m\u001b[1m982\u001b[0m] using \u001b[36m\u001b[1mWatchFiles\u001b[0m\n",
            "\u001b[32mINFO\u001b[0m:     Started server process [\u001b[36m988\u001b[0m]\n",
            "\u001b[32mINFO\u001b[0m:     Waiting for application startup.\n",
            "\u001b[32mINFO\u001b[0m:     Application startup complete.\n"
          ]
        }
      ],
      "source": [
        "!uvicorn main:app --reload\n",
        "# Параметр --reload позволяет автоматически перезагружать сервер при изменении кода"
      ]
    },
    {
      "cell_type": "markdown",
      "id": "EV0rgUzHiUT5",
      "metadata": {
        "id": "EV0rgUzHiUT5"
      },
      "source": [
        "После запуска сервера вы сможете перейти по адресу `http://127.0.0.1:8000` в вашем браузере и увидеть JSON-ответ с сообщением \"Hello, World!\". Это означает, что ваше FastAPI-приложение успешно работает.\n",
        "\n",
        "Кроме того, FastAPI автоматически генерирует документацию для вашего API. Вы можете получить доступ к ней, перейдя по адресу `http://127.0.0.1:8000/docs`, где будет представлена документация в формате Swagger UI, или `http://127.0.0.1:8000/redoc` для документации в формате ReDoc."
      ]
    },
    {
      "cell_type": "markdown",
      "id": "XDRnvyjOiUT6",
      "metadata": {
        "id": "XDRnvyjOiUT6"
      },
      "source": [
        "# Основные компоненты FastAPI: Маршруты и Обработчики\n",
        "\n",
        "В этом разделе мы рассмотрим основные компоненты FastAPI, такие как маршруты (routes) и обработчики (handlers). Мы также обсудим, как работать с запросами и ответами в FastAPI.\n",
        "\n",
        "## Понятие маршрутов (routes) и обработчиков (handlers)\n",
        "\n",
        "### Маршруты (Routes)\n",
        "Маршруты в FastAPI определяют, какие URL-адреса будут обрабатываться вашим приложением. Каждый маршрут связан с определенной функцией, которая будет вызвана, когда пользователь обращается к этому URL.\n",
        "\n",
        "### Обработчики (Handlers)\n",
        "Обработчики — это функции, которые выполняют логику обработки запроса. Они принимают входные данные, обрабатывают их и возвращают ответ клиенту.\n",
        "\n",
        "## Работа с запросами и ответами\n",
        "\n",
        "FastAPI позволяет легко работать с HTTP-запросами и ответами. Вы можете получать данные из запроса, обрабатывать их и возвращать ответы в различных форматах, таких как JSON.\n",
        "\n",
        "Давайте рассмотрим, как это реализуется на практике."
      ]
    },
    {
      "cell_type": "code",
      "execution_count": null,
      "id": "w_RizWEDiUUD",
      "metadata": {
        "id": "w_RizWEDiUUD"
      },
      "outputs": [],
      "source": [
        "@app.post(\"/items/\")\n",
        "async def create_item(item: dict): # обработчик для маршрута /items/\n",
        "    return JSONResponse(content=item) # Возвращаем данные в формате JSON"
      ]
    },
    {
      "cell_type": "markdown",
      "id": "uSMj3nr5iUVB",
      "metadata": {
        "id": "uSMj3nr5iUVB"
      },
      "source": [
        "# Контракт на данные\n",
        "\n",
        "В этом разделе мы научимся создавать маршрут с методом POST в FastAPI и обрабатывать данные, переданные в теле запроса. Мы создадим простой API, который будет принимать данные о пользователе и возвращать их в ответе."
      ]
    },
    {
      "cell_type": "markdown",
      "id": "eJHu00C_iUVD",
      "metadata": {
        "id": "eJHu00C_iUVD"
      },
      "source": [
        "## Шаг 1: Импорт необходимых модулей\n",
        "\n",
        "Для начала нам нужно импортировать необходимые модули из библиотеки FastAPI и Pydantic. FastAPI используется для создания API, а Pydantic для валидации данных."
      ]
    },
    {
      "cell_type": "code",
      "execution_count": null,
      "id": "FQtNCxKkiUVE",
      "metadata": {
        "id": "FQtNCxKkiUVE"
      },
      "outputs": [],
      "source": [
        "from fastapi import FastAPI\n",
        "from pydantic import BaseModel"
      ]
    },
    {
      "cell_type": "markdown",
      "id": "HZkbOAWOiUVF",
      "metadata": {
        "id": "HZkbOAWOiUVF"
      },
      "source": [
        "## Шаг 2: Создание модели данных\n",
        "\n",
        "Мы создадим модель данных, которая будет описывать структуру данных, ожидаемых в теле запроса. Пусть это будет информация о пользователе, такая как имя и возраст."
      ]
    },
    {
      "cell_type": "code",
      "execution_count": null,
      "id": "AtTvhzfiiUVG",
      "metadata": {
        "id": "AtTvhzfiiUVG"
      },
      "outputs": [],
      "source": [
        "class User(BaseModel):\n",
        "    name: str\n",
        "    age: int"
      ]
    },
    {
      "cell_type": "markdown",
      "id": "wg_T3gN6iUVI",
      "metadata": {
        "id": "wg_T3gN6iUVI"
      },
      "source": [
        "## Шаг 3: Создание экземпляра FastAPI\n",
        "\n",
        "Теперь мы создадим экземпляр сервера FastAPI, который будет нашим приложением. Это позволит нам добавлять маршруты и обрабатывать запросы."
      ]
    },
    {
      "cell_type": "code",
      "execution_count": null,
      "id": "Aowy6ZL8iUVJ",
      "metadata": {
        "id": "Aowy6ZL8iUVJ"
      },
      "outputs": [],
      "source": [
        "app = FastAPI()"
      ]
    },
    {
      "cell_type": "markdown",
      "id": "-zUX8yBqiUVK",
      "metadata": {
        "id": "-zUX8yBqiUVK"
      },
      "source": [
        "## Шаг 4: Создание маршрута с методом POST\n",
        "\n",
        "Мы создадим маршрут, который будет обрабатывать POST-запросы. Этот маршрут будет принимать данные о пользователе в формате JSON и возвращать их обратно в ответе."
      ]
    },
    {
      "cell_type": "code",
      "execution_count": null,
      "id": "urQO4_g_iUVM",
      "metadata": {
        "id": "urQO4_g_iUVM"
      },
      "outputs": [],
      "source": [
        "@app.post(\"/user/\")\n",
        "async def create_user(user: User):\n",
        "    return user"
      ]
    },
    {
      "cell_type": "markdown",
      "id": "_y9r7dl_iUVO",
      "metadata": {
        "id": "_y9r7dl_iUVO"
      },
      "source": [
        "## Шаг 5: Запуск сервера\n",
        "\n",
        "Как обычно, с помощью Uvicorn."
      ]
    },
    {
      "cell_type": "code",
      "execution_count": null,
      "id": "i2PnKcKqiUVP",
      "metadata": {
        "id": "i2PnKcKqiUVP"
      },
      "outputs": [],
      "source": [
        "!uvicorn main:app --reload"
      ]
    },
    {
      "cell_type": "markdown",
      "id": "gpvGawl_iUVS",
      "metadata": {
        "id": "gpvGawl_iUVS"
      },
      "source": [
        "Теперь вы можете отправлять POST-запросы на маршрут `/user/` с JSON-данными, содержащими имя и возраст пользователя. Сервер будет возвращать эти данные в ответе, подтверждая, что они были успешно обработаны."
      ]
    },
    {
      "cell_type": "markdown",
      "id": "QtWK0pYEiUXk",
      "metadata": {
        "id": "QtWK0pYEiUXk"
      },
      "source": [
        "## Шаг 6: Тестирование API с помощью [Postman](https://web.postman.com/)\n",
        "\n",
        "После запуска приложения, вы можете протестировать API, перейдя по адресу `http://127.0.0.1:8000/greet/?name=ВашеИмя&age=ВашВозраст`. Попробуйте изменить параметры `name` и `age` в URL и посмотрите, как изменяется ответ.\n",
        "\n",
        "[Postman](https://web.postman.com/) — это мощный инструмент для тестирования API, который позволяет отправлять различные HTTP-запросы и просматривать ответы. Давайте используем его для тестирования нашего API."
      ]
    },
    {
      "cell_type": "markdown",
      "id": "rU3y3H88iUXm",
      "metadata": {
        "id": "rU3y3H88iUXm"
      },
      "source": [
        "1. Откройте [Postman](https://web.postman.com/) и создайте новый запрос.\n",
        "2. Установите метод запроса на GET.\n",
        "3. Введите URL `http://127.0.0.1:8000/`.\n",
        "4. Нажмите кнопку \"Send\" (Отправить).\n",
        "5. В разделе ответа вы должны увидеть тот же JSON-ответ: `{\"Hello\": \"World\"}`.\n",
        "\n",
        "Таким образом, мы подтвердили, что наш API работает корректно и отвечает на запросы как через браузер, так и через Postman."
      ]
    },
    {
      "cell_type": "markdown",
      "id": "-jnueWcviUXn",
      "metadata": {
        "id": "-jnueWcviUXn"
      },
      "source": [
        "Теперь вы знаете, как запускать и тестировать FastAPI-приложения. Это базовые навыки, которые необходимы для дальнейшей работы с API и их разработкой."
      ]
    },
    {
      "cell_type": "markdown",
      "id": "pVHr0ohviUYD",
      "metadata": {
        "id": "pVHr0ohviUYD"
      },
      "source": [
        "# Обработка ошибок в FastAPI\n",
        "\n",
        "В этом разделе мы рассмотрим, как обрабатывать ошибки в FastAPI и возвращать соответствующие HTTP-статусы. Это важная часть проектирования API, так как корректная обработка ошибок помогает клиентам правильно интерпретировать ответы сервера и принимать соответствующие меры."
      ]
    },
    {
      "cell_type": "markdown",
      "id": "Dse5wLvoiUYF",
      "metadata": {
        "id": "Dse5wLvoiUYF"
      },
      "source": [
        "## Обработка ошибок с использованием HTTPException\n",
        "\n",
        "FastAPI предоставляет класс `HTTPException`, который позволяет легко возвращать ошибки с соответствующими HTTP-статусами. Давайте создадим маршрут, который будет генерировать ошибку, если переданный параметр не соответствует ожидаемому значению."
      ]
    },
    {
      "cell_type": "code",
      "execution_count": null,
      "id": "YWfdXYKhiUYH",
      "metadata": {
        "id": "YWfdXYKhiUYH"
      },
      "outputs": [],
      "source": [
        "@app.get(\"/items/{item_id}\")\n",
        "async def read_item(item_id: int):\n",
        "    if item_id < 0:\n",
        "        raise HTTPException(status_code=400, detail=\"Item ID must be a positive integer\")\n",
        "    return {\"item_id\": item_id}"
      ]
    },
    {
      "cell_type": "markdown",
      "id": "WbbUMjAWiUYI",
      "metadata": {
        "id": "WbbUMjAWiUYI"
      },
      "source": [
        "## Обработка ошибок с использованием обработчиков исключений\n",
        "\n",
        "Иногда может потребоваться более сложная обработка ошибок. FastAPI позволяет определять собственные обработчики исключений для различных типов ошибок. Давайте создадим обработчик для обработки всех ошибок `HTTPException`."
      ]
    },
    {
      "cell_type": "code",
      "execution_count": null,
      "id": "ZiDQY3vFiUa3",
      "metadata": {
        "id": "ZiDQY3vFiUa3"
      },
      "outputs": [],
      "source": [
        "@app.exception_handler(HTTPException)\n",
        "async def http_exception_handler(request: Request, exc: HTTPException):\n",
        "    return JSONResponse(status_code=exc.status_code, content={\"message\": exc.detail})"
      ]
    },
    {
      "cell_type": "markdown",
      "id": "xskNtb7ZiUbH",
      "metadata": {
        "id": "xskNtb7ZiUbH"
      },
      "source": [
        "## Проверка документации API\n",
        "\n",
        "FastAPI автоматически генерирует документацию API в формате OpenAPI и предоставляет интерфейс Swagger UI для её просмотра. Чтобы проверить документацию, выполните следующие шаги:\n",
        "\n",
        "1. Запустите сервер FastAPI с помощью команды ниже.\n",
        "2. Откройте браузер и перейдите по адресу `http://127.0.0.1:8000/docs` для просмотра документации в Swagger UI.\n",
        "3. Для просмотра документации в формате OpenAPI перейдите по адресу `http://127.0.0.1:8000/openapi.json`."
      ]
    },
    {
      "cell_type": "markdown",
      "id": "Bh8JnICsUGF2",
      "metadata": {
        "id": "Bh8JnICsUGF2"
      },
      "source": [
        "## Итог\n",
        "\n",
        "Вы чётко разделяете методы HTTP по их назначению.\n",
        "\n",
        "Вы научились создавать автодокументацию методом code-first"
      ]
    }
  ],
  "metadata": {
    "colab": {
      "provenance": []
    },
    "kernelspec": {
      "display_name": "Python 3",
      "name": "python3"
    },
    "language_info": {
      "name": "python"
    }
  },
  "nbformat": 4,
  "nbformat_minor": 5
}