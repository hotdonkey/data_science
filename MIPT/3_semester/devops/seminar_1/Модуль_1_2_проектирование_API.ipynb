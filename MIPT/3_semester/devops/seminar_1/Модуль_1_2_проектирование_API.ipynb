{
  "cells": [
    {
      "cell_type": "markdown",
      "metadata": {
        "id": "oz4KMKGf5Kwk"
      },
      "source": [
        "## Модуль 1. Проектирование API: Введение в API"
      ]
    },
    {
      "cell_type": "markdown",
      "metadata": {
        "id": "DOS-9gZb5REO"
      },
      "source": [
        "## Цель\n",
        "\n",
        "Научиться работать с готовой документацией OpenAPI\n",
        "\n",
        "## Введение\n",
        "\n",
        "Программисты любят устраивать сюрпризы и ломать эндпоинты без предупреждения. Если ваш коллега сидит напротив вас и вся ваша система состоит из пары эндпоинтов - это не проблема.\n",
        "\n",
        "А если система состоит из пары **тысяч** эндпоинтов, управляемых разными юрлицами ?\n",
        "\n",
        "В такой ситуации нам нужно по документации ю написать автоматические тесты."
      ]
    },
    {
      "cell_type": "code",
      "execution_count": null,
      "metadata": {
        "colab": {
          "base_uri": "https://localhost:8080/"
        },
        "id": "WgTf4XgOw08J",
        "outputId": "b11f576f-33c2-4008-e15c-dcef7a31dd9d"
      },
      "outputs": [
        {
          "name": "stdout",
          "output_type": "stream",
          "text": [
            "\u001b[2K   \u001b[90m━━━━━━━━━━━━━━━━━━━━━━━━━━━━━━━━━━━━━━━━\u001b[0m \u001b[32m517.7/517.7 kB\u001b[0m \u001b[31m6.3 MB/s\u001b[0m eta \u001b[36m0:00:00\u001b[0m\n",
            "\u001b[2K   \u001b[90m━━━━━━━━━━━━━━━━━━━━━━━━━━━━━━━━━━━━━━━━\u001b[0m \u001b[32m4.7/4.7 MB\u001b[0m \u001b[31m53.0 MB/s\u001b[0m eta \u001b[36m0:00:00\u001b[0m\n",
            "\u001b[2K   \u001b[90m━━━━━━━━━━━━━━━━━━━━━━━━━━━━━━━━━━━━━━━━\u001b[0m \u001b[32m456.8/456.8 kB\u001b[0m \u001b[31m21.9 MB/s\u001b[0m eta \u001b[36m0:00:00\u001b[0m\n",
            "\u001b[?25h"
          ]
        }
      ],
      "source": [
        "!pip install fastapi uvicorn[standard] nest-asyncio  requests pytest -qq"
      ]
    },
    {
      "cell_type": "code",
      "execution_count": null,
      "metadata": {
        "colab": {
          "base_uri": "https://localhost:8080/"
        },
        "id": "Jlhqr0bExC6T",
        "outputId": "886f3eab-0f95-4f74-a0d7-9c8a8ae45ffd"
      },
      "outputs": [
        {
          "name": "stdout",
          "output_type": "stream",
          "text": [
            "Writing main.py\n"
          ]
        }
      ],
      "source": [
        "%%writefile main.py\n",
        "\n",
        "from fastapi import FastAPI, HTTPException, Request, Response, status, Header, Cookie\n",
        "from fastapi.responses import JSONResponse\n",
        "from pydantic import BaseModel\n",
        "import uvicorn\n",
        "import threading\n",
        "import requests\n",
        "import time\n",
        "\n",
        "\n",
        "# Create FastAPI app\n",
        "app = FastAPI(title=\"Demo API\", version=\"1.0\",\n",
        "              description=\"Illustrates HTTP methods, status codes, headers, cookies, JSON, REST, Swagger docs\")\n",
        "\n",
        "# In-memory “database”\n",
        "db = {}\n",
        "\n",
        "\n",
        "# 3. Data Models\n",
        "\n",
        "\n",
        "class Item(BaseModel):\n",
        "    name: str\n",
        "    description: str = None\n",
        "    price: float\n",
        "\n",
        "class ItemConfidentioal(BaseModel):\n",
        "    name: str\n",
        "    description: str = None\n",
        "\n",
        "# 4. REST Endpoints\n",
        "\n",
        "# GET /items — list all items\n",
        "@app.get(\"/items\", response_model=list[Item])\n",
        "def list_items():\n",
        "    return list(db.values())\n",
        "\n",
        "# POST /items — create an item\n",
        "@app.post(\"/items\", status_code=status.HTTP_201_CREATED, response_model=ItemConfidentioal)\n",
        "def create_item(item: Item):\n",
        "    db[len(db) + 1] = item\n",
        "    return item\n",
        "\n",
        "# GET /items/{item_id} — retrieve single item or 404\n",
        "@app.get(\"/items/{item_id}\", response_model=Item)\n",
        "def get_item(item_id: int):\n",
        "    if item_id not in db:\n",
        "        raise HTTPException(status_code=404, detail=\"Item not found\")\n",
        "    return db[item_id]\n",
        "\n",
        "# PUT /items/{item_id} — update or 404\n",
        "@app.put(\"/items/{item_id}\", response_model=Item)\n",
        "def update_item(item_id: int, item: Item):\n",
        "    if item_id not in db:\n",
        "        raise HTTPException(status_code=404, detail=\"Item not found\")\n",
        "    db[item_id] = item\n",
        "    return item\n",
        "\n",
        "# DELETE /items/{item_id} — delete or 404\n",
        "@app.delete(\"/items/{item_id}\", status_code=status.HTTP_204_NO_CONTENT)\n",
        "def delete_item(item_id: int):\n",
        "    if item_id not in db:\n",
        "        raise HTTPException(status_code=404, detail=\"Item not found\")\n",
        "    del db[item_id]\n",
        "    return Response(status_code=status.HTTP_204_NO_CONTENT)\n",
        "\n",
        "# Demonstrate headers, cookies & sessions\n",
        "@app.get(\"/info\")\n",
        "def info(user_agent: str = Header(None), session_id: str = Cookie(None)):\n",
        "    # User-Agent header\n",
        "    # session_id cookie\n",
        "    return {\"user_agent\": user_agent, \"session_id\": session_id}\n",
        "\n",
        "@app.post(\"/login\")\n",
        "def login(response: Response):\n",
        "    # In real life check credentials...\n",
        "    session_token = \"abc123session\"\n",
        "    response.set_cookie(key=\"session_id\", value=session_token, httponly=True)\n",
        "    return {\"message\": \"Logged in\", \"session_id\": session_token}\n"
      ]
    },
    {
      "cell_type": "markdown",
      "metadata": {
        "id": "mgNCB3XeUIqS"
      },
      "source": [
        "%%html\n",
        "\n",
        "Поскольку код коллаба выполняется внутри виртуальной машины у которой нет внешнего IP-адреса вам потребуется создать тоннель чтобы получить внешний IP-адрес.\n",
        "\n",
        "Зарегистрируйтесь в личном кабинете <a href=\"https://xtunnel.ru/\">https://xtunnel.ru/</a> и скопируйте бесплатную лицензию (секретный ключ API)\n",
        "\n",
        "<img src=\"data:image/jpeg;base64,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\">\n",
        "\n",
        "Нажмите на значок ключа (1) на левой панели меню коллаба, вставьте скопированный секретный ключ API в ячейку (4), впишите название ключа XTUNNEL_API_KEY в ячейку (3) и разрешите доступ к этому ключу (2)\n",
        "\n",
        "<img src=\"data:image/jpeg;base64,/9j/4AAQSkZJRgABAQEAYABgAAD/2wBDAAIBAQIBAQICAgICAgICAwUDAwMDAwYEBAMFBwYHBwcGBwcICQsJCAgKCAcHCg0KCgsMDAwMBwkODw0MDgsMDAz/2wBDAQICAgMDAwYDAwYMCAcIDAwMDAwMDAwMDAwMDAwMDAwMDAwMDAwMDAwMDAwMDAwMDAwMDAwMDAwMDAwMDAwMDAz/wAARCAEvAawDASIAAhEBAxEB/8QAHwAAAQUBAQEBAQEAAAAAAAAAAAECAwQFBgcICQoL/8QAtRAAAgEDAwIEAwUFBAQAAAF9AQIDAAQRBRIhMUEGE1FhByJxFDKBkaEII0KxwRVS0fAkM2JyggkKFhcYGRolJicoKSo0NTY3ODk6Q0RFRkdISUpTVFVWV1hZWmNkZWZnaGlqc3R1dnd4eXqDhIWGh4iJipKTlJWWl5iZmqKjpKWmp6ipqrKztLW2t7i5usLDxMXGx8jJytLT1NXW19jZ2uHi4+Tl5ufo6erx8vP09fb3+Pn6/8QAHwEAAwEBAQEBAQEBAQAAAAAAAAECAwQFBgcICQoL/8QAtREAAgECBAQDBAcFBAQAAQJ3AAECAxEEBSExBhJBUQdhcRMiMoEIFEKRobHBCSMzUvAVYnLRChYkNOEl8RcYGRomJygpKjU2Nzg5OkNERUZHSElKU1RVVldYWVpjZGVmZ2hpanN0dXZ3eHl6goOEhYaHiImKkpOUlZaXmJmaoqOkpaanqKmqsrO0tba3uLm6wsPExcbHyMnK0tPU1dbX2Nna4uPk5ebn6Onq8vP09fb3+Pn6/9oADAMBAAIRAxEAPwD9/KKK4D4+ftFaD+z9o1nJqkgl1HVnaHTbFXCyXkijJ5PRRkZPqygAkgHhzPMsLl+FnjcbNQpwV5N9F+b8ktW9FqdODwdfF1o4fDRcpy2S/r5vsjv6K+Obz9vzxtc3bXVtpmiRWUZ2+W1vLIoz03PvHP0x9K9F1z9uWPQPhhpuoXGi+X4h1aJpLey87MSxglRM5wGCsQ21cZIHXGDX5Tlvj1wfjI1pqtKEaUeZuUJJNXS93e7baSTs30W59bifD7OqLgnBSc3ayknZ2vr8uux9A0V8d2/7f3ja3ulubjSdDeykOAgt5UBx/dfeefz+lfQvwC/aN0D9oXRryXSZfLv9JkWHUbF2DSWbsMjkcFTg4PqrAgEED2uDvFnh3ibEyweW1JKqlflnFxbXddH3te9tbWucec8GZpllH6xiIXh1cXdL17a6dr6Hf0UVy3xr+LmlfAj4V634s1l9thots07IGAad+iRLnjc7lVHuwr9IlJRi5S2R8jVqwpQdWo7RSu32SJte+MPhLwr4lh0XU/FPhzTtYuSohsLrUoYbmUscLtjZgxyemBzXR1+UP7PP7OWvftkeN/F3x68RWwu7nRbtprLcCRPMRl1jB6pbxbdoPQ7dvKmv0V/Zh+LX/C0Ph8iXMm/VtJ2291k/NIMfJJ/wIDn3Vq+CwvHtCfEceHsRSdOVSn7SlJ7VLSalFecUlL0v0SbXD0cRmmSPPVFKnzuKX2uX7MpduZ3X3au56TRRRX35qFFFFABRRRQAUUUUAFFFFABRRRQAUUUUAFFFFABRRRQAUUUUAFFFFABRRRQAUUUUAFFFFABRRRQAUUUUAFFFFABRRRQAVW1fV7XQNKub6+uILOys4mnnnmcJHDGoJZmY8AAAkk+lWa+If2k/GXxY/ag+M2o/s5+ItC8MfDnwv4tQTjXotYurq78TaPFIrXcVji1ESXHl4WSOZ1KLKSu9fmMtu6jFXb/rf0172T00GrJc09lv/X9an26rh1BBBBGQR3pa+P8A9jD45fGWH4rt8H9U8P8AhLxdoHwzgi0jW/HVnq93EBIkY8uBopbUCW9MXltIkbmNN/MgJCn7ArSSVlKDvF7ea6O3mRFv4ZKzW/qFFfGPxf8Ai7ZftXeM7b/hLb//AIQj9nXRtdutAutQuNcawfx3q0cv2dLYiLDRWKSpOCWlXzXjUEbRzxfw9+J/hL9mzxvYfEX4P+FPH1n8B5L690bxQunWM9/ot1HFB5ia3ZW4Z5I4o5laGSVEVJFJYB9u6og1Jcz0X/DWv2vdedmm7LVVO6fKtWv+De3e1n800tdD9AqKp+HvEFl4s0Cy1TTbqG907UreO6tbiFt0c8TqGR1PcFSCPrVyqaadmJNNXWwV+bH/AAUzuH8Uftv6RpesTPZaRFa2Fqk27ASCSQtJKOwIZ3Gf9gelfpPXzz+29+xJa/tK3Gl+ILIAeINEjMLQs+xNTt8sywlv4SrkkHjIdgSMgr+ceKeT4vMchnDBRc5QlGfIt5qN7xS6vqlu7WWp9/4bZ3hMszlVsY+WMoyjzfyt7P8AC3z10PddE8K6boHhuHSbO0gj02GLyVg27kK985+9nnJOSSSTnNfHMPh+w8Y/ttPpWsxRRaYurSWyW5AEZjhRhBFjptYJGuPRsU+x8ffG3wdoy+HIbPxHHHCnkwgaT5skadAEk2EkAcAgnAHBGKr/AB5/Zi+J3if4V2nirR7Bo/GMUYTUbdbn/TZ1jwEuYscecVADDduym4As2B+E8XcSPjSGDo5VldZfUpwq1KdSnywcY6Ommr3faNleN7K6sfW8P5Mspr1Vi8ZT/wBoThGanqm9pu9rebu9ba9T7L1/wrpviTw3PpN9aQTabNF5LwFcIExgYx93HYjBGBjGK/On/gmXcN4X/bf1fS9Hle90eW1v7V5t2Q8EcgaOU9jlkQZ/2z61nav8W/2o/iD4dk8G3Gn+N2SWPyLgjQTb3EkZGMST+WrBSOCxYbgeSc8/UP8AwT1/Ygn/AGZNJvdd8RmCTxdrEQtzHDJvj063yGMW4cM7MFLEZHyKAepP6J9fnxVxBgMTl2EnShhm5TqTjy6ae4rXvs1a/V6JXZqsvp8L5FjsPj8TCrPEJRhCEubv772tvf5LVuyPpeuG/aU+AmkftPfA7xF4G1svHY6/amEToMvaSgh4plHdkkVWA6Hbg8E13NFfvtCvUo1I1qTtKLTT7Nao/C61KFWnKlUV4yVmu6Z+eGgf8EQtf8L6RBY2PxSWC1t12oq6fKPck4mAyTknjqa+nP2Gv2KLL9jXwdq1sdVfXta125Wa7vmjMYEaAiOFFLHCqS7epLnOcCvc6K9niDiTHZ37J5k4zdJtwfJFON1Z2aSeq3XkjDJMFDKKNbD5e3CFZRU48zalyu8bpt7PYKKKK8E6wooooAKKKKACiiigAooooAKKKKACiiigAooooAKKKKACiiigAooooAKKKKACiiigAooooAKKKKACiiigAooooAKKKKACvn/9pb9hC3/ap+PXh3xL4g8WeItM8N+HNGuNMGjaJdyWEupm5kRpxNcxsJFiZYoVKRlWbBy4GVP0BRSsrqXb/Jr8mx3dmu/+d/0PEP2Rf2OpP2SfFHj1rbxfrninRPGN7balbx61Ibi/sJo4fIdWuCczKY44ArMN4EfzFj81e30UVTbdr9El92iJSS2/q58veOP2AfFTad4q8O+D/iTo2m/DzxheXOoXvhXxL4Mi8Q2lvNcyGWcQP9ogZInlZpNjb9rMSpFWLv8AZO+OWq+CG8LzfHfwtpvhyaz/ALNkg0X4axWU8NqU2GOB2vpEiOzhT5bbeMDivpmio5Vy8nTbvotF+BV3zc3Xf5vd/MxPht4A074UfDzQvC+jxvFpPh3T4NMs0dtzLDDGsaAnudqjJrboorSUnKTlLdkRioxUY7IKKKKkoKKKKACiiigAry/9rv45an8AvhJDqWh2WnX2v63rWmeHNLXUZWisYbq/u4rWOWcr8xiQy7iq/M+0KCpbcPUKw/iR8NdA+MHgjUPDfijSLHXdC1SPy7qyvIhJFMAQw4PQhgGDDlWUEEEA0n09VfpdX1V+l1pfpuP+vn0dutu3XY+R/wBmD9qv4weGvi3aaF8Tda8HeOdK8W+P9e8GafNomhSaLeaTc2ME90rbHup1mtWjtpFAJEkTFN0koYldGw/4K76CjeOIdT8P6WLvwn4S1bxetlonjDT9bu1h07yvtFperbMVs7v99FhN8qH58SfLz6T+z3/wTc+Fv7Nuq67qGjWGt6pqmuTXrfbtd1u71W50+G7IM1vbSTyOYUOACVw74G9nIBrlLD/glJ4XPhRtE1b4gfEvXtNt/BOp/D3S4bqXS4Ro2j3yWyPFD9nsY90ka2seyWbzH5beX4wop+yjGW6hZ+cuR6/+BWfZpvXRc1w5PbXl8Lnf/t3nvp5cundWX8z5ef8Ah3+2x4e+DeufFDSI9Q+JXj8fD/wNJ4zvNR1u9t5YIktYg7aTbOkcYkliWRPMmcO5dwskruhCey/s2ftSX/x08a+JfD+r+DrrwhqnhzT9M1QpLqMN6tzBfrO0RDRjAI8hsg+ormdT/wCCangS4+H/APwjVhqni3RNNk8ISeCbo2d5C099YTXS3N200ssMjNPcsJBLNkMRPIwKuQ6+p+C/gZo3gL4qeI/F1hJerfeJtP07TLi3d0NtBDYicQ+UoUMCRcPuyzA4XAGDna6ablvqvulKz+ceTe9rO93q+Zc9kvP8OWGn/gXtL+qtpouzrwL9rr9pG7/Z7+NnwiNzrUejeDNUm1yfxMZII3WW2tNKmuUJZlLptkRT8hBY4BznFe+15f8AH/8AZG8J/tL+Ofh7rnig6nM3w21d9a0+ygnWO0vZzHsUXKbSZEQ7ZAoZRvRd24DaeeopNWjpqvuur+unTrsavY8J/Z0/bB+LOo6T8btY8X+HbW8uvDviay/sjQri/s9Ht/CmlXOkWl6q394/QxLMWncCZhIzBFKAY3vAX/BVTwz4r8Z/CTR77w7qemL8V49Y+z6mt1Dc6ZYvp93HZh/tCkCW3uZpY1t51AEnmxcDeBXpPir9j6y1fV/Gmq6L408d+D9d8a63aa/cajo15bK9pPbWMViqJFNBJDLA0MQ3xXMcylzuABVNvFaZ/wAErvhm+hQafr8/iTxdbnStb0vUBqd1FH/ax1fUbbUru5k+zRQ+VMLm1jaP7P5SR5bCZwRrQtdKeyXz0hpr/itdvW+uqbtdflcfcfvadNN/edn+CWltLqyb469/4LLeBR8KpPEi2Vno327xldeENEbxTrttoOn6j5Fqt39vku5spBbSQOrplWdvMjAQluNHwN/wWM+E+uL4Hm8Qa54Y8H6X4yTXIv7a1DxRYf2Nb3WlT28MkMV75ghuBL9oDxOjfMiklVIKjvdZ/wCCf3hd4bmfQNf8WeDdbHiV/FOmavo8toLjQ7l7GKweGCOa3kga3a3iCmKeKUck8EIV2/CP7Hmj+HvHvgvxTqPibxl4q8Q+CtO1bTor7W72K4fUf7Smt5riWYCJVVg1sgjSERRRqSqxhQoVenZffyK/y57/AHq2iaIV38Wmr27c0rfhy/c766nnegf8FTfB+q+FdE1ufSdQi07X/BU3jKya3mS6e8C38djBZQqv+tnnlljEYU4YuB3zTtH/AOChOveLdJ+EOoaJ8KdRv7H4zWEV5o0kmvWsDQObFr2SKZSDgpGjjIyGI461veDP+Cbvw/8ABvj3wB4hF14l1G7+G2h3WhaPBeXkbW22eYym5ljSNQ9wm51RvuqHYhd2GHT+Bf2OvDPw+8N/CDS7O+12S3+CsBt9DaaaIvdKbGSx/wBJIjAc+VIx+QJ8wB6fLRQ/h3q/Ff5W5p/+28n3eop82vL5W/8AAY3/APJua3r6GT8Ff2/fh58Yfiz4l8BnXNJ0Xxr4f8RXvh6PRLzUIhe6k1qodpoY8gspXcwUZIEbHoDXt9fP/hb/AIJ5aD4Y+NU3i5vG3xA1HT38WXPjeHwvczWA0e11aeJomuFMdol0wVXbaklwyAnJUkCvoClC/soc/wAVlf1sr/8Ak1++ln1sm9KkrfDd29OZ2/8AJbfO61td+J/8FGvix4g+Bn7EHxH8WeFdSn0fxDoelGexvYbWK6ktn8xF3LFKjxu2CcBkYZ7Gvn/wJ+3L4i+A3iXxxN4j174m+O/DOheHbHVoIPHXhiz8M67Lczaglo4s0htLRbi1RZIzI5hOx3jXzDv2j62/aO+BOl/tN/A/xH4C1q91TTtM8TWv2S4utNeNLuAblYNGZUkQMCo+8jD2rx7xn/wTH0L4r+HPEVt44+JPxU8Z6xr2kjQoddvbzTrPUNDs/tMF08dn9isoIIy81tAzSNE0h8pcMNoxEVJVXPpbbu7S9erjd6aa62sKonKHKnZ3X/pUW/wT/LS9xNf/AOCnfhXT4/j3NYaFrOqWPwF0OPWry8Ro0g14H7assdoSeRHNYzwl2wpkRgMhc16L+zv+0XqHxp8UeMtD1jwnceEtY8F3FpDcwSahFerMLm3W4RleMAfdYZB75ryv4/f8E0rHxj4U1DSPAOu6h4IsvFNl4d8L65DavbiODQNLnu5TDarLbTDz5BduG80MrhVB25bd1f7OP7Jfiv8AZ/8A2i/GXiS7+JPiPx54f8Z6XZm7/wCEhTTkv11K3LRK6iysbaMQ/ZhGvUncCcd62bi5csL22u+top3SWyb0V3vp5tTbvdLTR/fZW+Tu35O/ke+V8sf8FGfjT4q+GvxD+Deh+H/Ffjzwpp3i/VtSt9Wm8HeHbTXNXnjgsJJ41jguLO7GPMUFisWdueQK+p68q/aP/ZXh/aH8QeDdZh8aeMvAmveBbu5vNL1Lw7/Z7TBri3a3lV0vbW5iZTGxH3AQTnNYVVJxXL3X5q/4FHiP7PH7cPi65+Hem6A+n6n8SfiJrHiTWdL0i01ZLfw5qSafYeWzXWsRrGFs5Qs0HyR24Zhc27CFQ7be6+IX7anjLwBH8Pln+DWtreeP9SGhQ2lzrtnBLY6iI7uVon5ZWj8u0d1lU4YOnAJIEsP/AATq0DStHtLnSfG3xA0jx7a6xc67J45huLGXXL26uYIre4M6S2r2TxvDBBH5X2YRqLeIoqlAa7KL9lDSJfDnw6sdQ8Q+MNbuPhtrn/CRWmo6nqK3V7qd4YLqBjdOyYKEXkp2RCNUIRUCIoStf5VfZwv5rRSa/F6pNuzsloELa83advX3nC//AJKtG1a/XU85+Mn/AAUe0/4G/H3TPBmvaLolrHfajpmlMH8Yaf8A228l/JDDFPBpYYzy2qTTojyMY3G2RljZVDNzvwX/AOCuvhX4zfHOfwLZ6JD/AGjFq+uaM0Nr4hsb3UbN9LNyJJ7uxR/tFrbSfZmCSuuC0sIP+sFdt49/4J26F4++IOs6tJ438e6do3iDxLpvjC/8OWT6eun3Gq2Mlo8VwZHtGu8H7FCrRfaPLxuwqkgjP8Af8EyfDXgTxpb6i/jr4ia1o+neIdW8U6Z4evpNMXT9L1HUWuzPNG8FlHdOB9tuQqSzyIBJyrFVIF/B1+O0vlpG33Pmt3Vr8t7KrLm8tPuV/wA/dv215b296P4Gf8FKtJ/aP+A918RfCPhXUNQ8N6b4bg1m9updTtLW3hvZY1lOmieZ0iMkCMDPIXWOLIXLOGRep/Yy/bW0v9r2LxRb2sWgJqPhK4t47uTQfEdv4h0q5juIvNhkgvIQofgMrKyKysp4IKseV0H/AIJW+APCXwhfwVpGueNdM0afw7pehXIhvLYm8m00wmx1ORGtzGb2IW8alggjlRQssUiqgX0n4AfswW/wJ8V+K/EEvi3xZ4z8ReNfsR1bUddNmrytaxNFEUjtLeCKP5GwQqAHAOMkk6VOX2kuT4en3v8AT7lbd3tgvacsb7319OX/AD/G+iVkeoV4L+0v488WeKP2hvAXwj8JeJ7rwI/ijSNV8R6r4gsrS2ur+G0sZLOEW1qt1HLAskkt6hLyRSbUiYBcsGX3qvNv2g/2ZtP+Pk+g6kmv+JfBnirwrNLLo/iLw/NBHf2IlUJNFieKaCWGQKu+OWJ1JRGwGVWGWnMm1ddvk7fc7O3VK3U2WzXX+v008t+h5jrHxf8AiT+xzp2ieH/FTXPxr1Hxr4vHh/whewC10vU5IXsJrrOpBI4rVfKa2nBkgQZi2N5e8FWxPH//AAVa0H4TeDJY/F2j6R4P8d23il/CFzpGv+KbTTtJtrtbNL/zm1SQCMWzWskTq3l+YWkWPyg2QKHxk/4J06o0/wAOV8MeKPGuoa4PiKPFni3xpdajaLrgK6PeWUdyg8lbbEZa2jW3S38nYCGiYF89/D/wTz0W18NxvF46+IEXj2PxBL4oPjtZrD+3JL+S2Fm7NGbX7CYjaqkHkm18oIikLvAenvFtvVWWi7ez9Lq3Om3a7s1rdKp8qceXqr/O899/7jSW3pa+B4M/4KXWfxW+HfgPVvBfhNfFepeONe1Pw7Ha2HiGzks4bmwinlmkjvULQzwskDMjp94OuQpyoXxZ/wAFKLbRv2c/ht8Q7Xw9odnafEbTv7SgTxP4z0/w/b2nyowtRNMS01y+/wCRI4yh2NudPl3R+KP2APF/if4weEtSHxu+JWnaR4L0a7W01GK40y81m91W8nc3VxMt3p09usZgKRosCRrENyIiIcHM+BX/AATN1P4e/DrwlpWo/E7xfp+q/D+PVvDej6po502W4v8AwzcXayW9ld/aNPMYlEMFuHlgjjkDK22Qg5qHzSvy6f8AAuvuk7NX1UbvVrlZBKKblrqrejV9fOK000ctNE7ruvin/wAFAvDfw5/YX0f48x6dc3XhrXLTSL23t7u7hsXhj1Ga3hjaaV2MUSxm4VnYttAVjnHNcP4e/wCCvfgK98E6N4h1OC007QdT8bnwRLrVvrlpqOjRzf2c9/8AaYr2BminhCr5TbcFZdykfKTXo/ib9g/wx4i/Yy8P/BGPXfFemeHvDFtpNvp2q201q2rRHTZ4J7aQtLA8DPvt4y26Eq3PyjNctq3/AATM0jWLG1un+J3xRTxja+KYvF//AAlsbaOupy3kVhJp8atF/Z/2IRLbSsuFtgScEsTzWs+X2s3D4eZW/wAPNH8eXm3a3WooqPs0pfFZ/fyu3/k1tl8rFn4qf8FJvCngbQPGOq6FZ/8ACaaX4W8NaP4mgvdK1CF7bV4dSvriyiSGTlcq9sxYk45A6g1Qv/8Agorf+H/FPiPwnqnw01S28eaZqGj6TpeiQ6xbTrrVzqUdzLEBOMJEkcVrPJIzAlUjYhWOFNqz/wCCW/w9sfAfiHQE1Xxh5HinSLDSdSuGvIGuJza6ndambncYdonmurydpPl2YICJHiuo+J37C3hf4neNvFPiZ9Z8VaP4j8STaReQajp1zDHNod1pizLbXFqHiZdxW4lV1mEsbqxUpgkGKl1Jcmqur9+W+tttbaK+noRq5O21lb15eu+nNq7a226HOX37fGoaJ4XvbfUPh5f2/j7SvF2n+Drzw6mrwPF9ovo0ltriK7wFe3eORTuZEYFXUoCvOLon/BWHwHpGq+Ebb4gNpfwvj8UzeJLNrzxF4gs7WysrrRb6OymgM7sqO0ruWTaeVRq7Twd+wZofh7WtM1XVPFvjbxVrFt4jHivU73VZrPf4h1CO2FtbPcrDbRosdtGq+VFbrCgZQzK55q58P/2F/CHw5+Jmh+KrS91+5v8AQJvEk9vFdTQvA7a5fx313uAiBOyWNViww2oSG3n5qUeZX5rXv07ckf8A2/mfpb0K938vznf5W5LfP1PG/G3/AAWc8C+HfCHgi+tv+EQt7/xn4ffxTHb+I/G+n+H7dbATvAnk3E523E8rRv5aINuEYvIg27tDxL/wWl+D3g/RNUv9W1jTNDjj+HWn/ETRINY1m00658Sw3kd28dlaxSuDJcD7LtIXcMzR4zmu5j/4J5aR4Z0Tw1D4O8f/ABF8Ban4c0iTQG1bRp9Pe71SwedpxBcLc2k0J2SO7RyRxpIm99rjcc6/iX9g7wh4rk8eveal4pnf4ieBrXwBqUk1+tzNHY26XiJNHLLG8huWF9KWklaQMVQlc7twr+xlf49bf+TW/wDbNe6lpa19I8ntY83w+7f7483/ALfZJ7W1vtwfx0/4KseE/gF4T+IWpap4e1q8ufAttpk8NhZuj3GsteWL3zCIHAVYLeOWSR2OFSJj6A683/BRK0f49J4OtvCN5JYDxdD4Km1SXVbWOSO+ktBdbhabjMYQjAByF3E5A24Yy+NP+CYXw68faz8SdR1G78USX/xM8KR+Drub7ZEf7Js1tltneyUxFIppUSLzHZX3GGMYCjbWzq//AAT48A+IvjpF8SdS/tPUfGtrrdnrFpqtwLZp7KK0gkhh0+JhCClp+9ldlB3u7ktIcADZ8nOmtubX/DzR+98vM+mr391c3N7/ALG32rPXz5dPlzaddvP3fc6KKKzNAooooAzPtWsf8+Om/wDgc/8A8Zo+1ax/z46b/wCBz/8AxmtOuL+Lf7Rfgb4DtZL4w8UaRoEupbzaw3U4E1wqY3sqDLFVyNzYwuRkjNF0tws3sdD9q1j/AJ8dN/8AA5//AIzR9q1j/nx03/wOf/4zUvhvxLp3jLQLPVdIvrPVNM1CFbi1u7SZZoLmNhlXR1JVlI6EHFLJ4k0+HxDDpL39kuq3Fu93FZGdRcSwoyq8ix53FFZ0BYDALqD1FFmnyvcV01dbEP2rWP8Anx03/wADn/8AjNH2rWP+fHTf/A5//jNP8M+LdK8aac15o+p6fq1ok0ls09lcJPGssblJIyykjcjqysOoIIPIrQoGZn2rWP8Anx03/wADn/8AjNH2rWP+fHTf/A5//jNadFAGZ9q1j/nx03/wOf8A+M0fatY/58dN/wDA5/8A4zWnRQBmfatY/wCfHTf/AAOf/wCM0fatY/58dN/8Dn/+M1p0UAZn2rWP+fHTf/A5/wD4zR9q1j/nx03/AMDn/wDjNS3F5IniS0gDfupLaeRlx1ZWiAOevRm/Or1AGZ9q1j/nx03/AMDn/wDjNH2rWP8Anx03/wADn/8AjNadR213FeRlopElUMyFkYMAykgjjuCCD7igCh9q1j/nx03/AMDn/wDjNH2rWP8Anx03/wADn/8AjNTav4j0/wAPy2aX99Z2T6jcC0tFuJ1jN1MVZhFGCRucqrHaMnCk44NM03xbpWs65qOmWmp6fdalpBjF/aQ3CPPZGRd0fmoDuTcvK7gMjkUAM+1ax/z46b/4HP8A/GaPtWsf8+Om/wDgc/8A8ZrTooAzPtWsf8+Om/8Agc//AMZo+1ax/wA+Om/+Bz//ABmtOo7m7is4w0siRKWVAXYKCzEADnuSQB7mgCh9q1j/AJ8dN/8AA5//AIzR9q1j/nx03/wOf/4zWnXmfiz9tL4OeAvEl5o2ufFn4Z6Lq+nSGG7sb/xRY29zauOqvG8oZW9iAaL62Dpc7n7VrH/Pjpv/AIHP/wDGaPtWsf8APjpv/gc//wAZq9Y38OqWMNzbTRXFtcIssUsTh0lRhlWVhwQQQQRUtDutGCd9UZn2rWP+fHTf/A5//jNH2rWP+fHTf/A5/wD4zWnRQBmfatY/58dN/wDA5/8A4zR9q1j/AJ8dN/8AA5//AIzWnVG3vJH8SXcBb91HbQSKuOjM0oJz16Kv5UARfatY/wCfHTf/AAOf/wCM0fatY/58dN/8Dn/+M1p0jMFHJxzjmgDN+1ax/wA+Om/+Bz//ABmj7VrH/Pjpv/gc/wD8ZrTrk/ij8efA3wOisn8a+M/Cng9NSZ1tG1vV7fTxdFMbhGZXXcRuXOM43D1ouG5s/atY/wCfHTf/AAOf/wCM0fatY/58dN/8Dn/+M1Y0HX7HxVo1tqOmXtpqOn3sYmt7q1mWaGdD0ZHUlWB9Qat0O60YJ31RmfatY/58dN/8Dn/+M0fatY/58dN/8Dn/APjNadFAGZ9q1j/nx03/AMDn/wDjNH2rWP8Anx03/wADn/8AjNadFAGZ9q1j/nx03/wOf/4zR9q1j/nx03/wOf8A+M1p0UAZn2rWP+fHTf8AwOf/AOM0fatY/wCfHTf/AAOf/wCM1p0UAZn2rWP+fHTf/A5//jNH2rWP+fHTf/A5/wD4zWnRQBmfatY/58dN/wDA5/8A4zR9q1j/AJ8dN/8AA5//AIzWnRQBmfatY/58dN/8Dn/+M0fatY/58dN/8Dn/APjNadFAGZ9q1j/nx03/AMDn/wDjNH2rWP8Anx03/wADn/8AjNadFAGZ9q1j/nx03/wOf/4zR9q1j/nx03/wOf8A+M1p0UAFeEfEDS/Fnwf/AGnNV8eaT4C1P4i6b4n0Gy0cppN5ZQajosttLcPjbeTQxtbzeepJSTcrRcowII93opW1T/rawdGn/Wt/0Pn39gXxL/YvhjxD4J1zTm8K+NdL1vUdZvPDUjKV0+1vb2a4ga1dSUmtsPt8xOA4kUhCNo4z9uHwh498cftKaNp/w81a10rWZfh9rPnK8bLc39v9v0zzLa2uA4FpPIuVWdkkCE52g4dfqefw1p114gt9WksLKTVLSGS2gvGgU3EMUhUvGr43BWKISAcEouegq9Q0m4P+VNffGUOvk7u977PcLv3vN3/8mUnt5p2ta3yPjK5+Lfw/1ObwrZXPibWvhb8J9P8ACzwaNa2mrT+H2ttaguGinsLh4nR2urdVjC2rswlZ5Dslxkcd4J/aZ+KXwp+IcvivxO/iLXEu/B3h/R7vw7IrhYNavYbl7O48gfLA808awS4AAa4j3YCcff1FN6rXq7/fzX+dpWT6WjvZCSs9NrWt6JW+V1drq29rnwb4e+JOreCP2ZvC+j+P/Gmv6jqMnjXxFpl7rl/40ufDGn3L215cokVxqMMclxEDgCCCIqGKBSdq7Tofs8fHz4p+OE+Hl1o39m+KLq88AavLf2+teJ7rToN1vqyW8dxvSzmM1wqKF3PFGxyxJBJWvuKipmuby/8A2HD9b/K3mPr/AF/Opfkrfj5HwbrX7Q3hnXfhZ+zX4a8d/Fibwrdaj4PTxN4infx1PoF3ep/Zqxwma6S4hmkMl1KGALfOYZDg7TVDwF+13qeh+F/grq0Xxl8FaPDqfwqe4uZvF93LqVtr+oRT2qPGpF7AWvdwkQv+9kHzjYTmvuiw8A6TpnjvUvEsFps1vV7O2sLu581z5sFu0zwpsJ2ja1xKcgAnfyTgYPAvgHSfhroT6botp9ispLu5vmj815MzXE73EzZck/NLI7YzgbsAAACtJy5pyqLRtt/hNL7lJerjtrorWjyb7L8Yt/imvR3vc8i/ZD+KOufFTx949v8AWodT0xp7bQLxNGu5ncaM9xpcU0sCq2NhDsd2FGSCSM17tRRRJpybirIUE1FJu7My6/5HCx/687n/ANDgrTrPuYXbxVZyBGMa2lwrNjgEvDgE+pwfyNaFSUc78ToPFlx4Z2+Dbnw9aaz5qnzNatZri28vncNsUkbbumDux14rwL/gnZZ/EyPwhqD63qPgWbw2PFXiUTRWOnXUV81x/a95vKu87II/N3EAoTtwMk819P0UR0bf9dAn70VHs0/wf+f6Hgf7edjrmp23wqg8Najp2ka7L48tVs7y/sWvre3f7DffM8KyxM4xngSLzg84wfG/DPi63+Hnws8OeEPEep6v4KutP8VPH8XtWXU3s7uaWW0uJYtRe/jMbxWd3OkGy4QxhExDmPYVX7gopQXKpLu7/wDpOn/kuvR6XXuhP3mntZW/9K1/8m06rWz1Z+fOtftG+FtZ8V+G/BXiX4w3uh+ELbW9a1XTtTufHc+hXmr6JFarFaF71LiGa4jN7LKsTs7GZLUvlwpY/Vf7Bfjn/hZP7F/wx1p9abxDcXvhyz+06i94byS5uFjCTGSUsxeQSK6uSS25WB5Br0Kw8A6TpnjvUvEsFps1vV7O2sLu581z5sFu0zwpsJ2ja1xKcgAnfyTgYd4I8C6V8ONAOmaNa/Y7E3VzemLzXk/fXNxJcTNlyT80ssjYzgbsAAAAXF2i4vd8uv8AhTV/Vpq76tfcrK9/N2+etvJJ6JdjXr5g/wCCiVn8TJPCGnvomo+BYfDh8V+GxbxX2nXUt6tx/a9nsLOk6oY/N2kgIDtyAQea+n6Kn7UZdmn9zTH0a7po534YweK7fwzt8ZXPh671nzWPmaLazW9t5fG0bZZJG3dcndjpxXnvxk/5PA+C/wD1w17/ANJoa9kooerDY+Jbb4m+PNY/bBvNPufEOh6Jrtn42W2tdLvvG+oQ3F5oIZBiHQksmt50kgLOLrzSVkJ3SxhDGMX4Z/Gv4m3HhrUpdV1DVE1WLQ/Eknw4jh1Ka6h8UajFd3wdbssF33MMaRCG0benlh3VnK4h+9KKhRapxp9k198Ur/hf1be7uO/711PPb/t69vTp6JK9tD5f+EOm+Bfiv4c17T/DPxP+IPi2zOiwXeqCHxZqTNY3ylm3fbY5lltZ25ElmkiIAozEo6+g/sF6MbD9kbwDfzal4h1e/wDEOh2Or393rOt3mrXE1zNawmRhJcyyMikjPloQgJYhQWOfX6K1uvest7fK3N/ml5KKW1rQotWu9v8Agf5N+bbe97lZlr/yOF9/1523/oc9adZ9tC6+KryQowja0t1VscEh5sgH1GR+YqSjQrwn/gpPYjUv2QNehez1i/hbUtGM1vpKTNfTRDVbQuIRDiXzNobGwhs9CDXu1FJq9vVfg7jTs7niX7GOl/E3TdC1f/hNpbtfDTzKfC9prkqXPiW1tccjUJ4v3LN/dUb5Av8ArJHfOOH/AG5PiH/wrL9pv4Qal/wnngH4dZ0vxBD/AGt4wtvP047v7P8A3QX7XafvGxx+96K3ynt9S0U5e80+3+VtfPuTBcv9fl5H59fD7406h8HNK+EyQ/EnwZ8PdM1H/hNJbjVPE0T/ANgeJZf7UtZI7m3t/tdoFWUyyyQDe+yN2C+YD5h6Dxb8cfFfxd8MeJb2/vPEfhc61o3w/kex0/VbuwaxN7r08F00Do0csPnRAAspVym0E8V9y0U9NE+jT9dW/wAfu8h69P695P8A4Gt35nxx4ofWPgzcfGLRNB8ReOBoGlaz4YS6urzX9Q1q90XTbny/7Rmgmu5ZpY8RGRiyn5AC4AK5GNP48t/HHij/AIV/4M8e+KNf8EeJPFeix6JqNn4rvri9uYYle41iK31NJvtMttHGkG+QTMEe5Me8cKPuCilHR3lrqn9zi7P+77u3m+4pK8bLTRr0unqvPX8F6nxf4Y8X+NvB1r4A0vwrfah4guovix4l0aO18ReLL9UvbKC31Ty4Li8dLqaRIxGjKHST5o06Y3DNm/aF+IHhLwr4Fv5l1DUvFGpfFrxLof8AY1nq1xeWlw/l6oltavMyRs1nFIsTbmjUIkO4Iu0CvuKihXtaTvol56ct36vlfe1/vc9W+XTVv7+e33c67fD93w5P4c8Qap+wx4lvPEnjnx3qXivwn431HTl1nT/E+o6TJMDraQOCtrPGDGEysaNuESnCbav/ABh+PWp/sm/tCeMNG0T4geH4bTRfB2k3uk+EvF9/favqnie4M+pF4LCWW+E32iQrHGW8q4YkwjGEAP2pRRrpbpb8Fa/bz6hp719bt/K8ua36aWPl7/go38Qbjwronwokl1e28OWGreJXi1FNR8dXnguzlT+y72RYrjUbQNLGBIqEKFId0UHrkeWfC/4wJ4j8P+Govib8Rdd8O+A1g1wWGtWfiy6trTUb6PUQltDFqyNHLfJHbMPIMhBusSFo3K4H3pRSSs2+99Plb71ununYHdpLtbX0bf43s1s18rfBfx++K3jyPx2unJ4wt9Ex4U0q48G6n4j8V3/hSbUr6RJfOnbTrexlXUbgyCISWcn3RtAiUybq+77Iymzi8/Z52weZszt3Y5xnnGaloq+bRrzb+8nl1T8rfgv68rmb4x0zUNZ8LX9rpOpnRtTngZLW++zrcfZZcfK5jb5XAOMqcZGeR1r5H/Y3t/2wdf8A2htdtfjBrPhbTfAfhe4MUU2naVCJPE5IyhgbJMcWCC7MAwPyAZ3Ffsqipj7s+fytbp6/18yp+9Hl/wCH9P6+QUUUUAFFFFABRRRQBmfatY/58dN/8Dn/APjNH2rWP+fHTf8AwOf/AOM1p0UAZn2rWP8Anx03/wADn/8AjNH2rWP+fHTf/A5//jNadFAGZ9q1j/nx03/wOf8A+M0fatY/58dN/wDA5/8A4zWnRQBmfatY/wCfHTf/AAOf/wCM0fatY/58dN/8Dn/+M1p0UAZn2rWP+fHTf/A5/wD4zR9q1j/nx03/AMDn/wDjNadFAGZ9q1j/AJ8dN/8AA5//AIzR9q1j/nx03/wOf/4zWnRQBmfatY/58dN/8Dn/APjNH2rWP+fHTf8AwOf/AOM1p0UAZn2rWP8Anx03/wADn/8AjNH2rWP+fHTf/A5//jNadFAGZ9q1j/nx03/wOf8A+M0fatY/58dN/wDA5/8A4zWnRQBmfatY/wCfHTf/AAOf/wCM0fatY/58dN/8Dn/+M1p0UAZn2rWP+fHTf/A5/wD4zR9q1j/nx03/AMDn/wDjNadFAGZ9q1j/AJ8dN/8AA5//AIzR9q1j/nx03/wOf/4zWnRQBmfatY/58dN/8Dn/APjNH2rWP+fHTf8AwOf/AOM1p0UAZn2rWP8Anx03/wADn/8AjNH2rWP+fHTf/A5//jNadFAGZ9q1j/nx03/wOf8A+M0fatY/58dN/wDA5/8A4zWnRQBmfatY/wCfHTf/AAOf/wCM0fatY/58dN/8Dn/+M1p0UAZn2rWP+fHTf/A5/wD4zR9q1j/nx03/AMDn/wDjNadFAGZ9q1j/AJ8dN/8AA5//AIzR9q1j/nx03/wOf/4zWnRQBmfatY/58dN/8Dn/APjNH2rWP+fHTf8AwOf/AOM1p0UAZn2rWP8Anx03/wADn/8AjNH2rWP+fHTf/A5//jNadFAGZ9q1j/nx03/wOf8A+M0fatY/58dN/wDA5/8A4zWnRQBmfatY/wCfHTf/AAOf/wCM0fatY/58dN/8Dn/+M1p0UAZn2rWP+fHTf/A5/wD4zR9q1j/nx03/AMDn/wDjNadFAGZ9q1j/AJ8dN/8AA5//AIzR9q1j/nx03/wOf/4zWnRQBmfatY/58dN/8Dn/APjNH2rWP+fHTf8AwOf/AOM1p0UAZn2rWP8Anx03/wADn/8AjNH2rWP+fHTf/A5//jNadFAGZ9q1j/nx03/wOf8A+M0fatY/58dN/wDA5/8A4zWnRQByfxv+OXhT9nD4Z6j4x8bazBoHhvSQn2q8lR5Ahd1RAERWdmLMAAqk89K5jW/24Pg54X0nQ73Vvih4E0a38S6bFrGlnUtat7N76zlz5c6JKysUbawzjqpHUEVg/wDBRx7pP2OPGH2P4YJ8YbgxwBfCrxPKL7/SI/n2IDIxj/1gEY3ZQYI6jyzxrfa9H4C+HP2X9jTSvGWfCNiZbaW+0i3/AOEXfDZ0tVulD7YuDwAP3mMBg1AHvXw9/bK+Efxb8W22g+Fvid4B8R65eBzb6fpmv2t1czhFLvtjRyxwqsxwOACe1elV8p/syX2vTfGjSlvf2QNK+FNsVn3+J4dR0SZ9P/cvgBbYeafMOI/l/v8APGa+rKACiua+M3xMtfgt8HvFfjG9hlubLwno15rNxDF9+WO2geZlX3IQgfWvkX4A/s+/Hv8Aab+Cnhb4var+0j4s8HeM/Gen2viGw8P6No+nT+E9FtblEnjspLWWEz3W2JwrSm4VixJBGBQB9v0V8iftL/8ABXXw1+z38YPFvhCx8J6r41m+Gdjb3/jS6stX0yw/slJ4jOkdvBd3Ect5P5IMhjhBwCq7i7banvf+Cv8A4Bv/AB7qfhTwzo2v+L/E8kuhReGdL0zyvtHixdVsE1BJ4A7L5VvBbOJJpptqRjqcsoIB9aUV8Y+Jf+CwX/CPj4havD8E/iXqvgP4ReI77w9408UWUli1tpLWkmyaeGBpluLqNFIkkMcf7uMgnkEC5+0D/wAFjvB3we+JfiTQNB8M6l49tvAWmWmseKr/AE/WdMsl063uYPtMS20V1cRyXsxt/wB6Y4VOAyDcXbbQB9hUV8h6j/wVK1u7+NvhXwf4b+BPjnxVD4/0uXxD4V1e017RYbXXdJjFuWvkEt2rxptuoW2ShJDv4Q4OO4+D3/BSj4c/GbRfiP8AYNU0+HxJ8NNT13TtQ8NSapatq8q6VLJHJcLbq5cRSeXlGYDhhnFAH0JRXHfs8fGWz/aL+AXgn4gadaXNhp/jjQbLX7a2uSpmt4rqBJ1R9pI3AOAcHGRXY0AFFFFABRRRQAUUUUAFFFFABRRRQAUUUUAFFFFABRRRQAUUUUAFFFFABRRRQAUUUUAFFFFABRRRQAUUUUAFFFFAHBftTfGGf9nz9m3x345tbOLULrwloV5qsNtKxWOeSGFnVWI5CkgZxzjNfP8A4D8T/tp/ELwNo2v2k/7L0NrrljBqEMc1nrvmRpLGsihsSkZAYZwcZr03/gpbz/wT5+M//Ynan/6TvWv+zb8XvCdp+zr4Bil8T+Ho5I/DmnI6PqUIZCLaMEEbuDQB+UvxC/4ON/j98M/iNrnh2+8K/B+4uPD+pT6bcPBpuo7JXhlaNihN5nBKnGR+Ffsb8FfiC3xZ+DnhLxU9sLNvE2jWeqtbh94gM8CS7A3Gcb8Zx2rwn9vOb4X3n7FvxlmtG8BS6rL4L1p4ZITaNcPMbGcqVI+YuWxjHOa9T/Y14/ZB+FX/AGJ2kf8ApFDQI9JrxvxR+2Vpfw4/at0/4Y+LdHv/AA1F4ntY5PC3iG6kQ6b4huufOslYf6qdPk2o5zJk4Aym/wBkr44/4KP68/7W+qv+zV4M0Cy17xTqaW+pa9rl/AxsPAFoW3RXm8EE3rAHyY0YE5Jb5Mggz2PUv2ydLvv2sbD4R+GNHv8AxZrFtC134qvrKRBZ+EIDGxh+0ueGmlcKFhU79pLngYPslfE37Ayzf8E//iZL8APHWmxfbvFd/d6x4X8dQwuV8ds26WZL12LMuoRrnIZiGRRjopk+2aAPMf2xfgr4l/aF/Z28QeEfCHjbUfh7r+qrELbXLLf5ttslR2XKMjgOqlCVYEBj1GQeC8Ufsd/E7XvC3g6xsf2iPHGgXPh3w/a6TqM9pplnOdbuog3mX0hnV3EkmQCNx+6Mkkkn6LooA8E+CH7KXxG+GPxKsNa8QfH7xt450q0WUTaLqGlWEFvdlo2RSzxRhxtZg4weqjPFe90UUAVNe0Kz8UaHe6ZqNtFeafqMD2t1byrujnidSrow7gqSCPevkHwn/wAE8fjZ8IPBcXw58AftJ3Xh34T2a/ZdLguvCMGoeJdBsAeLK21F5ghVE+SOSW3d41CgZ2g19k0UAfFHx8/4JI3vjn4++MfHHgzxd4I0e4+JVtZxeJH8U/Dyy8TXsFxbW4t1vLCaR41glaJV3RukkW8FwgyVNjxN/wAEf7Z/jd4i+Jnhjx63hb4gtc6DceFNZt9Aiz4dTTtPTT57WaGKSKO6tLyFP3kCLAi/JtxsUj7PooA/NT4L/sGfGn46+HP2jPCdz8S7z4efDn4j/FLxLDrmlXXg/ff6hp80yiWbTLqWVRFDdwsY9zxzqMFkOSa9K+MX/BHQaj8ZPE3ib4b+IfAXha08dWFhY6xb+I/h9aeJ7nTms7ZbSK406eaRPJfyEQFJVlj3rv25JB+4aKAPFn/Y7gh/aY+F3xBttcWC2+GXhLUfCkWlrpkUYvUujZ7Zg0Rjjh2CzA8tIdp8z5dgUA/OGkf8ESbgfFTVtY1P4l6TNos3izxL4y0210/wVHZapb3usR3URjudQ+1PJc28SXRHlKkQk8tNxAAA++KKAOE/Zd+Cv/DNn7NXw++Hn9pf21/wgnhzT/D/APaH2f7P9u+y20cHneVufZv2btu5sZxk4zXd0UUAFFFFABRRRQAUUUUAFFFFABRRRQAUUUUAFFFFABRRRQAUUUUAFFFFABRRRQAUUUUAFFFFABRRRQAUUUUAFFFFAFPxBoFj4r0K90vU7O21DTdRge1u7W5iEsNzE6lXjdDkMrKSCDwQa8JP/BKb9nIn/kjvgj/wB/8Ar19BUUAfP0f/AASp/ZzikVh8HfA+VORmwBH4gnBr3uwsINKsIbW1hitra2jWKGGJAkcSKMKqqOAAAAAOmKmooAKYtvGk7ShEEjgKzhfmYDOAT7ZP5mn0UAMkt0meNnRGaJtyErkocEZHocEj6E0+iigAoriv2jvjdYfs2/AjxZ481O1ub6x8KabNqMttbkCW42LkIpPAJOBk9M5rwPSf21v2h9d0a21C0/ZJ1aazvIVuIXHxG0YGSNlDKdpOeQRxjNAH1jRXmH7JX7VWg/td/CePxHo8Nzpl/aTvp2t6LejbfaDfxHE1rOvBDKehwNykHAzgen0AUNfiu5rRFsp/s8vmDLbQ2VweOQfasv8As3Xv+gm3/fiP/wCJroJPvJ/vf0NPoA5waZrx/wCYmf8AvzH/APE0v9la/wD9BM/9+Yv/AImuiooA53+ytf8A+gmf+/MX/wATR/ZWv/8AQTP/AH5i/wDia6KigDnf7K1//oJn/vzF/wDE0f2Vr/8A0Ez/AN+Yv/ia6KigDnf7K1//AKCZ/wC/MX/xNH9la/8A9BM/9+Yv/ia6KigDnf7K1/8A6CZ/78xf/E0f2Vr/AP0Ez/35i/8Aia6KigDnf7K1/wD6CZ/78xf/ABNH9la//wBBM/8AfmL/AOJroqKAOd/srX/+gmf+/MX/AMTR/ZWv/wDQTP8A35i/+JroqKAOd/srX/8AoJn/AL8xf/E0f2Vr/wD0Ez/35i/+JroqKAOd/srX/wDoJn/vzF/8TR/ZWv8A/QTP/fmL/wCJroqKAOd/srX/APoJn/vzF/8AE0f2Vr//AEEz/wB+Yv8A4muiooA53+ytf/6CZ/78xf8AxNH9la//ANBM/wDfmL/4muiooA53+ytf/wCgmf8AvzF/8TR/ZWv/APQTP/fmL/4muiooA53+ytf/AOgmf+/MX/xNH9la/wD9BM/9+Yv/AImuiooA53+ytf8A+gmf+/MX/wATR/ZWv/8AQTP/AH5i/wDia6KigDnf7K1//oJn/vzF/wDE0f2Vr/8A0Ez/AN+Yv/ia6KigDnf7K1//AKCZ/wC/MX/xNH9la/8A9BM/9+Yv/ia6KigDnf7K1/8A6CZ/78xf/E0f2Vr/AP0Ez/35i/8Aia6KigDnf7K1/wD6CZ/78xf/ABNH9la//wBBM/8AfmL/AOJroqKAOd/srX/+gmf+/MX/AMTR/ZWv/wDQTP8A35i/+JroqKAOd/srX/8AoJn/AL8xf/E0f2Vr/wD0Ez/35i/+JroqKAOd/srX/wDoJn/vzF/8TR/ZWv8A/QTP/fmL/wCJroqKAOd/srX/APoJn/vzF/8AE0f2Vr//AEEz/wB+Yv8A4muiooA5w6Zrw/5ibf8AfmP/AOJo/s3Xv+gm3/fiP/4mujooA5w6brwH/ITb/vxH/wDE1u2AkFjD5rb5fLXe2MbmxyalPSkh/wBUv0FAHz9/wVa/5RyfGL/sW7j+leFfEX9sj4q2/inW/CXw71j4beELD4P+ANK8SalJ4sikkl8SNNamXy4droI4EVNjyDJDuozzx9N/t7/CTWvjx+xl8SfB/hyCO617X9CuLWwgklWITzFcqm5iFUsRgFiBkjJA5r5Q+IWi658ctI8LD4hfsL6t4u1Xwtp8Nhb3t14k0oSbI1A2krKC0e7JCMSoLHjk0C6m/wDsg/EW2+Jv/BSfQfGml6Q/heP4u/Ai18X65pkTkRXV+NSgijnccB3SJ2RZMAlGz/Ea+7a+Hv2Cv2BPFX7Pf7XcXjxZ9Wtvhvc+AZ9D0Xw9rt0k2q+DpJdQt7o6aXRnWWBGSYxyB2wGCnoGb7hoGhkn3k/3v6Gn0yT7yf739DT6ACiiigAooooAKKKKACiiigAooooAKKKKACiiigAooooAKKKKACiiigAooooAKKKKACiiigAooooAKKKKACiiigAooooAKKKKACiiigAooooAKKKKACiiigAooooAQ9KSH/VL9BSnpSQ/6pfoKAHUUUUAFFFFADJPvJ/vf0NPpkn3k/3v6Gn0AFFFFABRRRQAUUUUAFFFFABRRRQAUUUUAFFFFABRRRQAUUUUAFFFFABRRRQAUUUUAFFFFABRRRQAUUUUAFFFFABRRRQAUUUUAFFFFABRRRQAUUUUAFFFFABRRRQAh6UkP+qX6ClPSkh/1S/QUAOooryL9pz9rrwP+xb4d06fX4bxm1m5lNtYaTBE1xKxJkmmKs6Lje+WYnJaTuSaxxGIpUIe0rSsjmxeMo4WjLEYmSjCOrb2R67RXn/7NP7R+h/tT/DNfFXh+11Wz09rqS0EeoxRxzb0xk4R3XHIx81egVrFqUVJbNJr0eqDB4yji6McRh5c0JaprqMk+8n+9/Q0+mSfeT/e/oafTOkKKK+fP2hf+Cmvwu/Zz8Uy6Hf3eq67rVrJ5V5Z6NbLM1kcZ/ePI8ceexVWLA9QK58Ti6OHXNWko37nDmGZYTAUfb4yooQ7t217eb8j6Dor5a+GX/BX/wCEHxF8Tx6ZcSeIfC/n7ViutZs40tncsFCl4ZJNnXO5wqAA5YV9SJIJUDKQysMgg5BFVQxFKtDnpSTXkYZXnmX5lFywFaNTl3s9vVbi0UUVseqFFFFABRRRQAUUUUAFFFeXftJ/tieBP2U9Jim8V6o6311GZLTTLSPzr27AOCVTICjr8zsq5BGc8VjXxFKhD2laSS8znxWLo4ak6+ImoQju27JfM9Ror5G8O/8ABab4Ra3rdva3Nj410iCZtr3l3p0LQW4/vMIppJCP91GPPSvqjwn4t0zx34bs9Y0a+ttT0vUIhNbXVvIHjmQ9wR+XsQQanD4qjiIuVGSkl2POyviLLMyk4YGvGbW6T1t3tvbzNGiiiug9kKKKKACiiigAoorF+IfxB0j4VeCdS8Q69exafpGlQme5nk6Ko6ADqWJwABySQByaipUjTg6k3ZLdilJRXNJ2SNqivnD9nf8A4Kf+Af2l/irY+ENC0jxfaalqEcskct/a28cCiONpGyUnduinHy9a+j6mjWhVgqlN3TPOyvOMFmVJ1sDUVSKdm13snb7mvvCiiitT0gooooAKKKKACiiigAooooAKKKKACiiigAooooAKKKKACiiigBD0pIf9Uv0FKelJD/ql+goA8e/bu+MPij4Ifs66hrHg2FJ/Ec91b6fZKbU3L755BGDHGPvSZI2ghgTjKnpX5a/tR/Cn4sWNjpvj74qfb0v/ABZNJFbJqUmLwKgD8wgYgjG8gRkKV5+QDGf2tr4L/wCC6P8AyJPw+/6/rv8A9Fx18dxRg7UZYuUm3eKS6K7SfzeuvmflnidkH1vAVcwqVpclKGlNaRcuZ+9Lvo7JaWtvrY9J/wCCN/8AyZrF/wBhq8/9kr6rr5U/4I3/APJmsX/YavP/AGSvquvq8L/u1H/BD/0hH0Xh/wD8k7hP8P6sZJ95P97+hp9Mk+8n+9/Q0+tj7EivopZ7GZIZRBM6MschXd5bEcNjIzg9s1+f3wL/AOCPnifQf2g7HxB8QdU8JeJ/DcN3LeXcCT3Dz6g/zMhkjeEIQZCrOpcgjI+Ydf0Gr84/+CkH/BTa+1TWdR+H/wAOb+SysLR2ttW1q3fbLduDhoYGH3YwchnHLEYBC5L/AD2d1MHh5wxVdc01flXf/gLS79N9EfB8fQyWGFpY3OrtUpXjFP4pae7bZ3trfZX1V9fG/wDgqLD8O9P/AGkzYfDyy0eyh06yS31ZNJjWKzW8V3DIqoAgZV2htoxuyD8wav0v/Yp0vV9F/ZO8AWuurKmpw6NCJEl++iYzGp9xHsGOoxzXw5+wn+yf8I/C8lh4v+KXxH+HF1qKMtxZeHj4jsnhtiOVa6PmYds/8sx8ox8xbJVf0l8M+KdM8a6Hb6no+o2OrabdgtBd2Vwk8EwBKkq6EqcEEcHqDT4fwcqEKlSo1zTd+VfZ3f67dEu97fM+HmX1K+Z4jPq6hSdaNo0otXUbx95pbbLom222ldXv0UUV9AfsQUUUUAFFFFABRRRQAV8rftVf8EstF/ac+Jcni2Xxn4h0/VbuaIXEVxFHeWq2yLt8iFB5bR+u4u/Jb5STmvqmvnL43/8ABUX4ZfAf4ny+EtTTxNfanZyCG9a004LFYuSOHMzxlhtIbdGGUqQQTXnZhHBy5I4u2+l+/wDW/TWz3PneKYZPPAuOeNKi2vibWutrWad7X2830Pir/gpl4l+Dt9rHh7wv8LtDsLTV/Dc9xY6tNp+mGzDMpWIQvlFaeQMjHf8AN14Y7jX2/wD8ExvhF4k+DH7J2l6Z4ohuLLULu7nv47GdSsthDIV2xup5VjguVOCDJggEGvnL/gqD+yn8I/h38EYfHHhhYNM8Ra7qS3UDRanLcpraTfPIyrI7DaAwcNHgDIHQiu3/AOCJvj3xH4m+EHijStTnubvQ9DvYY9KeZywty6MZYUJ5CDCMF6AufWvDyLnpZjiKeIS9q1ry/D9ltJbrpv59Xd/lmU03guOYwxcIc1WD9n7L4FGztzK123GHeydnqmrfbNFFFfWn7qFFFFABRRRQBFe3sWnWctxcSxwQQIZJZJGCpGoGSxJ4AA5Jr80P2mvjV4k/4KcftEWfw2+H7yR+CtJmaV7ogiKcIcSX03/TNQcRqeSWH8TgL7z/AMFm/iBq/gz9mHTrLTL2Wzg8Q6wlhqAjODcQeTLIYyeoUsi5x1AweCRXw1+y7+3l4k/ZH8OahYeGPDfgy4m1STfdX+oWtxLdzADCoWSdFCLzgBRySTk18TnWY06uKlg67apw1aX2pWTS9Fdf8PZn4x4kcU0oY2nkVeTp0ZJSqyWsnHX3I9r21fn2TUup/wCCU1p/Z/7emgQbt/kw6hHuxjdi2lGa/Xevwr+An7Q2tfs7fGK28baLbaXdaraicJFfRyPbnzUZGyqOrcBjj5vTrX7d/DvxDN4t+H+h6rcrElxqen293KsQIRXkjVyFBJOMk4yTXq8L11UwKpreG/8A285NfkY+DGYYb6tisBTvze0c1/hcYRWve8WbNFFFfQn7aFFFFABRRRQAUUUUAFFFFABRRRQAUUUUAFFFFABRRRQAUUUUAIelJD/ql+gpT0pIf9Uv0FADq8F/bp/Yj/4bT0Tw9Z/8JN/wjX9hTzTb/wCzvtnn+YqjGPNj242+/WvcNZ1qz8O6XPfahd21jZWy75ri4lWKKJfVmYgAfU1l+B/il4a+JsE0nhzxBouupbELMbC9juPKJ6bthOM+9cGNhhMRbCYlpuWqjezdne61T0McdlEMwwdSjiKblRekt0vRtWt95w/7G/7Mn/DJXwaXwl/bf/CQbb2a8+1/Y/sufM2/Ls3v029d3fpXq1FFd0YqMVCOySS9ErL8DHL8BQwOHhhMLHlhBWSu3b5u7GSfeT/e/oafTJPvJ/vf0NPpnYZ3i/SLnxB4U1Ows73+zbu9tZYILsR+Z9ldkKrJtyN20kHGRnHUV8Et/wAEIy7En4qkknJJ8Ndf/Juvt341fG7wt+zv8N9R8W+M9ZtdC0DS1DT3U5J5JwqKoBZ3Y8BVBJPQV+dfxL/4OavCmia/NB4T+Fut+IdPjfal1qOsR6Y0oGfmEaxT4B4xkg4PIHSvUyzw6x/EcnWweFdXl0vflj3tdyjG+vr+B8Rxhh+HMR7OOfWbjflV53V7XdoO+tlq10O2/wCHEP8A1VT/AMtr/wC66+zf2Z/gr/wzt8DfD/gz+0v7Y/sKKSL7Z9n+z+fuleTOzc23G/H3j0r82P8AiKC/6of/AOXl/wDcNdJ8NP8Ag5q8Ka3r8MHiz4W634e0+R9r3WnaxHqbRA4+YxtFBkDnOCTgcA9K+koeCvEmBhKdHBNJ72nCT08udv7jwMircE5XivrGXPkqNON/3r0bTa9663S18j9PqK5X4K/G7wt+0R8N9O8W+DNZtdd0DVFLQXUBI5BwyMpAZHU8FWAIPUV1VfF1qNSjUdKrFxknZp6NNdGu5+p06kakVODunqmuoUUVyPx+8aXfw4+BHjXxDp+0X+g6DfajbFgCvmw28kiZB4IyorMs66ivNdP/AGW9FjsIVvvEHxH1K8WNVnu28b6vbm5cDBcxwXKRISecIiqM8AVL/wAMveGv+gn8RP8Awv8AXv8A5MoA9Forzr/hl7w1/wBBP4if+F/r3/yZR/wy94a/6CfxE/8AC/17/wCTKAPRa8B/bE/4J4+D/wBryRNTuZ7nw/4pgh8mLVbRFkEqj7qzxHHmKvOMMjdt2Biu5/4Ze8Nf9BP4if8Ahf69/wDJlH/DL3hr/oJ/ET/wv9e/+TK5sVg6OJp+zrxuv62e6+RxZhl2Gx1CWFxcFOEt0/6/E+RtE/4ITWVvrFs+pfEy6urBZFNxDbaCtvNKmeVSRp3CMR0JRgPQ19nfAr4F+HP2c/hxZ+F/C9o1rptoS7NI++a6lbG+WRv4nbAzwAMAAAAAZX/DL3hr/oJ/ET/wv9e/+TKP+GXvDX/QT+In/hf69/8AJlRhMBh8KmqEbX3/AOHetvI8bJuDsmymq6+AoKM3pe8pO3k5N2+R6LRXnX/DL3hr/oJ/ET/wv9e/+TKP+GXvDX/QT+In/hf69/8AJldh9Mei0V5j8IbS68D/ABk8X+EF1bWNV0ax0vS9ZsRql7Je3Fm11JfQyRCeQtK6f6ErjzGYgyPzjAGfp3gsfGv4r+PzrWteKorHwzqtto2n2Ol69d6TDEv9nWl28rG1kieR2e8ZTvZgFjTAHOQD16ivOv8Ahl7w1/0E/iJ/4X+vf/JlH/DL3hr/AKCfxE/8L/Xv/kygD0WmyJ5kbL6jFeef8MveGv8AoJ/ET/wv9e/+TKP+GXvDX/QT+In/AIX+vf8AyZSlFSTi9mB4Z+y3/wAEsf8Ahmv9oKz8d/8ACdf219kFyPsP9i/Zt/nRun+s898Y35+7zjtX1xXnX/DL3hr/AKCfxE/8L/Xv/kyj/hl7w1/0E/iJ/wCF/r3/AMmVjhsNSw9JUaKtFbf0zycnyPA5VTnSwEOSM5OT1bvJpJvVvolotD0WivOv+GXvDX/QT+In/hf69/8AJlH/AAy94a/6CfxE/wDC/wBe/wDkytz1j0WivOv+GXvDX/QT+In/AIX+vf8AyZWLqHgv/hSfxY8AnRdb8Uy6f4o1S40bULDVdcu9WhkUadd3aSobqSR43V7QL8jAFZGyDwQAev0UUUAFFFFABRRRQAUVHd3cVhayTzyJDDChkkkdgqooGSSTwAB3r5huf+C0n7MNpcPE3xZ0gtGxUlNPvnUkccMISCPcHFAH1FRXC/s+/tMeBP2qvA8niP4feJLHxNo0Ny1nLcWyunkzKFYxujqrq21lPIGQwI4Nd1QAUUUUAFFcR4Q/aZ+HHxB8WDQdB+IHgjW9cYuBp2n67a3N2dgJf90jl/lAJPHGDmu3oAKKKKAEPSkh/wBUv0FKelJD/ql+goA+fP22Ba3nxF+Ftn4j+z/8IRc396b5L1iunzX624NilyenlmTfweDjnivGUt38PDQ7jxJaaj4a+LEs93HBa/C2ztbi7uNM2xkNdRRsY9u7dtPXAXuDj7a8VeEtL8c6DcaXrOn2eqaddrtmtrqJZYpB1GVPHB5HoRWF8MfgN4N+DP2g+F/DmlaK92MTS28IEso6hS5yxX2zivz7N+D8Ri8xniYzSjNp3d7xsoLRJa25LwfPHlc5u0rn32U8XUMJl8cNKD5oJqytaV3J6tvS/NaS5JcyhDWNj5B8R/FLXZPCPha+8H+P/jDreveKNQmtrLSbuztS6C0mjW689IgXUCMuRjP3TnAFfdlef+EP2V/h94B8cr4l0fwvYWGuq8kgvI2feGkDK55YjkM3bvXoFepwrkmNwCqzxs03LlSSlKUUorV+/qnJttpaJcq1tc8zifOsHjvZQwcGlHmbbjGLfM9F7mjUUkk927vS9hkn3k/3v6Gn0yT7yf739DT6+tPlD8Qf+DiP9pXVPiD+1zB8OEuJI9A8AWMEjWob5Zb65iWdpWHciGSFVz0+fH3jX581+g//AAcRfs0ap8P/ANreD4kJbSyeH/H1lbxPdBfkhvraJYWhY9iYY4mXP3vnx9w1+fFf3d4cfVf9WsH9Uty8ivb+b7fz5rn8x8X+3/tjEe335nb/AA/Z/wDJbH61f8EJf+Cf/gGf4N2/xp+IFnpOrahrmpvpvhu31VUNpahJDBvVHOySeSbci5BK+WNvzMa+1/2x/iv8MtK1Xwr8KNf8EL8TPE3j1/I0/wAI2FlBPcw2AYLcahIZGRLW2hUk+azplgETL9Pz9/4JJftNfCH4+fsl6h+zN8ajptvZ/a5LnQ5L+4NtHOJJDP8AubgEG3uoZy0kbhlbLjacqa+9/gf8Dvhb/wAE7fA2ueL/ABF45m1rXtfBuNc8eeMdUjudX1iJMmGEzYH7qJMLHDEoXqQpdiT/ADN4i/2quJK0sXzufM/ZJXty/Y5GvLe2vNfre37Lwj9R/semqHLy8vvt2+L7XNf8L6W8rHy1+xL4Puf+CcP/AAVz8QfAnTL26uPh78S9JfXdEtJ5CxtJESSVCCTyVSC5hLdXCRlvu1+mdfmX+xJ4wuv+Cjv/AAV08Q/HbTbK6g+Hnw00p9C0O7niKm7d45IkGGHBZZ7mYjgoHjDfe5/TSvJ8Ref6/Q+s/wC8exp+27+0s/i/vcvLfzO7hHl+q1PY/wAL2k/Z/wCDy8r3t5BXnX7X3/JpnxQ/7FHVv/SOWvRa86/a+/5NM+KH/Yo6t/6Ry18AfUnotfKf/BRP9rvxR/wT71vQ/ildtN4l+FN3ay+HtW8OQpbRXVnq0gaTTryCZgrss0i/ZZUZyqCSKUKAkhP1ZXiXx6/Yo0j9qH42aNrXj+8t/EngXw9o15ZWPg2ex/0R7+7R4J9Qnk8w+awtXeGJNi+V5szhizjYAeL/ALWVj8ePgn/wTc8RfEXUfjZ4g0P4neCfCeo+IdRttF0XQ5dInvNr3CWu24sJZDBb8QIyuryKm52LNkddY658Qfgf+1r8EvBWo/FPxT490fx7ZeI7/VDrmmaPDKTa2ti1vGjWVlb7UR5ZW6biXIYkBQOi1j9iLWPFH/BPHxJ8BNZ+INxq7atoF94YsfE11pe67tbKVXjtfPj87/SJoYSiNJvj80x7iELGuj/aO/Zd1L4ua/4D8UeFfFq+DfHXw5luTpWo3GlDVLKeG6gENzb3Fr5sTPG4SNgUljdWjUhsZBAPlr9sH9sP44eE/iJ8UtD+G+uac2taJ8V/B/hnw5YahZW32WW2vtHt7qeylkMZcJPO7Ayk+ZGH+RlAAHVa9/wUM1n4qeLNI1PwTqdzo2h6h8GPGPia70e6s4Gu9H1/TLrTbcRXG9C6zWsktzE8edjHJKsAprvLL/gnJdXywavr3j1tZ8bX/wASNJ+Iuv6uuirbW+oPp0EdtBY29ssx+zQrBDGoZpJXzuZi5biDxb/wS60fU/2uPHvxT0TxNc6EnxE8Car4T1LQ1sfOtEv782iy6tGfMULI0dlAskYX96Y1YurbtwB4t8K/+CjfxI8Qfsg+BLLxRqFvo3xmsfFngOz1+aK0gMXiLQ9b1OzSPUIY2TYqXNtLNFJ5agxTxTquzalavwv/AGhfGPxa/aY+JGh6r8Xf2gND/sX4k3XhrSNP8LfC+11Lw9BZobcRLPqR0O5SP5pG8x5bpSiYZig+avTfjJ/wSt0f4t+F/gAq+KLnR/EvwKudCH9r21hx4ksNOmtLh7GeLzRiOWazhlUl38l1yA2WDbPgT9kn4v8AwY8feO7zwX8V/h/Z+HfHPi268Vy6frHw8utQu7R7gRK8K3MerwKwAiGGMI5J4PSgDp/2Kfi/4i+Ld38Yl8Q6h/aA8K/ErVfD+ljyIovstjDHbNFF8iru2mR/mbLHPJOBXt9fNvw3/ZM+LPwU+JXja+8J/FPwHD4W8ceMLnxZc6ZqngC5vL63NwIllgS7j1aJMbYgFcwcEklT0r3nwBf+INS8KW83ijS9I0bW2eUT2ml6nJqVrGokYRlZ5IIGYtGEZgYl2szKC4UOwByfhn/k7Pxt/wBij4f/APSzW6Pgn/yUr4v/APY3W/8A6YdIo8M/8nZ+Nv8AsUfD/wD6Wa3R8E/+SlfF/wD7G63/APTDpFAGV+2z+2X4X/YM+Ad58RfGFh4j1LRLG8trKSDQ7IXd2XnlEaEIzou0FuSWHoMsQDkXX7fvgy0/as1v4PtpnjA+JdB8Gf8ACc3FyuksbF7HeF8tH3b2nyR8mzBOVDbgVr3GigD5Q8Of8Fifhj4n+CPwZ8ewaF8RV0f45eJx4T0GF9EX7TaXRnkg33SiUqkW6MndG0hI5CnDbdvXv+Cpvw98O3/x/t5tG8ds/wCzhbQXXiUx6OCt8s0Tyr9iPmDzMBDnzPLHRslPnr6UooA+eNC/4KYeAvEPxM+BvhWDSPG66h8f9Bl8ReHZJNI2wWdvHbC5K3jb8xybDjCBwDjJCsrHjdZ/4LP/AAs0P9mbx78VZdA+JLeHvh34yfwPqVuuhL9umvVkjjMkUZlCmHMq/M7IwxgoGKqfrmigDw66/b98GWn7Vmt/B9tM8YHxLoPgz/hObi5XSWNi9jvC+Wj7t7T5I+TZgnKhtwK1wPhz/gsT8MfE/wAEfgz49g0L4iro/wAcvE48J6DC+iL9ptLozyQb7pRKVSLdGTujaQkchThtv1fRQBxPwg+POj/GvXPHdhpVtqtvN8PfEj+F9RN7biFZ7pLS1uy8PJLReXdxgMQuSrYBXazUPjZ/yUr4Qf8AY3XH/ph1evRa86+Nn/JSvhB/2N1x/wCmHV6APRa+Yv23/jv42v8A4x+B/gV8MdSt/DHjD4hW1zqV/wCJrqFZV0DS7fiV7eNsCa6c/KqjOwAsdoIdfp2vHf2wf2PdN/at8O6NNFrOo+D/ABv4QujqPhjxRpoBu9FuSMN8pwJIXACyREgOAORgGgD86vEf7Cv/AAtCL4r+NtB0LQ/F2k/CDV9Q0e91Dx14o1ufxN4qudOQNeyi5t7mKCz53CHERyQC/wApFfQn7N/xj8R/so+OPgzaS+J/EHjf4J/tBWlufDEfiC4F34g8H3s9slzFbPL9+4tWVtu4g+VgZIAzJ578Tv8Agnl+0J4u8aa3JqOgeC9YXxXIreIn8P8AjzU/DuheLGVQgm1LTVjbdIyqokEDqG59c19N/sw/sK634Z+Klj8Tfi14g0rxT460ewOl+HdL0W0a08O+CbRlCNDYQt8xZlAUzPhiuFxgZII+mqKKKBnyp+3f8YvEnhH9pH4YeD9O1SS28N+MPCvjOXWLIRRst61rpsT25LFSy7Gdj8pGc85rrf8AglogP/BOv4N8D/kV7Tt/sV4//wAFN/HPhn4Yftlfs+63421lPDPhKTR/GOlXmrzRs0No91YWsUYO0H5mJOB32n0NeAfAH9t3xF8EPhx4Y+HfhP8AaT/ZovtK0C3i0nSze+H9YN1OgO2PeVYLvORnHFAj62/4Jy8fGT9qD/sqVz/6RWlfU9eE/sMfsyeKv2eNL8eaj4313RNd8V/EPxNL4j1BtGtJLaxtmaGGIRxrIzOf9VuJJ/ix2yfdqBhXxP8A8FbfgD4Q+OHxZ/ZrtfFOjR6tBqHjz+xbhHnlj8yzntZZJYvkZSAzwRHI5GzgjJz9sV8o/wDBUSW/8Laj8DPGUOgeItf0jwR8QYNU1dNE06TULm2t/slynmeVGCxXcyjOMZYeooA+LfCPwK/Z8+JXhb4fCL4C6BpF18RNO8bSfaIvEGpSNpb6HvWFkDS4fzCATu4HvX3l/wAEj/B+m+C/+Ccfwmh0y2FrHfaFFqE6hmbzJ58ySvyT952JwOBngCvi/wAOeJ/h38PfDPgpdN0/486le/D6w8XQWUUvw0vYl1KTXdzEO3PliJiACM7u+K+9v+CdPgzVfh5+wp8J9F1ywutK1fTvDNnFdWdzGY5rZ/LBKOp5VhnlTyDweaBI9oooooGIelJD/ql+gpT0pIf9Uv0FADqKKKACiiigBkn3k/3v6Gn0yT7yf739DT6AOV+NHwT8LftD/DjUfCXjLRrTXdA1RNs9rOD1HKujDDI6nlWUhgehr86viX/wbK+FNa1+afwn8Utb8PafI+5LXUdGj1Nogc/KJFlgyOmMgnA5J61+n9FfS5DxhnOSpxyyu4J7rRq/e0k1fztc8fM8gy/MWnjKSk111T+9NM/J3/iF9/6rh/5Zv/3dXR/DT/g2V8KaLr8M/iz4pa34h0+N9z2unaNHpjSgY+UyNLPgdc4AODwR1r9P6K+gq+LPFlSDhLFuz7Qpp/eoJr5HlQ4FyKMuZUP/ACaT/ByOV+C/wT8Lfs8fDjTvCXg3RrTQtA0tNsFrAD1PLO7HLO7HlmYlieprqqKK/Pq1apVm6tWTlJu7b1bb6tn1VOnGnFQgrJbJBXNfGfwI/wAUvg94r8MxTLbyeItGvNLSV/uxGeB4gx68DdmulorMs82s/jN4vgtIkvvhH40e8VAJ2sdR0aS2L4+by2kvo3K56FkU+oFSf8Ls8S/9Eg+In/gboP8A8sq9FooA86/4XZ4l/wCiQfET/wADdB/+WVH/AAuzxL/0SD4if+Bug/8Ayyr0WigDzr/hdniX/okHxE/8DdB/+WVH/C7PEv8A0SD4if8AgboP/wAsq9FooA86/wCF2eJf+iQfET/wN0H/AOWVH/C7PEv/AESD4if+Bug//LKvRaKAPOv+F2eJf+iQfET/AMDdB/8AllR/wuzxL/0SD4if+Bug/wDyyr0WigDzr4U6Xret/FDxR4v1jQrzwymq6fp2kWmn3txbzXXl2kl5KZpPs8kkS7mvGUKJGOIwTjOKoI/iX4R/ErxldWvg3WPFuleLdQg1aGbSbyxSW1kWxtrN4pEup4BjFojhkZs+YQQMV6pRQB51/wALs8S/9Eg+In/gboP/AMsqP+F2eJf+iQfET/wN0H/5ZV6LRQB51/wuzxL/ANEg+In/AIG6D/8ALKj/AIXZ4l/6JB8RP/A3Qf8A5ZV6LRQB51/wuzxL/wBEg+In/gboP/yyo/4XZ4l/6JB8RP8AwN0H/wCWVei0UAedf8Ls8S/9Eg+In/gboP8A8sqP+F2eJf8AokHxE/8AA3Qf/llXotFAHnX/AAuzxL/0SD4if+Bug/8AyyrOkn8SfFz4meDLi68Fa74T0vwlqE+rzXGrXdhI11I1jdWaQxpa3E5/5e2cs+0DywBnPHq1FABRRRQAUUUUAFFFFAEF/ptvqsHlXMENzHndslQOufXBqovg3SEYEaVpoIOQRapx+laVFABRRRQAUUUUAFFFFABRRRQAh6UkP+qX6ClPSkh/1S/QUAeXftXfta6D+yL4T0TUdY0fxT4ju/EmrR6JpWkeHbBb3UNQunR5AkcbOinCxsTlh0AGSa8y8Lf8FY/h4PGMei+P/D/xB+CU13bPc2Fz8RNJj0a01MIQJEhm851LruUkMV4YYzUH/BR7/krX7MP/AGVaz/8ASK7r6Q8Y/D/QfiHYxW3iDRNI1y2hfzY4tQs47lI3wRuCuCAcEjPvQBwPw/8A25vg18VvFtpoPhv4peAtc1u/Yra2NnrdvLcXLAEkIgbLHAJwOcA16rXxr/wUN+D3hL4d+LP2bb3w/wCFvDmh3kvxo0OB59P02G2leMwXpKFkUEqSqnHTgelfZVADJPvJ/vf0NPpkn3k/3v6Gn0AFFFFABRRRQAUUUUAFFFFABRRRQAUUUUAFFFFABRRRQAUUUUAFFFFABRRRQAUUUUAFFFFABRRRQAUUUUAFFFFABRRRQAUUUUAFFFFABRRRQAUUUUAFFFFABRRRQAh6UkP+qX6ClPSkh/1S/QUAeS/te/sl2v7WXhjw5bnxLr3g/WfCGtxa/o+r6T5RntLlI5I+VkVlZSsrcYzkA56g+af8MB/FD/o6j4t/+AWnf/Ga+p6KAPlnR/8Agm1rOrfEfwdrfjr44fEb4gWPgjW4fEWn6VqMNlDbm+hV1ikZo4g2F8xuARnNfU1FFADJPvJ/vf0NPpkn3k/3v6Gn0AFFFFABRRRQAUUUUAFFFFABRRRQAUUUUAFFFFABRRRQAUUUUAFFFFABRRRQAUUUUAFFFFABRRRQAUUUUAFFFFABRRRQAUUUUAFFFFABRRRQAUUUUAFFFFABRRRQAh6UkP8Aql+gpT0pIf8AVL9BQA6iiigAooooAZJ95P8Ae/oafTJPvJ/vf0NPoAKKKKACiiigAooooAKKKKACiiigAooooAKKKKACiiigAooooAKKKKACiiigAooooAKKKKACiiigAooooAKKKKACiiigAooooAKKKKACiiigAooooAKKKKACiiigBD0pIf8AVL9BSnpSQ/6pfoKAP//Z\">"
      ]
    },
    {
      "cell_type": "code",
      "execution_count": null,
      "metadata": {
        "id": "GjAiGU5fyPoi"
      },
      "outputs": [],
      "source": [
        "import requests, os\n",
        "from google.colab import userdata\n",
        "os.environ[\"XTUNNEL_API_KEY\"]=userdata.get('XTUNNEL_API_KEY') #<- пароли в коде не храним"
      ]
    },
    {
      "cell_type": "code",
      "execution_count": null,
      "metadata": {
        "colab": {
          "base_uri": "https://localhost:8080/"
        },
        "id": "TkZYzBn1PHku",
        "outputId": "cf0fd4c6-9a74-47c7-9cf5-e336d55bf32d"
      },
      "outputs": [
        {
          "name": "stdout",
          "output_type": "stream",
          "text": [
            "--2025-10-14 15:23:01--  https://github.com/xtunnel-dev/xtunnel-binaries/raw/refs/heads/main/1.0.20/xtunnel.linux-x64.1.0.20.zip\n",
            "Resolving github.com (github.com)... 20.27.177.113\n",
            "Connecting to github.com (github.com)|20.27.177.113|:443... connected.\n",
            "HTTP request sent, awaiting response... 302 Found\n",
            "Location: https://raw.githubusercontent.com/xtunnel-dev/xtunnel-binaries/refs/heads/main/1.0.20/xtunnel.linux-x64.1.0.20.zip [following]\n",
            "--2025-10-14 15:23:01--  https://raw.githubusercontent.com/xtunnel-dev/xtunnel-binaries/refs/heads/main/1.0.20/xtunnel.linux-x64.1.0.20.zip\n",
            "Resolving raw.githubusercontent.com (raw.githubusercontent.com)... 185.199.108.133, 185.199.109.133, 185.199.110.133, ...\n",
            "Connecting to raw.githubusercontent.com (raw.githubusercontent.com)|185.199.108.133|:443... connected.\n",
            "HTTP request sent, awaiting response... 200 OK\n",
            "Length: 39613803 (38M) [application/zip]\n",
            "Saving to: ‘xt.zip’\n",
            "\n",
            "xt.zip              100%[===================>]  37.78M  73.5MB/s    in 0.5s    \n",
            "\n",
            "2025-10-14 15:23:04 (73.5 MB/s) - ‘xt.zip’ saved [39613803/39613803]\n",
            "\n",
            "Archive:  xt.zip\n",
            "  inflating: xtunnel-cert.cer        \n",
            "  inflating: xtunnel                 \n",
            "\u001b[?1h\u001b=\u001b[m\u001b[32mRegistration completed successfully\n",
            "\u001b[m"
          ]
        }
      ],
      "source": [
        "!wget -O xt.zip https://github.com/xtunnel-dev/xtunnel-binaries/raw/refs/heads/main/1.0.20/xtunnel.linux-x64.1.0.20.zip\n",
        "!unzip xt.zip\n",
        "!./xtunnel register $XTUNNEL_API_KEY"
      ]
    },
    {
      "cell_type": "code",
      "execution_count": null,
      "metadata": {
        "colab": {
          "background_save": true,
          "base_uri": "https://localhost:8080/"
        },
        "id": "wc8L5RnuxO4R",
        "outputId": "4ef73f06-fcd8-45e8-81c5-f0557bf226d4"
      },
      "outputs": [
        {
          "name": "stdout",
          "output_type": "stream",
          "text": [
            "Скопируйте адрес Public address ниже, вставьте его в адресную строку браузера, добавьте путь /docs, нажмите Enter\n",
            "\u001b[?1h\u001b=\u001b[32mINFO\u001b[0m:     Will watch for changes in these directories: ['/content']\n",
            "\u001b[32mINFO\u001b[0m:     Uvicorn running on \u001b[1mhttp://0.0.0.0:8090\u001b[0m (Press CTRL+C to quit)\n",
            "\u001b[32mINFO\u001b[0m:     Started reloader process [\u001b[36m\u001b[1m383\u001b[0m] using \u001b[36m\u001b[1mWatchFiles\u001b[0m\n",
            "\u001b[H\u001b[2J\u001b[m\u001b[33mStatus: Connecting\n",
            "\u001b[mPublic address: \n",
            "Target address: http://localhost:8090\n",
            "\n",
            "\n",
            "Press Ctrl+C to exit\n",
            "\u001b[32mINFO\u001b[0m:     Started server process [\u001b[36m399\u001b[0m]\n",
            "\u001b[32mINFO\u001b[0m:     Waiting for application startup.\n",
            "\u001b[32mINFO\u001b[0m:     Application startup complete.\n",
            "\u001b[H\u001b[2J\u001b[m\u001b[33mStatus: Connecting\n",
            "\u001b[mPublic address: https://7419e76f-e15e-4ed1-80c1-9fab2132623f.tunnel4.com\n",
            "Public address: http://7419e76f-e15e-4ed1-80c1-9fab2132623f.tunnel4.com\n",
            "Target address: http://localhost:8090\n",
            "\n",
            "\n",
            "Press Ctrl+C to exit\n",
            "\u001b[H\u001b[2J\u001b[m\u001b[32mStatus: Connected\n",
            "\u001b[mPublic address: https://7419e76f-e15e-4ed1-80c1-9fab2132623f.tunnel4.com\n",
            "Public address: http://7419e76f-e15e-4ed1-80c1-9fab2132623f.tunnel4.com\n",
            "Target address: http://localhost:8090\n",
            "\n",
            "\n",
            "Press Ctrl+C to exit\n",
            "\u001b[H\u001b[2J\u001b[m\u001b[32mStatus: Connected\n",
            "\u001b[mPublic address: https://7419e76f-e15e-4ed1-80c1-9fab2132623f.tunnel4.com\n",
            "Public address: http://7419e76f-e15e-4ed1-80c1-9fab2132623f.tunnel4.com\n",
            "Target address: http://localhost:8090\n",
            "\n",
            "15:23:26.560 GET                 0B /\n",
            "\n",
            "Press Ctrl+C to exit\n",
            "\u001b[32mINFO\u001b[0m:     95.25.6.223:0 - \"\u001b[1mGET / HTTP/1.1\u001b[0m\" \u001b[31m404 Not Found\u001b[0m\n",
            "\u001b[H\u001b[2J\u001b[m\u001b[32mStatus: Connected\n",
            "\u001b[mPublic address: https://7419e76f-e15e-4ed1-80c1-9fab2132623f.tunnel4.com\n",
            "Public address: http://7419e76f-e15e-4ed1-80c1-9fab2132623f.tunnel4.com\n",
            "Target address: http://localhost:8090\n",
            "\n",
            "15:23:26.560 GET    404 NotFound      22B /\n",
            "15:23:27.187 GET                 0B /favicon.ico\n",
            "\n",
            "Press Ctrl+C to exit\n",
            "\u001b[32mINFO\u001b[0m:     95.25.6.223:0 - \"\u001b[1mGET /favicon.ico HTTP/1.1\u001b[0m\" \u001b[31m404 Not Found\u001b[0m\n",
            "\u001b[H\u001b[2J\u001b[m\u001b[32mStatus: Connected\n",
            "\u001b[mPublic address: https://7419e76f-e15e-4ed1-80c1-9fab2132623f.tunnel4.com\n",
            "Public address: http://7419e76f-e15e-4ed1-80c1-9fab2132623f.tunnel4.com\n",
            "Target address: http://localhost:8090\n",
            "\n",
            "15:23:26.560 GET    404 NotFound      22B /\n",
            "15:23:27.187 GET    404 NotFound      22B /favicon.ico\n",
            "15:23:38.551 GET                 0B /docs\n",
            "\n",
            "Press Ctrl+C to exit\n",
            "\u001b[32mINFO\u001b[0m:     95.25.6.223:0 - \"\u001b[1mGET /docs HTTP/1.1\u001b[0m\" \u001b[32m200 OK\u001b[0m\n",
            "\u001b[H\u001b[2J\u001b[m\u001b[32mStatus: Connected\n",
            "\u001b[mPublic address: https://7419e76f-e15e-4ed1-80c1-9fab2132623f.tunnel4.com\n",
            "Public address: http://7419e76f-e15e-4ed1-80c1-9fab2132623f.tunnel4.com\n",
            "Target address: http://localhost:8090\n",
            "\n",
            "15:23:26.560 GET    404 NotFound      22B /\n",
            "15:23:27.187 GET    404 NotFound      22B /favicon.ico\n",
            "15:23:38.551 GET    200 OK     932B /docs\n",
            "15:23:40.365 GET                 0B /openapi.json\n",
            "\n",
            "Press Ctrl+C to exit\n",
            "\u001b[32mINFO\u001b[0m:     95.25.6.223:0 - \"\u001b[1mGET /openapi.json HTTP/1.1\u001b[0m\" \u001b[32m200 OK\u001b[0m\n",
            "\u001b[H\u001b[2J\u001b[m\u001b[32mStatus: Connected\n",
            "\u001b[mPublic address: https://7419e76f-e15e-4ed1-80c1-9fab2132623f.tunnel4.com\n",
            "Public address: http://7419e76f-e15e-4ed1-80c1-9fab2132623f.tunnel4.com\n",
            "Target address: http://localhost:8090\n",
            "\n",
            "15:23:26.560 GET    404 NotFound      22B /\n",
            "15:23:27.187 GET    404 NotFound      22B /favicon.ico\n",
            "15:23:38.551 GET    200 OK     932B /docs\n",
            "15:23:40.365 GET    200 OK    3761B /openapi.json\n",
            "16:46:43.707 GET                 0B /items\n",
            "\n",
            "Press Ctrl+C to exit\n",
            "\u001b[32mINFO\u001b[0m:     95.25.6.223:0 - \"\u001b[1mGET /items HTTP/1.1\u001b[0m\" \u001b[32m200 OK\u001b[0m\n",
            "\u001b[H\u001b[2J\u001b[m\u001b[32mStatus: Connected\n",
            "\u001b[mPublic address: https://7419e76f-e15e-4ed1-80c1-9fab2132623f.tunnel4.com\n",
            "Public address: http://7419e76f-e15e-4ed1-80c1-9fab2132623f.tunnel4.com\n",
            "Target address: http://localhost:8090\n",
            "\n",
            "15:23:26.560 GET    404 NotFound      22B /\n",
            "15:23:27.187 GET    404 NotFound      22B /favicon.ico\n",
            "15:23:38.551 GET    200 OK     932B /docs\n",
            "15:23:40.365 GET    200 OK    3761B /openapi.json\n",
            "16:46:43.707 GET    200 OK       2B /items\n",
            "16:47:25.006 POST                0B /items\n",
            "\n",
            "Press Ctrl+C to exit\n",
            "\u001b[32mINFO\u001b[0m:     95.25.6.223:0 - \"\u001b[1mPOST /items HTTP/1.1\u001b[0m\" \u001b[32m201 Created\u001b[0m\n",
            "\u001b[H\u001b[2J\u001b[m\u001b[32mStatus: Connected\n",
            "\u001b[mPublic address: https://7419e76f-e15e-4ed1-80c1-9fab2132623f.tunnel4.com\n",
            "Public address: http://7419e76f-e15e-4ed1-80c1-9fab2132623f.tunnel4.com\n",
            "Target address: http://localhost:8090\n",
            "\n",
            "15:23:26.560 GET    404 NotFound      22B /\n",
            "15:23:27.187 GET    404 NotFound      22B /favicon.ico\n",
            "15:23:38.551 GET    200 OK     932B /docs\n",
            "15:23:40.365 GET    200 OK    3761B /openapi.json\n",
            "16:46:43.707 GET    200 OK       2B /items\n",
            "16:47:25.006 POST   201 Created      53B /items\n",
            "16:47:51.322 GET                 0B /items\n",
            "\n",
            "Press Ctrl+C to exit\n",
            "\u001b[32mINFO\u001b[0m:     95.25.6.223:0 - \"\u001b[1mGET /items HTTP/1.1\u001b[0m\" \u001b[32m200 OK\u001b[0m\n",
            "\u001b[H\u001b[2J\u001b[m\u001b[32mStatus: Connected\n",
            "\u001b[mPublic address: https://7419e76f-e15e-4ed1-80c1-9fab2132623f.tunnel4.com\n",
            "Public address: http://7419e76f-e15e-4ed1-80c1-9fab2132623f.tunnel4.com\n",
            "Target address: http://localhost:8090\n",
            "\n",
            "15:23:26.560 GET    404 NotFound      22B /\n",
            "15:23:27.187 GET    404 NotFound      22B /favicon.ico\n",
            "15:23:38.551 GET    200 OK     932B /docs\n",
            "15:23:40.365 GET    200 OK    3761B /openapi.json\n",
            "16:46:43.707 GET    200 OK       2B /items\n",
            "16:47:25.006 POST   201 Created      53B /items\n",
            "16:47:51.322 GET    200 OK      55B /items\n",
            "16:50:20.163 GET                 0B /openapi.json\n",
            "\n",
            "Press Ctrl+C to exit\n",
            "\u001b[32mINFO\u001b[0m:     95.25.6.223:0 - \"\u001b[1mGET /openapi.json HTTP/1.1\u001b[0m\" \u001b[32m200 OK\u001b[0m\n",
            "\u001b[H\u001b[2J\u001b[m\u001b[32mStatus: Connected\n",
            "\u001b[mPublic address: https://7419e76f-e15e-4ed1-80c1-9fab2132623f.tunnel4.com\n",
            "Public address: http://7419e76f-e15e-4ed1-80c1-9fab2132623f.tunnel4.com\n",
            "Target address: http://localhost:8090\n",
            "\n",
            "15:23:26.560 GET    404 NotFound      22B /\n",
            "15:23:27.187 GET    404 NotFound      22B /favicon.ico\n",
            "15:23:38.551 GET    200 OK     932B /docs\n",
            "15:23:40.365 GET    200 OK    3761B /openapi.json\n",
            "16:46:43.707 GET    200 OK       2B /items\n",
            "16:47:25.006 POST   201 Created      53B /items\n",
            "16:47:51.322 GET    200 OK      55B /items\n",
            "16:50:20.163 GET    200 OK    3761B /openapi.json\n",
            "16:50:21.173 GET                 0B /favicon.ico\n",
            "\n",
            "Press Ctrl+C to exit\n",
            "\u001b[32mINFO\u001b[0m:     95.25.6.223:0 - \"\u001b[1mGET /favicon.ico HTTP/1.1\u001b[0m\" \u001b[31m404 Not Found\u001b[0m\n"
          ]
        }
      ],
      "source": [
        "# 5. Run the Server in Background\n",
        "print(f\"Скопируйте адрес Public address ниже, вставьте его в адресную строку браузера, добавьте путь /docs, нажмите Enter\")\n",
        "!sleep 5 & uvicorn main:app --reload --port 8090 --host 0.0.0.0 & ./xtunnel http 8090 & wait"
      ]
    },
    {
      "cell_type": "markdown",
      "metadata": {
        "id": "UIP4Q83B5YZq"
      },
      "source": [
        "### Тесты ? Да, обязательно !!!\n",
        "\n",
        "Не желаете тратить время на поиск багов - используйте [git bisect](https://git-scm.com/docs/git-bisect) !\n",
        "\n",
        "Чтобы git bisect заработал нам нужны тесты."
      ]
    },
    {
      "cell_type": "code",
      "execution_count": null,
      "metadata": {
        "id": "0SFAnrhzNXtY"
      },
      "outputs": [],
      "source": [
        "!pip install pytest -qqq"
      ]
    },
    {
      "cell_type": "code",
      "execution_count": null,
      "metadata": {
        "id": "7D18bozPNPHA"
      },
      "outputs": [],
      "source": [
        "%%writefile test_connectity.py\n",
        "import sys\n",
        "import requests\n",
        "import pytest\n",
        "import logging\n",
        "logger = logging.getLogger(__name__)\n",
        "\n",
        "\n",
        "base = \"http://52fe9105-7e5c-4fb4-be58-ee0c289dac5c.tunnel4.com\"\n",
        "\n",
        "\n",
        "def test_post_name():\n",
        "  r = requests.post(f\"{base}/items\", json={\"name\":\"Pen\",\"description\":\"Blue ink\",\"price\":1.2})\n",
        "  logger.info(\"POST /items →\"+str(r.status_code)+\",\"+r.text)\n",
        "  assert r.status_code == 201\n",
        "\n",
        "def test_post_Notebook():\n",
        "  r = requests.post(f\"{base}/items\", json={\"name\":\"Notebook\",\"price\":3.5})\n",
        "  logger.info(\"POST /items →\"+str(r.status_code)+\",\"+r.text)\n",
        "  assert r.status_code == 201\n",
        "\n",
        "def test_get_items():\n",
        "  r = requests.get(f\"{base}/items\")\n",
        "  logger.info(\"GET /items →\"+str(r.status_code)+\",\"+r.text)\n",
        "  assert r.status_code == 200\n",
        "\n",
        "def test_get_items_1():\n",
        "  r = requests.get(f\"{base}/items/1\")\n",
        "  logger.info(\"GET /items/1 →\"+str(r.status_code)+\",\"+r.text)\n",
        "  assert r.status_code == 200\n",
        "\n",
        "def test_get_items_999():\n",
        "  r = requests.get(f\"{base}/items/999\")\n",
        "  logger.info(\"GET /items/999 →\"+str(r.status_code)+\",\"+r.text)\n",
        "  assert r.status_code == 404\n",
        "\n",
        "def test_put():\n",
        "  r = requests.put(f\"{base}/items/1\", json={\"name\":\"Pen\",\"description\":\"Black ink\",\"price\":1.5})\n",
        "  logger.info(\"PUT /items/1 →\"+str(r.status_code)+\",\"+r.text)\n",
        "  assert r.status_code == 200\n",
        "\n",
        "def test_delete():\n",
        "  r = requests.delete(f\"{base}/items/1\")\n",
        "  logger.info(\"DELETE /items/1 →\"+str(r.status_code)+\",\"+r.text)\n",
        "  assert r.status_code == 204\n",
        "\n",
        "def test_delete_non_existent():\n",
        "  r = requests.delete(f\"{base}/items/2\")\n",
        "  logger.info(\"DELETE /items/2 →\", r.status_code)\n",
        "  assert r.status_code == 204\n",
        "\n",
        "def test_get_info():\n",
        "  r = requests.get(f\"{base}/info\", headers={\"User-Agent\":\"MyClient/1.0\"})\n",
        "  logger.info(\"GET /info →\", r.status_code, r.json())\n",
        "  assert r.status_code == 200\n",
        "\n",
        "def test_post_login():\n",
        "  r = requests.post(f\"{base}/login\")\n",
        "  logger.info(\"POST /login →\", r.status_code, r.cookies.get_dict())\n",
        "  assert r.status_code == 200\n",
        "\n",
        "\n",
        "#!pytest"
      ]
    },
    {
      "cell_type": "code",
      "execution_count": null,
      "metadata": {
        "id": "eseNZy5WN0Au"
      },
      "outputs": [],
      "source": [
        "!pytest"
      ]
    },
    {
      "cell_type": "markdown",
      "metadata": {
        "id": "8dqeqYSbrSsA"
      },
      "source": [
        "## Итог\n",
        "\n",
        "Мы научились пробрасывать тоннель на внешний IP-адрес, чтобы с нашей документацией могли ознакомиться коллеги.\n",
        "\n",
        "Несмотря на то, что никто не любит писать тесты - тем не менее: их использование в разработке **обязательно** !"
      ]
    }
  ],
  "metadata": {
    "colab": {
      "provenance": []
    },
    "kernelspec": {
      "display_name": "Python 3",
      "name": "python3"
    },
    "language_info": {
      "name": "python"
    }
  },
  "nbformat": 4,
  "nbformat_minor": 0
}
