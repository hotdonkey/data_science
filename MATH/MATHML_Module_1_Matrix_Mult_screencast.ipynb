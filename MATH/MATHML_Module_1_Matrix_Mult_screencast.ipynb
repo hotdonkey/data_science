{
 "cells": [
  {
   "cell_type": "code",
   "execution_count": 165,
   "metadata": {
    "collapsed": true
   },
   "outputs": [],
   "source": [
    "import numpy as np"
   ]
  },
  {
   "cell_type": "code",
   "execution_count": 166,
   "metadata": {
    "collapsed": true
   },
   "outputs": [],
   "source": [
    "# произведение матриц\n",
    "A=np.random.randint(5, 12, (3,3))\n",
    "B=np.random.randint(-2, 4, (3,3))"
   ]
  },
  {
   "cell_type": "code",
   "execution_count": 167,
   "metadata": {
    "collapsed": false
   },
   "outputs": [
    {
     "data": {
      "text/plain": [
       "array([[10, 10,  6],\n",
       "       [ 5, 10,  9],\n",
       "       [10, 10,  7]])"
      ]
     },
     "execution_count": 167,
     "metadata": {},
     "output_type": "execute_result"
    }
   ],
   "source": [
    "A"
   ]
  },
  {
   "cell_type": "code",
   "execution_count": 168,
   "metadata": {
    "collapsed": false
   },
   "outputs": [
    {
     "data": {
      "text/plain": [
       "array([[ 3,  3, -2],\n",
       "       [-1, -2,  0],\n",
       "       [ 3,  0, -1]])"
      ]
     },
     "execution_count": 168,
     "metadata": {},
     "output_type": "execute_result"
    }
   ],
   "source": [
    "B"
   ]
  },
  {
   "cell_type": "code",
   "execution_count": 169,
   "metadata": {
    "collapsed": false
   },
   "outputs": [
    {
     "data": {
      "text/plain": [
       "array([[ 30,  30, -12],\n",
       "       [ -5, -20,   0],\n",
       "       [ 30,   0,  -7]])"
      ]
     },
     "execution_count": 169,
     "metadata": {},
     "output_type": "execute_result"
    }
   ],
   "source": [
    "# Поэлементное умножение\n",
    "A*B"
   ]
  },
  {
   "cell_type": "code",
   "execution_count": 170,
   "metadata": {
    "collapsed": false
   },
   "outputs": [
    {
     "name": "stdout",
     "output_type": "stream",
     "text": [
      "[[ 38  10 -26]\n",
      " [ 32  -5 -19]\n",
      " [ 41  10 -27]]\n"
     ]
    }
   ],
   "source": [
    "# тип np.matrix\n",
    "A_m=np.matrix(A)\n",
    "B_m=np.matrix(B)\n",
    "print(A_m*B_m)"
   ]
  },
  {
   "cell_type": "code",
   "execution_count": 171,
   "metadata": {
    "collapsed": false
   },
   "outputs": [
    {
     "data": {
      "text/plain": [
       "array([[ 38,  10, -26],\n",
       "       [ 32,  -5, -19],\n",
       "       [ 41,  10, -27]])"
      ]
     },
     "execution_count": 171,
     "metadata": {},
     "output_type": "execute_result"
    }
   ],
   "source": [
    "# Матричное умножение\n",
    "np.dot(A,B)"
   ]
  },
  {
   "cell_type": "code",
   "execution_count": 172,
   "metadata": {
    "collapsed": false
   },
   "outputs": [
    {
     "data": {
      "text/plain": [
       "array([[ 38,  10, -26],\n",
       "       [ 32,  -5, -19],\n",
       "       [ 41,  10, -27]])"
      ]
     },
     "execution_count": 172,
     "metadata": {},
     "output_type": "execute_result"
    }
   ],
   "source": [
    "# Матричное умножение\n",
    "A@B"
   ]
  },
  {
   "cell_type": "code",
   "execution_count": 173,
   "metadata": {
    "collapsed": false
   },
   "outputs": [
    {
     "data": {
      "text/plain": [
       "array([[ 25,  40,  31],\n",
       "       [-20, -30, -24],\n",
       "       [ 20,  20,  11]])"
      ]
     },
     "execution_count": 173,
     "metadata": {},
     "output_type": "execute_result"
    }
   ],
   "source": [
    "# Порядок умножения AB != BA\n",
    "B@A"
   ]
  },
  {
   "cell_type": "code",
   "execution_count": 174,
   "metadata": {
    "collapsed": false
   },
   "outputs": [
    {
     "name": "stdout",
     "output_type": "stream",
     "text": [
      "A:\n",
      " [[10  7  8 11  7]\n",
      " [11 10 11  8  8]\n",
      " [ 9 11 10 11  7]]\n",
      "B:\n",
      " [[ 1  0]\n",
      " [-2 -1]\n",
      " [-2 -1]\n",
      " [ 0 -2]\n",
      " [-2  1]]\n"
     ]
    }
   ],
   "source": [
    "# Умножение прямоугольных матриц возможно не в любом порядке\n",
    "A=np.random.randint(5, 12, (3,5))\n",
    "B=np.random.randint(-2, 4, (5,2))\n",
    "print('A:\\n',A)\n",
    "print('B:\\n',B)"
   ]
  },
  {
   "cell_type": "code",
   "execution_count": 175,
   "metadata": {
    "collapsed": false
   },
   "outputs": [
    {
     "data": {
      "text/plain": [
       "array([[-34, -30],\n",
       "       [-47, -29],\n",
       "       [-47, -36]])"
      ]
     },
     "execution_count": 175,
     "metadata": {},
     "output_type": "execute_result"
    }
   ],
   "source": [
    "# Умножение прямоугольных матриц возможно не в любом порядке\n",
    "A@B"
   ]
  },
  {
   "cell_type": "code",
   "execution_count": 176,
   "metadata": {
    "collapsed": false
   },
   "outputs": [
    {
     "ename": "ValueError",
     "evalue": "matmul: Input operand 1 has a mismatch in its core dimension 0, with gufunc signature (n?,k),(k,m?)->(n?,m?) (size 3 is different from 2)",
     "output_type": "error",
     "traceback": [
      "\u001b[0;31m---------------------------------------------------------------------------\u001b[0m",
      "\u001b[0;31mValueError\u001b[0m                                Traceback (most recent call last)",
      "Cell \u001b[0;32mIn[176], line 2\u001b[0m\n\u001b[1;32m      1\u001b[0m \u001b[39m# Умножение прямоугольных матриц возможно не в любом порядке\u001b[39;00m\n\u001b[0;32m----> 2\u001b[0m B\u001b[39m@A\u001b[39;49m\n",
      "\u001b[0;31mValueError\u001b[0m: matmul: Input operand 1 has a mismatch in its core dimension 0, with gufunc signature (n?,k),(k,m?)->(n?,m?) (size 3 is different from 2)"
     ]
    }
   ],
   "source": [
    "# Умножение прямоугольных матриц возможно не в любом порядке\n",
    "B@A"
   ]
  },
  {
   "cell_type": "code",
   "execution_count": null,
   "metadata": {
    "collapsed": false
   },
   "outputs": [
    {
     "name": "stdout",
     "output_type": "stream",
     "text": [
      "shape of A: (3, 5)\n",
      "shape of B: (5, 2)\n",
      "shape of AB: (3, 2)\n"
     ]
    }
   ],
   "source": [
    "# размер произведения матриц\n",
    "print('shape of A:', np.shape(A))\n",
    "print('shape of B:', np.shape(B))\n",
    "print('shape of AB:', np.shape(A@B))"
   ]
  },
  {
   "cell_type": "code",
   "execution_count": null,
   "metadata": {
    "collapsed": false
   },
   "outputs": [
    {
     "name": "stdout",
     "output_type": "stream",
     "text": [
      "A:\n",
      " [[ 1 -4 -2  0]\n",
      " [-3 -2 -4  1]\n",
      " [-3 -2 -4  3]\n",
      " [ 2 -4 -1  1]]\n",
      "D:\n",
      " [[ 1  0  0  0]\n",
      " [ 0  2  0  0]\n",
      " [ 0  0  0  0]\n",
      " [ 0  0  0 -1]]\n",
      "AD:\n",
      " [[ 1 -8  0  0]\n",
      " [-3 -4  0 -1]\n",
      " [-3 -4  0 -3]\n",
      " [ 2 -8  0 -1]]\n",
      "DA:\n",
      " [[ 1 -4 -2  0]\n",
      " [-6 -4 -8  2]\n",
      " [ 0  0  0  0]\n",
      " [-2  4  1 -1]]\n"
     ]
    }
   ],
   "source": [
    "# умножение на специальные матрицы\n",
    "A=np.random.randint(-4, 4, (4,4))\n",
    "D=np.diag([1,2,0,-1])\n",
    "print('A:\\n',A)\n",
    "print('D:\\n',D)\n",
    "print('AD:\\n',A@D)\n",
    "print('DA:\\n',D@A)"
   ]
  },
  {
   "cell_type": "code",
   "execution_count": null,
   "metadata": {
    "collapsed": false
   },
   "outputs": [
    {
     "data": {
      "text/plain": [
       "array([2, 6])"
      ]
     },
     "execution_count": 16,
     "metadata": {},
     "output_type": "execute_result"
    }
   ],
   "source": [
    "# умножение на одномерный массив numpy\n",
    "A=np.array([[1,0,1],[1,1,1]])\n",
    "b=np.array([-3,4,5])\n",
    "A@b"
   ]
  },
  {
   "cell_type": "code",
   "execution_count": null,
   "metadata": {
    "collapsed": false
   },
   "outputs": [
    {
     "ename": "ValueError",
     "evalue": "matmul: Input operand 1 has a mismatch in its core dimension 0, with gufunc signature (n?,k),(k,m?)->(n?,m?) (size 2 is different from 3)",
     "output_type": "error",
     "traceback": [
      "\u001b[0;31m---------------------------------------------------------------------------\u001b[0m",
      "\u001b[0;31mValueError\u001b[0m                                Traceback (most recent call last)",
      "Cell \u001b[0;32mIn[17], line 1\u001b[0m\n\u001b[0;32m----> 1\u001b[0m b\u001b[39m@A\u001b[39;49m\n",
      "\u001b[0;31mValueError\u001b[0m: matmul: Input operand 1 has a mismatch in its core dimension 0, with gufunc signature (n?,k),(k,m?)->(n?,m?) (size 2 is different from 3)"
     ]
    }
   ],
   "source": [
    "b@A"
   ]
  },
  {
   "cell_type": "code",
   "execution_count": null,
   "metadata": {
    "collapsed": false
   },
   "outputs": [
    {
     "name": "stdout",
     "output_type": "stream",
     "text": [
      "[[ 1  1  1]\n",
      " [ 1  0 -1]\n",
      " [-1  2 -1]] <class 'numpy.ndarray'>\n"
     ]
    }
   ],
   "source": [
    "# матрица Грама ортогональной системы векторов\n",
    "x=np.array([1,1,1])\n",
    "y=np.array([1,0,-1])\n",
    "z=np.array([-1,2,-1])\n",
    "A=np.array([x,y,z])\n",
    "print (A, type(A))"
   ]
  },
  {
   "cell_type": "code",
   "execution_count": null,
   "metadata": {
    "collapsed": false
   },
   "outputs": [
    {
     "data": {
      "text/plain": [
       "array([[3, 0, 0],\n",
       "       [0, 2, 0],\n",
       "       [0, 0, 6]])"
      ]
     },
     "execution_count": 19,
     "metadata": {},
     "output_type": "execute_result"
    }
   ],
   "source": [
    "# матрица Грама ортогональной системы векторов\n",
    "A@A.T"
   ]
  },
  {
   "cell_type": "code",
   "execution_count": null,
   "metadata": {
    "collapsed": false
   },
   "outputs": [
    {
     "name": "stdout",
     "output_type": "stream",
     "text": [
      "[[ 0.57735027  0.57735027  0.57735027]\n",
      " [ 0.70710678  0.         -0.70710678]\n",
      " [-0.40824829  0.81649658 -0.40824829]] <class 'numpy.ndarray'>\n"
     ]
    }
   ],
   "source": [
    "# матрица Грама ортонормированной системы векторов\n",
    "x_norm=x/np.linalg.norm(x)\n",
    "y_norm=y/np.linalg.norm(y)\n",
    "z_norm=z/np.linalg.norm(z)\n",
    "A_norm=np.array([x_norm,y_norm,z_norm])\n",
    "print (A_norm, type(A_norm))"
   ]
  },
  {
   "cell_type": "code",
   "execution_count": null,
   "metadata": {
    "collapsed": false
   },
   "outputs": [
    {
     "data": {
      "text/plain": [
       "array([[1., 0., 0.],\n",
       "       [0., 1., 0.],\n",
       "       [0., 0., 1.]])"
      ]
     },
     "execution_count": 21,
     "metadata": {},
     "output_type": "execute_result"
    }
   ],
   "source": [
    "# матрица Грама ортонормированной системы векторов\n",
    "A_norm@A_norm.T"
   ]
  },
  {
   "cell_type": "code",
   "execution_count": null,
   "metadata": {
    "collapsed": false
   },
   "outputs": [
    {
     "data": {
      "text/plain": [
       "array([[1., 0., 0.],\n",
       "       [0., 1., 0.],\n",
       "       [0., 0., 1.]])"
      ]
     },
     "execution_count": 22,
     "metadata": {},
     "output_type": "execute_result"
    }
   ],
   "source": [
    "# ортонормированные системы рулят! :)\n",
    "np.round(A_norm@A_norm.T,1)"
   ]
  },
  {
   "attachments": {},
   "cell_type": "markdown",
   "metadata": {},
   "source": [
    "---"
   ]
  },
  {
   "cell_type": "code",
   "execution_count": null,
   "metadata": {},
   "outputs": [],
   "source": [
    "A = np.array([[5, -1, 3, 1, 2], [-2, 8, 5, -1, 1]])\n",
    "x = np.array([1, 2, 3, 4, 5])\n"
   ]
  },
  {
   "cell_type": "code",
   "execution_count": null,
   "metadata": {},
   "outputs": [
    {
     "data": {
      "text/plain": [
       "array([26, 30])"
      ]
     },
     "execution_count": 26,
     "metadata": {},
     "output_type": "execute_result"
    }
   ],
   "source": [
    "A@x"
   ]
  },
  {
   "attachments": {},
   "cell_type": "markdown",
   "metadata": {},
   "source": [
    "---"
   ]
  },
  {
   "attachments": {},
   "cell_type": "markdown",
   "metadata": {},
   "source": [
    "Задание 7.2\n",
    "1 point possible (graded)\n",
    "\n",
    "Даны две матрицы\n",
    "Найдите произведение матриц А и В в том порядке, в котором их можно умножить.\n",
    "В качестве ответа через запятую, без пробелов запишите элемент чётвертого столбца первой строки."
   ]
  },
  {
   "cell_type": "code",
   "execution_count": null,
   "metadata": {},
   "outputs": [],
   "source": [
    "A = np.array([[1,9,8,5], [3,6,3,2], [3,3,3,3], [0,2,5,9], [4,4,1,2]])\n",
    "B = np.array([[1,-1,0,1,1], [-2,0,2,-1,1]])"
   ]
  },
  {
   "cell_type": "code",
   "execution_count": null,
   "metadata": {},
   "outputs": [
    {
     "data": {
      "text/plain": [
       "array([[  2,   9,  11,  14],\n",
       "       [  8, -10, -14, -11]])"
      ]
     },
     "execution_count": 29,
     "metadata": {},
     "output_type": "execute_result"
    }
   ],
   "source": [
    "B@A"
   ]
  },
  {
   "attachments": {},
   "cell_type": "markdown",
   "metadata": {},
   "source": [
    "---"
   ]
  },
  {
   "attachments": {},
   "cell_type": "markdown",
   "metadata": {},
   "source": [
    "Задание 7.3\n",
    "1 point possible (graded)\n",
    "\n",
    "Дана система векторов\n",
    "Составьте матрицу А, расположив векторы х, ч, ~ в строках. Найдите матрицу Грама G (матрицу скалярных произведений столбцов матрицы А)\n",
    "системы векторов Х, Ч, Z.\n",
    "Чему равна полученная матрица Грама G?"
   ]
  },
  {
   "cell_type": "code",
   "execution_count": null,
   "metadata": {},
   "outputs": [],
   "source": [
    "x = np.array([1,2,1,0,4])\n",
    "y = np.array([2,1,-1,1,0])\n",
    "z = np.array([-1,1,-1,0,0])"
   ]
  },
  {
   "cell_type": "code",
   "execution_count": null,
   "metadata": {},
   "outputs": [
    {
     "data": {
      "text/plain": [
       "array([[ 1,  2, -1],\n",
       "       [ 2,  1,  1],\n",
       "       [ 1, -1, -1],\n",
       "       [ 0,  1,  0],\n",
       "       [ 4,  0,  0]])"
      ]
     },
     "execution_count": 37,
     "metadata": {},
     "output_type": "execute_result"
    }
   ],
   "source": [
    "A = np.array([x,y,z]).T\n",
    "A"
   ]
  },
  {
   "cell_type": "code",
   "execution_count": null,
   "metadata": {},
   "outputs": [
    {
     "data": {
      "text/plain": [
       "array([[ 6,  3,  0,  2,  4],\n",
       "       [ 3,  6,  0,  1,  8],\n",
       "       [ 0,  0,  3, -1,  4],\n",
       "       [ 2,  1, -1,  1,  0],\n",
       "       [ 4,  8,  4,  0, 16]])"
      ]
     },
     "execution_count": 38,
     "metadata": {},
     "output_type": "execute_result"
    }
   ],
   "source": [
    "G = A @ A.T\n",
    "G"
   ]
  },
  {
   "attachments": {},
   "cell_type": "markdown",
   "metadata": {},
   "source": [
    "---"
   ]
  },
  {
   "attachments": {},
   "cell_type": "markdown",
   "metadata": {},
   "source": [
    "УСЛОВИЕ ДЛЯ ЗАДАНИЙ 7.4 И 7.5\n",
    "\n",
    "В салоне красоты «Феи ножниц» работают восемь стилистов: Аня, Борис, Вика, Галя, Дима, Егор, Женя и\n",
    "Юра.\n",
    "\n",
    "Вам предоставлены две таблицы (DataFrame): Count DF И Price DF.\n",
    "\n",
    "• B DataFrame Count DF содержится информация по количеству услуг, оказанных каждым стилистом за\n",
    "апрель.\n",
    "\n",
    "B DataFrame Price_DF содержится информация по стоимости услуг у каждого стилиста в тысячах\n",
    "рублей."
   ]
  },
  {
   "cell_type": "code",
   "execution_count": null,
   "metadata": {},
   "outputs": [],
   "source": [
    "Count_DF = pd.DataFrame({\n",
    "    'Женские стрижки': [10, 2, 12, 4, 6, 10, 22, 7],\n",
    "    'Мужские стрижки': [5, 21, 12, 8, 25, 3, 1, 0],\n",
    "    'Окрашивания': [12, 3, 0, 18, 27, 2, 4, 31],\n",
    "    'Укладка': [15, 25, 30, 14, 25, 17, 25, 31],\n",
    "    'Уход': [10, 6, 4, 5, 18, 12, 20, 28]\n",
    "},\n",
    "    index=['Аня', 'Борис', 'Вика', 'Галя', 'Дима', 'Егор', 'Женя', 'Юра']\n",
    ")\n",
    "Price_DF = pd.DataFrame({\n",
    "    'Женские стрижки': [2, 1.8, 2, 1.8, 2.5, 5, 1.1, 4.5],\n",
    "    'Мужские стрижки': [1.5, 2.5, 2, 1.2, 3.5, 5, 1, 4],\n",
    "    'Окрашивания': [1, 1, 0, 2.8, 2, 3, 1.5, 2.5],\n",
    "    'Укладка': [0.8, 1, 0.5, 0.8, 1, 2, 0.5, 1],\n",
    "    'Уход': [1, 1, 2, 2, 1.5, 2.5, 1.7, 2]\n",
    "},\n",
    "    index=['Аня', 'Борис', 'Вика', 'Галя', 'Дима', 'Егор', 'Женя', 'Юра']\n",
    ")\n"
   ]
  },
  {
   "attachments": {},
   "cell_type": "markdown",
   "metadata": {},
   "source": [
    "Задание 7.4\n",
    "1 point possible (graded)\n",
    "\n",
    "Найдите вектор прибыли салона по стилистам, если за каждую услугу стилисты платят салону определённую комиссию.\n",
    "\n",
    "Вектор комиссий: com = np.array ([0.2, 0.2, 0.3, 0.1, 0.1])\n",
    "\n",
    "Выберите координаты вектора прибыли салона:"
   ]
  },
  {
   "cell_type": "code",
   "execution_count": null,
   "metadata": {},
   "outputs": [
    {
     "data": {
      "text/plain": [
       "array([11.3 , 15.22, 11.9 , 20.6 , 41.9 , 21.2 , 11.49, 38.25])"
      ]
     },
     "execution_count": 159,
     "metadata": {},
     "output_type": "execute_result"
    }
   ],
   "source": [
    "com = np.array([0.2, 0.2, 0.3, 0.1, 0.1])\n",
    "rev = Count_DF * Price_DF\n",
    "rev_cut = rev * com\n",
    "rev_cut['sum_salon'] = rev_cut[rev.columns.to_list()].sum(axis=1)\n",
    "rev_cut['sum_salon'].values"
   ]
  },
  {
   "attachments": {},
   "cell_type": "markdown",
   "metadata": {},
   "source": [
    "---"
   ]
  },
  {
   "attachments": {},
   "cell_type": "markdown",
   "metadata": {},
   "source": [
    "Задание 7.5\n",
    "1 point possible (graded)\n",
    "\n",
    "Найдите вектор прибыли стилистов.\n",
    "Выберите координаты полученного вектора:"
   ]
  },
  {
   "cell_type": "code",
   "execution_count": null,
   "metadata": {},
   "outputs": [],
   "source": [
    "rev['sum'] = rev[rev.columns.to_list()].sum(axis=1)"
   ]
  },
  {
   "cell_type": "code",
   "execution_count": null,
   "metadata": {},
   "outputs": [],
   "source": [
    "rev['stylist'] = rev['sum'] - rev_cut['sum_salon']"
   ]
  },
  {
   "cell_type": "code",
   "execution_count": null,
   "metadata": {},
   "outputs": [
    {
     "data": {
      "text/html": [
       "<div><div id=2053d92a-ab94-4343-97f3-b3e48d0d14b2 style=\"display:none; background-color:#9D6CFF; color:white; width:200px; height:30px; padding-left:5px; border-radius:4px; flex-direction:row; justify-content:space-around; align-items:center;\" onmouseover=\"this.style.backgroundColor='#BA9BF8'\" onmouseout=\"this.style.backgroundColor='#9D6CFF'\" onclick=\"window.commands?.execute('create-mitosheet-from-dataframe-output');\">See Full Dataframe in Mito</div> <script> if (window.commands?.hasCommand('create-mitosheet-from-dataframe-output')) document.getElementById('2053d92a-ab94-4343-97f3-b3e48d0d14b2').style.display = 'flex' </script> <table border=\"1\" class=\"dataframe\">\n",
       "  <thead>\n",
       "    <tr style=\"text-align: right;\">\n",
       "      <th></th>\n",
       "      <th>Женские стрижки</th>\n",
       "      <th>Мужские стрижки</th>\n",
       "      <th>Окрашивания</th>\n",
       "      <th>Укладка</th>\n",
       "      <th>Уход</th>\n",
       "      <th>sum</th>\n",
       "      <th>stylist</th>\n",
       "    </tr>\n",
       "  </thead>\n",
       "  <tbody>\n",
       "    <tr>\n",
       "      <th>Аня</th>\n",
       "      <td>20.0</td>\n",
       "      <td>7.5</td>\n",
       "      <td>12.0</td>\n",
       "      <td>12.0</td>\n",
       "      <td>10.0</td>\n",
       "      <td>61.5</td>\n",
       "      <td>50.20</td>\n",
       "    </tr>\n",
       "    <tr>\n",
       "      <th>Борис</th>\n",
       "      <td>3.6</td>\n",
       "      <td>52.5</td>\n",
       "      <td>3.0</td>\n",
       "      <td>25.0</td>\n",
       "      <td>6.0</td>\n",
       "      <td>90.1</td>\n",
       "      <td>74.88</td>\n",
       "    </tr>\n",
       "    <tr>\n",
       "      <th>Вика</th>\n",
       "      <td>24.0</td>\n",
       "      <td>24.0</td>\n",
       "      <td>0.0</td>\n",
       "      <td>15.0</td>\n",
       "      <td>8.0</td>\n",
       "      <td>71.0</td>\n",
       "      <td>59.10</td>\n",
       "    </tr>\n",
       "    <tr>\n",
       "      <th>Галя</th>\n",
       "      <td>7.2</td>\n",
       "      <td>9.6</td>\n",
       "      <td>50.4</td>\n",
       "      <td>11.2</td>\n",
       "      <td>10.0</td>\n",
       "      <td>88.4</td>\n",
       "      <td>67.80</td>\n",
       "    </tr>\n",
       "    <tr>\n",
       "      <th>Дима</th>\n",
       "      <td>15.0</td>\n",
       "      <td>87.5</td>\n",
       "      <td>54.0</td>\n",
       "      <td>25.0</td>\n",
       "      <td>27.0</td>\n",
       "      <td>208.5</td>\n",
       "      <td>166.60</td>\n",
       "    </tr>\n",
       "    <tr>\n",
       "      <th>Егор</th>\n",
       "      <td>50.0</td>\n",
       "      <td>15.0</td>\n",
       "      <td>6.0</td>\n",
       "      <td>34.0</td>\n",
       "      <td>30.0</td>\n",
       "      <td>135.0</td>\n",
       "      <td>113.80</td>\n",
       "    </tr>\n",
       "    <tr>\n",
       "      <th>Женя</th>\n",
       "      <td>24.2</td>\n",
       "      <td>1.0</td>\n",
       "      <td>6.0</td>\n",
       "      <td>12.5</td>\n",
       "      <td>34.0</td>\n",
       "      <td>77.7</td>\n",
       "      <td>66.21</td>\n",
       "    </tr>\n",
       "    <tr>\n",
       "      <th>Юра</th>\n",
       "      <td>31.5</td>\n",
       "      <td>0.0</td>\n",
       "      <td>77.5</td>\n",
       "      <td>31.0</td>\n",
       "      <td>56.0</td>\n",
       "      <td>196.0</td>\n",
       "      <td>157.75</td>\n",
       "    </tr>\n",
       "  </tbody>\n",
       "</table></div>"
      ],
      "text/plain": [
       "       Женские стрижки  Мужские стрижки  Окрашивания  Укладка  Уход    sum  \\\n",
       "Аня               20.0              7.5         12.0     12.0  10.0   61.5   \n",
       "Борис              3.6             52.5          3.0     25.0   6.0   90.1   \n",
       "Вика              24.0             24.0          0.0     15.0   8.0   71.0   \n",
       "Галя               7.2              9.6         50.4     11.2  10.0   88.4   \n",
       "Дима              15.0             87.5         54.0     25.0  27.0  208.5   \n",
       "Егор              50.0             15.0          6.0     34.0  30.0  135.0   \n",
       "Женя              24.2              1.0          6.0     12.5  34.0   77.7   \n",
       "Юра               31.5              0.0         77.5     31.0  56.0  196.0   \n",
       "\n",
       "       stylist  \n",
       "Аня      50.20  \n",
       "Борис    74.88  \n",
       "Вика     59.10  \n",
       "Галя     67.80  \n",
       "Дима    166.60  \n",
       "Егор    113.80  \n",
       "Женя     66.21  \n",
       "Юра     157.75  "
      ]
     },
     "execution_count": 164,
     "metadata": {},
     "output_type": "execute_result"
    }
   ],
   "source": [
    "rev"
   ]
  },
  {
   "attachments": {},
   "cell_type": "markdown",
   "metadata": {},
   "source": [
    "---"
   ]
  },
  {
   "cell_type": "code",
   "execution_count": 178,
   "metadata": {},
   "outputs": [],
   "source": [
    "A = np.array(([1, 2], [1, 1]))\n",
    "B = np.array(([5, -2], [-1, 4]))\n",
    "\n"
   ]
  },
  {
   "cell_type": "code",
   "execution_count": 181,
   "metadata": {},
   "outputs": [
    {
     "data": {
      "text/plain": [
       "-1.0"
      ]
     },
     "execution_count": 181,
     "metadata": {},
     "output_type": "execute_result"
    }
   ],
   "source": [
    "np.linalg.det(A)"
   ]
  },
  {
   "cell_type": "code",
   "execution_count": 182,
   "metadata": {},
   "outputs": [
    {
     "data": {
      "text/plain": [
       "17.999999999999996"
      ]
     },
     "execution_count": 182,
     "metadata": {},
     "output_type": "execute_result"
    }
   ],
   "source": [
    "np.linalg.det(B)"
   ]
  },
  {
   "cell_type": "code",
   "execution_count": 183,
   "metadata": {},
   "outputs": [
    {
     "data": {
      "text/plain": [
       "29.99999999999999"
      ]
     },
     "execution_count": 183,
     "metadata": {},
     "output_type": "execute_result"
    }
   ],
   "source": [
    "np.linalg.det(A+B)"
   ]
  },
  {
   "attachments": {},
   "cell_type": "markdown",
   "metadata": {},
   "source": [
    "---"
   ]
  },
  {
   "attachments": {},
   "cell_type": "markdown",
   "metadata": {},
   "source": [
    "Задание 10.1\n",
    "\n",
    "Дана матрица А:\n",
    "\n",
    "A = np.array([[8, 6, 11], [7, 5, 9],[6, 10, 6]])\n",
    "\n",
    "Найдите матрицу, обратную матрице А.\n",
    "\n",
    "•В качестве ответа запишите элемент из первого столбца второй строки, округлив его до трёх знаков после точки-разделителя."
   ]
  },
  {
   "cell_type": "code",
   "execution_count": 185,
   "metadata": {},
   "outputs": [],
   "source": [
    "A = np.array([[8, 6, 11], [7, 5, 9],[6, 10, 6]])"
   ]
  },
  {
   "cell_type": "code",
   "execution_count": 188,
   "metadata": {},
   "outputs": [
    {
     "data": {
      "text/plain": [
       "array([[-1.875  ,  2.3125 , -0.03125],\n",
       "       [ 0.375  , -0.5625 ,  0.15625],\n",
       "       [ 1.25   , -1.375  , -0.0625 ]])"
      ]
     },
     "execution_count": 188,
     "metadata": {},
     "output_type": "execute_result"
    }
   ],
   "source": [
    "A_inv = np.linalg.inv(A)\n",
    "A_inv"
   ]
  },
  {
   "cell_type": "code",
   "execution_count": 192,
   "metadata": {},
   "outputs": [
    {
     "data": {
      "text/plain": [
       "0.375"
      ]
     },
     "execution_count": 192,
     "metadata": {},
     "output_type": "execute_result"
    }
   ],
   "source": [
    "A_inv[1][0].round(3)"
   ]
  },
  {
   "attachments": {},
   "cell_type": "markdown",
   "metadata": {},
   "source": [
    "____"
   ]
  },
  {
   "cell_type": "code",
   "execution_count": 194,
   "metadata": {},
   "outputs": [],
   "source": [
    "v1 = np.array([9, 10, 7, 7, 9])\n",
    "v2 = np.array([2, 0, 5, 1, 4])\n",
    "v3 = np.array([4, 0, 0, 4, 1])\n",
    "v4 = np. array([3, -4, 3, -1, -4])\n"
   ]
  },
  {
   "attachments": {},
   "cell_type": "markdown",
   "metadata": {},
   "source": [
    "Задание 10.2\n",
    "\n",
    "Найдите ранг системы векторов v1, v2, v3, v4. Для этого создайте матрицу системы векторов. Векторы в матрице расположите в столбцы."
   ]
  },
  {
   "cell_type": "code",
   "execution_count": 195,
   "metadata": {},
   "outputs": [
    {
     "data": {
      "text/plain": [
       "array([[ 9,  2,  4,  3],\n",
       "       [10,  0,  0, -4],\n",
       "       [ 7,  5,  0,  3],\n",
       "       [ 7,  1,  4, -1],\n",
       "       [ 9,  4,  1, -4]])"
      ]
     },
     "execution_count": 195,
     "metadata": {},
     "output_type": "execute_result"
    }
   ],
   "source": [
    "A = np.array([v1, v2, v3, v4]).T\n",
    "A "
   ]
  },
  {
   "cell_type": "code",
   "execution_count": 196,
   "metadata": {},
   "outputs": [
    {
     "data": {
      "text/plain": [
       "4"
      ]
     },
     "execution_count": 196,
     "metadata": {},
     "output_type": "execute_result"
    }
   ],
   "source": [
    "np.linalg.matrix_rank(A)"
   ]
  },
  {
   "attachments": {},
   "cell_type": "markdown",
   "metadata": {},
   "source": [
    "---\n",
    "\n"
   ]
  },
  {
   "attachments": {},
   "cell_type": "markdown",
   "metadata": {},
   "source": [
    "Задание 10.4\n",
    "\n",
    "\n",
    "Найдите матрицу Грама системы векторов векторов v1, v2, v3, v4: G = A.T @ A. \n",
    "\n",
    "В качестве ответа запишите элемент из четвёртого столбца первой строки."
   ]
  },
  {
   "cell_type": "code",
   "execution_count": 201,
   "metadata": {},
   "outputs": [
    {
     "data": {
      "text/plain": [
       "array([[360,  96,  73, -35],\n",
       "       [ 96,  46,  16,   4],\n",
       "       [ 73,  16,  33,   4],\n",
       "       [-35,   4,   4,  51]])"
      ]
     },
     "execution_count": 201,
     "metadata": {},
     "output_type": "execute_result"
    }
   ],
   "source": [
    "G = A.T @ A\n",
    "G"
   ]
  },
  {
   "attachments": {},
   "cell_type": "markdown",
   "metadata": {},
   "source": [
    "---"
   ]
  },
  {
   "attachments": {},
   "cell_type": "markdown",
   "metadata": {},
   "source": [
    "Задание 10 5\n",
    "\n",
    "Найдите определитель матрицы Грама G системы v1, v2, v3, v4. Ответ округлите до целого числа."
   ]
  },
  {
   "cell_type": "code",
   "execution_count": 203,
   "metadata": {},
   "outputs": [
    {
     "data": {
      "text/plain": [
       "3716648.0"
      ]
     },
     "execution_count": 203,
     "metadata": {},
     "output_type": "execute_result"
    }
   ],
   "source": [
    "np.linalg.det(G).round(3)"
   ]
  },
  {
   "attachments": {},
   "cell_type": "markdown",
   "metadata": {},
   "source": [
    "---"
   ]
  },
  {
   "attachments": {},
   "cell_type": "markdown",
   "metadata": {},
   "source": [
    "asdЗадание 10.7\n",
    "\n",
    "Найдите обратную матрицу к матрице Грама G системы v1, v2, v3, v4. В качестве ответа запишите элемент из первого столбца третьей строки,\n",
    "округлив его до трёх знаков после точки-разделителя."
   ]
  },
  {
   "cell_type": "code",
   "execution_count": 205,
   "metadata": {},
   "outputs": [
    {
     "data": {
      "text/plain": [
       "array([[ 0.017, -0.028, -0.026,  0.016],\n",
       "       [-0.028,  0.072,  0.03 , -0.027],\n",
       "       [-0.026,  0.03 ,  0.077, -0.026],\n",
       "       [ 0.016, -0.027, -0.026,  0.035]])"
      ]
     },
     "execution_count": 205,
     "metadata": {},
     "output_type": "execute_result"
    }
   ],
   "source": [
    "G_inv = np.linalg.inv(G).round(3)\n",
    "G_inv"
   ]
  },
  {
   "cell_type": "code",
   "execution_count": null,
   "metadata": {},
   "outputs": [],
   "source": []
  }
 ],
 "metadata": {
  "kernelspec": {
   "display_name": "Python 3",
   "language": "python",
   "name": "python3"
  },
  "language_info": {
   "codemirror_mode": {
    "name": "ipython",
    "version": 3
   },
   "file_extension": ".py",
   "mimetype": "text/x-python",
   "name": "python",
   "nbconvert_exporter": "python",
   "pygments_lexer": "ipython3",
   "version": "3.11.0"
  }
 },
 "nbformat": 4,
 "nbformat_minor": 2
}
