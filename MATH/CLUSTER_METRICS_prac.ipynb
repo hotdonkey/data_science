{
 "cells": [
  {
   "cell_type": "code",
   "execution_count": 146,
   "metadata": {},
   "outputs": [],
   "source": [
    "import numpy as np\n",
    "import pandas as pd\n",
    "\n",
    "import matplotlib.pyplot as plt\n",
    "import seaborn as sns\n",
    "\n",
    "from sklearn.preprocessing import StandardScaler\n",
    "from sklearn.metrics import make_scorer, silhouette_score, calinski_harabasz_score, davies_bouldin_score\n",
    "from sklearn.metrics import homogeneity_score, completeness_score, adjusted_rand_score\n",
    "from sklearn.cluster import KMeans, AgglomerativeClustering\n",
    "from sklearn.decomposition import PCA, TruncatedSVD\n",
    "\n",
    "\n",
    "import warnings\n",
    "warnings.filterwarnings('ignore')\n"
   ]
  },
  {
   "cell_type": "code",
   "execution_count": 2,
   "metadata": {},
   "outputs": [
    {
     "data": {
      "text/plain": [
       "(10299, 561)"
      ]
     },
     "execution_count": 2,
     "metadata": {},
     "output_type": "execute_result"
    }
   ],
   "source": [
    "# Задание 4.1\n",
    "\n",
    "# Так как изначально данные были представлены для решения задачи классификации, то они находятся в разных файлах (обучающая и тестовая\n",
    "# выборки в соотношении 70/30). Соедините признаки так, чтобы сначала шла обучающая выборка, а затем - тестовая, и отдельно соедините\n",
    "# значения целевых переменных (разумеется, в том же порядке).\n",
    "# Какая размерность получилась у набора данных с признаками?\n",
    "\n",
    "X_train = np.loadtxt('./data/train.txt')\n",
    "X_test = np.loadtxt('./data/test.txt')\n",
    "\n",
    "y_train = np.loadtxt('./data/train_labels.txt')\n",
    "y_test = np.loadtxt('./data/test_labels.txt')\n",
    "\n",
    "X = np.concatenate((X_train, X_test))\n",
    "y = np.concatenate((y_train, y_test))\n",
    "\n",
    "X.shape\n"
   ]
  },
  {
   "cell_type": "code",
   "execution_count": 50,
   "metadata": {},
   "outputs": [
    {
     "data": {
      "text/plain": [
       "(6,)"
      ]
     },
     "execution_count": 50,
     "metadata": {},
     "output_type": "execute_result"
    }
   ],
   "source": [
    "# Задание 4.2\n",
    "\n",
    "# Теперь найдите число различных активностей, то есть на сколько кластеров в идеале должны разделиться наблюдения.\n",
    "activities = pd.Series(y).nunique() # 1 вариант\n",
    "np.unique(y).shape # 2 вариант"
   ]
  },
  {
   "cell_type": "code",
   "execution_count": 16,
   "metadata": {},
   "outputs": [
    {
     "data": {
      "text/plain": [
       "0.21"
      ]
     },
     "execution_count": 16,
     "metadata": {},
     "output_type": "execute_result"
    }
   ],
   "source": [
    "# Задание 4.3\n",
    "\n",
    "# Далее необходимо отмасштабировать признаки. Будем использовать для этого алгоритм StandardScaler. Примените его ко всем значениям\n",
    "# признаков и впишите в качестве ответа значение первого признака для первого объекта, предварительно округлив его до двух знаков после\n",
    "# точки-разделителя.\n",
    "scalelr = StandardScaler()\n",
    "X_norm = scalelr.fit_transform(X)\n",
    "round(X_norm[0][0], 2)"
   ]
  },
  {
   "cell_type": "code",
   "execution_count": 48,
   "metadata": {},
   "outputs": [
    {
     "data": {
      "text/html": [
       "<div>\n",
       "<style scoped>\n",
       "    .dataframe tbody tr th:only-of-type {\n",
       "        vertical-align: middle;\n",
       "    }\n",
       "\n",
       "    .dataframe tbody tr th {\n",
       "        vertical-align: top;\n",
       "    }\n",
       "\n",
       "    .dataframe thead th {\n",
       "        text-align: right;\n",
       "    }\n",
       "</style>\n",
       "<table border=\"1\" class=\"dataframe\">\n",
       "  <thead>\n",
       "    <tr style=\"text-align: right;\">\n",
       "      <th></th>\n",
       "      <th>cluster</th>\n",
       "      <th>silhouette_score</th>\n",
       "      <th>calinski_harabasz_score</th>\n",
       "      <th>davies_bouldin_score</th>\n",
       "    </tr>\n",
       "  </thead>\n",
       "  <tbody>\n",
       "    <tr>\n",
       "      <th>0</th>\n",
       "      <td>2</td>\n",
       "      <td>0.393732</td>\n",
       "      <td>7880.813904</td>\n",
       "      <td>1.070744</td>\n",
       "    </tr>\n",
       "    <tr>\n",
       "      <th>1</th>\n",
       "      <td>3</td>\n",
       "      <td>0.315484</td>\n",
       "      <td>5034.475257</td>\n",
       "      <td>1.786516</td>\n",
       "    </tr>\n",
       "    <tr>\n",
       "      <th>2</th>\n",
       "      <td>4</td>\n",
       "      <td>0.150529</td>\n",
       "      <td>3696.338198</td>\n",
       "      <td>2.340930</td>\n",
       "    </tr>\n",
       "    <tr>\n",
       "      <th>3</th>\n",
       "      <td>5</td>\n",
       "      <td>0.127237</td>\n",
       "      <td>3027.076172</td>\n",
       "      <td>2.431375</td>\n",
       "    </tr>\n",
       "    <tr>\n",
       "      <th>4</th>\n",
       "      <td>6</td>\n",
       "      <td>0.110969</td>\n",
       "      <td>2556.773574</td>\n",
       "      <td>2.367036</td>\n",
       "    </tr>\n",
       "    <tr>\n",
       "      <th>5</th>\n",
       "      <td>7</td>\n",
       "      <td>0.085419</td>\n",
       "      <td>2216.563937</td>\n",
       "      <td>2.681980</td>\n",
       "    </tr>\n",
       "    <tr>\n",
       "      <th>6</th>\n",
       "      <td>8</td>\n",
       "      <td>0.076183</td>\n",
       "      <td>1974.971496</td>\n",
       "      <td>2.611226</td>\n",
       "    </tr>\n",
       "    <tr>\n",
       "      <th>7</th>\n",
       "      <td>9</td>\n",
       "      <td>0.076488</td>\n",
       "      <td>1790.953173</td>\n",
       "      <td>2.581888</td>\n",
       "    </tr>\n",
       "  </tbody>\n",
       "</table>\n",
       "</div>"
      ],
      "text/plain": [
       "   cluster  silhouette_score  calinski_harabasz_score  davies_bouldin_score\n",
       "0        2          0.393732              7880.813904              1.070744\n",
       "1        3          0.315484              5034.475257              1.786516\n",
       "2        4          0.150529              3696.338198              2.340930\n",
       "3        5          0.127237              3027.076172              2.431375\n",
       "4        6          0.110969              2556.773574              2.367036\n",
       "5        7          0.085419              2216.563937              2.681980\n",
       "6        8          0.076183              1974.971496              2.611226\n",
       "7        9          0.076488              1790.953173              2.581888"
      ]
     },
     "metadata": {},
     "output_type": "display_data"
    },
    {
     "data": {
      "text/plain": [
       "''"
      ]
     },
     "execution_count": 48,
     "metadata": {},
     "output_type": "execute_result"
    },
    {
     "data": {
      "image/png": "[encoded data removed]",
      "text/plain": [
       "<Figure size 1500x500 with 3 Axes>"
      ]
     },
     "metadata": {},
     "output_type": "display_data"
    }
   ],
   "source": [
    "# Задание 4.4\n",
    "\n",
    "# Пора переходить к кластеризации. Для начала определите оптимальное количество кластеров, используя внутренние меры кластеризации.\n",
    "# Используйте все известные вам коэффициенты, реализуемые в библиотеке sklearn: коэффициент силуэта, индекс Калински - Харабаса и индекс\n",
    "# Дэвиса - Болдина. В качестве алгоритма возьмите k-means++, в качестве значения параметра random state - Число 42.\n",
    "# Выведите оптимальное количество кластеров для каждой метрики, перебирая значения от 2 до 9 включительно. Также введите значение\n",
    "# каждой метрики, округлённое до двух знаков после точки-разделителя.\n",
    "\n",
    "initial_clusters = range(2, 10)\n",
    "silhouette = []\n",
    "calinski = []\n",
    "davies = []\n",
    "\n",
    "for cluster in initial_clusters:\n",
    "    km_base = KMeans(n_clusters=cluster, random_state=42)\n",
    "    km_base.fit_predict(X_norm)\n",
    "\n",
    "    silhouette.append((cluster, silhouette_score(X_norm, km_base.labels_)))\n",
    "    calinski.append((cluster, calinski_harabasz_score(X_norm, km_base.labels_)))\n",
    "    davies.append((cluster, davies_bouldin_score(X_norm, km_base.labels_)))\n",
    "\n",
    "silhouette_df = pd.DataFrame(silhouette, columns=['cluster', 'silhouette_score'])\n",
    "calinski_df = pd.DataFrame(calinski, columns=['cluster', 'calinski_harabasz_score'])\n",
    "davies_df = pd.DataFrame(davies, columns=['cluster', 'davies_bouldin_score'])\n",
    "optimal_cluster = pd.merge(left=silhouette_df, right=calinski_df)\n",
    "optimal_cluster = pd.merge(left=optimal_cluster, right=davies_df)\n",
    "display(optimal_cluster)\n",
    "\n",
    "fig, axes = plt.subplots(1,3, figsize=(15,5))\n",
    "sns.lineplot(data=optimal_cluster, x='cluster', y='silhouette_score', ax=axes[0])\n",
    "sns.lineplot(data=optimal_cluster, x='cluster', y='calinski_harabasz_score', ax=axes[1])\n",
    "sns.lineplot(data=optimal_cluster, x='cluster', y='davies_bouldin_score', ax=axes[2])\n",
    "\n",
    "axes[0].set_title('Silhouette score')\n",
    "axes[1].set_title('Calinski-Harabasz score')\n",
    "axes[2].set_title('Davies Bouldin score')\n",
    ";"
   ]
  },
  {
   "cell_type": "code",
   "execution_count": 55,
   "metadata": {},
   "outputs": [
    {
     "name": "stdout",
     "output_type": "stream",
     "text": [
      "0.54\n",
      "0.58\n",
      "0.42\n"
     ]
    }
   ],
   "source": [
    "# Задание 4.5\n",
    "\n",
    "# Теперь давайте оценим качество кластеризации с точки зрения внешних мер. Реализуйте кластеризацию с помощью классической версии\n",
    "# алгоритма k-means . Пусть количество кластеров будет соответствовать количеству активностей. Задайте следующие значения параметров:\n",
    "# random state=42, init='random'.\n",
    "# В качестве ответов введите значения получившихся мер, предварительно округлив их до двух знаков после точки-разделителя.\n",
    "km_base = KMeans(n_clusters=activities, init='random', random_state=42)\n",
    "km_base.fit_predict(X_norm)\n",
    "\n",
    "print(homogeneity_score(y, km_base.labels_).round(2))\n",
    "print(completeness_score(y, km_base.labels_).round(2))\n",
    "print(round(adjusted_rand_score(y, km_base.labels_),2))"
   ]
  },
  {
   "cell_type": "code",
   "execution_count": 71,
   "metadata": {},
   "outputs": [
    {
     "data": {
      "text/plain": [
       "0    1\n",
       "6.0  0    1556\n",
       "5.0  1    1346\n",
       "2.0  2    1242\n",
       "4.0  1    1238\n",
       "1.0  2     903\n",
       "3.0  4     889\n",
       "1.0  4     741\n",
       "5.0  5     560\n",
       "4.0  5     447\n",
       "6.0  5     329\n",
       "3.0  2     321\n",
       "2.0  4     295\n",
       "3.0  3     196\n",
       "4.0  0      91\n",
       "1.0  3      78\n",
       "6.0  1      54\n",
       "2.0  3       5\n",
       "6.0  2       5\n",
       "2.0  5       2\n",
       "4.0  2       1\n",
       "dtype: int64"
      ]
     },
     "execution_count": 71,
     "metadata": {},
     "output_type": "execute_result"
    }
   ],
   "source": [
    "# Задание 4.6\n",
    "\n",
    "# Выясните, к каким кластерам были преимущественно отнесены различные активности (т. е. в какой кластер попало большинство наблюдений с\n",
    "# этой активностью). Нумерацию кластеров начинайте с 1.\n",
    "activ_type = pd.Series(y)\n",
    "cluster_check = pd.concat([activ_type, pd.Series(km_base.labels_)], axis=1)\n",
    "cluster_check.value_counts()"
   ]
  },
  {
   "cell_type": "code",
   "execution_count": 74,
   "metadata": {},
   "outputs": [
    {
     "data": {
      "text/html": [
       "<div>\n",
       "<style scoped>\n",
       "    .dataframe tbody tr th:only-of-type {\n",
       "        vertical-align: middle;\n",
       "    }\n",
       "\n",
       "    .dataframe tbody tr th {\n",
       "        vertical-align: top;\n",
       "    }\n",
       "\n",
       "    .dataframe thead th {\n",
       "        text-align: right;\n",
       "    }\n",
       "</style>\n",
       "<table border=\"1\" class=\"dataframe\">\n",
       "  <thead>\n",
       "    <tr style=\"text-align: right;\">\n",
       "      <th></th>\n",
       "      <th>1</th>\n",
       "      <th>2</th>\n",
       "      <th>3</th>\n",
       "      <th>4</th>\n",
       "      <th>5</th>\n",
       "      <th>6</th>\n",
       "    </tr>\n",
       "  </thead>\n",
       "  <tbody>\n",
       "    <tr>\n",
       "      <th>ходьба</th>\n",
       "      <td>0</td>\n",
       "      <td>0</td>\n",
       "      <td>903</td>\n",
       "      <td>78</td>\n",
       "      <td>741</td>\n",
       "      <td>0</td>\n",
       "    </tr>\n",
       "    <tr>\n",
       "      <th>подъём</th>\n",
       "      <td>0</td>\n",
       "      <td>0</td>\n",
       "      <td>1242</td>\n",
       "      <td>5</td>\n",
       "      <td>295</td>\n",
       "      <td>2</td>\n",
       "    </tr>\n",
       "    <tr>\n",
       "      <th>спуск</th>\n",
       "      <td>0</td>\n",
       "      <td>0</td>\n",
       "      <td>321</td>\n",
       "      <td>196</td>\n",
       "      <td>889</td>\n",
       "      <td>0</td>\n",
       "    </tr>\n",
       "    <tr>\n",
       "      <th>сидение</th>\n",
       "      <td>91</td>\n",
       "      <td>1238</td>\n",
       "      <td>1</td>\n",
       "      <td>0</td>\n",
       "      <td>0</td>\n",
       "      <td>447</td>\n",
       "    </tr>\n",
       "    <tr>\n",
       "      <th>стояние</th>\n",
       "      <td>0</td>\n",
       "      <td>1346</td>\n",
       "      <td>0</td>\n",
       "      <td>0</td>\n",
       "      <td>0</td>\n",
       "      <td>560</td>\n",
       "    </tr>\n",
       "    <tr>\n",
       "      <th>лежание</th>\n",
       "      <td>1556</td>\n",
       "      <td>54</td>\n",
       "      <td>5</td>\n",
       "      <td>0</td>\n",
       "      <td>0</td>\n",
       "      <td>329</td>\n",
       "    </tr>\n",
       "  </tbody>\n",
       "</table>\n",
       "</div>"
      ],
      "text/plain": [
       "            1     2     3    4    5    6\n",
       "ходьба      0     0   903   78  741    0\n",
       "подъём      0     0  1242    5  295    2\n",
       "спуск       0     0   321  196  889    0\n",
       "сидение    91  1238     1    0    0  447\n",
       "стояние     0  1346     0    0    0  560\n",
       "лежание  1556    54     5    0    0  329"
      ]
     },
     "metadata": {},
     "output_type": "display_data"
    }
   ],
   "source": [
    "# Эталонное решение\n",
    "#создаём таблицу сопряжённости\n",
    "ct = pd.crosstab(y, km_base.labels_)\n",
    "#определяем название активностей\n",
    "ct.index = ['ходьба', 'подъём', \n",
    "            'спуск', 'сидение', 'стояние', 'лежание']\n",
    "ct.columns = list(range(1,7))\n",
    "display(ct)"
   ]
  },
  {
   "cell_type": "code",
   "execution_count": 76,
   "metadata": {},
   "outputs": [
    {
     "data": {
      "text/html": [
       "<div>\n",
       "<style scoped>\n",
       "    .dataframe tbody tr th:only-of-type {\n",
       "        vertical-align: middle;\n",
       "    }\n",
       "\n",
       "    .dataframe tbody tr th {\n",
       "        vertical-align: top;\n",
       "    }\n",
       "\n",
       "    .dataframe thead th {\n",
       "        text-align: right;\n",
       "    }\n",
       "</style>\n",
       "<table border=\"1\" class=\"dataframe\">\n",
       "  <thead>\n",
       "    <tr style=\"text-align: right;\">\n",
       "      <th></th>\n",
       "      <th>1</th>\n",
       "      <th>2</th>\n",
       "    </tr>\n",
       "  </thead>\n",
       "  <tbody>\n",
       "    <tr>\n",
       "      <th>ходьба</th>\n",
       "      <td>1722</td>\n",
       "      <td>0</td>\n",
       "    </tr>\n",
       "    <tr>\n",
       "      <th>подъём</th>\n",
       "      <td>1536</td>\n",
       "      <td>8</td>\n",
       "    </tr>\n",
       "    <tr>\n",
       "      <th>спуск</th>\n",
       "      <td>1406</td>\n",
       "      <td>0</td>\n",
       "    </tr>\n",
       "    <tr>\n",
       "      <th>сидение</th>\n",
       "      <td>3</td>\n",
       "      <td>1774</td>\n",
       "    </tr>\n",
       "    <tr>\n",
       "      <th>стояние</th>\n",
       "      <td>0</td>\n",
       "      <td>1906</td>\n",
       "    </tr>\n",
       "    <tr>\n",
       "      <th>лежание</th>\n",
       "      <td>12</td>\n",
       "      <td>1932</td>\n",
       "    </tr>\n",
       "  </tbody>\n",
       "</table>\n",
       "</div>"
      ],
      "text/plain": [
       "            1     2\n",
       "ходьба   1722     0\n",
       "подъём   1536     8\n",
       "спуск    1406     0\n",
       "сидение     3  1774\n",
       "стояние     0  1906\n",
       "лежание    12  1932"
      ]
     },
     "execution_count": 76,
     "metadata": {},
     "output_type": "execute_result"
    }
   ],
   "source": [
    "# Задание 4.7\n",
    "\n",
    "# Теперь попробуйте реализовать алгоритм k-means для двух кластеров (для того числа активностей, которое является оптимальным с точки\n",
    "# зрения внутренних мер) и снова посмотреть, как алгоритм разобьёт активности по кластерам. Как и в предыдущем задании, нумерацию\n",
    "# кластеров начинайте с 1.\n",
    "km_prop = KMeans(n_clusters=2, init='random', random_state=42)\n",
    "km_prop.fit_predict(X_norm)\n",
    "\n",
    "ct = pd.crosstab(y, km_prop.labels_)\n",
    "ct.index = ct.index = ['ходьба', 'подъём', \n",
    "            'спуск', 'сидение', 'стояние', 'лежание']\n",
    "ct.columns = [1,2]\n",
    "ct"
   ]
  },
  {
   "cell_type": "code",
   "execution_count": 78,
   "metadata": {},
   "outputs": [
    {
     "data": {
      "text/plain": [
       "0.98"
      ]
     },
     "execution_count": 78,
     "metadata": {},
     "output_type": "execute_result"
    }
   ],
   "source": [
    "# Задание 4.8\n",
    "\n",
    "# Вычислите значение полноты для разбиения на два кластера алгоритмом k-means. Ответ округлите до двух знаков после точки-\n",
    "# разделителя.\n",
    "completeness_score(y, km_prop.labels_).round(2)"
   ]
  },
  {
   "cell_type": "code",
   "execution_count": 81,
   "metadata": {},
   "outputs": [
    {
     "data": {
      "text/plain": [
       "1.0"
      ]
     },
     "execution_count": 81,
     "metadata": {},
     "output_type": "execute_result"
    }
   ],
   "source": [
    "# Задание 4.10\n",
    "\n",
    "# Давайте сравним полученный результат с агломеративной иерархической кластеризацией. Реализуйте её также для двух кластеров и\n",
    "# вычислите значение полноты.\n",
    "\n",
    "agglo_clust = AgglomerativeClustering(n_clusters=2)\n",
    "agglo_clust.fit_predict(X_norm)\n",
    "\n",
    "completeness_score(y, agglo_clust.labels_).round(2)\n"
   ]
  },
  {
   "cell_type": "markdown",
   "metadata": {},
   "source": [
    "---"
   ]
  },
  {
   "cell_type": "code",
   "execution_count": 90,
   "metadata": {},
   "outputs": [
    {
     "data": {
      "text/plain": [
       "14.33"
      ]
     },
     "execution_count": 90,
     "metadata": {},
     "output_type": "execute_result"
    }
   ],
   "source": [
    "# Задание 5.1\n",
    "\n",
    "# Найдите матрицу ковариаций для векторов (3, 4, 1) и (1, 6, 2). В качестве ответа укажите сумму всех значений матрицы, округлённую до двух\n",
    "# знаков после точки-разделителя.\n",
    "a = np.array([3, 4, 1])\n",
    "b = np.array([1, 6, 2])\n",
    "\n",
    "round(np.cov(a,b).sum(),2)\n"
   ]
  },
  {
   "cell_type": "code",
   "execution_count": 109,
   "metadata": {},
   "outputs": [
    {
     "data": {
      "text/plain": [
       "array([[-1.80165871,  1.97185427,  0.01476842],\n",
       "       [ 2.3304418 ,  1.13731957, -0.27299129],\n",
       "       [-0.33058187, -1.07271253, -0.05894919],\n",
       "       [-0.56338656, -1.39054159, -0.56805924],\n",
       "       [ 0.36518535, -0.64591972,  0.8852313 ]])"
      ]
     },
     "metadata": {},
     "output_type": "display_data"
    }
   ],
   "source": [
    "# Задание 5.5\n",
    "\n",
    "# Дана матрица признаков\n",
    "# Какое минимальное количество главных компонент надо выделить, чтобы сохранить информацию о как минимум 90 % разброса данных?\n",
    "\n",
    "A = np.matrix([\n",
    "    [8, 7, 2, 9],\n",
    "    [1, 3, 6, 3],\n",
    "    [7, 2, 0, 3],\n",
    "    [10, 3, 1, 1],\n",
    "    [8, 1, 3, 4]\n",
    "])\n",
    "\n",
    "df = pd.DataFrame(A)\n",
    "scaller = StandardScaler()\n",
    "A_std = scaller.fit_transform(df)\n",
    "#df_std  = (df - df.mean()) / (df.std())\n",
    "\n",
    "pca = PCA(n_components=0.9)\n",
    "prin_comp = pca.fit_transform(A_std)\n",
    "\n",
    "display(prin_comp)"
   ]
  },
  {
   "cell_type": "code",
   "execution_count": 157,
   "metadata": {},
   "outputs": [
    {
     "data": {
      "text/plain": [
       "array([[ 1.,  1.],\n",
       "       [ 1., -1.],\n",
       "       [-1.,  0.]])"
      ]
     },
     "execution_count": 157,
     "metadata": {},
     "output_type": "execute_result"
    }
   ],
   "source": [
    "# создаём объект класса TruncatedSVD\n",
    "# n_components — размерность нового пространства, n_iter — количество итераций\n",
    "#A = np.matrix([[-1, 1, 0],[-1, -1, 1]])\n",
    "A = np.array([[-1, 1, 0], [-1, -1, 1]]).T\n",
    "\n",
    "svd = TruncatedSVD(n_components=2, n_iter=7, random_state=42)\n",
    "# обучаем модель на данных X\n",
    "svd.fit(A)\n",
    "# применяем уменьшение размерности к матрице X\n",
    "transformed = svd.transform(A)\n",
    "\n",
    "transformed"
   ]
  },
  {
   "cell_type": "code",
   "execution_count": 162,
   "metadata": {},
   "outputs": [
    {
     "data": {
      "text/plain": [
       "array([[-19.350155 , -35.30527  ],\n",
       "       [-19.653883 ,  -5.1900606],\n",
       "       [-20.152666 , -22.464697 ],\n",
       "       ...,\n",
       "       [ 13.928527 , -16.843653 ],\n",
       "       [ 13.828104 , -16.859516 ],\n",
       "       [ 13.80447  , -16.702316 ]], dtype=float32)"
      ]
     },
     "execution_count": 162,
     "metadata": {},
     "output_type": "execute_result"
    }
   ],
   "source": [
    "# импортируем класс TSNE из модуля manifold библиотеки sklearn\n",
    "from sklearn.manifold import TSNE\n",
    "# создаём объект класса TSNE\n",
    "# n_components — размерность нового пространства\n",
    "tsne = TSNE(n_components=2, perplexity=30, n_iter=500, random_state=42)\n",
    "# обучаем модель на данных X и применяем к матрице X уменьшение размерности\n",
    "tsne.fit_transform(X)\n"
   ]
  },
  {
   "cell_type": "code",
   "execution_count": null,
   "metadata": {},
   "outputs": [],
   "source": []
  }
 ],
 "metadata": {
  "kernelspec": {
   "display_name": "Python 3",
   "language": "python",
   "name": "python3"
  },
  "language_info": {
   "codemirror_mode": {
    "name": "ipython",
    "version": 3
   },
   "file_extension": ".py",
   "mimetype": "text/x-python",
   "name": "python",
   "nbconvert_exporter": "python",
   "pygments_lexer": "ipython3",
   "version": "3.11.1"
  },
  "orig_nbformat": 4
 },
 "nbformat": 4,
 "nbformat_minor": 2
}
