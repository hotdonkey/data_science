{
 "cells": [
  {
   "cell_type": "code",
   "execution_count": 1,
   "metadata": {},
   "outputs": [],
   "source": [
    "import numpy as np\n",
    "import pandas as pd\n",
    "from sklearn.model_selection import train_test_split\n",
    "from tensorflow.keras.layers import Input, Embedding, Flatten, Dot, Dense, Concatenate\n",
    "from tensorflow.keras.models import Model"
   ]
  },
  {
   "cell_type": "code",
   "execution_count": 2,
   "metadata": {},
   "outputs": [],
   "source": [
    "df = pd.read_csv('./data/Gooddreadbooks/ratings.csv')"
   ]
  },
  {
   "cell_type": "code",
   "execution_count": 3,
   "metadata": {},
   "outputs": [
    {
     "data": {
      "text/plain": [
       "(785404, 3)"
      ]
     },
     "execution_count": 3,
     "metadata": {},
     "output_type": "execute_result"
    }
   ],
   "source": [
    "# Задание 5.1\n",
    "\n",
    "# Разбейте данные на обучающую и тестовую выборки в отношении 4:1. В качестве значения параметра random state возьмите число 42.\n",
    "# Сколько объектов теперь находится в обучающей выборке?\n",
    "\n",
    "train, test = train_test_split(df, test_size=0.2, random_state=42)\n",
    "train.shape"
   ]
  },
  {
   "cell_type": "code",
   "execution_count": 4,
   "metadata": {},
   "outputs": [
    {
     "data": {
      "text/plain": [
       "10000"
      ]
     },
     "execution_count": 4,
     "metadata": {},
     "output_type": "execute_result"
    }
   ],
   "source": [
    "# Задание 5.2\n",
    "# Запишите количество уникальных книг в переменную n books.\n",
    "# Сколько в наборе данных уникальных книг?\n",
    "n_books = df['book_id'].nunique()\n",
    "n_books"
   ]
  },
  {
   "cell_type": "code",
   "execution_count": 5,
   "metadata": {},
   "outputs": [
    {
     "data": {
      "text/plain": [
       "53424"
      ]
     },
     "execution_count": 5,
     "metadata": {},
     "output_type": "execute_result"
    }
   ],
   "source": [
    "# Задание 5.3\n",
    "# Запишите количество уникальных пользователей в переменную n users.\n",
    "# Сколько в наборе данных уникальных пользователей?\n",
    "n_users = df['user_id'].nunique()\n",
    "n_users"
   ]
  },
  {
   "cell_type": "code",
   "execution_count": 6,
   "metadata": {},
   "outputs": [],
   "source": [
    "# В первую очередь нам необходимо создать эмбеддинги для книг и пользователей. Создаём эмбеддинги для книг:\n",
    "book_input = Input(shape=[1], name=\"Book-Input\")\n",
    "book_embedding = Embedding(n_books+1, 5, name=\"Book-Embedding\")(book_input)\n",
    "book_vec = Flatten(name=\"Flatten-Books\")(book_embedding)"
   ]
  },
  {
   "cell_type": "code",
   "execution_count": 7,
   "metadata": {},
   "outputs": [],
   "source": [
    "# Сначала мы задаём размерность входного слоя . После этого определяем размер эмбеддинга - в данном случае снижаем размерность до 5.\n",
    "# Далее мы разворачиваем результат в массив с одним измерением с помощью слоя Flatten ().\n",
    "# Делаем то же самое для пользователей:\n",
    "user_input = Input(shape=[1], name=\"User-Input\")\n",
    "user_embedding = Embedding(n_users+1, 5, name=\"User-Embedding\")(user_input)\n",
    "user_vec = Flatten(name=\"Flatten-Users\")(user_embedding)"
   ]
  },
  {
   "cell_type": "code",
   "execution_count": 8,
   "metadata": {},
   "outputs": [],
   "source": [
    "# Теперь, когда мы создали представления как для книг, так и для пользователей, нам необходимо соединить их:\n",
    "conc = Concatenate()([book_vec, user_vec])"
   ]
  },
  {
   "cell_type": "code",
   "execution_count": 10,
   "metadata": {},
   "outputs": [],
   "source": [
    "# Далее начинаем «собирать» нашу нейронную сеть из слоёв. Dense обозначает полносвязный слой. Также мы обозначаем для него\n",
    "# количество нейронов И данные , которые идут на вход.\n",
    "fc1 = Dense(128, activation='relu')(conc)\n",
    "fc2 = Dense(32, activation='relu')(fc1)\n",
    "out = Dense(1)(fc2)"
   ]
  },
  {
   "cell_type": "code",
   "execution_count": 11,
   "metadata": {},
   "outputs": [],
   "source": [
    "# Собираем модель - передаём входные данные для книг и пользователей, а также архитектуру нейронной сети:\n",
    "model2 = Model([user_input, book_input], out)"
   ]
  },
  {
   "cell_type": "code",
   "execution_count": 12,
   "metadata": {},
   "outputs": [],
   "source": [
    "# Также нам необходимо задать алгоритм оптимизации и метрику, которую мы будем оптимизировать. В данном случае будем использовать\n",
    "# метод adam и хорошо известную вам среднеквадратичную ошибку:\n",
    "model2.compile(optimizer = 'adam',loss =  'mean_squared_error')"
   ]
  },
  {
   "cell_type": "code",
   "execution_count": 13,
   "metadata": {},
   "outputs": [
    {
     "name": "stdout",
     "output_type": "stream",
     "text": [
      "Epoch 1/5\n"
     ]
    },
    {
     "name": "stderr",
     "output_type": "stream",
     "text": [
      "2023-08-17 21:55:44.529329: W tensorflow/tsl/platform/profile_utils/cpu_utils.cc:128] Failed to get CPU frequency: 0 Hz\n"
     ]
    },
    {
     "name": "stdout",
     "output_type": "stream",
     "text": [
      "24544/24544 [==============================] - 37s 2ms/step - loss: 0.7952\n",
      "Epoch 2/5\n",
      "24544/24544 [==============================] - 36s 1ms/step - loss: 0.6879\n",
      "Epoch 3/5\n",
      "24544/24544 [==============================] - 38s 2ms/step - loss: 0.6577\n",
      "Epoch 4/5\n",
      "24544/24544 [==============================] - 43s 2ms/step - loss: 0.6339\n",
      "Epoch 5/5\n",
      "24544/24544 [==============================] - 39s 2ms/step - loss: 0.6130\n"
     ]
    }
   ],
   "source": [
    "# Теперь будем обучать нашу модель:\n",
    "history = model2.fit([train.user_id, train.book_id], train.rating, epochs=5, verbose=1)"
   ]
  },
  {
   "cell_type": "code",
   "execution_count": 14,
   "metadata": {},
   "outputs": [],
   "source": [
    "# Примечание. К сожалению, результаты этого алгоритма нельзя зафиксировать стандартным ramdom state, к которому мы привыкли:\n",
    "# применяемые методы не используют такой параметр. Поэтому мы опустим здесь сравнение результатов, однако посмотрим, как можно\n",
    "# настроить нейронную сеть.\n",
    "\n",
    "# Обычно для улучшения качества модели каким-то образом модифицируют нейронную сеть: дополняют её, увеличивают время обучения.\n",
    "# Добавим ещё один полносвязный слой с восемью нейронами после полносвязного слоя с 32 нейронами. Обучим нейронную сеть, реализовав\n",
    "# десять эПох."
   ]
  },
  {
   "cell_type": "code",
   "execution_count": 15,
   "metadata": {},
   "outputs": [
    {
     "name": "stdout",
     "output_type": "stream",
     "text": [
      "Epoch 1/10\n",
      "24544/24544 [==============================] - 37s 1ms/step - loss: 0.6255\n",
      "Epoch 2/10\n",
      "24544/24544 [==============================] - 37s 1ms/step - loss: 0.5772\n",
      "Epoch 3/10\n",
      "24544/24544 [==============================] - 37s 2ms/step - loss: 0.5557\n",
      "Epoch 4/10\n",
      "24544/24544 [==============================] - 36s 1ms/step - loss: 0.5384\n",
      "Epoch 5/10\n",
      "24544/24544 [==============================] - 43s 2ms/step - loss: 0.5244\n",
      "Epoch 6/10\n",
      "24544/24544 [==============================] - 46s 2ms/step - loss: 0.5127\n",
      "Epoch 7/10\n",
      "24544/24544 [==============================] - 38s 2ms/step - loss: 0.5029\n",
      "Epoch 8/10\n",
      "24544/24544 [==============================] - 42s 2ms/step - loss: 0.4947\n",
      "Epoch 9/10\n",
      "24544/24544 [==============================] - 42s 2ms/step - loss: 0.4875\n",
      "Epoch 10/10\n",
      "24544/24544 [==============================] - 41s 2ms/step - loss: 0.4809\n",
      "6136/6136 [==============================] - 2s 358us/step - loss: 0.7820\n"
     ]
    },
    {
     "data": {
      "text/plain": [
       "0.7819629907608032"
      ]
     },
     "execution_count": 15,
     "metadata": {},
     "output_type": "execute_result"
    }
   ],
   "source": [
    "fc1 = Dense(128, activation='relu')(conc)\n",
    "fc2 = Dense(32, activation='relu')(fc1)\n",
    "fc3 = Dense(8, activation='relu')(fc2)\n",
    "out = Dense(1)(fc3)\n",
    "\n",
    "model2 = Model([user_input, book_input], out)\n",
    "model2.compile('adam', 'mean_squared_error')\n",
    "result = model2.fit([train.user_id, train.book_id], train.rating, epochs=10, verbose=1)\n",
    "model2.evaluate([test.user_id, test.book_id], test.rating)"
   ]
  },
  {
   "cell_type": "code",
   "execution_count": null,
   "metadata": {},
   "outputs": [],
   "source": []
  }
 ],
 "metadata": {
  "kernelspec": {
   "display_name": "Python 3",
   "language": "python",
   "name": "python3"
  },
  "language_info": {
   "codemirror_mode": {
    "name": "ipython",
    "version": 3
   },
   "file_extension": ".py",
   "mimetype": "text/x-python",
   "name": "python",
   "nbconvert_exporter": "python",
   "pygments_lexer": "ipython3",
   "version": "3.11.4"
  },
  "orig_nbformat": 4
 },
 "nbformat": 4,
 "nbformat_minor": 2
}
