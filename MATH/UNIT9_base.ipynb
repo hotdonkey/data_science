{
 "cells": [
  {
   "cell_type": "code",
   "execution_count": 1,
   "metadata": {},
   "outputs": [],
   "source": [
    "import sympy as sp \n",
    "import pandas as pd\n",
    "import numpy as np\n",
    "from sklearn.model_selection import train_test_split\n",
    "from sklearn.model_selection import GridSearchCV\n",
    "from sklearn.linear_model import SGDRegressor\n",
    "from sklearn.metrics import mean_squared_error\n",
    "from scipy.optimize import minimize"
   ]
  },
  {
   "cell_type": "code",
   "execution_count": 2,
   "metadata": {},
   "outputs": [
    {
     "name": "stdout",
     "output_type": "stream",
     "text": [
      "80 (0,)\n",
      "1275/16 (1/2,)\n",
      "144 (4,)\n"
     ]
    }
   ],
   "source": [
    "# Task 1.1\n",
    "x = sp.symbols('x')\n",
    "f = -x**4 + 6*x**3 - 4*x**2 + 80\n",
    "diff_f = f.diff()\n",
    "solution = sp.solve([diff_f, 0],x)\n",
    "for i in solution:\n",
    "    print(f.subs(x, i[0]), i)"
   ]
  },
  {
   "attachments": {},
   "cell_type": "markdown",
   "metadata": {},
   "source": [
    "---"
   ]
  },
  {
   "cell_type": "code",
   "execution_count": 3,
   "metadata": {},
   "outputs": [
    {
     "data": {
      "text/latex": [
       "$\\displaystyle \\frac{800}{3}$"
      ],
      "text/plain": [
       "800/3"
      ]
     },
     "execution_count": 3,
     "metadata": {},
     "output_type": "execute_result"
    }
   ],
   "source": [
    "# Tasl 1.4\n",
    "x, y, w = sp.symbols('x y w')\n",
    "f = x**2 + 2*y**2\n",
    "g = x + y - 20\n",
    "\n",
    "L = f + w*g\n",
    "dx = L.diff(x)\n",
    "dy = L.diff(y)\n",
    "dw = L.diff(w)\n",
    "\n",
    "solution = sp.solve([dx, dy, dw], [x, y, w])\n",
    "f.subs([(x, solution[x]), (y, solution[y])])\n"
   ]
  },
  {
   "cell_type": "code",
   "execution_count": 4,
   "metadata": {},
   "outputs": [
    {
     "data": {
      "text/plain": [
       "266.6666666666667"
      ]
     },
     "execution_count": 4,
     "metadata": {},
     "output_type": "execute_result"
    }
   ],
   "source": [
    "800/3"
   ]
  },
  {
   "attachments": {},
   "cell_type": "markdown",
   "metadata": {},
   "source": [
    "---"
   ]
  },
  {
   "cell_type": "code",
   "execution_count": 5,
   "metadata": {},
   "outputs": [],
   "source": [
    "#Task 2.7\n",
    "import seaborn as sns\n",
    "df = sns.load_dataset('diamonds')"
   ]
  },
  {
   "cell_type": "code",
   "execution_count": 6,
   "metadata": {},
   "outputs": [],
   "source": [
    "df.drop(['depth', 'table', 'x', 'y', 'z'], axis=1, inplace=True)"
   ]
  },
  {
   "cell_type": "code",
   "execution_count": 7,
   "metadata": {},
   "outputs": [],
   "source": [
    "df = pd.get_dummies(df, drop_first=True)"
   ]
  },
  {
   "cell_type": "code",
   "execution_count": 8,
   "metadata": {},
   "outputs": [],
   "source": [
    "df['carat'] = np.log(1+df['carat'])\n",
    "df['price'] = np.log(1+df['price'])"
   ]
  },
  {
   "cell_type": "code",
   "execution_count": 9,
   "metadata": {},
   "outputs": [],
   "source": [
    "X = df.drop(columns=\"price\")\n",
    "y = df[\"price\"]"
   ]
  },
  {
   "cell_type": "code",
   "execution_count": 10,
   "metadata": {},
   "outputs": [],
   "source": [
    "X_train, X_test, y_train, y_test = train_test_split(X, y, test_size=0.33, random_state=42)"
   ]
  },
  {
   "cell_type": "code",
   "execution_count": 11,
   "metadata": {},
   "outputs": [],
   "source": [
    "param_grid = {\n",
    "    \"loss\": [\"squared_error\", \"epsilon_insensitive\"],\n",
    "    \"penalty\": [\"elasticnet\"],\n",
    "    \"alpha\": np.logspace(-3, 3, 15),\n",
    "    \"l1_ratio\": np.linspace(0, 1, 11),\n",
    "    \"max_iter\": np.logspace(0, 3, 10).astype(int),\n",
    "    \"random_state\": [42],\n",
    "    \"learning_rate\": [\"constant\"],\n",
    "    \"eta0\": np.logspace(-4, -1, 4)\n",
    "}"
   ]
  },
  {
   "cell_type": "code",
   "execution_count": 12,
   "metadata": {},
   "outputs": [],
   "source": [
    "sgd = SGDRegressor(random_state=42)\n",
    "\n",
    "grid_search = GridSearchCV(\n",
    "    estimator=sgd,\n",
    "    param_grid=param_grid,\n",
    "    n_jobs=-1    \n",
    ")"
   ]
  },
  {
   "cell_type": "code",
   "execution_count": 13,
   "metadata": {},
   "outputs": [],
   "source": [
    "#grid_search.fit(X_train, y_train)"
   ]
  },
  {
   "cell_type": "code",
   "execution_count": 14,
   "metadata": {},
   "outputs": [],
   "source": [
    "#y_pred = grid_search.predict(X_test)\n",
    "#print(f'MSE:{mean_squared_error(y_test, y_pred).round(3)}')"
   ]
  },
  {
   "attachments": {},
   "cell_type": "markdown",
   "metadata": {},
   "source": [
    "---"
   ]
  },
  {
   "cell_type": "code",
   "execution_count": 15,
   "metadata": {},
   "outputs": [
    {
     "data": {
      "text/latex": [
       "$\\displaystyle 0.629$"
      ],
      "text/plain": [
       "0.629"
      ]
     },
     "execution_count": 15,
     "metadata": {},
     "output_type": "execute_result"
    }
   ],
   "source": [
    "#Task 3.1\n",
    "x = sp.Symbol('x')\n",
    "f = 6*x**5 -5*x**4 -4*x**3 +3*x**2\n",
    "x_0 = 0.7\n",
    "roots = []\n",
    "\n",
    "dx = f.diff(x)\n",
    "\n",
    "def nuton(x_old= x_0, func = f, dx = dx):\n",
    "    x_new = x_old - (func.subs(x, x_old))/dx.subs(x, x_old)\n",
    "    return x_new.round(3)\n",
    "\n",
    "while True:\n",
    "    x_1 = nuton(x_0)\n",
    "    if x_1 == x_0:\n",
    "        break\n",
    "    roots.append(x_1)\n",
    "    x_0 = x_1\n",
    "    \n",
    "roots[-1]"
   ]
  },
  {
   "attachments": {},
   "cell_type": "markdown",
   "metadata": {},
   "source": [
    "---"
   ]
  },
  {
   "cell_type": "code",
   "execution_count": 16,
   "metadata": {},
   "outputs": [
    {
     "data": {
      "text/plain": [
       "[10.211, 9.756, 9.727]"
      ]
     },
     "execution_count": 16,
     "metadata": {},
     "output_type": "execute_result"
    }
   ],
   "source": [
    "# Task 3.6\n",
    "def f(x):\n",
    "    return x**3 -72*x - 220\n",
    "\n",
    "def dx(x):\n",
    "    return 3*x**2 -72\n",
    "\n",
    "point = 12\n",
    "solution = []\n",
    "\n",
    "while True:\n",
    "    new_point = round(point - (f(point)/dx(point)),3)\n",
    "    if new_point == point:\n",
    "        break\n",
    "    solution.append(new_point)\n",
    "    point = new_point\n",
    "    \n",
    "solution"
   ]
  },
  {
   "attachments": {},
   "cell_type": "markdown",
   "metadata": {},
   "source": [
    "---"
   ]
  },
  {
   "cell_type": "code",
   "execution_count": 17,
   "metadata": {},
   "outputs": [
    {
     "data": {
      "text/plain": [
       "[0.73, 0.53, 0.52]"
      ]
     },
     "execution_count": 17,
     "metadata": {},
     "output_type": "execute_result"
    }
   ],
   "source": [
    "# Task 3.7\n",
    "def f(x):\n",
    "    return x**2 +9*x -5\n",
    "\n",
    "def dx(x):\n",
    "    return 2*x +9\n",
    "\n",
    "point = 2.2\n",
    "solution = []\n",
    "\n",
    "while True:\n",
    "    new_point = round(point - (f(point)/dx(point)),2)\n",
    "    if new_point == point:\n",
    "        break\n",
    "    solution.append(new_point)\n",
    "    point = new_point\n",
    "    \n",
    "solution"
   ]
  },
  {
   "attachments": {},
   "cell_type": "markdown",
   "metadata": {},
   "source": [
    "---"
   ]
  },
  {
   "cell_type": "code",
   "execution_count": 18,
   "metadata": {},
   "outputs": [
    {
     "data": {
      "text/plain": [
       "0.167"
      ]
     },
     "execution_count": 18,
     "metadata": {},
     "output_type": "execute_result"
    }
   ],
   "source": [
    "# Task 3.9\n",
    "def f(x):\n",
    "    return 8*x**3 -2*x**2 -450\n",
    "\n",
    "def dx(x):\n",
    "    return 24*x**2 -4*x\n",
    "\n",
    "def dxx(x):\n",
    "    return 48*x -4\n",
    "\n",
    "point = 42\n",
    "solution = []\n",
    "resolution = 0.0001\n",
    "\n",
    "while True:\n",
    "    new_point = round(point - (dx(point)/dxx(point)),len(str(resolution)[2:]))\n",
    "    if new_point == point:\n",
    "        break\n",
    "    solution.append(new_point)\n",
    "    point = new_point\n",
    "    \n",
    "round(solution[-1],3)"
   ]
  },
  {
   "attachments": {},
   "cell_type": "markdown",
   "metadata": {},
   "source": [
    "---"
   ]
  },
  {
   "cell_type": "code",
   "execution_count": 19,
   "metadata": {},
   "outputs": [
    {
     "data": {
      "text/plain": [
       "  message: CONVERGENCE: NORM_OF_PROJECTED_GRADIENT_<=_PGTOL\n",
       "  success: True\n",
       "   status: 0\n",
       "      fun: -0.9999999999999218\n",
       "        x: [-4.000e+00  1.000e+00]\n",
       "      nit: 4\n",
       "      jac: [ 2.900e-07  2.724e-07]\n",
       "     nfev: 9\n",
       "     njev: 9\n",
       " hess_inv: <2x2 LbfgsInvHessProduct with dtype=float64>"
      ]
     },
     "execution_count": 19,
     "metadata": {},
     "output_type": "execute_result"
    }
   ],
   "source": [
    "# Task 4.1\n",
    "def equasion(x):\n",
    "    return x[0]**2 -x[0]*x[1] +x[1]**2 +9*x[0] -6*x[1] +20\n",
    "\n",
    "def gradient(x):\n",
    "    return np.array([2*x[0] -x[1] +9, -x[0] +2*x[1] -6])\n",
    "\n",
    "x_0 = (-400, -400)\n",
    "\n",
    "result = minimize(fun=equasion, x0=x_0, method='L-BFGS-B', jac=gradient)\n",
    "result"
   ]
  },
  {
   "attachments": {},
   "cell_type": "markdown",
   "metadata": {},
   "source": [
    "____"
   ]
  },
  {
   "cell_type": "code",
   "execution_count": 20,
   "metadata": {},
   "outputs": [
    {
     "data": {
      "text/plain": [
       "  message: Optimization terminated successfully.\n",
       "  success: True\n",
       "   status: 0\n",
       "      fun: 42.75\n",
       "        x: [ 1.500e+00]\n",
       "      nit: 4\n",
       "      jac: [ 0.000e+00]\n",
       " hess_inv: [[ 5.000e-01]]\n",
       "     nfev: 5\n",
       "     njev: 5"
      ]
     },
     "execution_count": 20,
     "metadata": {},
     "output_type": "execute_result"
    }
   ],
   "source": [
    "# Task 4.4\n",
    "def equasion(x):\n",
    "    return x**2 -3*x +45\n",
    "\n",
    "def gradient(x):\n",
    "    return 2*x -3\n",
    "\n",
    "start = 10\n",
    "\n",
    "result = minimize(fun=equasion, x0=start, method=\"BFGS\", jac=gradient)\n",
    "result"
   ]
  },
  {
   "cell_type": "code",
   "execution_count": 21,
   "metadata": {},
   "outputs": [
    {
     "data": {
      "text/plain": [
       "  message: CONVERGENCE: NORM_OF_PROJECTED_GRADIENT_<=_PGTOL\n",
       "  success: True\n",
       "   status: 0\n",
       "      fun: 42.75\n",
       "        x: [ 1.500e+00]\n",
       "      nit: 2\n",
       "      jac: [ 0.000e+00]\n",
       "     nfev: 3\n",
       "     njev: 3\n",
       " hess_inv: <1x1 LbfgsInvHessProduct with dtype=float64>"
      ]
     },
     "execution_count": 21,
     "metadata": {},
     "output_type": "execute_result"
    }
   ],
   "source": [
    "# Task 4.5\n",
    "def equasion(x):\n",
    "    return x**2 -3*x +45\n",
    "\n",
    "def gradient(x):\n",
    "    return 2*x -3\n",
    "\n",
    "start = 10\n",
    "\n",
    "result = minimize(fun=equasion, x0=start, method=\"L-BFGS-B\", jac=gradient)\n",
    "result"
   ]
  },
  {
   "attachments": {},
   "cell_type": "markdown",
   "metadata": {},
   "source": [
    "---"
   ]
  },
  {
   "cell_type": "code",
   "execution_count": 22,
   "metadata": {},
   "outputs": [],
   "source": [
    "# Task 4.7\n",
    "def equasion(x):\n",
    "    return x[0]**4 +6*x[1]**2 +10\n",
    "\n",
    "def gradient(x):\n",
    "    return np.array([4*x[0]**3, 12*x[1]])\n",
    "\n",
    "start = (100, 100)\n",
    "\n",
    "result_1 = minimize(fun=equasion, x0=start, method=\"BFGS\", jac=gradient)\n",
    "result_2 = minimize(fun=equasion, x0=start, method=\"L-BFGS-B\", jac=gradient)"
   ]
  },
  {
   "cell_type": "code",
   "execution_count": 23,
   "metadata": {},
   "outputs": [
    {
     "data": {
      "text/plain": [
       "  message: Optimization terminated successfully.\n",
       "  success: True\n",
       "   status: 0\n",
       "      fun: 10.000000030008898\n",
       "        x: [ 1.316e-02  6.653e-14]\n",
       "      nit: 34\n",
       "      jac: [ 9.120e-06  7.984e-13]\n",
       " hess_inv: [[ 2.016e+02 -4.163e-09]\n",
       "            [-4.163e-09  7.317e-02]]\n",
       "     nfev: 37\n",
       "     njev: 37"
      ]
     },
     "execution_count": 23,
     "metadata": {},
     "output_type": "execute_result"
    }
   ],
   "source": [
    "result_1"
   ]
  },
  {
   "cell_type": "code",
   "execution_count": 24,
   "metadata": {},
   "outputs": [
    {
     "data": {
      "text/plain": [
       "  message: CONVERGENCE: REL_REDUCTION_OF_F_<=_FACTR*EPSMCH\n",
       "  success: True\n",
       "   status: 0\n",
       "      fun: 10.00000000827103\n",
       "        x: [-9.527e-03 -2.322e-06]\n",
       "      nit: 37\n",
       "      jac: [-3.459e-06 -2.786e-05]\n",
       "     nfev: 40\n",
       "     njev: 40\n",
       " hess_inv: <2x2 LbfgsInvHessProduct with dtype=float64>"
      ]
     },
     "execution_count": 24,
     "metadata": {},
     "output_type": "execute_result"
    }
   ],
   "source": [
    "result_2"
   ]
  },
  {
   "attachments": {},
   "cell_type": "markdown",
   "metadata": {},
   "source": [
    "---"
   ]
  },
  {
   "cell_type": "code",
   "execution_count": 25,
   "metadata": {},
   "outputs": [],
   "source": [
    "values = [4, 2, 1, 7, 3, 6] #стоимости товаров\n",
    "weights = [5, 9, 8, 2, 6, 5] #вес товаров\n",
    "C = 15 #вместимость сумки\n",
    "n = 6 #количество товаров"
   ]
  },
  {
   "cell_type": "code",
   "execution_count": 26,
   "metadata": {},
   "outputs": [],
   "source": [
    "c = - np.array(values) #изменяем знак, чтобы перейти от задачи максимизации к задаче минимизации\n",
    "A = np.array(weights)  #конвертируем список с весами в массив\n",
    "A = np.expand_dims(A, 0) #преобразуем размерность массива\n",
    "b = np.array([C]) #конвертируем вместимость в массив"
   ]
  },
  {
   "cell_type": "code",
   "execution_count": 27,
   "metadata": {},
   "outputs": [
    {
     "data": {
      "text/plain": [
       "        message: Optimization terminated successfully. (HiGHS Status 7: Optimal)\n",
       "        success: True\n",
       "         status: 0\n",
       "            fun: -52.5\n",
       "              x: [ 0.000e+00  0.000e+00  0.000e+00  7.500e+00  0.000e+00\n",
       "                   0.000e+00]\n",
       "            nit: 0\n",
       "          lower:  residual: [ 0.000e+00  0.000e+00  0.000e+00  7.500e+00\n",
       "                              0.000e+00  0.000e+00]\n",
       "                 marginals: [ 1.350e+01  2.950e+01  2.700e+01  0.000e+00\n",
       "                              1.800e+01  1.150e+01]\n",
       "          upper:  residual: [       inf        inf        inf        inf\n",
       "                                    inf        inf]\n",
       "                 marginals: [ 0.000e+00  0.000e+00  0.000e+00  0.000e+00\n",
       "                              0.000e+00  0.000e+00]\n",
       "          eqlin:  residual: []\n",
       "                 marginals: []\n",
       "        ineqlin:  residual: [ 0.000e+00]\n",
       "                 marginals: [-3.500e+00]\n",
       " mip_node_count: 0\n",
       " mip_dual_bound: 0.0\n",
       "        mip_gap: 0.0"
      ]
     },
     "execution_count": 27,
     "metadata": {},
     "output_type": "execute_result"
    }
   ],
   "source": [
    "from scipy.optimize import linprog\n",
    "linprog(c=c, A_ub=A, b_ub=b)"
   ]
  },
  {
   "cell_type": "code",
   "execution_count": 28,
   "metadata": {},
   "outputs": [],
   "source": [
    "import cvxpy"
   ]
  },
  {
   "cell_type": "code",
   "execution_count": 29,
   "metadata": {},
   "outputs": [],
   "source": [
    "x = cvxpy.Variable(shape=n, boolean = True)"
   ]
  },
  {
   "cell_type": "code",
   "execution_count": 30,
   "metadata": {},
   "outputs": [],
   "source": [
    "A = A.flatten()\n",
    "constrains = (A @ x <= b) \n",
    "x_positive = (x >=0)\n",
    "total_value = c @ x"
   ]
  },
  {
   "cell_type": "code",
   "execution_count": 31,
   "metadata": {},
   "outputs": [
    {
     "data": {
      "text/plain": [
       "-17.0"
      ]
     },
     "execution_count": 31,
     "metadata": {},
     "output_type": "execute_result"
    }
   ],
   "source": [
    "problem = cvxpy.Problem(cvxpy.Minimize(total_value), constraints=[constrains, x_positive])\n",
    "problem.solve()"
   ]
  },
  {
   "cell_type": "code",
   "execution_count": 32,
   "metadata": {},
   "outputs": [
    {
     "data": {
      "text/plain": [
       "array([1., 0., 0., 1., 0., 1.])"
      ]
     },
     "execution_count": 32,
     "metadata": {},
     "output_type": "execute_result"
    }
   ],
   "source": [
    "x.value"
   ]
  },
  {
   "attachments": {},
   "cell_type": "markdown",
   "metadata": {},
   "source": [
    "---"
   ]
  },
  {
   "cell_type": "code",
   "execution_count": 33,
   "metadata": {},
   "outputs": [
    {
     "name": "stdout",
     "output_type": "stream",
     "text": [
      "Welcome to the CBC MILP Solver \n",
      "Version: 2.10.3 \n",
      "Build Date: Dec 15 2019 \n",
      "\n",
      "command line - /Users/kirillkuznecov/opt/anaconda3/envs/ds/lib/python3.11/site-packages/pulp/solverdir/cbc/osx/64/cbc /var/folders/1_/hgb3xg852md0hqqs3ybwbsp40000gn/T/f98d92283a5b4af283de6bb71b51558b-pulp.mps max timeMode elapsed branch printingOptions all solution /var/folders/1_/hgb3xg852md0hqqs3ybwbsp40000gn/T/f98d92283a5b4af283de6bb71b51558b-pulp.sol (default strategy 1)\n",
      "At line 2 NAME          MODEL\n",
      "At line 3 ROWS\n",
      "At line 8 COLUMNS\n",
      "At line 21 RHS\n",
      "At line 25 BOUNDS\n",
      "At line 28 ENDATA\n",
      "Problem MODEL has 3 rows, 2 columns and 6 elements\n",
      "Coin0008I MODEL read with 0 errors\n",
      "Option for timeMode changed from cpu to elapsed\n",
      "Continuous objective value is 216667 - 0.00 seconds\n",
      "Cgl0004I processed model has 3 rows, 2 columns (2 integer (0 of which binary)) and 6 elements\n",
      "Cutoff increment increased from 1e-05 to 5000\n",
      "Cbc0012I Integer solution of -195000 found by DiveCoefficient after 0 iterations and 0 nodes (0.02 seconds)\n",
      "Cbc0012I Integer solution of -200000 found by DiveCoefficient after 1 iterations and 0 nodes (0.02 seconds)\n",
      "Cbc0013I At root node, 0 cuts changed objective from -216666.67 to -200000 in 2 passes\n",
      "Cbc0014I Cut generator 0 (Probing) - 0 row cuts average 0.0 elements, 2 column cuts (2 active)  in 0.000 seconds - new frequency is 1\n",
      "Cbc0014I Cut generator 1 (Gomory) - 0 row cuts average 0.0 elements, 0 column cuts (0 active)  in 0.000 seconds - new frequency is -100\n",
      "Cbc0014I Cut generator 2 (Knapsack) - 0 row cuts average 0.0 elements, 0 column cuts (0 active)  in 0.000 seconds - new frequency is -100\n",
      "Cbc0014I Cut generator 3 (Clique) - 0 row cuts average 0.0 elements, 0 column cuts (0 active)  in 0.000 seconds - new frequency is -100\n",
      "Cbc0014I Cut generator 4 (MixedIntegerRounding2) - 0 row cuts average 0.0 elements, 0 column cuts (0 active)  in 0.000 seconds - new frequency is -100\n",
      "Cbc0014I Cut generator 5 (FlowCover) - 0 row cuts average 0.0 elements, 0 column cuts (0 active)  in 0.000 seconds - new frequency is -100\n",
      "Cbc0001I Search completed - best objective -200000, took 1 iterations and 0 nodes (0.02 seconds)\n",
      "Cbc0035I Maximum depth 0, 0 variables fixed on reduced cost\n",
      "Cuts at root node changed objective from -216667 to -200000\n",
      "Probing was tried 2 times and created 2 cuts of which 0 were active after adding rounds of cuts (0.000 seconds)\n",
      "Gomory was tried 2 times and created 0 cuts of which 0 were active after adding rounds of cuts (0.000 seconds)\n",
      "Knapsack was tried 2 times and created 0 cuts of which 0 were active after adding rounds of cuts (0.000 seconds)\n",
      "Clique was tried 2 times and created 0 cuts of which 0 were active after adding rounds of cuts (0.000 seconds)\n",
      "MixedIntegerRounding2 was tried 2 times and created 0 cuts of which 0 were active after adding rounds of cuts (0.000 seconds)\n",
      "FlowCover was tried 2 times and created 0 cuts of which 0 were active after adding rounds of cuts (0.000 seconds)\n",
      "TwoMirCuts was tried 1 times and created 0 cuts of which 0 were active after adding rounds of cuts (0.000 seconds)\n",
      "ZeroHalf was tried 1 times and created 0 cuts of which 0 were active after adding rounds of cuts (0.000 seconds)\n",
      "\n",
      "Result - Optimal solution found\n",
      "\n",
      "Objective value:                200000.00000000\n",
      "Enumerated nodes:               0\n",
      "Total iterations:               1\n",
      "Time (CPU seconds):             0.00\n",
      "Time (Wallclock seconds):       0.02\n",
      "\n",
      "Option for printingOptions changed from normal to all\n",
      "Total time (CPU seconds):       0.00   (Wallclock seconds):       0.03\n",
      "\n",
      "Количество автомобилей модели А:  1.0\n",
      "Количество автомобилей модели В:  4.0\n",
      "Суммарный доход:  200000.0\n"
     ]
    },
    {
     "name": "stderr",
     "output_type": "stream",
     "text": [
      "/Users/kirillkuznecov/opt/anaconda3/envs/ds/lib/python3.11/site-packages/pulp/pulp.py:1352: UserWarning: Spaces are not permitted in the name. Converted to '_'\n",
      "  warnings.warn(\"Spaces are not permitted in the name. Converted to '_'\")\n"
     ]
    }
   ],
   "source": [
    "from pulp import *\n",
    "problem = LpProblem('Производство машин', LpMaximize)\n",
    "A = LpVariable('Автомобиль A', lowBound=0 , cat=LpInteger)\n",
    "B = LpVariable('Автомобиль B', lowBound=0 , cat=LpInteger)\n",
    "#Целевая функция\n",
    "problem += 20000*A + 45000*B \n",
    "#Ограничения\n",
    "problem += 4*A + 5*B <= 30 \n",
    "problem += 3*A + 6*B <=30\n",
    "problem += 2*A + 7*B <=30\n",
    "problem.solve()\n",
    "print(\"Количество автомобилей модели А: \", A.varValue)\n",
    "print(\"Количество автомобилей модели В: \", B.varValue)\n",
    "print(\"Суммарный доход: \", value(problem.objective))"
   ]
  },
  {
   "attachments": {},
   "cell_type": "markdown",
   "metadata": {},
   "source": [
    "---"
   ]
  },
  {
   "cell_type": "code",
   "execution_count": 34,
   "metadata": {},
   "outputs": [
    {
     "name": "stdout",
     "output_type": "stream",
     "text": [
      "Welcome to the CBC MILP Solver \n",
      "Version: 2.10.3 \n",
      "Build Date: Dec 15 2019 \n",
      "\n",
      "command line - /Users/kirillkuznecov/opt/anaconda3/envs/ds/lib/python3.11/site-packages/pulp/solverdir/cbc/osx/64/cbc /var/folders/1_/hgb3xg852md0hqqs3ybwbsp40000gn/T/e3b9f3bcc96946528349a145e272cfc2-pulp.mps timeMode elapsed branch printingOptions all solution /var/folders/1_/hgb3xg852md0hqqs3ybwbsp40000gn/T/e3b9f3bcc96946528349a145e272cfc2-pulp.sol (default strategy 1)\n",
      "At line 2 NAME          MODEL\n",
      "At line 3 ROWS\n",
      "At line 10 COLUMNS\n",
      "At line 41 RHS\n",
      "At line 47 BOUNDS\n",
      "At line 54 ENDATA\n",
      "Problem MODEL has 5 rows, 6 columns and 12 elements\n",
      "Coin0008I MODEL read with 0 errors\n",
      "Option for timeMode changed from cpu to elapsed\n",
      "Continuous objective value is 1900 - 0.00 seconds\n",
      "Cgl0004I processed model has 5 rows, 6 columns (6 integer (0 of which binary)) and 12 elements\n",
      "Cutoff increment increased from 1e-05 to 0.9999\n",
      "Cbc0012I Integer solution of 1900 found by DiveCoefficient after 0 iterations and 0 nodes (0.00 seconds)\n",
      "Cbc0001I Search completed - best objective 1900, took 0 iterations and 0 nodes (0.00 seconds)\n",
      "Cbc0035I Maximum depth 0, 0 variables fixed on reduced cost\n",
      "Cuts at root node changed objective from 1900 to 1900\n",
      "Probing was tried 0 times and created 0 cuts of which 0 were active after adding rounds of cuts (0.000 seconds)\n",
      "Gomory was tried 0 times and created 0 cuts of which 0 were active after adding rounds of cuts (0.000 seconds)\n",
      "Knapsack was tried 0 times and created 0 cuts of which 0 were active after adding rounds of cuts (0.000 seconds)\n",
      "Clique was tried 0 times and created 0 cuts of which 0 were active after adding rounds of cuts (0.000 seconds)\n",
      "MixedIntegerRounding2 was tried 0 times and created 0 cuts of which 0 were active after adding rounds of cuts (0.000 seconds)\n",
      "FlowCover was tried 0 times and created 0 cuts of which 0 were active after adding rounds of cuts (0.000 seconds)\n",
      "TwoMirCuts was tried 0 times and created 0 cuts of which 0 were active after adding rounds of cuts (0.000 seconds)\n",
      "ZeroHalf was tried 0 times and created 0 cuts of which 0 were active after adding rounds of cuts (0.000 seconds)\n",
      "\n",
      "Result - Optimal solution found\n",
      "\n",
      "Objective value:                1900.00000000\n",
      "Enumerated nodes:               0\n",
      "Total iterations:               0\n",
      "Time (CPU seconds):             0.00\n",
      "Time (Wallclock seconds):       0.00\n",
      "\n",
      "Option for printingOptions changed from normal to all\n",
      "Total time (CPU seconds):       0.00   (Wallclock seconds):       0.00\n",
      "\n"
     ]
    },
    {
     "data": {
      "text/plain": [
       "1900.0"
      ]
     },
     "execution_count": 34,
     "metadata": {},
     "output_type": "execute_result"
    }
   ],
   "source": [
    "# Task 6.1\n",
    "tarrifs = np.array([[2, 5, 3], [7, 7, 6]])\n",
    "model = LpProblem(\"Transportation_optimization\", LpMinimize)\n",
    "\n",
    "variables = []\n",
    "for i in range(len(tarrifs.flatten())):\n",
    "    variables.append(f'x{i+1}')\n",
    "\n",
    "for var in variables:\n",
    "    exec(f\"{var} = LpVariable('{var}', lowBound=0, cat='Integer')\")\n",
    "\n",
    "\n",
    "model += tarrifs.flatten()[0]*x1 + tarrifs.flatten()[1]*x2 + tarrifs.flatten()[\n",
    "    2]*x3 + tarrifs.flatten()[3]*x4 + tarrifs.flatten()[4]*x5 + tarrifs.flatten()[5]*x6\n",
    "\n",
    "model += x1 + x4 >= 110\n",
    "model += x2 + x5 >= 150\n",
    "model += x3 + x6 >= 140\n",
    "\n",
    "model += x1 + x2 + x3 <= 180\n",
    "model += x4 + x5 + x6 <= 220\n",
    "\n",
    "model.solve()\n",
    "\n",
    "value(model.objective)\n"
   ]
  },
  {
   "attachments": {},
   "cell_type": "markdown",
   "metadata": {},
   "source": [
    "---"
   ]
  },
  {
   "cell_type": "code",
   "execution_count": 35,
   "metadata": {},
   "outputs": [
    {
     "name": "stdout",
     "output_type": "stream",
     "text": [
      "Welcome to the CBC MILP Solver \n",
      "Version: 2.10.3 \n",
      "Build Date: Dec 15 2019 \n",
      "\n",
      "command line - /Users/kirillkuznecov/opt/anaconda3/envs/ds/lib/python3.11/site-packages/pulp/solverdir/cbc/osx/64/cbc /var/folders/1_/hgb3xg852md0hqqs3ybwbsp40000gn/T/af478ead381e41c8aefe5049a6442968-pulp.mps timeMode elapsed branch printingOptions all solution /var/folders/1_/hgb3xg852md0hqqs3ybwbsp40000gn/T/af478ead381e41c8aefe5049a6442968-pulp.sol (default strategy 1)\n",
      "At line 2 NAME          MODEL\n",
      "At line 3 ROWS\n",
      "At line 15 COLUMNS\n",
      "At line 141 RHS\n",
      "At line 152 BOUNDS\n",
      "At line 178 ENDATA\n",
      "Problem MODEL has 10 rows, 25 columns and 50 elements\n",
      "Coin0008I MODEL read with 0 errors\n",
      "Option for timeMode changed from cpu to elapsed\n",
      "Continuous objective value is 32 - 0.00 seconds\n",
      "Cgl0004I processed model has 10 rows, 25 columns (25 integer (25 of which binary)) and 50 elements\n",
      "Cutoff increment increased from 1e-05 to 0.9999\n",
      "Cbc0038I Initial state - 0 integers unsatisfied sum - 0\n",
      "Cbc0038I Solution found of 32\n",
      "Cbc0038I Before mini branch and bound, 25 integers at bound fixed and 0 continuous\n",
      "Cbc0038I Mini branch and bound did not improve solution (0.00 seconds)\n",
      "Cbc0038I After 0.00 seconds - Feasibility pump exiting with objective of 32 - took 0.00 seconds\n",
      "Cbc0012I Integer solution of 32 found by feasibility pump after 0 iterations and 0 nodes (0.00 seconds)\n",
      "Cbc0001I Search completed - best objective 32, took 0 iterations and 0 nodes (0.00 seconds)\n",
      "Cbc0035I Maximum depth 0, 0 variables fixed on reduced cost\n",
      "Cuts at root node changed objective from 32 to 32\n",
      "Probing was tried 0 times and created 0 cuts of which 0 were active after adding rounds of cuts (0.000 seconds)\n",
      "Gomory was tried 0 times and created 0 cuts of which 0 were active after adding rounds of cuts (0.000 seconds)\n",
      "Knapsack was tried 0 times and created 0 cuts of which 0 were active after adding rounds of cuts (0.000 seconds)\n",
      "Clique was tried 0 times and created 0 cuts of which 0 were active after adding rounds of cuts (0.000 seconds)\n",
      "MixedIntegerRounding2 was tried 0 times and created 0 cuts of which 0 were active after adding rounds of cuts (0.000 seconds)\n",
      "FlowCover was tried 0 times and created 0 cuts of which 0 were active after adding rounds of cuts (0.000 seconds)\n",
      "TwoMirCuts was tried 0 times and created 0 cuts of which 0 were active after adding rounds of cuts (0.000 seconds)\n",
      "ZeroHalf was tried 0 times and created 0 cuts of which 0 were active after adding rounds of cuts (0.000 seconds)\n",
      "\n",
      "Result - Optimal solution found\n",
      "\n",
      "Objective value:                32.00000000\n",
      "Enumerated nodes:               0\n",
      "Total iterations:               0\n",
      "Time (CPU seconds):             0.00\n",
      "Time (Wallclock seconds):       0.00\n",
      "\n",
      "Option for printingOptions changed from normal to all\n",
      "Total time (CPU seconds):       0.00   (Wallclock seconds):       0.00\n",
      "\n",
      "Распределение задач между исполнителями:\n",
      "Task 1 -> Worker 5\n",
      "Task 2 -> Worker 3\n",
      "Task 3 -> Worker 4\n",
      "Task 4 -> Worker 2\n",
      "Task 5 -> Worker 1\n",
      "Суммарные затраты на работы: 32.0\n"
     ]
    }
   ],
   "source": [
    "# Task 6.2\n",
    "# Создаем задачу минимизации затрат\n",
    "problem = LpProblem('Task Assignment', LpMinimize)\n",
    "\n",
    "# Создаем переменные для каждой задачи и каждого исполнителя\n",
    "tasks = ['Task 1', 'Task 2', 'Task 3', 'Task 4', 'Task 5']\n",
    "workers = ['Worker 1', 'Worker 2', 'Worker 3', 'Worker 4', 'Worker 5']\n",
    "variables = LpVariable.dicts('Assignment', (tasks, workers), lowBound=0, upBound=1, cat=LpInteger)\n",
    "\n",
    "# Создаем функцию затрат\n",
    "costs = {\n",
    "    ('Task 1', 'Worker 1'): 1000,\n",
    "    ('Task 1', 'Worker 2'): 12,\n",
    "    ('Task 1', 'Worker 3'): 10,\n",
    "    ('Task 1', 'Worker 4'): 19,\n",
    "    ('Task 1', 'Worker 5'): 8,\n",
    "    ('Task 2', 'Worker 1'): 12,\n",
    "    ('Task 2', 'Worker 2'): 1000,\n",
    "    ('Task 2', 'Worker 3'): 3,\n",
    "    ('Task 2', 'Worker 4'): 7,\n",
    "    ('Task 2', 'Worker 5'): 2,\n",
    "    ('Task 3', 'Worker 1'): 10,\n",
    "    ('Task 3', 'Worker 2'): 3,\n",
    "    ('Task 3', 'Worker 3'): 1000,\n",
    "    ('Task 3', 'Worker 4'): 6,\n",
    "    ('Task 3', 'Worker 5'): 20,\n",
    "    ('Task 4', 'Worker 1'): 19,\n",
    "    ('Task 4', 'Worker 2'): 7,\n",
    "    ('Task 4', 'Worker 3'): 6,\n",
    "    ('Task 4', 'Worker 4'): 1000,\n",
    "    ('Task 4', 'Worker 5'): 4,\n",
    "    ('Task 5', 'Worker 1'): 8,\n",
    "    ('Task 5', 'Worker 2'): 2,\n",
    "    ('Task 5', 'Worker 3'): 20,\n",
    "    ('Task 5', 'Worker 4'): 4,\n",
    "    ('Task 5', 'Worker 5'): 1000\n",
    "}\n",
    "problem += lpSum([variables[task][worker] * costs[(task, worker)] for task in tasks for worker in workers])\n",
    "\n",
    "# Добавляем ограничения, чтобы каждая задача была выполнена только одним исполнителем\n",
    "for task in tasks:\n",
    "    problem += lpSum([variables[task][worker] for worker in workers]) == 1\n",
    "\n",
    "# Добавляем ограничения, чтобы каждый исполнитель выполнял только одну задачу\n",
    "for worker in workers:\n",
    "    problem += lpSum([variables[task][worker] for task in tasks]) == 1\n",
    "\n",
    "# Решаем задачу\n",
    "problem.solve()\n",
    "\n",
    "# Выводим результаты\n",
    "print('Распределение задач между исполнителями:')\n",
    "for task in tasks:\n",
    "    for worker in workers:\n",
    "        if variables[task][worker].value() == 1:\n",
    "            print(f'{task} -> {worker}')\n",
    "print(f'Суммарные затраты на работы: {value(problem.objective)}')"
   ]
  },
  {
   "cell_type": "code",
   "execution_count": null,
   "metadata": {},
   "outputs": [],
   "source": []
  }
 ],
 "metadata": {
  "kernelspec": {
   "display_name": "ds",
   "language": "python",
   "name": "python3"
  },
  "language_info": {
   "codemirror_mode": {
    "name": "ipython",
    "version": 3
   },
   "file_extension": ".py",
   "mimetype": "text/x-python",
   "name": "python",
   "nbconvert_exporter": "python",
   "pygments_lexer": "ipython3",
   "version": "3.11.0"
  },
  "orig_nbformat": 4
 },
 "nbformat": 4,
 "nbformat_minor": 2
}
