{
 "cells": [
  {
   "cell_type": "code",
   "execution_count": 247,
   "metadata": {},
   "outputs": [],
   "source": [
    "import numpy as np\n",
    "import pandas as pd\n",
    "import math\n"
   ]
  },
  {
   "cell_type": "code",
   "execution_count": 248,
   "metadata": {},
   "outputs": [],
   "source": [
    "articles_df = pd.read_csv(\"./data/shared_articles.csv\")\n",
    "interactions_df = pd.read_csv(\"./data/users_interactions.csv\")\n"
   ]
  },
  {
   "cell_type": "code",
   "execution_count": 249,
   "metadata": {},
   "outputs": [],
   "source": [
    "interactions_df.personId = interactions_df.personId.astype(str)\n",
    "interactions_df.contentId = interactions_df.contentId.astype(str)\n",
    "articles_df.contentId = articles_df.contentId.astype(str)\n"
   ]
  },
  {
   "cell_type": "code",
   "execution_count": 250,
   "metadata": {},
   "outputs": [
    {
     "data": {
      "text/plain": [
       "timestamp          3047\n",
       "eventType          3047\n",
       "contentId          3047\n",
       "authorPersonId     3047\n",
       "authorSessionId    3047\n",
       "authorUserAgent     669\n",
       "authorRegion        669\n",
       "authorCountry       669\n",
       "contentType        3047\n",
       "url                3047\n",
       "title              3047\n",
       "text               3047\n",
       "lang               3047\n",
       "dtype: int64"
      ]
     },
     "execution_count": 250,
     "metadata": {},
     "output_type": "execute_result"
    }
   ],
   "source": [
    "articles_df.query(\"eventType == 'CONTENT SHARED'\").count()\n"
   ]
  },
  {
   "cell_type": "code",
   "execution_count": 251,
   "metadata": {},
   "outputs": [
    {
     "data": {
      "text/plain": [
       "1.24"
      ]
     },
     "execution_count": 251,
     "metadata": {},
     "output_type": "execute_result"
    }
   ],
   "source": [
    "# Задание 6.2\n",
    "\n",
    "# Создайте признак, который будет отражать числовой вес для взаимодействия со статьёй (в соответствии с приведёнными выше весами).\n",
    "# Вычислите среднее значение для полученного признака. Округлите его до двух знаков после точки-разделителя.\n",
    "\n",
    "event_type = {\n",
    "    'VIEW': 1.0,\n",
    "    'LIKE': 2.0,\n",
    "    'BOOKMARK': 2.5,\n",
    "    'FOLLOW': 3.0,\n",
    "    'COMMENT CREATED': 4.0,\n",
    "}\n",
    "\n",
    "interactions_df['event_code'] = interactions_df['eventType'].map(event_type)\n",
    "interactions_df['event_code'].mean().round(2)\n"
   ]
  },
  {
   "cell_type": "code",
   "execution_count": 252,
   "metadata": {},
   "outputs": [
    {
     "data": {
      "text/plain": [
       "1140"
      ]
     },
     "execution_count": 252,
     "metadata": {},
     "output_type": "execute_result"
    }
   ],
   "source": [
    "# Задание 6.3\n",
    "\n",
    "# Чтобы получить хоть какую-то информацию, на которую можно будет опираться, оставьте только тех пользователей, которые\n",
    "# взаимодействовали хотя бы с пятью статьями. Сколько всего таких пользователей?\n",
    "interactions_counter = interactions_df.groupby(\n",
    "    by=['personId', 'contentId']).first().reset_index().groupby(by=['personId']).size()\n",
    "\n",
    "users_with_enough_interactions_df = \\\n",
    "    interactions_counter[interactions_counter >= 5].reset_index()\n",
    "\n",
    "users_with_enough_interactions_df.rename(columns={0: \"counter\"}, inplace=True)\n",
    "\n",
    "users_with_enough_interactions_df.shape[0]\n"
   ]
  },
  {
   "cell_type": "code",
   "execution_count": 253,
   "metadata": {},
   "outputs": [
    {
     "data": {
      "text/plain": [
       "69868"
      ]
     },
     "execution_count": 253,
     "metadata": {},
     "output_type": "execute_result"
    }
   ],
   "source": [
    "# Задание 6.4\n",
    "\n",
    "# Теперь оставим только те взаимодействия, которые касаются только отфильтрованных пользователей (то есть тех, которые взаимодействовали\n",
    "# как минимум с пятью статьями). Сколько всего таких взаимодействий?\n",
    "\n",
    "mask = users_with_enough_interactions_df['personId']\n",
    "selected_interactions_df = interactions_df[interactions_df['personId'].isin(\n",
    "    mask)]\n",
    "selected_interactions_df.shape[0]\n"
   ]
  },
  {
   "cell_type": "code",
   "execution_count": 254,
   "metadata": {},
   "outputs": [
    {
     "data": {
      "text/plain": [
       "1470605340.04"
      ]
     },
     "execution_count": 254,
     "metadata": {},
     "output_type": "execute_result"
    }
   ],
   "source": [
    "# Задание 6.5\n",
    "\n",
    "# Примените упомянутое выше преобразование для логарифмирования к сумме весов для взаимодействия пользователя с каждой конкретной\n",
    "# статьёй. Также сохраните для каждой пары «пользователь - статья» значение времени последнего взаимодействия.\n",
    "# Найдите среднее по признаку с получившимися временными отсечками. Округлите результат до двух знаков после точки-разделителя.\n",
    "\n",
    "def smooth_user_preference(x):\n",
    "    return math.log(1+x, 2)\n",
    "\n",
    "\n",
    "sum_interactions_log = selected_interactions_df.groupby(by=['personId', 'contentId'])[\n",
    "    'event_code'].sum().apply(smooth_user_preference).reset_index()\n",
    "\n",
    "sum_interactions_log = pd.DataFrame(sum_interactions_log).rename(\n",
    "    columns={\"event_code\": \"sum_attention\"})\n",
    "\n",
    "max_timestamp = selected_interactions_df.groupby(by=['personId', 'contentId'])[\n",
    "    'timestamp'].max().reset_index()\n",
    "\n",
    "sum_interactions_log = pd.merge(sum_interactions_log, max_timestamp, on=[\n",
    "                                'personId', 'contentId'])\n",
    "sum_interactions_log = sum_interactions_log.reindex(\n",
    "    columns=['personId', 'contentId', 'timestamp', 'sum_attention'])\n",
    "\n",
    "sum_interactions_log['timestamp'].mean().round(2)\n"
   ]
  },
  {
   "cell_type": "code",
   "execution_count": 255,
   "metadata": {},
   "outputs": [
    {
     "name": "stdout",
     "output_type": "stream",
     "text": [
      "Train_shape: 29325, Test_shape: 9781\n"
     ]
    }
   ],
   "source": [
    "# Задание 6.6\n",
    "\n",
    "# Разделите данные на обучающую и тестовую выборки. выбрав в качестве временной отсечки значение 1475519545. Значение отсечки включите\n",
    "# в тестовую выборку. Сколько объектов попало в обучающую выборку?\n",
    "#sum_interactions_log = sum_interactions_log.sort_values(by='timestamp')\n",
    "\n",
    "time_gate = 1475519545\n",
    "\n",
    "mask = sum_interactions_log['timestamp'] >= time_gate\n",
    "\n",
    "train_df = sum_interactions_log.query(\"timestamp < @time_gate\")\n",
    "test_df = sum_interactions_log.query(\"timestamp >= @time_gate\")\n",
    "\n",
    "# train_df = train_df.rename(columns={'sum_attention': 'sum_attention_train'})\n",
    "# test_df = test_df.rename(columns={'sum_attention': 'sum_attention_test'})\n",
    "\n",
    "print(f'Train_shape: {train_df.shape[0]}, Test_shape: {test_df.shape[0]}')\n"
   ]
  },
  {
   "cell_type": "code",
   "execution_count": 256,
   "metadata": {},
   "outputs": [
    {
     "data": {
      "text/html": [
       "<div><div id=f83c660b-ec82-4e96-9acc-251ced6b28a2 style=\"display:none; background-color:#9D6CFF; color:white; width:200px; height:30px; padding-left:5px; border-radius:4px; flex-direction:row; justify-content:space-around; align-items:center;\" onmouseover=\"this.style.backgroundColor='#BA9BF8'\" onmouseout=\"this.style.backgroundColor='#9D6CFF'\" onclick=\"window.commands?.execute('create-mitosheet-from-dataframe-output');\">See Full Dataframe in Mito</div> <script> if (window.commands?.hasCommand('create-mitosheet-from-dataframe-output')) document.getElementById('f83c660b-ec82-4e96-9acc-251ced6b28a2').style.display = 'flex' </script> <table border=\"1\" class=\"dataframe\">\n",
       "  <thead>\n",
       "    <tr style=\"text-align: right;\">\n",
       "      <th></th>\n",
       "      <th>true_train</th>\n",
       "      <th>true_test</th>\n",
       "    </tr>\n",
       "    <tr>\n",
       "      <th>personId</th>\n",
       "      <th></th>\n",
       "      <th></th>\n",
       "    </tr>\n",
       "  </thead>\n",
       "  <tbody>\n",
       "    <tr>\n",
       "      <th>953707509720613429</th>\n",
       "      <td>[-1068603220639552685, -2358756719610361882, -4503975842879662368, -6156751702010469220, -6783772548752091658, -8043889175123948305, -908052164352446106, 4105873627900556540, 5658521282502533116, 6943483335823457240, 7087600436874507849, 8074780316213343498, 8749720044741011597]</td>\n",
       "      <td>[-2402288292108892893, -5813211845057621660, -6444494220871855741, -6728844082024523434, 991271693336573226]</td>\n",
       "    </tr>\n",
       "    <tr>\n",
       "      <th>983095443598229476</th>\n",
       "      <td>[-133139342397538859, -8742648016180281673]</td>\n",
       "      <td>[-14569272361926584, -1572252285162838958, -1878128207048892154, -4333957157636611418, -6623581327558800021, -6728844082024523434, -7294716554902079523, 2103268612948910635, 2231749805468232267, 4891010769166501207, 5429045128339158843, 569574447134368517, 5847042211895226591, 8869347744613364434]</td>\n",
       "    </tr>\n",
       "    <tr>\n",
       "      <th>989049974880576288</th>\n",
       "      <td>[-133139342397538859, -2038869595290705317, -271938775771328391, -3959242148361340089, -5200964355640106406, -5380376324140474506, -7492067511846042603, -820343972901090172, -8742648016180281673, -8757701761088346244, 2267321579404324900, 2602738827388230683, 4277778562135834208, 7534917347133949300]</td>\n",
       "      <td>[-6289909056857931861, -7047448754687279385, -7215110246375999491, 6031953227014493100, 8526042588044002101]</td>\n",
       "    </tr>\n",
       "    <tr>\n",
       "      <th>997469202936578234</th>\n",
       "      <td>[-2358756719610361882, -4336877432539963613, -4655195825208522542, -5078536505040226358, -6603970730135147059, 2262656830196923781, 2602221055863892168, 4375556914674736641, 464601875539492971, 521382866757596943, 6910763794618680440, 9112765177685685246]</td>\n",
       "      <td>[-4029704725707465084, -5920475612630001479, -7047448754687279385, 2834072258350675251, 8869347744613364434]</td>\n",
       "    </tr>\n",
       "    <tr>\n",
       "      <th>998688566268269815</th>\n",
       "      <td>[-1255189867397298842, -401664538366009049, 6881796783400625893, 739747367187387064]</td>\n",
       "      <td>[3456674717452933449, 7174452660053929140]</td>\n",
       "    </tr>\n",
       "  </tbody>\n",
       "</table></div>"
      ],
      "text/plain": [
       "                                                           true_train  \\\n",
       "personId                                                                \n",
       "953707509720613429  [-1068603220639552685, -2358756719610361882, -...   \n",
       "983095443598229476        [-133139342397538859, -8742648016180281673]   \n",
       "989049974880576288  [-133139342397538859, -2038869595290705317, -2...   \n",
       "997469202936578234  [-2358756719610361882, -4336877432539963613, -...   \n",
       "998688566268269815  [-1255189867397298842, -401664538366009049, 68...   \n",
       "\n",
       "                                                            true_test  \n",
       "personId                                                               \n",
       "953707509720613429  [-2402288292108892893, -5813211845057621660, -...  \n",
       "983095443598229476  [-14569272361926584, -1572252285162838958, -18...  \n",
       "989049974880576288  [-6289909056857931861, -7047448754687279385, -...  \n",
       "997469202936578234  [-4029704725707465084, -5920475612630001479, -...  \n",
       "998688566268269815         [3456674717452933449, 7174452660053929140]  "
      ]
     },
     "execution_count": 256,
     "metadata": {},
     "output_type": "execute_result"
    }
   ],
   "source": [
    "# Для удобства дальнейшего измерения качества рекомендаций преобразуйте данные так, чтобы получить таблицу в формате, где строка\n",
    "# соответствует пользователю, а столбцы будут истинными предпочтениями и рекомендациями в формате списков. На место пустых ячеек\n",
    "# поместите пустые списки.\n",
    "\n",
    "final_df = (\n",
    "    train_df.reset_index()\n",
    "    .groupby('personId')['contentId'].agg(lambda x: list(x))\n",
    "    .reset_index()\n",
    "    .rename(columns={'contentId': 'true_train'})\n",
    "    .set_index('personId')\n",
    ")\n",
    "\n",
    "final_df['true_test'] = (\n",
    "    test_df.reset_index()\n",
    "    .groupby('personId')['contentId'].agg(lambda x: list(x))\n",
    ")\n",
    "\n",
    "final_df['true_test'] = [\n",
    "    [] if x is np.NaN else x for x in final_df['true_test']]\n",
    "final_df.tail()\n"
   ]
  },
  {
   "cell_type": "code",
   "execution_count": 261,
   "metadata": {},
   "outputs": [
    {
     "data": {
      "text/html": [
       "<div><div id=7cbfa27d-76ce-44c6-b794-715239ddb4e7 style=\"display:none; background-color:#9D6CFF; color:white; width:200px; height:30px; padding-left:5px; border-radius:4px; flex-direction:row; justify-content:space-around; align-items:center;\" onmouseover=\"this.style.backgroundColor='#BA9BF8'\" onmouseout=\"this.style.backgroundColor='#9D6CFF'\" onclick=\"window.commands?.execute('create-mitosheet-from-dataframe-output');\">See Full Dataframe in Mito</div> <script> if (window.commands?.hasCommand('create-mitosheet-from-dataframe-output')) document.getElementById('7cbfa27d-76ce-44c6-b794-715239ddb4e7').style.display = 'flex' </script> <table border=\"1\" class=\"dataframe\">\n",
       "  <thead>\n",
       "    <tr style=\"text-align: right;\">\n",
       "      <th></th>\n",
       "      <th>contentId</th>\n",
       "      <th>sum_attention</th>\n",
       "    </tr>\n",
       "  </thead>\n",
       "  <tbody>\n",
       "    <tr>\n",
       "      <th>805</th>\n",
       "      <td>-6783772548752091658</td>\n",
       "      <td>231.177195</td>\n",
       "    </tr>\n",
       "    <tr>\n",
       "      <th>43</th>\n",
       "      <td>-133139342397538859</td>\n",
       "      <td>228.024567</td>\n",
       "    </tr>\n",
       "    <tr>\n",
       "      <th>1002</th>\n",
       "      <td>-8208801367848627943</td>\n",
       "      <td>189.937683</td>\n",
       "    </tr>\n",
       "    <tr>\n",
       "      <th>2211</th>\n",
       "      <td>8224860111193157980</td>\n",
       "      <td>186.044680</td>\n",
       "    </tr>\n",
       "    <tr>\n",
       "      <th>2111</th>\n",
       "      <td>7507067965574797372</td>\n",
       "      <td>179.094002</td>\n",
       "    </tr>\n",
       "  </tbody>\n",
       "</table></div>"
      ],
      "text/plain": [
       "                 contentId  sum_attention\n",
       "805   -6783772548752091658     231.177195\n",
       "43     -133139342397538859     228.024567\n",
       "1002  -8208801367848627943     189.937683\n",
       "2211   8224860111193157980     186.044680\n",
       "2111   7507067965574797372     179.094002"
      ]
     },
     "execution_count": 261,
     "metadata": {},
     "output_type": "execute_result"
    }
   ],
   "source": [
    "# Задание 6.7\n",
    "\n",
    "# Посчитайте популярность каждой статьи как сумму всех логарифмических «оценок» взаимодействий с ней (используя только обучающую\n",
    "# выборку). Выберите ID самой популярной статьи:\n",
    "\n",
    "popular = train_df.groupby(by='contentId')['sum_attention'].sum(\n",
    ").reset_index().sort_values('sum_attention',ascending=False)\n",
    "popular.head()\n"
   ]
  },
  {
   "cell_type": "code",
   "execution_count": 262,
   "metadata": {},
   "outputs": [],
   "source": [
    "# Задание 6.8\n",
    "\n",
    "# Постройте систему рекомендаций. Оцените качество с помощью precision@10 для каждого пользователя (доля угаданных рекомендаций). После\n",
    "# этого усредните результат по всем пользователям.\n",
    "# Для вычисления precision@10 воспользуйтесь следующей функцией:\n"
   ]
  },
  {
   "cell_type": "code",
   "execution_count": 258,
   "metadata": {},
   "outputs": [],
   "source": [
    "most_popular = popular.head(10)\n",
    "prediction = set(most_popular['contentId'].tolist())\n",
    "\n",
    "def predict(sequence):\n",
    "    sequence = set(sequence)\n",
    "    return list(prediction - sequence)\n",
    "\n",
    "final_df['train_pred'] = final_df['true_train'].apply(predict)"
   ]
  },
  {
   "cell_type": "code",
   "execution_count": 259,
   "metadata": {},
   "outputs": [
    {
     "data": {
      "text/plain": [
       "0.004285989399957339"
      ]
     },
     "execution_count": 259,
     "metadata": {},
     "output_type": "execute_result"
    }
   ],
   "source": [
    "def precision(column):\n",
    "    return (\n",
    "        final_df\n",
    "        .apply(\n",
    "            lambda row:\n",
    "            len(set(row['true_test']).intersection(\n",
    "                set(row[column]))) /\n",
    "            min(len(row['true_test']) + 0.001, 10.0),\n",
    "            axis=1)).mean()\n",
    "precision('train_pred')"
   ]
  },
  {
   "cell_type": "markdown",
   "metadata": {},
   "source": [
    "---"
   ]
  },
  {
   "cell_type": "code",
   "execution_count": null,
   "metadata": {},
   "outputs": [],
   "source": []
  }
 ],
 "metadata": {
  "kernelspec": {
   "display_name": "Python 3",
   "language": "python",
   "name": "python3"
  },
  "language_info": {
   "codemirror_mode": {
    "name": "ipython",
    "version": 3
   },
   "file_extension": ".py",
   "mimetype": "text/x-python",
   "name": "python",
   "nbconvert_exporter": "python",
   "pygments_lexer": "ipython3",
   "version": "3.11.0"
  },
  "orig_nbformat": 4
 },
 "nbformat": 4,
 "nbformat_minor": 2
}
