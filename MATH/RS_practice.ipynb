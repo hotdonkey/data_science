{
 "cells": [
  {
   "cell_type": "code",
   "execution_count": 163,
   "metadata": {},
   "outputs": [],
   "source": [
    "import numpy as np\n",
    "import pandas as pd\n",
    "import math"
   ]
  },
  {
   "cell_type": "code",
   "execution_count": 164,
   "metadata": {},
   "outputs": [],
   "source": [
    "articles_df = pd.read_csv(\"./data/shared_articles.csv\")\n",
    "interactions_df = pd.read_csv(\"./data/users_interactions.csv\")"
   ]
  },
  {
   "cell_type": "code",
   "execution_count": 165,
   "metadata": {},
   "outputs": [],
   "source": [
    "interactions_df.personId = interactions_df.personId.astype(str)\n",
    "interactions_df.contentId = interactions_df.contentId.astype(str)\n",
    "articles_df.contentId = articles_df.contentId.astype(str)"
   ]
  },
  {
   "cell_type": "code",
   "execution_count": 166,
   "metadata": {},
   "outputs": [
    {
     "data": {
      "text/plain": [
       "timestamp          3047\n",
       "eventType          3047\n",
       "contentId          3047\n",
       "authorPersonId     3047\n",
       "authorSessionId    3047\n",
       "authorUserAgent     669\n",
       "authorRegion        669\n",
       "authorCountry       669\n",
       "contentType        3047\n",
       "url                3047\n",
       "title              3047\n",
       "text               3047\n",
       "lang               3047\n",
       "dtype: int64"
      ]
     },
     "execution_count": 166,
     "metadata": {},
     "output_type": "execute_result"
    }
   ],
   "source": [
    "articles_df.query(\"eventType == 'CONTENT SHARED'\").count()"
   ]
  },
  {
   "cell_type": "code",
   "execution_count": 167,
   "metadata": {},
   "outputs": [
    {
     "data": {
      "text/plain": [
       "1.24"
      ]
     },
     "execution_count": 167,
     "metadata": {},
     "output_type": "execute_result"
    }
   ],
   "source": [
    "# Задание 6.2\n",
    "\n",
    "# Создайте признак, который будет отражать числовой вес для взаимодействия со статьёй (в соответствии с приведёнными выше весами).\n",
    "# Вычислите среднее значение для полученного признака. Округлите его до двух знаков после точки-разделителя.\n",
    "\n",
    "event_type = {\n",
    "    'VIEW': 1.0,\n",
    "    'LIKE': 2.0,\n",
    "    'BOOKMARK': 2.5,\n",
    "    'FOLLOW': 3.0,\n",
    "    'COMMENT CREATED': 4.0,\n",
    "}\n",
    "\n",
    "interactions_df['event_code'] = interactions_df['eventType'].map(event_type)\n",
    "interactions_df['event_code'].mean().round(2)\n"
   ]
  },
  {
   "cell_type": "code",
   "execution_count": 168,
   "metadata": {},
   "outputs": [
    {
     "data": {
      "text/plain": [
       "Index(['timestamp', 'eventType', 'contentId', 'personId', 'sessionId',\n",
       "       'userAgent', 'userRegion', 'userCountry', 'event_code'],\n",
       "      dtype='object')"
      ]
     },
     "execution_count": 168,
     "metadata": {},
     "output_type": "execute_result"
    }
   ],
   "source": [
    "interactions_df.columns"
   ]
  },
  {
   "cell_type": "code",
   "execution_count": 169,
   "metadata": {},
   "outputs": [
    {
     "data": {
      "text/plain": [
       "1140"
      ]
     },
     "execution_count": 169,
     "metadata": {},
     "output_type": "execute_result"
    }
   ],
   "source": [
    "# Задание 6.3\n",
    "\n",
    "# Чтобы получить хоть какую-то информацию, на которую можно будет опираться, оставьте только тех пользователей, которые\n",
    "# взаимодействовали хотя бы с пятью статьями. Сколько всего таких пользователей?\n",
    "interactions_counter = interactions_df.groupby(\n",
    "    by=['personId', 'contentId']).first().reset_index().groupby(by=['personId']).size()\n",
    "\n",
    "users_with_enough_interactions_df = \\\n",
    "    interactions_counter[interactions_counter >= 5].reset_index()\n",
    "\n",
    "users_with_enough_interactions_df.rename(columns={0: \"counter\"}, inplace=True)\n",
    "\n",
    "users_with_enough_interactions_df.shape[0]\n"
   ]
  },
  {
   "cell_type": "code",
   "execution_count": 170,
   "metadata": {},
   "outputs": [
    {
     "data": {
      "text/plain": [
       "69868"
      ]
     },
     "execution_count": 170,
     "metadata": {},
     "output_type": "execute_result"
    }
   ],
   "source": [
    "# Задание 6.4\n",
    "\n",
    "# Теперь оставим только те взаимодействия, которые касаются только отфильтрованных пользователей (то есть тех, которые взаимодействовали\n",
    "# как минимум с пятью статьями). Сколько всего таких взаимодействий?\n",
    "\n",
    "mask = users_with_enough_interactions_df['personId']\n",
    "selected_interactions_df = interactions_df[interactions_df['personId'].isin(mask)]\n",
    "selected_interactions_df.shape[0]"
   ]
  },
  {
   "cell_type": "code",
   "execution_count": 172,
   "metadata": {},
   "outputs": [
    {
     "data": {
      "text/plain": [
       "1470605340.04"
      ]
     },
     "execution_count": 172,
     "metadata": {},
     "output_type": "execute_result"
    }
   ],
   "source": [
    "# Задание 6.5\n",
    "\n",
    "# Примените упомянутое выше преобразование для логарифмирования к сумме весов для взаимодействия пользователя с каждой конкретной\n",
    "# статьёй. Также сохраните для каждой пары «пользователь - статья» значение времени последнего взаимодействия.\n",
    "# Найдите среднее по признаку с получившимися временными отсечками. Округлите результат до двух знаков после точки-разделителя.\n",
    "\n",
    "def smooth_user_preference(x):\n",
    "    return math.log(1+x, 2)\n",
    "\n",
    "\n",
    "sum_interactions_log = selected_interactions_df.groupby(by=['personId', 'contentId'])[\n",
    "    'event_code'].sum().apply(smooth_user_preference).reset_index()\n",
    "\n",
    "sum_interactions_log = pd.DataFrame(sum_interactions_log).rename(\n",
    "    columns={\"event_code\": \"sum_attention\"})\n",
    "\n",
    "max_timestamp = selected_interactions_df.groupby(by=['personId', 'contentId'])[\n",
    "    'timestamp'].max().reset_index()\n",
    "\n",
    "sum_interactions_log = pd.merge(sum_interactions_log, max_timestamp, on=[\n",
    "                                'personId', 'contentId'])\n",
    "sum_interactions_log = sum_interactions_log.reindex(\n",
    "    columns=['personId', 'contentId', 'timestamp', 'sum_attention'])\n",
    "\n",
    "sum_interactions_log['timestamp'].mean().round(2)\n"
   ]
  },
  {
   "cell_type": "code",
   "execution_count": 182,
   "metadata": {},
   "outputs": [],
   "source": [
    "# Задание 6.6\n",
    "\n",
    "# Разделите данные на обучающую и тестовую выборки. выбрав в качестве временной отсечки значение 1475519545. Значение отсечки включите\n",
    "# в тестовую выборку. Сколько объектов попало в обучающую выборку?\n",
    "sum_interactions_log = sum_interactions_log.sort_values(by='timestamp')\n",
    "\n",
    "time_gate = 1475519545\n",
    "\n",
    "mask = sum_interactions_log['timestamp'] >= time_gate\n",
    "\n",
    "train_df = sum_interactions_log[sum_interactions_log['timestamp'].isin(~mask)]\n",
    "test_df = sum_interactions_log[sum_interactions_log['timestamp'].isin(mask)]"
   ]
  },
  {
   "cell_type": "code",
   "execution_count": 183,
   "metadata": {},
   "outputs": [
    {
     "data": {
      "text/html": [
       "<div><div id=772b9464-b592-49ca-8f88-125d8f7e2922 style=\"display:none; background-color:#9D6CFF; color:white; width:200px; height:30px; padding-left:5px; border-radius:4px; flex-direction:row; justify-content:space-around; align-items:center;\" onmouseover=\"this.style.backgroundColor='#BA9BF8'\" onmouseout=\"this.style.backgroundColor='#9D6CFF'\" onclick=\"window.commands?.execute('create-mitosheet-from-dataframe-output');\">See Full Dataframe in Mito</div> <script> if (window.commands?.hasCommand('create-mitosheet-from-dataframe-output')) document.getElementById('772b9464-b592-49ca-8f88-125d8f7e2922').style.display = 'flex' </script> <table border=\"1\" class=\"dataframe\">\n",
       "  <thead>\n",
       "    <tr style=\"text-align: right;\">\n",
       "      <th></th>\n",
       "      <th>personId</th>\n",
       "      <th>contentId</th>\n",
       "      <th>timestamp</th>\n",
       "      <th>sum_attention</th>\n",
       "    </tr>\n",
       "  </thead>\n",
       "  <tbody>\n",
       "  </tbody>\n",
       "</table></div>"
      ],
      "text/plain": [
       "Empty DataFrame\n",
       "Columns: [personId, contentId, timestamp, sum_attention]\n",
       "Index: []"
      ]
     },
     "execution_count": 183,
     "metadata": {},
     "output_type": "execute_result"
    }
   ],
   "source": [
    "train_df"
   ]
  },
  {
   "cell_type": "code",
   "execution_count": 184,
   "metadata": {},
   "outputs": [
    {
     "data": {
      "text/html": [
       "<div><div id=14211c1e-ab93-4d0d-bacf-4ce006399f99 style=\"display:none; background-color:#9D6CFF; color:white; width:200px; height:30px; padding-left:5px; border-radius:4px; flex-direction:row; justify-content:space-around; align-items:center;\" onmouseover=\"this.style.backgroundColor='#BA9BF8'\" onmouseout=\"this.style.backgroundColor='#9D6CFF'\" onclick=\"window.commands?.execute('create-mitosheet-from-dataframe-output');\">See Full Dataframe in Mito</div> <script> if (window.commands?.hasCommand('create-mitosheet-from-dataframe-output')) document.getElementById('14211c1e-ab93-4d0d-bacf-4ce006399f99').style.display = 'flex' </script> <table border=\"1\" class=\"dataframe\">\n",
       "  <thead>\n",
       "    <tr style=\"text-align: right;\">\n",
       "      <th></th>\n",
       "      <th>personId</th>\n",
       "      <th>contentId</th>\n",
       "      <th>timestamp</th>\n",
       "      <th>sum_attention</th>\n",
       "    </tr>\n",
       "  </thead>\n",
       "  <tbody>\n",
       "  </tbody>\n",
       "</table></div>"
      ],
      "text/plain": [
       "Empty DataFrame\n",
       "Columns: [personId, contentId, timestamp, sum_attention]\n",
       "Index: []"
      ]
     },
     "execution_count": 184,
     "metadata": {},
     "output_type": "execute_result"
    }
   ],
   "source": [
    "test_df"
   ]
  },
  {
   "cell_type": "code",
   "execution_count": 186,
   "metadata": {},
   "outputs": [
    {
     "data": {
      "text/plain": [
       "34061    False\n",
       "13341    False\n",
       "10929    False\n",
       "11381    False\n",
       "19304    False\n",
       "         ...  \n",
       "8654     False\n",
       "36116    False\n",
       "1755     False\n",
       "28206    False\n",
       "8590     False\n",
       "Name: timestamp, Length: 39106, dtype: bool"
      ]
     },
     "execution_count": 186,
     "metadata": {},
     "output_type": "execute_result"
    }
   ],
   "source": [
    "sum_interactions_log['timestamp'].isin(mask)"
   ]
  },
  {
   "cell_type": "code",
   "execution_count": null,
   "metadata": {},
   "outputs": [],
   "source": []
  }
 ],
 "metadata": {
  "kernelspec": {
   "display_name": "Python 3",
   "language": "python",
   "name": "python3"
  },
  "language_info": {
   "codemirror_mode": {
    "name": "ipython",
    "version": 3
   },
   "file_extension": ".py",
   "mimetype": "text/x-python",
   "name": "python",
   "nbconvert_exporter": "python",
   "pygments_lexer": "ipython3",
   "version": "3.11.0"
  },
  "orig_nbformat": 4
 },
 "nbformat": 4,
 "nbformat_minor": 2
}
