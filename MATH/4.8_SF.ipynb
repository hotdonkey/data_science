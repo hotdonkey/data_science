{
 "cells": [
  {
   "attachments": {},
   "cell_type": "markdown",
   "id": "f468bf1e",
   "metadata": {},
   "source": [
    "## Область определения"
   ]
  },
  {
   "cell_type": "code",
   "execution_count": 1,
   "id": "c95eac41",
   "metadata": {},
   "outputs": [
    {
     "data": {
      "text/latex": [
       "$\\displaystyle \\left(-\\infty, -1\\right) \\cup \\left(-1, 1\\right) \\cup \\left(1, \\infty\\right)$"
      ],
      "text/plain": [
       "Union(Interval.open(-oo, -1), Interval.open(-1, 1), Interval.open(1, oo))"
      ]
     },
     "execution_count": 1,
     "metadata": {},
     "output_type": "execute_result"
    }
   ],
   "source": [
    "from sympy import Symbol, S\n",
    "from sympy.calculus.util import continuous_domain \n",
    "x = Symbol(\"x\") \n",
    "f = (x**3)/(x**2-1) \n",
    "continuous_domain(f, x, S.Reals)\n"
   ]
  },
  {
   "attachments": {},
   "cell_type": "markdown",
   "id": "3def5ae7",
   "metadata": {},
   "source": [
    "## Область значений функции"
   ]
  },
  {
   "cell_type": "code",
   "execution_count": 2,
   "id": "84f388ff",
   "metadata": {},
   "outputs": [
    {
     "data": {
      "text/latex": [
       "$\\displaystyle \\left(-\\infty, \\infty\\right)$"
      ],
      "text/plain": [
       "Interval(-oo, oo)"
      ]
     },
     "execution_count": 2,
     "metadata": {},
     "output_type": "execute_result"
    }
   ],
   "source": [
    "from sympy import Symbol, S\n",
    "from sympy.calculus.util import function_range\n",
    "x = Symbol(\"x\") \n",
    "f = (x**3)/(x**2-1) \n",
    "function_range(f, x, S.Reals)\n"
   ]
  },
  {
   "attachments": {},
   "cell_type": "markdown",
   "id": "39726364",
   "metadata": {},
   "source": [
    "## Нахождение точек пересечения с осями координат"
   ]
  },
  {
   "cell_type": "code",
   "execution_count": 3,
   "id": "c484f33f",
   "metadata": {},
   "outputs": [
    {
     "data": {
      "text/latex": [
       "$\\displaystyle \\left\\{0\\right\\}$"
      ],
      "text/plain": [
       "{0}"
      ]
     },
     "execution_count": 3,
     "metadata": {},
     "output_type": "execute_result"
    }
   ],
   "source": [
    "from sympy import solveset, Eq\n",
    "f = (x**3)/(x**2-1) \n",
    "solveset(Eq(f, 0), x)"
   ]
  },
  {
   "cell_type": "code",
   "execution_count": 4,
   "id": "a11f173f",
   "metadata": {},
   "outputs": [
    {
     "data": {
      "text/latex": [
       "$\\displaystyle 0$"
      ],
      "text/plain": [
       "0"
      ]
     },
     "execution_count": 4,
     "metadata": {},
     "output_type": "execute_result"
    }
   ],
   "source": [
    "x = Symbol(\"x\")\n",
    "f = (x**3)/(x**2-1)\n",
    "f.subs(x, 0)"
   ]
  },
  {
   "attachments": {},
   "cell_type": "markdown",
   "id": "14d60350",
   "metadata": {},
   "source": [
    "## Нахождение производной"
   ]
  },
  {
   "cell_type": "code",
   "execution_count": 5,
   "id": "749f70c3",
   "metadata": {},
   "outputs": [
    {
     "data": {
      "text/latex": [
       "$\\displaystyle - \\frac{2 x^{4}}{\\left(x^{2} - 1\\right)^{2}} + \\frac{3 x^{2}}{x^{2} - 1}$"
      ],
      "text/plain": [
       "-2*x**4/(x**2 - 1)**2 + 3*x**2/(x**2 - 1)"
      ]
     },
     "execution_count": 5,
     "metadata": {},
     "output_type": "execute_result"
    }
   ],
   "source": [
    "import sympy\n",
    "from sympy import diff\n",
    "x = sympy.Symbol(\"x\")\n",
    "expr = (x**3)/(x**2-1)\n",
    "expr.diff(x)\n"
   ]
  },
  {
   "cell_type": "code",
   "execution_count": 6,
   "id": "7d1093f9",
   "metadata": {},
   "outputs": [
    {
     "data": {
      "text/latex": [
       "$\\displaystyle \\left\\{0, - \\sqrt{3}, \\sqrt{3}\\right\\}$"
      ],
      "text/plain": [
       "{0, -sqrt(3), sqrt(3)}"
      ]
     },
     "execution_count": 6,
     "metadata": {},
     "output_type": "execute_result"
    }
   ],
   "source": [
    "y = expr.diff(x)\n",
    "solveset(Eq(y, 0), x)"
   ]
  },
  {
   "attachments": {},
   "cell_type": "markdown",
   "id": "10d568f8",
   "metadata": {},
   "source": [
    "## Нахождение второй производной"
   ]
  },
  {
   "cell_type": "code",
   "execution_count": 7,
   "id": "cfebc61b",
   "metadata": {},
   "outputs": [
    {
     "data": {
      "text/latex": [
       "$\\displaystyle \\frac{2 x \\left(\\frac{x^{2} \\cdot \\left(\\frac{4 x^{2}}{x^{2} - 1} - 1\\right)}{x^{2} - 1} - \\frac{6 x^{2}}{x^{2} - 1} + 3\\right)}{x^{2} - 1}$"
      ],
      "text/plain": [
       "2*x*(x**2*(4*x**2/(x**2 - 1) - 1)/(x**2 - 1) - 6*x**2/(x**2 - 1) + 3)/(x**2 - 1)"
      ]
     },
     "execution_count": 7,
     "metadata": {},
     "output_type": "execute_result"
    }
   ],
   "source": [
    "import sympy\n",
    "from sympy import diff\n",
    "x = sympy.Symbol(\"x\")\n",
    "expr = (x**3)/(x**2-1)\n",
    "expr.diff(x,2)"
   ]
  },
  {
   "cell_type": "code",
   "execution_count": 8,
   "id": "31d8a7c8",
   "metadata": {},
   "outputs": [
    {
     "data": {
      "text/latex": [
       "$\\displaystyle \\left\\{0, - \\sqrt{3} i, \\sqrt{3} i\\right\\}$"
      ],
      "text/plain": [
       "{0, -sqrt(3)*I, sqrt(3)*I}"
      ]
     },
     "execution_count": 8,
     "metadata": {},
     "output_type": "execute_result"
    }
   ],
   "source": [
    "y = expr.diff(x,2)\n",
    "solveset(Eq(y, 0), x)"
   ]
  },
  {
   "attachments": {},
   "cell_type": "markdown",
   "id": "fc9a293e",
   "metadata": {},
   "source": [
    "## Нахождение асимптот"
   ]
  },
  {
   "cell_type": "code",
   "execution_count": 9,
   "id": "9015fba6",
   "metadata": {},
   "outputs": [
    {
     "data": {
      "text/latex": [
       "$\\displaystyle \\infty$"
      ],
      "text/plain": [
       "oo"
      ]
     },
     "execution_count": 9,
     "metadata": {},
     "output_type": "execute_result"
    }
   ],
   "source": [
    "from sympy import Symbol, limit, oo\n",
    "x = Symbol(\"x\")\n",
    "f = (x**3)/(x**2-1)\n",
    "limit(f,x,oo)\n"
   ]
  },
  {
   "cell_type": "code",
   "execution_count": 10,
   "id": "ad626e7c",
   "metadata": {},
   "outputs": [
    {
     "data": {
      "text/latex": [
       "$\\displaystyle \\infty$"
      ],
      "text/plain": [
       "oo"
      ]
     },
     "execution_count": 10,
     "metadata": {},
     "output_type": "execute_result"
    }
   ],
   "source": [
    "from sympy import Symbol, limit, oo\n",
    "x = Symbol(\"x\")\n",
    "f = (x**3)/(x**2-1)\n",
    "limit(f,x,1)\n"
   ]
  },
  {
   "cell_type": "code",
   "execution_count": 11,
   "id": "13913fbf",
   "metadata": {},
   "outputs": [
    {
     "data": {
      "text/latex": [
       "$\\displaystyle \\infty$"
      ],
      "text/plain": [
       "oo"
      ]
     },
     "execution_count": 11,
     "metadata": {},
     "output_type": "execute_result"
    }
   ],
   "source": [
    "from sympy import Symbol, limit, oo\n",
    "x = Symbol(\"x\")\n",
    "f = (x**3)/(x**2-1)\n",
    "limit(f,x,-1)\n"
   ]
  },
  {
   "cell_type": "code",
   "execution_count": 12,
   "id": "dfb2adc9",
   "metadata": {},
   "outputs": [
    {
     "data": {
      "text/latex": [
       "$\\displaystyle 1$"
      ],
      "text/plain": [
       "1"
      ]
     },
     "execution_count": 12,
     "metadata": {},
     "output_type": "execute_result"
    }
   ],
   "source": [
    "from sympy import Symbol, limit, oo\n",
    "x = Symbol(\"x\")\n",
    "f = (x**3)/((x**2-1)*x)\n",
    "limit(f,x,oo)\n"
   ]
  },
  {
   "cell_type": "code",
   "execution_count": 13,
   "id": "1ed7d557",
   "metadata": {},
   "outputs": [
    {
     "data": {
      "text/latex": [
       "$\\displaystyle 0$"
      ],
      "text/plain": [
       "0"
      ]
     },
     "execution_count": 13,
     "metadata": {},
     "output_type": "execute_result"
    }
   ],
   "source": [
    "from sympy import Symbol, limit, oo\n",
    "x = Symbol(\"x\")\n",
    "f = (x**3)/((x**2-1)) - 1*x\n",
    "limit(f,x,oo)\n"
   ]
  },
  {
   "attachments": {},
   "cell_type": "markdown",
   "id": "2f6b2f04",
   "metadata": {},
   "source": [
    "---"
   ]
  },
  {
   "attachments": {},
   "cell_type": "markdown",
   "id": "6f4f3038",
   "metadata": {},
   "source": [
    "Hand job"
   ]
  },
  {
   "cell_type": "code",
   "execution_count": 14,
   "id": "23f4c70f",
   "metadata": {},
   "outputs": [],
   "source": [
    "x = Symbol('x')\n",
    "f = (x**3)/(2*(x+5)**2)"
   ]
  },
  {
   "cell_type": "code",
   "execution_count": 15,
   "id": "76627080",
   "metadata": {},
   "outputs": [
    {
     "data": {
      "text/latex": [
       "$\\displaystyle \\left(-\\infty, -5\\right) \\cup \\left(-5, \\infty\\right)$"
      ],
      "text/plain": [
       "Union(Interval.open(-oo, -5), Interval.open(-5, oo))"
      ]
     },
     "execution_count": 15,
     "metadata": {},
     "output_type": "execute_result"
    }
   ],
   "source": [
    "D = continuous_domain(f,x,S.Reals)\n",
    "D"
   ]
  },
  {
   "cell_type": "code",
   "execution_count": 16,
   "id": "5a2b6008",
   "metadata": {},
   "outputs": [
    {
     "data": {
      "text/latex": [
       "$\\displaystyle \\left(-\\infty, \\infty\\right)$"
      ],
      "text/plain": [
       "Interval(-oo, oo)"
      ]
     },
     "execution_count": 16,
     "metadata": {},
     "output_type": "execute_result"
    }
   ],
   "source": [
    "f_range = function_range(f,x,S.Reals)\n",
    "f_range"
   ]
  },
  {
   "cell_type": "code",
   "execution_count": 17,
   "id": "f0204879",
   "metadata": {},
   "outputs": [],
   "source": [
    "f_inv = f.replace(x, -x)"
   ]
  },
  {
   "cell_type": "code",
   "execution_count": 18,
   "id": "2cdf57b5",
   "metadata": {},
   "outputs": [
    {
     "data": {
      "text/latex": [
       "$\\displaystyle - \\frac{x^{3}}{2 \\left(5 - x\\right)^{2}}$"
      ],
      "text/plain": [
       "-x**3/(2*(5 - x)**2)"
      ]
     },
     "execution_count": 18,
     "metadata": {},
     "output_type": "execute_result"
    }
   ],
   "source": [
    "f_inv"
   ]
  },
  {
   "cell_type": "code",
   "execution_count": 19,
   "id": "4b043a12",
   "metadata": {},
   "outputs": [
    {
     "data": {
      "text/latex": [
       "$\\displaystyle \\frac{x^{3}}{2 \\left(x + 5\\right)^{2}}$"
      ],
      "text/plain": [
       "x**3/(2*(x + 5)**2)"
      ]
     },
     "execution_count": 19,
     "metadata": {},
     "output_type": "execute_result"
    }
   ],
   "source": [
    "f"
   ]
  },
  {
   "cell_type": "code",
   "execution_count": 20,
   "id": "8e708868",
   "metadata": {},
   "outputs": [
    {
     "data": {
      "text/plain": [
       "[0]"
      ]
     },
     "execution_count": 20,
     "metadata": {},
     "output_type": "execute_result"
    }
   ],
   "source": [
    "x_0 = solveset(Eq(f,0),x)\n",
    "x_0 = [i for i in x_0]\n",
    "x_0"
   ]
  },
  {
   "cell_type": "code",
   "execution_count": 21,
   "id": "d70e9486",
   "metadata": {},
   "outputs": [
    {
     "data": {
      "text/latex": [
       "$\\displaystyle 0$"
      ],
      "text/plain": [
       "0"
      ]
     },
     "execution_count": 21,
     "metadata": {},
     "output_type": "execute_result"
    }
   ],
   "source": [
    "y_0 = f.subs(x, x_0[0])\n",
    "y_0"
   ]
  },
  {
   "cell_type": "code",
   "execution_count": 22,
   "id": "2774828a",
   "metadata": {},
   "outputs": [
    {
     "data": {
      "text/latex": [
       "$\\displaystyle - \\frac{x^{3}}{\\left(x + 5\\right)^{3}} + \\frac{3 x^{2}}{2 \\left(x + 5\\right)^{2}}$"
      ],
      "text/plain": [
       "-x**3/(x + 5)**3 + 3*x**2/(2*(x + 5)**2)"
      ]
     },
     "execution_count": 22,
     "metadata": {},
     "output_type": "execute_result"
    }
   ],
   "source": [
    "f.diff(x)"
   ]
  },
  {
   "cell_type": "code",
   "execution_count": 23,
   "id": "3392d397",
   "metadata": {},
   "outputs": [
    {
     "data": {
      "text/latex": [
       "$\\displaystyle - \\frac{x^{3}}{\\left(x + 5\\right)^{3}} + \\frac{3 x^{2}}{2 \\left(x + 5\\right)^{2}}$"
      ],
      "text/plain": [
       "-x**3/(x + 5)**3 + 3*x**2/(2*(x + 5)**2)"
      ]
     },
     "execution_count": 23,
     "metadata": {},
     "output_type": "execute_result"
    }
   ],
   "source": [
    "diff_1 =f.diff(x)\n",
    "diff_1"
   ]
  },
  {
   "cell_type": "code",
   "execution_count": 24,
   "id": "378919fd",
   "metadata": {},
   "outputs": [
    {
     "data": {
      "text/latex": [
       "$\\displaystyle \\frac{x^{3}}{2 \\left(x + 5\\right)^{2}}$"
      ],
      "text/plain": [
       "x**3/(2*(x + 5)**2)"
      ]
     },
     "execution_count": 24,
     "metadata": {},
     "output_type": "execute_result"
    }
   ],
   "source": [
    "f"
   ]
  },
  {
   "attachments": {},
   "cell_type": "markdown",
   "id": "8be9131c",
   "metadata": {},
   "source": [
    "---"
   ]
  },
  {
   "cell_type": "code",
   "execution_count": 25,
   "id": "e4f71de3",
   "metadata": {},
   "outputs": [
    {
     "data": {
      "text/latex": [
       "$\\displaystyle \\left\\{-15, 0\\right\\}$"
      ],
      "text/plain": [
       "{-15, 0}"
      ]
     },
     "execution_count": 25,
     "metadata": {},
     "output_type": "execute_result"
    }
   ],
   "source": [
    "# Экстремум\n",
    "solveset(Eq(diff_1,0), x)"
   ]
  },
  {
   "cell_type": "code",
   "execution_count": 26,
   "id": "c9aaf221",
   "metadata": {},
   "outputs": [
    {
     "data": {
      "text/latex": [
       "$\\displaystyle \\frac{8}{27}$"
      ],
      "text/plain": [
       "8/27"
      ]
     },
     "execution_count": 26,
     "metadata": {},
     "output_type": "execute_result"
    }
   ],
   "source": [
    "diff_1.subs(x,-20)"
   ]
  },
  {
   "cell_type": "code",
   "execution_count": 27,
   "id": "9dfed635",
   "metadata": {},
   "outputs": [
    {
     "data": {
      "text/latex": [
       "$\\displaystyle -2$"
      ],
      "text/plain": [
       "-2"
      ]
     },
     "execution_count": 27,
     "metadata": {},
     "output_type": "execute_result"
    }
   ],
   "source": [
    "diff_1.subs(x,-10)"
   ]
  },
  {
   "attachments": {},
   "cell_type": "markdown",
   "id": "d0714436",
   "metadata": {},
   "source": [
    "-15 максимум"
   ]
  },
  {
   "cell_type": "code",
   "execution_count": 28,
   "id": "6b60d74b",
   "metadata": {},
   "outputs": [
    {
     "data": {
      "text/latex": [
       "$\\displaystyle \\frac{7}{64}$"
      ],
      "text/plain": [
       "7/64"
      ]
     },
     "execution_count": 28,
     "metadata": {},
     "output_type": "execute_result"
    }
   ],
   "source": [
    "diff_1.subs(x,-1)"
   ]
  },
  {
   "cell_type": "code",
   "execution_count": 29,
   "id": "3a87c3dd",
   "metadata": {},
   "outputs": [
    {
     "data": {
      "text/latex": [
       "$\\displaystyle \\frac{1}{27}$"
      ],
      "text/plain": [
       "1/27"
      ]
     },
     "execution_count": 29,
     "metadata": {},
     "output_type": "execute_result"
    }
   ],
   "source": [
    "diff_1.subs(x,1)"
   ]
  },
  {
   "attachments": {},
   "cell_type": "markdown",
   "id": "8ac6f9fa",
   "metadata": {},
   "source": [
    "---"
   ]
  },
  {
   "cell_type": "code",
   "execution_count": 30,
   "id": "df11ac8d",
   "metadata": {},
   "outputs": [
    {
     "data": {
      "text/latex": [
       "$\\displaystyle \\frac{3 x \\left(\\frac{x^{2}}{\\left(x + 5\\right)^{2}} - \\frac{2 x}{x + 5} + 1\\right)}{\\left(x + 5\\right)^{2}}$"
      ],
      "text/plain": [
       "3*x*(x**2/(x + 5)**2 - 2*x/(x + 5) + 1)/(x + 5)**2"
      ]
     },
     "execution_count": 30,
     "metadata": {},
     "output_type": "execute_result"
    }
   ],
   "source": [
    "# Вторая производная\n",
    "diff_2 = f.diff(x,2)\n",
    "diff_2"
   ]
  },
  {
   "cell_type": "code",
   "execution_count": 31,
   "id": "4c533b8d",
   "metadata": {},
   "outputs": [
    {
     "data": {
      "text/latex": [
       "$\\displaystyle \\frac{75 x}{x^{4} + 20 x^{3} + 150 x^{2} + 500 x + 625}$"
      ],
      "text/plain": [
       "75*x/(x**4 + 20*x**3 + 150*x**2 + 500*x + 625)"
      ]
     },
     "execution_count": 31,
     "metadata": {},
     "output_type": "execute_result"
    }
   ],
   "source": [
    "from sympy import simplify\n",
    "simplify(diff_2)"
   ]
  },
  {
   "cell_type": "code",
   "execution_count": 32,
   "id": "ac9bc80f",
   "metadata": {},
   "outputs": [
    {
     "data": {
      "text/latex": [
       "$\\displaystyle \\left\\{0\\right\\}$"
      ],
      "text/plain": [
       "{0}"
      ]
     },
     "execution_count": 32,
     "metadata": {},
     "output_type": "execute_result"
    }
   ],
   "source": [
    "# Выпуклость\n",
    "solveset(Eq(diff_2,0),x)"
   ]
  },
  {
   "cell_type": "code",
   "execution_count": 33,
   "id": "f44324d7",
   "metadata": {},
   "outputs": [
    {
     "data": {
      "text/latex": [
       "$\\displaystyle \\left\\{-1, 1\\right\\}$"
      ],
      "text/plain": [
       "{-1, 1}"
      ]
     },
     "execution_count": 33,
     "metadata": {},
     "output_type": "execute_result"
    }
   ],
   "source": [
    "x = Symbol('x')\n",
    "f = -((x**2 + 1)/x)\n",
    "diff_1 = f.diff(x)\n",
    "solveset(Eq(diff_1,0),x)"
   ]
  },
  {
   "cell_type": "code",
   "execution_count": null,
   "id": "b69666d9",
   "metadata": {},
   "outputs": [],
   "source": []
  },
  {
   "attachments": {},
   "cell_type": "markdown",
   "id": "02bcb5ce",
   "metadata": {},
   "source": [
    "----"
   ]
  },
  {
   "cell_type": "code",
   "execution_count": 34,
   "id": "93d6e0eb",
   "metadata": {},
   "outputs": [
    {
     "data": {
      "text/latex": [
       "$\\displaystyle \\left\\{0, 4\\right\\}$"
      ],
      "text/plain": [
       "{0, 4}"
      ]
     },
     "execution_count": 34,
     "metadata": {},
     "output_type": "execute_result"
    }
   ],
   "source": [
    "import sympy as sp\n",
    "x = sp.Symbol('x')\n",
    "f = x**3 - 6*x**2 + 2\n",
    "diff_1 = f.diff(x)\n",
    "solveset(Eq(diff_1,0),x)"
   ]
  },
  {
   "cell_type": "code",
   "execution_count": 35,
   "id": "903db386",
   "metadata": {},
   "outputs": [
    {
     "data": {
      "text/plain": [
       "0.07857142857142863"
      ]
     },
     "execution_count": 35,
     "metadata": {},
     "output_type": "execute_result"
    }
   ],
   "source": [
    "from sklearn import metrics\n",
    "y = [6, 7, 6, 4, 5, 6, 8]\n",
    "y_pred = [6.4, 7.1, 5.9, 4.2, 5.2, 6.2, 7.5]\n",
    "metrics.mean_squared_error(y, y_pred)"
   ]
  },
  {
   "cell_type": "code",
   "execution_count": 36,
   "id": "2c45956a",
   "metadata": {},
   "outputs": [
    {
     "data": {
      "text/plain": [
       "0.5500000000000004"
      ]
     },
     "execution_count": 36,
     "metadata": {},
     "output_type": "execute_result"
    }
   ],
   "source": [
    "t = []\n",
    "for i, j in zip(y, y_pred):\n",
    "    t.append((i-j)**2)\n",
    "sum(t)"
   ]
  },
  {
   "attachments": {},
   "cell_type": "markdown",
   "id": "89a5da94",
   "metadata": {},
   "source": [
    "---"
   ]
  },
  {
   "cell_type": "code",
   "execution_count": 37,
   "id": "ab840997",
   "metadata": {},
   "outputs": [],
   "source": [
    "import numpy as np"
   ]
  },
  {
   "cell_type": "code",
   "execution_count": 38,
   "id": "170c15f4",
   "metadata": {},
   "outputs": [
    {
     "data": {
      "text/latex": [
       "$\\displaystyle 2.24$"
      ],
      "text/plain": [
       "2.24"
      ]
     },
     "execution_count": 38,
     "metadata": {},
     "output_type": "execute_result"
    }
   ],
   "source": [
    "x, y = sp.symbols('x y')\n",
    "f = (x**2 + y**2)**(1/2)\n",
    "f.subs([(x, 2), (y,1)]).round(2)"
   ]
  },
  {
   "cell_type": "code",
   "execution_count": 39,
   "id": "cf0083e7",
   "metadata": {},
   "outputs": [
    {
     "data": {
      "text/latex": [
       "$\\displaystyle \\frac{1}{e^{-4} + 1}$"
      ],
      "text/plain": [
       "1/(exp(-4) + 1)"
      ]
     },
     "execution_count": 39,
     "metadata": {},
     "output_type": "execute_result"
    }
   ],
   "source": [
    "x_1, x_2, x_3 = sp.symbols('x_1 x_2 x_3')\n",
    "f = 1/(1 + (sp.E**(-2*(x_1 + x_2 + x_3))))\n",
    "exp = f.subs([(x_1, 1), (x_2, 1), (x_3, 0)])\n",
    "exp"
   ]
  },
  {
   "cell_type": "code",
   "execution_count": 40,
   "id": "8489850a",
   "metadata": {},
   "outputs": [
    {
     "data": {
      "text/plain": [
       "0.9820137900379085"
      ]
     },
     "execution_count": 40,
     "metadata": {},
     "output_type": "execute_result"
    }
   ],
   "source": [
    "1/(1 + np.e**(-4))"
   ]
  },
  {
   "cell_type": "code",
   "execution_count": 41,
   "id": "8da49bb8",
   "metadata": {},
   "outputs": [
    {
     "data": {
      "text/latex": [
       "$\\displaystyle 0.880797077977883$"
      ],
      "text/plain": [
       "0.880797077977883"
      ]
     },
     "execution_count": 41,
     "metadata": {},
     "output_type": "execute_result"
    }
   ],
   "source": [
    "exp_2 = f.subs([(x_1, 0.1), (x_2, 0.3), (x_3, 0.6)])\n",
    "exp_2 "
   ]
  },
  {
   "attachments": {},
   "cell_type": "markdown",
   "id": "65484c0d",
   "metadata": {},
   "source": [
    "---"
   ]
  },
  {
   "cell_type": "code",
   "execution_count": 42,
   "id": "d5ad6fdd",
   "metadata": {},
   "outputs": [
    {
     "data": {
      "text/latex": [
       "$\\displaystyle - 6 x^{2} - 6 x + 12$"
      ],
      "text/plain": [
       "-6*x**2 - 6*x + 12"
      ]
     },
     "execution_count": 42,
     "metadata": {},
     "output_type": "execute_result"
    }
   ],
   "source": [
    "x = sp.Symbol('x')\n",
    "f = -2 * x**3 - 3 * x**2 + 12 * x - 4\n",
    "diff_1 = diff(f, x)\n",
    "diff_1"
   ]
  },
  {
   "cell_type": "code",
   "execution_count": 43,
   "id": "420541e4",
   "metadata": {},
   "outputs": [
    {
     "data": {
      "text/latex": [
       "$\\displaystyle \\left\\{-2, 1\\right\\}$"
      ],
      "text/plain": [
       "{-2, 1}"
      ]
     },
     "execution_count": 43,
     "metadata": {},
     "output_type": "execute_result"
    }
   ],
   "source": [
    "sp.solveset(sp.Eq(diff_1, 0), x)"
   ]
  },
  {
   "cell_type": "code",
   "execution_count": 44,
   "id": "7b17f669",
   "metadata": {},
   "outputs": [
    {
     "data": {
      "text/latex": [
       "$\\displaystyle -24$"
      ],
      "text/plain": [
       "-24"
      ]
     },
     "execution_count": 44,
     "metadata": {},
     "output_type": "execute_result"
    }
   ],
   "source": [
    "diff_1.subs(x, -3)"
   ]
  },
  {
   "cell_type": "code",
   "execution_count": 45,
   "id": "ec486c60",
   "metadata": {},
   "outputs": [
    {
     "data": {
      "text/latex": [
       "$\\displaystyle 12$"
      ],
      "text/plain": [
       "12"
      ]
     },
     "execution_count": 45,
     "metadata": {},
     "output_type": "execute_result"
    }
   ],
   "source": [
    "diff_1.subs(x,0)"
   ]
  },
  {
   "attachments": {},
   "cell_type": "markdown",
   "id": "b0dfcba7",
   "metadata": {},
   "source": [
    "---"
   ]
  },
  {
   "cell_type": "code",
   "execution_count": 46,
   "id": "a38b526c",
   "metadata": {},
   "outputs": [
    {
     "data": {
      "text/latex": [
       "$\\displaystyle 15 y^{2}$"
      ],
      "text/plain": [
       "15*y**2"
      ]
     },
     "execution_count": 46,
     "metadata": {},
     "output_type": "execute_result"
    }
   ],
   "source": [
    "x, y = sp.symbols('x y')\n",
    "f = sp.E**x + 5*(y**3)*x\n",
    "diff_2_x = f.diff(x,2)\n",
    "diff_2_y = f.diff(y,2)\n",
    "diff_2_x_y = f.diff(x).diff(y)\n",
    "diff_2_x_y\n"
   ]
  },
  {
   "attachments": {},
   "cell_type": "markdown",
   "id": "c4d9a376",
   "metadata": {},
   "source": [
    "---"
   ]
  },
  {
   "cell_type": "code",
   "execution_count": 47,
   "id": "16844d81",
   "metadata": {},
   "outputs": [
    {
     "name": "stdout",
     "output_type": "stream",
     "text": [
      "{x: 2, y: -3}\n",
      "Matrix([[8, -6], [-6, 10]])\n"
     ]
    }
   ],
   "source": [
    "x, y = sp.symbols(\"x, y\")\n",
    "f = 4*(x**2) - 6*x*y - 34*x + 5*(y**2) + 42*y + 7\n",
    "diff_1_x = sp.Eq(f.diff(x), 0)\n",
    "diff_1_y = sp.Eq(f.diff(y), 0)\n",
    "stationary_point = sp.solve([diff_1_x, diff_1_y], [x, y])\n",
    "diff_2_x = f.diff(x, 2)\n",
    "diff_2_y = f.diff(y, 2)\n",
    "diff_2_x_y = f.diff(x).diff(y)\n",
    "Gesse_matrix =  sp.Matrix([[diff_2_x, diff_2_x_y], [diff_2_x_y, diff_2_y]])\n",
    "\n",
    "print(stationary_point)\n",
    "print(Gesse_matrix)"
   ]
  },
  {
   "attachments": {},
   "cell_type": "markdown",
   "id": "a0762aae",
   "metadata": {},
   "source": [
    "----"
   ]
  },
  {
   "cell_type": "code",
   "execution_count": 48,
   "id": "71747a8e",
   "metadata": {},
   "outputs": [
    {
     "name": "stdout",
     "output_type": "stream",
     "text": [
      "Matrix([[6*x, -2], [-2, -30*y**4]])\n",
      "-2884\n"
     ]
    }
   ],
   "source": [
    "x, y = sp.symbols(\"x, y\")\n",
    "f = x**3 - 2*x*y - y**6\n",
    "diff_2_x = f.diff(x, 2)\n",
    "diff_2_y = f.diff(y, 2)\n",
    "diff_2_x_y = f.diff(x).diff(y)\n",
    "Gesse_matrix = sp.Matrix([[diff_2_x, diff_2_x_y], [diff_2_x_y, diff_2_y]])\n",
    "solve = Gesse_matrix.det()\n",
    "\n",
    "print(Gesse_matrix)\n",
    "print(solve.subs({x: 1, y: 2}))\n"
   ]
  },
  {
   "attachments": {},
   "cell_type": "markdown",
   "id": "be6195a8",
   "metadata": {},
   "source": [
    "---"
   ]
  },
  {
   "cell_type": "code",
   "execution_count": 49,
   "id": "2578109e",
   "metadata": {},
   "outputs": [
    {
     "data": {
      "text/plain": [
       "[(0, 0),\n",
       " (1, 1),\n",
       " ((-1/2 - sqrt(3)*I/2)**2, -1/2 - sqrt(3)*I/2),\n",
       " ((-1/2 + sqrt(3)*I/2)**2, -1/2 + sqrt(3)*I/2)]"
      ]
     },
     "execution_count": 49,
     "metadata": {},
     "output_type": "execute_result"
    }
   ],
   "source": [
    "x, y = sp.symbols(\"x, y\")\n",
    "f = x**3 + y**3 - 3*x*y\n",
    "diff_1_x = sp.Eq(f.diff(x), 0)\n",
    "diff_1_y = sp.Eq(f.diff(y), 0)\n",
    "stationary_point = sp.solve([diff_1_x, diff_1_y], [x, y])\n",
    "stationary_point"
   ]
  },
  {
   "cell_type": "code",
   "execution_count": 50,
   "id": "6f24fb33",
   "metadata": {},
   "outputs": [
    {
     "data": {
      "text/latex": [
       "$\\displaystyle \\left[\\begin{matrix}6 x & -2\\\\-2 & - 30 y^{4}\\end{matrix}\\right]$"
      ],
      "text/plain": [
       "Matrix([\n",
       "[6*x,       -2],\n",
       "[ -2, -30*y**4]])"
      ]
     },
     "execution_count": 50,
     "metadata": {},
     "output_type": "execute_result"
    }
   ],
   "source": [
    "diff_2_x = f.diff(x, 2)\n",
    "diff_2_y = f.diff(y, 2)\n",
    "diff_2_x_y = f.diff(x).diff(y)\n",
    "Gese_matrix = sp.Matrix([[diff_2_x, diff_2_x_y],[diff_2_x_y, diff_2_y]])\n",
    "Gesse_matrix"
   ]
  },
  {
   "cell_type": "code",
   "execution_count": 51,
   "id": "81a3c8db",
   "metadata": {},
   "outputs": [
    {
     "data": {
      "text/plain": [
       "[]"
      ]
     },
     "execution_count": 51,
     "metadata": {},
     "output_type": "execute_result"
    }
   ],
   "source": [
    "x, y = sp.symbols('x, y')\n",
    "f = 3*(x**3) + 12*x*(y**2) + 13*(x**2)*y +14\n",
    "diff_1_x = sp.Eq(f.diff(x), 0)\n",
    "diff_1_y = sp.Eq(f.diff(y), 0 )\n",
    "stationary_point = sp.solve([diff_1, diff_2], [x, y])\n",
    "stationary_point"
   ]
  },
  {
   "attachments": {},
   "cell_type": "markdown",
   "id": "b408906b",
   "metadata": {},
   "source": [
    "---"
   ]
  },
  {
   "cell_type": "code",
   "execution_count": 52,
   "id": "b364b852",
   "metadata": {},
   "outputs": [
    {
     "data": {
      "text/latex": [
       "$\\displaystyle 2.0$"
      ],
      "text/plain": [
       "2.00000000000000"
      ]
     },
     "execution_count": 52,
     "metadata": {},
     "output_type": "execute_result"
    }
   ],
   "source": [
    "x, y, l = sp.symbols('x, y, l')\n",
    "\n",
    "f = ((x-2)**2 + (y-1)**2)**0.5\n",
    "g = x + y - 1\n",
    "\n",
    "L = f + l*g\n",
    "L_diff_x_1 = L.diff(x)\n",
    "L_diff_y_1 = L.diff(y)\n",
    "L_diff_l_1 = L.diff(l)\n",
    "\n",
    "solve = sp.solve([L_diff_x_1, L_diff_y_1, L_diff_l_1], [x, y, l])\n",
    "f.subs([(x, 1), (y, 0)])**2"
   ]
  },
  {
   "attachments": {},
   "cell_type": "markdown",
   "id": "33bbde62",
   "metadata": {},
   "source": [
    "---"
   ]
  },
  {
   "cell_type": "code",
   "execution_count": 53,
   "id": "2e6311c4",
   "metadata": {},
   "outputs": [
    {
     "data": {
      "image/png": "[encoded data removed]",
      "text/latex": [
       "$\\displaystyle 6$"
      ],
      "text/plain": [
       "6"
      ]
     },
     "execution_count": 53,
     "metadata": {},
     "output_type": "execute_result"
    }
   ],
   "source": [
    "sp.init_printing()\n",
    "x, y, z, w = sp.symbols('x, y, z, w')\n",
    "\n",
    "f = 2*(x*y + y*z+ x*z)\n",
    "q = x*y*z - 1\n",
    "\n",
    "L = f + w*q\n",
    "\n",
    "L_x = L.diff(x)\n",
    "L_y = L.diff(y)\n",
    "L_z = L.diff(z)\n",
    "L_w = L.diff(w)\n",
    "\n",
    "solve_eq = sp.solve([L_x, L_y, L_z, L_w], [x, y, z, w])[0]\n",
    "\n",
    "f.subs([(x, solve_eq[0]),(y, solve_eq[1]),(z, solve_eq[2])])"
   ]
  },
  {
   "cell_type": "code",
   "execution_count": 54,
   "id": "af0ffb67",
   "metadata": {},
   "outputs": [
    {
     "name": "stdout",
     "output_type": "stream",
     "text": [
      "[(6, 4, 0, 6, 2)]\n"
     ]
    }
   ],
   "source": [
    "# Импортируем все необходимые функции из библиотеки SymPy\n",
    "from sympy import init_printing, solve, symbols\n",
    "\n",
    "# Подключаем аккуратный вывод формул\n",
    "init_printing()\n",
    "\n",
    "# Создаём переменные\n",
    "x1, x2, x1_tilde, lambda1, lambda2 = symbols(\n",
    "    \"x_1 x_2 xtilde_2 \\lambda_1 \\lambda_2\", real=True\n",
    ")\n",
    "\n",
    "# Пишем систему уравнений для переменных\n",
    "dLdx1 = -x2 + lambda1 - lambda2\n",
    "dLdx2 = -x1 + lambda1\n",
    "dLdx1_tilde = 2 * lambda2 * x1_tilde\n",
    "dLdlambda1 = x1 + x2 - 10\n",
    "dLdlambda2 = -x1 + 6 + x1_tilde**2\n",
    "\n",
    "# Решаем систему уравнений с помощью функции solve\n",
    "solution = solve(\n",
    "    [dLdx1, dLdx2, dLdx1_tilde, dLdlambda1, dLdlambda2],\n",
    "    x1,\n",
    "    x2,\n",
    "    x1_tilde,\n",
    "    lambda1,\n",
    "    lambda2,\n",
    ")\n",
    "\n",
    "print(solution)"
   ]
  },
  {
   "attachments": {},
   "cell_type": "markdown",
   "id": "33e330b9",
   "metadata": {},
   "source": [
    "----"
   ]
  },
  {
   "cell_type": "code",
   "execution_count": 55,
   "id": "df1c36ca",
   "metadata": {},
   "outputs": [
    {
     "data": {
      "image/png": "[encoded data removed]",
      "text/latex": [
       "$\\displaystyle 4 a + 8 b - 20$"
      ],
      "text/plain": [
       "4⋅a + 8⋅b - 20"
      ]
     },
     "execution_count": 55,
     "metadata": {},
     "output_type": "execute_result"
    }
   ],
   "source": [
    "a, b = sp.symbols('a, b')\n",
    "\n",
    "f = (5 - a - 2*b)**2\n",
    "f_a = f.diff(a)\n",
    "f_b = f.diff(b)\n",
    "\n",
    "f_b"
   ]
  },
  {
   "attachments": {},
   "cell_type": "markdown",
   "id": "b36d08e6",
   "metadata": {},
   "source": [
    "----"
   ]
  },
  {
   "cell_type": "code",
   "execution_count": 56,
   "id": "d1885e75",
   "metadata": {},
   "outputs": [
    {
     "name": "stdout",
     "output_type": "stream",
     "text": [
      "6.0*x + 18.0*y - 18.2\n",
      "18.0*x + 70.0*y - 62.6\n"
     ]
    }
   ],
   "source": [
    "x, y = sp.symbols('x, y')\n",
    "f = (2.1 - x - y)**2 + (2.9 - x - 3*y)**2 + (4.1 - x - 5*y)**2\n",
    "\n",
    "diff_x = f.diff(x)\n",
    "diff_y = f.diff(y)\n",
    "print(f'{diff_x}\\n{diff_y}')"
   ]
  },
  {
   "cell_type": "code",
   "execution_count": 57,
   "id": "ba2361a3",
   "metadata": {},
   "outputs": [
    {
     "data": {
      "image/png": "[encoded data removed]",
      "text/latex": [
       "$\\displaystyle \\left\\{\\left( 1.53333333333333, \\  0.5\\right)\\right\\}$"
      ],
      "text/plain": [
       "{(1.53333333333333, 0.5)}"
      ]
     },
     "execution_count": 57,
     "metadata": {},
     "output_type": "execute_result"
    }
   ],
   "source": [
    "sp.linsolve([diff_x, diff_y], [x, y])"
   ]
  },
  {
   "attachments": {},
   "cell_type": "markdown",
   "id": "921f571f",
   "metadata": {},
   "source": [
    "---"
   ]
  },
  {
   "cell_type": "code",
   "execution_count": 58,
   "id": "8c93bf7b",
   "metadata": {},
   "outputs": [
    {
     "data": {
      "image/png": "[encoded data removed]",
      "text/latex": [
       "$\\displaystyle 1.42857142857143$"
      ],
      "text/plain": [
       "1.4285714285714286"
      ]
     },
     "execution_count": 58,
     "metadata": {},
     "output_type": "execute_result"
    }
   ],
   "source": [
    "f = np.array([8, 2, 8, 3, 5, 6, 5, 15])\n",
    "np.gradient(f, 7)[7]"
   ]
  },
  {
   "attachments": {},
   "cell_type": "markdown",
   "id": "e4b7d737",
   "metadata": {},
   "source": [
    "---"
   ]
  },
  {
   "cell_type": "code",
   "execution_count": 60,
   "id": "a80a9c05",
   "metadata": {},
   "outputs": [
    {
     "name": "stdout",
     "output_type": "stream",
     "text": [
      "4*x - 4*z + 4\n",
      "8*y - 8*z + 8\n",
      "-4*x - 8*y + 18*z - 20\n"
     ]
    }
   ],
   "source": [
    "x, y, z = sp.symbols('x y z')\n",
    "f = 2*(x**2) - 4*x*z + 4*(y**2) - 8*y*z +9*(z**2) +4*x +8*y - 20*z\n",
    "\n",
    "diff_x = f.diff(x)\n",
    "diff_y = f.diff(y)\n",
    "diff_z = f.diff(z)\n",
    "\n",
    "print(f'{diff_x}\\n{diff_y}\\n{diff_z}')"
   ]
  },
  {
   "cell_type": "code",
   "execution_count": null,
   "id": "2a1e57b8",
   "metadata": {},
   "outputs": [],
   "source": []
  }
 ],
 "metadata": {
  "kernelspec": {
   "display_name": "Python 3 (ipykernel)",
   "language": "python",
   "name": "python3"
  },
  "language_info": {
   "codemirror_mode": {
    "name": "ipython",
    "version": 3
   },
   "file_extension": ".py",
   "mimetype": "text/x-python",
   "name": "python",
   "nbconvert_exporter": "python",
   "pygments_lexer": "ipython3",
   "version": "3.11.0"
  }
 },
 "nbformat": 4,
 "nbformat_minor": 5
}
