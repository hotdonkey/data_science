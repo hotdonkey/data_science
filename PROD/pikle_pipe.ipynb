{
 "cells": [
  {
   "cell_type": "code",
   "execution_count": 1,
   "metadata": {},
   "outputs": [],
   "source": [
    "import numpy as np\n",
    "import pandas as pd\n",
    "import pickle"
   ]
  },
  {
   "cell_type": "code",
   "execution_count": 5,
   "metadata": {},
   "outputs": [
    {
     "name": "stdout",
     "output_type": "stream",
     "text": [
      "secret word: skillfactory\n",
      "how is this possible? answer is here: https://youtu.be/xm-A-h9QkXg\n",
      "<class 'sklearn.linear_model._base.LinearRegression'>\n"
     ]
    },
    {
     "name": "stderr",
     "output_type": "stream",
     "text": [
      "/Users/kirillkuznecov/anaconda3/envs/ds_tensorflow/lib/python3.11/site-packages/sklearn/base.py:347: InconsistentVersionWarning: Trying to unpickle estimator LinearRegression from version 1.0.2 when using version 1.3.0. This might lead to breaking code or invalid results. Use at your own risk. For more info please refer to:\n",
      "https://scikit-learn.org/stable/model_persistence.html#security-maintainability-limitations\n",
      "  warnings.warn(\n"
     ]
    }
   ],
   "source": [
    "# Задание 3.1\n",
    "# При загрузке вывелся секретный код. Введите его в поле ниже.\n",
    "with open(\"./data/model.pkl\", \"rb\") as f:\n",
    "    model = pickle.load(f)\n"
   ]
  },
  {
   "cell_type": "code",
   "execution_count": 6,
   "metadata": {},
   "outputs": [
    {
     "data": {
      "text/plain": [
       "sklearn.linear_model._base.LinearRegression"
      ]
     },
     "execution_count": 6,
     "metadata": {},
     "output_type": "execute_result"
    }
   ],
   "source": [
    "# Задание 3.2\n",
    "# Проверьте, объект какого типа получился. Какую модель вам прислал коллега?\n",
    "\n",
    "type(model)"
   ]
  },
  {
   "cell_type": "code",
   "execution_count": 13,
   "metadata": {},
   "outputs": [
    {
     "name": "stdout",
     "output_type": "stream",
     "text": [
      "[0.666]\n"
     ]
    }
   ],
   "source": [
    "# Задание 3.3\n",
    "# Теперь необходимо применить модель. Сделайте предсказание для следующего набора фичей: [1, 1, 1, 0.661212487096872]. Введите\n",
    "# результат, предварительно округлив его до трёх знаков после точки-разделителя.\n",
    "\n",
    "new_data = np.array([1, 1, 1, 0.661212487096872])\n",
    "new_data = new_data.reshape(1, -1)\n",
    "prediction = model.predict(new_data)\n",
    "print(prediction.round(3))"
   ]
  },
  {
   "cell_type": "markdown",
   "metadata": {},
   "source": [
    "У присланной вам модели есть два поля (атрибута) с именами а и b. Создайте из них словарь с такими же именами ключей и значениями,\n",
    "\n",
    "а затем сохраните его в файл с помощью модуля pickle.\n",
    "\n",
    "Чтобы вы могли проверить правильность решения задания, мы создали специальный проверочный скрипт. Скачайте его здесь.\n",
    "\n",
    "Сохраните его рядом с вашим ріске-файлом (в той же папке) и запустите, передав первым аргументом имя файла. Если вы всё сделали\n",
    "\n",
    "правильно, на экран выведется ответ для следующего задания.\n",
    "\n",
    "КАК ЗАПУСТИТЬ СКРИПТ?\n",
    "\n",
    "В ячейке Jupyter Notebook:\n",
    "\n",
    "!python hw1_check_ol.ру имя_pickle_файла.kl\n",
    "\n",
    "В терминале:\n",
    "\n",
    "cd имя_папки_со_скриптом\n",
    "\n",
    "python hw1_check_ol. имя_pickle_файла.pl"
   ]
  },
  {
   "cell_type": "code",
   "execution_count": 31,
   "metadata": {},
   "outputs": [],
   "source": [
    "# Задание 3.4\n",
    "# Если вы всё сделали правильно, в результате выполнения проверочного скрипта будет выведен секретный код.\n",
    "# Впишите полученный код в окно ниже:\n",
    "# После решения задания проверочный скрипт можно удалить - больше он вам не понадобится.\n",
    "\n",
    "answer_dict = {'a': model.a, 'b': model.b}\n",
    "with open(\"./data/answer.pkl\", \"wb\") as output:\n",
    "    pickle.dump(answer_dict, output)"
   ]
  },
  {
   "cell_type": "code",
   "execution_count": null,
   "metadata": {},
   "outputs": [],
   "source": []
  }
 ],
 "metadata": {
  "kernelspec": {
   "display_name": "ds_tensorflow",
   "language": "python",
   "name": "python3"
  },
  "language_info": {
   "codemirror_mode": {
    "name": "ipython",
    "version": 3
   },
   "file_extension": ".py",
   "mimetype": "text/x-python",
   "name": "python",
   "nbconvert_exporter": "python",
   "pygments_lexer": "ipython3",
   "version": "3.11.4"
  },
  "orig_nbformat": 4
 },
 "nbformat": 4,
 "nbformat_minor": 2
}
