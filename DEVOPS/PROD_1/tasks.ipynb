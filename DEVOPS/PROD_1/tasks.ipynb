{
 "cells": [
  {
   "cell_type": "code",
   "execution_count": 1,
   "metadata": {},
   "outputs": [],
   "source": [
    "import requests"
   ]
  },
  {
   "cell_type": "code",
   "execution_count": 4,
   "metadata": {},
   "outputs": [],
   "source": [
    "url = \"http://api.open-notify.org/astros.json\""
   ]
  },
  {
   "cell_type": "markdown",
   "metadata": {},
   "source": [
    "Задание 3.1\n",
    "\n",
    "Какой статус запроса возвращается при выполнении GET-запроса к странице \"http://api.open-notify.org/astros.json\"?"
   ]
  },
  {
   "cell_type": "code",
   "execution_count": 7,
   "metadata": {},
   "outputs": [
    {
     "data": {
      "text/plain": [
       "<Response [200]>"
      ]
     },
     "execution_count": 7,
     "metadata": {},
     "output_type": "execute_result"
    }
   ],
   "source": [
    "response = requests.get(url)\n",
    "response"
   ]
  },
  {
   "cell_type": "markdown",
   "metadata": {},
   "source": [
    "Задание 3.2\n",
    "\n",
    "Вызовите у предыдущего запроса .json для получения ответа. Сколько уникальных имён (names) содержится в ответе?"
   ]
  },
  {
   "cell_type": "code",
   "execution_count": 12,
   "metadata": {},
   "outputs": [
    {
     "data": {
      "text/plain": [
       "7"
      ]
     },
     "execution_count": 12,
     "metadata": {},
     "output_type": "execute_result"
    }
   ],
   "source": [
    "data = response.json()\n",
    "len(data[\"people\"])"
   ]
  },
  {
   "cell_type": "markdown",
   "metadata": {},
   "source": [
    "Задание 3.3\n",
    "\n",
    "Получите ответ в формате JSON GET-запроса к странице \"http://api.open-notify.org/astros.json\". Какого ключа нет в ответе?"
   ]
  },
  {
   "cell_type": "code",
   "execution_count": 13,
   "metadata": {},
   "outputs": [
    {
     "data": {
      "text/plain": [
       "{'message': 'success',\n",
       " 'people': [{'name': 'Jasmin Moghbeli', 'craft': 'ISS'},\n",
       "  {'name': 'Andreas Mogensen', 'craft': 'ISS'},\n",
       "  {'name': 'Satoshi Furukawa', 'craft': 'ISS'},\n",
       "  {'name': 'Konstantin Borisov', 'craft': 'ISS'},\n",
       "  {'name': 'Oleg Kononenko', 'craft': 'ISS'},\n",
       "  {'name': 'Nikolai Chub', 'craft': 'ISS'},\n",
       "  {'name': \"Loral O'Hara\", 'craft': 'ISS'}],\n",
       " 'number': 7}"
      ]
     },
     "execution_count": 13,
     "metadata": {},
     "output_type": "execute_result"
    }
   ],
   "source": [
    "data"
   ]
  },
  {
   "cell_type": "markdown",
   "metadata": {},
   "source": [
    "Задание 3.4\n",
    "\n",
    "Какой ответ возвращает POST-запрос без параметров к странице \"https://domain.ru/rest/1/854984lkjdsijd432/crm.deal.list\"?\n",
    "\n",
    "\n"
   ]
  },
  {
   "cell_type": "code",
   "execution_count": 14,
   "metadata": {},
   "outputs": [
    {
     "data": {
      "text/plain": [
       "<Response [404]>"
      ]
     },
     "execution_count": 14,
     "metadata": {},
     "output_type": "execute_result"
    }
   ],
   "source": [
    "requests.post(\"https://domain.ru/rest/1/854984lkjdsijd432/crm.deal.list\")"
   ]
  },
  {
   "cell_type": "markdown",
   "metadata": {},
   "source": [
    "Задание 3.5\n",
    "\n",
    "Отправим данные:\n",
    "\n",
    "data = \"\"\"{'test': 'cheers'}\"\"\"\n",
    "…в POST-запросе на страницу \"http://httpbin.org/post\" .\n",
    "\n",
    "Какой ключ НЕ будет присутствовать в ответе сервера?"
   ]
  },
  {
   "cell_type": "code",
   "execution_count": 18,
   "metadata": {},
   "outputs": [
    {
     "data": {
      "text/plain": [
       "{'args': {},\n",
       " 'data': \"{'test': 'cheers'}\",\n",
       " 'files': {},\n",
       " 'form': {},\n",
       " 'headers': {'Accept': '*/*',\n",
       "  'Accept-Encoding': 'gzip, deflate',\n",
       "  'Content-Length': '18',\n",
       "  'Host': 'httpbin.org',\n",
       "  'User-Agent': 'python-requests/2.31.0',\n",
       "  'X-Amzn-Trace-Id': 'Root=1-65e83ff1-0649f2756d741b97003db80d'},\n",
       " 'json': None,\n",
       " 'origin': '128.204.69.27',\n",
       " 'url': 'http://httpbin.org/post'}"
      ]
     },
     "execution_count": 18,
     "metadata": {},
     "output_type": "execute_result"
    }
   ],
   "source": [
    "data = \"\"\"{'test': 'cheers'}\"\"\"\n",
    "url = \"http://httpbin.org/post\"\n",
    "check = requests.post(url, data)\n",
    "check.json()"
   ]
  },
  {
   "cell_type": "markdown",
   "metadata": {},
   "source": [
    "Задание 3.6\n",
    "\n",
    "Отправьте PUT-запрос на 'https://httpbin.org/put' с параметром data = {'name':'skillFactory student'}. Вызовите .json() у response (объекта результата запроса). Какое значение у атрибута 'Content-Length'?"
   ]
  },
  {
   "cell_type": "code",
   "execution_count": 19,
   "metadata": {},
   "outputs": [
    {
     "data": {
      "text/plain": [
       "{'args': {},\n",
       " 'data': '',\n",
       " 'files': {},\n",
       " 'form': {'name': 'skillFactory student'},\n",
       " 'headers': {'Accept': '*/*',\n",
       "  'Accept-Encoding': 'gzip, deflate',\n",
       "  'Content-Length': '25',\n",
       "  'Content-Type': 'application/x-www-form-urlencoded',\n",
       "  'Host': 'httpbin.org',\n",
       "  'User-Agent': 'python-requests/2.31.0',\n",
       "  'X-Amzn-Trace-Id': 'Root=1-65e84053-2ec593c52cffcc836fca2a26'},\n",
       " 'json': None,\n",
       " 'origin': '128.204.69.27',\n",
       " 'url': 'http://httpbin.org/post'}"
      ]
     },
     "execution_count": 19,
     "metadata": {},
     "output_type": "execute_result"
    }
   ],
   "source": [
    "url = \"http://httpbin.org/post\"\n",
    "data = {'name':'skillFactory student'}\n",
    "check = requests.post(url, data)\n",
    "check.json()"
   ]
  },
  {
   "cell_type": "markdown",
   "metadata": {},
   "source": [
    "Задание 3.7\n",
    "\n",
    "Удалите добавленные данные с помощью запроса DELETE к ресурсу 'https://httpbin.org/delete'. В качестве параметров передайте ключ и значение для удаления (в виде data={'name':'skillFactory student'}). Напишите и отправьте запрос, проверьте код ответа и выберите правильный вариант из списка."
   ]
  },
  {
   "cell_type": "code",
   "execution_count": 21,
   "metadata": {},
   "outputs": [
    {
     "data": {
      "text/plain": [
       "{'args': {},\n",
       " 'data': '',\n",
       " 'files': {},\n",
       " 'form': {'name': 'skillFactory student'},\n",
       " 'headers': {'Accept': '*/*',\n",
       "  'Accept-Encoding': 'gzip, deflate',\n",
       "  'Content-Length': '25',\n",
       "  'Content-Type': 'application/x-www-form-urlencoded',\n",
       "  'Host': 'httpbin.org',\n",
       "  'User-Agent': 'python-requests/2.31.0',\n",
       "  'X-Amzn-Trace-Id': 'Root=1-65e840cf-5070ec744209f65250fa94d4'},\n",
       " 'json': None,\n",
       " 'origin': '128.204.69.27',\n",
       " 'url': 'http://httpbin.org/delete'}"
      ]
     },
     "execution_count": 21,
     "metadata": {},
     "output_type": "execute_result"
    }
   ],
   "source": [
    "url = \"http://httpbin.org/delete\"\n",
    "data={'name':'skillFactory student'}\n",
    "check = requests.delete(url, data=data)\n",
    "check.json()"
   ]
  },
  {
   "cell_type": "code",
   "execution_count": null,
   "metadata": {},
   "outputs": [],
   "source": []
  }
 ],
 "metadata": {
  "kernelspec": {
   "display_name": "Python 3",
   "language": "python",
   "name": "python3"
  },
  "language_info": {
   "codemirror_mode": {
    "name": "ipython",
    "version": 3
   },
   "file_extension": ".py",
   "mimetype": "text/x-python",
   "name": "python",
   "nbconvert_exporter": "python",
   "pygments_lexer": "ipython3",
   "version": "3.11.7"
  }
 },
 "nbformat": 4,
 "nbformat_minor": 2
}
