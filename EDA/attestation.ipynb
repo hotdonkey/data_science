{
 "cells": [
  {
   "cell_type": "code",
   "execution_count": 17,
   "metadata": {},
   "outputs": [],
   "source": [
    "import pandas as pd\n",
    "import matplotlib.pyplot as plt\n",
    "import seaborn as sns\n",
    "import scipy.stats as stats\n",
    "from scipy.stats import norm\n",
    "from scipy.stats import t\n",
    "from scipy.stats import ttest_ind, shapiro, f_oneway, mannwhitneyu\n",
    "from statsmodels.stats.proportion import proportions_ztest"
   ]
  },
  {
   "cell_type": "code",
   "execution_count": 3,
   "metadata": {},
   "outputs": [],
   "source": [
    "#Сразу накидаем функции\n",
    "def confidence_interval_sigma(n, x_mean, sigma, gamma=0.95):\n",
    "    \"\"\"Function to evaluate confidence interval with known true standard deviation\n",
    "\n",
    "    Args:\n",
    "        n (int): sample size\n",
    "        x_mean (int): sample mean\n",
    "        sigma (int): true standard deviation\n",
    "        gamma (float): reliability level 0-1\n",
    "\n",
    "    Returns:\n",
    "        float: lower_bound, upper_bound\n",
    "    \"\"\"\n",
    "    alpha = 1 - gamma  # уровень значимости\n",
    "\n",
    "    z_crit = round(-norm.ppf(alpha/2), 2)  # z критическое\n",
    "\n",
    "    eps = z_crit * sigma/(n ** 0.5)  # погрешность\n",
    "    lower_bound = round(x_mean - eps, 2)  # левая (нижняя) граница\n",
    "    upper_bound = round(x_mean + eps, 2)  # правая (верхняя) граница\n",
    "    # создаём кортеж из округлённых границ интервала\n",
    "    confidence_interval = (lower_bound, upper_bound)\n",
    "    # выводим результат\n",
    "    print(\n",
    "        f'Доверительный интервал: {lower_bound, upper_bound}, z-крит: {z_crit}')\n",
    "    return lower_bound, upper_bound, z_crit\n",
    "\n",
    "def confidence_interval(n, x_mean, x_std, gamma=0.95):\n",
    "    \"\"\"_summary_\n",
    "\n",
    "    Args:\n",
    "        n (int): sample size\n",
    "        x_mean (int): sample mean\n",
    "        x_std (int, float): sample standard deviation\n",
    "        gamma (float): reliability level 0-1\n",
    "    \"\"\"\n",
    "    k = n - 1  # число степеней свободы\n",
    "    alpha = 1 - gamma  # уровень значимости\n",
    "\n",
    "    t_crit = -t.ppf(alpha/2, k)  # t-критическое\n",
    "\n",
    "    eps = t_crit * x_std/(n ** 0.5)  # погрешность\n",
    "    lower_bound = round(x_mean - eps, 2)  # левая (нижняя) граница\n",
    "    upper_bound = round(x_mean + eps, 2)  # правая (верхняя) граница\n",
    "    # создаём кортеж из округлённых границ интервала\n",
    "    confidence_interval = (lower_bound, upper_bound)\n",
    "    #print(\n",
    "    #    f'Доверительный интервал: {lower_bound, upper_bound}, t-крит: {t_crit}')\n",
    "    return lower_bound, upper_bound, t_crit\n",
    "\n",
    "def proportions_conf_interval(n, x_p, gamma=0.95):\n",
    "    \"\"\"Function to evaluate confidence interval for proportion and\n",
    "    true standard deviation.\n",
    "\n",
    "    Args:\n",
    "        n (int): sample size\n",
    "        x_p (int): sample proportion (% of success)\n",
    "        gamma (float): reliability level 0-1\n",
    "\n",
    "    Returns:\n",
    "        float: lower_bound, upper_bound, sigma\n",
    "    \"\"\"\n",
    "    alpha = 1 - gamma  # уровень значимости\n",
    "    z_crit = -norm.ppf(alpha/2)  # z критическое\n",
    "    eps = z_crit * (x_p * (1 - x_p) / n) ** 0.5  # погрешность\n",
    "    sigma = round((x_p * (1 - x_p))**0.5, 3) #true standard deviation\n",
    "\n",
    "    lower_bound = round((x_p - eps)*100, 2)  # левая (нижняя) граница\n",
    "    upper_bound = round((x_p + eps)*100, 2)  # правая (верхняя) граница\n",
    "\n",
    "    #print(\n",
    "    #    f'Доверительный интервал: {lower_bound, upper_bound}, z-крит: {z_crit}, sigma: {sigma}')\n",
    "    return lower_bound, upper_bound, sigma\n",
    "\n",
    "def diff_proportions_conf_interval(n, x_p, gamma=0.95):\n",
    "    \"\"\"Function to evaluate confidence interval for delta of proportion.\n",
    "\n",
    "    Args:\n",
    "        n (list): list of samples sizes (for example: n = [a_data['user_id'].count(), b_data['user_id'].count()])\n",
    "        x_p (list): list of samples proportions (for example: xp = [a_data['converted'].mean(), b_data['converted'].mean()])\n",
    "        gamma (float, optional): reliability level 0-1\n",
    "\n",
    "    Returns:\n",
    "        float: lower_bound, upper_bound (%)\n",
    "    \"\"\"\n",
    "\n",
    "    alpha = 1 - gamma  # уровень значимости\n",
    "    diff = x_p[1] - x_p[0]  # выборочная разница конверсий групп B и A\n",
    "    z_crit = -norm.ppf(alpha/2)  # z критическое\n",
    "    eps = z_crit * (x_p[0] * (1 - x_p[0])/n[0] + x_p[1] *\n",
    "                    (1 - x_p[1])/n[1]) ** 0.5  # погрешность\n",
    "\n",
    "    lower_bound = round((diff - eps)*100, 2)  # левая (нижняя) граница\n",
    "    upper_bound = round((diff + eps)*100, 2)  # правая (верхняя) граница\n",
    "    # возвращаем кортеж из округлённых границ интервала\n",
    "    return lower_bound, upper_bound\n"
   ]
  },
  {
   "cell_type": "code",
   "execution_count": 6,
   "metadata": {},
   "outputs": [],
   "source": [
    "data = pd.read_csv('../EDA/data/new-site.csv', sep='\\t')"
   ]
  },
  {
   "cell_type": "code",
   "execution_count": 9,
   "metadata": {},
   "outputs": [
    {
     "data": {
      "text/html": [
       "<div>\n",
       "<style scoped>\n",
       "    .dataframe tbody tr th:only-of-type {\n",
       "        vertical-align: middle;\n",
       "    }\n",
       "\n",
       "    .dataframe tbody tr th {\n",
       "        vertical-align: top;\n",
       "    }\n",
       "\n",
       "    .dataframe thead th {\n",
       "        text-align: right;\n",
       "    }\n",
       "</style>\n",
       "<table border=\"1\" class=\"dataframe\">\n",
       "  <thead>\n",
       "    <tr style=\"text-align: right;\">\n",
       "      <th></th>\n",
       "      <th>site</th>\n",
       "      <th>dwell-time</th>\n",
       "    </tr>\n",
       "  </thead>\n",
       "  <tbody>\n",
       "    <tr>\n",
       "      <th>0</th>\n",
       "      <td>0</td>\n",
       "      <td>2</td>\n",
       "    </tr>\n",
       "    <tr>\n",
       "      <th>1</th>\n",
       "      <td>1</td>\n",
       "      <td>48</td>\n",
       "    </tr>\n",
       "    <tr>\n",
       "      <th>2</th>\n",
       "      <td>0</td>\n",
       "      <td>15</td>\n",
       "    </tr>\n",
       "    <tr>\n",
       "      <th>3</th>\n",
       "      <td>1</td>\n",
       "      <td>16</td>\n",
       "    </tr>\n",
       "    <tr>\n",
       "      <th>4</th>\n",
       "      <td>0</td>\n",
       "      <td>38</td>\n",
       "    </tr>\n",
       "    <tr>\n",
       "      <th>...</th>\n",
       "      <td>...</td>\n",
       "      <td>...</td>\n",
       "    </tr>\n",
       "    <tr>\n",
       "      <th>295</th>\n",
       "      <td>0</td>\n",
       "      <td>22</td>\n",
       "    </tr>\n",
       "    <tr>\n",
       "      <th>296</th>\n",
       "      <td>0</td>\n",
       "      <td>7</td>\n",
       "    </tr>\n",
       "    <tr>\n",
       "      <th>297</th>\n",
       "      <td>1</td>\n",
       "      <td>144</td>\n",
       "    </tr>\n",
       "    <tr>\n",
       "      <th>298</th>\n",
       "      <td>0</td>\n",
       "      <td>89</td>\n",
       "    </tr>\n",
       "    <tr>\n",
       "      <th>299</th>\n",
       "      <td>0</td>\n",
       "      <td>138</td>\n",
       "    </tr>\n",
       "  </tbody>\n",
       "</table>\n",
       "<p>300 rows × 2 columns</p>\n",
       "</div>"
      ],
      "text/plain": [
       "     site  dwell-time\n",
       "0       0           2\n",
       "1       1          48\n",
       "2       0          15\n",
       "3       1          16\n",
       "4       0          38\n",
       "..    ...         ...\n",
       "295     0          22\n",
       "296     0           7\n",
       "297     1         144\n",
       "298     0          89\n",
       "299     0         138\n",
       "\n",
       "[300 rows x 2 columns]"
      ]
     },
     "execution_count": 9,
     "metadata": {},
     "output_type": "execute_result"
    }
   ],
   "source": [
    "data"
   ]
  },
  {
   "attachments": {},
   "cell_type": "markdown",
   "metadata": {},
   "source": [
    "---"
   ]
  },
  {
   "attachments": {},
   "cell_type": "markdown",
   "metadata": {},
   "source": [
    "Задание 34\n",
    "Чему равно суммарное время пребывания на сайте в группах А и В? Ответ вводите без пробелов."
   ]
  },
  {
   "cell_type": "code",
   "execution_count": 11,
   "metadata": {},
   "outputs": [
    {
     "data": {
      "text/plain": [
       "16898"
      ]
     },
     "execution_count": 11,
     "metadata": {},
     "output_type": "execute_result"
    }
   ],
   "source": [
    "# Group A\n",
    "data.query(\"site == 0\")['dwell-time'].sum()"
   ]
  },
  {
   "cell_type": "code",
   "execution_count": 12,
   "metadata": {},
   "outputs": [
    {
     "data": {
      "text/plain": [
       "10032"
      ]
     },
     "execution_count": 12,
     "metadata": {},
     "output_type": "execute_result"
    }
   ],
   "source": [
    "# Group B\n",
    "data.query(\"site == 1\")['dwell-time'].sum()"
   ]
  },
  {
   "attachments": {},
   "cell_type": "markdown",
   "metadata": {},
   "source": [
    "---"
   ]
  },
  {
   "attachments": {},
   "cell_type": "markdown",
   "metadata": {},
   "source": [
    "35 Чему равно среднее время пребывание на сайте в группах? Ответ округлите до целых."
   ]
  },
  {
   "cell_type": "code",
   "execution_count": 15,
   "metadata": {},
   "outputs": [
    {
     "data": {
      "text/plain": [
       "91"
      ]
     },
     "execution_count": 15,
     "metadata": {},
     "output_type": "execute_result"
    }
   ],
   "source": [
    "# Group A\n",
    "round(data.query(\"site == 0\")['dwell-time'].mean())"
   ]
  },
  {
   "cell_type": "code",
   "execution_count": 16,
   "metadata": {},
   "outputs": [
    {
     "data": {
      "text/plain": [
       "88"
      ]
     },
     "execution_count": 16,
     "metadata": {},
     "output_type": "execute_result"
    }
   ],
   "source": [
    "# Group B\n",
    "round(data.query(\"site == 1\")['dwell-time'].mean())"
   ]
  },
  {
   "attachments": {},
   "cell_type": "markdown",
   "metadata": {},
   "source": [
    "---"
   ]
  },
  {
   "cell_type": "code",
   "execution_count": 39,
   "metadata": {},
   "outputs": [
    {
     "data": {
      "text/html": [
       "<div>\n",
       "<style scoped>\n",
       "    .dataframe tbody tr th:only-of-type {\n",
       "        vertical-align: middle;\n",
       "    }\n",
       "\n",
       "    .dataframe tbody tr th {\n",
       "        vertical-align: top;\n",
       "    }\n",
       "\n",
       "    .dataframe thead th {\n",
       "        text-align: right;\n",
       "    }\n",
       "</style>\n",
       "<table border=\"1\" class=\"dataframe\">\n",
       "  <thead>\n",
       "    <tr style=\"text-align: right;\">\n",
       "      <th></th>\n",
       "      <th>index</th>\n",
       "      <th>dwell-time</th>\n",
       "    </tr>\n",
       "  </thead>\n",
       "  <tbody>\n",
       "    <tr>\n",
       "      <th>0</th>\n",
       "      <td>0</td>\n",
       "      <td>2</td>\n",
       "    </tr>\n",
       "    <tr>\n",
       "      <th>1</th>\n",
       "      <td>2</td>\n",
       "      <td>15</td>\n",
       "    </tr>\n",
       "    <tr>\n",
       "      <th>2</th>\n",
       "      <td>4</td>\n",
       "      <td>38</td>\n",
       "    </tr>\n",
       "    <tr>\n",
       "      <th>3</th>\n",
       "      <td>6</td>\n",
       "      <td>571</td>\n",
       "    </tr>\n",
       "    <tr>\n",
       "      <th>4</th>\n",
       "      <td>8</td>\n",
       "      <td>233</td>\n",
       "    </tr>\n",
       "    <tr>\n",
       "      <th>...</th>\n",
       "      <td>...</td>\n",
       "      <td>...</td>\n",
       "    </tr>\n",
       "    <tr>\n",
       "      <th>181</th>\n",
       "      <td>294</td>\n",
       "      <td>39</td>\n",
       "    </tr>\n",
       "    <tr>\n",
       "      <th>182</th>\n",
       "      <td>295</td>\n",
       "      <td>22</td>\n",
       "    </tr>\n",
       "    <tr>\n",
       "      <th>183</th>\n",
       "      <td>296</td>\n",
       "      <td>7</td>\n",
       "    </tr>\n",
       "    <tr>\n",
       "      <th>184</th>\n",
       "      <td>298</td>\n",
       "      <td>89</td>\n",
       "    </tr>\n",
       "    <tr>\n",
       "      <th>185</th>\n",
       "      <td>299</td>\n",
       "      <td>138</td>\n",
       "    </tr>\n",
       "  </tbody>\n",
       "</table>\n",
       "<p>186 rows × 2 columns</p>\n",
       "</div>"
      ],
      "text/plain": [
       "     index  dwell-time\n",
       "0        0           2\n",
       "1        2          15\n",
       "2        4          38\n",
       "3        6         571\n",
       "4        8         233\n",
       "..     ...         ...\n",
       "181    294          39\n",
       "182    295          22\n",
       "183    296           7\n",
       "184    298          89\n",
       "185    299         138\n",
       "\n",
       "[186 rows x 2 columns]"
      ]
     },
     "execution_count": 39,
     "metadata": {},
     "output_type": "execute_result"
    }
   ],
   "source": [
    "group_a = data.query(\"site == 0\")['dwell-time']\n",
    "group_a = group_a.reset_index()\n",
    "group_a"
   ]
  },
  {
   "cell_type": "code",
   "execution_count": 38,
   "metadata": {},
   "outputs": [
    {
     "data": {
      "text/html": [
       "<div>\n",
       "<style scoped>\n",
       "    .dataframe tbody tr th:only-of-type {\n",
       "        vertical-align: middle;\n",
       "    }\n",
       "\n",
       "    .dataframe tbody tr th {\n",
       "        vertical-align: top;\n",
       "    }\n",
       "\n",
       "    .dataframe thead th {\n",
       "        text-align: right;\n",
       "    }\n",
       "</style>\n",
       "<table border=\"1\" class=\"dataframe\">\n",
       "  <thead>\n",
       "    <tr style=\"text-align: right;\">\n",
       "      <th></th>\n",
       "      <th>index</th>\n",
       "      <th>dwell-time</th>\n",
       "    </tr>\n",
       "  </thead>\n",
       "  <tbody>\n",
       "    <tr>\n",
       "      <th>0</th>\n",
       "      <td>1</td>\n",
       "      <td>48</td>\n",
       "    </tr>\n",
       "    <tr>\n",
       "      <th>1</th>\n",
       "      <td>3</td>\n",
       "      <td>16</td>\n",
       "    </tr>\n",
       "    <tr>\n",
       "      <th>2</th>\n",
       "      <td>5</td>\n",
       "      <td>169</td>\n",
       "    </tr>\n",
       "    <tr>\n",
       "      <th>3</th>\n",
       "      <td>7</td>\n",
       "      <td>38</td>\n",
       "    </tr>\n",
       "    <tr>\n",
       "      <th>4</th>\n",
       "      <td>10</td>\n",
       "      <td>336</td>\n",
       "    </tr>\n",
       "    <tr>\n",
       "      <th>...</th>\n",
       "      <td>...</td>\n",
       "      <td>...</td>\n",
       "    </tr>\n",
       "    <tr>\n",
       "      <th>109</th>\n",
       "      <td>281</td>\n",
       "      <td>187</td>\n",
       "    </tr>\n",
       "    <tr>\n",
       "      <th>110</th>\n",
       "      <td>282</td>\n",
       "      <td>11</td>\n",
       "    </tr>\n",
       "    <tr>\n",
       "      <th>111</th>\n",
       "      <td>283</td>\n",
       "      <td>70</td>\n",
       "    </tr>\n",
       "    <tr>\n",
       "      <th>112</th>\n",
       "      <td>291</td>\n",
       "      <td>100</td>\n",
       "    </tr>\n",
       "    <tr>\n",
       "      <th>113</th>\n",
       "      <td>297</td>\n",
       "      <td>144</td>\n",
       "    </tr>\n",
       "  </tbody>\n",
       "</table>\n",
       "<p>114 rows × 2 columns</p>\n",
       "</div>"
      ],
      "text/plain": [
       "     index  dwell-time\n",
       "0        1          48\n",
       "1        3          16\n",
       "2        5         169\n",
       "3        7          38\n",
       "4       10         336\n",
       "..     ...         ...\n",
       "109    281         187\n",
       "110    282          11\n",
       "111    283          70\n",
       "112    291         100\n",
       "113    297         144\n",
       "\n",
       "[114 rows x 2 columns]"
      ]
     },
     "execution_count": 38,
     "metadata": {},
     "output_type": "execute_result"
    }
   ],
   "source": [
    "group_b = data.query(\"site == 1\")['dwell-time']\n",
    "group_b = group_b.reset_index()\n",
    "group_b"
   ]
  },
  {
   "cell_type": "code",
   "execution_count": 37,
   "metadata": {},
   "outputs": [
    {
     "data": {
      "text/plain": [
       "WilcoxonResult(statistic=array([3.0000e+00, 3.0695e+03]), pvalue=array([2.04823522e-20, 6.65305108e-01]))"
      ]
     },
     "execution_count": 37,
     "metadata": {},
     "output_type": "execute_result"
    }
   ],
   "source": [
    "# Не верно\n",
    "stats.wilcoxon(group_a, group_b)"
   ]
  },
  {
   "attachments": {},
   "cell_type": "markdown",
   "metadata": {},
   "source": [
    "---"
   ]
  },
  {
   "attachments": {},
   "cell_type": "markdown",
   "metadata": {},
   "source": [
    "Каковы результаты статистического теста на нормальность при уровне значимости alpha = 0.05"
   ]
  },
  {
   "cell_type": "code",
   "execution_count": 42,
   "metadata": {},
   "outputs": [],
   "source": [
    "alpha = 0.05"
   ]
  },
  {
   "cell_type": "code",
   "execution_count": 44,
   "metadata": {},
   "outputs": [
    {
     "data": {
      "text/plain": [
       "True"
      ]
     },
     "execution_count": 44,
     "metadata": {},
     "output_type": "execute_result"
    }
   ],
   "source": [
    "_, p = shapiro(group_a)\n",
    "p < alpha"
   ]
  },
  {
   "cell_type": "code",
   "execution_count": 45,
   "metadata": {},
   "outputs": [
    {
     "data": {
      "text/plain": [
       "True"
      ]
     },
     "execution_count": 45,
     "metadata": {},
     "output_type": "execute_result"
    }
   ],
   "source": [
    "_, p = shapiro(group_b)\n",
    "p < alpha"
   ]
  },
  {
   "attachments": {},
   "cell_type": "markdown",
   "metadata": {},
   "source": [
    "В обеих группах данные не распределены нормально"
   ]
  },
  {
   "cell_type": "code",
   "execution_count": null,
   "metadata": {},
   "outputs": [],
   "source": []
  }
 ],
 "metadata": {
  "kernelspec": {
   "display_name": "ds",
   "language": "python",
   "name": "python3"
  },
  "language_info": {
   "codemirror_mode": {
    "name": "ipython",
    "version": 3
   },
   "file_extension": ".py",
   "mimetype": "text/x-python",
   "name": "python",
   "nbconvert_exporter": "python",
   "pygments_lexer": "ipython3",
   "version": "3.11.0"
  },
  "orig_nbformat": 4,
  "vscode": {
   "interpreter": {
    "hash": "d40a6ae76423cf5fae73028028fb017d8630dd167584993d74bc99181da5a036"
   }
  }
 },
 "nbformat": 4,
 "nbformat_minor": 2
}
