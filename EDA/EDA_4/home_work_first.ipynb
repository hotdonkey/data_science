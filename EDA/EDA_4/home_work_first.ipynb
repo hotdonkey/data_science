{
 "cells": [
  {
   "cell_type": "code",
   "execution_count": 110,
   "metadata": {},
   "outputs": [],
   "source": [
    "import pandas as pd\n",
    "import numpy as np\n",
    "import seaborn as sns\n",
    "from scipy.stats import shapiro\n",
    "from scipy.stats import ttest_ind\n",
    "from scipy.stats import f_oneway\n",
    "from statsmodels.stats import weightstats\n",
    "from statistics import mean"
   ]
  },
  {
   "attachments": {},
   "cell_type": "markdown",
   "metadata": {},
   "source": [
    "### Используя информацию по мидиям Петербурга и Магадана, проверьте данные на нормальность и на наличие корреляции. \n",
    "\n",
    "#### Для этого:\n",
    "\n",
    "* #### Объедините два массива в DataFrame. \n",
    "* #### Обоснуйте выбор теста на корреляцию. \n",
    "* #### Сделайте вывод по гипотезе.\n",
    "* #### Ответьте на вопрос: Какова разница в среднем размере мидии в зависимости от города-производителя\n",
    "* #### Обоснуйте выбор теста. \n",
    "* #### Сделайте вывод по гипотезе."
   ]
  },
  {
   "attachments": {},
   "cell_type": "markdown",
   "metadata": {},
   "source": [
    "---"
   ]
  },
  {
   "attachments": {},
   "cell_type": "markdown",
   "metadata": {},
   "source": [
    "### Объединение массивов"
   ]
  },
  {
   "cell_type": "code",
   "execution_count": 111,
   "metadata": {},
   "outputs": [],
   "source": [
    "petersburg = [\n",
    "    0.0974, 0.1352, 0.0817, 0.1016, \n",
    "    0.0968, 0.1064, 0.105\n",
    "]\n",
    "magadan = [\n",
    "    0.1033, 0.0915, 0.0781, 0.0685,\n",
    "    0.0677, 0.0697, 0.0764, 0.0689\n",
    "]\n",
    "\n",
    "data = pd.DataFrame(list(zip(petersburg, magadan)), columns=['petersburg', 'magadan'])"
   ]
  },
  {
   "cell_type": "code",
   "execution_count": 112,
   "metadata": {},
   "outputs": [
    {
     "data": {
      "text/html": [
       "<div>\n",
       "<style scoped>\n",
       "    .dataframe tbody tr th:only-of-type {\n",
       "        vertical-align: middle;\n",
       "    }\n",
       "\n",
       "    .dataframe tbody tr th {\n",
       "        vertical-align: top;\n",
       "    }\n",
       "\n",
       "    .dataframe thead th {\n",
       "        text-align: right;\n",
       "    }\n",
       "</style>\n",
       "<table border=\"1\" class=\"dataframe\">\n",
       "  <thead>\n",
       "    <tr style=\"text-align: right;\">\n",
       "      <th></th>\n",
       "      <th>petersburg</th>\n",
       "      <th>magadan</th>\n",
       "    </tr>\n",
       "  </thead>\n",
       "  <tbody>\n",
       "    <tr>\n",
       "      <th>0</th>\n",
       "      <td>0.0974</td>\n",
       "      <td>0.1033</td>\n",
       "    </tr>\n",
       "    <tr>\n",
       "      <th>1</th>\n",
       "      <td>0.1352</td>\n",
       "      <td>0.0915</td>\n",
       "    </tr>\n",
       "    <tr>\n",
       "      <th>2</th>\n",
       "      <td>0.0817</td>\n",
       "      <td>0.0781</td>\n",
       "    </tr>\n",
       "    <tr>\n",
       "      <th>3</th>\n",
       "      <td>0.1016</td>\n",
       "      <td>0.0685</td>\n",
       "    </tr>\n",
       "    <tr>\n",
       "      <th>4</th>\n",
       "      <td>0.0968</td>\n",
       "      <td>0.0677</td>\n",
       "    </tr>\n",
       "    <tr>\n",
       "      <th>5</th>\n",
       "      <td>0.1064</td>\n",
       "      <td>0.0697</td>\n",
       "    </tr>\n",
       "    <tr>\n",
       "      <th>6</th>\n",
       "      <td>0.1050</td>\n",
       "      <td>0.0764</td>\n",
       "    </tr>\n",
       "  </tbody>\n",
       "</table>\n",
       "</div>"
      ],
      "text/plain": [
       "   petersburg  magadan\n",
       "0      0.0974   0.1033\n",
       "1      0.1352   0.0915\n",
       "2      0.0817   0.0781\n",
       "3      0.1016   0.0685\n",
       "4      0.0968   0.0677\n",
       "5      0.1064   0.0697\n",
       "6      0.1050   0.0764"
      ]
     },
     "execution_count": 112,
     "metadata": {},
     "output_type": "execute_result"
    }
   ],
   "source": [
    "data"
   ]
  },
  {
   "attachments": {},
   "cell_type": "markdown",
   "metadata": {},
   "source": [
    "---"
   ]
  },
  {
   "attachments": {},
   "cell_type": "markdown",
   "metadata": {},
   "source": [
    "### Тест на нормальность"
   ]
  },
  {
   "cell_type": "code",
   "execution_count": 113,
   "metadata": {},
   "outputs": [
    {
     "name": "stdout",
     "output_type": "stream",
     "text": [
      "p= 0.226\n",
      "Данные распределены нормально\n"
     ]
    }
   ],
   "source": [
    "H0 = 'Данные распределены нормально'\n",
    "Ha = 'Данные не распределены нормально (мы отвергаем H0)'\n",
    "\n",
    "#Установка уровня значимости\n",
    "alpha = 0.05\n",
    "\n",
    "#Проведение теста Шапиро-Уилка\n",
    "_, p = shapiro(data)\n",
    "\n",
    "if p > alpha:\n",
    "    print(f'p= {round(p,3)}\\n{H0}')\n",
    "else:\n",
    "    print(f'p= {round(p,3)}\\n{Ha}')\n"
   ]
  },
  {
   "attachments": {},
   "cell_type": "markdown",
   "metadata": {},
   "source": [
    "---"
   ]
  },
  {
   "attachments": {},
   "cell_type": "markdown",
   "metadata": {},
   "source": [
    "### Определение наличия корреляции\n",
    "#### Корреляция между непрерывными признаками, которые имеют близкое к нормальному распределение, может быть рассчитана с использованием стандартной корреляции Пирсона. Следовательно просто строим тепловую карту с применением метода corr() возращающую визуализацию корреляции Пирсона."
   ]
  },
  {
   "cell_type": "code",
   "execution_count": 114,
   "metadata": {},
   "outputs": [
    {
     "data": {
      "image/png": "[encoded data removed]",
      "text/plain": [
       "<Figure size 640x480 with 2 Axes>"
      ]
     },
     "metadata": {},
     "output_type": "display_data"
    }
   ],
   "source": [
    "sns.heatmap(data.corr(), annot=True);"
   ]
  },
  {
   "attachments": {},
   "cell_type": "markdown",
   "metadata": {},
   "source": [
    "#### Корреляция между признаками отсутсвует"
   ]
  },
  {
   "attachments": {},
   "cell_type": "markdown",
   "metadata": {},
   "source": [
    "---"
   ]
  },
  {
   "attachments": {},
   "cell_type": "markdown",
   "metadata": {},
   "source": [
    "### Независимый t- тест\n",
    "#### Зависимая переменная (размер устриц) является количественной. Группы происходят из разных совокупностей. Следовательно, мы используем независимый T-тест."
   ]
  },
  {
   "cell_type": "code",
   "execution_count": 115,
   "metadata": {},
   "outputs": [],
   "source": [
    "H0 = 'Нет значимой разницы в размерах мидий выращеный в разных городах.'\n",
    "Ha = 'Есть значимая разница размерах мидий выращеный в разных городах.'"
   ]
  },
  {
   "cell_type": "code",
   "execution_count": 116,
   "metadata": {},
   "outputs": [
    {
     "name": "stdout",
     "output_type": "stream",
     "text": [
      "p_value= 0.01\n",
      "Есть значимая разница размерах мидий выращеный в разных городах. Разница в среднем размере мидий составляет: 30.4%\n"
     ]
    }
   ],
   "source": [
    "test_result = ttest_ind(data['petersburg'], data['magadan'], equal_var=True)\n",
    "p_value = test_result[1]\n",
    "mean_delta = round((mean(data['petersburg'])-mean(data['magadan']))/mean(data['magadan']),3) * 100 #Используем процентное выражение ввиду малой размерности\n",
    "\n",
    "if p_value > alpha:\n",
    "    print(f'p_value= {round(p_value,3)}\\n{H0}')\n",
    "else:\n",
    "    print(f'p_value= {round(p_value,3)}\\n{Ha} Разница в среднем размере мидий составляет: {mean_delta}%')"
   ]
  },
  {
   "attachments": {},
   "cell_type": "markdown",
   "metadata": {},
   "source": [
    "---"
   ]
  },
  {
   "attachments": {},
   "cell_type": "markdown",
   "metadata": {},
   "source": [
    "### Дополнительно проведем тестирование через ANOVA тест"
   ]
  },
  {
   "cell_type": "code",
   "execution_count": 117,
   "metadata": {},
   "outputs": [
    {
     "name": "stdout",
     "output_type": "stream",
     "text": [
      "p_value= 0.01\n",
      "Есть значимая разница размерах мидий выращеный в разных городах. Разница в среднем размере мидий составляет: 30.4%\n"
     ]
    }
   ],
   "source": [
    "_, p_value = f_oneway(data['petersburg'], data['magadan'])\n",
    "\n",
    "if p_value > alpha:\n",
    "    print(f'p_value= {round(p_value,3)}\\n{H0}')\n",
    "else:\n",
    "    print(f'p_value= {round(p_value,3)}\\n{Ha} Разница в среднем размере мидий составляет: {mean_delta}%')"
   ]
  },
  {
   "attachments": {},
   "cell_type": "markdown",
   "metadata": {},
   "source": [
    "---"
   ]
  },
  {
   "attachments": {},
   "cell_type": "markdown",
   "metadata": {},
   "source": [
    "### Z-тест\n",
    "#### Проведем Z-тест для проверки двух независимых групп данных на равенство средних значений выборок."
   ]
  },
  {
   "cell_type": "code",
   "execution_count": 120,
   "metadata": {},
   "outputs": [
    {
     "name": "stdout",
     "output_type": "stream",
     "text": [
      "p_value= 0.002\n",
      "Есть значимая разница размерах мидий выращеный в разных городах. Разница в среднем размере мидий составляет: 30.4%\n"
     ]
    }
   ],
   "source": [
    "_ ,p_value = weightstats.ztest(data['petersburg'], x2=data['magadan'], value=0,alternative='two-sided')\n",
    "\n",
    "if p_value > alpha:\n",
    "    print(f'p_value= {round(p_value,3)}\\n{H0}')\n",
    "else:\n",
    "    print(f'p_value= {round(p_value,3)}\\n{Ha} Разница в среднем размере мидий составляет: {mean_delta}%')"
   ]
  }
 ],
 "metadata": {
  "kernelspec": {
   "display_name": "Python 3",
   "language": "python",
   "name": "python3"
  },
  "language_info": {
   "codemirror_mode": {
    "name": "ipython",
    "version": 3
   },
   "file_extension": ".py",
   "mimetype": "text/x-python",
   "name": "python",
   "nbconvert_exporter": "python",
   "pygments_lexer": "ipython3",
   "version": "3.11.0 (v3.11.0:deaf509e8f, Oct 24 2022, 14:43:23) [Clang 13.0.0 (clang-1300.0.29.30)]"
  },
  "orig_nbformat": 4,
  "vscode": {
   "interpreter": {
    "hash": "1a1af0ee75eeea9e2e1ee996c87e7a2b11a0bebd85af04bb136d915cefc0abce"
   }
  }
 },
 "nbformat": 4,
 "nbformat_minor": 2
}
