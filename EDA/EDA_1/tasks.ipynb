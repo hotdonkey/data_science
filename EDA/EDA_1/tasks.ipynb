{
 "cells": [
  {
   "cell_type": "code",
   "execution_count": 49,
   "metadata": {},
   "outputs": [],
   "source": [
    "import pandas as pd"
   ]
  },
  {
   "cell_type": "code",
   "execution_count": 50,
   "metadata": {},
   "outputs": [],
   "source": [
    "wine_df_raw = pd.read_csv('/Users/hotdonkey/Documents/GitHub/data_science_learning/code/skillfactory/EDA/data/wine.csv')"
   ]
  },
  {
   "cell_type": "code",
   "execution_count": 51,
   "metadata": {},
   "outputs": [
    {
     "name": "stdout",
     "output_type": "stream",
     "text": [
      "<class 'pandas.core.frame.DataFrame'>\n",
      "RangeIndex: 129971 entries, 0 to 129970\n",
      "Data columns (total 13 columns):\n",
      " #   Column                 Non-Null Count   Dtype  \n",
      "---  ------                 --------------   -----  \n",
      " 0   country                129908 non-null  object \n",
      " 1   description            129971 non-null  object \n",
      " 2   designation            92506 non-null   object \n",
      " 3   points                 129971 non-null  int64  \n",
      " 4   price                  120975 non-null  float64\n",
      " 5   province               129908 non-null  object \n",
      " 6   region_1               108724 non-null  object \n",
      " 7   region_2               50511 non-null   object \n",
      " 8   taster_name            103727 non-null  object \n",
      " 9   taster_twitter_handle  98758 non-null   object \n",
      " 10  title                  129971 non-null  object \n",
      " 11  variety                129970 non-null  object \n",
      " 12  winery                 129971 non-null  object \n",
      "dtypes: float64(1), int64(1), object(11)\n",
      "memory usage: 12.9+ MB\n"
     ]
    }
   ],
   "source": [
    "wine_df_raw.info()"
   ]
  },
  {
   "cell_type": "code",
   "execution_count": 52,
   "metadata": {},
   "outputs": [
    {
     "data": {
      "text/plain": [
       "19"
      ]
     },
     "execution_count": 52,
     "metadata": {},
     "output_type": "execute_result"
    }
   ],
   "source": [
    "#Task 4.1\n",
    "wine_df_raw['taster_name'].nunique()"
   ]
  },
  {
   "cell_type": "code",
   "execution_count": 53,
   "metadata": {},
   "outputs": [
    {
     "data": {
      "text/plain": [
       "3300.0"
      ]
     },
     "execution_count": 53,
     "metadata": {},
     "output_type": "execute_result"
    }
   ],
   "source": [
    "#Task 4.2\n",
    "wine_df_raw['price'].max()"
   ]
  },
  {
   "cell_type": "code",
   "execution_count": 54,
   "metadata": {},
   "outputs": [
    {
     "data": {
      "text/plain": [
       "9983"
      ]
     },
     "execution_count": 54,
     "metadata": {},
     "output_type": "execute_result"
    }
   ],
   "source": [
    "#Task 5.3\n",
    "#Проанализируйте датасет на наличие дублирующихся винных обзоров. Если дублирующиеся записи есть, удалите их.\n",
    "#В поле ниже введите, сколько дублирующихся записей вам удалось обнаружить.\n",
    "\n",
    "wine_df = wine_df_raw.drop_duplicates()\n",
    "wine_df_raw.shape[0] - wine_df.shape[0]"
   ]
  },
  {
   "cell_type": "code",
   "execution_count": 55,
   "metadata": {},
   "outputs": [
    {
     "data": {
      "text/plain": [
       "country                  2\n",
       "description              1\n",
       "designation              2\n",
       "points                   1\n",
       "price                    2\n",
       "province                 2\n",
       "region_1                 2\n",
       "region_2                 2\n",
       "taster_name              2\n",
       "taster_twitter_handle    2\n",
       "title                    1\n",
       "variety                  2\n",
       "winery                   1\n",
       "dtype: int64"
      ]
     },
     "execution_count": 55,
     "metadata": {},
     "output_type": "execute_result"
    }
   ],
   "source": [
    "#Задание 5.4\n",
    "#Проверьте датасет на наличие пропусков в данных.\n",
    "#В каких из представленных признаках были обнаружены пропуски?\n",
    "\n",
    "holes = wine_df.isnull()\n",
    "holes.nunique() #Если больше единицы, то в колонке есть пропуски"
   ]
  },
  {
   "cell_type": "code",
   "execution_count": 56,
   "metadata": {},
   "outputs": [
    {
     "data": {
      "text/plain": [
       "region_2                 61.136715\n",
       "designation              28.825661\n",
       "taster_twitter_handle    24.015357\n",
       "taster_name              20.192197\n",
       "region_1                 16.347493\n",
       "price                     6.921544\n",
       "country                   0.048472\n",
       "province                  0.048472\n",
       "variety                   0.000769\n",
       "dtype: float64"
      ]
     },
     "execution_count": 56,
     "metadata": {},
     "output_type": "execute_result"
    }
   ],
   "source": [
    "#Задание 5.5\n",
    "#Обработайте пропущенные значения в наборе данных любым известным вам способом\n",
    "\n",
    "null_columns_perc = wine_df_raw.isnull().mean()*100\n",
    "null_columns = null_columns_perc[null_columns_perc>0].sort_values(ascending=False)\n",
    "null_columns"
   ]
  },
  {
   "cell_type": "code",
   "execution_count": 57,
   "metadata": {},
   "outputs": [
    {
     "data": {
      "text/plain": [
       "country                  0.000485\n",
       "description              0.000000\n",
       "designation              0.288257\n",
       "points                   0.000000\n",
       "price                    0.069215\n",
       "province                 0.000485\n",
       "region_1                 0.163475\n",
       "taster_name              0.201922\n",
       "taster_twitter_handle    0.240154\n",
       "title                    0.000000\n",
       "variety                  0.000008\n",
       "winery                   0.000000\n",
       "dtype: float64"
      ]
     },
     "execution_count": 57,
     "metadata": {},
     "output_type": "execute_result"
    }
   ],
   "source": [
    "drop_data = wine_df_raw.copy()\n",
    "thresh = drop_data.shape[0]*0.7\n",
    "drop_data = drop_data.dropna(thresh=thresh, axis=1)\n",
    "drop_data.isnull().mean()"
   ]
  },
  {
   "cell_type": "code",
   "execution_count": 58,
   "metadata": {},
   "outputs": [],
   "source": [
    "fill_data = drop_data.copy()"
   ]
  },
  {
   "cell_type": "code",
   "execution_count": 62,
   "metadata": {},
   "outputs": [],
   "source": [
    "values = {\n",
    "    'country' : fill_data['country'].mode()[0],\n",
    "    'designation' : 'unknown',\n",
    "    'price' : fill_data['price'].median(),\n",
    "    'province' : fill_data['province'].mode()[0],\n",
    "    'region_1' : 'unknown',\n",
    "    'taster_name' : 'unknown',\n",
    "    'taster_twitter_handle' : 'unknown',\n",
    "    'variety' : fill_data['variety'].mode()[0]\n",
    "}\n",
    "\n",
    "fill_data = fill_data.fillna(values)"
   ]
  },
  {
   "cell_type": "code",
   "execution_count": 63,
   "metadata": {},
   "outputs": [
    {
     "data": {
      "text/plain": [
       "country                  0.0\n",
       "description              0.0\n",
       "designation              0.0\n",
       "points                   0.0\n",
       "price                    0.0\n",
       "province                 0.0\n",
       "region_1                 0.0\n",
       "taster_name              0.0\n",
       "taster_twitter_handle    0.0\n",
       "title                    0.0\n",
       "variety                  0.0\n",
       "winery                   0.0\n",
       "dtype: float64"
      ]
     },
     "execution_count": 63,
     "metadata": {},
     "output_type": "execute_result"
    }
   ],
   "source": [
    "fill_data.isnull().mean()"
   ]
  },
  {
   "cell_type": "code",
   "execution_count": 64,
   "metadata": {},
   "outputs": [],
   "source": [
    "fill_data = fill_data.to_csv('/Users/hotdonkey/Documents/GitHub/data_science_learning/code/skillfactory/EDA/data/wine_cleaned.csv', index=False)"
   ]
  }
 ],
 "metadata": {
  "kernelspec": {
   "display_name": "Python 3",
   "language": "python",
   "name": "python3"
  },
  "language_info": {
   "codemirror_mode": {
    "name": "ipython",
    "version": 3
   },
   "file_extension": ".py",
   "mimetype": "text/x-python",
   "name": "python",
   "nbconvert_exporter": "python",
   "pygments_lexer": "ipython3",
   "version": "3.11.0 (v3.11.0:deaf509e8f, Oct 24 2022, 14:43:23) [Clang 13.0.0 (clang-1300.0.29.30)]"
  },
  "orig_nbformat": 4,
  "vscode": {
   "interpreter": {
    "hash": "1a1af0ee75eeea9e2e1ee996c87e7a2b11a0bebd85af04bb136d915cefc0abce"
   }
  }
 },
 "nbformat": 4,
 "nbformat_minor": 2
}
