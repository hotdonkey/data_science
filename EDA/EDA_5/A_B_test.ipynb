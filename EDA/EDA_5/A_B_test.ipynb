{
 "cells": [
  {
   "cell_type": "markdown",
   "id": "c8a6af25-08d3-487a-bd90-001772ac9161",
   "metadata": {},
   "source": [
    "## <center> **Анализ результатов A/B-тестирования**"
   ]
  },
  {
   "cell_type": "markdown",
   "id": "d7d45571-6545-4904-a86b-9b3b6b8163d3",
   "metadata": {},
   "source": [
    "Компания планирует запустить новую акцию, чтобы продать как можно больше туров. Команда разработала два варианта посадочной страницы официального сайта компании и провела A/B-тестирование. Собранные в результате проведения эксперимента данные вы можете найти здесь.\n",
    "\n",
    "Вам предстоит решить настоящую бизнес-задачу: проанализировать эффективность обоих вариантов посадочной страницы сразу по двум критериям: конверсии покупки и среднему чеку. На основе проведенного анализа вам будет необходимо сделать выводы и принять решение: какой из вариантов дизайна более предпочтительный.\n",
    "\n",
    "Итак, наша фирма предлагает следующие варианты туров и их соответствующие стоимости:\n",
    "* Таиланд — 100000 рублей;\n",
    "* Турция — 60000 рублей;\n",
    "* Мальдивы — 200000 рублей;\n",
    "* Санкт-Петербург — 10000 рублей;\n",
    "* Камчатка — 150000 рублей."
   ]
  },
  {
   "cell_type": "code",
   "execution_count": 519,
   "id": "a974b482-e192-4014-8520-8a5c0c946da6",
   "metadata": {},
   "outputs": [],
   "source": [
    "import pandas as pd\n",
    "import matplotlib.pyplot as plt\n",
    "import seaborn as sns\n",
    "from scipy.stats import norm\n",
    "from scipy.stats import t\n",
    "from scipy.stats import ttest_ind, shapiro, f_oneway, mannwhitneyu\n",
    "from statsmodels.stats.proportion import proportions_ztest"
   ]
  },
  {
   "cell_type": "code",
   "execution_count": 520,
   "id": "0fbcb006",
   "metadata": {},
   "outputs": [],
   "source": [
    "#Сразу накидаем функции\n",
    "def confidence_interval_sigma(n, x_mean, sigma, gamma=0.95):\n",
    "    \"\"\"Function to evaluate confidence interval with known true standard deviation\n",
    "\n",
    "    Args:\n",
    "        n (int): sample size\n",
    "        x_mean (int): sample mean\n",
    "        sigma (int): true standard deviation\n",
    "        gamma (float): reliability level 0-1\n",
    "\n",
    "    Returns:\n",
    "        float: lower_bound, upper_bound\n",
    "    \"\"\"\n",
    "    alpha = 1 - gamma  # уровень значимости\n",
    "\n",
    "    z_crit = round(-norm.ppf(alpha/2), 2)  # z критическое\n",
    "\n",
    "    eps = z_crit * sigma/(n ** 0.5)  # погрешность\n",
    "    lower_bound = round(x_mean - eps, 2)  # левая (нижняя) граница\n",
    "    upper_bound = round(x_mean + eps, 2)  # правая (верхняя) граница\n",
    "    # создаём кортеж из округлённых границ интервала\n",
    "    confidence_interval = (lower_bound, upper_bound)\n",
    "    # выводим результат\n",
    "    print(\n",
    "        f'Доверительный интервал: {lower_bound, upper_bound}, z-крит: {z_crit}')\n",
    "    return lower_bound, upper_bound, z_crit\n",
    "\n",
    "def confidence_interval(n, x_mean, x_std, gamma=0.95):\n",
    "    \"\"\"_summary_\n",
    "\n",
    "    Args:\n",
    "        n (int): sample size\n",
    "        x_mean (int): sample mean\n",
    "        x_std (int, float): sample standard deviation\n",
    "        gamma (float): reliability level 0-1\n",
    "    \"\"\"\n",
    "    k = n - 1  # число степеней свободы\n",
    "    alpha = 1 - gamma  # уровень значимости\n",
    "\n",
    "    t_crit = -t.ppf(alpha/2, k)  # t-критическое\n",
    "\n",
    "    eps = t_crit * x_std/(n ** 0.5)  # погрешность\n",
    "    lower_bound = round(x_mean - eps, 2)  # левая (нижняя) граница\n",
    "    upper_bound = round(x_mean + eps, 2)  # правая (верхняя) граница\n",
    "    # создаём кортеж из округлённых границ интервала\n",
    "    confidence_interval = (lower_bound, upper_bound)\n",
    "    #print(\n",
    "    #    f'Доверительный интервал: {lower_bound, upper_bound}, t-крит: {t_crit}')\n",
    "    return lower_bound, upper_bound, t_crit\n",
    "\n",
    "def proportions_conf_interval(n, x_p, gamma=0.95):\n",
    "    \"\"\"Function to evaluate confidence interval for proportion and\n",
    "    true standard deviation.\n",
    "\n",
    "    Args:\n",
    "        n (int): sample size\n",
    "        x_p (int): sample proportion (% of success)\n",
    "        gamma (float): reliability level 0-1\n",
    "\n",
    "    Returns:\n",
    "        float: lower_bound, upper_bound, sigma\n",
    "    \"\"\"\n",
    "    alpha = 1 - gamma  # уровень значимости\n",
    "    z_crit = -norm.ppf(alpha/2)  # z критическое\n",
    "    eps = z_crit * (x_p * (1 - x_p) / n) ** 0.5  # погрешность\n",
    "    sigma = round((x_p * (1 - x_p))**0.5, 3) #true standard deviation\n",
    "\n",
    "    lower_bound = round((x_p - eps)*100, 2)  # левая (нижняя) граница\n",
    "    upper_bound = round((x_p + eps)*100, 2)  # правая (верхняя) граница\n",
    "\n",
    "    #print(\n",
    "    #    f'Доверительный интервал: {lower_bound, upper_bound}, z-крит: {z_crit}, sigma: {sigma}')\n",
    "    return lower_bound, upper_bound, sigma\n",
    "\n",
    "def diff_proportions_conf_interval(n, x_p, gamma=0.95):\n",
    "    \"\"\"Function to evaluate confidence interval for delta of proportion.\n",
    "\n",
    "    Args:\n",
    "        n (list): list of samples sizes (for example: n = [a_data['user_id'].count(), b_data['user_id'].count()])\n",
    "        x_p (list): list of samples proportions (for example: xp = [a_data['converted'].mean(), b_data['converted'].mean()])\n",
    "        gamma (float, optional): reliability level 0-1\n",
    "\n",
    "    Returns:\n",
    "        float: lower_bound, upper_bound (%)\n",
    "    \"\"\"\n",
    "\n",
    "    alpha = 1 - gamma  # уровень значимости\n",
    "    diff = x_p[1] - x_p[0]  # выборочная разница конверсий групп B и A\n",
    "    z_crit = -norm.ppf(alpha/2)  # z критическое\n",
    "    eps = z_crit * (x_p[0] * (1 - x_p[0])/n[0] + x_p[1] *\n",
    "                    (1 - x_p[1])/n[1]) ** 0.5  # погрешность\n",
    "\n",
    "    lower_bound = round((diff - eps)*100, 2)  # левая (нижняя) граница\n",
    "    upper_bound = round((diff + eps)*100, 2)  # правая (верхняя) граница\n",
    "    # возвращаем кортеж из округлённых границ интервала\n",
    "    return lower_bound, upper_bound\n"
   ]
  },
  {
   "cell_type": "markdown",
   "id": "55c84550-4162-4325-acc2-7d3c0aafe6f0",
   "metadata": {},
   "source": [
    "Прочитаем наши данные и посмотрим на столбцы таблицы:"
   ]
  },
  {
   "cell_type": "code",
   "execution_count": 521,
   "id": "b0d18245-b9da-44bd-8aea-d272ea74b63a",
   "metadata": {},
   "outputs": [
    {
     "data": {
      "text/html": [
       "<div>\n",
       "<style scoped>\n",
       "    .dataframe tbody tr th:only-of-type {\n",
       "        vertical-align: middle;\n",
       "    }\n",
       "\n",
       "    .dataframe tbody tr th {\n",
       "        vertical-align: top;\n",
       "    }\n",
       "\n",
       "    .dataframe thead th {\n",
       "        text-align: right;\n",
       "    }\n",
       "</style>\n",
       "<table border=\"1\" class=\"dataframe\">\n",
       "  <thead>\n",
       "    <tr style=\"text-align: right;\">\n",
       "      <th></th>\n",
       "      <th>user_id</th>\n",
       "      <th>date</th>\n",
       "      <th>group</th>\n",
       "      <th>purchase</th>\n",
       "      <th>price</th>\n",
       "    </tr>\n",
       "  </thead>\n",
       "  <tbody>\n",
       "    <tr>\n",
       "      <th>0</th>\n",
       "      <td>851104</td>\n",
       "      <td>2021-01-21</td>\n",
       "      <td>A</td>\n",
       "      <td>0</td>\n",
       "      <td>0</td>\n",
       "    </tr>\n",
       "    <tr>\n",
       "      <th>1</th>\n",
       "      <td>804228</td>\n",
       "      <td>2021-01-12</td>\n",
       "      <td>A</td>\n",
       "      <td>0</td>\n",
       "      <td>0</td>\n",
       "    </tr>\n",
       "    <tr>\n",
       "      <th>2</th>\n",
       "      <td>661590</td>\n",
       "      <td>2021-01-11</td>\n",
       "      <td>B</td>\n",
       "      <td>0</td>\n",
       "      <td>0</td>\n",
       "    </tr>\n",
       "    <tr>\n",
       "      <th>3</th>\n",
       "      <td>853541</td>\n",
       "      <td>2021-01-08</td>\n",
       "      <td>B</td>\n",
       "      <td>0</td>\n",
       "      <td>0</td>\n",
       "    </tr>\n",
       "    <tr>\n",
       "      <th>4</th>\n",
       "      <td>864975</td>\n",
       "      <td>2021-01-21</td>\n",
       "      <td>A</td>\n",
       "      <td>1</td>\n",
       "      <td>150000</td>\n",
       "    </tr>\n",
       "  </tbody>\n",
       "</table>\n",
       "</div>"
      ],
      "text/plain": [
       "   user_id        date group  purchase   price\n",
       "0   851104  2021-01-21     A         0       0\n",
       "1   804228  2021-01-12     A         0       0\n",
       "2   661590  2021-01-11     B         0       0\n",
       "3   853541  2021-01-08     B         0       0\n",
       "4   864975  2021-01-21     A         1  150000"
      ]
     },
     "execution_count": 521,
     "metadata": {},
     "output_type": "execute_result"
    }
   ],
   "source": [
    "data = pd.read_csv('../data/ab_data_tourist.csv')\n",
    "data.head()"
   ]
  },
  {
   "attachments": {},
   "cell_type": "markdown",
   "id": "3b6556fe",
   "metadata": {},
   "source": [
    "---"
   ]
  },
  {
   "cell_type": "markdown",
   "id": "2fc48225-26ac-49c4-b99d-8b2a03dd74a1",
   "metadata": {
    "tags": []
   },
   "source": [
    "## **Задание 7.1.**\n",
    "\n",
    "Начнем с исследования структуры наших данных. С помощью метода info() выведите информацию о типах данных и количестве непустых значений. Какой тип данных имеет столбец date?"
   ]
  },
  {
   "cell_type": "code",
   "execution_count": 522,
   "id": "23496521-4878-46e2-ab02-1a98be14884a",
   "metadata": {},
   "outputs": [
    {
     "name": "stdout",
     "output_type": "stream",
     "text": [
      "<class 'pandas.core.frame.DataFrame'>\n",
      "RangeIndex: 294478 entries, 0 to 294477\n",
      "Data columns (total 5 columns):\n",
      " #   Column    Non-Null Count   Dtype \n",
      "---  ------    --------------   ----- \n",
      " 0   user_id   294478 non-null  int64 \n",
      " 1   date      294478 non-null  object\n",
      " 2   group     294478 non-null  object\n",
      " 3   purchase  294478 non-null  int64 \n",
      " 4   price     294478 non-null  int64 \n",
      "dtypes: int64(3), object(2)\n",
      "memory usage: 11.2+ MB\n"
     ]
    }
   ],
   "source": [
    "data.info()"
   ]
  },
  {
   "attachments": {},
   "cell_type": "markdown",
   "id": "809ebc83",
   "metadata": {},
   "source": [
    "Ответ: date имеет тип данных object"
   ]
  },
  {
   "attachments": {},
   "cell_type": "markdown",
   "id": "e536a437",
   "metadata": {},
   "source": [
    "---"
   ]
  },
  {
   "cell_type": "markdown",
   "id": "946d017d-b4fe-4a17-b91d-0ce369d1ab2e",
   "metadata": {
    "tags": []
   },
   "source": [
    "## **Задание 7.2.**\n",
    "\n",
    "Приведите столбец date к типу данных datetime. Убедитесь в равной длительности проведения тестирования для каждой из группы. Для этого сгруппируйте данные по признаку группы и определите первую и последнюю дату наблюдения для каждой из групп. \n",
    "\n",
    "В какой промежуток времени проводился A/B-тест?\n"
   ]
  },
  {
   "cell_type": "code",
   "execution_count": 523,
   "id": "604c619d-6338-45c8-8248-ac098a2366bb",
   "metadata": {},
   "outputs": [],
   "source": [
    "data['date'] = pd.to_datetime(data['date'], format=\"%Y-%m-%d\")"
   ]
  },
  {
   "cell_type": "code",
   "execution_count": 524,
   "id": "a1035a1b",
   "metadata": {},
   "outputs": [
    {
     "name": "stdout",
     "output_type": "stream",
     "text": [
      "            date\n",
      "group           \n",
      "A     2021-01-02\n",
      "B     2021-01-02             date\n",
      "group           \n",
      "A     2021-01-24\n",
      "B     2021-01-24\n"
     ]
    }
   ],
   "source": [
    "print(\n",
    "    data.groupby('group')[['date']].min(),\n",
    "    data.groupby('group')[['date']].max())\n"
   ]
  },
  {
   "attachments": {},
   "cell_type": "markdown",
   "id": "0780517f",
   "metadata": {},
   "source": [
    "Ответ: 02.01.2021 - 24.01.2021 обе группы тыстировались параллельно"
   ]
  },
  {
   "attachments": {},
   "cell_type": "markdown",
   "id": "b1dfa7ad",
   "metadata": {},
   "source": [
    "---"
   ]
  },
  {
   "cell_type": "markdown",
   "id": "e04eb341-52ae-48b3-9dc2-0578ca91641a",
   "metadata": {},
   "source": [
    "## **Задание 7.3.**\n",
    "\n",
    "* Чему равно количество посещений сайта в группах А и B?\n",
    "\n",
    "* Чему равно суммарное количество покупок в группах А и B?\n",
    "\n",
    "* Чему равна сумма всех покупок в группах А и B? Ответ приведите в миллионах рублей. Например, 185.52 млн. руб."
   ]
  },
  {
   "cell_type": "code",
   "execution_count": 525,
   "id": "02bf0148-488e-4f34-95bf-37794b2fa98b",
   "metadata": {},
   "outputs": [
    {
     "data": {
      "text/html": [
       "<div>\n",
       "<style scoped>\n",
       "    .dataframe tbody tr th:only-of-type {\n",
       "        vertical-align: middle;\n",
       "    }\n",
       "\n",
       "    .dataframe tbody tr th {\n",
       "        vertical-align: top;\n",
       "    }\n",
       "\n",
       "    .dataframe thead th {\n",
       "        text-align: right;\n",
       "    }\n",
       "</style>\n",
       "<table border=\"1\" class=\"dataframe\">\n",
       "  <thead>\n",
       "    <tr style=\"text-align: right;\">\n",
       "      <th></th>\n",
       "      <th>group</th>\n",
       "      <th>count_visits</th>\n",
       "      <th>count_purchases</th>\n",
       "      <th>sum_price</th>\n",
       "    </tr>\n",
       "  </thead>\n",
       "  <tbody>\n",
       "    <tr>\n",
       "      <th>0</th>\n",
       "      <td>A</td>\n",
       "      <td>147202</td>\n",
       "      <td>17723</td>\n",
       "      <td>1436.26</td>\n",
       "    </tr>\n",
       "    <tr>\n",
       "      <th>1</th>\n",
       "      <td>B</td>\n",
       "      <td>147276</td>\n",
       "      <td>17514</td>\n",
       "      <td>1554.10</td>\n",
       "    </tr>\n",
       "  </tbody>\n",
       "</table>\n",
       "</div>"
      ],
      "text/plain": [
       "  group  count_visits  count_purchases  sum_price\n",
       "0     A        147202            17723    1436.26\n",
       "1     B        147276            17514    1554.10"
      ]
     },
     "metadata": {},
     "output_type": "display_data"
    },
    {
     "name": "stdout",
     "output_type": "stream",
     "text": [
      "Колличество клиентов по группам. A: 147202, B: 147276\n",
      "Суммарное количество по группам. A: 17723, B: 17514\n",
      "Сумма покупок по группам. A: 1436.26, B: 1554.1\n",
      "Сумма всех покупок в обеих группах составляет 2990.36 млн.руб.\n"
     ]
    }
   ],
   "source": [
    "count_visits = data.groupby(['group'])[['user_id']].count().reset_index()\n",
    "purcase_revenue = data.groupby(\n",
    "    ['group'])[['purchase', 'price']].sum().reset_index()\n",
    "\n",
    "cons_df = count_visits.merge(purcase_revenue)\n",
    "\n",
    "cons_df.rename(\n",
    "    columns={\n",
    "        'user_id': 'count_visits',\n",
    "        'purchase': 'count_purchases',\n",
    "        'price': 'sum_price'\n",
    "    },\n",
    "    inplace=True\n",
    ")\n",
    "cons_df['sum_price'] = round(cons_df['sum_price']/1000000, 2)\n",
    "\n",
    "display(cons_df)\n",
    "print(\n",
    "    f'Колличество клиентов по группам. A: {cons_df[\"count_visits\"][0]}, B: {cons_df[\"count_visits\"][1]}')\n",
    "print(\n",
    "    f'Суммарное количество по группам. A: {cons_df[\"count_purchases\"][0]}, B: {cons_df[\"count_purchases\"][1]}')\n",
    "print(\n",
    "    f'Сумма покупок по группам. A: {cons_df[\"sum_price\"][0]}, B: {cons_df[\"sum_price\"][1]}')\n",
    "print(\n",
    "    f'Сумма всех покупок в обеих группах составляет {round(cons_df[\"sum_price\"].sum(),2)} млн.руб.')\n"
   ]
  },
  {
   "attachments": {},
   "cell_type": "markdown",
   "id": "9cf17c51",
   "metadata": {},
   "source": [
    "---"
   ]
  },
  {
   "cell_type": "markdown",
   "id": "2434db1b-17e6-4977-8e54-1df875c6f221",
   "metadata": {
    "tags": []
   },
   "source": [
    "## **Задание 7.4.**\n",
    "\n",
    "Проверьте, есть ли пользователи, которые в процессе A/B-теста попали в обе тестовые группы? Если да, то сколько таких уникальных пользователей, если нет - введите в поле для ответа 0?\n",
    "\n",
    "**Подсказка:**\n",
    "\n",
    "*Создайте множество пользователей группы А и множество пользователей группы B. Пересеките два этих множества (операция intersection) и вычислите количество элементов в полученном множестве.*\n"
   ]
  },
  {
   "cell_type": "code",
   "execution_count": 526,
   "id": "57a2d711-057d-4f8b-9f56-df0f772d41c8",
   "metadata": {},
   "outputs": [
    {
     "name": "stdout",
     "output_type": "stream",
     "text": [
      "В выборке есть клиенты попавшие в обе группы, их количество: 1895\n"
     ]
    }
   ],
   "source": [
    "a_group = set(data.query(\"group == 'A'\")['user_id'])\n",
    "b_group = set(data.query(\"group == 'B'\")['user_id'])\n",
    "user_intersection = a_group.intersection(b_group)\n",
    "print(\n",
    "    f'В выборке есть клиенты попавшие в обе группы, их количество: {len(user_intersection)}')\n"
   ]
  },
  {
   "attachments": {},
   "cell_type": "markdown",
   "id": "d1df20ab",
   "metadata": {},
   "source": [
    "---"
   ]
  },
  {
   "cell_type": "markdown",
   "id": "118b1904-7d7a-4935-825e-535da45c611b",
   "metadata": {
    "tags": []
   },
   "source": [
    "## **Исключите пользователей, оказавшихся в обеих группах**\n",
    "\n",
    "Так как мы не можем определить, какая из версий сайта повлияла на принятие решения, исключим этих пользователей. Далее мы будем работать только с очищенными от пересечений данными.\n",
    "\n",
    "Возможный вариант исключения пользователей:"
   ]
  },
  {
   "cell_type": "code",
   "execution_count": 527,
   "id": "f618b34b-35a3-4bf1-8d6d-38b3401930b7",
   "metadata": {},
   "outputs": [],
   "source": [
    "updated_data = data[data['user_id'].apply(lambda x: x not in user_intersection)]"
   ]
  },
  {
   "cell_type": "markdown",
   "id": "2bce6c9a-6580-4250-b280-204d40d20da2",
   "metadata": {},
   "source": [
    "Где user_intersection - множество пересечений пользователей групп А и B."
   ]
  },
  {
   "attachments": {},
   "cell_type": "markdown",
   "id": "be745ddf",
   "metadata": {},
   "source": [
    "---"
   ]
  },
  {
   "attachments": {
    "95f235d2-6323-4799-bf69-697fc57f727b.png": {
     "image/png": "[encoded data removed]"
    }
   },
   "cell_type": "markdown",
   "id": "2ddf6b2c-7987-41f3-82b1-8992630ae97b",
   "metadata": {
    "tags": []
   },
   "source": [
    "## **Задание 7.5.**\n",
    "\n",
    "Для первичного анализа результатов A/B-тестирования нам понадобится таблица следующего вида:\n",
    "\n",
    "![image.png](attachment:95f235d2-6323-4799-bf69-697fc57f727b.png)\n",
    " \n",
    " \n",
    "Для того, чтобы получить такую таблицу, сгруппируйте данные по признаку группы. В каждой группе рассчитайте следующие показатели:\n",
    "* количество посещений (количество пользователей)\n",
    "* количество совершенных покупок\n",
    "* сумма всех покупок в группе\n",
    "\n",
    "В полученной сгруппированной таблице переименуйте столбцы на **count_visits, count_purchases и sum_price**.\n",
    "\n",
    "**Подсказка:**\n",
    "\n",
    "*Для переименования столбцов можно использовать метод rename() с параметром columns, в который передается словарь. Ключи этого словаря - старые имена столбцов, а значения - новые.*\n",
    "\n",
    "Чему на этот раз равно количество посещений сайта в группах А и B?\n"
   ]
  },
  {
   "cell_type": "code",
   "execution_count": 528,
   "id": "5c0c018e-a250-48e9-b72a-e3c7be586ebd",
   "metadata": {},
   "outputs": [
    {
     "name": "stdout",
     "output_type": "stream",
     "text": [
      "Консолидированная таблица без пересечений\n"
     ]
    },
    {
     "data": {
      "text/html": [
       "<div>\n",
       "<style scoped>\n",
       "    .dataframe tbody tr th:only-of-type {\n",
       "        vertical-align: middle;\n",
       "    }\n",
       "\n",
       "    .dataframe tbody tr th {\n",
       "        vertical-align: top;\n",
       "    }\n",
       "\n",
       "    .dataframe thead th {\n",
       "        text-align: right;\n",
       "    }\n",
       "</style>\n",
       "<table border=\"1\" class=\"dataframe\">\n",
       "  <thead>\n",
       "    <tr style=\"text-align: right;\">\n",
       "      <th></th>\n",
       "      <th>group</th>\n",
       "      <th>count_visits</th>\n",
       "      <th>count_purchases</th>\n",
       "      <th>sum_price</th>\n",
       "    </tr>\n",
       "  </thead>\n",
       "  <tbody>\n",
       "    <tr>\n",
       "      <th>0</th>\n",
       "      <td>A</td>\n",
       "      <td>145307</td>\n",
       "      <td>17487</td>\n",
       "      <td>1417.78</td>\n",
       "    </tr>\n",
       "    <tr>\n",
       "      <th>1</th>\n",
       "      <td>B</td>\n",
       "      <td>145381</td>\n",
       "      <td>17290</td>\n",
       "      <td>1533.01</td>\n",
       "    </tr>\n",
       "  </tbody>\n",
       "</table>\n",
       "</div>"
      ],
      "text/plain": [
       "  group  count_visits  count_purchases  sum_price\n",
       "0     A        145307            17487    1417.78\n",
       "1     B        145381            17290    1533.01"
      ]
     },
     "metadata": {},
     "output_type": "display_data"
    },
    {
     "name": "stdout",
     "output_type": "stream",
     "text": [
      "Колличество посещений по группам. A: 145307, B: 145381\n",
      "\n",
      "\n",
      "Сравнительная таблица до и после исключения пересечений\n"
     ]
    },
    {
     "data": {
      "text/html": [
       "<div>\n",
       "<style scoped>\n",
       "    .dataframe tbody tr th:only-of-type {\n",
       "        vertical-align: middle;\n",
       "    }\n",
       "\n",
       "    .dataframe tbody tr th {\n",
       "        vertical-align: top;\n",
       "    }\n",
       "\n",
       "    .dataframe thead tr th {\n",
       "        text-align: left;\n",
       "    }\n",
       "</style>\n",
       "<table border=\"1\" class=\"dataframe\">\n",
       "  <thead>\n",
       "    <tr>\n",
       "      <th></th>\n",
       "      <th colspan=\"2\" halign=\"left\">count_visits</th>\n",
       "      <th colspan=\"2\" halign=\"left\">count_purchases</th>\n",
       "      <th colspan=\"2\" halign=\"left\">sum_price</th>\n",
       "    </tr>\n",
       "    <tr>\n",
       "      <th></th>\n",
       "      <th>before</th>\n",
       "      <th>after</th>\n",
       "      <th>before</th>\n",
       "      <th>after</th>\n",
       "      <th>before</th>\n",
       "      <th>after</th>\n",
       "    </tr>\n",
       "  </thead>\n",
       "  <tbody>\n",
       "    <tr>\n",
       "      <th>0</th>\n",
       "      <td>147202</td>\n",
       "      <td>145307</td>\n",
       "      <td>17723</td>\n",
       "      <td>17487</td>\n",
       "      <td>1436.26</td>\n",
       "      <td>1417.78</td>\n",
       "    </tr>\n",
       "    <tr>\n",
       "      <th>1</th>\n",
       "      <td>147276</td>\n",
       "      <td>145381</td>\n",
       "      <td>17514</td>\n",
       "      <td>17290</td>\n",
       "      <td>1554.10</td>\n",
       "      <td>1533.01</td>\n",
       "    </tr>\n",
       "  </tbody>\n",
       "</table>\n",
       "</div>"
      ],
      "text/plain": [
       "  count_visits         count_purchases        sum_price         \n",
       "        before   after          before  after    before    after\n",
       "0       147202  145307           17723  17487   1436.26  1417.78\n",
       "1       147276  145381           17514  17290   1554.10  1533.01"
      ]
     },
     "metadata": {},
     "output_type": "display_data"
    },
    {
     "name": "stdout",
     "output_type": "stream",
     "text": [
      "\n",
      "Дельта по позициям\n"
     ]
    },
    {
     "data": {
      "text/html": [
       "<div>\n",
       "<style scoped>\n",
       "    .dataframe tbody tr th:only-of-type {\n",
       "        vertical-align: middle;\n",
       "    }\n",
       "\n",
       "    .dataframe tbody tr th {\n",
       "        vertical-align: top;\n",
       "    }\n",
       "\n",
       "    .dataframe thead tr th {\n",
       "        text-align: left;\n",
       "    }\n",
       "</style>\n",
       "<table border=\"1\" class=\"dataframe\">\n",
       "  <thead>\n",
       "    <tr>\n",
       "      <th></th>\n",
       "      <th>count_visits</th>\n",
       "      <th>count_purchases</th>\n",
       "      <th>sum_price</th>\n",
       "    </tr>\n",
       "    <tr>\n",
       "      <th></th>\n",
       "      <th>delta</th>\n",
       "      <th>delta</th>\n",
       "      <th>delta</th>\n",
       "    </tr>\n",
       "  </thead>\n",
       "  <tbody>\n",
       "    <tr>\n",
       "      <th>0</th>\n",
       "      <td>-1895</td>\n",
       "      <td>-236</td>\n",
       "      <td>-18.48</td>\n",
       "    </tr>\n",
       "    <tr>\n",
       "      <th>1</th>\n",
       "      <td>-1895</td>\n",
       "      <td>-224</td>\n",
       "      <td>-21.09</td>\n",
       "    </tr>\n",
       "  </tbody>\n",
       "</table>\n",
       "</div>"
      ],
      "text/plain": [
       "  count_visits count_purchases sum_price\n",
       "         delta           delta     delta\n",
       "0        -1895            -236    -18.48\n",
       "1        -1895            -224    -21.09"
      ]
     },
     "metadata": {},
     "output_type": "display_data"
    }
   ],
   "source": [
    "count_visits = updated_data.groupby(\n",
    "    ['group'])[['user_id']].count().reset_index()\n",
    "purcase_revenue = updated_data.groupby(\n",
    "    ['group'])[['purchase', 'price']].sum().reset_index()\n",
    "\n",
    "cons_df_update = count_visits.merge(purcase_revenue)\n",
    "\n",
    "cons_df_update.rename(\n",
    "    columns={\n",
    "        'user_id': 'count_visits',\n",
    "        'purchase': 'count_purchases',\n",
    "        'price': 'sum_price'\n",
    "    },\n",
    "    inplace=True\n",
    ")\n",
    "cons_df_update['sum_price'] = round(cons_df_update['sum_price']/1000000, 2)\n",
    "\n",
    "print('Консолидированная таблица без пересечений')\n",
    "display(cons_df_update)\n",
    "print(\n",
    "    f'Колличество посещений по группам. A: {cons_df_update[\"count_visits\"][0]}, B: {cons_df_update[\"count_visits\"][1]}\\n')\n",
    "\n",
    "print('\\nСравнительная таблица до и после исключения пересечений')\n",
    "display(cons_df.compare(cons_df_update).rename(columns={'self':'before','other':'after'}))\n",
    "\n",
    "print('\\nДельта по позициям')\n",
    "temp_df = cons_df.compare(cons_df_update).diff(axis=1).rename(columns={'self':'before','other':'delta'})\n",
    "display(temp_df.drop('before', axis=1, level=1))\n"
   ]
  },
  {
   "attachments": {},
   "cell_type": "markdown",
   "id": "b71e1390-9846-4a8e-b357-f82b847d1952",
   "metadata": {},
   "source": [
    "Приведите промежуточные выводы по построенной таблице. Сопоставимо ли количество посещений обоих вариантов посадочной страницы, можно ли говорить о сбалансированности выборок?"
   ]
  },
  {
   "attachments": {},
   "cell_type": "markdown",
   "id": "4ea1b65b-475e-4bff-9460-fac0acdb9620",
   "metadata": {},
   "source": [
    "После проведенной очистки, изменение данных не значительно, распределение клиентов между группами сбалансированно."
   ]
  },
  {
   "attachments": {},
   "cell_type": "markdown",
   "id": "c0d359b8",
   "metadata": {},
   "source": [
    "---"
   ]
  },
  {
   "cell_type": "markdown",
   "id": "afb2ee0a-31d1-45a5-be42-a2bf168b9448",
   "metadata": {
    "tags": []
   },
   "source": [
    "## **Задание 7.6.**\n",
    "\n",
    "Добавьте в сгруппированную таблицу столбцы conversion - конверсия покупки (отношение количества покупок к количеству посещений сайта в каждой группе, выраженное в процентах) и mean_check - средний чек (отношение суммы покупок к количеству покупок в каждой группе).\n",
    "\n",
    "* Чему равна конверсия в группах? Ответ приведите в процентах и округлите до сотых. Например, 75.12 %\n",
    "* Чему равен средний чек в группах? Ответ приведите в рублях и округлите до целых. Например, 120519 рублей."
   ]
  },
  {
   "cell_type": "code",
   "execution_count": 529,
   "id": "bd9c3b3e-5956-41a8-bae0-43693f6de1f2",
   "metadata": {},
   "outputs": [
    {
     "data": {
      "text/html": [
       "<div>\n",
       "<style scoped>\n",
       "    .dataframe tbody tr th:only-of-type {\n",
       "        vertical-align: middle;\n",
       "    }\n",
       "\n",
       "    .dataframe tbody tr th {\n",
       "        vertical-align: top;\n",
       "    }\n",
       "\n",
       "    .dataframe thead th {\n",
       "        text-align: right;\n",
       "    }\n",
       "</style>\n",
       "<table border=\"1\" class=\"dataframe\">\n",
       "  <thead>\n",
       "    <tr style=\"text-align: right;\">\n",
       "      <th></th>\n",
       "      <th>group</th>\n",
       "      <th>count_visits</th>\n",
       "      <th>count_purchases</th>\n",
       "      <th>sum_price</th>\n",
       "      <th>conversion</th>\n",
       "      <th>mean_check</th>\n",
       "    </tr>\n",
       "  </thead>\n",
       "  <tbody>\n",
       "    <tr>\n",
       "      <th>0</th>\n",
       "      <td>A</td>\n",
       "      <td>145307</td>\n",
       "      <td>17487</td>\n",
       "      <td>1417.78</td>\n",
       "      <td>12.03</td>\n",
       "      <td>81076.0</td>\n",
       "    </tr>\n",
       "    <tr>\n",
       "      <th>1</th>\n",
       "      <td>B</td>\n",
       "      <td>145381</td>\n",
       "      <td>17290</td>\n",
       "      <td>1533.01</td>\n",
       "      <td>11.89</td>\n",
       "      <td>88665.0</td>\n",
       "    </tr>\n",
       "  </tbody>\n",
       "</table>\n",
       "</div>"
      ],
      "text/plain": [
       "  group  count_visits  count_purchases  sum_price  conversion  mean_check\n",
       "0     A        145307            17487    1417.78       12.03     81076.0\n",
       "1     B        145381            17290    1533.01       11.89     88665.0"
      ]
     },
     "execution_count": 529,
     "metadata": {},
     "output_type": "execute_result"
    }
   ],
   "source": [
    "cons_df_update['conversion'] = round(cons_df_update['count_purchases']/cons_df_update['count_visits']*100,2)\n",
    "cons_df_update['mean_check'] = round((cons_df_update['sum_price']/cons_df_update['count_purchases'])*1000000)\n",
    "cons_df_update"
   ]
  },
  {
   "cell_type": "markdown",
   "id": "1eb6e140-c702-43e0-b301-9914a7f49448",
   "metadata": {},
   "source": [
    "Приведите промежуточные выводы по таблице. По какому(им) показателю(ям) вариант А эффективнее варианта B и наоборот?"
   ]
  },
  {
   "attachments": {},
   "cell_type": "markdown",
   "id": "9e88c883-84f9-44ec-accd-04d5d459b261",
   "metadata": {},
   "source": [
    "По предварителному анализу можно сказать что вариант лендинга в группе А превосходит вариант в группе В по параметрам:\n",
    "\n",
    "Превосходство А:\n",
    "* Количество успешных покупок (не существенно)\n",
    "* Конверсия (не существенно)\n",
    "\n",
    "Но при этом вариант В опережает по параметрам:\n",
    "\n",
    "Превосходство В:\n",
    "* Общая выручка (существенно)\n",
    "* Средний чек покупки (существенно)\n",
    "\n",
    "В данном случае, опираясь на предварительный анализ, можно заключить, что по ключевым метрикам лендинг представленный в варианте В предпочтительнее.\n"
   ]
  },
  {
   "attachments": {},
   "cell_type": "markdown",
   "id": "7e90e181",
   "metadata": {},
   "source": [
    "----"
   ]
  },
  {
   "cell_type": "markdown",
   "id": "7f9f1ae0-f12f-49b3-8b57-1c299c208c49",
   "metadata": {
    "tags": []
   },
   "source": [
    "## **Задание 7.7.**\n",
    "\n",
    "Теперь давайте сравним варианты по покупательской способности туров. Для этого постройте сводную таблицу, которая покажет зависимость количества продаж от группы и цены тура. "
   ]
  },
  {
   "cell_type": "code",
   "execution_count": 530,
   "id": "78d46a02-cc30-4783-9b18-9fc9c6a08012",
   "metadata": {},
   "outputs": [
    {
     "data": {
      "text/html": [
       "<div>\n",
       "<style scoped>\n",
       "    .dataframe tbody tr th:only-of-type {\n",
       "        vertical-align: middle;\n",
       "    }\n",
       "\n",
       "    .dataframe tbody tr th {\n",
       "        vertical-align: top;\n",
       "    }\n",
       "\n",
       "    .dataframe thead th {\n",
       "        text-align: right;\n",
       "    }\n",
       "</style>\n",
       "<table border=\"1\" class=\"dataframe\">\n",
       "  <thead>\n",
       "    <tr style=\"text-align: right;\">\n",
       "      <th>price</th>\n",
       "      <th>0</th>\n",
       "      <th>10000</th>\n",
       "      <th>60000</th>\n",
       "      <th>100000</th>\n",
       "      <th>150000</th>\n",
       "      <th>200000</th>\n",
       "    </tr>\n",
       "    <tr>\n",
       "      <th>group</th>\n",
       "      <th></th>\n",
       "      <th></th>\n",
       "      <th></th>\n",
       "      <th></th>\n",
       "      <th></th>\n",
       "      <th></th>\n",
       "    </tr>\n",
       "  </thead>\n",
       "  <tbody>\n",
       "    <tr>\n",
       "      <th>A</th>\n",
       "      <td>0</td>\n",
       "      <td>5182</td>\n",
       "      <td>5271</td>\n",
       "      <td>1832</td>\n",
       "      <td>3478</td>\n",
       "      <td>1724</td>\n",
       "    </tr>\n",
       "    <tr>\n",
       "      <th>B</th>\n",
       "      <td>0</td>\n",
       "      <td>5201</td>\n",
       "      <td>1730</td>\n",
       "      <td>5227</td>\n",
       "      <td>3438</td>\n",
       "      <td>1694</td>\n",
       "    </tr>\n",
       "  </tbody>\n",
       "</table>\n",
       "</div>"
      ],
      "text/plain": [
       "price  0       10000   60000   100000  150000  200000\n",
       "group                                                \n",
       "A           0    5182    5271    1832    3478    1724\n",
       "B           0    5201    1730    5227    3438    1694"
      ]
     },
     "execution_count": 530,
     "metadata": {},
     "output_type": "execute_result"
    }
   ],
   "source": [
    "pivot_data = updated_data.pivot_table(\n",
    "    index='group', columns='price', values='purchase', aggfunc='sum')\n",
    "pivot_data\n"
   ]
  },
  {
   "cell_type": "markdown",
   "id": "977423ed-8f8d-475c-b773-621edd95338d",
   "metadata": {},
   "source": [
    "Визуализируйте полученную сводную таблицу с помощью тепловой карты с аннотацией. \n",
    "Чему равно количество проданных туров за 60000 рублей в группах?"
   ]
  },
  {
   "cell_type": "code",
   "execution_count": 531,
   "id": "f634fa8d-585c-42e3-b7d5-78e8d9eaa8c5",
   "metadata": {},
   "outputs": [
    {
     "data": {
      "image/png": "[encoded data removed]",
      "text/plain": [
       "<Figure size 640x480 with 2 Axes>"
      ]
     },
     "metadata": {},
     "output_type": "display_data"
    }
   ],
   "source": [
    "sns.heatmap(pivot_data,annot=True,cmap='Blues',fmt='g');"
   ]
  },
  {
   "cell_type": "markdown",
   "id": "9caa92ca-e261-4b8f-a16c-2abc322c9ffb",
   "metadata": {},
   "source": [
    "Сделайте выводы по построенной таблице. По каким турам покупательская способность участников группы А выше, чем участников группы B и наоборот?"
   ]
  },
  {
   "attachments": {},
   "cell_type": "markdown",
   "id": "6d13fd45-e3df-468f-9d32-1fc45d38b10c",
   "metadata": {},
   "source": [
    "Ключевым различием при сравнении групп А и В, является рокировка по численности между двумя ценовыми группами, в целом распределение в обеих группах в разрезе ценового фактора одинаково, но группа А доминирует в ценовом диапазоне 60 000, уступая при этом в диапазоне 100 000, группа В, напротив доминирует в диапазоне 100 000 уступая в 60 000, в разрезе бизнесс метрики лендинг сценария закрепленный за группой В имеет перевес конверсии в более приоритетной группе."
   ]
  },
  {
   "attachments": {},
   "cell_type": "markdown",
   "id": "bc998282",
   "metadata": {},
   "source": [
    "---"
   ]
  },
  {
   "cell_type": "markdown",
   "id": "8f021fb4-d0f6-4e43-b518-1a96c07a4531",
   "metadata": {
    "tags": []
   },
   "source": [
    "## **Задание 7.8.**\n",
    "\n",
    "Настало время поговорить о стабилизации кумулятивных метрик во времени. Но прежде, чем перейти к кумулятивным метрикам, нам необходимо построить таблицу с ежедневными данными результатов проведения A/B-тестирования.\n",
    "\n",
    "Сгруппируйте данные по дате и группе тестирования. В каждой группе вычислите количество посещений страницы, количество покупок и сумму покупок. \n",
    "\n",
    "Добавьте в таблицу информацию о ежедневной конверсии (ежедневное количество покупок / ежедневное количество посещений) в группе и ежедневном среднем чеке (ежедневная сумма покупок / ежедневное количество покупок)\n",
    "* Чему равна конверсия 3 января 2021 года? Ответ приведите в процентах и округлите до сотых.\n",
    "\n",
    "* Чему равен средний чек 3 января 2021 года? Ответ приведите в рублях и округлите до целого."
   ]
  },
  {
   "cell_type": "code",
   "execution_count": 532,
   "id": "45b6333f",
   "metadata": {},
   "outputs": [],
   "source": [
    "updated_data.insert(2,'visits',1) #технический столбец для будущего расчета посещений\n"
   ]
  },
  {
   "cell_type": "code",
   "execution_count": 533,
   "id": "4503b528-412e-433a-bc03-da7da52fa1a3",
   "metadata": {},
   "outputs": [
    {
     "data": {
      "text/html": [
       "<div>\n",
       "<style scoped>\n",
       "    .dataframe tbody tr th:only-of-type {\n",
       "        vertical-align: middle;\n",
       "    }\n",
       "\n",
       "    .dataframe tbody tr th {\n",
       "        vertical-align: top;\n",
       "    }\n",
       "\n",
       "    .dataframe thead th {\n",
       "        text-align: right;\n",
       "    }\n",
       "</style>\n",
       "<table border=\"1\" class=\"dataframe\">\n",
       "  <thead>\n",
       "    <tr style=\"text-align: right;\">\n",
       "      <th></th>\n",
       "      <th></th>\n",
       "      <th>visits</th>\n",
       "      <th>purchase</th>\n",
       "      <th>price</th>\n",
       "      <th>convertion</th>\n",
       "      <th>avg_check</th>\n",
       "    </tr>\n",
       "    <tr>\n",
       "      <th>date</th>\n",
       "      <th>group</th>\n",
       "      <th></th>\n",
       "      <th></th>\n",
       "      <th></th>\n",
       "      <th></th>\n",
       "      <th></th>\n",
       "    </tr>\n",
       "  </thead>\n",
       "  <tbody>\n",
       "    <tr>\n",
       "      <th rowspan=\"2\" valign=\"top\">2021-01-02</th>\n",
       "      <th>A</th>\n",
       "      <td>2854</td>\n",
       "      <td>359</td>\n",
       "      <td>29410000</td>\n",
       "      <td>12.58</td>\n",
       "      <td>81922.01</td>\n",
       "    </tr>\n",
       "    <tr>\n",
       "      <th>B</th>\n",
       "      <td>2861</td>\n",
       "      <td>345</td>\n",
       "      <td>29660000</td>\n",
       "      <td>12.06</td>\n",
       "      <td>85971.01</td>\n",
       "    </tr>\n",
       "    <tr>\n",
       "      <th rowspan=\"2\" valign=\"top\">2021-01-03</th>\n",
       "      <th>A</th>\n",
       "      <td>6596</td>\n",
       "      <td>748</td>\n",
       "      <td>62000000</td>\n",
       "      <td>11.34</td>\n",
       "      <td>82887.70</td>\n",
       "    </tr>\n",
       "    <tr>\n",
       "      <th>B</th>\n",
       "      <td>6619</td>\n",
       "      <td>754</td>\n",
       "      <td>65960000</td>\n",
       "      <td>11.39</td>\n",
       "      <td>87480.11</td>\n",
       "    </tr>\n",
       "    <tr>\n",
       "      <th>2021-01-04</th>\n",
       "      <th>A</th>\n",
       "      <td>6566</td>\n",
       "      <td>799</td>\n",
       "      <td>64250000</td>\n",
       "      <td>12.17</td>\n",
       "      <td>80413.02</td>\n",
       "    </tr>\n",
       "  </tbody>\n",
       "</table>\n",
       "</div>"
      ],
      "text/plain": [
       "                  visits  purchase     price  convertion  avg_check\n",
       "date       group                                                   \n",
       "2021-01-02 A        2854       359  29410000       12.58   81922.01\n",
       "           B        2861       345  29660000       12.06   85971.01\n",
       "2021-01-03 A        6596       748  62000000       11.34   82887.70\n",
       "           B        6619       754  65960000       11.39   87480.11\n",
       "2021-01-04 A        6566       799  64250000       12.17   80413.02"
      ]
     },
     "execution_count": 533,
     "metadata": {},
     "output_type": "execute_result"
    }
   ],
   "source": [
    "data_day_group = updated_data.groupby(['date','group'])[['visits','purchase','price']].sum()  \n",
    "data_day_group['convertion'] = round(data_day_group['purchase']/data_day_group['visits']*100,2)\n",
    "data_day_group['avg_check'] = round(data_day_group['price']/data_day_group['purchase'],2)\n",
    "data_day_group.head()\n"
   ]
  },
  {
   "cell_type": "code",
   "execution_count": 534,
   "id": "7178b504",
   "metadata": {},
   "outputs": [
    {
     "data": {
      "text/plain": [
       "date        group\n",
       "2021-01-03  A        11.34\n",
       "            B        11.39\n",
       "Name: convertion, dtype: float64"
      ]
     },
     "metadata": {},
     "output_type": "display_data"
    },
    {
     "data": {
      "text/plain": [
       "date        group\n",
       "2021-01-03  A        82888.0\n",
       "            B        87480.0\n",
       "Name: avg_check, dtype: float64"
      ]
     },
     "metadata": {},
     "output_type": "display_data"
    }
   ],
   "source": [
    "display(data_day_group.query(\"date == '2021-01-03'\")['convertion']) #для ответа на вопросы модуля\n",
    "display(data_day_group.query(\"date == '2021-01-03'\")['avg_check'].round())"
   ]
  },
  {
   "attachments": {},
   "cell_type": "markdown",
   "id": "c5546da8",
   "metadata": {},
   "source": [
    "----"
   ]
  },
  {
   "cell_type": "markdown",
   "id": "bc8e241b-1ef1-4f67-ab90-77251889b7f2",
   "metadata": {},
   "source": [
    "## **Задание 7.9.** \n",
    "\n",
    "Добавьте в таблицу с ежедневными показателями кумулятивные признаки:\n",
    "* кумулятивное количество посещений страницы\n",
    "* кумулятивное количество покупок\n",
    "* кумулятивную сумму покупок\n",
    "\n",
    "Не забудьте при расчете кумулятивной суммы сгруппировать данные по группам. \n",
    "\n",
    "Вычислите кумулятивную конверсию и кумулятивный средний чек на основе полученных кумулятивных показателей. \n",
    "\n",
    "* Какая **кумулятивная** конверсия была в группе B на 20 января? Ответ приведите в процентах, округлив до сотых.\n",
    "* Какой **кумулятивный** средний чек был в группе А на 12 января 2021 года? Ответ приведите в рублях, округлив до целых."
   ]
  },
  {
   "cell_type": "code",
   "execution_count": 535,
   "id": "3b40a369",
   "metadata": {},
   "outputs": [
    {
     "data": {
      "text/html": [
       "<div>\n",
       "<style scoped>\n",
       "    .dataframe tbody tr th:only-of-type {\n",
       "        vertical-align: middle;\n",
       "    }\n",
       "\n",
       "    .dataframe tbody tr th {\n",
       "        vertical-align: top;\n",
       "    }\n",
       "\n",
       "    .dataframe thead th {\n",
       "        text-align: right;\n",
       "    }\n",
       "</style>\n",
       "<table border=\"1\" class=\"dataframe\">\n",
       "  <thead>\n",
       "    <tr style=\"text-align: right;\">\n",
       "      <th></th>\n",
       "      <th></th>\n",
       "      <th>visits</th>\n",
       "      <th>purchase</th>\n",
       "      <th>price</th>\n",
       "      <th>convertion</th>\n",
       "      <th>avg_check</th>\n",
       "      <th>cum_visits</th>\n",
       "      <th>cum_purchase</th>\n",
       "      <th>cum_price</th>\n",
       "      <th>cum_avg_check</th>\n",
       "      <th>cum_convertion</th>\n",
       "    </tr>\n",
       "    <tr>\n",
       "      <th>date</th>\n",
       "      <th>group</th>\n",
       "      <th></th>\n",
       "      <th></th>\n",
       "      <th></th>\n",
       "      <th></th>\n",
       "      <th></th>\n",
       "      <th></th>\n",
       "      <th></th>\n",
       "      <th></th>\n",
       "      <th></th>\n",
       "      <th></th>\n",
       "    </tr>\n",
       "  </thead>\n",
       "  <tbody>\n",
       "    <tr>\n",
       "      <th rowspan=\"2\" valign=\"top\">2021-01-02</th>\n",
       "      <th>A</th>\n",
       "      <td>2854</td>\n",
       "      <td>359</td>\n",
       "      <td>29410000</td>\n",
       "      <td>12.58</td>\n",
       "      <td>81922.01</td>\n",
       "      <td>2854</td>\n",
       "      <td>359</td>\n",
       "      <td>29410000</td>\n",
       "      <td>81922.005571</td>\n",
       "      <td>12.58</td>\n",
       "    </tr>\n",
       "    <tr>\n",
       "      <th>B</th>\n",
       "      <td>2861</td>\n",
       "      <td>345</td>\n",
       "      <td>29660000</td>\n",
       "      <td>12.06</td>\n",
       "      <td>85971.01</td>\n",
       "      <td>2861</td>\n",
       "      <td>345</td>\n",
       "      <td>29660000</td>\n",
       "      <td>85971.014493</td>\n",
       "      <td>12.06</td>\n",
       "    </tr>\n",
       "    <tr>\n",
       "      <th rowspan=\"2\" valign=\"top\">2021-01-03</th>\n",
       "      <th>A</th>\n",
       "      <td>6596</td>\n",
       "      <td>748</td>\n",
       "      <td>62000000</td>\n",
       "      <td>11.34</td>\n",
       "      <td>82887.70</td>\n",
       "      <td>9450</td>\n",
       "      <td>1107</td>\n",
       "      <td>91410000</td>\n",
       "      <td>82574.525745</td>\n",
       "      <td>11.71</td>\n",
       "    </tr>\n",
       "    <tr>\n",
       "      <th>B</th>\n",
       "      <td>6619</td>\n",
       "      <td>754</td>\n",
       "      <td>65960000</td>\n",
       "      <td>11.39</td>\n",
       "      <td>87480.11</td>\n",
       "      <td>9480</td>\n",
       "      <td>1099</td>\n",
       "      <td>95620000</td>\n",
       "      <td>87006.369427</td>\n",
       "      <td>11.59</td>\n",
       "    </tr>\n",
       "    <tr>\n",
       "      <th>2021-01-04</th>\n",
       "      <th>A</th>\n",
       "      <td>6566</td>\n",
       "      <td>799</td>\n",
       "      <td>64250000</td>\n",
       "      <td>12.17</td>\n",
       "      <td>80413.02</td>\n",
       "      <td>16016</td>\n",
       "      <td>1906</td>\n",
       "      <td>155660000</td>\n",
       "      <td>81668.415530</td>\n",
       "      <td>11.90</td>\n",
       "    </tr>\n",
       "  </tbody>\n",
       "</table>\n",
       "</div>"
      ],
      "text/plain": [
       "                  visits  purchase     price  convertion  avg_check  \\\n",
       "date       group                                                      \n",
       "2021-01-02 A        2854       359  29410000       12.58   81922.01   \n",
       "           B        2861       345  29660000       12.06   85971.01   \n",
       "2021-01-03 A        6596       748  62000000       11.34   82887.70   \n",
       "           B        6619       754  65960000       11.39   87480.11   \n",
       "2021-01-04 A        6566       799  64250000       12.17   80413.02   \n",
       "\n",
       "                  cum_visits  cum_purchase  cum_price  cum_avg_check  \\\n",
       "date       group                                                       \n",
       "2021-01-02 A            2854           359   29410000   81922.005571   \n",
       "           B            2861           345   29660000   85971.014493   \n",
       "2021-01-03 A            9450          1107   91410000   82574.525745   \n",
       "           B            9480          1099   95620000   87006.369427   \n",
       "2021-01-04 A           16016          1906  155660000   81668.415530   \n",
       "\n",
       "                  cum_convertion  \n",
       "date       group                  \n",
       "2021-01-02 A               12.58  \n",
       "           B               12.06  \n",
       "2021-01-03 A               11.71  \n",
       "           B               11.59  \n",
       "2021-01-04 A               11.90  "
      ]
     },
     "metadata": {},
     "output_type": "display_data"
    },
    {
     "data": {
      "text/plain": [
       "date        group\n",
       "2021-01-20  B        11.9\n",
       "Name: cum_convertion, dtype: float64"
      ]
     },
     "metadata": {},
     "output_type": "display_data"
    },
    {
     "data": {
      "text/plain": [
       "date        group\n",
       "2021-01-12  A        81491.827275\n",
       "Name: cum_avg_check, dtype: float64"
      ]
     },
     "metadata": {},
     "output_type": "display_data"
    }
   ],
   "source": [
    "# добавляем кумулятивные метрики\n",
    "data_day_group['cum_visits'] = data_day_group.groupby('group')['visits'].cumsum()\n",
    "\n",
    "data_day_group['cum_purchase'] = data_day_group.groupby('group')['purchase'].cumsum()\n",
    "\n",
    "data_day_group['cum_price'] = data_day_group.groupby('group')['price'].cumsum()\n",
    "\n",
    "data_day_group['cum_avg_check'] = data_day_group['cum_price']/data_day_group['cum_purchase']\n",
    "\n",
    "data_day_group['cum_convertion'] = round(\n",
    "    data_day_group['cum_purchase']/data_day_group['cum_visits']*100, 2)\n",
    "\n",
    "\n",
    "display(data_day_group.head(), data_day_group.query(\"date == '2021-01-20' and group == 'B'\")\n",
    "        ['cum_convertion'], data_day_group.query(\"date == '2021-01-12' and group =='A'\")['cum_avg_check'])"
   ]
  },
  {
   "cell_type": "markdown",
   "id": "c252b8ba-371b-4795-8fc3-a62317e9ba39",
   "metadata": {},
   "source": [
    "Постройте кумулятивные графики конверсии и среднего чека в каждой группе по дням. Сделайте выводы. Можно ли назвать A/B-тест завершенным - стабилизировались ли значения метрик во времени? Как соотносятся кумулятивные показатели в каждой группе?"
   ]
  },
  {
   "cell_type": "code",
   "execution_count": 536,
   "id": "27e23d20-7ed6-4a26-973d-6d0320b81adb",
   "metadata": {},
   "outputs": [
    {
     "data": {
      "image/png": "[encoded data removed]",
      "text/plain": [
       "<Figure size 1500x1000 with 2 Axes>"
      ]
     },
     "metadata": {},
     "output_type": "display_data"
    }
   ],
   "source": [
    "fig, axes = plt.subplots(nrows=2, ncols=1, figsize=(15, 10))\n",
    "\n",
    "sns.lineplot(\n",
    "    data=data_day_group,\n",
    "    x='date',\n",
    "    y='cum_convertion',\n",
    "    hue='group',\n",
    "    ax=axes[0]\n",
    ")\n",
    "\n",
    "sns.lineplot(\n",
    "    data=data_day_group,\n",
    "    x='date',\n",
    "    y='cum_avg_check',\n",
    "    hue='group',\n",
    "    ax=axes[1]\n",
    ")\n",
    "\n",
    "axes[0].set_title('Кумулятивная конверсия по группам')\n",
    "axes[1].set_title('Кумулятивный средний чек')\n",
    "\n",
    "axes[0].grid(True)\n",
    "axes[1].grid(True);"
   ]
  },
  {
   "attachments": {},
   "cell_type": "markdown",
   "id": "f645f8e5-ad16-4b3b-8228-fbdeeb286833",
   "metadata": {},
   "source": [
    "Исходя из графиков стабилизация конверсии произошла после 05.01 до этого момента можно наблюдать аномальное поведение кривых в обеих группах дельта между пиками составляет ~0.5-0.8 пунктов(что в масштабах метрики существенно).\n",
    "\n",
    "Что касается кумулятивного среднего чека, можно сказать, что окончательно метрика стабилизировалась ~ 10.01, но стоит отметить, что в отличие от кумулятивной конверсии, границы флуктуаций среднего чека более узкие и сами флуктуации не вносят значительного шума в метрику начиная так же с 05.01.\n",
    "\n",
    "Конверсия по группе А незначительно выше чем группы В, при том кумулятивный средний чек, наоборот выше, и при том значительно, в группе В.\n",
    "Исходя из этого подтверждается предыдущий вывод дискретного анализа метрик и в случае кумулятивного прироста.\n",
    "\n",
    "На мой взгляд, для большей достоверности стоило увеличить срок эксперимента с 1 до 2 месяцев, хотя и в данном случае для анализа и выводов по ключевым бизнес метрикам достаточно информации."
   ]
  },
  {
   "attachments": {},
   "cell_type": "markdown",
   "id": "7e6ec120",
   "metadata": {},
   "source": [
    "----"
   ]
  },
  {
   "cell_type": "markdown",
   "id": "2ecaa382-56e2-47f4-b086-24b4742570a3",
   "metadata": {
    "tags": []
   },
   "source": [
    "## **Задание 7.10.**\n",
    "\n",
    "Настало время переходить к проверке статистической значимости разницы между метриками в группах. Начнем с конверсии.\n",
    "\n",
    "Какой тест вы примените для проверки гипотезы о равенстве конверсий в группах?\n",
    "\n",
    "Проведите тестирование при следующих нулевой и альтернативной гипотезе:\n",
    "* $H_0$: Конверсии в группах А и B равны; \n",
    "* $H_1$: Конверсия в группе А больше чем конверсия в группе B;\n",
    "\n",
    "Вычислите p-value вашего теста для конверсий в группах А и B. Сравните полученное значение p-value с уровнем значимости $\\alpha$=0.05. "
   ]
  },
  {
   "cell_type": "code",
   "execution_count": 537,
   "id": "9dd1f6fd-2fa0-4a2f-8181-dbed4c302bce",
   "metadata": {},
   "outputs": [
    {
     "name": "stdout",
     "output_type": "stream",
     "text": [
      "Конверсии в группах А и B равны. p_value = 0.1197\n"
     ]
    }
   ],
   "source": [
    "H0 = 'Конверсии в группах А и B равны.'\n",
    "H1 = 'Конверсия в группе А больше чем конверсия в группе B.'\n",
    "\n",
    "alpha = 0.05\n",
    "\n",
    "test_df = updated_data.groupby('group')['purchase'].agg(['sum', 'count'])\n",
    "test_df.head()\n",
    "\n",
    "_, p_value = proportions_ztest(\n",
    "    count=test_df['sum'],\n",
    "    nobs=test_df['count'],\n",
    "    alternative='larger'\n",
    ")\n",
    "\n",
    "if alpha > p_value:\n",
    "    print(H1,f'p_value = {round(p_value,4)}')\n",
    "else:\n",
    "    print(H0,f'p_value = {round(p_value,4)}')"
   ]
  },
  {
   "cell_type": "markdown",
   "id": "da794b48-80e3-47af-aceb-084a1862c86b",
   "metadata": {},
   "source": [
    "Приведите свои выводы по результатам проведенного статистического теста. Есть ли статистическая разница между конверсиями в группах А и B?"
   ]
  },
  {
   "attachments": {},
   "cell_type": "markdown",
   "id": "75dddb06-389d-4d65-92c7-425efa28e51a",
   "metadata": {},
   "source": [
    "Исходя из результатов z-теста на пропорцию, статистической разницы в конверсии между группами нет."
   ]
  },
  {
   "attachments": {},
   "cell_type": "markdown",
   "id": "f7f525ea",
   "metadata": {},
   "source": [
    "----"
   ]
  },
  {
   "cell_type": "markdown",
   "id": "32c5a1af-8cb2-4f3c-a126-410b70fb3ff3",
   "metadata": {
    "tags": []
   },
   "source": [
    "## **Задание 7.11.**\n",
    "Убедитесь в своих рассуждениях, построив 95%-ый доверительный интервал для конверсий и разницы между ними. Используйте $z_{крит}$ в своих расчетах\n",
    "\n",
    "Укажите нижнюю и верхнюю границы доверительных интервалов. Границы приведите в процентах и округлите до 2 знака после запятой. Например: нижняя граница 89.24%, верхняя граница 91.25%."
   ]
  },
  {
   "cell_type": "code",
   "execution_count": 538,
   "id": "c59a4e96",
   "metadata": {},
   "outputs": [
    {
     "name": "stdout",
     "output_type": "stream",
     "text": [
      "Доверительный интервал для группы А: (11.87, 12.2)\n",
      "Доверительный интервал для группы А: (11.73, 12.06)\n",
      "Доверительный интервал для разницы конверсий: (-0.38, 0.09)\n"
     ]
    }
   ],
   "source": [
    "#Расчет доверительного интервала для конверсий по группам\n",
    "gamma_ = 0.95\n",
    "\n",
    "#Параметры для группы А\n",
    "n_a = updated_data.query(\"group == 'A'\")['user_id'].count()\n",
    "x_p_a = updated_data.query(\"group == 'A'\")['purchase'].mean()\n",
    "lower_a, upper_a,_ = proportions_conf_interval(n=n_a, x_p=x_p_a, gamma=gamma_)\n",
    "\n",
    "#Параметры для группы В\n",
    "n_b = updated_data.query(\"group == 'B'\")['user_id'].count()\n",
    "x_p_b = updated_data.query(\"group == 'B'\")['purchase'].mean()\n",
    "lower_b, upper_b,_ = proportions_conf_interval(n=n_b, x_p=x_p_b, gamma=gamma_)\n",
    "\n",
    "#Расчет доверительного интервала для разницы конверсий\n",
    "n = [n_a, n_b]\n",
    "x_p = [x_p_a, x_p_b]\n",
    "lower, upper = diff_proportions_conf_interval(n=n, x_p=x_p, gamma=gamma_)\n",
    "\n",
    "print(f'Доверительный интервал для группы А: {lower_a, upper_a}')\n",
    "print(f'Доверительный интервал для группы А: {lower_b, upper_b}')\n",
    "print(f'Доверительный интервал для разницы конверсий: {lower, upper}')"
   ]
  },
  {
   "cell_type": "markdown",
   "id": "9332372d-66b2-45e9-a74c-f5d8b1d44afb",
   "metadata": {},
   "source": [
    "Проинтерпретируйте построенные доверительные интервалы для конверсий в группах. Есть ли перекрытие между доверительными интервалами для групп? Есть ли статистическая разница между конверсиями в группах А и B?"
   ]
  },
  {
   "attachments": {},
   "cell_type": "markdown",
   "id": "3d7ae49b-3662-4f8d-b7a2-c22a70b47bb8",
   "metadata": {},
   "source": [
    "Исходя из полученных данных можно отметить почти полное перекрытие доверитеотных интервалов групп и отсутствие статистически существенной разницы между конверсиями групп А и В."
   ]
  },
  {
   "attachments": {},
   "cell_type": "markdown",
   "id": "d9b9c715",
   "metadata": {},
   "source": [
    "---"
   ]
  },
  {
   "cell_type": "markdown",
   "id": "73c54883-b919-4889-bbf2-e1bdeb0b7055",
   "metadata": {},
   "source": [
    "## **Задание 7.12.**\n",
    "\n",
    "Ранее мы построили таблицу с ежедневными показателями. Теперь она нам снова понадобится, так как нас интересует ежедневный средний чек.\n",
    "\n",
    "Проверьте гипотезу о нормальности распределения ежедневного среднего чека в каждой из групп тестирования. \n",
    "\n",
    "* Какой тест вы примените  для проверки гипотезы о нормальности распределения ежедневного среднего чека?\n",
    "* Как будут звучать нулевая и альтернативная гипотезы?\n",
    "* Каковы результаты статистического теста с уровнем значимости $\\alpha$ =0.05?"
   ]
  },
  {
   "cell_type": "code",
   "execution_count": 539,
   "id": "1d5fe03a",
   "metadata": {},
   "outputs": [
    {
     "name": "stdout",
     "output_type": "stream",
     "text": [
      "Распределение обеих групп нормальное\n"
     ]
    }
   ],
   "source": [
    "# Применяем тест Шапиро-Уилка.\n",
    "alpha = 0.05\n",
    "H0 = 'Распределение обеих групп нормальное'\n",
    "H1 = 'Распределение в одной или обеих группах отлично от нормального'\n",
    "\n",
    "_, p_value_a = shapiro(data_day_group.query(\"group == 'A'\")['avg_check'])\n",
    "_, p_value_b = shapiro(data_day_group.query(\"group == 'B'\")['avg_check'])\n",
    "\n",
    "if alpha < p_value_a and alpha < p_value_b:\n",
    "    print(H0)\n",
    "else:\n",
    "    print(H1)\n"
   ]
  },
  {
   "attachments": {},
   "cell_type": "markdown",
   "id": "42579a4a",
   "metadata": {},
   "source": [
    "---"
   ]
  },
  {
   "cell_type": "markdown",
   "id": "cbddecf9-4d15-4ff1-84e9-46c4d98fc1e0",
   "metadata": {
    "tags": []
   },
   "source": [
    "## **Задание 7.13.**\n",
    "Настало время сравнить варианты дизайна страницы по метрике среднего чека. \n",
    "\n",
    "Какой тест вы примените для проверки гипотезы о равенстве средних чеков по дням в группах?\n",
    "\n",
    "Проведите тестирование при следующих нулевой и альтернативной гипотезе:\n",
    "* $H_0$: Ежедневные средние чеки в группах А и B равны; \n",
    "* $H_1$: Ежедневный средний чек в группе А меньше чем в группе B;\n",
    "\n",
    "Вычислите p-value вашего теста для ежедневного среднего чека в группах А и B. Сравните полученное значение p-value с уровнем значимости $\\alpha$ =0.05. "
   ]
  },
  {
   "cell_type": "code",
   "execution_count": 540,
   "id": "05d43f23-2c2d-4795-bb96-1ffbfe81c391",
   "metadata": {},
   "outputs": [
    {
     "name": "stdout",
     "output_type": "stream",
     "text": [
      "Ежедневный средний чек в группе А меньше чем в группе B\n"
     ]
    }
   ],
   "source": [
    "# Используем независимый t-тест\n",
    "alpha = 0.05\n",
    "H0 = 'Ежедневные средние чеки в группах А и B равны'\n",
    "H1 = 'Ежедневный средний чек в группе А меньше чем в группе B'\n",
    "\n",
    "a = data_day_group.query(\"group == 'A'\")[\n",
    "    'avg_check']  # массив по среднему чеку А\n",
    "b = data_day_group.query(\"group == 'B'\")[\n",
    "    'avg_check']  # массив по среднему чеку В\n",
    "\n",
    "_, result = ttest_ind(a=a, b=b, alternative='less')\n",
    "\n",
    "if alpha < result:\n",
    "    print(H0)\n",
    "else:\n",
    "    print(H1)\n"
   ]
  },
  {
   "cell_type": "markdown",
   "id": "8534ab25-68b8-48f7-b2c1-ef1b72d8a767",
   "metadata": {},
   "source": [
    " Приведите свои выводы по проведенному статистическому тесту. Есть ли статистическая разница между ежедневными средними чеками в группах А и B?"
   ]
  },
  {
   "attachments": {},
   "cell_type": "markdown",
   "id": "d8258dfd-14e7-4af4-bc6c-19ea8932eab5",
   "metadata": {},
   "source": [
    "T-test подтвердил ранее выдвинутую гипотезу (основанную на визуальном анализе кумулятивного среднего чека групп) о том что средний чек группы А меньше среднего чека группы В. Исходя из того что данная метрика является одной из ключевых при анализе варианта лендинга, можно заключить, что вариант В- является приоритетным для реализации."
   ]
  },
  {
   "attachments": {},
   "cell_type": "markdown",
   "id": "b6519b08",
   "metadata": {},
   "source": [
    "----"
   ]
  },
  {
   "cell_type": "markdown",
   "id": "5e46c9a6-a943-48b4-ad72-935337469613",
   "metadata": {
    "tags": []
   },
   "source": [
    "## **Задание 7.14.**\n",
    "\n",
    "Постройте 95%-ый доверительный интервал для среднего чека в каждой группе. Так как выборка средних чеков небольшая, используйте  $t_{крит}$ в своих расчетах.\n",
    "\n",
    "Укажите нижнюю границу доверительного интервала для истинного среднего чека каждой из групп. Ответ приведите в процентах и округлите до целого."
   ]
  },
  {
   "cell_type": "code",
   "execution_count": 543,
   "id": "480430db-ffae-4aad-8e22-f5c70d4800b8",
   "metadata": {},
   "outputs": [
    {
     "name": "stdout",
     "output_type": "stream",
     "text": [
      "Группа А. Нижняя граница: 79630, верхняя граница: 82308\n",
      "Группа B. Нижняя граница: 87626, верхняя граница: 89526\n",
      "Пересечения: set()\n"
     ]
    }
   ],
   "source": [
    "#Доверительный интервал для группы А\n",
    "n_a = data_day_group.query(\"group == 'A'\")['avg_check'].count()\n",
    "x_mean_a = data_day_group.query(\"group == 'A'\")['avg_check'].mean()\n",
    "x_std_a = data_day_group.query(\"group == 'A'\")['avg_check'].std()\n",
    "\n",
    "\n",
    "\n",
    "lower_a, upper_a, _ = confidence_interval(n=n_a, x_mean=x_mean_a, x_std=x_std_a)\n",
    "print(f'Группа А. Нижняя граница: {round(lower_a)}, верхняя граница: {round(upper_a)}')\n",
    "\n",
    "#Доверительный интервал для группы В\n",
    "n_b = data_day_group.query(\"group == 'B'\")['avg_check'].count()\n",
    "x_mean_b = data_day_group.query(\"group == 'B'\")['avg_check'].mean()\n",
    "x_std_b = data_day_group.query(\"group == 'B'\")['avg_check'].std()\n",
    "\n",
    "\n",
    "\n",
    "lower_b, upper_b, _ = confidence_interval(n=n_b, x_mean=x_mean_b, x_std=x_std_b)\n",
    "print(f'Группа B. Нижняя граница: {round(lower_b)}, верхняя граница: {round(upper_b)}')\n",
    "print(f'Пересечения: {set([lower_a,upper_a]).intersection(set([lower_b,upper_b]))}')"
   ]
  },
  {
   "cell_type": "markdown",
   "id": "74a78db8-48f7-41d2-94cb-faefb30b8f76",
   "metadata": {},
   "source": [
    "Проинтерпретируйте построенные доверительные интервалы для ежедневных средних чеков в группах. Есть ли между ними пересечения?"
   ]
  },
  {
   "attachments": {},
   "cell_type": "markdown",
   "id": "1ab3aad1-f4fd-485f-85ef-274a27fe7563",
   "metadata": {},
   "source": [
    "Доверительные интервалы вероятностного распределения среднего чека для групп А и В сооттветсвуют диапазонам (79 630, 82 308) и (87 626, 89 526) соотвественно. Пересечение распределений отсутсвует. В разрезе бизнес логики лендинг с использованием варианта В является предпочтительным."
   ]
  },
  {
   "attachments": {},
   "cell_type": "markdown",
   "id": "ad23dd13",
   "metadata": {},
   "source": [
    "----"
   ]
  },
  {
   "cell_type": "markdown",
   "id": "c078852f-892f-42ed-8d78-73edf8eb1f5e",
   "metadata": {
    "tags": []
   },
   "source": [
    "## **Сделайте общий вывод по результатам A/B-теста**\n",
    "\n",
    "Какой варианта дизайна посадочной страницы является более эффективным в комплексе по метрикам конверсии и среднего чека и почему? "
   ]
  },
  {
   "attachments": {},
   "cell_type": "markdown",
   "id": "25d352ad",
   "metadata": {},
   "source": [
    "Проведенные исследования выявили два момента:\n",
    "1) Касательно конверсии, тесты показали пересечение интервалов обоих вариантов с отсутствием статистически значимой разницы, что говорит о том, что касательно данной метрики сценарии лендинга не имеют значительной разницы.\n",
    "2) Касательно оценки среднего чека, сценарий протестированный на группе В показывает значительное превосходство над сценарием А.\n",
    "Резюмирую можно сказать, что вариант В при его реализации даст прирост среднего чека (и совокупной выручки), но практически не повлияет на конверсию."
   ]
  }
 ],
 "metadata": {
  "kernelspec": {
   "display_name": "Python 3",
   "language": "python",
   "name": "python3"
  },
  "language_info": {
   "codemirror_mode": {
    "name": "ipython",
    "version": 3
   },
   "file_extension": ".py",
   "mimetype": "text/x-python",
   "name": "python",
   "nbconvert_exporter": "python",
   "pygments_lexer": "ipython3",
   "version": "3.11.1"
  },
  "vscode": {
   "interpreter": {
    "hash": "aee8b7b246df8f9039afb4144a1f6fd8d2ca17a180786b69acc140d282b71a49"
   }
  }
 },
 "nbformat": 4,
 "nbformat_minor": 5
}
