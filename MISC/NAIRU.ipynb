{
 "cells": [
  {
   "cell_type": "code",
   "execution_count": 74,
   "id": "b9e46733",
   "metadata": {},
   "outputs": [],
   "source": [
    "import numpy as np\n",
    "import pandas as pd\n",
    "from statsmodels.tsa.statespace.mlemodel import MLEModel\n",
    "from statsmodels.tools.sm_exceptions import ValueWarning\n",
    "from sklearn.preprocessing import StandardScaler\n",
    "\n",
    "import matplotlib.pyplot as plt\n",
    "import warnings\n",
    "\n",
    "# Подавляем предупреждения\n",
    "warnings.simplefilter('ignore', ValueWarning)"
   ]
  },
  {
   "cell_type": "code",
   "execution_count": 75,
   "id": "ffe1cd70",
   "metadata": {},
   "outputs": [
    {
     "data": {
      "application/vnd.microsoft.datawrangler.viewer.v0+json": {
       "columns": [
        {
         "name": "Date",
         "rawType": "datetime64[ns]",
         "type": "datetime"
        },
        {
         "name": "Inflation",
         "rawType": "float64",
         "type": "float"
        },
        {
         "name": "Unempoyment",
         "rawType": "float64",
         "type": "float"
        }
       ],
       "ref": "99d00f50-b5e7-4a7d-ab5f-80b7a001f412",
       "rows": [
        [
         "2016-01-01 00:00:00",
         "7.09",
         "7.0"
        ],
        [
         "2017-01-01 00:00:00",
         "3.7",
         "6.6"
        ],
        [
         "2018-01-01 00:00:00",
         "2.88",
         "6.1"
        ],
        [
         "2019-01-01 00:00:00",
         "4.48",
         "6.5"
        ],
        [
         "2020-01-01 00:00:00",
         "3.38",
         "7.8"
        ],
        [
         "2021-01-01 00:00:00",
         "6.68",
         "6.4"
        ],
        [
         "2022-01-01 00:00:00",
         "13.75",
         "5.2"
        ],
        [
         "2023-01-01 00:00:00",
         "5.95",
         "4.2"
        ],
        [
         "2024-01-01 00:00:00",
         "8.44",
         "3.5"
        ]
       ],
       "shape": {
        "columns": 2,
        "rows": 9
       }
      },
      "text/html": [
       "<div>\n",
       "<style scoped>\n",
       "    .dataframe tbody tr th:only-of-type {\n",
       "        vertical-align: middle;\n",
       "    }\n",
       "\n",
       "    .dataframe tbody tr th {\n",
       "        vertical-align: top;\n",
       "    }\n",
       "\n",
       "    .dataframe thead th {\n",
       "        text-align: right;\n",
       "    }\n",
       "</style>\n",
       "<table border=\"1\" class=\"dataframe\">\n",
       "  <thead>\n",
       "    <tr style=\"text-align: right;\">\n",
       "      <th></th>\n",
       "      <th>Inflation</th>\n",
       "      <th>Unempoyment</th>\n",
       "    </tr>\n",
       "    <tr>\n",
       "      <th>Date</th>\n",
       "      <th></th>\n",
       "      <th></th>\n",
       "    </tr>\n",
       "  </thead>\n",
       "  <tbody>\n",
       "    <tr>\n",
       "      <th>2016-01-01</th>\n",
       "      <td>7.09</td>\n",
       "      <td>7.0</td>\n",
       "    </tr>\n",
       "    <tr>\n",
       "      <th>2017-01-01</th>\n",
       "      <td>3.70</td>\n",
       "      <td>6.6</td>\n",
       "    </tr>\n",
       "    <tr>\n",
       "      <th>2018-01-01</th>\n",
       "      <td>2.88</td>\n",
       "      <td>6.1</td>\n",
       "    </tr>\n",
       "    <tr>\n",
       "      <th>2019-01-01</th>\n",
       "      <td>4.48</td>\n",
       "      <td>6.5</td>\n",
       "    </tr>\n",
       "    <tr>\n",
       "      <th>2020-01-01</th>\n",
       "      <td>3.38</td>\n",
       "      <td>7.8</td>\n",
       "    </tr>\n",
       "    <tr>\n",
       "      <th>2021-01-01</th>\n",
       "      <td>6.68</td>\n",
       "      <td>6.4</td>\n",
       "    </tr>\n",
       "    <tr>\n",
       "      <th>2022-01-01</th>\n",
       "      <td>13.75</td>\n",
       "      <td>5.2</td>\n",
       "    </tr>\n",
       "    <tr>\n",
       "      <th>2023-01-01</th>\n",
       "      <td>5.95</td>\n",
       "      <td>4.2</td>\n",
       "    </tr>\n",
       "    <tr>\n",
       "      <th>2024-01-01</th>\n",
       "      <td>8.44</td>\n",
       "      <td>3.5</td>\n",
       "    </tr>\n",
       "  </tbody>\n",
       "</table>\n",
       "</div>"
      ],
      "text/plain": [
       "            Inflation  Unempoyment\n",
       "Date                              \n",
       "2016-01-01       7.09          7.0\n",
       "2017-01-01       3.70          6.6\n",
       "2018-01-01       2.88          6.1\n",
       "2019-01-01       4.48          6.5\n",
       "2020-01-01       3.38          7.8\n",
       "2021-01-01       6.68          6.4\n",
       "2022-01-01      13.75          5.2\n",
       "2023-01-01       5.95          4.2\n",
       "2024-01-01       8.44          3.5"
      ]
     },
     "execution_count": 75,
     "metadata": {},
     "output_type": "execute_result"
    }
   ],
   "source": [
    "data = pd.read_excel(\"./data/Infl_unempl.xlsx\", parse_dates=[\"Date\"])\n",
    "data = data.dropna()\n",
    "data = data.sort_values(\"Date\").reset_index(drop=True)\n",
    "data.set_index(\"Date\", inplace=True)\n",
    "data"
   ]
  },
  {
   "cell_type": "code",
   "execution_count": 76,
   "id": "a574f27e",
   "metadata": {},
   "outputs": [],
   "source": [
    "inflation = data[\"Inflation\"]\n",
    "unemployment = data[\"Unempoyment\"]"
   ]
  },
  {
   "cell_type": "code",
   "execution_count": 77,
   "id": "51fb34cc",
   "metadata": {},
   "outputs": [
    {
     "data": {
      "application/vnd.microsoft.datawrangler.viewer.v0+json": {
       "columns": [
        {
         "name": "index",
         "rawType": "object",
         "type": "string"
        },
        {
         "name": "Inflation",
         "rawType": "float64",
         "type": "float"
        },
        {
         "name": "Unempoyment",
         "rawType": "float64",
         "type": "float"
        }
       ],
       "ref": "329014cb-7de4-4ce6-9e3a-90997eee1c9d",
       "rows": [
        [
         "Inflation",
         "1.0",
         "-0.48048261290799754"
        ],
        [
         "Unempoyment",
         "-0.48048261290799754",
         "1.0"
        ]
       ],
       "shape": {
        "columns": 2,
        "rows": 2
       }
      },
      "text/html": [
       "<div>\n",
       "<style scoped>\n",
       "    .dataframe tbody tr th:only-of-type {\n",
       "        vertical-align: middle;\n",
       "    }\n",
       "\n",
       "    .dataframe tbody tr th {\n",
       "        vertical-align: top;\n",
       "    }\n",
       "\n",
       "    .dataframe thead th {\n",
       "        text-align: right;\n",
       "    }\n",
       "</style>\n",
       "<table border=\"1\" class=\"dataframe\">\n",
       "  <thead>\n",
       "    <tr style=\"text-align: right;\">\n",
       "      <th></th>\n",
       "      <th>Inflation</th>\n",
       "      <th>Unempoyment</th>\n",
       "    </tr>\n",
       "  </thead>\n",
       "  <tbody>\n",
       "    <tr>\n",
       "      <th>Inflation</th>\n",
       "      <td>1.000000</td>\n",
       "      <td>-0.480483</td>\n",
       "    </tr>\n",
       "    <tr>\n",
       "      <th>Unempoyment</th>\n",
       "      <td>-0.480483</td>\n",
       "      <td>1.000000</td>\n",
       "    </tr>\n",
       "  </tbody>\n",
       "</table>\n",
       "</div>"
      ],
      "text/plain": [
       "             Inflation  Unempoyment\n",
       "Inflation     1.000000    -0.480483\n",
       "Unempoyment  -0.480483     1.000000"
      ]
     },
     "execution_count": 77,
     "metadata": {},
     "output_type": "execute_result"
    }
   ],
   "source": [
    "data[['Inflation', 'Unempoyment']].corr()"
   ]
  },
  {
   "cell_type": "code",
   "execution_count": 78,
   "id": "2791a64a",
   "metadata": {},
   "outputs": [
    {
     "data": {
      "application/vnd.microsoft.datawrangler.viewer.v0+json": {
       "columns": [
        {
         "name": "Date",
         "rawType": "datetime64[ns]",
         "type": "datetime"
        },
        {
         "name": "Unempoyment",
         "rawType": "float64",
         "type": "float"
        }
       ],
       "ref": "980205d0-c9d2-45a8-8a01-7bf0cdb7a174",
       "rows": [
        [
         "2016-01-01 00:00:00",
         "7.0"
        ],
        [
         "2017-01-01 00:00:00",
         "6.6"
        ],
        [
         "2018-01-01 00:00:00",
         "6.1"
        ],
        [
         "2019-01-01 00:00:00",
         "6.5"
        ],
        [
         "2020-01-01 00:00:00",
         "7.8"
        ],
        [
         "2021-01-01 00:00:00",
         "6.4"
        ],
        [
         "2022-01-01 00:00:00",
         "5.2"
        ],
        [
         "2023-01-01 00:00:00",
         "4.2"
        ],
        [
         "2024-01-01 00:00:00",
         "3.5"
        ]
       ],
       "shape": {
        "columns": 1,
        "rows": 9
       }
      },
      "text/plain": [
       "Date\n",
       "2016-01-01    7.0\n",
       "2017-01-01    6.6\n",
       "2018-01-01    6.1\n",
       "2019-01-01    6.5\n",
       "2020-01-01    7.8\n",
       "2021-01-01    6.4\n",
       "2022-01-01    5.2\n",
       "2023-01-01    4.2\n",
       "2024-01-01    3.5\n",
       "Name: Unempoyment, dtype: float64"
      ]
     },
     "execution_count": 78,
     "metadata": {},
     "output_type": "execute_result"
    }
   ],
   "source": [
    "unemployment"
   ]
  },
  {
   "cell_type": "code",
   "execution_count": 79,
   "id": "fd61f87c",
   "metadata": {},
   "outputs": [
    {
     "data": {
      "application/vnd.microsoft.datawrangler.viewer.v0+json": {
       "columns": [
        {
         "name": "Date",
         "rawType": "datetime64[ns]",
         "type": "datetime"
        },
        {
         "name": "Inflation",
         "rawType": "float64",
         "type": "float"
        }
       ],
       "ref": "f899d0a9-8322-4a53-808c-305910ff2fd5",
       "rows": [
        [
         "2016-01-01 00:00:00",
         "7.09"
        ],
        [
         "2017-01-01 00:00:00",
         "3.7"
        ],
        [
         "2018-01-01 00:00:00",
         "2.88"
        ],
        [
         "2019-01-01 00:00:00",
         "4.48"
        ],
        [
         "2020-01-01 00:00:00",
         "3.38"
        ],
        [
         "2021-01-01 00:00:00",
         "6.68"
        ],
        [
         "2022-01-01 00:00:00",
         "13.75"
        ],
        [
         "2023-01-01 00:00:00",
         "5.95"
        ],
        [
         "2024-01-01 00:00:00",
         "8.44"
        ]
       ],
       "shape": {
        "columns": 1,
        "rows": 9
       }
      },
      "text/plain": [
       "Date\n",
       "2016-01-01     7.09\n",
       "2017-01-01     3.70\n",
       "2018-01-01     2.88\n",
       "2019-01-01     4.48\n",
       "2020-01-01     3.38\n",
       "2021-01-01     6.68\n",
       "2022-01-01    13.75\n",
       "2023-01-01     5.95\n",
       "2024-01-01     8.44\n",
       "Name: Inflation, dtype: float64"
      ]
     },
     "execution_count": 79,
     "metadata": {},
     "output_type": "execute_result"
    }
   ],
   "source": [
    "inflation"
   ]
  },
  {
   "cell_type": "code",
   "execution_count": 82,
   "id": "3bb78705",
   "metadata": {},
   "outputs": [
    {
     "name": "stdout",
     "output_type": "stream",
     "text": [
      "endog shape: (8,)\n",
      "exog shape: (8, 2)\n",
      "\n",
      "Оцененные параметры:\n",
      "[ 5.01473479e+00  1.90731694e-01 -6.39334424e-06  3.30374365e+00\n",
      "  2.43970976e+00]\n",
      "\n",
      "Оценённые значения NAIRU по годам:\n",
      "Период 0: 0.00\n",
      "Период 1: 0.00\n",
      "Период 2: 0.00\n",
      "Период 3: 0.00\n",
      "Период 4: 0.00\n",
      "Период 5: 0.00\n",
      "Период 6: 0.00\n",
      "Период 7: 0.00\n"
     ]
    },
    {
     "name": "stderr",
     "output_type": "stream",
     "text": [
      "/opt/homebrew/Caskroom/miniconda/base/envs/dlenv/lib/python3.11/site-packages/statsmodels/base/model.py:607: ConvergenceWarning: Maximum Likelihood optimization failed to converge. Check mle_retvals\n",
      "  warnings.warn(\"Maximum Likelihood optimization failed to \"\n"
     ]
    },
    {
     "data": {
      "image/png": "[encoded data removed]",
      "text/plain": [
       "<Figure size 1000x400 with 1 Axes>"
      ]
     },
     "metadata": {},
     "output_type": "display_data"
    }
   ],
   "source": [
    "# # Пример данных\n",
    "# inflation = np.array([1.5, 1.8, 2.0, 2.3, 2.1, 1.2, 2.7, 4.5])  # инфляция\n",
    "# unemployment = np.array([6.2, 5.9, 5.4, 5.0, 4.7, 8.1, 6.0, 5.3])  # безработица\n",
    "\n",
    "# Создаем DataFrame и добавляем лаг инфляции\n",
    "df = pd.DataFrame({\n",
    "    'inflation': inflation,\n",
    "    'unemployment': unemployment\n",
    "})\n",
    "df['inflation_lag'] = df['inflation'].shift(1)\n",
    "df.dropna(inplace=True)\n",
    "\n",
    "y = df['inflation'].values\n",
    "X = df[['inflation_lag', 'unemployment']].values\n",
    "\n",
    "# Нормализация\n",
    "scaler = StandardScaler()\n",
    "X_scaled = scaler.fit_transform(X)\n",
    "\n",
    "# Проверяем размерности\n",
    "print(\"endog shape:\", y.shape)\n",
    "print(\"exog shape:\", X.shape)\n",
    "\n",
    "# Класс модели NAIRU с фильтром Калмана\n",
    "class NAIRUModel(MLEModel):\n",
    "    start_params = [1.0, 0.5, -0.5, 0.1, 0.1]  # Начальные параметры\n",
    "    param_names = ['const', 'alpha', 'beta', 'sigma_eps', 'sigma_eta']\n",
    "\n",
    "    def __init__(self, endog, exog=None, **kwargs):\n",
    "        self.exog = exog\n",
    "        self.k_exog = exog.shape[1] if exog is not None else 0\n",
    "\n",
    "        super(NAIRUModel, self).__init__(endog=endog, exog=exog, k_states=1, **kwargs)\n",
    "\n",
    "        # Инициализация матриц\n",
    "        nobs = len(endog)\n",
    "        self['design'] = np.zeros((1, 1, nobs))  # Z\n",
    "        self['transition'] = np.array([[1.0]])    # T\n",
    "        self['selection'] = np.array([[1.0]])     # R\n",
    "        self['obs_cov'] = np.array([[1.0]])       # H\n",
    "        self['obs_intercept'] = np.zeros((1, nobs))  # c\n",
    "        self['state_cov'] = np.array([[1.0]])      # Q\n",
    "        \n",
    "        self.initialize_approximate_diffuse()\n",
    "\n",
    "    def update(self, params, **kwargs):\n",
    "        const, alpha, beta, sigma_eps, sigma_eta = params\n",
    "\n",
    "        # design matrix (Z): влияние NAIRU_t на инфляцию\n",
    "        self['design', 0, 0, :] = -beta  # π_t зависит от NAIRU_t через β\n",
    "\n",
    "        if self.exog is not None:\n",
    "            pi_t_lag = self.exog[:, 0]\n",
    "            u_t = self.exog[:, 1]\n",
    "            self['obs_intercept', 0, :] = const + alpha * pi_t_lag + beta * u_t\n",
    "        else:\n",
    "            self['obs_intercept', 0, :] = const\n",
    "\n",
    "        # Шумы\n",
    "        self['state_cov', 0, 0] = sigma_eta**2\n",
    "        self['obs_cov', 0, 0] = sigma_eps**2\n",
    "\n",
    "# Создаем модель\n",
    "model = NAIRUModel(endog=y, exog=X)\n",
    "\n",
    "# Оцениваем параметры\n",
    "res = model.fit(method='lbfgs', maxiter=200, disp=False)\n",
    "\n",
    "# Выводим результаты\n",
    "print(\"\\nОцененные параметры:\")\n",
    "print(res.params)\n",
    "\n",
    "# Получаем оценки NAIRU\n",
    "nairu_estimated = res.smoothed_state[0]\n",
    "\n",
    "print(\"\\nОценённые значения NAIRU по годам:\")\n",
    "for i, val in enumerate(nairu_estimated):\n",
    "    print(f\"Период {i}: {val:.2f}\")\n",
    "\n",
    "\n",
    "plt.figure(figsize=(10, 4))\n",
    "plt.plot(df.index, df['inflation'], label='Инфляция')\n",
    "plt.plot(df.index, df['unemployment'], label='Безработица')\n",
    "plt.legend()\n",
    "plt.title('Динамика инфляции и безработицы')\n",
    "plt.show()"
   ]
  },
  {
   "cell_type": "code",
   "execution_count": 83,
   "id": "a9c04020",
   "metadata": {},
   "outputs": [
    {
     "name": "stdout",
     "output_type": "stream",
     "text": [
      "endog shape: (8,)\n",
      "exog shape: (8, 2)\n",
      "\n",
      "Оцененные параметры:\n",
      "[ 1.14296282  0.         -0.1         2.68109801 17.68251452]\n",
      "\n",
      "Оценённые значения NAIRU по годам:\n",
      "Период 0: 28.47\n",
      "Период 1: 29.47\n",
      "Период 2: 35.63\n",
      "Период 3: 42.54\n",
      "Период 4: 57.56\n",
      "Период 5: 73.32\n",
      "Период 6: 66.33\n",
      "Период 7: 67.82\n"
     ]
    },
    {
     "data": {
      "image/png": "[encoded data removed]",
      "text/plain": [
       "<Figure size 1000x400 with 1 Axes>"
      ]
     },
     "metadata": {},
     "output_type": "display_data"
    }
   ],
   "source": [
    "import numpy as np\n",
    "import pandas as pd\n",
    "from statsmodels.tsa.statespace.mlemodel import MLEModel\n",
    "from statsmodels.tools.sm_exceptions import ValueWarning\n",
    "from sklearn.preprocessing import StandardScaler\n",
    "import matplotlib.pyplot as plt\n",
    "import warnings\n",
    "\n",
    "warnings.simplefilter('ignore', ValueWarning)\n",
    "\n",
    "# Загрузка данных\n",
    "data = pd.read_excel(\"./data/Infl_unempl.xlsx\", parse_dates=[\"Date\"])\n",
    "data = data.dropna()\n",
    "data = data.sort_values(\"Date\").reset_index(drop=True)\n",
    "data.set_index(\"Date\", inplace=True)\n",
    "\n",
    "inflation = data[\"Inflation\"]\n",
    "unemployment = data[\"Unempoyment\"]\n",
    "\n",
    "# Создаем DataFrame и добавляем лаг инфляции\n",
    "df = pd.DataFrame({\n",
    "    'inflation': inflation,\n",
    "    'unemployment': unemployment\n",
    "})\n",
    "df['inflation_lag'] = df['inflation'].shift(1)\n",
    "df.dropna(inplace=True)\n",
    "\n",
    "y = df['inflation'].values\n",
    "X = df[['inflation_lag', 'unemployment']].values\n",
    "\n",
    "# Нормализация\n",
    "scaler = StandardScaler()\n",
    "X_scaled = scaler.fit_transform(X)\n",
    "\n",
    "print(\"endog shape:\", y.shape)\n",
    "print(\"exog shape:\", X_scaled.shape)\n",
    "\n",
    "# Класс модели NAIRU\n",
    "class NAIRUModel(MLEModel):\n",
    "    start_params = [0.0, 0.5, -1.0, 1.0, 1.0]\n",
    "    param_names = ['const', 'alpha', 'beta', 'sigma_eps', 'sigma_eta']\n",
    "\n",
    "    def __init__(self, endog, exog=None, **kwargs):\n",
    "        self.exog = exog\n",
    "        super(NAIRUModel, self).__init__(endog=endog, exog=exog, k_states=1, **kwargs)\n",
    "\n",
    "        nobs = len(endog)\n",
    "        self['design'] = np.zeros((1, 1, nobs))\n",
    "        self['transition'] = np.array([[1.0]])\n",
    "        self['selection'] = np.array([[1.0]])\n",
    "        self['obs_cov'] = np.array([[1.0]])\n",
    "        self['state_cov'] = np.array([[1.0]])\n",
    "        self['obs_intercept'] = np.zeros((1, nobs))\n",
    "\n",
    "        self.initialize_approximate_diffuse()\n",
    "\n",
    "    def update(self, params, **kwargs):\n",
    "        const, alpha, beta, sigma_eps, sigma_eta = params\n",
    "\n",
    "        pi_t_lag = self.exog[:, 0]\n",
    "        u_t = self.exog[:, 1]\n",
    "\n",
    "        self['design', 0, 0, :] = -beta\n",
    "        self['obs_intercept', 0, :] = const + alpha * pi_t_lag + beta * u_t\n",
    "\n",
    "        self['state_cov', 0, 0] = sigma_eta**2\n",
    "        self['obs_cov', 0, 0] = sigma_eps**2\n",
    "\n",
    "# Создаем модель\n",
    "model = NAIRUModel(endog=y, exog=X_scaled)\n",
    "\n",
    "# Оцениваем параметры с ограничениями\n",
    "res = model.fit(\n",
    "    method='lbfgs',\n",
    "    maxiter=500,\n",
    "    disp=False,\n",
    "    bounds=[\n",
    "        (-5, 5),         # const\n",
    "        (0, 1),          # alpha\n",
    "        (-5, -0.1),      # beta < 0\n",
    "        (0.01, None),    # sigma_eps\n",
    "        (0.01, None)     # sigma_eta\n",
    "    ]\n",
    ")\n",
    "\n",
    "# Выводим результаты\n",
    "print(\"\\nОцененные параметры:\")\n",
    "print(res.params)\n",
    "\n",
    "# Получаем оценки NAIRU\n",
    "nairu_estimated = res.smoothed_state[0]\n",
    "\n",
    "print(\"\\nОценённые значения NAIRU по годам:\")\n",
    "for i, val in enumerate(nairu_estimated):\n",
    "    print(f\"Период {i}: {val:.2f}\")\n",
    "\n",
    "# График\n",
    "plt.figure(figsize=(10, 4))\n",
    "plt.plot(df.index, df['inflation'], label='Инфляция')\n",
    "plt.plot(df.index, df['unemployment'], label='Безработица')\n",
    "plt.plot(df.index, nairu_estimated, '--', label='Оценка NAIRU')\n",
    "plt.legend()\n",
    "plt.title('Динамика инфляции, безработицы и NAIRU')\n",
    "plt.show()"
   ]
  },
  {
   "cell_type": "code",
   "execution_count": null,
   "id": "d05f9f48",
   "metadata": {},
   "outputs": [],
   "source": []
  }
 ],
 "metadata": {
  "kernelspec": {
   "display_name": "dlenv",
   "language": "python",
   "name": "python3"
  },
  "language_info": {
   "codemirror_mode": {
    "name": "ipython",
    "version": 3
   },
   "file_extension": ".py",
   "mimetype": "text/x-python",
   "name": "python",
   "nbconvert_exporter": "python",
   "pygments_lexer": "ipython3",
   "version": "3.11.11"
  }
 },
 "nbformat": 4,
 "nbformat_minor": 5
}
