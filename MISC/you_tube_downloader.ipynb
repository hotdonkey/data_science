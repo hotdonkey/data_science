{
 "cells": [
  {
   "cell_type": "code",
   "execution_count": 1,
   "metadata": {},
   "outputs": [
    {
     "data": {
      "text/plain": [
       "'/Users/kirillkuznecov/my_docks/data_science/MISC/./data/scooby.mp4/Scooby Doo Caught You.mp4'"
      ]
     },
     "execution_count": 1,
     "metadata": {},
     "output_type": "execute_result"
    }
   ],
   "source": [
    "from pytube import YouTube\n",
    "\n",
    "# Вставьте ссылку на видео\n",
    "video_url = 'https://www.youtube.com/shorts/M9Py_74mIhI'\n",
    "\n",
    "# Создаем объект YouTube\n",
    "yt = YouTube(video_url)\n",
    "\n",
    "# Выбираем формат видео для скачивания (например, первый вариант)\n",
    "video = yt.streams.first()\n",
    "\n",
    "# Скачиваем видео\n",
    "video.download('./data/scooby.mp4')\n"
   ]
  },
  {
   "cell_type": "code",
   "execution_count": null,
   "metadata": {},
   "outputs": [],
   "source": [
    "# Изменение формата видео\n",
    "import ffmpeg\n",
    "\n",
    "input_file = 'input_video.mp4'\n",
    "output_file = 'output_video.avi'\n",
    "\n",
    "stream = ffmpeg.input(input_file)\n",
    "stream = ffmpeg.output(stream, output_file)\n",
    "ffmpeg.run(stream)\n"
   ]
  }
 ],
 "metadata": {
  "kernelspec": {
   "display_name": "Python 3",
   "language": "python",
   "name": "python3"
  },
  "language_info": {
   "codemirror_mode": {
    "name": "ipython",
    "version": 3
   },
   "file_extension": ".py",
   "mimetype": "text/x-python",
   "name": "python",
   "nbconvert_exporter": "python",
   "pygments_lexer": "ipython3",
   "version": "3.12.1"
  }
 },
 "nbformat": 4,
 "nbformat_minor": 2
}
